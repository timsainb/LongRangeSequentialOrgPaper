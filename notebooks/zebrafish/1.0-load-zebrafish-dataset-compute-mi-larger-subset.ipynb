{
 "cells": [
  {
   "cell_type": "markdown",
   "metadata": {
    "ExecuteTime": {
     "end_time": "2019-08-19T18:50:36.469161Z",
     "start_time": "2019-08-19T18:50:35.908280Z"
    }
   },
   "source": [
    "BoutInf (nBoutsx18):\n",
    "- Columns 1 and 2: the start and end of the bout data in the continuous data variables\n",
    "- Column 3: Number indicating the stimulus being shown during that bout\n",
    "- Column 4: Original frame start number (allows actual timing of bout to be known, given 700 Hz frame rate)\n",
    "- Columns 5:7 Pre-bout x, y position and theta in pixels and radians (???)\n",
    "- Column 8: Eye Convergence during bout (2: converged; 1: not converged)\n",
    "- Column 9: Change in eye convergence angle (degrees) during bout\n",
    "- Column 10: Assigned eye convergence category (1=converge during  bout; 2=not converged ;  3=converged; 4=diverge during bout)\n",
    "- Column 11: Bout category assigned using the scheme in Marques et al. 2018 (1=SCS; 2=LCS; 3=BS; 4=O-bend; 5=J-turn; 6=SLC; 7=S1; 8=RT; 9=S2; 10=LLC; 11=AS; 12=SAT; 13=HAT)"
   ]
  },
  {
   "cell_type": "code",
   "execution_count": 1,
   "metadata": {
    "ExecuteTime": {
     "end_time": "2020-01-06T18:21:02.583268Z",
     "start_time": "2020-01-06T18:21:02.545921Z"
    }
   },
   "outputs": [],
   "source": [
    "%load_ext autoreload\n",
    "%autoreload 2"
   ]
  },
  {
   "cell_type": "code",
   "execution_count": 2,
   "metadata": {
    "ExecuteTime": {
     "end_time": "2020-01-06T18:21:02.793071Z",
     "start_time": "2020-01-06T18:21:02.745732Z"
    }
   },
   "outputs": [
    {
     "data": {
      "text/plain": [
       "PosixPath('/mnt/cube/tsainbur/Projects/github_repos/childes_mi_project/data/raw/ZEBRAFISH_Data_Dir')"
      ]
     },
     "execution_count": 2,
     "metadata": {},
     "output_type": "execute_result"
    }
   ],
   "source": [
    "from childes_mi.utils.paths import DATA_DIR, ensure_dir, ZEBRAFISH_DIR\n",
    "import urllib.request\n",
    "ZEBRAFISH_DIR"
   ]
  },
  {
   "cell_type": "code",
   "execution_count": 3,
   "metadata": {
    "ExecuteTime": {
     "end_time": "2020-01-06T18:28:38.048177Z",
     "start_time": "2020-01-06T18:28:37.893128Z"
    }
   },
   "outputs": [
    {
     "name": "stderr",
     "output_type": "stream",
     "text": [
      "/mnt/cube/tsainbur/conda_envs/tpy3/lib/python3.6/site-packages/tqdm/autonotebook/__init__.py:14: TqdmExperimentalWarning: Using `tqdm.autonotebook.tqdm` in notebook mode. Use `tqdm.tqdm` instead to force console mode (e.g. in jupyter console)\n",
      "  \" (e.g. in jupyter console)\", TqdmExperimentalWarning)\n"
     ]
    }
   ],
   "source": [
    "from tqdm.autonotebook import tqdm\n",
    "import h5py\n",
    "import numpy as np\n",
    "import scipy.io\n",
    "import matplotlib.pyplot as plt\n",
    "import pandas as pd"
   ]
  },
  {
   "cell_type": "code",
   "execution_count": 4,
   "metadata": {
    "ExecuteTime": {
     "end_time": "2020-01-06T18:21:05.179671Z",
     "start_time": "2020-01-06T18:21:05.096946Z"
    }
   },
   "outputs": [],
   "source": [
    "mat_files = list(ZEBRAFISH_DIR.glob('**/*.mat'))"
   ]
  },
  {
   "cell_type": "code",
   "execution_count": 5,
   "metadata": {
    "ExecuteTime": {
     "end_time": "2020-01-06T18:21:08.451410Z",
     "start_time": "2020-01-06T18:21:08.299700Z"
    }
   },
   "outputs": [
    {
     "data": {
      "text/plain": [
       "650"
      ]
     },
     "execution_count": 5,
     "metadata": {},
     "output_type": "execute_result"
    }
   ],
   "source": [
    "len(mat_files)"
   ]
  },
  {
   "cell_type": "code",
   "execution_count": 6,
   "metadata": {
    "ExecuteTime": {
     "end_time": "2020-01-06T18:21:08.893220Z",
     "start_time": "2020-01-06T18:21:08.855119Z"
    }
   },
   "outputs": [
    {
     "data": {
      "text/plain": [
       "PosixPath('/mnt/cube/tsainbur/Projects/github_repos/childes_mi_project/data/raw/ZEBRAFISH_Data_Dir/Phototaxis/Phototaxis4/Phototaxis400004.mat')"
      ]
     },
     "execution_count": 6,
     "metadata": {},
     "output_type": "execute_result"
    }
   ],
   "source": [
    "mat_files[0]"
   ]
  },
  {
   "cell_type": "code",
   "execution_count": 7,
   "metadata": {
    "ExecuteTime": {
     "end_time": "2020-01-06T18:25:59.538696Z",
     "start_time": "2020-01-06T18:21:09.337998Z"
    }
   },
   "outputs": [
    {
     "data": {
      "application/vnd.jupyter.widget-view+json": {
       "model_id": "d0feb14629194ec3a7f2d31c9cb61db8",
       "version_major": 2,
       "version_minor": 0
      },
      "text/plain": [
       "HBox(children=(IntProgress(value=0, max=650), HTML(value='')))"
      ]
     },
     "metadata": {},
     "output_type": "display_data"
    },
    {
     "name": "stdout",
     "output_type": "stream",
     "text": [
      "\n"
     ]
    }
   ],
   "source": [
    "bout_df = pd.DataFrame(columns = ['mat_loc', 'bouts', 'bout_lens'])\n",
    "for mfi, mat_file in enumerate(tqdm(mat_files)):\n",
    "    ds = scipy.io.loadmat(mat_file.as_posix())\n",
    "    BoutInf = ds['boutStructure'][0][0][0]\n",
    "    bout_category = BoutInf[:,-1].astype('int')\n",
    "    bout_df.loc[len(bout_df)] = [mat_file.as_posix(), bout_category, len(bout_category)]"
   ]
  },
  {
   "cell_type": "code",
   "execution_count": 8,
   "metadata": {
    "ExecuteTime": {
     "end_time": "2020-01-06T18:28:47.533325Z",
     "start_time": "2020-01-06T18:28:41.568192Z"
    }
   },
   "outputs": [
    {
     "data": {
      "text/html": [
       "<div>\n",
       "<style scoped>\n",
       "    .dataframe tbody tr th:only-of-type {\n",
       "        vertical-align: middle;\n",
       "    }\n",
       "\n",
       "    .dataframe tbody tr th {\n",
       "        vertical-align: top;\n",
       "    }\n",
       "\n",
       "    .dataframe thead th {\n",
       "        text-align: right;\n",
       "    }\n",
       "</style>\n",
       "<table border=\"1\" class=\"dataframe\">\n",
       "  <thead>\n",
       "    <tr style=\"text-align: right;\">\n",
       "      <th></th>\n",
       "      <th>mat_loc</th>\n",
       "      <th>bouts</th>\n",
       "      <th>bout_lens</th>\n",
       "    </tr>\n",
       "  </thead>\n",
       "  <tbody>\n",
       "    <tr>\n",
       "      <th>0</th>\n",
       "      <td>/mnt/cube/tsainbur/Projects/github_repos/child...</td>\n",
       "      <td>[12, 8, 9, 8, 7, 7, 8, 8, 13, 7, 8, 8, 8, 8, 8...</td>\n",
       "      <td>1808</td>\n",
       "    </tr>\n",
       "    <tr>\n",
       "      <th>1</th>\n",
       "      <td>/mnt/cube/tsainbur/Projects/github_repos/child...</td>\n",
       "      <td>[13, 7, 12, 7, 9, 9, 9, 8, 13, 7, 7, 7, 8, 7, ...</td>\n",
       "      <td>1528</td>\n",
       "    </tr>\n",
       "    <tr>\n",
       "      <th>2</th>\n",
       "      <td>/mnt/cube/tsainbur/Projects/github_repos/child...</td>\n",
       "      <td>[7, 8, 12, 8, 9, 7, 9, 9, 7, 9, 7, 7, 5, 8, 7,...</td>\n",
       "      <td>2296</td>\n",
       "    </tr>\n",
       "  </tbody>\n",
       "</table>\n",
       "</div>"
      ],
      "text/plain": [
       "                                             mat_loc  \\\n",
       "0  /mnt/cube/tsainbur/Projects/github_repos/child...   \n",
       "1  /mnt/cube/tsainbur/Projects/github_repos/child...   \n",
       "2  /mnt/cube/tsainbur/Projects/github_repos/child...   \n",
       "\n",
       "                                               bouts bout_lens  \n",
       "0  [12, 8, 9, 8, 7, 7, 8, 8, 13, 7, 8, 8, 8, 8, 8...      1808  \n",
       "1  [13, 7, 12, 7, 9, 9, 9, 8, 13, 7, 7, 7, 8, 7, ...      1528  \n",
       "2  [7, 8, 12, 8, 9, 7, 9, 9, 7, 9, 7, 7, 5, 8, 7,...      2296  "
      ]
     },
     "execution_count": 8,
     "metadata": {},
     "output_type": "execute_result"
    }
   ],
   "source": [
    "bout_df[:3]"
   ]
  },
  {
   "cell_type": "code",
   "execution_count": 9,
   "metadata": {
    "ExecuteTime": {
     "end_time": "2020-01-06T18:28:49.916879Z",
     "start_time": "2020-01-06T18:28:49.870877Z"
    }
   },
   "outputs": [
    {
     "data": {
      "text/plain": [
       "650"
      ]
     },
     "execution_count": 9,
     "metadata": {},
     "output_type": "execute_result"
    }
   ],
   "source": [
    "len(bout_df)"
   ]
  },
  {
   "cell_type": "code",
   "execution_count": 10,
   "metadata": {
    "ExecuteTime": {
     "end_time": "2020-01-06T18:28:52.725344Z",
     "start_time": "2020-01-06T18:28:52.553054Z"
    }
   },
   "outputs": [
    {
     "data": {
      "text/plain": [
       "array([ 1,  2,  3,  4,  5,  6,  7,  8,  9, 10, 11, 12, 13])"
      ]
     },
     "execution_count": 10,
     "metadata": {},
     "output_type": "execute_result"
    }
   ],
   "source": [
    "np.unique(np.concatenate(bout_df.bouts.values))"
   ]
  },
  {
   "cell_type": "code",
   "execution_count": 11,
   "metadata": {
    "ExecuteTime": {
     "end_time": "2020-01-06T18:29:00.696149Z",
     "start_time": "2020-01-06T18:29:00.643837Z"
    }
   },
   "outputs": [
    {
     "data": {
      "text/plain": [
       "1869270"
      ]
     },
     "execution_count": 11,
     "metadata": {},
     "output_type": "execute_result"
    }
   ],
   "source": [
    "np.sum(bout_df.bout_lens)"
   ]
  },
  {
   "cell_type": "code",
   "execution_count": 12,
   "metadata": {
    "ExecuteTime": {
     "end_time": "2020-01-06T18:29:02.959372Z",
     "start_time": "2020-01-06T18:29:02.631403Z"
    }
   },
   "outputs": [
    {
     "data": {
      "image/png": "[encoded data removed]",
      "text/plain": [
       "<Figure size 432x288 with 1 Axes>"
      ]
     },
     "metadata": {
      "needs_background": "light"
     },
     "output_type": "display_data"
    }
   ],
   "source": [
    "plt.hist(bout_df.bout_lens.values.astype('int'));"
   ]
  },
  {
   "cell_type": "markdown",
   "metadata": {},
   "source": [
    "### Mutual information"
   ]
  },
  {
   "cell_type": "code",
   "execution_count": 13,
   "metadata": {
    "ExecuteTime": {
     "end_time": "2020-01-06T18:29:05.653944Z",
     "start_time": "2020-01-06T18:29:05.399953Z"
    }
   },
   "outputs": [],
   "source": [
    "bouts = [list(i.astype('int'))  for i in bout_df.bouts.values]"
   ]
  },
  {
   "cell_type": "code",
   "execution_count": 14,
   "metadata": {
    "ExecuteTime": {
     "end_time": "2020-01-06T18:29:05.982794Z",
     "start_time": "2020-01-06T18:29:05.940423Z"
    }
   },
   "outputs": [],
   "source": [
    "def remove_repeats(sequence):\n",
    "    return [element for i, element in enumerate(sequence[1:]) if sequence[i] != element]"
   ]
  },
  {
   "cell_type": "code",
   "execution_count": 15,
   "metadata": {
    "ExecuteTime": {
     "end_time": "2020-01-06T18:29:07.363587Z",
     "start_time": "2020-01-06T18:29:06.190957Z"
    }
   },
   "outputs": [
    {
     "data": {
      "application/vnd.jupyter.widget-view+json": {
       "model_id": "fafaa3f7cec0428bb7a03ba13d209b10",
       "version_major": 2,
       "version_minor": 0
      },
      "text/plain": [
       "HBox(children=(IntProgress(value=0, max=650), HTML(value='')))"
      ]
     },
     "metadata": {},
     "output_type": "display_data"
    },
    {
     "name": "stdout",
     "output_type": "stream",
     "text": [
      "\n"
     ]
    }
   ],
   "source": [
    "bouts_indv = [[\"{}_{}\".format(bi, element) for element in bout] for bi, bout in enumerate(tqdm(bouts))]"
   ]
  },
  {
   "cell_type": "code",
   "execution_count": 16,
   "metadata": {
    "ExecuteTime": {
     "end_time": "2020-01-06T18:29:07.624492Z",
     "start_time": "2020-01-06T18:29:07.365760Z"
    }
   },
   "outputs": [],
   "source": [
    "bouts_indv_rr = [remove_repeats(i) for i in bouts_indv]"
   ]
  },
  {
   "cell_type": "code",
   "execution_count": 17,
   "metadata": {
    "ExecuteTime": {
     "end_time": "2020-01-06T18:29:08.948367Z",
     "start_time": "2020-01-06T18:29:08.609669Z"
    }
   },
   "outputs": [
    {
     "data": {
      "image/png": "[encoded data removed]",
      "text/plain": [
       "<Figure size 432x288 with 1 Axes>"
      ]
     },
     "metadata": {
      "needs_background": "light"
     },
     "output_type": "display_data"
    }
   ],
   "source": [
    "plt.hist([len(i) for i in bouts_indv_rr]);"
   ]
  },
  {
   "cell_type": "code",
   "execution_count": 18,
   "metadata": {
    "ExecuteTime": {
     "end_time": "2020-01-06T18:29:11.309174Z",
     "start_time": "2020-01-06T18:29:10.413171Z"
    }
   },
   "outputs": [],
   "source": [
    "from childes_mi.information_theory import mutual_information as mi"
   ]
  },
  {
   "cell_type": "code",
   "execution_count": 19,
   "metadata": {
    "ExecuteTime": {
     "end_time": "2020-01-06T18:29:11.344738Z",
     "start_time": "2020-01-06T18:29:11.312423Z"
    }
   },
   "outputs": [],
   "source": [
    "distances = np.arange(1,1001)"
   ]
  },
  {
   "cell_type": "code",
   "execution_count": 20,
   "metadata": {
    "ExecuteTime": {
     "end_time": "2020-01-06T18:39:12.950496Z",
     "start_time": "2020-01-06T18:29:13.841016Z"
    }
   },
   "outputs": [
    {
     "data": {
      "application/vnd.jupyter.widget-view+json": {
       "model_id": "",
       "version_major": 2,
       "version_minor": 0
      },
      "text/plain": [
       "HBox(children=(IntProgress(value=0, max=1000), HTML(value='')))"
      ]
     },
     "metadata": {},
     "output_type": "display_data"
    },
    {
     "name": "stderr",
     "output_type": "stream",
     "text": [
      "[Parallel(n_jobs=-1)]: Using backend ThreadingBackend with 32 concurrent workers.\n",
      "[Parallel(n_jobs=-1)]: Done   8 tasks      | elapsed:    7.5s\n",
      "[Parallel(n_jobs=-1)]: Done  98 tasks      | elapsed:   34.7s\n",
      "[Parallel(n_jobs=-1)]: Done 224 tasks      | elapsed:  1.1min\n",
      "[Parallel(n_jobs=-1)]: Done 386 tasks      | elapsed:  1.8min\n",
      "[Parallel(n_jobs=-1)]: Done 584 tasks      | elapsed:  2.6min\n",
      "[Parallel(n_jobs=-1)]: Done 818 tasks      | elapsed:  3.4min\n"
     ]
    },
    {
     "name": "stdout",
     "output_type": "stream",
     "text": [
      "\r"
     ]
    },
    {
     "name": "stderr",
     "output_type": "stream",
     "text": [
      "[Parallel(n_jobs=-1)]: Done 1000 out of 1000 | elapsed:  3.9min finished\n"
     ]
    },
    {
     "data": {
      "application/vnd.jupyter.widget-view+json": {
       "model_id": "",
       "version_major": 2,
       "version_minor": 0
      },
      "text/plain": [
       "HBox(children=(IntProgress(value=0, max=1000), HTML(value='')))"
      ]
     },
     "metadata": {},
     "output_type": "display_data"
    },
    {
     "name": "stderr",
     "output_type": "stream",
     "text": [
      "[Parallel(n_jobs=-1)]: Using backend ThreadingBackend with 32 concurrent workers.\n",
      "[Parallel(n_jobs=-1)]: Done   6 tasks      | elapsed:    3.7s\n",
      "[Parallel(n_jobs=-1)]: Done  98 tasks      | elapsed:   44.9s\n",
      "[Parallel(n_jobs=-1)]: Done 224 tasks      | elapsed:  1.3min\n",
      "[Parallel(n_jobs=-1)]: Done 386 tasks      | elapsed:  1.9min\n",
      "[Parallel(n_jobs=-1)]: Done 584 tasks      | elapsed:  2.6min\n",
      "[Parallel(n_jobs=-1)]: Done 818 tasks      | elapsed:  3.3min\n"
     ]
    },
    {
     "name": "stdout",
     "output_type": "stream",
     "text": [
      "\r"
     ]
    },
    {
     "name": "stderr",
     "output_type": "stream",
     "text": [
      "[Parallel(n_jobs=-1)]: Done 1000 out of 1000 | elapsed:  3.6min finished\n"
     ]
    }
   ],
   "source": [
    "(MI, MI_var), (shuff_MI, shuff_MI_var) = mi.sequential_mutual_information(\n",
    "    bouts_indv_rr, distances=distances, n_jobs=-1\n",
    ")"
   ]
  },
  {
   "cell_type": "code",
   "execution_count": 21,
   "metadata": {
    "ExecuteTime": {
     "end_time": "2020-01-06T18:44:30.306738Z",
     "start_time": "2020-01-06T18:44:30.077267Z"
    }
   },
   "outputs": [],
   "source": [
    "MI_DF = pd.DataFrame(\n",
    "    [[MI, MI_var, shuff_MI, shuff_MI_var, distances]],\n",
    "    columns=[\"MI\", \"MI_var\", \"shuff_MI\", \"shuff_MI_var\", \"distances\"],\n",
    ")"
   ]
  },
  {
   "cell_type": "code",
   "execution_count": 22,
   "metadata": {
    "ExecuteTime": {
     "end_time": "2020-01-06T18:44:31.025016Z",
     "start_time": "2020-01-06T18:44:30.944685Z"
    }
   },
   "outputs": [
    {
     "data": {
      "text/html": [
       "<div>\n",
       "<style scoped>\n",
       "    .dataframe tbody tr th:only-of-type {\n",
       "        vertical-align: middle;\n",
       "    }\n",
       "\n",
       "    .dataframe tbody tr th {\n",
       "        vertical-align: top;\n",
       "    }\n",
       "\n",
       "    .dataframe thead th {\n",
       "        text-align: right;\n",
       "    }\n",
       "</style>\n",
       "<table border=\"1\" class=\"dataframe\">\n",
       "  <thead>\n",
       "    <tr style=\"text-align: right;\">\n",
       "      <th></th>\n",
       "      <th>MI</th>\n",
       "      <th>MI_var</th>\n",
       "      <th>shuff_MI</th>\n",
       "      <th>shuff_MI_var</th>\n",
       "      <th>distances</th>\n",
       "    </tr>\n",
       "  </thead>\n",
       "  <tbody>\n",
       "    <tr>\n",
       "      <th>0</th>\n",
       "      <td>[12.756969938471917, 12.538684026238826, 12.49...</td>\n",
       "      <td>[0.0029165967585350204, 0.0028949948700791647,...</td>\n",
       "      <td>[12.459977852251402, 12.459531379212816, 12.45...</td>\n",
       "      <td>[0.0029015205182288833, 0.0029026604713153366,...</td>\n",
       "      <td>[1, 2, 3, 4, 5, 6, 7, 8, 9, 10, 11, 12, 13, 14...</td>\n",
       "    </tr>\n",
       "  </tbody>\n",
       "</table>\n",
       "</div>"
      ],
      "text/plain": [
       "                                                  MI  \\\n",
       "0  [12.756969938471917, 12.538684026238826, 12.49...   \n",
       "\n",
       "                                              MI_var  \\\n",
       "0  [0.0029165967585350204, 0.0028949948700791647,...   \n",
       "\n",
       "                                            shuff_MI  \\\n",
       "0  [12.459977852251402, 12.459531379212816, 12.45...   \n",
       "\n",
       "                                        shuff_MI_var  \\\n",
       "0  [0.0029015205182288833, 0.0029026604713153366,...   \n",
       "\n",
       "                                           distances  \n",
       "0  [1, 2, 3, 4, 5, 6, 7, 8, 9, 10, 11, 12, 13, 14...  "
      ]
     },
     "execution_count": 22,
     "metadata": {},
     "output_type": "execute_result"
    }
   ],
   "source": [
    "MI_DF"
   ]
  },
  {
   "cell_type": "code",
   "execution_count": 23,
   "metadata": {
    "ExecuteTime": {
     "end_time": "2020-01-06T18:44:31.543860Z",
     "start_time": "2020-01-06T18:44:31.483338Z"
    }
   },
   "outputs": [],
   "source": [
    "MI_DF.to_pickle(DATA_DIR / \"mi\" / \"zebra_fish_1000.pickle\")"
   ]
  },
  {
   "cell_type": "code",
   "execution_count": 24,
   "metadata": {
    "ExecuteTime": {
     "end_time": "2020-01-06T19:16:51.912728Z",
     "start_time": "2020-01-06T19:16:51.867852Z"
    }
   },
   "outputs": [],
   "source": [
    "row = MI_DF.iloc[0]"
   ]
  },
  {
   "cell_type": "code",
   "execution_count": 25,
   "metadata": {
    "ExecuteTime": {
     "end_time": "2020-01-06T19:17:08.549222Z",
     "start_time": "2020-01-06T19:17:07.550575Z"
    }
   },
   "outputs": [
    {
     "data": {
      "image/png": "[encoded data removed]",
      "text/plain": [
       "<Figure size 720x360 with 1 Axes>"
      ]
     },
     "metadata": {
      "needs_background": "light"
     },
     "output_type": "display_data"
    }
   ],
   "source": [
    "fig, ax = plt.subplots(figsize=(10,5))\n",
    "MI = row.MI-row.shuff_MI\n",
    "MI_var = row.MI_var\n",
    "\n",
    "ax.scatter(distances, MI)\n",
    "ax.fill_between(distances, MI-MI_var, MI+MI_var, alpha = 0.25, color= 'k')\n",
    "ax.set_ylim([1e-4, 1])\n",
    "ax.set_yscale('log')\n",
    "ax.set_xscale('log')"
   ]
  },
  {
   "cell_type": "code",
   "execution_count": 26,
   "metadata": {
    "ExecuteTime": {
     "end_time": "2020-01-06T18:44:44.302392Z",
     "start_time": "2020-01-06T18:44:43.735743Z"
    }
   },
   "outputs": [
    {
     "data": {
      "text/plain": [
       "[<matplotlib.lines.Line2D at 0x7f2cac3aa0f0>]"
      ]
     },
     "execution_count": 26,
     "metadata": {},
     "output_type": "execute_result"
    },
    {
     "data": {
      "image/png": "[encoded data removed]",
      "text/plain": [
       "<Figure size 432x288 with 1 Axes>"
      ]
     },
     "metadata": {
      "needs_background": "light"
     },
     "output_type": "display_data"
    }
   ],
   "source": [
    "plt.loglog(row.MI)\n",
    "plt.loglog(row.shuff_MI)"
   ]
  },
  {
   "cell_type": "markdown",
   "metadata": {
    "ExecuteTime": {
     "end_time": "2019-08-19T06:14:52.222634Z",
     "start_time": "2019-08-19T06:14:52.217649Z"
    }
   },
   "source": [
    "### longest sequence"
   ]
  },
  {
   "cell_type": "code",
   "execution_count": 27,
   "metadata": {
    "ExecuteTime": {
     "end_time": "2020-01-06T21:26:21.983097Z",
     "start_time": "2020-01-06T21:26:21.754712Z"
    }
   },
   "outputs": [],
   "source": [
    "from pathlib2 import Path"
   ]
  },
  {
   "cell_type": "code",
   "execution_count": 28,
   "metadata": {
    "ExecuteTime": {
     "end_time": "2020-01-06T21:26:22.118839Z",
     "start_time": "2020-01-06T21:26:21.985958Z"
    }
   },
   "outputs": [],
   "source": [
    "bout_df['condition'] = [Path(i).parent.parent.stem for i in bout_df.mat_loc.values]"
   ]
  },
  {
   "cell_type": "code",
   "execution_count": 34,
   "metadata": {},
   "outputs": [
    {
     "data": {
      "text/plain": [
       "array(['3minLightDark', 'AcousticLightDark', 'DarkLightTransitions',\n",
       "       'LoomingDifferentDirections', 'LoomingDifferentSpeeds', 'OMRSpeed',\n",
       "       'OMRSpontaneousTu', 'OMRSpontaneousTu2', 'OMRTurns', 'Phototaxis',\n",
       "       'PreyCaptureExpTu', 'PreyCaptureExpTu2', 'PreyCaptureNaive',\n",
       "       'PreyCaptureNaiveTu', 'PreyCaptureNaiveTu2',\n",
       "       'PreyCaptureSmallRotTuNaive', 'PreyCaptureSmallRotTuNaive2',\n",
       "       'PreyCaptureSmallRotTuWithRot', 'SpontaneousMultiFishDark',\n",
       "       'SpontaneousMultiFishLightA', 'SpontaneousWEyeTracking'],\n",
       "      dtype=object)"
      ]
     },
     "execution_count": 34,
     "metadata": {},
     "output_type": "execute_result"
    }
   ],
   "source": [
    "np.unique(bout_df.condition.values)"
   ]
  },
  {
   "cell_type": "code",
   "execution_count": 29,
   "metadata": {
    "ExecuteTime": {
     "end_time": "2020-01-06T21:26:22.223074Z",
     "start_time": "2020-01-06T21:26:22.122211Z"
    }
   },
   "outputs": [
    {
     "data": {
      "text/html": [
       "<div>\n",
       "<style scoped>\n",
       "    .dataframe tbody tr th:only-of-type {\n",
       "        vertical-align: middle;\n",
       "    }\n",
       "\n",
       "    .dataframe tbody tr th {\n",
       "        vertical-align: top;\n",
       "    }\n",
       "\n",
       "    .dataframe thead th {\n",
       "        text-align: right;\n",
       "    }\n",
       "</style>\n",
       "<table border=\"1\" class=\"dataframe\">\n",
       "  <thead>\n",
       "    <tr style=\"text-align: right;\">\n",
       "      <th></th>\n",
       "      <th>mat_loc</th>\n",
       "      <th>bouts</th>\n",
       "      <th>bout_lens</th>\n",
       "      <th>condition</th>\n",
       "    </tr>\n",
       "  </thead>\n",
       "  <tbody>\n",
       "    <tr>\n",
       "      <th>0</th>\n",
       "      <td>/mnt/cube/tsainbur/Projects/github_repos/child...</td>\n",
       "      <td>[12, 8, 9, 8, 7, 7, 8, 8, 13, 7, 8, 8, 8, 8, 8...</td>\n",
       "      <td>1808</td>\n",
       "      <td>Phototaxis</td>\n",
       "    </tr>\n",
       "    <tr>\n",
       "      <th>1</th>\n",
       "      <td>/mnt/cube/tsainbur/Projects/github_repos/child...</td>\n",
       "      <td>[13, 7, 12, 7, 9, 9, 9, 8, 13, 7, 7, 7, 8, 7, ...</td>\n",
       "      <td>1528</td>\n",
       "      <td>Phototaxis</td>\n",
       "    </tr>\n",
       "    <tr>\n",
       "      <th>2</th>\n",
       "      <td>/mnt/cube/tsainbur/Projects/github_repos/child...</td>\n",
       "      <td>[7, 8, 12, 8, 9, 7, 9, 9, 7, 9, 7, 7, 5, 8, 7,...</td>\n",
       "      <td>2296</td>\n",
       "      <td>Phototaxis</td>\n",
       "    </tr>\n",
       "  </tbody>\n",
       "</table>\n",
       "</div>"
      ],
      "text/plain": [
       "                                             mat_loc  \\\n",
       "0  /mnt/cube/tsainbur/Projects/github_repos/child...   \n",
       "1  /mnt/cube/tsainbur/Projects/github_repos/child...   \n",
       "2  /mnt/cube/tsainbur/Projects/github_repos/child...   \n",
       "\n",
       "                                               bouts bout_lens   condition  \n",
       "0  [12, 8, 9, 8, 7, 7, 8, 8, 13, 7, 8, 8, 8, 8, 8...      1808  Phototaxis  \n",
       "1  [13, 7, 12, 7, 9, 9, 9, 8, 13, 7, 7, 7, 8, 7, ...      1528  Phototaxis  \n",
       "2  [7, 8, 12, 8, 9, 7, 9, 9, 7, 9, 7, 7, 5, 8, 7,...      2296  Phototaxis  "
      ]
     },
     "execution_count": 29,
     "metadata": {},
     "output_type": "execute_result"
    }
   ],
   "source": [
    "bout_df[:3]"
   ]
  },
  {
   "cell_type": "code",
   "execution_count": 30,
   "metadata": {
    "ExecuteTime": {
     "end_time": "2020-01-06T21:33:15.803009Z",
     "start_time": "2020-01-06T21:26:47.142568Z"
    },
    "scrolled": true
   },
   "outputs": [
    {
     "data": {
      "application/vnd.jupyter.widget-view+json": {
       "model_id": "60642c687b214b29acb3c7db14374f00",
       "version_major": 2,
       "version_minor": 0
      },
      "text/plain": [
       "HBox(children=(IntProgress(value=0, max=50), HTML(value='')))"
      ]
     },
     "metadata": {},
     "output_type": "display_data"
    },
    {
     "data": {
      "application/vnd.jupyter.widget-view+json": {
       "model_id": "",
       "version_major": 2,
       "version_minor": 0
      },
      "text/plain": [
       "HBox(children=(IntProgress(value=0, max=1000), HTML(value='')))"
      ]
     },
     "metadata": {},
     "output_type": "display_data"
    },
    {
     "name": "stderr",
     "output_type": "stream",
     "text": [
      "[Parallel(n_jobs=-1)]: Using backend ThreadingBackend with 32 concurrent workers.\n",
      "[Parallel(n_jobs=-1)]: Done   8 tasks      | elapsed:    0.1s\n",
      "[Parallel(n_jobs=-1)]: Done  98 tasks      | elapsed:    0.4s\n",
      "[Parallel(n_jobs=-1)]: Done 224 tasks      | elapsed:    0.9s\n",
      "[Parallel(n_jobs=-1)]: Done 386 tasks      | elapsed:    1.5s\n",
      "[Parallel(n_jobs=-1)]: Done 584 tasks      | elapsed:    2.3s\n",
      "[Parallel(n_jobs=-1)]: Done 818 tasks      | elapsed:    3.1s\n",
      "[Parallel(n_jobs=-1)]: Done 1000 out of 1000 | elapsed:    3.8s finished\n"
     ]
    },
    {
     "data": {
      "application/vnd.jupyter.widget-view+json": {
       "model_id": "",
       "version_major": 2,
       "version_minor": 0
      },
      "text/plain": [
       "HBox(children=(IntProgress(value=0, max=1000), HTML(value='')))"
      ]
     },
     "metadata": {},
     "output_type": "display_data"
    },
    {
     "name": "stderr",
     "output_type": "stream",
     "text": [
      "[Parallel(n_jobs=-1)]: Using backend ThreadingBackend with 32 concurrent workers.\n",
      "[Parallel(n_jobs=-1)]: Done   8 tasks      | elapsed:    0.2s\n",
      "[Parallel(n_jobs=-1)]: Done  98 tasks      | elapsed:    0.6s\n",
      "[Parallel(n_jobs=-1)]: Done 224 tasks      | elapsed:    1.2s\n",
      "[Parallel(n_jobs=-1)]: Done 386 tasks      | elapsed:    1.9s\n",
      "[Parallel(n_jobs=-1)]: Done 584 tasks      | elapsed:    2.7s\n",
      "[Parallel(n_jobs=-1)]: Done 818 tasks      | elapsed:    3.7s\n",
      "[Parallel(n_jobs=-1)]: Done 1000 out of 1000 | elapsed:    4.3s finished\n"
     ]
    },
    {
     "data": {
      "application/vnd.jupyter.widget-view+json": {
       "model_id": "",
       "version_major": 2,
       "version_minor": 0
      },
      "text/plain": [
       "HBox(children=(IntProgress(value=0, max=1000), HTML(value='')))"
      ]
     },
     "metadata": {},
     "output_type": "display_data"
    },
    {
     "name": "stderr",
     "output_type": "stream",
     "text": [
      "[Parallel(n_jobs=-1)]: Using backend ThreadingBackend with 32 concurrent workers.\n",
      "[Parallel(n_jobs=-1)]: Done   8 tasks      | elapsed:    0.1s\n",
      "[Parallel(n_jobs=-1)]: Done  98 tasks      | elapsed:    0.4s\n",
      "[Parallel(n_jobs=-1)]: Done 224 tasks      | elapsed:    0.9s\n",
      "[Parallel(n_jobs=-1)]: Done 386 tasks      | elapsed:    1.5s\n",
      "[Parallel(n_jobs=-1)]: Done 584 tasks      | elapsed:    2.4s\n",
      "[Parallel(n_jobs=-1)]: Done 818 tasks      | elapsed:    3.3s\n",
      "[Parallel(n_jobs=-1)]: Done 1000 out of 1000 | elapsed:    3.8s finished\n"
     ]
    },
    {
     "data": {
      "application/vnd.jupyter.widget-view+json": {
       "model_id": "",
       "version_major": 2,
       "version_minor": 0
      },
      "text/plain": [
       "HBox(children=(IntProgress(value=0, max=1000), HTML(value='')))"
      ]
     },
     "metadata": {},
     "output_type": "display_data"
    },
    {
     "name": "stderr",
     "output_type": "stream",
     "text": [
      "[Parallel(n_jobs=-1)]: Using backend ThreadingBackend with 32 concurrent workers.\n",
      "[Parallel(n_jobs=-1)]: Done   8 tasks      | elapsed:    0.2s\n",
      "[Parallel(n_jobs=-1)]: Done  98 tasks      | elapsed:    0.6s\n",
      "[Parallel(n_jobs=-1)]: Done 224 tasks      | elapsed:    1.2s\n",
      "[Parallel(n_jobs=-1)]: Done 386 tasks      | elapsed:    1.9s\n",
      "[Parallel(n_jobs=-1)]: Done 584 tasks      | elapsed:    2.7s\n",
      "[Parallel(n_jobs=-1)]: Done 818 tasks      | elapsed:    3.7s\n",
      "[Parallel(n_jobs=-1)]: Done 1000 out of 1000 | elapsed:    4.2s finished\n"
     ]
    },
    {
     "data": {
      "application/vnd.jupyter.widget-view+json": {
       "model_id": "",
       "version_major": 2,
       "version_minor": 0
      },
      "text/plain": [
       "HBox(children=(IntProgress(value=0, max=1000), HTML(value='')))"
      ]
     },
     "metadata": {},
     "output_type": "display_data"
    },
    {
     "name": "stderr",
     "output_type": "stream",
     "text": [
      "[Parallel(n_jobs=-1)]: Using backend ThreadingBackend with 32 concurrent workers.\n",
      "[Parallel(n_jobs=-1)]: Done   8 tasks      | elapsed:    0.1s\n",
      "[Parallel(n_jobs=-1)]: Done  98 tasks      | elapsed:    0.4s\n",
      "[Parallel(n_jobs=-1)]: Done 224 tasks      | elapsed:    0.9s\n",
      "[Parallel(n_jobs=-1)]: Done 386 tasks      | elapsed:    1.5s\n",
      "[Parallel(n_jobs=-1)]: Done 584 tasks      | elapsed:    2.4s\n",
      "[Parallel(n_jobs=-1)]: Done 818 tasks      | elapsed:    3.3s\n",
      "[Parallel(n_jobs=-1)]: Done 1000 out of 1000 | elapsed:    3.8s finished\n"
     ]
    },
    {
     "data": {
      "application/vnd.jupyter.widget-view+json": {
       "model_id": "",
       "version_major": 2,
       "version_minor": 0
      },
      "text/plain": [
       "HBox(children=(IntProgress(value=0, max=1000), HTML(value='')))"
      ]
     },
     "metadata": {},
     "output_type": "display_data"
    },
    {
     "name": "stderr",
     "output_type": "stream",
     "text": [
      "[Parallel(n_jobs=-1)]: Using backend ThreadingBackend with 32 concurrent workers.\n",
      "[Parallel(n_jobs=-1)]: Done   8 tasks      | elapsed:    0.1s\n",
      "[Parallel(n_jobs=-1)]: Done  98 tasks      | elapsed:    0.6s\n",
      "[Parallel(n_jobs=-1)]: Done 224 tasks      | elapsed:    1.2s\n",
      "[Parallel(n_jobs=-1)]: Done 386 tasks      | elapsed:    1.8s\n",
      "[Parallel(n_jobs=-1)]: Done 584 tasks      | elapsed:    2.7s\n",
      "[Parallel(n_jobs=-1)]: Done 818 tasks      | elapsed:    3.7s\n",
      "[Parallel(n_jobs=-1)]: Done 1000 out of 1000 | elapsed:    4.2s finished\n"
     ]
    },
    {
     "data": {
      "application/vnd.jupyter.widget-view+json": {
       "model_id": "",
       "version_major": 2,
       "version_minor": 0
      },
      "text/plain": [
       "HBox(children=(IntProgress(value=0, max=1000), HTML(value='')))"
      ]
     },
     "metadata": {},
     "output_type": "display_data"
    },
    {
     "name": "stderr",
     "output_type": "stream",
     "text": [
      "[Parallel(n_jobs=-1)]: Using backend ThreadingBackend with 32 concurrent workers.\n",
      "[Parallel(n_jobs=-1)]: Done   8 tasks      | elapsed:    0.2s\n",
      "[Parallel(n_jobs=-1)]: Done  98 tasks      | elapsed:    0.5s\n",
      "[Parallel(n_jobs=-1)]: Done 224 tasks      | elapsed:    1.0s\n",
      "[Parallel(n_jobs=-1)]: Done 386 tasks      | elapsed:    1.6s\n",
      "[Parallel(n_jobs=-1)]: Done 584 tasks      | elapsed:    2.4s\n",
      "[Parallel(n_jobs=-1)]: Done 818 tasks      | elapsed:    3.4s\n",
      "[Parallel(n_jobs=-1)]: Done 1000 out of 1000 | elapsed:    3.9s finished\n"
     ]
    },
    {
     "data": {
      "application/vnd.jupyter.widget-view+json": {
       "model_id": "",
       "version_major": 2,
       "version_minor": 0
      },
      "text/plain": [
       "HBox(children=(IntProgress(value=0, max=1000), HTML(value='')))"
      ]
     },
     "metadata": {},
     "output_type": "display_data"
    },
    {
     "name": "stderr",
     "output_type": "stream",
     "text": [
      "[Parallel(n_jobs=-1)]: Using backend ThreadingBackend with 32 concurrent workers.\n",
      "[Parallel(n_jobs=-1)]: Done   8 tasks      | elapsed:    0.2s\n",
      "[Parallel(n_jobs=-1)]: Done  98 tasks      | elapsed:    0.7s\n",
      "[Parallel(n_jobs=-1)]: Done 224 tasks      | elapsed:    1.2s\n",
      "[Parallel(n_jobs=-1)]: Done 386 tasks      | elapsed:    1.9s\n",
      "[Parallel(n_jobs=-1)]: Done 584 tasks      | elapsed:    2.7s\n",
      "[Parallel(n_jobs=-1)]: Done 818 tasks      | elapsed:    3.7s\n",
      "[Parallel(n_jobs=-1)]: Done 1000 out of 1000 | elapsed:    4.3s finished\n"
     ]
    },
    {
     "data": {
      "application/vnd.jupyter.widget-view+json": {
       "model_id": "",
       "version_major": 2,
       "version_minor": 0
      },
      "text/plain": [
       "HBox(children=(IntProgress(value=0, max=1000), HTML(value='')))"
      ]
     },
     "metadata": {},
     "output_type": "display_data"
    },
    {
     "name": "stderr",
     "output_type": "stream",
     "text": [
      "[Parallel(n_jobs=-1)]: Using backend ThreadingBackend with 32 concurrent workers.\n",
      "[Parallel(n_jobs=-1)]: Done   8 tasks      | elapsed:    0.1s\n",
      "[Parallel(n_jobs=-1)]: Done  98 tasks      | elapsed:    0.4s\n",
      "[Parallel(n_jobs=-1)]: Done 224 tasks      | elapsed:    0.9s\n",
      "[Parallel(n_jobs=-1)]: Done 386 tasks      | elapsed:    1.5s\n",
      "[Parallel(n_jobs=-1)]: Done 584 tasks      | elapsed:    2.4s\n",
      "[Parallel(n_jobs=-1)]: Done 818 tasks      | elapsed:    3.3s\n",
      "[Parallel(n_jobs=-1)]: Done 1000 out of 1000 | elapsed:    3.8s finished\n"
     ]
    },
    {
     "data": {
      "application/vnd.jupyter.widget-view+json": {
       "model_id": "",
       "version_major": 2,
       "version_minor": 0
      },
      "text/plain": [
       "HBox(children=(IntProgress(value=0, max=1000), HTML(value='')))"
      ]
     },
     "metadata": {},
     "output_type": "display_data"
    },
    {
     "name": "stderr",
     "output_type": "stream",
     "text": [
      "[Parallel(n_jobs=-1)]: Using backend ThreadingBackend with 32 concurrent workers.\n",
      "[Parallel(n_jobs=-1)]: Done   8 tasks      | elapsed:    0.1s\n",
      "[Parallel(n_jobs=-1)]: Done  98 tasks      | elapsed:    0.7s\n",
      "[Parallel(n_jobs=-1)]: Done 224 tasks      | elapsed:    1.2s\n",
      "[Parallel(n_jobs=-1)]: Done 386 tasks      | elapsed:    1.9s\n",
      "[Parallel(n_jobs=-1)]: Done 584 tasks      | elapsed:    2.7s\n",
      "[Parallel(n_jobs=-1)]: Done 818 tasks      | elapsed:    3.7s\n",
      "[Parallel(n_jobs=-1)]: Done 1000 out of 1000 | elapsed:    4.3s finished\n"
     ]
    },
    {
     "data": {
      "application/vnd.jupyter.widget-view+json": {
       "model_id": "",
       "version_major": 2,
       "version_minor": 0
      },
      "text/plain": [
       "HBox(children=(IntProgress(value=0, max=1000), HTML(value='')))"
      ]
     },
     "metadata": {},
     "output_type": "display_data"
    },
    {
     "name": "stderr",
     "output_type": "stream",
     "text": [
      "[Parallel(n_jobs=-1)]: Using backend ThreadingBackend with 32 concurrent workers.\n",
      "[Parallel(n_jobs=-1)]: Done   8 tasks      | elapsed:    0.1s\n",
      "[Parallel(n_jobs=-1)]: Done  98 tasks      | elapsed:    0.5s\n",
      "[Parallel(n_jobs=-1)]: Done 224 tasks      | elapsed:    0.9s\n",
      "[Parallel(n_jobs=-1)]: Done 386 tasks      | elapsed:    1.7s\n",
      "[Parallel(n_jobs=-1)]: Done 584 tasks      | elapsed:    2.5s\n",
      "[Parallel(n_jobs=-1)]: Done 818 tasks      | elapsed:    3.4s\n",
      "[Parallel(n_jobs=-1)]: Done 1000 out of 1000 | elapsed:    3.9s finished\n"
     ]
    },
    {
     "data": {
      "application/vnd.jupyter.widget-view+json": {
       "model_id": "",
       "version_major": 2,
       "version_minor": 0
      },
      "text/plain": [
       "HBox(children=(IntProgress(value=0, max=1000), HTML(value='')))"
      ]
     },
     "metadata": {},
     "output_type": "display_data"
    },
    {
     "name": "stderr",
     "output_type": "stream",
     "text": [
      "[Parallel(n_jobs=-1)]: Using backend ThreadingBackend with 32 concurrent workers.\n",
      "[Parallel(n_jobs=-1)]: Done   8 tasks      | elapsed:    0.2s\n",
      "[Parallel(n_jobs=-1)]: Done  98 tasks      | elapsed:    0.6s\n",
      "[Parallel(n_jobs=-1)]: Done 224 tasks      | elapsed:    1.2s\n",
      "[Parallel(n_jobs=-1)]: Done 386 tasks      | elapsed:    1.9s\n",
      "[Parallel(n_jobs=-1)]: Done 584 tasks      | elapsed:    2.7s\n",
      "[Parallel(n_jobs=-1)]: Done 818 tasks      | elapsed:    3.7s\n",
      "[Parallel(n_jobs=-1)]: Done 1000 out of 1000 | elapsed:    4.3s finished\n"
     ]
    },
    {
     "data": {
      "application/vnd.jupyter.widget-view+json": {
       "model_id": "",
       "version_major": 2,
       "version_minor": 0
      },
      "text/plain": [
       "HBox(children=(IntProgress(value=0, max=1000), HTML(value='')))"
      ]
     },
     "metadata": {},
     "output_type": "display_data"
    },
    {
     "name": "stderr",
     "output_type": "stream",
     "text": [
      "[Parallel(n_jobs=-1)]: Using backend ThreadingBackend with 32 concurrent workers.\n",
      "[Parallel(n_jobs=-1)]: Done   8 tasks      | elapsed:    0.1s\n",
      "[Parallel(n_jobs=-1)]: Done  98 tasks      | elapsed:    0.4s\n",
      "[Parallel(n_jobs=-1)]: Done 224 tasks      | elapsed:    0.9s\n",
      "[Parallel(n_jobs=-1)]: Done 386 tasks      | elapsed:    1.6s\n",
      "[Parallel(n_jobs=-1)]: Done 584 tasks      | elapsed:    2.2s\n",
      "[Parallel(n_jobs=-1)]: Done 818 tasks      | elapsed:    3.2s\n",
      "[Parallel(n_jobs=-1)]: Done 1000 out of 1000 | elapsed:    3.7s finished\n"
     ]
    },
    {
     "data": {
      "application/vnd.jupyter.widget-view+json": {
       "model_id": "",
       "version_major": 2,
       "version_minor": 0
      },
      "text/plain": [
       "HBox(children=(IntProgress(value=0, max=1000), HTML(value='')))"
      ]
     },
     "metadata": {},
     "output_type": "display_data"
    },
    {
     "name": "stderr",
     "output_type": "stream",
     "text": [
      "[Parallel(n_jobs=-1)]: Using backend ThreadingBackend with 32 concurrent workers.\n",
      "[Parallel(n_jobs=-1)]: Done   8 tasks      | elapsed:    0.1s\n",
      "[Parallel(n_jobs=-1)]: Done  98 tasks      | elapsed:    0.6s\n",
      "[Parallel(n_jobs=-1)]: Done 224 tasks      | elapsed:    1.1s\n",
      "[Parallel(n_jobs=-1)]: Done 386 tasks      | elapsed:    1.8s\n",
      "[Parallel(n_jobs=-1)]: Done 584 tasks      | elapsed:    2.6s\n",
      "[Parallel(n_jobs=-1)]: Done 818 tasks      | elapsed:    3.6s\n",
      "[Parallel(n_jobs=-1)]: Done 1000 out of 1000 | elapsed:    4.1s finished\n"
     ]
    },
    {
     "data": {
      "application/vnd.jupyter.widget-view+json": {
       "model_id": "",
       "version_major": 2,
       "version_minor": 0
      },
      "text/plain": [
       "HBox(children=(IntProgress(value=0, max=1000), HTML(value='')))"
      ]
     },
     "metadata": {},
     "output_type": "display_data"
    },
    {
     "name": "stderr",
     "output_type": "stream",
     "text": [
      "[Parallel(n_jobs=-1)]: Using backend ThreadingBackend with 32 concurrent workers.\n",
      "[Parallel(n_jobs=-1)]: Done   8 tasks      | elapsed:    0.1s\n",
      "[Parallel(n_jobs=-1)]: Done  98 tasks      | elapsed:    0.4s\n",
      "[Parallel(n_jobs=-1)]: Done 224 tasks      | elapsed:    0.9s\n",
      "[Parallel(n_jobs=-1)]: Done 386 tasks      | elapsed:    1.5s\n",
      "[Parallel(n_jobs=-1)]: Done 584 tasks      | elapsed:    2.3s\n",
      "[Parallel(n_jobs=-1)]: Done 818 tasks      | elapsed:    3.1s\n",
      "[Parallel(n_jobs=-1)]: Done 1000 out of 1000 | elapsed:    3.7s finished\n"
     ]
    },
    {
     "data": {
      "application/vnd.jupyter.widget-view+json": {
       "model_id": "",
       "version_major": 2,
       "version_minor": 0
      },
      "text/plain": [
       "HBox(children=(IntProgress(value=0, max=1000), HTML(value='')))"
      ]
     },
     "metadata": {},
     "output_type": "display_data"
    },
    {
     "name": "stderr",
     "output_type": "stream",
     "text": [
      "[Parallel(n_jobs=-1)]: Using backend ThreadingBackend with 32 concurrent workers.\n",
      "[Parallel(n_jobs=-1)]: Done   8 tasks      | elapsed:    0.2s\n",
      "[Parallel(n_jobs=-1)]: Done  98 tasks      | elapsed:    0.6s\n",
      "[Parallel(n_jobs=-1)]: Done 224 tasks      | elapsed:    1.2s\n",
      "[Parallel(n_jobs=-1)]: Done 386 tasks      | elapsed:    1.8s\n",
      "[Parallel(n_jobs=-1)]: Done 584 tasks      | elapsed:    2.7s\n",
      "[Parallel(n_jobs=-1)]: Done 818 tasks      | elapsed:    3.7s\n",
      "[Parallel(n_jobs=-1)]: Done 1000 out of 1000 | elapsed:    4.2s finished\n"
     ]
    },
    {
     "data": {
      "application/vnd.jupyter.widget-view+json": {
       "model_id": "",
       "version_major": 2,
       "version_minor": 0
      },
      "text/plain": [
       "HBox(children=(IntProgress(value=0, max=1000), HTML(value='')))"
      ]
     },
     "metadata": {},
     "output_type": "display_data"
    },
    {
     "name": "stderr",
     "output_type": "stream",
     "text": [
      "[Parallel(n_jobs=-1)]: Using backend ThreadingBackend with 32 concurrent workers.\n",
      "[Parallel(n_jobs=-1)]: Done   8 tasks      | elapsed:    0.1s\n",
      "[Parallel(n_jobs=-1)]: Done  98 tasks      | elapsed:    0.4s\n",
      "[Parallel(n_jobs=-1)]: Done 224 tasks      | elapsed:    0.9s\n",
      "[Parallel(n_jobs=-1)]: Done 386 tasks      | elapsed:    1.5s\n",
      "[Parallel(n_jobs=-1)]: Done 584 tasks      | elapsed:    2.2s\n",
      "[Parallel(n_jobs=-1)]: Done 818 tasks      | elapsed:    3.2s\n",
      "[Parallel(n_jobs=-1)]: Done 1000 out of 1000 | elapsed:    3.7s finished\n"
     ]
    },
    {
     "data": {
      "application/vnd.jupyter.widget-view+json": {
       "model_id": "",
       "version_major": 2,
       "version_minor": 0
      },
      "text/plain": [
       "HBox(children=(IntProgress(value=0, max=1000), HTML(value='')))"
      ]
     },
     "metadata": {},
     "output_type": "display_data"
    },
    {
     "name": "stderr",
     "output_type": "stream",
     "text": [
      "[Parallel(n_jobs=-1)]: Using backend ThreadingBackend with 32 concurrent workers.\n",
      "[Parallel(n_jobs=-1)]: Done   8 tasks      | elapsed:    0.2s\n",
      "[Parallel(n_jobs=-1)]: Done  98 tasks      | elapsed:    0.6s\n",
      "[Parallel(n_jobs=-1)]: Done 224 tasks      | elapsed:    1.1s\n",
      "[Parallel(n_jobs=-1)]: Done 386 tasks      | elapsed:    1.8s\n",
      "[Parallel(n_jobs=-1)]: Done 584 tasks      | elapsed:    2.6s\n",
      "[Parallel(n_jobs=-1)]: Done 818 tasks      | elapsed:    3.5s\n",
      "[Parallel(n_jobs=-1)]: Done 1000 out of 1000 | elapsed:    4.1s finished\n"
     ]
    },
    {
     "data": {
      "application/vnd.jupyter.widget-view+json": {
       "model_id": "",
       "version_major": 2,
       "version_minor": 0
      },
      "text/plain": [
       "HBox(children=(IntProgress(value=0, max=1000), HTML(value='')))"
      ]
     },
     "metadata": {},
     "output_type": "display_data"
    },
    {
     "name": "stderr",
     "output_type": "stream",
     "text": [
      "[Parallel(n_jobs=-1)]: Using backend ThreadingBackend with 32 concurrent workers.\n",
      "[Parallel(n_jobs=-1)]: Done   8 tasks      | elapsed:    0.1s\n",
      "[Parallel(n_jobs=-1)]: Done  98 tasks      | elapsed:    0.4s\n",
      "[Parallel(n_jobs=-1)]: Done 224 tasks      | elapsed:    0.9s\n",
      "[Parallel(n_jobs=-1)]: Done 386 tasks      | elapsed:    1.5s\n",
      "[Parallel(n_jobs=-1)]: Done 584 tasks      | elapsed:    2.3s\n",
      "[Parallel(n_jobs=-1)]: Done 818 tasks      | elapsed:    3.1s\n",
      "[Parallel(n_jobs=-1)]: Done 1000 out of 1000 | elapsed:    3.7s finished\n"
     ]
    },
    {
     "data": {
      "application/vnd.jupyter.widget-view+json": {
       "model_id": "",
       "version_major": 2,
       "version_minor": 0
      },
      "text/plain": [
       "HBox(children=(IntProgress(value=0, max=1000), HTML(value='')))"
      ]
     },
     "metadata": {},
     "output_type": "display_data"
    },
    {
     "name": "stderr",
     "output_type": "stream",
     "text": [
      "[Parallel(n_jobs=-1)]: Using backend ThreadingBackend with 32 concurrent workers.\n",
      "[Parallel(n_jobs=-1)]: Done   8 tasks      | elapsed:    0.1s\n",
      "[Parallel(n_jobs=-1)]: Done  98 tasks      | elapsed:    0.6s\n",
      "[Parallel(n_jobs=-1)]: Done 224 tasks      | elapsed:    1.2s\n",
      "[Parallel(n_jobs=-1)]: Done 386 tasks      | elapsed:    1.8s\n",
      "[Parallel(n_jobs=-1)]: Done 584 tasks      | elapsed:    2.6s\n",
      "[Parallel(n_jobs=-1)]: Done 818 tasks      | elapsed:    3.6s\n",
      "[Parallel(n_jobs=-1)]: Done 1000 out of 1000 | elapsed:    4.1s finished\n"
     ]
    },
    {
     "data": {
      "application/vnd.jupyter.widget-view+json": {
       "model_id": "",
       "version_major": 2,
       "version_minor": 0
      },
      "text/plain": [
       "HBox(children=(IntProgress(value=0, max=1000), HTML(value='')))"
      ]
     },
     "metadata": {},
     "output_type": "display_data"
    },
    {
     "name": "stderr",
     "output_type": "stream",
     "text": [
      "[Parallel(n_jobs=-1)]: Using backend ThreadingBackend with 32 concurrent workers.\n",
      "[Parallel(n_jobs=-1)]: Done   8 tasks      | elapsed:    0.1s\n",
      "[Parallel(n_jobs=-1)]: Done  98 tasks      | elapsed:    0.4s\n",
      "[Parallel(n_jobs=-1)]: Done 224 tasks      | elapsed:    0.9s\n",
      "[Parallel(n_jobs=-1)]: Done 386 tasks      | elapsed:    1.7s\n",
      "[Parallel(n_jobs=-1)]: Done 584 tasks      | elapsed:    2.3s\n",
      "[Parallel(n_jobs=-1)]: Done 818 tasks      | elapsed:    3.2s\n",
      "[Parallel(n_jobs=-1)]: Done 1000 out of 1000 | elapsed:    3.7s finished\n"
     ]
    },
    {
     "data": {
      "application/vnd.jupyter.widget-view+json": {
       "model_id": "",
       "version_major": 2,
       "version_minor": 0
      },
      "text/plain": [
       "HBox(children=(IntProgress(value=0, max=1000), HTML(value='')))"
      ]
     },
     "metadata": {},
     "output_type": "display_data"
    },
    {
     "name": "stderr",
     "output_type": "stream",
     "text": [
      "[Parallel(n_jobs=-1)]: Using backend ThreadingBackend with 32 concurrent workers.\n",
      "[Parallel(n_jobs=-1)]: Done   8 tasks      | elapsed:    0.1s\n",
      "[Parallel(n_jobs=-1)]: Done  98 tasks      | elapsed:    0.6s\n",
      "[Parallel(n_jobs=-1)]: Done 224 tasks      | elapsed:    1.2s\n",
      "[Parallel(n_jobs=-1)]: Done 386 tasks      | elapsed:    1.8s\n",
      "[Parallel(n_jobs=-1)]: Done 584 tasks      | elapsed:    2.7s\n",
      "[Parallel(n_jobs=-1)]: Done 818 tasks      | elapsed:    3.7s\n",
      "[Parallel(n_jobs=-1)]: Done 1000 out of 1000 | elapsed:    4.2s finished\n"
     ]
    },
    {
     "data": {
      "application/vnd.jupyter.widget-view+json": {
       "model_id": "",
       "version_major": 2,
       "version_minor": 0
      },
      "text/plain": [
       "HBox(children=(IntProgress(value=0, max=1000), HTML(value='')))"
      ]
     },
     "metadata": {},
     "output_type": "display_data"
    },
    {
     "name": "stderr",
     "output_type": "stream",
     "text": [
      "[Parallel(n_jobs=-1)]: Using backend ThreadingBackend with 32 concurrent workers.\n",
      "[Parallel(n_jobs=-1)]: Done   8 tasks      | elapsed:    0.1s\n",
      "[Parallel(n_jobs=-1)]: Done  98 tasks      | elapsed:    0.4s\n",
      "[Parallel(n_jobs=-1)]: Done 224 tasks      | elapsed:    0.9s\n",
      "[Parallel(n_jobs=-1)]: Done 386 tasks      | elapsed:    1.5s\n",
      "[Parallel(n_jobs=-1)]: Done 584 tasks      | elapsed:    2.4s\n",
      "[Parallel(n_jobs=-1)]: Done 818 tasks      | elapsed:    3.4s\n",
      "[Parallel(n_jobs=-1)]: Done 1000 out of 1000 | elapsed:    3.9s finished\n"
     ]
    },
    {
     "data": {
      "application/vnd.jupyter.widget-view+json": {
       "model_id": "",
       "version_major": 2,
       "version_minor": 0
      },
      "text/plain": [
       "HBox(children=(IntProgress(value=0, max=1000), HTML(value='')))"
      ]
     },
     "metadata": {},
     "output_type": "display_data"
    },
    {
     "name": "stderr",
     "output_type": "stream",
     "text": [
      "[Parallel(n_jobs=-1)]: Using backend ThreadingBackend with 32 concurrent workers.\n",
      "[Parallel(n_jobs=-1)]: Done   8 tasks      | elapsed:    0.2s\n",
      "[Parallel(n_jobs=-1)]: Done  98 tasks      | elapsed:    0.6s\n",
      "[Parallel(n_jobs=-1)]: Done 224 tasks      | elapsed:    1.2s\n",
      "[Parallel(n_jobs=-1)]: Done 386 tasks      | elapsed:    1.9s\n",
      "[Parallel(n_jobs=-1)]: Done 584 tasks      | elapsed:    2.7s\n",
      "[Parallel(n_jobs=-1)]: Done 818 tasks      | elapsed:    3.7s\n",
      "[Parallel(n_jobs=-1)]: Done 1000 out of 1000 | elapsed:    4.2s finished\n"
     ]
    },
    {
     "data": {
      "application/vnd.jupyter.widget-view+json": {
       "model_id": "",
       "version_major": 2,
       "version_minor": 0
      },
      "text/plain": [
       "HBox(children=(IntProgress(value=0, max=1000), HTML(value='')))"
      ]
     },
     "metadata": {},
     "output_type": "display_data"
    },
    {
     "name": "stderr",
     "output_type": "stream",
     "text": [
      "[Parallel(n_jobs=-1)]: Using backend ThreadingBackend with 32 concurrent workers.\n",
      "[Parallel(n_jobs=-1)]: Done   8 tasks      | elapsed:    0.1s\n",
      "[Parallel(n_jobs=-1)]: Done  98 tasks      | elapsed:    0.4s\n",
      "[Parallel(n_jobs=-1)]: Done 224 tasks      | elapsed:    0.9s\n",
      "[Parallel(n_jobs=-1)]: Done 386 tasks      | elapsed:    1.5s\n",
      "[Parallel(n_jobs=-1)]: Done 584 tasks      | elapsed:    2.3s\n",
      "[Parallel(n_jobs=-1)]: Done 818 tasks      | elapsed:    3.3s\n",
      "[Parallel(n_jobs=-1)]: Done 1000 out of 1000 | elapsed:    3.8s finished\n"
     ]
    },
    {
     "data": {
      "application/vnd.jupyter.widget-view+json": {
       "model_id": "",
       "version_major": 2,
       "version_minor": 0
      },
      "text/plain": [
       "HBox(children=(IntProgress(value=0, max=1000), HTML(value='')))"
      ]
     },
     "metadata": {},
     "output_type": "display_data"
    },
    {
     "name": "stderr",
     "output_type": "stream",
     "text": [
      "[Parallel(n_jobs=-1)]: Using backend ThreadingBackend with 32 concurrent workers.\n",
      "[Parallel(n_jobs=-1)]: Done   8 tasks      | elapsed:    0.1s\n",
      "[Parallel(n_jobs=-1)]: Done  98 tasks      | elapsed:    0.6s\n",
      "[Parallel(n_jobs=-1)]: Done 224 tasks      | elapsed:    1.2s\n",
      "[Parallel(n_jobs=-1)]: Done 386 tasks      | elapsed:    1.8s\n",
      "[Parallel(n_jobs=-1)]: Done 584 tasks      | elapsed:    2.7s\n",
      "[Parallel(n_jobs=-1)]: Done 818 tasks      | elapsed:    3.7s\n",
      "[Parallel(n_jobs=-1)]: Done 1000 out of 1000 | elapsed:    4.2s finished\n"
     ]
    },
    {
     "data": {
      "application/vnd.jupyter.widget-view+json": {
       "model_id": "",
       "version_major": 2,
       "version_minor": 0
      },
      "text/plain": [
       "HBox(children=(IntProgress(value=0, max=1000), HTML(value='')))"
      ]
     },
     "metadata": {},
     "output_type": "display_data"
    },
    {
     "name": "stderr",
     "output_type": "stream",
     "text": [
      "[Parallel(n_jobs=-1)]: Using backend ThreadingBackend with 32 concurrent workers.\n",
      "[Parallel(n_jobs=-1)]: Done   8 tasks      | elapsed:    0.1s\n",
      "[Parallel(n_jobs=-1)]: Done  98 tasks      | elapsed:    0.4s\n",
      "[Parallel(n_jobs=-1)]: Done 224 tasks      | elapsed:    0.9s\n",
      "[Parallel(n_jobs=-1)]: Done 386 tasks      | elapsed:    1.6s\n",
      "[Parallel(n_jobs=-1)]: Done 584 tasks      | elapsed:    2.3s\n",
      "[Parallel(n_jobs=-1)]: Done 818 tasks      | elapsed:    3.3s\n",
      "[Parallel(n_jobs=-1)]: Done 1000 out of 1000 | elapsed:    3.9s finished\n"
     ]
    },
    {
     "data": {
      "application/vnd.jupyter.widget-view+json": {
       "model_id": "",
       "version_major": 2,
       "version_minor": 0
      },
      "text/plain": [
       "HBox(children=(IntProgress(value=0, max=1000), HTML(value='')))"
      ]
     },
     "metadata": {},
     "output_type": "display_data"
    },
    {
     "name": "stderr",
     "output_type": "stream",
     "text": [
      "[Parallel(n_jobs=-1)]: Using backend ThreadingBackend with 32 concurrent workers.\n",
      "[Parallel(n_jobs=-1)]: Done   8 tasks      | elapsed:    0.1s\n",
      "[Parallel(n_jobs=-1)]: Done  98 tasks      | elapsed:    0.6s\n",
      "[Parallel(n_jobs=-1)]: Done 224 tasks      | elapsed:    1.1s\n",
      "[Parallel(n_jobs=-1)]: Done 386 tasks      | elapsed:    1.8s\n",
      "[Parallel(n_jobs=-1)]: Done 584 tasks      | elapsed:    2.6s\n",
      "[Parallel(n_jobs=-1)]: Done 818 tasks      | elapsed:    3.6s\n",
      "[Parallel(n_jobs=-1)]: Done 1000 out of 1000 | elapsed:    4.1s finished\n"
     ]
    },
    {
     "data": {
      "application/vnd.jupyter.widget-view+json": {
       "model_id": "",
       "version_major": 2,
       "version_minor": 0
      },
      "text/plain": [
       "HBox(children=(IntProgress(value=0, max=1000), HTML(value='')))"
      ]
     },
     "metadata": {},
     "output_type": "display_data"
    },
    {
     "name": "stderr",
     "output_type": "stream",
     "text": [
      "[Parallel(n_jobs=-1)]: Using backend ThreadingBackend with 32 concurrent workers.\n",
      "[Parallel(n_jobs=-1)]: Done   8 tasks      | elapsed:    0.1s\n",
      "[Parallel(n_jobs=-1)]: Done  98 tasks      | elapsed:    0.4s\n",
      "[Parallel(n_jobs=-1)]: Done 224 tasks      | elapsed:    0.9s\n",
      "[Parallel(n_jobs=-1)]: Done 386 tasks      | elapsed:    1.7s\n",
      "[Parallel(n_jobs=-1)]: Done 584 tasks      | elapsed:    2.5s\n",
      "[Parallel(n_jobs=-1)]: Done 818 tasks      | elapsed:    3.4s\n",
      "[Parallel(n_jobs=-1)]: Done 1000 out of 1000 | elapsed:    3.8s finished\n"
     ]
    },
    {
     "data": {
      "application/vnd.jupyter.widget-view+json": {
       "model_id": "",
       "version_major": 2,
       "version_minor": 0
      },
      "text/plain": [
       "HBox(children=(IntProgress(value=0, max=1000), HTML(value='')))"
      ]
     },
     "metadata": {},
     "output_type": "display_data"
    },
    {
     "name": "stderr",
     "output_type": "stream",
     "text": [
      "[Parallel(n_jobs=-1)]: Using backend ThreadingBackend with 32 concurrent workers.\n",
      "[Parallel(n_jobs=-1)]: Done   8 tasks      | elapsed:    0.2s\n",
      "[Parallel(n_jobs=-1)]: Done  98 tasks      | elapsed:    0.6s\n",
      "[Parallel(n_jobs=-1)]: Done 224 tasks      | elapsed:    1.2s\n",
      "[Parallel(n_jobs=-1)]: Done 386 tasks      | elapsed:    1.8s\n",
      "[Parallel(n_jobs=-1)]: Done 584 tasks      | elapsed:    2.7s\n",
      "[Parallel(n_jobs=-1)]: Done 818 tasks      | elapsed:    3.7s\n",
      "[Parallel(n_jobs=-1)]: Done 1000 out of 1000 | elapsed:    4.2s finished\n"
     ]
    },
    {
     "data": {
      "application/vnd.jupyter.widget-view+json": {
       "model_id": "",
       "version_major": 2,
       "version_minor": 0
      },
      "text/plain": [
       "HBox(children=(IntProgress(value=0, max=1000), HTML(value='')))"
      ]
     },
     "metadata": {},
     "output_type": "display_data"
    },
    {
     "name": "stderr",
     "output_type": "stream",
     "text": [
      "[Parallel(n_jobs=-1)]: Using backend ThreadingBackend with 32 concurrent workers.\n",
      "[Parallel(n_jobs=-1)]: Done   8 tasks      | elapsed:    0.1s\n",
      "[Parallel(n_jobs=-1)]: Done  98 tasks      | elapsed:    0.4s\n",
      "[Parallel(n_jobs=-1)]: Done 224 tasks      | elapsed:    0.9s\n",
      "[Parallel(n_jobs=-1)]: Done 386 tasks      | elapsed:    1.6s\n",
      "[Parallel(n_jobs=-1)]: Done 584 tasks      | elapsed:    2.1s\n",
      "[Parallel(n_jobs=-1)]: Done 818 tasks      | elapsed:    3.0s\n",
      "[Parallel(n_jobs=-1)]: Done 1000 out of 1000 | elapsed:    3.6s finished\n"
     ]
    },
    {
     "data": {
      "application/vnd.jupyter.widget-view+json": {
       "model_id": "",
       "version_major": 2,
       "version_minor": 0
      },
      "text/plain": [
       "HBox(children=(IntProgress(value=0, max=1000), HTML(value='')))"
      ]
     },
     "metadata": {},
     "output_type": "display_data"
    },
    {
     "name": "stderr",
     "output_type": "stream",
     "text": [
      "[Parallel(n_jobs=-1)]: Using backend ThreadingBackend with 32 concurrent workers.\n",
      "[Parallel(n_jobs=-1)]: Done  98 tasks      | elapsed:    0.6s\n",
      "[Parallel(n_jobs=-1)]: Done 224 tasks      | elapsed:    1.1s\n",
      "[Parallel(n_jobs=-1)]: Done 386 tasks      | elapsed:    1.7s\n",
      "[Parallel(n_jobs=-1)]: Done 584 tasks      | elapsed:    2.5s\n",
      "[Parallel(n_jobs=-1)]: Done 818 tasks      | elapsed:    3.4s\n",
      "[Parallel(n_jobs=-1)]: Done 1000 out of 1000 | elapsed:    4.0s finished\n"
     ]
    },
    {
     "data": {
      "application/vnd.jupyter.widget-view+json": {
       "model_id": "",
       "version_major": 2,
       "version_minor": 0
      },
      "text/plain": [
       "HBox(children=(IntProgress(value=0, max=1000), HTML(value='')))"
      ]
     },
     "metadata": {},
     "output_type": "display_data"
    },
    {
     "name": "stderr",
     "output_type": "stream",
     "text": [
      "[Parallel(n_jobs=-1)]: Using backend ThreadingBackend with 32 concurrent workers.\n",
      "[Parallel(n_jobs=-1)]: Done   8 tasks      | elapsed:    0.1s\n",
      "[Parallel(n_jobs=-1)]: Done  98 tasks      | elapsed:    0.4s\n",
      "[Parallel(n_jobs=-1)]: Done 224 tasks      | elapsed:    0.9s\n",
      "[Parallel(n_jobs=-1)]: Done 386 tasks      | elapsed:    1.5s\n",
      "[Parallel(n_jobs=-1)]: Done 584 tasks      | elapsed:    2.4s\n",
      "[Parallel(n_jobs=-1)]: Done 818 tasks      | elapsed:    3.3s\n",
      "[Parallel(n_jobs=-1)]: Done 1000 out of 1000 | elapsed:    3.7s finished\n"
     ]
    },
    {
     "data": {
      "application/vnd.jupyter.widget-view+json": {
       "model_id": "",
       "version_major": 2,
       "version_minor": 0
      },
      "text/plain": [
       "HBox(children=(IntProgress(value=0, max=1000), HTML(value='')))"
      ]
     },
     "metadata": {},
     "output_type": "display_data"
    },
    {
     "name": "stderr",
     "output_type": "stream",
     "text": [
      "[Parallel(n_jobs=-1)]: Using backend ThreadingBackend with 32 concurrent workers.\n",
      "[Parallel(n_jobs=-1)]: Done   8 tasks      | elapsed:    0.2s\n",
      "[Parallel(n_jobs=-1)]: Done  98 tasks      | elapsed:    0.6s\n",
      "[Parallel(n_jobs=-1)]: Done 224 tasks      | elapsed:    1.2s\n",
      "[Parallel(n_jobs=-1)]: Done 386 tasks      | elapsed:    1.8s\n",
      "[Parallel(n_jobs=-1)]: Done 584 tasks      | elapsed:    2.6s\n",
      "[Parallel(n_jobs=-1)]: Done 818 tasks      | elapsed:    3.6s\n",
      "[Parallel(n_jobs=-1)]: Done 1000 out of 1000 | elapsed:    4.1s finished\n"
     ]
    },
    {
     "data": {
      "application/vnd.jupyter.widget-view+json": {
       "model_id": "",
       "version_major": 2,
       "version_minor": 0
      },
      "text/plain": [
       "HBox(children=(IntProgress(value=0, max=1000), HTML(value='')))"
      ]
     },
     "metadata": {},
     "output_type": "display_data"
    },
    {
     "name": "stderr",
     "output_type": "stream",
     "text": [
      "[Parallel(n_jobs=-1)]: Using backend ThreadingBackend with 32 concurrent workers.\n",
      "[Parallel(n_jobs=-1)]: Done   8 tasks      | elapsed:    0.1s\n",
      "[Parallel(n_jobs=-1)]: Done  98 tasks      | elapsed:    0.4s\n",
      "[Parallel(n_jobs=-1)]: Done 224 tasks      | elapsed:    0.9s\n",
      "[Parallel(n_jobs=-1)]: Done 386 tasks      | elapsed:    1.5s\n",
      "[Parallel(n_jobs=-1)]: Done 584 tasks      | elapsed:    2.4s\n",
      "[Parallel(n_jobs=-1)]: Done 818 tasks      | elapsed:    3.2s\n",
      "[Parallel(n_jobs=-1)]: Done 1000 out of 1000 | elapsed:    3.8s finished\n"
     ]
    },
    {
     "data": {
      "application/vnd.jupyter.widget-view+json": {
       "model_id": "",
       "version_major": 2,
       "version_minor": 0
      },
      "text/plain": [
       "HBox(children=(IntProgress(value=0, max=1000), HTML(value='')))"
      ]
     },
     "metadata": {},
     "output_type": "display_data"
    },
    {
     "name": "stderr",
     "output_type": "stream",
     "text": [
      "[Parallel(n_jobs=-1)]: Using backend ThreadingBackend with 32 concurrent workers.\n",
      "[Parallel(n_jobs=-1)]: Done   8 tasks      | elapsed:    0.2s\n",
      "[Parallel(n_jobs=-1)]: Done  98 tasks      | elapsed:    0.6s\n",
      "[Parallel(n_jobs=-1)]: Done 224 tasks      | elapsed:    1.1s\n",
      "[Parallel(n_jobs=-1)]: Done 386 tasks      | elapsed:    1.8s\n",
      "[Parallel(n_jobs=-1)]: Done 584 tasks      | elapsed:    2.6s\n",
      "[Parallel(n_jobs=-1)]: Done 818 tasks      | elapsed:    3.6s\n",
      "[Parallel(n_jobs=-1)]: Done 1000 out of 1000 | elapsed:    4.1s finished\n"
     ]
    },
    {
     "data": {
      "application/vnd.jupyter.widget-view+json": {
       "model_id": "",
       "version_major": 2,
       "version_minor": 0
      },
      "text/plain": [
       "HBox(children=(IntProgress(value=0, max=1000), HTML(value='')))"
      ]
     },
     "metadata": {},
     "output_type": "display_data"
    },
    {
     "name": "stderr",
     "output_type": "stream",
     "text": [
      "[Parallel(n_jobs=-1)]: Using backend ThreadingBackend with 32 concurrent workers.\n",
      "[Parallel(n_jobs=-1)]: Done   8 tasks      | elapsed:    0.1s\n",
      "[Parallel(n_jobs=-1)]: Done  98 tasks      | elapsed:    0.4s\n",
      "[Parallel(n_jobs=-1)]: Done 224 tasks      | elapsed:    0.9s\n",
      "[Parallel(n_jobs=-1)]: Done 386 tasks      | elapsed:    1.5s\n",
      "[Parallel(n_jobs=-1)]: Done 584 tasks      | elapsed:    2.4s\n",
      "[Parallel(n_jobs=-1)]: Done 818 tasks      | elapsed:    3.3s\n",
      "[Parallel(n_jobs=-1)]: Done 1000 out of 1000 | elapsed:    3.8s finished\n"
     ]
    },
    {
     "data": {
      "application/vnd.jupyter.widget-view+json": {
       "model_id": "",
       "version_major": 2,
       "version_minor": 0
      },
      "text/plain": [
       "HBox(children=(IntProgress(value=0, max=1000), HTML(value='')))"
      ]
     },
     "metadata": {},
     "output_type": "display_data"
    },
    {
     "name": "stderr",
     "output_type": "stream",
     "text": [
      "[Parallel(n_jobs=-1)]: Using backend ThreadingBackend with 32 concurrent workers.\n",
      "[Parallel(n_jobs=-1)]: Done   8 tasks      | elapsed:    0.1s\n",
      "[Parallel(n_jobs=-1)]: Done  98 tasks      | elapsed:    0.6s\n",
      "[Parallel(n_jobs=-1)]: Done 224 tasks      | elapsed:    1.2s\n",
      "[Parallel(n_jobs=-1)]: Done 386 tasks      | elapsed:    1.8s\n",
      "[Parallel(n_jobs=-1)]: Done 584 tasks      | elapsed:    2.7s\n",
      "[Parallel(n_jobs=-1)]: Done 818 tasks      | elapsed:    3.7s\n",
      "[Parallel(n_jobs=-1)]: Done 1000 out of 1000 | elapsed:    4.2s finished\n"
     ]
    },
    {
     "data": {
      "application/vnd.jupyter.widget-view+json": {
       "model_id": "",
       "version_major": 2,
       "version_minor": 0
      },
      "text/plain": [
       "HBox(children=(IntProgress(value=0, max=1000), HTML(value='')))"
      ]
     },
     "metadata": {},
     "output_type": "display_data"
    },
    {
     "name": "stderr",
     "output_type": "stream",
     "text": [
      "[Parallel(n_jobs=-1)]: Using backend ThreadingBackend with 32 concurrent workers.\n",
      "[Parallel(n_jobs=-1)]: Done   8 tasks      | elapsed:    0.1s\n",
      "[Parallel(n_jobs=-1)]: Done  98 tasks      | elapsed:    0.4s\n",
      "[Parallel(n_jobs=-1)]: Done 224 tasks      | elapsed:    0.9s\n",
      "[Parallel(n_jobs=-1)]: Done 386 tasks      | elapsed:    1.5s\n",
      "[Parallel(n_jobs=-1)]: Done 584 tasks      | elapsed:    2.3s\n",
      "[Parallel(n_jobs=-1)]: Done 818 tasks      | elapsed:    3.2s\n",
      "[Parallel(n_jobs=-1)]: Done 1000 out of 1000 | elapsed:    3.8s finished\n"
     ]
    },
    {
     "data": {
      "application/vnd.jupyter.widget-view+json": {
       "model_id": "",
       "version_major": 2,
       "version_minor": 0
      },
      "text/plain": [
       "HBox(children=(IntProgress(value=0, max=1000), HTML(value='')))"
      ]
     },
     "metadata": {},
     "output_type": "display_data"
    },
    {
     "name": "stderr",
     "output_type": "stream",
     "text": [
      "[Parallel(n_jobs=-1)]: Using backend ThreadingBackend with 32 concurrent workers.\n",
      "[Parallel(n_jobs=-1)]: Done   8 tasks      | elapsed:    0.1s\n",
      "[Parallel(n_jobs=-1)]: Done  98 tasks      | elapsed:    0.6s\n",
      "[Parallel(n_jobs=-1)]: Done 224 tasks      | elapsed:    1.2s\n",
      "[Parallel(n_jobs=-1)]: Done 386 tasks      | elapsed:    1.8s\n",
      "[Parallel(n_jobs=-1)]: Done 584 tasks      | elapsed:    2.7s\n",
      "[Parallel(n_jobs=-1)]: Done 818 tasks      | elapsed:    3.6s\n",
      "[Parallel(n_jobs=-1)]: Done 1000 out of 1000 | elapsed:    4.2s finished\n"
     ]
    },
    {
     "data": {
      "application/vnd.jupyter.widget-view+json": {
       "model_id": "",
       "version_major": 2,
       "version_minor": 0
      },
      "text/plain": [
       "HBox(children=(IntProgress(value=0, max=1000), HTML(value='')))"
      ]
     },
     "metadata": {},
     "output_type": "display_data"
    },
    {
     "name": "stderr",
     "output_type": "stream",
     "text": [
      "[Parallel(n_jobs=-1)]: Using backend ThreadingBackend with 32 concurrent workers.\n",
      "[Parallel(n_jobs=-1)]: Done   8 tasks      | elapsed:    0.2s\n",
      "[Parallel(n_jobs=-1)]: Done  98 tasks      | elapsed:    0.6s\n",
      "[Parallel(n_jobs=-1)]: Done 224 tasks      | elapsed:    1.0s\n",
      "[Parallel(n_jobs=-1)]: Done 386 tasks      | elapsed:    1.6s\n",
      "[Parallel(n_jobs=-1)]: Done 584 tasks      | elapsed:    2.4s\n",
      "[Parallel(n_jobs=-1)]: Done 818 tasks      | elapsed:    3.3s\n",
      "[Parallel(n_jobs=-1)]: Done 1000 out of 1000 | elapsed:    3.9s finished\n"
     ]
    },
    {
     "data": {
      "application/vnd.jupyter.widget-view+json": {
       "model_id": "",
       "version_major": 2,
       "version_minor": 0
      },
      "text/plain": [
       "HBox(children=(IntProgress(value=0, max=1000), HTML(value='')))"
      ]
     },
     "metadata": {},
     "output_type": "display_data"
    },
    {
     "name": "stderr",
     "output_type": "stream",
     "text": [
      "[Parallel(n_jobs=-1)]: Using backend ThreadingBackend with 32 concurrent workers.\n",
      "[Parallel(n_jobs=-1)]: Done   8 tasks      | elapsed:    0.2s\n",
      "[Parallel(n_jobs=-1)]: Done  98 tasks      | elapsed:    0.6s\n",
      "[Parallel(n_jobs=-1)]: Done 224 tasks      | elapsed:    1.2s\n",
      "[Parallel(n_jobs=-1)]: Done 386 tasks      | elapsed:    1.8s\n",
      "[Parallel(n_jobs=-1)]: Done 584 tasks      | elapsed:    2.7s\n",
      "[Parallel(n_jobs=-1)]: Done 818 tasks      | elapsed:    3.6s\n",
      "[Parallel(n_jobs=-1)]: Done 1000 out of 1000 | elapsed:    4.1s finished\n"
     ]
    },
    {
     "data": {
      "application/vnd.jupyter.widget-view+json": {
       "model_id": "",
       "version_major": 2,
       "version_minor": 0
      },
      "text/plain": [
       "HBox(children=(IntProgress(value=0, max=1000), HTML(value='')))"
      ]
     },
     "metadata": {},
     "output_type": "display_data"
    },
    {
     "name": "stderr",
     "output_type": "stream",
     "text": [
      "[Parallel(n_jobs=-1)]: Using backend ThreadingBackend with 32 concurrent workers.\n",
      "[Parallel(n_jobs=-1)]: Done   8 tasks      | elapsed:    0.1s\n",
      "[Parallel(n_jobs=-1)]: Done  98 tasks      | elapsed:    0.4s\n",
      "[Parallel(n_jobs=-1)]: Done 224 tasks      | elapsed:    0.9s\n",
      "[Parallel(n_jobs=-1)]: Done 386 tasks      | elapsed:    1.6s\n",
      "[Parallel(n_jobs=-1)]: Done 584 tasks      | elapsed:    2.4s\n",
      "[Parallel(n_jobs=-1)]: Done 818 tasks      | elapsed:    3.1s\n",
      "[Parallel(n_jobs=-1)]: Done 1000 out of 1000 | elapsed:    3.7s finished\n"
     ]
    },
    {
     "data": {
      "application/vnd.jupyter.widget-view+json": {
       "model_id": "",
       "version_major": 2,
       "version_minor": 0
      },
      "text/plain": [
       "HBox(children=(IntProgress(value=0, max=1000), HTML(value='')))"
      ]
     },
     "metadata": {},
     "output_type": "display_data"
    },
    {
     "name": "stderr",
     "output_type": "stream",
     "text": [
      "[Parallel(n_jobs=-1)]: Using backend ThreadingBackend with 32 concurrent workers.\n",
      "[Parallel(n_jobs=-1)]: Done   8 tasks      | elapsed:    0.1s\n",
      "[Parallel(n_jobs=-1)]: Done  98 tasks      | elapsed:    0.6s\n",
      "[Parallel(n_jobs=-1)]: Done 224 tasks      | elapsed:    1.1s\n",
      "[Parallel(n_jobs=-1)]: Done 386 tasks      | elapsed:    1.8s\n",
      "[Parallel(n_jobs=-1)]: Done 584 tasks      | elapsed:    2.6s\n",
      "[Parallel(n_jobs=-1)]: Done 818 tasks      | elapsed:    3.6s\n",
      "[Parallel(n_jobs=-1)]: Done 1000 out of 1000 | elapsed:    4.1s finished\n"
     ]
    },
    {
     "data": {
      "application/vnd.jupyter.widget-view+json": {
       "model_id": "",
       "version_major": 2,
       "version_minor": 0
      },
      "text/plain": [
       "HBox(children=(IntProgress(value=0, max=1000), HTML(value='')))"
      ]
     },
     "metadata": {},
     "output_type": "display_data"
    },
    {
     "name": "stderr",
     "output_type": "stream",
     "text": [
      "[Parallel(n_jobs=-1)]: Using backend ThreadingBackend with 32 concurrent workers.\n",
      "[Parallel(n_jobs=-1)]: Done   8 tasks      | elapsed:    0.2s\n",
      "[Parallel(n_jobs=-1)]: Done  98 tasks      | elapsed:    0.4s\n",
      "[Parallel(n_jobs=-1)]: Done 224 tasks      | elapsed:    0.9s\n",
      "[Parallel(n_jobs=-1)]: Done 386 tasks      | elapsed:    1.6s\n",
      "[Parallel(n_jobs=-1)]: Done 584 tasks      | elapsed:    2.4s\n",
      "[Parallel(n_jobs=-1)]: Done 818 tasks      | elapsed:    3.3s\n",
      "[Parallel(n_jobs=-1)]: Done 1000 out of 1000 | elapsed:    3.8s finished\n"
     ]
    },
    {
     "data": {
      "application/vnd.jupyter.widget-view+json": {
       "model_id": "",
       "version_major": 2,
       "version_minor": 0
      },
      "text/plain": [
       "HBox(children=(IntProgress(value=0, max=1000), HTML(value='')))"
      ]
     },
     "metadata": {},
     "output_type": "display_data"
    },
    {
     "name": "stderr",
     "output_type": "stream",
     "text": [
      "[Parallel(n_jobs=-1)]: Using backend ThreadingBackend with 32 concurrent workers.\n",
      "[Parallel(n_jobs=-1)]: Done   8 tasks      | elapsed:    0.1s\n",
      "[Parallel(n_jobs=-1)]: Done  98 tasks      | elapsed:    0.6s\n",
      "[Parallel(n_jobs=-1)]: Done 224 tasks      | elapsed:    1.2s\n",
      "[Parallel(n_jobs=-1)]: Done 386 tasks      | elapsed:    1.8s\n",
      "[Parallel(n_jobs=-1)]: Done 584 tasks      | elapsed:    2.7s\n",
      "[Parallel(n_jobs=-1)]: Done 818 tasks      | elapsed:    3.6s\n",
      "[Parallel(n_jobs=-1)]: Done 1000 out of 1000 | elapsed:    4.1s finished\n"
     ]
    },
    {
     "data": {
      "application/vnd.jupyter.widget-view+json": {
       "model_id": "",
       "version_major": 2,
       "version_minor": 0
      },
      "text/plain": [
       "HBox(children=(IntProgress(value=0, max=1000), HTML(value='')))"
      ]
     },
     "metadata": {},
     "output_type": "display_data"
    },
    {
     "name": "stderr",
     "output_type": "stream",
     "text": [
      "[Parallel(n_jobs=-1)]: Using backend ThreadingBackend with 32 concurrent workers.\n",
      "[Parallel(n_jobs=-1)]: Done   8 tasks      | elapsed:    0.1s\n",
      "[Parallel(n_jobs=-1)]: Done  98 tasks      | elapsed:    0.4s\n",
      "[Parallel(n_jobs=-1)]: Done 224 tasks      | elapsed:    0.9s\n",
      "[Parallel(n_jobs=-1)]: Done 386 tasks      | elapsed:    1.5s\n",
      "[Parallel(n_jobs=-1)]: Done 584 tasks      | elapsed:    2.2s\n",
      "[Parallel(n_jobs=-1)]: Done 818 tasks      | elapsed:    3.3s\n",
      "[Parallel(n_jobs=-1)]: Done 1000 out of 1000 | elapsed:    3.8s finished\n"
     ]
    },
    {
     "data": {
      "application/vnd.jupyter.widget-view+json": {
       "model_id": "",
       "version_major": 2,
       "version_minor": 0
      },
      "text/plain": [
       "HBox(children=(IntProgress(value=0, max=1000), HTML(value='')))"
      ]
     },
     "metadata": {},
     "output_type": "display_data"
    },
    {
     "name": "stderr",
     "output_type": "stream",
     "text": [
      "[Parallel(n_jobs=-1)]: Using backend ThreadingBackend with 32 concurrent workers.\n",
      "[Parallel(n_jobs=-1)]: Done   8 tasks      | elapsed:    0.1s\n",
      "[Parallel(n_jobs=-1)]: Done  98 tasks      | elapsed:    0.7s\n",
      "[Parallel(n_jobs=-1)]: Done 224 tasks      | elapsed:    1.2s\n",
      "[Parallel(n_jobs=-1)]: Done 386 tasks      | elapsed:    1.9s\n",
      "[Parallel(n_jobs=-1)]: Done 584 tasks      | elapsed:    2.7s\n",
      "[Parallel(n_jobs=-1)]: Done 818 tasks      | elapsed:    3.7s\n",
      "[Parallel(n_jobs=-1)]: Done 1000 out of 1000 | elapsed:    4.3s finished\n"
     ]
    },
    {
     "data": {
      "application/vnd.jupyter.widget-view+json": {
       "model_id": "",
       "version_major": 2,
       "version_minor": 0
      },
      "text/plain": [
       "HBox(children=(IntProgress(value=0, max=1000), HTML(value='')))"
      ]
     },
     "metadata": {},
     "output_type": "display_data"
    },
    {
     "name": "stderr",
     "output_type": "stream",
     "text": [
      "[Parallel(n_jobs=-1)]: Using backend ThreadingBackend with 32 concurrent workers.\n",
      "[Parallel(n_jobs=-1)]: Done   8 tasks      | elapsed:    0.1s\n",
      "[Parallel(n_jobs=-1)]: Done  98 tasks      | elapsed:    0.4s\n",
      "[Parallel(n_jobs=-1)]: Done 224 tasks      | elapsed:    0.9s\n",
      "[Parallel(n_jobs=-1)]: Done 386 tasks      | elapsed:    1.5s\n",
      "[Parallel(n_jobs=-1)]: Done 584 tasks      | elapsed:    2.4s\n",
      "[Parallel(n_jobs=-1)]: Done 818 tasks      | elapsed:    3.3s\n",
      "[Parallel(n_jobs=-1)]: Done 1000 out of 1000 | elapsed:    3.8s finished\n"
     ]
    },
    {
     "data": {
      "application/vnd.jupyter.widget-view+json": {
       "model_id": "",
       "version_major": 2,
       "version_minor": 0
      },
      "text/plain": [
       "HBox(children=(IntProgress(value=0, max=1000), HTML(value='')))"
      ]
     },
     "metadata": {},
     "output_type": "display_data"
    },
    {
     "name": "stderr",
     "output_type": "stream",
     "text": [
      "[Parallel(n_jobs=-1)]: Using backend ThreadingBackend with 32 concurrent workers.\n",
      "[Parallel(n_jobs=-1)]: Done   8 tasks      | elapsed:    0.1s\n",
      "[Parallel(n_jobs=-1)]: Done  98 tasks      | elapsed:    0.6s\n",
      "[Parallel(n_jobs=-1)]: Done 224 tasks      | elapsed:    1.1s\n",
      "[Parallel(n_jobs=-1)]: Done 386 tasks      | elapsed:    1.8s\n",
      "[Parallel(n_jobs=-1)]: Done 584 tasks      | elapsed:    2.6s\n",
      "[Parallel(n_jobs=-1)]: Done 818 tasks      | elapsed:    3.5s\n",
      "[Parallel(n_jobs=-1)]: Done 1000 out of 1000 | elapsed:    4.0s finished\n"
     ]
    },
    {
     "data": {
      "application/vnd.jupyter.widget-view+json": {
       "model_id": "",
       "version_major": 2,
       "version_minor": 0
      },
      "text/plain": [
       "HBox(children=(IntProgress(value=0, max=1000), HTML(value='')))"
      ]
     },
     "metadata": {},
     "output_type": "display_data"
    },
    {
     "name": "stderr",
     "output_type": "stream",
     "text": [
      "[Parallel(n_jobs=-1)]: Using backend ThreadingBackend with 32 concurrent workers.\n",
      "[Parallel(n_jobs=-1)]: Done   8 tasks      | elapsed:    0.1s\n",
      "[Parallel(n_jobs=-1)]: Done  98 tasks      | elapsed:    0.4s\n",
      "[Parallel(n_jobs=-1)]: Done 224 tasks      | elapsed:    0.9s\n",
      "[Parallel(n_jobs=-1)]: Done 386 tasks      | elapsed:    1.5s\n",
      "[Parallel(n_jobs=-1)]: Done 584 tasks      | elapsed:    2.2s\n",
      "[Parallel(n_jobs=-1)]: Done 818 tasks      | elapsed:    3.1s\n",
      "[Parallel(n_jobs=-1)]: Done 1000 out of 1000 | elapsed:    3.7s finished\n"
     ]
    },
    {
     "data": {
      "application/vnd.jupyter.widget-view+json": {
       "model_id": "",
       "version_major": 2,
       "version_minor": 0
      },
      "text/plain": [
       "HBox(children=(IntProgress(value=0, max=1000), HTML(value='')))"
      ]
     },
     "metadata": {},
     "output_type": "display_data"
    },
    {
     "name": "stderr",
     "output_type": "stream",
     "text": [
      "[Parallel(n_jobs=-1)]: Using backend ThreadingBackend with 32 concurrent workers.\n",
      "[Parallel(n_jobs=-1)]: Done   8 tasks      | elapsed:    0.2s\n",
      "[Parallel(n_jobs=-1)]: Done  98 tasks      | elapsed:    0.6s\n",
      "[Parallel(n_jobs=-1)]: Done 224 tasks      | elapsed:    1.1s\n",
      "[Parallel(n_jobs=-1)]: Done 386 tasks      | elapsed:    1.8s\n",
      "[Parallel(n_jobs=-1)]: Done 584 tasks      | elapsed:    2.6s\n",
      "[Parallel(n_jobs=-1)]: Done 818 tasks      | elapsed:    3.5s\n",
      "[Parallel(n_jobs=-1)]: Done 1000 out of 1000 | elapsed:    4.0s finished\n"
     ]
    },
    {
     "data": {
      "application/vnd.jupyter.widget-view+json": {
       "model_id": "",
       "version_major": 2,
       "version_minor": 0
      },
      "text/plain": [
       "HBox(children=(IntProgress(value=0, max=1000), HTML(value='')))"
      ]
     },
     "metadata": {},
     "output_type": "display_data"
    },
    {
     "name": "stderr",
     "output_type": "stream",
     "text": [
      "[Parallel(n_jobs=-1)]: Using backend ThreadingBackend with 32 concurrent workers.\n",
      "[Parallel(n_jobs=-1)]: Done   8 tasks      | elapsed:    0.1s\n",
      "[Parallel(n_jobs=-1)]: Done  98 tasks      | elapsed:    0.4s\n",
      "[Parallel(n_jobs=-1)]: Done 224 tasks      | elapsed:    0.9s\n",
      "[Parallel(n_jobs=-1)]: Done 386 tasks      | elapsed:    1.5s\n",
      "[Parallel(n_jobs=-1)]: Done 584 tasks      | elapsed:    2.2s\n",
      "[Parallel(n_jobs=-1)]: Done 818 tasks      | elapsed:    3.2s\n",
      "[Parallel(n_jobs=-1)]: Done 1000 out of 1000 | elapsed:    3.7s finished\n"
     ]
    },
    {
     "data": {
      "application/vnd.jupyter.widget-view+json": {
       "model_id": "",
       "version_major": 2,
       "version_minor": 0
      },
      "text/plain": [
       "HBox(children=(IntProgress(value=0, max=1000), HTML(value='')))"
      ]
     },
     "metadata": {},
     "output_type": "display_data"
    },
    {
     "name": "stderr",
     "output_type": "stream",
     "text": [
      "[Parallel(n_jobs=-1)]: Using backend ThreadingBackend with 32 concurrent workers.\n",
      "[Parallel(n_jobs=-1)]: Done   8 tasks      | elapsed:    0.1s\n",
      "[Parallel(n_jobs=-1)]: Done  98 tasks      | elapsed:    0.6s\n",
      "[Parallel(n_jobs=-1)]: Done 224 tasks      | elapsed:    1.2s\n",
      "[Parallel(n_jobs=-1)]: Done 386 tasks      | elapsed:    1.8s\n",
      "[Parallel(n_jobs=-1)]: Done 584 tasks      | elapsed:    2.7s\n",
      "[Parallel(n_jobs=-1)]: Done 818 tasks      | elapsed:    3.6s\n",
      "[Parallel(n_jobs=-1)]: Done 1000 out of 1000 | elapsed:    4.1s finished\n"
     ]
    },
    {
     "data": {
      "application/vnd.jupyter.widget-view+json": {
       "model_id": "",
       "version_major": 2,
       "version_minor": 0
      },
      "text/plain": [
       "HBox(children=(IntProgress(value=0, max=1000), HTML(value='')))"
      ]
     },
     "metadata": {},
     "output_type": "display_data"
    },
    {
     "name": "stderr",
     "output_type": "stream",
     "text": [
      "[Parallel(n_jobs=-1)]: Using backend ThreadingBackend with 32 concurrent workers.\n",
      "[Parallel(n_jobs=-1)]: Done   8 tasks      | elapsed:    0.1s\n",
      "[Parallel(n_jobs=-1)]: Done  98 tasks      | elapsed:    0.4s\n",
      "[Parallel(n_jobs=-1)]: Done 224 tasks      | elapsed:    0.9s\n",
      "[Parallel(n_jobs=-1)]: Done 386 tasks      | elapsed:    1.7s\n",
      "[Parallel(n_jobs=-1)]: Done 584 tasks      | elapsed:    2.4s\n",
      "[Parallel(n_jobs=-1)]: Done 818 tasks      | elapsed:    3.4s\n",
      "[Parallel(n_jobs=-1)]: Done 1000 out of 1000 | elapsed:    3.9s finished\n"
     ]
    },
    {
     "data": {
      "application/vnd.jupyter.widget-view+json": {
       "model_id": "",
       "version_major": 2,
       "version_minor": 0
      },
      "text/plain": [
       "HBox(children=(IntProgress(value=0, max=1000), HTML(value='')))"
      ]
     },
     "metadata": {},
     "output_type": "display_data"
    },
    {
     "name": "stderr",
     "output_type": "stream",
     "text": [
      "[Parallel(n_jobs=-1)]: Using backend ThreadingBackend with 32 concurrent workers.\n",
      "[Parallel(n_jobs=-1)]: Done   8 tasks      | elapsed:    0.1s\n",
      "[Parallel(n_jobs=-1)]: Done  98 tasks      | elapsed:    0.6s\n",
      "[Parallel(n_jobs=-1)]: Done 224 tasks      | elapsed:    1.2s\n",
      "[Parallel(n_jobs=-1)]: Done 386 tasks      | elapsed:    1.9s\n",
      "[Parallel(n_jobs=-1)]: Done 584 tasks      | elapsed:    2.7s\n",
      "[Parallel(n_jobs=-1)]: Done 818 tasks      | elapsed:    3.7s\n",
      "[Parallel(n_jobs=-1)]: Done 1000 out of 1000 | elapsed:    4.2s finished\n"
     ]
    },
    {
     "data": {
      "application/vnd.jupyter.widget-view+json": {
       "model_id": "",
       "version_major": 2,
       "version_minor": 0
      },
      "text/plain": [
       "HBox(children=(IntProgress(value=0, max=1000), HTML(value='')))"
      ]
     },
     "metadata": {},
     "output_type": "display_data"
    },
    {
     "name": "stderr",
     "output_type": "stream",
     "text": [
      "[Parallel(n_jobs=-1)]: Using backend ThreadingBackend with 32 concurrent workers.\n",
      "[Parallel(n_jobs=-1)]: Done   8 tasks      | elapsed:    0.1s\n",
      "[Parallel(n_jobs=-1)]: Done  98 tasks      | elapsed:    0.4s\n",
      "[Parallel(n_jobs=-1)]: Done 224 tasks      | elapsed:    0.9s\n",
      "[Parallel(n_jobs=-1)]: Done 386 tasks      | elapsed:    1.5s\n",
      "[Parallel(n_jobs=-1)]: Done 584 tasks      | elapsed:    2.3s\n",
      "[Parallel(n_jobs=-1)]: Done 818 tasks      | elapsed:    3.1s\n",
      "[Parallel(n_jobs=-1)]: Done 1000 out of 1000 | elapsed:    3.8s finished\n"
     ]
    },
    {
     "data": {
      "application/vnd.jupyter.widget-view+json": {
       "model_id": "",
       "version_major": 2,
       "version_minor": 0
      },
      "text/plain": [
       "HBox(children=(IntProgress(value=0, max=1000), HTML(value='')))"
      ]
     },
     "metadata": {},
     "output_type": "display_data"
    },
    {
     "name": "stderr",
     "output_type": "stream",
     "text": [
      "[Parallel(n_jobs=-1)]: Using backend ThreadingBackend with 32 concurrent workers.\n",
      "[Parallel(n_jobs=-1)]: Done   8 tasks      | elapsed:    0.2s\n",
      "[Parallel(n_jobs=-1)]: Done  98 tasks      | elapsed:    0.6s\n",
      "[Parallel(n_jobs=-1)]: Done 224 tasks      | elapsed:    1.1s\n",
      "[Parallel(n_jobs=-1)]: Done 386 tasks      | elapsed:    1.8s\n",
      "[Parallel(n_jobs=-1)]: Done 584 tasks      | elapsed:    2.6s\n",
      "[Parallel(n_jobs=-1)]: Done 818 tasks      | elapsed:    3.5s\n",
      "[Parallel(n_jobs=-1)]: Done 1000 out of 1000 | elapsed:    4.1s finished\n"
     ]
    },
    {
     "data": {
      "application/vnd.jupyter.widget-view+json": {
       "model_id": "",
       "version_major": 2,
       "version_minor": 0
      },
      "text/plain": [
       "HBox(children=(IntProgress(value=0, max=1000), HTML(value='')))"
      ]
     },
     "metadata": {},
     "output_type": "display_data"
    },
    {
     "name": "stderr",
     "output_type": "stream",
     "text": [
      "[Parallel(n_jobs=-1)]: Using backend ThreadingBackend with 32 concurrent workers.\n",
      "[Parallel(n_jobs=-1)]: Done   8 tasks      | elapsed:    0.1s\n",
      "[Parallel(n_jobs=-1)]: Done  98 tasks      | elapsed:    0.4s\n",
      "[Parallel(n_jobs=-1)]: Done 224 tasks      | elapsed:    0.9s\n",
      "[Parallel(n_jobs=-1)]: Done 386 tasks      | elapsed:    1.5s\n",
      "[Parallel(n_jobs=-1)]: Done 584 tasks      | elapsed:    2.3s\n",
      "[Parallel(n_jobs=-1)]: Done 818 tasks      | elapsed:    3.3s\n",
      "[Parallel(n_jobs=-1)]: Done 1000 out of 1000 | elapsed:    3.8s finished\n"
     ]
    },
    {
     "data": {
      "application/vnd.jupyter.widget-view+json": {
       "model_id": "",
       "version_major": 2,
       "version_minor": 0
      },
      "text/plain": [
       "HBox(children=(IntProgress(value=0, max=1000), HTML(value='')))"
      ]
     },
     "metadata": {},
     "output_type": "display_data"
    },
    {
     "name": "stderr",
     "output_type": "stream",
     "text": [
      "[Parallel(n_jobs=-1)]: Using backend ThreadingBackend with 32 concurrent workers.\n",
      "[Parallel(n_jobs=-1)]: Done   8 tasks      | elapsed:    0.1s\n",
      "[Parallel(n_jobs=-1)]: Done  98 tasks      | elapsed:    0.6s\n",
      "[Parallel(n_jobs=-1)]: Done 224 tasks      | elapsed:    1.1s\n",
      "[Parallel(n_jobs=-1)]: Done 386 tasks      | elapsed:    1.8s\n",
      "[Parallel(n_jobs=-1)]: Done 584 tasks      | elapsed:    2.6s\n",
      "[Parallel(n_jobs=-1)]: Done 818 tasks      | elapsed:    3.6s\n",
      "[Parallel(n_jobs=-1)]: Done 1000 out of 1000 | elapsed:    4.1s finished\n"
     ]
    },
    {
     "data": {
      "application/vnd.jupyter.widget-view+json": {
       "model_id": "",
       "version_major": 2,
       "version_minor": 0
      },
      "text/plain": [
       "HBox(children=(IntProgress(value=0, max=1000), HTML(value='')))"
      ]
     },
     "metadata": {},
     "output_type": "display_data"
    },
    {
     "name": "stderr",
     "output_type": "stream",
     "text": [
      "[Parallel(n_jobs=-1)]: Using backend ThreadingBackend with 32 concurrent workers.\n",
      "[Parallel(n_jobs=-1)]: Done   8 tasks      | elapsed:    0.1s\n",
      "[Parallel(n_jobs=-1)]: Done  98 tasks      | elapsed:    0.4s\n",
      "[Parallel(n_jobs=-1)]: Done 224 tasks      | elapsed:    0.8s\n",
      "[Parallel(n_jobs=-1)]: Done 386 tasks      | elapsed:    1.6s\n",
      "[Parallel(n_jobs=-1)]: Done 584 tasks      | elapsed:    2.1s\n",
      "[Parallel(n_jobs=-1)]: Done 818 tasks      | elapsed:    3.1s\n",
      "[Parallel(n_jobs=-1)]: Done 1000 out of 1000 | elapsed:    3.6s finished\n"
     ]
    },
    {
     "data": {
      "application/vnd.jupyter.widget-view+json": {
       "model_id": "",
       "version_major": 2,
       "version_minor": 0
      },
      "text/plain": [
       "HBox(children=(IntProgress(value=0, max=1000), HTML(value='')))"
      ]
     },
     "metadata": {},
     "output_type": "display_data"
    },
    {
     "name": "stderr",
     "output_type": "stream",
     "text": [
      "[Parallel(n_jobs=-1)]: Using backend ThreadingBackend with 32 concurrent workers.\n",
      "[Parallel(n_jobs=-1)]: Done   8 tasks      | elapsed:    0.1s\n",
      "[Parallel(n_jobs=-1)]: Done  98 tasks      | elapsed:    0.6s\n",
      "[Parallel(n_jobs=-1)]: Done 224 tasks      | elapsed:    1.1s\n",
      "[Parallel(n_jobs=-1)]: Done 386 tasks      | elapsed:    1.7s\n",
      "[Parallel(n_jobs=-1)]: Done 584 tasks      | elapsed:    2.5s\n",
      "[Parallel(n_jobs=-1)]: Done 818 tasks      | elapsed:    3.4s\n",
      "[Parallel(n_jobs=-1)]: Done 1000 out of 1000 | elapsed:    3.9s finished\n"
     ]
    },
    {
     "data": {
      "application/vnd.jupyter.widget-view+json": {
       "model_id": "",
       "version_major": 2,
       "version_minor": 0
      },
      "text/plain": [
       "HBox(children=(IntProgress(value=0, max=1000), HTML(value='')))"
      ]
     },
     "metadata": {},
     "output_type": "display_data"
    },
    {
     "name": "stderr",
     "output_type": "stream",
     "text": [
      "[Parallel(n_jobs=-1)]: Using backend ThreadingBackend with 32 concurrent workers.\n",
      "[Parallel(n_jobs=-1)]: Done   8 tasks      | elapsed:    0.1s\n",
      "[Parallel(n_jobs=-1)]: Done  98 tasks      | elapsed:    0.4s\n",
      "[Parallel(n_jobs=-1)]: Done 224 tasks      | elapsed:    0.9s\n",
      "[Parallel(n_jobs=-1)]: Done 386 tasks      | elapsed:    1.5s\n",
      "[Parallel(n_jobs=-1)]: Done 584 tasks      | elapsed:    2.2s\n",
      "[Parallel(n_jobs=-1)]: Done 818 tasks      | elapsed:    3.3s\n",
      "[Parallel(n_jobs=-1)]: Done 1000 out of 1000 | elapsed:    3.7s finished\n"
     ]
    },
    {
     "data": {
      "application/vnd.jupyter.widget-view+json": {
       "model_id": "",
       "version_major": 2,
       "version_minor": 0
      },
      "text/plain": [
       "HBox(children=(IntProgress(value=0, max=1000), HTML(value='')))"
      ]
     },
     "metadata": {},
     "output_type": "display_data"
    },
    {
     "name": "stderr",
     "output_type": "stream",
     "text": [
      "[Parallel(n_jobs=-1)]: Using backend ThreadingBackend with 32 concurrent workers.\n",
      "[Parallel(n_jobs=-1)]: Done   8 tasks      | elapsed:    0.1s\n",
      "[Parallel(n_jobs=-1)]: Done  98 tasks      | elapsed:    0.6s\n",
      "[Parallel(n_jobs=-1)]: Done 224 tasks      | elapsed:    1.1s\n",
      "[Parallel(n_jobs=-1)]: Done 386 tasks      | elapsed:    1.8s\n",
      "[Parallel(n_jobs=-1)]: Done 584 tasks      | elapsed:    2.6s\n",
      "[Parallel(n_jobs=-1)]: Done 818 tasks      | elapsed:    3.6s\n",
      "[Parallel(n_jobs=-1)]: Done 1000 out of 1000 | elapsed:    4.1s finished\n"
     ]
    },
    {
     "data": {
      "application/vnd.jupyter.widget-view+json": {
       "model_id": "",
       "version_major": 2,
       "version_minor": 0
      },
      "text/plain": [
       "HBox(children=(IntProgress(value=0, max=1000), HTML(value='')))"
      ]
     },
     "metadata": {},
     "output_type": "display_data"
    },
    {
     "name": "stderr",
     "output_type": "stream",
     "text": [
      "[Parallel(n_jobs=-1)]: Using backend ThreadingBackend with 32 concurrent workers.\n",
      "[Parallel(n_jobs=-1)]: Done   8 tasks      | elapsed:    0.1s\n",
      "[Parallel(n_jobs=-1)]: Done  98 tasks      | elapsed:    0.4s\n",
      "[Parallel(n_jobs=-1)]: Done 224 tasks      | elapsed:    1.0s\n",
      "[Parallel(n_jobs=-1)]: Done 386 tasks      | elapsed:    1.6s\n",
      "[Parallel(n_jobs=-1)]: Done 584 tasks      | elapsed:    2.3s\n",
      "[Parallel(n_jobs=-1)]: Done 818 tasks      | elapsed:    3.1s\n",
      "[Parallel(n_jobs=-1)]: Done 1000 out of 1000 | elapsed:    3.6s finished\n"
     ]
    },
    {
     "data": {
      "application/vnd.jupyter.widget-view+json": {
       "model_id": "",
       "version_major": 2,
       "version_minor": 0
      },
      "text/plain": [
       "HBox(children=(IntProgress(value=0, max=1000), HTML(value='')))"
      ]
     },
     "metadata": {},
     "output_type": "display_data"
    },
    {
     "name": "stderr",
     "output_type": "stream",
     "text": [
      "[Parallel(n_jobs=-1)]: Using backend ThreadingBackend with 32 concurrent workers.\n",
      "[Parallel(n_jobs=-1)]: Done   8 tasks      | elapsed:    0.2s\n",
      "[Parallel(n_jobs=-1)]: Done  98 tasks      | elapsed:    0.6s\n",
      "[Parallel(n_jobs=-1)]: Done 224 tasks      | elapsed:    1.1s\n",
      "[Parallel(n_jobs=-1)]: Done 386 tasks      | elapsed:    1.7s\n",
      "[Parallel(n_jobs=-1)]: Done 584 tasks      | elapsed:    2.5s\n",
      "[Parallel(n_jobs=-1)]: Done 818 tasks      | elapsed:    3.4s\n",
      "[Parallel(n_jobs=-1)]: Done 1000 out of 1000 | elapsed:    3.9s finished\n"
     ]
    },
    {
     "data": {
      "application/vnd.jupyter.widget-view+json": {
       "model_id": "",
       "version_major": 2,
       "version_minor": 0
      },
      "text/plain": [
       "HBox(children=(IntProgress(value=0, max=1000), HTML(value='')))"
      ]
     },
     "metadata": {},
     "output_type": "display_data"
    },
    {
     "name": "stderr",
     "output_type": "stream",
     "text": [
      "[Parallel(n_jobs=-1)]: Using backend ThreadingBackend with 32 concurrent workers.\n",
      "[Parallel(n_jobs=-1)]: Done   8 tasks      | elapsed:    0.1s\n",
      "[Parallel(n_jobs=-1)]: Done  98 tasks      | elapsed:    0.4s\n",
      "[Parallel(n_jobs=-1)]: Done 224 tasks      | elapsed:    0.9s\n",
      "[Parallel(n_jobs=-1)]: Done 386 tasks      | elapsed:    1.5s\n",
      "[Parallel(n_jobs=-1)]: Done 584 tasks      | elapsed:    2.2s\n",
      "[Parallel(n_jobs=-1)]: Done 818 tasks      | elapsed:    3.1s\n",
      "[Parallel(n_jobs=-1)]: Done 1000 out of 1000 | elapsed:    3.7s finished\n"
     ]
    },
    {
     "data": {
      "application/vnd.jupyter.widget-view+json": {
       "model_id": "",
       "version_major": 2,
       "version_minor": 0
      },
      "text/plain": [
       "HBox(children=(IntProgress(value=0, max=1000), HTML(value='')))"
      ]
     },
     "metadata": {},
     "output_type": "display_data"
    },
    {
     "name": "stderr",
     "output_type": "stream",
     "text": [
      "[Parallel(n_jobs=-1)]: Using backend ThreadingBackend with 32 concurrent workers.\n",
      "[Parallel(n_jobs=-1)]: Done   8 tasks      | elapsed:    0.1s\n",
      "[Parallel(n_jobs=-1)]: Done  98 tasks      | elapsed:    0.6s\n",
      "[Parallel(n_jobs=-1)]: Done 224 tasks      | elapsed:    1.1s\n",
      "[Parallel(n_jobs=-1)]: Done 386 tasks      | elapsed:    1.8s\n",
      "[Parallel(n_jobs=-1)]: Done 584 tasks      | elapsed:    2.6s\n",
      "[Parallel(n_jobs=-1)]: Done 818 tasks      | elapsed:    3.5s\n",
      "[Parallel(n_jobs=-1)]: Done 1000 out of 1000 | elapsed:    4.0s finished\n"
     ]
    },
    {
     "data": {
      "application/vnd.jupyter.widget-view+json": {
       "model_id": "",
       "version_major": 2,
       "version_minor": 0
      },
      "text/plain": [
       "HBox(children=(IntProgress(value=0, max=1000), HTML(value='')))"
      ]
     },
     "metadata": {},
     "output_type": "display_data"
    },
    {
     "name": "stderr",
     "output_type": "stream",
     "text": [
      "[Parallel(n_jobs=-1)]: Using backend ThreadingBackend with 32 concurrent workers.\n",
      "[Parallel(n_jobs=-1)]: Done   8 tasks      | elapsed:    0.1s\n",
      "[Parallel(n_jobs=-1)]: Done  98 tasks      | elapsed:    0.4s\n",
      "[Parallel(n_jobs=-1)]: Done 224 tasks      | elapsed:    1.0s\n",
      "[Parallel(n_jobs=-1)]: Done 386 tasks      | elapsed:    1.5s\n",
      "[Parallel(n_jobs=-1)]: Done 584 tasks      | elapsed:    2.3s\n",
      "[Parallel(n_jobs=-1)]: Done 818 tasks      | elapsed:    3.3s\n",
      "[Parallel(n_jobs=-1)]: Done 1000 out of 1000 | elapsed:    3.8s finished\n"
     ]
    },
    {
     "data": {
      "application/vnd.jupyter.widget-view+json": {
       "model_id": "",
       "version_major": 2,
       "version_minor": 0
      },
      "text/plain": [
       "HBox(children=(IntProgress(value=0, max=1000), HTML(value='')))"
      ]
     },
     "metadata": {},
     "output_type": "display_data"
    },
    {
     "name": "stderr",
     "output_type": "stream",
     "text": [
      "[Parallel(n_jobs=-1)]: Using backend ThreadingBackend with 32 concurrent workers.\n",
      "[Parallel(n_jobs=-1)]: Done   8 tasks      | elapsed:    0.1s\n",
      "[Parallel(n_jobs=-1)]: Done  98 tasks      | elapsed:    0.5s\n",
      "[Parallel(n_jobs=-1)]: Done 224 tasks      | elapsed:    1.1s\n",
      "[Parallel(n_jobs=-1)]: Done 386 tasks      | elapsed:    1.8s\n",
      "[Parallel(n_jobs=-1)]: Done 584 tasks      | elapsed:    2.6s\n",
      "[Parallel(n_jobs=-1)]: Done 818 tasks      | elapsed:    3.6s\n",
      "[Parallel(n_jobs=-1)]: Done 1000 out of 1000 | elapsed:    4.1s finished\n"
     ]
    },
    {
     "data": {
      "application/vnd.jupyter.widget-view+json": {
       "model_id": "",
       "version_major": 2,
       "version_minor": 0
      },
      "text/plain": [
       "HBox(children=(IntProgress(value=0, max=1000), HTML(value='')))"
      ]
     },
     "metadata": {},
     "output_type": "display_data"
    },
    {
     "name": "stderr",
     "output_type": "stream",
     "text": [
      "[Parallel(n_jobs=-1)]: Using backend ThreadingBackend with 32 concurrent workers.\n",
      "[Parallel(n_jobs=-1)]: Done   8 tasks      | elapsed:    0.2s\n",
      "[Parallel(n_jobs=-1)]: Done  98 tasks      | elapsed:    0.6s\n",
      "[Parallel(n_jobs=-1)]: Done 224 tasks      | elapsed:    1.0s\n",
      "[Parallel(n_jobs=-1)]: Done 386 tasks      | elapsed:    1.8s\n",
      "[Parallel(n_jobs=-1)]: Done 584 tasks      | elapsed:    2.6s\n",
      "[Parallel(n_jobs=-1)]: Done 818 tasks      | elapsed:    3.4s\n",
      "[Parallel(n_jobs=-1)]: Done 1000 out of 1000 | elapsed:    4.0s finished\n"
     ]
    },
    {
     "data": {
      "application/vnd.jupyter.widget-view+json": {
       "model_id": "",
       "version_major": 2,
       "version_minor": 0
      },
      "text/plain": [
       "HBox(children=(IntProgress(value=0, max=1000), HTML(value='')))"
      ]
     },
     "metadata": {},
     "output_type": "display_data"
    },
    {
     "name": "stderr",
     "output_type": "stream",
     "text": [
      "[Parallel(n_jobs=-1)]: Using backend ThreadingBackend with 32 concurrent workers.\n",
      "[Parallel(n_jobs=-1)]: Done   8 tasks      | elapsed:    0.1s\n",
      "[Parallel(n_jobs=-1)]: Done  98 tasks      | elapsed:    0.5s\n",
      "[Parallel(n_jobs=-1)]: Done 224 tasks      | elapsed:    1.1s\n",
      "[Parallel(n_jobs=-1)]: Done 386 tasks      | elapsed:    1.8s\n",
      "[Parallel(n_jobs=-1)]: Done 584 tasks      | elapsed:    2.6s\n",
      "[Parallel(n_jobs=-1)]: Done 818 tasks      | elapsed:    3.7s\n",
      "[Parallel(n_jobs=-1)]: Done 1000 out of 1000 | elapsed:    4.2s finished\n"
     ]
    },
    {
     "data": {
      "application/vnd.jupyter.widget-view+json": {
       "model_id": "",
       "version_major": 2,
       "version_minor": 0
      },
      "text/plain": [
       "HBox(children=(IntProgress(value=0, max=1000), HTML(value='')))"
      ]
     },
     "metadata": {},
     "output_type": "display_data"
    },
    {
     "name": "stderr",
     "output_type": "stream",
     "text": [
      "[Parallel(n_jobs=-1)]: Using backend ThreadingBackend with 32 concurrent workers.\n",
      "[Parallel(n_jobs=-1)]: Done   8 tasks      | elapsed:    0.1s\n",
      "[Parallel(n_jobs=-1)]: Done  98 tasks      | elapsed:    0.4s\n",
      "[Parallel(n_jobs=-1)]: Done 224 tasks      | elapsed:    0.9s\n",
      "[Parallel(n_jobs=-1)]: Done 386 tasks      | elapsed:    1.5s\n",
      "[Parallel(n_jobs=-1)]: Done 584 tasks      | elapsed:    2.2s\n",
      "[Parallel(n_jobs=-1)]: Done 818 tasks      | elapsed:    3.0s\n",
      "[Parallel(n_jobs=-1)]: Done 1000 out of 1000 | elapsed:    3.7s finished\n"
     ]
    },
    {
     "data": {
      "application/vnd.jupyter.widget-view+json": {
       "model_id": "",
       "version_major": 2,
       "version_minor": 0
      },
      "text/plain": [
       "HBox(children=(IntProgress(value=0, max=1000), HTML(value='')))"
      ]
     },
     "metadata": {},
     "output_type": "display_data"
    },
    {
     "name": "stderr",
     "output_type": "stream",
     "text": [
      "[Parallel(n_jobs=-1)]: Using backend ThreadingBackend with 32 concurrent workers.\n",
      "[Parallel(n_jobs=-1)]: Done   8 tasks      | elapsed:    0.2s\n",
      "[Parallel(n_jobs=-1)]: Done  98 tasks      | elapsed:    0.6s\n",
      "[Parallel(n_jobs=-1)]: Done 224 tasks      | elapsed:    1.1s\n",
      "[Parallel(n_jobs=-1)]: Done 386 tasks      | elapsed:    1.8s\n",
      "[Parallel(n_jobs=-1)]: Done 584 tasks      | elapsed:    2.6s\n",
      "[Parallel(n_jobs=-1)]: Done 818 tasks      | elapsed:    3.5s\n",
      "[Parallel(n_jobs=-1)]: Done 1000 out of 1000 | elapsed:    4.0s finished\n"
     ]
    },
    {
     "data": {
      "application/vnd.jupyter.widget-view+json": {
       "model_id": "",
       "version_major": 2,
       "version_minor": 0
      },
      "text/plain": [
       "HBox(children=(IntProgress(value=0, max=1000), HTML(value='')))"
      ]
     },
     "metadata": {},
     "output_type": "display_data"
    },
    {
     "name": "stderr",
     "output_type": "stream",
     "text": [
      "[Parallel(n_jobs=-1)]: Using backend ThreadingBackend with 32 concurrent workers.\n",
      "[Parallel(n_jobs=-1)]: Done   8 tasks      | elapsed:    0.1s\n",
      "[Parallel(n_jobs=-1)]: Done  98 tasks      | elapsed:    0.5s\n",
      "[Parallel(n_jobs=-1)]: Done 224 tasks      | elapsed:    1.1s\n",
      "[Parallel(n_jobs=-1)]: Done 386 tasks      | elapsed:    1.5s\n",
      "[Parallel(n_jobs=-1)]: Done 584 tasks      | elapsed:    2.5s\n",
      "[Parallel(n_jobs=-1)]: Done 818 tasks      | elapsed:    3.2s\n",
      "[Parallel(n_jobs=-1)]: Done 1000 out of 1000 | elapsed:    3.9s finished\n"
     ]
    },
    {
     "data": {
      "application/vnd.jupyter.widget-view+json": {
       "model_id": "",
       "version_major": 2,
       "version_minor": 0
      },
      "text/plain": [
       "HBox(children=(IntProgress(value=0, max=1000), HTML(value='')))"
      ]
     },
     "metadata": {},
     "output_type": "display_data"
    },
    {
     "name": "stderr",
     "output_type": "stream",
     "text": [
      "[Parallel(n_jobs=-1)]: Using backend ThreadingBackend with 32 concurrent workers.\n",
      "[Parallel(n_jobs=-1)]: Done   9 tasks      | elapsed:    0.2s\n",
      "[Parallel(n_jobs=-1)]: Done  98 tasks      | elapsed:    0.6s\n",
      "[Parallel(n_jobs=-1)]: Done 224 tasks      | elapsed:    1.2s\n",
      "[Parallel(n_jobs=-1)]: Done 386 tasks      | elapsed:    1.8s\n",
      "[Parallel(n_jobs=-1)]: Done 584 tasks      | elapsed:    2.7s\n",
      "[Parallel(n_jobs=-1)]: Done 818 tasks      | elapsed:    3.6s\n",
      "[Parallel(n_jobs=-1)]: Done 1000 out of 1000 | elapsed:    4.2s finished\n"
     ]
    },
    {
     "data": {
      "application/vnd.jupyter.widget-view+json": {
       "model_id": "",
       "version_major": 2,
       "version_minor": 0
      },
      "text/plain": [
       "HBox(children=(IntProgress(value=0, max=1000), HTML(value='')))"
      ]
     },
     "metadata": {},
     "output_type": "display_data"
    },
    {
     "name": "stderr",
     "output_type": "stream",
     "text": [
      "[Parallel(n_jobs=-1)]: Using backend ThreadingBackend with 32 concurrent workers.\n",
      "[Parallel(n_jobs=-1)]: Done   8 tasks      | elapsed:    0.1s\n",
      "[Parallel(n_jobs=-1)]: Done  98 tasks      | elapsed:    0.4s\n",
      "[Parallel(n_jobs=-1)]: Done 224 tasks      | elapsed:    0.9s\n",
      "[Parallel(n_jobs=-1)]: Done 386 tasks      | elapsed:    1.5s\n",
      "[Parallel(n_jobs=-1)]: Done 584 tasks      | elapsed:    2.4s\n",
      "[Parallel(n_jobs=-1)]: Done 818 tasks      | elapsed:    3.3s\n",
      "[Parallel(n_jobs=-1)]: Done 1000 out of 1000 | elapsed:    3.8s finished\n"
     ]
    },
    {
     "data": {
      "application/vnd.jupyter.widget-view+json": {
       "model_id": "",
       "version_major": 2,
       "version_minor": 0
      },
      "text/plain": [
       "HBox(children=(IntProgress(value=0, max=1000), HTML(value='')))"
      ]
     },
     "metadata": {},
     "output_type": "display_data"
    },
    {
     "name": "stderr",
     "output_type": "stream",
     "text": [
      "[Parallel(n_jobs=-1)]: Using backend ThreadingBackend with 32 concurrent workers.\n",
      "[Parallel(n_jobs=-1)]: Done   8 tasks      | elapsed:    0.1s\n",
      "[Parallel(n_jobs=-1)]: Done  98 tasks      | elapsed:    0.6s\n",
      "[Parallel(n_jobs=-1)]: Done 224 tasks      | elapsed:    1.1s\n",
      "[Parallel(n_jobs=-1)]: Done 386 tasks      | elapsed:    1.8s\n",
      "[Parallel(n_jobs=-1)]: Done 584 tasks      | elapsed:    2.6s\n",
      "[Parallel(n_jobs=-1)]: Done 818 tasks      | elapsed:    3.6s\n",
      "[Parallel(n_jobs=-1)]: Done 1000 out of 1000 | elapsed:    4.1s finished\n"
     ]
    },
    {
     "data": {
      "application/vnd.jupyter.widget-view+json": {
       "model_id": "",
       "version_major": 2,
       "version_minor": 0
      },
      "text/plain": [
       "HBox(children=(IntProgress(value=0, max=1000), HTML(value='')))"
      ]
     },
     "metadata": {},
     "output_type": "display_data"
    },
    {
     "name": "stderr",
     "output_type": "stream",
     "text": [
      "[Parallel(n_jobs=-1)]: Using backend ThreadingBackend with 32 concurrent workers.\n",
      "[Parallel(n_jobs=-1)]: Done   8 tasks      | elapsed:    0.1s\n",
      "[Parallel(n_jobs=-1)]: Done  98 tasks      | elapsed:    0.4s\n",
      "[Parallel(n_jobs=-1)]: Done 224 tasks      | elapsed:    1.0s\n",
      "[Parallel(n_jobs=-1)]: Done 386 tasks      | elapsed:    1.6s\n",
      "[Parallel(n_jobs=-1)]: Done 584 tasks      | elapsed:    2.4s\n",
      "[Parallel(n_jobs=-1)]: Done 818 tasks      | elapsed:    3.1s\n",
      "[Parallel(n_jobs=-1)]: Done 1000 out of 1000 | elapsed:    3.7s finished\n"
     ]
    },
    {
     "data": {
      "application/vnd.jupyter.widget-view+json": {
       "model_id": "",
       "version_major": 2,
       "version_minor": 0
      },
      "text/plain": [
       "HBox(children=(IntProgress(value=0, max=1000), HTML(value='')))"
      ]
     },
     "metadata": {},
     "output_type": "display_data"
    },
    {
     "name": "stderr",
     "output_type": "stream",
     "text": [
      "[Parallel(n_jobs=-1)]: Using backend ThreadingBackend with 32 concurrent workers.\n",
      "[Parallel(n_jobs=-1)]: Done   8 tasks      | elapsed:    0.1s\n",
      "[Parallel(n_jobs=-1)]: Done  98 tasks      | elapsed:    0.6s\n",
      "[Parallel(n_jobs=-1)]: Done 224 tasks      | elapsed:    1.1s\n",
      "[Parallel(n_jobs=-1)]: Done 386 tasks      | elapsed:    1.8s\n",
      "[Parallel(n_jobs=-1)]: Done 584 tasks      | elapsed:    2.6s\n",
      "[Parallel(n_jobs=-1)]: Done 818 tasks      | elapsed:    3.6s\n",
      "[Parallel(n_jobs=-1)]: Done 1000 out of 1000 | elapsed:    4.1s finished\n"
     ]
    },
    {
     "data": {
      "application/vnd.jupyter.widget-view+json": {
       "model_id": "",
       "version_major": 2,
       "version_minor": 0
      },
      "text/plain": [
       "HBox(children=(IntProgress(value=0, max=1000), HTML(value='')))"
      ]
     },
     "metadata": {},
     "output_type": "display_data"
    },
    {
     "name": "stderr",
     "output_type": "stream",
     "text": [
      "[Parallel(n_jobs=-1)]: Using backend ThreadingBackend with 32 concurrent workers.\n",
      "[Parallel(n_jobs=-1)]: Done   8 tasks      | elapsed:    0.1s\n",
      "[Parallel(n_jobs=-1)]: Done  98 tasks      | elapsed:    0.4s\n",
      "[Parallel(n_jobs=-1)]: Done 224 tasks      | elapsed:    0.9s\n",
      "[Parallel(n_jobs=-1)]: Done 386 tasks      | elapsed:    1.5s\n",
      "[Parallel(n_jobs=-1)]: Done 584 tasks      | elapsed:    2.3s\n",
      "[Parallel(n_jobs=-1)]: Done 818 tasks      | elapsed:    3.0s\n",
      "[Parallel(n_jobs=-1)]: Done 1000 out of 1000 | elapsed:    3.6s finished\n"
     ]
    },
    {
     "data": {
      "application/vnd.jupyter.widget-view+json": {
       "model_id": "",
       "version_major": 2,
       "version_minor": 0
      },
      "text/plain": [
       "HBox(children=(IntProgress(value=0, max=1000), HTML(value='')))"
      ]
     },
     "metadata": {},
     "output_type": "display_data"
    },
    {
     "name": "stderr",
     "output_type": "stream",
     "text": [
      "[Parallel(n_jobs=-1)]: Using backend ThreadingBackend with 32 concurrent workers.\n",
      "[Parallel(n_jobs=-1)]: Done   8 tasks      | elapsed:    0.1s\n",
      "[Parallel(n_jobs=-1)]: Done  98 tasks      | elapsed:    0.6s\n",
      "[Parallel(n_jobs=-1)]: Done 224 tasks      | elapsed:    1.1s\n",
      "[Parallel(n_jobs=-1)]: Done 386 tasks      | elapsed:    1.8s\n",
      "[Parallel(n_jobs=-1)]: Done 584 tasks      | elapsed:    2.6s\n",
      "[Parallel(n_jobs=-1)]: Done 818 tasks      | elapsed:    3.5s\n",
      "[Parallel(n_jobs=-1)]: Done 1000 out of 1000 | elapsed:    4.0s finished\n"
     ]
    },
    {
     "data": {
      "application/vnd.jupyter.widget-view+json": {
       "model_id": "",
       "version_major": 2,
       "version_minor": 0
      },
      "text/plain": [
       "HBox(children=(IntProgress(value=0, max=1000), HTML(value='')))"
      ]
     },
     "metadata": {},
     "output_type": "display_data"
    },
    {
     "name": "stderr",
     "output_type": "stream",
     "text": [
      "[Parallel(n_jobs=-1)]: Using backend ThreadingBackend with 32 concurrent workers.\n",
      "[Parallel(n_jobs=-1)]: Done   8 tasks      | elapsed:    0.1s\n",
      "[Parallel(n_jobs=-1)]: Done  98 tasks      | elapsed:    0.4s\n",
      "[Parallel(n_jobs=-1)]: Done 224 tasks      | elapsed:    0.9s\n",
      "[Parallel(n_jobs=-1)]: Done 386 tasks      | elapsed:    1.7s\n",
      "[Parallel(n_jobs=-1)]: Done 584 tasks      | elapsed:    2.3s\n",
      "[Parallel(n_jobs=-1)]: Done 818 tasks      | elapsed:    3.3s\n",
      "[Parallel(n_jobs=-1)]: Done 1000 out of 1000 | elapsed:    3.8s finished\n"
     ]
    },
    {
     "data": {
      "application/vnd.jupyter.widget-view+json": {
       "model_id": "",
       "version_major": 2,
       "version_minor": 0
      },
      "text/plain": [
       "HBox(children=(IntProgress(value=0, max=1000), HTML(value='')))"
      ]
     },
     "metadata": {},
     "output_type": "display_data"
    },
    {
     "name": "stderr",
     "output_type": "stream",
     "text": [
      "[Parallel(n_jobs=-1)]: Using backend ThreadingBackend with 32 concurrent workers.\n",
      "[Parallel(n_jobs=-1)]: Done   8 tasks      | elapsed:    0.1s\n",
      "[Parallel(n_jobs=-1)]: Done  98 tasks      | elapsed:    0.6s\n",
      "[Parallel(n_jobs=-1)]: Done 224 tasks      | elapsed:    1.2s\n",
      "[Parallel(n_jobs=-1)]: Done 386 tasks      | elapsed:    1.8s\n",
      "[Parallel(n_jobs=-1)]: Done 584 tasks      | elapsed:    2.7s\n",
      "[Parallel(n_jobs=-1)]: Done 818 tasks      | elapsed:    3.6s\n",
      "[Parallel(n_jobs=-1)]: Done 1000 out of 1000 | elapsed:    4.1s finished\n"
     ]
    },
    {
     "data": {
      "application/vnd.jupyter.widget-view+json": {
       "model_id": "",
       "version_major": 2,
       "version_minor": 0
      },
      "text/plain": [
       "HBox(children=(IntProgress(value=0, max=1000), HTML(value='')))"
      ]
     },
     "metadata": {},
     "output_type": "display_data"
    },
    {
     "name": "stderr",
     "output_type": "stream",
     "text": [
      "[Parallel(n_jobs=-1)]: Using backend ThreadingBackend with 32 concurrent workers.\n",
      "[Parallel(n_jobs=-1)]: Done   8 tasks      | elapsed:    0.1s\n",
      "[Parallel(n_jobs=-1)]: Done  98 tasks      | elapsed:    0.4s\n",
      "[Parallel(n_jobs=-1)]: Done 224 tasks      | elapsed:    0.9s\n",
      "[Parallel(n_jobs=-1)]: Done 386 tasks      | elapsed:    1.6s\n",
      "[Parallel(n_jobs=-1)]: Done 584 tasks      | elapsed:    2.3s\n",
      "[Parallel(n_jobs=-1)]: Done 818 tasks      | elapsed:    3.2s\n",
      "[Parallel(n_jobs=-1)]: Done 1000 out of 1000 | elapsed:    3.6s finished\n"
     ]
    },
    {
     "data": {
      "application/vnd.jupyter.widget-view+json": {
       "model_id": "",
       "version_major": 2,
       "version_minor": 0
      },
      "text/plain": [
       "HBox(children=(IntProgress(value=0, max=1000), HTML(value='')))"
      ]
     },
     "metadata": {},
     "output_type": "display_data"
    },
    {
     "name": "stderr",
     "output_type": "stream",
     "text": [
      "[Parallel(n_jobs=-1)]: Using backend ThreadingBackend with 32 concurrent workers.\n",
      "[Parallel(n_jobs=-1)]: Done   8 tasks      | elapsed:    0.1s\n",
      "[Parallel(n_jobs=-1)]: Done  98 tasks      | elapsed:    0.6s\n",
      "[Parallel(n_jobs=-1)]: Done 224 tasks      | elapsed:    1.1s\n",
      "[Parallel(n_jobs=-1)]: Done 386 tasks      | elapsed:    1.7s\n",
      "[Parallel(n_jobs=-1)]: Done 584 tasks      | elapsed:    2.5s\n",
      "[Parallel(n_jobs=-1)]: Done 818 tasks      | elapsed:    3.4s\n",
      "[Parallel(n_jobs=-1)]: Done 1000 out of 1000 | elapsed:    3.9s finished\n"
     ]
    },
    {
     "data": {
      "application/vnd.jupyter.widget-view+json": {
       "model_id": "",
       "version_major": 2,
       "version_minor": 0
      },
      "text/plain": [
       "HBox(children=(IntProgress(value=0, max=1000), HTML(value='')))"
      ]
     },
     "metadata": {},
     "output_type": "display_data"
    },
    {
     "name": "stderr",
     "output_type": "stream",
     "text": [
      "[Parallel(n_jobs=-1)]: Using backend ThreadingBackend with 32 concurrent workers.\n",
      "[Parallel(n_jobs=-1)]: Done   8 tasks      | elapsed:    0.1s\n",
      "[Parallel(n_jobs=-1)]: Done  98 tasks      | elapsed:    0.4s\n",
      "[Parallel(n_jobs=-1)]: Done 224 tasks      | elapsed:    0.9s\n",
      "[Parallel(n_jobs=-1)]: Done 386 tasks      | elapsed:    1.5s\n",
      "[Parallel(n_jobs=-1)]: Done 584 tasks      | elapsed:    2.3s\n",
      "[Parallel(n_jobs=-1)]: Done 818 tasks      | elapsed:    3.3s\n",
      "[Parallel(n_jobs=-1)]: Done 1000 out of 1000 | elapsed:    3.8s finished\n"
     ]
    },
    {
     "data": {
      "application/vnd.jupyter.widget-view+json": {
       "model_id": "",
       "version_major": 2,
       "version_minor": 0
      },
      "text/plain": [
       "HBox(children=(IntProgress(value=0, max=1000), HTML(value='')))"
      ]
     },
     "metadata": {},
     "output_type": "display_data"
    },
    {
     "name": "stderr",
     "output_type": "stream",
     "text": [
      "[Parallel(n_jobs=-1)]: Using backend ThreadingBackend with 32 concurrent workers.\n",
      "[Parallel(n_jobs=-1)]: Done   8 tasks      | elapsed:    0.1s\n",
      "[Parallel(n_jobs=-1)]: Done  98 tasks      | elapsed:    0.6s\n",
      "[Parallel(n_jobs=-1)]: Done 224 tasks      | elapsed:    1.2s\n",
      "[Parallel(n_jobs=-1)]: Done 386 tasks      | elapsed:    1.8s\n",
      "[Parallel(n_jobs=-1)]: Done 584 tasks      | elapsed:    2.6s\n",
      "[Parallel(n_jobs=-1)]: Done 818 tasks      | elapsed:    3.6s\n",
      "[Parallel(n_jobs=-1)]: Done 1000 out of 1000 | elapsed:    4.1s finished\n"
     ]
    },
    {
     "data": {
      "application/vnd.jupyter.widget-view+json": {
       "model_id": "",
       "version_major": 2,
       "version_minor": 0
      },
      "text/plain": [
       "HBox(children=(IntProgress(value=0, max=1000), HTML(value='')))"
      ]
     },
     "metadata": {},
     "output_type": "display_data"
    },
    {
     "name": "stderr",
     "output_type": "stream",
     "text": [
      "[Parallel(n_jobs=-1)]: Using backend ThreadingBackend with 32 concurrent workers.\n",
      "[Parallel(n_jobs=-1)]: Done   8 tasks      | elapsed:    0.1s\n",
      "[Parallel(n_jobs=-1)]: Done  98 tasks      | elapsed:    0.4s\n",
      "[Parallel(n_jobs=-1)]: Done 224 tasks      | elapsed:    0.9s\n",
      "[Parallel(n_jobs=-1)]: Done 386 tasks      | elapsed:    1.5s\n",
      "[Parallel(n_jobs=-1)]: Done 584 tasks      | elapsed:    2.2s\n",
      "[Parallel(n_jobs=-1)]: Done 818 tasks      | elapsed:    3.1s\n",
      "[Parallel(n_jobs=-1)]: Done 1000 out of 1000 | elapsed:    3.7s finished\n"
     ]
    },
    {
     "data": {
      "application/vnd.jupyter.widget-view+json": {
       "model_id": "",
       "version_major": 2,
       "version_minor": 0
      },
      "text/plain": [
       "HBox(children=(IntProgress(value=0, max=1000), HTML(value='')))"
      ]
     },
     "metadata": {},
     "output_type": "display_data"
    },
    {
     "name": "stderr",
     "output_type": "stream",
     "text": [
      "[Parallel(n_jobs=-1)]: Using backend ThreadingBackend with 32 concurrent workers.\n",
      "[Parallel(n_jobs=-1)]: Done   8 tasks      | elapsed:    0.1s\n",
      "[Parallel(n_jobs=-1)]: Done  98 tasks      | elapsed:    0.6s\n",
      "[Parallel(n_jobs=-1)]: Done 224 tasks      | elapsed:    1.1s\n",
      "[Parallel(n_jobs=-1)]: Done 386 tasks      | elapsed:    1.8s\n",
      "[Parallel(n_jobs=-1)]: Done 584 tasks      | elapsed:    2.6s\n",
      "[Parallel(n_jobs=-1)]: Done 818 tasks      | elapsed:    3.6s\n",
      "[Parallel(n_jobs=-1)]: Done 1000 out of 1000 | elapsed:    4.1s finished\n"
     ]
    },
    {
     "data": {
      "application/vnd.jupyter.widget-view+json": {
       "model_id": "",
       "version_major": 2,
       "version_minor": 0
      },
      "text/plain": [
       "HBox(children=(IntProgress(value=0, max=1000), HTML(value='')))"
      ]
     },
     "metadata": {},
     "output_type": "display_data"
    },
    {
     "name": "stderr",
     "output_type": "stream",
     "text": [
      "[Parallel(n_jobs=-1)]: Using backend ThreadingBackend with 32 concurrent workers.\n",
      "[Parallel(n_jobs=-1)]: Done   8 tasks      | elapsed:    0.1s\n",
      "[Parallel(n_jobs=-1)]: Done  98 tasks      | elapsed:    0.4s\n",
      "[Parallel(n_jobs=-1)]: Done 224 tasks      | elapsed:    0.9s\n",
      "[Parallel(n_jobs=-1)]: Done 386 tasks      | elapsed:    1.5s\n",
      "[Parallel(n_jobs=-1)]: Done 584 tasks      | elapsed:    2.2s\n",
      "[Parallel(n_jobs=-1)]: Done 818 tasks      | elapsed:    3.3s\n",
      "[Parallel(n_jobs=-1)]: Done 1000 out of 1000 | elapsed:    3.8s finished\n"
     ]
    },
    {
     "data": {
      "application/vnd.jupyter.widget-view+json": {
       "model_id": "",
       "version_major": 2,
       "version_minor": 0
      },
      "text/plain": [
       "HBox(children=(IntProgress(value=0, max=1000), HTML(value='')))"
      ]
     },
     "metadata": {},
     "output_type": "display_data"
    },
    {
     "name": "stderr",
     "output_type": "stream",
     "text": [
      "[Parallel(n_jobs=-1)]: Using backend ThreadingBackend with 32 concurrent workers.\n",
      "[Parallel(n_jobs=-1)]: Done   8 tasks      | elapsed:    0.1s\n",
      "[Parallel(n_jobs=-1)]: Done  98 tasks      | elapsed:    0.6s\n",
      "[Parallel(n_jobs=-1)]: Done 224 tasks      | elapsed:    1.1s\n",
      "[Parallel(n_jobs=-1)]: Done 386 tasks      | elapsed:    1.8s\n",
      "[Parallel(n_jobs=-1)]: Done 584 tasks      | elapsed:    2.6s\n",
      "[Parallel(n_jobs=-1)]: Done 818 tasks      | elapsed:    3.6s\n",
      "[Parallel(n_jobs=-1)]: Done 1000 out of 1000 | elapsed:    4.1s finished\n"
     ]
    },
    {
     "data": {
      "application/vnd.jupyter.widget-view+json": {
       "model_id": "",
       "version_major": 2,
       "version_minor": 0
      },
      "text/plain": [
       "HBox(children=(IntProgress(value=0, max=1000), HTML(value='')))"
      ]
     },
     "metadata": {},
     "output_type": "display_data"
    },
    {
     "name": "stderr",
     "output_type": "stream",
     "text": [
      "[Parallel(n_jobs=-1)]: Using backend ThreadingBackend with 32 concurrent workers.\n",
      "[Parallel(n_jobs=-1)]: Done   8 tasks      | elapsed:    0.1s\n",
      "[Parallel(n_jobs=-1)]: Done  98 tasks      | elapsed:    0.4s\n",
      "[Parallel(n_jobs=-1)]: Done 224 tasks      | elapsed:    0.9s\n",
      "[Parallel(n_jobs=-1)]: Done 386 tasks      | elapsed:    1.6s\n",
      "[Parallel(n_jobs=-1)]: Done 584 tasks      | elapsed:    2.3s\n",
      "[Parallel(n_jobs=-1)]: Done 818 tasks      | elapsed:    3.2s\n",
      "[Parallel(n_jobs=-1)]: Done 1000 out of 1000 | elapsed:    3.7s finished\n"
     ]
    },
    {
     "data": {
      "application/vnd.jupyter.widget-view+json": {
       "model_id": "",
       "version_major": 2,
       "version_minor": 0
      },
      "text/plain": [
       "HBox(children=(IntProgress(value=0, max=1000), HTML(value='')))"
      ]
     },
     "metadata": {},
     "output_type": "display_data"
    },
    {
     "name": "stderr",
     "output_type": "stream",
     "text": [
      "[Parallel(n_jobs=-1)]: Using backend ThreadingBackend with 32 concurrent workers.\n",
      "[Parallel(n_jobs=-1)]: Done   8 tasks      | elapsed:    0.2s\n",
      "[Parallel(n_jobs=-1)]: Done  98 tasks      | elapsed:    0.6s\n",
      "[Parallel(n_jobs=-1)]: Done 224 tasks      | elapsed:    1.1s\n",
      "[Parallel(n_jobs=-1)]: Done 386 tasks      | elapsed:    1.7s\n",
      "[Parallel(n_jobs=-1)]: Done 584 tasks      | elapsed:    2.5s\n",
      "[Parallel(n_jobs=-1)]: Done 818 tasks      | elapsed:    3.5s\n",
      "[Parallel(n_jobs=-1)]: Done 1000 out of 1000 | elapsed:    4.0s finished\n"
     ]
    },
    {
     "data": {
      "application/vnd.jupyter.widget-view+json": {
       "model_id": "",
       "version_major": 2,
       "version_minor": 0
      },
      "text/plain": [
       "HBox(children=(IntProgress(value=0, max=1000), HTML(value='')))"
      ]
     },
     "metadata": {},
     "output_type": "display_data"
    },
    {
     "name": "stderr",
     "output_type": "stream",
     "text": [
      "[Parallel(n_jobs=-1)]: Using backend ThreadingBackend with 32 concurrent workers.\n",
      "[Parallel(n_jobs=-1)]: Done   8 tasks      | elapsed:    0.1s\n",
      "[Parallel(n_jobs=-1)]: Done  98 tasks      | elapsed:    0.4s\n",
      "[Parallel(n_jobs=-1)]: Done 224 tasks      | elapsed:    0.9s\n",
      "[Parallel(n_jobs=-1)]: Done 386 tasks      | elapsed:    1.5s\n",
      "[Parallel(n_jobs=-1)]: Done 584 tasks      | elapsed:    2.3s\n",
      "[Parallel(n_jobs=-1)]: Done 818 tasks      | elapsed:    3.1s\n",
      "[Parallel(n_jobs=-1)]: Done 1000 out of 1000 | elapsed:    3.8s finished\n"
     ]
    },
    {
     "data": {
      "application/vnd.jupyter.widget-view+json": {
       "model_id": "",
       "version_major": 2,
       "version_minor": 0
      },
      "text/plain": [
       "HBox(children=(IntProgress(value=0, max=1000), HTML(value='')))"
      ]
     },
     "metadata": {},
     "output_type": "display_data"
    },
    {
     "name": "stderr",
     "output_type": "stream",
     "text": [
      "[Parallel(n_jobs=-1)]: Using backend ThreadingBackend with 32 concurrent workers.\n",
      "[Parallel(n_jobs=-1)]: Done   8 tasks      | elapsed:    0.1s\n",
      "[Parallel(n_jobs=-1)]: Done  98 tasks      | elapsed:    0.6s\n",
      "[Parallel(n_jobs=-1)]: Done 224 tasks      | elapsed:    1.1s\n",
      "[Parallel(n_jobs=-1)]: Done 386 tasks      | elapsed:    1.8s\n",
      "[Parallel(n_jobs=-1)]: Done 584 tasks      | elapsed:    2.6s\n",
      "[Parallel(n_jobs=-1)]: Done 818 tasks      | elapsed:    3.6s\n",
      "[Parallel(n_jobs=-1)]: Done 1000 out of 1000 | elapsed:    4.1s finished\n"
     ]
    },
    {
     "data": {
      "application/vnd.jupyter.widget-view+json": {
       "model_id": "",
       "version_major": 2,
       "version_minor": 0
      },
      "text/plain": [
       "HBox(children=(IntProgress(value=0, max=1000), HTML(value='')))"
      ]
     },
     "metadata": {},
     "output_type": "display_data"
    },
    {
     "name": "stderr",
     "output_type": "stream",
     "text": [
      "[Parallel(n_jobs=-1)]: Using backend ThreadingBackend with 32 concurrent workers.\n",
      "[Parallel(n_jobs=-1)]: Done   8 tasks      | elapsed:    0.1s\n",
      "[Parallel(n_jobs=-1)]: Done  98 tasks      | elapsed:    0.4s\n",
      "[Parallel(n_jobs=-1)]: Done 224 tasks      | elapsed:    0.9s\n",
      "[Parallel(n_jobs=-1)]: Done 386 tasks      | elapsed:    1.7s\n",
      "[Parallel(n_jobs=-1)]: Done 584 tasks      | elapsed:    2.2s\n",
      "[Parallel(n_jobs=-1)]: Done 818 tasks      | elapsed:    3.3s\n",
      "[Parallel(n_jobs=-1)]: Done 1000 out of 1000 | elapsed:    3.8s finished\n"
     ]
    },
    {
     "data": {
      "application/vnd.jupyter.widget-view+json": {
       "model_id": "",
       "version_major": 2,
       "version_minor": 0
      },
      "text/plain": [
       "HBox(children=(IntProgress(value=0, max=1000), HTML(value='')))"
      ]
     },
     "metadata": {},
     "output_type": "display_data"
    },
    {
     "name": "stderr",
     "output_type": "stream",
     "text": [
      "[Parallel(n_jobs=-1)]: Using backend ThreadingBackend with 32 concurrent workers.\n",
      "[Parallel(n_jobs=-1)]: Done   8 tasks      | elapsed:    0.1s\n",
      "[Parallel(n_jobs=-1)]: Done  98 tasks      | elapsed:    0.6s\n",
      "[Parallel(n_jobs=-1)]: Done 224 tasks      | elapsed:    1.2s\n",
      "[Parallel(n_jobs=-1)]: Done 386 tasks      | elapsed:    1.8s\n",
      "[Parallel(n_jobs=-1)]: Done 584 tasks      | elapsed:    2.7s\n",
      "[Parallel(n_jobs=-1)]: Done 818 tasks      | elapsed:    3.6s\n",
      "[Parallel(n_jobs=-1)]: Done 1000 out of 1000 | elapsed:    4.1s finished\n"
     ]
    },
    {
     "data": {
      "application/vnd.jupyter.widget-view+json": {
       "model_id": "",
       "version_major": 2,
       "version_minor": 0
      },
      "text/plain": [
       "HBox(children=(IntProgress(value=0, max=1000), HTML(value='')))"
      ]
     },
     "metadata": {},
     "output_type": "display_data"
    },
    {
     "name": "stderr",
     "output_type": "stream",
     "text": [
      "[Parallel(n_jobs=-1)]: Using backend ThreadingBackend with 32 concurrent workers.\n",
      "[Parallel(n_jobs=-1)]: Done   8 tasks      | elapsed:    0.1s\n",
      "[Parallel(n_jobs=-1)]: Done  98 tasks      | elapsed:    0.5s\n",
      "[Parallel(n_jobs=-1)]: Done 224 tasks      | elapsed:    0.9s\n",
      "[Parallel(n_jobs=-1)]: Done 386 tasks      | elapsed:    1.6s\n",
      "[Parallel(n_jobs=-1)]: Done 584 tasks      | elapsed:    2.2s\n",
      "[Parallel(n_jobs=-1)]: Done 818 tasks      | elapsed:    3.0s\n",
      "[Parallel(n_jobs=-1)]: Done 1000 out of 1000 | elapsed:    3.6s finished\n"
     ]
    },
    {
     "data": {
      "application/vnd.jupyter.widget-view+json": {
       "model_id": "",
       "version_major": 2,
       "version_minor": 0
      },
      "text/plain": [
       "HBox(children=(IntProgress(value=0, max=1000), HTML(value='')))"
      ]
     },
     "metadata": {},
     "output_type": "display_data"
    },
    {
     "name": "stderr",
     "output_type": "stream",
     "text": [
      "[Parallel(n_jobs=-1)]: Using backend ThreadingBackend with 32 concurrent workers.\n",
      "[Parallel(n_jobs=-1)]: Done   8 tasks      | elapsed:    0.1s\n",
      "[Parallel(n_jobs=-1)]: Done  98 tasks      | elapsed:    0.6s\n",
      "[Parallel(n_jobs=-1)]: Done 224 tasks      | elapsed:    1.1s\n",
      "[Parallel(n_jobs=-1)]: Done 386 tasks      | elapsed:    1.7s\n",
      "[Parallel(n_jobs=-1)]: Done 584 tasks      | elapsed:    2.5s\n",
      "[Parallel(n_jobs=-1)]: Done 818 tasks      | elapsed:    3.5s\n"
     ]
    },
    {
     "name": "stdout",
     "output_type": "stream",
     "text": [
      "\n"
     ]
    },
    {
     "name": "stderr",
     "output_type": "stream",
     "text": [
      "[Parallel(n_jobs=-1)]: Done 1000 out of 1000 | elapsed:    4.0s finished\n"
     ]
    }
   ],
   "source": [
    "nex = 50\n",
    "MI_DFs = []\n",
    "for idx, row in tqdm(bout_df.sort_values(by=['bout_lens'], ascending=False)[:nex].iterrows(), total=nex):\n",
    "    seq = row.bouts\n",
    "    (MI, MI_var), (shuff_MI, shuff_MI_var) = mi.sequential_mutual_information(\n",
    "        [remove_repeats(seq)], distances=distances, n_jobs=-1, estimate=True\n",
    "    )\n",
    "    \n",
    "    MI_DF1 = pd.DataFrame(\n",
    "        [[MI, MI_var, shuff_MI, shuff_MI_var, distances, row.condition, row.bout_lens]],\n",
    "        columns=[\"MI\", \"MI_var\", \"shuff_MI\", \"shuff_MI_var\", \"distances\", \"condition\", \"bout_len\"],\n",
    "    )\n",
    "    MI_DFs.append(MI_DF1)\n",
    "MI_DF_longest = pd.concat(MI_DFs)"
   ]
  },
  {
   "cell_type": "code",
   "execution_count": 31,
   "metadata": {
    "ExecuteTime": {
     "end_time": "2020-01-06T22:10:23.728935Z",
     "start_time": "2020-01-06T22:10:23.419435Z"
    }
   },
   "outputs": [
    {
     "data": {
      "text/html": [
       "<div>\n",
       "<style scoped>\n",
       "    .dataframe tbody tr th:only-of-type {\n",
       "        vertical-align: middle;\n",
       "    }\n",
       "\n",
       "    .dataframe tbody tr th {\n",
       "        vertical-align: top;\n",
       "    }\n",
       "\n",
       "    .dataframe thead th {\n",
       "        text-align: right;\n",
       "    }\n",
       "</style>\n",
       "<table border=\"1\" class=\"dataframe\">\n",
       "  <thead>\n",
       "    <tr style=\"text-align: right;\">\n",
       "      <th></th>\n",
       "      <th>MI</th>\n",
       "      <th>MI_var</th>\n",
       "      <th>shuff_MI</th>\n",
       "      <th>shuff_MI_var</th>\n",
       "      <th>distances</th>\n",
       "      <th>condition</th>\n",
       "      <th>bout_len</th>\n",
       "    </tr>\n",
       "  </thead>\n",
       "  <tbody>\n",
       "    <tr>\n",
       "      <th>0</th>\n",
       "      <td>[4.264652049488794, 4.032833268720761, 3.97823...</td>\n",
       "      <td>[0.042048957289041226, 0.04176368410968221, 0....</td>\n",
       "      <td>[3.9364894920076043, 3.938463024170309, 3.9373...</td>\n",
       "      <td>[0.04164454864941822, 0.041914373053890175, 0....</td>\n",
       "      <td>[1, 2, 3, 4, 5, 6, 7, 8, 9, 10, 11, 12, 13, 14...</td>\n",
       "      <td>PreyCaptureExpTu</td>\n",
       "      <td>10539</td>\n",
       "    </tr>\n",
       "    <tr>\n",
       "      <th>0</th>\n",
       "      <td>[4.169567544973178, 3.946277311538317, 3.91747...</td>\n",
       "      <td>[0.04421004200719924, 0.043688129727450536, 0....</td>\n",
       "      <td>[3.9112973093995986, 3.9140953399024703, 3.911...</td>\n",
       "      <td>[0.043926707823739926, 0.043541493620867414, 0...</td>\n",
       "      <td>[1, 2, 3, 4, 5, 6, 7, 8, 9, 10, 11, 12, 13, 14...</td>\n",
       "      <td>PreyCaptureExpTu</td>\n",
       "      <td>9260</td>\n",
       "    </tr>\n",
       "    <tr>\n",
       "      <th>0</th>\n",
       "      <td>[4.183013511698773, 3.926281907984448, 3.89161...</td>\n",
       "      <td>[0.04786305983868839, 0.04754229067736407, 0.0...</td>\n",
       "      <td>[3.8717409963535907, 3.8739159330847306, 3.875...</td>\n",
       "      <td>[0.047731452396709145, 0.04795874921035011, 0....</td>\n",
       "      <td>[1, 2, 3, 4, 5, 6, 7, 8, 9, 10, 11, 12, 13, 14...</td>\n",
       "      <td>PreyCaptureNaiveTu</td>\n",
       "      <td>9254</td>\n",
       "    </tr>\n",
       "    <tr>\n",
       "      <th>0</th>\n",
       "      <td>[4.14932865868686, 3.929049893514782, 3.908833...</td>\n",
       "      <td>[0.03882365217056434, 0.03888323028688894, 0.0...</td>\n",
       "      <td>[3.901929278739594, 3.9006744978285184, 3.9006...</td>\n",
       "      <td>[0.03816287150418258, 0.03830800254378042, 0.0...</td>\n",
       "      <td>[1, 2, 3, 4, 5, 6, 7, 8, 9, 10, 11, 12, 13, 14...</td>\n",
       "      <td>PreyCaptureSmallRotTuWithRot</td>\n",
       "      <td>8820</td>\n",
       "    </tr>\n",
       "    <tr>\n",
       "      <th>0</th>\n",
       "      <td>[4.129459069019715, 3.889554190589057, 3.84991...</td>\n",
       "      <td>[0.03525374547129882, 0.03508958100275208, 0.0...</td>\n",
       "      <td>[3.8330755820856925, 3.8312948679367507, 3.832...</td>\n",
       "      <td>[0.03561259915283093, 0.03486821299084092, 0.0...</td>\n",
       "      <td>[1, 2, 3, 4, 5, 6, 7, 8, 9, 10, 11, 12, 13, 14...</td>\n",
       "      <td>PreyCaptureExpTu</td>\n",
       "      <td>8465</td>\n",
       "    </tr>\n",
       "  </tbody>\n",
       "</table>\n",
       "</div>"
      ],
      "text/plain": [
       "                                                  MI  \\\n",
       "0  [4.264652049488794, 4.032833268720761, 3.97823...   \n",
       "0  [4.169567544973178, 3.946277311538317, 3.91747...   \n",
       "0  [4.183013511698773, 3.926281907984448, 3.89161...   \n",
       "0  [4.14932865868686, 3.929049893514782, 3.908833...   \n",
       "0  [4.129459069019715, 3.889554190589057, 3.84991...   \n",
       "\n",
       "                                              MI_var  \\\n",
       "0  [0.042048957289041226, 0.04176368410968221, 0....   \n",
       "0  [0.04421004200719924, 0.043688129727450536, 0....   \n",
       "0  [0.04786305983868839, 0.04754229067736407, 0.0...   \n",
       "0  [0.03882365217056434, 0.03888323028688894, 0.0...   \n",
       "0  [0.03525374547129882, 0.03508958100275208, 0.0...   \n",
       "\n",
       "                                            shuff_MI  \\\n",
       "0  [3.9364894920076043, 3.938463024170309, 3.9373...   \n",
       "0  [3.9112973093995986, 3.9140953399024703, 3.911...   \n",
       "0  [3.8717409963535907, 3.8739159330847306, 3.875...   \n",
       "0  [3.901929278739594, 3.9006744978285184, 3.9006...   \n",
       "0  [3.8330755820856925, 3.8312948679367507, 3.832...   \n",
       "\n",
       "                                        shuff_MI_var  \\\n",
       "0  [0.04164454864941822, 0.041914373053890175, 0....   \n",
       "0  [0.043926707823739926, 0.043541493620867414, 0...   \n",
       "0  [0.047731452396709145, 0.04795874921035011, 0....   \n",
       "0  [0.03816287150418258, 0.03830800254378042, 0.0...   \n",
       "0  [0.03561259915283093, 0.03486821299084092, 0.0...   \n",
       "\n",
       "                                           distances  \\\n",
       "0  [1, 2, 3, 4, 5, 6, 7, 8, 9, 10, 11, 12, 13, 14...   \n",
       "0  [1, 2, 3, 4, 5, 6, 7, 8, 9, 10, 11, 12, 13, 14...   \n",
       "0  [1, 2, 3, 4, 5, 6, 7, 8, 9, 10, 11, 12, 13, 14...   \n",
       "0  [1, 2, 3, 4, 5, 6, 7, 8, 9, 10, 11, 12, 13, 14...   \n",
       "0  [1, 2, 3, 4, 5, 6, 7, 8, 9, 10, 11, 12, 13, 14...   \n",
       "\n",
       "                      condition  bout_len  \n",
       "0              PreyCaptureExpTu     10539  \n",
       "0              PreyCaptureExpTu      9260  \n",
       "0            PreyCaptureNaiveTu      9254  \n",
       "0  PreyCaptureSmallRotTuWithRot      8820  \n",
       "0              PreyCaptureExpTu      8465  "
      ]
     },
     "execution_count": 31,
     "metadata": {},
     "output_type": "execute_result"
    }
   ],
   "source": [
    "MI_DF_longest[:5]"
   ]
  },
  {
   "cell_type": "code",
   "execution_count": 33,
   "metadata": {},
   "outputs": [
    {
     "data": {
      "text/plain": [
       "array(['PreyCaptureExpTu', 'PreyCaptureNaiveTu',\n",
       "       'PreyCaptureSmallRotTuWithRot', 'PreyCaptureNaiveTu2',\n",
       "       'DarkLightTransitions', 'PreyCaptureExpTu2',\n",
       "       'LoomingDifferentDirections'], dtype=object)"
      ]
     },
     "execution_count": 33,
     "metadata": {},
     "output_type": "execute_result"
    }
   ],
   "source": [
    "MI_DF_longest.condition.unique()"
   ]
  },
  {
   "cell_type": "code",
   "execution_count": 32,
   "metadata": {
    "ExecuteTime": {
     "end_time": "2020-01-06T22:41:19.143199Z",
     "start_time": "2020-01-06T22:40:39.983324Z"
    }
   },
   "outputs": [
    {
     "data": {
      "application/vnd.jupyter.widget-view+json": {
       "model_id": "9a1c76c8fb9a419e8981817226934ec1",
       "version_major": 2,
       "version_minor": 0
      },
      "text/plain": [
       "HBox(children=(IntProgress(value=1, bar_style='info', max=1), HTML(value='')))"
      ]
     },
     "metadata": {},
     "output_type": "display_data"
    },
    {
     "name": "stdout",
     "output_type": "stream",
     "text": [
      "\n"
     ]
    },
    {
     "data": {
      "image/png": "[encoded data removed]",
      "text/plain": [
       "<Figure size 2160x1800 with 56 Axes>"
      ]
     },
     "metadata": {
      "needs_background": "light"
     },
     "output_type": "display_data"
    }
   ],
   "source": [
    "fig, axs = plt.subplots(ncols = 8, nrows=7, figsize = (30,25))\n",
    "for ri, (idx, row) in tqdm(enumerate(MI_DF_longest.iterrows())):\n",
    "    ax = axs.flatten()[ri]\n",
    "    MI = row.MI-row.shuff_MI\n",
    "    MI_var = row.MI_var\n",
    "    ax.set_title(row.condition)\n",
    "    ax.scatter(distances, MI, alpha=0.75, s=10)\n",
    "    #ax.fill_between(distances, MI-MI_var, MI+MI_var, alpha = 0.25, color= 'k')\n",
    "    ax.set_ylim([1e-5, 3])\n",
    "    ax.set_yscale('log')\n",
    "    ax.set_xscale('log')"
   ]
  },
  {
   "cell_type": "code",
   "execution_count": null,
   "metadata": {},
   "outputs": [],
   "source": [
    "MI_DF_longest.to_pickle(DATA_DIR / \"mi\" / \"zebra_fish_longest_seqs.pickle\")"
   ]
  }
 ],
 "metadata": {
  "kernelspec": {
   "display_name": "Python 3",
   "language": "python",
   "name": "python3"
  },
  "language_info": {
   "codemirror_mode": {
    "name": "ipython",
    "version": 3
   },
   "file_extension": ".py",
   "mimetype": "text/x-python",
   "name": "python",
   "nbconvert_exporter": "python",
   "pygments_lexer": "ipython3",
   "version": "3.6.7"
  }
 },
 "nbformat": 4,
 "nbformat_minor": 2
}
