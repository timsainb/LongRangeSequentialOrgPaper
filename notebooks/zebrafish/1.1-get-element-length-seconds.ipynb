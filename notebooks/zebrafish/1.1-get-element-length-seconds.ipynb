{
 "cells": [
  {
   "cell_type": "markdown",
   "metadata": {
    "ExecuteTime": {
     "end_time": "2019-08-19T18:50:36.469161Z",
     "start_time": "2019-08-19T18:50:35.908280Z"
    }
   },
   "source": [
    "BoutInf (nBoutsx18):\n",
    "- Columns 1 and 2: the start and end of the bout data in the continuous data variables\n",
    "- Column 3: Number indicating the stimulus being shown during that bout\n",
    "- Column 4: Original frame start number (allows actual timing of bout to be known, given 700 Hz frame rate)\n",
    "- Columns 5:7 Pre-bout x, y position and theta in pixels and radians (???)\n",
    "- Column 8: Eye Convergence during bout (2: converged; 1: not converged)\n",
    "- Column 9: Change in eye convergence angle (degrees) during bout\n",
    "- Column 10: Assigned eye convergence category (1=converge during  bout; 2=not converged ;  3=converged; 4=diverge during bout)\n",
    "- Column 11: Bout category assigned using the scheme in Marques et al. 2018 (1=SCS; 2=LCS; 3=BS; 4=O-bend; 5=J-turn; 6=SLC; 7=S1; 8=RT; 9=S2; 10=LLC; 11=AS; 12=SAT; 13=HAT)"
   ]
  },
  {
   "cell_type": "code",
   "execution_count": 39,
   "metadata": {
    "ExecuteTime": {
     "end_time": "2019-09-25T18:22:09.649363Z",
     "start_time": "2019-09-25T18:22:09.600941Z"
    }
   },
   "outputs": [
    {
     "name": "stdout",
     "output_type": "stream",
     "text": [
      "The autoreload extension is already loaded. To reload it, use:\n",
      "  %reload_ext autoreload\n"
     ]
    }
   ],
   "source": [
    "%load_ext autoreload\n",
    "%autoreload 2"
   ]
  },
  {
   "cell_type": "code",
   "execution_count": 40,
   "metadata": {
    "ExecuteTime": {
     "end_time": "2019-09-25T18:22:09.779036Z",
     "start_time": "2019-09-25T18:22:09.735913Z"
    }
   },
   "outputs": [],
   "source": [
    "from childes_mi.utils.paths import DATA_DIR, ensure_dir, ZEBRAFISH_DIR\n",
    "import urllib.request"
   ]
  },
  {
   "cell_type": "code",
   "execution_count": 41,
   "metadata": {
    "ExecuteTime": {
     "end_time": "2019-09-25T18:22:09.898988Z",
     "start_time": "2019-09-25T18:22:09.856322Z"
    }
   },
   "outputs": [],
   "source": [
    "from tqdm.autonotebook import tqdm\n",
    "import h5py\n",
    "import numpy as np\n",
    "import scipy.io\n",
    "import matplotlib.pyplot as plt\n",
    "import pandas as pd"
   ]
  },
  {
   "cell_type": "code",
   "execution_count": 42,
   "metadata": {
    "ExecuteTime": {
     "end_time": "2019-09-25T18:22:10.097591Z",
     "start_time": "2019-09-25T18:22:09.999622Z"
    }
   },
   "outputs": [],
   "source": [
    "mat_files = list(ZEBRAFISH_DIR.glob('**/*.mat'))"
   ]
  },
  {
   "cell_type": "code",
   "execution_count": 43,
   "metadata": {
    "ExecuteTime": {
     "end_time": "2019-09-25T18:22:10.184946Z",
     "start_time": "2019-09-25T18:22:10.141947Z"
    }
   },
   "outputs": [
    {
     "data": {
      "text/plain": [
       "PosixPath('/mnt/cube/tsainbur/Projects/github_repos/childes_mi_project/data/raw/ZEBRAFISH_Data_Dir/3minLightDark/3minLightDark2/3minLightDark200004.mat')"
      ]
     },
     "execution_count": 43,
     "metadata": {},
     "output_type": "execute_result"
    }
   ],
   "source": [
    "mat_files[0]"
   ]
  },
  {
   "cell_type": "code",
   "execution_count": 44,
   "metadata": {
    "ExecuteTime": {
     "end_time": "2019-09-25T18:22:10.347884Z",
     "start_time": "2019-09-25T18:22:10.306315Z"
    }
   },
   "outputs": [
    {
     "data": {
      "text/plain": [
       "184"
      ]
     },
     "execution_count": 44,
     "metadata": {},
     "output_type": "execute_result"
    }
   ],
   "source": [
    "len(mat_files)"
   ]
  },
  {
   "cell_type": "code",
   "execution_count": 45,
   "metadata": {
    "ExecuteTime": {
     "end_time": "2019-09-25T18:25:07.239369Z",
     "start_time": "2019-09-25T18:22:10.624567Z"
    }
   },
   "outputs": [
    {
     "data": {
      "application/vnd.jupyter.widget-view+json": {
       "model_id": "195b700d74084042a5af0d8b99ce4ec9",
       "version_major": 2,
       "version_minor": 0
      },
      "text/plain": [
       "HBox(children=(IntProgress(value=0, max=184), HTML(value='')))"
      ]
     },
     "metadata": {},
     "output_type": "display_data"
    },
    {
     "name": "stdout",
     "output_type": "stream",
     "text": [
      "\n"
     ]
    }
   ],
   "source": [
    "bout_df = pd.DataFrame(columns = ['mat_loc', 'bouts', 'bout_lens', 'bout_len_seconds'])\n",
    "for mfi, mat_file in enumerate(tqdm(mat_files)):\n",
    "    ds = scipy.io.loadmat(mat_file.as_posix())\n",
    "    BoutInf = ds['boutStructure'][0][0][0]\n",
    "    bout_category = BoutInf[:,-1].astype('int')\n",
    "    bout_len_seconds = ((BoutInf[:,3][-1] - BoutInf[:,3][0])) / framerate\n",
    "    bout_df.loc[len(bout_df)] = [mat_file.as_posix(), bout_category, len(bout_category), bout_len_seconds]"
   ]
  },
  {
   "cell_type": "markdown",
   "metadata": {},
   "source": [
    "### Element length in seconds"
   ]
  },
  {
   "cell_type": "code",
   "execution_count": 51,
   "metadata": {
    "ExecuteTime": {
     "end_time": "2019-09-25T18:31:55.379624Z",
     "start_time": "2019-09-25T18:31:55.328938Z"
    }
   },
   "outputs": [
    {
     "data": {
      "text/plain": [
       "[0.9033980651083963, 0.832541845075905, 1.5650579796772266]"
      ]
     },
     "execution_count": 51,
     "metadata": {},
     "output_type": "execute_result"
    }
   ],
   "source": [
    "seconds_per_bout = list(bout_df.bout_len_seconds.values / bout_df.bout_lens.values)\n",
    "seconds_per_bout[:3]"
   ]
  },
  {
   "cell_type": "code",
   "execution_count": 52,
   "metadata": {
    "ExecuteTime": {
     "end_time": "2019-09-25T18:31:57.097193Z",
     "start_time": "2019-09-25T18:31:56.791762Z"
    }
   },
   "outputs": [
    {
     "data": {
      "text/plain": [
       "(array([47., 61., 34., 26.,  6.,  3.,  1.,  0.,  3.,  3.]),\n",
       " array([0.52036282, 0.86831461, 1.21626641, 1.5642182 , 1.91216999,\n",
       "        2.26012178, 2.60807357, 2.95602537, 3.30397716, 3.65192895,\n",
       "        3.99988074]),\n",
       " <a list of 10 Patch objects>)"
      ]
     },
     "execution_count": 52,
     "metadata": {},
     "output_type": "execute_result"
    },
    {
     "data": {
      "image/png": "[encoded data removed]",
      "text/plain": [
       "<Figure size 432x288 with 1 Axes>"
      ]
     },
     "metadata": {
      "needs_background": "light"
     },
     "output_type": "display_data"
    }
   ],
   "source": [
    "plt.hist(seconds_per_bout)"
   ]
  },
  {
   "cell_type": "code",
   "execution_count": 54,
   "metadata": {
    "ExecuteTime": {
     "end_time": "2019-09-25T18:32:11.209860Z",
     "start_time": "2019-09-25T18:32:11.159872Z"
    }
   },
   "outputs": [
    {
     "data": {
      "text/plain": [
       "21.350781340732443"
      ]
     },
     "execution_count": 54,
     "metadata": {},
     "output_type": "execute_result"
    }
   ],
   "source": [
    "# minutes\n",
    "(np.mean(seconds_per_bout)*1000)/60"
   ]
  },
  {
   "cell_type": "code",
   "execution_count": null,
   "metadata": {},
   "outputs": [],
   "source": []
  }
 ],
 "metadata": {
  "kernelspec": {
   "display_name": "Python 3",
   "language": "python",
   "name": "python3"
  },
  "language_info": {
   "codemirror_mode": {
    "name": "ipython",
    "version": 3
   },
   "file_extension": ".py",
   "mimetype": "text/x-python",
   "name": "python",
   "nbconvert_exporter": "python",
   "pygments_lexer": "ipython3",
   "version": "3.6.7"
  }
 },
 "nbformat": 4,
 "nbformat_minor": 2
}
