{
 "cells": [
  {
   "cell_type": "markdown",
   "metadata": {
    "ExecuteTime": {
     "end_time": "2019-08-19T18:50:36.469161Z",
     "start_time": "2019-08-19T18:50:35.908280Z"
    }
   },
   "source": [
    "BoutInf (nBoutsx18):\n",
    "- Columns 1 and 2: the start and end of the bout data in the continuous data variables\n",
    "- Column 3: Number indicating the stimulus being shown during that bout\n",
    "- Column 4: Original frame start number (allows actual timing of bout to be known, given 700 Hz frame rate)\n",
    "- Columns 5:7 Pre-bout x, y position and theta in pixels and radians (???)\n",
    "- Column 8: Eye Convergence during bout (2: converged; 1: not converged)\n",
    "- Column 9: Change in eye convergence angle (degrees) during bout\n",
    "- Column 10: Assigned eye convergence category (1=converge during  bout; 2=not converged ;  3=converged; 4=diverge during bout)\n",
    "- Column 11: Bout category assigned using the scheme in Marques et al. 2018 (1=SCS; 2=LCS; 3=BS; 4=O-bend; 5=J-turn; 6=SLC; 7=S1; 8=RT; 9=S2; 10=LLC; 11=AS; 12=SAT; 13=HAT)"
   ]
  },
  {
   "cell_type": "code",
   "execution_count": 1,
   "metadata": {
    "ExecuteTime": {
     "end_time": "2020-01-06T18:21:02.583268Z",
     "start_time": "2020-01-06T18:21:02.545921Z"
    }
   },
   "outputs": [],
   "source": [
    "%load_ext autoreload\n",
    "%autoreload 2"
   ]
  },
  {
   "cell_type": "code",
   "execution_count": 2,
   "metadata": {
    "ExecuteTime": {
     "end_time": "2020-01-06T18:21:02.793071Z",
     "start_time": "2020-01-06T18:21:02.745732Z"
    }
   },
   "outputs": [
    {
     "data": {
      "text/plain": [
       "PosixPath('/mnt/cube/tsainbur/Projects/github_repos/childes_mi_project/data/raw/ZEBRAFISH_Data_Dir')"
      ]
     },
     "execution_count": 2,
     "metadata": {},
     "output_type": "execute_result"
    }
   ],
   "source": [
    "from childes_mi.utils.paths import DATA_DIR, ensure_dir, ZEBRAFISH_DIR\n",
    "import urllib.request\n",
    "ZEBRAFISH_DIR"
   ]
  },
  {
   "cell_type": "code",
   "execution_count": 3,
   "metadata": {
    "ExecuteTime": {
     "end_time": "2020-01-06T18:28:38.048177Z",
     "start_time": "2020-01-06T18:28:37.893128Z"
    }
   },
   "outputs": [
    {
     "name": "stderr",
     "output_type": "stream",
     "text": [
      "/mnt/cube/tsainbur/conda_envs/tpy3/lib/python3.6/site-packages/tqdm/autonotebook/__init__.py:14: TqdmExperimentalWarning: Using `tqdm.autonotebook.tqdm` in notebook mode. Use `tqdm.tqdm` instead to force console mode (e.g. in jupyter console)\n",
      "  \" (e.g. in jupyter console)\", TqdmExperimentalWarning)\n"
     ]
    }
   ],
   "source": [
    "from tqdm.autonotebook import tqdm\n",
    "import h5py\n",
    "import numpy as np\n",
    "import scipy.io\n",
    "import matplotlib.pyplot as plt\n",
    "import pandas as pd"
   ]
  },
  {
   "cell_type": "code",
   "execution_count": 4,
   "metadata": {
    "ExecuteTime": {
     "end_time": "2020-01-06T18:21:05.179671Z",
     "start_time": "2020-01-06T18:21:05.096946Z"
    }
   },
   "outputs": [],
   "source": [
    "mat_files = list(ZEBRAFISH_DIR.glob('**/*.mat'))"
   ]
  },
  {
   "cell_type": "code",
   "execution_count": 5,
   "metadata": {
    "ExecuteTime": {
     "end_time": "2020-01-06T18:21:08.451410Z",
     "start_time": "2020-01-06T18:21:08.299700Z"
    }
   },
   "outputs": [
    {
     "data": {
      "text/plain": [
       "650"
      ]
     },
     "execution_count": 5,
     "metadata": {},
     "output_type": "execute_result"
    }
   ],
   "source": [
    "len(mat_files)"
   ]
  },
  {
   "cell_type": "code",
   "execution_count": 6,
   "metadata": {
    "ExecuteTime": {
     "end_time": "2020-01-06T18:21:08.893220Z",
     "start_time": "2020-01-06T18:21:08.855119Z"
    }
   },
   "outputs": [
    {
     "data": {
      "text/plain": [
       "PosixPath('/mnt/cube/tsainbur/Projects/github_repos/childes_mi_project/data/raw/ZEBRAFISH_Data_Dir/Phototaxis/Phototaxis4/Phototaxis400004.mat')"
      ]
     },
     "execution_count": 6,
     "metadata": {},
     "output_type": "execute_result"
    }
   ],
   "source": [
    "mat_files[0]"
   ]
  },
  {
   "cell_type": "code",
   "execution_count": 7,
   "metadata": {
    "ExecuteTime": {
     "end_time": "2020-01-06T18:25:59.538696Z",
     "start_time": "2020-01-06T18:21:09.337998Z"
    }
   },
   "outputs": [
    {
     "data": {
      "application/vnd.jupyter.widget-view+json": {
       "model_id": "57fe84ecd0fe41eba624c0d1af2740d1",
       "version_major": 2,
       "version_minor": 0
      },
      "text/plain": [
       "HBox(children=(IntProgress(value=0, max=650), HTML(value='')))"
      ]
     },
     "metadata": {},
     "output_type": "display_data"
    },
    {
     "name": "stdout",
     "output_type": "stream",
     "text": [
      "\n"
     ]
    }
   ],
   "source": [
    "bout_df = pd.DataFrame(columns = ['mat_loc', 'bouts', 'bout_lens'])\n",
    "for mfi, mat_file in enumerate(tqdm(mat_files)):\n",
    "    ds = scipy.io.loadmat(mat_file.as_posix())\n",
    "    BoutInf = ds['boutStructure'][0][0][0]\n",
    "    bout_category = BoutInf[:,-1].astype('int')\n",
    "    bout_df.loc[len(bout_df)] = [mat_file.as_posix(), bout_category, len(bout_category)]"
   ]
  },
  {
   "cell_type": "code",
   "execution_count": 16,
   "metadata": {
    "ExecuteTime": {
     "end_time": "2020-01-06T18:28:47.533325Z",
     "start_time": "2020-01-06T18:28:41.568192Z"
    }
   },
   "outputs": [
    {
     "data": {
      "text/html": [
       "<div>\n",
       "<style scoped>\n",
       "    .dataframe tbody tr th:only-of-type {\n",
       "        vertical-align: middle;\n",
       "    }\n",
       "\n",
       "    .dataframe tbody tr th {\n",
       "        vertical-align: top;\n",
       "    }\n",
       "\n",
       "    .dataframe thead th {\n",
       "        text-align: right;\n",
       "    }\n",
       "</style>\n",
       "<table border=\"1\" class=\"dataframe\">\n",
       "  <thead>\n",
       "    <tr style=\"text-align: right;\">\n",
       "      <th></th>\n",
       "      <th>mat_loc</th>\n",
       "      <th>bouts</th>\n",
       "      <th>bout_lens</th>\n",
       "    </tr>\n",
       "  </thead>\n",
       "  <tbody>\n",
       "    <tr>\n",
       "      <th>0</th>\n",
       "      <td>/mnt/cube/tsainbur/Projects/github_repos/child...</td>\n",
       "      <td>[12, 8, 9, 8, 7, 7, 8, 8, 13, 7, 8, 8, 8, 8, 8...</td>\n",
       "      <td>1808</td>\n",
       "    </tr>\n",
       "    <tr>\n",
       "      <th>1</th>\n",
       "      <td>/mnt/cube/tsainbur/Projects/github_repos/child...</td>\n",
       "      <td>[13, 7, 12, 7, 9, 9, 9, 8, 13, 7, 7, 7, 8, 7, ...</td>\n",
       "      <td>1528</td>\n",
       "    </tr>\n",
       "    <tr>\n",
       "      <th>2</th>\n",
       "      <td>/mnt/cube/tsainbur/Projects/github_repos/child...</td>\n",
       "      <td>[7, 8, 12, 8, 9, 7, 9, 9, 7, 9, 7, 7, 5, 8, 7,...</td>\n",
       "      <td>2296</td>\n",
       "    </tr>\n",
       "  </tbody>\n",
       "</table>\n",
       "</div>"
      ],
      "text/plain": [
       "                                             mat_loc  \\\n",
       "0  /mnt/cube/tsainbur/Projects/github_repos/child...   \n",
       "1  /mnt/cube/tsainbur/Projects/github_repos/child...   \n",
       "2  /mnt/cube/tsainbur/Projects/github_repos/child...   \n",
       "\n",
       "                                               bouts bout_lens  \n",
       "0  [12, 8, 9, 8, 7, 7, 8, 8, 13, 7, 8, 8, 8, 8, 8...      1808  \n",
       "1  [13, 7, 12, 7, 9, 9, 9, 8, 13, 7, 7, 7, 8, 7, ...      1528  \n",
       "2  [7, 8, 12, 8, 9, 7, 9, 9, 7, 9, 7, 7, 5, 8, 7,...      2296  "
      ]
     },
     "execution_count": 16,
     "metadata": {},
     "output_type": "execute_result"
    }
   ],
   "source": [
    "bout_df[:3]"
   ]
  },
  {
   "cell_type": "code",
   "execution_count": 17,
   "metadata": {
    "ExecuteTime": {
     "end_time": "2020-01-06T18:28:49.916879Z",
     "start_time": "2020-01-06T18:28:49.870877Z"
    }
   },
   "outputs": [
    {
     "data": {
      "text/plain": [
       "650"
      ]
     },
     "execution_count": 17,
     "metadata": {},
     "output_type": "execute_result"
    }
   ],
   "source": [
    "len(bout_df)"
   ]
  },
  {
   "cell_type": "code",
   "execution_count": 18,
   "metadata": {
    "ExecuteTime": {
     "end_time": "2020-01-06T18:28:52.725344Z",
     "start_time": "2020-01-06T18:28:52.553054Z"
    }
   },
   "outputs": [
    {
     "data": {
      "text/plain": [
       "array([ 1,  2,  3,  4,  5,  6,  7,  8,  9, 10, 11, 12, 13])"
      ]
     },
     "execution_count": 18,
     "metadata": {},
     "output_type": "execute_result"
    }
   ],
   "source": [
    "np.unique(np.concatenate(bout_df.bouts.values))"
   ]
  },
  {
   "cell_type": "code",
   "execution_count": 19,
   "metadata": {
    "ExecuteTime": {
     "end_time": "2020-01-06T18:29:00.696149Z",
     "start_time": "2020-01-06T18:29:00.643837Z"
    }
   },
   "outputs": [
    {
     "data": {
      "text/plain": [
       "1869270"
      ]
     },
     "execution_count": 19,
     "metadata": {},
     "output_type": "execute_result"
    }
   ],
   "source": [
    "np.sum(bout_df.bout_lens)"
   ]
  },
  {
   "cell_type": "code",
   "execution_count": 20,
   "metadata": {
    "ExecuteTime": {
     "end_time": "2020-01-06T18:29:02.959372Z",
     "start_time": "2020-01-06T18:29:02.631403Z"
    }
   },
   "outputs": [
    {
     "data": {
      "image/png": "[encoded data removed]",
      "text/plain": [
       "<Figure size 432x288 with 1 Axes>"
      ]
     },
     "metadata": {
      "needs_background": "light"
     },
     "output_type": "display_data"
    }
   ],
   "source": [
    "plt.hist(bout_df.bout_lens.values.astype('int'));"
   ]
  },
  {
   "cell_type": "code",
   "execution_count": 31,
   "metadata": {},
   "outputs": [],
   "source": [
    "import seaborn as sns\n",
    "from childes_mi.utils.paths import DATA_DIR, FIGURE_DIR, ensure_dir\n",
    "from childes_mi.utils.general import flatten,save_fig\n",
    "ensure_dir(FIGURE_DIR/ 'distributions')"
   ]
  },
  {
   "cell_type": "code",
   "execution_count": 32,
   "metadata": {},
   "outputs": [
    {
     "name": "stderr",
     "output_type": "stream",
     "text": [
      "/mnt/cube/tsainbur/conda_envs/tpy3/lib/python3.6/site-packages/scipy/stats/stats.py:1713: FutureWarning: Using a non-tuple sequence for multidimensional indexing is deprecated; use `arr[tuple(seq)]` instead of `arr[seq]`. In the future this will be interpreted as an array index, `arr[np.array(seq)]`, which will result either in an error or a different result.\n",
      "  return np.add.reduce(sorted[indexer] * weights, axis=axis) / sumval\n"
     ]
    },
    {
     "data": {
      "image/png": "[encoded data removed]",
      "text/plain": [
       "<Figure size 360x360 with 1 Axes>"
      ]
     },
     "metadata": {
      "needs_background": "light"
     },
     "output_type": "display_data"
    }
   ],
   "source": [
    "sns.set_context(\"paper\", rc={\"font.size\":24,\"axes.titlesize\":18,\"axes.labelsize\":18})   \n",
    "\n",
    "fig, ax = plt.subplots(figsize=(5,5));\n",
    "p = sns.distplot(bout_df.bout_lens.values.astype('int'), kde=False, rug=False, ax = ax);\n",
    "#ax.set_xlim([0,1000])\n",
    "ax.set_xlabel('Sequence length')\n",
    "ax.set_title('Zebrafish')\n",
    "ax.set_ylabel('Count')\n",
    "p.tick_params(labelsize=14)\n",
    "for sp in ax.spines.items():\n",
    "    sp[1].set_linewidth(3)  \n",
    "save_fig(FIGURE_DIR/ 'distributions' / 'zebrafish_distribution')\n",
    "plt.show()"
   ]
  },
  {
   "cell_type": "markdown",
   "metadata": {},
   "source": [
    "### Mutual information"
   ]
  },
  {
   "cell_type": "code",
   "execution_count": 21,
   "metadata": {
    "ExecuteTime": {
     "end_time": "2020-01-06T18:29:05.653944Z",
     "start_time": "2020-01-06T18:29:05.399953Z"
    }
   },
   "outputs": [],
   "source": [
    "bouts = [list(i.astype('int'))  for i in bout_df.bouts.values]"
   ]
  },
  {
   "cell_type": "code",
   "execution_count": 30,
   "metadata": {},
   "outputs": [
    {
     "data": {
      "text/plain": [
       "'/mnt/cube/tsainbur/Projects/github_repos/childes_mi_project/data/raw/ZEBRAFISH_Data_Dir/Phototaxis/Phototaxis4/Phototaxis400004.mat'"
      ]
     },
     "execution_count": 30,
     "metadata": {},
     "output_type": "execute_result"
    }
   ],
   "source": [
    "bout_df.iloc[0].mat_loc"
   ]
  },
  {
   "cell_type": "code",
   "execution_count": 28,
   "metadata": {},
   "outputs": [
    {
     "name": "stdout",
     "output_type": "stream",
     "text": [
      "SAT RT S2 RT S1 S1 RT RT\n",
      "HAT S1 RT RT RT RT RT RT\n",
      "RT RT S1 S1 HAT RT SAT S2\n",
      "S2 RT RT RT S2 RT S2 S2\n",
      "HAT RT SAT RT S1 RT S1 S2\n",
      "HAT S1 HAT S1 S1 S1 RT S1\n",
      "HAT RT HAT HAT S2 RT HAT S2\n",
      "S2 RT RT S1 S2 RT S2 RT\n",
      "S1 RT SAT S2 SAT RT RT S2\n",
      "S2 O-bend S1 S2 RT S2 RT S2\n",
      "RT S2 S2 RT S2 S2 S2 RT\n",
      "S2 S2 S2 S1 S1 RT RT HAT\n",
      "RT S2 S1 S2 S2 S2 RT RT\n",
      "S2 S1 RT RT S2 S2 S2 S2\n",
      "RT S2 RT RT S2 RT RT S2\n",
      "RT RT S2 S2 S2 S2 S2 S2\n",
      "RT S2 HAT HAT RT S1 S2 RT\n",
      "SAT S2 S2 S2 S2 RT S1 RT\n",
      "S1 RT S1 S2 S2 S2 S1 S2\n",
      "S2 S2 J-turn HAT S2 RT S2 S1\n",
      "S2 RT RT S2 RT RT HAT S2\n",
      "O-bend HAT S1 S2 S2 S2 S2 S2\n",
      "S2 S2 S2 RT RT S2 RT HAT\n",
      "S2 S1 S1 RT RT RT RT RT\n",
      "RT HAT RT S2 RT RT HAT S1\n",
      "S1 S1 RT S2 S2 RT S2 SAT\n",
      "S2 S2 S1 S2 J-turn RT RT HAT\n",
      "RT S2 S2 S2 HAT RT S2 S2\n",
      "S2 S2 S2 HAT S1 RT HAT S1\n",
      "S1 S2 AS HAT S1 S2 S1 RT\n",
      "HAT RT S1 S1 RT S1 S2 S2\n",
      "RT RT S2 S1 S2 S2 S1 J-turn\n",
      "S2 S2 RT RT S1 S1 S2 RT\n",
      "S2 S1 HAT S1 AS RT RT RT\n",
      "S2 S2 HAT AS RT S2 RT S1\n",
      "RT S2 RT S2 RT RT RT S1\n",
      "S1 S1 S2 HAT S1 AS RT HAT\n",
      "RT RT S2 S2 S2 S2 RT S2\n",
      "RT HAT S2 RT S2 RT S2 S2\n",
      "RT HAT S1 S1 S2 RT RT RT\n",
      "HAT S1 HAT S2 S2 RT J-turn S2\n",
      "S2 S2 RT S1 S2 S2 RT RT\n",
      "HAT S1 S2 RT RT HAT HAT S1\n",
      "S2 S2 S2 S2 S2 S2 S2 S2\n",
      "RT S1 S1 S1 HAT HAT S2 HAT\n",
      "S2 HAT S2 S2 S2 S2 S2 RT\n",
      "HAT S1 S1 S2 S2 HAT S1 RT\n",
      "SCS J-turn S2 HAT S1 S2 S2 S2\n",
      "S2 RT S1 RT S1 AS J-turn RT\n",
      "RT RT RT O-bend J-turn S1 RT RT\n",
      "RT S2 S2 RT S2 RT O-bend S2\n",
      "S2 S2 S2 S2 J-turn RT RT S2\n",
      "S2 HAT S1 J-turn RT S2 S2 S2\n",
      "S1 S2 S2 RT S2 S2 S2 RT\n",
      "RT S1 S2 S2 S1 S2 HAT S1\n",
      "RT S2 S2 S2 RT RT HAT S1\n",
      "SAT HAT HAT S2 S2 HAT HAT S1\n",
      "S2 S2 S2 S2 S1 S2 S1 S1\n",
      "S2 S1 S1 RT S2 S2 RT RT\n",
      "S1 S2 HAT S1 O-bend RT S1 S2\n",
      "RT RT RT S1 S1 HAT SAT S1\n",
      "S2 S2 S2 S2 S2 S2 S2 S2\n",
      "S2 S2 RT HAT S1 S2 S1 RT\n",
      "S1 S2 S2 S2 S2 RT S2 RT\n",
      "RT HAT S1 RT RT S2 HAT S1\n",
      "RT RT RT J-turn AS S2 S1 RT\n",
      "S2 RT RT S1 S1 S1 S2 RT\n",
      "HAT RT RT HAT S1 S1 S1 RT\n",
      "S2 S2 HAT RT RT S1 HAT RT\n",
      "S2 RT S2 S2 S2 S2 S2 SAT\n",
      "S2 S2 S2 S2 RT S2 S2 RT\n",
      "S2 S2 RT S2 S2 RT HAT S1\n",
      "J-turn S2 RT S2 HAT S1 S2 J-turn\n",
      "RT S1 RT S2 J-turn HAT RT S2\n",
      "RT SAT S2 RT HAT HAT S2 S2\n",
      "S2 HAT S1 S1 S2 S2 RT RT\n",
      "S2 HAT S1 HAT J-turn S1 RT S2\n",
      "S2 HAT S2 RT J-turn J-turn SCS S2\n",
      "J-turn J-turn S1 SAT S2 RT RT S2\n",
      "S2 J-turn RT S2 RT S2 HAT HAT\n",
      "S2 S2 S2 S2 SAT S1 S1 S2\n",
      "S2 RT SAT S1 RT RT S1 S2\n",
      "S1 S2 S1 S1 S1 S1 S1 S2\n",
      "S1 RT S2 S2 RT RT S2 S2\n",
      "S1 S2 S2 S2 S2 S2 S2 S2\n",
      "S2 S2 RT S2 S2 RT RT RT\n",
      "S1 RT RT S2 S2 HAT RT HAT\n",
      "S1 S2 S2 S2 S2 S2 S2 S2\n",
      "S2 S2 S2 RT RT S2 RT HAT\n",
      "S1 RT S1 S2 RT S2 S1 RT\n",
      "S2 S2 S2 S2 RT S2 S2 S2\n",
      "RT RT S2 S2 HAT RT S1 HAT\n",
      "SAT RT RT S2 S1 S1 S2 S2\n",
      "S2 J-turn S1 HAT HAT S1 RT HAT\n",
      "S2 RT S2 J-turn AS S1 S2 S1\n",
      "S2 S2 S1 RT HAT S2 S2 S2\n",
      "S2 HAT S1 S1 RT RT S2 RT\n",
      "S1 RT J-turn HAT S1 S1 RT S2\n",
      "S2 S2 S2 S2 S2 S2 S2 S1\n",
      "S1 HAT HAT S2 S1 S1 S1 S1\n",
      "HAT RT S1 RT S1 S1 S2 S2\n",
      "S2 RT S1 S2 RT S2 S2 RT\n",
      "S2 RT RT RT HAT S1 S2 S1\n",
      "S2 S2 S2 RT S2 RT S2 RT\n",
      "S2 S2 O-bend RT RT J-turn SAT RT\n",
      "S2 S1 HAT S2 RT RT RT RT\n",
      "S1 S2 S1 RT S2 S2 J-turn S2\n",
      "RT S1 S1 S2 HAT RT HAT S1\n",
      "S1 S2 S2 S2 S1 S2 RT S2\n",
      "S2 S2 S2 RT S2 S2 RT S1\n",
      "RT RT S2 S2 RT S1 S2 S2\n",
      "RT S2 S2 S2 HAT S2 S2 RT\n",
      "S2 S2 S2 S2 RT RT S2 HAT\n",
      "S1 RT S1 HAT S1 J-turn S1 RT\n",
      "S2 RT RT O-bend S1 RT S2 RT\n",
      "S1 RT S2 S2 RT RT HAT RT\n",
      "RT S2 S2 RT S2 S2 S2 S2\n",
      "RT RT S2 RT S1 RT S2 RT\n",
      "S2 S2 S2 S2 S2 RT S2 HAT\n",
      "S2 SCS S2 S1 S1 RT S2 RT\n",
      "S1 RT AS RT HAT J-turn S1 S2\n",
      "S1 S2 RT SAT S2 RT RT RT\n",
      "SAT S2 RT S2 HAT S1 S2 S2\n",
      "S2 RT RT S2 S2 S2 S2 S2\n",
      "S2 RT RT S2 S1 RT RT RT\n",
      "S2 S2 S2 RT RT RT RT RT\n",
      "RT S2 RT S1 RT SAT S2 RT\n",
      "SCS RT RT S2 RT S1 RT RT\n",
      "S2 S2 HAT AS S2 S2 J-turn S2\n",
      "O-bend RT SAT S2 RT HAT S2 S2\n",
      "S2 RT RT S2 S2 RT RT RT\n",
      "S1 S2 RT S2 RT RT RT S2\n",
      "RT RT S1 S2 S2 S2 RT SAT\n",
      "S2 S2 S2 S1 RT S2 S1 RT\n",
      "RT S2 RT RT RT S2 S2 S2\n",
      "RT RT RT S2 S2 S2 S1 S2\n",
      "S2 RT RT RT S2 S2 RT S2\n",
      "S2 S2 RT S2 S2 S2 S2 RT\n",
      "SCS S1 RT S2 S2 S2 RT RT\n",
      "S2 S2 S2 S2 RT S2 RT RT\n",
      "S2 SAT RT RT S2 S2 S2 SAT\n",
      "RT S2 S2 S2 RT SCS SAT HAT\n",
      "RT S2 S2 S1 RT RT S2 RT\n",
      "RT RT RT RT SAT RT RT S2\n",
      "RT RT S1 RT RT S2 S2 S1\n",
      "RT S2 HAT S1 SAT S2 S2 RT\n",
      "RT S2 RT RT RT S2 S2 S2\n",
      "S1 S1 RT S1 SAT HAT S1 HAT\n",
      "S1 RT HAT S2 RT S1 S1 J-turn\n",
      "J-turn S1 S1 S2 S1 RT S1 HAT\n",
      "HAT S1 S1 S1 RT RT S1 S1\n",
      "S1 S1 RT J-turn AS RT S1 S1\n",
      "HAT S1 S2 SAT S2 S1 S1 S2\n",
      "RT S1 J-turn J-turn SAT S1 S1 S2\n",
      "J-turn SAT S2 S1 S1 S2 S1 AS\n",
      "RT S2 J-turn S1 S2 S2 S1 S1\n",
      "HAT S1 RT S1 S2 HAT S1 RT\n",
      "S2 RT S2 S2 S2 S2 S2 RT\n",
      "S2 RT RT RT SAT S2 S2 S2\n",
      "S2 S2 S2 S2 RT HAT S1 S2\n",
      "RT HAT S2 HAT S1 HAT S1 RT\n",
      "S2 RT S2 HAT RT S2 HAT RT\n",
      "RT S1 S2 RT S1 S1 S2 S2\n",
      "S1 HAT S2 S2 S1 J-turn S2 RT\n",
      "S2 S2 S2 S1 S1 S2 S1 HAT\n",
      "S1 S1 SAT HAT S2 S2 HAT SCS\n",
      "RT RT S2 S2 S2 S2 S2 S2\n",
      "S2 S2 S2 S2 S2 S2 S2 S2\n",
      "SAT RT HAT S1 HAT HAT RT S1\n",
      "RT SAT RT SAT RT S1 S1 S1\n",
      "S1 SCS S1 S2 HAT S1 HAT S1\n",
      "J-turn S1 S1 HAT S1 S1 S1 S2\n",
      "S1 S1 HAT RT RT RT S1 S2\n",
      "S2 RT S2 S2 S2 RT RT RT\n",
      "S2 S2 RT S2 S2 S2 RT S1\n",
      "RT S2 S2 S2 S1 RT S2 S2\n",
      "S2 S2 S2 RT S2 RT S2 RT\n",
      "S2 RT S2 AS S2 J-turn HAT SAT\n",
      "S1 RT RT HAT S1 S1 RT S2\n",
      "S1 HAT AS RT SAT S2 S2 HAT\n",
      "S2 S1 RT S2 RT S2 S2 S2\n",
      "S1 S2 S2 S2 RT S1 HAT S1\n",
      "S2 RT RT S2 RT S2 HAT AS\n",
      "RT S2 RT S2 SAT S1 SAT RT\n",
      "HAT SCS S2 S2 SAT S1 RT RT\n",
      "RT RT S1 S2 RT S2 S2 S2\n",
      "S2 S2 S2 S2 S2 S2 S2 RT\n",
      "HAT RT HAT RT S2 S1 RT RT\n",
      "S2 HAT S1 SAT RT RT S2 RT\n",
      "RT S2 S2 S2 S1 S2 RT S1\n",
      "RT S2 RT S2 S1 S2 S2 S2\n",
      "S2 RT SAT S1 RT S1 S2 HAT\n",
      "HAT SAT RT RT S2 S2 O-bend RT\n",
      "LCS RT S2 S1 RT RT RT S2\n",
      "S2 RT S2 S2 RT RT SAT S2\n",
      "S2 RT RT J-turn RT SAT HAT SAT\n",
      "S2 S1 S2 RT S2 S2 S2 RT\n",
      "S2 S2 RT S2 S2 RT S2 S2\n",
      "RT S2 S2 S2 RT S2 S2 S2\n",
      "RT RT RT RT S2 S2 S2 S2\n",
      "RT RT S1 RT HAT RT SAT S2\n",
      "RT SCS S2 RT S2 RT RT S2\n",
      "S2 S2 S2 S2 RT S2 RT S2\n",
      "S2 RT RT RT O-bend RT S2 RT\n",
      "S1 J-turn S2 RT S2 RT SAT RT\n",
      "AS S1 RT RT S2 S2 RT S2\n",
      "S2 S2 S2 S2 S2 S2 RT RT\n",
      "RT S2 RT RT RT HAT J-turn HAT\n",
      "RT RT S2 S2 RT RT S2 S2\n",
      "S1 RT RT S1 RT S2 S2 S2\n",
      "HAT HAT RT RT S2 S2 S2 RT\n",
      "J-turn RT RT S2 RT S2 S2 RT\n",
      "HAT HAT S2 RT RT RT S2 S2\n",
      "LLC S2 S1 RT RT HAT S2 S2\n",
      "S2 S2 S2 RT S2 BS SLC RT\n",
      "RT LLC S2 LLC S1 RT RT LLC\n",
      "RT RT HAT S1 HAT S1 S1 S2\n",
      "RT RT RT RT RT J-turn RT RT\n",
      "HAT RT HAT SAT S1 S2 RT RT\n",
      "S2 RT RT RT S2 S2 S2 RT\n",
      "S2 S2 S2 S2 RT S2 RT S1\n",
      "RT S1 S2 RT S2 S2 RT RT\n",
      "S2 RT RT RT S2 S1 RT S2\n",
      "RT S2 RT HAT S2 S2 RT S2\n",
      "S2 S2 S2 RT S2 S2 S2 S2\n",
      "S2 S2 S2 S2 RT SAT S2 S1\n"
     ]
    }
   ],
   "source": [
    "n=8\n",
    "x = [behavior_dict[i] for i in bouts[0]]\n",
    "lst = []\n",
    "for i in range(0,len(x),n):\n",
    "    lst.append(x[i:i+n])\n",
    "for l in lst:\n",
    "    print(' '.join([str(i) for i in l]))"
   ]
  },
  {
   "cell_type": "code",
   "execution_count": 14,
   "metadata": {
    "ExecuteTime": {
     "end_time": "2020-01-06T18:29:05.982794Z",
     "start_time": "2020-01-06T18:29:05.940423Z"
    }
   },
   "outputs": [],
   "source": [
    "def remove_repeats(sequence):\n",
    "    return [element for i, element in enumerate(sequence[1:]) if sequence[i] != element]"
   ]
  },
  {
   "cell_type": "code",
   "execution_count": 15,
   "metadata": {},
   "outputs": [],
   "source": [
    "behavior_dict = {\n",
    "    1:\"SCS\", # short capture swims\n",
    "    2:\"LCS\", # short capture swims\n",
    "    3:\"BS\", # burst type forward swim with high tail-beat frequency (BS)\n",
    "    4:\"O-bend\", # O-bends\n",
    "    5:\"J-turn\",\n",
    "    6:\"SLC\", # fast C-start escape swims (SLC)\n",
    "    7:\"S1\",\n",
    "    8:\"RT\", # routine turns (RTs)\n",
    "    9:\"S2\",\n",
    "    10:\"LLC\", # long latency C-starts (LLC)\n",
    "    11:\"AS\", # “approach swims” (ASs)\n",
    "    12:\"SAT\", # spot avoidance turn (SAT)\n",
    "    13:\"HAT\", # high-angle turn (HAT)\n",
    "}"
   ]
  },
  {
   "cell_type": "code",
   "execution_count": null,
   "metadata": {},
   "outputs": [],
   "source": []
  }
 ],
 "metadata": {
  "kernelspec": {
   "display_name": "Python 3",
   "language": "python",
   "name": "python3"
  },
  "language_info": {
   "codemirror_mode": {
    "name": "ipython",
    "version": 3
   },
   "file_extension": ".py",
   "mimetype": "text/x-python",
   "name": "python",
   "nbconvert_exporter": "python",
   "pygments_lexer": "ipython3",
   "version": "3.6.7"
  }
 },
 "nbformat": 4,
 "nbformat_minor": 2
}
