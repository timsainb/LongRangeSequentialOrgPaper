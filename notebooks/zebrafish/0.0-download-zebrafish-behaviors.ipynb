{
 "cells": [
  {
   "cell_type": "code",
   "execution_count": 1,
   "metadata": {
    "ExecuteTime": {
     "end_time": "2020-01-05T22:02:28.071471Z",
     "start_time": "2020-01-05T22:02:28.067303Z"
    }
   },
   "outputs": [],
   "source": [
    "# https://linkinghub.elsevier.com/retrieve/pii/S0960-9822(17)31604-4\\\n",
    "# https://doi.org/10.17632/r9vn7x287r.1\n",
    "# https://doi.org/10.17632/xf2zv4yhv8.1\n",
    "# https://doi.org/10.17632/bzh35dd2td.1\n",
    "# https://doi.org/10.17632/fgpbbv29rw.1\n",
    "# https://doi.org/10.17632/6hsdh9gj89.1"
   ]
  },
  {
   "cell_type": "code",
   "execution_count": 2,
   "metadata": {
    "ExecuteTime": {
     "end_time": "2020-01-05T22:02:28.250262Z",
     "start_time": "2020-01-05T22:02:28.229388Z"
    }
   },
   "outputs": [],
   "source": [
    "%load_ext autoreload\n",
    "%autoreload 2"
   ]
  },
  {
   "cell_type": "code",
   "execution_count": 3,
   "metadata": {
    "ExecuteTime": {
     "end_time": "2020-01-05T22:02:28.462900Z",
     "start_time": "2020-01-05T22:02:28.444935Z"
    }
   },
   "outputs": [],
   "source": [
    "from childes_mi.utils.paths import DATA_DIR, ensure_dir, ZEBRAFISH_DIR\n",
    "import urllib.request"
   ]
  },
  {
   "cell_type": "code",
   "execution_count": 4,
   "metadata": {
    "ExecuteTime": {
     "end_time": "2020-01-05T22:02:29.900092Z",
     "start_time": "2020-01-05T22:02:28.734689Z"
    }
   },
   "outputs": [],
   "source": [
    "import requests"
   ]
  },
  {
   "cell_type": "code",
   "execution_count": 5,
   "metadata": {
    "ExecuteTime": {
     "end_time": "2020-01-05T22:02:29.933845Z",
     "start_time": "2020-01-05T22:02:29.903179Z"
    }
   },
   "outputs": [
    {
     "name": "stderr",
     "output_type": "stream",
     "text": [
      "/mnt/cube/tsainbur/conda_envs/tpy3/lib/python3.6/site-packages/tqdm/autonotebook/__init__.py:14: TqdmExperimentalWarning: Using `tqdm.autonotebook.tqdm` in notebook mode. Use `tqdm.tqdm` instead to force console mode (e.g. in jupyter console)\n",
      "  \" (e.g. in jupyter console)\", TqdmExperimentalWarning)\n"
     ]
    }
   ],
   "source": [
    "from tqdm.autonotebook import tqdm"
   ]
  },
  {
   "cell_type": "code",
   "execution_count": 6,
   "metadata": {
    "ExecuteTime": {
     "end_time": "2020-01-05T22:02:30.021202Z",
     "start_time": "2020-01-05T22:02:29.935787Z"
    }
   },
   "outputs": [],
   "source": [
    "def download_file(url, filename):\n",
    "    \"\"\"\n",
    "    Helper method handling downloading large files from `url` to `filename`. Returns a pointer to `filename`.\n",
    "    \"\"\"\n",
    "    chunkSize = 1024\n",
    "    r = requests.get(url, stream=True)\n",
    "    with open(filename, 'wb') as f:\n",
    "        pbar = tqdm( unit=\"B\", total=int( r.headers['Content-Length'] ) )\n",
    "        for chunk in r.iter_content(chunk_size=chunkSize): \n",
    "            if chunk: # filter out keep-alive new chunks\n",
    "                pbar.update (len(chunk))\n",
    "                f.write(chunk)\n",
    "    return filename"
   ]
  },
  {
   "cell_type": "code",
   "execution_count": 10,
   "metadata": {
    "ExecuteTime": {
     "end_time": "2020-01-05T22:03:04.721634Z",
     "start_time": "2020-01-05T22:03:04.668717Z"
    }
   },
   "outputs": [],
   "source": [
    "urls = [\n",
    "    # dataset part 1\n",
    "    \"https://data.mendeley.com/datasets/r9vn7x287r/1/files/32132a3f-ae3c-4f83-bfaf-d60e5ce34927/3minLightDark.zip?dl=1\",  \n",
    "    \"https://data.mendeley.com/datasets/r9vn7x287r/1/files/d470328f-3e94-4dd7-b508-15b2a0d5f6e1/AcousticLightDark.zip?dl=1\",\n",
    "    \"https://data.mendeley.com/datasets/r9vn7x287r/1/files/da04ec03-1907-4c71-aa61-dc7c99f17796/DarkLightTransitions.zip?dl=1\",\n",
    "    \"https://data.mendeley.com/datasets/r9vn7x287r/1/files/37e7c1ac-a556-4165-851a-79a686c1898b/LoomingDifferentDirections.zip?dl=1\",\n",
    "    # dataset part 2 \n",
    "    \"https://data.mendeley.com/datasets/xf2zv4yhv8/1/files/dd161fcf-d730-4013-8d2e-6e8f1af5f4ea/LoomingDifferentSpeeds.zip?dl=1\",\n",
    "    \"https://data.mendeley.com/datasets/xf2zv4yhv8/1/files/39375c2a-2fc5-4485-b945-4730148abb7d/OMRSpeed.zip?dl=1\",\n",
    "    \"https://data.mendeley.com/datasets/xf2zv4yhv8/1/files/da125f14-ff5e-4787-98a8-f159dea9b62b/OMRSpontaneousTu.zip?dl=1\",\n",
    "    \"https://data.mendeley.com/datasets/xf2zv4yhv8/1/files/de808048-59ff-4681-b4a6-5498bf8ae968/OMRSpontaneousTu2.zip?dl=1\",\n",
    "    \"https://data.mendeley.com/datasets/xf2zv4yhv8/1/files/a5b2d8c6-59cc-4f36-a4fb-898d520f0862/OMRTurns.zip?dl=1\",\n",
    "    \"https://data.mendeley.com/datasets/xf2zv4yhv8/1/files/02460a91-e0a6-4c6b-b4f4-16ff12ea7711/Phototaxis.zip?dl=1\",\n",
    "    \"https://data.mendeley.com/datasets/xf2zv4yhv8/1/files/5c6fbdd1-0524-4229-b89e-8fc269745d87/PreyCapture.zip?dl=1\",\n",
    "    # dataset part 3 \n",
    "    \"https://data.mendeley.com/datasets/bzh35dd2td/1/files/fe96b6ed-241b-4736-b622-2baabf4e059c/PreyCaptureExpTu.zip?dl=1\",\n",
    "    \"https://data.mendeley.com/datasets/bzh35dd2td/1/files/026e709d-8f1a-4817-9622-42c4bda3e29a/PreyCaptureExpTu2.zip?dl=1\",\n",
    "    \"https://data.mendeley.com/datasets/bzh35dd2td/1/files/f4844b23-e56c-4efa-a2ba-3fc7010ef32e/PreyCaptureNaive.zip?dl=1\",\n",
    "    \"https://data.mendeley.com/datasets/bzh35dd2td/1/files/959ff250-2be9-42a0-aaf3-0ec7c4bcef9b/PreyCaptureNaiveTu.zip?dl=1\",\n",
    "    # part 4\n",
    "    \"https://data.mendeley.com/datasets/fgpbbv29rw/1/files/2767a0bd-a11d-4542-8083-115b62346c06/PreyCaptureNaiveTu2.zip?dl=1\",\n",
    "    \"https://data.mendeley.com/datasets/fgpbbv29rw/1/files/4234c12b-a32e-48c8-ab4d-a9dbd1b81acb/PreyCaptureSmallRotTuNaive.zip?dl=1\",\n",
    "    \"https://data.mendeley.com/datasets/fgpbbv29rw/1/files/01da0ca4-9498-450b-b24c-3f68788fb287/PreyCaptureSmallRotTuNaive2.zip?dl=1\",\n",
    "    \"https://data.mendeley.com/datasets/fgpbbv29rw/1/files/6c40007f-a0c5-4143-bb42-410d93a4646d/PreyCaptureSmallRotTuWithRot.zip?dl=1\",\n",
    "    \"https://data.mendeley.com/datasets/fgpbbv29rw/1/files/a2d9e221-922a-4ea8-96e3-30ddd1496c27/SpontaneousMultiFishDark.zip?dl=1\",\n",
    "    \"https://data.mendeley.com/datasets/fgpbbv29rw/1/files/c12efa1f-bfb2-41e5-9b6b-f8a12807ba4f/SpontaneousMultiFishLightA.zip?dl=1\",\n",
    "    \"https://data.mendeley.com/datasets/fgpbbv29rw/1/files/aa673143-797e-4ab6-b6cb-ff98511648ee/SpontaneousWEyeTracking.zip?dl=1\",\n",
    "    # part 5\n",
    "    \"https://data.mendeley.com/datasets/6hsdh9gj89/1/files/8fff6825-8746-49a9-8113-e24b6da85860\",\n",
    "]"
   ]
  },
  {
   "cell_type": "code",
   "execution_count": null,
   "metadata": {
    "ExecuteTime": {
     "end_time": "2019-08-19T18:58:54.589983Z",
     "start_time": "2019-08-19T18:58:54.550948Z"
    }
   },
   "outputs": [],
   "source": []
  },
  {
   "cell_type": "code",
   "execution_count": 11,
   "metadata": {
    "ExecuteTime": {
     "end_time": "2020-01-05T22:03:05.236801Z",
     "start_time": "2020-01-05T22:03:05.208784Z"
    }
   },
   "outputs": [
    {
     "data": {
      "text/plain": [
       "PosixPath('/mnt/cube/tsainbur/Projects/github_repos/childes_mi_project/data/raw/ZEBRAFISH_Data_Dir/LoomingDifferentSpeeds.zip?dl=1')"
      ]
     },
     "execution_count": 11,
     "metadata": {},
     "output_type": "execute_result"
    }
   ],
   "source": [
    "save_loc"
   ]
  },
  {
   "cell_type": "code",
   "execution_count": 12,
   "metadata": {
    "ExecuteTime": {
     "end_time": "2020-01-05T23:34:28.657066Z",
     "start_time": "2020-01-05T22:03:06.451738Z"
    },
    "scrolled": true
   },
   "outputs": [
    {
     "data": {
      "application/vnd.jupyter.widget-view+json": {
       "model_id": "174ff865019c4215861b26bd66350847",
       "version_major": 2,
       "version_minor": 0
      },
      "text/plain": [
       "HBox(children=(IntProgress(value=0, max=23), HTML(value='')))"
      ]
     },
     "metadata": {},
     "output_type": "display_data"
    },
    {
     "data": {
      "application/vnd.jupyter.widget-view+json": {
       "model_id": "cf8b7ab054214ee2811c8fd0d85d25b7",
       "version_major": 2,
       "version_minor": 0
      },
      "text/plain": [
       "HBox(children=(IntProgress(value=0, max=3417199298), HTML(value='')))"
      ]
     },
     "metadata": {},
     "output_type": "display_data"
    },
    {
     "name": "stdout",
     "output_type": "stream",
     "text": [
      "Archive:  /mnt/cube/tsainbur/Projects/github_repos/childes_mi_project/data/raw/ZEBRAFISH_Data_Dir/LoomingDifferentSpeeds.zip?dl=1\n",
      "  inflating: /mnt/cube/tsainbur/Projects/github_repos/childes_mi_project/data/raw/ZEBRAFISH_Data_Dir/LoomingDifferentSpeeds/LoomingDifferentSpeeds/LoomingDifferentSpeeds00001.mat  \n",
      "  inflating: /mnt/cube/tsainbur/Projects/github_repos/childes_mi_project/data/raw/ZEBRAFISH_Data_Dir/LoomingDifferentSpeeds/LoomingDifferentSpeeds/LoomingDifferentSpeeds00002.mat  \n",
      "  inflating: /mnt/cube/tsainbur/Projects/github_repos/childes_mi_project/data/raw/ZEBRAFISH_Data_Dir/LoomingDifferentSpeeds/LoomingDifferentSpeeds/LoomingDifferentSpeeds00003.mat  \n",
      "  inflating: /mnt/cube/tsainbur/Projects/github_repos/childes_mi_project/data/raw/ZEBRAFISH_Data_Dir/LoomingDifferentSpeeds/LoomingDifferentSpeeds/LoomingDifferentSpeeds00004.mat  \n",
      "  inflating: /mnt/cube/tsainbur/Projects/github_repos/childes_mi_project/data/raw/ZEBRAFISH_Data_Dir/LoomingDifferentSpeeds/LoomingDifferentSpeeds/LoomingDifferentSpeeds00005.mat  \n",
      "  inflating: /mnt/cube/tsainbur/Projects/github_repos/childes_mi_project/data/raw/ZEBRAFISH_Data_Dir/LoomingDifferentSpeeds/LoomingDifferentSpeeds/LoomingDifferentSpeeds00006.mat  \n",
      "  inflating: /mnt/cube/tsainbur/Projects/github_repos/childes_mi_project/data/raw/ZEBRAFISH_Data_Dir/LoomingDifferentSpeeds/LoomingDifferentSpeeds/LoomingDifferentSpeeds00007.mat  \n",
      "  inflating: /mnt/cube/tsainbur/Projects/github_repos/childes_mi_project/data/raw/ZEBRAFISH_Data_Dir/LoomingDifferentSpeeds/LoomingDifferentSpeeds/LoomingDifferentSpeeds00008.mat  \n",
      "  inflating: /mnt/cube/tsainbur/Projects/github_repos/childes_mi_project/data/raw/ZEBRAFISH_Data_Dir/LoomingDifferentSpeeds/LoomingDifferentSpeeds/LoomingDifferentSpeeds00009.mat  \n",
      "  inflating: /mnt/cube/tsainbur/Projects/github_repos/childes_mi_project/data/raw/ZEBRAFISH_Data_Dir/LoomingDifferentSpeeds/LoomingDifferentSpeeds/LoomingDifferentSpeeds00010.mat  \n",
      "  inflating: /mnt/cube/tsainbur/Projects/github_repos/childes_mi_project/data/raw/ZEBRAFISH_Data_Dir/LoomingDifferentSpeeds/LoomingDifferentSpeeds/LoomingDifferentSpeeds00011.mat  \n",
      "  inflating: /mnt/cube/tsainbur/Projects/github_repos/childes_mi_project/data/raw/ZEBRAFISH_Data_Dir/LoomingDifferentSpeeds/LoomingDifferentSpeeds/LoomingDifferentSpeeds00012.mat  \n",
      "  inflating: /mnt/cube/tsainbur/Projects/github_repos/childes_mi_project/data/raw/ZEBRAFISH_Data_Dir/LoomingDifferentSpeeds/LoomingDifferentSpeeds/LoomingDifferentSpeeds00013.mat  \n",
      "  inflating: /mnt/cube/tsainbur/Projects/github_repos/childes_mi_project/data/raw/ZEBRAFISH_Data_Dir/LoomingDifferentSpeeds/LoomingDifferentSpeeds/LoomingDifferentSpeeds00014.mat  \n",
      "  inflating: /mnt/cube/tsainbur/Projects/github_repos/childes_mi_project/data/raw/ZEBRAFISH_Data_Dir/LoomingDifferentSpeeds/LoomingDifferentSpeeds/LoomingDifferentSpeeds00015.mat  \n",
      "  inflating: /mnt/cube/tsainbur/Projects/github_repos/childes_mi_project/data/raw/ZEBRAFISH_Data_Dir/LoomingDifferentSpeeds/LoomingDifferentSpeeds/LoomingDifferentSpeeds00016.mat  \n",
      "  inflating: /mnt/cube/tsainbur/Projects/github_repos/childes_mi_project/data/raw/ZEBRAFISH_Data_Dir/LoomingDifferentSpeeds/LoomingDifferentSpeeds/LoomingDifferentSpeeds00017.mat  \n",
      "  inflating: /mnt/cube/tsainbur/Projects/github_repos/childes_mi_project/data/raw/ZEBRAFISH_Data_Dir/LoomingDifferentSpeeds/LoomingDifferentSpeeds/LoomingDifferentSpeeds00018.mat  \n",
      "  inflating: /mnt/cube/tsainbur/Projects/github_repos/childes_mi_project/data/raw/ZEBRAFISH_Data_Dir/LoomingDifferentSpeeds/LoomingDifferentSpeeds/LoomingDifferentSpeeds00019.mat  \n",
      "  inflating: /mnt/cube/tsainbur/Projects/github_repos/childes_mi_project/data/raw/ZEBRAFISH_Data_Dir/LoomingDifferentSpeeds/LoomingDifferentSpeeds/LoomingDifferentSpeeds00020.mat  \n",
      "  inflating: /mnt/cube/tsainbur/Projects/github_repos/childes_mi_project/data/raw/ZEBRAFISH_Data_Dir/LoomingDifferentSpeeds/LoomingDifferentSpeeds/LoomingDifferentSpeeds00021.mat  \n",
      "  inflating: /mnt/cube/tsainbur/Projects/github_repos/childes_mi_project/data/raw/ZEBRAFISH_Data_Dir/LoomingDifferentSpeeds/LoomingDifferentSpeeds/LoomingDifferentSpeeds00022.mat  \n",
      "  inflating: /mnt/cube/tsainbur/Projects/github_repos/childes_mi_project/data/raw/ZEBRAFISH_Data_Dir/LoomingDifferentSpeeds/LoomingDifferentSpeeds/LoomingDifferentSpeeds00023.mat  \n",
      "  inflating: /mnt/cube/tsainbur/Projects/github_repos/childes_mi_project/data/raw/ZEBRAFISH_Data_Dir/LoomingDifferentSpeeds/LoomingDifferentSpeeds/LoomingDifferentSpeeds00024.mat  \n",
      "  inflating: /mnt/cube/tsainbur/Projects/github_repos/childes_mi_project/data/raw/ZEBRAFISH_Data_Dir/LoomingDifferentSpeeds/LoomingDifferentSpeeds/LoomingDifferentSpeeds00025.mat  \n",
      "  inflating: /mnt/cube/tsainbur/Projects/github_repos/childes_mi_project/data/raw/ZEBRAFISH_Data_Dir/LoomingDifferentSpeeds/LoomingDifferentSpeeds/LoomingDifferentSpeeds00026.mat  \n",
      "  inflating: /mnt/cube/tsainbur/Projects/github_repos/childes_mi_project/data/raw/ZEBRAFISH_Data_Dir/LoomingDifferentSpeeds/LoomingDifferentSpeeds/LoomingDifferentSpeeds00027.mat  \n",
      "  inflating: /mnt/cube/tsainbur/Projects/github_repos/childes_mi_project/data/raw/ZEBRAFISH_Data_Dir/LoomingDifferentSpeeds/LoomingDifferentSpeeds/LoomingDifferentSpeeds00028.mat  \n",
      "  inflating: /mnt/cube/tsainbur/Projects/github_repos/childes_mi_project/data/raw/ZEBRAFISH_Data_Dir/LoomingDifferentSpeeds/LoomingDifferentSpeeds/LoomingDifferentSpeeds00029.mat  \n",
      "  inflating: /mnt/cube/tsainbur/Projects/github_repos/childes_mi_project/data/raw/ZEBRAFISH_Data_Dir/LoomingDifferentSpeeds/LoomingDifferentSpeeds/LoomingDifferentSpeeds00030.mat  \n",
      "  inflating: /mnt/cube/tsainbur/Projects/github_repos/childes_mi_project/data/raw/ZEBRAFISH_Data_Dir/LoomingDifferentSpeeds/LoomingDifferentSpeeds/LoomingDifferentSpeeds00031.mat  \n",
      "  inflating: /mnt/cube/tsainbur/Projects/github_repos/childes_mi_project/data/raw/ZEBRAFISH_Data_Dir/LoomingDifferentSpeeds/LoomingDifferentSpeeds/LoomingDifferentSpeeds00032.mat  \n",
      "  inflating: /mnt/cube/tsainbur/Projects/github_repos/childes_mi_project/data/raw/ZEBRAFISH_Data_Dir/LoomingDifferentSpeeds/LoomingDifferentSpeeds/LoomingDifferentSpeeds00033.mat  \n",
      "  inflating: /mnt/cube/tsainbur/Projects/github_repos/childes_mi_project/data/raw/ZEBRAFISH_Data_Dir/LoomingDifferentSpeeds/LoomingDifferentSpeeds/LoomingDifferentSpeeds00034.mat  \n",
      "  inflating: /mnt/cube/tsainbur/Projects/github_repos/childes_mi_project/data/raw/ZEBRAFISH_Data_Dir/LoomingDifferentSpeeds/LoomingDifferentSpeeds/LoomingDifferentSpeeds00035.mat  \n",
      "  inflating: /mnt/cube/tsainbur/Projects/github_repos/childes_mi_project/data/raw/ZEBRAFISH_Data_Dir/LoomingDifferentSpeeds/LoomingDifferentSpeeds/LoomingDifferentSpeeds00036.mat  \n",
      "  inflating: /mnt/cube/tsainbur/Projects/github_repos/childes_mi_project/data/raw/ZEBRAFISH_Data_Dir/LoomingDifferentSpeeds/LoomingDifferentSpeeds/LoomingDifferentSpeeds00037.mat  \n",
      "  inflating: /mnt/cube/tsainbur/Projects/github_repos/childes_mi_project/data/raw/ZEBRAFISH_Data_Dir/LoomingDifferentSpeeds/LoomingDifferentSpeeds/LoomingDifferentSpeeds00038.mat  \n",
      "  inflating: /mnt/cube/tsainbur/Projects/github_repos/childes_mi_project/data/raw/ZEBRAFISH_Data_Dir/LoomingDifferentSpeeds/LoomingDifferentSpeeds/LoomingDifferentSpeeds00039.mat  \n",
      "  inflating: /mnt/cube/tsainbur/Projects/github_repos/childes_mi_project/data/raw/ZEBRAFISH_Data_Dir/LoomingDifferentSpeeds/LoomingDifferentSpeeds/LoomingDifferentSpeeds00040.mat  \n",
      "  inflating: /mnt/cube/tsainbur/Projects/github_repos/childes_mi_project/data/raw/ZEBRAFISH_Data_Dir/LoomingDifferentSpeeds/LoomingDifferentSpeeds/LoomingDifferentSpeeds00041.mat  \n",
      "  inflating: /mnt/cube/tsainbur/Projects/github_repos/childes_mi_project/data/raw/ZEBRAFISH_Data_Dir/LoomingDifferentSpeeds/LoomingDifferentSpeeds/LoomingDifferentSpeeds00042.mat  \n",
      "  inflating: /mnt/cube/tsainbur/Projects/github_repos/childes_mi_project/data/raw/ZEBRAFISH_Data_Dir/LoomingDifferentSpeeds/LoomingDifferentSpeeds/LoomingDifferentSpeeds00043.mat  \n",
      "  inflating: /mnt/cube/tsainbur/Projects/github_repos/childes_mi_project/data/raw/ZEBRAFISH_Data_Dir/LoomingDifferentSpeeds/LoomingDifferentSpeeds/LoomingDifferentSpeeds00044.mat  \n"
     ]
    },
    {
     "name": "stdout",
     "output_type": "stream",
     "text": [
      "  inflating: /mnt/cube/tsainbur/Projects/github_repos/childes_mi_project/data/raw/ZEBRAFISH_Data_Dir/LoomingDifferentSpeeds/LoomingDifferentSpeeds/LoomingDifferentSpeeds00045.mat  \n",
      "  inflating: /mnt/cube/tsainbur/Projects/github_repos/childes_mi_project/data/raw/ZEBRAFISH_Data_Dir/LoomingDifferentSpeeds/LoomingDifferentSpeeds/LoomingDifferentSpeeds00046.mat  \n",
      "  inflating: /mnt/cube/tsainbur/Projects/github_repos/childes_mi_project/data/raw/ZEBRAFISH_Data_Dir/LoomingDifferentSpeeds/LoomingDifferentSpeeds/LoomingDifferentSpeeds00047.mat  \n",
      "  inflating: /mnt/cube/tsainbur/Projects/github_repos/childes_mi_project/data/raw/ZEBRAFISH_Data_Dir/LoomingDifferentSpeeds/LoomingDifferentSpeeds/LoomingDifferentSpeeds00048.mat  \n",
      "  inflating: /mnt/cube/tsainbur/Projects/github_repos/childes_mi_project/data/raw/ZEBRAFISH_Data_Dir/LoomingDifferentSpeeds/LoomingDifferentSpeeds/LoomingDifferentSpeeds00049.mat  \n",
      "  inflating: /mnt/cube/tsainbur/Projects/github_repos/childes_mi_project/data/raw/ZEBRAFISH_Data_Dir/LoomingDifferentSpeeds/LoomingDifferentSpeeds/LoomingDifferentSpeeds00050.mat  \n",
      "  inflating: /mnt/cube/tsainbur/Projects/github_repos/childes_mi_project/data/raw/ZEBRAFISH_Data_Dir/LoomingDifferentSpeeds/LoomingDifferentSpeeds/LoomingDifferentSpeeds00051.mat  \n",
      "  inflating: /mnt/cube/tsainbur/Projects/github_repos/childes_mi_project/data/raw/ZEBRAFISH_Data_Dir/LoomingDifferentSpeeds/LoomingDifferentSpeeds/LoomingDifferentSpeeds00052.mat  \n",
      "  inflating: /mnt/cube/tsainbur/Projects/github_repos/childes_mi_project/data/raw/ZEBRAFISH_Data_Dir/LoomingDifferentSpeeds/LoomingDifferentSpeeds/LoomingDifferentSpeeds00053.mat  \n",
      "  inflating: /mnt/cube/tsainbur/Projects/github_repos/childes_mi_project/data/raw/ZEBRAFISH_Data_Dir/LoomingDifferentSpeeds/LoomingDifferentSpeeds/LoomingDifferentSpeeds00054.mat  \n",
      "  inflating: /mnt/cube/tsainbur/Projects/github_repos/childes_mi_project/data/raw/ZEBRAFISH_Data_Dir/LoomingDifferentSpeeds/LoomingDifferentSpeeds/LoomingDifferentSpeeds00055.mat  \n",
      "  inflating: /mnt/cube/tsainbur/Projects/github_repos/childes_mi_project/data/raw/ZEBRAFISH_Data_Dir/LoomingDifferentSpeeds/LoomingDifferentSpeeds/LoomingDifferentSpeeds00056.mat  \n",
      "  inflating: /mnt/cube/tsainbur/Projects/github_repos/childes_mi_project/data/raw/ZEBRAFISH_Data_Dir/LoomingDifferentSpeeds/LoomingDifferentSpeeds/LoomingDifferentSpeeds00057.mat  \n",
      "  inflating: /mnt/cube/tsainbur/Projects/github_repos/childes_mi_project/data/raw/ZEBRAFISH_Data_Dir/LoomingDifferentSpeeds/LoomingDifferentSpeeds/LoomingDifferentSpeeds00058.mat  \n",
      "  inflating: /mnt/cube/tsainbur/Projects/github_repos/childes_mi_project/data/raw/ZEBRAFISH_Data_Dir/LoomingDifferentSpeeds/LoomingDifferentSpeeds/LoomingDifferentSpeeds00059.mat  \n",
      "  inflating: /mnt/cube/tsainbur/Projects/github_repos/childes_mi_project/data/raw/ZEBRAFISH_Data_Dir/LoomingDifferentSpeeds/LoomingDifferentSpeeds/LoomingDifferentSpeeds00060.mat  \n",
      "  inflating: /mnt/cube/tsainbur/Projects/github_repos/childes_mi_project/data/raw/ZEBRAFISH_Data_Dir/LoomingDifferentSpeeds/LoomingDifferentSpeeds/LoomingDifferentSpeeds00061.mat  \n"
     ]
    },
    {
     "data": {
      "application/vnd.jupyter.widget-view+json": {
       "model_id": "466a0d50872d4a14807a98d5e13f487a",
       "version_major": 2,
       "version_minor": 0
      },
      "text/plain": [
       "HBox(children=(IntProgress(value=0, max=548073864), HTML(value='')))"
      ]
     },
     "metadata": {},
     "output_type": "display_data"
    },
    {
     "name": "stdout",
     "output_type": "stream",
     "text": [
      "Archive:  /mnt/cube/tsainbur/Projects/github_repos/childes_mi_project/data/raw/ZEBRAFISH_Data_Dir/OMRSpeed.zip?dl=1\n",
      "  inflating: /mnt/cube/tsainbur/Projects/github_repos/childes_mi_project/data/raw/ZEBRAFISH_Data_Dir/OMRSpeed/OMRSpeed5/OMRSpeed500001.mat  \n",
      "  inflating: /mnt/cube/tsainbur/Projects/github_repos/childes_mi_project/data/raw/ZEBRAFISH_Data_Dir/OMRSpeed/OMRSpeed5/OMRSpeed500002.mat  \n",
      "  inflating: /mnt/cube/tsainbur/Projects/github_repos/childes_mi_project/data/raw/ZEBRAFISH_Data_Dir/OMRSpeed/OMRSpeed5/OMRSpeed500003.mat  \n",
      "  inflating: /mnt/cube/tsainbur/Projects/github_repos/childes_mi_project/data/raw/ZEBRAFISH_Data_Dir/OMRSpeed/OMRSpeed5/OMRSpeed500004.mat  \n",
      "  inflating: /mnt/cube/tsainbur/Projects/github_repos/childes_mi_project/data/raw/ZEBRAFISH_Data_Dir/OMRSpeed/OMRSpeed5/OMRSpeed500005.mat  \n",
      "  inflating: /mnt/cube/tsainbur/Projects/github_repos/childes_mi_project/data/raw/ZEBRAFISH_Data_Dir/OMRSpeed/OMRSpeed5/OMRSpeed500006.mat  \n",
      "  inflating: /mnt/cube/tsainbur/Projects/github_repos/childes_mi_project/data/raw/ZEBRAFISH_Data_Dir/OMRSpeed/OMRSpeed5/OMRSpeed500007.mat  \n",
      "  inflating: /mnt/cube/tsainbur/Projects/github_repos/childes_mi_project/data/raw/ZEBRAFISH_Data_Dir/OMRSpeed/OMRSpeed5/OMRSpeed500008.mat  \n",
      "  inflating: /mnt/cube/tsainbur/Projects/github_repos/childes_mi_project/data/raw/ZEBRAFISH_Data_Dir/OMRSpeed/OMRSpeed5/OMRSpeed500009.mat  \n",
      "  inflating: /mnt/cube/tsainbur/Projects/github_repos/childes_mi_project/data/raw/ZEBRAFISH_Data_Dir/OMRSpeed/OMRSpeed5/OMRSpeed500010.mat  \n",
      "  inflating: /mnt/cube/tsainbur/Projects/github_repos/childes_mi_project/data/raw/ZEBRAFISH_Data_Dir/OMRSpeed/OMRSpeed5/OMRSpeed500011.mat  \n",
      "  inflating: /mnt/cube/tsainbur/Projects/github_repos/childes_mi_project/data/raw/ZEBRAFISH_Data_Dir/OMRSpeed/OMRSpeed5/OMRSpeed500012.mat  \n"
     ]
    },
    {
     "data": {
      "application/vnd.jupyter.widget-view+json": {
       "model_id": "61f1641ee3274f6782e7060561b4ed46",
       "version_major": 2,
       "version_minor": 0
      },
      "text/plain": [
       "HBox(children=(IntProgress(value=0, max=240926341), HTML(value='')))"
      ]
     },
     "metadata": {},
     "output_type": "display_data"
    },
    {
     "name": "stdout",
     "output_type": "stream",
     "text": [
      "Archive:  /mnt/cube/tsainbur/Projects/github_repos/childes_mi_project/data/raw/ZEBRAFISH_Data_Dir/OMRSpontaneousTu.zip?dl=1\n",
      "  inflating: /mnt/cube/tsainbur/Projects/github_repos/childes_mi_project/data/raw/ZEBRAFISH_Data_Dir/OMRSpontaneousTu/OMRSpontaneousTu/OMRSpontaneousTu00001.mat  \n",
      "  inflating: /mnt/cube/tsainbur/Projects/github_repos/childes_mi_project/data/raw/ZEBRAFISH_Data_Dir/OMRSpontaneousTu/OMRSpontaneousTu/OMRSpontaneousTu00002.mat  \n",
      "  inflating: /mnt/cube/tsainbur/Projects/github_repos/childes_mi_project/data/raw/ZEBRAFISH_Data_Dir/OMRSpontaneousTu/OMRSpontaneousTu/OMRSpontaneousTu00003.mat  \n",
      "  inflating: /mnt/cube/tsainbur/Projects/github_repos/childes_mi_project/data/raw/ZEBRAFISH_Data_Dir/OMRSpontaneousTu/OMRSpontaneousTu/OMRSpontaneousTu00004.mat  \n",
      "  inflating: /mnt/cube/tsainbur/Projects/github_repos/childes_mi_project/data/raw/ZEBRAFISH_Data_Dir/OMRSpontaneousTu/OMRSpontaneousTu/OMRSpontaneousTu00005.mat  \n",
      "  inflating: /mnt/cube/tsainbur/Projects/github_repos/childes_mi_project/data/raw/ZEBRAFISH_Data_Dir/OMRSpontaneousTu/OMRSpontaneousTu/OMRSpontaneousTu00006.mat  \n"
     ]
    },
    {
     "data": {
      "application/vnd.jupyter.widget-view+json": {
       "model_id": "56086b2be72b414aa178143787344ef8",
       "version_major": 2,
       "version_minor": 0
      },
      "text/plain": [
       "HBox(children=(IntProgress(value=0, max=317324172), HTML(value='')))"
      ]
     },
     "metadata": {},
     "output_type": "display_data"
    },
    {
     "name": "stdout",
     "output_type": "stream",
     "text": [
      "Archive:  /mnt/cube/tsainbur/Projects/github_repos/childes_mi_project/data/raw/ZEBRAFISH_Data_Dir/OMRSpontaneousTu2.zip?dl=1\n",
      "   creating: /mnt/cube/tsainbur/Projects/github_repos/childes_mi_project/data/raw/ZEBRAFISH_Data_Dir/OMRSpontaneousTu2/OMRSpontaneousTu2/\n",
      "  inflating: /mnt/cube/tsainbur/Projects/github_repos/childes_mi_project/data/raw/ZEBRAFISH_Data_Dir/OMRSpontaneousTu2/OMRSpontaneousTu2/OMRSpontaneousTu200001.mat  \n",
      "  inflating: /mnt/cube/tsainbur/Projects/github_repos/childes_mi_project/data/raw/ZEBRAFISH_Data_Dir/OMRSpontaneousTu2/OMRSpontaneousTu2/OMRSpontaneousTu200002.mat  \n",
      "  inflating: /mnt/cube/tsainbur/Projects/github_repos/childes_mi_project/data/raw/ZEBRAFISH_Data_Dir/OMRSpontaneousTu2/OMRSpontaneousTu2/OMRSpontaneousTu200003.mat  \n",
      "  inflating: /mnt/cube/tsainbur/Projects/github_repos/childes_mi_project/data/raw/ZEBRAFISH_Data_Dir/OMRSpontaneousTu2/OMRSpontaneousTu2/OMRSpontaneousTu200004.mat  \n",
      "  inflating: /mnt/cube/tsainbur/Projects/github_repos/childes_mi_project/data/raw/ZEBRAFISH_Data_Dir/OMRSpontaneousTu2/OMRSpontaneousTu2/OMRSpontaneousTu200005.mat  \n",
      "  inflating: /mnt/cube/tsainbur/Projects/github_repos/childes_mi_project/data/raw/ZEBRAFISH_Data_Dir/OMRSpontaneousTu2/OMRSpontaneousTu2/OMRSpontaneousTu200006.mat  \n"
     ]
    },
    {
     "data": {
      "application/vnd.jupyter.widget-view+json": {
       "model_id": "3aac7ba6e7e24e3e8db34bc2508610c5",
       "version_major": 2,
       "version_minor": 0
      },
      "text/plain": [
       "HBox(children=(IntProgress(value=0, max=777692051), HTML(value='')))"
      ]
     },
     "metadata": {},
     "output_type": "display_data"
    },
    {
     "name": "stdout",
     "output_type": "stream",
     "text": [
      "Archive:  /mnt/cube/tsainbur/Projects/github_repos/childes_mi_project/data/raw/ZEBRAFISH_Data_Dir/OMRTurns.zip?dl=1\n",
      "   creating: /mnt/cube/tsainbur/Projects/github_repos/childes_mi_project/data/raw/ZEBRAFISH_Data_Dir/OMRTurns/OMRTurns2/\n",
      "  inflating: /mnt/cube/tsainbur/Projects/github_repos/childes_mi_project/data/raw/ZEBRAFISH_Data_Dir/OMRTurns/OMRTurns2/OMRTurns200001.mat  \n",
      "  inflating: /mnt/cube/tsainbur/Projects/github_repos/childes_mi_project/data/raw/ZEBRAFISH_Data_Dir/OMRTurns/OMRTurns2/OMRTurns200002.mat  \n",
      "  inflating: /mnt/cube/tsainbur/Projects/github_repos/childes_mi_project/data/raw/ZEBRAFISH_Data_Dir/OMRTurns/OMRTurns2/OMRTurns200003.mat  \n",
      "  inflating: /mnt/cube/tsainbur/Projects/github_repos/childes_mi_project/data/raw/ZEBRAFISH_Data_Dir/OMRTurns/OMRTurns2/OMRTurns200004.mat  \n",
      "  inflating: /mnt/cube/tsainbur/Projects/github_repos/childes_mi_project/data/raw/ZEBRAFISH_Data_Dir/OMRTurns/OMRTurns2/OMRTurns200005.mat  \n",
      "  inflating: /mnt/cube/tsainbur/Projects/github_repos/childes_mi_project/data/raw/ZEBRAFISH_Data_Dir/OMRTurns/OMRTurns2/OMRTurns200006.mat  \n",
      "  inflating: /mnt/cube/tsainbur/Projects/github_repos/childes_mi_project/data/raw/ZEBRAFISH_Data_Dir/OMRTurns/OMRTurns2/OMRTurns200007.mat  \n",
      "  inflating: /mnt/cube/tsainbur/Projects/github_repos/childes_mi_project/data/raw/ZEBRAFISH_Data_Dir/OMRTurns/OMRTurns2/OMRTurns200008.mat  \n",
      "  inflating: /mnt/cube/tsainbur/Projects/github_repos/childes_mi_project/data/raw/ZEBRAFISH_Data_Dir/OMRTurns/OMRTurns2/OMRTurns200009.mat  \n",
      "  inflating: /mnt/cube/tsainbur/Projects/github_repos/childes_mi_project/data/raw/ZEBRAFISH_Data_Dir/OMRTurns/OMRTurns2/OMRTurns200010.mat  \n",
      "  inflating: /mnt/cube/tsainbur/Projects/github_repos/childes_mi_project/data/raw/ZEBRAFISH_Data_Dir/OMRTurns/OMRTurns2/OMRTurns200011.mat  \n",
      "  inflating: /mnt/cube/tsainbur/Projects/github_repos/childes_mi_project/data/raw/ZEBRAFISH_Data_Dir/OMRTurns/OMRTurns2/OMRTurns200012.mat  \n",
      "  inflating: /mnt/cube/tsainbur/Projects/github_repos/childes_mi_project/data/raw/ZEBRAFISH_Data_Dir/OMRTurns/OMRTurns2/OMRTurns200013.mat  \n",
      "  inflating: /mnt/cube/tsainbur/Projects/github_repos/childes_mi_project/data/raw/ZEBRAFISH_Data_Dir/OMRTurns/OMRTurns2/OMRTurns200014.mat  \n",
      "  inflating: /mnt/cube/tsainbur/Projects/github_repos/childes_mi_project/data/raw/ZEBRAFISH_Data_Dir/OMRTurns/OMRTurns2/OMRTurns200015.mat  \n",
      "  inflating: /mnt/cube/tsainbur/Projects/github_repos/childes_mi_project/data/raw/ZEBRAFISH_Data_Dir/OMRTurns/OMRTurns2/OMRTurns200016.mat  \n",
      "  inflating: /mnt/cube/tsainbur/Projects/github_repos/childes_mi_project/data/raw/ZEBRAFISH_Data_Dir/OMRTurns/OMRTurns2/OMRTurns200017.mat  \n",
      "  inflating: /mnt/cube/tsainbur/Projects/github_repos/childes_mi_project/data/raw/ZEBRAFISH_Data_Dir/OMRTurns/OMRTurns2/OMRTurns200018.mat  \n",
      "  inflating: /mnt/cube/tsainbur/Projects/github_repos/childes_mi_project/data/raw/ZEBRAFISH_Data_Dir/OMRTurns/OMRTurns2/OMRTurns200019.mat  \n",
      "  inflating: /mnt/cube/tsainbur/Projects/github_repos/childes_mi_project/data/raw/ZEBRAFISH_Data_Dir/OMRTurns/OMRTurns2/OMRTurns200020.mat  \n",
      "  inflating: /mnt/cube/tsainbur/Projects/github_repos/childes_mi_project/data/raw/ZEBRAFISH_Data_Dir/OMRTurns/OMRTurns2/OMRTurns200021.mat  \n",
      "  inflating: /mnt/cube/tsainbur/Projects/github_repos/childes_mi_project/data/raw/ZEBRAFISH_Data_Dir/OMRTurns/OMRTurns2/OMRTurns200022.mat  \n",
      "  inflating: /mnt/cube/tsainbur/Projects/github_repos/childes_mi_project/data/raw/ZEBRAFISH_Data_Dir/OMRTurns/OMRTurns2/OMRTurns200023.mat  \n",
      "  inflating: /mnt/cube/tsainbur/Projects/github_repos/childes_mi_project/data/raw/ZEBRAFISH_Data_Dir/OMRTurns/OMRTurns2/OMRTurns200024.mat  \n",
      "  inflating: /mnt/cube/tsainbur/Projects/github_repos/childes_mi_project/data/raw/ZEBRAFISH_Data_Dir/OMRTurns/OMRTurns2/OMRTurns200025.mat  \n",
      "  inflating: /mnt/cube/tsainbur/Projects/github_repos/childes_mi_project/data/raw/ZEBRAFISH_Data_Dir/OMRTurns/OMRTurns2/OMRTurns200026.mat  \n",
      "  inflating: /mnt/cube/tsainbur/Projects/github_repos/childes_mi_project/data/raw/ZEBRAFISH_Data_Dir/OMRTurns/OMRTurns2/OMRTurns200027.mat  \n",
      "  inflating: /mnt/cube/tsainbur/Projects/github_repos/childes_mi_project/data/raw/ZEBRAFISH_Data_Dir/OMRTurns/OMRTurns2/OMRTurns200028.mat  \n",
      "  inflating: /mnt/cube/tsainbur/Projects/github_repos/childes_mi_project/data/raw/ZEBRAFISH_Data_Dir/OMRTurns/OMRTurns2/OMRTurns200029.mat  \n",
      "  inflating: /mnt/cube/tsainbur/Projects/github_repos/childes_mi_project/data/raw/ZEBRAFISH_Data_Dir/OMRTurns/OMRTurns2/OMRTurns200030.mat  \n"
     ]
    },
    {
     "data": {
      "application/vnd.jupyter.widget-view+json": {
       "model_id": "9593ce2ef79642aa8492ccf3a3a7b7c9",
       "version_major": 2,
       "version_minor": 0
      },
      "text/plain": [
       "HBox(children=(IntProgress(value=0, max=1005831153), HTML(value='')))"
      ]
     },
     "metadata": {},
     "output_type": "display_data"
    },
    {
     "name": "stdout",
     "output_type": "stream",
     "text": [
      "Archive:  /mnt/cube/tsainbur/Projects/github_repos/childes_mi_project/data/raw/ZEBRAFISH_Data_Dir/Phototaxis.zip?dl=1\n",
      "   creating: /mnt/cube/tsainbur/Projects/github_repos/childes_mi_project/data/raw/ZEBRAFISH_Data_Dir/Phototaxis/Phototaxis4/\n",
      "  inflating: /mnt/cube/tsainbur/Projects/github_repos/childes_mi_project/data/raw/ZEBRAFISH_Data_Dir/Phototaxis/Phototaxis4/Phototaxis400001.mat  \n",
      "  inflating: /mnt/cube/tsainbur/Projects/github_repos/childes_mi_project/data/raw/ZEBRAFISH_Data_Dir/Phototaxis/Phototaxis4/Phototaxis400002.mat  \n",
      "  inflating: /mnt/cube/tsainbur/Projects/github_repos/childes_mi_project/data/raw/ZEBRAFISH_Data_Dir/Phototaxis/Phototaxis4/Phototaxis400003.mat  \n",
      "  inflating: /mnt/cube/tsainbur/Projects/github_repos/childes_mi_project/data/raw/ZEBRAFISH_Data_Dir/Phototaxis/Phototaxis4/Phototaxis400004.mat  \n",
      "  inflating: /mnt/cube/tsainbur/Projects/github_repos/childes_mi_project/data/raw/ZEBRAFISH_Data_Dir/Phototaxis/Phototaxis4/Phototaxis400005.mat  \n",
      "  inflating: /mnt/cube/tsainbur/Projects/github_repos/childes_mi_project/data/raw/ZEBRAFISH_Data_Dir/Phototaxis/Phototaxis4/Phototaxis400006.mat  \n",
      "  inflating: /mnt/cube/tsainbur/Projects/github_repos/childes_mi_project/data/raw/ZEBRAFISH_Data_Dir/Phototaxis/Phototaxis4/Phototaxis400007.mat  \n",
      "  inflating: /mnt/cube/tsainbur/Projects/github_repos/childes_mi_project/data/raw/ZEBRAFISH_Data_Dir/Phototaxis/Phototaxis4/Phototaxis400008.mat  \n",
      "  inflating: /mnt/cube/tsainbur/Projects/github_repos/childes_mi_project/data/raw/ZEBRAFISH_Data_Dir/Phototaxis/Phototaxis4/Phototaxis400009.mat  \n",
      "  inflating: /mnt/cube/tsainbur/Projects/github_repos/childes_mi_project/data/raw/ZEBRAFISH_Data_Dir/Phototaxis/Phototaxis4/Phototaxis400010.mat  \n",
      "  inflating: /mnt/cube/tsainbur/Projects/github_repos/childes_mi_project/data/raw/ZEBRAFISH_Data_Dir/Phototaxis/Phototaxis4/Phototaxis400011.mat  \n",
      "  inflating: /mnt/cube/tsainbur/Projects/github_repos/childes_mi_project/data/raw/ZEBRAFISH_Data_Dir/Phototaxis/Phototaxis4/Phototaxis400012.mat  \n",
      "  inflating: /mnt/cube/tsainbur/Projects/github_repos/childes_mi_project/data/raw/ZEBRAFISH_Data_Dir/Phototaxis/Phototaxis4/Phototaxis400013.mat  \n",
      "  inflating: /mnt/cube/tsainbur/Projects/github_repos/childes_mi_project/data/raw/ZEBRAFISH_Data_Dir/Phototaxis/Phototaxis4/Phototaxis400014.mat  \n",
      "  inflating: /mnt/cube/tsainbur/Projects/github_repos/childes_mi_project/data/raw/ZEBRAFISH_Data_Dir/Phototaxis/Phototaxis4/Phototaxis400015.mat  \n",
      "  inflating: /mnt/cube/tsainbur/Projects/github_repos/childes_mi_project/data/raw/ZEBRAFISH_Data_Dir/Phototaxis/Phototaxis4/Phototaxis400016.mat  \n",
      "  inflating: /mnt/cube/tsainbur/Projects/github_repos/childes_mi_project/data/raw/ZEBRAFISH_Data_Dir/Phototaxis/Phototaxis4/Phototaxis400017.mat  \n",
      "  inflating: /mnt/cube/tsainbur/Projects/github_repos/childes_mi_project/data/raw/ZEBRAFISH_Data_Dir/Phototaxis/Phototaxis4/Phototaxis400018.mat  \n",
      "  inflating: /mnt/cube/tsainbur/Projects/github_repos/childes_mi_project/data/raw/ZEBRAFISH_Data_Dir/Phototaxis/Phototaxis4/Phototaxis400019.mat  \n",
      "  inflating: /mnt/cube/tsainbur/Projects/github_repos/childes_mi_project/data/raw/ZEBRAFISH_Data_Dir/Phototaxis/Phototaxis4/Phototaxis400020.mat  \n",
      "  inflating: /mnt/cube/tsainbur/Projects/github_repos/childes_mi_project/data/raw/ZEBRAFISH_Data_Dir/Phototaxis/Phototaxis4/Phototaxis400021.mat  \n",
      "  inflating: /mnt/cube/tsainbur/Projects/github_repos/childes_mi_project/data/raw/ZEBRAFISH_Data_Dir/Phototaxis/Phototaxis4/Phototaxis400022.mat  \n",
      "  inflating: /mnt/cube/tsainbur/Projects/github_repos/childes_mi_project/data/raw/ZEBRAFISH_Data_Dir/Phototaxis/Phototaxis4/Phototaxis400023.mat  \n",
      "  inflating: /mnt/cube/tsainbur/Projects/github_repos/childes_mi_project/data/raw/ZEBRAFISH_Data_Dir/Phototaxis/Phototaxis4/Phototaxis400024.mat  \n",
      "  inflating: /mnt/cube/tsainbur/Projects/github_repos/childes_mi_project/data/raw/ZEBRAFISH_Data_Dir/Phototaxis/Phototaxis4/Phototaxis400025.mat  \n",
      "  inflating: /mnt/cube/tsainbur/Projects/github_repos/childes_mi_project/data/raw/ZEBRAFISH_Data_Dir/Phototaxis/Phototaxis4/Phototaxis400026.mat  \n",
      "  inflating: /mnt/cube/tsainbur/Projects/github_repos/childes_mi_project/data/raw/ZEBRAFISH_Data_Dir/Phototaxis/Phototaxis4/Phototaxis400027.mat  \n",
      "  inflating: /mnt/cube/tsainbur/Projects/github_repos/childes_mi_project/data/raw/ZEBRAFISH_Data_Dir/Phototaxis/Phototaxis4/Phototaxis400028.mat  \n",
      "  inflating: /mnt/cube/tsainbur/Projects/github_repos/childes_mi_project/data/raw/ZEBRAFISH_Data_Dir/Phototaxis/Phototaxis4/Phototaxis400029.mat  \n",
      "  inflating: /mnt/cube/tsainbur/Projects/github_repos/childes_mi_project/data/raw/ZEBRAFISH_Data_Dir/Phototaxis/Phototaxis4/Phototaxis400030.mat  \n"
     ]
    },
    {
     "data": {
      "application/vnd.jupyter.widget-view+json": {
       "model_id": "bc92f03775d94ec0b6ad5322aef39fcf",
       "version_major": 2,
       "version_minor": 0
      },
      "text/plain": [
       "HBox(children=(IntProgress(value=0, max=3059852874), HTML(value='')))"
      ]
     },
     "metadata": {},
     "output_type": "display_data"
    },
    {
     "name": "stdout",
     "output_type": "stream",
     "text": [
      "Archive:  /mnt/cube/tsainbur/Projects/github_repos/childes_mi_project/data/raw/ZEBRAFISH_Data_Dir/PreyCapture.zip?dl=1\r\n",
      "  End-of-central-directory signature not found.  Either this file is not\r\n",
      "  a zipfile, or it constitutes one disk of a multi-part archive.  In the\r\n",
      "  latter case the central directory and zipfile comment will be found on\r\n",
      "  the last disk(s) of this archive.\r\n",
      "unzip:  cannot find zipfile directory in one of /mnt/cube/tsainbur/Projects/github_repos/childes_mi_project/data/raw/ZEBRAFISH_Data_Dir/PreyCapture.zip?dl=1 or\r\n",
      "        /mnt/cube/tsainbur/Projects/github_repos/childes_mi_project/data/raw/ZEBRAFISH_Data_Dir/PreyCapture.zip?dl=1.zip, and cannot find /mnt/cube/tsainbur/Projects/github_repos/childes_mi_project/data/raw/ZEBRAFISH_Data_Dir/PreyCapture.zip?dl=1.ZIP, period.\r\n",
      "\r\n",
      "No zipfiles found.\r\n"
     ]
    },
    {
     "data": {
      "application/vnd.jupyter.widget-view+json": {
       "model_id": "8cd0b143c6cf42889eb04877f00513c8",
       "version_major": 2,
       "version_minor": 0
      },
      "text/plain": [
       "HBox(children=(IntProgress(value=0, max=2299077689), HTML(value='')))"
      ]
     },
     "metadata": {},
     "output_type": "display_data"
    },
    {
     "name": "stdout",
     "output_type": "stream",
     "text": [
      "Archive:  /mnt/cube/tsainbur/Projects/github_repos/childes_mi_project/data/raw/ZEBRAFISH_Data_Dir/PreyCaptureExpTu.zip?dl=1\n",
      "   creating: /mnt/cube/tsainbur/Projects/github_repos/childes_mi_project/data/raw/ZEBRAFISH_Data_Dir/PreyCaptureExpTu/PreyCaptureExpTu/\n",
      "  inflating: /mnt/cube/tsainbur/Projects/github_repos/childes_mi_project/data/raw/ZEBRAFISH_Data_Dir/PreyCaptureExpTu/PreyCaptureExpTu/PreyCaptureExpTu00001.mat  \n",
      "  inflating: /mnt/cube/tsainbur/Projects/github_repos/childes_mi_project/data/raw/ZEBRAFISH_Data_Dir/PreyCaptureExpTu/PreyCaptureExpTu/PreyCaptureExpTu00002.mat  \n",
      "  inflating: /mnt/cube/tsainbur/Projects/github_repos/childes_mi_project/data/raw/ZEBRAFISH_Data_Dir/PreyCaptureExpTu/PreyCaptureExpTu/PreyCaptureExpTu00003.mat  \n",
      "  inflating: /mnt/cube/tsainbur/Projects/github_repos/childes_mi_project/data/raw/ZEBRAFISH_Data_Dir/PreyCaptureExpTu/PreyCaptureExpTu/PreyCaptureExpTu00004.mat  \n",
      "  inflating: /mnt/cube/tsainbur/Projects/github_repos/childes_mi_project/data/raw/ZEBRAFISH_Data_Dir/PreyCaptureExpTu/PreyCaptureExpTu/PreyCaptureExpTu00005.mat  \n",
      "  inflating: /mnt/cube/tsainbur/Projects/github_repos/childes_mi_project/data/raw/ZEBRAFISH_Data_Dir/PreyCaptureExpTu/PreyCaptureExpTu/PreyCaptureExpTu00006.mat  \n",
      "  inflating: /mnt/cube/tsainbur/Projects/github_repos/childes_mi_project/data/raw/ZEBRAFISH_Data_Dir/PreyCaptureExpTu/PreyCaptureExpTu/PreyCaptureExpTu00007.mat  \n",
      "  inflating: /mnt/cube/tsainbur/Projects/github_repos/childes_mi_project/data/raw/ZEBRAFISH_Data_Dir/PreyCaptureExpTu/PreyCaptureExpTu/PreyCaptureExpTu00008.mat  \n",
      "  inflating: /mnt/cube/tsainbur/Projects/github_repos/childes_mi_project/data/raw/ZEBRAFISH_Data_Dir/PreyCaptureExpTu/PreyCaptureExpTu/PreyCaptureExpTu00009.mat  \n",
      "  inflating: /mnt/cube/tsainbur/Projects/github_repos/childes_mi_project/data/raw/ZEBRAFISH_Data_Dir/PreyCaptureExpTu/PreyCaptureExpTu/PreyCaptureExpTu00010.mat  \n",
      "  inflating: /mnt/cube/tsainbur/Projects/github_repos/childes_mi_project/data/raw/ZEBRAFISH_Data_Dir/PreyCaptureExpTu/PreyCaptureExpTu/PreyCaptureExpTu00011.mat  \n",
      "  inflating: /mnt/cube/tsainbur/Projects/github_repos/childes_mi_project/data/raw/ZEBRAFISH_Data_Dir/PreyCaptureExpTu/PreyCaptureExpTu/PreyCaptureExpTu00012.mat  \n",
      "  inflating: /mnt/cube/tsainbur/Projects/github_repos/childes_mi_project/data/raw/ZEBRAFISH_Data_Dir/PreyCaptureExpTu/PreyCaptureExpTu/PreyCaptureExpTu00013.mat  \n",
      "  inflating: /mnt/cube/tsainbur/Projects/github_repos/childes_mi_project/data/raw/ZEBRAFISH_Data_Dir/PreyCaptureExpTu/PreyCaptureExpTu/PreyCaptureExpTu00014.mat  \n",
      "  inflating: /mnt/cube/tsainbur/Projects/github_repos/childes_mi_project/data/raw/ZEBRAFISH_Data_Dir/PreyCaptureExpTu/PreyCaptureExpTu/PreyCaptureExpTu00015.mat  \n",
      "  inflating: /mnt/cube/tsainbur/Projects/github_repos/childes_mi_project/data/raw/ZEBRAFISH_Data_Dir/PreyCaptureExpTu/PreyCaptureExpTu/PreyCaptureExpTu00016.mat  \n",
      "  inflating: /mnt/cube/tsainbur/Projects/github_repos/childes_mi_project/data/raw/ZEBRAFISH_Data_Dir/PreyCaptureExpTu/PreyCaptureExpTu/PreyCaptureExpTu00017.mat  \n",
      "  inflating: /mnt/cube/tsainbur/Projects/github_repos/childes_mi_project/data/raw/ZEBRAFISH_Data_Dir/PreyCaptureExpTu/PreyCaptureExpTu/PreyCaptureExpTu00018.mat  \n",
      "  inflating: /mnt/cube/tsainbur/Projects/github_repos/childes_mi_project/data/raw/ZEBRAFISH_Data_Dir/PreyCaptureExpTu/PreyCaptureExpTu/PreyCaptureExpTu00019.mat  \n",
      "  inflating: /mnt/cube/tsainbur/Projects/github_repos/childes_mi_project/data/raw/ZEBRAFISH_Data_Dir/PreyCaptureExpTu/PreyCaptureExpTu/PreyCaptureExpTu00020.mat  \n",
      "  inflating: /mnt/cube/tsainbur/Projects/github_repos/childes_mi_project/data/raw/ZEBRAFISH_Data_Dir/PreyCaptureExpTu/PreyCaptureExpTu/PreyCaptureExpTu00021.mat  \n"
     ]
    },
    {
     "data": {
      "application/vnd.jupyter.widget-view+json": {
       "model_id": "50d91155557e4389bf369f7d939c9cdf",
       "version_major": 2,
       "version_minor": 0
      },
      "text/plain": [
       "HBox(children=(IntProgress(value=0, max=2266675404), HTML(value='')))"
      ]
     },
     "metadata": {},
     "output_type": "display_data"
    },
    {
     "name": "stdout",
     "output_type": "stream",
     "text": [
      "Archive:  /mnt/cube/tsainbur/Projects/github_repos/childes_mi_project/data/raw/ZEBRAFISH_Data_Dir/PreyCaptureExpTu2.zip?dl=1\n",
      "   creating: /mnt/cube/tsainbur/Projects/github_repos/childes_mi_project/data/raw/ZEBRAFISH_Data_Dir/PreyCaptureExpTu2/PreyCaptureExpTu2/\n",
      "  inflating: /mnt/cube/tsainbur/Projects/github_repos/childes_mi_project/data/raw/ZEBRAFISH_Data_Dir/PreyCaptureExpTu2/PreyCaptureExpTu2/PreyCaptureExpTu200001.mat  \n",
      "  inflating: /mnt/cube/tsainbur/Projects/github_repos/childes_mi_project/data/raw/ZEBRAFISH_Data_Dir/PreyCaptureExpTu2/PreyCaptureExpTu2/PreyCaptureExpTu200002.mat  \n",
      "  inflating: /mnt/cube/tsainbur/Projects/github_repos/childes_mi_project/data/raw/ZEBRAFISH_Data_Dir/PreyCaptureExpTu2/PreyCaptureExpTu2/PreyCaptureExpTu200003.mat  \n",
      "  inflating: /mnt/cube/tsainbur/Projects/github_repos/childes_mi_project/data/raw/ZEBRAFISH_Data_Dir/PreyCaptureExpTu2/PreyCaptureExpTu2/PreyCaptureExpTu200004.mat  \n",
      "  inflating: /mnt/cube/tsainbur/Projects/github_repos/childes_mi_project/data/raw/ZEBRAFISH_Data_Dir/PreyCaptureExpTu2/PreyCaptureExpTu2/PreyCaptureExpTu200005.mat  \n",
      "  inflating: /mnt/cube/tsainbur/Projects/github_repos/childes_mi_project/data/raw/ZEBRAFISH_Data_Dir/PreyCaptureExpTu2/PreyCaptureExpTu2/PreyCaptureExpTu200006.mat  \n",
      "  inflating: /mnt/cube/tsainbur/Projects/github_repos/childes_mi_project/data/raw/ZEBRAFISH_Data_Dir/PreyCaptureExpTu2/PreyCaptureExpTu2/PreyCaptureExpTu200007.mat  \n",
      "  inflating: /mnt/cube/tsainbur/Projects/github_repos/childes_mi_project/data/raw/ZEBRAFISH_Data_Dir/PreyCaptureExpTu2/PreyCaptureExpTu2/PreyCaptureExpTu200008.mat  \n",
      "  inflating: /mnt/cube/tsainbur/Projects/github_repos/childes_mi_project/data/raw/ZEBRAFISH_Data_Dir/PreyCaptureExpTu2/PreyCaptureExpTu2/PreyCaptureExpTu200009.mat  \n",
      "  inflating: /mnt/cube/tsainbur/Projects/github_repos/childes_mi_project/data/raw/ZEBRAFISH_Data_Dir/PreyCaptureExpTu2/PreyCaptureExpTu2/PreyCaptureExpTu200010.mat  \n",
      "  inflating: /mnt/cube/tsainbur/Projects/github_repos/childes_mi_project/data/raw/ZEBRAFISH_Data_Dir/PreyCaptureExpTu2/PreyCaptureExpTu2/PreyCaptureExpTu200011.mat  \n",
      "  inflating: /mnt/cube/tsainbur/Projects/github_repos/childes_mi_project/data/raw/ZEBRAFISH_Data_Dir/PreyCaptureExpTu2/PreyCaptureExpTu2/PreyCaptureExpTu200012.mat  \n",
      "  inflating: /mnt/cube/tsainbur/Projects/github_repos/childes_mi_project/data/raw/ZEBRAFISH_Data_Dir/PreyCaptureExpTu2/PreyCaptureExpTu2/PreyCaptureExpTu200013.mat  \n",
      "  inflating: /mnt/cube/tsainbur/Projects/github_repos/childes_mi_project/data/raw/ZEBRAFISH_Data_Dir/PreyCaptureExpTu2/PreyCaptureExpTu2/PreyCaptureExpTu200014.mat  \n",
      "  inflating: /mnt/cube/tsainbur/Projects/github_repos/childes_mi_project/data/raw/ZEBRAFISH_Data_Dir/PreyCaptureExpTu2/PreyCaptureExpTu2/PreyCaptureExpTu200015.mat  \n",
      "  inflating: /mnt/cube/tsainbur/Projects/github_repos/childes_mi_project/data/raw/ZEBRAFISH_Data_Dir/PreyCaptureExpTu2/PreyCaptureExpTu2/PreyCaptureExpTu200016.mat  \n",
      "  inflating: /mnt/cube/tsainbur/Projects/github_repos/childes_mi_project/data/raw/ZEBRAFISH_Data_Dir/PreyCaptureExpTu2/PreyCaptureExpTu2/PreyCaptureExpTu200017.mat  \n",
      "  inflating: /mnt/cube/tsainbur/Projects/github_repos/childes_mi_project/data/raw/ZEBRAFISH_Data_Dir/PreyCaptureExpTu2/PreyCaptureExpTu2/PreyCaptureExpTu200018.mat  \n",
      "  inflating: /mnt/cube/tsainbur/Projects/github_repos/childes_mi_project/data/raw/ZEBRAFISH_Data_Dir/PreyCaptureExpTu2/PreyCaptureExpTu2/PreyCaptureExpTu200019.mat  \n",
      "  inflating: /mnt/cube/tsainbur/Projects/github_repos/childes_mi_project/data/raw/ZEBRAFISH_Data_Dir/PreyCaptureExpTu2/PreyCaptureExpTu2/PreyCaptureExpTu200020.mat  \n",
      "  inflating: /mnt/cube/tsainbur/Projects/github_repos/childes_mi_project/data/raw/ZEBRAFISH_Data_Dir/PreyCaptureExpTu2/PreyCaptureExpTu2/PreyCaptureExpTu200021.mat  \n",
      "  inflating: /mnt/cube/tsainbur/Projects/github_repos/childes_mi_project/data/raw/ZEBRAFISH_Data_Dir/PreyCaptureExpTu2/PreyCaptureExpTu2/PreyCaptureExpTu200022.mat  \n",
      "  inflating: /mnt/cube/tsainbur/Projects/github_repos/childes_mi_project/data/raw/ZEBRAFISH_Data_Dir/PreyCaptureExpTu2/PreyCaptureExpTu2/PreyCaptureExpTu200023.mat  \n"
     ]
    },
    {
     "data": {
      "application/vnd.jupyter.widget-view+json": {
       "model_id": "fb1df87c5a124435a055a5cddde18634",
       "version_major": 2,
       "version_minor": 0
      },
      "text/plain": [
       "HBox(children=(IntProgress(value=0, max=1922029048), HTML(value='')))"
      ]
     },
     "metadata": {},
     "output_type": "display_data"
    },
    {
     "name": "stdout",
     "output_type": "stream",
     "text": [
      "Archive:  /mnt/cube/tsainbur/Projects/github_repos/childes_mi_project/data/raw/ZEBRAFISH_Data_Dir/PreyCaptureNaive.zip?dl=1\n",
      "   creating: /mnt/cube/tsainbur/Projects/github_repos/childes_mi_project/data/raw/ZEBRAFISH_Data_Dir/PreyCaptureNaive/PreyCaptureNaive/\n",
      "  inflating: /mnt/cube/tsainbur/Projects/github_repos/childes_mi_project/data/raw/ZEBRAFISH_Data_Dir/PreyCaptureNaive/PreyCaptureNaive/PreyCaptureNaive00001.mat  \n",
      "  inflating: /mnt/cube/tsainbur/Projects/github_repos/childes_mi_project/data/raw/ZEBRAFISH_Data_Dir/PreyCaptureNaive/PreyCaptureNaive/PreyCaptureNaive00002.mat  \n",
      "  inflating: /mnt/cube/tsainbur/Projects/github_repos/childes_mi_project/data/raw/ZEBRAFISH_Data_Dir/PreyCaptureNaive/PreyCaptureNaive/PreyCaptureNaive00003.mat  \n",
      "  inflating: /mnt/cube/tsainbur/Projects/github_repos/childes_mi_project/data/raw/ZEBRAFISH_Data_Dir/PreyCaptureNaive/PreyCaptureNaive/PreyCaptureNaive00004.mat  \n",
      "  inflating: /mnt/cube/tsainbur/Projects/github_repos/childes_mi_project/data/raw/ZEBRAFISH_Data_Dir/PreyCaptureNaive/PreyCaptureNaive/PreyCaptureNaive00005.mat  \n",
      "  inflating: /mnt/cube/tsainbur/Projects/github_repos/childes_mi_project/data/raw/ZEBRAFISH_Data_Dir/PreyCaptureNaive/PreyCaptureNaive/PreyCaptureNaive00006.mat  \n",
      "  inflating: /mnt/cube/tsainbur/Projects/github_repos/childes_mi_project/data/raw/ZEBRAFISH_Data_Dir/PreyCaptureNaive/PreyCaptureNaive/PreyCaptureNaive00007.mat  \n",
      "  inflating: /mnt/cube/tsainbur/Projects/github_repos/childes_mi_project/data/raw/ZEBRAFISH_Data_Dir/PreyCaptureNaive/PreyCaptureNaive/PreyCaptureNaive00008.mat  \n",
      "  inflating: /mnt/cube/tsainbur/Projects/github_repos/childes_mi_project/data/raw/ZEBRAFISH_Data_Dir/PreyCaptureNaive/PreyCaptureNaive/PreyCaptureNaive00009.mat  \n",
      "  inflating: /mnt/cube/tsainbur/Projects/github_repos/childes_mi_project/data/raw/ZEBRAFISH_Data_Dir/PreyCaptureNaive/PreyCaptureNaive/PreyCaptureNaive00010.mat  \n",
      "  inflating: /mnt/cube/tsainbur/Projects/github_repos/childes_mi_project/data/raw/ZEBRAFISH_Data_Dir/PreyCaptureNaive/PreyCaptureNaive/PreyCaptureNaive00011.mat  \n",
      "  inflating: /mnt/cube/tsainbur/Projects/github_repos/childes_mi_project/data/raw/ZEBRAFISH_Data_Dir/PreyCaptureNaive/PreyCaptureNaive/PreyCaptureNaive00012.mat  \n",
      "  inflating: /mnt/cube/tsainbur/Projects/github_repos/childes_mi_project/data/raw/ZEBRAFISH_Data_Dir/PreyCaptureNaive/PreyCaptureNaive/PreyCaptureNaive00013.mat  \n",
      "  inflating: /mnt/cube/tsainbur/Projects/github_repos/childes_mi_project/data/raw/ZEBRAFISH_Data_Dir/PreyCaptureNaive/PreyCaptureNaive/PreyCaptureNaive00014.mat  \n",
      "  inflating: /mnt/cube/tsainbur/Projects/github_repos/childes_mi_project/data/raw/ZEBRAFISH_Data_Dir/PreyCaptureNaive/PreyCaptureNaive/PreyCaptureNaive00015.mat  \n",
      "  inflating: /mnt/cube/tsainbur/Projects/github_repos/childes_mi_project/data/raw/ZEBRAFISH_Data_Dir/PreyCaptureNaive/PreyCaptureNaive/PreyCaptureNaive00016.mat  \n",
      "  inflating: /mnt/cube/tsainbur/Projects/github_repos/childes_mi_project/data/raw/ZEBRAFISH_Data_Dir/PreyCaptureNaive/PreyCaptureNaive/PreyCaptureNaive00017.mat  \n",
      "  inflating: /mnt/cube/tsainbur/Projects/github_repos/childes_mi_project/data/raw/ZEBRAFISH_Data_Dir/PreyCaptureNaive/PreyCaptureNaive/PreyCaptureNaive00018.mat  \n",
      "  inflating: /mnt/cube/tsainbur/Projects/github_repos/childes_mi_project/data/raw/ZEBRAFISH_Data_Dir/PreyCaptureNaive/PreyCaptureNaive/PreyCaptureNaive00019.mat  \n",
      "  inflating: /mnt/cube/tsainbur/Projects/github_repos/childes_mi_project/data/raw/ZEBRAFISH_Data_Dir/PreyCaptureNaive/PreyCaptureNaive/PreyCaptureNaive00020.mat  \n",
      "  inflating: /mnt/cube/tsainbur/Projects/github_repos/childes_mi_project/data/raw/ZEBRAFISH_Data_Dir/PreyCaptureNaive/PreyCaptureNaive/PreyCaptureNaive00021.mat  \n",
      "  inflating: /mnt/cube/tsainbur/Projects/github_repos/childes_mi_project/data/raw/ZEBRAFISH_Data_Dir/PreyCaptureNaive/PreyCaptureNaive/PreyCaptureNaive00022.mat  \n",
      "  inflating: /mnt/cube/tsainbur/Projects/github_repos/childes_mi_project/data/raw/ZEBRAFISH_Data_Dir/PreyCaptureNaive/PreyCaptureNaive/PreyCaptureNaive00023.mat  \n",
      "  inflating: /mnt/cube/tsainbur/Projects/github_repos/childes_mi_project/data/raw/ZEBRAFISH_Data_Dir/PreyCaptureNaive/PreyCaptureNaive/PreyCaptureNaive00024.mat  \n",
      "  inflating: /mnt/cube/tsainbur/Projects/github_repos/childes_mi_project/data/raw/ZEBRAFISH_Data_Dir/PreyCaptureNaive/PreyCaptureNaive/PreyCaptureNaive00025.mat  \n",
      "  inflating: /mnt/cube/tsainbur/Projects/github_repos/childes_mi_project/data/raw/ZEBRAFISH_Data_Dir/PreyCaptureNaive/PreyCaptureNaive/PreyCaptureNaive00026.mat  \n",
      "  inflating: /mnt/cube/tsainbur/Projects/github_repos/childes_mi_project/data/raw/ZEBRAFISH_Data_Dir/PreyCaptureNaive/PreyCaptureNaive/PreyCaptureNaive00027.mat  \n",
      "  inflating: /mnt/cube/tsainbur/Projects/github_repos/childes_mi_project/data/raw/ZEBRAFISH_Data_Dir/PreyCaptureNaive/PreyCaptureNaive/PreyCaptureNaive00028.mat  \n",
      "  inflating: /mnt/cube/tsainbur/Projects/github_repos/childes_mi_project/data/raw/ZEBRAFISH_Data_Dir/PreyCaptureNaive/PreyCaptureNaive/PreyCaptureNaive00029.mat  \n",
      "  inflating: /mnt/cube/tsainbur/Projects/github_repos/childes_mi_project/data/raw/ZEBRAFISH_Data_Dir/PreyCaptureNaive/PreyCaptureNaive/PreyCaptureNaive00030.mat  \n",
      "  inflating: /mnt/cube/tsainbur/Projects/github_repos/childes_mi_project/data/raw/ZEBRAFISH_Data_Dir/PreyCaptureNaive/PreyCaptureNaive/PreyCaptureNaive00031.mat  \n",
      "  inflating: /mnt/cube/tsainbur/Projects/github_repos/childes_mi_project/data/raw/ZEBRAFISH_Data_Dir/PreyCaptureNaive/PreyCaptureNaive/PreyCaptureNaive00032.mat  \n",
      "  inflating: /mnt/cube/tsainbur/Projects/github_repos/childes_mi_project/data/raw/ZEBRAFISH_Data_Dir/PreyCaptureNaive/PreyCaptureNaive/PreyCaptureNaive00033.mat  \n",
      "  inflating: /mnt/cube/tsainbur/Projects/github_repos/childes_mi_project/data/raw/ZEBRAFISH_Data_Dir/PreyCaptureNaive/PreyCaptureNaive/PreyCaptureNaive00034.mat  \n",
      "  inflating: /mnt/cube/tsainbur/Projects/github_repos/childes_mi_project/data/raw/ZEBRAFISH_Data_Dir/PreyCaptureNaive/PreyCaptureNaive/PreyCaptureNaive00035.mat  \n",
      "  inflating: /mnt/cube/tsainbur/Projects/github_repos/childes_mi_project/data/raw/ZEBRAFISH_Data_Dir/PreyCaptureNaive/PreyCaptureNaive/PreyCaptureNaive00036.mat  \n",
      "  inflating: /mnt/cube/tsainbur/Projects/github_repos/childes_mi_project/data/raw/ZEBRAFISH_Data_Dir/PreyCaptureNaive/PreyCaptureNaive/PreyCaptureNaive00037.mat  \n",
      "  inflating: /mnt/cube/tsainbur/Projects/github_repos/childes_mi_project/data/raw/ZEBRAFISH_Data_Dir/PreyCaptureNaive/PreyCaptureNaive/PreyCaptureNaive00038.mat  \n",
      "  inflating: /mnt/cube/tsainbur/Projects/github_repos/childes_mi_project/data/raw/ZEBRAFISH_Data_Dir/PreyCaptureNaive/PreyCaptureNaive/PreyCaptureNaive00039.mat  \n",
      "  inflating: /mnt/cube/tsainbur/Projects/github_repos/childes_mi_project/data/raw/ZEBRAFISH_Data_Dir/PreyCaptureNaive/PreyCaptureNaive/PreyCaptureNaive00040.mat  \n",
      "  inflating: /mnt/cube/tsainbur/Projects/github_repos/childes_mi_project/data/raw/ZEBRAFISH_Data_Dir/PreyCaptureNaive/PreyCaptureNaive/PreyCaptureNaive00041.mat  \n",
      "  inflating: /mnt/cube/tsainbur/Projects/github_repos/childes_mi_project/data/raw/ZEBRAFISH_Data_Dir/PreyCaptureNaive/PreyCaptureNaive/PreyCaptureNaive00042.mat  \n",
      "  inflating: /mnt/cube/tsainbur/Projects/github_repos/childes_mi_project/data/raw/ZEBRAFISH_Data_Dir/PreyCaptureNaive/PreyCaptureNaive/PreyCaptureNaive00043.mat  \n",
      "  inflating: /mnt/cube/tsainbur/Projects/github_repos/childes_mi_project/data/raw/ZEBRAFISH_Data_Dir/PreyCaptureNaive/PreyCaptureNaive/PreyCaptureNaive00044.mat  \n",
      "  inflating: /mnt/cube/tsainbur/Projects/github_repos/childes_mi_project/data/raw/ZEBRAFISH_Data_Dir/PreyCaptureNaive/PreyCaptureNaive/PreyCaptureNaive00045.mat  \n",
      "  inflating: /mnt/cube/tsainbur/Projects/github_repos/childes_mi_project/data/raw/ZEBRAFISH_Data_Dir/PreyCaptureNaive/PreyCaptureNaive/PreyCaptureNaive00046.mat  \n",
      "  inflating: /mnt/cube/tsainbur/Projects/github_repos/childes_mi_project/data/raw/ZEBRAFISH_Data_Dir/PreyCaptureNaive/PreyCaptureNaive/PreyCaptureNaive00047.mat  \n",
      "  inflating: /mnt/cube/tsainbur/Projects/github_repos/childes_mi_project/data/raw/ZEBRAFISH_Data_Dir/PreyCaptureNaive/PreyCaptureNaive/PreyCaptureNaive00048.mat  \n"
     ]
    },
    {
     "name": "stdout",
     "output_type": "stream",
     "text": [
      "  inflating: /mnt/cube/tsainbur/Projects/github_repos/childes_mi_project/data/raw/ZEBRAFISH_Data_Dir/PreyCaptureNaive/PreyCaptureNaive/PreyCaptureNaive00049.mat  \n",
      "  inflating: /mnt/cube/tsainbur/Projects/github_repos/childes_mi_project/data/raw/ZEBRAFISH_Data_Dir/PreyCaptureNaive/PreyCaptureNaive/PreyCaptureNaive00050.mat  \n",
      "  inflating: /mnt/cube/tsainbur/Projects/github_repos/childes_mi_project/data/raw/ZEBRAFISH_Data_Dir/PreyCaptureNaive/PreyCaptureNaive/PreyCaptureNaive00051.mat  \n",
      "  inflating: /mnt/cube/tsainbur/Projects/github_repos/childes_mi_project/data/raw/ZEBRAFISH_Data_Dir/PreyCaptureNaive/PreyCaptureNaive/PreyCaptureNaive00052.mat  \n",
      "  inflating: /mnt/cube/tsainbur/Projects/github_repos/childes_mi_project/data/raw/ZEBRAFISH_Data_Dir/PreyCaptureNaive/PreyCaptureNaive/PreyCaptureNaive00053.mat  \n",
      "  inflating: /mnt/cube/tsainbur/Projects/github_repos/childes_mi_project/data/raw/ZEBRAFISH_Data_Dir/PreyCaptureNaive/PreyCaptureNaive/PreyCaptureNaive00054.mat  \n",
      "  inflating: /mnt/cube/tsainbur/Projects/github_repos/childes_mi_project/data/raw/ZEBRAFISH_Data_Dir/PreyCaptureNaive/PreyCaptureNaive/PreyCaptureNaive00055.mat  \n",
      "  inflating: /mnt/cube/tsainbur/Projects/github_repos/childes_mi_project/data/raw/ZEBRAFISH_Data_Dir/PreyCaptureNaive/PreyCaptureNaive/PreyCaptureNaive00056.mat  \n",
      "  inflating: /mnt/cube/tsainbur/Projects/github_repos/childes_mi_project/data/raw/ZEBRAFISH_Data_Dir/PreyCaptureNaive/PreyCaptureNaive/PreyCaptureNaive00057.mat  \n",
      "  inflating: /mnt/cube/tsainbur/Projects/github_repos/childes_mi_project/data/raw/ZEBRAFISH_Data_Dir/PreyCaptureNaive/PreyCaptureNaive/PreyCaptureNaive00058.mat  \n",
      "  inflating: /mnt/cube/tsainbur/Projects/github_repos/childes_mi_project/data/raw/ZEBRAFISH_Data_Dir/PreyCaptureNaive/PreyCaptureNaive/PreyCaptureNaive00059.mat  \n",
      "  inflating: /mnt/cube/tsainbur/Projects/github_repos/childes_mi_project/data/raw/ZEBRAFISH_Data_Dir/PreyCaptureNaive/PreyCaptureNaive/PreyCaptureNaive00060.mat  \n",
      "  inflating: /mnt/cube/tsainbur/Projects/github_repos/childes_mi_project/data/raw/ZEBRAFISH_Data_Dir/PreyCaptureNaive/PreyCaptureNaive/PreyCaptureNaive00061.mat  \n",
      "  inflating: /mnt/cube/tsainbur/Projects/github_repos/childes_mi_project/data/raw/ZEBRAFISH_Data_Dir/PreyCaptureNaive/PreyCaptureNaive/PreyCaptureNaive00062.mat  \n",
      "  inflating: /mnt/cube/tsainbur/Projects/github_repos/childes_mi_project/data/raw/ZEBRAFISH_Data_Dir/PreyCaptureNaive/PreyCaptureNaive/PreyCaptureNaive00063.mat  \n",
      "  inflating: /mnt/cube/tsainbur/Projects/github_repos/childes_mi_project/data/raw/ZEBRAFISH_Data_Dir/PreyCaptureNaive/PreyCaptureNaive/PreyCaptureNaive00064.mat  \n",
      "  inflating: /mnt/cube/tsainbur/Projects/github_repos/childes_mi_project/data/raw/ZEBRAFISH_Data_Dir/PreyCaptureNaive/PreyCaptureNaive/PreyCaptureNaive00065.mat  \n",
      "  inflating: /mnt/cube/tsainbur/Projects/github_repos/childes_mi_project/data/raw/ZEBRAFISH_Data_Dir/PreyCaptureNaive/PreyCaptureNaive/PreyCaptureNaive00066.mat  \n",
      "  inflating: /mnt/cube/tsainbur/Projects/github_repos/childes_mi_project/data/raw/ZEBRAFISH_Data_Dir/PreyCaptureNaive/PreyCaptureNaive/PreyCaptureNaive00067.mat  \n",
      "  inflating: /mnt/cube/tsainbur/Projects/github_repos/childes_mi_project/data/raw/ZEBRAFISH_Data_Dir/PreyCaptureNaive/PreyCaptureNaive/PreyCaptureNaive00068.mat  \n",
      "  inflating: /mnt/cube/tsainbur/Projects/github_repos/childes_mi_project/data/raw/ZEBRAFISH_Data_Dir/PreyCaptureNaive/PreyCaptureNaive/PreyCaptureNaive00069.mat  \n"
     ]
    },
    {
     "data": {
      "application/vnd.jupyter.widget-view+json": {
       "model_id": "c435272618a04a0e8a9a24a2ce521fb3",
       "version_major": 2,
       "version_minor": 0
      },
      "text/plain": [
       "HBox(children=(IntProgress(value=0, max=2063631326), HTML(value='')))"
      ]
     },
     "metadata": {},
     "output_type": "display_data"
    },
    {
     "name": "stdout",
     "output_type": "stream",
     "text": [
      "Archive:  /mnt/cube/tsainbur/Projects/github_repos/childes_mi_project/data/raw/ZEBRAFISH_Data_Dir/PreyCaptureNaiveTu.zip?dl=1\n",
      "   creating: /mnt/cube/tsainbur/Projects/github_repos/childes_mi_project/data/raw/ZEBRAFISH_Data_Dir/PreyCaptureNaiveTu/PreyCaptureNaiveTu/\n",
      "  inflating: /mnt/cube/tsainbur/Projects/github_repos/childes_mi_project/data/raw/ZEBRAFISH_Data_Dir/PreyCaptureNaiveTu/PreyCaptureNaiveTu/PreyCaptureNaiveTu00001.mat  \n",
      "  inflating: /mnt/cube/tsainbur/Projects/github_repos/childes_mi_project/data/raw/ZEBRAFISH_Data_Dir/PreyCaptureNaiveTu/PreyCaptureNaiveTu/PreyCaptureNaiveTu00002.mat  \n",
      "  inflating: /mnt/cube/tsainbur/Projects/github_repos/childes_mi_project/data/raw/ZEBRAFISH_Data_Dir/PreyCaptureNaiveTu/PreyCaptureNaiveTu/PreyCaptureNaiveTu00003.mat  \n",
      "  inflating: /mnt/cube/tsainbur/Projects/github_repos/childes_mi_project/data/raw/ZEBRAFISH_Data_Dir/PreyCaptureNaiveTu/PreyCaptureNaiveTu/PreyCaptureNaiveTu00004.mat  \n",
      "  inflating: /mnt/cube/tsainbur/Projects/github_repos/childes_mi_project/data/raw/ZEBRAFISH_Data_Dir/PreyCaptureNaiveTu/PreyCaptureNaiveTu/PreyCaptureNaiveTu00005.mat  \n",
      "  inflating: /mnt/cube/tsainbur/Projects/github_repos/childes_mi_project/data/raw/ZEBRAFISH_Data_Dir/PreyCaptureNaiveTu/PreyCaptureNaiveTu/PreyCaptureNaiveTu00006.mat  \n",
      "  inflating: /mnt/cube/tsainbur/Projects/github_repos/childes_mi_project/data/raw/ZEBRAFISH_Data_Dir/PreyCaptureNaiveTu/PreyCaptureNaiveTu/PreyCaptureNaiveTu00007.mat  \n",
      "  inflating: /mnt/cube/tsainbur/Projects/github_repos/childes_mi_project/data/raw/ZEBRAFISH_Data_Dir/PreyCaptureNaiveTu/PreyCaptureNaiveTu/PreyCaptureNaiveTu00008.mat  \n",
      "  inflating: /mnt/cube/tsainbur/Projects/github_repos/childes_mi_project/data/raw/ZEBRAFISH_Data_Dir/PreyCaptureNaiveTu/PreyCaptureNaiveTu/PreyCaptureNaiveTu00009.mat  \n",
      "  inflating: /mnt/cube/tsainbur/Projects/github_repos/childes_mi_project/data/raw/ZEBRAFISH_Data_Dir/PreyCaptureNaiveTu/PreyCaptureNaiveTu/PreyCaptureNaiveTu00010.mat  \n",
      "  inflating: /mnt/cube/tsainbur/Projects/github_repos/childes_mi_project/data/raw/ZEBRAFISH_Data_Dir/PreyCaptureNaiveTu/PreyCaptureNaiveTu/PreyCaptureNaiveTu00011.mat  \n",
      "  inflating: /mnt/cube/tsainbur/Projects/github_repos/childes_mi_project/data/raw/ZEBRAFISH_Data_Dir/PreyCaptureNaiveTu/PreyCaptureNaiveTu/PreyCaptureNaiveTu00012.mat  \n",
      "  inflating: /mnt/cube/tsainbur/Projects/github_repos/childes_mi_project/data/raw/ZEBRAFISH_Data_Dir/PreyCaptureNaiveTu/PreyCaptureNaiveTu/PreyCaptureNaiveTu00013.mat  \n",
      "  inflating: /mnt/cube/tsainbur/Projects/github_repos/childes_mi_project/data/raw/ZEBRAFISH_Data_Dir/PreyCaptureNaiveTu/PreyCaptureNaiveTu/PreyCaptureNaiveTu00014.mat  \n",
      "  inflating: /mnt/cube/tsainbur/Projects/github_repos/childes_mi_project/data/raw/ZEBRAFISH_Data_Dir/PreyCaptureNaiveTu/PreyCaptureNaiveTu/PreyCaptureNaiveTu00015.mat  \n",
      "  inflating: /mnt/cube/tsainbur/Projects/github_repos/childes_mi_project/data/raw/ZEBRAFISH_Data_Dir/PreyCaptureNaiveTu/PreyCaptureNaiveTu/PreyCaptureNaiveTu00016.mat  \n",
      "  inflating: /mnt/cube/tsainbur/Projects/github_repos/childes_mi_project/data/raw/ZEBRAFISH_Data_Dir/PreyCaptureNaiveTu/PreyCaptureNaiveTu/PreyCaptureNaiveTu00017.mat  \n",
      "  inflating: /mnt/cube/tsainbur/Projects/github_repos/childes_mi_project/data/raw/ZEBRAFISH_Data_Dir/PreyCaptureNaiveTu/PreyCaptureNaiveTu/PreyCaptureNaiveTu00018.mat  \n"
     ]
    },
    {
     "data": {
      "application/vnd.jupyter.widget-view+json": {
       "model_id": "71bfcf4190584fa58ce86b0dba60a935",
       "version_major": 2,
       "version_minor": 0
      },
      "text/plain": [
       "HBox(children=(IntProgress(value=0, max=2196404003), HTML(value='')))"
      ]
     },
     "metadata": {},
     "output_type": "display_data"
    },
    {
     "name": "stdout",
     "output_type": "stream",
     "text": [
      "Archive:  /mnt/cube/tsainbur/Projects/github_repos/childes_mi_project/data/raw/ZEBRAFISH_Data_Dir/PreyCaptureNaiveTu2.zip?dl=1\n",
      "  inflating: /mnt/cube/tsainbur/Projects/github_repos/childes_mi_project/data/raw/ZEBRAFISH_Data_Dir/PreyCaptureNaiveTu2/PreyCaptureNaiveTu2/PreyCaptureNaiveTu200001.mat  \n",
      "  inflating: /mnt/cube/tsainbur/Projects/github_repos/childes_mi_project/data/raw/ZEBRAFISH_Data_Dir/PreyCaptureNaiveTu2/PreyCaptureNaiveTu2/PreyCaptureNaiveTu200002.mat  \n",
      "  inflating: /mnt/cube/tsainbur/Projects/github_repos/childes_mi_project/data/raw/ZEBRAFISH_Data_Dir/PreyCaptureNaiveTu2/PreyCaptureNaiveTu2/PreyCaptureNaiveTu200003.mat  \n",
      "  inflating: /mnt/cube/tsainbur/Projects/github_repos/childes_mi_project/data/raw/ZEBRAFISH_Data_Dir/PreyCaptureNaiveTu2/PreyCaptureNaiveTu2/PreyCaptureNaiveTu200004.mat  \n",
      "  inflating: /mnt/cube/tsainbur/Projects/github_repos/childes_mi_project/data/raw/ZEBRAFISH_Data_Dir/PreyCaptureNaiveTu2/PreyCaptureNaiveTu2/PreyCaptureNaiveTu200005.mat  \n",
      "  inflating: /mnt/cube/tsainbur/Projects/github_repos/childes_mi_project/data/raw/ZEBRAFISH_Data_Dir/PreyCaptureNaiveTu2/PreyCaptureNaiveTu2/PreyCaptureNaiveTu200006.mat  \n",
      "  inflating: /mnt/cube/tsainbur/Projects/github_repos/childes_mi_project/data/raw/ZEBRAFISH_Data_Dir/PreyCaptureNaiveTu2/PreyCaptureNaiveTu2/PreyCaptureNaiveTu200007.mat  \n",
      "  inflating: /mnt/cube/tsainbur/Projects/github_repos/childes_mi_project/data/raw/ZEBRAFISH_Data_Dir/PreyCaptureNaiveTu2/PreyCaptureNaiveTu2/PreyCaptureNaiveTu200008.mat  \n",
      "  inflating: /mnt/cube/tsainbur/Projects/github_repos/childes_mi_project/data/raw/ZEBRAFISH_Data_Dir/PreyCaptureNaiveTu2/PreyCaptureNaiveTu2/PreyCaptureNaiveTu200009.mat  \n",
      "  inflating: /mnt/cube/tsainbur/Projects/github_repos/childes_mi_project/data/raw/ZEBRAFISH_Data_Dir/PreyCaptureNaiveTu2/PreyCaptureNaiveTu2/PreyCaptureNaiveTu200010.mat  \n",
      "  inflating: /mnt/cube/tsainbur/Projects/github_repos/childes_mi_project/data/raw/ZEBRAFISH_Data_Dir/PreyCaptureNaiveTu2/PreyCaptureNaiveTu2/PreyCaptureNaiveTu200011.mat  \n",
      "  inflating: /mnt/cube/tsainbur/Projects/github_repos/childes_mi_project/data/raw/ZEBRAFISH_Data_Dir/PreyCaptureNaiveTu2/PreyCaptureNaiveTu2/PreyCaptureNaiveTu200012.mat  \n",
      "  inflating: /mnt/cube/tsainbur/Projects/github_repos/childes_mi_project/data/raw/ZEBRAFISH_Data_Dir/PreyCaptureNaiveTu2/PreyCaptureNaiveTu2/PreyCaptureNaiveTu200013.mat  \n",
      "  inflating: /mnt/cube/tsainbur/Projects/github_repos/childes_mi_project/data/raw/ZEBRAFISH_Data_Dir/PreyCaptureNaiveTu2/PreyCaptureNaiveTu2/PreyCaptureNaiveTu200014.mat  \n",
      "  inflating: /mnt/cube/tsainbur/Projects/github_repos/childes_mi_project/data/raw/ZEBRAFISH_Data_Dir/PreyCaptureNaiveTu2/PreyCaptureNaiveTu2/PreyCaptureNaiveTu200015.mat  \n",
      "  inflating: /mnt/cube/tsainbur/Projects/github_repos/childes_mi_project/data/raw/ZEBRAFISH_Data_Dir/PreyCaptureNaiveTu2/PreyCaptureNaiveTu2/PreyCaptureNaiveTu200016.mat  \n",
      "  inflating: /mnt/cube/tsainbur/Projects/github_repos/childes_mi_project/data/raw/ZEBRAFISH_Data_Dir/PreyCaptureNaiveTu2/PreyCaptureNaiveTu2/PreyCaptureNaiveTu200017.mat  \n",
      "  inflating: /mnt/cube/tsainbur/Projects/github_repos/childes_mi_project/data/raw/ZEBRAFISH_Data_Dir/PreyCaptureNaiveTu2/PreyCaptureNaiveTu2/PreyCaptureNaiveTu200018.mat  \n",
      "  inflating: /mnt/cube/tsainbur/Projects/github_repos/childes_mi_project/data/raw/ZEBRAFISH_Data_Dir/PreyCaptureNaiveTu2/PreyCaptureNaiveTu2/PreyCaptureNaiveTu200019.mat  \n",
      "  inflating: /mnt/cube/tsainbur/Projects/github_repos/childes_mi_project/data/raw/ZEBRAFISH_Data_Dir/PreyCaptureNaiveTu2/PreyCaptureNaiveTu2/PreyCaptureNaiveTu200020.mat  \n"
     ]
    },
    {
     "data": {
      "application/vnd.jupyter.widget-view+json": {
       "model_id": "7821c817faee4d42ade8a67d1a78eb7b",
       "version_major": 2,
       "version_minor": 0
      },
      "text/plain": [
       "HBox(children=(IntProgress(value=0, max=950426614), HTML(value='')))"
      ]
     },
     "metadata": {},
     "output_type": "display_data"
    },
    {
     "name": "stdout",
     "output_type": "stream",
     "text": [
      "Archive:  /mnt/cube/tsainbur/Projects/github_repos/childes_mi_project/data/raw/ZEBRAFISH_Data_Dir/PreyCaptureSmallRotTuNaive.zip?dl=1\n",
      "  inflating: /mnt/cube/tsainbur/Projects/github_repos/childes_mi_project/data/raw/ZEBRAFISH_Data_Dir/PreyCaptureSmallRotTuNaive/PreyCaptureSmallRotTuNaive/PreyCaptureSmallRotTuNaive00001.mat  \n",
      "  inflating: /mnt/cube/tsainbur/Projects/github_repos/childes_mi_project/data/raw/ZEBRAFISH_Data_Dir/PreyCaptureSmallRotTuNaive/PreyCaptureSmallRotTuNaive/PreyCaptureSmallRotTuNaive00002.mat  \n",
      "  inflating: /mnt/cube/tsainbur/Projects/github_repos/childes_mi_project/data/raw/ZEBRAFISH_Data_Dir/PreyCaptureSmallRotTuNaive/PreyCaptureSmallRotTuNaive/PreyCaptureSmallRotTuNaive00003.mat  \n",
      "  inflating: /mnt/cube/tsainbur/Projects/github_repos/childes_mi_project/data/raw/ZEBRAFISH_Data_Dir/PreyCaptureSmallRotTuNaive/PreyCaptureSmallRotTuNaive/PreyCaptureSmallRotTuNaive00004.mat  \n",
      "  inflating: /mnt/cube/tsainbur/Projects/github_repos/childes_mi_project/data/raw/ZEBRAFISH_Data_Dir/PreyCaptureSmallRotTuNaive/PreyCaptureSmallRotTuNaive/PreyCaptureSmallRotTuNaive00005.mat  \n",
      "  inflating: /mnt/cube/tsainbur/Projects/github_repos/childes_mi_project/data/raw/ZEBRAFISH_Data_Dir/PreyCaptureSmallRotTuNaive/PreyCaptureSmallRotTuNaive/PreyCaptureSmallRotTuNaive00006.mat  \n",
      "  inflating: /mnt/cube/tsainbur/Projects/github_repos/childes_mi_project/data/raw/ZEBRAFISH_Data_Dir/PreyCaptureSmallRotTuNaive/PreyCaptureSmallRotTuNaive/PreyCaptureSmallRotTuNaive00007.mat  \n",
      "  inflating: /mnt/cube/tsainbur/Projects/github_repos/childes_mi_project/data/raw/ZEBRAFISH_Data_Dir/PreyCaptureSmallRotTuNaive/PreyCaptureSmallRotTuNaive/PreyCaptureSmallRotTuNaive00008.mat  \n",
      "  inflating: /mnt/cube/tsainbur/Projects/github_repos/childes_mi_project/data/raw/ZEBRAFISH_Data_Dir/PreyCaptureSmallRotTuNaive/PreyCaptureSmallRotTuNaive/PreyCaptureSmallRotTuNaive00009.mat  \n",
      "  inflating: /mnt/cube/tsainbur/Projects/github_repos/childes_mi_project/data/raw/ZEBRAFISH_Data_Dir/PreyCaptureSmallRotTuNaive/PreyCaptureSmallRotTuNaive/PreyCaptureSmallRotTuNaive00010.mat  \n",
      "  inflating: /mnt/cube/tsainbur/Projects/github_repos/childes_mi_project/data/raw/ZEBRAFISH_Data_Dir/PreyCaptureSmallRotTuNaive/PreyCaptureSmallRotTuNaive/PreyCaptureSmallRotTuNaive00011.mat  \n",
      "  inflating: /mnt/cube/tsainbur/Projects/github_repos/childes_mi_project/data/raw/ZEBRAFISH_Data_Dir/PreyCaptureSmallRotTuNaive/PreyCaptureSmallRotTuNaive/PreyCaptureSmallRotTuNaive00012.mat  \n",
      "  inflating: /mnt/cube/tsainbur/Projects/github_repos/childes_mi_project/data/raw/ZEBRAFISH_Data_Dir/PreyCaptureSmallRotTuNaive/PreyCaptureSmallRotTuNaive/PreyCaptureSmallRotTuNaive00013.mat  \n",
      "  inflating: /mnt/cube/tsainbur/Projects/github_repos/childes_mi_project/data/raw/ZEBRAFISH_Data_Dir/PreyCaptureSmallRotTuNaive/PreyCaptureSmallRotTuNaive/PreyCaptureSmallRotTuNaive00014.mat  \n",
      "  inflating: /mnt/cube/tsainbur/Projects/github_repos/childes_mi_project/data/raw/ZEBRAFISH_Data_Dir/PreyCaptureSmallRotTuNaive/PreyCaptureSmallRotTuNaive/PreyCaptureSmallRotTuNaive00015.mat  \n",
      "  inflating: /mnt/cube/tsainbur/Projects/github_repos/childes_mi_project/data/raw/ZEBRAFISH_Data_Dir/PreyCaptureSmallRotTuNaive/PreyCaptureSmallRotTuNaive/PreyCaptureSmallRotTuNaive00016.mat  \n"
     ]
    },
    {
     "data": {
      "application/vnd.jupyter.widget-view+json": {
       "model_id": "7c10c8adbff04905a69e27e723e96a7c",
       "version_major": 2,
       "version_minor": 0
      },
      "text/plain": [
       "HBox(children=(IntProgress(value=0, max=721192760), HTML(value='')))"
      ]
     },
     "metadata": {},
     "output_type": "display_data"
    },
    {
     "name": "stdout",
     "output_type": "stream",
     "text": [
      "Archive:  /mnt/cube/tsainbur/Projects/github_repos/childes_mi_project/data/raw/ZEBRAFISH_Data_Dir/PreyCaptureSmallRotTuNaive2.zip?dl=1\n",
      "  inflating: /mnt/cube/tsainbur/Projects/github_repos/childes_mi_project/data/raw/ZEBRAFISH_Data_Dir/PreyCaptureSmallRotTuNaive2/PreyCaptureSmallRotTuNaive2/PreyCaptureSmallRotTuNaive200001.mat  \n",
      "  inflating: /mnt/cube/tsainbur/Projects/github_repos/childes_mi_project/data/raw/ZEBRAFISH_Data_Dir/PreyCaptureSmallRotTuNaive2/PreyCaptureSmallRotTuNaive2/PreyCaptureSmallRotTuNaive200002.mat  \n",
      "  inflating: /mnt/cube/tsainbur/Projects/github_repos/childes_mi_project/data/raw/ZEBRAFISH_Data_Dir/PreyCaptureSmallRotTuNaive2/PreyCaptureSmallRotTuNaive2/PreyCaptureSmallRotTuNaive200003.mat  \n",
      "  inflating: /mnt/cube/tsainbur/Projects/github_repos/childes_mi_project/data/raw/ZEBRAFISH_Data_Dir/PreyCaptureSmallRotTuNaive2/PreyCaptureSmallRotTuNaive2/PreyCaptureSmallRotTuNaive200004.mat  \n",
      "  inflating: /mnt/cube/tsainbur/Projects/github_repos/childes_mi_project/data/raw/ZEBRAFISH_Data_Dir/PreyCaptureSmallRotTuNaive2/PreyCaptureSmallRotTuNaive2/PreyCaptureSmallRotTuNaive200005.mat  \n",
      "  inflating: /mnt/cube/tsainbur/Projects/github_repos/childes_mi_project/data/raw/ZEBRAFISH_Data_Dir/PreyCaptureSmallRotTuNaive2/PreyCaptureSmallRotTuNaive2/PreyCaptureSmallRotTuNaive200006.mat  \n",
      "  inflating: /mnt/cube/tsainbur/Projects/github_repos/childes_mi_project/data/raw/ZEBRAFISH_Data_Dir/PreyCaptureSmallRotTuNaive2/PreyCaptureSmallRotTuNaive2/PreyCaptureSmallRotTuNaive200007.mat  \n",
      "  inflating: /mnt/cube/tsainbur/Projects/github_repos/childes_mi_project/data/raw/ZEBRAFISH_Data_Dir/PreyCaptureSmallRotTuNaive2/PreyCaptureSmallRotTuNaive2/PreyCaptureSmallRotTuNaive200008.mat  \n",
      "  inflating: /mnt/cube/tsainbur/Projects/github_repos/childes_mi_project/data/raw/ZEBRAFISH_Data_Dir/PreyCaptureSmallRotTuNaive2/PreyCaptureSmallRotTuNaive2/PreyCaptureSmallRotTuNaive200009.mat  \n",
      "  inflating: /mnt/cube/tsainbur/Projects/github_repos/childes_mi_project/data/raw/ZEBRAFISH_Data_Dir/PreyCaptureSmallRotTuNaive2/PreyCaptureSmallRotTuNaive2/PreyCaptureSmallRotTuNaive200010.mat  \n"
     ]
    },
    {
     "data": {
      "application/vnd.jupyter.widget-view+json": {
       "model_id": "503a8289b048481e9d347173e11903b1",
       "version_major": 2,
       "version_minor": 0
      },
      "text/plain": [
       "HBox(children=(IntProgress(value=0, max=2249230679), HTML(value='')))"
      ]
     },
     "metadata": {},
     "output_type": "display_data"
    },
    {
     "name": "stdout",
     "output_type": "stream",
     "text": [
      "Archive:  /mnt/cube/tsainbur/Projects/github_repos/childes_mi_project/data/raw/ZEBRAFISH_Data_Dir/PreyCaptureSmallRotTuWithRot.zip?dl=1\n",
      "  inflating: /mnt/cube/tsainbur/Projects/github_repos/childes_mi_project/data/raw/ZEBRAFISH_Data_Dir/PreyCaptureSmallRotTuWithRot/PreyCaptureSmallRotTuWithRot/PreyCaptureSmallRotTuWithRot00001.mat  \n",
      "  inflating: /mnt/cube/tsainbur/Projects/github_repos/childes_mi_project/data/raw/ZEBRAFISH_Data_Dir/PreyCaptureSmallRotTuWithRot/PreyCaptureSmallRotTuWithRot/PreyCaptureSmallRotTuWithRot00002.mat  \n",
      "  inflating: /mnt/cube/tsainbur/Projects/github_repos/childes_mi_project/data/raw/ZEBRAFISH_Data_Dir/PreyCaptureSmallRotTuWithRot/PreyCaptureSmallRotTuWithRot/PreyCaptureSmallRotTuWithRot00003.mat  \n",
      "  inflating: /mnt/cube/tsainbur/Projects/github_repos/childes_mi_project/data/raw/ZEBRAFISH_Data_Dir/PreyCaptureSmallRotTuWithRot/PreyCaptureSmallRotTuWithRot/PreyCaptureSmallRotTuWithRot00004.mat  \n",
      "  inflating: /mnt/cube/tsainbur/Projects/github_repos/childes_mi_project/data/raw/ZEBRAFISH_Data_Dir/PreyCaptureSmallRotTuWithRot/PreyCaptureSmallRotTuWithRot/PreyCaptureSmallRotTuWithRot00005.mat  \n",
      "  inflating: /mnt/cube/tsainbur/Projects/github_repos/childes_mi_project/data/raw/ZEBRAFISH_Data_Dir/PreyCaptureSmallRotTuWithRot/PreyCaptureSmallRotTuWithRot/PreyCaptureSmallRotTuWithRot00006.mat  \n",
      "  inflating: /mnt/cube/tsainbur/Projects/github_repos/childes_mi_project/data/raw/ZEBRAFISH_Data_Dir/PreyCaptureSmallRotTuWithRot/PreyCaptureSmallRotTuWithRot/PreyCaptureSmallRotTuWithRot00007.mat  \n",
      "  inflating: /mnt/cube/tsainbur/Projects/github_repos/childes_mi_project/data/raw/ZEBRAFISH_Data_Dir/PreyCaptureSmallRotTuWithRot/PreyCaptureSmallRotTuWithRot/PreyCaptureSmallRotTuWithRot00008.mat  \n",
      "  inflating: /mnt/cube/tsainbur/Projects/github_repos/childes_mi_project/data/raw/ZEBRAFISH_Data_Dir/PreyCaptureSmallRotTuWithRot/PreyCaptureSmallRotTuWithRot/PreyCaptureSmallRotTuWithRot00009.mat  \n",
      "  inflating: /mnt/cube/tsainbur/Projects/github_repos/childes_mi_project/data/raw/ZEBRAFISH_Data_Dir/PreyCaptureSmallRotTuWithRot/PreyCaptureSmallRotTuWithRot/PreyCaptureSmallRotTuWithRot00010.mat  \n",
      "  inflating: /mnt/cube/tsainbur/Projects/github_repos/childes_mi_project/data/raw/ZEBRAFISH_Data_Dir/PreyCaptureSmallRotTuWithRot/PreyCaptureSmallRotTuWithRot/PreyCaptureSmallRotTuWithRot00011.mat  \n",
      "  inflating: /mnt/cube/tsainbur/Projects/github_repos/childes_mi_project/data/raw/ZEBRAFISH_Data_Dir/PreyCaptureSmallRotTuWithRot/PreyCaptureSmallRotTuWithRot/PreyCaptureSmallRotTuWithRot00012.mat  \n",
      "  inflating: /mnt/cube/tsainbur/Projects/github_repos/childes_mi_project/data/raw/ZEBRAFISH_Data_Dir/PreyCaptureSmallRotTuWithRot/PreyCaptureSmallRotTuWithRot/PreyCaptureSmallRotTuWithRot00013.mat  \n",
      "  inflating: /mnt/cube/tsainbur/Projects/github_repos/childes_mi_project/data/raw/ZEBRAFISH_Data_Dir/PreyCaptureSmallRotTuWithRot/PreyCaptureSmallRotTuWithRot/PreyCaptureSmallRotTuWithRot00014.mat  \n",
      "  inflating: /mnt/cube/tsainbur/Projects/github_repos/childes_mi_project/data/raw/ZEBRAFISH_Data_Dir/PreyCaptureSmallRotTuWithRot/PreyCaptureSmallRotTuWithRot/PreyCaptureSmallRotTuWithRot00015.mat  \n",
      "  inflating: /mnt/cube/tsainbur/Projects/github_repos/childes_mi_project/data/raw/ZEBRAFISH_Data_Dir/PreyCaptureSmallRotTuWithRot/PreyCaptureSmallRotTuWithRot/PreyCaptureSmallRotTuWithRot00016.mat  \n",
      "  inflating: /mnt/cube/tsainbur/Projects/github_repos/childes_mi_project/data/raw/ZEBRAFISH_Data_Dir/PreyCaptureSmallRotTuWithRot/PreyCaptureSmallRotTuWithRot/PreyCaptureSmallRotTuWithRot00017.mat  \n",
      "  inflating: /mnt/cube/tsainbur/Projects/github_repos/childes_mi_project/data/raw/ZEBRAFISH_Data_Dir/PreyCaptureSmallRotTuWithRot/PreyCaptureSmallRotTuWithRot/PreyCaptureSmallRotTuWithRot00018.mat  \n",
      "  inflating: /mnt/cube/tsainbur/Projects/github_repos/childes_mi_project/data/raw/ZEBRAFISH_Data_Dir/PreyCaptureSmallRotTuWithRot/PreyCaptureSmallRotTuWithRot/PreyCaptureSmallRotTuWithRot00019.mat  \n",
      "  inflating: /mnt/cube/tsainbur/Projects/github_repos/childes_mi_project/data/raw/ZEBRAFISH_Data_Dir/PreyCaptureSmallRotTuWithRot/PreyCaptureSmallRotTuWithRot/PreyCaptureSmallRotTuWithRot00020.mat  \n",
      "  inflating: /mnt/cube/tsainbur/Projects/github_repos/childes_mi_project/data/raw/ZEBRAFISH_Data_Dir/PreyCaptureSmallRotTuWithRot/PreyCaptureSmallRotTuWithRot/PreyCaptureSmallRotTuWithRot00021.mat  \n",
      "  inflating: /mnt/cube/tsainbur/Projects/github_repos/childes_mi_project/data/raw/ZEBRAFISH_Data_Dir/PreyCaptureSmallRotTuWithRot/PreyCaptureSmallRotTuWithRot/PreyCaptureSmallRotTuWithRot00022.mat  \n",
      "  inflating: /mnt/cube/tsainbur/Projects/github_repos/childes_mi_project/data/raw/ZEBRAFISH_Data_Dir/PreyCaptureSmallRotTuWithRot/PreyCaptureSmallRotTuWithRot/PreyCaptureSmallRotTuWithRot00023.mat  \n",
      "  inflating: /mnt/cube/tsainbur/Projects/github_repos/childes_mi_project/data/raw/ZEBRAFISH_Data_Dir/PreyCaptureSmallRotTuWithRot/PreyCaptureSmallRotTuWithRot/PreyCaptureSmallRotTuWithRot00024.mat  \n",
      "  inflating: /mnt/cube/tsainbur/Projects/github_repos/childes_mi_project/data/raw/ZEBRAFISH_Data_Dir/PreyCaptureSmallRotTuWithRot/PreyCaptureSmallRotTuWithRot/PreyCaptureSmallRotTuWithRot00025.mat  \n",
      "  inflating: /mnt/cube/tsainbur/Projects/github_repos/childes_mi_project/data/raw/ZEBRAFISH_Data_Dir/PreyCaptureSmallRotTuWithRot/PreyCaptureSmallRotTuWithRot/PreyCaptureSmallRotTuWithRot00026.mat  \n",
      "  inflating: /mnt/cube/tsainbur/Projects/github_repos/childes_mi_project/data/raw/ZEBRAFISH_Data_Dir/PreyCaptureSmallRotTuWithRot/PreyCaptureSmallRotTuWithRot/PreyCaptureSmallRotTuWithRot00027.mat  \n",
      "  inflating: /mnt/cube/tsainbur/Projects/github_repos/childes_mi_project/data/raw/ZEBRAFISH_Data_Dir/PreyCaptureSmallRotTuWithRot/PreyCaptureSmallRotTuWithRot/PreyCaptureSmallRotTuWithRot00028.mat  \n",
      "  inflating: /mnt/cube/tsainbur/Projects/github_repos/childes_mi_project/data/raw/ZEBRAFISH_Data_Dir/PreyCaptureSmallRotTuWithRot/PreyCaptureSmallRotTuWithRot/PreyCaptureSmallRotTuWithRot00029.mat  \n",
      "  inflating: /mnt/cube/tsainbur/Projects/github_repos/childes_mi_project/data/raw/ZEBRAFISH_Data_Dir/PreyCaptureSmallRotTuWithRot/PreyCaptureSmallRotTuWithRot/PreyCaptureSmallRotTuWithRot00030.mat  \n",
      "  inflating: /mnt/cube/tsainbur/Projects/github_repos/childes_mi_project/data/raw/ZEBRAFISH_Data_Dir/PreyCaptureSmallRotTuWithRot/PreyCaptureSmallRotTuWithRot/PreyCaptureSmallRotTuWithRot00031.mat  \n"
     ]
    },
    {
     "data": {
      "application/vnd.jupyter.widget-view+json": {
       "model_id": "a61ab07df6bf44b6abaf8e510dd8a4eb",
       "version_major": 2,
       "version_minor": 0
      },
      "text/plain": [
       "HBox(children=(IntProgress(value=0, max=927623709), HTML(value='')))"
      ]
     },
     "metadata": {},
     "output_type": "display_data"
    },
    {
     "name": "stdout",
     "output_type": "stream",
     "text": [
      "Archive:  /mnt/cube/tsainbur/Projects/github_repos/childes_mi_project/data/raw/ZEBRAFISH_Data_Dir/SpontaneousMultiFishDark.zip?dl=1\n",
      "  inflating: /mnt/cube/tsainbur/Projects/github_repos/childes_mi_project/data/raw/ZEBRAFISH_Data_Dir/SpontaneousMultiFishDark/SpontaneousMultiFishDark/SpontaneousMultiFishDark00001.mat  \n",
      "  inflating: /mnt/cube/tsainbur/Projects/github_repos/childes_mi_project/data/raw/ZEBRAFISH_Data_Dir/SpontaneousMultiFishDark/SpontaneousMultiFishDark/SpontaneousMultiFishDark00002.mat  \n",
      "  inflating: /mnt/cube/tsainbur/Projects/github_repos/childes_mi_project/data/raw/ZEBRAFISH_Data_Dir/SpontaneousMultiFishDark/SpontaneousMultiFishDark/SpontaneousMultiFishDark00003.mat  \n",
      "  inflating: /mnt/cube/tsainbur/Projects/github_repos/childes_mi_project/data/raw/ZEBRAFISH_Data_Dir/SpontaneousMultiFishDark/SpontaneousMultiFishDark/SpontaneousMultiFishDark00004.mat  \n",
      "  inflating: /mnt/cube/tsainbur/Projects/github_repos/childes_mi_project/data/raw/ZEBRAFISH_Data_Dir/SpontaneousMultiFishDark/SpontaneousMultiFishDark/SpontaneousMultiFishDark00005.mat  \n",
      "  inflating: /mnt/cube/tsainbur/Projects/github_repos/childes_mi_project/data/raw/ZEBRAFISH_Data_Dir/SpontaneousMultiFishDark/SpontaneousMultiFishDark/SpontaneousMultiFishDark00006.mat  \n",
      "  inflating: /mnt/cube/tsainbur/Projects/github_repos/childes_mi_project/data/raw/ZEBRAFISH_Data_Dir/SpontaneousMultiFishDark/SpontaneousMultiFishDark/SpontaneousMultiFishDark00007.mat  \n",
      "  inflating: /mnt/cube/tsainbur/Projects/github_repos/childes_mi_project/data/raw/ZEBRAFISH_Data_Dir/SpontaneousMultiFishDark/SpontaneousMultiFishDark/SpontaneousMultiFishDark00008.mat  \n",
      "  inflating: /mnt/cube/tsainbur/Projects/github_repos/childes_mi_project/data/raw/ZEBRAFISH_Data_Dir/SpontaneousMultiFishDark/SpontaneousMultiFishDark/SpontaneousMultiFishDark00009.mat  \n",
      "  inflating: /mnt/cube/tsainbur/Projects/github_repos/childes_mi_project/data/raw/ZEBRAFISH_Data_Dir/SpontaneousMultiFishDark/SpontaneousMultiFishDark/SpontaneousMultiFishDark00010.mat  \n",
      "  inflating: /mnt/cube/tsainbur/Projects/github_repos/childes_mi_project/data/raw/ZEBRAFISH_Data_Dir/SpontaneousMultiFishDark/SpontaneousMultiFishDark/SpontaneousMultiFishDark00011.mat  \n",
      "  inflating: /mnt/cube/tsainbur/Projects/github_repos/childes_mi_project/data/raw/ZEBRAFISH_Data_Dir/SpontaneousMultiFishDark/SpontaneousMultiFishDark/SpontaneousMultiFishDark00012.mat  \n",
      "  inflating: /mnt/cube/tsainbur/Projects/github_repos/childes_mi_project/data/raw/ZEBRAFISH_Data_Dir/SpontaneousMultiFishDark/SpontaneousMultiFishDark/SpontaneousMultiFishDark00013.mat  \n",
      "  inflating: /mnt/cube/tsainbur/Projects/github_repos/childes_mi_project/data/raw/ZEBRAFISH_Data_Dir/SpontaneousMultiFishDark/SpontaneousMultiFishDark/SpontaneousMultiFishDark00014.mat  \n",
      "  inflating: /mnt/cube/tsainbur/Projects/github_repos/childes_mi_project/data/raw/ZEBRAFISH_Data_Dir/SpontaneousMultiFishDark/SpontaneousMultiFishDark/SpontaneousMultiFishDark00015.mat  \n",
      "  inflating: /mnt/cube/tsainbur/Projects/github_repos/childes_mi_project/data/raw/ZEBRAFISH_Data_Dir/SpontaneousMultiFishDark/SpontaneousMultiFishDark/SpontaneousMultiFishDark00016.mat  \n",
      "  inflating: /mnt/cube/tsainbur/Projects/github_repos/childes_mi_project/data/raw/ZEBRAFISH_Data_Dir/SpontaneousMultiFishDark/SpontaneousMultiFishDark/SpontaneousMultiFishDark00017.mat  \n",
      "  inflating: /mnt/cube/tsainbur/Projects/github_repos/childes_mi_project/data/raw/ZEBRAFISH_Data_Dir/SpontaneousMultiFishDark/SpontaneousMultiFishDark/SpontaneousMultiFishDark00018.mat  \n",
      "  inflating: /mnt/cube/tsainbur/Projects/github_repos/childes_mi_project/data/raw/ZEBRAFISH_Data_Dir/SpontaneousMultiFishDark/SpontaneousMultiFishDark/SpontaneousMultiFishDark00019.mat  \n",
      "  inflating: /mnt/cube/tsainbur/Projects/github_repos/childes_mi_project/data/raw/ZEBRAFISH_Data_Dir/SpontaneousMultiFishDark/SpontaneousMultiFishDark/SpontaneousMultiFishDark00020.mat  \n",
      "  inflating: /mnt/cube/tsainbur/Projects/github_repos/childes_mi_project/data/raw/ZEBRAFISH_Data_Dir/SpontaneousMultiFishDark/SpontaneousMultiFishDark/SpontaneousMultiFishDark00021.mat  \n",
      "  inflating: /mnt/cube/tsainbur/Projects/github_repos/childes_mi_project/data/raw/ZEBRAFISH_Data_Dir/SpontaneousMultiFishDark/SpontaneousMultiFishDark/SpontaneousMultiFishDark00022.mat  \n",
      "  inflating: /mnt/cube/tsainbur/Projects/github_repos/childes_mi_project/data/raw/ZEBRAFISH_Data_Dir/SpontaneousMultiFishDark/SpontaneousMultiFishDark/SpontaneousMultiFishDark00023.mat  \n"
     ]
    },
    {
     "data": {
      "application/vnd.jupyter.widget-view+json": {
       "model_id": "27e2f3d6312b4f5bad221284a012348f",
       "version_major": 2,
       "version_minor": 0
      },
      "text/plain": [
       "HBox(children=(IntProgress(value=0, max=1498542013), HTML(value='')))"
      ]
     },
     "metadata": {},
     "output_type": "display_data"
    },
    {
     "name": "stdout",
     "output_type": "stream",
     "text": [
      "Archive:  /mnt/cube/tsainbur/Projects/github_repos/childes_mi_project/data/raw/ZEBRAFISH_Data_Dir/SpontaneousMultiFishLightA.zip?dl=1\n",
      "  inflating: /mnt/cube/tsainbur/Projects/github_repos/childes_mi_project/data/raw/ZEBRAFISH_Data_Dir/SpontaneousMultiFishLightA/SpontaneousMultiFishLightA/SpontaneousMultiFishLight00001.mat  \n",
      "  inflating: /mnt/cube/tsainbur/Projects/github_repos/childes_mi_project/data/raw/ZEBRAFISH_Data_Dir/SpontaneousMultiFishLightA/SpontaneousMultiFishLightA/SpontaneousMultiFishLight00002.mat  \n",
      "  inflating: /mnt/cube/tsainbur/Projects/github_repos/childes_mi_project/data/raw/ZEBRAFISH_Data_Dir/SpontaneousMultiFishLightA/SpontaneousMultiFishLightA/SpontaneousMultiFishLight00003.mat  \n",
      "  inflating: /mnt/cube/tsainbur/Projects/github_repos/childes_mi_project/data/raw/ZEBRAFISH_Data_Dir/SpontaneousMultiFishLightA/SpontaneousMultiFishLightA/SpontaneousMultiFishLight00004.mat  \n",
      "  inflating: /mnt/cube/tsainbur/Projects/github_repos/childes_mi_project/data/raw/ZEBRAFISH_Data_Dir/SpontaneousMultiFishLightA/SpontaneousMultiFishLightA/SpontaneousMultiFishLight00005.mat  \n",
      "  inflating: /mnt/cube/tsainbur/Projects/github_repos/childes_mi_project/data/raw/ZEBRAFISH_Data_Dir/SpontaneousMultiFishLightA/SpontaneousMultiFishLightA/SpontaneousMultiFishLight00006.mat  \n",
      "  inflating: /mnt/cube/tsainbur/Projects/github_repos/childes_mi_project/data/raw/ZEBRAFISH_Data_Dir/SpontaneousMultiFishLightA/SpontaneousMultiFishLightA/SpontaneousMultiFishLight00007.mat  \n",
      "  inflating: /mnt/cube/tsainbur/Projects/github_repos/childes_mi_project/data/raw/ZEBRAFISH_Data_Dir/SpontaneousMultiFishLightA/SpontaneousMultiFishLightA/SpontaneousMultiFishLight00008.mat  \n",
      "  inflating: /mnt/cube/tsainbur/Projects/github_repos/childes_mi_project/data/raw/ZEBRAFISH_Data_Dir/SpontaneousMultiFishLightA/SpontaneousMultiFishLightA/SpontaneousMultiFishLight00009.mat  \n",
      "  inflating: /mnt/cube/tsainbur/Projects/github_repos/childes_mi_project/data/raw/ZEBRAFISH_Data_Dir/SpontaneousMultiFishLightA/SpontaneousMultiFishLightA/SpontaneousMultiFishLight00010.mat  \n",
      "  inflating: /mnt/cube/tsainbur/Projects/github_repos/childes_mi_project/data/raw/ZEBRAFISH_Data_Dir/SpontaneousMultiFishLightA/SpontaneousMultiFishLightA/SpontaneousMultiFishLight00011.mat  \n",
      "  inflating: /mnt/cube/tsainbur/Projects/github_repos/childes_mi_project/data/raw/ZEBRAFISH_Data_Dir/SpontaneousMultiFishLightA/SpontaneousMultiFishLightA/SpontaneousMultiFishLight00012.mat  \n",
      "  inflating: /mnt/cube/tsainbur/Projects/github_repos/childes_mi_project/data/raw/ZEBRAFISH_Data_Dir/SpontaneousMultiFishLightA/SpontaneousMultiFishLightA/SpontaneousMultiFishLight00013.mat  \n",
      "  inflating: /mnt/cube/tsainbur/Projects/github_repos/childes_mi_project/data/raw/ZEBRAFISH_Data_Dir/SpontaneousMultiFishLightA/SpontaneousMultiFishLightA/SpontaneousMultiFishLight00014.mat  \n",
      "  inflating: /mnt/cube/tsainbur/Projects/github_repos/childes_mi_project/data/raw/ZEBRAFISH_Data_Dir/SpontaneousMultiFishLightA/SpontaneousMultiFishLightA/SpontaneousMultiFishLight00015.mat  \n",
      "  inflating: /mnt/cube/tsainbur/Projects/github_repos/childes_mi_project/data/raw/ZEBRAFISH_Data_Dir/SpontaneousMultiFishLightA/SpontaneousMultiFishLightA/SpontaneousMultiFishLight00016.mat  \n",
      "  inflating: /mnt/cube/tsainbur/Projects/github_repos/childes_mi_project/data/raw/ZEBRAFISH_Data_Dir/SpontaneousMultiFishLightA/SpontaneousMultiFishLightA/SpontaneousMultiFishLight00017.mat  \n",
      "  inflating: /mnt/cube/tsainbur/Projects/github_repos/childes_mi_project/data/raw/ZEBRAFISH_Data_Dir/SpontaneousMultiFishLightA/SpontaneousMultiFishLightA/SpontaneousMultiFishLight00018.mat  \n",
      "  inflating: /mnt/cube/tsainbur/Projects/github_repos/childes_mi_project/data/raw/ZEBRAFISH_Data_Dir/SpontaneousMultiFishLightA/SpontaneousMultiFishLightA/SpontaneousMultiFishLight00019.mat  \n",
      "  inflating: /mnt/cube/tsainbur/Projects/github_repos/childes_mi_project/data/raw/ZEBRAFISH_Data_Dir/SpontaneousMultiFishLightA/SpontaneousMultiFishLightA/SpontaneousMultiFishLight00020.mat  \n",
      "  inflating: /mnt/cube/tsainbur/Projects/github_repos/childes_mi_project/data/raw/ZEBRAFISH_Data_Dir/SpontaneousMultiFishLightA/SpontaneousMultiFishLightA/SpontaneousMultiFishLight00021.mat  \n",
      "  inflating: /mnt/cube/tsainbur/Projects/github_repos/childes_mi_project/data/raw/ZEBRAFISH_Data_Dir/SpontaneousMultiFishLightA/SpontaneousMultiFishLightA/SpontaneousMultiFishLight00022.mat  \n",
      "  inflating: /mnt/cube/tsainbur/Projects/github_repos/childes_mi_project/data/raw/ZEBRAFISH_Data_Dir/SpontaneousMultiFishLightA/SpontaneousMultiFishLightA/SpontaneousMultiFishLight00023.mat  \n",
      "  inflating: /mnt/cube/tsainbur/Projects/github_repos/childes_mi_project/data/raw/ZEBRAFISH_Data_Dir/SpontaneousMultiFishLightA/SpontaneousMultiFishLightA/SpontaneousMultiFishLight00024.mat  \n",
      "  inflating: /mnt/cube/tsainbur/Projects/github_repos/childes_mi_project/data/raw/ZEBRAFISH_Data_Dir/SpontaneousMultiFishLightA/SpontaneousMultiFishLightA/SpontaneousMultiFishLight00025.mat  \n",
      "  inflating: /mnt/cube/tsainbur/Projects/github_repos/childes_mi_project/data/raw/ZEBRAFISH_Data_Dir/SpontaneousMultiFishLightA/SpontaneousMultiFishLightA/SpontaneousMultiFishLight00026.mat  \n",
      "  inflating: /mnt/cube/tsainbur/Projects/github_repos/childes_mi_project/data/raw/ZEBRAFISH_Data_Dir/SpontaneousMultiFishLightA/SpontaneousMultiFishLightA/SpontaneousMultiFishLight00027.mat  \n",
      "  inflating: /mnt/cube/tsainbur/Projects/github_repos/childes_mi_project/data/raw/ZEBRAFISH_Data_Dir/SpontaneousMultiFishLightA/SpontaneousMultiFishLightA/SpontaneousMultiFishLight00028.mat  \n",
      "  inflating: /mnt/cube/tsainbur/Projects/github_repos/childes_mi_project/data/raw/ZEBRAFISH_Data_Dir/SpontaneousMultiFishLightA/SpontaneousMultiFishLightA/SpontaneousMultiFishLight00029.mat  \n",
      "  inflating: /mnt/cube/tsainbur/Projects/github_repos/childes_mi_project/data/raw/ZEBRAFISH_Data_Dir/SpontaneousMultiFishLightA/SpontaneousMultiFishLightA/SpontaneousMultiFishLight00030.mat  \n"
     ]
    },
    {
     "data": {
      "application/vnd.jupyter.widget-view+json": {
       "model_id": "346fecce77004fb8b45d820b003d427e",
       "version_major": 2,
       "version_minor": 0
      },
      "text/plain": [
       "HBox(children=(IntProgress(value=0, max=1124783620), HTML(value='')))"
      ]
     },
     "metadata": {},
     "output_type": "display_data"
    },
    {
     "name": "stdout",
     "output_type": "stream",
     "text": [
      "Archive:  /mnt/cube/tsainbur/Projects/github_repos/childes_mi_project/data/raw/ZEBRAFISH_Data_Dir/SpontaneousWEyeTracking.zip?dl=1\n",
      "  inflating: /mnt/cube/tsainbur/Projects/github_repos/childes_mi_project/data/raw/ZEBRAFISH_Data_Dir/SpontaneousWEyeTracking/SpontaneousWEyeTracking/SpontaneousWEyeTracking00001.mat  \n",
      "  inflating: /mnt/cube/tsainbur/Projects/github_repos/childes_mi_project/data/raw/ZEBRAFISH_Data_Dir/SpontaneousWEyeTracking/SpontaneousWEyeTracking/SpontaneousWEyeTracking00002.mat  \n",
      "  inflating: /mnt/cube/tsainbur/Projects/github_repos/childes_mi_project/data/raw/ZEBRAFISH_Data_Dir/SpontaneousWEyeTracking/SpontaneousWEyeTracking/SpontaneousWEyeTracking00003.mat  \n",
      "  inflating: /mnt/cube/tsainbur/Projects/github_repos/childes_mi_project/data/raw/ZEBRAFISH_Data_Dir/SpontaneousWEyeTracking/SpontaneousWEyeTracking/SpontaneousWEyeTracking00004.mat  \n",
      "  inflating: /mnt/cube/tsainbur/Projects/github_repos/childes_mi_project/data/raw/ZEBRAFISH_Data_Dir/SpontaneousWEyeTracking/SpontaneousWEyeTracking/SpontaneousWEyeTracking00005.mat  \n",
      "  inflating: /mnt/cube/tsainbur/Projects/github_repos/childes_mi_project/data/raw/ZEBRAFISH_Data_Dir/SpontaneousWEyeTracking/SpontaneousWEyeTracking/SpontaneousWEyeTracking00006.mat  \n",
      "  inflating: /mnt/cube/tsainbur/Projects/github_repos/childes_mi_project/data/raw/ZEBRAFISH_Data_Dir/SpontaneousWEyeTracking/SpontaneousWEyeTracking/SpontaneousWEyeTracking00007.mat  \n",
      "  inflating: /mnt/cube/tsainbur/Projects/github_repos/childes_mi_project/data/raw/ZEBRAFISH_Data_Dir/SpontaneousWEyeTracking/SpontaneousWEyeTracking/SpontaneousWEyeTracking00008.mat  \n",
      "  inflating: /mnt/cube/tsainbur/Projects/github_repos/childes_mi_project/data/raw/ZEBRAFISH_Data_Dir/SpontaneousWEyeTracking/SpontaneousWEyeTracking/SpontaneousWEyeTracking00009.mat  \n",
      "  inflating: /mnt/cube/tsainbur/Projects/github_repos/childes_mi_project/data/raw/ZEBRAFISH_Data_Dir/SpontaneousWEyeTracking/SpontaneousWEyeTracking/SpontaneousWEyeTracking00010.mat  \n",
      "  inflating: /mnt/cube/tsainbur/Projects/github_repos/childes_mi_project/data/raw/ZEBRAFISH_Data_Dir/SpontaneousWEyeTracking/SpontaneousWEyeTracking/SpontaneousWEyeTracking00011.mat  \n",
      "  inflating: /mnt/cube/tsainbur/Projects/github_repos/childes_mi_project/data/raw/ZEBRAFISH_Data_Dir/SpontaneousWEyeTracking/SpontaneousWEyeTracking/SpontaneousWEyeTracking00012.mat  \n",
      "  inflating: /mnt/cube/tsainbur/Projects/github_repos/childes_mi_project/data/raw/ZEBRAFISH_Data_Dir/SpontaneousWEyeTracking/SpontaneousWEyeTracking/SpontaneousWEyeTracking00013.mat  \n",
      "  inflating: /mnt/cube/tsainbur/Projects/github_repos/childes_mi_project/data/raw/ZEBRAFISH_Data_Dir/SpontaneousWEyeTracking/SpontaneousWEyeTracking/SpontaneousWEyeTracking00014.mat  \n",
      "  inflating: /mnt/cube/tsainbur/Projects/github_repos/childes_mi_project/data/raw/ZEBRAFISH_Data_Dir/SpontaneousWEyeTracking/SpontaneousWEyeTracking/SpontaneousWEyeTracking00015.mat  \n",
      "  inflating: /mnt/cube/tsainbur/Projects/github_repos/childes_mi_project/data/raw/ZEBRAFISH_Data_Dir/SpontaneousWEyeTracking/SpontaneousWEyeTracking/SpontaneousWEyeTracking00016.mat  \n",
      "  inflating: /mnt/cube/tsainbur/Projects/github_repos/childes_mi_project/data/raw/ZEBRAFISH_Data_Dir/SpontaneousWEyeTracking/SpontaneousWEyeTracking/SpontaneousWEyeTracking00017.mat  \n",
      "  inflating: /mnt/cube/tsainbur/Projects/github_repos/childes_mi_project/data/raw/ZEBRAFISH_Data_Dir/SpontaneousWEyeTracking/SpontaneousWEyeTracking/SpontaneousWEyeTracking00018.mat  \n",
      "  inflating: /mnt/cube/tsainbur/Projects/github_repos/childes_mi_project/data/raw/ZEBRAFISH_Data_Dir/SpontaneousWEyeTracking/SpontaneousWEyeTracking/SpontaneousWEyeTracking00019.mat  \n",
      "  inflating: /mnt/cube/tsainbur/Projects/github_repos/childes_mi_project/data/raw/ZEBRAFISH_Data_Dir/SpontaneousWEyeTracking/SpontaneousWEyeTracking/SpontaneousWEyeTracking00020.mat  \n",
      "  inflating: /mnt/cube/tsainbur/Projects/github_repos/childes_mi_project/data/raw/ZEBRAFISH_Data_Dir/SpontaneousWEyeTracking/SpontaneousWEyeTracking/SpontaneousWEyeTracking00021.mat  \n",
      "  inflating: /mnt/cube/tsainbur/Projects/github_repos/childes_mi_project/data/raw/ZEBRAFISH_Data_Dir/SpontaneousWEyeTracking/SpontaneousWEyeTracking/SpontaneousWEyeTracking00022.mat  \n",
      "  inflating: /mnt/cube/tsainbur/Projects/github_repos/childes_mi_project/data/raw/ZEBRAFISH_Data_Dir/SpontaneousWEyeTracking/SpontaneousWEyeTracking/SpontaneousWEyeTracking00023.mat  \n",
      "  inflating: /mnt/cube/tsainbur/Projects/github_repos/childes_mi_project/data/raw/ZEBRAFISH_Data_Dir/SpontaneousWEyeTracking/SpontaneousWEyeTracking/SpontaneousWEyeTracking00024.mat  \n",
      "  inflating: /mnt/cube/tsainbur/Projects/github_repos/childes_mi_project/data/raw/ZEBRAFISH_Data_Dir/SpontaneousWEyeTracking/SpontaneousWEyeTracking/SpontaneousWEyeTracking00025.mat  \n",
      "  inflating: /mnt/cube/tsainbur/Projects/github_repos/childes_mi_project/data/raw/ZEBRAFISH_Data_Dir/SpontaneousWEyeTracking/SpontaneousWEyeTracking/SpontaneousWEyeTracking00026.mat  \n",
      "  inflating: /mnt/cube/tsainbur/Projects/github_repos/childes_mi_project/data/raw/ZEBRAFISH_Data_Dir/SpontaneousWEyeTracking/SpontaneousWEyeTracking/SpontaneousWEyeTracking00027.mat  \n",
      "  inflating: /mnt/cube/tsainbur/Projects/github_repos/childes_mi_project/data/raw/ZEBRAFISH_Data_Dir/SpontaneousWEyeTracking/SpontaneousWEyeTracking/SpontaneousWEyeTracking00028.mat  \n",
      "  inflating: /mnt/cube/tsainbur/Projects/github_repos/childes_mi_project/data/raw/ZEBRAFISH_Data_Dir/SpontaneousWEyeTracking/SpontaneousWEyeTracking/SpontaneousWEyeTracking00029.mat  \n",
      "  inflating: /mnt/cube/tsainbur/Projects/github_repos/childes_mi_project/data/raw/ZEBRAFISH_Data_Dir/SpontaneousWEyeTracking/SpontaneousWEyeTracking/SpontaneousWEyeTracking00030.mat  \n",
      "  inflating: /mnt/cube/tsainbur/Projects/github_repos/childes_mi_project/data/raw/ZEBRAFISH_Data_Dir/SpontaneousWEyeTracking/SpontaneousWEyeTracking/SpontaneousWEyeTracking00031.mat  \n",
      "  inflating: /mnt/cube/tsainbur/Projects/github_repos/childes_mi_project/data/raw/ZEBRAFISH_Data_Dir/SpontaneousWEyeTracking/SpontaneousWEyeTracking/SpontaneousWEyeTracking00032.mat  \n",
      "  inflating: /mnt/cube/tsainbur/Projects/github_repos/childes_mi_project/data/raw/ZEBRAFISH_Data_Dir/SpontaneousWEyeTracking/SpontaneousWEyeTracking/SpontaneousWEyeTracking00033.mat  \n",
      "  inflating: /mnt/cube/tsainbur/Projects/github_repos/childes_mi_project/data/raw/ZEBRAFISH_Data_Dir/SpontaneousWEyeTracking/SpontaneousWEyeTracking/SpontaneousWEyeTracking00034.mat  \n",
      "  inflating: /mnt/cube/tsainbur/Projects/github_repos/childes_mi_project/data/raw/ZEBRAFISH_Data_Dir/SpontaneousWEyeTracking/SpontaneousWEyeTracking/SpontaneousWEyeTracking00035.mat  \n",
      "  inflating: /mnt/cube/tsainbur/Projects/github_repos/childes_mi_project/data/raw/ZEBRAFISH_Data_Dir/SpontaneousWEyeTracking/SpontaneousWEyeTracking/SpontaneousWEyeTracking00036.mat  \n",
      "  inflating: /mnt/cube/tsainbur/Projects/github_repos/childes_mi_project/data/raw/ZEBRAFISH_Data_Dir/SpontaneousWEyeTracking/SpontaneousWEyeTracking/SpontaneousWEyeTracking00037.mat  \n",
      "  inflating: /mnt/cube/tsainbur/Projects/github_repos/childes_mi_project/data/raw/ZEBRAFISH_Data_Dir/SpontaneousWEyeTracking/SpontaneousWEyeTracking/SpontaneousWEyeTracking00038.mat  \n",
      "  inflating: /mnt/cube/tsainbur/Projects/github_repos/childes_mi_project/data/raw/ZEBRAFISH_Data_Dir/SpontaneousWEyeTracking/SpontaneousWEyeTracking/SpontaneousWEyeTracking00039.mat  \n",
      "  inflating: /mnt/cube/tsainbur/Projects/github_repos/childes_mi_project/data/raw/ZEBRAFISH_Data_Dir/SpontaneousWEyeTracking/SpontaneousWEyeTracking/SpontaneousWEyeTracking00040.mat  \n",
      "  inflating: /mnt/cube/tsainbur/Projects/github_repos/childes_mi_project/data/raw/ZEBRAFISH_Data_Dir/SpontaneousWEyeTracking/SpontaneousWEyeTracking/SpontaneousWEyeTracking00041.mat  \n",
      "  inflating: /mnt/cube/tsainbur/Projects/github_repos/childes_mi_project/data/raw/ZEBRAFISH_Data_Dir/SpontaneousWEyeTracking/SpontaneousWEyeTracking/SpontaneousWEyeTracking00042.mat  \n",
      "  inflating: /mnt/cube/tsainbur/Projects/github_repos/childes_mi_project/data/raw/ZEBRAFISH_Data_Dir/SpontaneousWEyeTracking/SpontaneousWEyeTracking/SpontaneousWEyeTracking00043.mat  \n"
     ]
    },
    {
     "name": "stdout",
     "output_type": "stream",
     "text": [
      "  inflating: /mnt/cube/tsainbur/Projects/github_repos/childes_mi_project/data/raw/ZEBRAFISH_Data_Dir/SpontaneousWEyeTracking/SpontaneousWEyeTracking/SpontaneousWEyeTracking00044.mat  \n",
      "  inflating: /mnt/cube/tsainbur/Projects/github_repos/childes_mi_project/data/raw/ZEBRAFISH_Data_Dir/SpontaneousWEyeTracking/SpontaneousWEyeTracking/SpontaneousWEyeTracking00045.mat  \n",
      "  inflating: /mnt/cube/tsainbur/Projects/github_repos/childes_mi_project/data/raw/ZEBRAFISH_Data_Dir/SpontaneousWEyeTracking/SpontaneousWEyeTracking/SpontaneousWEyeTracking00046.mat  \n",
      "  inflating: /mnt/cube/tsainbur/Projects/github_repos/childes_mi_project/data/raw/ZEBRAFISH_Data_Dir/SpontaneousWEyeTracking/SpontaneousWEyeTracking/SpontaneousWEyeTracking00047.mat  \n",
      "  inflating: /mnt/cube/tsainbur/Projects/github_repos/childes_mi_project/data/raw/ZEBRAFISH_Data_Dir/SpontaneousWEyeTracking/SpontaneousWEyeTracking/SpontaneousWEyeTracking00048.mat  \n",
      "  inflating: /mnt/cube/tsainbur/Projects/github_repos/childes_mi_project/data/raw/ZEBRAFISH_Data_Dir/SpontaneousWEyeTracking/SpontaneousWEyeTracking/SpontaneousWEyeTracking00049.mat  \n",
      "  inflating: /mnt/cube/tsainbur/Projects/github_repos/childes_mi_project/data/raw/ZEBRAFISH_Data_Dir/SpontaneousWEyeTracking/SpontaneousWEyeTracking/SpontaneousWEyeTracking00050.mat  \n",
      "  inflating: /mnt/cube/tsainbur/Projects/github_repos/childes_mi_project/data/raw/ZEBRAFISH_Data_Dir/SpontaneousWEyeTracking/SpontaneousWEyeTracking/SpontaneousWEyeTracking00051.mat  \n",
      "  inflating: /mnt/cube/tsainbur/Projects/github_repos/childes_mi_project/data/raw/ZEBRAFISH_Data_Dir/SpontaneousWEyeTracking/SpontaneousWEyeTracking/SpontaneousWEyeTracking00052.mat  \n",
      "  inflating: /mnt/cube/tsainbur/Projects/github_repos/childes_mi_project/data/raw/ZEBRAFISH_Data_Dir/SpontaneousWEyeTracking/SpontaneousWEyeTracking/SpontaneousWEyeTracking00053.mat  \n",
      "  inflating: /mnt/cube/tsainbur/Projects/github_repos/childes_mi_project/data/raw/ZEBRAFISH_Data_Dir/SpontaneousWEyeTracking/SpontaneousWEyeTracking/SpontaneousWEyeTracking00054.mat  \n",
      "  inflating: /mnt/cube/tsainbur/Projects/github_repos/childes_mi_project/data/raw/ZEBRAFISH_Data_Dir/SpontaneousWEyeTracking/SpontaneousWEyeTracking/SpontaneousWEyeTracking00055.mat  \n",
      "  inflating: /mnt/cube/tsainbur/Projects/github_repos/childes_mi_project/data/raw/ZEBRAFISH_Data_Dir/SpontaneousWEyeTracking/SpontaneousWEyeTracking/SpontaneousWEyeTracking00056.mat  \n",
      "  inflating: /mnt/cube/tsainbur/Projects/github_repos/childes_mi_project/data/raw/ZEBRAFISH_Data_Dir/SpontaneousWEyeTracking/SpontaneousWEyeTracking/SpontaneousWEyeTracking00057.mat  \n",
      "  inflating: /mnt/cube/tsainbur/Projects/github_repos/childes_mi_project/data/raw/ZEBRAFISH_Data_Dir/SpontaneousWEyeTracking/SpontaneousWEyeTracking/SpontaneousWEyeTracking00058.mat  \n",
      "  inflating: /mnt/cube/tsainbur/Projects/github_repos/childes_mi_project/data/raw/ZEBRAFISH_Data_Dir/SpontaneousWEyeTracking/SpontaneousWEyeTracking/SpontaneousWEyeTracking00059.mat  \n",
      "  inflating: /mnt/cube/tsainbur/Projects/github_repos/childes_mi_project/data/raw/ZEBRAFISH_Data_Dir/SpontaneousWEyeTracking/SpontaneousWEyeTracking/SpontaneousWEyeTracking00060.mat  \n"
     ]
    }
   ],
   "source": [
    "for url in tqdm(urls):\n",
    "    save_loc = ZEBRAFISH_DIR / url.split('/')[-1]\n",
    "    # make sure there is a directory to save to\n",
    "    ensure_dir(save_loc)\n",
    "    # save to disk\n",
    "    if not save_loc.exists():\n",
    "        download_file(url, save_loc)\n",
    "\n",
    "        # unzip\n",
    "        sl = save_loc.as_posix()\n",
    "        slp = (save_loc.parent / save_loc.stem).as_posix()\n",
    "        !unzip $sl -d $slp"
   ]
  },
  {
   "cell_type": "code",
   "execution_count": 24,
   "metadata": {
    "ExecuteTime": {
     "end_time": "2019-08-19T18:42:00.949448Z",
     "start_time": "2019-08-19T18:42:00.466563Z"
    }
   },
   "outputs": [
    {
     "data": {
      "text/plain": [
       "PosixPath('/mnt/cube/tsainbur/Projects/github_repos/childes_mi_project/data/raw/ZEBRAFISH_Data_Dir/3minLightDark.zip?dl=1')"
      ]
     },
     "execution_count": 24,
     "metadata": {},
     "output_type": "execute_result"
    }
   ],
   "source": [
    "save_loc"
   ]
  },
  {
   "cell_type": "markdown",
   "metadata": {},
   "source": [
    "### Bout info (reproduced from dataset)"
   ]
  },
  {
   "attachments": {
    "image.png": {
     "image/png": "[encoded data removed]"
    }
   },
   "cell_type": "raw",
   "metadata": {},
   "source": [
    "Bout Data Files \n",
    "These folders contain swim bout data from the behavioral experiments analyzed in Marques et al., 2018, Current Biology. Full resolution tracking data is provided for >2,000,000 detected bouts. The interbout interval data, where the fish is not moving is not included, but timing information is included that allows the temporal and spatial relationships between bouts. Any questions, please email michael.orger@neuro.fchampalimaud.org. In most experiments the data is gathered continuously, but in a few, the data was only captured around a particular stimulus interval. These two types of data are placed in two folders. In experiments there are multiple fish tracked simultaneously. Although our software aims to continuously track each fish, it is not designed to resolve their identities after a collision, and therefore it should not be assumed that each ‘fish’ in these data structures is necessarily data from a single individual throughout the whole experiment.\n",
    "The data is stored as Matlab *.mat data files. \n",
    "Each file contains a structure array (boutStructure) with the data from 1 or more fish (Each ‘fish’ is one structure in the array). For each fish, there are the following fields:\n",
    "BoutInf (nBoutsx18):\n",
    "Columns 1 and 2: the start and end of the bout data in the continuous data variables\n",
    "Column 3: Number indicating the stimulus being shown during that bout\n",
    "Column 4: Original frame start number (allows actual timing of bout to be known, given 700 Hz frame rate)\n",
    "Columns 5:7 Pre-bout x, y position and theta in pixels and radians (???)\n",
    "Column 8: Eye Convergence during bout (2: converged; 1: not converged)\n",
    "Column 9: Change in eye convergence angle (degrees) during bout\n",
    "Column 10: Assigned eye convergence category (1=converge during  bout; 2=not converged ;  3=converged; 4=diverge during bout)\n",
    "Column 11: Bout category assigned using the scheme in Marques et al. 2018 (1=SCS; 2=LCS; 3=BS; 4=O-bend; 5=J-turn; 6=SLC; 7=S1; 8=RT; 9=S2; 10=LLC; 11=AS; 12=SAT; 13=HAT)\n",
    "EyeContinuousData (nx2)\n",
    "This contains the eye position data during the bouts. Straight outwards is represented by PI/2 and clockwise rotation is negative. Column 1: Left eye. Column2: Right Eye.\n",
    "BoutContinuousData (nx16) This variable contains the raw data for each bout in the data set. The data from each detected bout is included with a buffer of 20 frames before and after\n",
    "Column 1: Raw heading angle (radians, clockwise negative) \n",
    "Column 2: Heading angle (radians, clockwise negative) with wrap-around jumps removed and rotated to set the pre-Bout angle to 0\n",
    "Columns 3:12 The angle (radians) of the first 10 detected tail segments (note that data from the last few segments are included for completeness, but may not be tracked accurately in all fish – we suggest using the first 8). Angle is defined relative to the more rostral body segment, so a positive angle indicates a rightward deflection, if one is looking at the fish from above with its head at the top.\n",
    "Columns 13:14 Position of fish (in mm) during the bout relative to the pre-bout position. 13: movement along the head-tail axis (head positive). 14: Movement along the left-right axis (right negative)\n",
    "Columns 15:16 Change in position of fish on each frame (in mm), relative to its position in previous frame. Compared to the previous columns, these values take into account the changing body angle of the fish. 15: movement along the head-tail axis (head positive). 16: Movement along the left-right axis (right negative)\n",
    "FishInf (1x18)\n",
    "1-2: Arena dimensions (pixels)\n",
    "3: Dataset number\n",
    "4: Protocol number\n",
    "5: Experiment unique Identifying number\n",
    "6: Pixel size (mm)\n",
    "7: Head to swim-bladder distance in pixels (internal use for normalising the data across set-ups)\n",
    "8: Tail segment length in pixels (internal use for normalising the data across set-ups)\n",
    "9: Distance from mid-eye position to detected head position  (internal use for normalising the data across set-ups)\n",
    "10: Number of reliably detected tail sections\n",
    "11: Fish age in days post fertilization\n",
    "12: Unique data file number\n",
    "13: Eye tracking flag\n",
    "14: Fish number in file\n",
    "15-16: Individual fish unique identifying numbers used for internal purposes\n",
    "17-18: Average x and y positions (useful when fish are in multiwell arenas)\n",
    "BoutKinematicParameters (nBoutsx240)\n",
    "Various kinematic parameters calculated for each bout\n",
    "Column 1. Number of half beats \n",
    "Column 2.  Duration of tail movement (ms)\n",
    "Column 3.  Duration of movement with glide (ms)\n",
    "Column 4.  Mean tail beat frequency (Hz)\n",
    "Column 5.  Maximum tail beat frequency (Hz)\n",
    "Column 6.  Minimum tail beat frequency (Hz)\n",
    "Column 7.  Mean head yaw (absolute value, degrees)\n",
    "Column 8.  Maximum head yaw (absolute value, degrees)\n",
    "Column 9.  Minimum head yaw (absolute value, degrees)\n",
    "Column 10.  Angle turned during tail motion (degrees, clockwise negative)\n",
    "Column 11. Angle turned during bout including glide (degrees, clockwise negative)\n",
    "Column 12. Maximum angle turned during bout (degrees, absolute value)\n",
    "Column 13. Maximum angular speed during bout (degrees per ms, absolute value)\n",
    "          \n",
    "Column 14. Distance advanced in the tail to head direction during tail motion (forward positive, mm)\n",
    "Column 15. Distance moved in left right direction during tail motion (left positive, mm)\n",
    "Column 16. Speed in the tail to head direction during tail motion (forward positive, mm per s)\n",
    "Column 17. Speed in the left right direction during tail motion (left positive, mm per s)\n",
    "Column 18. Distance advanced in the tail to head direction including glide (forward positive, mm)\n",
    "Column 19. Distance moved in left right direction including glide (left positive, mm)\n",
    "Column 20. Speed in the tail to head direction including glide (forward positive, mm per s)\n",
    "Column 21. Speed in the left right direction including glide (left positive, mm per s)\n",
    "Column 22. Maximum value of the bout detector tail motion measure (arbitrary units)\n",
    "Column 23. Average value of the bout detector tail motion measure (arbitrary units)      \n",
    "Column 24. Max tail bend amplitude at 1st segment (max absolute value, degrees)\n",
    "Column 25. Max tail bend amplitude at 2nd segment (max absolute value, degrees)\n",
    "Column 26. Max tail bend amplitude at 3rd segment (max absolute value, degrees)\n",
    "Column 27. Max tail bend amplitude at 4th segment (max absolute value, degrees)\n",
    "Column 28. Max tail bend amplitude at 5th segment (max absolute value, degrees)\n",
    "Column 29. Max tail bend amplitude at 6th segment (max absolute value, degrees)\n",
    "Column 30. Max tail bend amplitude at 7th segment (max absolute value, degrees)\n",
    "Column 31. Max tail bend amplitude at 8th segment (max absolute value, degrees)\n",
    "Column 32. Max tail bend amplitude at 9th segment (max absolute value, degrees)\n",
    "Column 33. Max tail bend amplitude at 10th segment (max absolute value, degrees)\n",
    "Column 34. First half beat direction (1 = positive angle, right, 0 = negative angle, left)\n",
    "Column 35. Half beat 1 (hb1) duration, along the tail length (ms) (note that half beats can overlap in time)\n",
    "Column 36. Half beat 1 frequency, inverse of duration (Hz)\n",
    "          \n",
    "Column 37. hb1 max tail bend amplitude at 1st segment (max absolute value, degrees)\n",
    "Column 38. hb1 max tail bend amplitude at 2nd segment (max absolute value, degrees)\n",
    "Column 39. hb1 max tail bend amplitude at 3rd segment (max absolute value, degrees)\n",
    "Column 40. hb1 max tail bend amplitude at 4th segment (max absolute value, degrees)\n",
    "Column 41. hb1 max tail bend amplitude at 5th segment (max absolute value, degrees)\n",
    "Column 42. hb1 max tail bend amplitude at 6th segment (max absolute value, degrees)\n",
    "Column 43. hb1 max tail bend amplitude at 7th segment (max absolute value, degrees)\n",
    "Column 44. hb1 max tail bend amplitude at 8th segment (max absolute value, degrees)\n",
    "Column 45. hb1 max tail bend amplitude at 9th segment (max absolute value, degrees)\n",
    "Column 46. hb1 max tail bend amplitude at 10th segment (max absolute value, degrees)\n",
    "Column 47. hb1 position of half maximal bend (micrometres from swim bladder)\n",
    "Column 48. hb1 angle turned (degrees)\n",
    "Column 49. hb1 absolute max angular velocity (deg per ms)\n",
    "Column 50. hb1 distance advanced in the tail to head direction during tail motion (forward positive, mm)\n",
    "Column 51. hb1 distance moved in left right direction during tail motion (left positive, mm)\n",
    "Column 52. hb1 speed in the tail to head direction during tail motion (forward positive, mm per s)\n",
    "Column 53. hb1 speed in the left right direction during tail motion (left positive, mm per s)\n",
    "Column 54. hb1 maximum value of the bout detector tail motion measure (arbitrary units)\n",
    "Column 55. hb1 average value of the bout detector tail motion measure (arbitrary units)\n",
    "Column 56. hb1 maximum value of the tail curvature (m^-1)\n",
    "Column 57. Second half beat direction (1 = positive angle, right, 0 = negative angle, left)\n",
    "Column 58. Half beat 2 (hb2) duration, along the tail length (ms) (note that half beats can overlap in time)\n",
    "Column 59. Half beat 2 frequency, inverse of duration (Hz)\n",
    "Column 60. hb2 max tail bend amplitude at 1st segment (max absolute value, degrees)\n",
    "Column 61. hb2 max tail bend amplitude at 2nd segment (max absolute value, degrees)\n",
    "Column 62. hb2 max tail bend amplitude at 3rd segment (max absolute value, degrees)\n",
    "Column 63. hb2 max tail bend amplitude at 4th segment (max absolute value, degrees)\n",
    "Column 64. hb2 max tail bend amplitude at 5th segment (max absolute value, degrees)\n",
    "Column 65. hb2 max tail bend amplitude at 6th segment (max absolute value, degrees)\n",
    "Column 66. hb2 max tail bend amplitude at 7th segment (max absolute value, degrees)\n",
    "Column 67. hb2 max tail bend amplitude at 8th segment (max absolute value, degrees)\n",
    "Column 68. hb2 max tail bend amplitude at 9th segment (max absolute value, degrees)\n",
    "Column 69. hb2 max tail bend amplitude at 10th segment (max absolute value, degrees)\n",
    "Column 70. hb2 position of half maximal bend (micrometres from swim bladder)\n",
    "Column 71. hb2 angle turned (degrees)\n",
    "Column 72. hb2 absolute max angular velocity (deg per ms)\n",
    "Column 73. hb2 distance advanced in the tail to head direction during tail motion (forward positive, mm)\n",
    "Column 74. hb2 distance moved in left right direction during tail motion (left positive, mm)\n",
    "Column 75. hb2 speed in the tail to head direction during tail motion (forward positive, mm per s)\n",
    "Column 76. hb2 speed in the left right direction during tail motion (left positive, mm per s)\n",
    "Column 77. hb2 maximum value of the bout detector tail motion measure (arbitrary units)\n",
    "Column 78. hb2 average value of the bout detector tail motion measure (arbitrary units)\n",
    "Column 79. hb2 maximum value of the tail curvature (m^-1)\n",
    "Column 80. Third half beat direction (1 = positive angle, right, 0 = negative angle, left)\n",
    "Column 81. Half beat 3 (hb3) duration, along the tail length (ms) (note that half beats can overlap in time)\n",
    "Column 82. Half beat 3 frequency, inverse of duration (Hz)\n",
    "Column 83. hb3 max tail bend amplitude at 1st segment (max absolute value, degrees)\n",
    "Column 84. hb3 max tail bend amplitude at 2nd segment (max absolute value, degrees)\n",
    "Column 85. hb3 max tail bend amplitude at 3rd segment (max absolute value, degrees)\n",
    "Column 86. hb3 max tail bend amplitude at 4th segment (max absolute value, degrees)\n",
    "Column 87. hb3 max tail bend amplitude at 5th segment (max absolute value, degrees)\n",
    "Column 88. hb3 max tail bend amplitude at 6th segment (max absolute value, degrees)\n",
    "Column 89. hb3 max tail bend amplitude at 7th segment (max absolute value, degrees)\n",
    "Column 90. hb3 max tail bend amplitude at 8th segment (max absolute value, degrees)\n",
    "Column 91. hb3 max tail bend amplitude at 9th segment (max absolute value, degrees)\n",
    "Column 92. hb3 max tail bend amplitude at 10th segment (max absolute value, degrees)\n",
    "Column 93. hb3 position of half maximal bend (micrometres from swim bladder)\n",
    "Column 94. hb3 angle turned (degrees)\n",
    "Column 95. hb3 absolute max angular velocity (deg per ms)\n",
    "Column 96. hb3 distance advanced in the tail to head direction during tail motion (forward positive, mm)\n",
    "Column 97. hb3 distance moved in left right direction during tail motion (left positive, mm)\n",
    "Column 98. hb3 speed in the tail to head direction during tail motion (forward positive, mm per s)\n",
    "Column 99. hb3 speed in the left right direction during tail motion (left positive, mm per s)\n",
    "Column 100. hb3 maximum value of the bout detector tail motion measure (arbitrary units)\n",
    "Column 101. hb3 average value of the bout detector tail motion measure (arbitrary units)\n",
    "Column 102. hb3 maximum value of the tail curvature (m^-1)\n",
    "Column 103. C1 bend angle (degrees, as in Burgess and Granato, 2007)\n",
    "Column 104. C1 duration (ms)\n",
    "Column 105. C1 max angular speed (degrees per ms)\n",
    "Column 106. C2 bend angle (degrees)\n",
    "Column 107. C2 duration (ms)\n",
    "Column 108. C2 max angular speed (degrees per ms)\n",
    "Column 109. Average eye convergence angle during bout (degrees)\n",
    "Column 110. Average eye convergence angle during 20 frames before bout (degrees)\n",
    "Column 111. Average eye convergence angle during 20 frames after bout (degrees)\n",
    "Column 112. Eye convergence angle change during bout (degrees)\n",
    "![image.png](attachment:image.png)"
   ]
  },
  {
   "cell_type": "code",
   "execution_count": null,
   "metadata": {},
   "outputs": [],
   "source": []
  },
  {
   "cell_type": "code",
   "execution_count": null,
   "metadata": {},
   "outputs": [],
   "source": []
  }
 ],
 "metadata": {
  "kernelspec": {
   "display_name": "Python 3",
   "language": "python",
   "name": "python3"
  },
  "language_info": {
   "codemirror_mode": {
    "name": "ipython",
    "version": 3
   },
   "file_extension": ".py",
   "mimetype": "text/x-python",
   "name": "python",
   "nbconvert_exporter": "python",
   "pygments_lexer": "ipython3",
   "version": "3.6.7"
  }
 },
 "nbformat": 4,
 "nbformat_minor": 2
}
