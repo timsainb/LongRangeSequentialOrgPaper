{
 "cells": [
  {
   "cell_type": "code",
   "execution_count": 7,
   "metadata": {
    "ExecuteTime": {
     "end_time": "2019-08-19T18:37:17.235852Z",
     "start_time": "2019-08-19T18:37:16.844987Z"
    }
   },
   "outputs": [],
   "source": [
    "# https://linkinghub.elsevier.com/retrieve/pii/S0960-9822(17)31604-4\\\n",
    "# https://doi.org/10.17632/r9vn7x287r.1\n",
    "# https://doi.org/10.17632/xf2zv4yhv8.1\n",
    "# https://doi.org/10.17632/bzh35dd2td.1\n",
    "# https://doi.org/10.17632/fgpbbv29rw.1\n",
    "# https://doi.org/10.17632/6hsdh9gj89.1"
   ]
  },
  {
   "cell_type": "code",
   "execution_count": 8,
   "metadata": {
    "ExecuteTime": {
     "end_time": "2019-08-19T18:37:17.357847Z",
     "start_time": "2019-08-19T18:37:17.239986Z"
    }
   },
   "outputs": [
    {
     "name": "stdout",
     "output_type": "stream",
     "text": [
      "The autoreload extension is already loaded. To reload it, use:\n",
      "  %reload_ext autoreload\n"
     ]
    }
   ],
   "source": [
    "%load_ext autoreload\n",
    "%autoreload 2"
   ]
  },
  {
   "cell_type": "code",
   "execution_count": 9,
   "metadata": {
    "ExecuteTime": {
     "end_time": "2019-08-19T18:37:17.441269Z",
     "start_time": "2019-08-19T18:37:17.364310Z"
    }
   },
   "outputs": [],
   "source": [
    "from childes_mi.utils.paths import DATA_DIR, ensure_dir, ZEBRAFISH_DIR\n",
    "import urllib.request"
   ]
  },
  {
   "cell_type": "code",
   "execution_count": 20,
   "metadata": {
    "ExecuteTime": {
     "end_time": "2019-08-19T18:40:24.293340Z",
     "start_time": "2019-08-19T18:40:23.564018Z"
    }
   },
   "outputs": [],
   "source": [
    "import requests"
   ]
  },
  {
   "cell_type": "code",
   "execution_count": 16,
   "metadata": {
    "ExecuteTime": {
     "end_time": "2019-08-19T18:39:59.605643Z",
     "start_time": "2019-08-19T18:39:59.495936Z"
    }
   },
   "outputs": [
    {
     "name": "stderr",
     "output_type": "stream",
     "text": [
      "/mnt/cube/tsainbur/conda_envs/tpy3/lib/python3.6/site-packages/tqdm/autonotebook/__init__.py:14: TqdmExperimentalWarning: Using `tqdm.autonotebook.tqdm` in notebook mode. Use `tqdm.tqdm` instead to force console mode (e.g. in jupyter console)\n",
      "  \" (e.g. in jupyter console)\", TqdmExperimentalWarning)\n"
     ]
    }
   ],
   "source": [
    "from tqdm.autonotebook import tqdm"
   ]
  },
  {
   "cell_type": "code",
   "execution_count": 21,
   "metadata": {
    "ExecuteTime": {
     "end_time": "2019-08-19T18:40:26.275795Z",
     "start_time": "2019-08-19T18:40:26.229073Z"
    }
   },
   "outputs": [],
   "source": [
    "def download_file(url, filename):\n",
    "    \"\"\"\n",
    "    Helper method handling downloading large files from `url` to `filename`. Returns a pointer to `filename`.\n",
    "    \"\"\"\n",
    "    chunkSize = 1024\n",
    "    r = requests.get(url, stream=True)\n",
    "    with open(filename, 'wb') as f:\n",
    "        pbar = tqdm( unit=\"B\", total=int( r.headers['Content-Length'] ) )\n",
    "        for chunk in r.iter_content(chunk_size=chunkSize): \n",
    "            if chunk: # filter out keep-alive new chunks\n",
    "                pbar.update (len(chunk))\n",
    "                f.write(chunk)\n",
    "    return filename"
   ]
  },
  {
   "cell_type": "code",
   "execution_count": 39,
   "metadata": {
    "ExecuteTime": {
     "end_time": "2019-08-19T18:59:10.582611Z",
     "start_time": "2019-08-19T18:59:10.545266Z"
    }
   },
   "outputs": [],
   "source": [
    "urls = [\n",
    "    # dataset part 1\n",
    "    \"https://data.mendeley.com/datasets/r9vn7x287r/1/files/32132a3f-ae3c-4f83-bfaf-d60e5ce34927/3minLightDark.zip?dl=1\",  \n",
    "    \"https://data.mendeley.com/datasets/r9vn7x287r/1/files/d470328f-3e94-4dd7-b508-15b2a0d5f6e1/AcousticLightDark.zip?dl=1\",\n",
    "    \"https://data.mendeley.com/datasets/r9vn7x287r/1/files/da04ec03-1907-4c71-aa61-dc7c99f17796/DarkLightTransitions.zip?dl=1\",\n",
    "    \"https://data.mendeley.com/datasets/r9vn7x287r/1/files/37e7c1ac-a556-4165-851a-79a686c1898b/LoomingDifferentDirections.zip?dl=1\",\n",
    "    # dataset part 2 \n",
    "    \"https://data.mendeley.com/datasets/xf2zv4yhv8/1/files/dd161fcf-d730-4013-8d2e-6e8f1af5f4ea/LoomingDifferentSpeeds.zip?dl=1\",\n",
    "    \"https://data.mendeley.com/datasets/xf2zv4yhv8/1/files/39375c2a-2fc5-4485-b945-4730148abb7d/OMRSpeed.zip?dl=1\",\n",
    "    \"https://data.mendeley.com/datasets/xf2zv4yhv8/1/files/da125f14-ff5e-4787-98a8-f159dea9b62b/OMRSpontaneousTu.zip?dl=1\",\n",
    "    \"https://data.mendeley.com/datasets/xf2zv4yhv8/1/files/de808048-59ff-4681-b4a6-5498bf8ae968/OMRSpontaneousTu2.zip?dl=1\",\n",
    "    \"https://data.mendeley.com/datasets/xf2zv4yhv8/1/files/a5b2d8c6-59cc-4f36-a4fb-898d520f0862/OMRTurns.zip?dl=1\",\n",
    "    \"https://data.mendeley.com/datasets/xf2zv4yhv8/1/files/02460a91-e0a6-4c6b-b4f4-16ff12ea7711/Phototaxis.zip?dl=1\",\n",
    "    \"https://data.mendeley.com/datasets/xf2zv4yhv8/1/files/5c6fbdd1-0524-4229-b89e-8fc269745d87/PreyCapture.zip?dl=1\",\n",
    "    # dataset part 3 \n",
    "    \"https://data.mendeley.com/datasets/bzh35dd2td/1/files/fe96b6ed-241b-4736-b622-2baabf4e059c/PreyCaptureExpTu.zip?dl=1\",\n",
    "    \"https://data.mendeley.com/datasets/bzh35dd2td/1/files/026e709d-8f1a-4817-9622-42c4bda3e29a/PreyCaptureExpTu2.zip?dl=1\",\n",
    "    \"https://data.mendeley.com/datasets/bzh35dd2td/1/files/f4844b23-e56c-4efa-a2ba-3fc7010ef32e/PreyCaptureNaive.zip?dl=1\",\n",
    "    \"https://data.mendeley.com/datasets/bzh35dd2td/1/files/959ff250-2be9-42a0-aaf3-0ec7c4bcef9b/PreyCaptureNaiveTu.zip?dl=1\",\n",
    "    # part 4\n",
    "    \"https://data.mendeley.com/datasets/fgpbbv29rw/1/files/2767a0bd-a11d-4542-8083-115b62346c06/PreyCaptureNaiveTu2.zip?dl=1\",\n",
    "    \"https://data.mendeley.com/datasets/fgpbbv29rw/1/files/4234c12b-a32e-48c8-ab4d-a9dbd1b81acb/PreyCaptureSmallRotTuNaive.zip?dl=1\",\n",
    "    \"https://data.mendeley.com/datasets/fgpbbv29rw/1/files/01da0ca4-9498-450b-b24c-3f68788fb287/PreyCaptureSmallRotTuNaive2.zip?dl=1\",\n",
    "    \"https://data.mendeley.com/datasets/fgpbbv29rw/1/files/6c40007f-a0c5-4143-bb42-410d93a4646d/PreyCaptureSmallRotTuWithRot.zip?dl=1\",\n",
    "    \"https://data.mendeley.com/datasets/fgpbbv29rw/1/files/a2d9e221-922a-4ea8-96e3-30ddd1496c27/SpontaneousMultiFishDark.zip?dl=1\",\n",
    "    \"https://data.mendeley.com/datasets/fgpbbv29rw/1/files/c12efa1f-bfb2-41e5-9b6b-f8a12807ba4f/SpontaneousMultiFishLightA.zip?dl=1\",\n",
    "    \"https://data.mendeley.com/datasets/fgpbbv29rw/1/files/aa673143-797e-4ab6-b6cb-ff98511648ee/SpontaneousWEyeTracking.zip?dl=1\",\n",
    "    # part 5\n",
    "    \"https://data.mendeley.com/datasets/6hsdh9gj89/1/files/8fff6825-8746-49a9-8113-e24b6da85860\",\n",
    "]"
   ]
  },
  {
   "cell_type": "code",
   "execution_count": null,
   "metadata": {
    "ExecuteTime": {
     "end_time": "2019-08-19T18:58:54.589983Z",
     "start_time": "2019-08-19T18:58:54.550948Z"
    }
   },
   "outputs": [],
   "source": []
  },
  {
   "cell_type": "code",
   "execution_count": 40,
   "metadata": {
    "ExecuteTime": {
     "end_time": "2019-08-19T19:13:38.422448Z",
     "start_time": "2019-08-19T18:59:11.499147Z"
    },
    "scrolled": true
   },
   "outputs": [
    {
     "data": {
      "application/vnd.jupyter.widget-view+json": {
       "model_id": "dd2efd12bf784804adad93ada218de48",
       "version_major": 2,
       "version_minor": 0
      },
      "text/plain": [
       "HBox(children=(IntProgress(value=0, max=4), HTML(value='')))"
      ]
     },
     "metadata": {},
     "output_type": "display_data"
    },
    {
     "data": {
      "application/vnd.jupyter.widget-view+json": {
       "model_id": "d73c7ebd225e4b45880dadcb67549555",
       "version_major": 2,
       "version_minor": 0
      },
      "text/plain": [
       "HBox(children=(IntProgress(value=0, max=1045496639), HTML(value='')))"
      ]
     },
     "metadata": {},
     "output_type": "display_data"
    },
    {
     "name": "stdout",
     "output_type": "stream",
     "text": [
      "Archive:  /mnt/cube/tsainbur/Projects/github_repos/childes_mi_project/data/raw/ZEBRAFISH_Data_Dir/AcousticLightDark.zip?dl=1\n",
      "   creating: /mnt/cube/tsainbur/Projects/github_repos/childes_mi_project/data/raw/ZEBRAFISH_Data_Dir/AcousticLightDark/BeepsLightDark/\n",
      "  inflating: /mnt/cube/tsainbur/Projects/github_repos/childes_mi_project/data/raw/ZEBRAFISH_Data_Dir/AcousticLightDark/BeepsLightDark/BeepsLightDarkEyeConv00001.mat  \n",
      "  inflating: /mnt/cube/tsainbur/Projects/github_repos/childes_mi_project/data/raw/ZEBRAFISH_Data_Dir/AcousticLightDark/BeepsLightDark/BeepsLightDarkEyeConv00002.mat  \n",
      "  inflating: /mnt/cube/tsainbur/Projects/github_repos/childes_mi_project/data/raw/ZEBRAFISH_Data_Dir/AcousticLightDark/BeepsLightDark/BeepsLightDarkEyeConv00003.mat  \n",
      "  inflating: /mnt/cube/tsainbur/Projects/github_repos/childes_mi_project/data/raw/ZEBRAFISH_Data_Dir/AcousticLightDark/BeepsLightDark/BeepsLightDarkEyeConv00004.mat  \n",
      "  inflating: /mnt/cube/tsainbur/Projects/github_repos/childes_mi_project/data/raw/ZEBRAFISH_Data_Dir/AcousticLightDark/BeepsLightDark/BeepsLightDarkEyeConv00005.mat  \n",
      "  inflating: /mnt/cube/tsainbur/Projects/github_repos/childes_mi_project/data/raw/ZEBRAFISH_Data_Dir/AcousticLightDark/BeepsLightDark/BeepsLightDarkEyeConv00006.mat  \n",
      "  inflating: /mnt/cube/tsainbur/Projects/github_repos/childes_mi_project/data/raw/ZEBRAFISH_Data_Dir/AcousticLightDark/BeepsLightDark/BeepsLightDarkEyeConv00007.mat  \n",
      "  inflating: /mnt/cube/tsainbur/Projects/github_repos/childes_mi_project/data/raw/ZEBRAFISH_Data_Dir/AcousticLightDark/BeepsLightDark/BeepsLightDarkEyeConv00008.mat  \n",
      "  inflating: /mnt/cube/tsainbur/Projects/github_repos/childes_mi_project/data/raw/ZEBRAFISH_Data_Dir/AcousticLightDark/BeepsLightDark/BeepsLightDarkEyeConv00009.mat  \n",
      "  inflating: /mnt/cube/tsainbur/Projects/github_repos/childes_mi_project/data/raw/ZEBRAFISH_Data_Dir/AcousticLightDark/BeepsLightDark/BeepsLightDarkEyeConv00010.mat  \n",
      "  inflating: /mnt/cube/tsainbur/Projects/github_repos/childes_mi_project/data/raw/ZEBRAFISH_Data_Dir/AcousticLightDark/BeepsLightDark/BeepsLightDarkEyeConv00011.mat  \n",
      "  inflating: /mnt/cube/tsainbur/Projects/github_repos/childes_mi_project/data/raw/ZEBRAFISH_Data_Dir/AcousticLightDark/BeepsLightDark/BeepsLightDarkEyeConv00012.mat  \n",
      "  inflating: /mnt/cube/tsainbur/Projects/github_repos/childes_mi_project/data/raw/ZEBRAFISH_Data_Dir/AcousticLightDark/BeepsLightDark/BeepsLightDarkEyeConv00013.mat  \n",
      "  inflating: /mnt/cube/tsainbur/Projects/github_repos/childes_mi_project/data/raw/ZEBRAFISH_Data_Dir/AcousticLightDark/BeepsLightDark/BeepsLightDarkEyeConv00014.mat  \n",
      "  inflating: /mnt/cube/tsainbur/Projects/github_repos/childes_mi_project/data/raw/ZEBRAFISH_Data_Dir/AcousticLightDark/BeepsLightDark/BeepsLightDarkEyeConv00015.mat  \n",
      "  inflating: /mnt/cube/tsainbur/Projects/github_repos/childes_mi_project/data/raw/ZEBRAFISH_Data_Dir/AcousticLightDark/BeepsLightDark/BeepsLightDarkEyeConv00016.mat  \n",
      "  inflating: /mnt/cube/tsainbur/Projects/github_repos/childes_mi_project/data/raw/ZEBRAFISH_Data_Dir/AcousticLightDark/BeepsLightDark/BeepsLightDarkEyeConv00017.mat  \n",
      "  inflating: /mnt/cube/tsainbur/Projects/github_repos/childes_mi_project/data/raw/ZEBRAFISH_Data_Dir/AcousticLightDark/BeepsLightDark/BeepsLightDarkEyeConv00018.mat  \n",
      "  inflating: /mnt/cube/tsainbur/Projects/github_repos/childes_mi_project/data/raw/ZEBRAFISH_Data_Dir/AcousticLightDark/BeepsLightDark/BeepsLightDarkEyeConv00019.mat  \n",
      "  inflating: /mnt/cube/tsainbur/Projects/github_repos/childes_mi_project/data/raw/ZEBRAFISH_Data_Dir/AcousticLightDark/BeepsLightDark/BeepsLightDarkEyeConv00020.mat  \n",
      "  inflating: /mnt/cube/tsainbur/Projects/github_repos/childes_mi_project/data/raw/ZEBRAFISH_Data_Dir/AcousticLightDark/BeepsLightDark/BeepsLightDarkEyeConv00021.mat  \n",
      "  inflating: /mnt/cube/tsainbur/Projects/github_repos/childes_mi_project/data/raw/ZEBRAFISH_Data_Dir/AcousticLightDark/BeepsLightDark/BeepsLightDarkEyeConv00022.mat  \n",
      "  inflating: /mnt/cube/tsainbur/Projects/github_repos/childes_mi_project/data/raw/ZEBRAFISH_Data_Dir/AcousticLightDark/BeepsLightDark/BeepsLightDarkEyeConv00023.mat  \n",
      "  inflating: /mnt/cube/tsainbur/Projects/github_repos/childes_mi_project/data/raw/ZEBRAFISH_Data_Dir/AcousticLightDark/BeepsLightDark/BeepsLightDarkEyeConv00024.mat  \n",
      "  inflating: /mnt/cube/tsainbur/Projects/github_repos/childes_mi_project/data/raw/ZEBRAFISH_Data_Dir/AcousticLightDark/BeepsLightDark/BeepsLightDarkEyeConv00025.mat  \n",
      "  inflating: /mnt/cube/tsainbur/Projects/github_repos/childes_mi_project/data/raw/ZEBRAFISH_Data_Dir/AcousticLightDark/BeepsLightDark/BeepsLightDarkEyeConv00026.mat  \n",
      "  inflating: /mnt/cube/tsainbur/Projects/github_repos/childes_mi_project/data/raw/ZEBRAFISH_Data_Dir/AcousticLightDark/BeepsLightDark/BeepsLightDarkEyeConv00027.mat  \n",
      "  inflating: /mnt/cube/tsainbur/Projects/github_repos/childes_mi_project/data/raw/ZEBRAFISH_Data_Dir/AcousticLightDark/BeepsLightDark/BeepsLightDarkEyeConv00028.mat  \n",
      "  inflating: /mnt/cube/tsainbur/Projects/github_repos/childes_mi_project/data/raw/ZEBRAFISH_Data_Dir/AcousticLightDark/BeepsLightDark/BeepsLightDarkEyeConv00029.mat  \n",
      "  inflating: /mnt/cube/tsainbur/Projects/github_repos/childes_mi_project/data/raw/ZEBRAFISH_Data_Dir/AcousticLightDark/BeepsLightDark/BeepsLightDarkEyeConv00030.mat  \n"
     ]
    },
    {
     "data": {
      "application/vnd.jupyter.widget-view+json": {
       "model_id": "9e8cb8b24194480384be8bf0a44f7b2e",
       "version_major": 2,
       "version_minor": 0
      },
      "text/plain": [
       "HBox(children=(IntProgress(value=0, max=2414463999), HTML(value='')))"
      ]
     },
     "metadata": {},
     "output_type": "display_data"
    },
    {
     "name": "stdout",
     "output_type": "stream",
     "text": [
      "Archive:  /mnt/cube/tsainbur/Projects/github_repos/childes_mi_project/data/raw/ZEBRAFISH_Data_Dir/DarkLightTransitions.zip?dl=1\n",
      "   creating: /mnt/cube/tsainbur/Projects/github_repos/childes_mi_project/data/raw/ZEBRAFISH_Data_Dir/DarkLightTransitions/DarkLightTransitions4/\n",
      "  inflating: /mnt/cube/tsainbur/Projects/github_repos/childes_mi_project/data/raw/ZEBRAFISH_Data_Dir/DarkLightTransitions/DarkLightTransitions4/DarkLightTransitions400001.mat  \n",
      "  inflating: /mnt/cube/tsainbur/Projects/github_repos/childes_mi_project/data/raw/ZEBRAFISH_Data_Dir/DarkLightTransitions/DarkLightTransitions4/DarkLightTransitions400002.mat  \n",
      "  inflating: /mnt/cube/tsainbur/Projects/github_repos/childes_mi_project/data/raw/ZEBRAFISH_Data_Dir/DarkLightTransitions/DarkLightTransitions4/DarkLightTransitions400003.mat  \n",
      "  inflating: /mnt/cube/tsainbur/Projects/github_repos/childes_mi_project/data/raw/ZEBRAFISH_Data_Dir/DarkLightTransitions/DarkLightTransitions4/DarkLightTransitions400004.mat  \n",
      "  inflating: /mnt/cube/tsainbur/Projects/github_repos/childes_mi_project/data/raw/ZEBRAFISH_Data_Dir/DarkLightTransitions/DarkLightTransitions4/DarkLightTransitions400005.mat  \n",
      "  inflating: /mnt/cube/tsainbur/Projects/github_repos/childes_mi_project/data/raw/ZEBRAFISH_Data_Dir/DarkLightTransitions/DarkLightTransitions4/DarkLightTransitions400006.mat  \n",
      "  inflating: /mnt/cube/tsainbur/Projects/github_repos/childes_mi_project/data/raw/ZEBRAFISH_Data_Dir/DarkLightTransitions/DarkLightTransitions4/DarkLightTransitions400007.mat  \n",
      "  inflating: /mnt/cube/tsainbur/Projects/github_repos/childes_mi_project/data/raw/ZEBRAFISH_Data_Dir/DarkLightTransitions/DarkLightTransitions4/DarkLightTransitions400008.mat  \n",
      "  inflating: /mnt/cube/tsainbur/Projects/github_repos/childes_mi_project/data/raw/ZEBRAFISH_Data_Dir/DarkLightTransitions/DarkLightTransitions4/DarkLightTransitions400009.mat  \n",
      "  inflating: /mnt/cube/tsainbur/Projects/github_repos/childes_mi_project/data/raw/ZEBRAFISH_Data_Dir/DarkLightTransitions/DarkLightTransitions4/DarkLightTransitions400010.mat  \n",
      "  inflating: /mnt/cube/tsainbur/Projects/github_repos/childes_mi_project/data/raw/ZEBRAFISH_Data_Dir/DarkLightTransitions/DarkLightTransitions4/DarkLightTransitions400011.mat  \n",
      "  inflating: /mnt/cube/tsainbur/Projects/github_repos/childes_mi_project/data/raw/ZEBRAFISH_Data_Dir/DarkLightTransitions/DarkLightTransitions4/DarkLightTransitions400012.mat  \n",
      "  inflating: /mnt/cube/tsainbur/Projects/github_repos/childes_mi_project/data/raw/ZEBRAFISH_Data_Dir/DarkLightTransitions/DarkLightTransitions4/DarkLightTransitions400013.mat  \n",
      "  inflating: /mnt/cube/tsainbur/Projects/github_repos/childes_mi_project/data/raw/ZEBRAFISH_Data_Dir/DarkLightTransitions/DarkLightTransitions4/DarkLightTransitions400014.mat  \n",
      "  inflating: /mnt/cube/tsainbur/Projects/github_repos/childes_mi_project/data/raw/ZEBRAFISH_Data_Dir/DarkLightTransitions/DarkLightTransitions4/DarkLightTransitions400015.mat  \n",
      "  inflating: /mnt/cube/tsainbur/Projects/github_repos/childes_mi_project/data/raw/ZEBRAFISH_Data_Dir/DarkLightTransitions/DarkLightTransitions4/DarkLightTransitions400016.mat  \n",
      "  inflating: /mnt/cube/tsainbur/Projects/github_repos/childes_mi_project/data/raw/ZEBRAFISH_Data_Dir/DarkLightTransitions/DarkLightTransitions4/DarkLightTransitions400017.mat  \n",
      "  inflating: /mnt/cube/tsainbur/Projects/github_repos/childes_mi_project/data/raw/ZEBRAFISH_Data_Dir/DarkLightTransitions/DarkLightTransitions4/DarkLightTransitions400018.mat  \n",
      "  inflating: /mnt/cube/tsainbur/Projects/github_repos/childes_mi_project/data/raw/ZEBRAFISH_Data_Dir/DarkLightTransitions/DarkLightTransitions4/DarkLightTransitions400019.mat  \n",
      "  inflating: /mnt/cube/tsainbur/Projects/github_repos/childes_mi_project/data/raw/ZEBRAFISH_Data_Dir/DarkLightTransitions/DarkLightTransitions4/DarkLightTransitions400020.mat  \n",
      "  inflating: /mnt/cube/tsainbur/Projects/github_repos/childes_mi_project/data/raw/ZEBRAFISH_Data_Dir/DarkLightTransitions/DarkLightTransitions4/DarkLightTransitions400021.mat  \n",
      "  inflating: /mnt/cube/tsainbur/Projects/github_repos/childes_mi_project/data/raw/ZEBRAFISH_Data_Dir/DarkLightTransitions/DarkLightTransitions4/DarkLightTransitions400022.mat  \n",
      "  inflating: /mnt/cube/tsainbur/Projects/github_repos/childes_mi_project/data/raw/ZEBRAFISH_Data_Dir/DarkLightTransitions/DarkLightTransitions4/DarkLightTransitions400023.mat  \n",
      "  inflating: /mnt/cube/tsainbur/Projects/github_repos/childes_mi_project/data/raw/ZEBRAFISH_Data_Dir/DarkLightTransitions/DarkLightTransitions4/DarkLightTransitions400024.mat  \n",
      "  inflating: /mnt/cube/tsainbur/Projects/github_repos/childes_mi_project/data/raw/ZEBRAFISH_Data_Dir/DarkLightTransitions/DarkLightTransitions4/DarkLightTransitions400025.mat  \n",
      "  inflating: /mnt/cube/tsainbur/Projects/github_repos/childes_mi_project/data/raw/ZEBRAFISH_Data_Dir/DarkLightTransitions/DarkLightTransitions4/DarkLightTransitions400026.mat  \n",
      "  inflating: /mnt/cube/tsainbur/Projects/github_repos/childes_mi_project/data/raw/ZEBRAFISH_Data_Dir/DarkLightTransitions/DarkLightTransitions4/DarkLightTransitions400027.mat  \n"
     ]
    },
    {
     "data": {
      "application/vnd.jupyter.widget-view+json": {
       "model_id": "39e93e336b8c4f148a14a9e17a8f5155",
       "version_major": 2,
       "version_minor": 0
      },
      "text/plain": [
       "HBox(children=(IntProgress(value=0, max=5516641065), HTML(value='')))"
      ]
     },
     "metadata": {},
     "output_type": "display_data"
    },
    {
     "name": "stdout",
     "output_type": "stream",
     "text": [
      "Archive:  /mnt/cube/tsainbur/Projects/github_repos/childes_mi_project/data/raw/ZEBRAFISH_Data_Dir/LoomingDifferentDirections.zip?dl=1\n",
      "warning [/mnt/cube/tsainbur/Projects/github_repos/childes_mi_project/data/raw/ZEBRAFISH_Data_Dir/LoomingDifferentDirections.zip?dl=1]:  4294967296 extra bytes at beginning or within zipfile\n",
      "  (attempting to process anyway)\n",
      "file #1:  bad zipfile offset (local header sig):  4294967296\n",
      "  (attempting to re-compensate)\n",
      "   creating: /mnt/cube/tsainbur/Projects/github_repos/childes_mi_project/data/raw/ZEBRAFISH_Data_Dir/LoomingDifferentDirections/LoomingDifferentDirections2/\n",
      "  inflating: /mnt/cube/tsainbur/Projects/github_repos/childes_mi_project/data/raw/ZEBRAFISH_Data_Dir/LoomingDifferentDirections/LoomingDifferentDirections2/LoomingDifferentDirections200001.mat  \n",
      "  inflating: /mnt/cube/tsainbur/Projects/github_repos/childes_mi_project/data/raw/ZEBRAFISH_Data_Dir/LoomingDifferentDirections/LoomingDifferentDirections2/LoomingDifferentDirections200002.mat  \n",
      "  inflating: /mnt/cube/tsainbur/Projects/github_repos/childes_mi_project/data/raw/ZEBRAFISH_Data_Dir/LoomingDifferentDirections/LoomingDifferentDirections2/LoomingDifferentDirections200003.mat  \n",
      "  inflating: /mnt/cube/tsainbur/Projects/github_repos/childes_mi_project/data/raw/ZEBRAFISH_Data_Dir/LoomingDifferentDirections/LoomingDifferentDirections2/LoomingDifferentDirections200004.mat  \n",
      "  inflating: /mnt/cube/tsainbur/Projects/github_repos/childes_mi_project/data/raw/ZEBRAFISH_Data_Dir/LoomingDifferentDirections/LoomingDifferentDirections2/LoomingDifferentDirections200005.mat  \n",
      "  inflating: /mnt/cube/tsainbur/Projects/github_repos/childes_mi_project/data/raw/ZEBRAFISH_Data_Dir/LoomingDifferentDirections/LoomingDifferentDirections2/LoomingDifferentDirections200006.mat  \n",
      "  inflating: /mnt/cube/tsainbur/Projects/github_repos/childes_mi_project/data/raw/ZEBRAFISH_Data_Dir/LoomingDifferentDirections/LoomingDifferentDirections2/LoomingDifferentDirections200007.mat  \n",
      "  inflating: /mnt/cube/tsainbur/Projects/github_repos/childes_mi_project/data/raw/ZEBRAFISH_Data_Dir/LoomingDifferentDirections/LoomingDifferentDirections2/LoomingDifferentDirections200008.mat  \n",
      "  inflating: /mnt/cube/tsainbur/Projects/github_repos/childes_mi_project/data/raw/ZEBRAFISH_Data_Dir/LoomingDifferentDirections/LoomingDifferentDirections2/LoomingDifferentDirections200009.mat  \n",
      "  inflating: /mnt/cube/tsainbur/Projects/github_repos/childes_mi_project/data/raw/ZEBRAFISH_Data_Dir/LoomingDifferentDirections/LoomingDifferentDirections2/LoomingDifferentDirections200010.mat  \n",
      "  inflating: /mnt/cube/tsainbur/Projects/github_repos/childes_mi_project/data/raw/ZEBRAFISH_Data_Dir/LoomingDifferentDirections/LoomingDifferentDirections2/LoomingDifferentDirections200011.mat  \n",
      "  inflating: /mnt/cube/tsainbur/Projects/github_repos/childes_mi_project/data/raw/ZEBRAFISH_Data_Dir/LoomingDifferentDirections/LoomingDifferentDirections2/LoomingDifferentDirections200012.mat  \n",
      "  inflating: /mnt/cube/tsainbur/Projects/github_repos/childes_mi_project/data/raw/ZEBRAFISH_Data_Dir/LoomingDifferentDirections/LoomingDifferentDirections2/LoomingDifferentDirections200013.mat  \n",
      "  inflating: /mnt/cube/tsainbur/Projects/github_repos/childes_mi_project/data/raw/ZEBRAFISH_Data_Dir/LoomingDifferentDirections/LoomingDifferentDirections2/LoomingDifferentDirections200014.mat  \n",
      "  inflating: /mnt/cube/tsainbur/Projects/github_repos/childes_mi_project/data/raw/ZEBRAFISH_Data_Dir/LoomingDifferentDirections/LoomingDifferentDirections2/LoomingDifferentDirections200015.mat  \n",
      "  inflating: /mnt/cube/tsainbur/Projects/github_repos/childes_mi_project/data/raw/ZEBRAFISH_Data_Dir/LoomingDifferentDirections/LoomingDifferentDirections2/LoomingDifferentDirections200016.mat  \n",
      "  inflating: /mnt/cube/tsainbur/Projects/github_repos/childes_mi_project/data/raw/ZEBRAFISH_Data_Dir/LoomingDifferentDirections/LoomingDifferentDirections2/LoomingDifferentDirections200017.mat  \n",
      "  inflating: /mnt/cube/tsainbur/Projects/github_repos/childes_mi_project/data/raw/ZEBRAFISH_Data_Dir/LoomingDifferentDirections/LoomingDifferentDirections2/LoomingDifferentDirections200018.mat  \n",
      "  inflating: /mnt/cube/tsainbur/Projects/github_repos/childes_mi_project/data/raw/ZEBRAFISH_Data_Dir/LoomingDifferentDirections/LoomingDifferentDirections2/LoomingDifferentDirections200019.mat  \n",
      "  inflating: /mnt/cube/tsainbur/Projects/github_repos/childes_mi_project/data/raw/ZEBRAFISH_Data_Dir/LoomingDifferentDirections/LoomingDifferentDirections2/LoomingDifferentDirections200020.mat  \n",
      "  inflating: /mnt/cube/tsainbur/Projects/github_repos/childes_mi_project/data/raw/ZEBRAFISH_Data_Dir/LoomingDifferentDirections/LoomingDifferentDirections2/LoomingDifferentDirections200021.mat  \n",
      "  inflating: /mnt/cube/tsainbur/Projects/github_repos/childes_mi_project/data/raw/ZEBRAFISH_Data_Dir/LoomingDifferentDirections/LoomingDifferentDirections2/LoomingDifferentDirections200022.mat  \n",
      "  inflating: /mnt/cube/tsainbur/Projects/github_repos/childes_mi_project/data/raw/ZEBRAFISH_Data_Dir/LoomingDifferentDirections/LoomingDifferentDirections2/LoomingDifferentDirections200023.mat  \n",
      "  inflating: /mnt/cube/tsainbur/Projects/github_repos/childes_mi_project/data/raw/ZEBRAFISH_Data_Dir/LoomingDifferentDirections/LoomingDifferentDirections2/LoomingDifferentDirections200024.mat  \n",
      "  inflating: /mnt/cube/tsainbur/Projects/github_repos/childes_mi_project/data/raw/ZEBRAFISH_Data_Dir/LoomingDifferentDirections/LoomingDifferentDirections2/LoomingDifferentDirections200025.mat  \n",
      "  inflating: /mnt/cube/tsainbur/Projects/github_repos/childes_mi_project/data/raw/ZEBRAFISH_Data_Dir/LoomingDifferentDirections/LoomingDifferentDirections2/LoomingDifferentDirections200026.mat  \n",
      "  inflating: /mnt/cube/tsainbur/Projects/github_repos/childes_mi_project/data/raw/ZEBRAFISH_Data_Dir/LoomingDifferentDirections/LoomingDifferentDirections2/LoomingDifferentDirections200027.mat  \n",
      "  inflating: /mnt/cube/tsainbur/Projects/github_repos/childes_mi_project/data/raw/ZEBRAFISH_Data_Dir/LoomingDifferentDirections/LoomingDifferentDirections2/LoomingDifferentDirections200028.mat  \n",
      "  inflating: /mnt/cube/tsainbur/Projects/github_repos/childes_mi_project/data/raw/ZEBRAFISH_Data_Dir/LoomingDifferentDirections/LoomingDifferentDirections2/LoomingDifferentDirections200029.mat  \n",
      "  inflating: /mnt/cube/tsainbur/Projects/github_repos/childes_mi_project/data/raw/ZEBRAFISH_Data_Dir/LoomingDifferentDirections/LoomingDifferentDirections2/LoomingDifferentDirections200030.mat  \n",
      "  inflating: /mnt/cube/tsainbur/Projects/github_repos/childes_mi_project/data/raw/ZEBRAFISH_Data_Dir/LoomingDifferentDirections/LoomingDifferentDirections2/LoomingDifferentDirections200031.mat  \n",
      "  inflating: /mnt/cube/tsainbur/Projects/github_repos/childes_mi_project/data/raw/ZEBRAFISH_Data_Dir/LoomingDifferentDirections/LoomingDifferentDirections2/LoomingDifferentDirections200032.mat  \n",
      "  inflating: /mnt/cube/tsainbur/Projects/github_repos/childes_mi_project/data/raw/ZEBRAFISH_Data_Dir/LoomingDifferentDirections/LoomingDifferentDirections2/LoomingDifferentDirections200033.mat  \n",
      "  inflating: /mnt/cube/tsainbur/Projects/github_repos/childes_mi_project/data/raw/ZEBRAFISH_Data_Dir/LoomingDifferentDirections/LoomingDifferentDirections2/LoomingDifferentDirections200034.mat  \n",
      "  inflating: /mnt/cube/tsainbur/Projects/github_repos/childes_mi_project/data/raw/ZEBRAFISH_Data_Dir/LoomingDifferentDirections/LoomingDifferentDirections2/LoomingDifferentDirections200035.mat  \n",
      "  inflating: /mnt/cube/tsainbur/Projects/github_repos/childes_mi_project/data/raw/ZEBRAFISH_Data_Dir/LoomingDifferentDirections/LoomingDifferentDirections2/LoomingDifferentDirections200036.mat  \n",
      "  inflating: /mnt/cube/tsainbur/Projects/github_repos/childes_mi_project/data/raw/ZEBRAFISH_Data_Dir/LoomingDifferentDirections/LoomingDifferentDirections2/LoomingDifferentDirections200037.mat  \n",
      "  inflating: /mnt/cube/tsainbur/Projects/github_repos/childes_mi_project/data/raw/ZEBRAFISH_Data_Dir/LoomingDifferentDirections/LoomingDifferentDirections2/LoomingDifferentDirections200038.mat  \n",
      "  inflating: /mnt/cube/tsainbur/Projects/github_repos/childes_mi_project/data/raw/ZEBRAFISH_Data_Dir/LoomingDifferentDirections/LoomingDifferentDirections2/LoomingDifferentDirections200039.mat  \n",
      "  inflating: /mnt/cube/tsainbur/Projects/github_repos/childes_mi_project/data/raw/ZEBRAFISH_Data_Dir/LoomingDifferentDirections/LoomingDifferentDirections2/LoomingDifferentDirections200040.mat  \n",
      "  inflating: /mnt/cube/tsainbur/Projects/github_repos/childes_mi_project/data/raw/ZEBRAFISH_Data_Dir/LoomingDifferentDirections/LoomingDifferentDirections2/LoomingDifferentDirections200041.mat  \n",
      "  inflating: /mnt/cube/tsainbur/Projects/github_repos/childes_mi_project/data/raw/ZEBRAFISH_Data_Dir/LoomingDifferentDirections/LoomingDifferentDirections2/LoomingDifferentDirections200042.mat  \n",
      "  inflating: /mnt/cube/tsainbur/Projects/github_repos/childes_mi_project/data/raw/ZEBRAFISH_Data_Dir/LoomingDifferentDirections/LoomingDifferentDirections2/LoomingDifferentDirections200043.mat  \n",
      "  inflating: /mnt/cube/tsainbur/Projects/github_repos/childes_mi_project/data/raw/ZEBRAFISH_Data_Dir/LoomingDifferentDirections/LoomingDifferentDirections2/LoomingDifferentDirections200044.mat  \n",
      "  inflating: /mnt/cube/tsainbur/Projects/github_repos/childes_mi_project/data/raw/ZEBRAFISH_Data_Dir/LoomingDifferentDirections/LoomingDifferentDirections2/LoomingDifferentDirections200045.mat  \n",
      "  inflating: /mnt/cube/tsainbur/Projects/github_repos/childes_mi_project/data/raw/ZEBRAFISH_Data_Dir/LoomingDifferentDirections/LoomingDifferentDirections2/LoomingDifferentDirections200046.mat  \n",
      "  inflating: /mnt/cube/tsainbur/Projects/github_repos/childes_mi_project/data/raw/ZEBRAFISH_Data_Dir/LoomingDifferentDirections/LoomingDifferentDirections2/LoomingDifferentDirections200047.mat  \n",
      "  inflating: /mnt/cube/tsainbur/Projects/github_repos/childes_mi_project/data/raw/ZEBRAFISH_Data_Dir/LoomingDifferentDirections/LoomingDifferentDirections2/LoomingDifferentDirections200048.mat  \n",
      "  inflating: /mnt/cube/tsainbur/Projects/github_repos/childes_mi_project/data/raw/ZEBRAFISH_Data_Dir/LoomingDifferentDirections/LoomingDifferentDirections2/LoomingDifferentDirections200049.mat  \n",
      "  inflating: /mnt/cube/tsainbur/Projects/github_repos/childes_mi_project/data/raw/ZEBRAFISH_Data_Dir/LoomingDifferentDirections/LoomingDifferentDirections2/LoomingDifferentDirections200050.mat  \n",
      "  inflating: /mnt/cube/tsainbur/Projects/github_repos/childes_mi_project/data/raw/ZEBRAFISH_Data_Dir/LoomingDifferentDirections/LoomingDifferentDirections2/LoomingDifferentDirections200051.mat  \n",
      "  inflating: /mnt/cube/tsainbur/Projects/github_repos/childes_mi_project/data/raw/ZEBRAFISH_Data_Dir/LoomingDifferentDirections/LoomingDifferentDirections2/LoomingDifferentDirections200052.mat  \n",
      "  inflating: /mnt/cube/tsainbur/Projects/github_repos/childes_mi_project/data/raw/ZEBRAFISH_Data_Dir/LoomingDifferentDirections/LoomingDifferentDirections2/LoomingDifferentDirections200053.mat  \n",
      "  inflating: /mnt/cube/tsainbur/Projects/github_repos/childes_mi_project/data/raw/ZEBRAFISH_Data_Dir/LoomingDifferentDirections/LoomingDifferentDirections2/LoomingDifferentDirections200054.mat  \n",
      "  inflating: /mnt/cube/tsainbur/Projects/github_repos/childes_mi_project/data/raw/ZEBRAFISH_Data_Dir/LoomingDifferentDirections/LoomingDifferentDirections2/LoomingDifferentDirections200055.mat  \n",
      "  inflating: /mnt/cube/tsainbur/Projects/github_repos/childes_mi_project/data/raw/ZEBRAFISH_Data_Dir/LoomingDifferentDirections/LoomingDifferentDirections2/LoomingDifferentDirections200056.mat  \n",
      "  inflating: /mnt/cube/tsainbur/Projects/github_repos/childes_mi_project/data/raw/ZEBRAFISH_Data_Dir/LoomingDifferentDirections/LoomingDifferentDirections2/LoomingDifferentDirections200057.mat  \n",
      "  inflating: /mnt/cube/tsainbur/Projects/github_repos/childes_mi_project/data/raw/ZEBRAFISH_Data_Dir/LoomingDifferentDirections/LoomingDifferentDirections2/LoomingDifferentDirections200058.mat  \n",
      "  inflating: /mnt/cube/tsainbur/Projects/github_repos/childes_mi_project/data/raw/ZEBRAFISH_Data_Dir/LoomingDifferentDirections/LoomingDifferentDirections2/LoomingDifferentDirections200059.mat  \n",
      "  inflating: /mnt/cube/tsainbur/Projects/github_repos/childes_mi_project/data/raw/ZEBRAFISH_Data_Dir/LoomingDifferentDirections/LoomingDifferentDirections2/LoomingDifferentDirections200060.mat  \n",
      "  inflating: /mnt/cube/tsainbur/Projects/github_repos/childes_mi_project/data/raw/ZEBRAFISH_Data_Dir/LoomingDifferentDirections/LoomingDifferentDirections2/LoomingDifferentDirections200061.mat  \n",
      "  inflating: /mnt/cube/tsainbur/Projects/github_repos/childes_mi_project/data/raw/ZEBRAFISH_Data_Dir/LoomingDifferentDirections/LoomingDifferentDirections2/LoomingDifferentDirections200062.mat  \n",
      "  inflating: /mnt/cube/tsainbur/Projects/github_repos/childes_mi_project/data/raw/ZEBRAFISH_Data_Dir/LoomingDifferentDirections/LoomingDifferentDirections2/LoomingDifferentDirections200063.mat  \n",
      "  inflating: /mnt/cube/tsainbur/Projects/github_repos/childes_mi_project/data/raw/ZEBRAFISH_Data_Dir/LoomingDifferentDirections/LoomingDifferentDirections2/LoomingDifferentDirections200064.mat  \n",
      "  inflating: /mnt/cube/tsainbur/Projects/github_repos/childes_mi_project/data/raw/ZEBRAFISH_Data_Dir/LoomingDifferentDirections/LoomingDifferentDirections2/LoomingDifferentDirections200065.mat  \n",
      "  inflating: /mnt/cube/tsainbur/Projects/github_repos/childes_mi_project/data/raw/ZEBRAFISH_Data_Dir/LoomingDifferentDirections/LoomingDifferentDirections2/LoomingDifferentDirections200066.mat  \n",
      "  inflating: /mnt/cube/tsainbur/Projects/github_repos/childes_mi_project/data/raw/ZEBRAFISH_Data_Dir/LoomingDifferentDirections/LoomingDifferentDirections2/LoomingDifferentDirections200067.mat  \n",
      "  inflating: /mnt/cube/tsainbur/Projects/github_repos/childes_mi_project/data/raw/ZEBRAFISH_Data_Dir/LoomingDifferentDirections/LoomingDifferentDirections2/LoomingDifferentDirections200068.mat  \n",
      "  inflating: /mnt/cube/tsainbur/Projects/github_repos/childes_mi_project/data/raw/ZEBRAFISH_Data_Dir/LoomingDifferentDirections/LoomingDifferentDirections2/LoomingDifferentDirections200069.mat  \n",
      "  inflating: /mnt/cube/tsainbur/Projects/github_repos/childes_mi_project/data/raw/ZEBRAFISH_Data_Dir/LoomingDifferentDirections/LoomingDifferentDirections2/LoomingDifferentDirections200070.mat  \n",
      "  inflating: /mnt/cube/tsainbur/Projects/github_repos/childes_mi_project/data/raw/ZEBRAFISH_Data_Dir/LoomingDifferentDirections/LoomingDifferentDirections2/LoomingDifferentDirections200071.mat  \n",
      "  inflating: /mnt/cube/tsainbur/Projects/github_repos/childes_mi_project/data/raw/ZEBRAFISH_Data_Dir/LoomingDifferentDirections/LoomingDifferentDirections2/LoomingDifferentDirections200072.mat  \n",
      "  inflating: /mnt/cube/tsainbur/Projects/github_repos/childes_mi_project/data/raw/ZEBRAFISH_Data_Dir/LoomingDifferentDirections/LoomingDifferentDirections2/LoomingDifferentDirections200073.mat  \n",
      "  inflating: /mnt/cube/tsainbur/Projects/github_repos/childes_mi_project/data/raw/ZEBRAFISH_Data_Dir/LoomingDifferentDirections/LoomingDifferentDirections2/LoomingDifferentDirections200074.mat  \n",
      "  inflating: /mnt/cube/tsainbur/Projects/github_repos/childes_mi_project/data/raw/ZEBRAFISH_Data_Dir/LoomingDifferentDirections/LoomingDifferentDirections2/LoomingDifferentDirections200075.mat  \n",
      "  inflating: /mnt/cube/tsainbur/Projects/github_repos/childes_mi_project/data/raw/ZEBRAFISH_Data_Dir/LoomingDifferentDirections/LoomingDifferentDirections2/LoomingDifferentDirections200076.mat  \n",
      "  inflating: /mnt/cube/tsainbur/Projects/github_repos/childes_mi_project/data/raw/ZEBRAFISH_Data_Dir/LoomingDifferentDirections/LoomingDifferentDirections2/LoomingDifferentDirections200077.mat  \n",
      "  inflating: /mnt/cube/tsainbur/Projects/github_repos/childes_mi_project/data/raw/ZEBRAFISH_Data_Dir/LoomingDifferentDirections/LoomingDifferentDirections2/LoomingDifferentDirections200078.mat  \n",
      "  inflating: /mnt/cube/tsainbur/Projects/github_repos/childes_mi_project/data/raw/ZEBRAFISH_Data_Dir/LoomingDifferentDirections/LoomingDifferentDirections2/LoomingDifferentDirections200079.mat  \n",
      "  inflating: /mnt/cube/tsainbur/Projects/github_repos/childes_mi_project/data/raw/ZEBRAFISH_Data_Dir/LoomingDifferentDirections/LoomingDifferentDirections2/LoomingDifferentDirections200080.mat  \n"
     ]
    },
    {
     "name": "stdout",
     "output_type": "stream",
     "text": [
      "  inflating: /mnt/cube/tsainbur/Projects/github_repos/childes_mi_project/data/raw/ZEBRAFISH_Data_Dir/LoomingDifferentDirections/LoomingDifferentDirections2/LoomingDifferentDirections200081.mat  \n",
      "  inflating: /mnt/cube/tsainbur/Projects/github_repos/childes_mi_project/data/raw/ZEBRAFISH_Data_Dir/LoomingDifferentDirections/LoomingDifferentDirections2/LoomingDifferentDirections200082.mat  \n",
      "file #84:  bad zipfile offset (local header sig):  37570278\n",
      "  (attempting to re-compensate)\n",
      "  inflating: /mnt/cube/tsainbur/Projects/github_repos/childes_mi_project/data/raw/ZEBRAFISH_Data_Dir/LoomingDifferentDirections/LoomingDifferentDirections2/LoomingDifferentDirections200083.mat  \n",
      "  inflating: /mnt/cube/tsainbur/Projects/github_repos/childes_mi_project/data/raw/ZEBRAFISH_Data_Dir/LoomingDifferentDirections/LoomingDifferentDirections2/LoomingDifferentDirections200084.mat  \n",
      "  inflating: /mnt/cube/tsainbur/Projects/github_repos/childes_mi_project/data/raw/ZEBRAFISH_Data_Dir/LoomingDifferentDirections/LoomingDifferentDirections2/LoomingDifferentDirections200085.mat  \n",
      "  inflating: /mnt/cube/tsainbur/Projects/github_repos/childes_mi_project/data/raw/ZEBRAFISH_Data_Dir/LoomingDifferentDirections/LoomingDifferentDirections2/LoomingDifferentDirections200086.mat  \n",
      "  inflating: /mnt/cube/tsainbur/Projects/github_repos/childes_mi_project/data/raw/ZEBRAFISH_Data_Dir/LoomingDifferentDirections/LoomingDifferentDirections2/LoomingDifferentDirections200087.mat  \n",
      "  inflating: /mnt/cube/tsainbur/Projects/github_repos/childes_mi_project/data/raw/ZEBRAFISH_Data_Dir/LoomingDifferentDirections/LoomingDifferentDirections2/LoomingDifferentDirections200088.mat  \n",
      "  inflating: /mnt/cube/tsainbur/Projects/github_repos/childes_mi_project/data/raw/ZEBRAFISH_Data_Dir/LoomingDifferentDirections/LoomingDifferentDirections2/LoomingDifferentDirections200089.mat  \n",
      "  inflating: /mnt/cube/tsainbur/Projects/github_repos/childes_mi_project/data/raw/ZEBRAFISH_Data_Dir/LoomingDifferentDirections/LoomingDifferentDirections2/LoomingDifferentDirections200090.mat  \n",
      "  inflating: /mnt/cube/tsainbur/Projects/github_repos/childes_mi_project/data/raw/ZEBRAFISH_Data_Dir/LoomingDifferentDirections/LoomingDifferentDirections2/LoomingDifferentDirections200091.mat  \n",
      "  inflating: /mnt/cube/tsainbur/Projects/github_repos/childes_mi_project/data/raw/ZEBRAFISH_Data_Dir/LoomingDifferentDirections/LoomingDifferentDirections2/LoomingDifferentDirections200092.mat  \n",
      "  inflating: /mnt/cube/tsainbur/Projects/github_repos/childes_mi_project/data/raw/ZEBRAFISH_Data_Dir/LoomingDifferentDirections/LoomingDifferentDirections2/LoomingDifferentDirections200093.mat  \n",
      "  inflating: /mnt/cube/tsainbur/Projects/github_repos/childes_mi_project/data/raw/ZEBRAFISH_Data_Dir/LoomingDifferentDirections/LoomingDifferentDirections2/LoomingDifferentDirections200094.mat  \n",
      "  inflating: /mnt/cube/tsainbur/Projects/github_repos/childes_mi_project/data/raw/ZEBRAFISH_Data_Dir/LoomingDifferentDirections/LoomingDifferentDirections2/LoomingDifferentDirections200095.mat  \n",
      "  inflating: /mnt/cube/tsainbur/Projects/github_repos/childes_mi_project/data/raw/ZEBRAFISH_Data_Dir/LoomingDifferentDirections/LoomingDifferentDirections2/LoomingDifferentDirections200096.mat  \n",
      "  inflating: /mnt/cube/tsainbur/Projects/github_repos/childes_mi_project/data/raw/ZEBRAFISH_Data_Dir/LoomingDifferentDirections/LoomingDifferentDirections2/LoomingDifferentDirections200097.mat  \n",
      "  inflating: /mnt/cube/tsainbur/Projects/github_repos/childes_mi_project/data/raw/ZEBRAFISH_Data_Dir/LoomingDifferentDirections/LoomingDifferentDirections2/LoomingDifferentDirections200098.mat  \n",
      "  inflating: /mnt/cube/tsainbur/Projects/github_repos/childes_mi_project/data/raw/ZEBRAFISH_Data_Dir/LoomingDifferentDirections/LoomingDifferentDirections2/LoomingDifferentDirections200099.mat  \n",
      "  inflating: /mnt/cube/tsainbur/Projects/github_repos/childes_mi_project/data/raw/ZEBRAFISH_Data_Dir/LoomingDifferentDirections/LoomingDifferentDirections2/LoomingDifferentDirections200100.mat  \n",
      "  inflating: /mnt/cube/tsainbur/Projects/github_repos/childes_mi_project/data/raw/ZEBRAFISH_Data_Dir/LoomingDifferentDirections/LoomingDifferentDirections2/LoomingDifferentDirections200101.mat  \n",
      "  inflating: /mnt/cube/tsainbur/Projects/github_repos/childes_mi_project/data/raw/ZEBRAFISH_Data_Dir/LoomingDifferentDirections/LoomingDifferentDirections2/LoomingDifferentDirections200102.mat  \n",
      "  inflating: /mnt/cube/tsainbur/Projects/github_repos/childes_mi_project/data/raw/ZEBRAFISH_Data_Dir/LoomingDifferentDirections/LoomingDifferentDirections2/LoomingDifferentDirections200103.mat  \n",
      "  inflating: /mnt/cube/tsainbur/Projects/github_repos/childes_mi_project/data/raw/ZEBRAFISH_Data_Dir/LoomingDifferentDirections/LoomingDifferentDirections2/LoomingDifferentDirections200104.mat  \n",
      "  inflating: /mnt/cube/tsainbur/Projects/github_repos/childes_mi_project/data/raw/ZEBRAFISH_Data_Dir/LoomingDifferentDirections/LoomingDifferentDirections2/LoomingDifferentDirections200105.mat  \n",
      "\n",
      "1 archive had fatal errors.\n"
     ]
    }
   ],
   "source": [
    "for url in tqdm(urls):\n",
    "    save_loc = ZEBRAFISH_DIR / url.split('/')[-1]\n",
    "    # make sure there is a directory to save to\n",
    "    ensure_dir(save_loc)\n",
    "    # save to disk\n",
    "    if not save_loc.exists():\n",
    "        download_file(url, save_loc)\n",
    "\n",
    "        # unzip\n",
    "        sl = save_loc.as_posix()\n",
    "        slp = (save_loc.parent / save_loc.stem).as_posix()\n",
    "        !unzip $sl -d $slp"
   ]
  },
  {
   "cell_type": "code",
   "execution_count": 24,
   "metadata": {
    "ExecuteTime": {
     "end_time": "2019-08-19T18:42:00.949448Z",
     "start_time": "2019-08-19T18:42:00.466563Z"
    }
   },
   "outputs": [
    {
     "data": {
      "text/plain": [
       "PosixPath('/mnt/cube/tsainbur/Projects/github_repos/childes_mi_project/data/raw/ZEBRAFISH_Data_Dir/3minLightDark.zip?dl=1')"
      ]
     },
     "execution_count": 24,
     "metadata": {},
     "output_type": "execute_result"
    }
   ],
   "source": [
    "save_loc"
   ]
  },
  {
   "cell_type": "code",
   "execution_count": null,
   "metadata": {},
   "outputs": [],
   "source": []
  }
 ],
 "metadata": {
  "kernelspec": {
   "display_name": "Python 3",
   "language": "python",
   "name": "python3"
  },
  "language_info": {
   "codemirror_mode": {
    "name": "ipython",
    "version": 3
   },
   "file_extension": ".py",
   "mimetype": "text/x-python",
   "name": "python",
   "nbconvert_exporter": "python",
   "pygments_lexer": "ipython3",
   "version": "3.6.8"
  }
 },
 "nbformat": 4,
 "nbformat_minor": 2
}
