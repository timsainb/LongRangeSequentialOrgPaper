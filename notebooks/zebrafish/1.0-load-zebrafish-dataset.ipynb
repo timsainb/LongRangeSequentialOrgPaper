{
 "cells": [
  {
   "cell_type": "markdown",
   "metadata": {
    "ExecuteTime": {
     "end_time": "2019-08-19T18:50:36.469161Z",
     "start_time": "2019-08-19T18:50:35.908280Z"
    }
   },
   "source": [
    "BoutInf (nBoutsx18):\n",
    "- Columns 1 and 2: the start and end of the bout data in the continuous data variables\n",
    "- Column 3: Number indicating the stimulus being shown during that bout\n",
    "- Column 4: Original frame start number (allows actual timing of bout to be known, given 700 Hz frame rate)\n",
    "- Columns 5:7 Pre-bout x, y position and theta in pixels and radians (???)\n",
    "- Column 8: Eye Convergence during bout (2: converged; 1: not converged)\n",
    "- Column 9: Change in eye convergence angle (degrees) during bout\n",
    "- Column 10: Assigned eye convergence category (1=converge during  bout; 2=not converged ;  3=converged; 4=diverge during bout)\n",
    "- Column 11: Bout category assigned using the scheme in Marques et al. 2018 (1=SCS; 2=LCS; 3=BS; 4=O-bend; 5=J-turn; 6=SLC; 7=S1; 8=RT; 9=S2; 10=LLC; 11=AS; 12=SAT; 13=HAT)"
   ]
  },
  {
   "cell_type": "code",
   "execution_count": 1,
   "metadata": {
    "ExecuteTime": {
     "end_time": "2019-08-28T18:19:11.933893Z",
     "start_time": "2019-08-28T18:19:11.908642Z"
    }
   },
   "outputs": [],
   "source": [
    "%load_ext autoreload\n",
    "%autoreload 2"
   ]
  },
  {
   "cell_type": "code",
   "execution_count": 2,
   "metadata": {
    "ExecuteTime": {
     "end_time": "2019-08-28T18:19:12.093196Z",
     "start_time": "2019-08-28T18:19:11.935924Z"
    }
   },
   "outputs": [],
   "source": [
    "from childes_mi.utils.paths import DATA_DIR, ensure_dir, ZEBRAFISH_DIR\n",
    "import urllib.request"
   ]
  },
  {
   "cell_type": "code",
   "execution_count": 3,
   "metadata": {
    "ExecuteTime": {
     "end_time": "2019-08-28T18:19:13.796776Z",
     "start_time": "2019-08-28T18:19:12.096424Z"
    }
   },
   "outputs": [
    {
     "name": "stderr",
     "output_type": "stream",
     "text": [
      "/mnt/cube/tsainbur/conda_envs/tpy3/lib/python3.6/site-packages/tqdm/autonotebook/__init__.py:14: TqdmExperimentalWarning: Using `tqdm.autonotebook.tqdm` in notebook mode. Use `tqdm.tqdm` instead to force console mode (e.g. in jupyter console)\n",
      "  \" (e.g. in jupyter console)\", TqdmExperimentalWarning)\n"
     ]
    }
   ],
   "source": [
    "from tqdm.autonotebook import tqdm\n",
    "import h5py\n",
    "import numpy as np\n",
    "import scipy.io\n",
    "import matplotlib.pyplot as plt\n",
    "import pandas as pd"
   ]
  },
  {
   "cell_type": "code",
   "execution_count": 4,
   "metadata": {
    "ExecuteTime": {
     "end_time": "2019-08-28T18:19:13.903749Z",
     "start_time": "2019-08-28T18:19:13.798809Z"
    }
   },
   "outputs": [],
   "source": [
    "mat_files = list(ZEBRAFISH_DIR.glob('**/*.mat'))"
   ]
  },
  {
   "cell_type": "code",
   "execution_count": 5,
   "metadata": {
    "ExecuteTime": {
     "end_time": "2019-08-28T18:19:13.931308Z",
     "start_time": "2019-08-28T18:19:13.905717Z"
    }
   },
   "outputs": [
    {
     "data": {
      "text/plain": [
       "PosixPath('/mnt/cube/tsainbur/Projects/github_repos/childes_mi_project/data/raw/ZEBRAFISH_Data_Dir/3minLightDark/3minLightDark2/3minLightDark200004.mat')"
      ]
     },
     "execution_count": 5,
     "metadata": {},
     "output_type": "execute_result"
    }
   ],
   "source": [
    "mat_files[0]"
   ]
  },
  {
   "cell_type": "code",
   "execution_count": 6,
   "metadata": {
    "ExecuteTime": {
     "end_time": "2019-08-28T18:20:26.523134Z",
     "start_time": "2019-08-28T18:19:13.933117Z"
    }
   },
   "outputs": [
    {
     "data": {
      "application/vnd.jupyter.widget-view+json": {
       "model_id": "e418b970c24348b28794c680674c6930",
       "version_major": 2,
       "version_minor": 0
      },
      "text/plain": [
       "HBox(children=(IntProgress(value=0, max=184), HTML(value='')))"
      ]
     },
     "metadata": {},
     "output_type": "display_data"
    },
    {
     "name": "stdout",
     "output_type": "stream",
     "text": [
      "\n"
     ]
    }
   ],
   "source": [
    "bout_df = pd.DataFrame(columns = ['mat_loc', 'bouts', 'bout_lens'])\n",
    "for mfi, mat_file in enumerate(tqdm(mat_files)):\n",
    "    ds = scipy.io.loadmat(mat_file.as_posix())\n",
    "    BoutInf = ds['boutStructure'][0][0][0]\n",
    "    bout_category = BoutInf[:,-1].astype('int')\n",
    "    bout_df.loc[len(bout_df)] = [mat_file.as_posix(), bout_category, len(bout_category)]"
   ]
  },
  {
   "cell_type": "code",
   "execution_count": 7,
   "metadata": {
    "ExecuteTime": {
     "end_time": "2019-08-28T18:20:31.647728Z",
     "start_time": "2019-08-28T18:20:26.525539Z"
    }
   },
   "outputs": [
    {
     "data": {
      "text/html": [
       "<div>\n",
       "<style scoped>\n",
       "    .dataframe tbody tr th:only-of-type {\n",
       "        vertical-align: middle;\n",
       "    }\n",
       "\n",
       "    .dataframe tbody tr th {\n",
       "        vertical-align: top;\n",
       "    }\n",
       "\n",
       "    .dataframe thead th {\n",
       "        text-align: right;\n",
       "    }\n",
       "</style>\n",
       "<table border=\"1\" class=\"dataframe\">\n",
       "  <thead>\n",
       "    <tr style=\"text-align: right;\">\n",
       "      <th></th>\n",
       "      <th>mat_loc</th>\n",
       "      <th>bouts</th>\n",
       "      <th>bout_lens</th>\n",
       "    </tr>\n",
       "  </thead>\n",
       "  <tbody>\n",
       "    <tr>\n",
       "      <th>0</th>\n",
       "      <td>/mnt/cube/tsainbur/Projects/github_repos/child...</td>\n",
       "      <td>[10, 12, 10, 11, 8, 10, 10, 10, 8, 12, 12, 12,...</td>\n",
       "      <td>2023</td>\n",
       "    </tr>\n",
       "    <tr>\n",
       "      <th>1</th>\n",
       "      <td>/mnt/cube/tsainbur/Projects/github_repos/child...</td>\n",
       "      <td>[12, 9, 12, 13, 8, 9, 8, 8, 10, 10, 9, 8, 9, 8...</td>\n",
       "      <td>2202</td>\n",
       "    </tr>\n",
       "    <tr>\n",
       "      <th>2</th>\n",
       "      <td>/mnt/cube/tsainbur/Projects/github_repos/child...</td>\n",
       "      <td>[8, 12, 12, 13, 8, 12, 8, 8, 10, 10, 10, 9, 8,...</td>\n",
       "      <td>1195</td>\n",
       "    </tr>\n",
       "  </tbody>\n",
       "</table>\n",
       "</div>"
      ],
      "text/plain": [
       "                                             mat_loc  \\\n",
       "0  /mnt/cube/tsainbur/Projects/github_repos/child...   \n",
       "1  /mnt/cube/tsainbur/Projects/github_repos/child...   \n",
       "2  /mnt/cube/tsainbur/Projects/github_repos/child...   \n",
       "\n",
       "                                               bouts bout_lens  \n",
       "0  [10, 12, 10, 11, 8, 10, 10, 10, 8, 12, 12, 12,...      2023  \n",
       "1  [12, 9, 12, 13, 8, 9, 8, 8, 10, 10, 9, 8, 9, 8...      2202  \n",
       "2  [8, 12, 12, 13, 8, 12, 8, 8, 10, 10, 10, 9, 8,...      1195  "
      ]
     },
     "execution_count": 7,
     "metadata": {},
     "output_type": "execute_result"
    }
   ],
   "source": [
    "bout_df[:3]"
   ]
  },
  {
   "cell_type": "code",
   "execution_count": 8,
   "metadata": {
    "ExecuteTime": {
     "end_time": "2019-08-28T18:20:31.739951Z",
     "start_time": "2019-08-28T18:20:31.650290Z"
    }
   },
   "outputs": [
    {
     "data": {
      "text/plain": [
       "array([ 1,  2,  3,  4,  5,  6,  7,  8,  9, 10, 11, 12, 13])"
      ]
     },
     "execution_count": 8,
     "metadata": {},
     "output_type": "execute_result"
    }
   ],
   "source": [
    "np.unique(np.concatenate(bout_df.bouts.values))"
   ]
  },
  {
   "cell_type": "code",
   "execution_count": 9,
   "metadata": {
    "ExecuteTime": {
     "end_time": "2019-08-28T18:20:31.784141Z",
     "start_time": "2019-08-28T18:20:31.742968Z"
    }
   },
   "outputs": [
    {
     "data": {
      "text/plain": [
       "591036"
      ]
     },
     "execution_count": 9,
     "metadata": {},
     "output_type": "execute_result"
    }
   ],
   "source": [
    "np.sum(bout_df.bout_lens)"
   ]
  },
  {
   "cell_type": "code",
   "execution_count": 10,
   "metadata": {
    "ExecuteTime": {
     "end_time": "2019-08-28T18:20:32.172514Z",
     "start_time": "2019-08-28T18:20:31.786676Z"
    }
   },
   "outputs": [
    {
     "data": {
      "image/png": "[encoded data removed]",
      "text/plain": [
       "<Figure size 432x288 with 1 Axes>"
      ]
     },
     "metadata": {
      "needs_background": "light"
     },
     "output_type": "display_data"
    }
   ],
   "source": [
    "plt.hist(bout_df.bout_lens.values.astype('int'));"
   ]
  },
  {
   "cell_type": "markdown",
   "metadata": {},
   "source": [
    "### Mutual information"
   ]
  },
  {
   "cell_type": "code",
   "execution_count": 11,
   "metadata": {
    "ExecuteTime": {
     "end_time": "2019-08-28T18:20:32.236098Z",
     "start_time": "2019-08-28T18:20:32.174859Z"
    }
   },
   "outputs": [],
   "source": [
    "bouts = [list(i.astype('int'))  for i in bout_df.bouts.values]"
   ]
  },
  {
   "cell_type": "code",
   "execution_count": 12,
   "metadata": {
    "ExecuteTime": {
     "end_time": "2019-08-28T18:20:32.315283Z",
     "start_time": "2019-08-28T18:20:32.238397Z"
    }
   },
   "outputs": [],
   "source": [
    "def remove_repeats(sequence):\n",
    "    return [element for i, element in enumerate(sequence[1:]) if sequence[i] != element]"
   ]
  },
  {
   "cell_type": "code",
   "execution_count": 13,
   "metadata": {
    "ExecuteTime": {
     "end_time": "2019-08-28T18:20:32.837448Z",
     "start_time": "2019-08-28T18:20:32.317208Z"
    }
   },
   "outputs": [
    {
     "data": {
      "application/vnd.jupyter.widget-view+json": {
       "model_id": "53761efcf5c849688ca591d057313957",
       "version_major": 2,
       "version_minor": 0
      },
      "text/plain": [
       "HBox(children=(IntProgress(value=0, max=184), HTML(value='')))"
      ]
     },
     "metadata": {},
     "output_type": "display_data"
    },
    {
     "name": "stdout",
     "output_type": "stream",
     "text": [
      "\n"
     ]
    }
   ],
   "source": [
    "bouts_indv = [[\"{}_{}\".format(bi, element) for element in bout] for bi, bout in enumerate(tqdm(bouts))]"
   ]
  },
  {
   "cell_type": "code",
   "execution_count": 14,
   "metadata": {
    "ExecuteTime": {
     "end_time": "2019-08-28T18:20:32.957720Z",
     "start_time": "2019-08-28T18:20:32.843343Z"
    }
   },
   "outputs": [],
   "source": [
    "bouts_indv_rr = [remove_repeats(i) for i in bouts_indv]"
   ]
  },
  {
   "cell_type": "code",
   "execution_count": 15,
   "metadata": {
    "ExecuteTime": {
     "end_time": "2019-08-28T18:20:33.267637Z",
     "start_time": "2019-08-28T18:20:32.960446Z"
    }
   },
   "outputs": [
    {
     "data": {
      "image/png": "[encoded data removed]",
      "text/plain": [
       "<Figure size 432x288 with 1 Axes>"
      ]
     },
     "metadata": {
      "needs_background": "light"
     },
     "output_type": "display_data"
    }
   ],
   "source": [
    "plt.hist([len(i) for i in bouts_indv_rr]);"
   ]
  },
  {
   "cell_type": "code",
   "execution_count": 16,
   "metadata": {
    "ExecuteTime": {
     "end_time": "2019-08-28T18:20:34.466310Z",
     "start_time": "2019-08-28T18:20:33.269989Z"
    }
   },
   "outputs": [],
   "source": [
    "from childes_mi.information_theory import mutual_information as mi"
   ]
  },
  {
   "cell_type": "code",
   "execution_count": 17,
   "metadata": {
    "ExecuteTime": {
     "end_time": "2019-08-28T18:20:34.496785Z",
     "start_time": "2019-08-28T18:20:34.468567Z"
    }
   },
   "outputs": [],
   "source": [
    "distances = np.arange(1,1001)"
   ]
  },
  {
   "cell_type": "code",
   "execution_count": 18,
   "metadata": {
    "ExecuteTime": {
     "end_time": "2019-08-28T18:23:30.237425Z",
     "start_time": "2019-08-28T18:20:34.498510Z"
    }
   },
   "outputs": [
    {
     "data": {
      "application/vnd.jupyter.widget-view+json": {
       "model_id": "",
       "version_major": 2,
       "version_minor": 0
      },
      "text/plain": [
       "HBox(children=(IntProgress(value=0, max=1000), HTML(value='')))"
      ]
     },
     "metadata": {},
     "output_type": "display_data"
    },
    {
     "name": "stderr",
     "output_type": "stream",
     "text": [
      "[Parallel(n_jobs=-1)]: Using backend ThreadingBackend with 24 concurrent workers.\n",
      "[Parallel(n_jobs=-1)]: Done  24 tasks      | elapsed:    2.3s\n",
      "[Parallel(n_jobs=-1)]: Done 114 tasks      | elapsed:   10.5s\n",
      "[Parallel(n_jobs=-1)]: Done 240 tasks      | elapsed:   21.0s\n",
      "[Parallel(n_jobs=-1)]: Done 402 tasks      | elapsed:   35.7s\n",
      "[Parallel(n_jobs=-1)]: Done 600 tasks      | elapsed:   52.7s\n",
      "[Parallel(n_jobs=-1)]: Done 834 tasks      | elapsed:  1.2min\n"
     ]
    },
    {
     "name": "stdout",
     "output_type": "stream",
     "text": [
      "\r"
     ]
    },
    {
     "name": "stderr",
     "output_type": "stream",
     "text": [
      "[Parallel(n_jobs=-1)]: Done 1000 out of 1000 | elapsed:  1.4min finished\n"
     ]
    },
    {
     "data": {
      "application/vnd.jupyter.widget-view+json": {
       "model_id": "",
       "version_major": 2,
       "version_minor": 0
      },
      "text/plain": [
       "HBox(children=(IntProgress(value=0, max=1000), HTML(value='')))"
      ]
     },
     "metadata": {},
     "output_type": "display_data"
    },
    {
     "name": "stderr",
     "output_type": "stream",
     "text": [
      "[Parallel(n_jobs=-1)]: Using backend ThreadingBackend with 24 concurrent workers.\n",
      "[Parallel(n_jobs=-1)]: Done   2 tasks      | elapsed:    1.2s\n",
      "[Parallel(n_jobs=-1)]: Done  24 tasks      | elapsed:    7.1s\n",
      "[Parallel(n_jobs=-1)]: Done 114 tasks      | elapsed:   15.6s\n",
      "[Parallel(n_jobs=-1)]: Done 240 tasks      | elapsed:   28.4s\n",
      "[Parallel(n_jobs=-1)]: Done 402 tasks      | elapsed:   44.1s\n",
      "[Parallel(n_jobs=-1)]: Done 600 tasks      | elapsed:  1.0min\n",
      "[Parallel(n_jobs=-1)]: Done 834 tasks      | elapsed:  1.4min\n"
     ]
    },
    {
     "name": "stdout",
     "output_type": "stream",
     "text": [
      "\r"
     ]
    },
    {
     "name": "stderr",
     "output_type": "stream",
     "text": [
      "[Parallel(n_jobs=-1)]: Done 1000 out of 1000 | elapsed:  1.5min finished\n"
     ]
    }
   ],
   "source": [
    "(MI, MI_var), (shuff_MI, shuff_MI_var) = mi.sequential_mutual_information(\n",
    "    bouts_indv_rr, distances=distances, n_jobs=-1\n",
    ")"
   ]
  },
  {
   "cell_type": "code",
   "execution_count": 19,
   "metadata": {
    "ExecuteTime": {
     "end_time": "2019-08-28T18:23:32.989067Z",
     "start_time": "2019-08-28T18:23:30.240085Z"
    }
   },
   "outputs": [],
   "source": [
    "MI_DF = pd.DataFrame(\n",
    "    [[MI, MI_var, shuff_MI, shuff_MI_var, distances]],\n",
    "    columns=[\"MI\", \"MI_var\", \"shuff_MI\", \"shuff_MI_var\", \"distances\"],\n",
    ")"
   ]
  },
  {
   "cell_type": "code",
   "execution_count": 20,
   "metadata": {
    "ExecuteTime": {
     "end_time": "2019-08-28T18:23:33.131335Z",
     "start_time": "2019-08-28T18:23:32.992054Z"
    }
   },
   "outputs": [
    {
     "data": {
      "text/html": [
       "<div>\n",
       "<style scoped>\n",
       "    .dataframe tbody tr th:only-of-type {\n",
       "        vertical-align: middle;\n",
       "    }\n",
       "\n",
       "    .dataframe tbody tr th {\n",
       "        vertical-align: top;\n",
       "    }\n",
       "\n",
       "    .dataframe thead th {\n",
       "        text-align: right;\n",
       "    }\n",
       "</style>\n",
       "<table border=\"1\" class=\"dataframe\">\n",
       "  <thead>\n",
       "    <tr style=\"text-align: right;\">\n",
       "      <th></th>\n",
       "      <th>MI</th>\n",
       "      <th>MI_var</th>\n",
       "      <th>shuff_MI</th>\n",
       "      <th>shuff_MI_var</th>\n",
       "      <th>distances</th>\n",
       "    </tr>\n",
       "  </thead>\n",
       "  <tbody>\n",
       "    <tr>\n",
       "      <th>0</th>\n",
       "      <td>[11.122280319221097, 10.9123149216584, 10.8559...</td>\n",
       "      <td>[0.005183830214899432, 0.005129859794221152, 0...</td>\n",
       "      <td>[10.810847766607214, 10.810677673361408, 10.81...</td>\n",
       "      <td>[0.005150801831295093, 0.0051564790406694195, ...</td>\n",
       "      <td>[1, 2, 3, 4, 5, 6, 7, 8, 9, 10, 11, 12, 13, 14...</td>\n",
       "    </tr>\n",
       "  </tbody>\n",
       "</table>\n",
       "</div>"
      ],
      "text/plain": [
       "                                                  MI  \\\n",
       "0  [11.122280319221097, 10.9123149216584, 10.8559...   \n",
       "\n",
       "                                              MI_var  \\\n",
       "0  [0.005183830214899432, 0.005129859794221152, 0...   \n",
       "\n",
       "                                            shuff_MI  \\\n",
       "0  [10.810847766607214, 10.810677673361408, 10.81...   \n",
       "\n",
       "                                        shuff_MI_var  \\\n",
       "0  [0.005150801831295093, 0.0051564790406694195, ...   \n",
       "\n",
       "                                           distances  \n",
       "0  [1, 2, 3, 4, 5, 6, 7, 8, 9, 10, 11, 12, 13, 14...  "
      ]
     },
     "execution_count": 20,
     "metadata": {},
     "output_type": "execute_result"
    }
   ],
   "source": [
    "MI_DF"
   ]
  },
  {
   "cell_type": "code",
   "execution_count": 21,
   "metadata": {
    "ExecuteTime": {
     "end_time": "2019-08-28T18:23:33.506892Z",
     "start_time": "2019-08-28T18:23:33.133383Z"
    }
   },
   "outputs": [],
   "source": [
    "MI_DF.to_pickle(DATA_DIR / \"mi\" / \"zebra_fish_1000.pickle\")"
   ]
  },
  {
   "cell_type": "code",
   "execution_count": 22,
   "metadata": {
    "ExecuteTime": {
     "end_time": "2019-08-28T18:23:33.562491Z",
     "start_time": "2019-08-28T18:23:33.510052Z"
    }
   },
   "outputs": [],
   "source": [
    "row = MI_DF.iloc[0]"
   ]
  },
  {
   "cell_type": "code",
   "execution_count": 23,
   "metadata": {
    "ExecuteTime": {
     "end_time": "2019-08-28T18:23:34.946690Z",
     "start_time": "2019-08-28T18:23:33.565222Z"
    }
   },
   "outputs": [
    {
     "data": {
      "image/png": "[encoded data removed]",
      "text/plain": [
       "<Figure size 720x360 with 1 Axes>"
      ]
     },
     "metadata": {
      "needs_background": "light"
     },
     "output_type": "display_data"
    }
   ],
   "source": [
    "fig, ax = plt.subplots(figsize=(10,5))\n",
    "MI = row.MI-row.shuff_MI\n",
    "MI_var = row.MI_var\n",
    "\n",
    "ax.scatter(distances, MI)\n",
    "ax.fill_between(distances, MI-MI_var, MI+MI_var, alpha = 0.25, color= 'k')\n",
    "ax.set_ylim([1e-3, 1])\n",
    "ax.set_yscale('log')\n",
    "ax.set_xscale('log')"
   ]
  },
  {
   "cell_type": "code",
   "execution_count": 24,
   "metadata": {
    "ExecuteTime": {
     "end_time": "2019-08-28T18:23:35.717767Z",
     "start_time": "2019-08-28T18:23:34.952090Z"
    }
   },
   "outputs": [
    {
     "data": {
      "text/plain": [
       "[<matplotlib.lines.Line2D at 0x7f83b0076470>]"
      ]
     },
     "execution_count": 24,
     "metadata": {},
     "output_type": "execute_result"
    },
    {
     "data": {
      "image/png": "[encoded data removed]",
      "text/plain": [
       "<Figure size 432x288 with 1 Axes>"
      ]
     },
     "metadata": {
      "needs_background": "light"
     },
     "output_type": "display_data"
    }
   ],
   "source": [
    "plt.loglog(row.MI)\n",
    "plt.loglog(row.shuff_MI)"
   ]
  },
  {
   "cell_type": "code",
   "execution_count": null,
   "metadata": {},
   "outputs": [],
   "source": []
  },
  {
   "cell_type": "markdown",
   "metadata": {
    "ExecuteTime": {
     "end_time": "2019-08-19T06:14:52.222634Z",
     "start_time": "2019-08-19T06:14:52.217649Z"
    }
   },
   "source": [
    "### longest sequence"
   ]
  },
  {
   "cell_type": "code",
   "execution_count": 25,
   "metadata": {
    "ExecuteTime": {
     "end_time": "2019-08-28T18:23:35.764777Z",
     "start_time": "2019-08-28T18:23:35.720098Z"
    }
   },
   "outputs": [
    {
     "data": {
      "text/html": [
       "<div>\n",
       "<style scoped>\n",
       "    .dataframe tbody tr th:only-of-type {\n",
       "        vertical-align: middle;\n",
       "    }\n",
       "\n",
       "    .dataframe tbody tr th {\n",
       "        vertical-align: top;\n",
       "    }\n",
       "\n",
       "    .dataframe thead th {\n",
       "        text-align: right;\n",
       "    }\n",
       "</style>\n",
       "<table border=\"1\" class=\"dataframe\">\n",
       "  <thead>\n",
       "    <tr style=\"text-align: right;\">\n",
       "      <th></th>\n",
       "      <th>mat_loc</th>\n",
       "      <th>bouts</th>\n",
       "      <th>bout_lens</th>\n",
       "    </tr>\n",
       "  </thead>\n",
       "  <tbody>\n",
       "    <tr>\n",
       "      <th>0</th>\n",
       "      <td>/mnt/cube/tsainbur/Projects/github_repos/child...</td>\n",
       "      <td>[10, 12, 10, 11, 8, 10, 10, 10, 8, 12, 12, 12,...</td>\n",
       "      <td>2023</td>\n",
       "    </tr>\n",
       "    <tr>\n",
       "      <th>1</th>\n",
       "      <td>/mnt/cube/tsainbur/Projects/github_repos/child...</td>\n",
       "      <td>[12, 9, 12, 13, 8, 9, 8, 8, 10, 10, 9, 8, 9, 8...</td>\n",
       "      <td>2202</td>\n",
       "    </tr>\n",
       "    <tr>\n",
       "      <th>2</th>\n",
       "      <td>/mnt/cube/tsainbur/Projects/github_repos/child...</td>\n",
       "      <td>[8, 12, 12, 13, 8, 12, 8, 8, 10, 10, 10, 9, 8,...</td>\n",
       "      <td>1195</td>\n",
       "    </tr>\n",
       "  </tbody>\n",
       "</table>\n",
       "</div>"
      ],
      "text/plain": [
       "                                             mat_loc  \\\n",
       "0  /mnt/cube/tsainbur/Projects/github_repos/child...   \n",
       "1  /mnt/cube/tsainbur/Projects/github_repos/child...   \n",
       "2  /mnt/cube/tsainbur/Projects/github_repos/child...   \n",
       "\n",
       "                                               bouts bout_lens  \n",
       "0  [10, 12, 10, 11, 8, 10, 10, 10, 8, 12, 12, 12,...      2023  \n",
       "1  [12, 9, 12, 13, 8, 9, 8, 8, 10, 10, 9, 8, 9, 8...      2202  \n",
       "2  [8, 12, 12, 13, 8, 12, 8, 8, 10, 10, 10, 9, 8,...      1195  "
      ]
     },
     "execution_count": 25,
     "metadata": {},
     "output_type": "execute_result"
    }
   ],
   "source": [
    "bout_df[:3]"
   ]
  },
  {
   "cell_type": "code",
   "execution_count": 26,
   "metadata": {
    "ExecuteTime": {
     "end_time": "2019-08-28T18:23:35.858085Z",
     "start_time": "2019-08-28T18:23:35.766928Z"
    }
   },
   "outputs": [],
   "source": [
    "longest_bouts = bout_df.bouts.values[np.argmax(bout_df.bout_lens.values)]"
   ]
  },
  {
   "cell_type": "code",
   "execution_count": 27,
   "metadata": {
    "ExecuteTime": {
     "end_time": "2019-08-28T18:23:35.965959Z",
     "start_time": "2019-08-28T18:23:35.861170Z"
    }
   },
   "outputs": [
    {
     "data": {
      "text/plain": [
       "8143"
      ]
     },
     "execution_count": 27,
     "metadata": {},
     "output_type": "execute_result"
    }
   ],
   "source": [
    "len(longest_bouts)"
   ]
  },
  {
   "cell_type": "code",
   "execution_count": null,
   "metadata": {
    "ExecuteTime": {
     "end_time": "2019-08-27T23:19:11.782632Z",
     "start_time": "2019-08-27T23:19:11.221058Z"
    }
   },
   "outputs": [],
   "source": []
  },
  {
   "cell_type": "code",
   "execution_count": 28,
   "metadata": {
    "ExecuteTime": {
     "end_time": "2019-08-28T18:23:36.059017Z",
     "start_time": "2019-08-28T18:23:35.967727Z"
    }
   },
   "outputs": [
    {
     "data": {
      "text/plain": [
       "array([12,  8,  8, 12, 10, 13, 13, 13,  8,  8])"
      ]
     },
     "execution_count": 28,
     "metadata": {},
     "output_type": "execute_result"
    }
   ],
   "source": [
    "longest_bouts[:10]"
   ]
  },
  {
   "cell_type": "code",
   "execution_count": 29,
   "metadata": {
    "ExecuteTime": {
     "end_time": "2019-08-28T18:23:36.154940Z",
     "start_time": "2019-08-28T18:23:36.061739Z"
    }
   },
   "outputs": [
    {
     "data": {
      "text/plain": [
       "5086"
      ]
     },
     "execution_count": 29,
     "metadata": {},
     "output_type": "execute_result"
    }
   ],
   "source": [
    "len(remove_repeats(longest_bouts))"
   ]
  },
  {
   "cell_type": "code",
   "execution_count": 30,
   "metadata": {
    "ExecuteTime": {
     "end_time": "2019-08-28T18:23:36.253176Z",
     "start_time": "2019-08-28T18:23:36.156891Z"
    }
   },
   "outputs": [
    {
     "data": {
      "text/plain": [
       "[8, 12, 10, 13, 8, 13, 12, 13, 12, 13]"
      ]
     },
     "execution_count": 30,
     "metadata": {},
     "output_type": "execute_result"
    }
   ],
   "source": [
    "remove_repeats(longest_bouts)[:10]"
   ]
  },
  {
   "cell_type": "code",
   "execution_count": 31,
   "metadata": {
    "ExecuteTime": {
     "end_time": "2019-08-28T18:23:43.642685Z",
     "start_time": "2019-08-28T18:23:36.255043Z"
    }
   },
   "outputs": [
    {
     "data": {
      "application/vnd.jupyter.widget-view+json": {
       "model_id": "",
       "version_major": 2,
       "version_minor": 0
      },
      "text/plain": [
       "HBox(children=(IntProgress(value=0, max=1000), HTML(value='')))"
      ]
     },
     "metadata": {},
     "output_type": "display_data"
    },
    {
     "name": "stderr",
     "output_type": "stream",
     "text": [
      "[Parallel(n_jobs=-1)]: Using backend ThreadingBackend with 24 concurrent workers.\n",
      "[Parallel(n_jobs=-1)]: Done  24 tasks      | elapsed:    0.1s\n",
      "[Parallel(n_jobs=-1)]: Done 114 tasks      | elapsed:    0.5s\n",
      "[Parallel(n_jobs=-1)]: Done 240 tasks      | elapsed:    1.0s\n",
      "[Parallel(n_jobs=-1)]: Done 402 tasks      | elapsed:    1.5s\n",
      "[Parallel(n_jobs=-1)]: Done 600 tasks      | elapsed:    2.3s\n",
      "[Parallel(n_jobs=-1)]: Done 834 tasks      | elapsed:    3.1s\n"
     ]
    },
    {
     "name": "stdout",
     "output_type": "stream",
     "text": [
      "\r"
     ]
    },
    {
     "name": "stderr",
     "output_type": "stream",
     "text": [
      "[Parallel(n_jobs=-1)]: Done 1000 out of 1000 | elapsed:    3.7s finished\n"
     ]
    },
    {
     "data": {
      "application/vnd.jupyter.widget-view+json": {
       "model_id": "",
       "version_major": 2,
       "version_minor": 0
      },
      "text/plain": [
       "HBox(children=(IntProgress(value=0, max=1000), HTML(value='')))"
      ]
     },
     "metadata": {},
     "output_type": "display_data"
    },
    {
     "name": "stderr",
     "output_type": "stream",
     "text": [
      "[Parallel(n_jobs=-1)]: Using backend ThreadingBackend with 24 concurrent workers.\n",
      "[Parallel(n_jobs=-1)]: Done  24 tasks      | elapsed:    0.1s\n",
      "[Parallel(n_jobs=-1)]: Done 114 tasks      | elapsed:    0.4s\n",
      "[Parallel(n_jobs=-1)]: Done 240 tasks      | elapsed:    0.9s\n",
      "[Parallel(n_jobs=-1)]: Done 402 tasks      | elapsed:    1.6s\n",
      "[Parallel(n_jobs=-1)]: Done 600 tasks      | elapsed:    2.2s\n",
      "[Parallel(n_jobs=-1)]: Done 834 tasks      | elapsed:    3.1s\n"
     ]
    },
    {
     "name": "stdout",
     "output_type": "stream",
     "text": [
      "\r"
     ]
    },
    {
     "name": "stderr",
     "output_type": "stream",
     "text": [
      "[Parallel(n_jobs=-1)]: Done 1000 out of 1000 | elapsed:    3.5s finished\n"
     ]
    }
   ],
   "source": [
    "(MI, MI_var), (shuff_MI, shuff_MI_var) = mi.sequential_mutual_information(\n",
    "    [remove_repeats(longest_bouts)], distances=distances, n_jobs=-1, estimate=True\n",
    ")\n"
   ]
  },
  {
   "cell_type": "code",
   "execution_count": 32,
   "metadata": {
    "ExecuteTime": {
     "end_time": "2019-08-28T18:23:43.673437Z",
     "start_time": "2019-08-28T18:23:43.644648Z"
    }
   },
   "outputs": [],
   "source": [
    "MI_DF = pd.DataFrame(\n",
    "    [[MI, MI_var, shuff_MI, shuff_MI_var, distances]],\n",
    "    columns=[\"MI\", \"MI_var\", \"shuff_MI\", \"shuff_MI_var\", \"distances\"],\n",
    ")"
   ]
  },
  {
   "cell_type": "code",
   "execution_count": 33,
   "metadata": {
    "ExecuteTime": {
     "end_time": "2019-08-28T18:23:43.831841Z",
     "start_time": "2019-08-28T18:23:43.675266Z"
    }
   },
   "outputs": [],
   "source": [
    "row = MI_DF.iloc[0]"
   ]
  },
  {
   "cell_type": "code",
   "execution_count": 34,
   "metadata": {
    "ExecuteTime": {
     "end_time": "2019-08-28T18:23:44.870983Z",
     "start_time": "2019-08-28T18:23:43.833887Z"
    }
   },
   "outputs": [
    {
     "data": {
      "image/png": "[encoded data removed]",
      "text/plain": [
       "<Figure size 720x360 with 1 Axes>"
      ]
     },
     "metadata": {
      "needs_background": "light"
     },
     "output_type": "display_data"
    }
   ],
   "source": [
    "fig, ax = plt.subplots(figsize=(10,5))\n",
    "MI = row.MI-row.shuff_MI\n",
    "MI_var = row.MI_var\n",
    "\n",
    "ax.scatter(distances, MI)\n",
    "ax.fill_between(distances, MI-MI_var, MI+MI_var, alpha = 0.25, color= 'k')\n",
    "ax.set_ylim([1e-6, 1])\n",
    "ax.set_yscale('log')\n",
    "ax.set_xscale('log')"
   ]
  },
  {
   "cell_type": "code",
   "execution_count": 35,
   "metadata": {
    "ExecuteTime": {
     "end_time": "2019-08-28T18:23:45.434780Z",
     "start_time": "2019-08-28T18:23:44.872852Z"
    }
   },
   "outputs": [
    {
     "data": {
      "text/plain": [
       "[<matplotlib.lines.Line2D at 0x7f83d1e9b278>]"
      ]
     },
     "execution_count": 35,
     "metadata": {},
     "output_type": "execute_result"
    },
    {
     "data": {
      "image/png": "[encoded data removed]",
      "text/plain": [
       "<Figure size 432x288 with 1 Axes>"
      ]
     },
     "metadata": {
      "needs_background": "light"
     },
     "output_type": "display_data"
    }
   ],
   "source": [
    "plt.loglog(row.MI)\n",
    "plt.loglog(row.shuff_MI)"
   ]
  },
  {
   "cell_type": "code",
   "execution_count": null,
   "metadata": {},
   "outputs": [],
   "source": []
  },
  {
   "cell_type": "code",
   "execution_count": null,
   "metadata": {},
   "outputs": [],
   "source": []
  }
 ],
 "metadata": {
  "kernelspec": {
   "display_name": "Python 3",
   "language": "python",
   "name": "python3"
  },
  "language_info": {
   "codemirror_mode": {
    "name": "ipython",
    "version": 3
   },
   "file_extension": ".py",
   "mimetype": "text/x-python",
   "name": "python",
   "nbconvert_exporter": "python",
   "pygments_lexer": "ipython3",
   "version": "3.6.8"
  }
 },
 "nbformat": 4,
 "nbformat_minor": 2
}
