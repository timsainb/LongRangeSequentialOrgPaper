{
 "cells": [
  {
   "cell_type": "code",
   "execution_count": 1,
   "metadata": {
    "ExecuteTime": {
     "end_time": "2019-08-18T00:34:18.112840Z",
     "start_time": "2019-08-18T00:34:14.877210Z"
    }
   },
   "outputs": [
    {
     "name": "stderr",
     "output_type": "stream",
     "text": [
      "/mnt/cube/tsainbur/conda_envs/tpy3/lib/python3.6/site-packages/tqdm/autonotebook/__init__.py:14: TqdmExperimentalWarning: Using `tqdm.autonotebook.tqdm` in notebook mode. Use `tqdm.tqdm` instead to force console mode (e.g. in jupyter console)\n",
      "  \" (e.g. in jupyter console)\", TqdmExperimentalWarning)\n"
     ]
    }
   ],
   "source": [
    "import nltk\n",
    "from nltk.corpus.reader import CHILDESCorpusReader\n",
    "from childes_mi.utils.paths import DATA_DIR, ensure_dir, CHILDES_DIR, CHILDES_DFS\n",
    "import pandas as pd\n",
    "from tqdm.autonotebook import tqdm\n",
    "import numpy as np"
   ]
  },
  {
   "cell_type": "markdown",
   "metadata": {
    "ExecuteTime": {
     "end_time": "2019-07-31T23:58:15.804514Z",
     "start_time": "2019-07-31T23:58:15.799351Z"
    }
   },
   "source": [
    "### load all data"
   ]
  },
  {
   "cell_type": "code",
   "execution_count": 2,
   "metadata": {
    "ExecuteTime": {
     "end_time": "2019-08-18T00:34:18.140368Z",
     "start_time": "2019-08-18T00:34:18.117212Z"
    }
   },
   "outputs": [],
   "source": [
    "corpus_root = nltk.data.find(CHILDES_DIR.as_posix())"
   ]
  },
  {
   "cell_type": "code",
   "execution_count": 3,
   "metadata": {
    "ExecuteTime": {
     "end_time": "2019-08-18T00:34:20.668698Z",
     "start_time": "2019-08-18T00:34:18.144291Z"
    }
   },
   "outputs": [],
   "source": [
    "all_XML = list(CHILDES_DIR.glob('**/*.xml'))"
   ]
  },
  {
   "cell_type": "code",
   "execution_count": 4,
   "metadata": {
    "ExecuteTime": {
     "end_time": "2019-08-18T00:34:20.690747Z",
     "start_time": "2019-08-18T00:34:20.671929Z"
    }
   },
   "outputs": [
    {
     "data": {
      "text/plain": [
       "(41844,\n",
       " [PosixPath('/mnt/cube/tsainbur/Projects/github_repos/childes_mi_project/data/raw/NLTK_Data_Dir/corpora/Scandinavian/Danish/Plunkett/Anne/021111.xml'),\n",
       "  PosixPath('/mnt/cube/tsainbur/Projects/github_repos/childes_mi_project/data/raw/NLTK_Data_Dir/corpora/Scandinavian/Danish/Plunkett/Anne/010019.xml'),\n",
       "  PosixPath('/mnt/cube/tsainbur/Projects/github_repos/childes_mi_project/data/raw/NLTK_Data_Dir/corpora/Scandinavian/Danish/Plunkett/Anne/010307.xml')])"
      ]
     },
     "execution_count": 4,
     "metadata": {},
     "output_type": "execute_result"
    }
   ],
   "source": [
    "transcripts = CHILDESCorpusReader(corpus_root, all_XML)\n",
    "len(transcripts.fileids()), transcripts.fileids()[:3]"
   ]
  },
  {
   "cell_type": "code",
   "execution_count": 5,
   "metadata": {
    "ExecuteTime": {
     "end_time": "2019-08-18T00:34:32.106540Z",
     "start_time": "2019-08-18T00:34:20.693561Z"
    }
   },
   "outputs": [
    {
     "data": {
      "text/plain": [
       "(41844,\n",
       " [defaultdict(<function CHILDESCorpusReader._get_participants.<locals>.dictOfDicts at 0x7fe69c13eea0>, {'CHI': defaultdict(<function CHILDESCorpusReader._get_participants.<locals>.dictOfDicts at 0x7fe69c13eea0>, {'id': 'CHI', 'name': 'Anne', 'role': 'Target_Child', 'language': 'dan', 'age': 'P2Y11M11D'}), 'MOT': defaultdict(<function CHILDESCorpusReader._get_participants.<locals>.dictOfDicts at 0x7fe69c13eea0>, {'id': 'MOT', 'name': 'Annette', 'role': 'Mother', 'language': 'dan', 'sex': 'female', 'SES': 'UC'}), 'INV': defaultdict(<function CHILDESCorpusReader._get_participants.<locals>.dictOfDicts at 0x7fe69c13eea0>, {'id': 'INV', 'name': 'Berit', 'role': 'Investigator', 'language': 'dan'}), 'CAM': defaultdict(<function CHILDESCorpusReader._get_participants.<locals>.dictOfDicts at 0x7fe69c13eea0>, {'id': 'CAM', 'name': 'Sebastian_Camera_Operator', 'role': 'Investigator', 'language': 'dan'})}), defaultdict(<function CHILDESCorpusReader._get_participants.<locals>.dictOfDicts at 0x7fe6990c1a60>, {'CHI': defaultdict(<function CHILDESCorpusReader._get_participants.<locals>.dictOfDicts at 0x7fe6990c1a60>, {'id': 'CHI', 'role': 'Target_Child', 'language': 'eng'}), 'INV': defaultdict(<function CHILDESCorpusReader._get_participants.<locals>.dictOfDicts at 0x7fe6990c1a60>, {'id': 'INV', 'role': 'Investigator', 'language': 'eng'})}), ...])"
      ]
     },
     "execution_count": 5,
     "metadata": {},
     "output_type": "execute_result"
    }
   ],
   "source": [
    "corpus_participants = transcripts.participants(transcripts.fileids())\n",
    "len(corpus_participants), corpus_participants[:3]"
   ]
  },
  {
   "cell_type": "code",
   "execution_count": 6,
   "metadata": {
    "ExecuteTime": {
     "end_time": "2019-08-18T00:34:33.434414Z",
     "start_time": "2019-08-18T00:34:32.108456Z"
    }
   },
   "outputs": [
    {
     "data": {
      "text/plain": [
       "41844"
      ]
     },
     "execution_count": 6,
     "metadata": {},
     "output_type": "execute_result"
    }
   ],
   "source": [
    "corpus_data = transcripts.corpus(transcripts.fileids())\n",
    "len(corpus_data)"
   ]
  },
  {
   "cell_type": "markdown",
   "metadata": {},
   "source": [
    "### create transcript database\n",
    "- for each transcript"
   ]
  },
  {
   "cell_type": "code",
   "execution_count": 7,
   "metadata": {
    "ExecuteTime": {
     "end_time": "2019-08-18T00:34:33.559143Z",
     "start_time": "2019-08-18T00:34:33.438062Z"
    }
   },
   "outputs": [
    {
     "data": {
      "application/vnd.jupyter.widget-view+json": {
       "model_id": "f84e7d243b29445c8a2cd8a81d5163bb",
       "version_major": 2,
       "version_minor": 0
      },
      "text/plain": [
       "HBox(children=(IntProgress(value=0, max=41844), HTML(value='')))"
      ]
     },
     "metadata": {},
     "output_type": "display_data"
    },
    {
     "name": "stdout",
     "output_type": "stream",
     "text": [
      "\n"
     ]
    }
   ],
   "source": [
    "tran_list = [\n",
    "    [transcript.as_posix()] \n",
    "    for transcript in tqdm(all_XML)\n",
    "]"
   ]
  },
  {
   "cell_type": "code",
   "execution_count": 8,
   "metadata": {
    "ExecuteTime": {
     "end_time": "2019-08-18T00:34:33.800167Z",
     "start_time": "2019-08-18T00:34:33.563432Z"
    }
   },
   "outputs": [],
   "source": [
    "from joblib.externals.loky import set_loky_pickler\n",
    "from joblib import parallel_backend\n",
    "from joblib import Parallel, delayed\n",
    "from joblib import wrap_non_picklable_objects\n",
    "import collections\n",
    "\n",
    "\n",
    "@delayed\n",
    "@wrap_non_picklable_objects\n",
    "def childes_get_sequence_df(transcript):\n",
    "    \"\"\" get sequences of speech for each individual\n",
    "    \"\"\"\n",
    "\n",
    "    transcripts = CHILDESCorpusReader(corpus_root, transcript)\n",
    "    corpus_participants = transcripts.participants(transcript)[0]\n",
    "    # transcript info\n",
    "    transcript_dict = transcripts.corpus(transcript)[0]\n",
    "    if \"PID\" not in transcript_dict.keys():\n",
    "        PID = \"None\"\n",
    "    else:\n",
    "        PID = transcript_dict[\"PID\"]\n",
    "    lang = transcript_dict[\"Lang\"]\n",
    "    corpus = transcript_dict[\"Corpus\"]\n",
    "    date = transcript_dict[\"Date\"]\n",
    "\n",
    "    sequence_dfs = []\n",
    "    # participant info\n",
    "    for participant_id in sorted(corpus_participants.keys()):\n",
    "        dct = corpus_participants[participant_id]\n",
    "        pdict = corpus_participants[participant_id]\n",
    "        morphemes = transcripts.sents(transcript, speaker=[participant_id], stem=True)\n",
    "        words = transcripts.sents(transcript, speaker=[participant_id], stem=False)\n",
    "        POS = [\n",
    "            [i[1] for i in sent]\n",
    "            for sent in transcripts.tagged_sents(transcript, speaker=[participant_id])\n",
    "        ]\n",
    "\n",
    "        # ensure that age and sex have values\n",
    "        if type(pdict[\"age\"]) == collections.defaultdict:\n",
    "            age = np.nan\n",
    "        else:\n",
    "            age = pdict[\"age\"]\n",
    "        if type(pdict[\"sex\"]) == collections.defaultdict:\n",
    "            sex = np.nan\n",
    "        else:\n",
    "            sex = pdict[\"sex\"]\n",
    "\n",
    "        sequence_dfs.append(\n",
    "            [\n",
    "                PID,\n",
    "                lang,\n",
    "                corpus,\n",
    "                date,\n",
    "                participant_id,\n",
    "                pdict[\"role\"],\n",
    "                age,\n",
    "                pdict[\"language\"],\n",
    "                sex,\n",
    "                list(POS),\n",
    "                list(words),\n",
    "                list(morphemes),\n",
    "                transcript,\n",
    "                len(words),\n",
    "                len(morphemes),\n",
    "                len(POS),\n",
    "            ]\n",
    "        )\n",
    "    return sequence_dfs"
   ]
  },
  {
   "cell_type": "code",
   "execution_count": 9,
   "metadata": {
    "ExecuteTime": {
     "end_time": "2019-08-18T01:08:02.505140Z",
     "start_time": "2019-08-18T00:34:33.802582Z"
    }
   },
   "outputs": [
    {
     "data": {
      "application/vnd.jupyter.widget-view+json": {
       "model_id": "cdaed3e2eec347f4a72db70d1f06a405",
       "version_major": 2,
       "version_minor": 0
      },
      "text/plain": [
       "HBox(children=(IntProgress(value=0, max=41843), HTML(value='')))"
      ]
     },
     "metadata": {},
     "output_type": "display_data"
    },
    {
     "name": "stdout",
     "output_type": "stream",
     "text": [
      "\n"
     ]
    }
   ],
   "source": [
    "nex = -1\n",
    "with Parallel(n_jobs=-1) as parallel:\n",
    "    seq_dfs =parallel(\n",
    "                childes_get_sequence_df(transcript)\n",
    "                for transcript in tqdm(tran_list[:nex])\n",
    "            )\n",
    "    seq_dfs = [item for sublist in seq_dfs for item in sublist]\n",
    "seq_df = pd.DataFrame(seq_dfs,\n",
    "        columns=[\n",
    "            \"PID\",\n",
    "            \"lang\",\n",
    "            \"corpus\",\n",
    "            \"date\",\n",
    "            \"participant_key\",\n",
    "            \"role\",\n",
    "            \"age\",\n",
    "            \"language\",\n",
    "            \"sex\",\n",
    "            \"POS\",\n",
    "            \"words\",\n",
    "            \"morphemes\",\n",
    "            \"transcript_xml\",\n",
    "            \"n_words\",\n",
    "            \"n_morphemes\",\n",
    "            \"n_POS\",\n",
    "        ],\n",
    "    )"
   ]
  },
  {
   "cell_type": "code",
   "execution_count": 10,
   "metadata": {
    "ExecuteTime": {
     "end_time": "2019-08-18T01:08:02.775158Z",
     "start_time": "2019-08-18T01:08:02.508004Z"
    }
   },
   "outputs": [
    {
     "data": {
      "text/html": [
       "<div>\n",
       "<style scoped>\n",
       "    .dataframe tbody tr th:only-of-type {\n",
       "        vertical-align: middle;\n",
       "    }\n",
       "\n",
       "    .dataframe tbody tr th {\n",
       "        vertical-align: top;\n",
       "    }\n",
       "\n",
       "    .dataframe thead th {\n",
       "        text-align: right;\n",
       "    }\n",
       "</style>\n",
       "<table border=\"1\" class=\"dataframe\">\n",
       "  <thead>\n",
       "    <tr style=\"text-align: right;\">\n",
       "      <th></th>\n",
       "      <th>PID</th>\n",
       "      <th>lang</th>\n",
       "      <th>corpus</th>\n",
       "      <th>date</th>\n",
       "      <th>participant_key</th>\n",
       "      <th>role</th>\n",
       "      <th>age</th>\n",
       "      <th>language</th>\n",
       "      <th>sex</th>\n",
       "      <th>POS</th>\n",
       "      <th>words</th>\n",
       "      <th>morphemes</th>\n",
       "      <th>transcript_xml</th>\n",
       "      <th>n_words</th>\n",
       "      <th>n_morphemes</th>\n",
       "      <th>n_POS</th>\n",
       "    </tr>\n",
       "  </thead>\n",
       "  <tbody>\n",
       "    <tr>\n",
       "      <th>0</th>\n",
       "      <td>11312/c-00046421-1</td>\n",
       "      <td>dan</td>\n",
       "      <td>Plunkett</td>\n",
       "      <td>1985-01-31</td>\n",
       "      <td>CAM</td>\n",
       "      <td>Investigator</td>\n",
       "      <td>NaN</td>\n",
       "      <td>dan</td>\n",
       "      <td>NaN</td>\n",
       "      <td>[[, ], [, ], [, , , , , , , ], [, , , , ]]</td>\n",
       "      <td>[[gør, det], [det, er], [ellers, skal, vi, til...</td>\n",
       "      <td>[[gør, det], [det, er], [ellers, skal, vi, til...</td>\n",
       "      <td>[/mnt/cube/tsainbur/Projects/github_repos/chil...</td>\n",
       "      <td>4</td>\n",
       "      <td>4</td>\n",
       "      <td>4</td>\n",
       "    </tr>\n",
       "    <tr>\n",
       "      <th>1</th>\n",
       "      <td>11312/c-00046421-1</td>\n",
       "      <td>dan</td>\n",
       "      <td>Plunkett</td>\n",
       "      <td>1985-01-31</td>\n",
       "      <td>CHI</td>\n",
       "      <td>Target_Child</td>\n",
       "      <td>P2Y11M11D</td>\n",
       "      <td>dan</td>\n",
       "      <td>NaN</td>\n",
       "      <td>[[, , , , , , ], [, , , , ], [], [], [], [], [...</td>\n",
       "      <td>[[jeg, vil, gerne, have, noget, at, drikke], [...</td>\n",
       "      <td>[[jeg, vil, gerne, have, noget, at, drikke], [...</td>\n",
       "      <td>[/mnt/cube/tsainbur/Projects/github_repos/chil...</td>\n",
       "      <td>566</td>\n",
       "      <td>566</td>\n",
       "      <td>566</td>\n",
       "    </tr>\n",
       "    <tr>\n",
       "      <th>2</th>\n",
       "      <td>11312/c-00046421-1</td>\n",
       "      <td>dan</td>\n",
       "      <td>Plunkett</td>\n",
       "      <td>1985-01-31</td>\n",
       "      <td>INV</td>\n",
       "      <td>Investigator</td>\n",
       "      <td>NaN</td>\n",
       "      <td>dan</td>\n",
       "      <td>NaN</td>\n",
       "      <td>[[, , , , , ], [], [], [, ], [, , , , , , , , ...</td>\n",
       "      <td>[[det, må, du, også, gerne, få], [mm], [kan], ...</td>\n",
       "      <td>[[det, må, du, også, gerne, få], [mm], [kan], ...</td>\n",
       "      <td>[/mnt/cube/tsainbur/Projects/github_repos/chil...</td>\n",
       "      <td>383</td>\n",
       "      <td>383</td>\n",
       "      <td>383</td>\n",
       "    </tr>\n",
       "  </tbody>\n",
       "</table>\n",
       "</div>"
      ],
      "text/plain": [
       "                  PID lang    corpus        date participant_key  \\\n",
       "0  11312/c-00046421-1  dan  Plunkett  1985-01-31             CAM   \n",
       "1  11312/c-00046421-1  dan  Plunkett  1985-01-31             CHI   \n",
       "2  11312/c-00046421-1  dan  Plunkett  1985-01-31             INV   \n",
       "\n",
       "           role        age language  sex  \\\n",
       "0  Investigator        NaN      dan  NaN   \n",
       "1  Target_Child  P2Y11M11D      dan  NaN   \n",
       "2  Investigator        NaN      dan  NaN   \n",
       "\n",
       "                                                 POS  \\\n",
       "0         [[, ], [, ], [, , , , , , , ], [, , , , ]]   \n",
       "1  [[, , , , , , ], [, , , , ], [], [], [], [], [...   \n",
       "2  [[, , , , , ], [], [], [, ], [, , , , , , , , ...   \n",
       "\n",
       "                                               words  \\\n",
       "0  [[gør, det], [det, er], [ellers, skal, vi, til...   \n",
       "1  [[jeg, vil, gerne, have, noget, at, drikke], [...   \n",
       "2  [[det, må, du, også, gerne, få], [mm], [kan], ...   \n",
       "\n",
       "                                           morphemes  \\\n",
       "0  [[gør, det], [det, er], [ellers, skal, vi, til...   \n",
       "1  [[jeg, vil, gerne, have, noget, at, drikke], [...   \n",
       "2  [[det, må, du, også, gerne, få], [mm], [kan], ...   \n",
       "\n",
       "                                      transcript_xml  n_words  n_morphemes  \\\n",
       "0  [/mnt/cube/tsainbur/Projects/github_repos/chil...        4            4   \n",
       "1  [/mnt/cube/tsainbur/Projects/github_repos/chil...      566          566   \n",
       "2  [/mnt/cube/tsainbur/Projects/github_repos/chil...      383          383   \n",
       "\n",
       "   n_POS  \n",
       "0      4  \n",
       "1    566  \n",
       "2    383  "
      ]
     },
     "execution_count": 10,
     "metadata": {},
     "output_type": "execute_result"
    }
   ],
   "source": [
    "seq_df[:3]"
   ]
  },
  {
   "cell_type": "code",
   "execution_count": 11,
   "metadata": {
    "ExecuteTime": {
     "end_time": "2019-08-18T01:09:54.862152Z",
     "start_time": "2019-08-18T01:08:02.778758Z"
    }
   },
   "outputs": [],
   "source": [
    "seq_df.to_pickle(CHILDES_DFS/'childes_df.pickle')"
   ]
  },
  {
   "cell_type": "code",
   "execution_count": 12,
   "metadata": {
    "ExecuteTime": {
     "end_time": "2019-08-18T01:09:58.014639Z",
     "start_time": "2019-08-18T01:09:54.868315Z"
    }
   },
   "outputs": [
    {
     "name": "stdout",
     "output_type": "stream",
     "text": [
      "PID [\"<class 'str'>\"]\n",
      "lang [\"<class 'str'>\"]\n",
      "corpus [\"<class 'str'>\"]\n",
      "date [\"<class 'str'>\"]\n",
      "participant_key [\"<class 'str'>\"]\n",
      "role [\"<class 'str'>\"]\n",
      "age [\"<class 'float'>\" \"<class 'str'>\"]\n",
      "language [\"<class 'str'>\"]\n",
      "sex [\"<class 'float'>\" \"<class 'str'>\"]\n",
      "POS [\"<class 'list'>\"]\n",
      "words [\"<class 'list'>\"]\n",
      "morphemes [\"<class 'list'>\"]\n",
      "transcript_xml [\"<class 'list'>\"]\n",
      "n_words [\"<class 'numpy.int64'>\"]\n",
      "n_morphemes [\"<class 'numpy.int64'>\"]\n",
      "n_POS [\"<class 'numpy.int64'>\"]\n"
     ]
    }
   ],
   "source": [
    "for col in seq_df.columns:\n",
    "    print(\n",
    "        col,\n",
    "        np.unique([str(type(i)) for i in seq_df[col].values])\n",
    "    )"
   ]
  },
  {
   "cell_type": "code",
   "execution_count": null,
   "metadata": {},
   "outputs": [],
   "source": []
  }
 ],
 "metadata": {
  "kernelspec": {
   "display_name": "Python 3",
   "language": "python",
   "name": "python3"
  },
  "language_info": {
   "codemirror_mode": {
    "name": "ipython",
    "version": 3
   },
   "file_extension": ".py",
   "mimetype": "text/x-python",
   "name": "python",
   "nbconvert_exporter": "python",
   "pygments_lexer": "ipython3",
   "version": "3.6.7"
  }
 },
 "nbformat": 4,
 "nbformat_minor": 2
}
