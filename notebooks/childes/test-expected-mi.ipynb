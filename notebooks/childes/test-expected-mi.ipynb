{
 "cells": [
  {
   "cell_type": "code",
   "execution_count": 55,
   "metadata": {
    "ExecuteTime": {
     "end_time": "2020-01-10T21:39:26.101277Z",
     "start_time": "2020-01-10T21:39:26.053785Z"
    }
   },
   "outputs": [
    {
     "name": "stdout",
     "output_type": "stream",
     "text": [
      "The autoreload extension is already loaded. To reload it, use:\n",
      "  %reload_ext autoreload\n"
     ]
    }
   ],
   "source": [
    "%load_ext autoreload\n",
    "%autoreload 2"
   ]
  },
  {
   "cell_type": "code",
   "execution_count": 58,
   "metadata": {
    "ExecuteTime": {
     "end_time": "2020-01-10T21:39:27.590540Z",
     "start_time": "2020-01-10T21:39:26.890381Z"
    }
   },
   "outputs": [],
   "source": [
    "import numpy as np\n",
    "import scipy.sparse\n",
    "from sklearn.metrics.cluster.supervised import contingency_matrix\n",
    "from sklearn.metrics.cluster.expected_mutual_info_fast import (\n",
    "    expected_mutual_information,\n",
    ")\n",
    "from sklearn.metrics.cluster import adjusted_mutual_info_score"
   ]
  },
  {
   "cell_type": "code",
   "execution_count": 108,
   "metadata": {
    "ExecuteTime": {
     "end_time": "2020-01-10T23:16:21.124760Z",
     "start_time": "2020-01-10T23:16:20.937124Z"
    }
   },
   "outputs": [
    {
     "data": {
      "text/plain": [
       "(14975, (5372, 5361))"
      ]
     },
     "execution_count": 108,
     "metadata": {},
     "output_type": "execute_result"
    }
   ],
   "source": [
    "C = scipy.sparse.load_npz('test.npz')\n",
    "n_samples = C.sum()\n",
    "n_samples, C.shape"
   ]
  },
  {
   "cell_type": "code",
   "execution_count": 74,
   "metadata": {
    "ExecuteTime": {
     "end_time": "2020-01-10T23:15:15.508423Z",
     "start_time": "2020-01-10T23:15:14.529427Z"
    }
   },
   "outputs": [
    {
     "data": {
      "text/plain": [
       "((10, 6), 10000)"
      ]
     },
     "execution_count": 74,
     "metadata": {},
     "output_type": "execute_result"
    }
   ],
   "source": [
    "seed = 42\n",
    "k = 10\n",
    "n_samples = 10000\n",
    "random_labels = np.random.RandomState(seed).randint\n",
    "distribution_a = random_labels(low=0, high=k, size=n_samples)\n",
    "distribution_b = random_labels(low=0, high=k, size=n_samples)\n",
    "distribution_b[distribution_b > 5] = 5\n",
    "C = contingency_matrix(distribution_a, distribution_b, sparse=True)\n",
    "n_samples = C.sum()\n",
    "C.shape, n_samples"
   ]
  },
  {
   "cell_type": "code",
   "execution_count": 75,
   "metadata": {
    "ExecuteTime": {
     "end_time": "2020-01-10T23:14:07.821478Z",
     "start_time": "2020-01-10T23:14:07.765285Z"
    }
   },
   "outputs": [
    {
     "data": {
      "text/plain": [
       "0.002254254559830314"
      ]
     },
     "execution_count": 75,
     "metadata": {},
     "output_type": "execute_result"
    }
   ],
   "source": [
    "emi = expected_mutual_information(C, n_samples)\n",
    "emi"
   ]
  },
  {
   "cell_type": "code",
   "execution_count": 89,
   "metadata": {},
   "outputs": [],
   "source": [
    "import pprint"
   ]
  },
  {
   "cell_type": "code",
   "execution_count": 104,
   "metadata": {},
   "outputs": [],
   "source": []
  },
  {
   "cell_type": "code",
   "execution_count": 105,
   "metadata": {},
   "outputs": [
    {
     "name": "stdout",
     "output_type": "stream",
     "text": [
      "{'C': <class 'int'>,\n",
      " 'N': <class 'float'>,\n",
      " 'R': <class 'int'>,\n",
      " 'a': <class 'numpy.ndarray'>,\n",
      " 'a_i': <class 'numpy.int32'>,\n",
      " 'b': <class 'numpy.ndarray'>,\n",
      " 'b_j': <class 'numpy.int32'>,\n",
      " 'contingency': <class 'scipy.sparse.csr.csr_matrix'>,\n",
      " 'emi': <class 'numpy.float64'>,\n",
      " 'gln': <class 'numpy.ndarray'>,\n",
      " 'gln_N': <class 'numpy.float64'>,\n",
      " 'gln_Na': <class 'numpy.ndarray'>,\n",
      " 'gln_Nb': <class 'numpy.ndarray'>,\n",
      " 'gln_a': <class 'numpy.ndarray'>,\n",
      " 'gln_b': <class 'numpy.ndarray'>,\n",
      " 'gln_nij': <class 'numpy.ndarray'>,\n",
      " 'i': <class 'int'>,\n",
      " 'j': <class 'int'>,\n",
      " 'log_Nnij': <class 'numpy.ndarray'>,\n",
      " 'max_nij': <class 'int'>,\n",
      " 'min_nij': <class 'int'>,\n",
      " 'n_samples': <class 'numpy.int64'>,\n",
      " 'nij': <class 'range'>,\n",
      " 'nijs': <class 'numpy.ndarray'>,\n",
      " 'term1': <class 'numpy.ndarray'>,\n",
      " 'term2': <class 'numpy.ndarray'>,\n",
      " 'term3': <class 'numpy.ndarray'>}\n",
      "{'a': ['0.0 Gb', (10,), dtype('int32')],\n",
      " 'b': ['0.0 Gb', (6,), dtype('int32')],\n",
      " 'gln': ['0.0 Gb', (1034,), dtype('float64')],\n",
      " 'gln_Na': ['0.0 Gb', (10,), dtype('float64')],\n",
      " 'gln_Nb': ['0.0 Gb', (6,), dtype('float64')],\n",
      " 'gln_a': ['0.0 Gb', (10,), dtype('float64')],\n",
      " 'gln_b': ['0.0 Gb', (6,), dtype('float64')],\n",
      " 'gln_nij': ['0.0 Gb', (5012,), dtype('float64')],\n",
      " 'log_Nnij': ['0.0 Gb', (5012,), dtype('float64')],\n",
      " 'nijs': ['0.0 Gb', (5012,), dtype('float64')],\n",
      " 'term1': ['0.0 Gb', (5012,), dtype('float64')],\n",
      " 'term2': ['0.0 Gb', (1034,), dtype('float64')],\n",
      " 'term3': ['0.0 Gb', (1034,), dtype('float64')]}\n"
     ]
    },
    {
     "data": {
      "text/plain": [
       "0.0022542545598138466"
      ]
     },
     "execution_count": 105,
     "metadata": {},
     "output_type": "execute_result"
    }
   ],
   "source": [
    "emi = expected_mutual_information_numpy(C, n_samples)\n",
    "emi"
   ]
  },
  {
   "cell_type": "code",
   "execution_count": null,
   "metadata": {},
   "outputs": [],
   "source": []
  },
  {
   "cell_type": "code",
   "execution_count": 10,
   "metadata": {
    "ExecuteTime": {
     "end_time": "2020-01-10T23:16:22.592439Z",
     "start_time": "2020-01-10T23:16:22.557600Z"
    }
   },
   "outputs": [],
   "source": [
    "#adjusted_mutual_info_score(distribution_a, distribution_b)"
   ]
  },
  {
   "cell_type": "code",
   "execution_count": 16,
   "metadata": {
    "ExecuteTime": {
     "end_time": "2020-01-10T23:16:23.172978Z",
     "start_time": "2020-01-10T23:16:23.138250Z"
    }
   },
   "outputs": [
    {
     "name": "stdout",
     "output_type": "stream",
     "text": [
      "\n",
      " types {'gln_nij': [<class 'numpy.ndarray'>], 'gln_N': [<class 'numpy.float64'>], 'gln_Nb': [<class 'numpy.ndarray'>], 'gln_Na': [<class 'numpy.ndarray'>], 'gln_b': [<class 'numpy.ndarray'>], 'gln_a': [<class 'numpy.ndarray'>], 'log_Nnij': [<class 'numpy.ndarray'>], 'log_ab_outer': [<class 'numpy.ndarray'>], 'term1': [<class 'numpy.ndarray'>], 'nijs': [<class 'numpy.ndarray'>], 'a': [<class 'numpy.ndarray'>], 'C': [<class 'int'>], 'R': [<class 'int'>], 'n_samples': [<class 'numpy.int64'>], 'contingency': [<class 'scipy.sparse.csr.csr_matrix'>], 'b': [<class 'numpy.ndarray'>], 'N': [<class 'float'>]}\n",
      "sizes {'gln_nij': ['0.0 Gb', (128,)], 'gln_Nb': ['0.0 Gb', (5361,)], 'gln_Na': ['0.0 Gb', (5372,)], 'gln_b': ['0.0 Gb', (5361,)], 'gln_a': ['0.0 Gb', (5372,)], 'log_Nnij': ['0.0 Gb', (128,)], 'log_ab_outer': ['0.23 Gb', (5372, 5361)], 'term1': ['0.0 Gb', (128,)], 'nijs': ['0.0 Gb', (128,)], 'a': ['0.0 Gb', (5372,)], 'b': ['0.0 Gb', (5361,)]}\n"
     ]
    },
    {
     "data": {
      "application/vnd.jupyter.widget-view+json": {
       "model_id": "6f62a9146c2e4e8283c54797b8e5aedd",
       "version_major": 2,
       "version_minor": 0
      },
      "text/plain": [
       "HBox(children=(IntProgress(value=0, max=5372), HTML(value='')))"
      ]
     },
     "metadata": {},
     "output_type": "display_data"
    },
    {
     "ename": "KeyboardInterrupt",
     "evalue": "",
     "output_type": "error",
     "traceback": [
      "\u001b[0;31m---------------------------------------------------------------------------\u001b[0m",
      "\u001b[0;31mKeyboardInterrupt\u001b[0m                         Traceback (most recent call last)",
      "\u001b[0;32m<ipython-input-16-3a877e343f2a>\u001b[0m in \u001b[0;36m<module>\u001b[0;34m\u001b[0m\n\u001b[1;32m      1\u001b[0m \u001b[0;32mfrom\u001b[0m \u001b[0mchildes_mi\u001b[0m\u001b[0;34m.\u001b[0m\u001b[0minformation_theory\u001b[0m\u001b[0;34m.\u001b[0m\u001b[0mexpected_mutual_information_numpy\u001b[0m \u001b[0;32mimport\u001b[0m \u001b[0mexpected_mutual_information\u001b[0m \u001b[0;32mas\u001b[0m \u001b[0mexpected_mutual_information_numpy\u001b[0m\u001b[0;34m\u001b[0m\u001b[0;34m\u001b[0m\u001b[0m\n\u001b[0;32m----> 2\u001b[0;31m \u001b[0memi_numpy\u001b[0m \u001b[0;34m=\u001b[0m \u001b[0mexpected_mutual_information_numpy\u001b[0m\u001b[0;34m(\u001b[0m\u001b[0mC\u001b[0m\u001b[0;34m,\u001b[0m \u001b[0mn_samples\u001b[0m\u001b[0;34m)\u001b[0m\u001b[0;34m\u001b[0m\u001b[0;34m\u001b[0m\u001b[0m\n\u001b[0m\u001b[1;32m      3\u001b[0m \u001b[0memi_numpy\u001b[0m\u001b[0;34m\u001b[0m\u001b[0;34m\u001b[0m\u001b[0m\n",
      "\u001b[0;32m/mnt/cube/tsainbur/Projects/github_repos/childes_mi_project/childes_mi/information_theory/expected_mutual_information_numpy.py\u001b[0m in \u001b[0;36mexpected_mutual_information\u001b[0;34m(contingency, n_samples)\u001b[0m\n\u001b[1;32m     62\u001b[0m         \u001b[0;32mfor\u001b[0m \u001b[0mj\u001b[0m \u001b[0;32min\u001b[0m \u001b[0mrange\u001b[0m\u001b[0;34m(\u001b[0m\u001b[0mC\u001b[0m\u001b[0;34m)\u001b[0m\u001b[0;34m:\u001b[0m\u001b[0;34m\u001b[0m\u001b[0;34m\u001b[0m\u001b[0m\n\u001b[1;32m     63\u001b[0m             \u001b[0;32mfor\u001b[0m \u001b[0mnij\u001b[0m \u001b[0;32min\u001b[0m \u001b[0mrange\u001b[0m\u001b[0;34m(\u001b[0m\u001b[0mstart\u001b[0m\u001b[0;34m[\u001b[0m\u001b[0mi\u001b[0m\u001b[0;34m,\u001b[0m \u001b[0mj\u001b[0m\u001b[0;34m]\u001b[0m\u001b[0;34m,\u001b[0m \u001b[0mend\u001b[0m\u001b[0;34m[\u001b[0m\u001b[0mi\u001b[0m\u001b[0;34m,\u001b[0m \u001b[0mj\u001b[0m\u001b[0;34m]\u001b[0m\u001b[0;34m)\u001b[0m\u001b[0;34m:\u001b[0m\u001b[0;34m\u001b[0m\u001b[0;34m\u001b[0m\u001b[0m\n\u001b[0;32m---> 64\u001b[0;31m                 \u001b[0mterm2\u001b[0m \u001b[0;34m=\u001b[0m \u001b[0mlog_Nnij\u001b[0m\u001b[0;34m[\u001b[0m\u001b[0mnij\u001b[0m\u001b[0;34m]\u001b[0m \u001b[0;34m-\u001b[0m \u001b[0mlog_ab_outer\u001b[0m\u001b[0;34m[\u001b[0m\u001b[0mi\u001b[0m\u001b[0;34m]\u001b[0m\u001b[0;34m[\u001b[0m\u001b[0mj\u001b[0m\u001b[0;34m]\u001b[0m\u001b[0;34m\u001b[0m\u001b[0;34m\u001b[0m\u001b[0m\n\u001b[0m\u001b[1;32m     65\u001b[0m                 \u001b[0;31m# Numerators are positive, denominators are negative.\u001b[0m\u001b[0;34m\u001b[0m\u001b[0;34m\u001b[0m\u001b[0;34m\u001b[0m\u001b[0m\n\u001b[1;32m     66\u001b[0m                 gln = (\n",
      "\u001b[0;31mKeyboardInterrupt\u001b[0m: "
     ]
    }
   ],
   "source": [
    "from childes_mi.information_theory.expected_mutual_information_numpy import expected_mutual_information as expected_mutual_information_numpy\n",
    "emi_numpy = expected_mutual_information_numpy(C, n_samples)\n",
    "emi_numpy"
   ]
  },
  {
   "cell_type": "code",
   "execution_count": null,
   "metadata": {},
   "outputs": [],
   "source": [
    " types {'gln_nij': [<class 'numpy.ndarray'>], 'gln_N': [<class 'numpy.float64'>], 'gln_Nb': [<class 'numpy.ndarray'>], 'gln_Na': [<class 'numpy.ndarray'>], 'gln_b': [<class 'numpy.ndarray'>], 'gln_a': [<class 'numpy.ndarray'>], 'log_Nnij': [<class 'numpy.ndarray'>], 'log_ab_outer': [<class 'numpy.ndarray'>], 'term1': [<class 'numpy.ndarray'>], 'nijs': [<class 'numpy.ndarray'>], 'a': [<class 'numpy.ndarray'>], 'C': [<class 'int'>], 'R': [<class 'int'>], 'n_samples': [<class 'numpy.int64'>], 'contingency': [<class 'scipy.sparse.csr.csr_matrix'>], 'b': [<class 'numpy.ndarray'>], 'N': [<class 'float'>]}\n",
    "sizes {'gln_nij': ['0.0 Gb', (128,)], 'gln_Nb': ['0.0 Gb', (5361,)], 'gln_Na': ['0.0 Gb', (5372,)], 'gln_b': ['0.0 Gb', (5361,)], 'gln_a': ['0.0 Gb', (5372,)], 'log_Nnij': ['0.0 Gb', (128,)], 'log_ab_outer': ['0.23 Gb', (5372, 5361)], 'term1': ['0.0 Gb', (128,)], 'nijs': ['0.0 Gb', (128,)], 'a': ['0.0 Gb', (5372,)], 'b': ['0.0 Gb', (5361,)]}"
   ]
  },
  {
   "cell_type": "code",
   "execution_count": 12,
   "metadata": {
    "ExecuteTime": {
     "end_time": "2020-01-10T23:16:23.772683Z",
     "start_time": "2020-01-10T23:16:23.735888Z"
    }
   },
   "outputs": [],
   "source": [
    "from math import log\n",
    "from scipy.special import gammaln\n",
    "import numpy as np\n",
    "import time\n",
    "from tqdm.autonotebook import tqdm\n",
    "from joblib import Parallel, delayed"
   ]
  },
  {
   "cell_type": "code",
   "execution_count": null,
   "metadata": {},
   "outputs": [],
   "source": [
    "def nij_op_cython(s1i, s2, l2, N, term1, nijs, i, gln_a, gln_b, gln_Na, gln_Nb, gln_N, gln_nij):\n",
    "    emif = 0\n",
    "    for j in range(l2):\n",
    "        s2j = s2[j]\n",
    "        min_nij = np.max([1, s1i + s2j - N])\n",
    "        max_nij = np.min([s1i, s2j])\n",
    "        nij = np.arange(min_nij, max_nij) + 1\n",
    "        t1 = term1[nij]\n",
    "\n",
    "        t2 = np.log(N * nijs[nij]) - np.log(s1i * s2j)\n",
    "\n",
    "        gln = (\n",
    "            gln_a[i] + \n",
    "            gln_b[j] + \n",
    "            gln_Na[i] + \n",
    "            gln_Nb[j] - \n",
    "            gln_N - \n",
    "            gln_nij[nij] - \n",
    "            gammaln(s1i - nij + 1) - \n",
    "            gammaln(s2j - nij + 1) -\n",
    "            gammaln(N - s1i- s2j + nij + 1)\n",
    "        )\n",
    "\n",
    "        t3 = np.exp(gln)\n",
    "        emi = sum(t1 * t2 * t3)\n",
    "        emif += emi\n",
    "    return emif\n"
   ]
  },
  {
   "cell_type": "code",
   "execution_count": null,
   "metadata": {},
   "outputs": [],
   "source": [
    "def nij_op(s1i, s2, l2, N, term1, nijs, i, gln_a, gln_b, gln_Na, gln_Nb, gln_N, gln_nij):\n",
    "    emif = 0\n",
    "    for j in range(l2):\n",
    "        s2j = s2[j]\n",
    "        min_nij = np.max([1, s1i + s2j - N])\n",
    "        max_nij = np.min([s1i, s2j])\n",
    "        nij = np.arange(min_nij, max_nij) + 1\n",
    "        t1 = term1[nij]\n",
    "\n",
    "        t2 = np.log(N * nijs[nij]) - np.log(s1i * s2j)\n",
    "\n",
    "        gln = (\n",
    "            gln_a[i] + \n",
    "            gln_b[j] + \n",
    "            gln_Na[i] + \n",
    "            gln_Nb[j] - \n",
    "            gln_N - \n",
    "            gln_nij[nij] - \n",
    "            gammaln(s1i - nij + 1) - \n",
    "            gammaln(s2j - nij + 1) -\n",
    "            gammaln(N - s1i- s2j + nij + 1)\n",
    "        )\n",
    "\n",
    "        t3 = np.exp(gln)\n",
    "        emi = sum(t1 * t2 * t3)\n",
    "        emif += emi\n",
    "    return emif\n"
   ]
  },
  {
   "cell_type": "code",
   "execution_count": 13,
   "metadata": {
    "ExecuteTime": {
     "end_time": "2020-01-10T23:16:24.200748Z",
     "start_time": "2020-01-10T23:16:24.150581Z"
    }
   },
   "outputs": [],
   "source": [
    "def emi_parallel(contingency, n_samples):\n",
    "    \"\"\"\n",
    "    EMI without pregenerating lookup table for reduced memory\n",
    "    https://github.com/clajusch/ClEvaR/blob/master/R/Calculations.R\n",
    "    \"\"\"\n",
    "    \n",
    "    print(\"EMI reduced memory parallel\")\n",
    "    s1 = np.array(np.sum(contingency, axis=1, dtype=\"int\").flatten()).flatten()\n",
    "    s2 = np.array(np.sum(contingency, axis=0, dtype=\"int\").flatten()).flatten()\n",
    "    N = n_samples\n",
    "    l1 = len(s1)\n",
    "    l2 = len(s2)\n",
    "\n",
    "    nijs = np.arange(0, max(np.max(s1), np.max(s2)) + 1, dtype=\"float\")\n",
    "    nijs[0] = 1\n",
    "    term1 = nijs / N\n",
    "\n",
    "    gln_a = gammaln(s1 + 1)\n",
    "    gln_b = gammaln(s2 + 1)\n",
    "    gln_Na = gammaln(N - s1 + 1)\n",
    "    gln_Nb = gammaln(N - s2 + 1)\n",
    "    gln_N = gammaln(N + 1)\n",
    "    gln_nij = gammaln(nijs + 1)\n",
    "\n",
    "    with Parallel(n_jobs=-1, verbose=0, prefer=None) as parallel:\n",
    "        emi = parallel(\n",
    "            delayed(nij_op)(s1[i], s2, l2, N, term1, nijs, i, gln_a, gln_b, gln_Na, gln_Nb, gln_N, gln_nij)\n",
    "            for i in tqdm(range(l1), desc=\"compute emi\", mininterval=0.25)\n",
    "        )\n",
    "\n",
    "    return np.sum(emi)"
   ]
  },
  {
   "cell_type": "code",
   "execution_count": 38,
   "metadata": {},
   "outputs": [
    {
     "data": {
      "text/plain": [
       "(5372, 5361)"
      ]
     },
     "execution_count": 38,
     "metadata": {},
     "output_type": "execute_result"
    }
   ],
   "source": [
    "R,C2 = C.shape\n",
    "a = s1 = np.array(np.sum(C, axis=1, dtype=\"int\").flatten()).flatten()\n",
    "b = s2 = np.array(np.sum(C, axis=0, dtype=\"int\").flatten()).flatten()\n",
    "\n",
    "#end = np.minimum(np.resize(a, (C, R)).T, np.resize(s2, (R, C))) + 1\n",
    "\n",
    "end = np.minimum(np.resize(s2, (C2, R)).T, np.resize(s1, (R, C2))) + 1\n",
    "np.shape(end)"
   ]
  },
  {
   "cell_type": "code",
   "execution_count": 39,
   "metadata": {},
   "outputs": [
    {
     "data": {
      "text/plain": [
       "array([1, 3, 3, ..., 7, 1, 1])"
      ]
     },
     "execution_count": 39,
     "metadata": {},
     "output_type": "execute_result"
    }
   ],
   "source": [
    "test = np.resize(a, (C2, R)).T\n",
    "test[:,0], a"
   ]
  },
  {
   "cell_type": "code",
   "execution_count": 40,
   "metadata": {},
   "outputs": [
    {
     "data": {
      "text/plain": [
       "array([1, 3, 3, ..., 7, 1, 1])"
      ]
     },
     "execution_count": 40,
     "metadata": {},
     "output_type": "execute_result"
    }
   ],
   "source": []
  },
  {
   "cell_type": "code",
   "execution_count": null,
   "metadata": {},
   "outputs": [],
   "source": [
    "start = np.array([[v - N + w for w in b] for v in a], dtype=\"int\")\n",
    "start = np.maximum(start, 1)"
   ]
  },
  {
   "cell_type": "code",
   "execution_count": 19,
   "metadata": {},
   "outputs": [],
   "source": [
    "s1 = np.array(np.sum(C, axis=1, dtype=\"int\").flatten()).flatten()"
   ]
  },
  {
   "cell_type": "code",
   "execution_count": null,
   "metadata": {},
   "outputs": [],
   "source": [
    "end = np.minimum(np.resize(a, (C, R)).T, np.resize(s2, (R, C))) + 1"
   ]
  },
  {
   "cell_type": "code",
   "execution_count": 20,
   "metadata": {},
   "outputs": [
    {
     "data": {
      "text/plain": [
       "(5372,)"
      ]
     },
     "execution_count": 20,
     "metadata": {},
     "output_type": "execute_result"
    }
   ],
   "source": [
    "s1.shape"
   ]
  },
  {
   "cell_type": "code",
   "execution_count": null,
   "metadata": {},
   "outputs": [],
   "source": [
    "np.shape(s1)"
   ]
  },
  {
   "cell_type": "code",
   "execution_count": 109,
   "metadata": {
    "ExecuteTime": {
     "end_time": "2020-01-10T23:16:24.548984Z",
     "start_time": "2020-01-10T23:16:24.500395Z"
    }
   },
   "outputs": [],
   "source": [
    "def nij_op(s1i, s2, l2, N, term1, nijs, i, gln_a, gln_b, gln_Na, gln_Nb, gln_N, gln_nij):\n",
    "    emif = 0\n",
    "    for j in range(l2):\n",
    "        s2j = s2[j]\n",
    "        min_nij = np.max([1, s1i - N + s2j])\n",
    "        max_nij = np.min([s1i, s2j]) + 1\n",
    "        \n",
    "        nij = np.arange(min_nij, max_nij)\n",
    "        t1 = term1[nij]\n",
    "        t2 = np.log(N * nijs[nij]) - np.log(s1i * s2j)\n",
    "\n",
    "        gln = (\n",
    "            gln_a[i] + \n",
    "            gln_b[j] + \n",
    "            gln_Na[i] + \n",
    "            gln_Nb[j] - \n",
    "            gln_N - \n",
    "            gln_nij[nij] - \n",
    "            gammaln(s1i - nij + 1) - \n",
    "            gammaln(s2j - nij + 1) -\n",
    "            gammaln(N - s1i- s2j + nij + 1)\n",
    "        )\n",
    "\n",
    "        t3 = np.exp(gln)\n",
    "        emi = sum(t1 * t2 * t3)\n",
    "        emif += emi\n",
    "    return emif\n",
    "\n",
    "def emi_parallel(contingency, n_samples):\n",
    "    \"\"\"\n",
    "    EMI without pregenerating lookup table for reduced memory\n",
    "    https://github.com/clajusch/ClEvaR/blob/master/R/Calculations.R\n",
    "    \"\"\"\n",
    "    \n",
    "    print(\"EMI reduced memory parallel\")\n",
    "    s1 = np.array(np.sum(contingency, axis=1, dtype=\"int\").flatten()).flatten()\n",
    "    s2 = np.array(np.sum(contingency, axis=0, dtype=\"int\").flatten()).flatten()\n",
    "    N = n_samples\n",
    "    l1 = len(s1)\n",
    "    l2 = len(s2)\n",
    "\n",
    "    nijs = np.arange(0, max(np.max(s1), np.max(s2)) + 1, dtype=\"float\")\n",
    "    nijs[0] = 1\n",
    "    term1 = nijs / N\n",
    "\n",
    "    gln_a = gammaln(s1 + 1)\n",
    "    gln_b = gammaln(s2 + 1)\n",
    "    gln_Na = gammaln(N - s1 + 1)\n",
    "    gln_Nb = gammaln(N - s2 + 1)\n",
    "    gln_N = gammaln(N + 1)\n",
    "    gln_nij = gammaln(nijs + 1)\n",
    "    \n",
    "    \n",
    "    with Parallel(n_jobs=-1, verbose=0, prefer=None) as parallel:\n",
    "        emi = parallel(\n",
    "            delayed(nij_op)(s1[i], s2, l2, N, term1, nijs, i, gln_a, gln_b, gln_Na, gln_Nb, gln_N, gln_nij)\n",
    "            for i in tqdm(range(l1), desc=\"compute emi\", mininterval=0.25)\n",
    "        )\n",
    "\n",
    "    return np.sum(emi)"
   ]
  },
  {
   "cell_type": "code",
   "execution_count": 110,
   "metadata": {
    "ExecuteTime": {
     "end_time": "2020-01-10T23:17:20.065448Z",
     "start_time": "2020-01-10T23:16:24.880602Z"
    }
   },
   "outputs": [
    {
     "name": "stdout",
     "output_type": "stream",
     "text": [
      "EMI reduced memory parallel\n"
     ]
    },
    {
     "data": {
      "application/vnd.jupyter.widget-view+json": {
       "model_id": "2315ba78b49047deb4fc00234fa605c6",
       "version_major": 2,
       "version_minor": 0
      },
      "text/plain": [
       "HBox(children=(IntProgress(value=0, description='compute emi', max=5372, style=ProgressStyle(description_width…"
      ]
     },
     "metadata": {},
     "output_type": "display_data"
    },
    {
     "data": {
      "text/plain": [
       "6.415867094292364"
      ]
     },
     "execution_count": 110,
     "metadata": {},
     "output_type": "execute_result"
    }
   ],
   "source": [
    "emi_parallel(C, n_samples)"
   ]
  },
  {
   "cell_type": "code",
   "execution_count": null,
   "metadata": {},
   "outputs": [],
   "source": []
  }
 ],
 "metadata": {
  "kernelspec": {
   "display_name": "Python 3",
   "language": "python",
   "name": "python3"
  },
  "language_info": {
   "codemirror_mode": {
    "name": "ipython",
    "version": 3
   },
   "file_extension": ".py",
   "mimetype": "text/x-python",
   "name": "python",
   "nbconvert_exporter": "python",
   "pygments_lexer": "ipython3",
   "version": "3.6.7"
  }
 },
 "nbformat": 4,
 "nbformat_minor": 2
}
