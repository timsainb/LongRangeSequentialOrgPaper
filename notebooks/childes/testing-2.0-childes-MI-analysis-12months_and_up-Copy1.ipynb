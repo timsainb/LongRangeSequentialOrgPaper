{
 "cells": [
  {
   "cell_type": "code",
   "execution_count": 1,
   "metadata": {
    "ExecuteTime": {
     "end_time": "2020-01-10T00:48:16.623986Z",
     "start_time": "2020-01-10T00:48:16.575613Z"
    }
   },
   "outputs": [],
   "source": [
    "%load_ext autoreload\n",
    "%autoreload 2"
   ]
  },
  {
   "cell_type": "code",
   "execution_count": 2,
   "metadata": {
    "ExecuteTime": {
     "end_time": "2020-01-10T00:48:16.991165Z",
     "start_time": "2020-01-10T00:48:16.917085Z"
    }
   },
   "outputs": [],
   "source": [
    "from childes_mi.utils.paths import CHILDES_DFS, DATA_DIR\n",
    "from childes_mi.utils.general import flatten"
   ]
  },
  {
   "cell_type": "code",
   "execution_count": 3,
   "metadata": {
    "ExecuteTime": {
     "end_time": "2020-01-10T00:48:11.669560Z",
     "start_time": "2020-01-10T00:48:10.298945Z"
    }
   },
   "outputs": [
    {
     "name": "stderr",
     "output_type": "stream",
     "text": [
      "/mnt/cube/tsainbur/conda_envs/tpy3/lib/python3.6/site-packages/tqdm/autonotebook/__init__.py:14: TqdmExperimentalWarning: Using `tqdm.autonotebook.tqdm` in notebook mode. Use `tqdm.tqdm` instead to force console mode (e.g. in jupyter console)\n",
      "  \" (e.g. in jupyter console)\", TqdmExperimentalWarning)\n"
     ]
    }
   ],
   "source": [
    "import pandas as pd\n",
    "import numpy as np\n",
    "import matplotlib.pyplot as plt\n",
    "import pandas as pd\n",
    "from tqdm.autonotebook import tqdm"
   ]
  },
  {
   "cell_type": "code",
   "execution_count": 4,
   "metadata": {
    "ExecuteTime": {
     "end_time": "2020-01-10T00:48:11.862596Z",
     "start_time": "2020-01-10T00:48:11.673665Z"
    }
   },
   "outputs": [
    {
     "data": {
      "text/plain": [
       "2785"
      ]
     },
     "execution_count": 4,
     "metadata": {},
     "output_type": "execute_result"
    }
   ],
   "source": [
    "transcript_df = pd.read_pickle(CHILDES_DFS/'childes_df_subset.pickle')\n",
    "#transcript_df['dataset'] = [i[0].split('/')[11] for i in transcript_df.transcript_xml.values]\n",
    "len(transcript_df)"
   ]
  },
  {
   "cell_type": "code",
   "execution_count": 5,
   "metadata": {
    "ExecuteTime": {
     "end_time": "2020-01-10T00:48:11.865411Z",
     "start_time": "2020-01-10T00:48:10.643Z"
    }
   },
   "outputs": [],
   "source": [
    "# mask for only a subset of corpuses\n",
    "possible_corpuses = [\n",
    "    # carterette is also transcribed in IPA\n",
    "    \"Carterette\",  # 1st, 3rd, 5th grade, adults, speech naturalistic speech in IPA https://childes.talkbank.org/access/Eng-NA/Carterette.html\n",
    "    \"Gillam\",  # normal subset, spontaneous storytelling 5-11y11m https://childes.talkbank.org/access/Clinical-MOR/Gillam.html\n",
    "    \"Braunwald\",  # single subject from 1-6yo talking to family https://childes.talkbank.org/access/Eng-NA/Braunwald.html\n",
    "    \"Brown\",  # 1y6m-5y1m, 3 subjects naturalistic talking to parents https://childes.talkbank.org/access/Eng-NA/Brown.html\n",
    "    \"EllisWeismer\",  # 2y6m - 5y6 naturalistic play-oriented talk with instructor # https://childes.talkbank.org/access/Clinical-MOR/EllisWeismer.html\n",
    "    \"Gleason\",  # 2;1 - 5;2 family interactions https://childes.talkbank.org/access/Eng-NA/Gleason.html\n",
    "    \"NH\",# Nicholas-NH,  # 1;0-4;0, videotaped play with parent https://childes.talkbank.org/access/Clinical-MOR/Nicholas/NH.html\n",
    "    \"Post\",  # 1;7-2;8 60m session with family and toys https://childes.talkbank.org/access/Eng-NA/Post.html\n",
    "    \"Normal\",  #  Rondal-Normal 3-12yo free play with mother and child https://childes.talkbank.org/access/Clinical-MOR/Normal /Normal.html\n",
    "]\n",
    "corpus_mask = [corpus in possible_corpuses for corpus in transcript_df.corpus.values]\n",
    "transcript_df = transcript_df[corpus_mask]"
   ]
  },
  {
   "cell_type": "code",
   "execution_count": 6,
   "metadata": {
    "ExecuteTime": {
     "end_time": "2020-01-10T00:48:11.867054Z",
     "start_time": "2020-01-10T00:48:10.779Z"
    }
   },
   "outputs": [
    {
     "data": {
      "text/plain": [
       "2785"
      ]
     },
     "execution_count": 6,
     "metadata": {},
     "output_type": "execute_result"
    }
   ],
   "source": [
    "# mask for a subset of roles\n",
    "possible_roles = ['Target_Child', 'Child']\n",
    "role_mask = [role in possible_roles for role in transcript_df.role.values]\n",
    "transcript_df = transcript_df[role_mask]\n",
    "len(transcript_df)"
   ]
  },
  {
   "cell_type": "code",
   "execution_count": 7,
   "metadata": {
    "ExecuteTime": {
     "end_time": "2020-01-10T00:48:11.868534Z",
     "start_time": "2020-01-10T00:48:10.924Z"
    }
   },
   "outputs": [],
   "source": [
    "#transcript_df.to_pickle(CHILDES_DFS/'childes_df_subset.pickle')"
   ]
  },
  {
   "cell_type": "code",
   "execution_count": 8,
   "metadata": {
    "ExecuteTime": {
     "end_time": "2020-01-10T00:48:11.869842Z",
     "start_time": "2020-01-10T00:48:11.067Z"
    }
   },
   "outputs": [
    {
     "data": {
      "text/html": [
       "<div>\n",
       "<style scoped>\n",
       "    .dataframe tbody tr th:only-of-type {\n",
       "        vertical-align: middle;\n",
       "    }\n",
       "\n",
       "    .dataframe tbody tr th {\n",
       "        vertical-align: top;\n",
       "    }\n",
       "\n",
       "    .dataframe thead th {\n",
       "        text-align: right;\n",
       "    }\n",
       "</style>\n",
       "<table border=\"1\" class=\"dataframe\">\n",
       "  <thead>\n",
       "    <tr style=\"text-align: right;\">\n",
       "      <th></th>\n",
       "      <th>PID</th>\n",
       "      <th>lang</th>\n",
       "      <th>corpus</th>\n",
       "      <th>date</th>\n",
       "      <th>participant_key</th>\n",
       "      <th>role</th>\n",
       "      <th>age</th>\n",
       "      <th>language</th>\n",
       "      <th>sex</th>\n",
       "      <th>POS</th>\n",
       "      <th>words</th>\n",
       "      <th>morphemes</th>\n",
       "      <th>transcript_xml</th>\n",
       "      <th>n_words</th>\n",
       "      <th>n_morphemes</th>\n",
       "      <th>n_POS</th>\n",
       "      <th>age_months</th>\n",
       "      <th>age_years</th>\n",
       "    </tr>\n",
       "  </thead>\n",
       "  <tbody>\n",
       "    <tr>\n",
       "      <th>72301</th>\n",
       "      <td>11312/c-00015848-1</td>\n",
       "      <td>eng</td>\n",
       "      <td>Carterette</td>\n",
       "      <td>1984-01-01</td>\n",
       "      <td>CHI</td>\n",
       "      <td>Target_Child</td>\n",
       "      <td>P6Y</td>\n",
       "      <td>eng</td>\n",
       "      <td>NaN</td>\n",
       "      <td>[[pro:per, v, , , conj, n:prop, coord, pro:ind...</td>\n",
       "      <td>[[you, mean, uh, um, like, England, or, someth...</td>\n",
       "      <td>[[you, mean, uh, um, like, England, or, someth...</td>\n",
       "      <td>[/mnt/cube/tsainbur/Projects/github_repos/chil...</td>\n",
       "      <td>19903</td>\n",
       "      <td>2102</td>\n",
       "      <td>2102</td>\n",
       "      <td>72.0</td>\n",
       "      <td>6.0</td>\n",
       "    </tr>\n",
       "    <tr>\n",
       "      <th>72302</th>\n",
       "      <td>11312/c-00015847-1</td>\n",
       "      <td>eng</td>\n",
       "      <td>Carterette</td>\n",
       "      <td>1984-01-01</td>\n",
       "      <td>CHI</td>\n",
       "      <td>Target_Child</td>\n",
       "      <td>P10Y</td>\n",
       "      <td>eng</td>\n",
       "      <td>NaN</td>\n",
       "      <td>[[co, , pro:sub, v, , det:num, n], [coord, , p...</td>\n",
       "      <td>[[well, um, I, have, uh, one, sister], [and, u...</td>\n",
       "      <td>[[well, um, I, have, uh, one, sister], [and, u...</td>\n",
       "      <td>[/mnt/cube/tsainbur/Projects/github_repos/chil...</td>\n",
       "      <td>26941</td>\n",
       "      <td>2729</td>\n",
       "      <td>2729</td>\n",
       "      <td>120.0</td>\n",
       "      <td>10.0</td>\n",
       "    </tr>\n",
       "    <tr>\n",
       "      <th>72303</th>\n",
       "      <td>11312/c-00015849-1</td>\n",
       "      <td>eng</td>\n",
       "      <td>Carterette</td>\n",
       "      <td>1984-01-01</td>\n",
       "      <td>CHI</td>\n",
       "      <td>Target_Child</td>\n",
       "      <td>P8Y</td>\n",
       "      <td>eng</td>\n",
       "      <td>NaN</td>\n",
       "      <td>[[v, n, n], [co, n:prop, v, prep, det:art, n, ...</td>\n",
       "      <td>[[lets, watch, tv], [well, Nancy, said, for, t...</td>\n",
       "      <td>[[let-3S, watch, tv], [well, Nancy, say-PAST, ...</td>\n",
       "      <td>[/mnt/cube/tsainbur/Projects/github_repos/chil...</td>\n",
       "      <td>21419</td>\n",
       "      <td>2019</td>\n",
       "      <td>2019</td>\n",
       "      <td>96.0</td>\n",
       "      <td>8.0</td>\n",
       "    </tr>\n",
       "  </tbody>\n",
       "</table>\n",
       "</div>"
      ],
      "text/plain": [
       "                      PID lang      corpus        date participant_key  \\\n",
       "72301  11312/c-00015848-1  eng  Carterette  1984-01-01             CHI   \n",
       "72302  11312/c-00015847-1  eng  Carterette  1984-01-01             CHI   \n",
       "72303  11312/c-00015849-1  eng  Carterette  1984-01-01             CHI   \n",
       "\n",
       "               role   age language  sex  \\\n",
       "72301  Target_Child   P6Y      eng  NaN   \n",
       "72302  Target_Child  P10Y      eng  NaN   \n",
       "72303  Target_Child   P8Y      eng  NaN   \n",
       "\n",
       "                                                     POS  \\\n",
       "72301  [[pro:per, v, , , conj, n:prop, coord, pro:ind...   \n",
       "72302  [[co, , pro:sub, v, , det:num, n], [coord, , p...   \n",
       "72303  [[v, n, n], [co, n:prop, v, prep, det:art, n, ...   \n",
       "\n",
       "                                                   words  \\\n",
       "72301  [[you, mean, uh, um, like, England, or, someth...   \n",
       "72302  [[well, um, I, have, uh, one, sister], [and, u...   \n",
       "72303  [[lets, watch, tv], [well, Nancy, said, for, t...   \n",
       "\n",
       "                                               morphemes  \\\n",
       "72301  [[you, mean, uh, um, like, England, or, someth...   \n",
       "72302  [[well, um, I, have, uh, one, sister], [and, u...   \n",
       "72303  [[let-3S, watch, tv], [well, Nancy, say-PAST, ...   \n",
       "\n",
       "                                          transcript_xml  n_words  \\\n",
       "72301  [/mnt/cube/tsainbur/Projects/github_repos/chil...    19903   \n",
       "72302  [/mnt/cube/tsainbur/Projects/github_repos/chil...    26941   \n",
       "72303  [/mnt/cube/tsainbur/Projects/github_repos/chil...    21419   \n",
       "\n",
       "       n_morphemes  n_POS  age_months  age_years  \n",
       "72301         2102   2102        72.0        6.0  \n",
       "72302         2729   2729       120.0       10.0  \n",
       "72303         2019   2019        96.0        8.0  "
      ]
     },
     "execution_count": 8,
     "metadata": {},
     "output_type": "execute_result"
    }
   ],
   "source": [
    "transcript_df[:3]"
   ]
  },
  {
   "cell_type": "code",
   "execution_count": 9,
   "metadata": {
    "ExecuteTime": {
     "end_time": "2020-01-10T00:48:11.871218Z",
     "start_time": "2020-01-10T00:48:11.211Z"
    }
   },
   "outputs": [
    {
     "data": {
      "text/plain": [
       "PID                                               11312/c-00015848-1\n",
       "lang                                                             eng\n",
       "corpus                                                    Carterette\n",
       "date                                                      1984-01-01\n",
       "participant_key                                                  CHI\n",
       "role                                                    Target_Child\n",
       "age                                                              P6Y\n",
       "language                                                         eng\n",
       "sex                                                              NaN\n",
       "POS                [[pro:per, v, , , conj, n:prop, coord, pro:ind...\n",
       "words              [[you, mean, uh, um, like, England, or, someth...\n",
       "morphemes          [[you, mean, uh, um, like, England, or, someth...\n",
       "transcript_xml     [/mnt/cube/tsainbur/Projects/github_repos/chil...\n",
       "n_words                                                        19903\n",
       "n_morphemes                                                     2102\n",
       "n_POS                                                           2102\n",
       "age_months                                                        72\n",
       "age_years                                                          6\n",
       "Name: 72301, dtype: object"
      ]
     },
     "execution_count": 9,
     "metadata": {},
     "output_type": "execute_result"
    }
   ],
   "source": [
    "transcript_df.iloc[0]"
   ]
  },
  {
   "cell_type": "code",
   "execution_count": 10,
   "metadata": {
    "ExecuteTime": {
     "end_time": "2020-01-10T00:48:11.872702Z",
     "start_time": "2020-01-10T00:48:11.354Z"
    }
   },
   "outputs": [],
   "source": [
    "transcript_df['n_words'] = [len(np.concatenate(i)) if len(i) > 0 else 0 for i in transcript_df.words.values]"
   ]
  },
  {
   "cell_type": "code",
   "execution_count": 11,
   "metadata": {
    "ExecuteTime": {
     "end_time": "2020-01-10T00:48:12.430900Z",
     "start_time": "2020-01-10T00:48:12.415647Z"
    }
   },
   "outputs": [
    {
     "name": "stdout",
     "output_type": "stream",
     "text": [
      "['Carterette' 'Brown' 'Braunwald' 'Post' 'Gleason' 'Normal' 'Gillam'\n",
      " 'EllisWeismer' 'NH']\n"
     ]
    }
   ],
   "source": [
    "print(transcript_df.corpus.unique())"
   ]
  },
  {
   "cell_type": "code",
   "execution_count": 12,
   "metadata": {
    "ExecuteTime": {
     "end_time": "2020-01-10T00:48:12.584313Z",
     "start_time": "2020-01-10T00:48:12.569079Z"
    }
   },
   "outputs": [
    {
     "name": "stdout",
     "output_type": "stream",
     "text": [
      "there are 1247296 words in this dataset\n"
     ]
    }
   ],
   "source": [
    "print(\"there are {} words in this dataset\".format(np.sum(transcript_df.n_words.values)))"
   ]
  },
  {
   "cell_type": "markdown",
   "metadata": {},
   "source": [
    "### Get child ages"
   ]
  },
  {
   "cell_type": "code",
   "execution_count": 13,
   "metadata": {
    "ExecuteTime": {
     "end_time": "2020-01-10T00:44:48.948412Z",
     "start_time": "2020-01-10T00:44:48.874363Z"
    }
   },
   "outputs": [],
   "source": [
    "import re\n",
    "def convert_age(age_year):\n",
    "    \"Caclculate age in months from a string in CHILDES format\"\n",
    "    if age_year[-1] == 'Y':\n",
    "        age_year += '0'\n",
    "    m = re.match(\"P(\\d+)Y(\\d+)M?(\\d?\\d?)D?\", age_year)\n",
    "    age_month = int(m.group(1)) * 12 + int(m.group(2))\n",
    "    try:\n",
    "        if int(m.group(3)) > 15:\n",
    "            age_month += 1\n",
    "    # some corpora don't have age information?\n",
    "    except ValueError as e:\n",
    "        pass\n",
    "    return age_month"
   ]
  },
  {
   "cell_type": "code",
   "execution_count": 14,
   "metadata": {
    "ExecuteTime": {
     "end_time": "2020-01-10T00:44:49.118748Z",
     "start_time": "2020-01-10T00:44:48.950403Z"
    }
   },
   "outputs": [
    {
     "data": {
      "application/vnd.jupyter.widget-view+json": {
       "model_id": "e9005bd370574c608e8b0e69cb63be2f",
       "version_major": 2,
       "version_minor": 0
      },
      "text/plain": [
       "HBox(children=(IntProgress(value=0, max=2785), HTML(value='')))"
      ]
     },
     "metadata": {},
     "output_type": "display_data"
    },
    {
     "name": "stdout",
     "output_type": "stream",
     "text": [
      "\n"
     ]
    }
   ],
   "source": [
    "transcript_df[\"age_months\"] = [\n",
    "    convert_age(i) if type(i) == str else np.nan for i in tqdm(transcript_df.age.values)\n",
    "]"
   ]
  },
  {
   "cell_type": "code",
   "execution_count": 15,
   "metadata": {
    "ExecuteTime": {
     "end_time": "2020-01-10T00:44:49.163750Z",
     "start_time": "2020-01-10T00:44:49.121817Z"
    }
   },
   "outputs": [],
   "source": [
    "transcript_df[\"age_years\"] = transcript_df[\"age_months\"] / 12"
   ]
  },
  {
   "cell_type": "markdown",
   "metadata": {},
   "source": [
    "### Sentence lengths"
   ]
  },
  {
   "cell_type": "markdown",
   "metadata": {},
   "source": [
    "### dataset statistics"
   ]
  },
  {
   "cell_type": "code",
   "execution_count": 16,
   "metadata": {
    "ExecuteTime": {
     "end_time": "2020-01-10T00:44:51.025214Z",
     "start_time": "2020-01-10T00:44:50.987463Z"
    }
   },
   "outputs": [],
   "source": [
    "age_cohorts = [[1, 1.5], [1.5, 2], [2, 2.5], [2.5, 3], [3, 20]]"
   ]
  },
  {
   "cell_type": "code",
   "execution_count": 17,
   "metadata": {
    "ExecuteTime": {
     "end_time": "2020-01-10T00:44:55.892312Z",
     "start_time": "2020-01-10T00:44:51.342424Z"
    },
    "scrolled": false
   },
   "outputs": [
    {
     "data": {
      "application/vnd.jupyter.widget-view+json": {
       "model_id": "e2f73b99d7124a66aaa2e9a9689cdcb1",
       "version_major": 2,
       "version_minor": 0
      },
      "text/plain": [
       "HBox(children=(IntProgress(value=0, max=5), HTML(value='')))"
      ]
     },
     "metadata": {},
     "output_type": "display_data"
    },
    {
     "name": "stdout",
     "output_type": "stream",
     "text": [
      "1 1.5 38.0 15154 1239\n",
      "1.5 2 98.0 57580 3199\n",
      "2 2.5 204.0 167722 5363\n",
      "2.5 3 121.5 110580 4995\n",
      "3 20 394.0 855307 14410\n",
      "\n"
     ]
    }
   ],
   "source": [
    "\n",
    "for (age_cohort_low, age_cohort_high) in tqdm(age_cohorts):\n",
    "    \n",
    "    cohort_subset = transcript_df[\n",
    "        (transcript_df.age_months/12 > age_cohort_low) & (transcript_df.age_months/12 <= age_cohort_high)\n",
    "    ]\n",
    "    \n",
    "    cohort_words = [[i for i in list(flatten(row.words)) if i not in [None, 'xxx']] for idx, row in cohort_subset.iterrows()]\n",
    "    \n",
    "    n_words = len(np.concatenate(cohort_words))\n",
    "    n_unique_words = len(np.unique(np.concatenate(cohort_words)))\n",
    "    \n",
    "    print(age_cohort_low, age_cohort_high, np.median([len(i) for i in cohort_words]), n_words, n_unique_words)\n",
    "    #plt.hist([len(i) for i in cohort_words])\n",
    "    #plt.show()"
   ]
  },
  {
   "cell_type": "markdown",
   "metadata": {},
   "source": [
    "## MI\n",
    "- for each sequence, calculate the decay of a sequence as a function of distance between elements for that sequence indiividually\n",
    "- Treat each phoneme as unique for that child, and compute MI across children"
   ]
  },
  {
   "cell_type": "code",
   "execution_count": 18,
   "metadata": {
    "ExecuteTime": {
     "end_time": "2020-01-10T00:44:56.448206Z",
     "start_time": "2020-01-10T00:44:55.895070Z"
    }
   },
   "outputs": [],
   "source": [
    "from childes_mi.information_theory import mutual_information as mi"
   ]
  },
  {
   "cell_type": "markdown",
   "metadata": {},
   "source": [
    "#### Run MI by age cohort"
   ]
  },
  {
   "cell_type": "code",
   "execution_count": 19,
   "metadata": {
    "ExecuteTime": {
     "end_time": "2020-01-10T00:44:57.672445Z",
     "start_time": "2020-01-10T00:44:57.613015Z"
    }
   },
   "outputs": [],
   "source": [
    "distances = np.arange(1,101)"
   ]
  },
  {
   "cell_type": "code",
   "execution_count": 20,
   "metadata": {
    "ExecuteTime": {
     "end_time": "2020-01-10T00:44:57.827377Z",
     "start_time": "2020-01-10T00:44:57.789803Z"
    }
   },
   "outputs": [],
   "source": [
    "def remove_repeats(sequence):\n",
    "    if len(sequence) == 0:\n",
    "        return sequence\n",
    "    a = np.array(sequence[1:])\n",
    "    b = np.array(sequence[:-1])\n",
    "    c = [sequence[0]] + list(a[a != b])\n",
    "    return c"
   ]
  },
  {
   "cell_type": "code",
   "execution_count": 21,
   "metadata": {
    "ExecuteTime": {
     "end_time": "2020-01-10T00:46:56.556929Z",
     "start_time": "2020-01-10T00:44:59.270563Z"
    },
    "scrolled": true
   },
   "outputs": [
    {
     "data": {
      "application/vnd.jupyter.widget-view+json": {
       "model_id": "3b3996be99774e52be76c2ae7f483a89",
       "version_major": 2,
       "version_minor": 0
      },
      "text/plain": [
       "HBox(children=(IntProgress(value=0, max=5), HTML(value='')))"
      ]
     },
     "metadata": {},
     "output_type": "display_data"
    },
    {
     "name": "stdout",
     "output_type": "stream",
     "text": [
      "['you', 'mean', 'uh', 'um', 'like']\n",
      "855307 14410\n"
     ]
    },
    {
     "data": {
      "application/vnd.jupyter.widget-view+json": {
       "model_id": "",
       "version_major": 2,
       "version_minor": 0
      },
      "text/plain": [
       "HBox(children=(IntProgress(value=0, max=50), HTML(value='')))"
      ]
     },
     "metadata": {},
     "output_type": "display_data"
    },
    {
     "name": "stderr",
     "output_type": "stream",
     "text": [
      "[Parallel(n_jobs=-1)]: Using backend ThreadingBackend with 32 concurrent workers.\n",
      "[Parallel(n_jobs=-1)]: Done   9 out of  50 | elapsed:   17.6s remaining:  1.3min\n",
      "[Parallel(n_jobs=-1)]: Done  20 out of  50 | elapsed:   23.5s remaining:   35.3s\n",
      "[Parallel(n_jobs=-1)]: Done  31 out of  50 | elapsed:   27.9s remaining:   17.1s\n",
      "[Parallel(n_jobs=-1)]: Done  42 out of  50 | elapsed:   38.3s remaining:    7.3s\n",
      "[Parallel(n_jobs=-1)]: Done  50 out of  50 | elapsed:   39.4s finished\n"
     ]
    },
    {
     "data": {
      "application/vnd.jupyter.widget-view+json": {
       "model_id": "",
       "version_major": 2,
       "version_minor": 0
      },
      "text/plain": [
       "HBox(children=(IntProgress(value=0, max=50), HTML(value='')))"
      ]
     },
     "metadata": {},
     "output_type": "display_data"
    },
    {
     "name": "stderr",
     "output_type": "stream",
     "text": [
      "[Parallel(n_jobs=-1)]: Using backend ThreadingBackend with 32 concurrent workers.\n",
      "[Parallel(n_jobs=-1)]: Done  20 out of  50 | elapsed:   40.6s remaining:  1.0min\n",
      "[Parallel(n_jobs=-1)]: Done  31 out of  50 | elapsed:   40.6s remaining:   24.9s\n",
      "[Parallel(n_jobs=-1)]: Done  42 out of  50 | elapsed:   40.6s remaining:    7.7s\n",
      "[Parallel(n_jobs=-1)]: Done  50 out of  50 | elapsed:   41.2s finished\n"
     ]
    },
    {
     "data": {
      "image/png": "[encoded data removed]",
      "text/plain": [
       "<Figure size 432x288 with 1 Axes>"
      ]
     },
     "metadata": {
      "needs_background": "light"
     },
     "output_type": "display_data"
    },
    {
     "name": "stdout",
     "output_type": "stream",
     "text": [
      "\n"
     ]
    }
   ],
   "source": [
    "mi_df = pd.DataFrame(\n",
    "    columns=[\n",
    "        \"MI\",\n",
    "        \"MI_var\",\n",
    "        \"shuff_MI\",\n",
    "        \"shuff_MI_var\",\n",
    "        \"distances\",\n",
    "        \"age_cohort_low\",\n",
    "        \"age_cohort_high\",\n",
    "        \"n_words\",\n",
    "        \"n_unique_words\",\n",
    "        \"top_10_words\",\n",
    "        \"shuffling\"\n",
    "    ]\n",
    ")\n",
    "# for each age cohort\n",
    "for (age_cohort_low, age_cohort_high) in tqdm(age_cohorts):\n",
    "    \n",
    "    if age_cohort_low != 3: \n",
    "        continue\n",
    "        \n",
    "    cohort_subset = transcript_df[\n",
    "        (transcript_df.age_months / 12 > age_cohort_low)\n",
    "        & (transcript_df.age_months / 12 <= age_cohort_high)\n",
    "    ]\n",
    "\n",
    "    # cohort_words = [[row.PID + \"_\" + i for i in list(flatten(row.words)) if i not in [None, 'xxx']] for idx, row in cohort_subset.iterrows()]\n",
    "    cohort_words = [\n",
    "        [i for i in list(flatten(row.words)) if i not in [None, \"xxx\"]]\n",
    "        for idx, row in cohort_subset.iterrows()\n",
    "    ]\n",
    "    cwl = np.array([len(i) for i in cohort_words])\n",
    "    \n",
    "    print(cohort_words[0][:5])\n",
    "\n",
    "    n_words = len(np.concatenate(cohort_words))\n",
    "    n_unique_words = len(np.unique(np.concatenate(cohort_words)))\n",
    "    print(n_words, n_unique_words)\n",
    "    # make each phone symbol specific to the transcript\n",
    "    #for transcript_i, (idx, row) in enumerate(cohort_subset.iterrows()):\n",
    "    #    cohort_words[transcript_i] = [str(transcript_i) + i for i in cohort_words[transcript_i]]\n",
    "\n",
    "    n_unique_words = 0\n",
    "    top_10_words = 0\n",
    "    \n",
    "    \n",
    "    median_n_words = int(np.median([len(i) for i in cohort_words]))\n",
    "    #distances = np.arange(1, np.max([100, median_n_words]) + 1, 5)\n",
    "    distances = np.arange(1, 250 + 1, 5)\n",
    "    \n",
    "    (MI, MI_var), (shuff_MI, shuff_MI_var) = mi.sequential_mutual_information(\n",
    "        cohort_words, distances=distances, n_jobs=-1, estimate=True\n",
    "    )\n",
    "    plt.loglog(distances, MI - shuff_MI)\n",
    "    plt.show()\n",
    "\n",
    "    mi_df.loc[len(mi_df)] = [\n",
    "        MI,\n",
    "        MI_var,\n",
    "        shuff_MI,\n",
    "        shuff_MI_var,\n",
    "        distances,\n",
    "        age_cohort_low,\n",
    "        age_cohort_high,\n",
    "        n_words,\n",
    "        n_unique_words,\n",
    "        top_10_words,\n",
    "        \"full\"\n",
    "    ]\n",
    "    \n",
    "  "
   ]
  },
  {
   "cell_type": "code",
   "execution_count": 22,
   "metadata": {
    "ExecuteTime": {
     "start_time": "2020-01-10T00:47:59.005Z"
    }
   },
   "outputs": [
    {
     "data": {
      "image/png": "[encoded data removed]",
      "text/plain": [
       "<Figure size 432x288 with 1 Axes>"
      ]
     },
     "metadata": {
      "needs_background": "light"
     },
     "output_type": "display_data"
    }
   ],
   "source": [
    "plt.hist(cwl, bins = 100);"
   ]
  },
  {
   "cell_type": "code",
   "execution_count": 23,
   "metadata": {
    "ExecuteTime": {
     "end_time": "2020-01-10T00:47:19.208192Z",
     "start_time": "2020-01-10T00:47:18.650029Z"
    }
   },
   "outputs": [
    {
     "data": {
      "text/plain": [
       "[<matplotlib.lines.Line2D at 0x7f4138687b00>]"
      ]
     },
     "execution_count": 23,
     "metadata": {},
     "output_type": "execute_result"
    },
    {
     "data": {
      "image/png": "[encoded data removed]",
      "text/plain": [
       "<Figure size 432x288 with 1 Axes>"
      ]
     },
     "metadata": {
      "needs_background": "light"
     },
     "output_type": "display_data"
    }
   ],
   "source": [
    "plt.plot(distances, MI)\n",
    "plt.plot(distances, shuff_MI)"
   ]
  },
  {
   "cell_type": "code",
   "execution_count": 24,
   "metadata": {
    "ExecuteTime": {
     "end_time": "2020-01-10T00:47:23.331911Z",
     "start_time": "2020-01-10T00:47:22.487589Z"
    }
   },
   "outputs": [
    {
     "data": {
      "text/plain": [
       "<matplotlib.collections.PathCollection at 0x7f4165b07ef0>"
      ]
     },
     "execution_count": 24,
     "metadata": {},
     "output_type": "execute_result"
    },
    {
     "data": {
      "image/png": "[encoded data removed]",
      "text/plain": [
       "<Figure size 432x288 with 1 Axes>"
      ]
     },
     "metadata": {
      "needs_background": "light"
     },
     "output_type": "display_data"
    }
   ],
   "source": [
    "plt.loglog(distances, MI - shuff_MI, alpha = 0)\n",
    "plt.scatter(distances, MI - shuff_MI)"
   ]
  },
  {
   "cell_type": "code",
   "execution_count": 47,
   "metadata": {
    "ExecuteTime": {
     "end_time": "2020-01-10T00:46:56.556929Z",
     "start_time": "2020-01-10T00:44:59.270563Z"
    },
    "scrolled": true
   },
   "outputs": [
    {
     "data": {
      "application/vnd.jupyter.widget-view+json": {
       "model_id": "6ffedbab3990429bb29aaa2f36c9eb2a",
       "version_major": 2,
       "version_minor": 0
      },
      "text/plain": [
       "HBox(children=(IntProgress(value=0, max=5), HTML(value='')))"
      ]
     },
     "metadata": {},
     "output_type": "display_data"
    },
    {
     "name": "stdout",
     "output_type": "stream",
     "text": [
      "1434 135\n",
      "['you', 'mean', 'uh', 'um', 'like']\n",
      "334404 8756\n"
     ]
    },
    {
     "data": {
      "application/vnd.jupyter.widget-view+json": {
       "model_id": "",
       "version_major": 2,
       "version_minor": 0
      },
      "text/plain": [
       "HBox(children=(IntProgress(value=0, max=200), HTML(value='')))"
      ]
     },
     "metadata": {},
     "output_type": "display_data"
    },
    {
     "name": "stderr",
     "output_type": "stream",
     "text": [
      "[Parallel(n_jobs=-1)]: Using backend ThreadingBackend with 32 concurrent workers.\n",
      "[Parallel(n_jobs=-1)]: Done   8 tasks      | elapsed:   13.2s\n",
      "[Parallel(n_jobs=-1)]: Done  98 tasks      | elapsed:   44.7s\n",
      "[Parallel(n_jobs=-1)]: Done 178 out of 200 | elapsed:  1.3min remaining:    9.7s\n",
      "[Parallel(n_jobs=-1)]: Done 200 out of 200 | elapsed:  1.4min finished\n"
     ]
    },
    {
     "data": {
      "application/vnd.jupyter.widget-view+json": {
       "model_id": "",
       "version_major": 2,
       "version_minor": 0
      },
      "text/plain": [
       "HBox(children=(IntProgress(value=0, max=200), HTML(value='')))"
      ]
     },
     "metadata": {},
     "output_type": "display_data"
    },
    {
     "name": "stderr",
     "output_type": "stream",
     "text": [
      "[Parallel(n_jobs=-1)]: Using backend ThreadingBackend with 32 concurrent workers.\n",
      "[Parallel(n_jobs=-1)]: Done   2 tasks      | elapsed:    6.0s\n",
      "[Parallel(n_jobs=-1)]: Done  98 tasks      | elapsed:  1.1min\n",
      "[Parallel(n_jobs=-1)]: Done 178 out of 200 | elapsed:  1.3min remaining:    9.5s\n",
      "[Parallel(n_jobs=-1)]: Done 200 out of 200 | elapsed:  1.3min finished\n"
     ]
    },
    {
     "data": {
      "image/png": "[encoded data removed]",
      "text/plain": [
       "<Figure size 432x288 with 1 Axes>"
      ]
     },
     "metadata": {
      "needs_background": "light"
     },
     "output_type": "display_data"
    }
   ],
   "source": [
    "mi_df = pd.DataFrame(\n",
    "    columns=[\n",
    "        \"MI\",\n",
    "        \"MI_var\",\n",
    "        \"shuff_MI\",\n",
    "        \"shuff_MI_var\",\n",
    "        \"distances\",\n",
    "        \"age_cohort_low\",\n",
    "        \"age_cohort_high\",\n",
    "        \"n_words\",\n",
    "        \"n_unique_words\",\n",
    "        \"top_10_words\",\n",
    "        \"shuffling\"\n",
    "    ]\n",
    ")\n",
    "# for each age cohort\n",
    "for (age_cohort_low, age_cohort_high) in tqdm(age_cohorts):\n",
    "    \n",
    "    if age_cohort_low != 3: \n",
    "        continue\n",
    "        \n",
    "    cohort_subset = transcript_df[\n",
    "        (transcript_df.age_months / 12 > age_cohort_low)\n",
    "        & (transcript_df.age_months / 12 <= age_cohort_high)\n",
    "    ]\n",
    "\n",
    "    # cohort_words = [[row.PID + \"_\" + i for i in list(flatten(row.words)) if i not in [None, 'xxx']] for idx, row in cohort_subset.iterrows()]\n",
    "    cohort_words = [\n",
    "        [i for i in list(flatten(row.words)) if i not in [None, \"xxx\"]]\n",
    "        for idx, row in cohort_subset.iterrows()\n",
    "    ]\n",
    "    cwl = np.array([len(i) for i in cohort_words])\n",
    "    \n",
    "    cohort_words = [i for i in cohort_words if len(i) > 1000]\n",
    "    print(len(cwl), len(cohort_words))\n",
    "    print(cohort_words[0][:5])\n",
    "\n",
    "    n_words = len(np.concatenate(cohort_words))\n",
    "    n_unique_words = len(np.unique(np.concatenate(cohort_words)))\n",
    "    print(n_words, n_unique_words)\n",
    "    # make each phone symbol specific to the transcript\n",
    "    #for transcript_i, (idx, row) in enumerate(cohort_subset.iterrows()):\n",
    "    #    cohort_words[transcript_i] = [str(transcript_i) + i for i in cohort_words[transcript_i]]\n",
    "\n",
    "    n_unique_words = 0\n",
    "    top_10_words = 0\n",
    "    \n",
    "    \n",
    "    median_n_words = int(np.median([len(i) for i in cohort_words]))\n",
    "    #distances = np.arange(1, np.max([100, median_n_words]) + 1, 5)\n",
    "    distances = np.arange(1, 1000 + 1, 5)\n",
    "    \n",
    "    (MI, MI_var), (shuff_MI, shuff_MI_var) = mi.sequential_mutual_information(\n",
    "        cohort_words, distances=distances, n_jobs=-1, estimate=True\n",
    "    )\n",
    "    plt.loglog(distances, MI - shuff_MI)\n",
    "    plt.show()\n",
    "\n",
    "    mi_df.loc[len(mi_df)] = [\n",
    "        MI,\n",
    "        MI_var,\n",
    "        shuff_MI,\n",
    "        shuff_MI_var,\n",
    "        distances,\n",
    "        age_cohort_low,\n",
    "        age_cohort_high,\n",
    "        n_words,\n",
    "        n_unique_words,\n",
    "        top_10_words,\n",
    "        \"full\"\n",
    "    ]\n",
    "    \n",
    "  "
   ]
  },
  {
   "cell_type": "code",
   "execution_count": 29,
   "metadata": {},
   "outputs": [
    {
     "data": {
      "text/plain": [
       "135"
      ]
     },
     "execution_count": 29,
     "metadata": {},
     "output_type": "execute_result"
    }
   ],
   "source": [
    "len(cohott_words)"
   ]
  },
  {
   "cell_type": "code",
   "execution_count": 30,
   "metadata": {
    "ExecuteTime": {
     "end_time": "2020-01-10T00:47:19.208192Z",
     "start_time": "2020-01-10T00:47:18.650029Z"
    }
   },
   "outputs": [
    {
     "data": {
      "text/plain": [
       "[<matplotlib.lines.Line2D at 0x7f41657cbb00>]"
      ]
     },
     "execution_count": 30,
     "metadata": {},
     "output_type": "execute_result"
    },
    {
     "data": {
      "image/png": "[encoded data removed]",
      "text/plain": [
       "<Figure size 432x288 with 1 Axes>"
      ]
     },
     "metadata": {
      "needs_background": "light"
     },
     "output_type": "display_data"
    }
   ],
   "source": [
    "plt.plot(distances, MI)\n",
    "plt.plot(distances, shuff_MI)"
   ]
  },
  {
   "cell_type": "code",
   "execution_count": 23,
   "metadata": {
    "ExecuteTime": {
     "end_time": "2020-01-10T00:47:23.331911Z",
     "start_time": "2020-01-10T00:47:22.487589Z"
    }
   },
   "outputs": [
    {
     "data": {
      "text/plain": [
       "<matplotlib.collections.PathCollection at 0x7f56603f0550>"
      ]
     },
     "execution_count": 23,
     "metadata": {},
     "output_type": "execute_result"
    },
    {
     "data": {
      "image/png": "[encoded data removed]",
      "text/plain": [
       "<Figure size 432x288 with 1 Axes>"
      ]
     },
     "metadata": {
      "needs_background": "light"
     },
     "output_type": "display_data"
    }
   ],
   "source": [
    "plt.loglog(distances, MI - shuff_MI, alpha = 0)\n",
    "plt.scatter(distances, MI - shuff_MI)"
   ]
  },
  {
   "cell_type": "code",
   "execution_count": 31,
   "metadata": {
    "ExecuteTime": {
     "end_time": "2020-01-10T00:46:56.556929Z",
     "start_time": "2020-01-10T00:44:59.270563Z"
    },
    "scrolled": true
   },
   "outputs": [
    {
     "data": {
      "application/vnd.jupyter.widget-view+json": {
       "model_id": "6a611a9e2bbb4d3dba25e9c35b3fee64",
       "version_major": 2,
       "version_minor": 0
      },
      "text/plain": [
       "HBox(children=(IntProgress(value=0, max=5), HTML(value='')))"
      ]
     },
     "metadata": {},
     "output_type": "display_data"
    },
    {
     "name": "stdout",
     "output_type": "stream",
     "text": [
      "1434 1289\n",
      "['you', 'mean', 'uh', 'um', 'like']\n",
      "847354 14290\n"
     ]
    },
    {
     "data": {
      "application/vnd.jupyter.widget-view+json": {
       "model_id": "",
       "version_major": 2,
       "version_minor": 0
      },
      "text/plain": [
       "HBox(children=(IntProgress(value=0, max=50), HTML(value='')))"
      ]
     },
     "metadata": {},
     "output_type": "display_data"
    },
    {
     "name": "stderr",
     "output_type": "stream",
     "text": [
      "[Parallel(n_jobs=-1)]: Using backend ThreadingBackend with 32 concurrent workers.\n",
      "[Parallel(n_jobs=-1)]: Done   9 out of  50 | elapsed:   23.3s remaining:  1.8min\n",
      "[Parallel(n_jobs=-1)]: Done  20 out of  50 | elapsed:   25.6s remaining:   38.4s\n",
      "[Parallel(n_jobs=-1)]: Done  31 out of  50 | elapsed:   27.2s remaining:   16.7s\n",
      "[Parallel(n_jobs=-1)]: Done  42 out of  50 | elapsed:   39.8s remaining:    7.6s\n",
      "[Parallel(n_jobs=-1)]: Done  50 out of  50 | elapsed:   40.3s finished\n"
     ]
    },
    {
     "data": {
      "application/vnd.jupyter.widget-view+json": {
       "model_id": "",
       "version_major": 2,
       "version_minor": 0
      },
      "text/plain": [
       "HBox(children=(IntProgress(value=0, max=50), HTML(value='')))"
      ]
     },
     "metadata": {},
     "output_type": "display_data"
    },
    {
     "name": "stderr",
     "output_type": "stream",
     "text": [
      "[Parallel(n_jobs=-1)]: Using backend ThreadingBackend with 32 concurrent workers.\n",
      "[Parallel(n_jobs=-1)]: Done   4 tasks      | elapsed:   10.2s\n",
      "[Parallel(n_jobs=-1)]: Done  20 out of  50 | elapsed:   38.3s remaining:   57.4s\n",
      "[Parallel(n_jobs=-1)]: Done  31 out of  50 | elapsed:   38.3s remaining:   23.5s\n",
      "[Parallel(n_jobs=-1)]: Done  42 out of  50 | elapsed:   38.3s remaining:    7.3s\n",
      "[Parallel(n_jobs=-1)]: Done  50 out of  50 | elapsed:   39.3s finished\n"
     ]
    },
    {
     "data": {
      "image/png": "[encoded data removed]",
      "text/plain": [
       "<Figure size 432x288 with 1 Axes>"
      ]
     },
     "metadata": {
      "needs_background": "light"
     },
     "output_type": "display_data"
    }
   ],
   "source": [
    "mi_df = pd.DataFrame(\n",
    "    columns=[\n",
    "        \"MI\",\n",
    "        \"MI_var\",\n",
    "        \"shuff_MI\",\n",
    "        \"shuff_MI_var\",\n",
    "        \"distances\",\n",
    "        \"age_cohort_low\",\n",
    "        \"age_cohort_high\",\n",
    "        \"n_words\",\n",
    "        \"n_unique_words\",\n",
    "        \"top_10_words\",\n",
    "        \"shuffling\"\n",
    "    ]\n",
    ")\n",
    "# for each age cohort\n",
    "for (age_cohort_low, age_cohort_high) in tqdm(age_cohorts):\n",
    "    \n",
    "    if age_cohort_low != 3: \n",
    "        continue\n",
    "        \n",
    "    cohort_subset = transcript_df[\n",
    "        (transcript_df.age_months / 12 > age_cohort_low)\n",
    "        & (transcript_df.age_months / 12 <= age_cohort_high)\n",
    "    ]\n",
    "\n",
    "    # cohort_words = [[row.PID + \"_\" + i for i in list(flatten(row.words)) if i not in [None, 'xxx']] for idx, row in cohort_subset.iterrows()]\n",
    "    cohort_words = [\n",
    "        [i for i in list(flatten(row.words)) if i not in [None, \"xxx\"]]\n",
    "        for idx, row in cohort_subset.iterrows()\n",
    "    ]\n",
    "    cwl = np.array([len(i) for i in cohort_words])\n",
    "    \n",
    "    cohort_words = [i for i in cohort_words if len(i) > 100]\n",
    "    print(len(cwl), len(cohort_words))\n",
    "    print(cohort_words[0][:5])\n",
    "\n",
    "    n_words = len(np.concatenate(cohort_words))\n",
    "    n_unique_words = len(np.unique(np.concatenate(cohort_words)))\n",
    "    print(n_words, n_unique_words)\n",
    "    # make each phone symbol specific to the transcript\n",
    "    #for transcript_i, (idx, row) in enumerate(cohort_subset.iterrows()):\n",
    "    #    cohort_words[transcript_i] = [str(transcript_i) + i for i in cohort_words[transcript_i]]\n",
    "\n",
    "    n_unique_words = 0\n",
    "    top_10_words = 0\n",
    "    \n",
    "    \n",
    "    median_n_words = int(np.median([len(i) for i in cohort_words]))\n",
    "    #distances = np.arange(1, np.max([100, median_n_words]) + 1, 5)\n",
    "    distances = np.arange(1, 250 + 1, 5)\n",
    "    \n",
    "    (MI, MI_var), (shuff_MI, shuff_MI_var) = mi.sequential_mutual_information(\n",
    "        cohort_words, distances=distances, n_jobs=-1, estimate=True\n",
    "    )\n",
    "    plt.loglog(distances, MI - shuff_MI)\n",
    "    plt.show()\n",
    "\n",
    "    mi_df.loc[len(mi_df)] = [\n",
    "        MI,\n",
    "        MI_var,\n",
    "        shuff_MI,\n",
    "        shuff_MI_var,\n",
    "        distances,\n",
    "        age_cohort_low,\n",
    "        age_cohort_high,\n",
    "        n_words,\n",
    "        n_unique_words,\n",
    "        top_10_words,\n",
    "        \"full\"\n",
    "    ]\n",
    "    \n",
    "  "
   ]
  },
  {
   "cell_type": "code",
   "execution_count": 41,
   "metadata": {},
   "outputs": [
    {
     "data": {
      "text/plain": [
       "1289"
      ]
     },
     "execution_count": 41,
     "metadata": {},
     "output_type": "execute_result"
    }
   ],
   "source": [
    "len(cohort_words)"
   ]
  },
  {
   "cell_type": "code",
   "execution_count": 39,
   "metadata": {
    "ExecuteTime": {
     "end_time": "2020-01-10T00:47:19.208192Z",
     "start_time": "2020-01-10T00:47:18.650029Z"
    }
   },
   "outputs": [
    {
     "data": {
      "text/plain": [
       "[<matplotlib.lines.Line2D at 0x7f4165648b00>]"
      ]
     },
     "execution_count": 39,
     "metadata": {},
     "output_type": "execute_result"
    },
    {
     "data": {
      "image/png": "[encoded data removed]",
      "text/plain": [
       "<Figure size 432x288 with 1 Axes>"
      ]
     },
     "metadata": {
      "needs_background": "light"
     },
     "output_type": "display_data"
    }
   ],
   "source": [
    "plt.plot(distances, MI)\n",
    "plt.plot(distances, shuff_MI)"
   ]
  },
  {
   "cell_type": "code",
   "execution_count": 40,
   "metadata": {
    "ExecuteTime": {
     "end_time": "2020-01-10T00:47:23.331911Z",
     "start_time": "2020-01-10T00:47:22.487589Z"
    }
   },
   "outputs": [
    {
     "data": {
      "text/plain": [
       "<matplotlib.collections.PathCollection at 0x7f41655b2be0>"
      ]
     },
     "execution_count": 40,
     "metadata": {},
     "output_type": "execute_result"
    },
    {
     "data": {
      "image/png": "[encoded data removed]",
      "text/plain": [
       "<Figure size 432x288 with 1 Axes>"
      ]
     },
     "metadata": {
      "needs_background": "light"
     },
     "output_type": "display_data"
    }
   ],
   "source": [
    "plt.loglog(distances, MI - shuff_MI, alpha = 0)\n",
    "plt.scatter(distances, MI - shuff_MI)"
   ]
  },
  {
   "cell_type": "code",
   "execution_count": null,
   "metadata": {},
   "outputs": [],
   "source": []
  },
  {
   "cell_type": "code",
   "execution_count": 42,
   "metadata": {
    "ExecuteTime": {
     "end_time": "2020-01-10T00:46:56.556929Z",
     "start_time": "2020-01-10T00:44:59.270563Z"
    },
    "scrolled": true
   },
   "outputs": [
    {
     "data": {
      "application/vnd.jupyter.widget-view+json": {
       "model_id": "f327fed0a3c347c99d9afe1be96dcd00",
       "version_major": 2,
       "version_minor": 0
      },
      "text/plain": [
       "HBox(children=(IntProgress(value=0, max=5), HTML(value='')))"
      ]
     },
     "metadata": {},
     "output_type": "display_data"
    },
    {
     "name": "stdout",
     "output_type": "stream",
     "text": [
      "1434 890\n",
      "['banana', 'banana', 'big', 'fat', 'yyy']\n",
      "229589 5207\n"
     ]
    },
    {
     "data": {
      "application/vnd.jupyter.widget-view+json": {
       "model_id": "",
       "version_major": 2,
       "version_minor": 0
      },
      "text/plain": [
       "HBox(children=(IntProgress(value=0, max=50), HTML(value='')))"
      ]
     },
     "metadata": {},
     "output_type": "display_data"
    },
    {
     "name": "stderr",
     "output_type": "stream",
     "text": [
      "[Parallel(n_jobs=-1)]: Using backend ThreadingBackend with 32 concurrent workers.\n",
      "[Parallel(n_jobs=-1)]: Done   9 out of  50 | elapsed:    2.8s remaining:   13.0s\n",
      "[Parallel(n_jobs=-1)]: Done  20 out of  50 | elapsed:    5.6s remaining:    8.3s\n",
      "[Parallel(n_jobs=-1)]: Done  31 out of  50 | elapsed:    7.9s remaining:    4.8s\n",
      "[Parallel(n_jobs=-1)]: Done  42 out of  50 | elapsed:    9.4s remaining:    1.8s\n",
      "[Parallel(n_jobs=-1)]: Done  50 out of  50 | elapsed:    9.9s finished\n"
     ]
    },
    {
     "data": {
      "application/vnd.jupyter.widget-view+json": {
       "model_id": "",
       "version_major": 2,
       "version_minor": 0
      },
      "text/plain": [
       "HBox(children=(IntProgress(value=0, max=50), HTML(value='')))"
      ]
     },
     "metadata": {},
     "output_type": "display_data"
    },
    {
     "name": "stderr",
     "output_type": "stream",
     "text": [
      "[Parallel(n_jobs=-1)]: Using backend ThreadingBackend with 32 concurrent workers.\n",
      "[Parallel(n_jobs=-1)]: Done  20 out of  50 | elapsed:    8.8s remaining:   13.2s\n",
      "[Parallel(n_jobs=-1)]: Done  31 out of  50 | elapsed:    8.8s remaining:    5.4s\n",
      "[Parallel(n_jobs=-1)]: Done  42 out of  50 | elapsed:    8.8s remaining:    1.7s\n",
      "[Parallel(n_jobs=-1)]: Done  50 out of  50 | elapsed:    9.8s finished\n"
     ]
    },
    {
     "data": {
      "image/png": "[encoded data removed]",
      "text/plain": [
       "<Figure size 432x288 with 1 Axes>"
      ]
     },
     "metadata": {
      "needs_background": "light"
     },
     "output_type": "display_data"
    }
   ],
   "source": [
    "mi_df = pd.DataFrame(\n",
    "    columns=[\n",
    "        \"MI\",\n",
    "        \"MI_var\",\n",
    "        \"shuff_MI\",\n",
    "        \"shuff_MI_var\",\n",
    "        \"distances\",\n",
    "        \"age_cohort_low\",\n",
    "        \"age_cohort_high\",\n",
    "        \"n_words\",\n",
    "        \"n_unique_words\",\n",
    "        \"top_10_words\",\n",
    "        \"shuffling\"\n",
    "    ]\n",
    ")\n",
    "# for each age cohort\n",
    "for (age_cohort_low, age_cohort_high) in tqdm(age_cohorts):\n",
    "    \n",
    "    if age_cohort_low != 3: \n",
    "        continue\n",
    "        \n",
    "    cohort_subset = transcript_df[\n",
    "        (transcript_df.age_months / 12 > age_cohort_low)\n",
    "        & (transcript_df.age_months / 12 <= age_cohort_high)\n",
    "    ]\n",
    "\n",
    "    # cohort_words = [[row.PID + \"_\" + i for i in list(flatten(row.words)) if i not in [None, 'xxx']] for idx, row in cohort_subset.iterrows()]\n",
    "    cohort_words = [\n",
    "        [i for i in list(flatten(row.words)) if i not in [None, \"xxx\"]]\n",
    "        for idx, row in cohort_subset.iterrows()\n",
    "    ]\n",
    "    cwl = np.array([len(i) for i in cohort_words])\n",
    "    \n",
    "    cohort_words = [i for i in cohort_words if len(i) < 500]\n",
    "    print(len(cwl), len(cohort_words))\n",
    "    print(cohort_words[0][:5])\n",
    "\n",
    "    n_words = len(np.concatenate(cohort_words))\n",
    "    n_unique_words = len(np.unique(np.concatenate(cohort_words)))\n",
    "    print(n_words, n_unique_words)\n",
    "    # make each phone symbol specific to the transcript\n",
    "    #for transcript_i, (idx, row) in enumerate(cohort_subset.iterrows()):\n",
    "    #    cohort_words[transcript_i] = [str(transcript_i) + i for i in cohort_words[transcript_i]]\n",
    "\n",
    "    n_unique_words = 0\n",
    "    top_10_words = 0\n",
    "    \n",
    "    \n",
    "    median_n_words = int(np.median([len(i) for i in cohort_words]))\n",
    "    #distances = np.arange(1, np.max([100, median_n_words]) + 1, 5)\n",
    "    distances = np.arange(1, 250 + 1, 5)\n",
    "    \n",
    "    (MI, MI_var), (shuff_MI, shuff_MI_var) = mi.sequential_mutual_information(\n",
    "        cohort_words, distances=distances, n_jobs=-1, estimate=True\n",
    "    )\n",
    "    plt.loglog(distances, MI - shuff_MI)\n",
    "    plt.show()\n",
    "\n",
    "    mi_df.loc[len(mi_df)] = [\n",
    "        MI,\n",
    "        MI_var,\n",
    "        shuff_MI,\n",
    "        shuff_MI_var,\n",
    "        distances,\n",
    "        age_cohort_low,\n",
    "        age_cohort_high,\n",
    "        n_words,\n",
    "        n_unique_words,\n",
    "        top_10_words,\n",
    "        \"full\"\n",
    "    ]\n",
    "    \n",
    "  "
   ]
  },
  {
   "cell_type": "code",
   "execution_count": 46,
   "metadata": {},
   "outputs": [
    {
     "data": {
      "image/png": "[encoded data removed]",
      "text/plain": [
       "<Figure size 432x288 with 1 Axes>"
      ]
     },
     "metadata": {
      "needs_background": "light"
     },
     "output_type": "display_data"
    }
   ],
   "source": [
    "plt.hist([len(i) for i in cohort_words], bins = 100);"
   ]
  },
  {
   "cell_type": "code",
   "execution_count": 44,
   "metadata": {
    "ExecuteTime": {
     "end_time": "2020-01-10T00:47:19.208192Z",
     "start_time": "2020-01-10T00:47:18.650029Z"
    }
   },
   "outputs": [
    {
     "data": {
      "text/plain": [
       "[<matplotlib.lines.Line2D at 0x7f3d26fa0828>]"
      ]
     },
     "execution_count": 44,
     "metadata": {},
     "output_type": "execute_result"
    },
    {
     "data": {
      "image/png": "[encoded data removed]",
      "text/plain": [
       "<Figure size 432x288 with 1 Axes>"
      ]
     },
     "metadata": {
      "needs_background": "light"
     },
     "output_type": "display_data"
    }
   ],
   "source": [
    "plt.plot(distances, MI)\n",
    "plt.plot(distances, shuff_MI)"
   ]
  },
  {
   "cell_type": "code",
   "execution_count": 45,
   "metadata": {
    "ExecuteTime": {
     "end_time": "2020-01-10T00:47:23.331911Z",
     "start_time": "2020-01-10T00:47:22.487589Z"
    }
   },
   "outputs": [
    {
     "data": {
      "text/plain": [
       "<matplotlib.collections.PathCollection at 0x7f416596ecc0>"
      ]
     },
     "execution_count": 45,
     "metadata": {},
     "output_type": "execute_result"
    },
    {
     "data": {
      "image/png": "[encoded data removed]",
      "text/plain": [
       "<Figure size 432x288 with 1 Axes>"
      ]
     },
     "metadata": {
      "needs_background": "light"
     },
     "output_type": "display_data"
    }
   ],
   "source": [
    "plt.loglog(distances, MI - shuff_MI, alpha = 0)\n",
    "plt.scatter(distances, MI - shuff_MI)"
   ]
  },
  {
   "cell_type": "code",
   "execution_count": null,
   "metadata": {},
   "outputs": [],
   "source": []
  }
 ],
 "metadata": {
  "kernelspec": {
   "display_name": "Python 3",
   "language": "python",
   "name": "python3"
  },
  "language_info": {
   "codemirror_mode": {
    "name": "ipython",
    "version": 3
   },
   "file_extension": ".py",
   "mimetype": "text/x-python",
   "name": "python",
   "nbconvert_exporter": "python",
   "pygments_lexer": "ipython3",
   "version": "3.6.7"
  }
 },
 "nbformat": 4,
 "nbformat_minor": 2
}
