{
 "cells": [
  {
   "cell_type": "code",
   "execution_count": 1,
   "metadata": {
    "ExecuteTime": {
     "end_time": "2020-01-13T09:46:41.093521Z",
     "start_time": "2020-01-13T09:46:41.071968Z"
    }
   },
   "outputs": [],
   "source": [
    "%load_ext autoreload\n",
    "%autoreload 2"
   ]
  },
  {
   "cell_type": "code",
   "execution_count": 2,
   "metadata": {
    "ExecuteTime": {
     "end_time": "2020-01-13T09:46:41.892692Z",
     "start_time": "2020-01-13T09:46:41.095557Z"
    }
   },
   "outputs": [],
   "source": [
    "from childes_mi.utils.paths import CHILDES_DFS, DATA_DIR\n",
    "from childes_mi.utils.general import flatten"
   ]
  },
  {
   "cell_type": "code",
   "execution_count": 3,
   "metadata": {
    "ExecuteTime": {
     "end_time": "2020-01-13T09:46:42.868306Z",
     "start_time": "2020-01-13T09:46:41.894773Z"
    }
   },
   "outputs": [
    {
     "name": "stderr",
     "output_type": "stream",
     "text": [
      "/mnt/cube/tsainbur/conda_envs/tpy3/lib/python3.6/site-packages/tqdm/autonotebook/__init__.py:14: TqdmExperimentalWarning: Using `tqdm.autonotebook.tqdm` in notebook mode. Use `tqdm.tqdm` instead to force console mode (e.g. in jupyter console)\n",
      "  \" (e.g. in jupyter console)\", TqdmExperimentalWarning)\n"
     ]
    }
   ],
   "source": [
    "import pandas as pd\n",
    "import numpy as np\n",
    "import matplotlib.pyplot as plt\n",
    "import pandas as pd\n",
    "from tqdm.autonotebook import tqdm"
   ]
  },
  {
   "cell_type": "code",
   "execution_count": 4,
   "metadata": {
    "ExecuteTime": {
     "end_time": "2020-01-13T09:46:46.813211Z",
     "start_time": "2020-01-13T09:46:42.870547Z"
    }
   },
   "outputs": [
    {
     "data": {
      "text/plain": [
       "2785"
      ]
     },
     "execution_count": 4,
     "metadata": {},
     "output_type": "execute_result"
    }
   ],
   "source": [
    "transcript_df = pd.read_pickle(CHILDES_DFS/'childes_df_subset.pickle')\n",
    "#transcript_df['dataset'] = [i[0].split('/')[11] for i in transcript_df.transcript_xml.values]\n",
    "len(transcript_df)"
   ]
  },
  {
   "cell_type": "code",
   "execution_count": 5,
   "metadata": {
    "ExecuteTime": {
     "end_time": "2020-01-13T09:46:46.855438Z",
     "start_time": "2020-01-13T09:46:46.816064Z"
    }
   },
   "outputs": [],
   "source": [
    "# mask for only a subset of corpuses\n",
    "possible_corpuses = [\n",
    "    # carterette is also transcribed in IPA\n",
    "    \"Carterette\",  # 1st, 3rd, 5th grade, adults, speech naturalistic speech in IPA https://childes.talkbank.org/access/Eng-NA/Carterette.html\n",
    "    \"Gillam\",  # normal subset, spontaneous storytelling 5-11y11m https://childes.talkbank.org/access/Clinical-MOR/Gillam.html\n",
    "    \"Braunwald\",  # single subject from 1-6yo talking to family https://childes.talkbank.org/access/Eng-NA/Braunwald.html\n",
    "    \"Brown\",  # 1y6m-5y1m, 3 subjects naturalistic talking to parents https://childes.talkbank.org/access/Eng-NA/Brown.html\n",
    "    \"EllisWeismer\",  # 2y6m - 5y6 naturalistic play-oriented talk with instructor # https://childes.talkbank.org/access/Clinical-MOR/EllisWeismer.html\n",
    "    \"Gleason\",  # 2;1 - 5;2 family interactions https://childes.talkbank.org/access/Eng-NA/Gleason.html\n",
    "    \"NH\",# Nicholas-NH,  # 1;0-4;0, videotaped play with parent https://childes.talkbank.org/access/Clinical-MOR/Nicholas/NH.html\n",
    "    \"Post\",  # 1;7-2;8 60m session with family and toys https://childes.talkbank.org/access/Eng-NA/Post.html\n",
    "    \"Normal\",  #  Rondal-Normal 3-12yo free play with mother and child https://childes.talkbank.org/access/Clinical-MOR/Normal /Normal.html\n",
    "]\n",
    "corpus_mask = [corpus in possible_corpuses for corpus in transcript_df.corpus.values]\n",
    "transcript_df = transcript_df[corpus_mask]"
   ]
  },
  {
   "cell_type": "code",
   "execution_count": 6,
   "metadata": {
    "ExecuteTime": {
     "end_time": "2020-01-13T09:46:47.005453Z",
     "start_time": "2020-01-13T09:46:46.857561Z"
    }
   },
   "outputs": [
    {
     "data": {
      "text/plain": [
       "2785"
      ]
     },
     "execution_count": 6,
     "metadata": {},
     "output_type": "execute_result"
    }
   ],
   "source": [
    "# mask for a subset of roles\n",
    "possible_roles = ['Target_Child', 'Child']\n",
    "role_mask = [role in possible_roles for role in transcript_df.role.values]\n",
    "transcript_df = transcript_df[role_mask]\n",
    "len(transcript_df)"
   ]
  },
  {
   "cell_type": "code",
   "execution_count": 7,
   "metadata": {
    "ExecuteTime": {
     "end_time": "2020-01-13T09:46:47.517916Z",
     "start_time": "2020-01-13T09:46:47.007404Z"
    }
   },
   "outputs": [
    {
     "data": {
      "text/html": [
       "<div>\n",
       "<style scoped>\n",
       "    .dataframe tbody tr th:only-of-type {\n",
       "        vertical-align: middle;\n",
       "    }\n",
       "\n",
       "    .dataframe tbody tr th {\n",
       "        vertical-align: top;\n",
       "    }\n",
       "\n",
       "    .dataframe thead th {\n",
       "        text-align: right;\n",
       "    }\n",
       "</style>\n",
       "<table border=\"1\" class=\"dataframe\">\n",
       "  <thead>\n",
       "    <tr style=\"text-align: right;\">\n",
       "      <th></th>\n",
       "      <th>PID</th>\n",
       "      <th>lang</th>\n",
       "      <th>corpus</th>\n",
       "      <th>date</th>\n",
       "      <th>participant_key</th>\n",
       "      <th>role</th>\n",
       "      <th>age</th>\n",
       "      <th>language</th>\n",
       "      <th>sex</th>\n",
       "      <th>POS</th>\n",
       "      <th>words</th>\n",
       "      <th>morphemes</th>\n",
       "      <th>transcript_xml</th>\n",
       "      <th>n_words</th>\n",
       "      <th>n_morphemes</th>\n",
       "      <th>n_POS</th>\n",
       "      <th>age_months</th>\n",
       "      <th>age_years</th>\n",
       "    </tr>\n",
       "  </thead>\n",
       "  <tbody>\n",
       "    <tr>\n",
       "      <th>72301</th>\n",
       "      <td>11312/c-00015848-1</td>\n",
       "      <td>eng</td>\n",
       "      <td>Carterette</td>\n",
       "      <td>1984-01-01</td>\n",
       "      <td>CHI</td>\n",
       "      <td>Target_Child</td>\n",
       "      <td>P6Y</td>\n",
       "      <td>eng</td>\n",
       "      <td>NaN</td>\n",
       "      <td>[[pro:per, v, , , conj, n:prop, coord, pro:ind...</td>\n",
       "      <td>[[you, mean, uh, um, like, England, or, someth...</td>\n",
       "      <td>[[you, mean, uh, um, like, England, or, someth...</td>\n",
       "      <td>[/mnt/cube/tsainbur/Projects/github_repos/chil...</td>\n",
       "      <td>19903</td>\n",
       "      <td>2102</td>\n",
       "      <td>2102</td>\n",
       "      <td>72.0</td>\n",
       "      <td>6.0</td>\n",
       "    </tr>\n",
       "    <tr>\n",
       "      <th>72302</th>\n",
       "      <td>11312/c-00015847-1</td>\n",
       "      <td>eng</td>\n",
       "      <td>Carterette</td>\n",
       "      <td>1984-01-01</td>\n",
       "      <td>CHI</td>\n",
       "      <td>Target_Child</td>\n",
       "      <td>P10Y</td>\n",
       "      <td>eng</td>\n",
       "      <td>NaN</td>\n",
       "      <td>[[co, , pro:sub, v, , det:num, n], [coord, , p...</td>\n",
       "      <td>[[well, um, I, have, uh, one, sister], [and, u...</td>\n",
       "      <td>[[well, um, I, have, uh, one, sister], [and, u...</td>\n",
       "      <td>[/mnt/cube/tsainbur/Projects/github_repos/chil...</td>\n",
       "      <td>26941</td>\n",
       "      <td>2729</td>\n",
       "      <td>2729</td>\n",
       "      <td>120.0</td>\n",
       "      <td>10.0</td>\n",
       "    </tr>\n",
       "    <tr>\n",
       "      <th>72303</th>\n",
       "      <td>11312/c-00015849-1</td>\n",
       "      <td>eng</td>\n",
       "      <td>Carterette</td>\n",
       "      <td>1984-01-01</td>\n",
       "      <td>CHI</td>\n",
       "      <td>Target_Child</td>\n",
       "      <td>P8Y</td>\n",
       "      <td>eng</td>\n",
       "      <td>NaN</td>\n",
       "      <td>[[v, n, n], [co, n:prop, v, prep, det:art, n, ...</td>\n",
       "      <td>[[lets, watch, tv], [well, Nancy, said, for, t...</td>\n",
       "      <td>[[let-3S, watch, tv], [well, Nancy, say-PAST, ...</td>\n",
       "      <td>[/mnt/cube/tsainbur/Projects/github_repos/chil...</td>\n",
       "      <td>21419</td>\n",
       "      <td>2019</td>\n",
       "      <td>2019</td>\n",
       "      <td>96.0</td>\n",
       "      <td>8.0</td>\n",
       "    </tr>\n",
       "  </tbody>\n",
       "</table>\n",
       "</div>"
      ],
      "text/plain": [
       "                      PID lang      corpus        date participant_key  \\\n",
       "72301  11312/c-00015848-1  eng  Carterette  1984-01-01             CHI   \n",
       "72302  11312/c-00015847-1  eng  Carterette  1984-01-01             CHI   \n",
       "72303  11312/c-00015849-1  eng  Carterette  1984-01-01             CHI   \n",
       "\n",
       "               role   age language  sex  \\\n",
       "72301  Target_Child   P6Y      eng  NaN   \n",
       "72302  Target_Child  P10Y      eng  NaN   \n",
       "72303  Target_Child   P8Y      eng  NaN   \n",
       "\n",
       "                                                     POS  \\\n",
       "72301  [[pro:per, v, , , conj, n:prop, coord, pro:ind...   \n",
       "72302  [[co, , pro:sub, v, , det:num, n], [coord, , p...   \n",
       "72303  [[v, n, n], [co, n:prop, v, prep, det:art, n, ...   \n",
       "\n",
       "                                                   words  \\\n",
       "72301  [[you, mean, uh, um, like, England, or, someth...   \n",
       "72302  [[well, um, I, have, uh, one, sister], [and, u...   \n",
       "72303  [[lets, watch, tv], [well, Nancy, said, for, t...   \n",
       "\n",
       "                                               morphemes  \\\n",
       "72301  [[you, mean, uh, um, like, England, or, someth...   \n",
       "72302  [[well, um, I, have, uh, one, sister], [and, u...   \n",
       "72303  [[let-3S, watch, tv], [well, Nancy, say-PAST, ...   \n",
       "\n",
       "                                          transcript_xml  n_words  \\\n",
       "72301  [/mnt/cube/tsainbur/Projects/github_repos/chil...    19903   \n",
       "72302  [/mnt/cube/tsainbur/Projects/github_repos/chil...    26941   \n",
       "72303  [/mnt/cube/tsainbur/Projects/github_repos/chil...    21419   \n",
       "\n",
       "       n_morphemes  n_POS  age_months  age_years  \n",
       "72301         2102   2102        72.0        6.0  \n",
       "72302         2729   2729       120.0       10.0  \n",
       "72303         2019   2019        96.0        8.0  "
      ]
     },
     "execution_count": 7,
     "metadata": {},
     "output_type": "execute_result"
    }
   ],
   "source": [
    "transcript_df[:3]"
   ]
  },
  {
   "cell_type": "code",
   "execution_count": 8,
   "metadata": {
    "ExecuteTime": {
     "end_time": "2020-01-13T09:46:47.547371Z",
     "start_time": "2020-01-13T09:46:47.520221Z"
    }
   },
   "outputs": [
    {
     "name": "stdout",
     "output_type": "stream",
     "text": [
      "['Carterette' 'Brown' 'Braunwald' 'Post' 'Gleason' 'Normal' 'Gillam'\n",
      " 'EllisWeismer' 'NH']\n"
     ]
    }
   ],
   "source": [
    "print(transcript_df.corpus.unique())"
   ]
  },
  {
   "cell_type": "code",
   "execution_count": 9,
   "metadata": {
    "ExecuteTime": {
     "end_time": "2020-01-13T09:46:47.638039Z",
     "start_time": "2020-01-13T09:46:47.549663Z"
    }
   },
   "outputs": [
    {
     "name": "stdout",
     "output_type": "stream",
     "text": [
      "there are 1247296 words in this dataset\n"
     ]
    }
   ],
   "source": [
    "print(\"there are {} words in this dataset\".format(np.sum(transcript_df.n_words.values)))"
   ]
  },
  {
   "cell_type": "markdown",
   "metadata": {},
   "source": [
    "### Get child ages"
   ]
  },
  {
   "cell_type": "code",
   "execution_count": 10,
   "metadata": {
    "ExecuteTime": {
     "end_time": "2020-01-13T09:46:47.713486Z",
     "start_time": "2020-01-13T09:46:47.640011Z"
    }
   },
   "outputs": [],
   "source": [
    "import re\n",
    "def convert_age(age_year):\n",
    "    \"Caclculate age in months from a string in CHILDES format\"\n",
    "    if age_year[-1] == 'Y':\n",
    "        age_year += '0'\n",
    "    m = re.match(\"P(\\d+)Y(\\d+)M?(\\d?\\d?)D?\", age_year)\n",
    "    age_month = int(m.group(1)) * 12 + int(m.group(2))\n",
    "    try:\n",
    "        if int(m.group(3)) > 15:\n",
    "            age_month += 1\n",
    "    # some corpora don't have age information?\n",
    "    except ValueError as e:\n",
    "        pass\n",
    "    return age_month"
   ]
  },
  {
   "cell_type": "code",
   "execution_count": 11,
   "metadata": {
    "ExecuteTime": {
     "end_time": "2020-01-13T09:46:47.873840Z",
     "start_time": "2020-01-13T09:46:47.716079Z"
    }
   },
   "outputs": [
    {
     "data": {
      "application/vnd.jupyter.widget-view+json": {
       "model_id": "788b89c63c254535a7edbe7f5ab3109b",
       "version_major": 2,
       "version_minor": 0
      },
      "text/plain": [
       "HBox(children=(IntProgress(value=0, max=2785), HTML(value='')))"
      ]
     },
     "metadata": {},
     "output_type": "display_data"
    },
    {
     "name": "stdout",
     "output_type": "stream",
     "text": [
      "\n"
     ]
    }
   ],
   "source": [
    "transcript_df[\"age_months\"] = [\n",
    "    convert_age(i) if type(i) == str else np.nan for i in tqdm(transcript_df.age.values)\n",
    "]"
   ]
  },
  {
   "cell_type": "code",
   "execution_count": 12,
   "metadata": {
    "ExecuteTime": {
     "end_time": "2020-01-13T09:46:47.965586Z",
     "start_time": "2020-01-13T09:46:47.875826Z"
    }
   },
   "outputs": [],
   "source": [
    "transcript_df[\"age_years\"] = transcript_df[\"age_months\"] / 12"
   ]
  },
  {
   "cell_type": "code",
   "execution_count": 13,
   "metadata": {
    "ExecuteTime": {
     "end_time": "2020-01-13T09:46:48.468040Z",
     "start_time": "2020-01-13T09:46:47.967823Z"
    }
   },
   "outputs": [
    {
     "name": "stderr",
     "output_type": "stream",
     "text": [
      "/mnt/cube/tsainbur/conda_envs/tpy3/lib/python3.6/site-packages/numpy/lib/histograms.py:839: RuntimeWarning: invalid value encountered in greater_equal\n",
      "  keep = (tmp_a >= first_edge)\n",
      "/mnt/cube/tsainbur/conda_envs/tpy3/lib/python3.6/site-packages/numpy/lib/histograms.py:840: RuntimeWarning: invalid value encountered in less_equal\n",
      "  keep &= (tmp_a <= last_edge)\n"
     ]
    },
    {
     "data": {
      "image/png": "[encoded data removed]",
      "text/plain": [
       "<Figure size 432x288 with 1 Axes>"
      ]
     },
     "metadata": {
      "needs_background": "light"
     },
     "output_type": "display_data"
    }
   ],
   "source": [
    "plt.hist(transcript_df.age_years.values, bins = 50);"
   ]
  },
  {
   "cell_type": "code",
   "execution_count": 14,
   "metadata": {
    "ExecuteTime": {
     "end_time": "2020-01-13T09:46:48.867669Z",
     "start_time": "2020-01-13T09:46:48.473515Z"
    }
   },
   "outputs": [
    {
     "data": {
      "text/html": [
       "<div>\n",
       "<style scoped>\n",
       "    .dataframe tbody tr th:only-of-type {\n",
       "        vertical-align: middle;\n",
       "    }\n",
       "\n",
       "    .dataframe tbody tr th {\n",
       "        vertical-align: top;\n",
       "    }\n",
       "\n",
       "    .dataframe thead th {\n",
       "        text-align: right;\n",
       "    }\n",
       "</style>\n",
       "<table border=\"1\" class=\"dataframe\">\n",
       "  <thead>\n",
       "    <tr style=\"text-align: right;\">\n",
       "      <th></th>\n",
       "      <th>PID</th>\n",
       "      <th>lang</th>\n",
       "      <th>corpus</th>\n",
       "      <th>date</th>\n",
       "      <th>participant_key</th>\n",
       "      <th>role</th>\n",
       "      <th>age</th>\n",
       "      <th>language</th>\n",
       "      <th>sex</th>\n",
       "      <th>POS</th>\n",
       "      <th>words</th>\n",
       "      <th>morphemes</th>\n",
       "      <th>transcript_xml</th>\n",
       "      <th>n_words</th>\n",
       "      <th>n_morphemes</th>\n",
       "      <th>n_POS</th>\n",
       "      <th>age_months</th>\n",
       "      <th>age_years</th>\n",
       "    </tr>\n",
       "  </thead>\n",
       "  <tbody>\n",
       "    <tr>\n",
       "      <th>72301</th>\n",
       "      <td>11312/c-00015848-1</td>\n",
       "      <td>eng</td>\n",
       "      <td>Carterette</td>\n",
       "      <td>1984-01-01</td>\n",
       "      <td>CHI</td>\n",
       "      <td>Target_Child</td>\n",
       "      <td>P6Y</td>\n",
       "      <td>eng</td>\n",
       "      <td>NaN</td>\n",
       "      <td>[[pro:per, v, , , conj, n:prop, coord, pro:ind...</td>\n",
       "      <td>[[you, mean, uh, um, like, England, or, someth...</td>\n",
       "      <td>[[you, mean, uh, um, like, England, or, someth...</td>\n",
       "      <td>[/mnt/cube/tsainbur/Projects/github_repos/chil...</td>\n",
       "      <td>19903</td>\n",
       "      <td>2102</td>\n",
       "      <td>2102</td>\n",
       "      <td>72.0</td>\n",
       "      <td>6.0</td>\n",
       "    </tr>\n",
       "    <tr>\n",
       "      <th>72302</th>\n",
       "      <td>11312/c-00015847-1</td>\n",
       "      <td>eng</td>\n",
       "      <td>Carterette</td>\n",
       "      <td>1984-01-01</td>\n",
       "      <td>CHI</td>\n",
       "      <td>Target_Child</td>\n",
       "      <td>P10Y</td>\n",
       "      <td>eng</td>\n",
       "      <td>NaN</td>\n",
       "      <td>[[co, , pro:sub, v, , det:num, n], [coord, , p...</td>\n",
       "      <td>[[well, um, I, have, uh, one, sister], [and, u...</td>\n",
       "      <td>[[well, um, I, have, uh, one, sister], [and, u...</td>\n",
       "      <td>[/mnt/cube/tsainbur/Projects/github_repos/chil...</td>\n",
       "      <td>26941</td>\n",
       "      <td>2729</td>\n",
       "      <td>2729</td>\n",
       "      <td>120.0</td>\n",
       "      <td>10.0</td>\n",
       "    </tr>\n",
       "    <tr>\n",
       "      <th>72303</th>\n",
       "      <td>11312/c-00015849-1</td>\n",
       "      <td>eng</td>\n",
       "      <td>Carterette</td>\n",
       "      <td>1984-01-01</td>\n",
       "      <td>CHI</td>\n",
       "      <td>Target_Child</td>\n",
       "      <td>P8Y</td>\n",
       "      <td>eng</td>\n",
       "      <td>NaN</td>\n",
       "      <td>[[v, n, n], [co, n:prop, v, prep, det:art, n, ...</td>\n",
       "      <td>[[lets, watch, tv], [well, Nancy, said, for, t...</td>\n",
       "      <td>[[let-3S, watch, tv], [well, Nancy, say-PAST, ...</td>\n",
       "      <td>[/mnt/cube/tsainbur/Projects/github_repos/chil...</td>\n",
       "      <td>21419</td>\n",
       "      <td>2019</td>\n",
       "      <td>2019</td>\n",
       "      <td>96.0</td>\n",
       "      <td>8.0</td>\n",
       "    </tr>\n",
       "  </tbody>\n",
       "</table>\n",
       "</div>"
      ],
      "text/plain": [
       "                      PID lang      corpus        date participant_key  \\\n",
       "72301  11312/c-00015848-1  eng  Carterette  1984-01-01             CHI   \n",
       "72302  11312/c-00015847-1  eng  Carterette  1984-01-01             CHI   \n",
       "72303  11312/c-00015849-1  eng  Carterette  1984-01-01             CHI   \n",
       "\n",
       "               role   age language  sex  \\\n",
       "72301  Target_Child   P6Y      eng  NaN   \n",
       "72302  Target_Child  P10Y      eng  NaN   \n",
       "72303  Target_Child   P8Y      eng  NaN   \n",
       "\n",
       "                                                     POS  \\\n",
       "72301  [[pro:per, v, , , conj, n:prop, coord, pro:ind...   \n",
       "72302  [[co, , pro:sub, v, , det:num, n], [coord, , p...   \n",
       "72303  [[v, n, n], [co, n:prop, v, prep, det:art, n, ...   \n",
       "\n",
       "                                                   words  \\\n",
       "72301  [[you, mean, uh, um, like, England, or, someth...   \n",
       "72302  [[well, um, I, have, uh, one, sister], [and, u...   \n",
       "72303  [[lets, watch, tv], [well, Nancy, said, for, t...   \n",
       "\n",
       "                                               morphemes  \\\n",
       "72301  [[you, mean, uh, um, like, England, or, someth...   \n",
       "72302  [[well, um, I, have, uh, one, sister], [and, u...   \n",
       "72303  [[let-3S, watch, tv], [well, Nancy, say-PAST, ...   \n",
       "\n",
       "                                          transcript_xml  n_words  \\\n",
       "72301  [/mnt/cube/tsainbur/Projects/github_repos/chil...    19903   \n",
       "72302  [/mnt/cube/tsainbur/Projects/github_repos/chil...    26941   \n",
       "72303  [/mnt/cube/tsainbur/Projects/github_repos/chil...    21419   \n",
       "\n",
       "       n_morphemes  n_POS  age_months  age_years  \n",
       "72301         2102   2102        72.0        6.0  \n",
       "72302         2729   2729       120.0       10.0  \n",
       "72303         2019   2019        96.0        8.0  "
      ]
     },
     "execution_count": 14,
     "metadata": {},
     "output_type": "execute_result"
    }
   ],
   "source": [
    "transcript_df[:3]"
   ]
  },
  {
   "cell_type": "code",
   "execution_count": 15,
   "metadata": {
    "ExecuteTime": {
     "end_time": "2020-01-13T09:46:50.831214Z",
     "start_time": "2020-01-13T09:46:48.870077Z"
    }
   },
   "outputs": [
    {
     "name": "stderr",
     "output_type": "stream",
     "text": [
      "/mnt/cube/tsainbur/conda_envs/tpy3/lib/python3.6/site-packages/scipy/stats/stats.py:1713: FutureWarning: Using a non-tuple sequence for multidimensional indexing is deprecated; use `arr[tuple(seq)]` instead of `arr[seq]`. In the future this will be interpreted as an array index, `arr[np.array(seq)]`, which will result either in an error or a different result.\n",
      "  return np.add.reduce(sorted[indexer] * weights, axis=axis) / sumval\n"
     ]
    },
    {
     "data": {
      "text/plain": [
       "(0, 6)"
      ]
     },
     "execution_count": 15,
     "metadata": {},
     "output_type": "execute_result"
    },
    {
     "data": {
      "image/png": "[encoded data removed]",
      "text/plain": [
       "<Figure size 432x432 with 3 Axes>"
      ]
     },
     "metadata": {
      "needs_background": "light"
     },
     "output_type": "display_data"
    }
   ],
   "source": [
    "import seaborn as sns\n",
    "\n",
    "grd = sns.jointplot(\n",
    "    \"age_years\",\n",
    "    \"n_words\",\n",
    "    data=transcript_df[transcript_df.n_words > 100],\n",
    "    alpha=0.25,\n",
    "    s=15,\n",
    ")\n",
    "ax = grd.ax_joint\n",
    "ax.set_ylim([0, 1500])\n",
    "ax.set_xlim([0, 6])"
   ]
  },
  {
   "cell_type": "code",
   "execution_count": 16,
   "metadata": {
    "ExecuteTime": {
     "end_time": "2020-01-13T09:46:50.866134Z",
     "start_time": "2020-01-13T09:46:50.833322Z"
    }
   },
   "outputs": [
    {
     "data": {
      "text/plain": [
       "447.862118491921"
      ]
     },
     "execution_count": 16,
     "metadata": {},
     "output_type": "execute_result"
    }
   ],
   "source": [
    "np.mean(transcript_df.n_words)"
   ]
  },
  {
   "cell_type": "code",
   "execution_count": 17,
   "metadata": {
    "ExecuteTime": {
     "end_time": "2020-01-13T09:46:51.313234Z",
     "start_time": "2020-01-13T09:46:50.868429Z"
    }
   },
   "outputs": [
    {
     "data": {
      "text/html": [
       "<div>\n",
       "<style scoped>\n",
       "    .dataframe tbody tr th:only-of-type {\n",
       "        vertical-align: middle;\n",
       "    }\n",
       "\n",
       "    .dataframe tbody tr th {\n",
       "        vertical-align: top;\n",
       "    }\n",
       "\n",
       "    .dataframe thead th {\n",
       "        text-align: right;\n",
       "    }\n",
       "</style>\n",
       "<table border=\"1\" class=\"dataframe\">\n",
       "  <thead>\n",
       "    <tr style=\"text-align: right;\">\n",
       "      <th></th>\n",
       "      <th>PID</th>\n",
       "      <th>lang</th>\n",
       "      <th>corpus</th>\n",
       "      <th>date</th>\n",
       "      <th>participant_key</th>\n",
       "      <th>role</th>\n",
       "      <th>age</th>\n",
       "      <th>language</th>\n",
       "      <th>sex</th>\n",
       "      <th>POS</th>\n",
       "      <th>words</th>\n",
       "      <th>morphemes</th>\n",
       "      <th>transcript_xml</th>\n",
       "      <th>n_words</th>\n",
       "      <th>n_morphemes</th>\n",
       "      <th>n_POS</th>\n",
       "      <th>age_months</th>\n",
       "      <th>age_years</th>\n",
       "    </tr>\n",
       "  </thead>\n",
       "  <tbody>\n",
       "    <tr>\n",
       "      <th>72301</th>\n",
       "      <td>11312/c-00015848-1</td>\n",
       "      <td>eng</td>\n",
       "      <td>Carterette</td>\n",
       "      <td>1984-01-01</td>\n",
       "      <td>CHI</td>\n",
       "      <td>Target_Child</td>\n",
       "      <td>P6Y</td>\n",
       "      <td>eng</td>\n",
       "      <td>NaN</td>\n",
       "      <td>[[pro:per, v, , , conj, n:prop, coord, pro:ind...</td>\n",
       "      <td>[[you, mean, uh, um, like, England, or, someth...</td>\n",
       "      <td>[[you, mean, uh, um, like, England, or, someth...</td>\n",
       "      <td>[/mnt/cube/tsainbur/Projects/github_repos/chil...</td>\n",
       "      <td>19903</td>\n",
       "      <td>2102</td>\n",
       "      <td>2102</td>\n",
       "      <td>72.0</td>\n",
       "      <td>6.0</td>\n",
       "    </tr>\n",
       "    <tr>\n",
       "      <th>72302</th>\n",
       "      <td>11312/c-00015847-1</td>\n",
       "      <td>eng</td>\n",
       "      <td>Carterette</td>\n",
       "      <td>1984-01-01</td>\n",
       "      <td>CHI</td>\n",
       "      <td>Target_Child</td>\n",
       "      <td>P10Y</td>\n",
       "      <td>eng</td>\n",
       "      <td>NaN</td>\n",
       "      <td>[[co, , pro:sub, v, , det:num, n], [coord, , p...</td>\n",
       "      <td>[[well, um, I, have, uh, one, sister], [and, u...</td>\n",
       "      <td>[[well, um, I, have, uh, one, sister], [and, u...</td>\n",
       "      <td>[/mnt/cube/tsainbur/Projects/github_repos/chil...</td>\n",
       "      <td>26941</td>\n",
       "      <td>2729</td>\n",
       "      <td>2729</td>\n",
       "      <td>120.0</td>\n",
       "      <td>10.0</td>\n",
       "    </tr>\n",
       "    <tr>\n",
       "      <th>72303</th>\n",
       "      <td>11312/c-00015849-1</td>\n",
       "      <td>eng</td>\n",
       "      <td>Carterette</td>\n",
       "      <td>1984-01-01</td>\n",
       "      <td>CHI</td>\n",
       "      <td>Target_Child</td>\n",
       "      <td>P8Y</td>\n",
       "      <td>eng</td>\n",
       "      <td>NaN</td>\n",
       "      <td>[[v, n, n], [co, n:prop, v, prep, det:art, n, ...</td>\n",
       "      <td>[[lets, watch, tv], [well, Nancy, said, for, t...</td>\n",
       "      <td>[[let-3S, watch, tv], [well, Nancy, say-PAST, ...</td>\n",
       "      <td>[/mnt/cube/tsainbur/Projects/github_repos/chil...</td>\n",
       "      <td>21419</td>\n",
       "      <td>2019</td>\n",
       "      <td>2019</td>\n",
       "      <td>96.0</td>\n",
       "      <td>8.0</td>\n",
       "    </tr>\n",
       "  </tbody>\n",
       "</table>\n",
       "</div>"
      ],
      "text/plain": [
       "                      PID lang      corpus        date participant_key  \\\n",
       "72301  11312/c-00015848-1  eng  Carterette  1984-01-01             CHI   \n",
       "72302  11312/c-00015847-1  eng  Carterette  1984-01-01             CHI   \n",
       "72303  11312/c-00015849-1  eng  Carterette  1984-01-01             CHI   \n",
       "\n",
       "               role   age language  sex  \\\n",
       "72301  Target_Child   P6Y      eng  NaN   \n",
       "72302  Target_Child  P10Y      eng  NaN   \n",
       "72303  Target_Child   P8Y      eng  NaN   \n",
       "\n",
       "                                                     POS  \\\n",
       "72301  [[pro:per, v, , , conj, n:prop, coord, pro:ind...   \n",
       "72302  [[co, , pro:sub, v, , det:num, n], [coord, , p...   \n",
       "72303  [[v, n, n], [co, n:prop, v, prep, det:art, n, ...   \n",
       "\n",
       "                                                   words  \\\n",
       "72301  [[you, mean, uh, um, like, England, or, someth...   \n",
       "72302  [[well, um, I, have, uh, one, sister], [and, u...   \n",
       "72303  [[lets, watch, tv], [well, Nancy, said, for, t...   \n",
       "\n",
       "                                               morphemes  \\\n",
       "72301  [[you, mean, uh, um, like, England, or, someth...   \n",
       "72302  [[well, um, I, have, uh, one, sister], [and, u...   \n",
       "72303  [[let-3S, watch, tv], [well, Nancy, say-PAST, ...   \n",
       "\n",
       "                                          transcript_xml  n_words  \\\n",
       "72301  [/mnt/cube/tsainbur/Projects/github_repos/chil...    19903   \n",
       "72302  [/mnt/cube/tsainbur/Projects/github_repos/chil...    26941   \n",
       "72303  [/mnt/cube/tsainbur/Projects/github_repos/chil...    21419   \n",
       "\n",
       "       n_morphemes  n_POS  age_months  age_years  \n",
       "72301         2102   2102        72.0        6.0  \n",
       "72302         2729   2729       120.0       10.0  \n",
       "72303         2019   2019        96.0        8.0  "
      ]
     },
     "execution_count": 17,
     "metadata": {},
     "output_type": "execute_result"
    }
   ],
   "source": [
    "transcript_df[:3]"
   ]
  },
  {
   "cell_type": "markdown",
   "metadata": {},
   "source": [
    "## MI\n",
    "- for each sequence, calculate the decay of a sequence as a function of distance between elements for that sequence indiividually\n",
    "- Treat each phoneme as unique for that child, and compute MI across children"
   ]
  },
  {
   "cell_type": "code",
   "execution_count": 18,
   "metadata": {
    "ExecuteTime": {
     "end_time": "2020-01-13T09:46:51.788497Z",
     "start_time": "2020-01-13T09:46:51.315500Z"
    }
   },
   "outputs": [
    {
     "name": "stderr",
     "output_type": "stream",
     "text": [
      "/mnt/cube/tsainbur/conda_envs/tpy3/lib/python3.6/site-packages/sklearn/utils/deprecation.py:144: FutureWarning: The sklearn.metrics.cluster.supervised module is  deprecated in version 0.22 and will be removed in version 0.24. The corresponding classes / functions should instead be imported from sklearn.metrics.cluster. Anything that cannot be imported from sklearn.metrics.cluster is now part of the private API.\n",
      "  warnings.warn(message, FutureWarning)\n",
      "/mnt/cube/tsainbur/conda_envs/tpy3/lib/python3.6/site-packages/sklearn/utils/deprecation.py:144: FutureWarning: The sklearn.metrics.cluster.expected_mutual_info_fast module is  deprecated in version 0.22 and will be removed in version 0.24. The corresponding classes / functions should instead be imported from sklearn.metrics.cluster. Anything that cannot be imported from sklearn.metrics.cluster is now part of the private API.\n",
      "  warnings.warn(message, FutureWarning)\n"
     ]
    }
   ],
   "source": [
    "from childes_mi.information_theory import mutual_information as mi"
   ]
  },
  {
   "cell_type": "markdown",
   "metadata": {},
   "source": [
    "#### Run MI by age cohort"
   ]
  },
  {
   "cell_type": "code",
   "execution_count": 19,
   "metadata": {
    "ExecuteTime": {
     "end_time": "2020-01-13T09:46:51.837256Z",
     "start_time": "2020-01-13T09:46:51.791390Z"
    }
   },
   "outputs": [],
   "source": [
    "distances = np.arange(1,101)"
   ]
  },
  {
   "cell_type": "code",
   "execution_count": 20,
   "metadata": {
    "ExecuteTime": {
     "end_time": "2020-01-13T09:46:51.928868Z",
     "start_time": "2020-01-13T09:46:51.839422Z"
    }
   },
   "outputs": [],
   "source": [
    "age_cohorts = [[1, 1.5], [1.5, 2], [2, 2.5], [2.5, 3], [3, 20]]"
   ]
  },
  {
   "cell_type": "code",
   "execution_count": 59,
   "metadata": {
    "ExecuteTime": {
     "end_time": "2020-01-13T09:49:19.417850Z",
     "start_time": "2020-01-13T09:48:18.921961Z"
    },
    "scrolled": false
   },
   "outputs": [
    {
     "data": {
      "application/vnd.jupyter.widget-view+json": {
       "model_id": "d41864c37db844ce8784a97f35c1dec4",
       "version_major": 2,
       "version_minor": 0
      },
      "text/plain": [
       "HBox(children=(IntProgress(value=0, max=5), HTML(value='')))"
      ]
     },
     "metadata": {},
     "output_type": "display_data"
    },
    {
     "data": {
      "application/vnd.jupyter.widget-view+json": {
       "model_id": "035da80486844c8380d09bd6b03c56f6",
       "version_major": 2,
       "version_minor": 0
      },
      "text/plain": [
       "HBox(children=(IntProgress(value=0, max=5), HTML(value='')))"
      ]
     },
     "metadata": {},
     "output_type": "display_data"
    },
    {
     "data": {
      "application/vnd.jupyter.widget-view+json": {
       "model_id": "",
       "version_major": 2,
       "version_minor": 0
      },
      "text/plain": [
       "HBox(children=(IntProgress(value=0), HTML(value='')))"
      ]
     },
     "metadata": {},
     "output_type": "display_data"
    },
    {
     "name": "stderr",
     "output_type": "stream",
     "text": [
      "[Parallel(n_jobs=-1)]: Using backend ThreadingBackend with 32 concurrent workers.\n",
      "[Parallel(n_jobs=-1)]: Done   8 tasks      | elapsed:    4.5s\n",
      "[Parallel(n_jobs=-1)]: Done  58 out of 100 | elapsed:   10.7s remaining:    7.7s\n",
      "[Parallel(n_jobs=-1)]: Done  79 out of 100 | elapsed:   13.6s remaining:    3.6s\n",
      "[Parallel(n_jobs=-1)]: Done 100 out of 100 | elapsed:   14.0s remaining:    0.0s\n",
      "[Parallel(n_jobs=-1)]: Done 100 out of 100 | elapsed:   14.0s finished\n"
     ]
    },
    {
     "data": {
      "application/vnd.jupyter.widget-view+json": {
       "model_id": "",
       "version_major": 2,
       "version_minor": 0
      },
      "text/plain": [
       "HBox(children=(IntProgress(value=0), HTML(value='')))"
      ]
     },
     "metadata": {},
     "output_type": "display_data"
    },
    {
     "name": "stderr",
     "output_type": "stream",
     "text": [
      "[Parallel(n_jobs=-1)]: Using backend ThreadingBackend with 32 concurrent workers.\n",
      "[Parallel(n_jobs=-1)]: Done   8 tasks      | elapsed:    4.5s\n",
      "[Parallel(n_jobs=-1)]: Done  58 out of 100 | elapsed:   11.7s remaining:    8.4s\n",
      "[Parallel(n_jobs=-1)]: Done  79 out of 100 | elapsed:   14.5s remaining:    3.8s\n",
      "[Parallel(n_jobs=-1)]: Done 100 out of 100 | elapsed:   14.9s remaining:    0.0s\n",
      "[Parallel(n_jobs=-1)]: Done 100 out of 100 | elapsed:   14.9s finished\n"
     ]
    },
    {
     "data": {
      "image/png": "[encoded data removed]",
      "text/plain": [
       "<Figure size 720x288 with 2 Axes>"
      ]
     },
     "metadata": {
      "needs_background": "light"
     },
     "output_type": "display_data"
    }
   ],
   "source": [
    "mi_estimation = \"adjusted_mi_sklearn\"\n",
    "nex = 5\n",
    "\n",
    "mi_df = pd.DataFrame(\n",
    "    columns=[\n",
    "        \"MI\",\n",
    "        \"MI_var\",\n",
    "        \"shuff_MI\",\n",
    "        \"shuff_MI_var\",\n",
    "        \"distances\",\n",
    "        \"age_cohort_low\",\n",
    "        \"age_cohort_high\",\n",
    "        \"n_words\",\n",
    "        \"n_unique_words\",\n",
    "        \"top_10_words\",\n",
    "        \"transcript_xml\",\n",
    "        \"age_years\",\n",
    "        \"corpus\"\n",
    "    ]\n",
    ")\n",
    "# for each age cohort\n",
    "for (age_cohort_low, age_cohort_high) in tqdm(age_cohorts):\n",
    "    cohort_subset = transcript_df[\n",
    "        (transcript_df.age_months/12 > age_cohort_low) & (transcript_df.age_months/12 <= age_cohort_high)\n",
    "    ]\n",
    "    \n",
    "    for idx, row in tqdm(cohort_subset.sort_values(by='n_words', ascending=False)[:nex].iterrows(), total=nex):\n",
    "        transcript_words = [i for i in list(flatten(row.words)) if i not in [None, 'xxx']]\n",
    "        \n",
    "        transcript_permute_order = [i for i in list(flatten(np.random.permutation(row.words))) \n",
    "                                    if i not in [None, 'xxx']]\n",
    "        \n",
    "        transcript_pos = [i for i in np.concatenate(row.POS) if i != '']\n",
    "        n_words = row.n_words\n",
    "        n_unique_words = len(np.unique(transcript_words))\n",
    "\n",
    "        n_unique_words = 0 \n",
    "        top_10_words = 0\n",
    "        \n",
    "        #distances = np.arange(1, int(n_words-1), 1)\n",
    "        distances = np.arange(1, int(500), 5)\n",
    "        \n",
    "        (MI, MI_var), (shuff_MI, shuff_MI_var) = mi.sequential_mutual_information(\n",
    "            [transcript_words], distances=distances, n_jobs=-1, mi_estimation=mi_estimation\n",
    "        )\n",
    "        \n",
    "        #(MI, MI_var), (shuff_MI, shuff_MI_var) = mi.sequential_mutual_information(\n",
    "        #    [transcript_permute_order], distances=distances, n_jobs=-1, estimate=False\n",
    "        #)\n",
    "        \n",
    "        fig,axs = plt.subplots(ncols=2, figsize = (10,4))\n",
    "        ax = axs[0]\n",
    "        ax.scatter(distances, MI-shuff_MI)\n",
    "        ax.plot(distances, MI-shuff_MI, alpha = 0)\n",
    "        ax.set_yscale('log')\n",
    "        ax.set_xscale('log')\n",
    "        \n",
    "        ax = axs[1]\n",
    "        ax.scatter(distances, MI)\n",
    "        ax.scatter(distances, shuff_MI)\n",
    "        plt.show()\n",
    "        \n",
    "        \n",
    "    \n",
    "        mi_df.loc[len(mi_df)] = [\n",
    "            MI,\n",
    "            MI_var,\n",
    "            shuff_MI,\n",
    "            shuff_MI_var,\n",
    "            distances,\n",
    "            age_cohort_low,\n",
    "            age_cohort_high,\n",
    "            n_words,\n",
    "            n_unique_words,\n",
    "            top_10_words, \n",
    "            row.transcript_xml,\n",
    "            row.age_years,\n",
    "            row.corpus\n",
    "        ]\n",
    "        break\n",
    "    break\n"
   ]
  },
  {
   "cell_type": "code",
   "execution_count": 60,
   "metadata": {},
   "outputs": [
    {
     "data": {
      "text/html": [
       "<div>\n",
       "<style scoped>\n",
       "    .dataframe tbody tr th:only-of-type {\n",
       "        vertical-align: middle;\n",
       "    }\n",
       "\n",
       "    .dataframe tbody tr th {\n",
       "        vertical-align: top;\n",
       "    }\n",
       "\n",
       "    .dataframe thead th {\n",
       "        text-align: right;\n",
       "    }\n",
       "</style>\n",
       "<table border=\"1\" class=\"dataframe\">\n",
       "  <thead>\n",
       "    <tr style=\"text-align: right;\">\n",
       "      <th></th>\n",
       "      <th>MI</th>\n",
       "      <th>MI_var</th>\n",
       "      <th>shuff_MI</th>\n",
       "      <th>shuff_MI_var</th>\n",
       "      <th>distances</th>\n",
       "      <th>age_cohort_low</th>\n",
       "      <th>age_cohort_high</th>\n",
       "      <th>n_words</th>\n",
       "      <th>n_unique_words</th>\n",
       "      <th>top_10_words</th>\n",
       "      <th>transcript_xml</th>\n",
       "      <th>age_years</th>\n",
       "      <th>corpus</th>\n",
       "    </tr>\n",
       "  </thead>\n",
       "  <tbody>\n",
       "    <tr>\n",
       "      <th>0</th>\n",
       "      <td>[2.8874708327438956, 2.462905912456943, 2.3720...</td>\n",
       "      <td>[2.0723450591692703, 2.0732743040145, 2.077290...</td>\n",
       "      <td>[2.064464952330697, 2.0519395261024305, 2.0990...</td>\n",
       "      <td>[2.071961142316766, 2.0741182888163756, 2.0802...</td>\n",
       "      <td>[1, 6, 11, 16, 21, 26, 31, 36, 41, 46, 51, 56,...</td>\n",
       "      <td>1</td>\n",
       "      <td>1.5</td>\n",
       "      <td>1409</td>\n",
       "      <td>0</td>\n",
       "      <td>0</td>\n",
       "      <td>[/mnt/cube/tsainbur/Projects/github_repos/chil...</td>\n",
       "      <td>1.5</td>\n",
       "      <td>Brown</td>\n",
       "    </tr>\n",
       "  </tbody>\n",
       "</table>\n",
       "</div>"
      ],
      "text/plain": [
       "                                                  MI  \\\n",
       "0  [2.8874708327438956, 2.462905912456943, 2.3720...   \n",
       "\n",
       "                                              MI_var  \\\n",
       "0  [2.0723450591692703, 2.0732743040145, 2.077290...   \n",
       "\n",
       "                                            shuff_MI  \\\n",
       "0  [2.064464952330697, 2.0519395261024305, 2.0990...   \n",
       "\n",
       "                                        shuff_MI_var  \\\n",
       "0  [2.071961142316766, 2.0741182888163756, 2.0802...   \n",
       "\n",
       "                                           distances age_cohort_low  \\\n",
       "0  [1, 6, 11, 16, 21, 26, 31, 36, 41, 46, 51, 56,...              1   \n",
       "\n",
       "   age_cohort_high n_words n_unique_words top_10_words  \\\n",
       "0              1.5    1409              0            0   \n",
       "\n",
       "                                      transcript_xml  age_years corpus  \n",
       "0  [/mnt/cube/tsainbur/Projects/github_repos/chil...        1.5  Brown  "
      ]
     },
     "execution_count": 60,
     "metadata": {},
     "output_type": "execute_result"
    }
   ],
   "source": [
    "mi_df"
   ]
  },
  {
   "cell_type": "code",
   "execution_count": 64,
   "metadata": {},
   "outputs": [
    {
     "data": {
      "text/plain": [
       "[<matplotlib.lines.Line2D at 0x7f69bbefa1d0>]"
      ]
     },
     "execution_count": 64,
     "metadata": {},
     "output_type": "execute_result"
    },
    {
     "data": {
      "image/png": "[encoded data removed]",
      "text/plain": [
       "<Figure size 432x288 with 1 Axes>"
      ]
     },
     "metadata": {
      "needs_background": "light"
     },
     "output_type": "display_data"
    }
   ],
   "source": [
    "plt.plot(MI)\n",
    "plt.plot(MI_var)"
   ]
  },
  {
   "cell_type": "code",
   "execution_count": 63,
   "metadata": {},
   "outputs": [
    {
     "data": {
      "text/plain": [
       "[<matplotlib.lines.Line2D at 0x7f69bbf1fb00>]"
      ]
     },
     "execution_count": 63,
     "metadata": {},
     "output_type": "execute_result"
    },
    {
     "data": {
      "image/png": "[encoded data removed]",
      "text/plain": [
       "<Figure size 432x288 with 1 Axes>"
      ]
     },
     "metadata": {
      "needs_background": "light"
     },
     "output_type": "display_data"
    }
   ],
   "source": [
    "plt.plot(shuff_MI)\n",
    "plt.plot(shuff_MI_var)"
   ]
  },
  {
   "cell_type": "code",
   "execution_count": 49,
   "metadata": {},
   "outputs": [
    {
     "data": {
      "image/png": "[encoded data removed]",
      "text/plain": [
       "<Figure size 720x288 with 2 Axes>"
      ]
     },
     "metadata": {
      "needs_background": "light"
     },
     "output_type": "display_data"
    }
   ],
   "source": [
    "fig,axs = plt.subplots(ncols=2, figsize = (10,4))\n",
    "ax = axs[0]\n",
    "ax.scatter(distances, MI-shuff_MI)\n",
    "ax.plot(distances, MI-shuff_MI, alpha = 0)\n",
    "ax.set_yscale('log')\n",
    "ax.set_xscale('log')\n",
    "ax.set_ylim([1e-3, 1])\n",
    "ax = axs[1]\n",
    "ax.scatter(distances, MI)\n",
    "ax.scatter(distances, shuff_MI)\n",
    "plt.show()"
   ]
  },
  {
   "cell_type": "code",
   "execution_count": 41,
   "metadata": {},
   "outputs": [
    {
     "data": {
      "text/plain": [
       "array(['', 'Becky', 'Clip_clop', 'Cromer', 'Daddy', 'Dumpty',\n",
       "       'Dumpty_Dumpty', 'Eve', 'Fraser', 'Granma', 'Humpty_Dumpty', 'I',\n",
       "       'Jack', 'Kathy', 'Lynn', 'Mommy', 'Neil', 'Papa', 'Racketyboom',\n",
       "       'Rangy', 'Sambo', 'Sandy', 'a', 'an', 'are', 'arm', 'baby',\n",
       "       'banjo', 'be', 'bear', 'bibbie', 'bird', 'block', 'book', 'bottle',\n",
       "       'boy', 'breakfast', 'briefcase', 'bring', 'broke', 'busy', 'bye',\n",
       "       'car', 'careful', 'carrot', 'cat', 'celery', 'change', 'cheese',\n",
       "       'choo_choo', 'cock_a_doodle_doo', 'coffee', 'come', 'coming',\n",
       "       'cook', 'cookie', 'cough', 'cracker', 'cry', 'cup', 'dance', 'de',\n",
       "       'did', 'do', 'dog', 'doll', 'dolly', 'door', 'down', 'drop', 'eat',\n",
       "       'eye', 'fall', 'farm', 'find', 'finger', 'fireplace', 'fish',\n",
       "       'fix', 'fly', 'fox', 'get', 'girl', 'go', 'gone', 'good', 'hat',\n",
       "       'have', 'head', 'her', 'here', 'hi', 'horsie', 'hot', 'i', 'it',\n",
       "       'juice', 'king', 'kitchen', 'kitty', 'lady', 'laiby', 'later',\n",
       "       'letter', 'lie', 'light', 'like', 'little', 'look', 'm', 'man',\n",
       "       'may', 'maybe', 'me', 'men', 'mi', 'milk', 'more', 'mouth', 'my',\n",
       "       'no', 'off', 'oh', 'on', 'one', 'op', 'other', 'outside', 'pantie',\n",
       "       'paper', 'pardon', 'pencil', 'piece', 'play', 'pudding', 'puzzle',\n",
       "       'quack', 'radio', 'read', 'record', 'room', 'seat', 'see', 'shoe',\n",
       "       'sing', 'sit', 'skunk', 'sleep', 'soldier', 'some', 'soup',\n",
       "       'spool', 'spoon', 'ss', 'stair', 'stand', 'step', 'stool', 'stuck',\n",
       "       'sugar', 'sure', 'swimming', 'swing', 'table', 'tam', 'tape',\n",
       "       'tapioca', 'taste', 'telephone', 'thank', 'thank_you', 'that',\n",
       "       'the', 'there', 'tiger', 'to', 'tomato', 'too', 'top', 'tray',\n",
       "       'turn', 'um', 'wait', 'wall', 'want', 'water', 'where', 'why',\n",
       "       'wiener', 'window', 'write', 'writing', 'ya', 'yeah', 'yep', 'you',\n",
       "       'your'], dtype='<U17')"
      ]
     },
     "execution_count": 41,
     "metadata": {},
     "output_type": "execute_result"
    }
   ],
   "source": [
    "np.unique(transcript_words)"
   ]
  },
  {
   "cell_type": "code",
   "execution_count": 40,
   "metadata": {},
   "outputs": [
    {
     "data": {
      "text/plain": [
       "'more cookie more cookie more juice Fraser Fraser Fraser Fraser yeah  a fly fly Mommy telephone my telephone Mommy no man man more cookie block broke there I did it there there Fraser baby Mommy read a stool Fraser Fraser more cookie more cookie little little little little milk milk milk milk that Fraser water oh Fraser bye water Fraser water Fraser water that coffee Fraser coffee down down cookie Mommy Mommy a fly read the puzzle read the puzzle read the puzzle read the puzzle read the puzzle read the puzzle read the puzzle Racketyboom hat m water bottle water there Fraser hat oh Fraser hat oh Fraser hat oh Fraser hat Fraser hat no eye that that soldier soldier that that Fraser hat Eve find it that that man Eve down that busy busy man a pencil man a pencil man pencil Eve pencil Eve pencil Eve pencil man a pencil pencil man see ya read read Clip_clop shoe shoe shoe shoe shoe shoe shoe my my my my Mommy book Racketyboom Racketyboom Racketyboom Racketyboom read Racketyboom Racketyboom Racketyboom Racketyboom Racketyboom Racketyboom Racketyboom read read choo_choo Mommy Mommy Mommy Mommy choo_choo choo_choo choo_choo choo_choo mi milk cup that top that there quack quack quack quack that that radio hat that like the farm cock_a_doodle_doo book Racketyboom Racketyboom Racketyboom yeah why choo_choo stool stool man stool that Neil sit Neil sit Neil sit Neil sit Neil sit Neil sit m cup Neil sit sit Neil sit Neil sit Neil sit Neil sit Neil sit Neil sit Neil sit Neil sit Neil sit Mommy get it that a stool sit Neil sit Neil sit Neil sit Neil sit Neil sit good girl Neil sit Neil sit that Eve seat Eve seat Eve seat Sambo Sambo Sambo read why Mommy Mommy head Mommy paper Mommy Mommy Mommy lie down stool lie down stool man Eve writing write too Mommy paper write a paper write a paper write a paper write a paper write a paper write a paper write a paper that that pencil read cheese m man man that that Mommy soup that pudding soup Mommy that that that that man more Mommy more pudding more pudding more pudding hot soup man tape men tape tape tape tape man tape m book book book book book down no Mommy paper down down down that that man no no car coming car come come car dolly celery dolly celery doll eat the dolly doll eat celery man man doll oh fish fish there dolly dolly no man have it have dolly dolly find it find it you find it find it find it a shoe dolly shoe there look that spool where top top find i that spoon spoon spoon man no spoon coffee my oh thank oh thank_you that that a top a top a top good man taste it man taste it man no taste it why mouth mouth taste it be careful careful man taste it man no taste it taste it man taste it sure man no sure taste it man no taste it man no taste it man no taste it man no taste it man no taste it man no taste it man no taste it man no taste it man no taste it man no taste it change your record a top drop a table man fireplace telephone hi hi hi hi hi Granma my my Mommy that yeah kitchen no no pencil a pencil pencil pencil pencil pencil pencil milk milk Cromer Cromer a coffee Fraser coffee pencil Becky Becky arm arm arm arm arm arm Mommy letter pencil look pencil pencil head yeah I fall milk milk cup a cup write write juice pencil an juice pencil pencil juice more juice Mommy juice a cough yep Mommy stair juice um juice juice do it man banjo yep there there Sambo coffee Sambo Sambo down down finger book read Mommy more more later may may maybe may paper the paper de the paper table Mommy pencil pencil pencil pencil pencil pencil my my my Mommy pencil Mommy Daddy down down down yep Mommy down Mommy down come down that that that that that coffee coffee that that sugar have it look fall down Mommy turn here water that Becky turn bring it bring it bye Becky Becky why where Rangy pardon me stair door a Becky a Becky a Becky Mommy sit down room read pencil pencil Cromer pencil that pencil letter letter letter tam some more want Mommy letter Mommy letter a letter Mommy letter Kathy letter Kathy letter no no a little pencil that man man that sugar sugar that sugar sugar coffee that that sugar coffee coffee coffee coffee that sugar sugar the king bear cat sugar fox fox fox fox a dog a dog fox Humpty_Dumpty Humpty_Dumpty Humpty_Dumpty that that Jack that that that a lady a lady a lady yep that a letter letter paper paper that that that tiger fox Dumpty a Dumpty Dumpty Dumpty Humpty_Dumpty Humpty_Dumpty that Dumpty_Dumpty Dumpty Dumpty Dumpty Dumpty that kitty kitty kitty that that fox that Dumpty that that Dumpty a Dumpty Dumpty Humpty_Dumpty Humpty_Dumpty Humpty_Dumpty Humpty_Dumpty Humpty_Dumpty Humpty_Dumpty Humpty_Dumpty a milk a milk Humpty_Dumpty Humpty_Dumpty Humpty_Dumpty Humpty_Dumpty Humpty_Dumpty pencil pencil horsie horsie horsie that that that that that eye horsie eye horsie eye horsie eye horsie eye horsie arm a letter horsie a horsie Humpty_Dumpty Humpty_Dumpty Humpty_Dumpty Humpty_Dumpty Humpty_Dumpty Humpty_Dumpty that that a stool a stool oh fish oh fish Humpty_Dumpty fish swimming fish are swimming that that that that briefcase briefcase that Cromer briefcase horsie horsie horsie horsie horsie horsie horsie horsie that that that Fraser briefcase banjo banjo Papa banjo table on wall yep laiby sing finger stuck finger stuck finger stuck finger stuck finger stuck yep stand dance I dance bird bird bird light oh light Eve light Rangy op op op op op op step Mommy step play step step step a step Becky why Rangy step get her get it that Lynn letter Lynn a horsie I see it Eve horsie oh change her oh change her oh change her change her Eve horsie Eve horsie Eve horsie Eve horsie Eve horsie Eve horsie wait oh pantie why why why why that have it off the one the one Eve one find it find it you find it you find it find it find it fix it fix other piece find it that Kathy sleep cry table on the table that Kathy outside go outside why later outside later outside outside Mommy there there there there Mommy fix bring it bring it that Kathy that Kathy op op why Mommy Kathy cry fix Kathy fix window window window Sandy Sandy play a tapioca bibbie a bibbie Mommy Mommy tapioca tapioca too cheese too spoon a that man that that letter Mommy letter Eve letter hi that that Papa tray Papa tray Papa breakfast have it Papa have it oh cookie cookie Mommy cheese Mommy cheese Mommy cheese Mommy swing why why why like a to swing spoon ss that tomato soup tomato soup have it have it eat it Mommy have it gone cook a wiener Mommy Mommy Mommy carrot drop a cheese drop a cheese drop a cheese drop a cheese have it cook down that cracker a piece have a piece have a piece have a piece have a piece that that that tapioca finger cracker that briefcase briefcase briefcase briefcase no pencil pencil drop drop drop drop pencil pencil pencil pencil pencil skunk skunk pencil pencil paper pencil pencil pencil pencil pencil pencil pencil pencil paper paper pencil pencil pencil pencil pencil pencil pencil pencil pencil pencil pencil pencil pencil pencil paper paper boy boy boy paper no no no no hat hat head sit down a finger a finger a finger a finger stuck yep turn Mommy have it'"
      ]
     },
     "execution_count": 40,
     "metadata": {},
     "output_type": "execute_result"
    }
   ],
   "source": [
    "' '.join(transcript_words)"
   ]
  },
  {
   "cell_type": "code",
   "execution_count": null,
   "metadata": {},
   "outputs": [],
   "source": []
  },
  {
   "cell_type": "code",
   "execution_count": 25,
   "metadata": {
    "ExecuteTime": {
     "end_time": "2020-01-13T09:48:08.930066Z",
     "start_time": "2020-01-13T09:46:40.577Z"
    }
   },
   "outputs": [],
   "source": [
    "# normalizer adjusted_mi_sklearn [4.49631099, 4.49605083, 4.49647457\n",
    "# normalizer adj mi "
   ]
  },
  {
   "cell_type": "code",
   "execution_count": 26,
   "metadata": {
    "ExecuteTime": {
     "end_time": "2020-01-13T09:48:08.931611Z",
     "start_time": "2020-01-13T09:46:40.579Z"
    }
   },
   "outputs": [],
   "source": [
    "# base mi adjusted_mi 2.88747083, 2.7273287 , 2.56587684\n",
    "# denom adj sklearn 2.42396593, 2.4233035\n",
    "# denom adj mi 2.85593394, 2.85557657"
   ]
  },
  {
   "cell_type": "code",
   "execution_count": 27,
   "metadata": {
    "ExecuteTime": {
     "end_time": "2020-01-13T09:48:08.933170Z",
     "start_time": "2020-01-13T09:46:40.580Z"
    }
   },
   "outputs": [
    {
     "data": {
      "text/plain": [
       "array([ 0.,  0.,  0., ..., nan, nan, nan])"
      ]
     },
     "execution_count": 27,
     "metadata": {},
     "output_type": "execute_result"
    }
   ],
   "source": [
    "# 1.64037705, 1.64047426, 1.64101196, 1.63995162, 1.63958011\n",
    "# [2.07234506, 2.07274733, 2.07400847, 2.07319133, 2.07337675,\n",
    "mi_df.MI_var.values[0]"
   ]
  },
  {
   "cell_type": "code",
   "execution_count": null,
   "metadata": {},
   "outputs": [],
   "source": []
  },
  {
   "cell_type": "code",
   "execution_count": 28,
   "metadata": {
    "ExecuteTime": {
     "end_time": "2020-01-13T09:48:08.934580Z",
     "start_time": "2020-01-13T09:46:40.582Z"
    }
   },
   "outputs": [
    {
     "data": {
      "text/plain": [
       "array([0.33627774, 0.27011943, 0.20304448, 0.18608952, 0.16573091,\n",
       "       0.16092295, 0.13732268, 0.13626416, 0.12653819, 0.11940759])"
      ]
     },
     "execution_count": 28,
     "metadata": {},
     "output_type": "execute_result"
    }
   ],
   "source": [
    "# array([0.33627774, 0.27011943, 0.20304448, 0.18608952, 0.16573091,\n",
    "mi_df.MI.values[0][:10]"
   ]
  },
  {
   "cell_type": "code",
   "execution_count": 29,
   "metadata": {
    "ExecuteTime": {
     "end_time": "2020-01-13T09:48:08.936066Z",
     "start_time": "2020-01-13T09:46:40.584Z"
    }
   },
   "outputs": [
    {
     "data": {
      "text/html": [
       "<div>\n",
       "<style scoped>\n",
       "    .dataframe tbody tr th:only-of-type {\n",
       "        vertical-align: middle;\n",
       "    }\n",
       "\n",
       "    .dataframe tbody tr th {\n",
       "        vertical-align: top;\n",
       "    }\n",
       "\n",
       "    .dataframe thead th {\n",
       "        text-align: right;\n",
       "    }\n",
       "</style>\n",
       "<table border=\"1\" class=\"dataframe\">\n",
       "  <thead>\n",
       "    <tr style=\"text-align: right;\">\n",
       "      <th></th>\n",
       "      <th>MI</th>\n",
       "      <th>MI_var</th>\n",
       "      <th>shuff_MI</th>\n",
       "      <th>shuff_MI_var</th>\n",
       "      <th>distances</th>\n",
       "      <th>age_cohort_low</th>\n",
       "      <th>age_cohort_high</th>\n",
       "      <th>n_words</th>\n",
       "      <th>n_unique_words</th>\n",
       "      <th>top_10_words</th>\n",
       "      <th>transcript_xml</th>\n",
       "      <th>age_years</th>\n",
       "      <th>corpus</th>\n",
       "    </tr>\n",
       "  </thead>\n",
       "  <tbody>\n",
       "    <tr>\n",
       "      <th>0</th>\n",
       "      <td>[0.3362777354565962, 0.2701194349441474, 0.203...</td>\n",
       "      <td>[0.0, 0.0, 0.0, 0.0, 0.0, 0.0, 0.0, 0.0, 0.0, ...</td>\n",
       "      <td>[-0.008065135746931426, 0.0006454761421062456,...</td>\n",
       "      <td>[0.0, 0.0, 0.0, 0.0, 0.0, 0.0, 0.0, 0.0, 0.0, ...</td>\n",
       "      <td>[1, 2, 3, 4, 5, 6, 7, 8, 9, 10, 11, 12, 13, 14...</td>\n",
       "      <td>1</td>\n",
       "      <td>1.5</td>\n",
       "      <td>1409</td>\n",
       "      <td>0</td>\n",
       "      <td>0</td>\n",
       "      <td>[/mnt/cube/tsainbur/Projects/github_repos/chil...</td>\n",
       "      <td>1.5</td>\n",
       "      <td>Brown</td>\n",
       "    </tr>\n",
       "  </tbody>\n",
       "</table>\n",
       "</div>"
      ],
      "text/plain": [
       "                                                  MI  \\\n",
       "0  [0.3362777354565962, 0.2701194349441474, 0.203...   \n",
       "\n",
       "                                              MI_var  \\\n",
       "0  [0.0, 0.0, 0.0, 0.0, 0.0, 0.0, 0.0, 0.0, 0.0, ...   \n",
       "\n",
       "                                            shuff_MI  \\\n",
       "0  [-0.008065135746931426, 0.0006454761421062456,...   \n",
       "\n",
       "                                        shuff_MI_var  \\\n",
       "0  [0.0, 0.0, 0.0, 0.0, 0.0, 0.0, 0.0, 0.0, 0.0, ...   \n",
       "\n",
       "                                           distances age_cohort_low  \\\n",
       "0  [1, 2, 3, 4, 5, 6, 7, 8, 9, 10, 11, 12, 13, 14...              1   \n",
       "\n",
       "   age_cohort_high n_words n_unique_words top_10_words  \\\n",
       "0              1.5    1409              0            0   \n",
       "\n",
       "                                      transcript_xml  age_years corpus  \n",
       "0  [/mnt/cube/tsainbur/Projects/github_repos/chil...        1.5  Brown  "
      ]
     },
     "execution_count": 29,
     "metadata": {},
     "output_type": "execute_result"
    }
   ],
   "source": [
    "mi_df"
   ]
  },
  {
   "cell_type": "code",
   "execution_count": 30,
   "metadata": {
    "ExecuteTime": {
     "end_time": "2020-01-13T09:48:08.937716Z",
     "start_time": "2020-01-13T09:46:40.585Z"
    }
   },
   "outputs": [],
   "source": [
    "### ami parallel MI = array([0.43666759, 0.3806077 , 0.32389319, 0.30957531, 0.29246958, 0.28843651, 0.26858635, 0.26775754, 0.25964903])"
   ]
  },
  {
   "cell_type": "code",
   "execution_count": 31,
   "metadata": {
    "ExecuteTime": {
     "end_time": "2020-01-13T09:48:08.939285Z",
     "start_time": "2020-01-13T09:46:40.587Z"
    }
   },
   "outputs": [
    {
     "data": {
      "image/png": "[encoded data removed]",
      "text/plain": [
       "<Figure size 1440x288 with 4 Axes>"
      ]
     },
     "metadata": {
      "needs_background": "light"
     },
     "output_type": "display_data"
    }
   ],
   "source": [
    "fig,axs = plt.subplots(ncols=4, figsize = (20,4))\n",
    "ax = axs[0]\n",
    "ax.scatter(np.arange(1, len(MI)+1), MI-shuff_MI)\n",
    "ax.plot(np.arange(1, len(MI)+1), MI-shuff_MI, alpha = 0)\n",
    "ax.set_yscale('log')\n",
    "ax.set_xscale('log')\n",
    "ax.set_ylim([1e-2,1])\n",
    "ax = axs[1]\n",
    "ax.scatter(np.arange(1, len(MI)+1), MI)\n",
    "ax.scatter(np.arange(1, len(MI)+1), shuff_MI)\n",
    "\n",
    "ax = axs[2]\n",
    "ax.scatter(np.arange(1, len(MI)+1), MI)\n",
    "ax.scatter(np.arange(1, len(MI)+1), MI_var)\n",
    "ax = axs[3]\n",
    "ax.scatter(np.arange(1, len(MI)+1), MI-MI_var)\n",
    "\n",
    "ax.set_ylim([1e-2,1])\n",
    "ax.set_yscale('log')\n",
    "ax.set_xscale('log')\n",
    "plt.show()"
   ]
  },
  {
   "cell_type": "code",
   "execution_count": 32,
   "metadata": {},
   "outputs": [
    {
     "data": {
      "text/plain": [
       "[<matplotlib.lines.Line2D at 0x7f69c9dd3518>]"
      ]
     },
     "execution_count": 32,
     "metadata": {},
     "output_type": "execute_result"
    },
    {
     "data": {
      "image/png": "[encoded data removed]",
      "text/plain": [
       "<Figure size 432x288 with 1 Axes>"
      ]
     },
     "metadata": {
      "needs_background": "light"
     },
     "output_type": "display_data"
    }
   ],
   "source": [
    "plt.plot(shuff_MI)"
   ]
  },
  {
   "cell_type": "code",
   "execution_count": null,
   "metadata": {
    "ExecuteTime": {
     "end_time": "2020-01-13T09:48:08.940713Z",
     "start_time": "2020-01-13T09:46:40.588Z"
    }
   },
   "outputs": [],
   "source": [
    "mi_df[:3]"
   ]
  },
  {
   "cell_type": "code",
   "execution_count": null,
   "metadata": {
    "ExecuteTime": {
     "end_time": "2020-01-13T09:48:08.942257Z",
     "start_time": "2020-01-13T09:46:40.589Z"
    }
   },
   "outputs": [],
   "source": [
    "len(mi_df)"
   ]
  },
  {
   "cell_type": "code",
   "execution_count": null,
   "metadata": {
    "ExecuteTime": {
     "end_time": "2020-01-13T09:48:08.943716Z",
     "start_time": "2020-01-13T09:46:40.591Z"
    }
   },
   "outputs": [],
   "source": [
    "#mi_df.to_pickle(DATA_DIR / 'mi' / 'CHILDES_longest.pickle')"
   ]
  }
 ],
 "metadata": {
  "kernelspec": {
   "display_name": "Python 3",
   "language": "python",
   "name": "python3"
  },
  "language_info": {
   "codemirror_mode": {
    "name": "ipython",
    "version": 3
   },
   "file_extension": ".py",
   "mimetype": "text/x-python",
   "name": "python",
   "nbconvert_exporter": "python",
   "pygments_lexer": "ipython3",
   "version": "3.6.7"
  }
 },
 "nbformat": 4,
 "nbformat_minor": 2
}
