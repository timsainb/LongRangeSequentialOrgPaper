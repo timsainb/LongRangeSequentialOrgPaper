{
 "cells": [
  {
   "cell_type": "code",
   "execution_count": 1,
   "metadata": {
    "ExecuteTime": {
     "end_time": "2020-01-12T01:12:54.000815Z",
     "start_time": "2020-01-12T01:12:53.884333Z"
    }
   },
   "outputs": [],
   "source": [
    "%load_ext autoreload\n",
    "%autoreload 2"
   ]
  },
  {
   "cell_type": "code",
   "execution_count": 2,
   "metadata": {
    "ExecuteTime": {
     "end_time": "2020-01-12T01:12:54.819957Z",
     "start_time": "2020-01-12T01:12:54.225966Z"
    }
   },
   "outputs": [],
   "source": [
    "from childes_mi.utils.paths import CHILDES_DFS, DATA_DIR\n",
    "from childes_mi.utils.general import flatten"
   ]
  },
  {
   "cell_type": "code",
   "execution_count": 3,
   "metadata": {
    "ExecuteTime": {
     "end_time": "2020-01-12T01:12:55.601445Z",
     "start_time": "2020-01-12T01:12:54.822961Z"
    }
   },
   "outputs": [
    {
     "name": "stderr",
     "output_type": "stream",
     "text": [
      "/mnt/cube/tsainbur/conda_envs/tpy3/lib/python3.6/site-packages/tqdm/autonotebook/__init__.py:14: TqdmExperimentalWarning: Using `tqdm.autonotebook.tqdm` in notebook mode. Use `tqdm.tqdm` instead to force console mode (e.g. in jupyter console)\n",
      "  \" (e.g. in jupyter console)\", TqdmExperimentalWarning)\n"
     ]
    }
   ],
   "source": [
    "import pandas as pd\n",
    "import numpy as np\n",
    "import matplotlib.pyplot as plt\n",
    "import pandas as pd\n",
    "from tqdm.autonotebook import tqdm"
   ]
  },
  {
   "cell_type": "code",
   "execution_count": 4,
   "metadata": {
    "ExecuteTime": {
     "end_time": "2020-01-12T01:12:58.348118Z",
     "start_time": "2020-01-12T01:12:55.604349Z"
    }
   },
   "outputs": [
    {
     "data": {
      "text/plain": [
       "2785"
      ]
     },
     "execution_count": 4,
     "metadata": {},
     "output_type": "execute_result"
    }
   ],
   "source": [
    "transcript_df = pd.read_pickle(CHILDES_DFS/'childes_df_subset.pickle')\n",
    "#transcript_df['dataset'] = [i[0].split('/')[11] for i in transcript_df.transcript_xml.values]\n",
    "len(transcript_df)"
   ]
  },
  {
   "cell_type": "code",
   "execution_count": 5,
   "metadata": {
    "ExecuteTime": {
     "end_time": "2020-01-12T01:12:58.380102Z",
     "start_time": "2020-01-12T01:12:58.351419Z"
    }
   },
   "outputs": [],
   "source": [
    "# mask for only a subset of corpuses\n",
    "possible_corpuses = [\n",
    "    # carterette is also transcribed in IPA\n",
    "    \"Carterette\",  # 1st, 3rd, 5th grade, adults, speech naturalistic speech in IPA https://childes.talkbank.org/access/Eng-NA/Carterette.html\n",
    "    \"Gillam\",  # normal subset, spontaneous storytelling 5-11y11m https://childes.talkbank.org/access/Clinical-MOR/Gillam.html\n",
    "    \"Braunwald\",  # single subject from 1-6yo talking to family https://childes.talkbank.org/access/Eng-NA/Braunwald.html\n",
    "    \"Brown\",  # 1y6m-5y1m, 3 subjects naturalistic talking to parents https://childes.talkbank.org/access/Eng-NA/Brown.html\n",
    "    \"EllisWeismer\",  # 2y6m - 5y6 naturalistic play-oriented talk with instructor # https://childes.talkbank.org/access/Clinical-MOR/EllisWeismer.html\n",
    "    \"Gleason\",  # 2;1 - 5;2 family interactions https://childes.talkbank.org/access/Eng-NA/Gleason.html\n",
    "    \"NH\",# Nicholas-NH,  # 1;0-4;0, videotaped play with parent https://childes.talkbank.org/access/Clinical-MOR/Nicholas/NH.html\n",
    "    \"Post\",  # 1;7-2;8 60m session with family and toys https://childes.talkbank.org/access/Eng-NA/Post.html\n",
    "    \"Normal\",  #  Rondal-Normal 3-12yo free play with mother and child https://childes.talkbank.org/access/Clinical-MOR/Normal /Normal.html\n",
    "]\n",
    "corpus_mask = [corpus in possible_corpuses for corpus in transcript_df.corpus.values]\n",
    "transcript_df = transcript_df[corpus_mask]"
   ]
  },
  {
   "cell_type": "code",
   "execution_count": 6,
   "metadata": {
    "ExecuteTime": {
     "end_time": "2020-01-12T01:12:58.518066Z",
     "start_time": "2020-01-12T01:12:58.382856Z"
    }
   },
   "outputs": [
    {
     "data": {
      "text/plain": [
       "2785"
      ]
     },
     "execution_count": 6,
     "metadata": {},
     "output_type": "execute_result"
    }
   ],
   "source": [
    "# mask for a subset of roles\n",
    "possible_roles = ['Target_Child', 'Child']\n",
    "role_mask = [role in possible_roles for role in transcript_df.role.values]\n",
    "transcript_df = transcript_df[role_mask]\n",
    "len(transcript_df)"
   ]
  },
  {
   "cell_type": "code",
   "execution_count": 7,
   "metadata": {
    "ExecuteTime": {
     "end_time": "2020-01-12T01:12:58.982349Z",
     "start_time": "2020-01-12T01:12:58.521707Z"
    }
   },
   "outputs": [
    {
     "data": {
      "text/html": [
       "<div>\n",
       "<style scoped>\n",
       "    .dataframe tbody tr th:only-of-type {\n",
       "        vertical-align: middle;\n",
       "    }\n",
       "\n",
       "    .dataframe tbody tr th {\n",
       "        vertical-align: top;\n",
       "    }\n",
       "\n",
       "    .dataframe thead th {\n",
       "        text-align: right;\n",
       "    }\n",
       "</style>\n",
       "<table border=\"1\" class=\"dataframe\">\n",
       "  <thead>\n",
       "    <tr style=\"text-align: right;\">\n",
       "      <th></th>\n",
       "      <th>PID</th>\n",
       "      <th>lang</th>\n",
       "      <th>corpus</th>\n",
       "      <th>date</th>\n",
       "      <th>participant_key</th>\n",
       "      <th>role</th>\n",
       "      <th>age</th>\n",
       "      <th>language</th>\n",
       "      <th>sex</th>\n",
       "      <th>POS</th>\n",
       "      <th>words</th>\n",
       "      <th>morphemes</th>\n",
       "      <th>transcript_xml</th>\n",
       "      <th>n_words</th>\n",
       "      <th>n_morphemes</th>\n",
       "      <th>n_POS</th>\n",
       "      <th>age_months</th>\n",
       "      <th>age_years</th>\n",
       "    </tr>\n",
       "  </thead>\n",
       "  <tbody>\n",
       "    <tr>\n",
       "      <th>72301</th>\n",
       "      <td>11312/c-00015848-1</td>\n",
       "      <td>eng</td>\n",
       "      <td>Carterette</td>\n",
       "      <td>1984-01-01</td>\n",
       "      <td>CHI</td>\n",
       "      <td>Target_Child</td>\n",
       "      <td>P6Y</td>\n",
       "      <td>eng</td>\n",
       "      <td>NaN</td>\n",
       "      <td>[[pro:per, v, , , conj, n:prop, coord, pro:ind...</td>\n",
       "      <td>[[you, mean, uh, um, like, England, or, someth...</td>\n",
       "      <td>[[you, mean, uh, um, like, England, or, someth...</td>\n",
       "      <td>[/mnt/cube/tsainbur/Projects/github_repos/chil...</td>\n",
       "      <td>19903</td>\n",
       "      <td>2102</td>\n",
       "      <td>2102</td>\n",
       "      <td>72.0</td>\n",
       "      <td>6.0</td>\n",
       "    </tr>\n",
       "    <tr>\n",
       "      <th>72302</th>\n",
       "      <td>11312/c-00015847-1</td>\n",
       "      <td>eng</td>\n",
       "      <td>Carterette</td>\n",
       "      <td>1984-01-01</td>\n",
       "      <td>CHI</td>\n",
       "      <td>Target_Child</td>\n",
       "      <td>P10Y</td>\n",
       "      <td>eng</td>\n",
       "      <td>NaN</td>\n",
       "      <td>[[co, , pro:sub, v, , det:num, n], [coord, , p...</td>\n",
       "      <td>[[well, um, I, have, uh, one, sister], [and, u...</td>\n",
       "      <td>[[well, um, I, have, uh, one, sister], [and, u...</td>\n",
       "      <td>[/mnt/cube/tsainbur/Projects/github_repos/chil...</td>\n",
       "      <td>26941</td>\n",
       "      <td>2729</td>\n",
       "      <td>2729</td>\n",
       "      <td>120.0</td>\n",
       "      <td>10.0</td>\n",
       "    </tr>\n",
       "    <tr>\n",
       "      <th>72303</th>\n",
       "      <td>11312/c-00015849-1</td>\n",
       "      <td>eng</td>\n",
       "      <td>Carterette</td>\n",
       "      <td>1984-01-01</td>\n",
       "      <td>CHI</td>\n",
       "      <td>Target_Child</td>\n",
       "      <td>P8Y</td>\n",
       "      <td>eng</td>\n",
       "      <td>NaN</td>\n",
       "      <td>[[v, n, n], [co, n:prop, v, prep, det:art, n, ...</td>\n",
       "      <td>[[lets, watch, tv], [well, Nancy, said, for, t...</td>\n",
       "      <td>[[let-3S, watch, tv], [well, Nancy, say-PAST, ...</td>\n",
       "      <td>[/mnt/cube/tsainbur/Projects/github_repos/chil...</td>\n",
       "      <td>21419</td>\n",
       "      <td>2019</td>\n",
       "      <td>2019</td>\n",
       "      <td>96.0</td>\n",
       "      <td>8.0</td>\n",
       "    </tr>\n",
       "  </tbody>\n",
       "</table>\n",
       "</div>"
      ],
      "text/plain": [
       "                      PID lang      corpus        date participant_key  \\\n",
       "72301  11312/c-00015848-1  eng  Carterette  1984-01-01             CHI   \n",
       "72302  11312/c-00015847-1  eng  Carterette  1984-01-01             CHI   \n",
       "72303  11312/c-00015849-1  eng  Carterette  1984-01-01             CHI   \n",
       "\n",
       "               role   age language  sex  \\\n",
       "72301  Target_Child   P6Y      eng  NaN   \n",
       "72302  Target_Child  P10Y      eng  NaN   \n",
       "72303  Target_Child   P8Y      eng  NaN   \n",
       "\n",
       "                                                     POS  \\\n",
       "72301  [[pro:per, v, , , conj, n:prop, coord, pro:ind...   \n",
       "72302  [[co, , pro:sub, v, , det:num, n], [coord, , p...   \n",
       "72303  [[v, n, n], [co, n:prop, v, prep, det:art, n, ...   \n",
       "\n",
       "                                                   words  \\\n",
       "72301  [[you, mean, uh, um, like, England, or, someth...   \n",
       "72302  [[well, um, I, have, uh, one, sister], [and, u...   \n",
       "72303  [[lets, watch, tv], [well, Nancy, said, for, t...   \n",
       "\n",
       "                                               morphemes  \\\n",
       "72301  [[you, mean, uh, um, like, England, or, someth...   \n",
       "72302  [[well, um, I, have, uh, one, sister], [and, u...   \n",
       "72303  [[let-3S, watch, tv], [well, Nancy, say-PAST, ...   \n",
       "\n",
       "                                          transcript_xml  n_words  \\\n",
       "72301  [/mnt/cube/tsainbur/Projects/github_repos/chil...    19903   \n",
       "72302  [/mnt/cube/tsainbur/Projects/github_repos/chil...    26941   \n",
       "72303  [/mnt/cube/tsainbur/Projects/github_repos/chil...    21419   \n",
       "\n",
       "       n_morphemes  n_POS  age_months  age_years  \n",
       "72301         2102   2102        72.0        6.0  \n",
       "72302         2729   2729       120.0       10.0  \n",
       "72303         2019   2019        96.0        8.0  "
      ]
     },
     "execution_count": 7,
     "metadata": {},
     "output_type": "execute_result"
    }
   ],
   "source": [
    "transcript_df[:3]"
   ]
  },
  {
   "cell_type": "code",
   "execution_count": 8,
   "metadata": {
    "ExecuteTime": {
     "end_time": "2020-01-12T01:12:59.008928Z",
     "start_time": "2020-01-12T01:12:58.984391Z"
    }
   },
   "outputs": [
    {
     "name": "stdout",
     "output_type": "stream",
     "text": [
      "['Carterette' 'Brown' 'Braunwald' 'Post' 'Gleason' 'Normal' 'Gillam'\n",
      " 'EllisWeismer' 'NH']\n"
     ]
    }
   ],
   "source": [
    "print(transcript_df.corpus.unique())"
   ]
  },
  {
   "cell_type": "code",
   "execution_count": 9,
   "metadata": {
    "ExecuteTime": {
     "end_time": "2020-01-12T01:12:59.106332Z",
     "start_time": "2020-01-12T01:12:59.010836Z"
    }
   },
   "outputs": [
    {
     "name": "stdout",
     "output_type": "stream",
     "text": [
      "there are 1247296 words in this dataset\n"
     ]
    }
   ],
   "source": [
    "print(\"there are {} words in this dataset\".format(np.sum(transcript_df.n_words.values)))"
   ]
  },
  {
   "cell_type": "markdown",
   "metadata": {},
   "source": [
    "### Get child ages"
   ]
  },
  {
   "cell_type": "code",
   "execution_count": 10,
   "metadata": {
    "ExecuteTime": {
     "end_time": "2020-01-12T01:12:59.188769Z",
     "start_time": "2020-01-12T01:12:59.108343Z"
    }
   },
   "outputs": [],
   "source": [
    "import re\n",
    "def convert_age(age_year):\n",
    "    \"Caclculate age in months from a string in CHILDES format\"\n",
    "    if age_year[-1] == 'Y':\n",
    "        age_year += '0'\n",
    "    m = re.match(\"P(\\d+)Y(\\d+)M?(\\d?\\d?)D?\", age_year)\n",
    "    age_month = int(m.group(1)) * 12 + int(m.group(2))\n",
    "    try:\n",
    "        if int(m.group(3)) > 15:\n",
    "            age_month += 1\n",
    "    # some corpora don't have age information?\n",
    "    except ValueError as e:\n",
    "        pass\n",
    "    return age_month"
   ]
  },
  {
   "cell_type": "code",
   "execution_count": 11,
   "metadata": {
    "ExecuteTime": {
     "end_time": "2020-01-12T01:12:59.367720Z",
     "start_time": "2020-01-12T01:12:59.190697Z"
    }
   },
   "outputs": [
    {
     "data": {
      "application/vnd.jupyter.widget-view+json": {
       "model_id": "6d305ecb942249ada5ba002e20c532e1",
       "version_major": 2,
       "version_minor": 0
      },
      "text/plain": [
       "HBox(children=(IntProgress(value=0, max=2785), HTML(value='')))"
      ]
     },
     "metadata": {},
     "output_type": "display_data"
    },
    {
     "name": "stdout",
     "output_type": "stream",
     "text": [
      "\n"
     ]
    }
   ],
   "source": [
    "transcript_df[\"age_months\"] = [\n",
    "    convert_age(i) if type(i) == str else np.nan for i in tqdm(transcript_df.age.values)\n",
    "]"
   ]
  },
  {
   "cell_type": "code",
   "execution_count": 12,
   "metadata": {
    "ExecuteTime": {
     "end_time": "2020-01-12T01:12:59.443787Z",
     "start_time": "2020-01-12T01:12:59.369999Z"
    }
   },
   "outputs": [],
   "source": [
    "transcript_df[\"age_years\"] = transcript_df[\"age_months\"] / 12"
   ]
  },
  {
   "cell_type": "code",
   "execution_count": 13,
   "metadata": {
    "ExecuteTime": {
     "end_time": "2020-01-12T01:12:59.864513Z",
     "start_time": "2020-01-12T01:12:59.445613Z"
    }
   },
   "outputs": [
    {
     "data": {
      "text/html": [
       "<div>\n",
       "<style scoped>\n",
       "    .dataframe tbody tr th:only-of-type {\n",
       "        vertical-align: middle;\n",
       "    }\n",
       "\n",
       "    .dataframe tbody tr th {\n",
       "        vertical-align: top;\n",
       "    }\n",
       "\n",
       "    .dataframe thead th {\n",
       "        text-align: right;\n",
       "    }\n",
       "</style>\n",
       "<table border=\"1\" class=\"dataframe\">\n",
       "  <thead>\n",
       "    <tr style=\"text-align: right;\">\n",
       "      <th></th>\n",
       "      <th>PID</th>\n",
       "      <th>lang</th>\n",
       "      <th>corpus</th>\n",
       "      <th>date</th>\n",
       "      <th>participant_key</th>\n",
       "      <th>role</th>\n",
       "      <th>age</th>\n",
       "      <th>language</th>\n",
       "      <th>sex</th>\n",
       "      <th>POS</th>\n",
       "      <th>words</th>\n",
       "      <th>morphemes</th>\n",
       "      <th>transcript_xml</th>\n",
       "      <th>n_words</th>\n",
       "      <th>n_morphemes</th>\n",
       "      <th>n_POS</th>\n",
       "      <th>age_months</th>\n",
       "      <th>age_years</th>\n",
       "    </tr>\n",
       "  </thead>\n",
       "  <tbody>\n",
       "    <tr>\n",
       "      <th>72301</th>\n",
       "      <td>11312/c-00015848-1</td>\n",
       "      <td>eng</td>\n",
       "      <td>Carterette</td>\n",
       "      <td>1984-01-01</td>\n",
       "      <td>CHI</td>\n",
       "      <td>Target_Child</td>\n",
       "      <td>P6Y</td>\n",
       "      <td>eng</td>\n",
       "      <td>NaN</td>\n",
       "      <td>[[pro:per, v, , , conj, n:prop, coord, pro:ind...</td>\n",
       "      <td>[[you, mean, uh, um, like, England, or, someth...</td>\n",
       "      <td>[[you, mean, uh, um, like, England, or, someth...</td>\n",
       "      <td>[/mnt/cube/tsainbur/Projects/github_repos/chil...</td>\n",
       "      <td>19903</td>\n",
       "      <td>2102</td>\n",
       "      <td>2102</td>\n",
       "      <td>72.0</td>\n",
       "      <td>6.0</td>\n",
       "    </tr>\n",
       "    <tr>\n",
       "      <th>72302</th>\n",
       "      <td>11312/c-00015847-1</td>\n",
       "      <td>eng</td>\n",
       "      <td>Carterette</td>\n",
       "      <td>1984-01-01</td>\n",
       "      <td>CHI</td>\n",
       "      <td>Target_Child</td>\n",
       "      <td>P10Y</td>\n",
       "      <td>eng</td>\n",
       "      <td>NaN</td>\n",
       "      <td>[[co, , pro:sub, v, , det:num, n], [coord, , p...</td>\n",
       "      <td>[[well, um, I, have, uh, one, sister], [and, u...</td>\n",
       "      <td>[[well, um, I, have, uh, one, sister], [and, u...</td>\n",
       "      <td>[/mnt/cube/tsainbur/Projects/github_repos/chil...</td>\n",
       "      <td>26941</td>\n",
       "      <td>2729</td>\n",
       "      <td>2729</td>\n",
       "      <td>120.0</td>\n",
       "      <td>10.0</td>\n",
       "    </tr>\n",
       "    <tr>\n",
       "      <th>72303</th>\n",
       "      <td>11312/c-00015849-1</td>\n",
       "      <td>eng</td>\n",
       "      <td>Carterette</td>\n",
       "      <td>1984-01-01</td>\n",
       "      <td>CHI</td>\n",
       "      <td>Target_Child</td>\n",
       "      <td>P8Y</td>\n",
       "      <td>eng</td>\n",
       "      <td>NaN</td>\n",
       "      <td>[[v, n, n], [co, n:prop, v, prep, det:art, n, ...</td>\n",
       "      <td>[[lets, watch, tv], [well, Nancy, said, for, t...</td>\n",
       "      <td>[[let-3S, watch, tv], [well, Nancy, say-PAST, ...</td>\n",
       "      <td>[/mnt/cube/tsainbur/Projects/github_repos/chil...</td>\n",
       "      <td>21419</td>\n",
       "      <td>2019</td>\n",
       "      <td>2019</td>\n",
       "      <td>96.0</td>\n",
       "      <td>8.0</td>\n",
       "    </tr>\n",
       "  </tbody>\n",
       "</table>\n",
       "</div>"
      ],
      "text/plain": [
       "                      PID lang      corpus        date participant_key  \\\n",
       "72301  11312/c-00015848-1  eng  Carterette  1984-01-01             CHI   \n",
       "72302  11312/c-00015847-1  eng  Carterette  1984-01-01             CHI   \n",
       "72303  11312/c-00015849-1  eng  Carterette  1984-01-01             CHI   \n",
       "\n",
       "               role   age language  sex  \\\n",
       "72301  Target_Child   P6Y      eng  NaN   \n",
       "72302  Target_Child  P10Y      eng  NaN   \n",
       "72303  Target_Child   P8Y      eng  NaN   \n",
       "\n",
       "                                                     POS  \\\n",
       "72301  [[pro:per, v, , , conj, n:prop, coord, pro:ind...   \n",
       "72302  [[co, , pro:sub, v, , det:num, n], [coord, , p...   \n",
       "72303  [[v, n, n], [co, n:prop, v, prep, det:art, n, ...   \n",
       "\n",
       "                                                   words  \\\n",
       "72301  [[you, mean, uh, um, like, England, or, someth...   \n",
       "72302  [[well, um, I, have, uh, one, sister], [and, u...   \n",
       "72303  [[lets, watch, tv], [well, Nancy, said, for, t...   \n",
       "\n",
       "                                               morphemes  \\\n",
       "72301  [[you, mean, uh, um, like, England, or, someth...   \n",
       "72302  [[well, um, I, have, uh, one, sister], [and, u...   \n",
       "72303  [[let-3S, watch, tv], [well, Nancy, say-PAST, ...   \n",
       "\n",
       "                                          transcript_xml  n_words  \\\n",
       "72301  [/mnt/cube/tsainbur/Projects/github_repos/chil...    19903   \n",
       "72302  [/mnt/cube/tsainbur/Projects/github_repos/chil...    26941   \n",
       "72303  [/mnt/cube/tsainbur/Projects/github_repos/chil...    21419   \n",
       "\n",
       "       n_morphemes  n_POS  age_months  age_years  \n",
       "72301         2102   2102        72.0        6.0  \n",
       "72302         2729   2729       120.0       10.0  \n",
       "72303         2019   2019        96.0        8.0  "
      ]
     },
     "execution_count": 13,
     "metadata": {},
     "output_type": "execute_result"
    }
   ],
   "source": [
    "transcript_df[:3]"
   ]
  },
  {
   "cell_type": "markdown",
   "metadata": {},
   "source": [
    "### Sentence lengths"
   ]
  },
  {
   "cell_type": "code",
   "execution_count": 14,
   "metadata": {
    "ExecuteTime": {
     "end_time": "2020-01-12T01:12:59.888232Z",
     "start_time": "2020-01-12T01:12:59.866280Z"
    }
   },
   "outputs": [],
   "source": [
    "age_cohorts = [[1, 1.5], [1.5, 2], [2, 2.5], [2.5, 3], [3, 20]]"
   ]
  },
  {
   "cell_type": "raw",
   "metadata": {
    "ExecuteTime": {
     "end_time": "2020-01-12T01:13:09.770985Z",
     "start_time": "2020-01-12T01:13:09.730578Z"
    }
   },
   "source": [
    "#print(age_cohort_low, age_cohort_high, np.median([len(i) for i in cohort_words]), n_words, n_unique_words)\n",
    "1 1.5 38.0 15154 5439\n",
    "1.5 2 98.0 57580 19538\n",
    "2 2.5 204.0 167722 50039\n",
    "2.5 3 121.5 110580 33211"
   ]
  },
  {
   "cell_type": "markdown",
   "metadata": {},
   "source": [
    "## MI\n",
    "- for each sequence, calculate the decay of a sequence as a function of distance between elements for that sequence indiividually\n",
    "- Treat each phoneme as unique for that child, and compute MI across children"
   ]
  },
  {
   "cell_type": "code",
   "execution_count": 15,
   "metadata": {
    "ExecuteTime": {
     "end_time": "2020-01-12T01:17:23.391150Z",
     "start_time": "2020-01-12T01:17:23.142811Z"
    }
   },
   "outputs": [
    {
     "name": "stderr",
     "output_type": "stream",
     "text": [
      "/mnt/cube/tsainbur/conda_envs/tpy3/lib/python3.6/site-packages/sklearn/utils/deprecation.py:144: FutureWarning: The sklearn.metrics.cluster.supervised module is  deprecated in version 0.22 and will be removed in version 0.24. The corresponding classes / functions should instead be imported from sklearn.metrics.cluster. Anything that cannot be imported from sklearn.metrics.cluster is now part of the private API.\n",
      "  warnings.warn(message, FutureWarning)\n",
      "/mnt/cube/tsainbur/conda_envs/tpy3/lib/python3.6/site-packages/sklearn/utils/deprecation.py:144: FutureWarning: The sklearn.metrics.cluster.expected_mutual_info_fast module is  deprecated in version 0.22 and will be removed in version 0.24. The corresponding classes / functions should instead be imported from sklearn.metrics.cluster. Anything that cannot be imported from sklearn.metrics.cluster is now part of the private API.\n",
      "  warnings.warn(message, FutureWarning)\n"
     ]
    }
   ],
   "source": [
    "from childes_mi.information_theory import mutual_information as mi"
   ]
  },
  {
   "cell_type": "markdown",
   "metadata": {},
   "source": [
    "#### Run MI by age cohort"
   ]
  },
  {
   "cell_type": "code",
   "execution_count": 16,
   "metadata": {
    "ExecuteTime": {
     "end_time": "2020-01-12T01:17:24.216204Z",
     "start_time": "2020-01-12T01:17:24.172848Z"
    }
   },
   "outputs": [],
   "source": [
    "distances = np.arange(1,101)"
   ]
  },
  {
   "cell_type": "code",
   "execution_count": 17,
   "metadata": {
    "ExecuteTime": {
     "end_time": "2020-01-12T01:21:02.234359Z",
     "start_time": "2020-01-12T01:20:31.562097Z"
    },
    "scrolled": true
   },
   "outputs": [
    {
     "data": {
      "application/vnd.jupyter.widget-view+json": {
       "model_id": "221393b57c414ddea862bc7ccc7daa6b",
       "version_major": 2,
       "version_minor": 0
      },
      "text/plain": [
       "HBox(children=(IntProgress(value=0, max=5), HTML(value='')))"
      ]
     },
     "metadata": {},
     "output_type": "display_data"
    },
    {
     "name": "stdout",
     "output_type": "stream",
     "text": [
      "1 1.5 15154 5439\n"
     ]
    },
    {
     "data": {
      "application/vnd.jupyter.widget-view+json": {
       "model_id": "",
       "version_major": 2,
       "version_minor": 0
      },
      "text/plain": [
       "HBox(children=(IntProgress(value=0), HTML(value='')))"
      ]
     },
     "metadata": {},
     "output_type": "display_data"
    },
    {
     "name": "stderr",
     "output_type": "stream",
     "text": [
      "[Parallel(n_jobs=-1)]: Using backend LokyBackend with 32 concurrent workers.\n",
      "[Parallel(n_jobs=-1)]: Done   1 tasks      | elapsed:  6.8min\n",
      "[Parallel(n_jobs=-1)]: Done   2 tasks      | elapsed:  7.1min\n",
      "[Parallel(n_jobs=-1)]: Done   3 tasks      | elapsed:  7.2min\n",
      "[Parallel(n_jobs=-1)]: Done   4 tasks      | elapsed:  7.3min\n",
      "[Parallel(n_jobs=-1)]: Done   5 tasks      | elapsed:  7.4min\n",
      "[Parallel(n_jobs=-1)]: Done   6 tasks      | elapsed:  7.6min\n",
      "[Parallel(n_jobs=-1)]: Done   7 tasks      | elapsed:  7.9min\n",
      "[Parallel(n_jobs=-1)]: Done   8 tasks      | elapsed:  8.2min\n",
      "[Parallel(n_jobs=-1)]: Done   9 tasks      | elapsed:  8.3min\n",
      "[Parallel(n_jobs=-1)]: Done  10 tasks      | elapsed:  8.4min\n",
      "[Parallel(n_jobs=-1)]: Done  11 tasks      | elapsed:  8.7min\n",
      "[Parallel(n_jobs=-1)]: Done  12 tasks      | elapsed:  8.9min\n",
      "[Parallel(n_jobs=-1)]: Done  13 tasks      | elapsed:  9.2min\n",
      "[Parallel(n_jobs=-1)]: Done  14 tasks      | elapsed:  9.4min\n",
      "[Parallel(n_jobs=-1)]: Done  15 tasks      | elapsed:  9.7min\n",
      "[Parallel(n_jobs=-1)]: Done  16 tasks      | elapsed:  9.8min\n",
      "[Parallel(n_jobs=-1)]: Done  17 tasks      | elapsed: 10.0min\n",
      "[Parallel(n_jobs=-1)]: Done  18 tasks      | elapsed: 10.4min\n",
      "[Parallel(n_jobs=-1)]: Done  19 tasks      | elapsed: 10.5min\n",
      "[Parallel(n_jobs=-1)]: Done  20 tasks      | elapsed: 10.9min\n",
      "[Parallel(n_jobs=-1)]: Done  21 tasks      | elapsed: 11.0min\n",
      "[Parallel(n_jobs=-1)]: Done  22 tasks      | elapsed: 11.4min\n",
      "[Parallel(n_jobs=-1)]: Done  23 tasks      | elapsed: 12.0min\n",
      "[Parallel(n_jobs=-1)]: Done  24 tasks      | elapsed: 12.0min\n",
      "[Parallel(n_jobs=-1)]: Done  25 tasks      | elapsed: 12.4min\n",
      "[Parallel(n_jobs=-1)]: Done  26 tasks      | elapsed: 12.8min\n",
      "[Parallel(n_jobs=-1)]: Done  27 tasks      | elapsed: 12.9min\n",
      "[Parallel(n_jobs=-1)]: Done  28 tasks      | elapsed: 13.4min\n",
      "[Parallel(n_jobs=-1)]: Done  29 tasks      | elapsed: 13.5min\n",
      "[Parallel(n_jobs=-1)]: Done  30 tasks      | elapsed: 13.5min\n",
      "[Parallel(n_jobs=-1)]: Done  31 tasks      | elapsed: 13.5min\n",
      "[Parallel(n_jobs=-1)]: Done  32 tasks      | elapsed: 13.6min\n",
      "[Parallel(n_jobs=-1)]: Done  33 tasks      | elapsed: 13.6min\n",
      "[Parallel(n_jobs=-1)]: Done  34 tasks      | elapsed: 13.6min\n",
      "[Parallel(n_jobs=-1)]: Done  35 tasks      | elapsed: 13.7min\n",
      "[Parallel(n_jobs=-1)]: Done  36 tasks      | elapsed: 13.8min\n",
      "[Parallel(n_jobs=-1)]: Done  37 tasks      | elapsed: 13.9min\n",
      "[Parallel(n_jobs=-1)]: Done  40 out of 100 | elapsed: 14.0min remaining: 20.9min\n",
      "[Parallel(n_jobs=-1)]: Done  43 out of 100 | elapsed: 14.4min remaining: 19.1min\n",
      "[Parallel(n_jobs=-1)]: Done  46 out of 100 | elapsed: 14.6min remaining: 17.1min\n",
      "[Parallel(n_jobs=-1)]: Done  49 out of 100 | elapsed: 14.9min remaining: 15.5min\n",
      "[Parallel(n_jobs=-1)]: Done  52 out of 100 | elapsed: 15.3min remaining: 14.2min\n",
      "[Parallel(n_jobs=-1)]: Done  55 out of 100 | elapsed: 16.0min remaining: 13.1min\n",
      "[Parallel(n_jobs=-1)]: Done  58 out of 100 | elapsed: 16.7min remaining: 12.1min\n",
      "[Parallel(n_jobs=-1)]: Done  61 out of 100 | elapsed: 17.0min remaining: 10.8min\n",
      "[Parallel(n_jobs=-1)]: Done  64 out of 100 | elapsed: 17.0min remaining:  9.6min\n",
      "[Parallel(n_jobs=-1)]: Done  67 out of 100 | elapsed: 17.0min remaining:  8.4min\n",
      "[Parallel(n_jobs=-1)]: Done  70 out of 100 | elapsed: 17.1min remaining:  7.3min\n",
      "[Parallel(n_jobs=-1)]: Done  73 out of 100 | elapsed: 17.1min remaining:  6.3min\n",
      "[Parallel(n_jobs=-1)]: Done  76 out of 100 | elapsed: 17.2min remaining:  5.4min\n",
      "[Parallel(n_jobs=-1)]: Done  79 out of 100 | elapsed: 17.3min remaining:  4.6min\n",
      "[Parallel(n_jobs=-1)]: Done  82 out of 100 | elapsed: 17.5min remaining:  3.8min\n",
      "[Parallel(n_jobs=-1)]: Done  85 out of 100 | elapsed: 17.6min remaining:  3.1min\n",
      "[Parallel(n_jobs=-1)]: Done  88 out of 100 | elapsed: 17.9min remaining:  2.4min\n",
      "[Parallel(n_jobs=-1)]: Done  91 out of 100 | elapsed: 18.2min remaining:  1.8min\n",
      "[Parallel(n_jobs=-1)]: Done  94 out of 100 | elapsed: 18.2min remaining:  1.2min\n",
      "[Parallel(n_jobs=-1)]: Done  97 out of 100 | elapsed: 18.2min remaining:   33.8s\n",
      "[Parallel(n_jobs=-1)]: Done 100 out of 100 | elapsed: 18.3min remaining:    0.0s\n",
      "[Parallel(n_jobs=-1)]: Done 100 out of 100 | elapsed: 18.3min finished\n"
     ]
    },
    {
     "data": {
      "application/vnd.jupyter.widget-view+json": {
       "model_id": "",
       "version_major": 2,
       "version_minor": 0
      },
      "text/plain": [
       "HBox(children=(IntProgress(value=0), HTML(value='')))"
      ]
     },
     "metadata": {},
     "output_type": "display_data"
    },
    {
     "name": "stderr",
     "output_type": "stream",
     "text": [
      "[Parallel(n_jobs=-1)]: Using backend LokyBackend with 32 concurrent workers.\n",
      "[Parallel(n_jobs=-1)]: Done   1 tasks      | elapsed:  7.7min\n",
      "[Parallel(n_jobs=-1)]: Done   2 tasks      | elapsed:  7.7min\n",
      "[Parallel(n_jobs=-1)]: Done   3 tasks      | elapsed:  7.8min\n",
      "[Parallel(n_jobs=-1)]: Done   4 tasks      | elapsed:  8.1min\n",
      "[Parallel(n_jobs=-1)]: Done   5 tasks      | elapsed:  8.3min\n",
      "[Parallel(n_jobs=-1)]: Done   6 tasks      | elapsed:  8.3min\n",
      "[Parallel(n_jobs=-1)]: Done   7 tasks      | elapsed:  8.6min\n",
      "[Parallel(n_jobs=-1)]: Done   8 tasks      | elapsed:  8.9min\n",
      "[Parallel(n_jobs=-1)]: Done   9 tasks      | elapsed:  9.1min\n",
      "[Parallel(n_jobs=-1)]: Done  10 tasks      | elapsed:  9.1min\n",
      "[Parallel(n_jobs=-1)]: Done  11 tasks      | elapsed:  9.5min\n",
      "[Parallel(n_jobs=-1)]: Done  12 tasks      | elapsed:  9.7min\n",
      "[Parallel(n_jobs=-1)]: Done  13 tasks      | elapsed:  9.8min\n",
      "[Parallel(n_jobs=-1)]: Done  14 tasks      | elapsed:  9.9min\n",
      "[Parallel(n_jobs=-1)]: Done  15 tasks      | elapsed: 10.1min\n",
      "[Parallel(n_jobs=-1)]: Done  16 tasks      | elapsed: 10.5min\n",
      "[Parallel(n_jobs=-1)]: Done  17 tasks      | elapsed: 10.7min\n",
      "[Parallel(n_jobs=-1)]: Done  18 tasks      | elapsed: 10.7min\n",
      "[Parallel(n_jobs=-1)]: Done  19 tasks      | elapsed: 11.2min\n",
      "[Parallel(n_jobs=-1)]: Done  20 tasks      | elapsed: 11.6min\n",
      "[Parallel(n_jobs=-1)]: Done  21 tasks      | elapsed: 11.7min\n",
      "[Parallel(n_jobs=-1)]: Done  22 tasks      | elapsed: 11.9min\n",
      "[Parallel(n_jobs=-1)]: Done  23 tasks      | elapsed: 12.3min\n",
      "[Parallel(n_jobs=-1)]: Done  24 tasks      | elapsed: 12.5min\n",
      "[Parallel(n_jobs=-1)]: Done  25 tasks      | elapsed: 12.7min\n",
      "[Parallel(n_jobs=-1)]: Done  26 tasks      | elapsed: 12.8min\n",
      "[Parallel(n_jobs=-1)]: Done  27 tasks      | elapsed: 13.4min\n",
      "[Parallel(n_jobs=-1)]: Done  28 tasks      | elapsed: 13.7min\n",
      "[Parallel(n_jobs=-1)]: Done  29 tasks      | elapsed: 13.8min\n",
      "[Parallel(n_jobs=-1)]: Done  30 tasks      | elapsed: 14.6min\n",
      "[Parallel(n_jobs=-1)]: Done  31 tasks      | elapsed: 14.8min\n",
      "[Parallel(n_jobs=-1)]: Done  32 tasks      | elapsed: 14.8min\n",
      "[Parallel(n_jobs=-1)]: Done  33 tasks      | elapsed: 14.9min\n",
      "[Parallel(n_jobs=-1)]: Done  34 tasks      | elapsed: 14.9min\n",
      "[Parallel(n_jobs=-1)]: Done  35 tasks      | elapsed: 15.0min\n",
      "[Parallel(n_jobs=-1)]: Done  36 tasks      | elapsed: 15.0min\n",
      "[Parallel(n_jobs=-1)]: Done  37 tasks      | elapsed: 15.1min\n",
      "[Parallel(n_jobs=-1)]: Done  40 out of 100 | elapsed: 15.2min remaining: 22.8min\n",
      "[Parallel(n_jobs=-1)]: Done  43 out of 100 | elapsed: 15.5min remaining: 20.5min\n",
      "[Parallel(n_jobs=-1)]: Done  46 out of 100 | elapsed: 15.6min remaining: 18.3min\n",
      "[Parallel(n_jobs=-1)]: Done  49 out of 100 | elapsed: 15.9min remaining: 16.6min\n",
      "[Parallel(n_jobs=-1)]: Done  52 out of 100 | elapsed: 16.6min remaining: 15.4min\n",
      "[Parallel(n_jobs=-1)]: Done  55 out of 100 | elapsed: 17.1min remaining: 14.0min\n",
      "[Parallel(n_jobs=-1)]: Done  58 out of 100 | elapsed: 17.4min remaining: 12.6min\n",
      "[Parallel(n_jobs=-1)]: Done  61 out of 100 | elapsed: 18.0min remaining: 11.5min\n",
      "[Parallel(n_jobs=-1)]: Done  64 out of 100 | elapsed: 18.7min remaining: 10.5min\n",
      "[Parallel(n_jobs=-1)]: Done  67 out of 100 | elapsed: 18.7min remaining:  9.2min\n",
      "[Parallel(n_jobs=-1)]: Done  70 out of 100 | elapsed: 18.8min remaining:  8.0min\n",
      "[Parallel(n_jobs=-1)]: Done  73 out of 100 | elapsed: 18.9min remaining:  7.0min\n",
      "[Parallel(n_jobs=-1)]: Done  76 out of 100 | elapsed: 18.9min remaining:  6.0min\n",
      "[Parallel(n_jobs=-1)]: Done  79 out of 100 | elapsed: 18.9min remaining:  5.0min\n",
      "[Parallel(n_jobs=-1)]: Done  82 out of 100 | elapsed: 19.0min remaining:  4.2min\n",
      "[Parallel(n_jobs=-1)]: Done  85 out of 100 | elapsed: 19.3min remaining:  3.4min\n",
      "[Parallel(n_jobs=-1)]: Done  88 out of 100 | elapsed: 19.5min remaining:  2.7min\n",
      "[Parallel(n_jobs=-1)]: Done  91 out of 100 | elapsed: 19.8min remaining:  2.0min\n",
      "[Parallel(n_jobs=-1)]: Done  94 out of 100 | elapsed: 20.1min remaining:  1.3min\n",
      "[Parallel(n_jobs=-1)]: Done  97 out of 100 | elapsed: 20.1min remaining:   37.3s\n",
      "[Parallel(n_jobs=-1)]: Done 100 out of 100 | elapsed: 20.3min remaining:    0.0s\n",
      "[Parallel(n_jobs=-1)]: Done 100 out of 100 | elapsed: 20.3min finished\n"
     ]
    },
    {
     "data": {
      "image/png": "[encoded data removed]",
      "text/plain": [
       "<Figure size 720x288 with 2 Axes>"
      ]
     },
     "metadata": {
      "needs_background": "light"
     },
     "output_type": "display_data"
    },
    {
     "name": "stdout",
     "output_type": "stream",
     "text": [
      "1.5 2 57580 19538\n"
     ]
    },
    {
     "data": {
      "application/vnd.jupyter.widget-view+json": {
       "model_id": "",
       "version_major": 2,
       "version_minor": 0
      },
      "text/plain": [
       "HBox(children=(IntProgress(value=0), HTML(value='')))"
      ]
     },
     "metadata": {},
     "output_type": "display_data"
    },
    {
     "name": "stderr",
     "output_type": "stream",
     "text": [
      "[Parallel(n_jobs=-1)]: Using backend LokyBackend with 32 concurrent workers.\n",
      "[Parallel(n_jobs=-1)]: Done   1 tasks      | elapsed: 123.9min\n",
      "[Parallel(n_jobs=-1)]: Done   2 tasks      | elapsed: 129.9min\n",
      "[Parallel(n_jobs=-1)]: Done   3 tasks      | elapsed: 135.8min\n",
      "[Parallel(n_jobs=-1)]: Done   4 tasks      | elapsed: 136.8min\n",
      "[Parallel(n_jobs=-1)]: Done   5 tasks      | elapsed: 142.5min\n",
      "[Parallel(n_jobs=-1)]: Done   6 tasks      | elapsed: 142.9min\n",
      "[Parallel(n_jobs=-1)]: Done   7 tasks      | elapsed: 144.2min\n",
      "[Parallel(n_jobs=-1)]: Done   8 tasks      | elapsed: 145.0min\n",
      "[Parallel(n_jobs=-1)]: Done   9 tasks      | elapsed: 146.9min\n",
      "[Parallel(n_jobs=-1)]: Done  10 tasks      | elapsed: 150.8min\n",
      "[Parallel(n_jobs=-1)]: Done  11 tasks      | elapsed: 154.2min\n",
      "[Parallel(n_jobs=-1)]: Done  12 tasks      | elapsed: 155.1min\n",
      "[Parallel(n_jobs=-1)]: Done  13 tasks      | elapsed: 155.7min\n",
      "[Parallel(n_jobs=-1)]: Done  14 tasks      | elapsed: 156.9min\n",
      "[Parallel(n_jobs=-1)]: Done  15 tasks      | elapsed: 171.5min\n",
      "[Parallel(n_jobs=-1)]: Done  16 tasks      | elapsed: 172.6min\n",
      "[Parallel(n_jobs=-1)]: Done  17 tasks      | elapsed: 174.0min\n",
      "[Parallel(n_jobs=-1)]: Done  18 tasks      | elapsed: 175.3min\n",
      "[Parallel(n_jobs=-1)]: Done  19 tasks      | elapsed: 178.6min\n",
      "[Parallel(n_jobs=-1)]: Done  20 tasks      | elapsed: 180.6min\n",
      "[Parallel(n_jobs=-1)]: Done  21 tasks      | elapsed: 183.9min\n",
      "[Parallel(n_jobs=-1)]: Done  22 tasks      | elapsed: 183.9min\n",
      "[Parallel(n_jobs=-1)]: Done  23 tasks      | elapsed: 184.9min\n",
      "[Parallel(n_jobs=-1)]: Done  24 tasks      | elapsed: 194.2min\n",
      "[Parallel(n_jobs=-1)]: Done  25 tasks      | elapsed: 198.8min\n",
      "[Parallel(n_jobs=-1)]: Done  26 tasks      | elapsed: 200.6min\n",
      "[Parallel(n_jobs=-1)]: Done  27 tasks      | elapsed: 203.7min\n",
      "[Parallel(n_jobs=-1)]: Done  28 tasks      | elapsed: 206.7min\n",
      "[Parallel(n_jobs=-1)]: Done  29 tasks      | elapsed: 208.2min\n",
      "[Parallel(n_jobs=-1)]: Done  30 tasks      | elapsed: 209.1min\n",
      "[Parallel(n_jobs=-1)]: Done  31 tasks      | elapsed: 209.6min\n",
      "[Parallel(n_jobs=-1)]: Done  32 tasks      | elapsed: 217.7min\n",
      "[Parallel(n_jobs=-1)]: Done  33 tasks      | elapsed: 240.1min\n",
      "[Parallel(n_jobs=-1)]: Done  34 tasks      | elapsed: 248.4min\n",
      "[Parallel(n_jobs=-1)]: Done  35 tasks      | elapsed: 250.2min\n",
      "[Parallel(n_jobs=-1)]: Done  36 tasks      | elapsed: 252.2min\n",
      "[Parallel(n_jobs=-1)]: Done  37 tasks      | elapsed: 253.3min\n",
      "[Parallel(n_jobs=-1)]: Done  40 out of 100 | elapsed: 264.2min remaining: 396.2min\n",
      "[Parallel(n_jobs=-1)]: Done  43 out of 100 | elapsed: 265.7min remaining: 352.2min\n",
      "[Parallel(n_jobs=-1)]: Done  46 out of 100 | elapsed: 276.7min remaining: 324.8min\n",
      "[Parallel(n_jobs=-1)]: Done  49 out of 100 | elapsed: 282.4min remaining: 293.9min\n",
      "[Parallel(n_jobs=-1)]: Done  52 out of 100 | elapsed: 293.1min remaining: 270.5min\n",
      "[Parallel(n_jobs=-1)]: Done  55 out of 100 | elapsed: 294.2min remaining: 240.7min\n",
      "[Parallel(n_jobs=-1)]: Done  58 out of 100 | elapsed: 301.7min remaining: 218.5min\n",
      "[Parallel(n_jobs=-1)]: Done  61 out of 100 | elapsed: 306.5min remaining: 196.0min\n",
      "[Parallel(n_jobs=-1)]: Done  64 out of 100 | elapsed: 308.3min remaining: 173.4min\n",
      "[Parallel(n_jobs=-1)]: Done  67 out of 100 | elapsed: 321.0min remaining: 158.1min\n",
      "[Parallel(n_jobs=-1)]: Done  70 out of 100 | elapsed: 326.2min remaining: 139.8min\n",
      "[Parallel(n_jobs=-1)]: Done  73 out of 100 | elapsed: 328.9min remaining: 121.6min\n",
      "[Parallel(n_jobs=-1)]: Done  76 out of 100 | elapsed: 344.2min remaining: 108.7min\n",
      "[Parallel(n_jobs=-1)]: Done  79 out of 100 | elapsed: 350.2min remaining: 93.1min\n",
      "[Parallel(n_jobs=-1)]: Done  82 out of 100 | elapsed: 352.2min remaining: 77.3min\n",
      "[Parallel(n_jobs=-1)]: Done  85 out of 100 | elapsed: 355.5min remaining: 62.7min\n",
      "[Parallel(n_jobs=-1)]: Done  88 out of 100 | elapsed: 356.1min remaining: 48.6min\n",
      "[Parallel(n_jobs=-1)]: Done  91 out of 100 | elapsed: 357.3min remaining: 35.3min\n",
      "[Parallel(n_jobs=-1)]: Done  94 out of 100 | elapsed: 358.7min remaining: 22.9min\n",
      "[Parallel(n_jobs=-1)]: Done  97 out of 100 | elapsed: 359.0min remaining: 11.1min\n",
      "[Parallel(n_jobs=-1)]: Done 100 out of 100 | elapsed: 360.4min remaining:    0.0s\n",
      "[Parallel(n_jobs=-1)]: Done 100 out of 100 | elapsed: 360.4min finished\n"
     ]
    },
    {
     "data": {
      "application/vnd.jupyter.widget-view+json": {
       "model_id": "",
       "version_major": 2,
       "version_minor": 0
      },
      "text/plain": [
       "HBox(children=(IntProgress(value=0), HTML(value='')))"
      ]
     },
     "metadata": {},
     "output_type": "display_data"
    },
    {
     "name": "stderr",
     "output_type": "stream",
     "text": [
      "[Parallel(n_jobs=-1)]: Using backend LokyBackend with 32 concurrent workers.\n",
      "[Parallel(n_jobs=-1)]: Done   1 tasks      | elapsed: 22.9min\n",
      "[Parallel(n_jobs=-1)]: Done   2 tasks      | elapsed: 23.9min\n",
      "[Parallel(n_jobs=-1)]: Done   3 tasks      | elapsed: 24.4min\n",
      "[Parallel(n_jobs=-1)]: Done   4 tasks      | elapsed: 25.2min\n",
      "[Parallel(n_jobs=-1)]: Done   5 tasks      | elapsed: 25.4min\n",
      "[Parallel(n_jobs=-1)]: Done   6 tasks      | elapsed: 27.6min\n",
      "[Parallel(n_jobs=-1)]: Done   7 tasks      | elapsed: 28.3min\n",
      "[Parallel(n_jobs=-1)]: Done   8 tasks      | elapsed: 29.6min\n",
      "[Parallel(n_jobs=-1)]: Done   9 tasks      | elapsed: 30.5min\n",
      "[Parallel(n_jobs=-1)]: Done  10 tasks      | elapsed: 31.8min\n",
      "[Parallel(n_jobs=-1)]: Done  11 tasks      | elapsed: 32.2min\n",
      "[Parallel(n_jobs=-1)]: Done  12 tasks      | elapsed: 33.1min\n",
      "[Parallel(n_jobs=-1)]: Done  13 tasks      | elapsed: 35.4min\n",
      "[Parallel(n_jobs=-1)]: Done  14 tasks      | elapsed: 36.4min\n",
      "[Parallel(n_jobs=-1)]: Done  15 tasks      | elapsed: 36.9min\n",
      "[Parallel(n_jobs=-1)]: Done  16 tasks      | elapsed: 36.9min\n",
      "[Parallel(n_jobs=-1)]: Done  17 tasks      | elapsed: 44.0min\n",
      "[Parallel(n_jobs=-1)]: Done  18 tasks      | elapsed: 44.1min\n",
      "[Parallel(n_jobs=-1)]: Done  19 tasks      | elapsed: 44.6min\n",
      "[Parallel(n_jobs=-1)]: Done  20 tasks      | elapsed: 44.6min\n",
      "[Parallel(n_jobs=-1)]: Done  21 tasks      | elapsed: 45.5min\n",
      "[Parallel(n_jobs=-1)]: Done  22 tasks      | elapsed: 48.1min\n",
      "[Parallel(n_jobs=-1)]: Done  23 tasks      | elapsed: 50.3min\n",
      "[Parallel(n_jobs=-1)]: Done  24 tasks      | elapsed: 57.1min\n",
      "[Parallel(n_jobs=-1)]: Done  25 tasks      | elapsed: 57.6min\n",
      "[Parallel(n_jobs=-1)]: Done  26 tasks      | elapsed: 58.5min\n",
      "[Parallel(n_jobs=-1)]: Done  27 tasks      | elapsed: 58.9min\n",
      "[Parallel(n_jobs=-1)]: Done  28 tasks      | elapsed: 59.1min\n",
      "[Parallel(n_jobs=-1)]: Done  29 tasks      | elapsed: 61.2min\n",
      "[Parallel(n_jobs=-1)]: Done  30 tasks      | elapsed: 61.4min\n",
      "[Parallel(n_jobs=-1)]: Done  31 tasks      | elapsed: 61.4min\n",
      "[Parallel(n_jobs=-1)]: Done  32 tasks      | elapsed: 61.5min\n",
      "[Parallel(n_jobs=-1)]: Done  33 tasks      | elapsed: 61.7min\n",
      "[Parallel(n_jobs=-1)]: Done  34 tasks      | elapsed: 61.9min\n",
      "[Parallel(n_jobs=-1)]: Done  35 tasks      | elapsed: 61.9min\n",
      "[Parallel(n_jobs=-1)]: Done  36 tasks      | elapsed: 62.1min\n",
      "[Parallel(n_jobs=-1)]: Done  37 tasks      | elapsed: 62.5min\n",
      "[Parallel(n_jobs=-1)]: Done  40 out of 100 | elapsed: 75.6min remaining: 113.4min\n",
      "[Parallel(n_jobs=-1)]: Done  43 out of 100 | elapsed: 76.2min remaining: 101.0min\n",
      "[Parallel(n_jobs=-1)]: Done  46 out of 100 | elapsed: 79.3min remaining: 93.0min\n",
      "[Parallel(n_jobs=-1)]: Done  49 out of 100 | elapsed: 79.8min remaining: 83.0min\n",
      "[Parallel(n_jobs=-1)]: Done  52 out of 100 | elapsed: 80.9min remaining: 74.7min\n",
      "[Parallel(n_jobs=-1)]: Done  55 out of 100 | elapsed: 81.9min remaining: 67.0min\n",
      "[Parallel(n_jobs=-1)]: Done  58 out of 100 | elapsed: 88.3min remaining: 64.0min\n",
      "[Parallel(n_jobs=-1)]: Done  61 out of 100 | elapsed: 89.3min remaining: 57.1min\n",
      "[Parallel(n_jobs=-1)]: Done  64 out of 100 | elapsed: 95.9min remaining: 53.9min\n",
      "[Parallel(n_jobs=-1)]: Done  67 out of 100 | elapsed: 96.2min remaining: 47.4min\n",
      "[Parallel(n_jobs=-1)]: Done  70 out of 100 | elapsed: 97.1min remaining: 41.6min\n",
      "[Parallel(n_jobs=-1)]: Done  73 out of 100 | elapsed: 98.3min remaining: 36.4min\n",
      "[Parallel(n_jobs=-1)]: Done  76 out of 100 | elapsed: 98.7min remaining: 31.2min\n",
      "[Parallel(n_jobs=-1)]: Done  79 out of 100 | elapsed: 104.6min remaining: 27.8min\n",
      "[Parallel(n_jobs=-1)]: Done  82 out of 100 | elapsed: 106.2min remaining: 23.3min\n",
      "[Parallel(n_jobs=-1)]: Done  85 out of 100 | elapsed: 132.2min remaining: 23.3min\n",
      "[Parallel(n_jobs=-1)]: Done  88 out of 100 | elapsed: 140.2min remaining: 19.1min\n",
      "[Parallel(n_jobs=-1)]: Done  91 out of 100 | elapsed: 157.3min remaining: 15.6min\n",
      "[Parallel(n_jobs=-1)]: Done  94 out of 100 | elapsed: 160.4min remaining: 10.2min\n",
      "[Parallel(n_jobs=-1)]: Done  97 out of 100 | elapsed: 169.4min remaining:  5.2min\n",
      "[Parallel(n_jobs=-1)]: Done 100 out of 100 | elapsed: 173.0min remaining:    0.0s\n",
      "[Parallel(n_jobs=-1)]: Done 100 out of 100 | elapsed: 173.0min finished\n"
     ]
    },
    {
     "data": {
      "image/png": "[encoded data removed]",
      "text/plain": [
       "<Figure size 720x288 with 2 Axes>"
      ]
     },
     "metadata": {
      "needs_background": "light"
     },
     "output_type": "display_data"
    },
    {
     "name": "stdout",
     "output_type": "stream",
     "text": [
      "2 2.5 167722 50039\n"
     ]
    },
    {
     "data": {
      "application/vnd.jupyter.widget-view+json": {
       "model_id": "",
       "version_major": 2,
       "version_minor": 0
      },
      "text/plain": [
       "HBox(children=(IntProgress(value=0), HTML(value='')))"
      ]
     },
     "metadata": {},
     "output_type": "display_data"
    },
    {
     "name": "stderr",
     "output_type": "stream",
     "text": [
      "[Parallel(n_jobs=-1)]: Using backend LokyBackend with 32 concurrent workers.\n",
      "[Parallel(n_jobs=-1)]: Done   1 tasks      | elapsed:   32.7s\n",
      "[Parallel(n_jobs=-1)]: Done   2 tasks      | elapsed:   33.1s\n",
      "[Parallel(n_jobs=-1)]: Done   3 tasks      | elapsed:   33.1s\n",
      "[Parallel(n_jobs=-1)]: Done   4 tasks      | elapsed:   33.1s\n",
      "[Parallel(n_jobs=-1)]: Done   5 tasks      | elapsed:   33.1s\n",
      "[Parallel(n_jobs=-1)]: Done   6 tasks      | elapsed:   33.1s\n",
      "[Parallel(n_jobs=-1)]: Done   7 tasks      | elapsed:   33.1s\n",
      "[Parallel(n_jobs=-1)]: Done   8 tasks      | elapsed:   33.1s\n",
      "[Parallel(n_jobs=-1)]: Done   9 tasks      | elapsed:   33.1s\n",
      "[Parallel(n_jobs=-1)]: Done  10 tasks      | elapsed:   33.1s\n",
      "[Parallel(n_jobs=-1)]: Done  11 tasks      | elapsed:   33.1s\n",
      "[Parallel(n_jobs=-1)]: Done  12 tasks      | elapsed:   33.1s\n",
      "[Parallel(n_jobs=-1)]: Done  13 tasks      | elapsed:   33.1s\n",
      "[Parallel(n_jobs=-1)]: Done  14 tasks      | elapsed:   33.1s\n",
      "[Parallel(n_jobs=-1)]: Done  15 tasks      | elapsed:   33.1s\n",
      "[Parallel(n_jobs=-1)]: Done  16 tasks      | elapsed:   33.1s\n",
      "[Parallel(n_jobs=-1)]: Done  17 tasks      | elapsed:   33.1s\n",
      "[Parallel(n_jobs=-1)]: Done  18 tasks      | elapsed:   33.1s\n",
      "[Parallel(n_jobs=-1)]: Done  19 tasks      | elapsed:   33.1s\n",
      "[Parallel(n_jobs=-1)]: Done  20 tasks      | elapsed:   33.1s\n",
      "[Parallel(n_jobs=-1)]: Done  21 tasks      | elapsed:   33.1s\n",
      "[Parallel(n_jobs=-1)]: Done  22 tasks      | elapsed:   33.1s\n",
      "[Parallel(n_jobs=-1)]: Done  23 tasks      | elapsed:   33.1s\n",
      "[Parallel(n_jobs=-1)]: Done  24 tasks      | elapsed:   33.1s\n",
      "[Parallel(n_jobs=-1)]: Done  25 tasks      | elapsed:   33.1s\n",
      "[Parallel(n_jobs=-1)]: Done  26 tasks      | elapsed:   33.1s\n",
      "[Parallel(n_jobs=-1)]: Done  27 tasks      | elapsed:   33.1s\n",
      "[Parallel(n_jobs=-1)]: Done  28 tasks      | elapsed:   33.1s\n",
      "[Parallel(n_jobs=-1)]: Done  29 tasks      | elapsed:   33.1s\n",
      "[Parallel(n_jobs=-1)]: Done  30 tasks      | elapsed:   33.1s\n",
      "[Parallel(n_jobs=-1)]: Done  31 tasks      | elapsed:   33.1s\n",
      "[Parallel(n_jobs=-1)]: Done  32 tasks      | elapsed:   33.1s\n",
      "[Parallel(n_jobs=-1)]: Done  33 tasks      | elapsed:   33.1s\n",
      "[Parallel(n_jobs=-1)]: Done  34 tasks      | elapsed:   33.1s\n",
      "[Parallel(n_jobs=-1)]: Done  35 tasks      | elapsed:   33.1s\n",
      "[Parallel(n_jobs=-1)]: Done  36 tasks      | elapsed:   33.1s\n",
      "[Parallel(n_jobs=-1)]: Done  37 tasks      | elapsed:   33.1s\n",
      "[Parallel(n_jobs=-1)]: Done  39 out of  64 | elapsed:  1.0min remaining:   39.8s\n",
      "[Parallel(n_jobs=-1)]: Done  41 out of  64 | elapsed:  1.0min remaining:   34.8s\n",
      "[Parallel(n_jobs=-1)]: Done  43 out of  64 | elapsed:  1.0min remaining:   30.3s\n",
      "[Parallel(n_jobs=-1)]: Done  45 out of  64 | elapsed:  1.0min remaining:   26.2s\n",
      "[Parallel(n_jobs=-1)]: Done  47 out of  64 | elapsed:  1.0min remaining:   22.4s\n",
      "[Parallel(n_jobs=-1)]: Done  49 out of  64 | elapsed:  1.0min remaining:   19.0s\n",
      "[Parallel(n_jobs=-1)]: Done  51 out of  64 | elapsed:  1.0min remaining:   15.8s\n",
      "[Parallel(n_jobs=-1)]: Done  53 out of  64 | elapsed:  1.0min remaining:   12.9s\n",
      "[Parallel(n_jobs=-1)]: Done  55 out of  64 | elapsed:  1.0min remaining:   10.2s\n",
      "[Parallel(n_jobs=-1)]: Done  57 out of  64 | elapsed:  1.0min remaining:    7.6s\n",
      "[Parallel(n_jobs=-1)]: Done  59 out of  64 | elapsed:  1.0min remaining:    5.3s\n",
      "[Parallel(n_jobs=-1)]: Done  61 out of  64 | elapsed:  1.0min remaining:    3.1s\n"
     ]
    },
    {
     "ename": "TerminatedWorkerError",
     "evalue": "A worker process managed by the executor was unexpectedly terminated. This could be caused by a segmentation fault while calling the function or by an excessive memory usage causing the Operating System to kill the worker. The exit codes of the workers are {SIGBUS(-7), SIGBUS(-7), SIGBUS(-7), SIGBUS(-7), SIGKILL(-9)}",
     "output_type": "error",
     "traceback": [
      "\u001b[0;31m---------------------------------------------------------------------------\u001b[0m",
      "\u001b[0;31mTerminatedWorkerError\u001b[0m                     Traceback (most recent call last)",
      "\u001b[0;32m<ipython-input-17-f8cc73b0563b>\u001b[0m in \u001b[0;36m<module>\u001b[0;34m\u001b[0m\n\u001b[1;32m     27\u001b[0m \u001b[0;34m\u001b[0m\u001b[0m\n\u001b[1;32m     28\u001b[0m     (MI, MI_var), (shuff_MI, shuff_MI_var) = mi.sequential_mutual_information(\n\u001b[0;32m---> 29\u001b[0;31m         \u001b[0mcohort_words\u001b[0m\u001b[0;34m,\u001b[0m \u001b[0mdistances\u001b[0m\u001b[0;34m=\u001b[0m\u001b[0mdistances\u001b[0m\u001b[0;34m,\u001b[0m \u001b[0mn_jobs\u001b[0m\u001b[0;34m=\u001b[0m\u001b[0;34m-\u001b[0m\u001b[0;36m1\u001b[0m\u001b[0;34m,\u001b[0m \u001b[0mmi_estimation\u001b[0m\u001b[0;34m=\u001b[0m\u001b[0;34m\"adjusted_mi_sklearn\"\u001b[0m\u001b[0;34m,\u001b[0m \u001b[0mprefer\u001b[0m \u001b[0;34m=\u001b[0m \u001b[0;32mNone\u001b[0m\u001b[0;34m,\u001b[0m \u001b[0mverbosity\u001b[0m\u001b[0;34m=\u001b[0m\u001b[0;36m49\u001b[0m\u001b[0;34m\u001b[0m\u001b[0;34m\u001b[0m\u001b[0m\n\u001b[0m\u001b[1;32m     30\u001b[0m     )\n\u001b[1;32m     31\u001b[0m \u001b[0;34m\u001b[0m\u001b[0m\n",
      "\u001b[0;32m/mnt/cube/tsainbur/Projects/github_repos/childes_mi_project/childes_mi/information_theory/mutual_information.py\u001b[0m in \u001b[0;36msequential_mutual_information\u001b[0;34m(sequences, distances, n_jobs, verbosity, n_shuff_repeats, estimate, disable_tqdm, prefer, mi_estimation, unclustered_element, **mi_kwargs)\u001b[0m\n\u001b[1;32m    322\u001b[0m                 )\n\u001b[1;32m    323\u001b[0m                 for dist_i, dist in enumerate(\n\u001b[0;32m--> 324\u001b[0;31m                     \u001b[0mtqdm\u001b[0m\u001b[0;34m(\u001b[0m\u001b[0mdistances\u001b[0m\u001b[0;34m,\u001b[0m \u001b[0mleave\u001b[0m\u001b[0;34m=\u001b[0m\u001b[0;32mFalse\u001b[0m\u001b[0;34m,\u001b[0m \u001b[0mdisable\u001b[0m\u001b[0;34m=\u001b[0m\u001b[0mdisable_tqdm\u001b[0m\u001b[0;34m)\u001b[0m\u001b[0;34m\u001b[0m\u001b[0;34m\u001b[0m\u001b[0m\n\u001b[0m\u001b[1;32m    325\u001b[0m                 )\n\u001b[1;32m    326\u001b[0m             )\n",
      "\u001b[0;32m/mnt/cube/tsainbur/conda_envs/tpy3/lib/python3.6/site-packages/joblib/parallel.py\u001b[0m in \u001b[0;36m__call__\u001b[0;34m(self, iterable)\u001b[0m\n\u001b[1;32m    932\u001b[0m \u001b[0;34m\u001b[0m\u001b[0m\n\u001b[1;32m    933\u001b[0m             \u001b[0;32mwith\u001b[0m \u001b[0mself\u001b[0m\u001b[0;34m.\u001b[0m\u001b[0m_backend\u001b[0m\u001b[0;34m.\u001b[0m\u001b[0mretrieval_context\u001b[0m\u001b[0;34m(\u001b[0m\u001b[0;34m)\u001b[0m\u001b[0;34m:\u001b[0m\u001b[0;34m\u001b[0m\u001b[0;34m\u001b[0m\u001b[0m\n\u001b[0;32m--> 934\u001b[0;31m                 \u001b[0mself\u001b[0m\u001b[0;34m.\u001b[0m\u001b[0mretrieve\u001b[0m\u001b[0;34m(\u001b[0m\u001b[0;34m)\u001b[0m\u001b[0;34m\u001b[0m\u001b[0;34m\u001b[0m\u001b[0m\n\u001b[0m\u001b[1;32m    935\u001b[0m             \u001b[0;31m# Make sure that we get a last message telling us we are done\u001b[0m\u001b[0;34m\u001b[0m\u001b[0;34m\u001b[0m\u001b[0;34m\u001b[0m\u001b[0m\n\u001b[1;32m    936\u001b[0m             \u001b[0melapsed_time\u001b[0m \u001b[0;34m=\u001b[0m \u001b[0mtime\u001b[0m\u001b[0;34m.\u001b[0m\u001b[0mtime\u001b[0m\u001b[0;34m(\u001b[0m\u001b[0;34m)\u001b[0m \u001b[0;34m-\u001b[0m \u001b[0mself\u001b[0m\u001b[0;34m.\u001b[0m\u001b[0m_start_time\u001b[0m\u001b[0;34m\u001b[0m\u001b[0;34m\u001b[0m\u001b[0m\n",
      "\u001b[0;32m/mnt/cube/tsainbur/conda_envs/tpy3/lib/python3.6/site-packages/joblib/parallel.py\u001b[0m in \u001b[0;36mretrieve\u001b[0;34m(self)\u001b[0m\n\u001b[1;32m    831\u001b[0m             \u001b[0;32mtry\u001b[0m\u001b[0;34m:\u001b[0m\u001b[0;34m\u001b[0m\u001b[0;34m\u001b[0m\u001b[0m\n\u001b[1;32m    832\u001b[0m                 \u001b[0;32mif\u001b[0m \u001b[0mgetattr\u001b[0m\u001b[0;34m(\u001b[0m\u001b[0mself\u001b[0m\u001b[0;34m.\u001b[0m\u001b[0m_backend\u001b[0m\u001b[0;34m,\u001b[0m \u001b[0;34m'supports_timeout'\u001b[0m\u001b[0;34m,\u001b[0m \u001b[0;32mFalse\u001b[0m\u001b[0;34m)\u001b[0m\u001b[0;34m:\u001b[0m\u001b[0;34m\u001b[0m\u001b[0;34m\u001b[0m\u001b[0m\n\u001b[0;32m--> 833\u001b[0;31m                     \u001b[0mself\u001b[0m\u001b[0;34m.\u001b[0m\u001b[0m_output\u001b[0m\u001b[0;34m.\u001b[0m\u001b[0mextend\u001b[0m\u001b[0;34m(\u001b[0m\u001b[0mjob\u001b[0m\u001b[0;34m.\u001b[0m\u001b[0mget\u001b[0m\u001b[0;34m(\u001b[0m\u001b[0mtimeout\u001b[0m\u001b[0;34m=\u001b[0m\u001b[0mself\u001b[0m\u001b[0;34m.\u001b[0m\u001b[0mtimeout\u001b[0m\u001b[0;34m)\u001b[0m\u001b[0;34m)\u001b[0m\u001b[0;34m\u001b[0m\u001b[0;34m\u001b[0m\u001b[0m\n\u001b[0m\u001b[1;32m    834\u001b[0m                 \u001b[0;32melse\u001b[0m\u001b[0;34m:\u001b[0m\u001b[0;34m\u001b[0m\u001b[0;34m\u001b[0m\u001b[0m\n\u001b[1;32m    835\u001b[0m                     \u001b[0mself\u001b[0m\u001b[0;34m.\u001b[0m\u001b[0m_output\u001b[0m\u001b[0;34m.\u001b[0m\u001b[0mextend\u001b[0m\u001b[0;34m(\u001b[0m\u001b[0mjob\u001b[0m\u001b[0;34m.\u001b[0m\u001b[0mget\u001b[0m\u001b[0;34m(\u001b[0m\u001b[0;34m)\u001b[0m\u001b[0;34m)\u001b[0m\u001b[0;34m\u001b[0m\u001b[0;34m\u001b[0m\u001b[0m\n",
      "\u001b[0;32m/mnt/cube/tsainbur/conda_envs/tpy3/lib/python3.6/site-packages/joblib/_parallel_backends.py\u001b[0m in \u001b[0;36mwrap_future_result\u001b[0;34m(future, timeout)\u001b[0m\n\u001b[1;32m    519\u001b[0m         AsyncResults.get from multiprocessing.\"\"\"\n\u001b[1;32m    520\u001b[0m         \u001b[0;32mtry\u001b[0m\u001b[0;34m:\u001b[0m\u001b[0;34m\u001b[0m\u001b[0;34m\u001b[0m\u001b[0m\n\u001b[0;32m--> 521\u001b[0;31m             \u001b[0;32mreturn\u001b[0m \u001b[0mfuture\u001b[0m\u001b[0;34m.\u001b[0m\u001b[0mresult\u001b[0m\u001b[0;34m(\u001b[0m\u001b[0mtimeout\u001b[0m\u001b[0;34m=\u001b[0m\u001b[0mtimeout\u001b[0m\u001b[0;34m)\u001b[0m\u001b[0;34m\u001b[0m\u001b[0;34m\u001b[0m\u001b[0m\n\u001b[0m\u001b[1;32m    522\u001b[0m         \u001b[0;32mexcept\u001b[0m \u001b[0mLokyTimeoutError\u001b[0m\u001b[0;34m:\u001b[0m\u001b[0;34m\u001b[0m\u001b[0;34m\u001b[0m\u001b[0m\n\u001b[1;32m    523\u001b[0m             \u001b[0;32mraise\u001b[0m \u001b[0mTimeoutError\u001b[0m\u001b[0;34m(\u001b[0m\u001b[0;34m)\u001b[0m\u001b[0;34m\u001b[0m\u001b[0;34m\u001b[0m\u001b[0m\n",
      "\u001b[0;32m/mnt/cube/tsainbur/conda_envs/tpy3/lib/python3.6/concurrent/futures/_base.py\u001b[0m in \u001b[0;36mresult\u001b[0;34m(self, timeout)\u001b[0m\n\u001b[1;32m    430\u001b[0m                 \u001b[0;32mraise\u001b[0m \u001b[0mCancelledError\u001b[0m\u001b[0;34m(\u001b[0m\u001b[0;34m)\u001b[0m\u001b[0;34m\u001b[0m\u001b[0;34m\u001b[0m\u001b[0m\n\u001b[1;32m    431\u001b[0m             \u001b[0;32melif\u001b[0m \u001b[0mself\u001b[0m\u001b[0;34m.\u001b[0m\u001b[0m_state\u001b[0m \u001b[0;34m==\u001b[0m \u001b[0mFINISHED\u001b[0m\u001b[0;34m:\u001b[0m\u001b[0;34m\u001b[0m\u001b[0;34m\u001b[0m\u001b[0m\n\u001b[0;32m--> 432\u001b[0;31m                 \u001b[0;32mreturn\u001b[0m \u001b[0mself\u001b[0m\u001b[0;34m.\u001b[0m\u001b[0m__get_result\u001b[0m\u001b[0;34m(\u001b[0m\u001b[0;34m)\u001b[0m\u001b[0;34m\u001b[0m\u001b[0;34m\u001b[0m\u001b[0m\n\u001b[0m\u001b[1;32m    433\u001b[0m             \u001b[0;32melse\u001b[0m\u001b[0;34m:\u001b[0m\u001b[0;34m\u001b[0m\u001b[0;34m\u001b[0m\u001b[0m\n\u001b[1;32m    434\u001b[0m                 \u001b[0;32mraise\u001b[0m \u001b[0mTimeoutError\u001b[0m\u001b[0;34m(\u001b[0m\u001b[0;34m)\u001b[0m\u001b[0;34m\u001b[0m\u001b[0;34m\u001b[0m\u001b[0m\n",
      "\u001b[0;32m/mnt/cube/tsainbur/conda_envs/tpy3/lib/python3.6/concurrent/futures/_base.py\u001b[0m in \u001b[0;36m__get_result\u001b[0;34m(self)\u001b[0m\n\u001b[1;32m    382\u001b[0m     \u001b[0;32mdef\u001b[0m \u001b[0m__get_result\u001b[0m\u001b[0;34m(\u001b[0m\u001b[0mself\u001b[0m\u001b[0;34m)\u001b[0m\u001b[0;34m:\u001b[0m\u001b[0;34m\u001b[0m\u001b[0;34m\u001b[0m\u001b[0m\n\u001b[1;32m    383\u001b[0m         \u001b[0;32mif\u001b[0m \u001b[0mself\u001b[0m\u001b[0;34m.\u001b[0m\u001b[0m_exception\u001b[0m\u001b[0;34m:\u001b[0m\u001b[0;34m\u001b[0m\u001b[0;34m\u001b[0m\u001b[0m\n\u001b[0;32m--> 384\u001b[0;31m             \u001b[0;32mraise\u001b[0m \u001b[0mself\u001b[0m\u001b[0;34m.\u001b[0m\u001b[0m_exception\u001b[0m\u001b[0;34m\u001b[0m\u001b[0;34m\u001b[0m\u001b[0m\n\u001b[0m\u001b[1;32m    385\u001b[0m         \u001b[0;32melse\u001b[0m\u001b[0;34m:\u001b[0m\u001b[0;34m\u001b[0m\u001b[0;34m\u001b[0m\u001b[0m\n\u001b[1;32m    386\u001b[0m             \u001b[0;32mreturn\u001b[0m \u001b[0mself\u001b[0m\u001b[0;34m.\u001b[0m\u001b[0m_result\u001b[0m\u001b[0;34m\u001b[0m\u001b[0;34m\u001b[0m\u001b[0m\n",
      "\u001b[0;31mTerminatedWorkerError\u001b[0m: A worker process managed by the executor was unexpectedly terminated. This could be caused by a segmentation fault while calling the function or by an excessive memory usage causing the Operating System to kill the worker. The exit codes of the workers are {SIGBUS(-7), SIGBUS(-7), SIGBUS(-7), SIGBUS(-7), SIGKILL(-9)}"
     ]
    }
   ],
   "source": [
    "mi_df = pd.DataFrame(\n",
    "    columns=[\n",
    "        \"MI\",\n",
    "        \"MI_var\",\n",
    "        \"shuff_MI\",\n",
    "        \"shuff_MI_var\",\n",
    "        \"distances\",\n",
    "        \"age_cohort_low\",\n",
    "        \"age_cohort_high\",\n",
    "        \"n_words\",\n",
    "        \"n_unique_words\",\n",
    "    ]\n",
    ")\n",
    "# for each age cohort\n",
    "for (age_cohort_low, age_cohort_high) in tqdm(age_cohorts):#[::-1]):\n",
    "    cohort_subset = transcript_df[\n",
    "        (transcript_df.age_months/12 > age_cohort_low) & (transcript_df.age_months/12 <= age_cohort_high)\n",
    "    ]\n",
    "    \n",
    "    cohort_words = [[row.PID + \"_\" + i for i in list(flatten(row.words)) if i not in [None, 'xxx']] for idx, row in cohort_subset.iterrows()]\n",
    "    #cohort_words = [[i for i in list(flatten(row.words)) if i not in [None, 'xxx']] for idx, row in cohort_subset.iterrows()]\n",
    "    \n",
    "    n_words = len(np.concatenate(cohort_words))\n",
    "    n_unique_words = len(np.unique(np.concatenate(cohort_words)))\n",
    "    print(age_cohort_low, age_cohort_high, n_words, n_unique_words)\n",
    "    \n",
    "    \n",
    "    (MI, MI_var), (shuff_MI, shuff_MI_var) = mi.sequential_mutual_information(\n",
    "        cohort_words, distances=distances, n_jobs=-1, mi_estimation=\"adjusted_mi_sklearn\", prefer = None, verbosity=49\n",
    "    )\n",
    "    \n",
    "    fig,axs = plt.subplots(ncols=2, figsize = (10,4))\n",
    "    ax = axs[0]\n",
    "    ax.scatter(distances, MI-shuff_MI)\n",
    "    ax.plot(distances, MI-shuff_MI, alpha = 0)\n",
    "    ax.set_yscale('log')\n",
    "    ax.set_xscale('log')\n",
    "\n",
    "    ax = axs[1]\n",
    "    ax.scatter(distances, MI)\n",
    "    ax.scatter(distances, shuff_MI)\n",
    "    plt.show()\n",
    "    \n",
    "    mi_df.loc[len(mi_df)] = [\n",
    "        MI,\n",
    "        MI_var,\n",
    "        shuff_MI,\n",
    "        shuff_MI_var,\n",
    "        distances,\n",
    "        age_cohort_low,\n",
    "        age_cohort_high,\n",
    "        n_words,\n",
    "        n_unique_words,\n",
    "        \n",
    "    ]\n",
    "    \n",
    "    #mi_df.to_pickle(DATA_DIR / 'mi' / 'childes_indv_ami.pickle')"
   ]
  },
  {
   "cell_type": "code",
   "execution_count": null,
   "metadata": {},
   "outputs": [],
   "source": [
    "mi_df"
   ]
  },
  {
   "cell_type": "code",
   "execution_count": 18,
   "metadata": {},
   "outputs": [],
   "source": [
    "mi_df.to_pickle(DATA_DIR / 'mi' / 'childes_indv_ami.pickle')\n",
    "\n",
    "\n"
   ]
  },
  {
   "cell_type": "code",
   "execution_count": null,
   "metadata": {},
   "outputs": [],
   "source": [
    "#14% 34060/249448 [34:46<4:26:20, 13.48it/s]"
   ]
  }
 ],
 "metadata": {
  "kernelspec": {
   "display_name": "Python 3",
   "language": "python",
   "name": "python3"
  },
  "language_info": {
   "codemirror_mode": {
    "name": "ipython",
    "version": 3
   },
   "file_extension": ".py",
   "mimetype": "text/x-python",
   "name": "python",
   "nbconvert_exporter": "python",
   "pygments_lexer": "ipython3",
   "version": "3.6.7"
  }
 },
 "nbformat": 4,
 "nbformat_minor": 2
}
