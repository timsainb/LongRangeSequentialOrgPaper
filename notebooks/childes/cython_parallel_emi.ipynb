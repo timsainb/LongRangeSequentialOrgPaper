{
 "cells": [
  {
   "cell_type": "code",
   "execution_count": 1,
   "metadata": {
    "ExecuteTime": {
     "end_time": "2020-01-12T00:20:15.276219Z",
     "start_time": "2020-01-12T00:20:15.247678Z"
    }
   },
   "outputs": [],
   "source": [
    "%load_ext autoreload\n",
    "%autoreload 2"
   ]
  },
  {
   "cell_type": "code",
   "execution_count": 2,
   "metadata": {
    "ExecuteTime": {
     "end_time": "2020-01-12T00:20:16.242911Z",
     "start_time": "2020-01-12T00:20:16.078607Z"
    }
   },
   "outputs": [
    {
     "ename": "ModuleNotFoundError",
     "evalue": "No module named 'childes_mi.information_theory.emi.nij_op_cython'",
     "output_type": "error",
     "traceback": [
      "\u001b[0;31m---------------------------------------------------------------------------\u001b[0m",
      "\u001b[0;31mModuleNotFoundError\u001b[0m                       Traceback (most recent call last)",
      "\u001b[0;32m<ipython-input-2-18c01970b941>\u001b[0m in \u001b[0;36m<module>\u001b[0;34m\u001b[0m\n\u001b[1;32m      1\u001b[0m \u001b[0;31m# ! ! python /mnt/cube/tsainbur/Projects/github_repos/childes_mi_project/childes_mi/information_theory/emi/setup.py uild_ext --inplace\u001b[0m\u001b[0;34m\u001b[0m\u001b[0;34m\u001b[0m\u001b[0;34m\u001b[0m\u001b[0m\n\u001b[0;32m----> 2\u001b[0;31m \u001b[0;32mfrom\u001b[0m \u001b[0mchildes_mi\u001b[0m\u001b[0;34m.\u001b[0m\u001b[0minformation_theory\u001b[0m\u001b[0;34m.\u001b[0m\u001b[0memi\u001b[0m\u001b[0;34m.\u001b[0m\u001b[0mnij_op_cython\u001b[0m \u001b[0;32mimport\u001b[0m \u001b[0mnij_op_cython\u001b[0m\u001b[0;34m\u001b[0m\u001b[0;34m\u001b[0m\u001b[0m\n\u001b[0m",
      "\u001b[0;31mModuleNotFoundError\u001b[0m: No module named 'childes_mi.information_theory.emi.nij_op_cython'"
     ]
    }
   ],
   "source": [
    "# ! ! python /mnt/cube/tsainbur/Projects/github_repos/childes_mi_project/childes_mi/information_theory/emi/setup.py uild_ext --inplace\n",
    "from childes_mi.information_theory.emi.nij_op_cython import nij_op_cython"
   ]
  },
  {
   "cell_type": "code",
   "execution_count": 3,
   "metadata": {
    "ExecuteTime": {
     "end_time": "2020-01-12T00:20:16.362883Z",
     "start_time": "2020-01-12T00:20:16.347725Z"
    }
   },
   "outputs": [],
   "source": [
    "#! python /mnt/cube/tsainbur/Projects/github_repos/childes_mi_project/childes_mi/information_theory/emi/setup.py uild_ext --inplace"
   ]
  },
  {
   "cell_type": "code",
   "execution_count": 4,
   "metadata": {
    "ExecuteTime": {
     "end_time": "2020-01-12T00:20:17.133646Z",
     "start_time": "2020-01-12T00:20:16.815695Z"
    }
   },
   "outputs": [
    {
     "name": "stderr",
     "output_type": "stream",
     "text": [
      "/mnt/cube/tsainbur/conda_envs/tpy3/lib/python3.6/site-packages/tqdm/autonotebook/__init__.py:14: TqdmExperimentalWarning: Using `tqdm.autonotebook.tqdm` in notebook mode. Use `tqdm.tqdm` instead to force console mode (e.g. in jupyter console)\n",
      "  \" (e.g. in jupyter console)\", TqdmExperimentalWarning)\n"
     ]
    }
   ],
   "source": [
    "from scipy.special import gammaln\n",
    "import numpy as np\n",
    "from tqdm.autonotebook import tqdm\n",
    "from joblib import Parallel, delayed"
   ]
  },
  {
   "cell_type": "code",
   "execution_count": 5,
   "metadata": {
    "ExecuteTime": {
     "end_time": "2020-01-12T00:20:17.156964Z",
     "start_time": "2020-01-12T00:20:17.137142Z"
    }
   },
   "outputs": [],
   "source": [
    "# ModuleNotFoundError: No module named '_expected_mutual_info_fast'"
   ]
  },
  {
   "cell_type": "code",
   "execution_count": 6,
   "metadata": {
    "ExecuteTime": {
     "end_time": "2020-01-12T00:20:17.536701Z",
     "start_time": "2020-01-12T00:20:17.502049Z"
    }
   },
   "outputs": [],
   "source": [
    "from childes_mi.information_theory.emi._nij_op_cython import nij_op_cython\n"
   ]
  },
  {
   "cell_type": "code",
   "execution_count": 7,
   "metadata": {
    "ExecuteTime": {
     "end_time": "2020-01-12T00:20:17.883447Z",
     "start_time": "2020-01-12T00:20:17.785942Z"
    }
   },
   "outputs": [
    {
     "ename": "ModuleNotFoundError",
     "evalue": "No module named 'childes_mi.information_theory.emi._expected_mutual_info_fast'",
     "output_type": "error",
     "traceback": [
      "\u001b[0;31m---------------------------------------------------------------------------\u001b[0m",
      "\u001b[0;31mModuleNotFoundError\u001b[0m                       Traceback (most recent call last)",
      "\u001b[0;32m<ipython-input-7-80b5bba244b8>\u001b[0m in \u001b[0;36m<module>\u001b[0;34m\u001b[0m\n\u001b[0;32m----> 1\u001b[0;31m \u001b[0;32mfrom\u001b[0m \u001b[0mchildes_mi\u001b[0m\u001b[0;34m.\u001b[0m\u001b[0minformation_theory\u001b[0m\u001b[0;34m.\u001b[0m\u001b[0memi\u001b[0m\u001b[0;34m.\u001b[0m\u001b[0m_expected_mutual_info_fast\u001b[0m \u001b[0;32mimport\u001b[0m \u001b[0mexpected_mutual_information\u001b[0m\u001b[0;34m\u001b[0m\u001b[0;34m\u001b[0m\u001b[0m\n\u001b[0m\u001b[1;32m      2\u001b[0m \u001b[0mexpected_mutual_information\u001b[0m\u001b[0;34m\u001b[0m\u001b[0;34m\u001b[0m\u001b[0m\n",
      "\u001b[0;31mModuleNotFoundError\u001b[0m: No module named 'childes_mi.information_theory.emi._expected_mutual_info_fast'"
     ]
    }
   ],
   "source": [
    "from childes_mi.information_theory.emi._expected_mutual_info_fast import expected_mutual_information\n",
    "expected_mutual_information"
   ]
  },
  {
   "cell_type": "code",
   "execution_count": 23,
   "metadata": {
    "ExecuteTime": {
     "end_time": "2020-01-12T00:20:41.144516Z",
     "start_time": "2020-01-12T00:20:41.101213Z"
    }
   },
   "outputs": [
    {
     "data": {
      "text/plain": [
       "<function sklearn.metrics.cluster._expected_mutual_info_fast.expected_mutual_information>"
      ]
     },
     "execution_count": 23,
     "metadata": {},
     "output_type": "execute_result"
    }
   ],
   "source": [
    "from sklearn.metrics.cluster._expected_mutual_info_fast import expected_mutual_information\n",
    "expected_mutual_information"
   ]
  },
  {
   "cell_type": "code",
   "execution_count": 27,
   "metadata": {
    "ExecuteTime": {
     "end_time": "2020-01-12T00:21:08.000687Z",
     "start_time": "2020-01-12T00:21:07.957823Z"
    }
   },
   "outputs": [],
   "source": [
    "from sklearn.metrics import cluster"
   ]
  },
  {
   "cell_type": "code",
   "execution_count": 28,
   "metadata": {
    "ExecuteTime": {
     "end_time": "2020-01-12T00:21:11.716626Z",
     "start_time": "2020-01-12T00:21:11.620515Z"
    }
   },
   "outputs": [],
   "source": [
    "??cluster"
   ]
  },
  {
   "cell_type": "code",
   "execution_count": 9,
   "metadata": {
    "ExecuteTime": {
     "end_time": "2020-01-12T00:20:18.825725Z",
     "start_time": "2020-01-12T00:20:18.367707Z"
    }
   },
   "outputs": [],
   "source": [
    "import numpy as np\n",
    "import scipy.sparse\n",
    "from sklearn.metrics.cluster import contingency_matrix\n",
    "from sklearn.metrics.cluster import adjusted_mutual_info_score"
   ]
  },
  {
   "cell_type": "code",
   "execution_count": 10,
   "metadata": {
    "ExecuteTime": {
     "end_time": "2020-01-12T00:20:22.608989Z",
     "start_time": "2020-01-12T00:20:22.560671Z"
    }
   },
   "outputs": [
    {
     "data": {
      "text/plain": [
       "((10, 6), 10000)"
      ]
     },
     "execution_count": 10,
     "metadata": {},
     "output_type": "execute_result"
    }
   ],
   "source": [
    "seed = 42\n",
    "k = 10\n",
    "n_samples = 10000\n",
    "random_labels = np.random.RandomState(seed).randint\n",
    "distribution_a = random_labels(low=0, high=k, size=n_samples)\n",
    "distribution_b = random_labels(low=0, high=k, size=n_samples)\n",
    "distribution_b[distribution_b > 5] = 5\n",
    "C = contingency_matrix(distribution_a, distribution_b, sparse=True)\n",
    "n_samples = C.sum()\n",
    "C.shape, n_samples"
   ]
  },
  {
   "cell_type": "code",
   "execution_count": 11,
   "metadata": {
    "ExecuteTime": {
     "end_time": "2020-01-12T00:20:22.926042Z",
     "start_time": "2020-01-12T00:20:22.873802Z"
    }
   },
   "outputs": [],
   "source": [
    "def emi_parallel(contingency, n_samples, use_cython = False, n_jobs=-1):\n",
    "    \"\"\"\n",
    "    EMI without pregenerating lookup table for reduced memory\n",
    "    https://github.com/clajusch/ClEvaR/blob/master/R/Calculations.R\n",
    "    \"\"\"\n",
    "    \n",
    "    print(\"EMI reduced memory parallel\")\n",
    "    s1 = np.array(np.sum(contingency, axis=1, dtype=\"int\").flatten()).flatten()\n",
    "    s2 = np.array(np.sum(contingency, axis=0, dtype=\"int\").flatten()).flatten()\n",
    "    N = n_samples\n",
    "    l1 = len(s1)\n",
    "    l2 = len(s2)\n",
    "\n",
    "    nijs = np.arange(0, max(np.max(s1), np.max(s2)) + 1, dtype=\"float\")\n",
    "    nijs[0] = 1\n",
    "    term1 = nijs / N\n",
    "\n",
    "    gln_a = gammaln(s1 + 1)\n",
    "    gln_b = gammaln(s2 + 1)\n",
    "    gln_Na = gammaln(N - s1 + 1)\n",
    "    gln_Nb = gammaln(N - s2 + 1)\n",
    "    gln_N = gammaln(N + 1)\n",
    "    gln_nij = gammaln(nijs + 1)\n",
    "    \n",
    "    if use_cython:\n",
    "        nij_func = nij_op_cython\n",
    "    else:\n",
    "        nij_func = nij_op\n",
    "\n",
    "    with Parallel(n_jobs=n_jobs, verbose=0, prefer=None) as parallel:\n",
    "    \n",
    "        emi = parallel(\n",
    "            delayed(nij_func)(s1[i], s2, l2, N, term1, nijs, i, gln_a, gln_b, gln_Na, gln_Nb, gln_N, gln_nij)\n",
    "            for i in tqdm(range(l1), desc=\"compute emi\", mininterval=0.25)\n",
    "        )\n",
    "            \n",
    "\n",
    "    return np.sum(emi)"
   ]
  },
  {
   "cell_type": "code",
   "execution_count": 12,
   "metadata": {
    "ExecuteTime": {
     "end_time": "2020-01-12T00:20:23.121043Z",
     "start_time": "2020-01-12T00:20:23.071452Z"
    }
   },
   "outputs": [],
   "source": [
    "def nij_op(s1i, s2, l2, N, term1, nijs, i, gln_a, gln_b, gln_Na, gln_Nb, gln_N, gln_nij):\n",
    "    emif = 0\n",
    "    for j in range(l2):\n",
    "        s2j = s2[j]\n",
    "        min_nij = np.max([1, s1i - N + s2j])\n",
    "        max_nij = np.min([s1i, s2j]) + 1\n",
    "        nij = np.arange(min_nij, max_nij)\n",
    "        t1 = term1[nij]\n",
    "        t2 = np.log(N * nijs[nij]) - np.log(s1i * s2j)\n",
    "\n",
    "        gln = (\n",
    "            gln_a[i] + \n",
    "            gln_b[j] + \n",
    "            gln_Na[i] + \n",
    "            gln_Nb[j] - \n",
    "            gln_N - \n",
    "            gln_nij[nij] - \n",
    "            gammaln(s1i - nij + 1) - \n",
    "            gammaln(s2j - nij + 1) -\n",
    "            gammaln(N - s1i- s2j + nij + 1)\n",
    "        )\n",
    "\n",
    "        t3 = np.exp(gln)\n",
    "        emi = sum(t1 * t2 * t3)\n",
    "        emif += emi\n",
    "    return emif"
   ]
  },
  {
   "cell_type": "code",
   "execution_count": 13,
   "metadata": {
    "ExecuteTime": {
     "end_time": "2020-01-12T00:20:24.163515Z",
     "start_time": "2020-01-12T00:20:23.302601Z"
    }
   },
   "outputs": [
    {
     "name": "stdout",
     "output_type": "stream",
     "text": [
      "EMI reduced memory parallel\n"
     ]
    },
    {
     "data": {
      "application/vnd.jupyter.widget-view+json": {
       "model_id": "ae6af00350ac43c5a8bd761a5e146040",
       "version_major": 2,
       "version_minor": 0
      },
      "text/plain": [
       "HBox(children=(IntProgress(value=0, description='compute emi', max=10, style=ProgressStyle(description_width='…"
      ]
     },
     "metadata": {},
     "output_type": "display_data"
    },
    {
     "name": "stdout",
     "output_type": "stream",
     "text": [
      "\n"
     ]
    },
    {
     "data": {
      "text/plain": [
       "0.002254254559813846"
      ]
     },
     "execution_count": 13,
     "metadata": {},
     "output_type": "execute_result"
    }
   ],
   "source": [
    "# 0.002254254559813846\n",
    "emi_parallel(C, n_samples)"
   ]
  },
  {
   "cell_type": "code",
   "execution_count": 14,
   "metadata": {
    "ExecuteTime": {
     "end_time": "2020-01-12T00:20:24.222833Z",
     "start_time": "2020-01-12T00:20:24.167855Z"
    }
   },
   "outputs": [
    {
     "data": {
      "text/plain": [
       "(14975, (5372, 5361))"
      ]
     },
     "execution_count": 14,
     "metadata": {},
     "output_type": "execute_result"
    }
   ],
   "source": [
    "C = scipy.sparse.load_npz('test.npz')\n",
    "n_samples = C.sum()\n",
    "n_samples, C.shape"
   ]
  },
  {
   "cell_type": "code",
   "execution_count": 15,
   "metadata": {
    "ExecuteTime": {
     "end_time": "2020-01-12T00:20:24.366697Z",
     "start_time": "2020-01-12T00:20:24.225036Z"
    }
   },
   "outputs": [],
   "source": [
    "# [01:19<00:00, 67.29it/s] 6.415867094292364\n",
    "#emi_parallel(C, n_samples)"
   ]
  },
  {
   "cell_type": "markdown",
   "metadata": {},
   "source": [
    "### test cython"
   ]
  },
  {
   "cell_type": "code",
   "execution_count": 16,
   "metadata": {
    "ExecuteTime": {
     "end_time": "2020-01-12T00:20:24.924373Z",
     "start_time": "2020-01-12T00:20:24.369761Z"
    }
   },
   "outputs": [],
   "source": [
    "%load_ext Cython"
   ]
  },
  {
   "cell_type": "code",
   "execution_count": 17,
   "metadata": {
    "ExecuteTime": {
     "end_time": "2020-01-12T00:20:24.966163Z",
     "start_time": "2020-01-12T00:20:24.929178Z"
    }
   },
   "outputs": [
    {
     "data": {
      "text/plain": [
       "'%%cython -a\\n\\nfrom scipy.special import gammaln\\nimport numpy as np\\ncimport numpy as np\\ncimport cython\\n\\n\\nnp.import_array()\\nctypedef np.float64_t DOUBLE\\n\\ndef nij_op_cython(int s1i, np.ndarray s2, int l2, int N, np.ndarray term1, \\n                  np.ndarray nijs, int i, np.ndarray gln_a, np.ndarray gln_b, \\n                  np.ndarray gln_Na, np.ndarray gln_Nb, float gln_N, np.ndarray gln_nij):\\n    cdef DOUBLE emi\\n    cdef np.ndarray[DOUBLE] gln, t1, t2, t3\\n    cdef np.ndarray[np.int32_t] nij \\n    cdef int min_nij, max_nij, s2j\\n    emif = 0\\n    cdef Py_ssize_t j\\n    for j in range(l2):\\n        s2j = s2[j]\\n        min_nij = max([1, s1i + s2j - N])\\n        max_nij = min([s1i, s2j])\\n        nij = np.arange(min_nij, max_nij).astype(np.int32, copy=False) + 1\\n        t1 = term1[nij]\\n        t2 = np.log(N * nijs[nij]) - np.log(s1i * s2j)\\n\\n        gln = (\\n            gln_a[i] + \\n            gln_b[j] + \\n            gln_Na[i] + \\n            gln_Nb[j] - \\n            gln_N - \\n            gln_nij[nij] - \\n            gammaln(s1i - nij + 1) - \\n            gammaln(s2j - nij + 1) -\\n            gammaln(N - s1i- s2j + nij + 1)\\n        )\\n\\n        t3 = np.exp(gln)\\n        emi = sum(t1 * t2 * t3)\\n        emif += emi\\n    return emif'"
      ]
     },
     "execution_count": 17,
     "metadata": {},
     "output_type": "execute_result"
    }
   ],
   "source": [
    "%%cython -a\n",
    "\n",
    "from scipy.special import gammaln\n",
    "import numpy as np\n",
    "cimport numpy as np\n",
    "cimport cython\n",
    "\n",
    "\n",
    "np.import_array()\n",
    "ctypedef np.float64_t DOUBLE\n",
    "\n",
    "def nij_op_cython(int s1i, np.ndarray s2, int l2, int N, np.ndarray term1, \n",
    "                  np.ndarray nijs, int i, np.ndarray gln_a, np.ndarray gln_b, \n",
    "                  np.ndarray gln_Na, np.ndarray gln_Nb, float gln_N, np.ndarray gln_nij):\n",
    "    cdef DOUBLE emi\n",
    "    cdef np.ndarray[DOUBLE] gln, t1, t2, t3\n",
    "    cdef np.ndarray[np.int32_t] nij \n",
    "    cdef int min_nij, max_nij, s2j\n",
    "    emif = 0\n",
    "    cdef Py_ssize_t j\n",
    "    for j in range(l2):\n",
    "        s2j = s2[j]\n",
    "        min_nij = max([1, s1i + s2j - N])\n",
    "        max_nij = min([s1i, s2j])\n",
    "        nij = np.arange(min_nij, max_nij).astype(np.int32, copy=False) + 1\n",
    "        t1 = term1[nij]\n",
    "        t2 = np.log(N * nijs[nij]) - np.log(s1i * s2j)\n",
    "\n",
    "        gln = (\n",
    "            gln_a[i] + \n",
    "            gln_b[j] + \n",
    "            gln_Na[i] + \n",
    "            gln_Nb[j] - \n",
    "            gln_N - \n",
    "            gln_nij[nij] - \n",
    "            gammaln(s1i - nij + 1) - \n",
    "            gammaln(s2j - nij + 1) -\n",
    "            gammaln(N - s1i- s2j + nij + 1)\n",
    "        )\n",
    "\n",
    "        t3 = np.exp(gln)\n",
    "        emi = sum(t1 * t2 * t3)\n",
    "        emif += emi\n",
    "    return emif\"\"\""
   ]
  },
  {
   "cell_type": "code",
   "execution_count": 18,
   "metadata": {
    "ExecuteTime": {
     "end_time": "2020-01-12T00:20:25.064623Z",
     "start_time": "2020-01-12T00:20:24.968346Z"
    }
   },
   "outputs": [
    {
     "data": {
      "text/plain": [
       "((10, 6), 10000)"
      ]
     },
     "execution_count": 18,
     "metadata": {},
     "output_type": "execute_result"
    }
   ],
   "source": [
    "seed = 42\n",
    "k = 10\n",
    "n_samples = 10000\n",
    "random_labels = np.random.RandomState(seed).randint\n",
    "distribution_a = random_labels(low=0, high=k, size=n_samples)\n",
    "distribution_b = random_labels(low=0, high=k, size=n_samples)\n",
    "distribution_b[distribution_b > 5] = 5\n",
    "C = contingency_matrix(distribution_a, distribution_b, sparse=True)\n",
    "n_samples = C.sum()\n",
    "C.shape, n_samples"
   ]
  },
  {
   "cell_type": "code",
   "execution_count": 19,
   "metadata": {
    "ExecuteTime": {
     "end_time": "2020-01-12T00:20:25.222639Z",
     "start_time": "2020-01-12T00:20:25.066951Z"
    }
   },
   "outputs": [
    {
     "name": "stdout",
     "output_type": "stream",
     "text": [
      "EMI reduced memory parallel\n"
     ]
    },
    {
     "data": {
      "application/vnd.jupyter.widget-view+json": {
       "model_id": "d2906c8789084467aab44e6c058998cd",
       "version_major": 2,
       "version_minor": 0
      },
      "text/plain": [
       "HBox(children=(IntProgress(value=0, description='compute emi', max=10, style=ProgressStyle(description_width='…"
      ]
     },
     "metadata": {},
     "output_type": "display_data"
    },
    {
     "name": "stdout",
     "output_type": "stream",
     "text": [
      "\n"
     ]
    },
    {
     "data": {
      "text/plain": [
       "0.002250086501340412"
      ]
     },
     "execution_count": 19,
     "metadata": {},
     "output_type": "execute_result"
    }
   ],
   "source": [
    "emi_parallel(C, n_samples, use_cython = True, n_jobs=1)"
   ]
  },
  {
   "cell_type": "code",
   "execution_count": 20,
   "metadata": {
    "ExecuteTime": {
     "end_time": "2020-01-12T00:20:25.252041Z",
     "start_time": "2020-01-12T00:20:25.224509Z"
    }
   },
   "outputs": [
    {
     "data": {
      "text/plain": [
       "(14975, (5372, 5361))"
      ]
     },
     "execution_count": 20,
     "metadata": {},
     "output_type": "execute_result"
    }
   ],
   "source": [
    "C = scipy.sparse.load_npz('test.npz')\n",
    "n_samples = C.sum()\n",
    "n_samples, C.shape"
   ]
  },
  {
   "cell_type": "code",
   "execution_count": 29,
   "metadata": {
    "ExecuteTime": {
     "end_time": "2020-01-12T00:23:35.210333Z",
     "start_time": "2020-01-12T00:23:34.517205Z"
    },
    "scrolled": false
   },
   "outputs": [
    {
     "name": "stdout",
     "output_type": "stream",
     "text": [
      "EMI reduced memory parallel\n"
     ]
    },
    {
     "data": {
      "application/vnd.jupyter.widget-view+json": {
       "model_id": "773775c333a444a5ba4eade5baf72524",
       "version_major": 2,
       "version_minor": 0
      },
      "text/plain": [
       "HBox(children=(IntProgress(value=0, description='compute emi', max=5372, style=ProgressStyle(description_width…"
      ]
     },
     "metadata": {},
     "output_type": "display_data"
    },
    {
     "ename": "BrokenProcessPool",
     "evalue": "A task has failed to un-serialize. Please ensure that the arguments of the function are all picklable.",
     "output_type": "error",
     "traceback": [
      "\u001b[0;31m---------------------------------------------------------------------------\u001b[0m",
      "\u001b[0;31m_RemoteTraceback\u001b[0m                          Traceback (most recent call last)",
      "\u001b[0;31m_RemoteTraceback\u001b[0m: \n'''\nTraceback (most recent call last):\n  File \"/mnt/cube/tsainbur/conda_envs/tpy3/lib/python3.6/site-packages/joblib/externals/loky/process_executor.py\", line 391, in _process_worker\n    call_item = call_queue.get(block=True, timeout=timeout)\n  File \"/mnt/cube/tsainbur/conda_envs/tpy3/lib/python3.6/multiprocessing/queues.py\", line 113, in get\n    return _ForkingPickler.loads(res)\nModuleNotFoundError: No module named '_nij_op_cython'\n'''",
      "\nThe above exception was the direct cause of the following exception:\n",
      "\u001b[0;31mBrokenProcessPool\u001b[0m                         Traceback (most recent call last)",
      "\u001b[0;32m<ipython-input-29-b715bb2e596b>\u001b[0m in \u001b[0;36m<module>\u001b[0;34m\u001b[0m\n\u001b[0;32m----> 1\u001b[0;31m \u001b[0memi_parallel\u001b[0m\u001b[0;34m(\u001b[0m\u001b[0mC\u001b[0m\u001b[0;34m,\u001b[0m \u001b[0mn_samples\u001b[0m\u001b[0;34m,\u001b[0m \u001b[0muse_cython\u001b[0m \u001b[0;34m=\u001b[0m \u001b[0;32mTrue\u001b[0m\u001b[0;34m,\u001b[0m \u001b[0mn_jobs\u001b[0m\u001b[0;34m=\u001b[0m\u001b[0;36m2\u001b[0m\u001b[0;34m)\u001b[0m\u001b[0;34m\u001b[0m\u001b[0;34m\u001b[0m\u001b[0m\n\u001b[0m",
      "\u001b[0;32m<ipython-input-11-646d19f2ffc5>\u001b[0m in \u001b[0;36memi_parallel\u001b[0;34m(contingency, n_samples, use_cython, n_jobs)\u001b[0m\n\u001b[1;32m     32\u001b[0m         emi = parallel(\n\u001b[1;32m     33\u001b[0m             \u001b[0mdelayed\u001b[0m\u001b[0;34m(\u001b[0m\u001b[0mnij_func\u001b[0m\u001b[0;34m)\u001b[0m\u001b[0;34m(\u001b[0m\u001b[0ms1\u001b[0m\u001b[0;34m[\u001b[0m\u001b[0mi\u001b[0m\u001b[0;34m]\u001b[0m\u001b[0;34m,\u001b[0m \u001b[0ms2\u001b[0m\u001b[0;34m,\u001b[0m \u001b[0ml2\u001b[0m\u001b[0;34m,\u001b[0m \u001b[0mN\u001b[0m\u001b[0;34m,\u001b[0m \u001b[0mterm1\u001b[0m\u001b[0;34m,\u001b[0m \u001b[0mnijs\u001b[0m\u001b[0;34m,\u001b[0m \u001b[0mi\u001b[0m\u001b[0;34m,\u001b[0m \u001b[0mgln_a\u001b[0m\u001b[0;34m,\u001b[0m \u001b[0mgln_b\u001b[0m\u001b[0;34m,\u001b[0m \u001b[0mgln_Na\u001b[0m\u001b[0;34m,\u001b[0m \u001b[0mgln_Nb\u001b[0m\u001b[0;34m,\u001b[0m \u001b[0mgln_N\u001b[0m\u001b[0;34m,\u001b[0m \u001b[0mgln_nij\u001b[0m\u001b[0;34m)\u001b[0m\u001b[0;34m\u001b[0m\u001b[0;34m\u001b[0m\u001b[0m\n\u001b[0;32m---> 34\u001b[0;31m             \u001b[0;32mfor\u001b[0m \u001b[0mi\u001b[0m \u001b[0;32min\u001b[0m \u001b[0mtqdm\u001b[0m\u001b[0;34m(\u001b[0m\u001b[0mrange\u001b[0m\u001b[0;34m(\u001b[0m\u001b[0ml1\u001b[0m\u001b[0;34m)\u001b[0m\u001b[0;34m,\u001b[0m \u001b[0mdesc\u001b[0m\u001b[0;34m=\u001b[0m\u001b[0;34m\"compute emi\"\u001b[0m\u001b[0;34m,\u001b[0m \u001b[0mmininterval\u001b[0m\u001b[0;34m=\u001b[0m\u001b[0;36m0.25\u001b[0m\u001b[0;34m)\u001b[0m\u001b[0;34m\u001b[0m\u001b[0;34m\u001b[0m\u001b[0m\n\u001b[0m\u001b[1;32m     35\u001b[0m         )\n\u001b[1;32m     36\u001b[0m \u001b[0;34m\u001b[0m\u001b[0m\n",
      "\u001b[0;32m/mnt/cube/tsainbur/conda_envs/tpy3/lib/python3.6/site-packages/joblib/parallel.py\u001b[0m in \u001b[0;36m__call__\u001b[0;34m(self, iterable)\u001b[0m\n\u001b[1;32m    932\u001b[0m \u001b[0;34m\u001b[0m\u001b[0m\n\u001b[1;32m    933\u001b[0m             \u001b[0;32mwith\u001b[0m \u001b[0mself\u001b[0m\u001b[0;34m.\u001b[0m\u001b[0m_backend\u001b[0m\u001b[0;34m.\u001b[0m\u001b[0mretrieval_context\u001b[0m\u001b[0;34m(\u001b[0m\u001b[0;34m)\u001b[0m\u001b[0;34m:\u001b[0m\u001b[0;34m\u001b[0m\u001b[0;34m\u001b[0m\u001b[0m\n\u001b[0;32m--> 934\u001b[0;31m                 \u001b[0mself\u001b[0m\u001b[0;34m.\u001b[0m\u001b[0mretrieve\u001b[0m\u001b[0;34m(\u001b[0m\u001b[0;34m)\u001b[0m\u001b[0;34m\u001b[0m\u001b[0;34m\u001b[0m\u001b[0m\n\u001b[0m\u001b[1;32m    935\u001b[0m             \u001b[0;31m# Make sure that we get a last message telling us we are done\u001b[0m\u001b[0;34m\u001b[0m\u001b[0;34m\u001b[0m\u001b[0;34m\u001b[0m\u001b[0m\n\u001b[1;32m    936\u001b[0m             \u001b[0melapsed_time\u001b[0m \u001b[0;34m=\u001b[0m \u001b[0mtime\u001b[0m\u001b[0;34m.\u001b[0m\u001b[0mtime\u001b[0m\u001b[0;34m(\u001b[0m\u001b[0;34m)\u001b[0m \u001b[0;34m-\u001b[0m \u001b[0mself\u001b[0m\u001b[0;34m.\u001b[0m\u001b[0m_start_time\u001b[0m\u001b[0;34m\u001b[0m\u001b[0;34m\u001b[0m\u001b[0m\n",
      "\u001b[0;32m/mnt/cube/tsainbur/conda_envs/tpy3/lib/python3.6/site-packages/joblib/parallel.py\u001b[0m in \u001b[0;36mretrieve\u001b[0;34m(self)\u001b[0m\n\u001b[1;32m    831\u001b[0m             \u001b[0;32mtry\u001b[0m\u001b[0;34m:\u001b[0m\u001b[0;34m\u001b[0m\u001b[0;34m\u001b[0m\u001b[0m\n\u001b[1;32m    832\u001b[0m                 \u001b[0;32mif\u001b[0m \u001b[0mgetattr\u001b[0m\u001b[0;34m(\u001b[0m\u001b[0mself\u001b[0m\u001b[0;34m.\u001b[0m\u001b[0m_backend\u001b[0m\u001b[0;34m,\u001b[0m \u001b[0;34m'supports_timeout'\u001b[0m\u001b[0;34m,\u001b[0m \u001b[0;32mFalse\u001b[0m\u001b[0;34m)\u001b[0m\u001b[0;34m:\u001b[0m\u001b[0;34m\u001b[0m\u001b[0;34m\u001b[0m\u001b[0m\n\u001b[0;32m--> 833\u001b[0;31m                     \u001b[0mself\u001b[0m\u001b[0;34m.\u001b[0m\u001b[0m_output\u001b[0m\u001b[0;34m.\u001b[0m\u001b[0mextend\u001b[0m\u001b[0;34m(\u001b[0m\u001b[0mjob\u001b[0m\u001b[0;34m.\u001b[0m\u001b[0mget\u001b[0m\u001b[0;34m(\u001b[0m\u001b[0mtimeout\u001b[0m\u001b[0;34m=\u001b[0m\u001b[0mself\u001b[0m\u001b[0;34m.\u001b[0m\u001b[0mtimeout\u001b[0m\u001b[0;34m)\u001b[0m\u001b[0;34m)\u001b[0m\u001b[0;34m\u001b[0m\u001b[0;34m\u001b[0m\u001b[0m\n\u001b[0m\u001b[1;32m    834\u001b[0m                 \u001b[0;32melse\u001b[0m\u001b[0;34m:\u001b[0m\u001b[0;34m\u001b[0m\u001b[0;34m\u001b[0m\u001b[0m\n\u001b[1;32m    835\u001b[0m                     \u001b[0mself\u001b[0m\u001b[0;34m.\u001b[0m\u001b[0m_output\u001b[0m\u001b[0;34m.\u001b[0m\u001b[0mextend\u001b[0m\u001b[0;34m(\u001b[0m\u001b[0mjob\u001b[0m\u001b[0;34m.\u001b[0m\u001b[0mget\u001b[0m\u001b[0;34m(\u001b[0m\u001b[0;34m)\u001b[0m\u001b[0;34m)\u001b[0m\u001b[0;34m\u001b[0m\u001b[0;34m\u001b[0m\u001b[0m\n",
      "\u001b[0;32m/mnt/cube/tsainbur/conda_envs/tpy3/lib/python3.6/site-packages/joblib/_parallel_backends.py\u001b[0m in \u001b[0;36mwrap_future_result\u001b[0;34m(future, timeout)\u001b[0m\n\u001b[1;32m    519\u001b[0m         AsyncResults.get from multiprocessing.\"\"\"\n\u001b[1;32m    520\u001b[0m         \u001b[0;32mtry\u001b[0m\u001b[0;34m:\u001b[0m\u001b[0;34m\u001b[0m\u001b[0;34m\u001b[0m\u001b[0m\n\u001b[0;32m--> 521\u001b[0;31m             \u001b[0;32mreturn\u001b[0m \u001b[0mfuture\u001b[0m\u001b[0;34m.\u001b[0m\u001b[0mresult\u001b[0m\u001b[0;34m(\u001b[0m\u001b[0mtimeout\u001b[0m\u001b[0;34m=\u001b[0m\u001b[0mtimeout\u001b[0m\u001b[0;34m)\u001b[0m\u001b[0;34m\u001b[0m\u001b[0;34m\u001b[0m\u001b[0m\n\u001b[0m\u001b[1;32m    522\u001b[0m         \u001b[0;32mexcept\u001b[0m \u001b[0mLokyTimeoutError\u001b[0m\u001b[0;34m:\u001b[0m\u001b[0;34m\u001b[0m\u001b[0;34m\u001b[0m\u001b[0m\n\u001b[1;32m    523\u001b[0m             \u001b[0;32mraise\u001b[0m \u001b[0mTimeoutError\u001b[0m\u001b[0;34m(\u001b[0m\u001b[0;34m)\u001b[0m\u001b[0;34m\u001b[0m\u001b[0;34m\u001b[0m\u001b[0m\n",
      "\u001b[0;32m/mnt/cube/tsainbur/conda_envs/tpy3/lib/python3.6/concurrent/futures/_base.py\u001b[0m in \u001b[0;36mresult\u001b[0;34m(self, timeout)\u001b[0m\n\u001b[1;32m    430\u001b[0m                 \u001b[0;32mraise\u001b[0m \u001b[0mCancelledError\u001b[0m\u001b[0;34m(\u001b[0m\u001b[0;34m)\u001b[0m\u001b[0;34m\u001b[0m\u001b[0;34m\u001b[0m\u001b[0m\n\u001b[1;32m    431\u001b[0m             \u001b[0;32melif\u001b[0m \u001b[0mself\u001b[0m\u001b[0;34m.\u001b[0m\u001b[0m_state\u001b[0m \u001b[0;34m==\u001b[0m \u001b[0mFINISHED\u001b[0m\u001b[0;34m:\u001b[0m\u001b[0;34m\u001b[0m\u001b[0;34m\u001b[0m\u001b[0m\n\u001b[0;32m--> 432\u001b[0;31m                 \u001b[0;32mreturn\u001b[0m \u001b[0mself\u001b[0m\u001b[0;34m.\u001b[0m\u001b[0m__get_result\u001b[0m\u001b[0;34m(\u001b[0m\u001b[0;34m)\u001b[0m\u001b[0;34m\u001b[0m\u001b[0;34m\u001b[0m\u001b[0m\n\u001b[0m\u001b[1;32m    433\u001b[0m             \u001b[0;32melse\u001b[0m\u001b[0;34m:\u001b[0m\u001b[0;34m\u001b[0m\u001b[0;34m\u001b[0m\u001b[0m\n\u001b[1;32m    434\u001b[0m                 \u001b[0;32mraise\u001b[0m \u001b[0mTimeoutError\u001b[0m\u001b[0;34m(\u001b[0m\u001b[0;34m)\u001b[0m\u001b[0;34m\u001b[0m\u001b[0;34m\u001b[0m\u001b[0m\n",
      "\u001b[0;32m/mnt/cube/tsainbur/conda_envs/tpy3/lib/python3.6/concurrent/futures/_base.py\u001b[0m in \u001b[0;36m__get_result\u001b[0;34m(self)\u001b[0m\n\u001b[1;32m    382\u001b[0m     \u001b[0;32mdef\u001b[0m \u001b[0m__get_result\u001b[0m\u001b[0;34m(\u001b[0m\u001b[0mself\u001b[0m\u001b[0;34m)\u001b[0m\u001b[0;34m:\u001b[0m\u001b[0;34m\u001b[0m\u001b[0;34m\u001b[0m\u001b[0m\n\u001b[1;32m    383\u001b[0m         \u001b[0;32mif\u001b[0m \u001b[0mself\u001b[0m\u001b[0;34m.\u001b[0m\u001b[0m_exception\u001b[0m\u001b[0;34m:\u001b[0m\u001b[0;34m\u001b[0m\u001b[0;34m\u001b[0m\u001b[0m\n\u001b[0;32m--> 384\u001b[0;31m             \u001b[0;32mraise\u001b[0m \u001b[0mself\u001b[0m\u001b[0;34m.\u001b[0m\u001b[0m_exception\u001b[0m\u001b[0;34m\u001b[0m\u001b[0;34m\u001b[0m\u001b[0m\n\u001b[0m\u001b[1;32m    385\u001b[0m         \u001b[0;32melse\u001b[0m\u001b[0;34m:\u001b[0m\u001b[0;34m\u001b[0m\u001b[0;34m\u001b[0m\u001b[0m\n\u001b[1;32m    386\u001b[0m             \u001b[0;32mreturn\u001b[0m \u001b[0mself\u001b[0m\u001b[0;34m.\u001b[0m\u001b[0m_result\u001b[0m\u001b[0;34m\u001b[0m\u001b[0;34m\u001b[0m\u001b[0m\n",
      "\u001b[0;31mBrokenProcessPool\u001b[0m: A task has failed to un-serialize. Please ensure that the arguments of the function are all picklable."
     ]
    }
   ],
   "source": [
    "emi_parallel(C, n_samples, use_cython = True, n_jobs=2)"
   ]
  },
  {
   "cell_type": "code",
   "execution_count": null,
   "metadata": {},
   "outputs": [],
   "source": []
  },
  {
   "cell_type": "code",
   "execution_count": null,
   "metadata": {},
   "outputs": [],
   "source": []
  }
 ],
 "metadata": {
  "kernelspec": {
   "display_name": "Python 3",
   "language": "python",
   "name": "python3"
  },
  "language_info": {
   "codemirror_mode": {
    "name": "ipython",
    "version": 3
   },
   "file_extension": ".py",
   "mimetype": "text/x-python",
   "name": "python",
   "nbconvert_exporter": "python",
   "pygments_lexer": "ipython3",
   "version": "3.6.7"
  }
 },
 "nbformat": 4,
 "nbformat_minor": 2
}
