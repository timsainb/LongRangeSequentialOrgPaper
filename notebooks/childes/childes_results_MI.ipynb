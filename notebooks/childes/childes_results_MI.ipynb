{
 "cells": [
  {
   "cell_type": "code",
   "execution_count": 1,
   "metadata": {
    "ExecuteTime": {
     "end_time": "2019-09-25T04:08:12.510876Z",
     "start_time": "2019-09-25T04:08:12.450666Z"
    }
   },
   "outputs": [],
   "source": [
    "%load_ext autoreload\n",
    "%autoreload 2"
   ]
  },
  {
   "cell_type": "code",
   "execution_count": 2,
   "metadata": {
    "ExecuteTime": {
     "end_time": "2019-09-25T04:08:13.113623Z",
     "start_time": "2019-09-25T04:08:12.590272Z"
    }
   },
   "outputs": [],
   "source": [
    "from childes_mi.utils.paths import DATA_DIR, FIGURE_DIR\n",
    "from childes_mi.utils.general import flatten,save_fig"
   ]
  },
  {
   "cell_type": "code",
   "execution_count": 3,
   "metadata": {
    "ExecuteTime": {
     "end_time": "2019-09-25T04:08:14.248553Z",
     "start_time": "2019-09-25T04:08:13.117040Z"
    }
   },
   "outputs": [],
   "source": [
    "from childes_mi.information_theory import model_fitting as mf"
   ]
  },
  {
   "cell_type": "code",
   "execution_count": 4,
   "metadata": {
    "ExecuteTime": {
     "end_time": "2019-09-25T04:08:14.304448Z",
     "start_time": "2019-09-25T04:08:14.250887Z"
    }
   },
   "outputs": [
    {
     "name": "stderr",
     "output_type": "stream",
     "text": [
      "/mnt/cube/tsainbur/conda_envs/tpy3/lib/python3.6/site-packages/tqdm/autonotebook/__init__.py:14: TqdmExperimentalWarning: Using `tqdm.autonotebook.tqdm` in notebook mode. Use `tqdm.tqdm` instead to force console mode (e.g. in jupyter console)\n",
      "  \" (e.g. in jupyter console)\", TqdmExperimentalWarning)\n"
     ]
    }
   ],
   "source": [
    "import pandas as pd\n",
    "import numpy as np\n",
    "import matplotlib.pyplot as plt\n",
    "from tqdm.autonotebook import tqdm"
   ]
  },
  {
   "cell_type": "code",
   "execution_count": 5,
   "metadata": {
    "ExecuteTime": {
     "end_time": "2019-09-25T04:08:15.241614Z",
     "start_time": "2019-09-25T04:08:14.307268Z"
    }
   },
   "outputs": [],
   "source": [
    "MI_DF = pd.read_pickle(DATA_DIR/'mi/childes_mi.pickle')"
   ]
  },
  {
   "cell_type": "code",
   "execution_count": 6,
   "metadata": {
    "ExecuteTime": {
     "end_time": "2019-09-25T04:08:15.324841Z",
     "start_time": "2019-09-25T04:08:15.244355Z"
    }
   },
   "outputs": [
    {
     "data": {
      "text/html": [
       "<div>\n",
       "<style scoped>\n",
       "    .dataframe tbody tr th:only-of-type {\n",
       "        vertical-align: middle;\n",
       "    }\n",
       "\n",
       "    .dataframe tbody tr th {\n",
       "        vertical-align: top;\n",
       "    }\n",
       "\n",
       "    .dataframe thead th {\n",
       "        text-align: right;\n",
       "    }\n",
       "</style>\n",
       "<table border=\"1\" class=\"dataframe\">\n",
       "  <thead>\n",
       "    <tr style=\"text-align: right;\">\n",
       "      <th></th>\n",
       "      <th>MI</th>\n",
       "      <th>MI_var</th>\n",
       "      <th>shuff_MI</th>\n",
       "      <th>shuff_MI_var</th>\n",
       "      <th>distances</th>\n",
       "      <th>age_cohort_low</th>\n",
       "      <th>age_cohort_high</th>\n",
       "      <th>n_words</th>\n",
       "      <th>n_unique_words</th>\n",
       "    </tr>\n",
       "  </thead>\n",
       "  <tbody>\n",
       "    <tr>\n",
       "      <th>0</th>\n",
       "      <td>[6.0615547382637684, 5.953026573946322, 5.8999...</td>\n",
       "      <td>[0.06497202939114834, 0.06421181443545038, 0.0...</td>\n",
       "      <td>[5.79799893493386, 5.805771966570329, 5.792474...</td>\n",
       "      <td>[0.06474471004074468, 0.06537742978608413, 0.0...</td>\n",
       "      <td>[1, 2, 3, 4, 5, 6, 7, 8, 9, 10, 11, 12, 13, 14...</td>\n",
       "      <td>0.5</td>\n",
       "      <td>1</td>\n",
       "      <td>2371</td>\n",
       "      <td>72</td>\n",
       "    </tr>\n",
       "    <tr>\n",
       "      <th>1</th>\n",
       "      <td>[10.373016081368098, 10.130972857078175, 9.987...</td>\n",
       "      <td>[0.00937963690006051, 0.009307961610168364, 0....</td>\n",
       "      <td>[9.60947032947951, 9.60572819037825, 9.5994570...</td>\n",
       "      <td>[0.009097935454051041, 0.009124346562127784, 0...</td>\n",
       "      <td>[1, 2, 3, 4, 5, 6, 7, 8, 9, 10, 11, 12, 13, 14...</td>\n",
       "      <td>1.0</td>\n",
       "      <td>1.5</td>\n",
       "      <td>67747</td>\n",
       "      <td>3609</td>\n",
       "    </tr>\n",
       "    <tr>\n",
       "      <th>2</th>\n",
       "      <td>[11.349881924265677, 11.087999639009142, 10.96...</td>\n",
       "      <td>[0.005174827403727939, 0.005136394630766223, 0...</td>\n",
       "      <td>[10.681207621740015, 10.677630292519837, 10.67...</td>\n",
       "      <td>[0.005060342080401666, 0.005066649080465537, 0...</td>\n",
       "      <td>[1, 2, 3, 4, 5, 6, 7, 8, 9, 10, 11, 12, 13, 14...</td>\n",
       "      <td>1.5</td>\n",
       "      <td>2</td>\n",
       "      <td>232191</td>\n",
       "      <td>8134</td>\n",
       "    </tr>\n",
       "  </tbody>\n",
       "</table>\n",
       "</div>"
      ],
      "text/plain": [
       "                                                  MI  \\\n",
       "0  [6.0615547382637684, 5.953026573946322, 5.8999...   \n",
       "1  [10.373016081368098, 10.130972857078175, 9.987...   \n",
       "2  [11.349881924265677, 11.087999639009142, 10.96...   \n",
       "\n",
       "                                              MI_var  \\\n",
       "0  [0.06497202939114834, 0.06421181443545038, 0.0...   \n",
       "1  [0.00937963690006051, 0.009307961610168364, 0....   \n",
       "2  [0.005174827403727939, 0.005136394630766223, 0...   \n",
       "\n",
       "                                            shuff_MI  \\\n",
       "0  [5.79799893493386, 5.805771966570329, 5.792474...   \n",
       "1  [9.60947032947951, 9.60572819037825, 9.5994570...   \n",
       "2  [10.681207621740015, 10.677630292519837, 10.67...   \n",
       "\n",
       "                                        shuff_MI_var  \\\n",
       "0  [0.06474471004074468, 0.06537742978608413, 0.0...   \n",
       "1  [0.009097935454051041, 0.009124346562127784, 0...   \n",
       "2  [0.005060342080401666, 0.005066649080465537, 0...   \n",
       "\n",
       "                                           distances  age_cohort_low  \\\n",
       "0  [1, 2, 3, 4, 5, 6, 7, 8, 9, 10, 11, 12, 13, 14...             0.5   \n",
       "1  [1, 2, 3, 4, 5, 6, 7, 8, 9, 10, 11, 12, 13, 14...             1.0   \n",
       "2  [1, 2, 3, 4, 5, 6, 7, 8, 9, 10, 11, 12, 13, 14...             1.5   \n",
       "\n",
       "  age_cohort_high n_words n_unique_words  \n",
       "0               1    2371             72  \n",
       "1             1.5   67747           3609  \n",
       "2               2  232191           8134  "
      ]
     },
     "execution_count": 6,
     "metadata": {},
     "output_type": "execute_result"
    }
   ],
   "source": [
    "MI_DF[:3]"
   ]
  },
  {
   "cell_type": "code",
   "execution_count": 7,
   "metadata": {
    "ExecuteTime": {
     "end_time": "2019-09-25T04:08:15.429886Z",
     "start_time": "2019-09-25T04:08:15.326726Z"
    }
   },
   "outputs": [],
   "source": [
    "MI_DF = MI_DF.assign(**{i:np.nan for i in ['exp_results', 'pow_results', 'concat_results',\n",
    "     'R2_exp', 'R2_concat', 'R2_power', 'AICc_exp',\n",
    "     'AICc_concat', 'AICc_power', 'bestfitmodel', 'curvature', 'min_peak']})\n",
    "MI_DF['curvature'] = MI_DF['curvature'].astype(object)"
   ]
  },
  {
   "cell_type": "code",
   "execution_count": 8,
   "metadata": {
    "ExecuteTime": {
     "end_time": "2019-09-25T04:08:19.250012Z",
     "start_time": "2019-09-25T04:08:15.431887Z"
    }
   },
   "outputs": [
    {
     "data": {
      "application/vnd.jupyter.widget-view+json": {
       "model_id": "fdaeff62c0404a1cb00fe17520a1fcc4",
       "version_major": 2,
       "version_minor": 0
      },
      "text/plain": [
       "HBox(children=(IntProgress(value=0, max=6), HTML(value='')))"
      ]
     },
     "metadata": {},
     "output_type": "display_data"
    },
    {
     "name": "stderr",
     "output_type": "stream",
     "text": [
      "/mnt/cube/tsainbur/Projects/github_repos/childes_mi_project/childes_mi/information_theory/model_fitting.py:8: RuntimeWarning: invalid value encountered in log\n",
      "  return np.abs(np.log(y_true) - np.log(y_model)) * (1 / (np.log(1 + x)))\n"
     ]
    },
    {
     "name": "stdout",
     "output_type": "stream",
     "text": [
      "0.5 1 exp\n",
      "1.0 1.5 pow_exp\n",
      "1.5 2 pow_exp\n",
      "2.0 2.5 pow_exp\n",
      "2.5 3 pow_exp\n",
      "3.0 20 pow_exp\n",
      "\n"
     ]
    }
   ],
   "source": [
    "n = 100 # max distance for computation\n",
    "for idx, row in tqdm(MI_DF.iterrows(), total=len(MI_DF)):\n",
    "    # get signal\n",
    "    sig = np.array(row.MI-row.shuff_MI)\n",
    "    distances = row.distances\n",
    "    \n",
    "    sig = sig\n",
    "    \n",
    "    # fit models\n",
    "    results_power, results_exp, results_pow_exp, best_fit_model = mf.fit_models(distances, sig)\n",
    "    \n",
    "    # get fit results\n",
    "    R2_exp, R2_concat, R2_power, AICc_exp, \\\n",
    "        AICc_pow, AICc_concat = mf.fit_results(sig, distances, \n",
    "                                              results_exp, results_power,\n",
    "                                              results_pow_exp)\n",
    "    \n",
    "    \n",
    "    # get model y\n",
    "    distances_mod = np.logspace(0,np.log10(n), base=10, num=1000)\n",
    "    if best_fit_model == 'pow_exp':\n",
    "        y_model = mf.get_y(mf.pow_exp_decay, results_pow_exp, distances_mod)\n",
    "    elif best_fit_model == 'exp':\n",
    "        y_model = mf.get_y(mf.exp_decay, results_exp, distances_mod)\n",
    "    elif best_fit_model == 'pow':\n",
    "        y_model = mf.get_y(mf.powerlaw_decay, results_power, distances_mod)\n",
    "    \n",
    "    # get curvature of model_y\n",
    "    curvature_model = mf.curvature(np.log(y_model))\n",
    "    \n",
    "    # if the best fit model is pow_exp, then grab the min peak\n",
    "    if best_fit_model == 'pow_exp':\n",
    "        # get peaks of curvature\n",
    "        peaks = np.where((\n",
    "            (curvature_model[:-1] < curvature_model[1:])[1:] & (curvature_model[1:] < curvature_model[:-1])[:-1]\n",
    "        ))\n",
    "        min_peak = peaks[0][0]\n",
    "    else:\n",
    "        min_peak = np.nan\n",
    "\n",
    "    # get save model fit results to MI_DF\n",
    "    MI_DF.loc[idx, np.array(['exp_results', 'pow_results', 'concat_results',\n",
    "                         'R2_exp', 'R2_concat', 'R2_power', 'AICc_exp',\n",
    "                         'AICc_concat', 'AICc_power', 'bestfitmodel', 'curvature', 'min_peak'])] = [\n",
    "        results_exp, results_power, results_pow_exp,\n",
    "        R2_exp, R2_concat, R2_power, AICc_exp,\n",
    "        AICc_concat, AICc_pow, best_fit_model,\n",
    "        curvature_model, min_peak\n",
    "    ]\n",
    "\n",
    "    print(row.age_cohort_low, row.age_cohort_high, best_fit_model)"
   ]
  },
  {
   "cell_type": "code",
   "execution_count": 9,
   "metadata": {
    "ExecuteTime": {
     "end_time": "2019-09-25T04:08:21.204808Z",
     "start_time": "2019-09-25T04:08:21.018665Z"
    }
   },
   "outputs": [
    {
     "data": {
      "text/html": [
       "<div>\n",
       "<style scoped>\n",
       "    .dataframe tbody tr th:only-of-type {\n",
       "        vertical-align: middle;\n",
       "    }\n",
       "\n",
       "    .dataframe tbody tr th {\n",
       "        vertical-align: top;\n",
       "    }\n",
       "\n",
       "    .dataframe thead th {\n",
       "        text-align: right;\n",
       "    }\n",
       "</style>\n",
       "<table border=\"1\" class=\"dataframe\">\n",
       "  <thead>\n",
       "    <tr style=\"text-align: right;\">\n",
       "      <th></th>\n",
       "      <th>MI</th>\n",
       "      <th>MI_var</th>\n",
       "      <th>shuff_MI</th>\n",
       "      <th>shuff_MI_var</th>\n",
       "      <th>distances</th>\n",
       "      <th>age_cohort_low</th>\n",
       "      <th>age_cohort_high</th>\n",
       "      <th>n_words</th>\n",
       "      <th>n_unique_words</th>\n",
       "      <th>exp_results</th>\n",
       "      <th>...</th>\n",
       "      <th>concat_results</th>\n",
       "      <th>R2_exp</th>\n",
       "      <th>R2_concat</th>\n",
       "      <th>R2_power</th>\n",
       "      <th>AICc_exp</th>\n",
       "      <th>AICc_concat</th>\n",
       "      <th>AICc_power</th>\n",
       "      <th>bestfitmodel</th>\n",
       "      <th>curvature</th>\n",
       "      <th>min_peak</th>\n",
       "    </tr>\n",
       "  </thead>\n",
       "  <tbody>\n",
       "    <tr>\n",
       "      <th>0</th>\n",
       "      <td>[6.0615547382637684, 5.953026573946322, 5.8999...</td>\n",
       "      <td>[0.06497202939114834, 0.06421181443545038, 0.0...</td>\n",
       "      <td>[5.79799893493386, 5.805771966570329, 5.792474...</td>\n",
       "      <td>[0.06474471004074468, 0.06537742978608413, 0.0...</td>\n",
       "      <td>[1, 2, 3, 4, 5, 6, 7, 8, 9, 10, 11, 12, 13, 14...</td>\n",
       "      <td>0.5</td>\n",
       "      <td>1</td>\n",
       "      <td>2371</td>\n",
       "      <td>72</td>\n",
       "      <td>&lt;lmfit.minimizer.MinimizerResult object at 0x7...</td>\n",
       "      <td>...</td>\n",
       "      <td>&lt;lmfit.minimizer.MinimizerResult object at 0x7...</td>\n",
       "      <td>0.803612</td>\n",
       "      <td>0.804922</td>\n",
       "      <td>0.776286</td>\n",
       "      <td>-136.562178</td>\n",
       "      <td>-132.408084</td>\n",
       "      <td>-127.833763</td>\n",
       "      <td>exp</td>\n",
       "      <td>[-3.6367098727388944e-06, -5.463370893703798e-...</td>\n",
       "      <td>NaN</td>\n",
       "    </tr>\n",
       "    <tr>\n",
       "      <th>1</th>\n",
       "      <td>[10.373016081368098, 10.130972857078175, 9.987...</td>\n",
       "      <td>[0.00937963690006051, 0.009307961610168364, 0....</td>\n",
       "      <td>[9.60947032947951, 9.60572819037825, 9.5994570...</td>\n",
       "      <td>[0.009097935454051041, 0.009124346562127784, 0...</td>\n",
       "      <td>[1, 2, 3, 4, 5, 6, 7, 8, 9, 10, 11, 12, 13, 14...</td>\n",
       "      <td>1.0</td>\n",
       "      <td>1.5</td>\n",
       "      <td>67747</td>\n",
       "      <td>3609</td>\n",
       "      <td>&lt;lmfit.minimizer.MinimizerResult object at 0x7...</td>\n",
       "      <td>...</td>\n",
       "      <td>&lt;lmfit.minimizer.MinimizerResult object at 0x7...</td>\n",
       "      <td>0.960713</td>\n",
       "      <td>0.986984</td>\n",
       "      <td>0.980082</td>\n",
       "      <td>-420.636087</td>\n",
       "      <td>-526.718807</td>\n",
       "      <td>-488.563146</td>\n",
       "      <td>pow_exp</td>\n",
       "      <td>[6.528048763553539e-07, 9.767024895467008e-07,...</td>\n",
       "      <td>450.0</td>\n",
       "    </tr>\n",
       "    <tr>\n",
       "      <th>2</th>\n",
       "      <td>[11.349881924265677, 11.087999639009142, 10.96...</td>\n",
       "      <td>[0.005174827403727939, 0.005136394630766223, 0...</td>\n",
       "      <td>[10.681207621740015, 10.677630292519837, 10.67...</td>\n",
       "      <td>[0.005060342080401666, 0.005066649080465537, 0...</td>\n",
       "      <td>[1, 2, 3, 4, 5, 6, 7, 8, 9, 10, 11, 12, 13, 14...</td>\n",
       "      <td>1.5</td>\n",
       "      <td>2</td>\n",
       "      <td>232191</td>\n",
       "      <td>8134</td>\n",
       "      <td>&lt;lmfit.minimizer.MinimizerResult object at 0x7...</td>\n",
       "      <td>...</td>\n",
       "      <td>&lt;lmfit.minimizer.MinimizerResult object at 0x7...</td>\n",
       "      <td>0.949823</td>\n",
       "      <td>0.989080</td>\n",
       "      <td>0.985398</td>\n",
       "      <td>-360.792506</td>\n",
       "      <td>-505.839244</td>\n",
       "      <td>-481.766416</td>\n",
       "      <td>pow_exp</td>\n",
       "      <td>[9.60855604404184e-07, 1.4398265135829119e-06,...</td>\n",
       "      <td>435.0</td>\n",
       "    </tr>\n",
       "    <tr>\n",
       "      <th>3</th>\n",
       "      <td>[12.421599707857368, 12.124559687616102, 11.99...</td>\n",
       "      <td>[0.0033293605141089407, 0.0032982717697735654,...</td>\n",
       "      <td>[11.756060854089633, 11.754715776334926, 11.75...</td>\n",
       "      <td>[0.003259500059111028, 0.003261010542536753, 0...</td>\n",
       "      <td>[1, 2, 3, 4, 5, 6, 7, 8, 9, 10, 11, 12, 13, 14...</td>\n",
       "      <td>2.0</td>\n",
       "      <td>2.5</td>\n",
       "      <td>656639</td>\n",
       "      <td>14402</td>\n",
       "      <td>&lt;lmfit.minimizer.MinimizerResult object at 0x7...</td>\n",
       "      <td>...</td>\n",
       "      <td>&lt;lmfit.minimizer.MinimizerResult object at 0x7...</td>\n",
       "      <td>0.974186</td>\n",
       "      <td>0.996492</td>\n",
       "      <td>0.991567</td>\n",
       "      <td>-429.445717</td>\n",
       "      <td>-624.641943</td>\n",
       "      <td>-541.319049</td>\n",
       "      <td>pow_exp</td>\n",
       "      <td>[1.116469991993569e-06, 1.6691921956434772e-06...</td>\n",
       "      <td>375.0</td>\n",
       "    </tr>\n",
       "    <tr>\n",
       "      <th>4</th>\n",
       "      <td>[11.532466104026422, 11.247538669418567, 11.12...</td>\n",
       "      <td>[0.004322162033098881, 0.004289030213930944, 0...</td>\n",
       "      <td>[10.928431808392926, 10.926159127779197, 10.92...</td>\n",
       "      <td>[0.004249227382651435, 0.0042542569785092525, ...</td>\n",
       "      <td>[1, 2, 3, 4, 5, 6, 7, 8, 9, 10, 11, 12, 13, 14...</td>\n",
       "      <td>2.5</td>\n",
       "      <td>3</td>\n",
       "      <td>422922</td>\n",
       "      <td>9336</td>\n",
       "      <td>&lt;lmfit.minimizer.MinimizerResult object at 0x7...</td>\n",
       "      <td>...</td>\n",
       "      <td>&lt;lmfit.minimizer.MinimizerResult object at 0x7...</td>\n",
       "      <td>0.954515</td>\n",
       "      <td>0.985079</td>\n",
       "      <td>0.980663</td>\n",
       "      <td>-349.189828</td>\n",
       "      <td>-455.142679</td>\n",
       "      <td>-433.869505</td>\n",
       "      <td>pow_exp</td>\n",
       "      <td>[-7.656782712802456e-07, -1.1602581095676295e-...</td>\n",
       "      <td>317.0</td>\n",
       "    </tr>\n",
       "    <tr>\n",
       "      <th>5</th>\n",
       "      <td>[13.90350042312788, 13.60402662450543, 13.4863...</td>\n",
       "      <td>[0.0016126379123154566, 0.001596772378812455, ...</td>\n",
       "      <td>[13.344836093986757, 13.344052969455305, 13.34...</td>\n",
       "      <td>[0.0015852035484411658, 0.001585418309044302, ...</td>\n",
       "      <td>[1, 2, 3, 4, 5, 6, 7, 8, 9, 10, 11, 12, 13, 14...</td>\n",
       "      <td>3.0</td>\n",
       "      <td>20</td>\n",
       "      <td>3210842</td>\n",
       "      <td>43208</td>\n",
       "      <td>&lt;lmfit.minimizer.MinimizerResult object at 0x7...</td>\n",
       "      <td>...</td>\n",
       "      <td>&lt;lmfit.minimizer.MinimizerResult object at 0x7...</td>\n",
       "      <td>0.957765</td>\n",
       "      <td>0.988433</td>\n",
       "      <td>0.983562</td>\n",
       "      <td>-309.589767</td>\n",
       "      <td>-429.516198</td>\n",
       "      <td>-400.182416</td>\n",
       "      <td>pow_exp</td>\n",
       "      <td>[6.813220961528881e-07, 1.0079629675508996e-06...</td>\n",
       "      <td>335.0</td>\n",
       "    </tr>\n",
       "  </tbody>\n",
       "</table>\n",
       "<p>6 rows × 21 columns</p>\n",
       "</div>"
      ],
      "text/plain": [
       "                                                  MI  \\\n",
       "0  [6.0615547382637684, 5.953026573946322, 5.8999...   \n",
       "1  [10.373016081368098, 10.130972857078175, 9.987...   \n",
       "2  [11.349881924265677, 11.087999639009142, 10.96...   \n",
       "3  [12.421599707857368, 12.124559687616102, 11.99...   \n",
       "4  [11.532466104026422, 11.247538669418567, 11.12...   \n",
       "5  [13.90350042312788, 13.60402662450543, 13.4863...   \n",
       "\n",
       "                                              MI_var  \\\n",
       "0  [0.06497202939114834, 0.06421181443545038, 0.0...   \n",
       "1  [0.00937963690006051, 0.009307961610168364, 0....   \n",
       "2  [0.005174827403727939, 0.005136394630766223, 0...   \n",
       "3  [0.0033293605141089407, 0.0032982717697735654,...   \n",
       "4  [0.004322162033098881, 0.004289030213930944, 0...   \n",
       "5  [0.0016126379123154566, 0.001596772378812455, ...   \n",
       "\n",
       "                                            shuff_MI  \\\n",
       "0  [5.79799893493386, 5.805771966570329, 5.792474...   \n",
       "1  [9.60947032947951, 9.60572819037825, 9.5994570...   \n",
       "2  [10.681207621740015, 10.677630292519837, 10.67...   \n",
       "3  [11.756060854089633, 11.754715776334926, 11.75...   \n",
       "4  [10.928431808392926, 10.926159127779197, 10.92...   \n",
       "5  [13.344836093986757, 13.344052969455305, 13.34...   \n",
       "\n",
       "                                        shuff_MI_var  \\\n",
       "0  [0.06474471004074468, 0.06537742978608413, 0.0...   \n",
       "1  [0.009097935454051041, 0.009124346562127784, 0...   \n",
       "2  [0.005060342080401666, 0.005066649080465537, 0...   \n",
       "3  [0.003259500059111028, 0.003261010542536753, 0...   \n",
       "4  [0.004249227382651435, 0.0042542569785092525, ...   \n",
       "5  [0.0015852035484411658, 0.001585418309044302, ...   \n",
       "\n",
       "                                           distances  age_cohort_low  \\\n",
       "0  [1, 2, 3, 4, 5, 6, 7, 8, 9, 10, 11, 12, 13, 14...             0.5   \n",
       "1  [1, 2, 3, 4, 5, 6, 7, 8, 9, 10, 11, 12, 13, 14...             1.0   \n",
       "2  [1, 2, 3, 4, 5, 6, 7, 8, 9, 10, 11, 12, 13, 14...             1.5   \n",
       "3  [1, 2, 3, 4, 5, 6, 7, 8, 9, 10, 11, 12, 13, 14...             2.0   \n",
       "4  [1, 2, 3, 4, 5, 6, 7, 8, 9, 10, 11, 12, 13, 14...             2.5   \n",
       "5  [1, 2, 3, 4, 5, 6, 7, 8, 9, 10, 11, 12, 13, 14...             3.0   \n",
       "\n",
       "  age_cohort_high  n_words n_unique_words  \\\n",
       "0               1     2371             72   \n",
       "1             1.5    67747           3609   \n",
       "2               2   232191           8134   \n",
       "3             2.5   656639          14402   \n",
       "4               3   422922           9336   \n",
       "5              20  3210842          43208   \n",
       "\n",
       "                                         exp_results  ...  \\\n",
       "0  <lmfit.minimizer.MinimizerResult object at 0x7...  ...   \n",
       "1  <lmfit.minimizer.MinimizerResult object at 0x7...  ...   \n",
       "2  <lmfit.minimizer.MinimizerResult object at 0x7...  ...   \n",
       "3  <lmfit.minimizer.MinimizerResult object at 0x7...  ...   \n",
       "4  <lmfit.minimizer.MinimizerResult object at 0x7...  ...   \n",
       "5  <lmfit.minimizer.MinimizerResult object at 0x7...  ...   \n",
       "\n",
       "                                      concat_results    R2_exp  R2_concat  \\\n",
       "0  <lmfit.minimizer.MinimizerResult object at 0x7...  0.803612   0.804922   \n",
       "1  <lmfit.minimizer.MinimizerResult object at 0x7...  0.960713   0.986984   \n",
       "2  <lmfit.minimizer.MinimizerResult object at 0x7...  0.949823   0.989080   \n",
       "3  <lmfit.minimizer.MinimizerResult object at 0x7...  0.974186   0.996492   \n",
       "4  <lmfit.minimizer.MinimizerResult object at 0x7...  0.954515   0.985079   \n",
       "5  <lmfit.minimizer.MinimizerResult object at 0x7...  0.957765   0.988433   \n",
       "\n",
       "   R2_power    AICc_exp  AICc_concat  AICc_power  bestfitmodel  \\\n",
       "0  0.776286 -136.562178  -132.408084 -127.833763           exp   \n",
       "1  0.980082 -420.636087  -526.718807 -488.563146       pow_exp   \n",
       "2  0.985398 -360.792506  -505.839244 -481.766416       pow_exp   \n",
       "3  0.991567 -429.445717  -624.641943 -541.319049       pow_exp   \n",
       "4  0.980663 -349.189828  -455.142679 -433.869505       pow_exp   \n",
       "5  0.983562 -309.589767  -429.516198 -400.182416       pow_exp   \n",
       "\n",
       "                                           curvature min_peak  \n",
       "0  [-3.6367098727388944e-06, -5.463370893703798e-...      NaN  \n",
       "1  [6.528048763553539e-07, 9.767024895467008e-07,...    450.0  \n",
       "2  [9.60855604404184e-07, 1.4398265135829119e-06,...    435.0  \n",
       "3  [1.116469991993569e-06, 1.6691921956434772e-06...    375.0  \n",
       "4  [-7.656782712802456e-07, -1.1602581095676295e-...    317.0  \n",
       "5  [6.813220961528881e-07, 1.0079629675508996e-06...    335.0  \n",
       "\n",
       "[6 rows x 21 columns]"
      ]
     },
     "execution_count": 9,
     "metadata": {},
     "output_type": "execute_result"
    }
   ],
   "source": [
    "MI_DF"
   ]
  },
  {
   "cell_type": "code",
   "execution_count": 10,
   "metadata": {
    "ExecuteTime": {
     "end_time": "2019-09-25T04:10:09.337466Z",
     "start_time": "2019-09-25T04:10:09.087363Z"
    }
   },
   "outputs": [],
   "source": [
    "labels = ['6-12 months', '12-18 months', '18-24 months', '24-30 months', '30-36 months', '3-12 years']"
   ]
  },
  {
   "cell_type": "markdown",
   "metadata": {},
   "source": [
    "### Calculate R2"
   ]
  },
  {
   "cell_type": "code",
   "execution_count": 11,
   "metadata": {
    "ExecuteTime": {
     "end_time": "2019-09-25T04:10:09.974182Z",
     "start_time": "2019-09-25T04:10:09.910439Z"
    }
   },
   "outputs": [
    {
     "data": {
      "text/html": [
       "<div>\n",
       "<style scoped>\n",
       "    .dataframe tbody tr th:only-of-type {\n",
       "        vertical-align: middle;\n",
       "    }\n",
       "\n",
       "    .dataframe tbody tr th {\n",
       "        vertical-align: top;\n",
       "    }\n",
       "\n",
       "    .dataframe thead th {\n",
       "        text-align: right;\n",
       "    }\n",
       "</style>\n",
       "<table border=\"1\" class=\"dataframe\">\n",
       "  <thead>\n",
       "    <tr style=\"text-align: right;\">\n",
       "      <th></th>\n",
       "      <th>6-12 months</th>\n",
       "      <th>12-18 months</th>\n",
       "      <th>18-24 months</th>\n",
       "      <th>24-30 months</th>\n",
       "      <th>30-36 months</th>\n",
       "      <th>3-12 years</th>\n",
       "    </tr>\n",
       "  </thead>\n",
       "  <tbody>\n",
       "    <tr>\n",
       "      <th>exp</th>\n",
       "      <td>0.803612</td>\n",
       "      <td>0.960713</td>\n",
       "      <td>0.949823</td>\n",
       "      <td>0.974186</td>\n",
       "      <td>0.954515</td>\n",
       "      <td>0.957765</td>\n",
       "    </tr>\n",
       "    <tr>\n",
       "      <th>combined</th>\n",
       "      <td>0.804922</td>\n",
       "      <td>0.986984</td>\n",
       "      <td>0.989080</td>\n",
       "      <td>0.996492</td>\n",
       "      <td>0.985079</td>\n",
       "      <td>0.988433</td>\n",
       "    </tr>\n",
       "    <tr>\n",
       "      <th>power-law</th>\n",
       "      <td>0.776286</td>\n",
       "      <td>0.980082</td>\n",
       "      <td>0.985398</td>\n",
       "      <td>0.991567</td>\n",
       "      <td>0.980663</td>\n",
       "      <td>0.983562</td>\n",
       "    </tr>\n",
       "  </tbody>\n",
       "</table>\n",
       "</div>"
      ],
      "text/plain": [
       "           6-12 months  12-18 months  18-24 months  24-30 months  \\\n",
       "exp           0.803612      0.960713      0.949823      0.974186   \n",
       "combined      0.804922      0.986984      0.989080      0.996492   \n",
       "power-law     0.776286      0.980082      0.985398      0.991567   \n",
       "\n",
       "           30-36 months  3-12 years  \n",
       "exp            0.954515    0.957765  \n",
       "combined       0.985079    0.988433  \n",
       "power-law      0.980663    0.983562  "
      ]
     },
     "execution_count": 11,
     "metadata": {},
     "output_type": "execute_result"
    }
   ],
   "source": [
    "R2 = MI_DF[['R2_exp', 'R2_concat', 'R2_power']]\n",
    "R2.columns = ['exp', 'combined', 'power-law']\n",
    "R2.index = labels\n",
    "R2 = R2.T\n",
    "R2"
   ]
  },
  {
   "cell_type": "markdown",
   "metadata": {},
   "source": [
    "### AICc"
   ]
  },
  {
   "cell_type": "code",
   "execution_count": 12,
   "metadata": {
    "ExecuteTime": {
     "end_time": "2019-09-25T04:10:10.738860Z",
     "start_time": "2019-09-25T04:10:10.665792Z"
    }
   },
   "outputs": [
    {
     "data": {
      "text/html": [
       "<div>\n",
       "<style scoped>\n",
       "    .dataframe tbody tr th:only-of-type {\n",
       "        vertical-align: middle;\n",
       "    }\n",
       "\n",
       "    .dataframe tbody tr th {\n",
       "        vertical-align: top;\n",
       "    }\n",
       "\n",
       "    .dataframe thead th {\n",
       "        text-align: right;\n",
       "    }\n",
       "</style>\n",
       "<table border=\"1\" class=\"dataframe\">\n",
       "  <thead>\n",
       "    <tr style=\"text-align: right;\">\n",
       "      <th></th>\n",
       "      <th>6-12 months</th>\n",
       "      <th>12-18 months</th>\n",
       "      <th>18-24 months</th>\n",
       "      <th>24-30 months</th>\n",
       "      <th>30-36 months</th>\n",
       "      <th>3-12 years</th>\n",
       "    </tr>\n",
       "  </thead>\n",
       "  <tbody>\n",
       "    <tr>\n",
       "      <th>exp</th>\n",
       "      <td>-136.562178</td>\n",
       "      <td>-420.636087</td>\n",
       "      <td>-360.792506</td>\n",
       "      <td>-429.445717</td>\n",
       "      <td>-349.189828</td>\n",
       "      <td>-309.589767</td>\n",
       "    </tr>\n",
       "    <tr>\n",
       "      <th>combined.</th>\n",
       "      <td>-132.408084</td>\n",
       "      <td>-526.718807</td>\n",
       "      <td>-505.839244</td>\n",
       "      <td>-624.641943</td>\n",
       "      <td>-455.142679</td>\n",
       "      <td>-429.516198</td>\n",
       "    </tr>\n",
       "    <tr>\n",
       "      <th>power-law</th>\n",
       "      <td>-127.833763</td>\n",
       "      <td>-488.563146</td>\n",
       "      <td>-481.766416</td>\n",
       "      <td>-541.319049</td>\n",
       "      <td>-433.869505</td>\n",
       "      <td>-400.182416</td>\n",
       "    </tr>\n",
       "  </tbody>\n",
       "</table>\n",
       "</div>"
      ],
      "text/plain": [
       "           6-12 months  12-18 months  18-24 months  24-30 months  \\\n",
       "exp        -136.562178   -420.636087   -360.792506   -429.445717   \n",
       "combined.  -132.408084   -526.718807   -505.839244   -624.641943   \n",
       "power-law  -127.833763   -488.563146   -481.766416   -541.319049   \n",
       "\n",
       "           30-36 months  3-12 years  \n",
       "exp         -349.189828 -309.589767  \n",
       "combined.   -455.142679 -429.516198  \n",
       "power-law   -433.869505 -400.182416  "
      ]
     },
     "execution_count": 12,
     "metadata": {},
     "output_type": "execute_result"
    }
   ],
   "source": [
    "AICcs = MI_DF[['AICc_exp', 'AICc_concat', 'AICc_power']]\n",
    "AICcs.columns = ['exp', 'combined.', 'power-law']\n",
    "AICcs.index = labels\n",
    "AICcs = AICcs.T\n",
    "AICcs"
   ]
  },
  {
   "cell_type": "markdown",
   "metadata": {},
   "source": [
    "#### $\\Delta$AIC"
   ]
  },
  {
   "cell_type": "code",
   "execution_count": 13,
   "metadata": {
    "ExecuteTime": {
     "end_time": "2019-09-25T04:10:11.476571Z",
     "start_time": "2019-09-25T04:10:11.390360Z"
    }
   },
   "outputs": [
    {
     "data": {
      "text/html": [
       "<div>\n",
       "<style scoped>\n",
       "    .dataframe tbody tr th:only-of-type {\n",
       "        vertical-align: middle;\n",
       "    }\n",
       "\n",
       "    .dataframe tbody tr th {\n",
       "        vertical-align: top;\n",
       "    }\n",
       "\n",
       "    .dataframe thead th {\n",
       "        text-align: right;\n",
       "    }\n",
       "</style>\n",
       "<table border=\"1\" class=\"dataframe\">\n",
       "  <thead>\n",
       "    <tr style=\"text-align: right;\">\n",
       "      <th></th>\n",
       "      <th>6-12 months</th>\n",
       "      <th>12-18 months</th>\n",
       "      <th>18-24 months</th>\n",
       "      <th>24-30 months</th>\n",
       "      <th>30-36 months</th>\n",
       "      <th>3-12 years</th>\n",
       "    </tr>\n",
       "  </thead>\n",
       "  <tbody>\n",
       "    <tr>\n",
       "      <th>exp</th>\n",
       "      <td>0.000000</td>\n",
       "      <td>106.082719</td>\n",
       "      <td>145.046738</td>\n",
       "      <td>195.196226</td>\n",
       "      <td>105.952850</td>\n",
       "      <td>119.926431</td>\n",
       "    </tr>\n",
       "    <tr>\n",
       "      <th>combined.</th>\n",
       "      <td>4.154093</td>\n",
       "      <td>0.000000</td>\n",
       "      <td>0.000000</td>\n",
       "      <td>0.000000</td>\n",
       "      <td>0.000000</td>\n",
       "      <td>0.000000</td>\n",
       "    </tr>\n",
       "    <tr>\n",
       "      <th>power-law</th>\n",
       "      <td>8.728414</td>\n",
       "      <td>38.155660</td>\n",
       "      <td>24.072828</td>\n",
       "      <td>83.322894</td>\n",
       "      <td>21.273174</td>\n",
       "      <td>29.333781</td>\n",
       "    </tr>\n",
       "  </tbody>\n",
       "</table>\n",
       "</div>"
      ],
      "text/plain": [
       "           6-12 months  12-18 months  18-24 months  24-30 months  \\\n",
       "exp           0.000000    106.082719    145.046738    195.196226   \n",
       "combined.     4.154093      0.000000      0.000000      0.000000   \n",
       "power-law     8.728414     38.155660     24.072828     83.322894   \n",
       "\n",
       "           30-36 months  3-12 years  \n",
       "exp          105.952850  119.926431  \n",
       "combined.      0.000000    0.000000  \n",
       "power-law     21.273174   29.333781  "
      ]
     },
     "execution_count": 13,
     "metadata": {},
     "output_type": "execute_result"
    }
   ],
   "source": [
    "delta_AICcs = AICcs.T - np.repeat(np.min(AICcs.T.values, axis=1),3).reshape(len(labels),3)\n",
    "delta_AICcs = delta_AICcs.T\n",
    "delta_AICcs"
   ]
  },
  {
   "cell_type": "markdown",
   "metadata": {},
   "source": [
    "### relative likelihood"
   ]
  },
  {
   "cell_type": "code",
   "execution_count": 14,
   "metadata": {
    "ExecuteTime": {
     "end_time": "2019-09-25T04:10:11.825262Z",
     "start_time": "2019-09-25T04:10:11.755169Z"
    }
   },
   "outputs": [
    {
     "data": {
      "text/html": [
       "<div>\n",
       "<style scoped>\n",
       "    .dataframe tbody tr th:only-of-type {\n",
       "        vertical-align: middle;\n",
       "    }\n",
       "\n",
       "    .dataframe tbody tr th {\n",
       "        vertical-align: top;\n",
       "    }\n",
       "\n",
       "    .dataframe thead th {\n",
       "        text-align: right;\n",
       "    }\n",
       "</style>\n",
       "<table border=\"1\" class=\"dataframe\">\n",
       "  <thead>\n",
       "    <tr style=\"text-align: right;\">\n",
       "      <th></th>\n",
       "      <th>6-12 months</th>\n",
       "      <th>12-18 months</th>\n",
       "      <th>18-24 months</th>\n",
       "      <th>24-30 months</th>\n",
       "      <th>30-36 months</th>\n",
       "      <th>3-12 years</th>\n",
       "    </tr>\n",
       "  </thead>\n",
       "  <tbody>\n",
       "    <tr>\n",
       "      <th>exp</th>\n",
       "      <td>1.000000</td>\n",
       "      <td>9.213617e-24</td>\n",
       "      <td>3.187873e-32</td>\n",
       "      <td>4.108450e-43</td>\n",
       "      <td>9.831751e-24</td>\n",
       "      <td>9.084613e-27</td>\n",
       "    </tr>\n",
       "    <tr>\n",
       "      <th>combined.</th>\n",
       "      <td>0.125300</td>\n",
       "      <td>1.000000e+00</td>\n",
       "      <td>1.000000e+00</td>\n",
       "      <td>1.000000e+00</td>\n",
       "      <td>1.000000e+00</td>\n",
       "      <td>1.000000e+00</td>\n",
       "    </tr>\n",
       "    <tr>\n",
       "      <th>power-law</th>\n",
       "      <td>0.012725</td>\n",
       "      <td>5.183268e-09</td>\n",
       "      <td>5.924500e-06</td>\n",
       "      <td>8.066098e-19</td>\n",
       "      <td>2.402088e-05</td>\n",
       "      <td>4.268255e-07</td>\n",
       "    </tr>\n",
       "  </tbody>\n",
       "</table>\n",
       "</div>"
      ],
      "text/plain": [
       "           6-12 months  12-18 months  18-24 months  24-30 months  \\\n",
       "exp           1.000000  9.213617e-24  3.187873e-32  4.108450e-43   \n",
       "combined.     0.125300  1.000000e+00  1.000000e+00  1.000000e+00   \n",
       "power-law     0.012725  5.183268e-09  5.924500e-06  8.066098e-19   \n",
       "\n",
       "           30-36 months    3-12 years  \n",
       "exp        9.831751e-24  9.084613e-27  \n",
       "combined.  1.000000e+00  1.000000e+00  \n",
       "power-law  2.402088e-05  4.268255e-07  "
      ]
     },
     "execution_count": 14,
     "metadata": {},
     "output_type": "execute_result"
    }
   ],
   "source": [
    "relative_likelihoods = mf.relative_likelihood(delta_AICcs)\n",
    "relative_likelihoods"
   ]
  },
  {
   "cell_type": "markdown",
   "metadata": {},
   "source": [
    "### relative probability of models"
   ]
  },
  {
   "cell_type": "code",
   "execution_count": 15,
   "metadata": {
    "ExecuteTime": {
     "end_time": "2019-09-25T04:10:12.330942Z",
     "start_time": "2019-09-25T04:10:12.260693Z"
    }
   },
   "outputs": [
    {
     "data": {
      "text/html": [
       "<div>\n",
       "<style scoped>\n",
       "    .dataframe tbody tr th:only-of-type {\n",
       "        vertical-align: middle;\n",
       "    }\n",
       "\n",
       "    .dataframe tbody tr th {\n",
       "        vertical-align: top;\n",
       "    }\n",
       "\n",
       "    .dataframe thead th {\n",
       "        text-align: right;\n",
       "    }\n",
       "</style>\n",
       "<table border=\"1\" class=\"dataframe\">\n",
       "  <thead>\n",
       "    <tr style=\"text-align: right;\">\n",
       "      <th></th>\n",
       "      <th>6-12 months</th>\n",
       "      <th>12-18 months</th>\n",
       "      <th>18-24 months</th>\n",
       "      <th>24-30 months</th>\n",
       "      <th>30-36 months</th>\n",
       "      <th>3-12 years</th>\n",
       "    </tr>\n",
       "  </thead>\n",
       "  <tbody>\n",
       "    <tr>\n",
       "      <th>exp</th>\n",
       "      <td>0.878716</td>\n",
       "      <td>9.213617e-24</td>\n",
       "      <td>3.187854e-32</td>\n",
       "      <td>4.108450e-43</td>\n",
       "      <td>9.831515e-24</td>\n",
       "      <td>9.084609e-27</td>\n",
       "    </tr>\n",
       "    <tr>\n",
       "      <th>combined.</th>\n",
       "      <td>0.110103</td>\n",
       "      <td>1.000000e+00</td>\n",
       "      <td>9.999941e-01</td>\n",
       "      <td>1.000000e+00</td>\n",
       "      <td>9.999760e-01</td>\n",
       "      <td>9.999996e-01</td>\n",
       "    </tr>\n",
       "    <tr>\n",
       "      <th>power-law</th>\n",
       "      <td>0.011181</td>\n",
       "      <td>5.183268e-09</td>\n",
       "      <td>5.924465e-06</td>\n",
       "      <td>8.066098e-19</td>\n",
       "      <td>2.402031e-05</td>\n",
       "      <td>4.268253e-07</td>\n",
       "    </tr>\n",
       "  </tbody>\n",
       "</table>\n",
       "</div>"
      ],
      "text/plain": [
       "           6-12 months  12-18 months  18-24 months  24-30 months  \\\n",
       "exp           0.878716  9.213617e-24  3.187854e-32  4.108450e-43   \n",
       "combined.     0.110103  1.000000e+00  9.999941e-01  1.000000e+00   \n",
       "power-law     0.011181  5.183268e-09  5.924465e-06  8.066098e-19   \n",
       "\n",
       "           30-36 months    3-12 years  \n",
       "exp        9.831515e-24  9.084609e-27  \n",
       "combined.  9.999760e-01  9.999996e-01  \n",
       "power-law  2.402031e-05  4.268253e-07  "
      ]
     },
     "execution_count": 15,
     "metadata": {},
     "output_type": "execute_result"
    }
   ],
   "source": [
    "prob_models = mf.Prob_model_Given_data_and_models(relative_likelihoods)\n",
    "prob_models"
   ]
  },
  {
   "cell_type": "markdown",
   "metadata": {},
   "source": [
    "#### Join tables"
   ]
  },
  {
   "cell_type": "code",
   "execution_count": 16,
   "metadata": {
    "ExecuteTime": {
     "end_time": "2019-09-25T04:10:12.826381Z",
     "start_time": "2019-09-25T04:10:12.774029Z"
    }
   },
   "outputs": [],
   "source": [
    "AICcs['superlabel'] = 'AICc'\n",
    "relative_likelihoods['superlabel'] = 'Relative likelihood'\n",
    "R2['superlabel'] = '$r^2$'\n",
    "prob_models['superlabel'] = 'Relative probability'"
   ]
  },
  {
   "cell_type": "code",
   "execution_count": 17,
   "metadata": {
    "ExecuteTime": {
     "end_time": "2019-09-25T04:10:13.308068Z",
     "start_time": "2019-09-25T04:10:13.178069Z"
    }
   },
   "outputs": [
    {
     "data": {
      "text/html": [
       "<div>\n",
       "<style scoped>\n",
       "    .dataframe tbody tr th:only-of-type {\n",
       "        vertical-align: middle;\n",
       "    }\n",
       "\n",
       "    .dataframe tbody tr th {\n",
       "        vertical-align: top;\n",
       "    }\n",
       "\n",
       "    .dataframe thead th {\n",
       "        text-align: right;\n",
       "    }\n",
       "</style>\n",
       "<table border=\"1\" class=\"dataframe\">\n",
       "  <thead>\n",
       "    <tr style=\"text-align: right;\">\n",
       "      <th></th>\n",
       "      <th></th>\n",
       "      <th>6-12 months</th>\n",
       "      <th>12-18 months</th>\n",
       "      <th>18-24 months</th>\n",
       "      <th>24-30 months</th>\n",
       "      <th>30-36 months</th>\n",
       "      <th>3-12 years</th>\n",
       "    </tr>\n",
       "    <tr>\n",
       "      <th>superlabel</th>\n",
       "      <th></th>\n",
       "      <th></th>\n",
       "      <th></th>\n",
       "      <th></th>\n",
       "      <th></th>\n",
       "      <th></th>\n",
       "      <th></th>\n",
       "    </tr>\n",
       "  </thead>\n",
       "  <tbody>\n",
       "    <tr>\n",
       "      <th rowspan=\"3\" valign=\"top\">AICc</th>\n",
       "      <th>exp</th>\n",
       "      <td>-136.562</td>\n",
       "      <td>-420.636</td>\n",
       "      <td>-360.793</td>\n",
       "      <td>-429.446</td>\n",
       "      <td>-349.19</td>\n",
       "      <td>-309.59</td>\n",
       "    </tr>\n",
       "    <tr>\n",
       "      <th>combined.</th>\n",
       "      <td>-132.408</td>\n",
       "      <td>-526.719</td>\n",
       "      <td>-505.839</td>\n",
       "      <td>-624.642</td>\n",
       "      <td>-455.143</td>\n",
       "      <td>-429.516</td>\n",
       "    </tr>\n",
       "    <tr>\n",
       "      <th>power-law</th>\n",
       "      <td>-127.834</td>\n",
       "      <td>-488.563</td>\n",
       "      <td>-481.766</td>\n",
       "      <td>-541.319</td>\n",
       "      <td>-433.87</td>\n",
       "      <td>-400.182</td>\n",
       "    </tr>\n",
       "    <tr>\n",
       "      <th rowspan=\"3\" valign=\"top\">$r^2$</th>\n",
       "      <th>exp</th>\n",
       "      <td>0.804</td>\n",
       "      <td>0.961</td>\n",
       "      <td>0.95</td>\n",
       "      <td>0.974</td>\n",
       "      <td>0.955</td>\n",
       "      <td>0.958</td>\n",
       "    </tr>\n",
       "    <tr>\n",
       "      <th>combined</th>\n",
       "      <td>0.805</td>\n",
       "      <td>0.987</td>\n",
       "      <td>0.989</td>\n",
       "      <td>0.996</td>\n",
       "      <td>0.985</td>\n",
       "      <td>0.988</td>\n",
       "    </tr>\n",
       "    <tr>\n",
       "      <th>power-law</th>\n",
       "      <td>0.776</td>\n",
       "      <td>0.98</td>\n",
       "      <td>0.985</td>\n",
       "      <td>0.992</td>\n",
       "      <td>0.981</td>\n",
       "      <td>0.984</td>\n",
       "    </tr>\n",
       "    <tr>\n",
       "      <th rowspan=\"3\" valign=\"top\">Relative likelihood</th>\n",
       "      <th>exp</th>\n",
       "      <td>&gt;0.999</td>\n",
       "      <td>&lt;0.001</td>\n",
       "      <td>&lt;0.001</td>\n",
       "      <td>&lt;0.001</td>\n",
       "      <td>&lt;0.001</td>\n",
       "      <td>&lt;0.001</td>\n",
       "    </tr>\n",
       "    <tr>\n",
       "      <th>combined.</th>\n",
       "      <td>0.125</td>\n",
       "      <td>&gt;0.999</td>\n",
       "      <td>&gt;0.999</td>\n",
       "      <td>&gt;0.999</td>\n",
       "      <td>&gt;0.999</td>\n",
       "      <td>&gt;0.999</td>\n",
       "    </tr>\n",
       "    <tr>\n",
       "      <th>power-law</th>\n",
       "      <td>0.013</td>\n",
       "      <td>&lt;0.001</td>\n",
       "      <td>&lt;0.001</td>\n",
       "      <td>&lt;0.001</td>\n",
       "      <td>&lt;0.001</td>\n",
       "      <td>&lt;0.001</td>\n",
       "    </tr>\n",
       "    <tr>\n",
       "      <th rowspan=\"3\" valign=\"top\">Relative probability</th>\n",
       "      <th>exp</th>\n",
       "      <td>0.879</td>\n",
       "      <td>&lt;0.001</td>\n",
       "      <td>&lt;0.001</td>\n",
       "      <td>&lt;0.001</td>\n",
       "      <td>&lt;0.001</td>\n",
       "      <td>&lt;0.001</td>\n",
       "    </tr>\n",
       "    <tr>\n",
       "      <th>combined.</th>\n",
       "      <td>0.11</td>\n",
       "      <td>&gt;0.999</td>\n",
       "      <td>&gt;0.999</td>\n",
       "      <td>&gt;0.999</td>\n",
       "      <td>&gt;0.999</td>\n",
       "      <td>&gt;0.999</td>\n",
       "    </tr>\n",
       "    <tr>\n",
       "      <th>power-law</th>\n",
       "      <td>0.011</td>\n",
       "      <td>&lt;0.001</td>\n",
       "      <td>&lt;0.001</td>\n",
       "      <td>&lt;0.001</td>\n",
       "      <td>&lt;0.001</td>\n",
       "      <td>&lt;0.001</td>\n",
       "    </tr>\n",
       "  </tbody>\n",
       "</table>\n",
       "</div>"
      ],
      "text/plain": [
       "                               6-12 months 12-18 months 18-24 months  \\\n",
       "superlabel                                                             \n",
       "AICc                 exp          -136.562     -420.636     -360.793   \n",
       "                     combined.    -132.408     -526.719     -505.839   \n",
       "                     power-law    -127.834     -488.563     -481.766   \n",
       "$r^2$                exp             0.804        0.961         0.95   \n",
       "                     combined        0.805        0.987        0.989   \n",
       "                     power-law       0.776         0.98        0.985   \n",
       "Relative likelihood  exp            >0.999       <0.001       <0.001   \n",
       "                     combined.       0.125       >0.999       >0.999   \n",
       "                     power-law       0.013       <0.001       <0.001   \n",
       "Relative probability exp             0.879       <0.001       <0.001   \n",
       "                     combined.        0.11       >0.999       >0.999   \n",
       "                     power-law       0.011       <0.001       <0.001   \n",
       "\n",
       "                               24-30 months 30-36 months 3-12 years  \n",
       "superlabel                                                           \n",
       "AICc                 exp           -429.446      -349.19    -309.59  \n",
       "                     combined.     -624.642     -455.143   -429.516  \n",
       "                     power-law     -541.319      -433.87   -400.182  \n",
       "$r^2$                exp              0.974        0.955      0.958  \n",
       "                     combined         0.996        0.985      0.988  \n",
       "                     power-law        0.992        0.981      0.984  \n",
       "Relative likelihood  exp             <0.001       <0.001     <0.001  \n",
       "                     combined.       >0.999       >0.999     >0.999  \n",
       "                     power-law       <0.001       <0.001     <0.001  \n",
       "Relative probability exp             <0.001       <0.001     <0.001  \n",
       "                     combined.       >0.999       >0.999     >0.999  \n",
       "                     power-law       <0.001       <0.001     <0.001  "
      ]
     },
     "execution_count": 17,
     "metadata": {},
     "output_type": "execute_result"
    }
   ],
   "source": [
    "results_table = pd.concat([\n",
    "    AICcs,\n",
    "    R2,\n",
    "    relative_likelihoods,\n",
    "    prob_models\n",
    "]).round(3).replace(0, '<0.001').replace(1, '>0.999')\n",
    "results_table[''] = results_table.index\n",
    "results_table.set_index(['superlabel', ''], inplace=True)\n",
    "results_table"
   ]
  },
  {
   "cell_type": "code",
   "execution_count": 18,
   "metadata": {
    "ExecuteTime": {
     "end_time": "2019-09-25T04:10:13.748880Z",
     "start_time": "2019-09-25T04:10:13.678071Z"
    }
   },
   "outputs": [
    {
     "name": "stdout",
     "output_type": "stream",
     "text": [
      "\\begin{tabular}{llllllll}\n",
      "\\toprule\n",
      "                     &           & 6-12 months & 12-18 months & 18-24 months & 24-30 months & 30-36 months & 3-12 years \\\\\n",
      "\\midrule\n",
      "\\textbf{} & {} &             &              &              &              &              &            \\\\\n",
      "\\midrule\n",
      "\\midrule\n",
      "\\textbf{AICc} & \\textbf{exp} &    -136.562 &     -420.636 &     -360.793 &     -429.446 &      -349.19 &    -309.59 \\\\\n",
      "                     & \\textbf{combined.} &    -132.408 &     -526.719 &     -505.839 &     -624.642 &     -455.143 &   -429.516 \\\\\n",
      "                     & \\textbf{power-law} &    -127.834 &     -488.563 &     -481.766 &     -541.319 &      -433.87 &   -400.182 \\\\\n",
      "\\midrule\n",
      "\\textbf{$r^2$} & \\textbf{exp} &       0.804 &        0.961 &         0.95 &        0.974 &        0.955 &      0.958 \\\\\n",
      "                     & \\textbf{combined} &       0.805 &        0.987 &        0.989 &        0.996 &        0.985 &      0.988 \\\\\n",
      "                     & \\textbf{power-law} &       0.776 &         0.98 &        0.985 &        0.992 &        0.981 &      0.984 \\\\\n",
      "\\midrule\n",
      "\\textbf{Relative likelihood} & \\textbf{exp} &      $>$0.999 &       $<$0.001 &       $<$0.001 &       $<$0.001 &       $<$0.001 &     $<$0.001 \\\\\n",
      "                     & \\textbf{combined.} &       0.125 &       $>$0.999 &       $>$0.999 &       $>$0.999 &       $>$0.999 &     $>$0.999 \\\\\n",
      "                     & \\textbf{power-law} &       0.013 &       $<$0.001 &       $<$0.001 &       $<$0.001 &       $<$0.001 &     $<$0.001 \\\\\n",
      "\\midrule\n",
      "\\textbf{Relative probability} & \\textbf{exp} &       0.879 &       $<$0.001 &       $<$0.001 &       $<$0.001 &       $<$0.001 &     $<$0.001 \\\\\n",
      "                     & \\textbf{combined.} &        0.11 &       $>$0.999 &       $>$0.999 &       $>$0.999 &       $>$0.999 &     $>$0.999 \\\\\n",
      "                     & \\textbf{power-law} &       0.011 &       $<$0.001 &       $<$0.001 &       $<$0.001 &       $<$0.001 &     $<$0.001 \\\\\n",
      "\\bottomrule\n",
      "\\end{tabular}\n",
      "\n"
     ]
    }
   ],
   "source": [
    "results_string = results_table.to_latex(bold_rows=True, escape=False)\\\n",
    "      .replace('>', '$>$')\\\n",
    "      .replace('<', '$<$')\\\n",
    "      .replace('superlabel', '')\\\n",
    "     .replace('\\n\\\\textbf', '\\n\\midrule\\n\\\\textbf')\n",
    "print(results_string)"
   ]
  },
  {
   "cell_type": "code",
   "execution_count": null,
   "metadata": {},
   "outputs": [],
   "source": []
  },
  {
   "cell_type": "code",
   "execution_count": null,
   "metadata": {},
   "outputs": [],
   "source": []
  },
  {
   "cell_type": "code",
   "execution_count": null,
   "metadata": {},
   "outputs": [],
   "source": []
  },
  {
   "cell_type": "code",
   "execution_count": null,
   "metadata": {},
   "outputs": [],
   "source": []
  },
  {
   "cell_type": "code",
   "execution_count": null,
   "metadata": {},
   "outputs": [],
   "source": []
  }
 ],
 "metadata": {
  "kernelspec": {
   "display_name": "Python 3",
   "language": "python",
   "name": "python3"
  },
  "language_info": {
   "codemirror_mode": {
    "name": "ipython",
    "version": 3
   },
   "file_extension": ".py",
   "mimetype": "text/x-python",
   "name": "python",
   "nbconvert_exporter": "python",
   "pygments_lexer": "ipython3",
   "version": "3.6.7"
  }
 },
 "nbformat": 4,
 "nbformat_minor": 2
}
