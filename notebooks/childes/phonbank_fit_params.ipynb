{
 "cells": [
  {
   "cell_type": "code",
   "execution_count": 1,
   "metadata": {
    "ExecuteTime": {
     "end_time": "2019-09-25T04:27:49.743292Z",
     "start_time": "2019-09-25T04:27:49.703989Z"
    }
   },
   "outputs": [],
   "source": [
    "%load_ext autoreload\n",
    "%autoreload 2"
   ]
  },
  {
   "cell_type": "code",
   "execution_count": 2,
   "metadata": {
    "ExecuteTime": {
     "end_time": "2019-09-25T04:27:50.383860Z",
     "start_time": "2019-09-25T04:27:49.845364Z"
    }
   },
   "outputs": [],
   "source": [
    "from childes_mi.utils.paths import DATA_DIR, FIGURE_DIR\n",
    "from childes_mi.utils.general import flatten,save_fig"
   ]
  },
  {
   "cell_type": "code",
   "execution_count": 3,
   "metadata": {
    "ExecuteTime": {
     "end_time": "2019-09-25T04:27:51.494073Z",
     "start_time": "2019-09-25T04:27:50.388160Z"
    }
   },
   "outputs": [],
   "source": [
    "from childes_mi.information_theory import model_fitting as mf"
   ]
  },
  {
   "cell_type": "code",
   "execution_count": 4,
   "metadata": {
    "ExecuteTime": {
     "end_time": "2019-09-25T04:27:51.533738Z",
     "start_time": "2019-09-25T04:27:51.496349Z"
    }
   },
   "outputs": [
    {
     "name": "stderr",
     "output_type": "stream",
     "text": [
      "/mnt/cube/tsainbur/conda_envs/tpy3/lib/python3.6/site-packages/tqdm/autonotebook/__init__.py:14: TqdmExperimentalWarning: Using `tqdm.autonotebook.tqdm` in notebook mode. Use `tqdm.tqdm` instead to force console mode (e.g. in jupyter console)\n",
      "  \" (e.g. in jupyter console)\", TqdmExperimentalWarning)\n"
     ]
    }
   ],
   "source": [
    "import pandas as pd\n",
    "import numpy as np\n",
    "import matplotlib.pyplot as plt\n",
    "from tqdm.autonotebook import tqdm"
   ]
  },
  {
   "cell_type": "code",
   "execution_count": 5,
   "metadata": {
    "ExecuteTime": {
     "end_time": "2019-09-25T04:27:52.455413Z",
     "start_time": "2019-09-25T04:27:51.536451Z"
    }
   },
   "outputs": [],
   "source": [
    "MI_DF = pd.read_pickle(DATA_DIR/'mi/phonbank_mi.pickle')"
   ]
  },
  {
   "cell_type": "code",
   "execution_count": 6,
   "metadata": {
    "ExecuteTime": {
     "end_time": "2019-09-25T04:27:52.580087Z",
     "start_time": "2019-09-25T04:27:52.458589Z"
    }
   },
   "outputs": [
    {
     "data": {
      "text/html": [
       "<div>\n",
       "<style scoped>\n",
       "    .dataframe tbody tr th:only-of-type {\n",
       "        vertical-align: middle;\n",
       "    }\n",
       "\n",
       "    .dataframe tbody tr th {\n",
       "        vertical-align: top;\n",
       "    }\n",
       "\n",
       "    .dataframe thead th {\n",
       "        text-align: right;\n",
       "    }\n",
       "</style>\n",
       "<table border=\"1\" class=\"dataframe\">\n",
       "  <thead>\n",
       "    <tr style=\"text-align: right;\">\n",
       "      <th></th>\n",
       "      <th>MI</th>\n",
       "      <th>MI_var</th>\n",
       "      <th>shuff_MI</th>\n",
       "      <th>shuff_MI_var</th>\n",
       "      <th>distances</th>\n",
       "      <th>age_cohort_low</th>\n",
       "      <th>age_cohort_high</th>\n",
       "      <th>n_phones</th>\n",
       "      <th>n_unique_phones</th>\n",
       "    </tr>\n",
       "  </thead>\n",
       "  <tbody>\n",
       "    <tr>\n",
       "      <th>0</th>\n",
       "      <td>[10.080288260013138, 9.916455549165027, 9.7424...</td>\n",
       "      <td>[0.010088692845104597, 0.009966629345003522, 0...</td>\n",
       "      <td>[9.540319164934521, 9.545878218535728, 9.53434...</td>\n",
       "      <td>[0.009889103513194912, 0.009903386166469113, 0...</td>\n",
       "      <td>[1, 2, 3, 4, 5, 6, 7, 8, 9, 10, 11, 12, 13, 14...</td>\n",
       "      <td>0.5</td>\n",
       "      <td>1</td>\n",
       "      <td>60390</td>\n",
       "      <td>3259</td>\n",
       "    </tr>\n",
       "    <tr>\n",
       "      <th>1</th>\n",
       "      <td>[11.018700216584904, 10.737645462157055, 10.56...</td>\n",
       "      <td>[0.005213049628772987, 0.005149803969908309, 0...</td>\n",
       "      <td>[10.354873873252643, 10.35376084240053, 10.353...</td>\n",
       "      <td>[0.00508955241492165, 0.005096158572864715, 0....</td>\n",
       "      <td>[1, 2, 3, 4, 5, 6, 7, 8, 9, 10, 11, 12, 13, 14...</td>\n",
       "      <td>1.0</td>\n",
       "      <td>1.5</td>\n",
       "      <td>312914</td>\n",
       "      <td>5787</td>\n",
       "    </tr>\n",
       "    <tr>\n",
       "      <th>2</th>\n",
       "      <td>[11.052948976446858, 10.656466560369868, 10.48...</td>\n",
       "      <td>[0.0044666661484878325, 0.0043938556743630605,...</td>\n",
       "      <td>[10.335267645293385, 10.33318150766475, 10.333...</td>\n",
       "      <td>[0.004350729568225813, 0.004350829245781982, 0...</td>\n",
       "      <td>[1, 2, 3, 4, 5, 6, 7, 8, 9, 10, 11, 12, 13, 14...</td>\n",
       "      <td>1.5</td>\n",
       "      <td>2</td>\n",
       "      <td>457938</td>\n",
       "      <td>5769</td>\n",
       "    </tr>\n",
       "  </tbody>\n",
       "</table>\n",
       "</div>"
      ],
      "text/plain": [
       "                                                  MI  \\\n",
       "0  [10.080288260013138, 9.916455549165027, 9.7424...   \n",
       "1  [11.018700216584904, 10.737645462157055, 10.56...   \n",
       "2  [11.052948976446858, 10.656466560369868, 10.48...   \n",
       "\n",
       "                                              MI_var  \\\n",
       "0  [0.010088692845104597, 0.009966629345003522, 0...   \n",
       "1  [0.005213049628772987, 0.005149803969908309, 0...   \n",
       "2  [0.0044666661484878325, 0.0043938556743630605,...   \n",
       "\n",
       "                                            shuff_MI  \\\n",
       "0  [9.540319164934521, 9.545878218535728, 9.53434...   \n",
       "1  [10.354873873252643, 10.35376084240053, 10.353...   \n",
       "2  [10.335267645293385, 10.33318150766475, 10.333...   \n",
       "\n",
       "                                        shuff_MI_var  \\\n",
       "0  [0.009889103513194912, 0.009903386166469113, 0...   \n",
       "1  [0.00508955241492165, 0.005096158572864715, 0....   \n",
       "2  [0.004350729568225813, 0.004350829245781982, 0...   \n",
       "\n",
       "                                           distances  age_cohort_low  \\\n",
       "0  [1, 2, 3, 4, 5, 6, 7, 8, 9, 10, 11, 12, 13, 14...             0.5   \n",
       "1  [1, 2, 3, 4, 5, 6, 7, 8, 9, 10, 11, 12, 13, 14...             1.0   \n",
       "2  [1, 2, 3, 4, 5, 6, 7, 8, 9, 10, 11, 12, 13, 14...             1.5   \n",
       "\n",
       "  age_cohort_high n_phones n_unique_phones  \n",
       "0               1    60390            3259  \n",
       "1             1.5   312914            5787  \n",
       "2               2   457938            5769  "
      ]
     },
     "execution_count": 6,
     "metadata": {},
     "output_type": "execute_result"
    }
   ],
   "source": [
    "MI_DF[:3]"
   ]
  },
  {
   "cell_type": "code",
   "execution_count": 7,
   "metadata": {
    "ExecuteTime": {
     "end_time": "2019-09-25T04:27:52.686817Z",
     "start_time": "2019-09-25T04:27:52.582403Z"
    }
   },
   "outputs": [],
   "source": [
    "MI_DF = MI_DF.assign(**{i:np.nan for i in ['exp_results', 'pow_results', 'concat_results',\n",
    "     'R2_exp', 'R2_concat', 'R2_power', 'AICc_exp',\n",
    "     'AICc_concat', 'AICc_power', 'bestfitmodel', 'curvature', 'min_peak']})\n",
    "MI_DF['curvature'] = MI_DF['curvature'].astype(object)"
   ]
  },
  {
   "cell_type": "code",
   "execution_count": 8,
   "metadata": {
    "ExecuteTime": {
     "end_time": "2019-09-25T04:27:56.069996Z",
     "start_time": "2019-09-25T04:27:52.688796Z"
    }
   },
   "outputs": [
    {
     "data": {
      "application/vnd.jupyter.widget-view+json": {
       "model_id": "b9da4332006a46e4a8bff27a488cc983",
       "version_major": 2,
       "version_minor": 0
      },
      "text/plain": [
       "HBox(children=(IntProgress(value=0, max=6), HTML(value='')))"
      ]
     },
     "metadata": {},
     "output_type": "display_data"
    },
    {
     "name": "stdout",
     "output_type": "stream",
     "text": [
      "0.5 1 pow_exp\n",
      "1.0 1.5 pow_exp\n",
      "1.5 2 pow_exp\n",
      "2.0 2.5 pow_exp\n",
      "2.5 3 pow_exp\n",
      "3.0 20 pow_exp\n",
      "\n"
     ]
    }
   ],
   "source": [
    "n = 100 # max distance for computation\n",
    "for idx, row in tqdm(MI_DF.iterrows(), total=len(MI_DF)):\n",
    "    # get signal\n",
    "    sig = np.array(row.MI-row.shuff_MI)\n",
    "    distances = row.distances\n",
    "    sig = sig\n",
    "    \n",
    "    # fit models\n",
    "    results_power, results_exp, results_pow_exp, best_fit_model = mf.fit_models(distances, sig)\n",
    "    \n",
    "    # get fit results\n",
    "    R2_exp, R2_concat, R2_power, AICc_exp, \\\n",
    "        AICc_pow, AICc_concat = mf.fit_results(sig, distances, \n",
    "                                              results_exp, results_power,\n",
    "                                              results_pow_exp)\n",
    "    \n",
    "    \n",
    "    # get model y\n",
    "    distances_mod = np.logspace(0,np.log10(n), base=10, num=1000)\n",
    "    if best_fit_model == 'pow_exp':\n",
    "        y_model = mf.get_y(mf.pow_exp_decay, results_pow_exp, distances_mod)\n",
    "    elif best_fit_model == 'exp':\n",
    "        y_model = mf.get_y(mf.exp_decay, results_exp, distances_mod)\n",
    "    elif best_fit_model == 'pow':\n",
    "        y_model = mf.get_y(mf.powerlaw_decay, results_power, distances_mod)\n",
    "    \n",
    "    # get curvature of model_y\n",
    "    curvature_model = mf.curvature(np.log(y_model))\n",
    "    \n",
    "    # if the best fit model is pow_exp, then grab the min peak\n",
    "    if best_fit_model == 'pow_exp':\n",
    "        # get peaks of curvature\n",
    "        peaks = np.where((\n",
    "            (curvature_model[:-1] < curvature_model[1:])[1:] & (curvature_model[1:] < curvature_model[:-1])[:-1]\n",
    "        ))\n",
    "        min_peak = peaks[0][0]\n",
    "    else:\n",
    "        min_peak = np.nan\n",
    "\n",
    "    # get save model fit results to MI_DF\n",
    "    MI_DF.loc[idx, np.array(['exp_results', 'pow_results', 'concat_results',\n",
    "                         'R2_exp', 'R2_concat', 'R2_power', 'AICc_exp',\n",
    "                         'AICc_concat', 'AICc_power', 'bestfitmodel', 'curvature', 'min_peak'])] = [\n",
    "        results_exp, results_power, results_pow_exp,\n",
    "        R2_exp, R2_concat, R2_power, AICc_exp,\n",
    "        AICc_concat, AICc_pow, best_fit_model,\n",
    "        curvature_model, min_peak\n",
    "    ]\n",
    "\n",
    "    print(row.age_cohort_low, row.age_cohort_high, best_fit_model)"
   ]
  },
  {
   "cell_type": "code",
   "execution_count": 9,
   "metadata": {
    "ExecuteTime": {
     "end_time": "2019-09-25T04:28:03.702939Z",
     "start_time": "2019-09-25T04:28:03.513219Z"
    }
   },
   "outputs": [
    {
     "data": {
      "text/html": [
       "<div>\n",
       "<style scoped>\n",
       "    .dataframe tbody tr th:only-of-type {\n",
       "        vertical-align: middle;\n",
       "    }\n",
       "\n",
       "    .dataframe tbody tr th {\n",
       "        vertical-align: top;\n",
       "    }\n",
       "\n",
       "    .dataframe thead th {\n",
       "        text-align: right;\n",
       "    }\n",
       "</style>\n",
       "<table border=\"1\" class=\"dataframe\">\n",
       "  <thead>\n",
       "    <tr style=\"text-align: right;\">\n",
       "      <th></th>\n",
       "      <th>MI</th>\n",
       "      <th>MI_var</th>\n",
       "      <th>shuff_MI</th>\n",
       "      <th>shuff_MI_var</th>\n",
       "      <th>distances</th>\n",
       "      <th>age_cohort_low</th>\n",
       "      <th>age_cohort_high</th>\n",
       "      <th>n_phones</th>\n",
       "      <th>n_unique_phones</th>\n",
       "      <th>exp_results</th>\n",
       "      <th>...</th>\n",
       "      <th>concat_results</th>\n",
       "      <th>R2_exp</th>\n",
       "      <th>R2_concat</th>\n",
       "      <th>R2_power</th>\n",
       "      <th>AICc_exp</th>\n",
       "      <th>AICc_concat</th>\n",
       "      <th>AICc_power</th>\n",
       "      <th>bestfitmodel</th>\n",
       "      <th>curvature</th>\n",
       "      <th>min_peak</th>\n",
       "    </tr>\n",
       "  </thead>\n",
       "  <tbody>\n",
       "    <tr>\n",
       "      <th>0</th>\n",
       "      <td>[10.080288260013138, 9.916455549165027, 9.7424...</td>\n",
       "      <td>[0.010088692845104597, 0.009966629345003522, 0...</td>\n",
       "      <td>[9.540319164934521, 9.545878218535728, 9.53434...</td>\n",
       "      <td>[0.009889103513194912, 0.009903386166469113, 0...</td>\n",
       "      <td>[1, 2, 3, 4, 5, 6, 7, 8, 9, 10, 11, 12, 13, 14...</td>\n",
       "      <td>0.5</td>\n",
       "      <td>1</td>\n",
       "      <td>60390</td>\n",
       "      <td>3259</td>\n",
       "      <td>&lt;lmfit.minimizer.MinimizerResult object at 0x7...</td>\n",
       "      <td>...</td>\n",
       "      <td>&lt;lmfit.minimizer.MinimizerResult object at 0x7...</td>\n",
       "      <td>0.983485</td>\n",
       "      <td>0.993614</td>\n",
       "      <td>0.989926</td>\n",
       "      <td>-573.660113</td>\n",
       "      <td>-664.289186</td>\n",
       "      <td>-623.093092</td>\n",
       "      <td>pow_exp</td>\n",
       "      <td>[-4.7259173188471115e-07, -7.152342473020701e-...</td>\n",
       "      <td>259.0</td>\n",
       "    </tr>\n",
       "    <tr>\n",
       "      <th>1</th>\n",
       "      <td>[11.018700216584904, 10.737645462157055, 10.56...</td>\n",
       "      <td>[0.005213049628772987, 0.005149803969908309, 0...</td>\n",
       "      <td>[10.354873873252643, 10.35376084240053, 10.353...</td>\n",
       "      <td>[0.00508955241492165, 0.005096158572864715, 0....</td>\n",
       "      <td>[1, 2, 3, 4, 5, 6, 7, 8, 9, 10, 11, 12, 13, 14...</td>\n",
       "      <td>1.0</td>\n",
       "      <td>1.5</td>\n",
       "      <td>312914</td>\n",
       "      <td>5787</td>\n",
       "      <td>&lt;lmfit.minimizer.MinimizerResult object at 0x7...</td>\n",
       "      <td>...</td>\n",
       "      <td>&lt;lmfit.minimizer.MinimizerResult object at 0x7...</td>\n",
       "      <td>0.980861</td>\n",
       "      <td>0.998117</td>\n",
       "      <td>0.995941</td>\n",
       "      <td>-516.601598</td>\n",
       "      <td>-744.125823</td>\n",
       "      <td>-671.671083</td>\n",
       "      <td>pow_exp</td>\n",
       "      <td>[-6.398269681238529e-07, -9.676437685993425e-0...</td>\n",
       "      <td>247.0</td>\n",
       "    </tr>\n",
       "    <tr>\n",
       "      <th>2</th>\n",
       "      <td>[11.052948976446858, 10.656466560369868, 10.48...</td>\n",
       "      <td>[0.0044666661484878325, 0.0043938556743630605,...</td>\n",
       "      <td>[10.335267645293385, 10.33318150766475, 10.333...</td>\n",
       "      <td>[0.004350729568225813, 0.004350829245781982, 0...</td>\n",
       "      <td>[1, 2, 3, 4, 5, 6, 7, 8, 9, 10, 11, 12, 13, 14...</td>\n",
       "      <td>1.5</td>\n",
       "      <td>2</td>\n",
       "      <td>457938</td>\n",
       "      <td>5769</td>\n",
       "      <td>&lt;lmfit.minimizer.MinimizerResult object at 0x7...</td>\n",
       "      <td>...</td>\n",
       "      <td>&lt;lmfit.minimizer.MinimizerResult object at 0x7...</td>\n",
       "      <td>0.971529</td>\n",
       "      <td>0.998164</td>\n",
       "      <td>0.996968</td>\n",
       "      <td>-436.462823</td>\n",
       "      <td>-706.207524</td>\n",
       "      <td>-660.428461</td>\n",
       "      <td>pow_exp</td>\n",
       "      <td>[-3.526032069378871e-06, -5.3052760008367026e-...</td>\n",
       "      <td>169.0</td>\n",
       "    </tr>\n",
       "    <tr>\n",
       "      <th>3</th>\n",
       "      <td>[11.117589847657872, 10.672792563469578, 10.48...</td>\n",
       "      <td>[0.0040212095683027855, 0.003940573995629109, ...</td>\n",
       "      <td>[10.339949506377152, 10.339290626343217, 10.33...</td>\n",
       "      <td>[0.0038946673782298625, 0.003895116542366042, ...</td>\n",
       "      <td>[1, 2, 3, 4, 5, 6, 7, 8, 9, 10, 11, 12, 13, 14...</td>\n",
       "      <td>2.0</td>\n",
       "      <td>2.5</td>\n",
       "      <td>545062</td>\n",
       "      <td>5448</td>\n",
       "      <td>&lt;lmfit.minimizer.MinimizerResult object at 0x7...</td>\n",
       "      <td>...</td>\n",
       "      <td>&lt;lmfit.minimizer.MinimizerResult object at 0x7...</td>\n",
       "      <td>0.959973</td>\n",
       "      <td>0.996074</td>\n",
       "      <td>0.993765</td>\n",
       "      <td>-385.044117</td>\n",
       "      <td>-612.847682</td>\n",
       "      <td>-570.975906</td>\n",
       "      <td>pow_exp</td>\n",
       "      <td>[-6.582241601689192e-06, -9.892304726140322e-0...</td>\n",
       "      <td>163.0</td>\n",
       "    </tr>\n",
       "    <tr>\n",
       "      <th>4</th>\n",
       "      <td>[11.121574094494914, 10.664656344849487, 10.46...</td>\n",
       "      <td>[0.0036472645805226984, 0.003559756005532006, ...</td>\n",
       "      <td>[10.326966868664798, 10.327498323812126, 10.32...</td>\n",
       "      <td>[0.0035076360836199492, 0.0035094205130675815,...</td>\n",
       "      <td>[1, 2, 3, 4, 5, 6, 7, 8, 9, 10, 11, 12, 13, 14...</td>\n",
       "      <td>2.5</td>\n",
       "      <td>3</td>\n",
       "      <td>552929</td>\n",
       "      <td>4817</td>\n",
       "      <td>&lt;lmfit.minimizer.MinimizerResult object at 0x7...</td>\n",
       "      <td>...</td>\n",
       "      <td>&lt;lmfit.minimizer.MinimizerResult object at 0x7...</td>\n",
       "      <td>0.957094</td>\n",
       "      <td>0.990644</td>\n",
       "      <td>0.988273</td>\n",
       "      <td>-366.593177</td>\n",
       "      <td>-514.503850</td>\n",
       "      <td>-496.304608</td>\n",
       "      <td>pow_exp</td>\n",
       "      <td>[-6.551685972732687e-06, -9.847877058996883e-0...</td>\n",
       "      <td>178.0</td>\n",
       "    </tr>\n",
       "    <tr>\n",
       "      <th>5</th>\n",
       "      <td>[10.355129199937373, 9.874298956040494, 9.6434...</td>\n",
       "      <td>[0.00503053268630887, 0.00490644511432297, 0.0...</td>\n",
       "      <td>[9.476918105199086, 9.476465553083116, 9.47586...</td>\n",
       "      <td>[0.004822528611486606, 0.0048213731214393875, ...</td>\n",
       "      <td>[1, 2, 3, 4, 5, 6, 7, 8, 9, 10, 11, 12, 13, 14...</td>\n",
       "      <td>3.0</td>\n",
       "      <td>20</td>\n",
       "      <td>310065</td>\n",
       "      <td>2574</td>\n",
       "      <td>&lt;lmfit.minimizer.MinimizerResult object at 0x7...</td>\n",
       "      <td>...</td>\n",
       "      <td>&lt;lmfit.minimizer.MinimizerResult object at 0x7...</td>\n",
       "      <td>0.946653</td>\n",
       "      <td>0.986017</td>\n",
       "      <td>0.982729</td>\n",
       "      <td>-339.366979</td>\n",
       "      <td>-468.876358</td>\n",
       "      <td>-452.142734</td>\n",
       "      <td>pow_exp</td>\n",
       "      <td>[-6.801322960555882e-06, -1.0220997117116343e-...</td>\n",
       "      <td>193.0</td>\n",
       "    </tr>\n",
       "  </tbody>\n",
       "</table>\n",
       "<p>6 rows × 21 columns</p>\n",
       "</div>"
      ],
      "text/plain": [
       "                                                  MI  \\\n",
       "0  [10.080288260013138, 9.916455549165027, 9.7424...   \n",
       "1  [11.018700216584904, 10.737645462157055, 10.56...   \n",
       "2  [11.052948976446858, 10.656466560369868, 10.48...   \n",
       "3  [11.117589847657872, 10.672792563469578, 10.48...   \n",
       "4  [11.121574094494914, 10.664656344849487, 10.46...   \n",
       "5  [10.355129199937373, 9.874298956040494, 9.6434...   \n",
       "\n",
       "                                              MI_var  \\\n",
       "0  [0.010088692845104597, 0.009966629345003522, 0...   \n",
       "1  [0.005213049628772987, 0.005149803969908309, 0...   \n",
       "2  [0.0044666661484878325, 0.0043938556743630605,...   \n",
       "3  [0.0040212095683027855, 0.003940573995629109, ...   \n",
       "4  [0.0036472645805226984, 0.003559756005532006, ...   \n",
       "5  [0.00503053268630887, 0.00490644511432297, 0.0...   \n",
       "\n",
       "                                            shuff_MI  \\\n",
       "0  [9.540319164934521, 9.545878218535728, 9.53434...   \n",
       "1  [10.354873873252643, 10.35376084240053, 10.353...   \n",
       "2  [10.335267645293385, 10.33318150766475, 10.333...   \n",
       "3  [10.339949506377152, 10.339290626343217, 10.33...   \n",
       "4  [10.326966868664798, 10.327498323812126, 10.32...   \n",
       "5  [9.476918105199086, 9.476465553083116, 9.47586...   \n",
       "\n",
       "                                        shuff_MI_var  \\\n",
       "0  [0.009889103513194912, 0.009903386166469113, 0...   \n",
       "1  [0.00508955241492165, 0.005096158572864715, 0....   \n",
       "2  [0.004350729568225813, 0.004350829245781982, 0...   \n",
       "3  [0.0038946673782298625, 0.003895116542366042, ...   \n",
       "4  [0.0035076360836199492, 0.0035094205130675815,...   \n",
       "5  [0.004822528611486606, 0.0048213731214393875, ...   \n",
       "\n",
       "                                           distances  age_cohort_low  \\\n",
       "0  [1, 2, 3, 4, 5, 6, 7, 8, 9, 10, 11, 12, 13, 14...             0.5   \n",
       "1  [1, 2, 3, 4, 5, 6, 7, 8, 9, 10, 11, 12, 13, 14...             1.0   \n",
       "2  [1, 2, 3, 4, 5, 6, 7, 8, 9, 10, 11, 12, 13, 14...             1.5   \n",
       "3  [1, 2, 3, 4, 5, 6, 7, 8, 9, 10, 11, 12, 13, 14...             2.0   \n",
       "4  [1, 2, 3, 4, 5, 6, 7, 8, 9, 10, 11, 12, 13, 14...             2.5   \n",
       "5  [1, 2, 3, 4, 5, 6, 7, 8, 9, 10, 11, 12, 13, 14...             3.0   \n",
       "\n",
       "  age_cohort_high n_phones n_unique_phones  \\\n",
       "0               1    60390            3259   \n",
       "1             1.5   312914            5787   \n",
       "2               2   457938            5769   \n",
       "3             2.5   545062            5448   \n",
       "4               3   552929            4817   \n",
       "5              20   310065            2574   \n",
       "\n",
       "                                         exp_results  ...  \\\n",
       "0  <lmfit.minimizer.MinimizerResult object at 0x7...  ...   \n",
       "1  <lmfit.minimizer.MinimizerResult object at 0x7...  ...   \n",
       "2  <lmfit.minimizer.MinimizerResult object at 0x7...  ...   \n",
       "3  <lmfit.minimizer.MinimizerResult object at 0x7...  ...   \n",
       "4  <lmfit.minimizer.MinimizerResult object at 0x7...  ...   \n",
       "5  <lmfit.minimizer.MinimizerResult object at 0x7...  ...   \n",
       "\n",
       "                                      concat_results    R2_exp  R2_concat  \\\n",
       "0  <lmfit.minimizer.MinimizerResult object at 0x7...  0.983485   0.993614   \n",
       "1  <lmfit.minimizer.MinimizerResult object at 0x7...  0.980861   0.998117   \n",
       "2  <lmfit.minimizer.MinimizerResult object at 0x7...  0.971529   0.998164   \n",
       "3  <lmfit.minimizer.MinimizerResult object at 0x7...  0.959973   0.996074   \n",
       "4  <lmfit.minimizer.MinimizerResult object at 0x7...  0.957094   0.990644   \n",
       "5  <lmfit.minimizer.MinimizerResult object at 0x7...  0.946653   0.986017   \n",
       "\n",
       "   R2_power    AICc_exp  AICc_concat  AICc_power  bestfitmodel  \\\n",
       "0  0.989926 -573.660113  -664.289186 -623.093092       pow_exp   \n",
       "1  0.995941 -516.601598  -744.125823 -671.671083       pow_exp   \n",
       "2  0.996968 -436.462823  -706.207524 -660.428461       pow_exp   \n",
       "3  0.993765 -385.044117  -612.847682 -570.975906       pow_exp   \n",
       "4  0.988273 -366.593177  -514.503850 -496.304608       pow_exp   \n",
       "5  0.982729 -339.366979  -468.876358 -452.142734       pow_exp   \n",
       "\n",
       "                                           curvature min_peak  \n",
       "0  [-4.7259173188471115e-07, -7.152342473020701e-...    259.0  \n",
       "1  [-6.398269681238529e-07, -9.676437685993425e-0...    247.0  \n",
       "2  [-3.526032069378871e-06, -5.3052760008367026e-...    169.0  \n",
       "3  [-6.582241601689192e-06, -9.892304726140322e-0...    163.0  \n",
       "4  [-6.551685972732687e-06, -9.847877058996883e-0...    178.0  \n",
       "5  [-6.801322960555882e-06, -1.0220997117116343e-...    193.0  \n",
       "\n",
       "[6 rows x 21 columns]"
      ]
     },
     "execution_count": 9,
     "metadata": {},
     "output_type": "execute_result"
    }
   ],
   "source": [
    "MI_DF"
   ]
  },
  {
   "cell_type": "code",
   "execution_count": 34,
   "metadata": {
    "ExecuteTime": {
     "end_time": "2019-09-25T04:36:43.363421Z",
     "start_time": "2019-09-25T04:36:43.311089Z"
    }
   },
   "outputs": [
    {
     "data": {
      "text/plain": [
       "Parameters([('e_init',\n",
       "             <Parameter 'e_init', value=0.3029242900040985 +/- 0.0713, bounds=[1e-19:inf]>),\n",
       "            ('e_decay_const',\n",
       "             <Parameter 'e_decay_const', value=0.36871186196826455 +/- 0.044, bounds=[1e-10:inf]>),\n",
       "            ('p_init',\n",
       "             <Parameter 'p_init', value=0.31172166624839215 +/- 0.0471, bounds=[1e-10:inf]>),\n",
       "            ('p_decay_const',\n",
       "             <Parameter 'p_decay_const', value=-0.9432332875653395 +/- 0.0784, bounds=[-inf:-1e-10]>),\n",
       "            ('intercept',\n",
       "             <Parameter 'intercept', value=0.02527996809903943 +/- 0.00161, bounds=[1e-10:inf]>)])"
      ]
     },
     "execution_count": 34,
     "metadata": {},
     "output_type": "execute_result"
    }
   ],
   "source": [
    "MI_DF.concat_results.values[0].params"
   ]
  },
  {
   "cell_type": "code",
   "execution_count": 35,
   "metadata": {
    "ExecuteTime": {
     "end_time": "2019-09-25T04:36:53.979920Z",
     "start_time": "2019-09-25T04:36:53.930893Z"
    }
   },
   "outputs": [
    {
     "data": {
      "text/plain": [
       "<Parameter 'p_decay_const', value=-0.9432332875653395 +/- 0.0784, bounds=[-inf:-1e-10]>"
      ]
     },
     "execution_count": 35,
     "metadata": {},
     "output_type": "execute_result"
    }
   ],
   "source": [
    "test = MI_DF.concat_results.values[0].params['p_decay_const']\n",
    "test"
   ]
  },
  {
   "cell_type": "code",
   "execution_count": 36,
   "metadata": {
    "ExecuteTime": {
     "end_time": "2019-09-25T04:36:54.094417Z",
     "start_time": "2019-09-25T04:36:54.050099Z"
    }
   },
   "outputs": [
    {
     "data": {
      "text/plain": [
       "0.07839749428460403"
      ]
     },
     "execution_count": 36,
     "metadata": {},
     "output_type": "execute_result"
    }
   ],
   "source": [
    "test.stderr"
   ]
  },
  {
   "cell_type": "code",
   "execution_count": 41,
   "metadata": {
    "ExecuteTime": {
     "end_time": "2019-09-25T04:37:02.989609Z",
     "start_time": "2019-09-25T04:37:02.856987Z"
    }
   },
   "outputs": [],
   "source": [
    "param = 'e_decay_const'"
   ]
  },
  {
   "cell_type": "code",
   "execution_count": 42,
   "metadata": {
    "ExecuteTime": {
     "end_time": "2019-09-25T04:37:03.088294Z",
     "start_time": "2019-09-25T04:37:03.002149Z"
    }
   },
   "outputs": [],
   "source": [
    "powerlaw_slope = np.array([i.params[param].value for i in MI_DF.concat_results.values])\n",
    "powerlaw_slope_stderr = np.array([i.params[param].stderr for i in MI_DF.concat_results.values])"
   ]
  },
  {
   "cell_type": "code",
   "execution_count": 43,
   "metadata": {
    "ExecuteTime": {
     "end_time": "2019-09-25T04:37:03.188427Z",
     "start_time": "2019-09-25T04:37:03.146329Z"
    }
   },
   "outputs": [],
   "source": [
    "labels = ['6-12 months', '12-18 months', '18-24 months', '24-30 months', '30-36 months', '3-4 years']"
   ]
  },
  {
   "cell_type": "code",
   "execution_count": 44,
   "metadata": {
    "ExecuteTime": {
     "end_time": "2019-09-25T04:37:03.563942Z",
     "start_time": "2019-09-25T04:37:03.309184Z"
    }
   },
   "outputs": [
    {
     "data": {
      "text/plain": [
       "<matplotlib.collections.PolyCollection at 0x7ff09eff0f98>"
      ]
     },
     "execution_count": 44,
     "metadata": {},
     "output_type": "execute_result"
    },
    {
     "data": {
      "image/png": "[encoded data removed]",
      "text/plain": [
       "<Figure size 432x288 with 1 Axes>"
      ]
     },
     "metadata": {
      "needs_background": "light"
     },
     "output_type": "display_data"
    }
   ],
   "source": [
    "plt.plot(labels, powerlaw_slope)\n",
    "plt.fill_between(labels, powerlaw_slope - powerlaw_slope_stderr, powerlaw_slope + powerlaw_slope_stderr, alpha = 0.2)"
   ]
  },
  {
   "cell_type": "code",
   "execution_count": null,
   "metadata": {},
   "outputs": [],
   "source": []
  }
 ],
 "metadata": {
  "kernelspec": {
   "display_name": "Python 3",
   "language": "python",
   "name": "python3"
  },
  "language_info": {
   "codemirror_mode": {
    "name": "ipython",
    "version": 3
   },
   "file_extension": ".py",
   "mimetype": "text/x-python",
   "name": "python",
   "nbconvert_exporter": "python",
   "pygments_lexer": "ipython3",
   "version": "3.6.7"
  }
 },
 "nbformat": 4,
 "nbformat_minor": 2
}
