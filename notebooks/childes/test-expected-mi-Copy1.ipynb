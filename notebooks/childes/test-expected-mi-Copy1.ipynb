{
 "cells": [
  {
   "cell_type": "code",
   "execution_count": 1,
   "metadata": {
    "ExecuteTime": {
     "end_time": "2020-01-10T21:39:26.101277Z",
     "start_time": "2020-01-10T21:39:26.053785Z"
    }
   },
   "outputs": [],
   "source": [
    "%load_ext autoreload\n",
    "%autoreload 2"
   ]
  },
  {
   "cell_type": "code",
   "execution_count": 5,
   "metadata": {
    "ExecuteTime": {
     "end_time": "2020-01-10T21:39:27.590540Z",
     "start_time": "2020-01-10T21:39:26.890381Z"
    }
   },
   "outputs": [],
   "source": [
    "import numpy as np\n",
    "import scipy.sparse\n",
    "from sklearn.metrics.cluster.supervised import contingency_matrix\n",
    "from sklearn.metrics.cluster.expected_mutual_info_fast import (\n",
    "    expected_mutual_information,\n",
    ")\n",
    "from sklearn.metrics.cluster import adjusted_mutual_info_score"
   ]
  },
  {
   "cell_type": "code",
   "execution_count": 8,
   "metadata": {
    "ExecuteTime": {
     "end_time": "2020-01-10T23:16:21.124760Z",
     "start_time": "2020-01-10T23:16:20.937124Z"
    }
   },
   "outputs": [
    {
     "data": {
      "text/plain": [
       "(14975, (5372, 5361))"
      ]
     },
     "execution_count": 8,
     "metadata": {},
     "output_type": "execute_result"
    }
   ],
   "source": [
    "C = scipy.sparse.load_npz('test.npz')\n",
    "n_samples = C.sum()\n",
    "n_samples, C.shape"
   ]
  },
  {
   "cell_type": "code",
   "execution_count": 7,
   "metadata": {
    "ExecuteTime": {
     "end_time": "2020-01-10T23:15:15.508423Z",
     "start_time": "2020-01-10T23:15:14.529427Z"
    }
   },
   "outputs": [
    {
     "data": {
      "text/plain": [
       "((10, 6), 10000)"
      ]
     },
     "execution_count": 7,
     "metadata": {},
     "output_type": "execute_result"
    }
   ],
   "source": [
    "seed = 42\n",
    "k = 10\n",
    "n_samples = 10000\n",
    "random_labels = np.random.RandomState(seed).randint\n",
    "distribution_a = random_labels(low=0, high=k, size=n_samples)\n",
    "distribution_b = random_labels(low=0, high=k, size=n_samples)\n",
    "distribution_b[distribution_b > 5] = 5\n",
    "C = contingency_matrix(distribution_a, distribution_b, sparse=True)\n",
    "n_samples = C.sum()\n",
    "C.shape, n_samples"
   ]
  },
  {
   "cell_type": "code",
   "execution_count": 9,
   "metadata": {
    "ExecuteTime": {
     "end_time": "2020-01-10T23:14:07.821478Z",
     "start_time": "2020-01-10T23:14:07.765285Z"
    }
   },
   "outputs": [
    {
     "data": {
      "text/plain": [
       "6.4158670938439775"
      ]
     },
     "execution_count": 9,
     "metadata": {},
     "output_type": "execute_result"
    }
   ],
   "source": [
    "emi = expected_mutual_information(C, n_samples)\n",
    "emi"
   ]
  },
  {
   "cell_type": "code",
   "execution_count": 10,
   "metadata": {
    "ExecuteTime": {
     "end_time": "2020-01-10T23:16:22.592439Z",
     "start_time": "2020-01-10T23:16:22.557600Z"
    }
   },
   "outputs": [],
   "source": [
    "#adjusted_mutual_info_score(distribution_a, distribution_b)"
   ]
  },
  {
   "cell_type": "code",
   "execution_count": null,
   "metadata": {
    "ExecuteTime": {
     "end_time": "2020-01-10T23:16:23.172978Z",
     "start_time": "2020-01-10T23:16:23.138250Z"
    }
   },
   "outputs": [
    {
     "name": "stdout",
     "output_type": "stream",
     "text": [
      "\n",
      " types {'gln_nij': [<class 'numpy.ndarray'>], 'gln_N': [<class 'numpy.float64'>], 'gln_Nb': [<class 'numpy.ndarray'>], 'gln_Na': [<class 'numpy.ndarray'>], 'gln_b': [<class 'numpy.ndarray'>], 'gln_a': [<class 'numpy.ndarray'>], 'log_Nnij': [<class 'numpy.ndarray'>], 'log_ab_outer': [<class 'numpy.ndarray'>], 'term1': [<class 'numpy.ndarray'>], 'nijs': [<class 'numpy.ndarray'>], 'a': [<class 'numpy.ndarray'>], 'C': [<class 'int'>], 'R': [<class 'int'>], 'n_samples': [<class 'numpy.int64'>], 'contingency': [<class 'scipy.sparse.csr.csr_matrix'>], 'b': [<class 'numpy.ndarray'>], 'N': [<class 'float'>]}\n",
      "sizes {'gln_nij': ['0.0 Gb', (128,)], 'gln_Nb': ['0.0 Gb', (5361,)], 'gln_Na': ['0.0 Gb', (5372,)], 'gln_b': ['0.0 Gb', (5361,)], 'gln_a': ['0.0 Gb', (5372,)], 'log_Nnij': ['0.0 Gb', (128,)], 'log_ab_outer': ['0.23 Gb', (5372, 5361)], 'term1': ['0.0 Gb', (128,)], 'nijs': ['0.0 Gb', (128,)], 'a': ['0.0 Gb', (5372,)], 'b': ['0.0 Gb', (5361,)]}\n"
     ]
    },
    {
     "data": {
      "application/vnd.jupyter.widget-view+json": {
       "model_id": "6f62a9146c2e4e8283c54797b8e5aedd",
       "version_major": 2,
       "version_minor": 0
      },
      "text/plain": [
       "HBox(children=(IntProgress(value=0, max=5372), HTML(value='')))"
      ]
     },
     "metadata": {},
     "output_type": "display_data"
    }
   ],
   "source": [
    "from childes_mi.information_theory.expected_mutual_information_numpy import expected_mutual_information as expected_mutual_information_numpy\n",
    "emi_numpy = expected_mutual_information_numpy(C, n_samples)\n",
    "emi_numpy"
   ]
  },
  {
   "cell_type": "code",
   "execution_count": 12,
   "metadata": {
    "ExecuteTime": {
     "end_time": "2020-01-10T23:16:23.772683Z",
     "start_time": "2020-01-10T23:16:23.735888Z"
    }
   },
   "outputs": [],
   "source": [
    "from math import log\n",
    "from scipy.special import gammaln\n",
    "import numpy as np\n",
    "import time\n",
    "from tqdm.autonotebook import tqdm\n",
    "from joblib import Parallel, delayed"
   ]
  },
  {
   "cell_type": "code",
   "execution_count": 13,
   "metadata": {
    "ExecuteTime": {
     "end_time": "2020-01-10T23:16:24.200748Z",
     "start_time": "2020-01-10T23:16:24.150581Z"
    }
   },
   "outputs": [],
   "source": [
    "def nij_op(s1i, s2, l2, N, term1, nijs, i, gln_a, gln_b, gln_Na, gln_Nb, gln_N, gln_nij):\n",
    "    emif = 0\n",
    "    for j in range(l2):\n",
    "        s2j = s2[j]\n",
    "        min_nij = np.max([1, s1i + s2j - N])\n",
    "        max_nij = np.min([s1i, s2j])\n",
    "        nij = np.arange(min_nij, max_nij) + 1\n",
    "        t1 = term1[nij]\n",
    "\n",
    "        t2 = np.log(N * nijs[nij]) - np.log(s1i * s2j)\n",
    "\n",
    "        gln = (\n",
    "            gln_a[i] + \n",
    "            gln_b[j] + \n",
    "            gln_Na[i] + \n",
    "            gln_Nb[j] - \n",
    "            gln_N - \n",
    "            gln_nij[nij] - \n",
    "            gammaln(s1i - nij + 1) - \n",
    "            gammaln(s2j - nij + 1) -\n",
    "            gammaln(N - s1i- s2j + nij + 1)\n",
    "        )\n",
    "\n",
    "        t3 = np.exp(gln)\n",
    "        emi = sum(t1 * t2 * t3)\n",
    "        emif += emi\n",
    "    return emif"
   ]
  },
  {
   "cell_type": "code",
   "execution_count": 14,
   "metadata": {
    "ExecuteTime": {
     "end_time": "2020-01-10T23:16:24.548984Z",
     "start_time": "2020-01-10T23:16:24.500395Z"
    }
   },
   "outputs": [],
   "source": [
    "def emi_parallel(contingency, n_samples):\n",
    "    \"\"\"\n",
    "    EMI without pregenerating lookup table for reduced memory\n",
    "    https://github.com/clajusch/ClEvaR/blob/master/R/Calculations.R\n",
    "    \"\"\"\n",
    "    \n",
    "    print(\"EMI reduced memory parallel\")\n",
    "    s1 = np.array(np.sum(contingency, axis=1, dtype=\"int\").flatten()).flatten()\n",
    "    s2 = np.array(np.sum(contingency, axis=0, dtype=\"int\").flatten()).flatten()\n",
    "    N = n_samples\n",
    "    l1 = len(s1)\n",
    "    l2 = len(s2)\n",
    "\n",
    "    nijs = np.arange(0, max(np.max(s1), np.max(s2)) + 1, dtype=\"float\")\n",
    "    nijs[0] = 1\n",
    "    term1 = nijs / N\n",
    "\n",
    "    gln_a = gammaln(s1 + 1)\n",
    "    gln_b = gammaln(s2 + 1)\n",
    "    gln_Na = gammaln(N - s1 + 1)\n",
    "    gln_Nb = gammaln(N - s2 + 1)\n",
    "    gln_N = gammaln(N + 1)\n",
    "    gln_nij = gammaln(nijs + 1)\n",
    "\n",
    "    with Parallel(n_jobs=-1, verbose=0, prefer=None) as parallel:\n",
    "        emi = parallel(\n",
    "            delayed(nij_op)(s1[i], s2, l2, N, term1, nijs, i, gln_a, gln_b, gln_Na, gln_Nb, gln_N, gln_nij)\n",
    "            for i in tqdm(range(l1), desc=\"compute emi\", mininterval=0.25)\n",
    "        )\n",
    "\n",
    "    return np.sum(emi)"
   ]
  },
  {
   "cell_type": "code",
   "execution_count": 15,
   "metadata": {
    "ExecuteTime": {
     "end_time": "2020-01-10T23:17:20.065448Z",
     "start_time": "2020-01-10T23:16:24.880602Z"
    }
   },
   "outputs": [
    {
     "name": "stdout",
     "output_type": "stream",
     "text": [
      "EMI reduced memory parallel\n"
     ]
    },
    {
     "data": {
      "application/vnd.jupyter.widget-view+json": {
       "model_id": "98d1277abf074d6ba7f21b84bdad0400",
       "version_major": 2,
       "version_minor": 0
      },
      "text/plain": [
       "HBox(children=(IntProgress(value=0, description='compute emi', max=5372, style=ProgressStyle(description_width…"
      ]
     },
     "metadata": {},
     "output_type": "display_data"
    },
    {
     "name": "stdout",
     "output_type": "stream",
     "text": [
      "\n"
     ]
    },
    {
     "data": {
      "text/plain": [
       "0.02389203129531103"
      ]
     },
     "execution_count": 15,
     "metadata": {},
     "output_type": "execute_result"
    }
   ],
   "source": [
    "emi_parallel(C, n_samples)"
   ]
  },
  {
   "cell_type": "code",
   "execution_count": null,
   "metadata": {},
   "outputs": [],
   "source": []
  }
 ],
 "metadata": {
  "kernelspec": {
   "display_name": "Python 3",
   "language": "python",
   "name": "python3"
  },
  "language_info": {
   "codemirror_mode": {
    "name": "ipython",
    "version": 3
   },
   "file_extension": ".py",
   "mimetype": "text/x-python",
   "name": "python",
   "nbconvert_exporter": "python",
   "pygments_lexer": "ipython3",
   "version": "3.6.7"
  }
 },
 "nbformat": 4,
 "nbformat_minor": 2
}
