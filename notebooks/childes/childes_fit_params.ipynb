{
 "cells": [
  {
   "cell_type": "code",
   "execution_count": 1,
   "metadata": {
    "ExecuteTime": {
     "end_time": "2019-09-25T04:35:54.434607Z",
     "start_time": "2019-09-25T04:35:54.398574Z"
    }
   },
   "outputs": [],
   "source": [
    "%load_ext autoreload\n",
    "%autoreload 2"
   ]
  },
  {
   "cell_type": "code",
   "execution_count": 2,
   "metadata": {
    "ExecuteTime": {
     "end_time": "2019-09-25T04:35:55.019798Z",
     "start_time": "2019-09-25T04:35:54.545162Z"
    }
   },
   "outputs": [],
   "source": [
    "from childes_mi.utils.paths import DATA_DIR, FIGURE_DIR\n",
    "from childes_mi.utils.general import flatten,save_fig"
   ]
  },
  {
   "cell_type": "code",
   "execution_count": 3,
   "metadata": {
    "ExecuteTime": {
     "end_time": "2019-09-25T04:35:56.386638Z",
     "start_time": "2019-09-25T04:35:55.022669Z"
    }
   },
   "outputs": [],
   "source": [
    "from childes_mi.information_theory import model_fitting as mf"
   ]
  },
  {
   "cell_type": "code",
   "execution_count": 4,
   "metadata": {
    "ExecuteTime": {
     "end_time": "2019-09-25T04:35:56.425927Z",
     "start_time": "2019-09-25T04:35:56.388866Z"
    }
   },
   "outputs": [
    {
     "name": "stderr",
     "output_type": "stream",
     "text": [
      "/mnt/cube/tsainbur/conda_envs/tpy3/lib/python3.6/site-packages/tqdm/autonotebook/__init__.py:14: TqdmExperimentalWarning: Using `tqdm.autonotebook.tqdm` in notebook mode. Use `tqdm.tqdm` instead to force console mode (e.g. in jupyter console)\n",
      "  \" (e.g. in jupyter console)\", TqdmExperimentalWarning)\n"
     ]
    }
   ],
   "source": [
    "import pandas as pd\n",
    "import numpy as np\n",
    "import matplotlib.pyplot as plt\n",
    "from tqdm.autonotebook import tqdm"
   ]
  },
  {
   "cell_type": "code",
   "execution_count": 5,
   "metadata": {
    "ExecuteTime": {
     "end_time": "2019-09-25T04:35:57.322327Z",
     "start_time": "2019-09-25T04:35:56.428771Z"
    }
   },
   "outputs": [],
   "source": [
    "MI_DF = pd.read_pickle(DATA_DIR/'mi/childes_mi.pickle')"
   ]
  },
  {
   "cell_type": "code",
   "execution_count": 6,
   "metadata": {
    "ExecuteTime": {
     "end_time": "2019-09-25T04:35:57.405056Z",
     "start_time": "2019-09-25T04:35:57.324774Z"
    }
   },
   "outputs": [
    {
     "data": {
      "text/html": [
       "<div>\n",
       "<style scoped>\n",
       "    .dataframe tbody tr th:only-of-type {\n",
       "        vertical-align: middle;\n",
       "    }\n",
       "\n",
       "    .dataframe tbody tr th {\n",
       "        vertical-align: top;\n",
       "    }\n",
       "\n",
       "    .dataframe thead th {\n",
       "        text-align: right;\n",
       "    }\n",
       "</style>\n",
       "<table border=\"1\" class=\"dataframe\">\n",
       "  <thead>\n",
       "    <tr style=\"text-align: right;\">\n",
       "      <th></th>\n",
       "      <th>MI</th>\n",
       "      <th>MI_var</th>\n",
       "      <th>shuff_MI</th>\n",
       "      <th>shuff_MI_var</th>\n",
       "      <th>distances</th>\n",
       "      <th>age_cohort_low</th>\n",
       "      <th>age_cohort_high</th>\n",
       "      <th>n_words</th>\n",
       "      <th>n_unique_words</th>\n",
       "    </tr>\n",
       "  </thead>\n",
       "  <tbody>\n",
       "    <tr>\n",
       "      <th>0</th>\n",
       "      <td>[6.0615547382637684, 5.953026573946322, 5.8999...</td>\n",
       "      <td>[0.06497202939114834, 0.06421181443545038, 0.0...</td>\n",
       "      <td>[5.79799893493386, 5.805771966570329, 5.792474...</td>\n",
       "      <td>[0.06474471004074468, 0.06537742978608413, 0.0...</td>\n",
       "      <td>[1, 2, 3, 4, 5, 6, 7, 8, 9, 10, 11, 12, 13, 14...</td>\n",
       "      <td>0.5</td>\n",
       "      <td>1</td>\n",
       "      <td>2371</td>\n",
       "      <td>72</td>\n",
       "    </tr>\n",
       "    <tr>\n",
       "      <th>1</th>\n",
       "      <td>[10.373016081368098, 10.130972857078175, 9.987...</td>\n",
       "      <td>[0.00937963690006051, 0.009307961610168364, 0....</td>\n",
       "      <td>[9.60947032947951, 9.60572819037825, 9.5994570...</td>\n",
       "      <td>[0.009097935454051041, 0.009124346562127784, 0...</td>\n",
       "      <td>[1, 2, 3, 4, 5, 6, 7, 8, 9, 10, 11, 12, 13, 14...</td>\n",
       "      <td>1.0</td>\n",
       "      <td>1.5</td>\n",
       "      <td>67747</td>\n",
       "      <td>3609</td>\n",
       "    </tr>\n",
       "    <tr>\n",
       "      <th>2</th>\n",
       "      <td>[11.349881924265677, 11.087999639009142, 10.96...</td>\n",
       "      <td>[0.005174827403727939, 0.005136394630766223, 0...</td>\n",
       "      <td>[10.681207621740015, 10.677630292519837, 10.67...</td>\n",
       "      <td>[0.005060342080401666, 0.005066649080465537, 0...</td>\n",
       "      <td>[1, 2, 3, 4, 5, 6, 7, 8, 9, 10, 11, 12, 13, 14...</td>\n",
       "      <td>1.5</td>\n",
       "      <td>2</td>\n",
       "      <td>232191</td>\n",
       "      <td>8134</td>\n",
       "    </tr>\n",
       "  </tbody>\n",
       "</table>\n",
       "</div>"
      ],
      "text/plain": [
       "                                                  MI  \\\n",
       "0  [6.0615547382637684, 5.953026573946322, 5.8999...   \n",
       "1  [10.373016081368098, 10.130972857078175, 9.987...   \n",
       "2  [11.349881924265677, 11.087999639009142, 10.96...   \n",
       "\n",
       "                                              MI_var  \\\n",
       "0  [0.06497202939114834, 0.06421181443545038, 0.0...   \n",
       "1  [0.00937963690006051, 0.009307961610168364, 0....   \n",
       "2  [0.005174827403727939, 0.005136394630766223, 0...   \n",
       "\n",
       "                                            shuff_MI  \\\n",
       "0  [5.79799893493386, 5.805771966570329, 5.792474...   \n",
       "1  [9.60947032947951, 9.60572819037825, 9.5994570...   \n",
       "2  [10.681207621740015, 10.677630292519837, 10.67...   \n",
       "\n",
       "                                        shuff_MI_var  \\\n",
       "0  [0.06474471004074468, 0.06537742978608413, 0.0...   \n",
       "1  [0.009097935454051041, 0.009124346562127784, 0...   \n",
       "2  [0.005060342080401666, 0.005066649080465537, 0...   \n",
       "\n",
       "                                           distances  age_cohort_low  \\\n",
       "0  [1, 2, 3, 4, 5, 6, 7, 8, 9, 10, 11, 12, 13, 14...             0.5   \n",
       "1  [1, 2, 3, 4, 5, 6, 7, 8, 9, 10, 11, 12, 13, 14...             1.0   \n",
       "2  [1, 2, 3, 4, 5, 6, 7, 8, 9, 10, 11, 12, 13, 14...             1.5   \n",
       "\n",
       "  age_cohort_high n_words n_unique_words  \n",
       "0               1    2371             72  \n",
       "1             1.5   67747           3609  \n",
       "2               2  232191           8134  "
      ]
     },
     "execution_count": 6,
     "metadata": {},
     "output_type": "execute_result"
    }
   ],
   "source": [
    "MI_DF[:3]"
   ]
  },
  {
   "cell_type": "code",
   "execution_count": 7,
   "metadata": {
    "ExecuteTime": {
     "end_time": "2019-09-25T04:35:57.541972Z",
     "start_time": "2019-09-25T04:35:57.407070Z"
    }
   },
   "outputs": [],
   "source": [
    "MI_DF = MI_DF.assign(**{i:np.nan for i in ['exp_results', 'pow_results', 'concat_results',\n",
    "     'R2_exp', 'R2_concat', 'R2_power', 'AICc_exp',\n",
    "     'AICc_concat', 'AICc_power', 'bestfitmodel', 'curvature', 'min_peak']})\n",
    "MI_DF['curvature'] = MI_DF['curvature'].astype(object)"
   ]
  },
  {
   "cell_type": "code",
   "execution_count": 8,
   "metadata": {
    "ExecuteTime": {
     "end_time": "2019-09-25T04:36:01.179042Z",
     "start_time": "2019-09-25T04:35:57.545306Z"
    }
   },
   "outputs": [
    {
     "data": {
      "application/vnd.jupyter.widget-view+json": {
       "model_id": "0f647e7636454205be0b1aee2116b745",
       "version_major": 2,
       "version_minor": 0
      },
      "text/plain": [
       "HBox(children=(IntProgress(value=0, max=6), HTML(value='')))"
      ]
     },
     "metadata": {},
     "output_type": "display_data"
    },
    {
     "name": "stderr",
     "output_type": "stream",
     "text": [
      "/mnt/cube/tsainbur/Projects/github_repos/childes_mi_project/childes_mi/information_theory/model_fitting.py:8: RuntimeWarning: invalid value encountered in log\n",
      "  return np.abs(np.log(y_true) - np.log(y_model)) * (1 / (np.log(1 + x)))\n"
     ]
    },
    {
     "name": "stdout",
     "output_type": "stream",
     "text": [
      "0.5 1 exp\n",
      "1.0 1.5 pow_exp\n",
      "1.5 2 pow_exp\n",
      "2.0 2.5 pow_exp\n",
      "2.5 3 pow_exp\n",
      "3.0 20 pow_exp\n",
      "\n"
     ]
    }
   ],
   "source": [
    "n = 100 # max distance for computation\n",
    "for idx, row in tqdm(MI_DF.iterrows(), total=len(MI_DF)):\n",
    "    # get signal\n",
    "    sig = np.array(row.MI-row.shuff_MI)\n",
    "    distances = row.distances\n",
    "    \n",
    "    sig = sig\n",
    "    \n",
    "    # fit models\n",
    "    results_power, results_exp, results_pow_exp, best_fit_model = mf.fit_models(distances, sig)\n",
    "    \n",
    "    # get fit results\n",
    "    R2_exp, R2_concat, R2_power, AICc_exp, \\\n",
    "        AICc_pow, AICc_concat = mf.fit_results(sig, distances, \n",
    "                                              results_exp, results_power,\n",
    "                                              results_pow_exp)\n",
    "    \n",
    "    \n",
    "    # get model y\n",
    "    distances_mod = np.logspace(0,np.log10(n), base=10, num=1000)\n",
    "    if best_fit_model == 'pow_exp':\n",
    "        y_model = mf.get_y(mf.pow_exp_decay, results_pow_exp, distances_mod)\n",
    "    elif best_fit_model == 'exp':\n",
    "        y_model = mf.get_y(mf.exp_decay, results_exp, distances_mod)\n",
    "    elif best_fit_model == 'pow':\n",
    "        y_model = mf.get_y(mf.powerlaw_decay, results_power, distances_mod)\n",
    "    \n",
    "    # get curvature of model_y\n",
    "    curvature_model = mf.curvature(np.log(y_model))\n",
    "    \n",
    "    # if the best fit model is pow_exp, then grab the min peak\n",
    "    if best_fit_model == 'pow_exp':\n",
    "        # get peaks of curvature\n",
    "        peaks = np.where((\n",
    "            (curvature_model[:-1] < curvature_model[1:])[1:] & (curvature_model[1:] < curvature_model[:-1])[:-1]\n",
    "        ))\n",
    "        min_peak = peaks[0][0]\n",
    "    else:\n",
    "        min_peak = np.nan\n",
    "\n",
    "    # get save model fit results to MI_DF\n",
    "    MI_DF.loc[idx, np.array(['exp_results', 'pow_results', 'concat_results',\n",
    "                         'R2_exp', 'R2_concat', 'R2_power', 'AICc_exp',\n",
    "                         'AICc_concat', 'AICc_power', 'bestfitmodel', 'curvature', 'min_peak'])] = [\n",
    "        results_exp, results_power, results_pow_exp,\n",
    "        R2_exp, R2_concat, R2_power, AICc_exp,\n",
    "        AICc_concat, AICc_pow, best_fit_model,\n",
    "        curvature_model, min_peak\n",
    "    ]\n",
    "\n",
    "    print(row.age_cohort_low, row.age_cohort_high, best_fit_model)"
   ]
  },
  {
   "cell_type": "code",
   "execution_count": 9,
   "metadata": {
    "ExecuteTime": {
     "end_time": "2019-09-25T04:36:01.426189Z",
     "start_time": "2019-09-25T04:36:01.182452Z"
    }
   },
   "outputs": [
    {
     "data": {
      "text/html": [
       "<div>\n",
       "<style scoped>\n",
       "    .dataframe tbody tr th:only-of-type {\n",
       "        vertical-align: middle;\n",
       "    }\n",
       "\n",
       "    .dataframe tbody tr th {\n",
       "        vertical-align: top;\n",
       "    }\n",
       "\n",
       "    .dataframe thead th {\n",
       "        text-align: right;\n",
       "    }\n",
       "</style>\n",
       "<table border=\"1\" class=\"dataframe\">\n",
       "  <thead>\n",
       "    <tr style=\"text-align: right;\">\n",
       "      <th></th>\n",
       "      <th>MI</th>\n",
       "      <th>MI_var</th>\n",
       "      <th>shuff_MI</th>\n",
       "      <th>shuff_MI_var</th>\n",
       "      <th>distances</th>\n",
       "      <th>age_cohort_low</th>\n",
       "      <th>age_cohort_high</th>\n",
       "      <th>n_words</th>\n",
       "      <th>n_unique_words</th>\n",
       "      <th>exp_results</th>\n",
       "      <th>...</th>\n",
       "      <th>concat_results</th>\n",
       "      <th>R2_exp</th>\n",
       "      <th>R2_concat</th>\n",
       "      <th>R2_power</th>\n",
       "      <th>AICc_exp</th>\n",
       "      <th>AICc_concat</th>\n",
       "      <th>AICc_power</th>\n",
       "      <th>bestfitmodel</th>\n",
       "      <th>curvature</th>\n",
       "      <th>min_peak</th>\n",
       "    </tr>\n",
       "  </thead>\n",
       "  <tbody>\n",
       "    <tr>\n",
       "      <th>0</th>\n",
       "      <td>[6.0615547382637684, 5.953026573946322, 5.8999...</td>\n",
       "      <td>[0.06497202939114834, 0.06421181443545038, 0.0...</td>\n",
       "      <td>[5.79799893493386, 5.805771966570329, 5.792474...</td>\n",
       "      <td>[0.06474471004074468, 0.06537742978608413, 0.0...</td>\n",
       "      <td>[1, 2, 3, 4, 5, 6, 7, 8, 9, 10, 11, 12, 13, 14...</td>\n",
       "      <td>0.5</td>\n",
       "      <td>1</td>\n",
       "      <td>2371</td>\n",
       "      <td>72</td>\n",
       "      <td>&lt;lmfit.minimizer.MinimizerResult object at 0x7...</td>\n",
       "      <td>...</td>\n",
       "      <td>&lt;lmfit.minimizer.MinimizerResult object at 0x7...</td>\n",
       "      <td>0.803612</td>\n",
       "      <td>0.804922</td>\n",
       "      <td>0.776286</td>\n",
       "      <td>-136.562178</td>\n",
       "      <td>-132.408084</td>\n",
       "      <td>-127.833763</td>\n",
       "      <td>exp</td>\n",
       "      <td>[-3.6367098727388944e-06, -5.463370893703798e-...</td>\n",
       "      <td>NaN</td>\n",
       "    </tr>\n",
       "    <tr>\n",
       "      <th>1</th>\n",
       "      <td>[10.373016081368098, 10.130972857078175, 9.987...</td>\n",
       "      <td>[0.00937963690006051, 0.009307961610168364, 0....</td>\n",
       "      <td>[9.60947032947951, 9.60572819037825, 9.5994570...</td>\n",
       "      <td>[0.009097935454051041, 0.009124346562127784, 0...</td>\n",
       "      <td>[1, 2, 3, 4, 5, 6, 7, 8, 9, 10, 11, 12, 13, 14...</td>\n",
       "      <td>1.0</td>\n",
       "      <td>1.5</td>\n",
       "      <td>67747</td>\n",
       "      <td>3609</td>\n",
       "      <td>&lt;lmfit.minimizer.MinimizerResult object at 0x7...</td>\n",
       "      <td>...</td>\n",
       "      <td>&lt;lmfit.minimizer.MinimizerResult object at 0x7...</td>\n",
       "      <td>0.960713</td>\n",
       "      <td>0.986984</td>\n",
       "      <td>0.980082</td>\n",
       "      <td>-420.636087</td>\n",
       "      <td>-526.718807</td>\n",
       "      <td>-488.563146</td>\n",
       "      <td>pow_exp</td>\n",
       "      <td>[6.528048763553539e-07, 9.767024895467008e-07,...</td>\n",
       "      <td>450.0</td>\n",
       "    </tr>\n",
       "    <tr>\n",
       "      <th>2</th>\n",
       "      <td>[11.349881924265677, 11.087999639009142, 10.96...</td>\n",
       "      <td>[0.005174827403727939, 0.005136394630766223, 0...</td>\n",
       "      <td>[10.681207621740015, 10.677630292519837, 10.67...</td>\n",
       "      <td>[0.005060342080401666, 0.005066649080465537, 0...</td>\n",
       "      <td>[1, 2, 3, 4, 5, 6, 7, 8, 9, 10, 11, 12, 13, 14...</td>\n",
       "      <td>1.5</td>\n",
       "      <td>2</td>\n",
       "      <td>232191</td>\n",
       "      <td>8134</td>\n",
       "      <td>&lt;lmfit.minimizer.MinimizerResult object at 0x7...</td>\n",
       "      <td>...</td>\n",
       "      <td>&lt;lmfit.minimizer.MinimizerResult object at 0x7...</td>\n",
       "      <td>0.949823</td>\n",
       "      <td>0.989080</td>\n",
       "      <td>0.985398</td>\n",
       "      <td>-360.792506</td>\n",
       "      <td>-505.839244</td>\n",
       "      <td>-481.766416</td>\n",
       "      <td>pow_exp</td>\n",
       "      <td>[9.60855604404184e-07, 1.4398265135829119e-06,...</td>\n",
       "      <td>435.0</td>\n",
       "    </tr>\n",
       "    <tr>\n",
       "      <th>3</th>\n",
       "      <td>[12.421599707857368, 12.124559687616102, 11.99...</td>\n",
       "      <td>[0.0033293605141089407, 0.0032982717697735654,...</td>\n",
       "      <td>[11.756060854089633, 11.754715776334926, 11.75...</td>\n",
       "      <td>[0.003259500059111028, 0.003261010542536753, 0...</td>\n",
       "      <td>[1, 2, 3, 4, 5, 6, 7, 8, 9, 10, 11, 12, 13, 14...</td>\n",
       "      <td>2.0</td>\n",
       "      <td>2.5</td>\n",
       "      <td>656639</td>\n",
       "      <td>14402</td>\n",
       "      <td>&lt;lmfit.minimizer.MinimizerResult object at 0x7...</td>\n",
       "      <td>...</td>\n",
       "      <td>&lt;lmfit.minimizer.MinimizerResult object at 0x7...</td>\n",
       "      <td>0.974186</td>\n",
       "      <td>0.996492</td>\n",
       "      <td>0.991567</td>\n",
       "      <td>-429.445717</td>\n",
       "      <td>-624.641943</td>\n",
       "      <td>-541.319049</td>\n",
       "      <td>pow_exp</td>\n",
       "      <td>[1.116469991993569e-06, 1.6691921956434772e-06...</td>\n",
       "      <td>375.0</td>\n",
       "    </tr>\n",
       "    <tr>\n",
       "      <th>4</th>\n",
       "      <td>[11.532466104026422, 11.247538669418567, 11.12...</td>\n",
       "      <td>[0.004322162033098881, 0.004289030213930944, 0...</td>\n",
       "      <td>[10.928431808392926, 10.926159127779197, 10.92...</td>\n",
       "      <td>[0.004249227382651435, 0.0042542569785092525, ...</td>\n",
       "      <td>[1, 2, 3, 4, 5, 6, 7, 8, 9, 10, 11, 12, 13, 14...</td>\n",
       "      <td>2.5</td>\n",
       "      <td>3</td>\n",
       "      <td>422922</td>\n",
       "      <td>9336</td>\n",
       "      <td>&lt;lmfit.minimizer.MinimizerResult object at 0x7...</td>\n",
       "      <td>...</td>\n",
       "      <td>&lt;lmfit.minimizer.MinimizerResult object at 0x7...</td>\n",
       "      <td>0.954515</td>\n",
       "      <td>0.985079</td>\n",
       "      <td>0.980663</td>\n",
       "      <td>-349.189828</td>\n",
       "      <td>-455.142679</td>\n",
       "      <td>-433.869505</td>\n",
       "      <td>pow_exp</td>\n",
       "      <td>[-7.656782712802456e-07, -1.1602581095676295e-...</td>\n",
       "      <td>317.0</td>\n",
       "    </tr>\n",
       "    <tr>\n",
       "      <th>5</th>\n",
       "      <td>[13.90350042312788, 13.60402662450543, 13.4863...</td>\n",
       "      <td>[0.0016126379123154566, 0.001596772378812455, ...</td>\n",
       "      <td>[13.344836093986757, 13.344052969455305, 13.34...</td>\n",
       "      <td>[0.0015852035484411658, 0.001585418309044302, ...</td>\n",
       "      <td>[1, 2, 3, 4, 5, 6, 7, 8, 9, 10, 11, 12, 13, 14...</td>\n",
       "      <td>3.0</td>\n",
       "      <td>20</td>\n",
       "      <td>3210842</td>\n",
       "      <td>43208</td>\n",
       "      <td>&lt;lmfit.minimizer.MinimizerResult object at 0x7...</td>\n",
       "      <td>...</td>\n",
       "      <td>&lt;lmfit.minimizer.MinimizerResult object at 0x7...</td>\n",
       "      <td>0.957765</td>\n",
       "      <td>0.988433</td>\n",
       "      <td>0.983562</td>\n",
       "      <td>-309.589767</td>\n",
       "      <td>-429.516198</td>\n",
       "      <td>-400.182416</td>\n",
       "      <td>pow_exp</td>\n",
       "      <td>[6.813220961528881e-07, 1.0079629675508996e-06...</td>\n",
       "      <td>335.0</td>\n",
       "    </tr>\n",
       "  </tbody>\n",
       "</table>\n",
       "<p>6 rows × 21 columns</p>\n",
       "</div>"
      ],
      "text/plain": [
       "                                                  MI  \\\n",
       "0  [6.0615547382637684, 5.953026573946322, 5.8999...   \n",
       "1  [10.373016081368098, 10.130972857078175, 9.987...   \n",
       "2  [11.349881924265677, 11.087999639009142, 10.96...   \n",
       "3  [12.421599707857368, 12.124559687616102, 11.99...   \n",
       "4  [11.532466104026422, 11.247538669418567, 11.12...   \n",
       "5  [13.90350042312788, 13.60402662450543, 13.4863...   \n",
       "\n",
       "                                              MI_var  \\\n",
       "0  [0.06497202939114834, 0.06421181443545038, 0.0...   \n",
       "1  [0.00937963690006051, 0.009307961610168364, 0....   \n",
       "2  [0.005174827403727939, 0.005136394630766223, 0...   \n",
       "3  [0.0033293605141089407, 0.0032982717697735654,...   \n",
       "4  [0.004322162033098881, 0.004289030213930944, 0...   \n",
       "5  [0.0016126379123154566, 0.001596772378812455, ...   \n",
       "\n",
       "                                            shuff_MI  \\\n",
       "0  [5.79799893493386, 5.805771966570329, 5.792474...   \n",
       "1  [9.60947032947951, 9.60572819037825, 9.5994570...   \n",
       "2  [10.681207621740015, 10.677630292519837, 10.67...   \n",
       "3  [11.756060854089633, 11.754715776334926, 11.75...   \n",
       "4  [10.928431808392926, 10.926159127779197, 10.92...   \n",
       "5  [13.344836093986757, 13.344052969455305, 13.34...   \n",
       "\n",
       "                                        shuff_MI_var  \\\n",
       "0  [0.06474471004074468, 0.06537742978608413, 0.0...   \n",
       "1  [0.009097935454051041, 0.009124346562127784, 0...   \n",
       "2  [0.005060342080401666, 0.005066649080465537, 0...   \n",
       "3  [0.003259500059111028, 0.003261010542536753, 0...   \n",
       "4  [0.004249227382651435, 0.0042542569785092525, ...   \n",
       "5  [0.0015852035484411658, 0.001585418309044302, ...   \n",
       "\n",
       "                                           distances  age_cohort_low  \\\n",
       "0  [1, 2, 3, 4, 5, 6, 7, 8, 9, 10, 11, 12, 13, 14...             0.5   \n",
       "1  [1, 2, 3, 4, 5, 6, 7, 8, 9, 10, 11, 12, 13, 14...             1.0   \n",
       "2  [1, 2, 3, 4, 5, 6, 7, 8, 9, 10, 11, 12, 13, 14...             1.5   \n",
       "3  [1, 2, 3, 4, 5, 6, 7, 8, 9, 10, 11, 12, 13, 14...             2.0   \n",
       "4  [1, 2, 3, 4, 5, 6, 7, 8, 9, 10, 11, 12, 13, 14...             2.5   \n",
       "5  [1, 2, 3, 4, 5, 6, 7, 8, 9, 10, 11, 12, 13, 14...             3.0   \n",
       "\n",
       "  age_cohort_high  n_words n_unique_words  \\\n",
       "0               1     2371             72   \n",
       "1             1.5    67747           3609   \n",
       "2               2   232191           8134   \n",
       "3             2.5   656639          14402   \n",
       "4               3   422922           9336   \n",
       "5              20  3210842          43208   \n",
       "\n",
       "                                         exp_results  ...  \\\n",
       "0  <lmfit.minimizer.MinimizerResult object at 0x7...  ...   \n",
       "1  <lmfit.minimizer.MinimizerResult object at 0x7...  ...   \n",
       "2  <lmfit.minimizer.MinimizerResult object at 0x7...  ...   \n",
       "3  <lmfit.minimizer.MinimizerResult object at 0x7...  ...   \n",
       "4  <lmfit.minimizer.MinimizerResult object at 0x7...  ...   \n",
       "5  <lmfit.minimizer.MinimizerResult object at 0x7...  ...   \n",
       "\n",
       "                                      concat_results    R2_exp  R2_concat  \\\n",
       "0  <lmfit.minimizer.MinimizerResult object at 0x7...  0.803612   0.804922   \n",
       "1  <lmfit.minimizer.MinimizerResult object at 0x7...  0.960713   0.986984   \n",
       "2  <lmfit.minimizer.MinimizerResult object at 0x7...  0.949823   0.989080   \n",
       "3  <lmfit.minimizer.MinimizerResult object at 0x7...  0.974186   0.996492   \n",
       "4  <lmfit.minimizer.MinimizerResult object at 0x7...  0.954515   0.985079   \n",
       "5  <lmfit.minimizer.MinimizerResult object at 0x7...  0.957765   0.988433   \n",
       "\n",
       "   R2_power    AICc_exp  AICc_concat  AICc_power  bestfitmodel  \\\n",
       "0  0.776286 -136.562178  -132.408084 -127.833763           exp   \n",
       "1  0.980082 -420.636087  -526.718807 -488.563146       pow_exp   \n",
       "2  0.985398 -360.792506  -505.839244 -481.766416       pow_exp   \n",
       "3  0.991567 -429.445717  -624.641943 -541.319049       pow_exp   \n",
       "4  0.980663 -349.189828  -455.142679 -433.869505       pow_exp   \n",
       "5  0.983562 -309.589767  -429.516198 -400.182416       pow_exp   \n",
       "\n",
       "                                           curvature min_peak  \n",
       "0  [-3.6367098727388944e-06, -5.463370893703798e-...      NaN  \n",
       "1  [6.528048763553539e-07, 9.767024895467008e-07,...    450.0  \n",
       "2  [9.60855604404184e-07, 1.4398265135829119e-06,...    435.0  \n",
       "3  [1.116469991993569e-06, 1.6691921956434772e-06...    375.0  \n",
       "4  [-7.656782712802456e-07, -1.1602581095676295e-...    317.0  \n",
       "5  [6.813220961528881e-07, 1.0079629675508996e-06...    335.0  \n",
       "\n",
       "[6 rows x 21 columns]"
      ]
     },
     "execution_count": 9,
     "metadata": {},
     "output_type": "execute_result"
    }
   ],
   "source": [
    "MI_DF"
   ]
  },
  {
   "cell_type": "code",
   "execution_count": 16,
   "metadata": {
    "ExecuteTime": {
     "end_time": "2019-09-25T04:37:19.431118Z",
     "start_time": "2019-09-25T04:37:19.367268Z"
    }
   },
   "outputs": [
    {
     "data": {
      "text/plain": [
       "Parameters([('e_init',\n",
       "             <Parameter 'e_init', value=0.2550403875165519 +/- 0.23, bounds=[1e-19:inf]>),\n",
       "            ('e_decay_const',\n",
       "             <Parameter 'e_decay_const', value=0.3112004936620467 +/- 0.0767, bounds=[1e-10:inf]>),\n",
       "            ('p_init',\n",
       "             <Parameter 'p_init', value=0.07322019378836941 +/- 0.169, bounds=[1e-10:inf]>),\n",
       "            ('p_decay_const',\n",
       "             <Parameter 'p_decay_const', value=-2.8258570644944325 +/- 16, bounds=[-inf:-1e-10]>),\n",
       "            ('intercept',\n",
       "             <Parameter 'intercept', value=0.003211441724368491 +/- 0.000709, bounds=[1e-10:inf]>)])"
      ]
     },
     "execution_count": 16,
     "metadata": {},
     "output_type": "execute_result"
    }
   ],
   "source": [
    "MI_DF.concat_results.values[0].params"
   ]
  },
  {
   "cell_type": "code",
   "execution_count": 17,
   "metadata": {
    "ExecuteTime": {
     "end_time": "2019-09-25T04:37:19.718144Z",
     "start_time": "2019-09-25T04:37:19.670876Z"
    }
   },
   "outputs": [
    {
     "data": {
      "text/plain": [
       "<Parameter 'p_decay_const', value=-2.8258570644944325 +/- 16, bounds=[-inf:-1e-10]>"
      ]
     },
     "execution_count": 17,
     "metadata": {},
     "output_type": "execute_result"
    }
   ],
   "source": [
    "test = MI_DF.concat_results.values[0].params['p_decay_const']\n",
    "test"
   ]
  },
  {
   "cell_type": "code",
   "execution_count": 18,
   "metadata": {
    "ExecuteTime": {
     "end_time": "2019-09-25T04:37:19.822203Z",
     "start_time": "2019-09-25T04:37:19.721872Z"
    }
   },
   "outputs": [
    {
     "data": {
      "text/plain": [
       "15.988565223346768"
      ]
     },
     "execution_count": 18,
     "metadata": {},
     "output_type": "execute_result"
    }
   ],
   "source": [
    "test.stderr"
   ]
  },
  {
   "cell_type": "code",
   "execution_count": 28,
   "metadata": {
    "ExecuteTime": {
     "end_time": "2019-09-25T04:38:06.102163Z",
     "start_time": "2019-09-25T04:38:04.568771Z"
    }
   },
   "outputs": [],
   "source": [
    "param = 'p_decay_const'"
   ]
  },
  {
   "cell_type": "code",
   "execution_count": 29,
   "metadata": {
    "ExecuteTime": {
     "end_time": "2019-09-25T04:38:06.203096Z",
     "start_time": "2019-09-25T04:38:06.106780Z"
    }
   },
   "outputs": [],
   "source": [
    "powerlaw_slope = np.array([i.params[param].value for i in MI_DF.concat_results.values])\n",
    "powerlaw_slope_stderr = np.array([i.params[param].stderr for i in MI_DF.concat_results.values])"
   ]
  },
  {
   "cell_type": "code",
   "execution_count": 30,
   "metadata": {
    "ExecuteTime": {
     "end_time": "2019-09-25T04:38:06.301367Z",
     "start_time": "2019-09-25T04:38:06.205963Z"
    }
   },
   "outputs": [],
   "source": [
    "labels = ['6-12 months', '12-18 months', '18-24 months', '24-30 months', '30-36 months', '3-4 years']"
   ]
  },
  {
   "cell_type": "code",
   "execution_count": 31,
   "metadata": {
    "ExecuteTime": {
     "end_time": "2019-09-25T04:38:06.622470Z",
     "start_time": "2019-09-25T04:38:06.304241Z"
    }
   },
   "outputs": [
    {
     "data": {
      "text/plain": [
       "[<matplotlib.lines.Line2D at 0x7f6ba2c8a780>]"
      ]
     },
     "execution_count": 31,
     "metadata": {},
     "output_type": "execute_result"
    },
    {
     "data": {
      "image/png": "[encoded data removed]",
      "text/plain": [
       "<Figure size 432x288 with 1 Axes>"
      ]
     },
     "metadata": {
      "needs_background": "light"
     },
     "output_type": "display_data"
    }
   ],
   "source": [
    "plt.plot(labels, powerlaw_slope)\n",
    "#plt.fill_between(labels, powerlaw_slope - powerlaw_slope_stderr, powerlaw_slope + powerlaw_slope_stderr, alpha = 0.2)"
   ]
  },
  {
   "cell_type": "code",
   "execution_count": null,
   "metadata": {},
   "outputs": [],
   "source": []
  },
  {
   "cell_type": "code",
   "execution_count": null,
   "metadata": {},
   "outputs": [],
   "source": []
  }
 ],
 "metadata": {
  "kernelspec": {
   "display_name": "Python 3",
   "language": "python",
   "name": "python3"
  },
  "language_info": {
   "codemirror_mode": {
    "name": "ipython",
    "version": 3
   },
   "file_extension": ".py",
   "mimetype": "text/x-python",
   "name": "python",
   "nbconvert_exporter": "python",
   "pygments_lexer": "ipython3",
   "version": "3.6.7"
  }
 },
 "nbformat": 4,
 "nbformat_minor": 2
}
