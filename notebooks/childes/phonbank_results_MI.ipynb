{
 "cells": [
  {
   "cell_type": "code",
   "execution_count": 1,
   "metadata": {
    "ExecuteTime": {
     "end_time": "2019-09-25T04:12:32.647518Z",
     "start_time": "2019-09-25T04:12:32.594029Z"
    }
   },
   "outputs": [],
   "source": [
    "%load_ext autoreload\n",
    "%autoreload 2"
   ]
  },
  {
   "cell_type": "code",
   "execution_count": 2,
   "metadata": {
    "ExecuteTime": {
     "end_time": "2019-09-25T04:12:33.322694Z",
     "start_time": "2019-09-25T04:12:32.723225Z"
    }
   },
   "outputs": [],
   "source": [
    "from childes_mi.utils.paths import DATA_DIR, FIGURE_DIR\n",
    "from childes_mi.utils.general import flatten,save_fig"
   ]
  },
  {
   "cell_type": "code",
   "execution_count": 3,
   "metadata": {
    "ExecuteTime": {
     "end_time": "2019-09-25T04:12:34.843259Z",
     "start_time": "2019-09-25T04:12:33.328392Z"
    }
   },
   "outputs": [],
   "source": [
    "from childes_mi.information_theory import model_fitting as mf"
   ]
  },
  {
   "cell_type": "code",
   "execution_count": 4,
   "metadata": {
    "ExecuteTime": {
     "end_time": "2019-09-25T04:12:34.903823Z",
     "start_time": "2019-09-25T04:12:34.846159Z"
    }
   },
   "outputs": [
    {
     "name": "stderr",
     "output_type": "stream",
     "text": [
      "/mnt/cube/tsainbur/conda_envs/tpy3/lib/python3.6/site-packages/tqdm/autonotebook/__init__.py:14: TqdmExperimentalWarning: Using `tqdm.autonotebook.tqdm` in notebook mode. Use `tqdm.tqdm` instead to force console mode (e.g. in jupyter console)\n",
      "  \" (e.g. in jupyter console)\", TqdmExperimentalWarning)\n"
     ]
    }
   ],
   "source": [
    "import pandas as pd\n",
    "import numpy as np\n",
    "import matplotlib.pyplot as plt\n",
    "from tqdm.autonotebook import tqdm"
   ]
  },
  {
   "cell_type": "code",
   "execution_count": 5,
   "metadata": {
    "ExecuteTime": {
     "end_time": "2019-09-25T04:12:36.242959Z",
     "start_time": "2019-09-25T04:12:34.907680Z"
    }
   },
   "outputs": [],
   "source": [
    "MI_DF = pd.read_pickle(DATA_DIR/'mi/phonbank_mi.pickle')"
   ]
  },
  {
   "cell_type": "code",
   "execution_count": 6,
   "metadata": {
    "ExecuteTime": {
     "end_time": "2019-09-25T04:12:36.347882Z",
     "start_time": "2019-09-25T04:12:36.246202Z"
    }
   },
   "outputs": [
    {
     "data": {
      "text/html": [
       "<div>\n",
       "<style scoped>\n",
       "    .dataframe tbody tr th:only-of-type {\n",
       "        vertical-align: middle;\n",
       "    }\n",
       "\n",
       "    .dataframe tbody tr th {\n",
       "        vertical-align: top;\n",
       "    }\n",
       "\n",
       "    .dataframe thead th {\n",
       "        text-align: right;\n",
       "    }\n",
       "</style>\n",
       "<table border=\"1\" class=\"dataframe\">\n",
       "  <thead>\n",
       "    <tr style=\"text-align: right;\">\n",
       "      <th></th>\n",
       "      <th>MI</th>\n",
       "      <th>MI_var</th>\n",
       "      <th>shuff_MI</th>\n",
       "      <th>shuff_MI_var</th>\n",
       "      <th>distances</th>\n",
       "      <th>age_cohort_low</th>\n",
       "      <th>age_cohort_high</th>\n",
       "      <th>n_phones</th>\n",
       "      <th>n_unique_phones</th>\n",
       "    </tr>\n",
       "  </thead>\n",
       "  <tbody>\n",
       "    <tr>\n",
       "      <th>0</th>\n",
       "      <td>[10.080288260013138, 9.916455549165027, 9.7424...</td>\n",
       "      <td>[0.010088692845104597, 0.009966629345003522, 0...</td>\n",
       "      <td>[9.540319164934521, 9.545878218535728, 9.53434...</td>\n",
       "      <td>[0.009889103513194912, 0.009903386166469113, 0...</td>\n",
       "      <td>[1, 2, 3, 4, 5, 6, 7, 8, 9, 10, 11, 12, 13, 14...</td>\n",
       "      <td>0.5</td>\n",
       "      <td>1</td>\n",
       "      <td>60390</td>\n",
       "      <td>3259</td>\n",
       "    </tr>\n",
       "    <tr>\n",
       "      <th>1</th>\n",
       "      <td>[11.018700216584904, 10.737645462157055, 10.56...</td>\n",
       "      <td>[0.005213049628772987, 0.005149803969908309, 0...</td>\n",
       "      <td>[10.354873873252643, 10.35376084240053, 10.353...</td>\n",
       "      <td>[0.00508955241492165, 0.005096158572864715, 0....</td>\n",
       "      <td>[1, 2, 3, 4, 5, 6, 7, 8, 9, 10, 11, 12, 13, 14...</td>\n",
       "      <td>1.0</td>\n",
       "      <td>1.5</td>\n",
       "      <td>312914</td>\n",
       "      <td>5787</td>\n",
       "    </tr>\n",
       "    <tr>\n",
       "      <th>2</th>\n",
       "      <td>[11.052948976446858, 10.656466560369868, 10.48...</td>\n",
       "      <td>[0.0044666661484878325, 0.0043938556743630605,...</td>\n",
       "      <td>[10.335267645293385, 10.33318150766475, 10.333...</td>\n",
       "      <td>[0.004350729568225813, 0.004350829245781982, 0...</td>\n",
       "      <td>[1, 2, 3, 4, 5, 6, 7, 8, 9, 10, 11, 12, 13, 14...</td>\n",
       "      <td>1.5</td>\n",
       "      <td>2</td>\n",
       "      <td>457938</td>\n",
       "      <td>5769</td>\n",
       "    </tr>\n",
       "  </tbody>\n",
       "</table>\n",
       "</div>"
      ],
      "text/plain": [
       "                                                  MI  \\\n",
       "0  [10.080288260013138, 9.916455549165027, 9.7424...   \n",
       "1  [11.018700216584904, 10.737645462157055, 10.56...   \n",
       "2  [11.052948976446858, 10.656466560369868, 10.48...   \n",
       "\n",
       "                                              MI_var  \\\n",
       "0  [0.010088692845104597, 0.009966629345003522, 0...   \n",
       "1  [0.005213049628772987, 0.005149803969908309, 0...   \n",
       "2  [0.0044666661484878325, 0.0043938556743630605,...   \n",
       "\n",
       "                                            shuff_MI  \\\n",
       "0  [9.540319164934521, 9.545878218535728, 9.53434...   \n",
       "1  [10.354873873252643, 10.35376084240053, 10.353...   \n",
       "2  [10.335267645293385, 10.33318150766475, 10.333...   \n",
       "\n",
       "                                        shuff_MI_var  \\\n",
       "0  [0.009889103513194912, 0.009903386166469113, 0...   \n",
       "1  [0.00508955241492165, 0.005096158572864715, 0....   \n",
       "2  [0.004350729568225813, 0.004350829245781982, 0...   \n",
       "\n",
       "                                           distances  age_cohort_low  \\\n",
       "0  [1, 2, 3, 4, 5, 6, 7, 8, 9, 10, 11, 12, 13, 14...             0.5   \n",
       "1  [1, 2, 3, 4, 5, 6, 7, 8, 9, 10, 11, 12, 13, 14...             1.0   \n",
       "2  [1, 2, 3, 4, 5, 6, 7, 8, 9, 10, 11, 12, 13, 14...             1.5   \n",
       "\n",
       "  age_cohort_high n_phones n_unique_phones  \n",
       "0               1    60390            3259  \n",
       "1             1.5   312914            5787  \n",
       "2               2   457938            5769  "
      ]
     },
     "execution_count": 6,
     "metadata": {},
     "output_type": "execute_result"
    }
   ],
   "source": [
    "MI_DF[:3]"
   ]
  },
  {
   "cell_type": "code",
   "execution_count": 7,
   "metadata": {
    "ExecuteTime": {
     "end_time": "2019-09-25T04:12:36.438781Z",
     "start_time": "2019-09-25T04:12:36.349911Z"
    }
   },
   "outputs": [],
   "source": [
    "MI_DF = MI_DF.assign(**{i:np.nan for i in ['exp_results', 'pow_results', 'concat_results',\n",
    "     'R2_exp', 'R2_concat', 'R2_power', 'AICc_exp',\n",
    "     'AICc_concat', 'AICc_power', 'bestfitmodel', 'curvature', 'min_peak']})\n",
    "MI_DF['curvature'] = MI_DF['curvature'].astype(object)"
   ]
  },
  {
   "cell_type": "code",
   "execution_count": 8,
   "metadata": {
    "ExecuteTime": {
     "end_time": "2019-09-25T04:12:40.351404Z",
     "start_time": "2019-09-25T04:12:36.441092Z"
    }
   },
   "outputs": [
    {
     "data": {
      "application/vnd.jupyter.widget-view+json": {
       "model_id": "4e0b4e1b135f44f59dac7423e68f7778",
       "version_major": 2,
       "version_minor": 0
      },
      "text/plain": [
       "HBox(children=(IntProgress(value=0, max=6), HTML(value='')))"
      ]
     },
     "metadata": {},
     "output_type": "display_data"
    },
    {
     "name": "stdout",
     "output_type": "stream",
     "text": [
      "0.5 1 pow_exp\n",
      "1.0 1.5 pow_exp\n",
      "1.5 2 pow_exp\n",
      "2.0 2.5 pow_exp\n",
      "2.5 3 pow_exp\n",
      "3.0 20 pow_exp\n",
      "\n"
     ]
    }
   ],
   "source": [
    "n = 100 # max distance for computation\n",
    "for idx, row in tqdm(MI_DF.iterrows(), total=len(MI_DF)):\n",
    "    # get signal\n",
    "    sig = np.array(row.MI-row.shuff_MI)\n",
    "    distances = row.distances\n",
    "    sig = sig\n",
    "    \n",
    "    # fit models\n",
    "    results_power, results_exp, results_pow_exp, best_fit_model = mf.fit_models(distances, sig)\n",
    "    \n",
    "    # get fit results\n",
    "    R2_exp, R2_concat, R2_power, AICc_exp, \\\n",
    "        AICc_pow, AICc_concat = mf.fit_results(sig, distances, \n",
    "                                              results_exp, results_power,\n",
    "                                              results_pow_exp)\n",
    "    \n",
    "    \n",
    "    # get model y\n",
    "    distances_mod = np.logspace(0,np.log10(n), base=10, num=1000)\n",
    "    if best_fit_model == 'pow_exp':\n",
    "        y_model = mf.get_y(mf.pow_exp_decay, results_pow_exp, distances_mod)\n",
    "    elif best_fit_model == 'exp':\n",
    "        y_model = mf.get_y(mf.exp_decay, results_exp, distances_mod)\n",
    "    elif best_fit_model == 'pow':\n",
    "        y_model = mf.get_y(mf.powerlaw_decay, results_power, distances_mod)\n",
    "    \n",
    "    # get curvature of model_y\n",
    "    curvature_model = mf.curvature(np.log(y_model))\n",
    "    \n",
    "    # if the best fit model is pow_exp, then grab the min peak\n",
    "    if best_fit_model == 'pow_exp':\n",
    "        # get peaks of curvature\n",
    "        peaks = np.where((\n",
    "            (curvature_model[:-1] < curvature_model[1:])[1:] & (curvature_model[1:] < curvature_model[:-1])[:-1]\n",
    "        ))\n",
    "        min_peak = peaks[0][0]\n",
    "    else:\n",
    "        min_peak = np.nan\n",
    "\n",
    "    # get save model fit results to MI_DF\n",
    "    MI_DF.loc[idx, np.array(['exp_results', 'pow_results', 'concat_results',\n",
    "                         'R2_exp', 'R2_concat', 'R2_power', 'AICc_exp',\n",
    "                         'AICc_concat', 'AICc_power', 'bestfitmodel', 'curvature', 'min_peak'])] = [\n",
    "        results_exp, results_power, results_pow_exp,\n",
    "        R2_exp, R2_concat, R2_power, AICc_exp,\n",
    "        AICc_concat, AICc_pow, best_fit_model,\n",
    "        curvature_model, min_peak\n",
    "    ]\n",
    "\n",
    "    print(row.age_cohort_low, row.age_cohort_high, best_fit_model)"
   ]
  },
  {
   "cell_type": "code",
   "execution_count": 10,
   "metadata": {
    "ExecuteTime": {
     "end_time": "2019-09-25T04:13:03.632428Z",
     "start_time": "2019-09-25T04:13:03.444929Z"
    }
   },
   "outputs": [
    {
     "data": {
      "text/html": [
       "<div>\n",
       "<style scoped>\n",
       "    .dataframe tbody tr th:only-of-type {\n",
       "        vertical-align: middle;\n",
       "    }\n",
       "\n",
       "    .dataframe tbody tr th {\n",
       "        vertical-align: top;\n",
       "    }\n",
       "\n",
       "    .dataframe thead th {\n",
       "        text-align: right;\n",
       "    }\n",
       "</style>\n",
       "<table border=\"1\" class=\"dataframe\">\n",
       "  <thead>\n",
       "    <tr style=\"text-align: right;\">\n",
       "      <th></th>\n",
       "      <th>MI</th>\n",
       "      <th>MI_var</th>\n",
       "      <th>shuff_MI</th>\n",
       "      <th>shuff_MI_var</th>\n",
       "      <th>distances</th>\n",
       "      <th>age_cohort_low</th>\n",
       "      <th>age_cohort_high</th>\n",
       "      <th>n_phones</th>\n",
       "      <th>n_unique_phones</th>\n",
       "      <th>exp_results</th>\n",
       "      <th>...</th>\n",
       "      <th>concat_results</th>\n",
       "      <th>R2_exp</th>\n",
       "      <th>R2_concat</th>\n",
       "      <th>R2_power</th>\n",
       "      <th>AICc_exp</th>\n",
       "      <th>AICc_concat</th>\n",
       "      <th>AICc_power</th>\n",
       "      <th>bestfitmodel</th>\n",
       "      <th>curvature</th>\n",
       "      <th>min_peak</th>\n",
       "    </tr>\n",
       "  </thead>\n",
       "  <tbody>\n",
       "    <tr>\n",
       "      <th>0</th>\n",
       "      <td>[10.080288260013138, 9.916455549165027, 9.7424...</td>\n",
       "      <td>[0.010088692845104597, 0.009966629345003522, 0...</td>\n",
       "      <td>[9.540319164934521, 9.545878218535728, 9.53434...</td>\n",
       "      <td>[0.009889103513194912, 0.009903386166469113, 0...</td>\n",
       "      <td>[1, 2, 3, 4, 5, 6, 7, 8, 9, 10, 11, 12, 13, 14...</td>\n",
       "      <td>0.5</td>\n",
       "      <td>1</td>\n",
       "      <td>60390</td>\n",
       "      <td>3259</td>\n",
       "      <td>&lt;lmfit.minimizer.MinimizerResult object at 0x7...</td>\n",
       "      <td>...</td>\n",
       "      <td>&lt;lmfit.minimizer.MinimizerResult object at 0x7...</td>\n",
       "      <td>0.983485</td>\n",
       "      <td>0.993614</td>\n",
       "      <td>0.989926</td>\n",
       "      <td>-573.660113</td>\n",
       "      <td>-664.289186</td>\n",
       "      <td>-623.093092</td>\n",
       "      <td>pow_exp</td>\n",
       "      <td>[-4.7259173188471115e-07, -7.152342473020701e-...</td>\n",
       "      <td>259.0</td>\n",
       "    </tr>\n",
       "    <tr>\n",
       "      <th>1</th>\n",
       "      <td>[11.018700216584904, 10.737645462157055, 10.56...</td>\n",
       "      <td>[0.005213049628772987, 0.005149803969908309, 0...</td>\n",
       "      <td>[10.354873873252643, 10.35376084240053, 10.353...</td>\n",
       "      <td>[0.00508955241492165, 0.005096158572864715, 0....</td>\n",
       "      <td>[1, 2, 3, 4, 5, 6, 7, 8, 9, 10, 11, 12, 13, 14...</td>\n",
       "      <td>1.0</td>\n",
       "      <td>1.5</td>\n",
       "      <td>312914</td>\n",
       "      <td>5787</td>\n",
       "      <td>&lt;lmfit.minimizer.MinimizerResult object at 0x7...</td>\n",
       "      <td>...</td>\n",
       "      <td>&lt;lmfit.minimizer.MinimizerResult object at 0x7...</td>\n",
       "      <td>0.980861</td>\n",
       "      <td>0.998117</td>\n",
       "      <td>0.995941</td>\n",
       "      <td>-516.601598</td>\n",
       "      <td>-744.125823</td>\n",
       "      <td>-671.671083</td>\n",
       "      <td>pow_exp</td>\n",
       "      <td>[-6.398269681238529e-07, -9.676437685993425e-0...</td>\n",
       "      <td>247.0</td>\n",
       "    </tr>\n",
       "    <tr>\n",
       "      <th>2</th>\n",
       "      <td>[11.052948976446858, 10.656466560369868, 10.48...</td>\n",
       "      <td>[0.0044666661484878325, 0.0043938556743630605,...</td>\n",
       "      <td>[10.335267645293385, 10.33318150766475, 10.333...</td>\n",
       "      <td>[0.004350729568225813, 0.004350829245781982, 0...</td>\n",
       "      <td>[1, 2, 3, 4, 5, 6, 7, 8, 9, 10, 11, 12, 13, 14...</td>\n",
       "      <td>1.5</td>\n",
       "      <td>2</td>\n",
       "      <td>457938</td>\n",
       "      <td>5769</td>\n",
       "      <td>&lt;lmfit.minimizer.MinimizerResult object at 0x7...</td>\n",
       "      <td>...</td>\n",
       "      <td>&lt;lmfit.minimizer.MinimizerResult object at 0x7...</td>\n",
       "      <td>0.971529</td>\n",
       "      <td>0.998164</td>\n",
       "      <td>0.996968</td>\n",
       "      <td>-436.462823</td>\n",
       "      <td>-706.207524</td>\n",
       "      <td>-660.428461</td>\n",
       "      <td>pow_exp</td>\n",
       "      <td>[-3.526032069378871e-06, -5.3052760008367026e-...</td>\n",
       "      <td>169.0</td>\n",
       "    </tr>\n",
       "    <tr>\n",
       "      <th>3</th>\n",
       "      <td>[11.117589847657872, 10.672792563469578, 10.48...</td>\n",
       "      <td>[0.0040212095683027855, 0.003940573995629109, ...</td>\n",
       "      <td>[10.339949506377152, 10.339290626343217, 10.33...</td>\n",
       "      <td>[0.0038946673782298625, 0.003895116542366042, ...</td>\n",
       "      <td>[1, 2, 3, 4, 5, 6, 7, 8, 9, 10, 11, 12, 13, 14...</td>\n",
       "      <td>2.0</td>\n",
       "      <td>2.5</td>\n",
       "      <td>545062</td>\n",
       "      <td>5448</td>\n",
       "      <td>&lt;lmfit.minimizer.MinimizerResult object at 0x7...</td>\n",
       "      <td>...</td>\n",
       "      <td>&lt;lmfit.minimizer.MinimizerResult object at 0x7...</td>\n",
       "      <td>0.959973</td>\n",
       "      <td>0.996074</td>\n",
       "      <td>0.993765</td>\n",
       "      <td>-385.044117</td>\n",
       "      <td>-612.847682</td>\n",
       "      <td>-570.975906</td>\n",
       "      <td>pow_exp</td>\n",
       "      <td>[-6.582241601689192e-06, -9.892304726140322e-0...</td>\n",
       "      <td>163.0</td>\n",
       "    </tr>\n",
       "    <tr>\n",
       "      <th>4</th>\n",
       "      <td>[11.121574094494914, 10.664656344849487, 10.46...</td>\n",
       "      <td>[0.0036472645805226984, 0.003559756005532006, ...</td>\n",
       "      <td>[10.326966868664798, 10.327498323812126, 10.32...</td>\n",
       "      <td>[0.0035076360836199492, 0.0035094205130675815,...</td>\n",
       "      <td>[1, 2, 3, 4, 5, 6, 7, 8, 9, 10, 11, 12, 13, 14...</td>\n",
       "      <td>2.5</td>\n",
       "      <td>3</td>\n",
       "      <td>552929</td>\n",
       "      <td>4817</td>\n",
       "      <td>&lt;lmfit.minimizer.MinimizerResult object at 0x7...</td>\n",
       "      <td>...</td>\n",
       "      <td>&lt;lmfit.minimizer.MinimizerResult object at 0x7...</td>\n",
       "      <td>0.957094</td>\n",
       "      <td>0.990644</td>\n",
       "      <td>0.988273</td>\n",
       "      <td>-366.593177</td>\n",
       "      <td>-514.503850</td>\n",
       "      <td>-496.304608</td>\n",
       "      <td>pow_exp</td>\n",
       "      <td>[-6.551685972732687e-06, -9.847877058996883e-0...</td>\n",
       "      <td>178.0</td>\n",
       "    </tr>\n",
       "    <tr>\n",
       "      <th>5</th>\n",
       "      <td>[10.355129199937373, 9.874298956040494, 9.6434...</td>\n",
       "      <td>[0.00503053268630887, 0.00490644511432297, 0.0...</td>\n",
       "      <td>[9.476918105199086, 9.476465553083116, 9.47586...</td>\n",
       "      <td>[0.004822528611486606, 0.0048213731214393875, ...</td>\n",
       "      <td>[1, 2, 3, 4, 5, 6, 7, 8, 9, 10, 11, 12, 13, 14...</td>\n",
       "      <td>3.0</td>\n",
       "      <td>20</td>\n",
       "      <td>310065</td>\n",
       "      <td>2574</td>\n",
       "      <td>&lt;lmfit.minimizer.MinimizerResult object at 0x7...</td>\n",
       "      <td>...</td>\n",
       "      <td>&lt;lmfit.minimizer.MinimizerResult object at 0x7...</td>\n",
       "      <td>0.946653</td>\n",
       "      <td>0.986017</td>\n",
       "      <td>0.982729</td>\n",
       "      <td>-339.366979</td>\n",
       "      <td>-468.876358</td>\n",
       "      <td>-452.142734</td>\n",
       "      <td>pow_exp</td>\n",
       "      <td>[-6.801322960555882e-06, -1.0220997117116343e-...</td>\n",
       "      <td>193.0</td>\n",
       "    </tr>\n",
       "  </tbody>\n",
       "</table>\n",
       "<p>6 rows × 21 columns</p>\n",
       "</div>"
      ],
      "text/plain": [
       "                                                  MI  \\\n",
       "0  [10.080288260013138, 9.916455549165027, 9.7424...   \n",
       "1  [11.018700216584904, 10.737645462157055, 10.56...   \n",
       "2  [11.052948976446858, 10.656466560369868, 10.48...   \n",
       "3  [11.117589847657872, 10.672792563469578, 10.48...   \n",
       "4  [11.121574094494914, 10.664656344849487, 10.46...   \n",
       "5  [10.355129199937373, 9.874298956040494, 9.6434...   \n",
       "\n",
       "                                              MI_var  \\\n",
       "0  [0.010088692845104597, 0.009966629345003522, 0...   \n",
       "1  [0.005213049628772987, 0.005149803969908309, 0...   \n",
       "2  [0.0044666661484878325, 0.0043938556743630605,...   \n",
       "3  [0.0040212095683027855, 0.003940573995629109, ...   \n",
       "4  [0.0036472645805226984, 0.003559756005532006, ...   \n",
       "5  [0.00503053268630887, 0.00490644511432297, 0.0...   \n",
       "\n",
       "                                            shuff_MI  \\\n",
       "0  [9.540319164934521, 9.545878218535728, 9.53434...   \n",
       "1  [10.354873873252643, 10.35376084240053, 10.353...   \n",
       "2  [10.335267645293385, 10.33318150766475, 10.333...   \n",
       "3  [10.339949506377152, 10.339290626343217, 10.33...   \n",
       "4  [10.326966868664798, 10.327498323812126, 10.32...   \n",
       "5  [9.476918105199086, 9.476465553083116, 9.47586...   \n",
       "\n",
       "                                        shuff_MI_var  \\\n",
       "0  [0.009889103513194912, 0.009903386166469113, 0...   \n",
       "1  [0.00508955241492165, 0.005096158572864715, 0....   \n",
       "2  [0.004350729568225813, 0.004350829245781982, 0...   \n",
       "3  [0.0038946673782298625, 0.003895116542366042, ...   \n",
       "4  [0.0035076360836199492, 0.0035094205130675815,...   \n",
       "5  [0.004822528611486606, 0.0048213731214393875, ...   \n",
       "\n",
       "                                           distances  age_cohort_low  \\\n",
       "0  [1, 2, 3, 4, 5, 6, 7, 8, 9, 10, 11, 12, 13, 14...             0.5   \n",
       "1  [1, 2, 3, 4, 5, 6, 7, 8, 9, 10, 11, 12, 13, 14...             1.0   \n",
       "2  [1, 2, 3, 4, 5, 6, 7, 8, 9, 10, 11, 12, 13, 14...             1.5   \n",
       "3  [1, 2, 3, 4, 5, 6, 7, 8, 9, 10, 11, 12, 13, 14...             2.0   \n",
       "4  [1, 2, 3, 4, 5, 6, 7, 8, 9, 10, 11, 12, 13, 14...             2.5   \n",
       "5  [1, 2, 3, 4, 5, 6, 7, 8, 9, 10, 11, 12, 13, 14...             3.0   \n",
       "\n",
       "  age_cohort_high n_phones n_unique_phones  \\\n",
       "0               1    60390            3259   \n",
       "1             1.5   312914            5787   \n",
       "2               2   457938            5769   \n",
       "3             2.5   545062            5448   \n",
       "4               3   552929            4817   \n",
       "5              20   310065            2574   \n",
       "\n",
       "                                         exp_results  ...  \\\n",
       "0  <lmfit.minimizer.MinimizerResult object at 0x7...  ...   \n",
       "1  <lmfit.minimizer.MinimizerResult object at 0x7...  ...   \n",
       "2  <lmfit.minimizer.MinimizerResult object at 0x7...  ...   \n",
       "3  <lmfit.minimizer.MinimizerResult object at 0x7...  ...   \n",
       "4  <lmfit.minimizer.MinimizerResult object at 0x7...  ...   \n",
       "5  <lmfit.minimizer.MinimizerResult object at 0x7...  ...   \n",
       "\n",
       "                                      concat_results    R2_exp  R2_concat  \\\n",
       "0  <lmfit.minimizer.MinimizerResult object at 0x7...  0.983485   0.993614   \n",
       "1  <lmfit.minimizer.MinimizerResult object at 0x7...  0.980861   0.998117   \n",
       "2  <lmfit.minimizer.MinimizerResult object at 0x7...  0.971529   0.998164   \n",
       "3  <lmfit.minimizer.MinimizerResult object at 0x7...  0.959973   0.996074   \n",
       "4  <lmfit.minimizer.MinimizerResult object at 0x7...  0.957094   0.990644   \n",
       "5  <lmfit.minimizer.MinimizerResult object at 0x7...  0.946653   0.986017   \n",
       "\n",
       "   R2_power    AICc_exp  AICc_concat  AICc_power  bestfitmodel  \\\n",
       "0  0.989926 -573.660113  -664.289186 -623.093092       pow_exp   \n",
       "1  0.995941 -516.601598  -744.125823 -671.671083       pow_exp   \n",
       "2  0.996968 -436.462823  -706.207524 -660.428461       pow_exp   \n",
       "3  0.993765 -385.044117  -612.847682 -570.975906       pow_exp   \n",
       "4  0.988273 -366.593177  -514.503850 -496.304608       pow_exp   \n",
       "5  0.982729 -339.366979  -468.876358 -452.142734       pow_exp   \n",
       "\n",
       "                                           curvature min_peak  \n",
       "0  [-4.7259173188471115e-07, -7.152342473020701e-...    259.0  \n",
       "1  [-6.398269681238529e-07, -9.676437685993425e-0...    247.0  \n",
       "2  [-3.526032069378871e-06, -5.3052760008367026e-...    169.0  \n",
       "3  [-6.582241601689192e-06, -9.892304726140322e-0...    163.0  \n",
       "4  [-6.551685972732687e-06, -9.847877058996883e-0...    178.0  \n",
       "5  [-6.801322960555882e-06, -1.0220997117116343e-...    193.0  \n",
       "\n",
       "[6 rows x 21 columns]"
      ]
     },
     "execution_count": 10,
     "metadata": {},
     "output_type": "execute_result"
    }
   ],
   "source": [
    "MI_DF"
   ]
  },
  {
   "cell_type": "code",
   "execution_count": 11,
   "metadata": {
    "ExecuteTime": {
     "end_time": "2019-09-25T04:13:47.210478Z",
     "start_time": "2019-09-25T04:13:46.855852Z"
    }
   },
   "outputs": [],
   "source": [
    "labels = ['6-12 months', '12-18 months', '18-24 months', '24-30 months', '30-36 months', '3-4 years']"
   ]
  },
  {
   "cell_type": "markdown",
   "metadata": {},
   "source": [
    "### Calculate R2"
   ]
  },
  {
   "cell_type": "code",
   "execution_count": 12,
   "metadata": {
    "ExecuteTime": {
     "end_time": "2019-09-25T04:13:47.509621Z",
     "start_time": "2019-09-25T04:13:47.422622Z"
    }
   },
   "outputs": [
    {
     "data": {
      "text/html": [
       "<div>\n",
       "<style scoped>\n",
       "    .dataframe tbody tr th:only-of-type {\n",
       "        vertical-align: middle;\n",
       "    }\n",
       "\n",
       "    .dataframe tbody tr th {\n",
       "        vertical-align: top;\n",
       "    }\n",
       "\n",
       "    .dataframe thead th {\n",
       "        text-align: right;\n",
       "    }\n",
       "</style>\n",
       "<table border=\"1\" class=\"dataframe\">\n",
       "  <thead>\n",
       "    <tr style=\"text-align: right;\">\n",
       "      <th></th>\n",
       "      <th>6-12 months</th>\n",
       "      <th>12-18 months</th>\n",
       "      <th>18-24 months</th>\n",
       "      <th>24-30 months</th>\n",
       "      <th>30-36 months</th>\n",
       "      <th>3-4 years</th>\n",
       "    </tr>\n",
       "  </thead>\n",
       "  <tbody>\n",
       "    <tr>\n",
       "      <th>exp</th>\n",
       "      <td>0.983485</td>\n",
       "      <td>0.980861</td>\n",
       "      <td>0.971529</td>\n",
       "      <td>0.959973</td>\n",
       "      <td>0.957094</td>\n",
       "      <td>0.946653</td>\n",
       "    </tr>\n",
       "    <tr>\n",
       "      <th>combined</th>\n",
       "      <td>0.993614</td>\n",
       "      <td>0.998117</td>\n",
       "      <td>0.998164</td>\n",
       "      <td>0.996074</td>\n",
       "      <td>0.990644</td>\n",
       "      <td>0.986017</td>\n",
       "    </tr>\n",
       "    <tr>\n",
       "      <th>power-law</th>\n",
       "      <td>0.989926</td>\n",
       "      <td>0.995941</td>\n",
       "      <td>0.996968</td>\n",
       "      <td>0.993765</td>\n",
       "      <td>0.988273</td>\n",
       "      <td>0.982729</td>\n",
       "    </tr>\n",
       "  </tbody>\n",
       "</table>\n",
       "</div>"
      ],
      "text/plain": [
       "           6-12 months  12-18 months  18-24 months  24-30 months  \\\n",
       "exp           0.983485      0.980861      0.971529      0.959973   \n",
       "combined      0.993614      0.998117      0.998164      0.996074   \n",
       "power-law     0.989926      0.995941      0.996968      0.993765   \n",
       "\n",
       "           30-36 months  3-4 years  \n",
       "exp            0.957094   0.946653  \n",
       "combined       0.990644   0.986017  \n",
       "power-law      0.988273   0.982729  "
      ]
     },
     "execution_count": 12,
     "metadata": {},
     "output_type": "execute_result"
    }
   ],
   "source": [
    "R2 = MI_DF[['R2_exp', 'R2_concat', 'R2_power']]\n",
    "R2.columns = ['exp', 'combined', 'power-law']\n",
    "R2.index = labels\n",
    "R2 = R2.T\n",
    "R2"
   ]
  },
  {
   "cell_type": "markdown",
   "metadata": {},
   "source": [
    "### AICc"
   ]
  },
  {
   "cell_type": "code",
   "execution_count": 13,
   "metadata": {
    "ExecuteTime": {
     "end_time": "2019-09-25T04:13:47.861593Z",
     "start_time": "2019-09-25T04:13:47.790485Z"
    }
   },
   "outputs": [
    {
     "data": {
      "text/html": [
       "<div>\n",
       "<style scoped>\n",
       "    .dataframe tbody tr th:only-of-type {\n",
       "        vertical-align: middle;\n",
       "    }\n",
       "\n",
       "    .dataframe tbody tr th {\n",
       "        vertical-align: top;\n",
       "    }\n",
       "\n",
       "    .dataframe thead th {\n",
       "        text-align: right;\n",
       "    }\n",
       "</style>\n",
       "<table border=\"1\" class=\"dataframe\">\n",
       "  <thead>\n",
       "    <tr style=\"text-align: right;\">\n",
       "      <th></th>\n",
       "      <th>6-12 months</th>\n",
       "      <th>12-18 months</th>\n",
       "      <th>18-24 months</th>\n",
       "      <th>24-30 months</th>\n",
       "      <th>30-36 months</th>\n",
       "      <th>3-4 years</th>\n",
       "    </tr>\n",
       "  </thead>\n",
       "  <tbody>\n",
       "    <tr>\n",
       "      <th>exp</th>\n",
       "      <td>-573.660113</td>\n",
       "      <td>-516.601598</td>\n",
       "      <td>-436.462823</td>\n",
       "      <td>-385.044117</td>\n",
       "      <td>-366.593177</td>\n",
       "      <td>-339.366979</td>\n",
       "    </tr>\n",
       "    <tr>\n",
       "      <th>combined.</th>\n",
       "      <td>-664.289186</td>\n",
       "      <td>-744.125823</td>\n",
       "      <td>-706.207524</td>\n",
       "      <td>-612.847682</td>\n",
       "      <td>-514.503850</td>\n",
       "      <td>-468.876358</td>\n",
       "    </tr>\n",
       "    <tr>\n",
       "      <th>power-law</th>\n",
       "      <td>-623.093092</td>\n",
       "      <td>-671.671083</td>\n",
       "      <td>-660.428461</td>\n",
       "      <td>-570.975906</td>\n",
       "      <td>-496.304608</td>\n",
       "      <td>-452.142734</td>\n",
       "    </tr>\n",
       "  </tbody>\n",
       "</table>\n",
       "</div>"
      ],
      "text/plain": [
       "           6-12 months  12-18 months  18-24 months  24-30 months  \\\n",
       "exp        -573.660113   -516.601598   -436.462823   -385.044117   \n",
       "combined.  -664.289186   -744.125823   -706.207524   -612.847682   \n",
       "power-law  -623.093092   -671.671083   -660.428461   -570.975906   \n",
       "\n",
       "           30-36 months   3-4 years  \n",
       "exp         -366.593177 -339.366979  \n",
       "combined.   -514.503850 -468.876358  \n",
       "power-law   -496.304608 -452.142734  "
      ]
     },
     "execution_count": 13,
     "metadata": {},
     "output_type": "execute_result"
    }
   ],
   "source": [
    "AICcs = MI_DF[['AICc_exp', 'AICc_concat', 'AICc_power']]\n",
    "AICcs.columns = ['exp', 'combined.', 'power-law']\n",
    "AICcs.index = labels\n",
    "AICcs = AICcs.T\n",
    "AICcs"
   ]
  },
  {
   "cell_type": "markdown",
   "metadata": {},
   "source": [
    "#### $\\Delta$AIC"
   ]
  },
  {
   "cell_type": "code",
   "execution_count": 14,
   "metadata": {
    "ExecuteTime": {
     "end_time": "2019-09-25T04:13:48.155467Z",
     "start_time": "2019-09-25T04:13:48.077404Z"
    }
   },
   "outputs": [
    {
     "data": {
      "text/html": [
       "<div>\n",
       "<style scoped>\n",
       "    .dataframe tbody tr th:only-of-type {\n",
       "        vertical-align: middle;\n",
       "    }\n",
       "\n",
       "    .dataframe tbody tr th {\n",
       "        vertical-align: top;\n",
       "    }\n",
       "\n",
       "    .dataframe thead th {\n",
       "        text-align: right;\n",
       "    }\n",
       "</style>\n",
       "<table border=\"1\" class=\"dataframe\">\n",
       "  <thead>\n",
       "    <tr style=\"text-align: right;\">\n",
       "      <th></th>\n",
       "      <th>6-12 months</th>\n",
       "      <th>12-18 months</th>\n",
       "      <th>18-24 months</th>\n",
       "      <th>24-30 months</th>\n",
       "      <th>30-36 months</th>\n",
       "      <th>3-4 years</th>\n",
       "    </tr>\n",
       "  </thead>\n",
       "  <tbody>\n",
       "    <tr>\n",
       "      <th>exp</th>\n",
       "      <td>90.629074</td>\n",
       "      <td>227.524225</td>\n",
       "      <td>269.744701</td>\n",
       "      <td>227.803565</td>\n",
       "      <td>147.910672</td>\n",
       "      <td>129.509378</td>\n",
       "    </tr>\n",
       "    <tr>\n",
       "      <th>combined.</th>\n",
       "      <td>0.000000</td>\n",
       "      <td>0.000000</td>\n",
       "      <td>0.000000</td>\n",
       "      <td>0.000000</td>\n",
       "      <td>0.000000</td>\n",
       "      <td>0.000000</td>\n",
       "    </tr>\n",
       "    <tr>\n",
       "      <th>power-law</th>\n",
       "      <td>41.196094</td>\n",
       "      <td>72.454740</td>\n",
       "      <td>45.779063</td>\n",
       "      <td>41.871776</td>\n",
       "      <td>18.199242</td>\n",
       "      <td>16.733624</td>\n",
       "    </tr>\n",
       "  </tbody>\n",
       "</table>\n",
       "</div>"
      ],
      "text/plain": [
       "           6-12 months  12-18 months  18-24 months  24-30 months  \\\n",
       "exp          90.629074    227.524225    269.744701    227.803565   \n",
       "combined.     0.000000      0.000000      0.000000      0.000000   \n",
       "power-law    41.196094     72.454740     45.779063     41.871776   \n",
       "\n",
       "           30-36 months   3-4 years  \n",
       "exp          147.910672  129.509378  \n",
       "combined.      0.000000    0.000000  \n",
       "power-law     18.199242   16.733624  "
      ]
     },
     "execution_count": 14,
     "metadata": {},
     "output_type": "execute_result"
    }
   ],
   "source": [
    "delta_AICcs = AICcs.T - np.repeat(np.min(AICcs.T.values, axis=1),3).reshape(len(labels),3)\n",
    "delta_AICcs = delta_AICcs.T\n",
    "delta_AICcs"
   ]
  },
  {
   "cell_type": "markdown",
   "metadata": {},
   "source": [
    "### relative likelihood"
   ]
  },
  {
   "cell_type": "code",
   "execution_count": 15,
   "metadata": {
    "ExecuteTime": {
     "end_time": "2019-09-25T04:13:48.444598Z",
     "start_time": "2019-09-25T04:13:48.364238Z"
    }
   },
   "outputs": [
    {
     "data": {
      "text/html": [
       "<div>\n",
       "<style scoped>\n",
       "    .dataframe tbody tr th:only-of-type {\n",
       "        vertical-align: middle;\n",
       "    }\n",
       "\n",
       "    .dataframe tbody tr th {\n",
       "        vertical-align: top;\n",
       "    }\n",
       "\n",
       "    .dataframe thead th {\n",
       "        text-align: right;\n",
       "    }\n",
       "</style>\n",
       "<table border=\"1\" class=\"dataframe\">\n",
       "  <thead>\n",
       "    <tr style=\"text-align: right;\">\n",
       "      <th></th>\n",
       "      <th>6-12 months</th>\n",
       "      <th>12-18 months</th>\n",
       "      <th>18-24 months</th>\n",
       "      <th>24-30 months</th>\n",
       "      <th>30-36 months</th>\n",
       "      <th>3-4 years</th>\n",
       "    </tr>\n",
       "  </thead>\n",
       "  <tbody>\n",
       "    <tr>\n",
       "      <th>exp</th>\n",
       "      <td>2.090002e-20</td>\n",
       "      <td>3.924119e-50</td>\n",
       "      <td>2.664910e-59</td>\n",
       "      <td>3.412593e-50</td>\n",
       "      <td>7.613873e-33</td>\n",
       "      <td>7.540425e-29</td>\n",
       "    </tr>\n",
       "    <tr>\n",
       "      <th>combined.</th>\n",
       "      <td>1.000000e+00</td>\n",
       "      <td>1.000000e+00</td>\n",
       "      <td>1.000000e+00</td>\n",
       "      <td>1.000000e+00</td>\n",
       "      <td>1.000000e+00</td>\n",
       "      <td>1.000000e+00</td>\n",
       "    </tr>\n",
       "    <tr>\n",
       "      <th>power-law</th>\n",
       "      <td>1.133396e-09</td>\n",
       "      <td>1.847792e-16</td>\n",
       "      <td>1.146048e-10</td>\n",
       "      <td>8.084616e-10</td>\n",
       "      <td>1.117082e-04</td>\n",
       "      <td>2.324554e-04</td>\n",
       "    </tr>\n",
       "  </tbody>\n",
       "</table>\n",
       "</div>"
      ],
      "text/plain": [
       "            6-12 months  12-18 months  18-24 months  24-30 months  \\\n",
       "exp        2.090002e-20  3.924119e-50  2.664910e-59  3.412593e-50   \n",
       "combined.  1.000000e+00  1.000000e+00  1.000000e+00  1.000000e+00   \n",
       "power-law  1.133396e-09  1.847792e-16  1.146048e-10  8.084616e-10   \n",
       "\n",
       "           30-36 months     3-4 years  \n",
       "exp        7.613873e-33  7.540425e-29  \n",
       "combined.  1.000000e+00  1.000000e+00  \n",
       "power-law  1.117082e-04  2.324554e-04  "
      ]
     },
     "execution_count": 15,
     "metadata": {},
     "output_type": "execute_result"
    }
   ],
   "source": [
    "relative_likelihoods = mf.relative_likelihood(delta_AICcs)\n",
    "relative_likelihoods"
   ]
  },
  {
   "cell_type": "markdown",
   "metadata": {},
   "source": [
    "### relative probability of models"
   ]
  },
  {
   "cell_type": "code",
   "execution_count": 16,
   "metadata": {
    "ExecuteTime": {
     "end_time": "2019-09-25T04:13:48.738909Z",
     "start_time": "2019-09-25T04:13:48.669797Z"
    }
   },
   "outputs": [
    {
     "data": {
      "text/html": [
       "<div>\n",
       "<style scoped>\n",
       "    .dataframe tbody tr th:only-of-type {\n",
       "        vertical-align: middle;\n",
       "    }\n",
       "\n",
       "    .dataframe tbody tr th {\n",
       "        vertical-align: top;\n",
       "    }\n",
       "\n",
       "    .dataframe thead th {\n",
       "        text-align: right;\n",
       "    }\n",
       "</style>\n",
       "<table border=\"1\" class=\"dataframe\">\n",
       "  <thead>\n",
       "    <tr style=\"text-align: right;\">\n",
       "      <th></th>\n",
       "      <th>6-12 months</th>\n",
       "      <th>12-18 months</th>\n",
       "      <th>18-24 months</th>\n",
       "      <th>24-30 months</th>\n",
       "      <th>30-36 months</th>\n",
       "      <th>3-4 years</th>\n",
       "    </tr>\n",
       "  </thead>\n",
       "  <tbody>\n",
       "    <tr>\n",
       "      <th>exp</th>\n",
       "      <td>2.090002e-20</td>\n",
       "      <td>3.924119e-50</td>\n",
       "      <td>2.664910e-59</td>\n",
       "      <td>3.412593e-50</td>\n",
       "      <td>7.613022e-33</td>\n",
       "      <td>7.538672e-29</td>\n",
       "    </tr>\n",
       "    <tr>\n",
       "      <th>combined.</th>\n",
       "      <td>1.000000e+00</td>\n",
       "      <td>1.000000e+00</td>\n",
       "      <td>1.000000e+00</td>\n",
       "      <td>1.000000e+00</td>\n",
       "      <td>9.998883e-01</td>\n",
       "      <td>9.997676e-01</td>\n",
       "    </tr>\n",
       "    <tr>\n",
       "      <th>power-law</th>\n",
       "      <td>1.133396e-09</td>\n",
       "      <td>1.847792e-16</td>\n",
       "      <td>1.146048e-10</td>\n",
       "      <td>8.084616e-10</td>\n",
       "      <td>1.116957e-04</td>\n",
       "      <td>2.324014e-04</td>\n",
       "    </tr>\n",
       "  </tbody>\n",
       "</table>\n",
       "</div>"
      ],
      "text/plain": [
       "            6-12 months  12-18 months  18-24 months  24-30 months  \\\n",
       "exp        2.090002e-20  3.924119e-50  2.664910e-59  3.412593e-50   \n",
       "combined.  1.000000e+00  1.000000e+00  1.000000e+00  1.000000e+00   \n",
       "power-law  1.133396e-09  1.847792e-16  1.146048e-10  8.084616e-10   \n",
       "\n",
       "           30-36 months     3-4 years  \n",
       "exp        7.613022e-33  7.538672e-29  \n",
       "combined.  9.998883e-01  9.997676e-01  \n",
       "power-law  1.116957e-04  2.324014e-04  "
      ]
     },
     "execution_count": 16,
     "metadata": {},
     "output_type": "execute_result"
    }
   ],
   "source": [
    "prob_models = mf.Prob_model_Given_data_and_models(relative_likelihoods)\n",
    "prob_models"
   ]
  },
  {
   "cell_type": "markdown",
   "metadata": {},
   "source": [
    "#### Join tables"
   ]
  },
  {
   "cell_type": "code",
   "execution_count": 17,
   "metadata": {
    "ExecuteTime": {
     "end_time": "2019-09-25T04:13:49.007314Z",
     "start_time": "2019-09-25T04:13:48.950894Z"
    }
   },
   "outputs": [],
   "source": [
    "AICcs['superlabel'] = 'AICc'\n",
    "relative_likelihoods['superlabel'] = 'Relative likelihood'\n",
    "R2['superlabel'] = '$r^2$'\n",
    "prob_models['superlabel'] = 'Relative probability'"
   ]
  },
  {
   "cell_type": "code",
   "execution_count": 18,
   "metadata": {
    "ExecuteTime": {
     "end_time": "2019-09-25T04:13:49.218695Z",
     "start_time": "2019-09-25T04:13:49.121113Z"
    }
   },
   "outputs": [
    {
     "data": {
      "text/html": [
       "<div>\n",
       "<style scoped>\n",
       "    .dataframe tbody tr th:only-of-type {\n",
       "        vertical-align: middle;\n",
       "    }\n",
       "\n",
       "    .dataframe tbody tr th {\n",
       "        vertical-align: top;\n",
       "    }\n",
       "\n",
       "    .dataframe thead th {\n",
       "        text-align: right;\n",
       "    }\n",
       "</style>\n",
       "<table border=\"1\" class=\"dataframe\">\n",
       "  <thead>\n",
       "    <tr style=\"text-align: right;\">\n",
       "      <th></th>\n",
       "      <th></th>\n",
       "      <th>6-12 months</th>\n",
       "      <th>12-18 months</th>\n",
       "      <th>18-24 months</th>\n",
       "      <th>24-30 months</th>\n",
       "      <th>30-36 months</th>\n",
       "      <th>3-4 years</th>\n",
       "    </tr>\n",
       "    <tr>\n",
       "      <th>superlabel</th>\n",
       "      <th></th>\n",
       "      <th></th>\n",
       "      <th></th>\n",
       "      <th></th>\n",
       "      <th></th>\n",
       "      <th></th>\n",
       "      <th></th>\n",
       "    </tr>\n",
       "  </thead>\n",
       "  <tbody>\n",
       "    <tr>\n",
       "      <th rowspan=\"3\" valign=\"top\">AICc</th>\n",
       "      <th>exp</th>\n",
       "      <td>-573.66</td>\n",
       "      <td>-516.602</td>\n",
       "      <td>-436.463</td>\n",
       "      <td>-385.044</td>\n",
       "      <td>-366.593</td>\n",
       "      <td>-339.367</td>\n",
       "    </tr>\n",
       "    <tr>\n",
       "      <th>combined.</th>\n",
       "      <td>-664.289</td>\n",
       "      <td>-744.126</td>\n",
       "      <td>-706.208</td>\n",
       "      <td>-612.848</td>\n",
       "      <td>-514.504</td>\n",
       "      <td>-468.876</td>\n",
       "    </tr>\n",
       "    <tr>\n",
       "      <th>power-law</th>\n",
       "      <td>-623.093</td>\n",
       "      <td>-671.671</td>\n",
       "      <td>-660.428</td>\n",
       "      <td>-570.976</td>\n",
       "      <td>-496.305</td>\n",
       "      <td>-452.143</td>\n",
       "    </tr>\n",
       "    <tr>\n",
       "      <th rowspan=\"3\" valign=\"top\">$r^2$</th>\n",
       "      <th>exp</th>\n",
       "      <td>0.983</td>\n",
       "      <td>0.981</td>\n",
       "      <td>0.972</td>\n",
       "      <td>0.96</td>\n",
       "      <td>0.957</td>\n",
       "      <td>0.947</td>\n",
       "    </tr>\n",
       "    <tr>\n",
       "      <th>combined</th>\n",
       "      <td>0.994</td>\n",
       "      <td>0.998</td>\n",
       "      <td>0.998</td>\n",
       "      <td>0.996</td>\n",
       "      <td>0.991</td>\n",
       "      <td>0.986</td>\n",
       "    </tr>\n",
       "    <tr>\n",
       "      <th>power-law</th>\n",
       "      <td>0.99</td>\n",
       "      <td>0.996</td>\n",
       "      <td>0.997</td>\n",
       "      <td>0.994</td>\n",
       "      <td>0.988</td>\n",
       "      <td>0.983</td>\n",
       "    </tr>\n",
       "    <tr>\n",
       "      <th rowspan=\"3\" valign=\"top\">Relative likelihood</th>\n",
       "      <th>exp</th>\n",
       "      <td>&lt;0.001</td>\n",
       "      <td>&lt;0.001</td>\n",
       "      <td>&lt;0.001</td>\n",
       "      <td>&lt;0.001</td>\n",
       "      <td>&lt;0.001</td>\n",
       "      <td>&lt;0.001</td>\n",
       "    </tr>\n",
       "    <tr>\n",
       "      <th>combined.</th>\n",
       "      <td>&gt;0.999</td>\n",
       "      <td>&gt;0.999</td>\n",
       "      <td>&gt;0.999</td>\n",
       "      <td>&gt;0.999</td>\n",
       "      <td>&gt;0.999</td>\n",
       "      <td>&gt;0.999</td>\n",
       "    </tr>\n",
       "    <tr>\n",
       "      <th>power-law</th>\n",
       "      <td>&lt;0.001</td>\n",
       "      <td>&lt;0.001</td>\n",
       "      <td>&lt;0.001</td>\n",
       "      <td>&lt;0.001</td>\n",
       "      <td>&lt;0.001</td>\n",
       "      <td>&lt;0.001</td>\n",
       "    </tr>\n",
       "    <tr>\n",
       "      <th rowspan=\"3\" valign=\"top\">Relative probability</th>\n",
       "      <th>exp</th>\n",
       "      <td>&lt;0.001</td>\n",
       "      <td>&lt;0.001</td>\n",
       "      <td>&lt;0.001</td>\n",
       "      <td>&lt;0.001</td>\n",
       "      <td>&lt;0.001</td>\n",
       "      <td>&lt;0.001</td>\n",
       "    </tr>\n",
       "    <tr>\n",
       "      <th>combined.</th>\n",
       "      <td>&gt;0.999</td>\n",
       "      <td>&gt;0.999</td>\n",
       "      <td>&gt;0.999</td>\n",
       "      <td>&gt;0.999</td>\n",
       "      <td>&gt;0.999</td>\n",
       "      <td>&gt;0.999</td>\n",
       "    </tr>\n",
       "    <tr>\n",
       "      <th>power-law</th>\n",
       "      <td>&lt;0.001</td>\n",
       "      <td>&lt;0.001</td>\n",
       "      <td>&lt;0.001</td>\n",
       "      <td>&lt;0.001</td>\n",
       "      <td>&lt;0.001</td>\n",
       "      <td>&lt;0.001</td>\n",
       "    </tr>\n",
       "  </tbody>\n",
       "</table>\n",
       "</div>"
      ],
      "text/plain": [
       "                               6-12 months 12-18 months 18-24 months  \\\n",
       "superlabel                                                             \n",
       "AICc                 exp           -573.66     -516.602     -436.463   \n",
       "                     combined.    -664.289     -744.126     -706.208   \n",
       "                     power-law    -623.093     -671.671     -660.428   \n",
       "$r^2$                exp             0.983        0.981        0.972   \n",
       "                     combined        0.994        0.998        0.998   \n",
       "                     power-law        0.99        0.996        0.997   \n",
       "Relative likelihood  exp            <0.001       <0.001       <0.001   \n",
       "                     combined.      >0.999       >0.999       >0.999   \n",
       "                     power-law      <0.001       <0.001       <0.001   \n",
       "Relative probability exp            <0.001       <0.001       <0.001   \n",
       "                     combined.      >0.999       >0.999       >0.999   \n",
       "                     power-law      <0.001       <0.001       <0.001   \n",
       "\n",
       "                               24-30 months 30-36 months 3-4 years  \n",
       "superlabel                                                          \n",
       "AICc                 exp           -385.044     -366.593  -339.367  \n",
       "                     combined.     -612.848     -514.504  -468.876  \n",
       "                     power-law     -570.976     -496.305  -452.143  \n",
       "$r^2$                exp               0.96        0.957     0.947  \n",
       "                     combined         0.996        0.991     0.986  \n",
       "                     power-law        0.994        0.988     0.983  \n",
       "Relative likelihood  exp             <0.001       <0.001    <0.001  \n",
       "                     combined.       >0.999       >0.999    >0.999  \n",
       "                     power-law       <0.001       <0.001    <0.001  \n",
       "Relative probability exp             <0.001       <0.001    <0.001  \n",
       "                     combined.       >0.999       >0.999    >0.999  \n",
       "                     power-law       <0.001       <0.001    <0.001  "
      ]
     },
     "execution_count": 18,
     "metadata": {},
     "output_type": "execute_result"
    }
   ],
   "source": [
    "results_table = pd.concat([\n",
    "    AICcs,\n",
    "    R2,\n",
    "    relative_likelihoods,\n",
    "    prob_models\n",
    "]).round(3).replace(0, '<0.001').replace(1, '>0.999')\n",
    "results_table[''] = results_table.index\n",
    "results_table.set_index(['superlabel', ''], inplace=True)\n",
    "results_table"
   ]
  },
  {
   "cell_type": "code",
   "execution_count": 19,
   "metadata": {
    "ExecuteTime": {
     "end_time": "2019-09-25T04:13:49.375121Z",
     "start_time": "2019-09-25T04:13:49.292614Z"
    }
   },
   "outputs": [
    {
     "name": "stdout",
     "output_type": "stream",
     "text": [
      "\\begin{tabular}{llllllll}\n",
      "\\toprule\n",
      "                     &           & 6-12 months & 12-18 months & 18-24 months & 24-30 months & 30-36 months & 3-4 years \\\\\n",
      "\\midrule\n",
      "\\textbf{} & {} &             &              &              &              &              &           \\\\\n",
      "\\midrule\n",
      "\\midrule\n",
      "\\textbf{AICc} & \\textbf{exp} &     -573.66 &     -516.602 &     -436.463 &     -385.044 &     -366.593 &  -339.367 \\\\\n",
      "                     & \\textbf{combined.} &    -664.289 &     -744.126 &     -706.208 &     -612.848 &     -514.504 &  -468.876 \\\\\n",
      "                     & \\textbf{power-law} &    -623.093 &     -671.671 &     -660.428 &     -570.976 &     -496.305 &  -452.143 \\\\\n",
      "\\midrule\n",
      "\\textbf{$r^2$} & \\textbf{exp} &       0.983 &        0.981 &        0.972 &         0.96 &        0.957 &     0.947 \\\\\n",
      "                     & \\textbf{combined} &       0.994 &        0.998 &        0.998 &        0.996 &        0.991 &     0.986 \\\\\n",
      "                     & \\textbf{power-law} &        0.99 &        0.996 &        0.997 &        0.994 &        0.988 &     0.983 \\\\\n",
      "\\midrule\n",
      "\\textbf{Relative likelihood} & \\textbf{exp} &      $<$0.001 &       $<$0.001 &       $<$0.001 &       $<$0.001 &       $<$0.001 &    $<$0.001 \\\\\n",
      "                     & \\textbf{combined.} &      $>$0.999 &       $>$0.999 &       $>$0.999 &       $>$0.999 &       $>$0.999 &    $>$0.999 \\\\\n",
      "                     & \\textbf{power-law} &      $<$0.001 &       $<$0.001 &       $<$0.001 &       $<$0.001 &       $<$0.001 &    $<$0.001 \\\\\n",
      "\\midrule\n",
      "\\textbf{Relative probability} & \\textbf{exp} &      $<$0.001 &       $<$0.001 &       $<$0.001 &       $<$0.001 &       $<$0.001 &    $<$0.001 \\\\\n",
      "                     & \\textbf{combined.} &      $>$0.999 &       $>$0.999 &       $>$0.999 &       $>$0.999 &       $>$0.999 &    $>$0.999 \\\\\n",
      "                     & \\textbf{power-law} &      $<$0.001 &       $<$0.001 &       $<$0.001 &       $<$0.001 &       $<$0.001 &    $<$0.001 \\\\\n",
      "\\bottomrule\n",
      "\\end{tabular}\n",
      "\n"
     ]
    }
   ],
   "source": [
    "results_string = results_table.to_latex(bold_rows=True, escape=False)\\\n",
    "      .replace('>', '$>$')\\\n",
    "      .replace('<', '$<$')\\\n",
    "      .replace('superlabel', '')\\\n",
    "     .replace('\\n\\\\textbf', '\\n\\midrule\\n\\\\textbf')\n",
    "print(results_string)"
   ]
  },
  {
   "cell_type": "code",
   "execution_count": null,
   "metadata": {},
   "outputs": [],
   "source": []
  },
  {
   "cell_type": "code",
   "execution_count": null,
   "metadata": {},
   "outputs": [],
   "source": []
  },
  {
   "cell_type": "code",
   "execution_count": null,
   "metadata": {},
   "outputs": [],
   "source": []
  },
  {
   "cell_type": "code",
   "execution_count": null,
   "metadata": {},
   "outputs": [],
   "source": []
  },
  {
   "cell_type": "code",
   "execution_count": null,
   "metadata": {},
   "outputs": [],
   "source": []
  }
 ],
 "metadata": {
  "kernelspec": {
   "display_name": "Python 3",
   "language": "python",
   "name": "python3"
  },
  "language_info": {
   "codemirror_mode": {
    "name": "ipython",
    "version": 3
   },
   "file_extension": ".py",
   "mimetype": "text/x-python",
   "name": "python",
   "nbconvert_exporter": "python",
   "pygments_lexer": "ipython3",
   "version": "3.6.7"
  }
 },
 "nbformat": 4,
 "nbformat_minor": 2
}
