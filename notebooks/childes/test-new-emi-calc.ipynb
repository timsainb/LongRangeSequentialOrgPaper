{
 "cells": [
  {
   "cell_type": "code",
   "execution_count": 1,
   "metadata": {},
   "outputs": [],
   "source": [
    "import numpy as np"
   ]
  },
  {
   "cell_type": "code",
   "execution_count": 2,
   "metadata": {},
   "outputs": [],
   "source": [
    "sequences = np.load('childes_test_seqs.npy', allow_pickle=True)"
   ]
  },
  {
   "cell_type": "code",
   "execution_count": 3,
   "metadata": {},
   "outputs": [
    {
     "name": "stdout",
     "output_type": "stream",
     "text": [
      "more cookie more cookie more juice Fraser Fraser Fraser Fraser yeah  a fly fly Mommy telephone my telephone Mommy no man man more cookie block broke there I did it there there Fraser baby Mommy read a stool Fraser Fraser more cookie more cookie little little little little milk milk milk milk that Fraser water oh Fraser bye water Fraser water Fraser water that coffee Fraser coffee down down cookie Mommy Mommy a fly read the puzzle read the puzzle read the puzzle read the puzzle read the puzzle read the puzzle read the puzzle Racketyboom hat m water bottle water there Fraser hat oh Fraser hat oh Fraser hat oh Fraser hat Fraser hat no eye that that soldier soldier that that Fraser hat Eve find it that that man Eve down that busy busy man a pencil man a pencil man pencil Eve pencil Eve pencil Eve pencil man a pencil pencil man see ya read read Clip_clop shoe shoe shoe shoe shoe shoe shoe my my my my Mommy book Racketyboom Racketyboom Racketyboom Racketyboom read Racketyboom Racketyboom Racketyboom Racketyboom Racketyboom Racketyboom Racketyboom read read choo_choo Mommy Mommy Mommy Mommy choo_choo choo_choo choo_choo choo_choo mi milk cup\n"
     ]
    }
   ],
   "source": [
    "print(' '.join(sequences[0][:200]))"
   ]
  },
  {
   "cell_type": "code",
   "execution_count": 41,
   "metadata": {},
   "outputs": [
    {
     "data": {
      "text/plain": [
       "(array([153.,  17.,   2.,   5.,   0.,   2.,   0.,   0.,   0.,   1.]),\n",
       " array([   0. ,  131.8,  263.6,  395.4,  527.2,  659. ,  790.8,  922.6,\n",
       "        1054.4, 1186.2, 1318. ]),\n",
       " <a list of 10 Patch objects>)"
      ]
     },
     "execution_count": 41,
     "metadata": {},
     "output_type": "execute_result"
    },
    {
     "data": {
      "image/png": "[encoded data removed]",
      "text/plain": [
       "<Figure size 432x288 with 1 Axes>"
      ]
     },
     "metadata": {
      "needs_background": "light"
     },
     "output_type": "display_data"
    }
   ],
   "source": [
    "plt.hist([len(i) for i in sequences])"
   ]
  },
  {
   "cell_type": "code",
   "execution_count": 4,
   "metadata": {},
   "outputs": [
    {
     "name": "stderr",
     "output_type": "stream",
     "text": [
      "/mnt/cube/tsainbur/conda_envs/tpy3/lib/python3.6/site-packages/sklearn/utils/deprecation.py:144: FutureWarning: The sklearn.metrics.cluster.supervised module is  deprecated in version 0.22 and will be removed in version 0.24. The corresponding classes / functions should instead be imported from sklearn.metrics.cluster. Anything that cannot be imported from sklearn.metrics.cluster is now part of the private API.\n",
      "  warnings.warn(message, FutureWarning)\n",
      "/mnt/cube/tsainbur/conda_envs/tpy3/lib/python3.6/site-packages/tqdm/autonotebook/__init__.py:14: TqdmExperimentalWarning: Using `tqdm.autonotebook.tqdm` in notebook mode. Use `tqdm.tqdm` instead to force console mode (e.g. in jupyter console)\n",
      "  \" (e.g. in jupyter console)\", TqdmExperimentalWarning)\n"
     ]
    }
   ],
   "source": [
    "from sklearn.metrics.cluster.supervised import contingency_matrix\n",
    "import numpy as np\n",
    "from sklearn.metrics import (\n",
    "    mutual_info_score,\n",
    "    normalized_mutual_info_score,\n",
    "    adjusted_mutual_info_score,\n",
    ")\n",
    "from childes_mi.information_theory.expected_mutual_information import emi_parallel\n",
    "#from .emi._expected_mutual_info_fast import expected_mutual_information\n",
    "from childes_mi.information_theory.emi._expected_mutual_info_fast_sklearn import expected_mutual_information\n",
    "\n",
    "\n",
    "\n",
    "\n",
    "def adjusted_mutual_information(labels_true, labels_pred, n_jobs = -1, emi_method=\"parallel\", use_cython=True,\n",
    "                               average_method='arithmetic'):\n",
    "    \"\"\"Adjusted Mutual Information.\n",
    "    Adjusted Mutual Information (AMI) is an adjustment of the Mutual\n",
    "    Information (MI) score to account for chance. It accounts for the fact that\n",
    "    the MI is generally higher for two clusterings with a larger number of\n",
    "    clusters, regardless of whether there is actually more information shared.\n",
    "    For two clusterings :math:`U` and :math:`V`, the AMI is given as::\n",
    "        AMI(U, V) = [MI(U, V) - E(MI(U, V))] / [avg(H(U), H(V)) - E(MI(U, V))]\n",
    "    \n",
    "    \"\"\"\n",
    "    n_samples = labels_true.shape[0]\n",
    "    classes = np.unique(labels_true)\n",
    "    clusters = np.unique(labels_pred)\n",
    "    # Special limit cases: no clustering since the data is not split.\n",
    "    # This is a perfect match hence return 1.0.\n",
    "    if (classes.shape[0] == clusters.shape[0] == 1 or\n",
    "            classes.shape[0] == clusters.shape[0] == 0):\n",
    "        return 1.0\n",
    "    contingency = contingency_matrix(labels_true, labels_pred, sparse=True)\n",
    "    contingency = contingency.astype(np.float64,\n",
    "                                     **_astype_copy_false(contingency))\n",
    "    # Calculate the MI for the two clusterings\n",
    "    mi = mutual_info_score(labels_true, labels_pred,\n",
    "                           contingency=contingency)\n",
    "    # Calculate the expected value for the mutual information\n",
    "    if emi_method == \"parallel\":\n",
    "        emi = emi_parallel(contingency, n_samples, use_cython = use_cython, n_jobs=n_jobs)\n",
    "    else:\n",
    "        emi = expected_mutual_information(contingency, n_samples)\n",
    "    # Calculate entropy for each labeling\n",
    "    h_true, h_pred = entropy(labels_true), entropy(labels_pred)\n",
    "    normalizer = _generalized_average(h_true, h_pred, average_method)\n",
    "    denominator = normalizer - emi\n",
    "    # Avoid 0.0 / 0.0 when expectation equals maximum, i.e a perfect match.\n",
    "    # normalizer should always be >= emi, but because of floating-point\n",
    "    # representation, sometimes emi is slightly larger. Correct this\n",
    "    # by preserving the sign.\n",
    "    if denominator < 0:\n",
    "        denominator = min(denominator, -np.finfo('float64').eps)\n",
    "    else:\n",
    "        denominator = max(denominator, np.finfo('float64').eps)\n",
    "    ami = (mi - emi) / denominator\n",
    "    return ami, emi\n",
    "\n",
    "\n",
    "def entropy(labels):\n",
    "    \"\"\"Calculates the entropy for a labeling.\n",
    "    Parameters\n",
    "    ----------\n",
    "    labels : int array, shape = [n_samples]\n",
    "        The labels\n",
    "    Notes\n",
    "    -----\n",
    "    The logarithm used is the natural logarithm (base-e).\n",
    "    \"\"\"\n",
    "    if len(labels) == 0:\n",
    "        return 1.0\n",
    "    label_idx = np.unique(labels, return_inverse=True)[1]\n",
    "    pi = np.bincount(label_idx).astype(np.float64)\n",
    "    pi = pi[pi > 0]\n",
    "    pi_sum = np.sum(pi)\n",
    "    # log(a / b) should be calculated as log(a) - log(b) for\n",
    "    # possible loss of precision\n",
    "    return -np.sum((pi / pi_sum) * (np.log(pi) - np.log(pi_sum)))\n",
    "\n",
    "def _generalized_average(U, V, average_method=\"arithmetic\"):\n",
    "    \"\"\"Return a particular mean of two numbers.\"\"\"\n",
    "    if average_method == \"min\":\n",
    "        return min(U, V)\n",
    "    elif average_method == \"geometric\":\n",
    "        return np.sqrt(U * V)\n",
    "    elif average_method == \"arithmetic\":\n",
    "        return np.mean([U, V])\n",
    "    elif average_method == \"max\":\n",
    "        return max(U, V)\n",
    "    else:\n",
    "        raise ValueError(\"'average_method' must be 'min', 'geometric', \"\n",
    "                         \"'arithmetic', or 'max'\")\n",
    "\n",
    "\n",
    "def _parse_version(version_string):\n",
    "    version = []\n",
    "    for x in version_string.split('.'):\n",
    "        try:\n",
    "            version.append(int(x))\n",
    "        except ValueError:\n",
    "            # x may be of the form dev-1ea1592\n",
    "            version.append(x)\n",
    "    return tuple(version)\n",
    "\n",
    "import scipy\n",
    "sp_version = _parse_version(scipy.__version__)\n",
    "\n",
    "def _astype_copy_false(X):\n",
    "    \"\"\"Returns the copy=False parameter for\n",
    "    {ndarray, csr_matrix, csc_matrix}.astype when possible,\n",
    "    otherwise don't specify\n",
    "    \"\"\"\n",
    "    if sp_version >= (1, 1) or not sp.issparse(X):\n",
    "        return {'copy': False}\n",
    "    else:\n",
    "        return {}"
   ]
  },
  {
   "cell_type": "code",
   "execution_count": 5,
   "metadata": {},
   "outputs": [],
   "source": [
    "# make a unique contingency matrix for each sequence"
   ]
  },
  {
   "cell_type": "code",
   "execution_count": 34,
   "metadata": {},
   "outputs": [],
   "source": [
    "def MI_from_distributions(\n",
    "    sequences,\n",
    "    dist,\n",
    "    estimate=False,\n",
    "    unclustered_element=None,\n",
    "    use_sklearn=True,\n",
    "    n_jobs = -1,\n",
    "    mi_estimation = \"grassberger\", # \"adjusted_mi\", None\n",
    "    shuffle=False,\n",
    "    **mi_kwargs\n",
    "):\n",
    "    \n",
    "    \n",
    "    np.random.seed()  # set seed\n",
    "    # create distributions\n",
    "    if np.sum([len(seq) > dist for seq in sequences]) == 0:\n",
    "        return (np.nan, np.nan)\n",
    "\n",
    "    distribution_a = np.concatenate(\n",
    "        [seq[dist:] for seq in sequences if len(seq) > dist]\n",
    "    )\n",
    "    \n",
    "    distribution_b = np.concatenate(\n",
    "        [seq[:-dist] for seq in sequences if len(seq) > dist]\n",
    "    )\n",
    "    \n",
    "    if shuffle:\n",
    "        distribution_a = np.random.permutation(distribution_a)\n",
    "        distribution_b = np.random.permutation(distribution_b)\n",
    "        \n",
    "    # mask unclustered so they are not considered in MI\n",
    "    if unclustered_element is not None:\n",
    "        mask = (distribution_a == unclustered_element) | (\n",
    "            distribution_b == unclustered_element\n",
    "        )\n",
    "        distribution_a = distribution_a[mask == False]\n",
    "        distribution_b = distribution_b[mask == False]\n",
    "\n",
    "    # calculate MI\n",
    "\n",
    "    if mi_estimation == \"grassberger\":\n",
    "        # See Grassberger, P. Entropy estimates from insufficient samplings. arXiv 2003, arXiv:0307138\n",
    "        return est_mutual_info_p(distribution_a, distribution_b, **mi_kwargs)\n",
    "    elif mi_estimation == \"adjusted_mi\":\n",
    "        # See Vinh, Epps, and Bailey, (2010). Information Theoretic Measures for Clusterings Comparison: Variants, Properties, Normalization and Correction for Chance, JMLR\n",
    "        return adjusted_mutual_information(distribution_a, distribution_b, n_jobs=n_jobs, **mi_kwargs)\n",
    "    elif mi_estimation == \"adjusted_mi_sklearn\":\n",
    "        # See Vinh, Epps, and Bailey, (2010). Information Theoretic Measures for Clusterings Comparison: Variants, Properties, Normalization and Correction for Chance, JMLR\n",
    "        #return (adjusted_mutual_info_score(distribution_a, distribution_b), 0)\n",
    "        return adjusted_mutual_information(distribution_a, distribution_b, emi_method=\"sklearn\", **mi_kwargs)\n",
    "    elif mi_estimation is None:\n",
    "        return (mutual_info_score(distribution_a, distribution_b, **mi_kwargs), 0)\n",
    "    else:\n",
    "        raise ValueError(\"MI estimator '{}' is not implemented\".format(mi_estimation))\n"
   ]
  },
  {
   "cell_type": "code",
   "execution_count": 43,
   "metadata": {},
   "outputs": [],
   "source": [
    "def sequential_mutual_information(\n",
    "    sequences,\n",
    "    distances,\n",
    "    n_jobs=1,\n",
    "    verbosity=5,\n",
    "    n_shuff_repeats=1,\n",
    "    estimate=True,\n",
    "    disable_tqdm=False,\n",
    "    prefer=\"threads\",  # is None better here?\n",
    "    mi_estimation = \"grassberger\",\n",
    "    unclustered_element=None,\n",
    "    **mi_kwargs\n",
    "):\n",
    "    \"\"\"\n",
    "    Compute mutual information as a function of distance between sequences\n",
    "    if n_jobs > 1,  will run in parallel\n",
    "    \"\"\"\n",
    "    # convert to numeric for faster computation\n",
    "    unique_elements = np.unique(np.concatenate(sequences))\n",
    "    n_unique = len(unique_elements)\n",
    "    seq_dict = {j: i for i, j in enumerate(unique_elements)}\n",
    "    if n_unique < 256:\n",
    "        sequences = [\n",
    "            np.array([seq_dict[i] for i in seq]).astype(\"uint8\") for seq in sequences\n",
    "        ]\n",
    "    elif n_unique < 65535:\n",
    "        sequences = [\n",
    "            np.array([seq_dict[i] for i in seq]).astype(\"uint16\") for seq in sequences\n",
    "        ]\n",
    "    else:\n",
    "        sequences = [\n",
    "            np.array([seq_dict[i] for i in seq]).astype(\"uint32\") for seq in sequences\n",
    "        ]\n",
    "\n",
    "    if unclustered_element is not None:\n",
    "        unclustered_element = seq_dict[unclustered_element]\n",
    "        print(unclustered_element)\n",
    "    else:\n",
    "        unclustered_element = None\n",
    "\n",
    "\n",
    "    if mi_estimation == \"adjusted_mi\":\n",
    "        # because parallelization occurs within the function\n",
    "        _n_jobs = copy.deepcopy(n_jobs)\n",
    "        n_jobs = 1\n",
    "    else:\n",
    "        _n_jobs = 1\n",
    "    # compute MI\n",
    "    if n_jobs == 1:\n",
    "        MI = [\n",
    "            MI_from_distributions(\n",
    "                sequences,\n",
    "                dist,\n",
    "                estimate=estimate,\n",
    "                unclustered_element=unclustered_element,\n",
    "                mi_estimation=mi_estimation,\n",
    "                **mi_kwargs\n",
    "            )\n",
    "            for dist_i, dist in enumerate(\n",
    "                tqdm(distances, leave=False, disable=disable_tqdm)\n",
    "            )\n",
    "        ]\n",
    "        distances_rep = np.repeat(distances, n_shuff_repeats)\n",
    "        shuff_MI = [\n",
    "            MI_from_distributions(\n",
    "                [np.random.permutation(i) for i in sequences],\n",
    "                dist,\n",
    "                estimate=estimate,\n",
    "                mi_estimation=mi_estimation,\n",
    "                **mi_kwargs\n",
    "            )\n",
    "            for dist_i, dist in enumerate(\n",
    "                tqdm(distances_rep, leave=False, disable=disable_tqdm)\n",
    "            )\n",
    "        ]\n",
    "\n",
    "        shuff_MI = np.reshape(shuff_MI, (len(distances), n_shuff_repeats, 2))\n",
    "        shuff_MI = np.mean(shuff_MI, axis=1)\n",
    "\n",
    "    else:\n",
    "        with Parallel(n_jobs=n_jobs, verbose=verbosity, prefer=prefer) as parallel:\n",
    "            MI = parallel(\n",
    "                delayed(MI_from_distributions)(\n",
    "                    sequences,\n",
    "                    dist,\n",
    "                    estimate=estimate,\n",
    "                    unclustered_element=unclustered_element,\n",
    "                    n_jobs = _n_jobs,\n",
    "                    mi_estimation=mi_estimation,\n",
    "                    **mi_kwargs\n",
    "                )\n",
    "                for dist_i, dist in enumerate(\n",
    "                    tqdm(distances, leave=False, disable=disable_tqdm)\n",
    "                )\n",
    "            )\n",
    "\n",
    "        with Parallel(n_jobs=n_jobs, verbose=verbosity, prefer=prefer) as parallel:\n",
    "            distances_rep = np.repeat(distances, n_shuff_repeats)\n",
    "            shuff_MI = parallel(\n",
    "                delayed(MI_from_distributions)(\n",
    "                    sequences,#[np.random.permutation(i) for i in sequences],\n",
    "                    dist,\n",
    "                    estimate=estimate,\n",
    "                    unclustered_element=unclustered_element,\n",
    "                    n_jobs = _n_jobs,\n",
    "                    shuffle=True,\n",
    "                    mi_estimation=mi_estimation,\n",
    "                    **mi_kwargs\n",
    "                )\n",
    "                for dist_i, dist in enumerate(\n",
    "                    tqdm(distances_rep, leave=False, disable=disable_tqdm)\n",
    "                )\n",
    "            )\n",
    "            shuff_MI = np.reshape(shuff_MI, (len(distances), n_shuff_repeats, 2))\n",
    "            shuff_MI = np.mean(shuff_MI, axis=1)\n",
    "\n",
    "    return np.array(MI).T, np.array(shuff_MI).T"
   ]
  },
  {
   "cell_type": "code",
   "execution_count": 44,
   "metadata": {},
   "outputs": [
    {
     "name": "stdout",
     "output_type": "stream",
     "text": [
      "[   1    2    3    4    5    6    7    8    9   10   11   12   13   14\n",
      "   15   16   17   18   19   20   21   22   23   24   26   27   28   29\n",
      "   30   32   33   34   36   37   39   41   43   44   46   48   50   53\n",
      "   55   57   60   62   65   68   71   74   77   80   83   87   91   95\n",
      "   99  103  107  112  117  122  127  132  138  144  150  157  163  170\n",
      "  178  185  193  202  210  219  228  238  248  259  270  282  294  306\n",
      "  319  333  347  362  378  394  411  428  446  466  485  506  528  550\n",
      "  574  598  624  651  678  707  738  769  802  836  872  909  948  988\n",
      " 1031 1075 1121 1168 1218 1270 1325 1381 1440 1502 1566 1633 1702 1775\n",
      " 1851 1930 2012 2098 2188 2281 2378 2480 2586 2696 2811 2931 3056 3187\n",
      " 3323 3465 3613 3767 3928 4096] 146\n"
     ]
    }
   ],
   "source": [
    "distances= np.unique(np.logspace(0,12, base=2, num = 200).astype('int'))\n",
    "print(distances, len(distances))\n",
    "mi_estimation = None"
   ]
  },
  {
   "cell_type": "code",
   "execution_count": 45,
   "metadata": {},
   "outputs": [],
   "source": [
    "import matplotlib.pyplot as plt"
   ]
  },
  {
   "cell_type": "code",
   "execution_count": 46,
   "metadata": {},
   "outputs": [],
   "source": [
    "from joblib import Parallel, delayed, parallel_backend\n",
    "from tqdm.autonotebook import tqdm"
   ]
  },
  {
   "cell_type": "code",
   "execution_count": 47,
   "metadata": {
    "scrolled": true
   },
   "outputs": [
    {
     "data": {
      "application/vnd.jupyter.widget-view+json": {
       "model_id": "",
       "version_major": 2,
       "version_minor": 0
      },
      "text/plain": [
       "HBox(children=(IntProgress(value=0, max=146), HTML(value='')))"
      ]
     },
     "metadata": {},
     "output_type": "display_data"
    },
    {
     "name": "stderr",
     "output_type": "stream",
     "text": [
      "[Parallel(n_jobs=-1)]: Using backend MultiprocessingBackend with 32 concurrent workers.\n",
      "[Parallel(n_jobs=-1)]: Done  23 out of 146 | elapsed:    0.1s remaining:    0.5s\n",
      "[Parallel(n_jobs=-1)]: Done  53 out of 146 | elapsed:    0.2s remaining:    0.3s\n"
     ]
    },
    {
     "name": "stdout",
     "output_type": "stream",
     "text": [
      "\r"
     ]
    },
    {
     "name": "stderr",
     "output_type": "stream",
     "text": [
      "[Parallel(n_jobs=-1)]: Done 146 out of 146 | elapsed:    0.3s finished\n"
     ]
    },
    {
     "data": {
      "application/vnd.jupyter.widget-view+json": {
       "model_id": "",
       "version_major": 2,
       "version_minor": 0
      },
      "text/plain": [
       "HBox(children=(IntProgress(value=0, max=146), HTML(value='')))"
      ]
     },
     "metadata": {},
     "output_type": "display_data"
    },
    {
     "name": "stderr",
     "output_type": "stream",
     "text": [
      "[Parallel(n_jobs=-1)]: Using backend MultiprocessingBackend with 32 concurrent workers.\n",
      "[Parallel(n_jobs=-1)]: Done  23 out of 146 | elapsed:    0.1s remaining:    0.5s\n",
      "[Parallel(n_jobs=-1)]: Done  53 out of 146 | elapsed:    0.2s remaining:    0.3s\n"
     ]
    },
    {
     "name": "stdout",
     "output_type": "stream",
     "text": [
      "\r"
     ]
    },
    {
     "name": "stderr",
     "output_type": "stream",
     "text": [
      "[Parallel(n_jobs=-1)]: Done 146 out of 146 | elapsed:    0.2s finished\n"
     ]
    }
   ],
   "source": [
    "with parallel_backend('multiprocessing'):\n",
    "\n",
    "    (MI, MI_var), (shuff_MI, shuff_MI_var) = sequential_mutual_information(\n",
    "            sequences, distances=distances, n_jobs=-1, mi_estimation=mi_estimation, prefer = None, verbosity=5\n",
    "    ) "
   ]
  },
  {
   "cell_type": "code",
   "execution_count": 48,
   "metadata": {},
   "outputs": [
    {
     "data": {
      "image/png": "[encoded data removed]",
      "text/plain": [
       "<Figure size 720x288 with 2 Axes>"
      ]
     },
     "metadata": {
      "needs_background": "light"
     },
     "output_type": "display_data"
    }
   ],
   "source": [
    "fig,axs = plt.subplots(ncols=2, figsize = (10,4))\n",
    "ax = axs[0]\n",
    "ax.scatter(distances, MI-shuff_MI)\n",
    "ax.plot(distances, MI-shuff_MI, alpha = 0)\n",
    "ax.set_yscale('log')\n",
    "ax.set_xscale('log')\n",
    "\n",
    "ax = axs[1]\n",
    "ax.scatter(distances, MI)\n",
    "ax.scatter(distances, shuff_MI)\n",
    "#ax.set_ylim([0,0.25])\n",
    "plt.show()"
   ]
  },
  {
   "cell_type": "code",
   "execution_count": null,
   "metadata": {},
   "outputs": [],
   "source": []
  }
 ],
 "metadata": {
  "kernelspec": {
   "display_name": "Python 3",
   "language": "python",
   "name": "python3"
  },
  "language_info": {
   "codemirror_mode": {
    "name": "ipython",
    "version": 3
   },
   "file_extension": ".py",
   "mimetype": "text/x-python",
   "name": "python",
   "nbconvert_exporter": "python",
   "pygments_lexer": "ipython3",
   "version": "3.6.7"
  }
 },
 "nbformat": 4,
 "nbformat_minor": 2
}
