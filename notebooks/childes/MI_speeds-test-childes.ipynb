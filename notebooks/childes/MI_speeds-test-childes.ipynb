{
 "cells": [
  {
   "cell_type": "code",
   "execution_count": 1,
   "metadata": {
    "ExecuteTime": {
     "end_time": "2020-01-12T01:12:54.000815Z",
     "start_time": "2020-01-12T01:12:53.884333Z"
    }
   },
   "outputs": [],
   "source": [
    "%load_ext autoreload\n",
    "%autoreload 2"
   ]
  },
  {
   "cell_type": "code",
   "execution_count": 2,
   "metadata": {
    "ExecuteTime": {
     "end_time": "2020-01-12T01:12:54.819957Z",
     "start_time": "2020-01-12T01:12:54.225966Z"
    }
   },
   "outputs": [],
   "source": [
    "from childes_mi.utils.paths import CHILDES_DFS, DATA_DIR\n",
    "from childes_mi.utils.general import flatten"
   ]
  },
  {
   "cell_type": "code",
   "execution_count": 3,
   "metadata": {
    "ExecuteTime": {
     "end_time": "2020-01-12T01:12:55.601445Z",
     "start_time": "2020-01-12T01:12:54.822961Z"
    }
   },
   "outputs": [
    {
     "name": "stderr",
     "output_type": "stream",
     "text": [
      "/mnt/cube/tsainbur/conda_envs/tpy3/lib/python3.6/site-packages/tqdm/autonotebook/__init__.py:14: TqdmExperimentalWarning: Using `tqdm.autonotebook.tqdm` in notebook mode. Use `tqdm.tqdm` instead to force console mode (e.g. in jupyter console)\n",
      "  \" (e.g. in jupyter console)\", TqdmExperimentalWarning)\n"
     ]
    }
   ],
   "source": [
    "import pandas as pd\n",
    "import numpy as np\n",
    "import matplotlib.pyplot as plt\n",
    "import pandas as pd\n",
    "from tqdm.autonotebook import tqdm"
   ]
  },
  {
   "cell_type": "code",
   "execution_count": 4,
   "metadata": {
    "ExecuteTime": {
     "end_time": "2020-01-12T01:12:58.348118Z",
     "start_time": "2020-01-12T01:12:55.604349Z"
    }
   },
   "outputs": [
    {
     "data": {
      "text/plain": [
       "2785"
      ]
     },
     "execution_count": 4,
     "metadata": {},
     "output_type": "execute_result"
    }
   ],
   "source": [
    "transcript_df = pd.read_pickle(CHILDES_DFS/'childes_df_subset.pickle')\n",
    "#transcript_df['dataset'] = [i[0].split('/')[11] for i in transcript_df.transcript_xml.values]\n",
    "len(transcript_df)"
   ]
  },
  {
   "cell_type": "code",
   "execution_count": 5,
   "metadata": {
    "ExecuteTime": {
     "end_time": "2020-01-12T01:12:58.380102Z",
     "start_time": "2020-01-12T01:12:58.351419Z"
    }
   },
   "outputs": [],
   "source": [
    "# mask for only a subset of corpuses\n",
    "possible_corpuses = [\n",
    "    # carterette is also transcribed in IPA\n",
    "    \"Carterette\",  # 1st, 3rd, 5th grade, adults, speech naturalistic speech in IPA https://childes.talkbank.org/access/Eng-NA/Carterette.html\n",
    "    \"Gillam\",  # normal subset, spontaneous storytelling 5-11y11m https://childes.talkbank.org/access/Clinical-MOR/Gillam.html\n",
    "    \"Braunwald\",  # single subject from 1-6yo talking to family https://childes.talkbank.org/access/Eng-NA/Braunwald.html\n",
    "    \"Brown\",  # 1y6m-5y1m, 3 subjects naturalistic talking to parents https://childes.talkbank.org/access/Eng-NA/Brown.html\n",
    "    \"EllisWeismer\",  # 2y6m - 5y6 naturalistic play-oriented talk with instructor # https://childes.talkbank.org/access/Clinical-MOR/EllisWeismer.html\n",
    "    \"Gleason\",  # 2;1 - 5;2 family interactions https://childes.talkbank.org/access/Eng-NA/Gleason.html\n",
    "    \"NH\",# Nicholas-NH,  # 1;0-4;0, videotaped play with parent https://childes.talkbank.org/access/Clinical-MOR/Nicholas/NH.html\n",
    "    \"Post\",  # 1;7-2;8 60m session with family and toys https://childes.talkbank.org/access/Eng-NA/Post.html\n",
    "    \"Normal\",  #  Rondal-Normal 3-12yo free play with mother and child https://childes.talkbank.org/access/Clinical-MOR/Normal /Normal.html\n",
    "]\n",
    "corpus_mask = [corpus in possible_corpuses for corpus in transcript_df.corpus.values]\n",
    "transcript_df = transcript_df[corpus_mask]"
   ]
  },
  {
   "cell_type": "code",
   "execution_count": 6,
   "metadata": {
    "ExecuteTime": {
     "end_time": "2020-01-12T01:12:58.518066Z",
     "start_time": "2020-01-12T01:12:58.382856Z"
    }
   },
   "outputs": [
    {
     "data": {
      "text/plain": [
       "2785"
      ]
     },
     "execution_count": 6,
     "metadata": {},
     "output_type": "execute_result"
    }
   ],
   "source": [
    "# mask for a subset of roles\n",
    "possible_roles = ['Target_Child', 'Child']\n",
    "role_mask = [role in possible_roles for role in transcript_df.role.values]\n",
    "transcript_df = transcript_df[role_mask]\n",
    "len(transcript_df)"
   ]
  },
  {
   "cell_type": "code",
   "execution_count": 7,
   "metadata": {
    "ExecuteTime": {
     "end_time": "2020-01-12T01:12:58.982349Z",
     "start_time": "2020-01-12T01:12:58.521707Z"
    }
   },
   "outputs": [
    {
     "data": {
      "text/html": [
       "<div>\n",
       "<style scoped>\n",
       "    .dataframe tbody tr th:only-of-type {\n",
       "        vertical-align: middle;\n",
       "    }\n",
       "\n",
       "    .dataframe tbody tr th {\n",
       "        vertical-align: top;\n",
       "    }\n",
       "\n",
       "    .dataframe thead th {\n",
       "        text-align: right;\n",
       "    }\n",
       "</style>\n",
       "<table border=\"1\" class=\"dataframe\">\n",
       "  <thead>\n",
       "    <tr style=\"text-align: right;\">\n",
       "      <th></th>\n",
       "      <th>PID</th>\n",
       "      <th>lang</th>\n",
       "      <th>corpus</th>\n",
       "      <th>date</th>\n",
       "      <th>participant_key</th>\n",
       "      <th>role</th>\n",
       "      <th>age</th>\n",
       "      <th>language</th>\n",
       "      <th>sex</th>\n",
       "      <th>POS</th>\n",
       "      <th>words</th>\n",
       "      <th>morphemes</th>\n",
       "      <th>transcript_xml</th>\n",
       "      <th>n_words</th>\n",
       "      <th>n_morphemes</th>\n",
       "      <th>n_POS</th>\n",
       "      <th>age_months</th>\n",
       "      <th>age_years</th>\n",
       "    </tr>\n",
       "  </thead>\n",
       "  <tbody>\n",
       "    <tr>\n",
       "      <th>72301</th>\n",
       "      <td>11312/c-00015848-1</td>\n",
       "      <td>eng</td>\n",
       "      <td>Carterette</td>\n",
       "      <td>1984-01-01</td>\n",
       "      <td>CHI</td>\n",
       "      <td>Target_Child</td>\n",
       "      <td>P6Y</td>\n",
       "      <td>eng</td>\n",
       "      <td>NaN</td>\n",
       "      <td>[[pro:per, v, , , conj, n:prop, coord, pro:ind...</td>\n",
       "      <td>[[you, mean, uh, um, like, England, or, someth...</td>\n",
       "      <td>[[you, mean, uh, um, like, England, or, someth...</td>\n",
       "      <td>[/mnt/cube/tsainbur/Projects/github_repos/chil...</td>\n",
       "      <td>19903</td>\n",
       "      <td>2102</td>\n",
       "      <td>2102</td>\n",
       "      <td>72.0</td>\n",
       "      <td>6.0</td>\n",
       "    </tr>\n",
       "    <tr>\n",
       "      <th>72302</th>\n",
       "      <td>11312/c-00015847-1</td>\n",
       "      <td>eng</td>\n",
       "      <td>Carterette</td>\n",
       "      <td>1984-01-01</td>\n",
       "      <td>CHI</td>\n",
       "      <td>Target_Child</td>\n",
       "      <td>P10Y</td>\n",
       "      <td>eng</td>\n",
       "      <td>NaN</td>\n",
       "      <td>[[co, , pro:sub, v, , det:num, n], [coord, , p...</td>\n",
       "      <td>[[well, um, I, have, uh, one, sister], [and, u...</td>\n",
       "      <td>[[well, um, I, have, uh, one, sister], [and, u...</td>\n",
       "      <td>[/mnt/cube/tsainbur/Projects/github_repos/chil...</td>\n",
       "      <td>26941</td>\n",
       "      <td>2729</td>\n",
       "      <td>2729</td>\n",
       "      <td>120.0</td>\n",
       "      <td>10.0</td>\n",
       "    </tr>\n",
       "    <tr>\n",
       "      <th>72303</th>\n",
       "      <td>11312/c-00015849-1</td>\n",
       "      <td>eng</td>\n",
       "      <td>Carterette</td>\n",
       "      <td>1984-01-01</td>\n",
       "      <td>CHI</td>\n",
       "      <td>Target_Child</td>\n",
       "      <td>P8Y</td>\n",
       "      <td>eng</td>\n",
       "      <td>NaN</td>\n",
       "      <td>[[v, n, n], [co, n:prop, v, prep, det:art, n, ...</td>\n",
       "      <td>[[lets, watch, tv], [well, Nancy, said, for, t...</td>\n",
       "      <td>[[let-3S, watch, tv], [well, Nancy, say-PAST, ...</td>\n",
       "      <td>[/mnt/cube/tsainbur/Projects/github_repos/chil...</td>\n",
       "      <td>21419</td>\n",
       "      <td>2019</td>\n",
       "      <td>2019</td>\n",
       "      <td>96.0</td>\n",
       "      <td>8.0</td>\n",
       "    </tr>\n",
       "  </tbody>\n",
       "</table>\n",
       "</div>"
      ],
      "text/plain": [
       "                      PID lang      corpus        date participant_key  \\\n",
       "72301  11312/c-00015848-1  eng  Carterette  1984-01-01             CHI   \n",
       "72302  11312/c-00015847-1  eng  Carterette  1984-01-01             CHI   \n",
       "72303  11312/c-00015849-1  eng  Carterette  1984-01-01             CHI   \n",
       "\n",
       "               role   age language  sex  \\\n",
       "72301  Target_Child   P6Y      eng  NaN   \n",
       "72302  Target_Child  P10Y      eng  NaN   \n",
       "72303  Target_Child   P8Y      eng  NaN   \n",
       "\n",
       "                                                     POS  \\\n",
       "72301  [[pro:per, v, , , conj, n:prop, coord, pro:ind...   \n",
       "72302  [[co, , pro:sub, v, , det:num, n], [coord, , p...   \n",
       "72303  [[v, n, n], [co, n:prop, v, prep, det:art, n, ...   \n",
       "\n",
       "                                                   words  \\\n",
       "72301  [[you, mean, uh, um, like, England, or, someth...   \n",
       "72302  [[well, um, I, have, uh, one, sister], [and, u...   \n",
       "72303  [[lets, watch, tv], [well, Nancy, said, for, t...   \n",
       "\n",
       "                                               morphemes  \\\n",
       "72301  [[you, mean, uh, um, like, England, or, someth...   \n",
       "72302  [[well, um, I, have, uh, one, sister], [and, u...   \n",
       "72303  [[let-3S, watch, tv], [well, Nancy, say-PAST, ...   \n",
       "\n",
       "                                          transcript_xml  n_words  \\\n",
       "72301  [/mnt/cube/tsainbur/Projects/github_repos/chil...    19903   \n",
       "72302  [/mnt/cube/tsainbur/Projects/github_repos/chil...    26941   \n",
       "72303  [/mnt/cube/tsainbur/Projects/github_repos/chil...    21419   \n",
       "\n",
       "       n_morphemes  n_POS  age_months  age_years  \n",
       "72301         2102   2102        72.0        6.0  \n",
       "72302         2729   2729       120.0       10.0  \n",
       "72303         2019   2019        96.0        8.0  "
      ]
     },
     "execution_count": 7,
     "metadata": {},
     "output_type": "execute_result"
    }
   ],
   "source": [
    "transcript_df[:3]"
   ]
  },
  {
   "cell_type": "code",
   "execution_count": 8,
   "metadata": {
    "ExecuteTime": {
     "end_time": "2020-01-12T01:12:59.008928Z",
     "start_time": "2020-01-12T01:12:58.984391Z"
    }
   },
   "outputs": [
    {
     "name": "stdout",
     "output_type": "stream",
     "text": [
      "['Carterette' 'Brown' 'Braunwald' 'Post' 'Gleason' 'Normal' 'Gillam'\n",
      " 'EllisWeismer' 'NH']\n"
     ]
    }
   ],
   "source": [
    "print(transcript_df.corpus.unique())"
   ]
  },
  {
   "cell_type": "code",
   "execution_count": 9,
   "metadata": {
    "ExecuteTime": {
     "end_time": "2020-01-12T01:12:59.106332Z",
     "start_time": "2020-01-12T01:12:59.010836Z"
    }
   },
   "outputs": [
    {
     "name": "stdout",
     "output_type": "stream",
     "text": [
      "there are 1247296 words in this dataset\n"
     ]
    }
   ],
   "source": [
    "print(\"there are {} words in this dataset\".format(np.sum(transcript_df.n_words.values)))"
   ]
  },
  {
   "cell_type": "markdown",
   "metadata": {},
   "source": [
    "### Get child ages"
   ]
  },
  {
   "cell_type": "code",
   "execution_count": 10,
   "metadata": {
    "ExecuteTime": {
     "end_time": "2020-01-12T01:12:59.188769Z",
     "start_time": "2020-01-12T01:12:59.108343Z"
    }
   },
   "outputs": [],
   "source": [
    "import re\n",
    "def convert_age(age_year):\n",
    "    \"Caclculate age in months from a string in CHILDES format\"\n",
    "    if age_year[-1] == 'Y':\n",
    "        age_year += '0'\n",
    "    m = re.match(\"P(\\d+)Y(\\d+)M?(\\d?\\d?)D?\", age_year)\n",
    "    age_month = int(m.group(1)) * 12 + int(m.group(2))\n",
    "    try:\n",
    "        if int(m.group(3)) > 15:\n",
    "            age_month += 1\n",
    "    # some corpora don't have age information?\n",
    "    except ValueError as e:\n",
    "        pass\n",
    "    return age_month"
   ]
  },
  {
   "cell_type": "code",
   "execution_count": 11,
   "metadata": {
    "ExecuteTime": {
     "end_time": "2020-01-12T01:12:59.367720Z",
     "start_time": "2020-01-12T01:12:59.190697Z"
    }
   },
   "outputs": [
    {
     "data": {
      "application/vnd.jupyter.widget-view+json": {
       "model_id": "c6660ab1c537497cb47d069b5ff57064",
       "version_major": 2,
       "version_minor": 0
      },
      "text/plain": [
       "HBox(children=(IntProgress(value=0, max=2785), HTML(value='')))"
      ]
     },
     "metadata": {},
     "output_type": "display_data"
    },
    {
     "name": "stdout",
     "output_type": "stream",
     "text": [
      "\n"
     ]
    }
   ],
   "source": [
    "transcript_df[\"age_months\"] = [\n",
    "    convert_age(i) if type(i) == str else np.nan for i in tqdm(transcript_df.age.values)\n",
    "]"
   ]
  },
  {
   "cell_type": "code",
   "execution_count": 12,
   "metadata": {
    "ExecuteTime": {
     "end_time": "2020-01-12T01:12:59.443787Z",
     "start_time": "2020-01-12T01:12:59.369999Z"
    }
   },
   "outputs": [],
   "source": [
    "transcript_df[\"age_years\"] = transcript_df[\"age_months\"] / 12"
   ]
  },
  {
   "cell_type": "code",
   "execution_count": 13,
   "metadata": {
    "ExecuteTime": {
     "end_time": "2020-01-12T01:12:59.864513Z",
     "start_time": "2020-01-12T01:12:59.445613Z"
    }
   },
   "outputs": [
    {
     "data": {
      "text/html": [
       "<div>\n",
       "<style scoped>\n",
       "    .dataframe tbody tr th:only-of-type {\n",
       "        vertical-align: middle;\n",
       "    }\n",
       "\n",
       "    .dataframe tbody tr th {\n",
       "        vertical-align: top;\n",
       "    }\n",
       "\n",
       "    .dataframe thead th {\n",
       "        text-align: right;\n",
       "    }\n",
       "</style>\n",
       "<table border=\"1\" class=\"dataframe\">\n",
       "  <thead>\n",
       "    <tr style=\"text-align: right;\">\n",
       "      <th></th>\n",
       "      <th>PID</th>\n",
       "      <th>lang</th>\n",
       "      <th>corpus</th>\n",
       "      <th>date</th>\n",
       "      <th>participant_key</th>\n",
       "      <th>role</th>\n",
       "      <th>age</th>\n",
       "      <th>language</th>\n",
       "      <th>sex</th>\n",
       "      <th>POS</th>\n",
       "      <th>words</th>\n",
       "      <th>morphemes</th>\n",
       "      <th>transcript_xml</th>\n",
       "      <th>n_words</th>\n",
       "      <th>n_morphemes</th>\n",
       "      <th>n_POS</th>\n",
       "      <th>age_months</th>\n",
       "      <th>age_years</th>\n",
       "    </tr>\n",
       "  </thead>\n",
       "  <tbody>\n",
       "    <tr>\n",
       "      <th>72301</th>\n",
       "      <td>11312/c-00015848-1</td>\n",
       "      <td>eng</td>\n",
       "      <td>Carterette</td>\n",
       "      <td>1984-01-01</td>\n",
       "      <td>CHI</td>\n",
       "      <td>Target_Child</td>\n",
       "      <td>P6Y</td>\n",
       "      <td>eng</td>\n",
       "      <td>NaN</td>\n",
       "      <td>[[pro:per, v, , , conj, n:prop, coord, pro:ind...</td>\n",
       "      <td>[[you, mean, uh, um, like, England, or, someth...</td>\n",
       "      <td>[[you, mean, uh, um, like, England, or, someth...</td>\n",
       "      <td>[/mnt/cube/tsainbur/Projects/github_repos/chil...</td>\n",
       "      <td>19903</td>\n",
       "      <td>2102</td>\n",
       "      <td>2102</td>\n",
       "      <td>72.0</td>\n",
       "      <td>6.0</td>\n",
       "    </tr>\n",
       "    <tr>\n",
       "      <th>72302</th>\n",
       "      <td>11312/c-00015847-1</td>\n",
       "      <td>eng</td>\n",
       "      <td>Carterette</td>\n",
       "      <td>1984-01-01</td>\n",
       "      <td>CHI</td>\n",
       "      <td>Target_Child</td>\n",
       "      <td>P10Y</td>\n",
       "      <td>eng</td>\n",
       "      <td>NaN</td>\n",
       "      <td>[[co, , pro:sub, v, , det:num, n], [coord, , p...</td>\n",
       "      <td>[[well, um, I, have, uh, one, sister], [and, u...</td>\n",
       "      <td>[[well, um, I, have, uh, one, sister], [and, u...</td>\n",
       "      <td>[/mnt/cube/tsainbur/Projects/github_repos/chil...</td>\n",
       "      <td>26941</td>\n",
       "      <td>2729</td>\n",
       "      <td>2729</td>\n",
       "      <td>120.0</td>\n",
       "      <td>10.0</td>\n",
       "    </tr>\n",
       "    <tr>\n",
       "      <th>72303</th>\n",
       "      <td>11312/c-00015849-1</td>\n",
       "      <td>eng</td>\n",
       "      <td>Carterette</td>\n",
       "      <td>1984-01-01</td>\n",
       "      <td>CHI</td>\n",
       "      <td>Target_Child</td>\n",
       "      <td>P8Y</td>\n",
       "      <td>eng</td>\n",
       "      <td>NaN</td>\n",
       "      <td>[[v, n, n], [co, n:prop, v, prep, det:art, n, ...</td>\n",
       "      <td>[[lets, watch, tv], [well, Nancy, said, for, t...</td>\n",
       "      <td>[[let-3S, watch, tv], [well, Nancy, say-PAST, ...</td>\n",
       "      <td>[/mnt/cube/tsainbur/Projects/github_repos/chil...</td>\n",
       "      <td>21419</td>\n",
       "      <td>2019</td>\n",
       "      <td>2019</td>\n",
       "      <td>96.0</td>\n",
       "      <td>8.0</td>\n",
       "    </tr>\n",
       "  </tbody>\n",
       "</table>\n",
       "</div>"
      ],
      "text/plain": [
       "                      PID lang      corpus        date participant_key  \\\n",
       "72301  11312/c-00015848-1  eng  Carterette  1984-01-01             CHI   \n",
       "72302  11312/c-00015847-1  eng  Carterette  1984-01-01             CHI   \n",
       "72303  11312/c-00015849-1  eng  Carterette  1984-01-01             CHI   \n",
       "\n",
       "               role   age language  sex  \\\n",
       "72301  Target_Child   P6Y      eng  NaN   \n",
       "72302  Target_Child  P10Y      eng  NaN   \n",
       "72303  Target_Child   P8Y      eng  NaN   \n",
       "\n",
       "                                                     POS  \\\n",
       "72301  [[pro:per, v, , , conj, n:prop, coord, pro:ind...   \n",
       "72302  [[co, , pro:sub, v, , det:num, n], [coord, , p...   \n",
       "72303  [[v, n, n], [co, n:prop, v, prep, det:art, n, ...   \n",
       "\n",
       "                                                   words  \\\n",
       "72301  [[you, mean, uh, um, like, England, or, someth...   \n",
       "72302  [[well, um, I, have, uh, one, sister], [and, u...   \n",
       "72303  [[lets, watch, tv], [well, Nancy, said, for, t...   \n",
       "\n",
       "                                               morphemes  \\\n",
       "72301  [[you, mean, uh, um, like, England, or, someth...   \n",
       "72302  [[well, um, I, have, uh, one, sister], [and, u...   \n",
       "72303  [[let-3S, watch, tv], [well, Nancy, say-PAST, ...   \n",
       "\n",
       "                                          transcript_xml  n_words  \\\n",
       "72301  [/mnt/cube/tsainbur/Projects/github_repos/chil...    19903   \n",
       "72302  [/mnt/cube/tsainbur/Projects/github_repos/chil...    26941   \n",
       "72303  [/mnt/cube/tsainbur/Projects/github_repos/chil...    21419   \n",
       "\n",
       "       n_morphemes  n_POS  age_months  age_years  \n",
       "72301         2102   2102        72.0        6.0  \n",
       "72302         2729   2729       120.0       10.0  \n",
       "72303         2019   2019        96.0        8.0  "
      ]
     },
     "execution_count": 13,
     "metadata": {},
     "output_type": "execute_result"
    }
   ],
   "source": [
    "transcript_df[:3]"
   ]
  },
  {
   "cell_type": "markdown",
   "metadata": {},
   "source": [
    "### Sentence lengths"
   ]
  },
  {
   "cell_type": "code",
   "execution_count": 14,
   "metadata": {
    "ExecuteTime": {
     "end_time": "2020-01-12T01:12:59.888232Z",
     "start_time": "2020-01-12T01:12:59.866280Z"
    }
   },
   "outputs": [],
   "source": [
    "age_cohorts = [[1, 1.5], [1.5, 2], [2, 2.5], [2.5, 3], [3, 20]]"
   ]
  },
  {
   "cell_type": "raw",
   "metadata": {
    "ExecuteTime": {
     "end_time": "2020-01-12T01:13:09.770985Z",
     "start_time": "2020-01-12T01:13:09.730578Z"
    }
   },
   "source": [
    "#print(age_cohort_low, age_cohort_high, np.median([len(i) for i in cohort_words]), n_words, n_unique_words)\n",
    "1 1.5 38.0 15154 5439\n",
    "1.5 2 98.0 57580 19538\n",
    "2 2.5 204.0 167722 50039\n",
    "2.5 3 121.5 110580 33211"
   ]
  },
  {
   "cell_type": "markdown",
   "metadata": {},
   "source": [
    "## MI\n",
    "- for each sequence, calculate the decay of a sequence as a function of distance between elements for that sequence indiividually\n",
    "- Treat each phoneme as unique for that child, and compute MI across children"
   ]
  },
  {
   "cell_type": "code",
   "execution_count": 15,
   "metadata": {
    "ExecuteTime": {
     "end_time": "2020-01-12T01:17:23.391150Z",
     "start_time": "2020-01-12T01:17:23.142811Z"
    }
   },
   "outputs": [
    {
     "name": "stderr",
     "output_type": "stream",
     "text": [
      "/mnt/cube/tsainbur/conda_envs/tpy3/lib/python3.6/site-packages/sklearn/utils/deprecation.py:144: FutureWarning: The sklearn.metrics.cluster.supervised module is  deprecated in version 0.22 and will be removed in version 0.24. The corresponding classes / functions should instead be imported from sklearn.metrics.cluster. Anything that cannot be imported from sklearn.metrics.cluster is now part of the private API.\n",
      "  warnings.warn(message, FutureWarning)\n",
      "/mnt/cube/tsainbur/conda_envs/tpy3/lib/python3.6/site-packages/sklearn/utils/deprecation.py:144: FutureWarning: The sklearn.metrics.cluster.expected_mutual_info_fast module is  deprecated in version 0.22 and will be removed in version 0.24. The corresponding classes / functions should instead be imported from sklearn.metrics.cluster. Anything that cannot be imported from sklearn.metrics.cluster is now part of the private API.\n",
      "  warnings.warn(message, FutureWarning)\n"
     ]
    }
   ],
   "source": [
    "from childes_mi.information_theory import mutual_information as mi"
   ]
  },
  {
   "cell_type": "markdown",
   "metadata": {},
   "source": [
    "#### Run MI by age cohort"
   ]
  },
  {
   "cell_type": "code",
   "execution_count": 16,
   "metadata": {
    "ExecuteTime": {
     "end_time": "2020-01-12T01:17:24.216204Z",
     "start_time": "2020-01-12T01:17:24.172848Z"
    }
   },
   "outputs": [],
   "source": [
    "distances = np.arange(1,501)"
   ]
  },
  {
   "cell_type": "code",
   "execution_count": 183,
   "metadata": {
    "ExecuteTime": {
     "end_time": "2020-01-12T01:21:02.234359Z",
     "start_time": "2020-01-12T01:20:31.562097Z"
    },
    "scrolled": false
   },
   "outputs": [
    {
     "data": {
      "application/vnd.jupyter.widget-view+json": {
       "model_id": "a645c75721894ee7ba85379cff8b28a4",
       "version_major": 2,
       "version_minor": 0
      },
      "text/plain": [
       "HBox(children=(IntProgress(value=0, max=5), HTML(value='')))"
      ]
     },
     "metadata": {},
     "output_type": "display_data"
    },
    {
     "name": "stdout",
     "output_type": "stream",
     "text": [
      "1 1.5 15154 1239\n"
     ]
    },
    {
     "data": {
      "application/vnd.jupyter.widget-view+json": {
       "model_id": "",
       "version_major": 2,
       "version_minor": 0
      },
      "text/plain": [
       "HBox(children=(IntProgress(value=0, max=50), HTML(value='')))"
      ]
     },
     "metadata": {},
     "output_type": "display_data"
    },
    {
     "name": "stderr",
     "output_type": "stream",
     "text": [
      "[Parallel(n_jobs=-1)]: Using backend LokyBackend with 32 concurrent workers.\n",
      "[Parallel(n_jobs=-1)]: Done   1 tasks      | elapsed:   12.2s\n",
      "[Parallel(n_jobs=-1)]: Done   3 out of  50 | elapsed:   12.2s remaining:  3.2min\n",
      "[Parallel(n_jobs=-1)]: Done   5 out of  50 | elapsed:   12.3s remaining:  1.8min\n",
      "[Parallel(n_jobs=-1)]: Done   7 out of  50 | elapsed:   12.3s remaining:  1.3min\n",
      "[Parallel(n_jobs=-1)]: Done   9 out of  50 | elapsed:   12.4s remaining:   56.3s\n",
      "[Parallel(n_jobs=-1)]: Done  11 out of  50 | elapsed:   12.4s remaining:   43.9s\n",
      "[Parallel(n_jobs=-1)]: Done  13 out of  50 | elapsed:   12.4s remaining:   35.3s\n",
      "[Parallel(n_jobs=-1)]: Done  15 out of  50 | elapsed:   12.4s remaining:   29.0s\n",
      "[Parallel(n_jobs=-1)]: Done  17 out of  50 | elapsed:   12.4s remaining:   24.2s\n",
      "[Parallel(n_jobs=-1)]: Done  19 out of  50 | elapsed:   12.5s remaining:   20.4s\n",
      "[Parallel(n_jobs=-1)]: Done  21 out of  50 | elapsed:   12.5s remaining:   17.2s\n",
      "[Parallel(n_jobs=-1)]: Done  23 out of  50 | elapsed:   12.5s remaining:   14.7s\n",
      "[Parallel(n_jobs=-1)]: Done  25 out of  50 | elapsed:   12.6s remaining:   12.6s\n",
      "[Parallel(n_jobs=-1)]: Done  27 out of  50 | elapsed:   12.6s remaining:   10.8s\n",
      "[Parallel(n_jobs=-1)]: Done  29 out of  50 | elapsed:   12.6s remaining:    9.1s\n",
      "[Parallel(n_jobs=-1)]: Done  31 out of  50 | elapsed:   12.7s remaining:    7.8s\n",
      "[Parallel(n_jobs=-1)]: Done  33 out of  50 | elapsed:   18.0s remaining:    9.3s\n",
      "[Parallel(n_jobs=-1)]: Done  35 out of  50 | elapsed:   18.2s remaining:    7.8s\n",
      "[Parallel(n_jobs=-1)]: Done  37 out of  50 | elapsed:   18.2s remaining:    6.4s\n",
      "[Parallel(n_jobs=-1)]: Done  39 out of  50 | elapsed:   18.3s remaining:    5.2s\n",
      "[Parallel(n_jobs=-1)]: Done  41 out of  50 | elapsed:   18.3s remaining:    4.0s\n",
      "[Parallel(n_jobs=-1)]: Done  43 out of  50 | elapsed:   18.3s remaining:    3.0s\n",
      "[Parallel(n_jobs=-1)]: Done  45 out of  50 | elapsed:   18.7s remaining:    2.1s\n",
      "[Parallel(n_jobs=-1)]: Done  47 out of  50 | elapsed:   19.5s remaining:    1.2s\n",
      "[Parallel(n_jobs=-1)]: Done  50 out of  50 | elapsed:   19.9s finished\n"
     ]
    },
    {
     "data": {
      "application/vnd.jupyter.widget-view+json": {
       "model_id": "",
       "version_major": 2,
       "version_minor": 0
      },
      "text/plain": [
       "HBox(children=(IntProgress(value=0, max=50), HTML(value='')))"
      ]
     },
     "metadata": {},
     "output_type": "display_data"
    },
    {
     "name": "stderr",
     "output_type": "stream",
     "text": [
      "[Parallel(n_jobs=-1)]: Using backend LokyBackend with 32 concurrent workers.\n",
      "[Parallel(n_jobs=-1)]: Done   1 tasks      | elapsed:    8.7s\n",
      "[Parallel(n_jobs=-1)]: Done   3 out of  50 | elapsed:    8.7s remaining:  2.3min\n",
      "[Parallel(n_jobs=-1)]: Done   5 out of  50 | elapsed:    8.7s remaining:  1.3min\n",
      "[Parallel(n_jobs=-1)]: Done   7 out of  50 | elapsed:    8.8s remaining:   53.8s\n",
      "[Parallel(n_jobs=-1)]: Done   9 out of  50 | elapsed:    8.8s remaining:   40.0s\n",
      "[Parallel(n_jobs=-1)]: Done  11 out of  50 | elapsed:    8.8s remaining:   31.2s\n",
      "[Parallel(n_jobs=-1)]: Done  13 out of  50 | elapsed:    8.8s remaining:   25.1s\n",
      "[Parallel(n_jobs=-1)]: Done  15 out of  50 | elapsed:    8.8s remaining:   20.6s\n",
      "[Parallel(n_jobs=-1)]: Done  17 out of  50 | elapsed:    8.9s remaining:   17.2s\n",
      "[Parallel(n_jobs=-1)]: Done  19 out of  50 | elapsed:    8.9s remaining:   14.5s\n",
      "[Parallel(n_jobs=-1)]: Done  21 out of  50 | elapsed:    8.9s remaining:   12.3s\n",
      "[Parallel(n_jobs=-1)]: Done  23 out of  50 | elapsed:    8.9s remaining:   10.5s\n",
      "[Parallel(n_jobs=-1)]: Done  25 out of  50 | elapsed:    9.0s remaining:    9.0s\n",
      "[Parallel(n_jobs=-1)]: Done  27 out of  50 | elapsed:    9.0s remaining:    7.7s\n",
      "[Parallel(n_jobs=-1)]: Done  29 out of  50 | elapsed:    9.0s remaining:    6.5s\n",
      "[Parallel(n_jobs=-1)]: Done  31 out of  50 | elapsed:    9.1s remaining:    5.6s\n",
      "[Parallel(n_jobs=-1)]: Done  33 out of  50 | elapsed:   14.5s remaining:    7.5s\n",
      "[Parallel(n_jobs=-1)]: Done  35 out of  50 | elapsed:   14.6s remaining:    6.2s\n",
      "[Parallel(n_jobs=-1)]: Done  37 out of  50 | elapsed:   14.6s remaining:    5.1s\n",
      "[Parallel(n_jobs=-1)]: Done  39 out of  50 | elapsed:   14.6s remaining:    4.1s\n",
      "[Parallel(n_jobs=-1)]: Done  41 out of  50 | elapsed:   14.6s remaining:    3.2s\n",
      "[Parallel(n_jobs=-1)]: Done  43 out of  50 | elapsed:   14.7s remaining:    2.4s\n",
      "[Parallel(n_jobs=-1)]: Done  45 out of  50 | elapsed:   14.7s remaining:    1.6s\n",
      "[Parallel(n_jobs=-1)]: Done  47 out of  50 | elapsed:   16.4s remaining:    1.0s\n",
      "[Parallel(n_jobs=-1)]: Done  50 out of  50 | elapsed:   16.5s finished\n"
     ]
    },
    {
     "data": {
      "image/png": "[encoded data removed]",
      "text/plain": [
       "<Figure size 720x288 with 2 Axes>"
      ]
     },
     "metadata": {
      "needs_background": "light"
     },
     "output_type": "display_data"
    }
   ],
   "source": [
    "mi_estimation = \"adjusted_mi_sklearn\"\n",
    "mi_df = pd.DataFrame(\n",
    "    columns=[\n",
    "        \"MI\",\n",
    "        \"MI_var\",\n",
    "        \"shuff_MI\",\n",
    "        \"shuff_MI_var\",\n",
    "        \"distances\",\n",
    "        \"age_cohort_low\",\n",
    "        \"age_cohort_high\",\n",
    "        \"n_words\",\n",
    "        \"n_unique_words\",\n",
    "    ]\n",
    ")\n",
    "# for each age cohort\n",
    "for (age_cohort_low, age_cohort_high) in tqdm(age_cohorts):#[::-1]):\n",
    "    cohort_subset = transcript_df[\n",
    "        (transcript_df.age_months/12 > age_cohort_low) & (transcript_df.age_months/12 <= age_cohort_high)\n",
    "    ]\n",
    "    \n",
    "    #cohort_words = [[row.PID + \"_\" + i for i in list(flatten(row.words)) if i not in [None, 'xxx']] for idx, row in cohort_subset.iterrows()]\n",
    "    cohort_words = [[i for i in list(flatten(row.words)) if i not in [None, 'xxx']] for idx, row in cohort_subset.iterrows()]\n",
    "    \n",
    "    n_words = len(np.concatenate(cohort_words))\n",
    "    n_unique_words = len(np.unique(np.concatenate(cohort_words)))\n",
    "    print(age_cohort_low, age_cohort_high, n_words, n_unique_words)\n",
    "    \n",
    "    distances = np.arange(1,500, 10)\n",
    "    (MI, MI_var), (shuff_MI, shuff_MI_var) = mi.sequential_mutual_information(\n",
    "        [cohort_words], distances=distances, n_jobs=-1, mi_estimation=mi_estimation, prefer = None, verbosity=49\n",
    "    )\n",
    "    \n",
    "    fig,axs = plt.subplots(ncols=2, figsize = (10,4))\n",
    "    ax = axs[0]\n",
    "    ax.scatter(distances, MI-shuff_MI)\n",
    "    ax.plot(distances, MI-shuff_MI, alpha = 0)\n",
    "    ax.set_yscale('log')\n",
    "    ax.set_xscale('log')\n",
    "\n",
    "    ax = axs[1]\n",
    "    ax.scatter(distances, MI)\n",
    "    ax.scatter(distances, shuff_MI)\n",
    "    plt.show()\n",
    "    \n",
    "    mi_df.loc[len(mi_df)] = [\n",
    "        MI,\n",
    "        MI_var,\n",
    "        shuff_MI,\n",
    "        shuff_MI_var,\n",
    "        distances,\n",
    "        age_cohort_low,\n",
    "        age_cohort_high,\n",
    "        n_words,\n",
    "        n_unique_words,\n",
    "        \n",
    "    ]\n",
    "    \n",
    "    #mi_df.to_pickle(DATA_DIR / 'mi' / 'childes_indv_ami.pickle')\n",
    "    break"
   ]
  },
  {
   "cell_type": "code",
   "execution_count": 18,
   "metadata": {},
   "outputs": [
    {
     "data": {
      "text/html": [
       "<div>\n",
       "<style scoped>\n",
       "    .dataframe tbody tr th:only-of-type {\n",
       "        vertical-align: middle;\n",
       "    }\n",
       "\n",
       "    .dataframe tbody tr th {\n",
       "        vertical-align: top;\n",
       "    }\n",
       "\n",
       "    .dataframe thead th {\n",
       "        text-align: right;\n",
       "    }\n",
       "</style>\n",
       "<table border=\"1\" class=\"dataframe\">\n",
       "  <thead>\n",
       "    <tr style=\"text-align: right;\">\n",
       "      <th></th>\n",
       "      <th>MI</th>\n",
       "      <th>MI_var</th>\n",
       "      <th>shuff_MI</th>\n",
       "      <th>shuff_MI_var</th>\n",
       "      <th>distances</th>\n",
       "      <th>age_cohort_low</th>\n",
       "      <th>age_cohort_high</th>\n",
       "      <th>n_words</th>\n",
       "      <th>n_unique_words</th>\n",
       "    </tr>\n",
       "  </thead>\n",
       "  <tbody>\n",
       "    <tr>\n",
       "      <th>0</th>\n",
       "      <td>[3.387548646710555, 2.8018499954888827, 2.8649...</td>\n",
       "      <td>[2.4177923448459433, 2.506522706665155, 2.5781...</td>\n",
       "      <td>[2.614160661573555, 2.6911346226573105, 2.7527...</td>\n",
       "      <td>[2.4166601184999097, 2.512773702835437, 2.5892...</td>\n",
       "      <td>[1, 11, 21, 31, 41, 51, 61, 71, 81, 91, 101, 1...</td>\n",
       "      <td>1</td>\n",
       "      <td>1.5</td>\n",
       "      <td>15154</td>\n",
       "      <td>1239</td>\n",
       "    </tr>\n",
       "  </tbody>\n",
       "</table>\n",
       "</div>"
      ],
      "text/plain": [
       "                                                  MI  \\\n",
       "0  [3.387548646710555, 2.8018499954888827, 2.8649...   \n",
       "\n",
       "                                              MI_var  \\\n",
       "0  [2.4177923448459433, 2.506522706665155, 2.5781...   \n",
       "\n",
       "                                            shuff_MI  \\\n",
       "0  [2.614160661573555, 2.6911346226573105, 2.7527...   \n",
       "\n",
       "                                        shuff_MI_var  \\\n",
       "0  [2.4166601184999097, 2.512773702835437, 2.5892...   \n",
       "\n",
       "                                           distances age_cohort_low  \\\n",
       "0  [1, 11, 21, 31, 41, 51, 61, 71, 81, 91, 101, 1...              1   \n",
       "\n",
       "   age_cohort_high n_words n_unique_words  \n",
       "0              1.5   15154           1239  "
      ]
     },
     "execution_count": 18,
     "metadata": {},
     "output_type": "execute_result"
    }
   ],
   "source": [
    "mi_df"
   ]
  },
  {
   "cell_type": "code",
   "execution_count": 26,
   "metadata": {},
   "outputs": [
    {
     "data": {
      "text/plain": [
       "[<matplotlib.lines.Line2D at 0x7fb7654db4a8>]"
      ]
     },
     "execution_count": 26,
     "metadata": {},
     "output_type": "execute_result"
    },
    {
     "data": {
      "image/png": "[encoded data removed]",
      "text/plain": [
       "<Figure size 432x288 with 1 Axes>"
      ]
     },
     "metadata": {
      "needs_background": "light"
     },
     "output_type": "display_data"
    }
   ],
   "source": [
    "row = mi_df.iloc[0]\n",
    "plt.plot(distances, row.shuff_MI)\n",
    "plt.plot(distances, row.MI_var)"
   ]
  },
  {
   "cell_type": "code",
   "execution_count": 27,
   "metadata": {},
   "outputs": [
    {
     "data": {
      "text/plain": [
       "[<matplotlib.lines.Line2D at 0x7fb6f420e390>]"
      ]
     },
     "execution_count": 27,
     "metadata": {},
     "output_type": "execute_result"
    },
    {
     "data": {
      "image/png": "[encoded data removed]",
      "text/plain": [
       "<Figure size 432x288 with 1 Axes>"
      ]
     },
     "metadata": {
      "needs_background": "light"
     },
     "output_type": "display_data"
    }
   ],
   "source": [
    "plt.plot(distances, row.shuff_MI)\n",
    "plt.plot(distances, row.shuff_MI_var)"
   ]
  },
  {
   "cell_type": "code",
   "execution_count": 25,
   "metadata": {},
   "outputs": [
    {
     "data": {
      "text/plain": [
       "[<matplotlib.lines.Line2D at 0x7fb7654d3d30>]"
      ]
     },
     "execution_count": 25,
     "metadata": {},
     "output_type": "execute_result"
    },
    {
     "data": {
      "image/png": "[encoded data removed]",
      "text/plain": [
       "<Figure size 432x288 with 1 Axes>"
      ]
     },
     "metadata": {
      "needs_background": "light"
     },
     "output_type": "display_data"
    }
   ],
   "source": [
    "plt.plot(distances, row.shuff_MI -row.MI_var)\n",
    "plt.plot(distances, row.shuff_MI -row.shuff_MI_var)"
   ]
  },
  {
   "cell_type": "code",
   "execution_count": 164,
   "metadata": {},
   "outputs": [
    {
     "data": {
      "text/plain": [
       "array([  1,  11,  21,  31,  41,  51,  61,  71,  81,  91, 101, 111, 121,\n",
       "       131, 141, 151, 161, 171, 181, 191, 201, 211, 221, 231, 241, 251,\n",
       "       261, 271, 281, 291, 301, 311, 321, 331, 341, 351, 361, 371, 381,\n",
       "       391, 401, 411, 421, 431, 441, 451, 461, 471, 481, 491])"
      ]
     },
     "execution_count": 164,
     "metadata": {},
     "output_type": "execute_result"
    }
   ],
   "source": [
    "distances"
   ]
  },
  {
   "cell_type": "code",
   "execution_count": 165,
   "metadata": {},
   "outputs": [
    {
     "name": "stdout",
     "output_type": "stream",
     "text": [
      "1 1.5 15154 1239\n"
     ]
    }
   ],
   "source": [
    "#cohort_words = [[row.PID + \"_\" + i for i in list(flatten(row.words)) if i not in [None, 'xxx']] for idx, row in cohort_subset.iterrows()]\n",
    "sequences = [[i for i in list(flatten(row.words)) if i not in [None, 'xxx']] for idx, row in cohort_subset.iterrows()]\n",
    "\n",
    "n_words = len(np.concatenate(cohort_words))\n",
    "n_unique_words = len(np.unique(np.concatenate(cohort_words)))\n",
    "print(age_cohort_low, age_cohort_high, n_words, n_unique_words)"
   ]
  },
  {
   "cell_type": "code",
   "execution_count": 182,
   "metadata": {},
   "outputs": [],
   "source": [
    "np.save('childes_test_seqs.npy', np.array(sequences))"
   ]
  },
  {
   "cell_type": "code",
   "execution_count": 166,
   "metadata": {},
   "outputs": [],
   "source": [
    "from joblib import Parallel, delayed"
   ]
  },
  {
   "cell_type": "code",
   "execution_count": 167,
   "metadata": {},
   "outputs": [],
   "source": [
    "from childes_mi.information_theory.mutual_information import MI_from_distributions"
   ]
  },
  {
   "cell_type": "code",
   "execution_count": 168,
   "metadata": {},
   "outputs": [
    {
     "data": {
      "application/vnd.jupyter.widget-view+json": {
       "model_id": "",
       "version_major": 2,
       "version_minor": 0
      },
      "text/plain": [
       "HBox(children=(IntProgress(value=0, max=50), HTML(value='')))"
      ]
     },
     "metadata": {},
     "output_type": "display_data"
    }
   ],
   "source": [
    "n_shuff_repeats = 1\n",
    "disable_tqdm=False\n",
    "with Parallel(n_jobs=-1, verbose=0, prefer=None) as parallel:\n",
    "    distances_rep = np.repeat(distances, n_shuff_repeats)\n",
    "    shuff_MI = parallel(\n",
    "        delayed(MI_from_distributions)(\n",
    "            [np.random.permutation(i) for i in sequences],\n",
    "            dist,\n",
    "            unclustered_element=None,\n",
    "            n_jobs = 1,\n",
    "            mi_estimation=None,\n",
    "        )\n",
    "        for dist_i, dist in enumerate(\n",
    "            tqdm(distances_rep, leave=False, disable=disable_tqdm)\n",
    "        )\n",
    "    )\n",
    "    shuff_MI = np.reshape(shuff_MI, (len(distances), n_shuff_repeats, 2))\n",
    "    shuff_MI = np.mean(shuff_MI, axis=1)"
   ]
  },
  {
   "cell_type": "code",
   "execution_count": 169,
   "metadata": {},
   "outputs": [],
   "source": [
    "shuff_MI = shuff_MI.T[0]"
   ]
  },
  {
   "cell_type": "code",
   "execution_count": 170,
   "metadata": {},
   "outputs": [
    {
     "data": {
      "text/plain": [
       "[<matplotlib.lines.Line2D at 0x7fb75356fdd8>]"
      ]
     },
     "execution_count": 170,
     "metadata": {},
     "output_type": "execute_result"
    },
    {
     "data": {
      "image/png": "[encoded data removed]",
      "text/plain": [
       "<Figure size 432x288 with 1 Axes>"
      ]
     },
     "metadata": {
      "needs_background": "light"
     },
     "output_type": "display_data"
    }
   ],
   "source": [
    "plt.plot(distances, shuff_MI)"
   ]
  },
  {
   "cell_type": "code",
   "execution_count": 171,
   "metadata": {},
   "outputs": [],
   "source": [
    "from sklearn.metrics.cluster.supervised import contingency_matrix\n",
    "import numpy as np\n",
    "from sklearn.metrics import (\n",
    "    mutual_info_score,\n",
    "    normalized_mutual_info_score,\n",
    "    adjusted_mutual_info_score,\n",
    ")\n",
    "from childes_mi.information_theory.expected_mutual_information import emi_parallel\n",
    "#from .emi._expected_mutual_info_fast import expected_mutual_information\n",
    "from childes_mi.information_theory.emi._expected_mutual_info_fast_sklearn import expected_mutual_information\n",
    "\n",
    "\n",
    "\n",
    "\n",
    "def adjusted_mutual_information(labels_true, labels_pred, n_jobs = -1, emi_method=\"parallel\", use_cython=True,\n",
    "                               average_method='arithmetic'):\n",
    "    \"\"\"Adjusted Mutual Information.\n",
    "    Adjusted Mutual Information (AMI) is an adjustment of the Mutual\n",
    "    Information (MI) score to account for chance. It accounts for the fact that\n",
    "    the MI is generally higher for two clusterings with a larger number of\n",
    "    clusters, regardless of whether there is actually more information shared.\n",
    "    For two clusterings :math:`U` and :math:`V`, the AMI is given as::\n",
    "        AMI(U, V) = [MI(U, V) - E(MI(U, V))] / [avg(H(U), H(V)) - E(MI(U, V))]\n",
    "    \n",
    "    \"\"\"\n",
    "    n_samples = labels_true.shape[0]\n",
    "    classes = np.unique(labels_true)\n",
    "    clusters = np.unique(labels_pred)\n",
    "    # Special limit cases: no clustering since the data is not split.\n",
    "    # This is a perfect match hence return 1.0.\n",
    "    if (classes.shape[0] == clusters.shape[0] == 1 or\n",
    "            classes.shape[0] == clusters.shape[0] == 0):\n",
    "        return 1.0\n",
    "    contingency = contingency_matrix(labels_true, labels_pred, sparse=True)\n",
    "    contingency = contingency.astype(np.float64,\n",
    "                                     **_astype_copy_false(contingency))\n",
    "    # Calculate the MI for the two clusterings\n",
    "    mi = mutual_info_score(labels_true, labels_pred,\n",
    "                           contingency=contingency)\n",
    "    # Calculate the expected value for the mutual information\n",
    "    if emi_method == \"parallel\":\n",
    "        emi = emi_parallel(contingency, n_samples, use_cython = use_cython, n_jobs=n_jobs)\n",
    "    else:\n",
    "        emi = expected_mutual_information(contingency, n_samples)\n",
    "    # Calculate entropy for each labeling\n",
    "    h_true, h_pred = entropy(labels_true), entropy(labels_pred)\n",
    "    normalizer = _generalized_average(h_true, h_pred, average_method)\n",
    "    denominator = normalizer - emi\n",
    "    # Avoid 0.0 / 0.0 when expectation equals maximum, i.e a perfect match.\n",
    "    # normalizer should always be >= emi, but because of floating-point\n",
    "    # representation, sometimes emi is slightly larger. Correct this\n",
    "    # by preserving the sign.\n",
    "    if denominator < 0:\n",
    "        denominator = min(denominator, -np.finfo('float64').eps)\n",
    "    else:\n",
    "        denominator = max(denominator, np.finfo('float64').eps)\n",
    "    ami = (mi - emi) / denominator\n",
    "    return ami, emi\n",
    "\n",
    "\n",
    "def entropy(labels):\n",
    "    \"\"\"Calculates the entropy for a labeling.\n",
    "    Parameters\n",
    "    ----------\n",
    "    labels : int array, shape = [n_samples]\n",
    "        The labels\n",
    "    Notes\n",
    "    -----\n",
    "    The logarithm used is the natural logarithm (base-e).\n",
    "    \"\"\"\n",
    "    if len(labels) == 0:\n",
    "        return 1.0\n",
    "    label_idx = np.unique(labels, return_inverse=True)[1]\n",
    "    pi = np.bincount(label_idx).astype(np.float64)\n",
    "    pi = pi[pi > 0]\n",
    "    pi_sum = np.sum(pi)\n",
    "    # log(a / b) should be calculated as log(a) - log(b) for\n",
    "    # possible loss of precision\n",
    "    return -np.sum((pi / pi_sum) * (np.log(pi) - np.log(pi_sum)))\n",
    "\n",
    "def _generalized_average(U, V, average_method=\"arithmetic\"):\n",
    "    \"\"\"Return a particular mean of two numbers.\"\"\"\n",
    "    if average_method == \"min\":\n",
    "        return min(U, V)\n",
    "    elif average_method == \"geometric\":\n",
    "        return np.sqrt(U * V)\n",
    "    elif average_method == \"arithmetic\":\n",
    "        return np.mean([U, V])\n",
    "    elif average_method == \"max\":\n",
    "        return max(U, V)\n",
    "    else:\n",
    "        raise ValueError(\"'average_method' must be 'min', 'geometric', \"\n",
    "                         \"'arithmetic', or 'max'\")\n",
    "\n",
    "\n",
    "def _parse_version(version_string):\n",
    "    version = []\n",
    "    for x in version_string.split('.'):\n",
    "        try:\n",
    "            version.append(int(x))\n",
    "        except ValueError:\n",
    "            # x may be of the form dev-1ea1592\n",
    "            version.append(x)\n",
    "    return tuple(version)\n",
    "\n",
    "import scipy\n",
    "sp_version = _parse_version(scipy.__version__)\n",
    "\n",
    "def _astype_copy_false(X):\n",
    "    \"\"\"Returns the copy=False parameter for\n",
    "    {ndarray, csr_matrix, csc_matrix}.astype when possible,\n",
    "    otherwise don't specify\n",
    "    \"\"\"\n",
    "    if sp_version >= (1, 1) or not sp.issparse(X):\n",
    "        return {'copy': False}\n",
    "    else:\n",
    "        return {}"
   ]
  },
  {
   "cell_type": "code",
   "execution_count": 172,
   "metadata": {},
   "outputs": [],
   "source": [
    "######## Mutual Information From distributions ############\n",
    "def MI_from_distributions(\n",
    "    sequences,\n",
    "    dist,\n",
    "    estimate=False,\n",
    "    unclustered_element=None,\n",
    "    use_sklearn=True,\n",
    "    n_jobs = -1,\n",
    "    mi_estimation = \"grassberger\", # \"adjusted_mi\", None\n",
    "    **mi_kwargs\n",
    "):\n",
    "    np.random.seed()  # set seed\n",
    "    # create distributions\n",
    "    if np.sum([len(seq) > dist for seq in sequences]) == 0:\n",
    "        return (np.nan, np.nan)\n",
    "\n",
    "    distribution_a = np.concatenate(\n",
    "        [seq[dist:] for seq in sequences if len(seq) > dist]\n",
    "    )\n",
    "\n",
    "    distribution_b = np.concatenate(\n",
    "        [seq[:-dist] for seq in sequences if len(seq) > dist]\n",
    "    )\n",
    "\n",
    "    # mask unclustered so they are not considered in MI\n",
    "    if unclustered_element is not None:\n",
    "        mask = (distribution_a == unclustered_element) | (\n",
    "            distribution_b == unclustered_element\n",
    "        )\n",
    "        distribution_a = distribution_a[mask == False]\n",
    "        distribution_b = distribution_b[mask == False]\n",
    "\n",
    "    # calculate MI\n",
    "\n",
    "    if mi_estimation == \"grassberger\":\n",
    "        # See Grassberger, P. Entropy estimates from insufficient samplings. arXiv 2003, arXiv:0307138\n",
    "        return est_mutual_info_p(distribution_a, distribution_b, **mi_kwargs)\n",
    "    elif mi_estimation == \"adjusted_mi\":\n",
    "        # See Vinh, Epps, and Bailey, (2010). Information Theoretic Measures for Clusterings Comparison: Variants, Properties, Normalization and Correction for Chance, JMLR\n",
    "        return adjusted_mutual_information(distribution_a, distribution_b, n_jobs=n_jobs, **mi_kwargs)\n",
    "    elif mi_estimation == \"adjusted_mi_sklearn\":\n",
    "        # See Vinh, Epps, and Bailey, (2010). Information Theoretic Measures for Clusterings Comparison: Variants, Properties, Normalization and Correction for Chance, JMLR\n",
    "        #return (adjusted_mutual_info_score(distribution_a, distribution_b), 0)\n",
    "        return adjusted_mutual_information(distribution_a, distribution_b, emi_method=\"sklearn\", **mi_kwargs)\n",
    "    elif mi_estimation is None:\n",
    "        return (mutual_info_score(distribution_a, distribution_b, **mi_kwargs), 0)\n",
    "    else:\n",
    "        raise ValueError(\"MI estimator '{}' is not implemented\".format(mi_estimation))"
   ]
  },
  {
   "cell_type": "code",
   "execution_count": 173,
   "metadata": {},
   "outputs": [],
   "source": [
    "import joblib"
   ]
  },
  {
   "cell_type": "code",
   "execution_count": 174,
   "metadata": {},
   "outputs": [
    {
     "data": {
      "application/vnd.jupyter.widget-view+json": {
       "model_id": "08054099c6224cce83359b140c93e013",
       "version_major": 2,
       "version_minor": 0
      },
      "text/plain": [
       "HBox(children=(IntProgress(value=0, max=50), HTML(value='')))"
      ]
     },
     "metadata": {},
     "output_type": "display_data"
    },
    {
     "name": "stderr",
     "output_type": "stream",
     "text": [
      "[Parallel(n_jobs=-1)]: Using backend MultiprocessingBackend with 32 concurrent workers.\n",
      "[Parallel(n_jobs=-1)]: Done   9 out of  50 | elapsed:    2.0s remaining:    9.2s\n",
      "[Parallel(n_jobs=-1)]: Done  20 out of  50 | elapsed:    2.6s remaining:    3.8s\n",
      "[Parallel(n_jobs=-1)]: Done  31 out of  50 | elapsed:    2.9s remaining:    1.8s\n",
      "[Parallel(n_jobs=-1)]: Done  42 out of  50 | elapsed:    4.3s remaining:    0.8s\n",
      "[Parallel(n_jobs=-1)]: Done  50 out of  50 | elapsed:    7.3s finished\n"
     ]
    }
   ],
   "source": [
    "with joblib.parallel_backend('multiprocessing'):\n",
    "\n",
    "    with Parallel(n_jobs=-1, verbose=5, prefer=None) as parallel:\n",
    "        MI = parallel(\n",
    "            delayed(MI_from_distributions)(\n",
    "                sequences,\n",
    "                dist,\n",
    "                estimate=None,\n",
    "                unclustered_element=None,\n",
    "                n_jobs = 1,\n",
    "                mi_estimation='adjusted_mi_sklearn',\n",
    "            )\n",
    "            for dist_i, (dist) in enumerate(\n",
    "                tqdm(distances, leave=True, disable=disable_tqdm)\n",
    "            )\n",
    "        )"
   ]
  },
  {
   "cell_type": "code",
   "execution_count": 175,
   "metadata": {},
   "outputs": [],
   "source": [
    "MI = np.array(MI).T[0]"
   ]
  },
  {
   "cell_type": "code",
   "execution_count": 176,
   "metadata": {},
   "outputs": [
    {
     "data": {
      "text/plain": [
       "[<matplotlib.lines.Line2D at 0x7fb753498048>]"
      ]
     },
     "execution_count": 176,
     "metadata": {},
     "output_type": "execute_result"
    },
    {
     "data": {
      "image/png": "[encoded data removed]",
      "text/plain": [
       "<Figure size 432x288 with 1 Axes>"
      ]
     },
     "metadata": {
      "needs_background": "light"
     },
     "output_type": "display_data"
    }
   ],
   "source": [
    "plt.plot(distances, shuff_MI)"
   ]
  },
  {
   "cell_type": "code",
   "execution_count": 177,
   "metadata": {},
   "outputs": [],
   "source": [
    "def MI_from_distributions(\n",
    "    sequences,\n",
    "    dist,\n",
    "    estimate=False,\n",
    "    unclustered_element=None,\n",
    "    use_sklearn=True,\n",
    "    n_jobs = -1,\n",
    "    mi_estimation = \"grassberger\", # \"adjusted_mi\", None\n",
    "    **mi_kwargs\n",
    "):\n",
    "    np.random.seed()  # set seed\n",
    "    # create distributions\n",
    "    if np.sum([len(seq) > dist for seq in sequences]) == 0:\n",
    "        return (np.nan, np.nan)\n",
    "\n",
    "    distribution_a = np.concatenate(\n",
    "        [seq[dist:] for seq in sequences if len(seq) > dist]\n",
    "    )\n",
    "\n",
    "    distribution_b = np.concatenate(\n",
    "        [seq[:-dist] for seq in sequences if len(seq) > dist]\n",
    "    )\n",
    "\n",
    "    # mask unclustered so they are not considered in MI\n",
    "    if unclustered_element is not None:\n",
    "        mask = (distribution_a == unclustered_element) | (\n",
    "            distribution_b == unclustered_element\n",
    "        )\n",
    "        distribution_a = distribution_a[mask == False]\n",
    "        distribution_b = distribution_b[mask == False]\n",
    "\n",
    "    # calculate MI\n",
    "\n",
    "    if mi_estimation == \"grassberger\":\n",
    "        # See Grassberger, P. Entropy estimates from insufficient samplings. arXiv 2003, arXiv:0307138\n",
    "        return est_mutual_info_p(distribution_a, distribution_b, **mi_kwargs)\n",
    "    elif mi_estimation == \"adjusted_mi\":\n",
    "        # See Vinh, Epps, and Bailey, (2010). Information Theoretic Measures for Clusterings Comparison: Variants, Properties, Normalization and Correction for Chance, JMLR\n",
    "        return adjusted_mutual_information(distribution_a, distribution_b, n_jobs=n_jobs, **mi_kwargs)\n",
    "    elif mi_estimation == \"adjusted_mi_sklearn\":\n",
    "        # See Vinh, Epps, and Bailey, (2010). Information Theoretic Measures for Clusterings Comparison: Variants, Properties, Normalization and Correction for Chance, JMLR\n",
    "        #return (adjusted_mutual_info_score(distribution_a, distribution_b), 0)\n",
    "        return adjusted_mutual_information(distribution_a, distribution_b, emi_method=\"sklearn\", **mi_kwargs)\n",
    "    elif mi_estimation is None:\n",
    "        return (mutual_info_score(distribution_a, distribution_b, **mi_kwargs), 0)\n",
    "    else:\n",
    "        raise ValueError(\"MI estimator '{}' is not implemented\".format(mi_estimation))\n",
    "\n",
    "def sequential_mutual_information(\n",
    "    sequences,\n",
    "    distances,\n",
    "    n_jobs=1,\n",
    "    verbosity=5,\n",
    "    n_shuff_repeats=1,\n",
    "    estimate=True,\n",
    "    disable_tqdm=False,\n",
    "    prefer=\"threads\",  # is None better here?\n",
    "    mi_estimation = \"grassberger\",\n",
    "    unclustered_element=None,\n",
    "    **mi_kwargs\n",
    "):\n",
    "    \"\"\"\n",
    "    Compute mutual information as a function of distance between sequences\n",
    "    if n_jobs > 1,  will run in parallel\n",
    "    \"\"\"\n",
    "    # convert to numeric for faster computation\n",
    "    unique_elements = np.unique(np.concatenate(sequences))\n",
    "    n_unique = len(unique_elements)\n",
    "    seq_dict = {j: i for i, j in enumerate(unique_elements)}\n",
    "    if n_unique < 256:\n",
    "        sequences = [\n",
    "            np.array([seq_dict[i] for i in seq]).astype(\"uint8\") for seq in sequences\n",
    "        ]\n",
    "    elif n_unique < 65535:\n",
    "        sequences = [\n",
    "            np.array([seq_dict[i] for i in seq]).astype(\"uint16\") for seq in sequences\n",
    "        ]\n",
    "    else:\n",
    "        sequences = [\n",
    "            np.array([seq_dict[i] for i in seq]).astype(\"uint32\") for seq in sequences\n",
    "        ]\n",
    "\n",
    "    if unclustered_element is not None:\n",
    "        unclustered_element = seq_dict[unclustered_element]\n",
    "        print(unclustered_element)\n",
    "    else:\n",
    "        unclustered_element = None\n",
    "\n",
    "\n",
    "    if mi_estimation == \"adjusted_mi\":\n",
    "        # because parallelization occurs within the function\n",
    "        _n_jobs = copy.deepcopy(n_jobs)\n",
    "        n_jobs = 1\n",
    "    else:\n",
    "        _n_jobs = 1\n",
    "    # compute MI\n",
    "    if n_jobs == 1:\n",
    "        MI = [\n",
    "            MI_from_distributions(\n",
    "                sequences,\n",
    "                dist,\n",
    "                estimate=estimate,\n",
    "                unclustered_element=unclustered_element,\n",
    "                mi_estimation=mi_estimation,\n",
    "                **mi_kwargs\n",
    "            )\n",
    "            for dist_i, dist in enumerate(\n",
    "                tqdm(distances, leave=False, disable=disable_tqdm)\n",
    "            )\n",
    "        ]\n",
    "        distances_rep = np.repeat(distances, n_shuff_repeats)\n",
    "        shuff_MI = [\n",
    "            MI_from_distributions(\n",
    "                [np.random.permutation(i) for i in sequences],\n",
    "                dist,\n",
    "                estimate=estimate,\n",
    "                mi_estimation=mi_estimation,\n",
    "                **mi_kwargs\n",
    "            )\n",
    "            for dist_i, dist in enumerate(\n",
    "                tqdm(distances_rep, leave=False, disable=disable_tqdm)\n",
    "            )\n",
    "        ]\n",
    "\n",
    "        shuff_MI = np.reshape(shuff_MI, (len(distances), n_shuff_repeats, 2))\n",
    "        shuff_MI = np.mean(shuff_MI, axis=1)\n",
    "\n",
    "    else:\n",
    "        with Parallel(n_jobs=n_jobs, verbose=verbosity, prefer=prefer) as parallel:\n",
    "            MI = parallel(\n",
    "                delayed(MI_from_distributions)(\n",
    "                    sequences,\n",
    "                    dist,\n",
    "                    estimate=estimate,\n",
    "                    unclustered_element=unclustered_element,\n",
    "                    n_jobs = _n_jobs,\n",
    "                    mi_estimation=mi_estimation,\n",
    "                    **mi_kwargs\n",
    "                )\n",
    "                for dist_i, dist in enumerate(\n",
    "                    tqdm(distances, leave=False, disable=disable_tqdm)\n",
    "                )\n",
    "            )\n",
    "\n",
    "        with Parallel(n_jobs=n_jobs, verbose=verbosity, prefer=prefer) as parallel:\n",
    "            distances_rep = np.repeat(distances, n_shuff_repeats)\n",
    "            shuff_MI = parallel(\n",
    "                delayed(MI_from_distributions)(\n",
    "                    [np.random.permutation(i) for i in sequences],\n",
    "                    dist,\n",
    "                    estimate=estimate,\n",
    "                    unclustered_element=unclustered_element,\n",
    "                    n_jobs = _n_jobs,\n",
    "                    mi_estimation=mi_estimation,\n",
    "                    **mi_kwargs\n",
    "                )\n",
    "                for dist_i, dist in enumerate(\n",
    "                    tqdm(distances_rep, leave=False, disable=disable_tqdm)\n",
    "                )\n",
    "            )\n",
    "            shuff_MI = np.reshape(shuff_MI, (len(distances), n_shuff_repeats, 2))\n",
    "            shuff_MI = np.mean(shuff_MI, axis=1)\n",
    "\n",
    "    return np.array(MI).T, np.array(shuff_MI).T"
   ]
  },
  {
   "cell_type": "code",
   "execution_count": 178,
   "metadata": {},
   "outputs": [
    {
     "data": {
      "application/vnd.jupyter.widget-view+json": {
       "model_id": "",
       "version_major": 2,
       "version_minor": 0
      },
      "text/plain": [
       "HBox(children=(IntProgress(value=0, max=50), HTML(value='')))"
      ]
     },
     "metadata": {},
     "output_type": "display_data"
    },
    {
     "name": "stderr",
     "output_type": "stream",
     "text": [
      "[Parallel(n_jobs=-1)]: Using backend LokyBackend with 32 concurrent workers.\n",
      "[Parallel(n_jobs=-1)]: Done   1 tasks      | elapsed:    1.3s\n",
      "[Parallel(n_jobs=-1)]: Done   3 out of  50 | elapsed:    1.3s remaining:   21.0s\n",
      "[Parallel(n_jobs=-1)]: Done   5 out of  50 | elapsed:    1.5s remaining:   13.3s\n",
      "[Parallel(n_jobs=-1)]: Done   7 out of  50 | elapsed:    1.6s remaining:    9.9s\n",
      "[Parallel(n_jobs=-1)]: Done   9 out of  50 | elapsed:    1.7s remaining:    7.9s\n",
      "[Parallel(n_jobs=-1)]: Done  11 out of  50 | elapsed:    1.9s remaining:    6.6s\n",
      "[Parallel(n_jobs=-1)]: Done  13 out of  50 | elapsed:    2.2s remaining:    6.2s\n",
      "[Parallel(n_jobs=-1)]: Done  15 out of  50 | elapsed:    2.2s remaining:    5.1s\n",
      "[Parallel(n_jobs=-1)]: Done  17 out of  50 | elapsed:    2.2s remaining:    4.3s\n",
      "[Parallel(n_jobs=-1)]: Done  19 out of  50 | elapsed:    2.2s remaining:    3.6s\n",
      "[Parallel(n_jobs=-1)]: Done  21 out of  50 | elapsed:    2.3s remaining:    3.1s\n",
      "[Parallel(n_jobs=-1)]: Done  23 out of  50 | elapsed:    2.3s remaining:    2.7s\n",
      "[Parallel(n_jobs=-1)]: Done  25 out of  50 | elapsed:    2.3s remaining:    2.3s\n",
      "[Parallel(n_jobs=-1)]: Done  27 out of  50 | elapsed:    2.5s remaining:    2.1s\n",
      "[Parallel(n_jobs=-1)]: Done  29 out of  50 | elapsed:    2.5s remaining:    1.8s\n",
      "[Parallel(n_jobs=-1)]: Done  31 out of  50 | elapsed:    2.5s remaining:    1.5s\n",
      "[Parallel(n_jobs=-1)]: Done  33 out of  50 | elapsed:    2.6s remaining:    1.3s\n",
      "[Parallel(n_jobs=-1)]: Done  35 out of  50 | elapsed:    2.6s remaining:    1.1s\n",
      "[Parallel(n_jobs=-1)]: Done  37 out of  50 | elapsed:    2.8s remaining:    1.0s\n",
      "[Parallel(n_jobs=-1)]: Done  39 out of  50 | elapsed:    3.2s remaining:    0.9s\n",
      "[Parallel(n_jobs=-1)]: Done  41 out of  50 | elapsed:    3.5s remaining:    0.8s\n",
      "[Parallel(n_jobs=-1)]: Done  43 out of  50 | elapsed:    4.1s remaining:    0.7s\n",
      "[Parallel(n_jobs=-1)]: Done  45 out of  50 | elapsed:    4.7s remaining:    0.5s\n",
      "[Parallel(n_jobs=-1)]: Done  47 out of  50 | elapsed:    5.2s remaining:    0.3s\n",
      "[Parallel(n_jobs=-1)]: Done  50 out of  50 | elapsed:    6.5s finished\n"
     ]
    },
    {
     "data": {
      "application/vnd.jupyter.widget-view+json": {
       "model_id": "",
       "version_major": 2,
       "version_minor": 0
      },
      "text/plain": [
       "HBox(children=(IntProgress(value=0, max=50), HTML(value='')))"
      ]
     },
     "metadata": {},
     "output_type": "display_data"
    },
    {
     "name": "stderr",
     "output_type": "stream",
     "text": [
      "[Parallel(n_jobs=-1)]: Using backend LokyBackend with 32 concurrent workers.\n",
      "[Parallel(n_jobs=-1)]: Done   1 tasks      | elapsed:    1.7s\n",
      "[Parallel(n_jobs=-1)]: Done   3 out of  50 | elapsed:    1.8s remaining:   28.8s\n",
      "[Parallel(n_jobs=-1)]: Done   5 out of  50 | elapsed:    1.9s remaining:   17.3s\n",
      "[Parallel(n_jobs=-1)]: Done   7 out of  50 | elapsed:    2.0s remaining:   12.1s\n",
      "[Parallel(n_jobs=-1)]: Done   9 out of  50 | elapsed:    2.1s remaining:    9.5s\n",
      "[Parallel(n_jobs=-1)]: Done  11 out of  50 | elapsed:    2.3s remaining:    8.1s\n",
      "[Parallel(n_jobs=-1)]: Done  13 out of  50 | elapsed:    2.5s remaining:    7.2s\n",
      "[Parallel(n_jobs=-1)]: Done  15 out of  50 | elapsed:    2.8s remaining:    6.5s\n",
      "[Parallel(n_jobs=-1)]: Done  17 out of  50 | elapsed:    2.9s remaining:    5.6s\n",
      "[Parallel(n_jobs=-1)]: Done  19 out of  50 | elapsed:    2.9s remaining:    4.8s\n",
      "[Parallel(n_jobs=-1)]: Done  21 out of  50 | elapsed:    3.0s remaining:    4.1s\n",
      "[Parallel(n_jobs=-1)]: Done  23 out of  50 | elapsed:    3.0s remaining:    3.5s\n",
      "[Parallel(n_jobs=-1)]: Done  25 out of  50 | elapsed:    3.0s remaining:    3.0s\n",
      "[Parallel(n_jobs=-1)]: Done  27 out of  50 | elapsed:    3.1s remaining:    2.6s\n",
      "[Parallel(n_jobs=-1)]: Done  29 out of  50 | elapsed:    3.1s remaining:    2.2s\n",
      "[Parallel(n_jobs=-1)]: Done  31 out of  50 | elapsed:    3.2s remaining:    2.0s\n",
      "[Parallel(n_jobs=-1)]: Done  33 out of  50 | elapsed:    3.2s remaining:    1.7s\n",
      "[Parallel(n_jobs=-1)]: Done  35 out of  50 | elapsed:    3.3s remaining:    1.4s\n",
      "[Parallel(n_jobs=-1)]: Done  37 out of  50 | elapsed:    3.4s remaining:    1.2s\n",
      "[Parallel(n_jobs=-1)]: Done  39 out of  50 | elapsed:    3.6s remaining:    1.0s\n",
      "[Parallel(n_jobs=-1)]: Done  41 out of  50 | elapsed:    4.1s remaining:    0.9s\n",
      "[Parallel(n_jobs=-1)]: Done  43 out of  50 | elapsed:    4.5s remaining:    0.7s\n",
      "[Parallel(n_jobs=-1)]: Done  45 out of  50 | elapsed:    5.2s remaining:    0.6s\n",
      "[Parallel(n_jobs=-1)]: Done  47 out of  50 | elapsed:    5.6s remaining:    0.4s\n",
      "[Parallel(n_jobs=-1)]: Done  50 out of  50 | elapsed:    6.8s finished\n"
     ]
    }
   ],
   "source": [
    "(MI, MI_var), (shuff_MI, shuff_MI_var) = mi.sequential_mutual_information(\n",
    "        cohort_words, distances=distances, n_jobs=-1, mi_estimation=mi_estimation, prefer = None, verbosity=49\n",
    ")\n",
    "    "
   ]
  },
  {
   "cell_type": "code",
   "execution_count": 180,
   "metadata": {},
   "outputs": [
    {
     "data": {
      "image/png": "[encoded data removed]",
      "text/plain": [
       "<Figure size 720x288 with 2 Axes>"
      ]
     },
     "metadata": {
      "needs_background": "light"
     },
     "output_type": "display_data"
    }
   ],
   "source": [
    "fig,axs = plt.subplots(ncols=2, figsize = (10,4))\n",
    "ax = axs[0]\n",
    "ax.scatter(distances, MI-shuff_MI)\n",
    "ax.plot(distances, MI-shuff_MI, alpha = 0)\n",
    "ax.set_yscale('log')\n",
    "ax.set_xscale('log')\n",
    "\n",
    "ax = axs[1]\n",
    "ax.scatter(distances, MI)\n",
    "ax.scatter(distances, shuff_MI)\n",
    "plt.show()"
   ]
  },
  {
   "cell_type": "code",
   "execution_count": null,
   "metadata": {},
   "outputs": [],
   "source": [
    "def adjusted_mutual_information(labels_true, labels_pred, n_jobs = -1, emi_method=\"parallel\", use_cython=True,\n",
    "                               average_method='arithmetic'):\n",
    "    \"\"\"Adjusted Mutual Information.\n",
    "    Adjusted Mutual Information (AMI) is an adjustment of the Mutual\n",
    "    Information (MI) score to account for chance. It accounts for the fact that\n",
    "    the MI is generally higher for two clusterings with a larger number of\n",
    "    clusters, regardless of whether there is actually more information shared.\n",
    "    For two clusterings :math:`U` and :math:`V`, the AMI is given as::\n",
    "        AMI(U, V) = [MI(U, V) - E(MI(U, V))] / [avg(H(U), H(V)) - E(MI(U, V))]\n",
    "    \n",
    "    \"\"\"\n",
    "    n_samples = labels_true.shape[0]\n",
    "    classes = np.unique(labels_true)\n",
    "    clusters = np.unique(labels_pred)\n",
    "    # Special limit cases: no clustering since the data is not split.\n",
    "    # This is a perfect match hence return 1.0.\n",
    "    if (classes.shape[0] == clusters.shape[0] == 1 or\n",
    "            classes.shape[0] == clusters.shape[0] == 0):\n",
    "        return 1.0\n",
    "    contingency = contingency_matrix(labels_true, labels_pred, sparse=True)\n",
    "    contingency = contingency.astype(np.float64,\n",
    "                                     **_astype_copy_false(contingency))\n",
    "    # Calculate the MI for the two clusterings\n",
    "    mi = mutual_info_score(labels_true, labels_pred,\n",
    "                           contingency=contingency)\n",
    "    # Calculate the expected value for the mutual information\n",
    "    if emi_method == \"parallel\":\n",
    "        emi = emi_parallel(contingency, n_samples, use_cython = use_cython, n_jobs=n_jobs)\n",
    "    else:\n",
    "        emi = expected_mutual_information(contingency, n_samples)\n",
    "    # Calculate entropy for each labeling\n",
    "    h_true, h_pred = entropy(labels_true), entropy(labels_pred)\n",
    "    normalizer = _generalized_average(h_true, h_pred, average_method)\n",
    "    denominator = normalizer - emi\n",
    "    # Avoid 0.0 / 0.0 when expectation equals maximum, i.e a perfect match.\n",
    "    # normalizer should always be >= emi, but because of floating-point\n",
    "    # representation, sometimes emi is slightly larger. Correct this\n",
    "    # by preserving the sign.\n",
    "    if denominator < 0:\n",
    "        denominator = min(denominator, -np.finfo('float64').eps)\n",
    "    else:\n",
    "        denominator = max(denominator, np.finfo('float64').eps)\n",
    "    ami = (mi - emi) / denominator\n",
    "    return ami, emi"
   ]
  }
 ],
 "metadata": {
  "kernelspec": {
   "display_name": "Python 3",
   "language": "python",
   "name": "python3"
  },
  "language_info": {
   "codemirror_mode": {
    "name": "ipython",
    "version": 3
   },
   "file_extension": ".py",
   "mimetype": "text/x-python",
   "name": "python",
   "nbconvert_exporter": "python",
   "pygments_lexer": "ipython3",
   "version": "3.6.7"
  }
 },
 "nbformat": 4,
 "nbformat_minor": 2
}
