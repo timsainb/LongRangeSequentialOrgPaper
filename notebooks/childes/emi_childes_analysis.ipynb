{
 "cells": [
  {
   "cell_type": "code",
   "execution_count": 25,
   "metadata": {},
   "outputs": [],
   "source": [
    "from childes_mi.utils.paths import CHILDES_DFS, DATA_DIR\n",
    "from childes_mi.utils.general import flatten"
   ]
  },
  {
   "cell_type": "code",
   "execution_count": 26,
   "metadata": {},
   "outputs": [],
   "source": [
    "import pandas as pd\n",
    "import numpy as np\n",
    "import matplotlib.pyplot as plt"
   ]
  },
  {
   "cell_type": "code",
   "execution_count": 27,
   "metadata": {},
   "outputs": [],
   "source": [
    "mi_df = pd.read_pickle(DATA_DIR / 'mi' / 'childes_indv_ami.pickle')"
   ]
  },
  {
   "cell_type": "code",
   "execution_count": 28,
   "metadata": {},
   "outputs": [],
   "source": [
    "mi_df['shuffling'] = \"full\""
   ]
  },
  {
   "cell_type": "code",
   "execution_count": 29,
   "metadata": {},
   "outputs": [
    {
     "data": {
      "text/html": [
       "<div>\n",
       "<style scoped>\n",
       "    .dataframe tbody tr th:only-of-type {\n",
       "        vertical-align: middle;\n",
       "    }\n",
       "\n",
       "    .dataframe tbody tr th {\n",
       "        vertical-align: top;\n",
       "    }\n",
       "\n",
       "    .dataframe thead th {\n",
       "        text-align: right;\n",
       "    }\n",
       "</style>\n",
       "<table border=\"1\" class=\"dataframe\">\n",
       "  <thead>\n",
       "    <tr style=\"text-align: right;\">\n",
       "      <th></th>\n",
       "      <th>MI</th>\n",
       "      <th>MI_var</th>\n",
       "      <th>shuff_MI</th>\n",
       "      <th>shuff_MI_var</th>\n",
       "      <th>distances</th>\n",
       "      <th>age_cohort_low</th>\n",
       "      <th>age_cohort_high</th>\n",
       "      <th>n_words</th>\n",
       "      <th>n_unique_words</th>\n",
       "      <th>shuffling</th>\n",
       "    </tr>\n",
       "  </thead>\n",
       "  <tbody>\n",
       "    <tr>\n",
       "      <th>0</th>\n",
       "      <td>[0.38721355926673623, 0.2940603145404564, 0.24...</td>\n",
       "      <td>[6.4158670938439775, 6.3959801429100445, 6.375...</td>\n",
       "      <td>[0.13132725078118673, 0.13203050652023965, 0.1...</td>\n",
       "      <td>[6.4214196972873, 6.407626644686404, 6.3937540...</td>\n",
       "      <td>[1, 2, 3, 4, 5, 6, 7, 8, 9, 10, 11, 12, 13, 14...</td>\n",
       "      <td>1</td>\n",
       "      <td>1.5</td>\n",
       "      <td>15154</td>\n",
       "      <td>5439</td>\n",
       "      <td>full</td>\n",
       "    </tr>\n",
       "    <tr>\n",
       "      <th>1</th>\n",
       "      <td>[0.2859134717386194, 0.18579558543520222, 0.15...</td>\n",
       "      <td>[7.497267907719095, 7.4886567926354, 7.4809899...</td>\n",
       "      <td>[0.07428331676129152, 0.07483299273433702, 0.0...</td>\n",
       "      <td>[7.498527155330897, 7.492941949008011, 7.48457...</td>\n",
       "      <td>[1, 2, 3, 4, 5, 6, 7, 8, 9, 10, 11, 12, 13, 14...</td>\n",
       "      <td>1.5</td>\n",
       "      <td>2.0</td>\n",
       "      <td>57580</td>\n",
       "      <td>19538</td>\n",
       "      <td>full</td>\n",
       "    </tr>\n",
       "  </tbody>\n",
       "</table>\n",
       "</div>"
      ],
      "text/plain": [
       "                                                  MI  \\\n",
       "0  [0.38721355926673623, 0.2940603145404564, 0.24...   \n",
       "1  [0.2859134717386194, 0.18579558543520222, 0.15...   \n",
       "\n",
       "                                              MI_var  \\\n",
       "0  [6.4158670938439775, 6.3959801429100445, 6.375...   \n",
       "1  [7.497267907719095, 7.4886567926354, 7.4809899...   \n",
       "\n",
       "                                            shuff_MI  \\\n",
       "0  [0.13132725078118673, 0.13203050652023965, 0.1...   \n",
       "1  [0.07428331676129152, 0.07483299273433702, 0.0...   \n",
       "\n",
       "                                        shuff_MI_var  \\\n",
       "0  [6.4214196972873, 6.407626644686404, 6.3937540...   \n",
       "1  [7.498527155330897, 7.492941949008011, 7.48457...   \n",
       "\n",
       "                                           distances age_cohort_low  \\\n",
       "0  [1, 2, 3, 4, 5, 6, 7, 8, 9, 10, 11, 12, 13, 14...              1   \n",
       "1  [1, 2, 3, 4, 5, 6, 7, 8, 9, 10, 11, 12, 13, 14...            1.5   \n",
       "\n",
       "   age_cohort_high n_words n_unique_words shuffling  \n",
       "0              1.5   15154           5439      full  \n",
       "1              2.0   57580          19538      full  "
      ]
     },
     "execution_count": 29,
     "metadata": {},
     "output_type": "execute_result"
    }
   ],
   "source": [
    "mi_df"
   ]
  },
  {
   "cell_type": "code",
   "execution_count": 61,
   "metadata": {},
   "outputs": [
    {
     "data": {
      "image/png": "[encoded data removed]",
      "text/plain": [
       "<Figure size 432x288 with 1 Axes>"
      ]
     },
     "metadata": {
      "needs_background": "light"
     },
     "output_type": "display_data"
    }
   ],
   "source": [
    "row = mi_df.iloc[0]\n",
    "fig, ax = plt.subplots()\n",
    "ax.scatter(row.distances, row.MI-row.shuff_MI - 0.07)\n",
    "ax.plot(row.distances, row.MI-row.shuff_MI - 0.07, alpha = 0)\n",
    "ax.set_yscale('log')\n",
    "ax.set_xscale('log')\n",
    "#plt.loglog(row.distances, row.shuff_MI)"
   ]
  },
  {
   "cell_type": "code",
   "execution_count": 64,
   "metadata": {},
   "outputs": [
    {
     "data": {
      "text/plain": [
       "<matplotlib.collections.PathCollection at 0x7f13c506d5c0>"
      ]
     },
     "execution_count": 64,
     "metadata": {},
     "output_type": "execute_result"
    },
    {
     "data": {
      "image/png": "[encoded data removed]",
      "text/plain": [
       "<Figure size 432x288 with 1 Axes>"
      ]
     },
     "metadata": {
      "needs_background": "light"
     },
     "output_type": "display_data"
    }
   ],
   "source": [
    "row = mi_df.iloc[1]\n",
    "fig, ax = plt.subplots()\n",
    "ax.scatter(row.distances, row.MI)\n",
    "ax.scatter(row.distances, row.shuff_MI)\n",
    "#ax.set_yscale('log')\n",
    "##ax.set_xscale('log')\n",
    "#plt.loglog(row.distances, row.shuff_MI)"
   ]
  },
  {
   "cell_type": "code",
   "execution_count": 58,
   "metadata": {},
   "outputs": [
    {
     "data": {
      "image/png": "[encoded data removed]",
      "text/plain": [
       "<Figure size 432x288 with 1 Axes>"
      ]
     },
     "metadata": {
      "needs_background": "light"
     },
     "output_type": "display_data"
    }
   ],
   "source": [
    "row = mi_df.iloc[1]\n",
    "fig, ax = plt.subplots()\n",
    "ax.scatter(row.distances, row.MI-row.shuff_MI - 0.022)\n",
    "ax.plot(row.distances, row.MI-row.shuff_MI - 0.022, alpha = 0)\n",
    "ax.set_yscale('log')\n",
    "ax.set_xscale('log')\n",
    "#plt.loglog(row.distances, row.shuff_MI)"
   ]
  },
  {
   "cell_type": "code",
   "execution_count": 32,
   "metadata": {},
   "outputs": [],
   "source": [
    "age_cohorts = [[1, 1.5], [1.5, 2], [2, 2.5], [2.5, 3], [3, 20]]"
   ]
  },
  {
   "cell_type": "code",
   "execution_count": 38,
   "metadata": {},
   "outputs": [
    {
     "name": "stdout",
     "output_type": "stream",
     "text": [
      "full\n"
     ]
    },
    {
     "data": {
      "image/png": "[encoded data removed]",
      "text/plain": [
       "<Figure size 1440x288 with 5 Axes>"
      ]
     },
     "metadata": {
      "needs_background": "light"
     },
     "output_type": "display_data"
    }
   ],
   "source": [
    "for shuff in ['full']:\n",
    "    print(shuff)\n",
    "    fig, axs = plt.subplots(ncols=len(age_cohorts), figsize=(4*len(age_cohorts),4))\n",
    "\n",
    "    for axi, (idx, row) in enumerate(mi_df.iterrows()):\n",
    "        if row.shuffling != shuff: \n",
    "            continue\n",
    "        MI = row.MI-row.shuff_MI\n",
    "        MI_var = row.MI_var\n",
    "        #ax.scatter(distances, row.MI-row.shuff_MI)\n",
    "        ax = axs[np.array([i[0] for i in age_cohorts]) == row.age_cohort_low][0]\n",
    "        #ax.plot(distances, row.MI-row.shuff_MI, label = '{}-{} years'.format(row.age_cohort_low, row.age_cohort_high), lw=3)\n",
    "        ax.scatter(row.distances, row.MI-row.shuff_MI, s=10, color='k')\n",
    "        ax.fill_between(row.distances, MI-MI_var, MI+MI_var, alpha = 0.25, color= 'k')\n",
    "        #ax.legend()\n",
    "        ax.set_title('{}-{} years'.format(row.age_cohort_low, row.age_cohort_high))\n",
    "        ax.set_ylim([1e-2,1])\n",
    "        #ax.set_xlim([1, 100])\n",
    "\n",
    "        ax.set_yscale('log')\n",
    "        ax.set_xscale('log')\n",
    "    plt.show()"
   ]
  },
  {
   "cell_type": "code",
   "execution_count": null,
   "metadata": {},
   "outputs": [],
   "source": []
  }
 ],
 "metadata": {
  "kernelspec": {
   "display_name": "Python 3",
   "language": "python",
   "name": "python3"
  },
  "language_info": {
   "codemirror_mode": {
    "name": "ipython",
    "version": 3
   },
   "file_extension": ".py",
   "mimetype": "text/x-python",
   "name": "python",
   "nbconvert_exporter": "python",
   "pygments_lexer": "ipython3",
   "version": "3.6.7"
  }
 },
 "nbformat": 4,
 "nbformat_minor": 2
}
