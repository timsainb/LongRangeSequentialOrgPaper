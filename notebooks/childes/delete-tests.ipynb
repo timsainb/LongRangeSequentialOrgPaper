{
 "cells": [
  {
   "cell_type": "code",
   "execution_count": null,
   "metadata": {},
   "outputs": [],
   "source": []
  },
  {
   "cell_type": "code",
   "execution_count": 1,
   "metadata": {
    "scrolled": true
   },
   "outputs": [
    {
     "name": "stdout",
     "output_type": "stream",
     "text": [
      "1 5 11\n",
      "1 5 12\n",
      "1 5 13\n",
      "1 5 14\n",
      "1 6 11\n",
      "1 6 12\n",
      "1 6 13\n",
      "1 6 14\n",
      "1 7 11\n",
      "1 7 12\n",
      "1 7 13\n",
      "1 7 14\n",
      "1 8 11\n",
      "1 8 12\n",
      "1 8 13\n",
      "1 8 14\n",
      "1 9 11\n",
      "1 9 12\n",
      "1 9 13\n",
      "1 9 14\n",
      "2 5 11\n",
      "2 5 12\n",
      "2 5 13\n",
      "2 5 14\n",
      "2 6 11\n",
      "2 6 12\n",
      "2 6 13\n",
      "2 6 14\n",
      "2 7 11\n",
      "2 7 12\n",
      "2 7 13\n",
      "2 7 14\n",
      "2 8 11\n",
      "2 8 12\n",
      "2 8 13\n",
      "2 8 14\n",
      "2 9 11\n",
      "2 9 12\n",
      "2 9 13\n",
      "2 9 14\n",
      "3 5 11\n",
      "3 5 12\n",
      "3 5 13\n",
      "3 5 14\n",
      "3 6 11\n",
      "3 6 12\n",
      "3 6 13\n",
      "3 6 14\n",
      "3 7 11\n",
      "3 7 12\n",
      "3 7 13\n",
      "3 7 14\n",
      "3 8 11\n",
      "3 8 12\n",
      "3 8 13\n",
      "3 8 14\n",
      "3 9 11\n",
      "3 9 12\n",
      "3 9 13\n",
      "3 9 14\n",
      "4 5 11\n",
      "4 5 12\n",
      "4 5 13\n",
      "4 5 14\n",
      "4 6 11\n",
      "4 6 12\n",
      "4 6 13\n",
      "4 6 14\n",
      "4 7 11\n",
      "4 7 12\n",
      "4 7 13\n",
      "4 7 14\n",
      "4 8 11\n",
      "4 8 12\n",
      "4 8 13\n",
      "4 8 14\n",
      "4 9 11\n",
      "4 9 12\n",
      "4 9 13\n",
      "4 9 14\n"
     ]
    }
   ],
   "source": [
    "for i in range(1,5):\n",
    "    for j in range(5,10):\n",
    "        for nij in range(11,15):\n",
    "            print(i,j,nij)"
   ]
  },
  {
   "cell_type": "code",
   "execution_count": 5,
   "metadata": {},
   "outputs": [],
   "source": [
    "import numpy as np"
   ]
  },
  {
   "cell_type": "code",
   "execution_count": 8,
   "metadata": {
    "scrolled": true
   },
   "outputs": [
    {
     "data": {
      "text/plain": [
       "array([[ 1,  5, 11],\n",
       "       [ 1,  5, 12],\n",
       "       [ 1,  5, 13],\n",
       "       [ 1,  5, 14],\n",
       "       [ 1,  6, 11],\n",
       "       [ 1,  6, 12],\n",
       "       [ 1,  6, 13],\n",
       "       [ 1,  6, 14],\n",
       "       [ 1,  7, 11],\n",
       "       [ 1,  7, 12],\n",
       "       [ 1,  7, 13],\n",
       "       [ 1,  7, 14],\n",
       "       [ 1,  8, 11],\n",
       "       [ 1,  8, 12],\n",
       "       [ 1,  8, 13],\n",
       "       [ 1,  8, 14],\n",
       "       [ 1,  9, 11],\n",
       "       [ 1,  9, 12],\n",
       "       [ 1,  9, 13],\n",
       "       [ 1,  9, 14],\n",
       "       [ 2,  5, 11],\n",
       "       [ 2,  5, 12],\n",
       "       [ 2,  5, 13],\n",
       "       [ 2,  5, 14],\n",
       "       [ 2,  6, 11],\n",
       "       [ 2,  6, 12],\n",
       "       [ 2,  6, 13],\n",
       "       [ 2,  6, 14],\n",
       "       [ 2,  7, 11],\n",
       "       [ 2,  7, 12],\n",
       "       [ 2,  7, 13],\n",
       "       [ 2,  7, 14],\n",
       "       [ 2,  8, 11],\n",
       "       [ 2,  8, 12],\n",
       "       [ 2,  8, 13],\n",
       "       [ 2,  8, 14],\n",
       "       [ 2,  9, 11],\n",
       "       [ 2,  9, 12],\n",
       "       [ 2,  9, 13],\n",
       "       [ 2,  9, 14],\n",
       "       [ 3,  5, 11],\n",
       "       [ 3,  5, 12],\n",
       "       [ 3,  5, 13],\n",
       "       [ 3,  5, 14],\n",
       "       [ 3,  6, 11],\n",
       "       [ 3,  6, 12],\n",
       "       [ 3,  6, 13],\n",
       "       [ 3,  6, 14],\n",
       "       [ 3,  7, 11],\n",
       "       [ 3,  7, 12],\n",
       "       [ 3,  7, 13],\n",
       "       [ 3,  7, 14],\n",
       "       [ 3,  8, 11],\n",
       "       [ 3,  8, 12],\n",
       "       [ 3,  8, 13],\n",
       "       [ 3,  8, 14],\n",
       "       [ 3,  9, 11],\n",
       "       [ 3,  9, 12],\n",
       "       [ 3,  9, 13],\n",
       "       [ 3,  9, 14],\n",
       "       [ 4,  5, 11],\n",
       "       [ 4,  5, 12],\n",
       "       [ 4,  5, 13],\n",
       "       [ 4,  5, 14],\n",
       "       [ 4,  6, 11],\n",
       "       [ 4,  6, 12],\n",
       "       [ 4,  6, 13],\n",
       "       [ 4,  6, 14],\n",
       "       [ 4,  7, 11],\n",
       "       [ 4,  7, 12],\n",
       "       [ 4,  7, 13],\n",
       "       [ 4,  7, 14],\n",
       "       [ 4,  8, 11],\n",
       "       [ 4,  8, 12],\n",
       "       [ 4,  8, 13],\n",
       "       [ 4,  8, 14],\n",
       "       [ 4,  9, 11],\n",
       "       [ 4,  9, 12],\n",
       "       [ 4,  9, 13],\n",
       "       [ 4,  9, 14]])"
      ]
     },
     "execution_count": 8,
     "metadata": {},
     "output_type": "execute_result"
    }
   ],
   "source": [
    "np.concatenate([np.concatenate([[[i,j,nij] for nij in range(11,15)] for j in range(5,10)]) for i in range(1,5)])"
   ]
  },
  {
   "cell_type": "code",
   "execution_count": 9,
   "metadata": {},
   "outputs": [
    {
     "data": {
      "text/plain": [
       "array([ 1,  2, 34])"
      ]
     },
     "execution_count": 9,
     "metadata": {},
     "output_type": "execute_result"
    }
   ],
   "source": [
    "np.array([1,2,34])"
   ]
  },
  {
   "cell_type": "code",
   "execution_count": 13,
   "metadata": {},
   "outputs": [
    {
     "data": {
      "text/plain": [
       "True"
      ]
     },
     "execution_count": 13,
     "metadata": {},
     "output_type": "execute_result"
    }
   ],
   "source": [
    "type(np.array([1,2,34])) == np.ndarray"
   ]
  },
  {
   "cell_type": "code",
   "execution_count": 1,
   "metadata": {
    "ExecuteTime": {
     "end_time": "2020-01-10T18:57:22.154597Z",
     "start_time": "2020-01-10T18:57:21.341568Z"
    }
   },
   "outputs": [],
   "source": [
    "from rpy2.robjects import r"
   ]
  },
  {
   "cell_type": "code",
   "execution_count": 3,
   "metadata": {
    "ExecuteTime": {
     "end_time": "2020-01-10T18:59:04.547383Z",
     "start_time": "2020-01-10T18:59:04.537026Z"
    }
   },
   "outputs": [],
   "source": [
    "# https://github.com/clajusch/ClEvaR/blob/master/R/Calculations.R\n",
    "test = r(\"\"\"\n",
    "EMI <- function(subject, query) {\n",
    "  mi <- MI(subject, query)\n",
    "  s1 <- tabulate(subject)\n",
    "  s2 <- tabulate(query)\n",
    "  N <- length(subject)\n",
    "  l1 <- length(s1)\n",
    "  l2 <- length(s2)\n",
    "  s_emi <- 0\n",
    "  for(i in 1:l1){\n",
    "    for (j in 1:l2){\n",
    "      min_nij <- max(1,s1[i]+s2[j]-N)\n",
    "      max_nij <- min(s1[i],s2[j])\n",
    "      n.ij <- seq(min_nij, max_nij)   #sequence of consecutive numbers\n",
    "      t1<- (n.ij / N) * log((n.ij * N) / (s1[i]*s2[j]))\n",
    "      t2 <- exp(lfactorial(s1[i]) +\n",
    "                  lfactorial(s2[j]) +\n",
    "                  lfactorial(N - s1[i]) +\n",
    "                  lfactorial(N - s2[j]) -\n",
    "                  lfactorial(N) -\n",
    "                  lfactorial(n.ij) -\n",
    "                  lfactorial(s1[i] - n.ij) -\n",
    "                  lfactorial(s2[j] - n.ij) -\n",
    "                  lfactorial(N - s1[i] - s2[j] + n.ij))\n",
    "      emi <- sum(t1*t2)\n",
    "      s_emi <- s_emi + emi\n",
    "    }\n",
    "  }\n",
    "  return(s_emi)\n",
    "}\n",
    "\"\"\")"
   ]
  },
  {
   "cell_type": "code",
   "execution_count": 4,
   "metadata": {
    "ExecuteTime": {
     "end_time": "2020-01-10T18:59:05.729375Z",
     "start_time": "2020-01-10T18:59:05.720842Z"
    }
   },
   "outputs": [
    {
     "data": {
      "text/plain": [
       "R object with classes: ('function',) mapped to:"
      ]
     },
     "execution_count": 4,
     "metadata": {},
     "output_type": "execute_result"
    }
   ],
   "source": [
    "test."
   ]
  },
  {
   "cell_type": "code",
   "execution_count": 6,
   "metadata": {
    "ExecuteTime": {
     "end_time": "2020-01-10T20:15:05.126645Z",
     "start_time": "2020-01-10T20:15:04.266452Z"
    }
   },
   "outputs": [],
   "source": [
    "import numpy as np"
   ]
  },
  {
   "cell_type": "code",
   "execution_count": 17,
   "metadata": {
    "ExecuteTime": {
     "end_time": "2020-01-10T20:17:47.349619Z",
     "start_time": "2020-01-10T20:17:47.341231Z"
    }
   },
   "outputs": [
    {
     "data": {
      "text/plain": [
       "array([0, 0, 0, 1, 1, 1, 2, 2, 2, 3, 3, 3])"
      ]
     },
     "execution_count": 17,
     "metadata": {},
     "output_type": "execute_result"
    }
   ],
   "source": [
    "a = np.repeat(range(4), 3)\n",
    "a"
   ]
  },
  {
   "cell_type": "code",
   "execution_count": 13,
   "metadata": {
    "ExecuteTime": {
     "end_time": "2020-01-10T20:16:18.239191Z",
     "start_time": "2020-01-10T20:16:18.231600Z"
    }
   },
   "outputs": [
    {
     "data": {
      "text/plain": [
       "array([0, 1, 2, 0, 1, 2, 0, 1, 2])"
      ]
     },
     "execution_count": 13,
     "metadata": {},
     "output_type": "execute_result"
    }
   ],
   "source": [
    "b = np.tile(range(3), 3)\n",
    "b"
   ]
  },
  {
   "cell_type": "code",
   "execution_count": 16,
   "metadata": {
    "ExecuteTime": {
     "end_time": "2020-01-10T20:16:46.202672Z",
     "start_time": "2020-01-10T20:16:46.194387Z"
    }
   },
   "outputs": [
    {
     "data": {
      "text/plain": [
       "array([[0, 0],\n",
       "       [0, 1],\n",
       "       [0, 2],\n",
       "       [1, 0],\n",
       "       [1, 1],\n",
       "       [1, 2],\n",
       "       [2, 0],\n",
       "       [2, 1],\n",
       "       [2, 2]])"
      ]
     },
     "execution_count": 16,
     "metadata": {},
     "output_type": "execute_result"
    }
   ],
   "source": [
    "np.vstack([a,b]).T"
   ]
  },
  {
   "cell_type": "code",
   "execution_count": 20,
   "metadata": {
    "ExecuteTime": {
     "end_time": "2020-01-10T20:31:37.507780Z",
     "start_time": "2020-01-10T20:31:37.496868Z"
    }
   },
   "outputs": [
    {
     "data": {
      "text/plain": [
       "[[0, 0],\n",
       " [0, 1],\n",
       " [0, 2],\n",
       " [0, 3],\n",
       " [0, 4],\n",
       " [1, 0],\n",
       " [1, 1],\n",
       " [1, 2],\n",
       " [1, 3],\n",
       " [1, 4],\n",
       " [2, 0],\n",
       " [2, 1],\n",
       " [2, 2],\n",
       " [2, 3],\n",
       " [2, 4],\n",
       " [3, 0],\n",
       " [3, 1],\n",
       " [3, 2],\n",
       " [3, 3],\n",
       " [3, 4]]"
      ]
     },
     "execution_count": 20,
     "metadata": {},
     "output_type": "execute_result"
    }
   ],
   "source": [
    "[[i, j] for i in range(4) for j in range(5)]"
   ]
  },
  {
   "cell_type": "code",
   "execution_count": 21,
   "metadata": {
    "ExecuteTime": {
     "end_time": "2020-01-10T21:08:12.201342Z",
     "start_time": "2020-01-10T21:08:12.191854Z"
    }
   },
   "outputs": [
    {
     "data": {
      "text/plain": [
       "array([[ 4,  5,  6],\n",
       "       [ 8, 10, 12],\n",
       "       [12, 15, 18]])"
      ]
     },
     "execution_count": 21,
     "metadata": {},
     "output_type": "execute_result"
    }
   ],
   "source": [
    "np.outer([1,2,3], [4,5,6])"
   ]
  },
  {
   "cell_type": "code",
   "execution_count": null,
   "metadata": {},
   "outputs": [],
   "source": []
  }
 ],
 "metadata": {
  "kernelspec": {
   "display_name": "Python 3",
   "language": "python",
   "name": "python3"
  }
 },
 "nbformat": 4,
 "nbformat_minor": 2
}
