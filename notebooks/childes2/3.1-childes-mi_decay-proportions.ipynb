{
 "cells": [
  {
   "cell_type": "code",
   "execution_count": 1,
   "metadata": {
    "ExecuteTime": {
     "end_time": "2019-10-17T17:31:30.886260Z",
     "start_time": "2019-10-17T17:31:30.781371Z"
    }
   },
   "outputs": [],
   "source": [
    "%load_ext autoreload\n",
    "%autoreload 2"
   ]
  },
  {
   "cell_type": "code",
   "execution_count": 2,
   "metadata": {
    "ExecuteTime": {
     "end_time": "2019-10-17T17:31:35.602420Z",
     "start_time": "2019-10-17T17:31:30.922677Z"
    }
   },
   "outputs": [],
   "source": [
    "from childes_mi.utils.paths import DATA_DIR, FIGURE_DIR\n",
    "from childes_mi.utils.general import flatten,save_fig"
   ]
  },
  {
   "cell_type": "code",
   "execution_count": 3,
   "metadata": {
    "ExecuteTime": {
     "end_time": "2019-10-17T17:31:45.812610Z",
     "start_time": "2019-10-17T17:31:35.606604Z"
    }
   },
   "outputs": [],
   "source": [
    "from childes_mi.information_theory import model_fitting as mf"
   ]
  },
  {
   "cell_type": "code",
   "execution_count": 4,
   "metadata": {
    "ExecuteTime": {
     "end_time": "2019-10-17T17:31:45.980654Z",
     "start_time": "2019-10-17T17:31:45.816558Z"
    }
   },
   "outputs": [
    {
     "name": "stderr",
     "output_type": "stream",
     "text": [
      "/mnt/cube/tsainbur/conda_envs/tpy3/lib/python3.6/site-packages/tqdm/autonotebook/__init__.py:14: TqdmExperimentalWarning: Using `tqdm.autonotebook.tqdm` in notebook mode. Use `tqdm.tqdm` instead to force console mode (e.g. in jupyter console)\n",
      "  \" (e.g. in jupyter console)\", TqdmExperimentalWarning)\n"
     ]
    }
   ],
   "source": [
    "import pandas as pd\n",
    "import numpy as np\n",
    "import matplotlib.pyplot as plt\n",
    "from tqdm.autonotebook import tqdm"
   ]
  },
  {
   "cell_type": "code",
   "execution_count": 5,
   "metadata": {
    "ExecuteTime": {
     "end_time": "2019-10-17T17:31:57.656502Z",
     "start_time": "2019-10-17T17:31:45.985903Z"
    }
   },
   "outputs": [],
   "source": [
    "MI_DF = pd.read_pickle(DATA_DIR/'mi/childes_mi.pickle')"
   ]
  },
  {
   "cell_type": "code",
   "execution_count": 6,
   "metadata": {
    "ExecuteTime": {
     "end_time": "2019-10-17T17:31:57.824756Z",
     "start_time": "2019-10-17T17:31:57.661612Z"
    }
   },
   "outputs": [
    {
     "data": {
      "text/html": [
       "<div>\n",
       "<style scoped>\n",
       "    .dataframe tbody tr th:only-of-type {\n",
       "        vertical-align: middle;\n",
       "    }\n",
       "\n",
       "    .dataframe tbody tr th {\n",
       "        vertical-align: top;\n",
       "    }\n",
       "\n",
       "    .dataframe thead th {\n",
       "        text-align: right;\n",
       "    }\n",
       "</style>\n",
       "<table border=\"1\" class=\"dataframe\">\n",
       "  <thead>\n",
       "    <tr style=\"text-align: right;\">\n",
       "      <th></th>\n",
       "      <th>MI</th>\n",
       "      <th>MI_var</th>\n",
       "      <th>shuff_MI</th>\n",
       "      <th>shuff_MI_var</th>\n",
       "      <th>distances</th>\n",
       "      <th>age_cohort_low</th>\n",
       "      <th>age_cohort_high</th>\n",
       "      <th>n_words</th>\n",
       "      <th>n_unique_words</th>\n",
       "    </tr>\n",
       "  </thead>\n",
       "  <tbody>\n",
       "    <tr>\n",
       "      <th>0</th>\n",
       "      <td>[6.0615547382637684, 5.953026573946322, 5.8999...</td>\n",
       "      <td>[0.06497202939114834, 0.06421181443545038, 0.0...</td>\n",
       "      <td>[5.79799893493386, 5.805771966570329, 5.792474...</td>\n",
       "      <td>[0.06474471004074468, 0.06537742978608413, 0.0...</td>\n",
       "      <td>[1, 2, 3, 4, 5, 6, 7, 8, 9, 10, 11, 12, 13, 14...</td>\n",
       "      <td>0.5</td>\n",
       "      <td>1</td>\n",
       "      <td>2371</td>\n",
       "      <td>72</td>\n",
       "    </tr>\n",
       "    <tr>\n",
       "      <th>1</th>\n",
       "      <td>[10.373016081368098, 10.130972857078175, 9.987...</td>\n",
       "      <td>[0.00937963690006051, 0.009307961610168364, 0....</td>\n",
       "      <td>[9.60947032947951, 9.60572819037825, 9.5994570...</td>\n",
       "      <td>[0.009097935454051041, 0.009124346562127784, 0...</td>\n",
       "      <td>[1, 2, 3, 4, 5, 6, 7, 8, 9, 10, 11, 12, 13, 14...</td>\n",
       "      <td>1.0</td>\n",
       "      <td>1.5</td>\n",
       "      <td>67747</td>\n",
       "      <td>3609</td>\n",
       "    </tr>\n",
       "    <tr>\n",
       "      <th>2</th>\n",
       "      <td>[11.349881924265677, 11.087999639009142, 10.96...</td>\n",
       "      <td>[0.005174827403727939, 0.005136394630766223, 0...</td>\n",
       "      <td>[10.681207621740015, 10.677630292519837, 10.67...</td>\n",
       "      <td>[0.005060342080401666, 0.005066649080465537, 0...</td>\n",
       "      <td>[1, 2, 3, 4, 5, 6, 7, 8, 9, 10, 11, 12, 13, 14...</td>\n",
       "      <td>1.5</td>\n",
       "      <td>2</td>\n",
       "      <td>232191</td>\n",
       "      <td>8134</td>\n",
       "    </tr>\n",
       "  </tbody>\n",
       "</table>\n",
       "</div>"
      ],
      "text/plain": [
       "                                                  MI  \\\n",
       "0  [6.0615547382637684, 5.953026573946322, 5.8999...   \n",
       "1  [10.373016081368098, 10.130972857078175, 9.987...   \n",
       "2  [11.349881924265677, 11.087999639009142, 10.96...   \n",
       "\n",
       "                                              MI_var  \\\n",
       "0  [0.06497202939114834, 0.06421181443545038, 0.0...   \n",
       "1  [0.00937963690006051, 0.009307961610168364, 0....   \n",
       "2  [0.005174827403727939, 0.005136394630766223, 0...   \n",
       "\n",
       "                                            shuff_MI  \\\n",
       "0  [5.79799893493386, 5.805771966570329, 5.792474...   \n",
       "1  [9.60947032947951, 9.60572819037825, 9.5994570...   \n",
       "2  [10.681207621740015, 10.677630292519837, 10.67...   \n",
       "\n",
       "                                        shuff_MI_var  \\\n",
       "0  [0.06474471004074468, 0.06537742978608413, 0.0...   \n",
       "1  [0.009097935454051041, 0.009124346562127784, 0...   \n",
       "2  [0.005060342080401666, 0.005066649080465537, 0...   \n",
       "\n",
       "                                           distances  age_cohort_low  \\\n",
       "0  [1, 2, 3, 4, 5, 6, 7, 8, 9, 10, 11, 12, 13, 14...             0.5   \n",
       "1  [1, 2, 3, 4, 5, 6, 7, 8, 9, 10, 11, 12, 13, 14...             1.0   \n",
       "2  [1, 2, 3, 4, 5, 6, 7, 8, 9, 10, 11, 12, 13, 14...             1.5   \n",
       "\n",
       "  age_cohort_high n_words n_unique_words  \n",
       "0               1    2371             72  \n",
       "1             1.5   67747           3609  \n",
       "2               2  232191           8134  "
      ]
     },
     "execution_count": 6,
     "metadata": {},
     "output_type": "execute_result"
    }
   ],
   "source": [
    "MI_DF[:3]"
   ]
  },
  {
   "cell_type": "code",
   "execution_count": 7,
   "metadata": {
    "ExecuteTime": {
     "end_time": "2019-10-17T17:31:57.869427Z",
     "start_time": "2019-10-17T17:31:57.828068Z"
    }
   },
   "outputs": [],
   "source": [
    "MI_DF = MI_DF.assign(**{i:np.nan for i in ['exp_results', 'pow_results', 'concat_results',\n",
    "     'R2_exp', 'R2_concat', 'R2_power', 'AICc_exp',\n",
    "     'AICc_concat', 'AICc_power', 'bestfitmodel', 'curvature', 'min_peak']})\n",
    "MI_DF['curvature'] = MI_DF['curvature'].astype(object)"
   ]
  },
  {
   "cell_type": "code",
   "execution_count": 8,
   "metadata": {
    "ExecuteTime": {
     "end_time": "2019-10-17T17:32:01.716571Z",
     "start_time": "2019-10-17T17:31:57.871738Z"
    }
   },
   "outputs": [
    {
     "data": {
      "application/vnd.jupyter.widget-view+json": {
       "model_id": "837f107387784dd9803d79e356e51be8",
       "version_major": 2,
       "version_minor": 0
      },
      "text/plain": [
       "HBox(children=(IntProgress(value=0, max=6), HTML(value='')))"
      ]
     },
     "metadata": {},
     "output_type": "display_data"
    },
    {
     "name": "stderr",
     "output_type": "stream",
     "text": [
      "/mnt/cube/tsainbur/Projects/github_repos/childes_mi_project/childes_mi/information_theory/model_fitting.py:8: RuntimeWarning: invalid value encountered in log\n",
      "  return np.abs(np.log(y_true) - np.log(y_model)) * (1 / (np.log(1 + x)))\n"
     ]
    },
    {
     "name": "stdout",
     "output_type": "stream",
     "text": [
      "0.5 1 exp\n",
      "1.0 1.5 pow_exp\n",
      "1.5 2 pow_exp\n",
      "2.0 2.5 pow_exp\n",
      "2.5 3 pow_exp\n",
      "3.0 20 pow_exp\n",
      "\n"
     ]
    }
   ],
   "source": [
    "n = 100 # max distance for computation\n",
    "for idx, row in tqdm(MI_DF.iterrows(), total=len(MI_DF)):\n",
    "    # get signal\n",
    "    sig = np.array(row.MI-row.shuff_MI)\n",
    "    distances = row.distances\n",
    "    \n",
    "    sig = sig\n",
    "    \n",
    "    # fit models\n",
    "    results_power, results_exp, results_pow_exp, best_fit_model = mf.fit_models(distances, sig)\n",
    "    \n",
    "    # get fit results\n",
    "    R2_exp, R2_concat, R2_power, AICc_exp, \\\n",
    "        AICc_pow, AICc_concat = mf.fit_results(sig, distances, \n",
    "                                              results_exp, results_power,\n",
    "                                              results_pow_exp)\n",
    "    \n",
    "    \n",
    "    # get model y\n",
    "    distances_mod = np.logspace(0,np.log10(n), base=10, num=1000)\n",
    "    if best_fit_model == 'pow_exp':\n",
    "        y_model = mf.get_y(mf.pow_exp_decay, results_pow_exp, distances_mod)\n",
    "    elif best_fit_model == 'exp':\n",
    "        y_model = mf.get_y(mf.exp_decay, results_exp, distances_mod)\n",
    "    elif best_fit_model == 'pow':\n",
    "        y_model = mf.get_y(mf.powerlaw_decay, results_power, distances_mod)\n",
    "    \n",
    "    # get curvature of model_y\n",
    "    curvature_model = mf.curvature(np.log(y_model))\n",
    "    \n",
    "    # if the best fit model is pow_exp, then grab the min peak\n",
    "    if best_fit_model == 'pow_exp':\n",
    "        # get peaks of curvature\n",
    "        peaks = np.where((\n",
    "            (curvature_model[:-1] < curvature_model[1:])[1:] & (curvature_model[1:] < curvature_model[:-1])[:-1]\n",
    "        ))\n",
    "        min_peak = peaks[0][0]\n",
    "    else:\n",
    "        min_peak = np.nan\n",
    "\n",
    "    # get save model fit results to MI_DF\n",
    "    MI_DF.loc[idx, np.array(['exp_results', 'pow_results', 'concat_results',\n",
    "                         'R2_exp', 'R2_concat', 'R2_power', 'AICc_exp',\n",
    "                         'AICc_concat', 'AICc_power', 'bestfitmodel', 'curvature', 'min_peak'])] = [\n",
    "        results_exp, results_power, results_pow_exp,\n",
    "        R2_exp, R2_concat, R2_power, AICc_exp,\n",
    "        AICc_concat, AICc_pow, best_fit_model,\n",
    "        curvature_model, min_peak\n",
    "    ]\n",
    "\n",
    "    print(row.age_cohort_low, row.age_cohort_high, best_fit_model)"
   ]
  },
  {
   "cell_type": "code",
   "execution_count": 9,
   "metadata": {
    "ExecuteTime": {
     "end_time": "2019-10-17T17:32:01.818107Z",
     "start_time": "2019-10-17T17:32:01.719118Z"
    }
   },
   "outputs": [
    {
     "data": {
      "text/html": [
       "<div>\n",
       "<style scoped>\n",
       "    .dataframe tbody tr th:only-of-type {\n",
       "        vertical-align: middle;\n",
       "    }\n",
       "\n",
       "    .dataframe tbody tr th {\n",
       "        vertical-align: top;\n",
       "    }\n",
       "\n",
       "    .dataframe thead th {\n",
       "        text-align: right;\n",
       "    }\n",
       "</style>\n",
       "<table border=\"1\" class=\"dataframe\">\n",
       "  <thead>\n",
       "    <tr style=\"text-align: right;\">\n",
       "      <th></th>\n",
       "      <th>MI</th>\n",
       "      <th>MI_var</th>\n",
       "      <th>shuff_MI</th>\n",
       "      <th>shuff_MI_var</th>\n",
       "      <th>distances</th>\n",
       "      <th>age_cohort_low</th>\n",
       "      <th>age_cohort_high</th>\n",
       "      <th>n_words</th>\n",
       "      <th>n_unique_words</th>\n",
       "      <th>exp_results</th>\n",
       "      <th>...</th>\n",
       "      <th>concat_results</th>\n",
       "      <th>R2_exp</th>\n",
       "      <th>R2_concat</th>\n",
       "      <th>R2_power</th>\n",
       "      <th>AICc_exp</th>\n",
       "      <th>AICc_concat</th>\n",
       "      <th>AICc_power</th>\n",
       "      <th>bestfitmodel</th>\n",
       "      <th>curvature</th>\n",
       "      <th>min_peak</th>\n",
       "    </tr>\n",
       "  </thead>\n",
       "  <tbody>\n",
       "    <tr>\n",
       "      <th>0</th>\n",
       "      <td>[6.0615547382637684, 5.953026573946322, 5.8999...</td>\n",
       "      <td>[0.06497202939114834, 0.06421181443545038, 0.0...</td>\n",
       "      <td>[5.79799893493386, 5.805771966570329, 5.792474...</td>\n",
       "      <td>[0.06474471004074468, 0.06537742978608413, 0.0...</td>\n",
       "      <td>[1, 2, 3, 4, 5, 6, 7, 8, 9, 10, 11, 12, 13, 14...</td>\n",
       "      <td>0.5</td>\n",
       "      <td>1</td>\n",
       "      <td>2371</td>\n",
       "      <td>72</td>\n",
       "      <td>&lt;lmfit.minimizer.MinimizerResult object at 0x7...</td>\n",
       "      <td>...</td>\n",
       "      <td>&lt;lmfit.minimizer.MinimizerResult object at 0x7...</td>\n",
       "      <td>0.803612</td>\n",
       "      <td>0.804922</td>\n",
       "      <td>0.776286</td>\n",
       "      <td>-136.562178</td>\n",
       "      <td>-132.408084</td>\n",
       "      <td>-127.833763</td>\n",
       "      <td>exp</td>\n",
       "      <td>[-3.6367098727388944e-06, -5.463370893703798e-...</td>\n",
       "      <td>NaN</td>\n",
       "    </tr>\n",
       "    <tr>\n",
       "      <th>1</th>\n",
       "      <td>[10.373016081368098, 10.130972857078175, 9.987...</td>\n",
       "      <td>[0.00937963690006051, 0.009307961610168364, 0....</td>\n",
       "      <td>[9.60947032947951, 9.60572819037825, 9.5994570...</td>\n",
       "      <td>[0.009097935454051041, 0.009124346562127784, 0...</td>\n",
       "      <td>[1, 2, 3, 4, 5, 6, 7, 8, 9, 10, 11, 12, 13, 14...</td>\n",
       "      <td>1.0</td>\n",
       "      <td>1.5</td>\n",
       "      <td>67747</td>\n",
       "      <td>3609</td>\n",
       "      <td>&lt;lmfit.minimizer.MinimizerResult object at 0x7...</td>\n",
       "      <td>...</td>\n",
       "      <td>&lt;lmfit.minimizer.MinimizerResult object at 0x7...</td>\n",
       "      <td>0.960713</td>\n",
       "      <td>0.986984</td>\n",
       "      <td>0.980082</td>\n",
       "      <td>-420.636087</td>\n",
       "      <td>-526.718807</td>\n",
       "      <td>-488.563146</td>\n",
       "      <td>pow_exp</td>\n",
       "      <td>[6.528048763553539e-07, 9.767024895467008e-07,...</td>\n",
       "      <td>450.0</td>\n",
       "    </tr>\n",
       "    <tr>\n",
       "      <th>2</th>\n",
       "      <td>[11.349881924265677, 11.087999639009142, 10.96...</td>\n",
       "      <td>[0.005174827403727939, 0.005136394630766223, 0...</td>\n",
       "      <td>[10.681207621740015, 10.677630292519837, 10.67...</td>\n",
       "      <td>[0.005060342080401666, 0.005066649080465537, 0...</td>\n",
       "      <td>[1, 2, 3, 4, 5, 6, 7, 8, 9, 10, 11, 12, 13, 14...</td>\n",
       "      <td>1.5</td>\n",
       "      <td>2</td>\n",
       "      <td>232191</td>\n",
       "      <td>8134</td>\n",
       "      <td>&lt;lmfit.minimizer.MinimizerResult object at 0x7...</td>\n",
       "      <td>...</td>\n",
       "      <td>&lt;lmfit.minimizer.MinimizerResult object at 0x7...</td>\n",
       "      <td>0.949823</td>\n",
       "      <td>0.989080</td>\n",
       "      <td>0.985398</td>\n",
       "      <td>-360.792506</td>\n",
       "      <td>-505.839244</td>\n",
       "      <td>-481.766416</td>\n",
       "      <td>pow_exp</td>\n",
       "      <td>[9.60855604404184e-07, 1.4398265135829119e-06,...</td>\n",
       "      <td>435.0</td>\n",
       "    </tr>\n",
       "  </tbody>\n",
       "</table>\n",
       "<p>3 rows × 21 columns</p>\n",
       "</div>"
      ],
      "text/plain": [
       "                                                  MI  \\\n",
       "0  [6.0615547382637684, 5.953026573946322, 5.8999...   \n",
       "1  [10.373016081368098, 10.130972857078175, 9.987...   \n",
       "2  [11.349881924265677, 11.087999639009142, 10.96...   \n",
       "\n",
       "                                              MI_var  \\\n",
       "0  [0.06497202939114834, 0.06421181443545038, 0.0...   \n",
       "1  [0.00937963690006051, 0.009307961610168364, 0....   \n",
       "2  [0.005174827403727939, 0.005136394630766223, 0...   \n",
       "\n",
       "                                            shuff_MI  \\\n",
       "0  [5.79799893493386, 5.805771966570329, 5.792474...   \n",
       "1  [9.60947032947951, 9.60572819037825, 9.5994570...   \n",
       "2  [10.681207621740015, 10.677630292519837, 10.67...   \n",
       "\n",
       "                                        shuff_MI_var  \\\n",
       "0  [0.06474471004074468, 0.06537742978608413, 0.0...   \n",
       "1  [0.009097935454051041, 0.009124346562127784, 0...   \n",
       "2  [0.005060342080401666, 0.005066649080465537, 0...   \n",
       "\n",
       "                                           distances  age_cohort_low  \\\n",
       "0  [1, 2, 3, 4, 5, 6, 7, 8, 9, 10, 11, 12, 13, 14...             0.5   \n",
       "1  [1, 2, 3, 4, 5, 6, 7, 8, 9, 10, 11, 12, 13, 14...             1.0   \n",
       "2  [1, 2, 3, 4, 5, 6, 7, 8, 9, 10, 11, 12, 13, 14...             1.5   \n",
       "\n",
       "  age_cohort_high n_words n_unique_words  \\\n",
       "0               1    2371             72   \n",
       "1             1.5   67747           3609   \n",
       "2               2  232191           8134   \n",
       "\n",
       "                                         exp_results  ...  \\\n",
       "0  <lmfit.minimizer.MinimizerResult object at 0x7...  ...   \n",
       "1  <lmfit.minimizer.MinimizerResult object at 0x7...  ...   \n",
       "2  <lmfit.minimizer.MinimizerResult object at 0x7...  ...   \n",
       "\n",
       "                                      concat_results    R2_exp  R2_concat  \\\n",
       "0  <lmfit.minimizer.MinimizerResult object at 0x7...  0.803612   0.804922   \n",
       "1  <lmfit.minimizer.MinimizerResult object at 0x7...  0.960713   0.986984   \n",
       "2  <lmfit.minimizer.MinimizerResult object at 0x7...  0.949823   0.989080   \n",
       "\n",
       "   R2_power    AICc_exp  AICc_concat  AICc_power  bestfitmodel  \\\n",
       "0  0.776286 -136.562178  -132.408084 -127.833763           exp   \n",
       "1  0.980082 -420.636087  -526.718807 -488.563146       pow_exp   \n",
       "2  0.985398 -360.792506  -505.839244 -481.766416       pow_exp   \n",
       "\n",
       "                                           curvature min_peak  \n",
       "0  [-3.6367098727388944e-06, -5.463370893703798e-...      NaN  \n",
       "1  [6.528048763553539e-07, 9.767024895467008e-07,...    450.0  \n",
       "2  [9.60855604404184e-07, 1.4398265135829119e-06,...    435.0  \n",
       "\n",
       "[3 rows x 21 columns]"
      ]
     },
     "execution_count": 9,
     "metadata": {},
     "output_type": "execute_result"
    }
   ],
   "source": [
    "MI_DF[:3]"
   ]
  },
  {
   "cell_type": "code",
   "execution_count": 11,
   "metadata": {
    "ExecuteTime": {
     "end_time": "2019-10-17T17:32:37.872054Z",
     "start_time": "2019-10-17T17:32:35.676883Z"
    }
   },
   "outputs": [
    {
     "data": {
      "text/plain": [
       "3.0"
      ]
     },
     "execution_count": 11,
     "metadata": {},
     "output_type": "execute_result"
    }
   ],
   "source": []
  },
  {
   "cell_type": "code",
   "execution_count": 14,
   "metadata": {
    "ExecuteTime": {
     "end_time": "2019-10-17T17:33:44.403544Z",
     "start_time": "2019-10-17T17:33:36.158984Z"
    }
   },
   "outputs": [
    {
     "data": {
      "image/png": "[encoded data removed]",
      "text/plain": [
       "<Figure size 1080x360 with 2 Axes>"
      ]
     },
     "metadata": {
      "needs_background": "light"
     },
     "output_type": "display_data"
    }
   ],
   "source": [
    "fig, axs = plt.subplots(ncols=2, figsize=(15,5))\n",
    "for axi, (idx, row) in enumerate(MI_DF.sort_values(by=['age_cohort_low']).iterrows()):\n",
    "    if row.age_cohort_low == 0.5: continue\n",
    "    sig = np.array(row.MI-row.shuff_MI)\n",
    "    distances = row.distances\n",
    "    sig = sig\n",
    "    distances_model = np.logspace(0,np.log10(distances[-1]), base=10, num=1000)\n",
    "    y_model = mf.get_y(mf.pow_exp_decay, row.concat_results, distances_model)\n",
    "    y_pow = mf.get_y(mf.powerlaw_decay, row.concat_results, distances_model) - row.concat_results.params['intercept'].value\n",
    "    y_exp = mf.get_y(mf.exp_decay, row.concat_results, distances_model) - row.concat_results.params['intercept'].value\n",
    "    #ac_high = np.min([row.age_cohort_high, 4])\n",
    "    ac_high = np.min([row.age_cohort_high, 12])\n",
    "    lab = \"{} to {} yrs\".format(row.age_cohort_low, ac_high)\n",
    "\n",
    "    axs[0].plot(distances_model, y_exp/y_model, color = 'k', ls='solid', lw = axi+1, label = lab)\n",
    "    axs[1].plot(distances_model, y_pow/y_model, color = 'k', ls='solid', lw = axi+1, label = lab)\n",
    "    \n",
    "axs[0].set_ylabel('Prop. contribution exp.', labelpad=5, fontsize=18)\n",
    "axs[1].set_ylabel('Prop. contribution pow.', labelpad=5, fontsize=18)\n",
    "    \n",
    "for ax in axs:\n",
    "    for axis in ['top','bottom','left','right']:\n",
    "        ax.spines[axis].set_linewidth(3)\n",
    "        ax.spines[axis].set_color('k')\n",
    "    ax.set_xticks([1,10,100])\n",
    "    ax.set_xticklabels(['1','10','100'])\n",
    "    ax.tick_params(which='both', direction='in', labelsize=14, pad=10)\n",
    "    ax.tick_params(which='major', length=10, width =3)\n",
    "    ax.tick_params(which='minor', length=5, width =2)\n",
    "    ax.set_xlim([1,100])\n",
    "    ax.set_xscale( \"log\" , basex=10)\n",
    "    ax.legend()\n",
    "    ax.set_xlabel('Distance', labelpad=5, fontsize=18)\n",
    "\n",
    "save_fig(FIGURE_DIR/'CHILDES_model_contribution')"
   ]
  },
  {
   "cell_type": "code",
   "execution_count": null,
   "metadata": {},
   "outputs": [],
   "source": []
  }
 ],
 "metadata": {
  "kernelspec": {
   "display_name": "Python 3",
   "language": "python",
   "name": "python3"
  },
  "language_info": {
   "codemirror_mode": {
    "name": "ipython",
    "version": 3
   },
   "file_extension": ".py",
   "mimetype": "text/x-python",
   "name": "python",
   "nbconvert_exporter": "python",
   "pygments_lexer": "ipython3",
   "version": "3.6.7"
  }
 },
 "nbformat": 4,
 "nbformat_minor": 2
}
