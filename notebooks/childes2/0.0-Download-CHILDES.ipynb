{
 "cells": [
  {
   "cell_type": "markdown",
   "metadata": {},
   "source": [
    "Download dataset from https://childes.talkbank.org/data-xml/"
   ]
  },
  {
   "cell_type": "code",
   "execution_count": null,
   "metadata": {
    "ExecuteTime": {
     "start_time": "2019-08-13T19:35:40.492Z"
    }
   },
   "outputs": [],
   "source": [
    "# https://www.nltk.org/_modules/nltk/corpus/reader/childes.html"
   ]
  },
  {
   "cell_type": "code",
   "execution_count": 2,
   "metadata": {
    "ExecuteTime": {
     "end_time": "2019-08-13T18:33:37.369570Z",
     "start_time": "2019-08-13T18:33:37.272508Z"
    }
   },
   "outputs": [],
   "source": [
    "from childes_mi.utils.paths import DATA_DIR, ensure_dir, CHILDES_DIR"
   ]
  },
  {
   "cell_type": "code",
   "execution_count": 3,
   "metadata": {
    "ExecuteTime": {
     "end_time": "2019-08-13T18:33:39.005904Z",
     "start_time": "2019-08-13T18:33:38.191870Z"
    }
   },
   "outputs": [
    {
     "name": "stderr",
     "output_type": "stream",
     "text": [
      "/mnt/cube/tsainbur/conda_envs/tpy3/lib/python3.6/site-packages/tqdm/autonotebook/__init__.py:14: TqdmExperimentalWarning: Using `tqdm.autonotebook.tqdm` in notebook mode. Use `tqdm.tqdm` instead to force console mode (e.g. in jupyter console)\n",
      "  \" (e.g. in jupyter console)\", TqdmExperimentalWarning)\n"
     ]
    }
   ],
   "source": [
    "from urllib.request import urlopen\n",
    "import re\n",
    "from bs4 import BeautifulSoup\n",
    "import requests\n",
    "import urllib.request\n",
    "from tqdm.autonotebook import tqdm\n",
    "import zipfile"
   ]
  },
  {
   "cell_type": "markdown",
   "metadata": {},
   "source": [
    "### get URLs to download"
   ]
  },
  {
   "cell_type": "code",
   "execution_count": 5,
   "metadata": {
    "ExecuteTime": {
     "end_time": "2019-08-13T18:33:51.649317Z",
     "start_time": "2019-08-13T18:33:51.633761Z"
    },
    "scrolled": true
   },
   "outputs": [],
   "source": [
    "def isDirectory(url):\n",
    "    if(url.endswith('/')):\n",
    "        return True\n",
    "    else:\n",
    "        return False\n",
    "\n",
    "def findLinks(url):\n",
    "    page = requests.get(url).content\n",
    "    bsObj = BeautifulSoup(page, 'html.parser')\n",
    "    maybe_directories = bsObj.findAll('a', href=True)\n",
    "    links = []\n",
    "    for link in maybe_directories:\n",
    "        #print(link)\n",
    "        if(isDirectory(link['href'])):\n",
    "            if link['href'] == '/': continue\n",
    "            newUrl = url + link['href']  \n",
    "            #print('newurl', newUrl)\n",
    "            links.append(findLinks(newUrl)) #recursion happening here\n",
    "        else:\n",
    "            if(link['href'].endswith('.zip')):\n",
    "                print(\"GOTCHA!\", url + link['href']) #now safe and download\n",
    "                links.append(url + link['href'])\n",
    "    return links"
   ]
  },
  {
   "cell_type": "code",
   "execution_count": 6,
   "metadata": {
    "ExecuteTime": {
     "end_time": "2019-08-13T18:34:56.708959Z",
     "start_time": "2019-08-13T18:33:52.127251Z"
    },
    "scrolled": true
   },
   "outputs": [
    {
     "name": "stdout",
     "output_type": "stream",
     "text": [
      "GOTCHA! https://childes.talkbank.org/data-xml/Biling/Amsterdam.zip\n",
      "GOTCHA! https://childes.talkbank.org/data-xml/Biling/Bailleul.zip\n",
      "GOTCHA! https://childes.talkbank.org/data-xml/Biling/BiSLI.zip\n",
      "GOTCHA! https://childes.talkbank.org/data-xml/Biling/Biro.zip\n",
      "GOTCHA! https://childes.talkbank.org/data-xml/Biling/CHCC.zip\n",
      "GOTCHA! https://childes.talkbank.org/data-xml/Biling/CUHK.zip\n",
      "GOTCHA! https://childes.talkbank.org/data-xml/Biling/DeHouwer.zip\n",
      "GOTCHA! https://childes.talkbank.org/data-xml/Biling/DeHouwerBornstein-protect/DeHouwerBornstein.zip\n",
      "GOTCHA! https://childes.talkbank.org/data-xml/Biling/Deuchar.zip\n",
      "GOTCHA! https://childes.talkbank.org/data-xml/Biling/FerFuLice.zip\n",
      "GOTCHA! https://childes.talkbank.org/data-xml/Biling/GNP.zip\n",
      "GOTCHA! https://childes.talkbank.org/data-xml/Biling/Gelman.zip\n",
      "GOTCHA! https://childes.talkbank.org/data-xml/Biling/Guthrie.zip\n",
      "GOTCHA! https://childes.talkbank.org/data-xml/Biling/Hacohen.zip\n",
      "GOTCHA! https://childes.talkbank.org/data-xml/Biling/Hayashi.zip\n",
      "GOTCHA! https://childes.talkbank.org/data-xml/Biling/Ionin.zip\n",
      "GOTCHA! https://childes.talkbank.org/data-xml/Biling/Klammler.zip\n",
      "GOTCHA! https://childes.talkbank.org/data-xml/Biling/Koroschetz.zip\n",
      "GOTCHA! https://childes.talkbank.org/data-xml/Biling/Krupa.zip\n",
      "GOTCHA! https://childes.talkbank.org/data-xml/Biling/Leo.zip\n",
      "GOTCHA! https://childes.talkbank.org/data-xml/Biling/MCF.zip\n",
      "GOTCHA! https://childes.talkbank.org/data-xml/Biling/Navracsics.zip\n",
      "GOTCHA! https://childes.talkbank.org/data-xml/Biling/Paradis.zip\n",
      "GOTCHA! https://childes.talkbank.org/data-xml/Biling/Perez.zip\n",
      "GOTCHA! https://childes.talkbank.org/data-xml/Biling/ProjectS.zip\n",
      "GOTCHA! https://childes.talkbank.org/data-xml/Biling/Roggero.zip\n",
      "GOTCHA! https://childes.talkbank.org/data-xml/Biling/Seba.zip\n",
      "GOTCHA! https://childes.talkbank.org/data-xml/Biling/Serra.zip\n",
      "GOTCHA! https://childes.talkbank.org/data-xml/Biling/SilvaCorvalan.zip\n",
      "GOTCHA! https://childes.talkbank.org/data-xml/Biling/Singapore.zip\n",
      "GOTCHA! https://childes.talkbank.org/data-xml/Biling/Ticio.zip\n",
      "GOTCHA! https://childes.talkbank.org/data-xml/Biling/Vila.zip\n",
      "GOTCHA! https://childes.talkbank.org/data-xml/Biling/Watkins.zip\n",
      "GOTCHA! https://childes.talkbank.org/data-xml/Biling/YipMatthews.zip\n",
      "GOTCHA! https://childes.talkbank.org/data-xml/Biling/ZAS.zip\n",
      "GOTCHA! https://childes.talkbank.org/data-xml/Biling/vanOosten.zip\n",
      "GOTCHA! https://childes.talkbank.org/data-xml/Celtic/Irish/Gaeltacht.zip\n",
      "GOTCHA! https://childes.talkbank.org/data-xml/Celtic/Irish/Guilfoyle.zip\n",
      "GOTCHA! https://childes.talkbank.org/data-xml/Celtic/Welsh/CIG1.zip\n",
      "GOTCHA! https://childes.talkbank.org/data-xml/Celtic/Welsh/CIG2.zip\n",
      "GOTCHA! https://childes.talkbank.org/data-xml/Chinese/Cantonese/HKU.zip\n",
      "GOTCHA! https://childes.talkbank.org/data-xml/Chinese/Cantonese/LeeWongLeung.zip\n",
      "GOTCHA! https://childes.talkbank.org/data-xml/Chinese/Mandarin/AcadLang.zip\n",
      "GOTCHA! https://childes.talkbank.org/data-xml/Chinese/Mandarin/Beijing.zip\n",
      "GOTCHA! https://childes.talkbank.org/data-xml/Chinese/Mandarin/Chang1.zip\n",
      "GOTCHA! https://childes.talkbank.org/data-xml/Chinese/Mandarin/Chang2.zip\n",
      "GOTCHA! https://childes.talkbank.org/data-xml/Chinese/Mandarin/ChangPN.zip\n",
      "GOTCHA! https://childes.talkbank.org/data-xml/Chinese/Mandarin/Context.zip\n",
      "GOTCHA! https://childes.talkbank.org/data-xml/Chinese/Mandarin/Erbaugh.zip\n",
      "GOTCHA! https://childes.talkbank.org/data-xml/Chinese/Mandarin/LiZhou.zip\n",
      "GOTCHA! https://childes.talkbank.org/data-xml/Chinese/Mandarin/TCCM.zip\n",
      "GOTCHA! https://childes.talkbank.org/data-xml/Chinese/Mandarin/Tong.zip\n",
      "GOTCHA! https://childes.talkbank.org/data-xml/Chinese/Mandarin/Xinjiang.zip\n",
      "GOTCHA! https://childes.talkbank.org/data-xml/Chinese/Mandarin/Zhou1.zip\n",
      "GOTCHA! https://childes.talkbank.org/data-xml/Chinese/Mandarin/Zhou2.zip\n",
      "GOTCHA! https://childes.talkbank.org/data-xml/Chinese/Mandarin/Zhou3.zip\n",
      "GOTCHA! https://childes.talkbank.org/data-xml/Chinese/Mandarin/ZhouDinner.zip\n",
      "GOTCHA! https://childes.talkbank.org/data-xml/Chinese/Mandarin/ZhouNarratives.zip\n",
      "GOTCHA! https://childes.talkbank.org/data-xml/Clinical-MOR/Ambrose/HL.zip\n",
      "GOTCHA! https://childes.talkbank.org/data-xml/Clinical-MOR/Ambrose/NH.zip\n",
      "GOTCHA! https://childes.talkbank.org/data-xml/Clinical-MOR/Bliss.zip\n",
      "GOTCHA! https://childes.talkbank.org/data-xml/Clinical-MOR/Chiat-Ruth.zip\n",
      "GOTCHA! https://childes.talkbank.org/data-xml/Clinical-MOR/Conti/Conti1.zip\n",
      "GOTCHA! https://childes.talkbank.org/data-xml/Clinical-MOR/Conti/Conti2.zip\n",
      "GOTCHA! https://childes.talkbank.org/data-xml/Clinical-MOR/Conti/Conti3.zip\n",
      "GOTCHA! https://childes.talkbank.org/data-xml/Clinical-MOR/Conti/Conti4.zip\n",
      "GOTCHA! https://childes.talkbank.org/data-xml/Clinical-MOR/ENNI.zip\n",
      "GOTCHA! https://childes.talkbank.org/data-xml/Clinical-MOR/EisenbergGuo.zip\n",
      "GOTCHA! https://childes.talkbank.org/data-xml/Clinical-MOR/EllisWeismer.zip\n",
      "GOTCHA! https://childes.talkbank.org/data-xml/Clinical-MOR/Feldman/Narrative.zip\n",
      "GOTCHA! https://childes.talkbank.org/data-xml/Clinical-MOR/Feldman/ParentChild.zip\n",
      "GOTCHA! https://childes.talkbank.org/data-xml/Clinical-MOR/Feldman/Twins.zip\n",
      "GOTCHA! https://childes.talkbank.org/data-xml/Clinical-MOR/Flusberg.zip\n",
      "GOTCHA! https://childes.talkbank.org/data-xml/Clinical-MOR/Gillam.zip\n",
      "GOTCHA! https://childes.talkbank.org/data-xml/Clinical-MOR/Hargrove.zip\n",
      "GOTCHA! https://childes.talkbank.org/data-xml/Clinical-MOR/Hooshyar.zip\n",
      "GOTCHA! https://childes.talkbank.org/data-xml/Clinical-MOR/Malakoff.zip\n",
      "GOTCHA! https://childes.talkbank.org/data-xml/Clinical-MOR/Nicholas/HI.zip\n",
      "GOTCHA! https://childes.talkbank.org/data-xml/Clinical-MOR/Nicholas/NH.zip\n",
      "GOTCHA! https://childes.talkbank.org/data-xml/Clinical-MOR/POLER.zip\n",
      "GOTCHA! https://childes.talkbank.org/data-xml/Clinical-MOR/Rescorla.zip\n",
      "GOTCHA! https://childes.talkbank.org/data-xml/Clinical-MOR/Rondal/Down.zip\n",
      "GOTCHA! https://childes.talkbank.org/data-xml/Clinical-MOR/Rondal/Normal.zip\n",
      "GOTCHA! https://childes.talkbank.org/data-xml/Clinical-MOR/TBI.zip\n",
      "GOTCHA! https://childes.talkbank.org/data-xml/Clinical-MOR/UCSD.zip\n",
      "GOTCHA! https://childes.talkbank.org/data-xml/Clinical/BolKuiken/Down.zip\n",
      "GOTCHA! https://childes.talkbank.org/data-xml/Clinical/BolKuiken/HI.zip\n",
      "GOTCHA! https://childes.talkbank.org/data-xml/Clinical/BolKuiken/Normal.zip\n",
      "GOTCHA! https://childes.talkbank.org/data-xml/Clinical/BolKuiken/SLI.zip\n",
      "GOTCHA! https://childes.talkbank.org/data-xml/Clinical/BolPool.zip\n",
      "GOTCHA! https://childes.talkbank.org/data-xml/Clinical/CORDIS.zip\n",
      "GOTCHA! https://childes.talkbank.org/data-xml/Clinical/LeNormand.zip\n",
      "GOTCHA! https://childes.talkbank.org/data-xml/Clinical/Levy.zip\n",
      "GOTCHA! https://childes.talkbank.org/data-xml/Clinical/MOC.zip\n",
      "GOTCHA! https://childes.talkbank.org/data-xml/Clinical/Oviedo.zip\n",
      "GOTCHA! https://childes.talkbank.org/data-xml/Clinical/PERLA.zip\n",
      "GOTCHA! https://childes.talkbank.org/data-xml/Clinical/Thessaloniki.zip\n",
      "GOTCHA! https://childes.talkbank.org/data-xml/DutchAfrikaans/Asymmetries.zip\n",
      "GOTCHA! https://childes.talkbank.org/data-xml/DutchAfrikaans/DeHouwer.zip\n",
      "GOTCHA! https://childes.talkbank.org/data-xml/DutchAfrikaans/DeHouwerBornstein-protect/DeHouwerBornstein.zip\n",
      "GOTCHA! https://childes.talkbank.org/data-xml/DutchAfrikaans/Gillis.zip\n",
      "GOTCHA! https://childes.talkbank.org/data-xml/DutchAfrikaans/Groningen.zip\n",
      "GOTCHA! https://childes.talkbank.org/data-xml/DutchAfrikaans/Schaerlaekens.zip\n",
      "GOTCHA! https://childes.talkbank.org/data-xml/DutchAfrikaans/SouthwoodWhite.zip\n",
      "GOTCHA! https://childes.talkbank.org/data-xml/DutchAfrikaans/Stellenbosch.zip\n",
      "GOTCHA! https://childes.talkbank.org/data-xml/DutchAfrikaans/VanKampen.zip\n",
      "GOTCHA! https://childes.talkbank.org/data-xml/DutchAfrikaans/Wijnen.zip\n",
      "GOTCHA! https://childes.talkbank.org/data-xml/EastAsian/Indonesian/Jakarta.zip\n",
      "GOTCHA! https://childes.talkbank.org/data-xml/EastAsian/Korean/Jiwon.zip\n",
      "GOTCHA! https://childes.talkbank.org/data-xml/EastAsian/Korean/Ryu.zip\n",
      "GOTCHA! https://childes.talkbank.org/data-xml/EastAsian/Thai/CRSLP.zip\n",
      "GOTCHA! https://childes.talkbank.org/data-xml/Eng-NA/Bates.zip\n",
      "GOTCHA! https://childes.talkbank.org/data-xml/Eng-NA/Bernstein.zip\n",
      "GOTCHA! https://childes.talkbank.org/data-xml/Eng-NA/Bliss.zip\n",
      "GOTCHA! https://childes.talkbank.org/data-xml/Eng-NA/Bloom70.zip\n",
      "GOTCHA! https://childes.talkbank.org/data-xml/Eng-NA/Bloom73.zip\n",
      "GOTCHA! https://childes.talkbank.org/data-xml/Eng-NA/Bohannon.zip\n",
      "GOTCHA! https://childes.talkbank.org/data-xml/Eng-NA/Braunwald.zip\n",
      "GOTCHA! https://childes.talkbank.org/data-xml/Eng-NA/Brent.zip\n",
      "GOTCHA! https://childes.talkbank.org/data-xml/Eng-NA/Brown.zip\n",
      "GOTCHA! https://childes.talkbank.org/data-xml/Eng-NA/Carterette.zip\n",
      "GOTCHA! https://childes.talkbank.org/data-xml/Eng-NA/Clark.zip\n",
      "GOTCHA! https://childes.talkbank.org/data-xml/Eng-NA/Cornell.zip\n",
      "GOTCHA! https://childes.talkbank.org/data-xml/Eng-NA/Demetras1.zip\n",
      "GOTCHA! https://childes.talkbank.org/data-xml/Eng-NA/Demetras2.zip\n",
      "GOTCHA! https://childes.talkbank.org/data-xml/Eng-NA/Evans.zip\n",
      "GOTCHA! https://childes.talkbank.org/data-xml/Eng-NA/Feldman.zip\n",
      "GOTCHA! https://childes.talkbank.org/data-xml/Eng-NA/Garvey.zip\n",
      "GOTCHA! https://childes.talkbank.org/data-xml/Eng-NA/Gathercole.zip\n",
      "GOTCHA! https://childes.talkbank.org/data-xml/Eng-NA/Gelman.zip\n",
      "GOTCHA! https://childes.talkbank.org/data-xml/Eng-NA/Gleason.zip\n",
      "GOTCHA! https://childes.talkbank.org/data-xml/Eng-NA/Gopnik.zip\n",
      "GOTCHA! https://childes.talkbank.org/data-xml/Eng-NA/HSLLD.zip\n",
      "GOTCHA! https://childes.talkbank.org/data-xml/Eng-NA/Haggerty.zip\n",
      "GOTCHA! https://childes.talkbank.org/data-xml/Eng-NA/Hall.zip\n",
      "GOTCHA! https://childes.talkbank.org/data-xml/Eng-NA/Hicks.zip\n",
      "GOTCHA! https://childes.talkbank.org/data-xml/Eng-NA/Higginson.zip\n",
      "GOTCHA! https://childes.talkbank.org/data-xml/Eng-NA/Kuczaj.zip\n",
      "GOTCHA! https://childes.talkbank.org/data-xml/Eng-NA/MacWhinney.zip\n",
      "GOTCHA! https://childes.talkbank.org/data-xml/Eng-NA/McCune.zip\n",
      "GOTCHA! https://childes.talkbank.org/data-xml/Eng-NA/McMillan.zip\n",
      "GOTCHA! https://childes.talkbank.org/data-xml/Eng-NA/Morisset.zip\n",
      "GOTCHA! https://childes.talkbank.org/data-xml/Eng-NA/Nelson.zip\n",
      "GOTCHA! https://childes.talkbank.org/data-xml/Eng-NA/NewEngland.zip\n",
      "GOTCHA! https://childes.talkbank.org/data-xml/Eng-NA/NewmanRatner.zip\n",
      "GOTCHA! https://childes.talkbank.org/data-xml/Eng-NA/Peters.zip\n",
      "GOTCHA! https://childes.talkbank.org/data-xml/Eng-NA/PetersonMcCabe.zip\n",
      "GOTCHA! https://childes.talkbank.org/data-xml/Eng-NA/Post.zip\n",
      "GOTCHA! https://childes.talkbank.org/data-xml/Eng-NA/Rollins.zip\n",
      "GOTCHA! https://childes.talkbank.org/data-xml/Eng-NA/Sachs.zip\n",
      "GOTCHA! https://childes.talkbank.org/data-xml/Eng-NA/Sawyer.zip\n",
      "GOTCHA! https://childes.talkbank.org/data-xml/Eng-NA/Snow.zip\n",
      "GOTCHA! https://childes.talkbank.org/data-xml/Eng-NA/Soderstrom.zip\n",
      "GOTCHA! https://childes.talkbank.org/data-xml/Eng-NA/Sprott.zip\n",
      "GOTCHA! https://childes.talkbank.org/data-xml/Eng-NA/Suppes.zip\n",
      "GOTCHA! https://childes.talkbank.org/data-xml/Eng-NA/Tardif.zip\n",
      "GOTCHA! https://childes.talkbank.org/data-xml/Eng-NA/Valian.zip\n",
      "GOTCHA! https://childes.talkbank.org/data-xml/Eng-NA/VanHouten.zip\n",
      "GOTCHA! https://childes.talkbank.org/data-xml/Eng-NA/VanKleeck.zip\n",
      "GOTCHA! https://childes.talkbank.org/data-xml/Eng-NA/Warren.zip\n",
      "GOTCHA! https://childes.talkbank.org/data-xml/Eng-NA/Weist.zip\n"
     ]
    },
    {
     "name": "stdout",
     "output_type": "stream",
     "text": [
      "GOTCHA! https://childes.talkbank.org/data-xml/Eng-UK/Belfast.zip\n",
      "GOTCHA! https://childes.talkbank.org/data-xml/Eng-UK/Cruttenden.zip\n",
      "GOTCHA! https://childes.talkbank.org/data-xml/Eng-UK/Fletcher.zip\n",
      "GOTCHA! https://childes.talkbank.org/data-xml/Eng-UK/Forrester.zip\n",
      "GOTCHA! https://childes.talkbank.org/data-xml/Eng-UK/Gathburn.zip\n",
      "GOTCHA! https://childes.talkbank.org/data-xml/Eng-UK/Howe.zip\n",
      "GOTCHA! https://childes.talkbank.org/data-xml/Eng-UK/Korman.zip\n",
      "GOTCHA! https://childes.talkbank.org/data-xml/Eng-UK/Lara.zip\n",
      "GOTCHA! https://childes.talkbank.org/data-xml/Eng-UK/MPI-EVA-Manchester.zip\n",
      "GOTCHA! https://childes.talkbank.org/data-xml/Eng-UK/Manchester.zip\n",
      "GOTCHA! https://childes.talkbank.org/data-xml/Eng-UK/Nuffield.zip\n",
      "GOTCHA! https://childes.talkbank.org/data-xml/Eng-UK/Thomas.zip\n",
      "GOTCHA! https://childes.talkbank.org/data-xml/Eng-UK/Tommerdahl.zip\n",
      "GOTCHA! https://childes.talkbank.org/data-xml/Eng-UK/Wells.zip\n",
      "GOTCHA! https://childes.talkbank.org/data-xml/French/Champaud.zip\n",
      "GOTCHA! https://childes.talkbank.org/data-xml/French/Geneva.zip\n",
      "GOTCHA! https://childes.talkbank.org/data-xml/French/Hammelrath.zip\n",
      "GOTCHA! https://childes.talkbank.org/data-xml/French/Leveille.zip\n",
      "GOTCHA! https://childes.talkbank.org/data-xml/French/MTLN.zip\n",
      "GOTCHA! https://childes.talkbank.org/data-xml/French/Palasis.zip\n",
      "GOTCHA! https://childes.talkbank.org/data-xml/French/Pauline.zip\n",
      "GOTCHA! https://childes.talkbank.org/data-xml/French/VionColas.zip\n",
      "GOTCHA! https://childes.talkbank.org/data-xml/French/York.zip\n",
      "GOTCHA! https://childes.talkbank.org/data-xml/Frogs/Arabic-AarssenBos.zip\n",
      "GOTCHA! https://childes.talkbank.org/data-xml/Frogs/ArabicDutch-AarssenBos.zip\n",
      "GOTCHA! https://childes.talkbank.org/data-xml/Frogs/Basque-Duguine.zip\n",
      "GOTCHA! https://childes.talkbank.org/data-xml/Frogs/Chinese-Chang.zip\n",
      "GOTCHA! https://childes.talkbank.org/data-xml/Frogs/Chinese-Guo.zip\n",
      "GOTCHA! https://childes.talkbank.org/data-xml/Frogs/Chinese-Tardif.zip\n",
      "GOTCHA! https://childes.talkbank.org/data-xml/Frogs/Chinese-Zhou.zip\n",
      "GOTCHA! https://childes.talkbank.org/data-xml/Frogs/Dutch-AarssenBos.zip\n",
      "GOTCHA! https://childes.talkbank.org/data-xml/Frogs/DutchArabic-AarssenBos.zip\n",
      "GOTCHA! https://childes.talkbank.org/data-xml/Frogs/DutchTurkish-AarssenBos.zip\n",
      "GOTCHA! https://childes.talkbank.org/data-xml/Frogs/English-MiamiBiling.zip\n",
      "GOTCHA! https://childes.talkbank.org/data-xml/Frogs/English-MiamiMono.zip\n",
      "GOTCHA! https://childes.talkbank.org/data-xml/Frogs/English-Slobin.zip\n",
      "GOTCHA! https://childes.talkbank.org/data-xml/Frogs/English-WolfHemp.zip\n",
      "GOTCHA! https://childes.talkbank.org/data-xml/Frogs/French-Duguine.zip\n",
      "GOTCHA! https://childes.talkbank.org/data-xml/Frogs/French-Lyon.zip\n",
      "GOTCHA! https://childes.talkbank.org/data-xml/Frogs/French-MTLN.zip\n",
      "GOTCHA! https://childes.talkbank.org/data-xml/Frogs/German-Bamberg.zip\n",
      "GOTCHA! https://childes.talkbank.org/data-xml/Frogs/Hebrew-Berman.zip\n",
      "GOTCHA! https://childes.talkbank.org/data-xml/Frogs/Italian-Bologna.zip\n",
      "GOTCHA! https://childes.talkbank.org/data-xml/Frogs/Italian-Roma.zip\n",
      "GOTCHA! https://childes.talkbank.org/data-xml/Frogs/Russian-Protassova.zip\n",
      "GOTCHA! https://childes.talkbank.org/data-xml/Frogs/Spanish-Aguilar.zip\n",
      "GOTCHA! https://childes.talkbank.org/data-xml/Frogs/Spanish-MiamiBiling.zip\n",
      "GOTCHA! https://childes.talkbank.org/data-xml/Frogs/Spanish-Ornat.zip\n",
      "GOTCHA! https://childes.talkbank.org/data-xml/Frogs/Spanish-Sebastian.zip\n",
      "GOTCHA! https://childes.talkbank.org/data-xml/Frogs/Thai-Zlatev.zip\n",
      "GOTCHA! https://childes.talkbank.org/data-xml/Frogs/Turkish-AarssenBos.zip\n",
      "GOTCHA! https://childes.talkbank.org/data-xml/Frogs/Turkish-Aksu.zip\n",
      "GOTCHA! https://childes.talkbank.org/data-xml/Frogs/TurkishDutch-AarssenBos.zip\n",
      "GOTCHA! https://childes.talkbank.org/data-xml/German/Caroline.zip\n",
      "GOTCHA! https://childes.talkbank.org/data-xml/German/Leo.zip\n",
      "GOTCHA! https://childes.talkbank.org/data-xml/German/Manuela.zip\n",
      "GOTCHA! https://childes.talkbank.org/data-xml/German/Miller.zip\n",
      "GOTCHA! https://childes.talkbank.org/data-xml/German/Rigol.zip\n",
      "GOTCHA! https://childes.talkbank.org/data-xml/German/Szagun.zip\n",
      "GOTCHA! https://childes.talkbank.org/data-xml/German/Wagner.zip\n",
      "GOTCHA! https://childes.talkbank.org/data-xml/German/Weissenborn.zip\n",
      "GOTCHA! https://childes.talkbank.org/data-xml/Japanese/Hamasaki.zip\n",
      "GOTCHA! https://childes.talkbank.org/data-xml/Japanese/Ishii.zip\n",
      "GOTCHA! https://childes.talkbank.org/data-xml/Japanese/MiiPro.zip\n",
      "GOTCHA! https://childes.talkbank.org/data-xml/Japanese/Miyata.zip\n",
      "GOTCHA! https://childes.talkbank.org/data-xml/Japanese/NINJAL-Okubo.zip\n",
      "GOTCHA! https://childes.talkbank.org/data-xml/Japanese/Noji.zip\n",
      "GOTCHA! https://childes.talkbank.org/data-xml/Japanese/Ogawa.zip\n",
      "GOTCHA! https://childes.talkbank.org/data-xml/Japanese/Okayama.zip\n",
      "GOTCHA! https://childes.talkbank.org/data-xml/Japanese/Yokoyama.zip\n",
      "GOTCHA! https://childes.talkbank.org/data-xml/Other/Basque/Luque.zip\n",
      "GOTCHA! https://childes.talkbank.org/data-xml/Other/Basque/Soto.zip\n",
      "GOTCHA! https://childes.talkbank.org/data-xml/Other/Estonian/Argus.zip\n",
      "GOTCHA! https://childes.talkbank.org/data-xml/Other/Estonian/Beek.zip\n",
      "GOTCHA! https://childes.talkbank.org/data-xml/Other/Estonian/Kapanen.zip\n",
      "GOTCHA! https://childes.talkbank.org/data-xml/Other/Estonian/Kohler.zip\n",
      "GOTCHA! https://childes.talkbank.org/data-xml/Other/Estonian/Korgesaar.zip\n",
      "GOTCHA! https://childes.talkbank.org/data-xml/Other/Estonian/Kuett.zip\n",
      "GOTCHA! https://childes.talkbank.org/data-xml/Other/Estonian/MAIN.zip\n",
      "GOTCHA! https://childes.talkbank.org/data-xml/Other/Estonian/Vija.zip\n",
      "GOTCHA! https://childes.talkbank.org/data-xml/Other/Estonian/Zupping.zip\n",
      "GOTCHA! https://childes.talkbank.org/data-xml/Other/Farsi/Family.zip\n",
      "GOTCHA! https://childes.talkbank.org/data-xml/Other/Farsi/Samadi.zip\n",
      "GOTCHA! https://childes.talkbank.org/data-xml/Other/Greek/Doukas.zip\n",
      "GOTCHA! https://childes.talkbank.org/data-xml/Other/Greek/Stephany.zip\n",
      "GOTCHA! https://childes.talkbank.org/data-xml/Other/Hebrew/BSF.zip\n",
      "GOTCHA! https://childes.talkbank.org/data-xml/Other/Hebrew/BatEl.zip\n",
      "GOTCHA! https://childes.talkbank.org/data-xml/Other/Hebrew/BermanLong.zip\n",
      "GOTCHA! https://childes.talkbank.org/data-xml/Other/Hebrew/Levy.zip\n",
      "GOTCHA! https://childes.talkbank.org/data-xml/Other/Hebrew/Naama.zip\n",
      "GOTCHA! https://childes.talkbank.org/data-xml/Other/Hebrew/Ravid.zip\n",
      "GOTCHA! https://childes.talkbank.org/data-xml/Other/Hungarian/Bodor.zip\n",
      "GOTCHA! https://childes.talkbank.org/data-xml/Other/Hungarian/MacWhinney.zip\n",
      "GOTCHA! https://childes.talkbank.org/data-xml/Other/Hungarian/Reger.zip\n",
      "GOTCHA! https://childes.talkbank.org/data-xml/Other/Nungon/Sarvasy.zip\n",
      "GOTCHA! https://childes.talkbank.org/data-xml/Other/Sesotho/Demuth.zip\n",
      "GOTCHA! https://childes.talkbank.org/data-xml/Other/Tamil/Narasimhan.zip\n",
      "GOTCHA! https://childes.talkbank.org/data-xml/Other/Turkish/Aksu.zip\n",
      "GOTCHA! https://childes.talkbank.org/data-xml/Other/Turkish/Altinkamis.zip\n",
      "GOTCHA! https://childes.talkbank.org/data-xml/Romance/Catalan/Jordina.zip\n",
      "GOTCHA! https://childes.talkbank.org/data-xml/Romance/Catalan/Julia.zip\n",
      "GOTCHA! https://childes.talkbank.org/data-xml/Romance/Catalan/MireiaEvaPascual.zip\n",
      "GOTCHA! https://childes.talkbank.org/data-xml/Romance/Catalan/SerraSole.zip\n",
      "GOTCHA! https://childes.talkbank.org/data-xml/Romance/Italian/Antelmi.zip\n",
      "GOTCHA! https://childes.talkbank.org/data-xml/Romance/Italian/Calambrone.zip\n",
      "GOTCHA! https://childes.talkbank.org/data-xml/Romance/Italian/D_Odorico.zip\n",
      "GOTCHA! https://childes.talkbank.org/data-xml/Romance/Italian/Klammler.zip\n",
      "GOTCHA! https://childes.talkbank.org/data-xml/Romance/Italian/Roma.zip\n",
      "GOTCHA! https://childes.talkbank.org/data-xml/Romance/Italian/Tonelli.zip\n",
      "GOTCHA! https://childes.talkbank.org/data-xml/Romance/Portuguese/AlegreLong.zip\n",
      "GOTCHA! https://childes.talkbank.org/data-xml/Romance/Portuguese/AlegreX.zip\n",
      "GOTCHA! https://childes.talkbank.org/data-xml/Romance/Portuguese/Batoreo.zip\n",
      "GOTCHA! https://childes.talkbank.org/data-xml/Romance/Portuguese/Florianopolis.zip\n",
      "GOTCHA! https://childes.talkbank.org/data-xml/Romance/Portuguese/Santos.zip\n",
      "GOTCHA! https://childes.talkbank.org/data-xml/Romance/Romanian/Avram.zip\n",
      "GOTCHA! https://childes.talkbank.org/data-xml/Romance/Romanian/Goga.zip\n",
      "GOTCHA! https://childes.talkbank.org/data-xml/Scandinavian/Danish/Plunkett.zip\n"
     ]
    },
    {
     "name": "stdout",
     "output_type": "stream",
     "text": [
      "GOTCHA! https://childes.talkbank.org/data-xml/Scandinavian/Icelandic/Einarsdottir.zip\n",
      "GOTCHA! https://childes.talkbank.org/data-xml/Scandinavian/Icelandic/Kari.zip\n",
      "GOTCHA! https://childes.talkbank.org/data-xml/Scandinavian/Norwegian/Ringstad.zip\n",
      "GOTCHA! https://childes.talkbank.org/data-xml/Scandinavian/Swedish/Andren.zip\n",
      "GOTCHA! https://childes.talkbank.org/data-xml/Scandinavian/Swedish/Lund.zip\n",
      "GOTCHA! https://childes.talkbank.org/data-xml/Slavic/Croatian/Kovacevic.zip\n",
      "GOTCHA! https://childes.talkbank.org/data-xml/Slavic/Czech/Chroma.zip\n",
      "GOTCHA! https://childes.talkbank.org/data-xml/Slavic/Polish/CDS.zip\n",
      "GOTCHA! https://childes.talkbank.org/data-xml/Slavic/Polish/Szuman.zip\n",
      "GOTCHA! https://childes.talkbank.org/data-xml/Slavic/Russian/Protassova.zip\n",
      "GOTCHA! https://childes.talkbank.org/data-xml/Slavic/Russian/Tanja.zip\n",
      "GOTCHA! https://childes.talkbank.org/data-xml/Slavic/Serbian/SCECL.zip\n",
      "GOTCHA! https://childes.talkbank.org/data-xml/Slavic/Slovenian/Zagar.zip\n",
      "GOTCHA! https://childes.talkbank.org/data-xml/Spanish/Aguirre.zip\n",
      "GOTCHA! https://childes.talkbank.org/data-xml/Spanish/BecaCESNo.zip\n",
      "GOTCHA! https://childes.talkbank.org/data-xml/Spanish/ColMex.zip\n",
      "GOTCHA! https://childes.talkbank.org/data-xml/Spanish/DiezItza.zip\n",
      "GOTCHA! https://childes.talkbank.org/data-xml/Spanish/FernAguado.zip\n",
      "GOTCHA! https://childes.talkbank.org/data-xml/Spanish/Hess.zip\n",
      "GOTCHA! https://childes.talkbank.org/data-xml/Spanish/JacksonThal.zip\n",
      "GOTCHA! https://childes.talkbank.org/data-xml/Spanish/Linaza.zip\n",
      "GOTCHA! https://childes.talkbank.org/data-xml/Spanish/Marrero.zip\n",
      "GOTCHA! https://childes.talkbank.org/data-xml/Spanish/Montes.zip\n",
      "GOTCHA! https://childes.talkbank.org/data-xml/Spanish/Nieva.zip\n",
      "GOTCHA! https://childes.talkbank.org/data-xml/Spanish/OreaPine.zip\n",
      "GOTCHA! https://childes.talkbank.org/data-xml/Spanish/Ornat.zip\n",
      "GOTCHA! https://childes.talkbank.org/data-xml/Spanish/Remedi.zip\n",
      "GOTCHA! https://childes.talkbank.org/data-xml/Spanish/Romero.zip\n",
      "GOTCHA! https://childes.talkbank.org/data-xml/Spanish/SerraSole.zip\n",
      "GOTCHA! https://childes.talkbank.org/data-xml/Spanish/Shiro.zip\n",
      "GOTCHA! https://childes.talkbank.org/data-xml/Spanish/Vila.zip\n",
      "GOTCHA! https://childes.talkbank.org/data-xml/XLing/GRERLI.zip\n",
      "GOTCHA! https://childes.talkbank.org/data-xml/XLing/MDT.zip\n",
      "GOTCHA! https://childes.talkbank.org/data-xml/XLing/MacBates1.zip\n",
      "GOTCHA! https://childes.talkbank.org/data-xml/XLing/MacBates2.zip\n"
     ]
    }
   ],
   "source": [
    "startUrl = \"https://childes.talkbank.org/data-xml/\"\n",
    "urls = findLinks(startUrl)"
   ]
  },
  {
   "cell_type": "code",
   "execution_count": 7,
   "metadata": {
    "ExecuteTime": {
     "end_time": "2019-08-13T18:34:56.742173Z",
     "start_time": "2019-08-13T18:34:56.715617Z"
    }
   },
   "outputs": [
    {
     "data": {
      "text/plain": [
       "['https://childes.talkbank.org/data-xml/Biling/Amsterdam.zip',\n",
       " 'https://childes.talkbank.org/data-xml/Biling/Bailleul.zip',\n",
       " 'https://childes.talkbank.org/data-xml/Biling/BiSLI.zip']"
      ]
     },
     "execution_count": 7,
     "metadata": {},
     "output_type": "execute_result"
    }
   ],
   "source": [
    "# flatten the recursive directiories\n",
    "flatten = lambda l: sum(map(flatten, l), []) if isinstance(l, list) else [l]\n",
    "urls = flatten(urls)\n",
    "urls[:3]"
   ]
  },
  {
   "cell_type": "markdown",
   "metadata": {},
   "source": [
    "### download from URLs"
   ]
  },
  {
   "cell_type": "code",
   "execution_count": 8,
   "metadata": {
    "ExecuteTime": {
     "end_time": "2019-08-13T18:40:47.089815Z",
     "start_time": "2019-08-13T18:34:56.746518Z"
    }
   },
   "outputs": [
    {
     "data": {
      "application/vnd.jupyter.widget-view+json": {
       "model_id": "3f2ce5c6b91145f2b7c81ebcbf385dc7",
       "version_major": 2,
       "version_minor": 0
      },
      "text/plain": [
       "HBox(children=(IntProgress(value=0, max=313), HTML(value='')))"
      ]
     },
     "metadata": {},
     "output_type": "display_data"
    },
    {
     "name": "stdout",
     "output_type": "stream",
     "text": [
      "\n"
     ]
    }
   ],
   "source": [
    "\n",
    "output_directory = CHILDES_DIR\n",
    "for url in tqdm(urls):\n",
    "    # get save location\n",
    "    save_loc = output_directory / url[38:]\n",
    "    # make sure there is a directory to save to\n",
    "    ensure_dir(save_loc)\n",
    "    # save to disk\n",
    "    urllib.request.urlretrieve(url, save_loc)"
   ]
  },
  {
   "cell_type": "markdown",
   "metadata": {},
   "source": [
    "### unzip files"
   ]
  },
  {
   "cell_type": "code",
   "execution_count": 9,
   "metadata": {
    "ExecuteTime": {
     "end_time": "2019-08-13T18:40:47.162622Z",
     "start_time": "2019-08-13T18:40:47.096486Z"
    }
   },
   "outputs": [
    {
     "data": {
      "text/plain": [
       "[PosixPath('/mnt/cube/tsainbur/Projects/github_repos/childes_mi_project/data/raw/NLTK_Data_Dir/corpora/Scandinavian/Danish/Plunkett.zip'),\n",
       " PosixPath('/mnt/cube/tsainbur/Projects/github_repos/childes_mi_project/data/raw/NLTK_Data_Dir/corpora/Scandinavian/Swedish/Lund.zip'),\n",
       " PosixPath('/mnt/cube/tsainbur/Projects/github_repos/childes_mi_project/data/raw/NLTK_Data_Dir/corpora/Scandinavian/Swedish/Andren.zip')]"
      ]
     },
     "execution_count": 9,
     "metadata": {},
     "output_type": "execute_result"
    }
   ],
   "source": [
    "zip_files = list(CHILDES_DIR.glob('**/*.zip'))\n",
    "zip_files[:3]"
   ]
  },
  {
   "cell_type": "code",
   "execution_count": 10,
   "metadata": {
    "ExecuteTime": {
     "end_time": "2019-08-13T18:43:24.285131Z",
     "start_time": "2019-08-13T18:40:47.165070Z"
    }
   },
   "outputs": [
    {
     "data": {
      "application/vnd.jupyter.widget-view+json": {
       "model_id": "41cd95d654f64999bab52d01a93eb173",
       "version_major": 2,
       "version_minor": 0
      },
      "text/plain": [
       "HBox(children=(IntProgress(value=0, max=313), HTML(value='')))"
      ]
     },
     "metadata": {},
     "output_type": "display_data"
    },
    {
     "name": "stdout",
     "output_type": "stream",
     "text": [
      "\n"
     ]
    }
   ],
   "source": [
    "for zf in tqdm(zip_files):\n",
    "    with zipfile.ZipFile(zf, 'r') as zip_ref:\n",
    "        zip_ref.extractall(zf.parent)"
   ]
  },
  {
   "cell_type": "code",
   "execution_count": null,
   "metadata": {},
   "outputs": [],
   "source": []
  },
  {
   "cell_type": "code",
   "execution_count": null,
   "metadata": {},
   "outputs": [],
   "source": []
  }
 ],
 "metadata": {
  "kernelspec": {
   "display_name": "Python 3",
   "language": "python",
   "name": "python3"
  },
  "language_info": {
   "codemirror_mode": {
    "name": "ipython",
    "version": 3
   },
   "file_extension": ".py",
   "mimetype": "text/x-python",
   "name": "python",
   "nbconvert_exporter": "python",
   "pygments_lexer": "ipython3",
   "version": "3.9.1"
  }
 },
 "nbformat": 4,
 "nbformat_minor": 2
}
