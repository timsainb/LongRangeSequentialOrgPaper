{
 "cells": [
  {
   "cell_type": "code",
   "execution_count": 1,
   "metadata": {
    "ExecuteTime": {
     "end_time": "2020-03-25T23:17:16.613686Z",
     "start_time": "2020-03-25T23:17:16.578827Z"
    }
   },
   "outputs": [],
   "source": [
    "%load_ext autoreload\n",
    "%autoreload 2"
   ]
  },
  {
   "cell_type": "code",
   "execution_count": 2,
   "metadata": {
    "ExecuteTime": {
     "end_time": "2020-03-25T23:17:17.865985Z",
     "start_time": "2020-03-25T23:17:16.727701Z"
    }
   },
   "outputs": [],
   "source": [
    "from childes_mi.utils.paths import CHILDES_DFS, DATA_DIR\n",
    "from childes_mi.utils.general import flatten"
   ]
  },
  {
   "cell_type": "code",
   "execution_count": 3,
   "metadata": {
    "ExecuteTime": {
     "end_time": "2020-03-25T23:17:18.380654Z",
     "start_time": "2020-03-25T23:17:17.869223Z"
    }
   },
   "outputs": [
    {
     "name": "stderr",
     "output_type": "stream",
     "text": [
      "/mnt/cube/tsainbur/conda_envs/tpy3/lib/python3.6/site-packages/tqdm/autonotebook/__init__.py:14: TqdmExperimentalWarning: Using `tqdm.autonotebook.tqdm` in notebook mode. Use `tqdm.tqdm` instead to force console mode (e.g. in jupyter console)\n",
      "  \" (e.g. in jupyter console)\", TqdmExperimentalWarning)\n"
     ]
    }
   ],
   "source": [
    "import pandas as pd\n",
    "import numpy as np\n",
    "import matplotlib.pyplot as plt\n",
    "import pandas as pd\n",
    "from tqdm.autonotebook import tqdm"
   ]
  },
  {
   "cell_type": "code",
   "execution_count": 4,
   "metadata": {
    "ExecuteTime": {
     "end_time": "2020-03-25T23:17:20.518667Z",
     "start_time": "2020-03-25T23:17:18.383965Z"
    }
   },
   "outputs": [
    {
     "data": {
      "text/plain": [
       "2785"
      ]
     },
     "execution_count": 4,
     "metadata": {},
     "output_type": "execute_result"
    }
   ],
   "source": [
    "transcript_df = pd.read_pickle(CHILDES_DFS/'childes_df_subset.pickle')\n",
    "#transcript_df['dataset'] = [i[0].split('/')[11] for i in transcript_df.transcript_xml.values]\n",
    "len(transcript_df)"
   ]
  },
  {
   "cell_type": "code",
   "execution_count": 5,
   "metadata": {
    "ExecuteTime": {
     "end_time": "2020-03-25T23:17:20.556897Z",
     "start_time": "2020-03-25T23:17:20.522764Z"
    }
   },
   "outputs": [],
   "source": [
    "# mask for only a subset of corpuses\n",
    "possible_corpuses = [\n",
    "    # carterette is also transcribed in IPA\n",
    "    \"Carterette\",  # 1st, 3rd, 5th grade, adults, speech naturalistic speech in IPA https://childes.talkbank.org/access/Eng-NA/Carterette.html\n",
    "    \"Gillam\",  # normal subset, spontaneous storytelling 5-11y11m https://childes.talkbank.org/access/Clinical-MOR/Gillam.html\n",
    "    \"Braunwald\",  # single subject from 1-6yo talking to family https://childes.talkbank.org/access/Eng-NA/Braunwald.html\n",
    "    \"Brown\",  # 1y6m-5y1m, 3 subjects naturalistic talking to parents https://childes.talkbank.org/access/Eng-NA/Brown.html\n",
    "    \"EllisWeismer\",  # 2y6m - 5y6 naturalistic play-oriented talk with instructor # https://childes.talkbank.org/access/Clinical-MOR/EllisWeismer.html\n",
    "    \"Gleason\",  # 2;1 - 5;2 family interactions https://childes.talkbank.org/access/Eng-NA/Gleason.html\n",
    "    \"NH\",# Nicholas-NH,  # 1;0-4;0, videotaped play with parent https://childes.talkbank.org/access/Clinical-MOR/Nicholas/NH.html\n",
    "    \"Post\",  # 1;7-2;8 60m session with family and toys https://childes.talkbank.org/access/Eng-NA/Post.html\n",
    "    \"Normal\",  #  Rondal-Normal 3-12yo free play with mother and child https://childes.talkbank.org/access/Clinical-MOR/Normal /Normal.html\n",
    "]\n",
    "corpus_mask = [corpus in possible_corpuses for corpus in transcript_df.corpus.values]\n",
    "transcript_df = transcript_df[corpus_mask]"
   ]
  },
  {
   "cell_type": "code",
   "execution_count": 6,
   "metadata": {
    "ExecuteTime": {
     "end_time": "2020-03-25T23:17:20.668443Z",
     "start_time": "2020-03-25T23:17:20.559289Z"
    }
   },
   "outputs": [
    {
     "data": {
      "text/plain": [
       "2785"
      ]
     },
     "execution_count": 6,
     "metadata": {},
     "output_type": "execute_result"
    }
   ],
   "source": [
    "# mask for a subset of roles\n",
    "possible_roles = ['Target_Child', 'Child']\n",
    "role_mask = [role in possible_roles for role in transcript_df.role.values]\n",
    "transcript_df = transcript_df[role_mask]\n",
    "len(transcript_df)"
   ]
  },
  {
   "cell_type": "code",
   "execution_count": 7,
   "metadata": {
    "ExecuteTime": {
     "end_time": "2020-03-25T23:17:21.113425Z",
     "start_time": "2020-03-25T23:17:20.672988Z"
    }
   },
   "outputs": [
    {
     "data": {
      "text/html": [
       "<div>\n",
       "<style scoped>\n",
       "    .dataframe tbody tr th:only-of-type {\n",
       "        vertical-align: middle;\n",
       "    }\n",
       "\n",
       "    .dataframe tbody tr th {\n",
       "        vertical-align: top;\n",
       "    }\n",
       "\n",
       "    .dataframe thead th {\n",
       "        text-align: right;\n",
       "    }\n",
       "</style>\n",
       "<table border=\"1\" class=\"dataframe\">\n",
       "  <thead>\n",
       "    <tr style=\"text-align: right;\">\n",
       "      <th></th>\n",
       "      <th>PID</th>\n",
       "      <th>lang</th>\n",
       "      <th>corpus</th>\n",
       "      <th>date</th>\n",
       "      <th>participant_key</th>\n",
       "      <th>role</th>\n",
       "      <th>age</th>\n",
       "      <th>language</th>\n",
       "      <th>sex</th>\n",
       "      <th>POS</th>\n",
       "      <th>words</th>\n",
       "      <th>morphemes</th>\n",
       "      <th>transcript_xml</th>\n",
       "      <th>n_words</th>\n",
       "      <th>n_morphemes</th>\n",
       "      <th>n_POS</th>\n",
       "      <th>age_months</th>\n",
       "      <th>age_years</th>\n",
       "    </tr>\n",
       "  </thead>\n",
       "  <tbody>\n",
       "    <tr>\n",
       "      <th>72301</th>\n",
       "      <td>11312/c-00015848-1</td>\n",
       "      <td>eng</td>\n",
       "      <td>Carterette</td>\n",
       "      <td>1984-01-01</td>\n",
       "      <td>CHI</td>\n",
       "      <td>Target_Child</td>\n",
       "      <td>P6Y</td>\n",
       "      <td>eng</td>\n",
       "      <td>NaN</td>\n",
       "      <td>[[pro:per, v, , , conj, n:prop, coord, pro:ind...</td>\n",
       "      <td>[[you, mean, uh, um, like, England, or, someth...</td>\n",
       "      <td>[[you, mean, uh, um, like, England, or, someth...</td>\n",
       "      <td>[/mnt/cube/tsainbur/Projects/github_repos/chil...</td>\n",
       "      <td>19903</td>\n",
       "      <td>2102</td>\n",
       "      <td>2102</td>\n",
       "      <td>72.0</td>\n",
       "      <td>6.0</td>\n",
       "    </tr>\n",
       "    <tr>\n",
       "      <th>72302</th>\n",
       "      <td>11312/c-00015847-1</td>\n",
       "      <td>eng</td>\n",
       "      <td>Carterette</td>\n",
       "      <td>1984-01-01</td>\n",
       "      <td>CHI</td>\n",
       "      <td>Target_Child</td>\n",
       "      <td>P10Y</td>\n",
       "      <td>eng</td>\n",
       "      <td>NaN</td>\n",
       "      <td>[[co, , pro:sub, v, , det:num, n], [coord, , p...</td>\n",
       "      <td>[[well, um, I, have, uh, one, sister], [and, u...</td>\n",
       "      <td>[[well, um, I, have, uh, one, sister], [and, u...</td>\n",
       "      <td>[/mnt/cube/tsainbur/Projects/github_repos/chil...</td>\n",
       "      <td>26941</td>\n",
       "      <td>2729</td>\n",
       "      <td>2729</td>\n",
       "      <td>120.0</td>\n",
       "      <td>10.0</td>\n",
       "    </tr>\n",
       "    <tr>\n",
       "      <th>72303</th>\n",
       "      <td>11312/c-00015849-1</td>\n",
       "      <td>eng</td>\n",
       "      <td>Carterette</td>\n",
       "      <td>1984-01-01</td>\n",
       "      <td>CHI</td>\n",
       "      <td>Target_Child</td>\n",
       "      <td>P8Y</td>\n",
       "      <td>eng</td>\n",
       "      <td>NaN</td>\n",
       "      <td>[[v, n, n], [co, n:prop, v, prep, det:art, n, ...</td>\n",
       "      <td>[[lets, watch, tv], [well, Nancy, said, for, t...</td>\n",
       "      <td>[[let-3S, watch, tv], [well, Nancy, say-PAST, ...</td>\n",
       "      <td>[/mnt/cube/tsainbur/Projects/github_repos/chil...</td>\n",
       "      <td>21419</td>\n",
       "      <td>2019</td>\n",
       "      <td>2019</td>\n",
       "      <td>96.0</td>\n",
       "      <td>8.0</td>\n",
       "    </tr>\n",
       "  </tbody>\n",
       "</table>\n",
       "</div>"
      ],
      "text/plain": [
       "                      PID lang      corpus        date participant_key  \\\n",
       "72301  11312/c-00015848-1  eng  Carterette  1984-01-01             CHI   \n",
       "72302  11312/c-00015847-1  eng  Carterette  1984-01-01             CHI   \n",
       "72303  11312/c-00015849-1  eng  Carterette  1984-01-01             CHI   \n",
       "\n",
       "               role   age language  sex  \\\n",
       "72301  Target_Child   P6Y      eng  NaN   \n",
       "72302  Target_Child  P10Y      eng  NaN   \n",
       "72303  Target_Child   P8Y      eng  NaN   \n",
       "\n",
       "                                                     POS  \\\n",
       "72301  [[pro:per, v, , , conj, n:prop, coord, pro:ind...   \n",
       "72302  [[co, , pro:sub, v, , det:num, n], [coord, , p...   \n",
       "72303  [[v, n, n], [co, n:prop, v, prep, det:art, n, ...   \n",
       "\n",
       "                                                   words  \\\n",
       "72301  [[you, mean, uh, um, like, England, or, someth...   \n",
       "72302  [[well, um, I, have, uh, one, sister], [and, u...   \n",
       "72303  [[lets, watch, tv], [well, Nancy, said, for, t...   \n",
       "\n",
       "                                               morphemes  \\\n",
       "72301  [[you, mean, uh, um, like, England, or, someth...   \n",
       "72302  [[well, um, I, have, uh, one, sister], [and, u...   \n",
       "72303  [[let-3S, watch, tv], [well, Nancy, say-PAST, ...   \n",
       "\n",
       "                                          transcript_xml  n_words  \\\n",
       "72301  [/mnt/cube/tsainbur/Projects/github_repos/chil...    19903   \n",
       "72302  [/mnt/cube/tsainbur/Projects/github_repos/chil...    26941   \n",
       "72303  [/mnt/cube/tsainbur/Projects/github_repos/chil...    21419   \n",
       "\n",
       "       n_morphemes  n_POS  age_months  age_years  \n",
       "72301         2102   2102        72.0        6.0  \n",
       "72302         2729   2729       120.0       10.0  \n",
       "72303         2019   2019        96.0        8.0  "
      ]
     },
     "execution_count": 7,
     "metadata": {},
     "output_type": "execute_result"
    }
   ],
   "source": [
    "transcript_df[:3]"
   ]
  },
  {
   "cell_type": "code",
   "execution_count": 8,
   "metadata": {
    "ExecuteTime": {
     "end_time": "2020-03-25T23:17:21.143162Z",
     "start_time": "2020-03-25T23:17:21.115718Z"
    }
   },
   "outputs": [
    {
     "name": "stdout",
     "output_type": "stream",
     "text": [
      "['Carterette' 'Brown' 'Braunwald' 'Post' 'Gleason' 'Normal' 'Gillam'\n",
      " 'EllisWeismer' 'NH']\n"
     ]
    }
   ],
   "source": [
    "print(transcript_df.corpus.unique())"
   ]
  },
  {
   "cell_type": "code",
   "execution_count": 9,
   "metadata": {
    "ExecuteTime": {
     "end_time": "2020-03-25T23:17:21.238353Z",
     "start_time": "2020-03-25T23:17:21.145131Z"
    }
   },
   "outputs": [
    {
     "name": "stdout",
     "output_type": "stream",
     "text": [
      "there are 1247296 words in this dataset\n"
     ]
    }
   ],
   "source": [
    "print(\"there are {} words in this dataset\".format(np.sum(transcript_df.n_words.values)))"
   ]
  },
  {
   "cell_type": "markdown",
   "metadata": {},
   "source": [
    "### Get child ages"
   ]
  },
  {
   "cell_type": "code",
   "execution_count": 11,
   "metadata": {
    "ExecuteTime": {
     "end_time": "2020-03-25T23:17:32.332807Z",
     "start_time": "2020-03-25T23:17:28.499810Z"
    }
   },
   "outputs": [],
   "source": [
    "import seaborn as sns\n",
    "from childes_mi.utils.paths import DATA_DIR, FIGURE_DIR, ensure_dir\n",
    "from childes_mi.utils.general import flatten,save_fig\n",
    "ensure_dir(FIGURE_DIR/ 'distributions')"
   ]
  },
  {
   "cell_type": "code",
   "execution_count": 12,
   "metadata": {
    "ExecuteTime": {
     "end_time": "2020-03-25T23:17:32.389985Z",
     "start_time": "2020-03-25T23:17:32.337037Z"
    }
   },
   "outputs": [],
   "source": [
    "def quickplot_decay(distances, MI, shuff_MI, title=''):\n",
    "    fig,axs = plt.subplots(ncols=2, figsize = (10,4))\n",
    "    ax = axs[0]\n",
    "    ax.set_title(title)\n",
    "    ax.scatter(distances, MI-shuff_MI)\n",
    "    ax.plot(distances, MI-shuff_MI, alpha = 0)\n",
    "    ax.set_yscale('log')\n",
    "    ax.set_xscale('log')\n",
    "\n",
    "    ax = axs[1]\n",
    "    ax.scatter(distances, MI)\n",
    "    ax.scatter(distances, shuff_MI)\n",
    "    plt.show()"
   ]
  },
  {
   "cell_type": "code",
   "execution_count": 13,
   "metadata": {
    "ExecuteTime": {
     "end_time": "2020-03-25T23:17:32.493116Z",
     "start_time": "2020-03-25T23:17:32.392658Z"
    }
   },
   "outputs": [],
   "source": [
    "row = transcript_df.sort_values(by='n_words', ascending=False).iloc[0]"
   ]
  },
  {
   "cell_type": "code",
   "execution_count": 14,
   "metadata": {
    "ExecuteTime": {
     "end_time": "2020-03-25T23:17:32.661811Z",
     "start_time": "2020-03-25T23:17:32.498467Z"
    }
   },
   "outputs": [
    {
     "data": {
      "text/plain": [
       "['well', 'um', 'I', 'have', 'uh', 'one', 'sister', 'and', 'um', \"she's\"]"
      ]
     },
     "execution_count": 14,
     "metadata": {},
     "output_type": "execute_result"
    }
   ],
   "source": [
    "words_list = list(flatten([i for i in flatten(row.words) if i is not None]))\n",
    "words_list[:10]"
   ]
  },
  {
   "cell_type": "code",
   "execution_count": 15,
   "metadata": {
    "ExecuteTime": {
     "end_time": "2020-03-25T23:17:32.707571Z",
     "start_time": "2020-03-25T23:17:32.663944Z"
    }
   },
   "outputs": [
    {
     "data": {
      "text/plain": [
       "(26941, 2662)"
      ]
     },
     "execution_count": 15,
     "metadata": {},
     "output_type": "execute_result"
    }
   ],
   "source": [
    "n_words = len(words_list)\n",
    "n_unique_words = len(np.unique(words_list))\n",
    "n_words, n_unique_words"
   ]
  },
  {
   "cell_type": "code",
   "execution_count": 16,
   "metadata": {
    "ExecuteTime": {
     "end_time": "2020-03-25T23:17:32.769432Z",
     "start_time": "2020-03-25T23:17:32.709582Z"
    }
   },
   "outputs": [],
   "source": [
    "distances = np.arange(1, n_words - 1)"
   ]
  },
  {
   "cell_type": "code",
   "execution_count": 17,
   "metadata": {
    "ExecuteTime": {
     "end_time": "2020-03-25T23:17:33.805771Z",
     "start_time": "2020-03-25T23:17:32.771265Z"
    }
   },
   "outputs": [
    {
     "name": "stderr",
     "output_type": "stream",
     "text": [
      "/mnt/cube/tsainbur/conda_envs/tpy3/lib/python3.6/site-packages/sklearn/utils/deprecation.py:144: FutureWarning: The sklearn.metrics.cluster.supervised module is  deprecated in version 0.22 and will be removed in version 0.24. The corresponding classes / functions should instead be imported from sklearn.metrics.cluster. Anything that cannot be imported from sklearn.metrics.cluster is now part of the private API.\n",
      "  warnings.warn(message, FutureWarning)\n",
      "/mnt/cube/tsainbur/conda_envs/tpy3/lib/python3.6/site-packages/sklearn/utils/deprecation.py:144: FutureWarning: The sklearn.metrics.cluster.expected_mutual_info_fast module is  deprecated in version 0.22 and will be removed in version 0.24. The corresponding classes / functions should instead be imported from sklearn.metrics.cluster. Anything that cannot be imported from sklearn.metrics.cluster is now part of the private API.\n",
      "  warnings.warn(message, FutureWarning)\n"
     ]
    }
   ],
   "source": [
    "from childes_mi.information_theory import mutual_information as mi"
   ]
  },
  {
   "cell_type": "code",
   "execution_count": 28,
   "metadata": {
    "ExecuteTime": {
     "end_time": "2020-03-25T22:48:51.550897Z",
     "start_time": "2020-03-25T22:47:36.704700Z"
    },
    "scrolled": true
   },
   "outputs": [
    {
     "data": {
      "application/vnd.jupyter.widget-view+json": {
       "model_id": "",
       "version_major": 2,
       "version_minor": 0
      },
      "text/plain": [
       "HBox(children=(IntProgress(value=0, max=26939), HTML(value='')))"
      ]
     },
     "metadata": {},
     "output_type": "display_data"
    },
    {
     "name": "stderr",
     "output_type": "stream",
     "text": [
      "[Parallel(n_jobs=-1)]: Using backend LokyBackend with 32 concurrent workers.\n",
      "[Parallel(n_jobs=-1)]: Done   8 tasks      | elapsed:    2.8s\n",
      "[Parallel(n_jobs=-1)]: Done  98 tasks      | elapsed:    3.2s\n",
      "[Parallel(n_jobs=-1)]: Done 278 tasks      | elapsed:    3.6s\n",
      "[Parallel(n_jobs=-1)]: Done 602 tasks      | elapsed:    4.4s\n",
      "[Parallel(n_jobs=-1)]: Done 998 tasks      | elapsed:    5.3s\n",
      "[Parallel(n_jobs=-1)]: Done 1466 tasks      | elapsed:    6.4s\n",
      "[Parallel(n_jobs=-1)]: Done 2006 tasks      | elapsed:    7.6s\n",
      "[Parallel(n_jobs=-1)]: Done 2618 tasks      | elapsed:    9.0s\n",
      "[Parallel(n_jobs=-1)]: Done 3302 tasks      | elapsed:   10.5s\n",
      "[Parallel(n_jobs=-1)]: Done 4058 tasks      | elapsed:   12.1s\n",
      "[Parallel(n_jobs=-1)]: Done 4886 tasks      | elapsed:   13.8s\n",
      "[Parallel(n_jobs=-1)]: Done 5786 tasks      | elapsed:   15.6s\n",
      "[Parallel(n_jobs=-1)]: Done 6758 tasks      | elapsed:   17.4s\n",
      "[Parallel(n_jobs=-1)]: Done 7802 tasks      | elapsed:   19.3s\n",
      "[Parallel(n_jobs=-1)]: Done 8918 tasks      | elapsed:   21.3s\n",
      "[Parallel(n_jobs=-1)]: Done 10106 tasks      | elapsed:   23.3s\n",
      "[Parallel(n_jobs=-1)]: Done 11894 tasks      | elapsed:   26.1s\n",
      "[Parallel(n_jobs=-1)]: Done 14558 tasks      | elapsed:   29.8s\n",
      "[Parallel(n_jobs=-1)]: Done 17366 tasks      | elapsed:   33.0s\n",
      "[Parallel(n_jobs=-1)]: Done 20318 tasks      | elapsed:   35.6s\n"
     ]
    },
    {
     "name": "stdout",
     "output_type": "stream",
     "text": [
      "\r"
     ]
    },
    {
     "name": "stderr",
     "output_type": "stream",
     "text": [
      "[Parallel(n_jobs=-1)]: Done 26939 out of 26939 | elapsed:   38.5s finished\n"
     ]
    },
    {
     "data": {
      "application/vnd.jupyter.widget-view+json": {
       "model_id": "",
       "version_major": 2,
       "version_minor": 0
      },
      "text/plain": [
       "HBox(children=(IntProgress(value=0, max=26939), HTML(value='')))"
      ]
     },
     "metadata": {},
     "output_type": "display_data"
    },
    {
     "name": "stderr",
     "output_type": "stream",
     "text": [
      "[Parallel(n_jobs=-1)]: Using backend LokyBackend with 32 concurrent workers.\n",
      "[Parallel(n_jobs=-1)]: Done   8 tasks      | elapsed:    0.1s\n",
      "[Parallel(n_jobs=-1)]: Done 200 tasks      | elapsed:    0.7s\n",
      "[Parallel(n_jobs=-1)]: Done 704 tasks      | elapsed:    1.8s\n",
      "[Parallel(n_jobs=-1)]: Done 1352 tasks      | elapsed:    3.4s\n",
      "[Parallel(n_jobs=-1)]: Done 2144 tasks      | elapsed:    5.2s\n",
      "[Parallel(n_jobs=-1)]: Done 3080 tasks      | elapsed:    7.3s\n",
      "[Parallel(n_jobs=-1)]: Done 4160 tasks      | elapsed:    9.6s\n",
      "[Parallel(n_jobs=-1)]: Done 5384 tasks      | elapsed:   12.1s\n",
      "[Parallel(n_jobs=-1)]: Done 6752 tasks      | elapsed:   14.8s\n",
      "[Parallel(n_jobs=-1)]: Done 8264 tasks      | elapsed:   17.6s\n",
      "[Parallel(n_jobs=-1)]: Done 9920 tasks      | elapsed:   20.5s\n",
      "[Parallel(n_jobs=-1)]: Done 11720 tasks      | elapsed:   23.3s\n",
      "[Parallel(n_jobs=-1)]: Done 13664 tasks      | elapsed:   26.1s\n",
      "[Parallel(n_jobs=-1)]: Done 15752 tasks      | elapsed:   28.7s\n",
      "[Parallel(n_jobs=-1)]: Done 17984 tasks      | elapsed:   31.2s\n",
      "[Parallel(n_jobs=-1)]: Done 20360 tasks      | elapsed:   33.3s\n",
      "[Parallel(n_jobs=-1)]: Done 24900 tasks      | elapsed:   35.8s\n"
     ]
    },
    {
     "name": "stdout",
     "output_type": "stream",
     "text": [
      "\r"
     ]
    },
    {
     "name": "stderr",
     "output_type": "stream",
     "text": [
      "[Parallel(n_jobs=-1)]: Done 26939 out of 26939 | elapsed:   36.2s finished\n"
     ]
    }
   ],
   "source": [
    "(MI, MI_var), (shuff_MI, shuff_MI_var) = mi.sequential_mutual_information([list(words_list)],  \n",
    "                                                                          distances = distances, n_jobs=-1)"
   ]
  },
  {
   "cell_type": "code",
   "execution_count": 19,
   "metadata": {
    "ExecuteTime": {
     "end_time": "2020-03-25T23:17:44.718154Z",
     "start_time": "2020-03-25T23:17:44.603880Z"
    }
   },
   "outputs": [],
   "source": [
    "shuffled_words = np.random.permutation(list(words_list))"
   ]
  },
  {
   "cell_type": "code",
   "execution_count": 20,
   "metadata": {
    "ExecuteTime": {
     "end_time": "2020-03-25T23:17:46.456920Z",
     "start_time": "2020-03-25T23:17:46.380878Z"
    }
   },
   "outputs": [
    {
     "data": {
      "text/plain": [
       "array(['you', 'do', 'in', 'three', 'father', \"won't\", 'certain', 'smart',\n",
       "       'tortoise', 'club'], dtype='<U28')"
      ]
     },
     "execution_count": 20,
     "metadata": {},
     "output_type": "execute_result"
    }
   ],
   "source": [
    "shuffled_words[:10]"
   ]
  },
  {
   "cell_type": "code",
   "execution_count": 31,
   "metadata": {
    "ExecuteTime": {
     "end_time": "2020-03-25T22:50:19.248770Z",
     "start_time": "2020-03-25T22:49:06.075403Z"
    },
    "scrolled": true
   },
   "outputs": [
    {
     "data": {
      "application/vnd.jupyter.widget-view+json": {
       "model_id": "",
       "version_major": 2,
       "version_minor": 0
      },
      "text/plain": [
       "HBox(children=(IntProgress(value=0, max=26939), HTML(value='')))"
      ]
     },
     "metadata": {},
     "output_type": "display_data"
    },
    {
     "name": "stderr",
     "output_type": "stream",
     "text": [
      "[Parallel(n_jobs=-1)]: Using backend LokyBackend with 32 concurrent workers.\n",
      "[Parallel(n_jobs=-1)]: Done   8 tasks      | elapsed:    0.1s\n",
      "[Parallel(n_jobs=-1)]: Done 200 tasks      | elapsed:    0.7s\n",
      "[Parallel(n_jobs=-1)]: Done 704 tasks      | elapsed:    1.8s\n",
      "[Parallel(n_jobs=-1)]: Done 1352 tasks      | elapsed:    3.4s\n",
      "[Parallel(n_jobs=-1)]: Done 2144 tasks      | elapsed:    5.1s\n",
      "[Parallel(n_jobs=-1)]: Done 3080 tasks      | elapsed:    7.2s\n",
      "[Parallel(n_jobs=-1)]: Done 4160 tasks      | elapsed:    9.5s\n",
      "[Parallel(n_jobs=-1)]: Done 5384 tasks      | elapsed:   12.0s\n",
      "[Parallel(n_jobs=-1)]: Done 6752 tasks      | elapsed:   14.6s\n",
      "[Parallel(n_jobs=-1)]: Done 8264 tasks      | elapsed:   17.3s\n",
      "[Parallel(n_jobs=-1)]: Done 9920 tasks      | elapsed:   20.2s\n",
      "[Parallel(n_jobs=-1)]: Done 11720 tasks      | elapsed:   23.0s\n",
      "[Parallel(n_jobs=-1)]: Done 13664 tasks      | elapsed:   25.8s\n",
      "[Parallel(n_jobs=-1)]: Done 15752 tasks      | elapsed:   28.5s\n",
      "[Parallel(n_jobs=-1)]: Done 17984 tasks      | elapsed:   30.9s\n",
      "[Parallel(n_jobs=-1)]: Done 20360 tasks      | elapsed:   33.1s\n",
      "[Parallel(n_jobs=-1)]: Done 24884 tasks      | elapsed:   35.8s\n"
     ]
    },
    {
     "name": "stdout",
     "output_type": "stream",
     "text": [
      "\r"
     ]
    },
    {
     "name": "stderr",
     "output_type": "stream",
     "text": [
      "[Parallel(n_jobs=-1)]: Done 26939 out of 26939 | elapsed:   36.2s finished\n"
     ]
    },
    {
     "data": {
      "application/vnd.jupyter.widget-view+json": {
       "model_id": "",
       "version_major": 2,
       "version_minor": 0
      },
      "text/plain": [
       "HBox(children=(IntProgress(value=0, max=26939), HTML(value='')))"
      ]
     },
     "metadata": {},
     "output_type": "display_data"
    },
    {
     "name": "stderr",
     "output_type": "stream",
     "text": [
      "[Parallel(n_jobs=-1)]: Using backend LokyBackend with 32 concurrent workers.\n",
      "[Parallel(n_jobs=-1)]: Done   8 tasks      | elapsed:    0.1s\n",
      "[Parallel(n_jobs=-1)]: Done 200 tasks      | elapsed:    0.7s\n",
      "[Parallel(n_jobs=-1)]: Done 704 tasks      | elapsed:    1.8s\n",
      "[Parallel(n_jobs=-1)]: Done 1352 tasks      | elapsed:    3.4s\n",
      "[Parallel(n_jobs=-1)]: Done 2144 tasks      | elapsed:    5.2s\n",
      "[Parallel(n_jobs=-1)]: Done 3080 tasks      | elapsed:    7.2s\n",
      "[Parallel(n_jobs=-1)]: Done 4160 tasks      | elapsed:    9.6s\n",
      "[Parallel(n_jobs=-1)]: Done 5384 tasks      | elapsed:   12.3s\n",
      "[Parallel(n_jobs=-1)]: Done 6752 tasks      | elapsed:   14.9s\n",
      "[Parallel(n_jobs=-1)]: Done 8264 tasks      | elapsed:   17.7s\n",
      "[Parallel(n_jobs=-1)]: Done 9920 tasks      | elapsed:   20.6s\n",
      "[Parallel(n_jobs=-1)]: Done 11720 tasks      | elapsed:   23.5s\n",
      "[Parallel(n_jobs=-1)]: Done 13664 tasks      | elapsed:   26.3s\n",
      "[Parallel(n_jobs=-1)]: Done 15752 tasks      | elapsed:   29.0s\n",
      "[Parallel(n_jobs=-1)]: Done 17984 tasks      | elapsed:   31.5s\n",
      "[Parallel(n_jobs=-1)]: Done 20360 tasks      | elapsed:   33.7s\n",
      "[Parallel(n_jobs=-1)]: Done 24824 tasks      | elapsed:   36.4s\n"
     ]
    },
    {
     "name": "stdout",
     "output_type": "stream",
     "text": [
      "\r"
     ]
    },
    {
     "name": "stderr",
     "output_type": "stream",
     "text": [
      "[Parallel(n_jobs=-1)]: Done 26939 out of 26939 | elapsed:   36.9s finished\n"
     ]
    }
   ],
   "source": [
    "(MI_seqshuff, MI_var_seqshuff), (shuff_MI_seqshuff, shuff_MI_var_seqshuff) = mi.sequential_mutual_information([shuffled_words],  \n",
    "                                                                          distances = distances, n_jobs=-1)"
   ]
  },
  {
   "cell_type": "code",
   "execution_count": 21,
   "metadata": {
    "ExecuteTime": {
     "end_time": "2020-03-25T23:19:35.446595Z",
     "start_time": "2020-03-25T23:17:48.253920Z"
    }
   },
   "outputs": [
    {
     "data": {
      "application/vnd.jupyter.widget-view+json": {
       "model_id": "98eb8700012344a78d0456f3a1a40006",
       "version_major": 2,
       "version_minor": 0
      },
      "text/plain": [
       "HBox(children=(IntProgress(value=0, max=26939), HTML(value='')))"
      ]
     },
     "metadata": {},
     "output_type": "display_data"
    },
    {
     "name": "stderr",
     "output_type": "stream",
     "text": [
      "[Parallel(n_jobs=-1)]: Using backend LokyBackend with 24 concurrent workers.\n",
      "[Parallel(n_jobs=-1)]: Done  24 tasks      | elapsed:  1.5min\n"
     ]
    },
    {
     "ename": "KeyboardInterrupt",
     "evalue": "",
     "output_type": "error",
     "traceback": [
      "\u001b[0;31m---------------------------------------------------------------------------\u001b[0m",
      "\u001b[0;31mKeyboardInterrupt\u001b[0m                         Traceback (most recent call last)",
      "\u001b[0;32m<ipython-input-21-41f1c33276f4>\u001b[0m in \u001b[0;36m<module>\u001b[0;34m\u001b[0m\n\u001b[1;32m      1\u001b[0m (MI_seqshuff, MI_var_seqshuff), (shuff_MI_seqshuff, shuff_MI_var_seqshuff) = mi.sequential_mutual_information([shuffled_words],  \n\u001b[0;32m----> 2\u001b[0;31m                                                                           distances = distances, n_jobs=-1, mi_estimation= 'adjusted_mi_sklearn')\n\u001b[0m",
      "\u001b[0;32m/mnt/cube/tsainbur/Projects/github_repos/childes_mi_project/childes_mi/information_theory/mutual_information.py\u001b[0m in \u001b[0;36msequential_mutual_information\u001b[0;34m(sequences, distances, n_jobs, verbosity, n_shuff_repeats, disable_tqdm, prefer, mi_estimation, unclustered_element, **mi_kwargs)\u001b[0m\n\u001b[1;32m    245\u001b[0m                 )\n\u001b[1;32m    246\u001b[0m                 for dist_i, dist in enumerate(\n\u001b[0;32m--> 247\u001b[0;31m                     \u001b[0mtqdm\u001b[0m\u001b[0;34m(\u001b[0m\u001b[0mdistances\u001b[0m\u001b[0;34m,\u001b[0m \u001b[0mleave\u001b[0m\u001b[0;34m=\u001b[0m\u001b[0;32mFalse\u001b[0m\u001b[0;34m,\u001b[0m \u001b[0mdisable\u001b[0m\u001b[0;34m=\u001b[0m\u001b[0mdisable_tqdm\u001b[0m\u001b[0;34m)\u001b[0m\u001b[0;34m\u001b[0m\u001b[0;34m\u001b[0m\u001b[0m\n\u001b[0m\u001b[1;32m    248\u001b[0m                 )\n\u001b[1;32m    249\u001b[0m             )\n",
      "\u001b[0;32m/mnt/cube/tsainbur/conda_envs/tpy3/lib/python3.6/site-packages/joblib/parallel.py\u001b[0m in \u001b[0;36m__call__\u001b[0;34m(self, iterable)\u001b[0m\n\u001b[1;32m    932\u001b[0m \u001b[0;34m\u001b[0m\u001b[0m\n\u001b[1;32m    933\u001b[0m             \u001b[0;32mwith\u001b[0m \u001b[0mself\u001b[0m\u001b[0;34m.\u001b[0m\u001b[0m_backend\u001b[0m\u001b[0;34m.\u001b[0m\u001b[0mretrieval_context\u001b[0m\u001b[0;34m(\u001b[0m\u001b[0;34m)\u001b[0m\u001b[0;34m:\u001b[0m\u001b[0;34m\u001b[0m\u001b[0;34m\u001b[0m\u001b[0m\n\u001b[0;32m--> 934\u001b[0;31m                 \u001b[0mself\u001b[0m\u001b[0;34m.\u001b[0m\u001b[0mretrieve\u001b[0m\u001b[0;34m(\u001b[0m\u001b[0;34m)\u001b[0m\u001b[0;34m\u001b[0m\u001b[0;34m\u001b[0m\u001b[0m\n\u001b[0m\u001b[1;32m    935\u001b[0m             \u001b[0;31m# Make sure that we get a last message telling us we are done\u001b[0m\u001b[0;34m\u001b[0m\u001b[0;34m\u001b[0m\u001b[0;34m\u001b[0m\u001b[0m\n\u001b[1;32m    936\u001b[0m             \u001b[0melapsed_time\u001b[0m \u001b[0;34m=\u001b[0m \u001b[0mtime\u001b[0m\u001b[0;34m.\u001b[0m\u001b[0mtime\u001b[0m\u001b[0;34m(\u001b[0m\u001b[0;34m)\u001b[0m \u001b[0;34m-\u001b[0m \u001b[0mself\u001b[0m\u001b[0;34m.\u001b[0m\u001b[0m_start_time\u001b[0m\u001b[0;34m\u001b[0m\u001b[0;34m\u001b[0m\u001b[0m\n",
      "\u001b[0;32m/mnt/cube/tsainbur/conda_envs/tpy3/lib/python3.6/site-packages/joblib/parallel.py\u001b[0m in \u001b[0;36mretrieve\u001b[0;34m(self)\u001b[0m\n\u001b[1;32m    831\u001b[0m             \u001b[0;32mtry\u001b[0m\u001b[0;34m:\u001b[0m\u001b[0;34m\u001b[0m\u001b[0;34m\u001b[0m\u001b[0m\n\u001b[1;32m    832\u001b[0m                 \u001b[0;32mif\u001b[0m \u001b[0mgetattr\u001b[0m\u001b[0;34m(\u001b[0m\u001b[0mself\u001b[0m\u001b[0;34m.\u001b[0m\u001b[0m_backend\u001b[0m\u001b[0;34m,\u001b[0m \u001b[0;34m'supports_timeout'\u001b[0m\u001b[0;34m,\u001b[0m \u001b[0;32mFalse\u001b[0m\u001b[0;34m)\u001b[0m\u001b[0;34m:\u001b[0m\u001b[0;34m\u001b[0m\u001b[0;34m\u001b[0m\u001b[0m\n\u001b[0;32m--> 833\u001b[0;31m                     \u001b[0mself\u001b[0m\u001b[0;34m.\u001b[0m\u001b[0m_output\u001b[0m\u001b[0;34m.\u001b[0m\u001b[0mextend\u001b[0m\u001b[0;34m(\u001b[0m\u001b[0mjob\u001b[0m\u001b[0;34m.\u001b[0m\u001b[0mget\u001b[0m\u001b[0;34m(\u001b[0m\u001b[0mtimeout\u001b[0m\u001b[0;34m=\u001b[0m\u001b[0mself\u001b[0m\u001b[0;34m.\u001b[0m\u001b[0mtimeout\u001b[0m\u001b[0;34m)\u001b[0m\u001b[0;34m)\u001b[0m\u001b[0;34m\u001b[0m\u001b[0;34m\u001b[0m\u001b[0m\n\u001b[0m\u001b[1;32m    834\u001b[0m                 \u001b[0;32melse\u001b[0m\u001b[0;34m:\u001b[0m\u001b[0;34m\u001b[0m\u001b[0;34m\u001b[0m\u001b[0m\n\u001b[1;32m    835\u001b[0m                     \u001b[0mself\u001b[0m\u001b[0;34m.\u001b[0m\u001b[0m_output\u001b[0m\u001b[0;34m.\u001b[0m\u001b[0mextend\u001b[0m\u001b[0;34m(\u001b[0m\u001b[0mjob\u001b[0m\u001b[0;34m.\u001b[0m\u001b[0mget\u001b[0m\u001b[0;34m(\u001b[0m\u001b[0;34m)\u001b[0m\u001b[0;34m)\u001b[0m\u001b[0;34m\u001b[0m\u001b[0;34m\u001b[0m\u001b[0m\n",
      "\u001b[0;32m/mnt/cube/tsainbur/conda_envs/tpy3/lib/python3.6/site-packages/joblib/_parallel_backends.py\u001b[0m in \u001b[0;36mwrap_future_result\u001b[0;34m(future, timeout)\u001b[0m\n\u001b[1;32m    519\u001b[0m         AsyncResults.get from multiprocessing.\"\"\"\n\u001b[1;32m    520\u001b[0m         \u001b[0;32mtry\u001b[0m\u001b[0;34m:\u001b[0m\u001b[0;34m\u001b[0m\u001b[0;34m\u001b[0m\u001b[0m\n\u001b[0;32m--> 521\u001b[0;31m             \u001b[0;32mreturn\u001b[0m \u001b[0mfuture\u001b[0m\u001b[0;34m.\u001b[0m\u001b[0mresult\u001b[0m\u001b[0;34m(\u001b[0m\u001b[0mtimeout\u001b[0m\u001b[0;34m=\u001b[0m\u001b[0mtimeout\u001b[0m\u001b[0;34m)\u001b[0m\u001b[0;34m\u001b[0m\u001b[0;34m\u001b[0m\u001b[0m\n\u001b[0m\u001b[1;32m    522\u001b[0m         \u001b[0;32mexcept\u001b[0m \u001b[0mLokyTimeoutError\u001b[0m\u001b[0;34m:\u001b[0m\u001b[0;34m\u001b[0m\u001b[0;34m\u001b[0m\u001b[0m\n\u001b[1;32m    523\u001b[0m             \u001b[0;32mraise\u001b[0m \u001b[0mTimeoutError\u001b[0m\u001b[0;34m(\u001b[0m\u001b[0;34m)\u001b[0m\u001b[0;34m\u001b[0m\u001b[0;34m\u001b[0m\u001b[0m\n",
      "\u001b[0;32m/mnt/cube/tsainbur/conda_envs/tpy3/lib/python3.6/concurrent/futures/_base.py\u001b[0m in \u001b[0;36mresult\u001b[0;34m(self, timeout)\u001b[0m\n\u001b[1;32m    425\u001b[0m                 \u001b[0;32mreturn\u001b[0m \u001b[0mself\u001b[0m\u001b[0;34m.\u001b[0m\u001b[0m__get_result\u001b[0m\u001b[0;34m(\u001b[0m\u001b[0;34m)\u001b[0m\u001b[0;34m\u001b[0m\u001b[0;34m\u001b[0m\u001b[0m\n\u001b[1;32m    426\u001b[0m \u001b[0;34m\u001b[0m\u001b[0m\n\u001b[0;32m--> 427\u001b[0;31m             \u001b[0mself\u001b[0m\u001b[0;34m.\u001b[0m\u001b[0m_condition\u001b[0m\u001b[0;34m.\u001b[0m\u001b[0mwait\u001b[0m\u001b[0;34m(\u001b[0m\u001b[0mtimeout\u001b[0m\u001b[0;34m)\u001b[0m\u001b[0;34m\u001b[0m\u001b[0;34m\u001b[0m\u001b[0m\n\u001b[0m\u001b[1;32m    428\u001b[0m \u001b[0;34m\u001b[0m\u001b[0m\n\u001b[1;32m    429\u001b[0m             \u001b[0;32mif\u001b[0m \u001b[0mself\u001b[0m\u001b[0;34m.\u001b[0m\u001b[0m_state\u001b[0m \u001b[0;32min\u001b[0m \u001b[0;34m[\u001b[0m\u001b[0mCANCELLED\u001b[0m\u001b[0;34m,\u001b[0m \u001b[0mCANCELLED_AND_NOTIFIED\u001b[0m\u001b[0;34m]\u001b[0m\u001b[0;34m:\u001b[0m\u001b[0;34m\u001b[0m\u001b[0;34m\u001b[0m\u001b[0m\n",
      "\u001b[0;32m/mnt/cube/tsainbur/conda_envs/tpy3/lib/python3.6/threading.py\u001b[0m in \u001b[0;36mwait\u001b[0;34m(self, timeout)\u001b[0m\n\u001b[1;32m    293\u001b[0m         \u001b[0;32mtry\u001b[0m\u001b[0;34m:\u001b[0m    \u001b[0;31m# restore state no matter what (e.g., KeyboardInterrupt)\u001b[0m\u001b[0;34m\u001b[0m\u001b[0;34m\u001b[0m\u001b[0m\n\u001b[1;32m    294\u001b[0m             \u001b[0;32mif\u001b[0m \u001b[0mtimeout\u001b[0m \u001b[0;32mis\u001b[0m \u001b[0;32mNone\u001b[0m\u001b[0;34m:\u001b[0m\u001b[0;34m\u001b[0m\u001b[0;34m\u001b[0m\u001b[0m\n\u001b[0;32m--> 295\u001b[0;31m                 \u001b[0mwaiter\u001b[0m\u001b[0;34m.\u001b[0m\u001b[0macquire\u001b[0m\u001b[0;34m(\u001b[0m\u001b[0;34m)\u001b[0m\u001b[0;34m\u001b[0m\u001b[0;34m\u001b[0m\u001b[0m\n\u001b[0m\u001b[1;32m    296\u001b[0m                 \u001b[0mgotit\u001b[0m \u001b[0;34m=\u001b[0m \u001b[0;32mTrue\u001b[0m\u001b[0;34m\u001b[0m\u001b[0;34m\u001b[0m\u001b[0m\n\u001b[1;32m    297\u001b[0m             \u001b[0;32melse\u001b[0m\u001b[0;34m:\u001b[0m\u001b[0;34m\u001b[0m\u001b[0;34m\u001b[0m\u001b[0m\n",
      "\u001b[0;31mKeyboardInterrupt\u001b[0m: "
     ]
    }
   ],
   "source": [
    "(MI_seqshuff, MI_var_seqshuff), (shuff_MI_seqshuff, shuff_MI_var_seqshuff) = mi.sequential_mutual_information([words_list],  \n",
    "                                                                          distances = distances, n_jobs=-1, mi_estimation= 'adjusted_mi_sklearn')"
   ]
  },
  {
   "cell_type": "code",
   "execution_count": 38,
   "metadata": {
    "ExecuteTime": {
     "end_time": "2020-03-25T22:51:50.558940Z",
     "start_time": "2020-03-25T22:51:49.829235Z"
    }
   },
   "outputs": [
    {
     "data": {
      "image/png": "[encoded data removed]",
      "text/plain": [
       "<Figure size 432x288 with 1 Axes>"
      ]
     },
     "metadata": {
      "needs_background": "light"
     },
     "output_type": "display_data"
    }
   ],
   "source": [
    "fig, ax = plt.subplots()\n",
    "\n",
    "ax.plot(distances, MI)\n",
    "ax.plot(distances, shuff_MI)\n",
    "ax.plot(distances, MI_seqshuff)\n",
    "\n",
    "ax.set_yscale('log')\n",
    "ax.set_xscale('log')\n",
    "ax.set_ylim([])"
   ]
  },
  {
   "cell_type": "code",
   "execution_count": 65,
   "metadata": {
    "ExecuteTime": {
     "end_time": "2020-03-25T22:57:55.866229Z",
     "start_time": "2020-03-25T22:57:55.833693Z"
    }
   },
   "outputs": [
    {
     "data": {
      "text/plain": [
       "14.717515781510224"
      ]
     },
     "execution_count": 65,
     "metadata": {},
     "output_type": "execute_result"
    }
   ],
   "source": [
    "np.log2(n_words)"
   ]
  },
  {
   "cell_type": "code",
   "execution_count": 75,
   "metadata": {
    "ExecuteTime": {
     "end_time": "2020-03-25T23:00:00.514663Z",
     "start_time": "2020-03-25T23:00:00.491602Z"
    }
   },
   "outputs": [],
   "source": [
    "mask_nums = np.unique((np.logspace(0, 14.7, num=100, base=2).astype('int')))\n",
    "mask = np.isin(distances, mask_nums)"
   ]
  },
  {
   "cell_type": "code",
   "execution_count": 101,
   "metadata": {
    "ExecuteTime": {
     "end_time": "2020-03-25T23:09:39.651965Z",
     "start_time": "2020-03-25T23:09:39.180720Z"
    }
   },
   "outputs": [
    {
     "data": {
      "text/plain": [
       "[None, None, None, None]"
      ]
     },
     "execution_count": 101,
     "metadata": {},
     "output_type": "execute_result"
    },
    {
     "data": {
      "image/png": "[encoded data removed]",
      "text/plain": [
       "<Figure size 504x432 with 1 Axes>"
      ]
     },
     "metadata": {
      "needs_background": "light"
     },
     "output_type": "display_data"
    }
   ],
   "source": [
    "fig, ax = plt.subplots(figsize=(7,6))\n",
    "s = 10\n",
    "lw = 3\n",
    "\n",
    "ax.plot(distances[mask], MI[mask], lw=lw, label=\"Mutual information\")\n",
    "ax.plot(distances[mask], shuff_MI[mask], lw=lw, ls='dashed', label=\"Shuffled mutual information\")\n",
    "ax.plot(distances[mask], MI_seqshuff[mask], lw=lw, ls='dotted',  label=\"Mutual information of shuffled sequence\")\n",
    "\n",
    "ax.set_ylabel(\"Mutual Information\", fontsize=18)\n",
    "ax.set_xlabel(\"Distance between elements\", fontsize=18)\n",
    "#ax.set_yscale('log')\n",
    "ax.set_xscale('log')\n",
    "ax.set_ylim([6.3,7.3])\n",
    "ax.set_xlim([1, n_words-1])\n",
    "ax.legend(fontsize=14, frameon=False)\n",
    "\n",
    "ax.xaxis.set_tick_params(labelsize=14)\n",
    "ax.yaxis.set_tick_params(labelsize=14)\n",
    "[i.set_linewidth(3) for i in ax.spines.values()]"
   ]
  },
  {
   "cell_type": "code",
   "execution_count": null,
   "metadata": {},
   "outputs": [],
   "source": []
  }
 ],
 "metadata": {
  "kernelspec": {
   "display_name": "Python 3",
   "language": "python",
   "name": "python3"
  },
  "language_info": {
   "codemirror_mode": {
    "name": "ipython",
    "version": 3
   },
   "file_extension": ".py",
   "mimetype": "text/x-python",
   "name": "python",
   "nbconvert_exporter": "python",
   "pygments_lexer": "ipython3",
   "version": "3.6.7"
  }
 },
 "nbformat": 4,
 "nbformat_minor": 2
}
