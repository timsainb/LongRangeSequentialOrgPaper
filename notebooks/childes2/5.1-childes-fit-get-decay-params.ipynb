{
 "cells": [
  {
   "cell_type": "code",
   "execution_count": 1,
   "metadata": {
    "ExecuteTime": {
     "end_time": "2020-08-18T22:58:35.766703Z",
     "start_time": "2020-08-18T22:58:35.665258Z"
    }
   },
   "outputs": [],
   "source": [
    "%load_ext autoreload\n",
    "%autoreload 2"
   ]
  },
  {
   "cell_type": "code",
   "execution_count": 2,
   "metadata": {
    "ExecuteTime": {
     "end_time": "2020-08-18T22:58:36.700391Z",
     "start_time": "2020-08-18T22:58:36.152080Z"
    }
   },
   "outputs": [],
   "source": [
    "from childes_mi.utils.paths import DATA_DIR, FIGURE_DIR, ensure_dir\n",
    "from childes_mi.utils.general import flatten,save_fig"
   ]
  },
  {
   "cell_type": "code",
   "execution_count": 3,
   "metadata": {
    "ExecuteTime": {
     "end_time": "2020-08-18T22:58:37.995439Z",
     "start_time": "2020-08-18T22:58:36.703356Z"
    }
   },
   "outputs": [],
   "source": [
    "from childes_mi.information_theory import model_fitting as mf"
   ]
  },
  {
   "cell_type": "code",
   "execution_count": 4,
   "metadata": {
    "ExecuteTime": {
     "end_time": "2020-08-18T22:58:38.066316Z",
     "start_time": "2020-08-18T22:58:37.997695Z"
    }
   },
   "outputs": [
    {
     "name": "stderr",
     "output_type": "stream",
     "text": [
      "/mnt/cube/tsainbur/conda_envs/tpy3/lib/python3.6/site-packages/tqdm/autonotebook/__init__.py:14: TqdmExperimentalWarning: Using `tqdm.autonotebook.tqdm` in notebook mode. Use `tqdm.tqdm` instead to force console mode (e.g. in jupyter console)\n",
      "  \" (e.g. in jupyter console)\", TqdmExperimentalWarning)\n"
     ]
    }
   ],
   "source": [
    "import pandas as pd\n",
    "import numpy as np\n",
    "import matplotlib.pyplot as plt\n",
    "from tqdm.autonotebook import tqdm"
   ]
  },
  {
   "cell_type": "code",
   "execution_count": 5,
   "metadata": {
    "ExecuteTime": {
     "end_time": "2020-08-18T22:58:38.165471Z",
     "start_time": "2020-08-18T22:58:38.068947Z"
    }
   },
   "outputs": [],
   "source": [
    "MI_DF = pd.read_pickle(DATA_DIR / \"mi\" / \"childes_mi_full_median_shuffled.pickle\")"
   ]
  },
  {
   "cell_type": "code",
   "execution_count": 6,
   "metadata": {
    "ExecuteTime": {
     "end_time": "2020-08-18T22:58:38.227398Z",
     "start_time": "2020-08-18T22:58:38.167515Z"
    }
   },
   "outputs": [
    {
     "data": {
      "text/html": [
       "<div>\n",
       "<style scoped>\n",
       "    .dataframe tbody tr th:only-of-type {\n",
       "        vertical-align: middle;\n",
       "    }\n",
       "\n",
       "    .dataframe tbody tr th {\n",
       "        vertical-align: top;\n",
       "    }\n",
       "\n",
       "    .dataframe thead th {\n",
       "        text-align: right;\n",
       "    }\n",
       "</style>\n",
       "<table border=\"1\" class=\"dataframe\">\n",
       "  <thead>\n",
       "    <tr style=\"text-align: right;\">\n",
       "      <th></th>\n",
       "      <th>MI</th>\n",
       "      <th>MI_var</th>\n",
       "      <th>shuff_MI</th>\n",
       "      <th>shuff_MI_var</th>\n",
       "      <th>distances</th>\n",
       "      <th>age_cohort_low</th>\n",
       "      <th>age_cohort_high</th>\n",
       "      <th>n_words</th>\n",
       "      <th>n_unique_words</th>\n",
       "      <th>top_10_words</th>\n",
       "      <th>median_n_words</th>\n",
       "      <th>shuffling</th>\n",
       "    </tr>\n",
       "  </thead>\n",
       "  <tbody>\n",
       "    <tr>\n",
       "      <th>0</th>\n",
       "      <td>[11.284785551820306, 11.07337340597912, 10.962...</td>\n",
       "      <td>[0.012132460827340517, 0.011977886679756525, 0...</td>\n",
       "      <td>[10.769425720743001, 10.740320650179003, 10.71...</td>\n",
       "      <td>[0.01151277952640151, 0.01159371678627942, 0.0...</td>\n",
       "      <td>[1, 2, 3, 4, 5, 6, 7, 8, 9, 10, 11, 12, 13, 14...</td>\n",
       "      <td>1</td>\n",
       "      <td>1.5</td>\n",
       "      <td>15154</td>\n",
       "      <td>5439</td>\n",
       "      <td>NaN</td>\n",
       "      <td>38</td>\n",
       "      <td>full</td>\n",
       "    </tr>\n",
       "    <tr>\n",
       "      <th>1</th>\n",
       "      <td>[11.17552222061179, 11.025854782677685, 10.947...</td>\n",
       "      <td>[0.011992495398434897, 0.011940992151928976, 0...</td>\n",
       "      <td>[10.770952584728056, 10.745712423437514, 10.72...</td>\n",
       "      <td>[0.011518514743174987, 0.011602685348349469, 0...</td>\n",
       "      <td>[1, 2, 3, 4, 5, 6, 7, 8, 9, 10, 11, 12, 13, 14...</td>\n",
       "      <td>1</td>\n",
       "      <td>1.5</td>\n",
       "      <td>15154</td>\n",
       "      <td>5439</td>\n",
       "      <td>NaN</td>\n",
       "      <td>38</td>\n",
       "      <td>shuffle_within_utterances</td>\n",
       "    </tr>\n",
       "    <tr>\n",
       "      <th>2</th>\n",
       "      <td>[11.066789609819926, 10.835337733067899, 10.77...</td>\n",
       "      <td>[0.011846333255002107, 0.011656988517723814, 0...</td>\n",
       "      <td>[10.782563066150653, 10.743549662551684, 10.73...</td>\n",
       "      <td>[0.01151692231709228, 0.011562181130191248, 0....</td>\n",
       "      <td>[1, 2, 3, 4, 5, 6, 7, 8, 9, 10, 11, 12, 13, 14...</td>\n",
       "      <td>1</td>\n",
       "      <td>1.5</td>\n",
       "      <td>15154</td>\n",
       "      <td>5439</td>\n",
       "      <td>NaN</td>\n",
       "      <td>38</td>\n",
       "      <td>shuffle_between_utterances</td>\n",
       "    </tr>\n",
       "  </tbody>\n",
       "</table>\n",
       "</div>"
      ],
      "text/plain": [
       "                                                  MI  \\\n",
       "0  [11.284785551820306, 11.07337340597912, 10.962...   \n",
       "1  [11.17552222061179, 11.025854782677685, 10.947...   \n",
       "2  [11.066789609819926, 10.835337733067899, 10.77...   \n",
       "\n",
       "                                              MI_var  \\\n",
       "0  [0.012132460827340517, 0.011977886679756525, 0...   \n",
       "1  [0.011992495398434897, 0.011940992151928976, 0...   \n",
       "2  [0.011846333255002107, 0.011656988517723814, 0...   \n",
       "\n",
       "                                            shuff_MI  \\\n",
       "0  [10.769425720743001, 10.740320650179003, 10.71...   \n",
       "1  [10.770952584728056, 10.745712423437514, 10.72...   \n",
       "2  [10.782563066150653, 10.743549662551684, 10.73...   \n",
       "\n",
       "                                        shuff_MI_var  \\\n",
       "0  [0.01151277952640151, 0.01159371678627942, 0.0...   \n",
       "1  [0.011518514743174987, 0.011602685348349469, 0...   \n",
       "2  [0.01151692231709228, 0.011562181130191248, 0....   \n",
       "\n",
       "                                           distances age_cohort_low  \\\n",
       "0  [1, 2, 3, 4, 5, 6, 7, 8, 9, 10, 11, 12, 13, 14...              1   \n",
       "1  [1, 2, 3, 4, 5, 6, 7, 8, 9, 10, 11, 12, 13, 14...              1   \n",
       "2  [1, 2, 3, 4, 5, 6, 7, 8, 9, 10, 11, 12, 13, 14...              1   \n",
       "\n",
       "   age_cohort_high n_words n_unique_words  top_10_words median_n_words  \\\n",
       "0              1.5   15154           5439           NaN             38   \n",
       "1              1.5   15154           5439           NaN             38   \n",
       "2              1.5   15154           5439           NaN             38   \n",
       "\n",
       "                    shuffling  \n",
       "0                        full  \n",
       "1   shuffle_within_utterances  \n",
       "2  shuffle_between_utterances  "
      ]
     },
     "execution_count": 6,
     "metadata": {},
     "output_type": "execute_result"
    }
   ],
   "source": [
    "MI_DF[:3]"
   ]
  },
  {
   "cell_type": "code",
   "execution_count": 7,
   "metadata": {
    "ExecuteTime": {
     "end_time": "2020-08-18T22:58:39.831521Z",
     "start_time": "2020-08-18T22:58:39.808761Z"
    }
   },
   "outputs": [
    {
     "data": {
      "text/plain": [
       "array(['full', 'shuffle_within_utterances', 'shuffle_between_utterances',\n",
       "       'no_repeats', 'pos', 'shuffled_within_transcript'], dtype=object)"
      ]
     },
     "execution_count": 7,
     "metadata": {},
     "output_type": "execute_result"
    }
   ],
   "source": [
    "MI_DF.shuffling.unique()"
   ]
  },
  {
   "cell_type": "code",
   "execution_count": 8,
   "metadata": {
    "ExecuteTime": {
     "end_time": "2020-08-18T22:58:39.968012Z",
     "start_time": "2020-08-18T22:58:39.936688Z"
    }
   },
   "outputs": [],
   "source": [
    "MI_DF = MI_DF.assign(**{i:np.nan for i in ['exp_results', 'pow_results', 'concat_results',\n",
    "     'R2_exp', 'R2_concat', 'R2_power', 'AICc_exp',\n",
    "     'AICc_concat', 'AICc_power', 'bestfitmodel', 'curvature', 'min_peak']})\n",
    "MI_DF['curvature'] = MI_DF['curvature'].astype(object)"
   ]
  },
  {
   "cell_type": "code",
   "execution_count": 9,
   "metadata": {
    "ExecuteTime": {
     "end_time": "2020-08-18T22:58:47.905804Z",
     "start_time": "2020-08-18T22:58:40.074229Z"
    }
   },
   "outputs": [
    {
     "data": {
      "application/vnd.jupyter.widget-view+json": {
       "model_id": "e57a73276d4e43439cb31886919c8ffe",
       "version_major": 2,
       "version_minor": 0
      },
      "text/plain": [
       "HBox(children=(IntProgress(value=0, max=30), HTML(value='')))"
      ]
     },
     "metadata": {},
     "output_type": "display_data"
    },
    {
     "name": "stdout",
     "output_type": "stream",
     "text": [
      "1 1.5 pow_exp full\n",
      "1 1.5 pow_exp shuffle_within_utterances\n",
      "1 1.5 pow shuffle_between_utterances\n",
      "1 1.5 exp no_repeats\n",
      "1 1.5 pow pos\n"
     ]
    },
    {
     "name": "stderr",
     "output_type": "stream",
     "text": [
      "/mnt/cube/tsainbur/Projects/github_repos/childes_mi_project/childes_mi/information_theory/model_fitting.py:8: RuntimeWarning: invalid value encountered in log\n",
      "  return np.abs(np.log(y_true) - np.log(y_model)) * (1 / (np.log(1 + x)))\n"
     ]
    },
    {
     "name": "stdout",
     "output_type": "stream",
     "text": [
      "1 1.5 exp shuffled_within_transcript\n",
      "1.5 2.0 pow_exp full\n",
      "1.5 2.0 pow_exp shuffle_within_utterances\n",
      "1.5 2.0 exp shuffle_between_utterances\n",
      "1.5 2.0 pow_exp no_repeats\n",
      "1.5 2.0 pow pos\n",
      "1.5 2.0 pow shuffled_within_transcript\n",
      "2 2.5 pow_exp full\n",
      "2 2.5 pow_exp shuffle_within_utterances\n",
      "2 2.5 exp shuffle_between_utterances\n",
      "2 2.5 pow_exp no_repeats\n",
      "2 2.5 pow_exp pos\n",
      "2 2.5 pow shuffled_within_transcript\n",
      "2.5 3.0 pow_exp full\n",
      "2.5 3.0 pow_exp shuffle_within_utterances\n",
      "2.5 3.0 exp shuffle_between_utterances\n",
      "2.5 3.0 pow_exp no_repeats\n",
      "2.5 3.0 pow_exp pos\n",
      "2.5 3.0 exp shuffled_within_transcript\n",
      "3 20.0 pow_exp full\n",
      "3 20.0 pow_exp shuffle_within_utterances\n",
      "3 20.0 pow_exp shuffle_between_utterances\n",
      "3 20.0 pow_exp no_repeats\n",
      "3 20.0 pow_exp pos\n",
      "3 20.0 pow shuffled_within_transcript\n",
      "\n"
     ]
    }
   ],
   "source": [
    "n = 100 # max distance for computation\n",
    "for idx, row in tqdm(MI_DF.iterrows(), total=len(MI_DF)):\n",
    "    # get signal\n",
    "    sig = np.array(row.MI-row.shuff_MI)\n",
    "    distances = row.distances\n",
    "    sig = sig\n",
    "    \n",
    "    dist_mask = distances <= row.median_n_words\n",
    "    distances = distances[dist_mask]\n",
    "    sig = sig[dist_mask]\n",
    "    \n",
    "    # fit models\n",
    "    results_power, results_exp, results_pow_exp, best_fit_model = mf.fit_models(distances, sig)\n",
    "    \n",
    "    # get fit results\n",
    "    R2_exp, R2_concat, R2_power, AICc_exp, \\\n",
    "        AICc_pow, AICc_concat = mf.fit_results(sig, distances, \n",
    "                                              results_exp, results_power,\n",
    "                                              results_pow_exp)\n",
    "    \n",
    "    \n",
    "    # get model y\n",
    "    distances_mod = np.logspace(0,np.log10(n), base=10, num=1000)\n",
    "    if best_fit_model == 'pow_exp':\n",
    "        y_model = mf.get_y(mf.pow_exp_decay, results_pow_exp, distances_mod)\n",
    "    elif best_fit_model == 'exp':\n",
    "        y_model = mf.get_y(mf.exp_decay, results_exp, distances_mod)\n",
    "    elif best_fit_model == 'pow':\n",
    "        y_model = mf.get_y(mf.powerlaw_decay, results_power, distances_mod)\n",
    "    \n",
    "    # get curvature of model_y\n",
    "    curvature_model = mf.curvature(np.log(y_model))\n",
    "    \n",
    "    # if the best fit model is pow_exp, then grab the min peak\n",
    "    if best_fit_model == 'pow_exp':\n",
    "        # get peaks of curvature\n",
    "        peaks = np.where((\n",
    "            (curvature_model[:-1] < curvature_model[1:])[1:] & (curvature_model[1:] < curvature_model[:-1])[:-1]\n",
    "        ))\n",
    "        min_peak = peaks[0][0]\n",
    "    else:\n",
    "        min_peak = np.nan\n",
    "\n",
    "    # get save model fit results to MI_DF\n",
    "    MI_DF.loc[idx, np.array(['exp_results', 'pow_results', 'concat_results',\n",
    "                         'R2_exp', 'R2_concat', 'R2_power', 'AICc_exp',\n",
    "                         'AICc_concat', 'AICc_power', 'bestfitmodel', 'curvature', 'min_peak'])] = [\n",
    "        results_exp, results_power, results_pow_exp,\n",
    "        R2_exp, R2_concat, R2_power, AICc_exp,\n",
    "        AICc_concat, AICc_pow, best_fit_model,\n",
    "        curvature_model, min_peak\n",
    "    ]\n",
    "\n",
    "    print(row.age_cohort_low, row.age_cohort_high, best_fit_model, row.shuffling)"
   ]
  },
  {
   "cell_type": "code",
   "execution_count": 10,
   "metadata": {
    "ExecuteTime": {
     "end_time": "2020-08-18T22:58:47.963735Z",
     "start_time": "2020-08-18T22:58:47.907666Z"
    }
   },
   "outputs": [
    {
     "data": {
      "text/html": [
       "<div>\n",
       "<style scoped>\n",
       "    .dataframe tbody tr th:only-of-type {\n",
       "        vertical-align: middle;\n",
       "    }\n",
       "\n",
       "    .dataframe tbody tr th {\n",
       "        vertical-align: top;\n",
       "    }\n",
       "\n",
       "    .dataframe thead th {\n",
       "        text-align: right;\n",
       "    }\n",
       "</style>\n",
       "<table border=\"1\" class=\"dataframe\">\n",
       "  <thead>\n",
       "    <tr style=\"text-align: right;\">\n",
       "      <th></th>\n",
       "      <th>MI</th>\n",
       "      <th>MI_var</th>\n",
       "      <th>shuff_MI</th>\n",
       "      <th>shuff_MI_var</th>\n",
       "      <th>distances</th>\n",
       "      <th>age_cohort_low</th>\n",
       "      <th>age_cohort_high</th>\n",
       "      <th>n_words</th>\n",
       "      <th>n_unique_words</th>\n",
       "      <th>top_10_words</th>\n",
       "      <th>...</th>\n",
       "      <th>concat_results</th>\n",
       "      <th>R2_exp</th>\n",
       "      <th>R2_concat</th>\n",
       "      <th>R2_power</th>\n",
       "      <th>AICc_exp</th>\n",
       "      <th>AICc_concat</th>\n",
       "      <th>AICc_power</th>\n",
       "      <th>bestfitmodel</th>\n",
       "      <th>curvature</th>\n",
       "      <th>min_peak</th>\n",
       "    </tr>\n",
       "  </thead>\n",
       "  <tbody>\n",
       "    <tr>\n",
       "      <th>0</th>\n",
       "      <td>[11.284785551820306, 11.07337340597912, 10.962...</td>\n",
       "      <td>[0.012132460827340517, 0.011977886679756525, 0...</td>\n",
       "      <td>[10.769425720743001, 10.740320650179003, 10.71...</td>\n",
       "      <td>[0.01151277952640151, 0.01159371678627942, 0.0...</td>\n",
       "      <td>[1, 2, 3, 4, 5, 6, 7, 8, 9, 10, 11, 12, 13, 14...</td>\n",
       "      <td>1</td>\n",
       "      <td>1.5</td>\n",
       "      <td>15154</td>\n",
       "      <td>5439</td>\n",
       "      <td>NaN</td>\n",
       "      <td>...</td>\n",
       "      <td>&lt;lmfit.minimizer.MinimizerResult object at 0x7...</td>\n",
       "      <td>0.996648</td>\n",
       "      <td>0.997686</td>\n",
       "      <td>0.994729</td>\n",
       "      <td>-313.875806</td>\n",
       "      <td>-322.789288</td>\n",
       "      <td>-296.670201</td>\n",
       "      <td>pow_exp</td>\n",
       "      <td>[3.503153918994611e-07, 5.186894218423023e-07,...</td>\n",
       "      <td>86.0</td>\n",
       "    </tr>\n",
       "    <tr>\n",
       "      <th>1</th>\n",
       "      <td>[11.17552222061179, 11.025854782677685, 10.947...</td>\n",
       "      <td>[0.011992495398434897, 0.011940992151928976, 0...</td>\n",
       "      <td>[10.770952584728056, 10.745712423437514, 10.72...</td>\n",
       "      <td>[0.011518514743174987, 0.011602685348349469, 0...</td>\n",
       "      <td>[1, 2, 3, 4, 5, 6, 7, 8, 9, 10, 11, 12, 13, 14...</td>\n",
       "      <td>1</td>\n",
       "      <td>1.5</td>\n",
       "      <td>15154</td>\n",
       "      <td>5439</td>\n",
       "      <td>NaN</td>\n",
       "      <td>...</td>\n",
       "      <td>&lt;lmfit.minimizer.MinimizerResult object at 0x7...</td>\n",
       "      <td>0.992503</td>\n",
       "      <td>0.994776</td>\n",
       "      <td>0.991949</td>\n",
       "      <td>-298.095385</td>\n",
       "      <td>-306.654742</td>\n",
       "      <td>-295.386853</td>\n",
       "      <td>pow_exp</td>\n",
       "      <td>[7.295804428129085e-06, 1.0914082349716316e-05...</td>\n",
       "      <td>198.0</td>\n",
       "    </tr>\n",
       "    <tr>\n",
       "      <th>2</th>\n",
       "      <td>[11.066789609819926, 10.835337733067899, 10.77...</td>\n",
       "      <td>[0.011846333255002107, 0.011656988517723814, 0...</td>\n",
       "      <td>[10.782563066150653, 10.743549662551684, 10.73...</td>\n",
       "      <td>[0.01151692231709228, 0.011562181130191248, 0....</td>\n",
       "      <td>[1, 2, 3, 4, 5, 6, 7, 8, 9, 10, 11, 12, 13, 14...</td>\n",
       "      <td>1</td>\n",
       "      <td>1.5</td>\n",
       "      <td>15154</td>\n",
       "      <td>5439</td>\n",
       "      <td>NaN</td>\n",
       "      <td>...</td>\n",
       "      <td>&lt;lmfit.minimizer.MinimizerResult object at 0x7...</td>\n",
       "      <td>0.941652</td>\n",
       "      <td>0.941667</td>\n",
       "      <td>0.941667</td>\n",
       "      <td>-136.960636</td>\n",
       "      <td>-131.801720</td>\n",
       "      <td>-136.970838</td>\n",
       "      <td>pow</td>\n",
       "      <td>[2.0178313753163676e-06, 3.0352917363820564e-0...</td>\n",
       "      <td>NaN</td>\n",
       "    </tr>\n",
       "  </tbody>\n",
       "</table>\n",
       "<p>3 rows × 24 columns</p>\n",
       "</div>"
      ],
      "text/plain": [
       "                                                  MI  \\\n",
       "0  [11.284785551820306, 11.07337340597912, 10.962...   \n",
       "1  [11.17552222061179, 11.025854782677685, 10.947...   \n",
       "2  [11.066789609819926, 10.835337733067899, 10.77...   \n",
       "\n",
       "                                              MI_var  \\\n",
       "0  [0.012132460827340517, 0.011977886679756525, 0...   \n",
       "1  [0.011992495398434897, 0.011940992151928976, 0...   \n",
       "2  [0.011846333255002107, 0.011656988517723814, 0...   \n",
       "\n",
       "                                            shuff_MI  \\\n",
       "0  [10.769425720743001, 10.740320650179003, 10.71...   \n",
       "1  [10.770952584728056, 10.745712423437514, 10.72...   \n",
       "2  [10.782563066150653, 10.743549662551684, 10.73...   \n",
       "\n",
       "                                        shuff_MI_var  \\\n",
       "0  [0.01151277952640151, 0.01159371678627942, 0.0...   \n",
       "1  [0.011518514743174987, 0.011602685348349469, 0...   \n",
       "2  [0.01151692231709228, 0.011562181130191248, 0....   \n",
       "\n",
       "                                           distances age_cohort_low  \\\n",
       "0  [1, 2, 3, 4, 5, 6, 7, 8, 9, 10, 11, 12, 13, 14...              1   \n",
       "1  [1, 2, 3, 4, 5, 6, 7, 8, 9, 10, 11, 12, 13, 14...              1   \n",
       "2  [1, 2, 3, 4, 5, 6, 7, 8, 9, 10, 11, 12, 13, 14...              1   \n",
       "\n",
       "   age_cohort_high n_words n_unique_words  top_10_words  ...  \\\n",
       "0              1.5   15154           5439           NaN  ...   \n",
       "1              1.5   15154           5439           NaN  ...   \n",
       "2              1.5   15154           5439           NaN  ...   \n",
       "\n",
       "                                      concat_results    R2_exp R2_concat  \\\n",
       "0  <lmfit.minimizer.MinimizerResult object at 0x7...  0.996648  0.997686   \n",
       "1  <lmfit.minimizer.MinimizerResult object at 0x7...  0.992503  0.994776   \n",
       "2  <lmfit.minimizer.MinimizerResult object at 0x7...  0.941652  0.941667   \n",
       "\n",
       "   R2_power    AICc_exp  AICc_concat  AICc_power  bestfitmodel  \\\n",
       "0  0.994729 -313.875806  -322.789288 -296.670201       pow_exp   \n",
       "1  0.991949 -298.095385  -306.654742 -295.386853       pow_exp   \n",
       "2  0.941667 -136.960636  -131.801720 -136.970838           pow   \n",
       "\n",
       "                                           curvature  min_peak  \n",
       "0  [3.503153918994611e-07, 5.186894218423023e-07,...      86.0  \n",
       "1  [7.295804428129085e-06, 1.0914082349716316e-05...     198.0  \n",
       "2  [2.0178313753163676e-06, 3.0352917363820564e-0...       NaN  \n",
       "\n",
       "[3 rows x 24 columns]"
      ]
     },
     "execution_count": 10,
     "metadata": {},
     "output_type": "execute_result"
    }
   ],
   "source": [
    "MI_DF[:3]"
   ]
  },
  {
   "cell_type": "code",
   "execution_count": 13,
   "metadata": {
    "ExecuteTime": {
     "end_time": "2020-08-18T23:02:29.659711Z",
     "start_time": "2020-08-18T23:02:29.634961Z"
    }
   },
   "outputs": [
    {
     "data": {
      "text/plain": [
       "Index(['MI', 'MI_var', 'shuff_MI', 'shuff_MI_var', 'distances',\n",
       "       'age_cohort_low', 'age_cohort_high', 'n_words', 'n_unique_words',\n",
       "       'top_10_words', 'median_n_words', 'shuffling', 'exp_results',\n",
       "       'pow_results', 'concat_results', 'R2_exp', 'R2_concat', 'R2_power',\n",
       "       'AICc_exp', 'AICc_concat', 'AICc_power', 'bestfitmodel', 'curvature',\n",
       "       'min_peak'],\n",
       "      dtype='object')"
      ]
     },
     "execution_count": 13,
     "metadata": {},
     "output_type": "execute_result"
    }
   ],
   "source": [
    "MI_DF.columns"
   ]
  },
  {
   "cell_type": "code",
   "execution_count": null,
   "metadata": {},
   "outputs": [],
   "source": [
    "parameter_translation = {\n",
    "    \"e_init\": \"a\",\n",
    "    \"e_decay_const\": \"b\",\n",
    "    \"p_init\": \"c\",\n",
    "    \"p_decay_const\": \"d\",\n",
    "    \"intercept\": \"f\",\n",
    "}"
   ]
  },
  {
   "cell_type": "code",
   "execution_count": 52,
   "metadata": {
    "ExecuteTime": {
     "end_time": "2020-08-18T23:31:42.295792Z",
     "start_time": "2020-08-18T23:31:42.243272Z"
    }
   },
   "outputs": [],
   "source": [
    "param_df = pd.DataFrame(\n",
    "    columns=[\n",
    "        \"dataset\", \n",
    "        \"age_low\", \n",
    "        \"age_high\", \n",
    "        \"a_value\", \n",
    "        \"a_stderr\",\n",
    "        \"b_value\", \n",
    "        \"b_stderr\",\n",
    "        \"c_value\", \n",
    "        \"c_stderr\",\n",
    "        \"d_value\", \n",
    "        \"d_stderr\",\n",
    "        \"f_value\", \n",
    "        \"f_stderr\"\n",
    "    ]\n",
    ")\n",
    "for idx, row in MI_DF[MI_DF.shuffling == 'full'].iterrows():\n",
    "    param_vals = {}\n",
    "    param_stderrs = {}\n",
    "    for param in row.concat_results.params:\n",
    "        param_vals[param] = row.concat_results.params[param].value\n",
    "        param_stderrs[param] = row.concat_results.params[param].stderr\n",
    "    param_df.loc[len(param_df)] = [\n",
    "        'childes',\n",
    "        row.age_cohort_low,\n",
    "        row.age_cohort_high,\n",
    "        param_vals[\"e_init\"],\n",
    "        param_stderrs[\"e_init\"],\n",
    "        param_vals[\"e_decay_const\"],\n",
    "        param_stderrs[\"e_decay_const\"],\n",
    "        param_vals[\"p_init\"],\n",
    "        param_stderrs[\"p_init\"],\n",
    "        param_vals[\"p_decay_const\"],\n",
    "        param_stderrs[\"p_decay_const\"],\n",
    "        param_vals[\"intercept\"],\n",
    "        param_stderrs[\"intercept\"],\n",
    "\n",
    "    ]"
   ]
  },
  {
   "cell_type": "code",
   "execution_count": 53,
   "metadata": {
    "ExecuteTime": {
     "end_time": "2020-08-18T23:31:43.299564Z",
     "start_time": "2020-08-18T23:31:43.272885Z"
    }
   },
   "outputs": [
    {
     "data": {
      "text/html": [
       "<div>\n",
       "<style scoped>\n",
       "    .dataframe tbody tr th:only-of-type {\n",
       "        vertical-align: middle;\n",
       "    }\n",
       "\n",
       "    .dataframe tbody tr th {\n",
       "        vertical-align: top;\n",
       "    }\n",
       "\n",
       "    .dataframe thead th {\n",
       "        text-align: right;\n",
       "    }\n",
       "</style>\n",
       "<table border=\"1\" class=\"dataframe\">\n",
       "  <thead>\n",
       "    <tr style=\"text-align: right;\">\n",
       "      <th></th>\n",
       "      <th>dataset</th>\n",
       "      <th>age_low</th>\n",
       "      <th>age_high</th>\n",
       "      <th>a_value</th>\n",
       "      <th>a_stderr</th>\n",
       "      <th>b_value</th>\n",
       "      <th>b_stderr</th>\n",
       "      <th>c_value</th>\n",
       "      <th>c_stderr</th>\n",
       "      <th>d_value</th>\n",
       "      <th>d_stderr</th>\n",
       "      <th>f_value</th>\n",
       "      <th>f_stderr</th>\n",
       "    </tr>\n",
       "  </thead>\n",
       "  <tbody>\n",
       "    <tr>\n",
       "      <th>0</th>\n",
       "      <td>childes</td>\n",
       "      <td>1</td>\n",
       "      <td>1.5</td>\n",
       "      <td>0.386827</td>\n",
       "      <td>0.100693</td>\n",
       "      <td>0.645071</td>\n",
       "      <td>0.113230</td>\n",
       "      <td>0.145095</td>\n",
       "      <td>0.038388</td>\n",
       "      <td>-1.382267</td>\n",
       "      <td>0.345356</td>\n",
       "      <td>0.167552</td>\n",
       "      <td>0.002869</td>\n",
       "    </tr>\n",
       "    <tr>\n",
       "      <th>1</th>\n",
       "      <td>childes</td>\n",
       "      <td>1.5</td>\n",
       "      <td>2.0</td>\n",
       "      <td>0.194101</td>\n",
       "      <td>0.022386</td>\n",
       "      <td>0.382302</td>\n",
       "      <td>0.034353</td>\n",
       "      <td>0.283355</td>\n",
       "      <td>0.015715</td>\n",
       "      <td>-1.461465</td>\n",
       "      <td>0.083040</td>\n",
       "      <td>0.057093</td>\n",
       "      <td>0.000598</td>\n",
       "    </tr>\n",
       "    <tr>\n",
       "      <th>2</th>\n",
       "      <td>childes</td>\n",
       "      <td>2</td>\n",
       "      <td>2.5</td>\n",
       "      <td>0.184505</td>\n",
       "      <td>0.021723</td>\n",
       "      <td>0.418270</td>\n",
       "      <td>0.032997</td>\n",
       "      <td>0.345893</td>\n",
       "      <td>0.013929</td>\n",
       "      <td>-1.463729</td>\n",
       "      <td>0.040374</td>\n",
       "      <td>0.039624</td>\n",
       "      <td>0.000243</td>\n",
       "    </tr>\n",
       "    <tr>\n",
       "      <th>3</th>\n",
       "      <td>childes</td>\n",
       "      <td>2.5</td>\n",
       "      <td>3.0</td>\n",
       "      <td>0.239060</td>\n",
       "      <td>0.098850</td>\n",
       "      <td>0.753414</td>\n",
       "      <td>0.104630</td>\n",
       "      <td>0.391075</td>\n",
       "      <td>0.038772</td>\n",
       "      <td>-1.367054</td>\n",
       "      <td>0.053455</td>\n",
       "      <td>0.027329</td>\n",
       "      <td>0.000348</td>\n",
       "    </tr>\n",
       "    <tr>\n",
       "      <th>4</th>\n",
       "      <td>childes</td>\n",
       "      <td>3</td>\n",
       "      <td>20.0</td>\n",
       "      <td>0.639437</td>\n",
       "      <td>0.064763</td>\n",
       "      <td>1.081856</td>\n",
       "      <td>0.046559</td>\n",
       "      <td>0.222734</td>\n",
       "      <td>0.021559</td>\n",
       "      <td>-1.238223</td>\n",
       "      <td>0.041301</td>\n",
       "      <td>0.008262</td>\n",
       "      <td>0.000081</td>\n",
       "    </tr>\n",
       "  </tbody>\n",
       "</table>\n",
       "</div>"
      ],
      "text/plain": [
       "   dataset age_low  age_high   a_value  a_stderr   b_value  b_stderr  \\\n",
       "0  childes       1       1.5  0.386827  0.100693  0.645071  0.113230   \n",
       "1  childes     1.5       2.0  0.194101  0.022386  0.382302  0.034353   \n",
       "2  childes       2       2.5  0.184505  0.021723  0.418270  0.032997   \n",
       "3  childes     2.5       3.0  0.239060  0.098850  0.753414  0.104630   \n",
       "4  childes       3      20.0  0.639437  0.064763  1.081856  0.046559   \n",
       "\n",
       "    c_value  c_stderr   d_value  d_stderr   f_value  f_stderr  \n",
       "0  0.145095  0.038388 -1.382267  0.345356  0.167552  0.002869  \n",
       "1  0.283355  0.015715 -1.461465  0.083040  0.057093  0.000598  \n",
       "2  0.345893  0.013929 -1.463729  0.040374  0.039624  0.000243  \n",
       "3  0.391075  0.038772 -1.367054  0.053455  0.027329  0.000348  \n",
       "4  0.222734  0.021559 -1.238223  0.041301  0.008262  0.000081  "
      ]
     },
     "execution_count": 53,
     "metadata": {},
     "output_type": "execute_result"
    }
   ],
   "source": [
    "param_df"
   ]
  },
  {
   "cell_type": "code",
   "execution_count": 54,
   "metadata": {
    "ExecuteTime": {
     "end_time": "2020-08-18T23:33:46.620924Z",
     "start_time": "2020-08-18T23:33:46.377893Z"
    }
   },
   "outputs": [],
   "source": [
    "ensure_dir(DATA_DIR / 'param_dfs')\n",
    "param_df.to_pickle(DATA_DIR / 'param_dfs' / 'childes.pickle')"
   ]
  },
  {
   "cell_type": "code",
   "execution_count": null,
   "metadata": {},
   "outputs": [],
   "source": []
  }
 ],
 "metadata": {
  "kernelspec": {
   "display_name": "Python 3",
   "language": "python",
   "name": "python3"
  },
  "language_info": {
   "codemirror_mode": {
    "name": "ipython",
    "version": 3
   },
   "file_extension": ".py",
   "mimetype": "text/x-python",
   "name": "python",
   "nbconvert_exporter": "python",
   "pygments_lexer": "ipython3",
   "version": "3.6.7"
  }
 },
 "nbformat": 4,
 "nbformat_minor": 2
}
