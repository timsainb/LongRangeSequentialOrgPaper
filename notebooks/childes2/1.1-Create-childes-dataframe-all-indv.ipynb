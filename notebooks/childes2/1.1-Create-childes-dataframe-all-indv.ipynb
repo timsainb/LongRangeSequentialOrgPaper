{
 "cells": [
  {
   "cell_type": "code",
   "execution_count": 1,
   "metadata": {
    "ExecuteTime": {
     "end_time": "2021-02-16T17:26:48.805411Z",
     "start_time": "2021-02-16T17:26:48.801452Z"
    }
   },
   "outputs": [
    {
     "name": "stdout",
     "output_type": "stream",
     "text": [
      "env: NLTK_DATA=/mnt/cube/tsainbur/Projects/github_repos/LRSO_paper_rev/LongRangeSequentialOrgPaper/data/raw/NLTK_Data_Dir/corpora\n"
     ]
    }
   ],
   "source": [
    "%env NLTK_DATA= /mnt/cube/tsainbur/Projects/github_repos/LRSO_paper_rev/LongRangeSequentialOrgPaper/data/raw/NLTK_Data_Dir/corpora"
   ]
  },
  {
   "cell_type": "code",
   "execution_count": 2,
   "metadata": {
    "ExecuteTime": {
     "end_time": "2021-02-16T17:26:49.256980Z",
     "start_time": "2021-02-16T17:26:48.806793Z"
    }
   },
   "outputs": [
    {
     "name": "stderr",
     "output_type": "stream",
     "text": [
      "<ipython-input-2-c84c524d397c>:5: TqdmExperimentalWarning: Using `tqdm.autonotebook.tqdm` in notebook mode. Use `tqdm.tqdm` instead to force console mode (e.g. in jupyter console)\n",
      "  from tqdm.autonotebook import tqdm\n"
     ]
    }
   ],
   "source": [
    "import nltk\n",
    "from nltk.corpus.reader import CHILDESCorpusReader\n",
    "from childes_mi.utils.paths import DATA_DIR, ensure_dir, CHILDES_DIR, CHILDES_DFS\n",
    "import pandas as pd\n",
    "from tqdm.autonotebook import tqdm\n",
    "import numpy as np"
   ]
  },
  {
   "cell_type": "markdown",
   "metadata": {
    "ExecuteTime": {
     "end_time": "2019-07-31T23:58:15.804514Z",
     "start_time": "2019-07-31T23:58:15.799351Z"
    }
   },
   "source": [
    "### load all data"
   ]
  },
  {
   "cell_type": "code",
   "execution_count": 3,
   "metadata": {
    "ExecuteTime": {
     "end_time": "2021-02-16T17:26:49.266840Z",
     "start_time": "2021-02-16T17:26:49.258760Z"
    }
   },
   "outputs": [
    {
     "data": {
      "text/plain": [
       "'/mnt/cube/tsainbur/Projects/github_repos/LRSO_paper_rev/LongRangeSequentialOrgPaper/data/raw/NLTK_Data_Dir/corpora'"
      ]
     },
     "execution_count": 3,
     "metadata": {},
     "output_type": "execute_result"
    }
   ],
   "source": [
    "CHILDES_DIR.as_posix()"
   ]
  },
  {
   "cell_type": "code",
   "execution_count": 4,
   "metadata": {
    "ExecuteTime": {
     "end_time": "2021-02-16T17:26:49.276682Z",
     "start_time": "2021-02-16T17:26:49.268249Z"
    }
   },
   "outputs": [],
   "source": [
    "corpus_root = nltk.data.find(CHILDES_DIR.as_posix())"
   ]
  },
  {
   "cell_type": "code",
   "execution_count": 5,
   "metadata": {
    "ExecuteTime": {
     "end_time": "2021-02-16T17:26:50.140701Z",
     "start_time": "2021-02-16T17:26:49.278822Z"
    }
   },
   "outputs": [],
   "source": [
    "all_XML = list(CHILDES_DIR.glob('**/*.xml'))"
   ]
  },
  {
   "cell_type": "code",
   "execution_count": 6,
   "metadata": {
    "ExecuteTime": {
     "end_time": "2021-02-16T17:26:50.146847Z",
     "start_time": "2021-02-16T17:26:50.142779Z"
    }
   },
   "outputs": [
    {
     "data": {
      "text/plain": [
       "(41844,\n",
       " [PosixPath('/mnt/cube/tsainbur/Projects/github_repos/LRSO_paper_rev/LongRangeSequentialOrgPaper/data/raw/NLTK_Data_Dir/corpora/Slavic/Croatian/Kovacevic/marjon/010503.xml'),\n",
       "  PosixPath('/mnt/cube/tsainbur/Projects/github_repos/LRSO_paper_rev/LongRangeSequentialOrgPaper/data/raw/NLTK_Data_Dir/corpora/Slavic/Croatian/Kovacevic/marjon/010614.xml'),\n",
       "  PosixPath('/mnt/cube/tsainbur/Projects/github_repos/LRSO_paper_rev/LongRangeSequentialOrgPaper/data/raw/NLTK_Data_Dir/corpora/Slavic/Croatian/Kovacevic/marjon/010628.xml')])"
      ]
     },
     "execution_count": 6,
     "metadata": {},
     "output_type": "execute_result"
    }
   ],
   "source": [
    "transcripts = CHILDESCorpusReader(corpus_root, all_XML)\n",
    "len(transcripts.fileids()), transcripts.fileids()[:3]"
   ]
  },
  {
   "cell_type": "code",
   "execution_count": 7,
   "metadata": {
    "ExecuteTime": {
     "end_time": "2021-02-16T17:26:55.735734Z",
     "start_time": "2021-02-16T17:26:50.148142Z"
    }
   },
   "outputs": [
    {
     "data": {
      "text/plain": [
       "(41844,\n",
       " [defaultdict(<function CHILDESCorpusReader._get_participants.<locals>.dictOfDicts at 0x7f7205736a60>, {'CHI': defaultdict(<function CHILDESCorpusReader._get_participants.<locals>.dictOfDicts at 0x7f7205736a60>, {'id': 'CHI', 'name': 'Marina', 'role': 'Target_Child', 'language': 'hrv', 'age': 'P1Y05M03D', 'sex': 'male'}), 'SAN': defaultdict(<function CHILDESCorpusReader._get_participants.<locals>.dictOfDicts at 0x7f7205736a60>, {'id': 'SAN', 'name': 'Sandra', 'role': 'Mother', 'language': 'hrv'}), 'TAT': defaultdict(<function CHILDESCorpusReader._get_participants.<locals>.dictOfDicts at 0x7f7205736a60>, {'id': 'TAT', 'name': 'Tata', 'role': 'Father', 'language': 'hrv'})}), defaultdict(<function CHILDESCorpusReader._get_participants.<locals>.dictOfDicts at 0x7f7205736c10>, {'CHI': defaultdict(<function CHILDESCorpusReader._get_participants.<locals>.dictOfDicts at 0x7f7205736c10>, {'id': 'CHI', 'name': 'Marina', 'role': 'Target_Child', 'language': 'hrv', 'age': 'P1Y06M14D', 'sex': 'male'}), 'SAN': defaultdict(<function CHILDESCorpusReader._get_participants.<locals>.dictOfDicts at 0x7f7205736c10>, {'id': 'SAN', 'name': 'Sandra', 'role': 'Mother', 'language': 'hrv'}), 'TAT': defaultdict(<function CHILDESCorpusReader._get_participants.<locals>.dictOfDicts at 0x7f7205736c10>, {'id': 'TAT', 'name': 'Tata', 'role': 'Father', 'language': 'hrv'})}), ...])"
      ]
     },
     "execution_count": 7,
     "metadata": {},
     "output_type": "execute_result"
    }
   ],
   "source": [
    "corpus_participants = transcripts.participants(transcripts.fileids())\n",
    "len(corpus_participants), corpus_participants[:3]"
   ]
  },
  {
   "cell_type": "code",
   "execution_count": 8,
   "metadata": {
    "ExecuteTime": {
     "end_time": "2021-02-16T17:26:56.353800Z",
     "start_time": "2021-02-16T17:26:55.737570Z"
    }
   },
   "outputs": [
    {
     "data": {
      "text/plain": [
       "41844"
      ]
     },
     "execution_count": 8,
     "metadata": {},
     "output_type": "execute_result"
    }
   ],
   "source": [
    "corpus_data = transcripts.corpus(transcripts.fileids())\n",
    "len(corpus_data)"
   ]
  },
  {
   "cell_type": "markdown",
   "metadata": {},
   "source": [
    "### create transcript database\n",
    "- for each transcript"
   ]
  },
  {
   "cell_type": "code",
   "execution_count": 9,
   "metadata": {
    "ExecuteTime": {
     "end_time": "2021-02-16T17:26:56.532563Z",
     "start_time": "2021-02-16T17:26:56.355606Z"
    }
   },
   "outputs": [
    {
     "data": {
      "application/vnd.jupyter.widget-view+json": {
       "model_id": "ff6570ba5b3f45bd87a98c6f0aa19f5e",
       "version_major": 2,
       "version_minor": 0
      },
      "text/plain": [
       "  0%|          | 0/41844 [00:00<?, ?it/s]"
      ]
     },
     "metadata": {},
     "output_type": "display_data"
    }
   ],
   "source": [
    "tran_list = [\n",
    "    [transcript.as_posix()] \n",
    "    for transcript in tqdm(all_XML)\n",
    "]"
   ]
  },
  {
   "cell_type": "code",
   "execution_count": 10,
   "metadata": {
    "ExecuteTime": {
     "end_time": "2021-02-16T17:26:56.558518Z",
     "start_time": "2021-02-16T17:26:56.534476Z"
    }
   },
   "outputs": [],
   "source": [
    "from joblib.externals.loky import set_loky_pickler\n",
    "from joblib import parallel_backend\n",
    "from joblib import Parallel, delayed\n",
    "from joblib import wrap_non_picklable_objects\n",
    "import collections\n",
    "\n",
    "\n",
    "@delayed\n",
    "@wrap_non_picklable_objects\n",
    "def childes_get_sequence_df(transcript):\n",
    "    \"\"\" get sequences of speech for each individual\n",
    "    \"\"\"\n",
    "\n",
    "    transcripts = CHILDESCorpusReader(corpus_root, transcript)\n",
    "    corpus_participants = transcripts.participants(transcript)[0]\n",
    "    # transcript info\n",
    "    transcript_dict = transcripts.corpus(transcript)[0]\n",
    "    if \"PID\" not in transcript_dict.keys():\n",
    "        PID = \"None\"\n",
    "    else:\n",
    "        PID = transcript_dict[\"PID\"]\n",
    "    lang = transcript_dict[\"Lang\"]\n",
    "    corpus = transcript_dict[\"Corpus\"]\n",
    "    date = transcript_dict[\"Date\"]\n",
    "\n",
    "    sequence_dfs = []\n",
    "    # participant info\n",
    "    for participant_id in sorted(corpus_participants.keys()):\n",
    "        dct = corpus_participants[participant_id]\n",
    "        pdict = corpus_participants[participant_id]\n",
    "        morphemes = transcripts.sents(transcript, speaker=[participant_id], stem=True)\n",
    "        words = transcripts.sents(transcript, speaker=[participant_id], stem=False)\n",
    "        POS = [\n",
    "            [i[1] for i in sent]\n",
    "            for sent in transcripts.tagged_sents(transcript, speaker=[participant_id])\n",
    "        ]\n",
    "\n",
    "        # ensure that age and sex have values\n",
    "        if type(pdict[\"age\"]) == collections.defaultdict:\n",
    "            age = np.nan\n",
    "        else:\n",
    "            age = pdict[\"age\"]\n",
    "        if type(pdict[\"sex\"]) == collections.defaultdict:\n",
    "            sex = np.nan\n",
    "        else:\n",
    "            sex = pdict[\"sex\"]\n",
    "\n",
    "        sequence_dfs.append(\n",
    "            [\n",
    "                PID,\n",
    "                lang,\n",
    "                corpus,\n",
    "                date,\n",
    "                participant_id,\n",
    "                pdict[\"role\"],\n",
    "                age,\n",
    "                pdict[\"language\"],\n",
    "                sex,\n",
    "                list(POS),\n",
    "                list(words),\n",
    "                list(morphemes),\n",
    "                transcript,\n",
    "                len(words),\n",
    "                len(morphemes),\n",
    "                len(POS),\n",
    "            ]\n",
    "        )\n",
    "    return sequence_dfs"
   ]
  },
  {
   "cell_type": "code",
   "execution_count": null,
   "metadata": {
    "ExecuteTime": {
     "start_time": "2021-02-16T17:26:48.759Z"
    }
   },
   "outputs": [
    {
     "data": {
      "application/vnd.jupyter.widget-view+json": {
       "model_id": "23e3e7c27fe1407ab7d48a8827902ab0",
       "version_major": 2,
       "version_minor": 0
      },
      "text/plain": [
       "  0%|          | 0/41843 [00:00<?, ?it/s]"
      ]
     },
     "metadata": {},
     "output_type": "display_data"
    }
   ],
   "source": [
    "nex = -1\n",
    "with Parallel(n_jobs=-1) as parallel:\n",
    "    seq_dfs =parallel(\n",
    "                childes_get_sequence_df(transcript)\n",
    "                for transcript in tqdm(tran_list[:nex])\n",
    "            )\n",
    "    seq_dfs = [item for sublist in seq_dfs for item in sublist]\n",
    "seq_df = pd.DataFrame(seq_dfs,\n",
    "        columns=[\n",
    "            \"PID\",\n",
    "            \"lang\",\n",
    "            \"corpus\",\n",
    "            \"date\",\n",
    "            \"participant_key\",\n",
    "            \"role\",\n",
    "            \"age\",\n",
    "            \"language\",\n",
    "            \"sex\",\n",
    "            \"POS\",\n",
    "            \"words\",\n",
    "            \"morphemes\",\n",
    "            \"transcript_xml\",\n",
    "            \"n_words\",\n",
    "            \"n_morphemes\",\n",
    "            \"n_POS\",\n",
    "        ],\n",
    "    )"
   ]
  },
  {
   "cell_type": "code",
   "execution_count": 15,
   "metadata": {
    "ExecuteTime": {
     "end_time": "2021-02-18T05:14:25.668259Z",
     "start_time": "2021-02-18T05:14:25.526800Z"
    }
   },
   "outputs": [
    {
     "data": {
      "text/html": [
       "<div>\n",
       "<style scoped>\n",
       "    .dataframe tbody tr th:only-of-type {\n",
       "        vertical-align: middle;\n",
       "    }\n",
       "\n",
       "    .dataframe tbody tr th {\n",
       "        vertical-align: top;\n",
       "    }\n",
       "\n",
       "    .dataframe thead th {\n",
       "        text-align: right;\n",
       "    }\n",
       "</style>\n",
       "<table border=\"1\" class=\"dataframe\">\n",
       "  <thead>\n",
       "    <tr style=\"text-align: right;\">\n",
       "      <th></th>\n",
       "      <th>PID</th>\n",
       "      <th>lang</th>\n",
       "      <th>corpus</th>\n",
       "      <th>date</th>\n",
       "      <th>participant_key</th>\n",
       "      <th>role</th>\n",
       "      <th>age</th>\n",
       "      <th>language</th>\n",
       "      <th>sex</th>\n",
       "      <th>POS</th>\n",
       "      <th>words</th>\n",
       "      <th>morphemes</th>\n",
       "      <th>transcript_xml</th>\n",
       "      <th>n_words</th>\n",
       "      <th>n_morphemes</th>\n",
       "      <th>n_POS</th>\n",
       "    </tr>\n",
       "  </thead>\n",
       "  <tbody>\n",
       "    <tr>\n",
       "      <th>0</th>\n",
       "      <td>11312/c-00032871-1</td>\n",
       "      <td>hrv</td>\n",
       "      <td>Kovacevic</td>\n",
       "      <td>1994-03-27</td>\n",
       "      <td>CHI</td>\n",
       "      <td>Target_Child</td>\n",
       "      <td>P1Y05M03D</td>\n",
       "      <td>hrv</td>\n",
       "      <td>male</td>\n",
       "      <td>[[], [], [], [], [], [], [], [], [, ], [, , ],...</td>\n",
       "      <td>[[dadaj], [ahadada], [dadad], [mama], [deda], ...</td>\n",
       "      <td>[[dadaj], [ahadada], [dadad], [mama], [deda], ...</td>\n",
       "      <td>[/mnt/cube/tsainbur/Projects/github_repos/LRSO...</td>\n",
       "      <td>166</td>\n",
       "      <td>166</td>\n",
       "      <td>166</td>\n",
       "    </tr>\n",
       "    <tr>\n",
       "      <th>1</th>\n",
       "      <td>11312/c-00032871-1</td>\n",
       "      <td>hrv</td>\n",
       "      <td>Kovacevic</td>\n",
       "      <td>1994-03-27</td>\n",
       "      <td>SAN</td>\n",
       "      <td>Mother</td>\n",
       "      <td>NaN</td>\n",
       "      <td>hrv</td>\n",
       "      <td>NaN</td>\n",
       "      <td>[[, ], [, , , , , , ], [, , , , , ], [, , , ],...</td>\n",
       "      <td>[[evo, ga], [kud, ideš, ti, sad, kud, idemo, m...</td>\n",
       "      <td>[[evo, ga], [kud, ideš, ti, sad, kud, idemo, m...</td>\n",
       "      <td>[/mnt/cube/tsainbur/Projects/github_repos/LRSO...</td>\n",
       "      <td>226</td>\n",
       "      <td>226</td>\n",
       "      <td>226</td>\n",
       "    </tr>\n",
       "    <tr>\n",
       "      <th>2</th>\n",
       "      <td>11312/c-00032871-1</td>\n",
       "      <td>hrv</td>\n",
       "      <td>Kovacevic</td>\n",
       "      <td>1994-03-27</td>\n",
       "      <td>TAT</td>\n",
       "      <td>Father</td>\n",
       "      <td>NaN</td>\n",
       "      <td>hrv</td>\n",
       "      <td>NaN</td>\n",
       "      <td>[[, , , ], [], [, , ], [, , , , , , , ], [, ],...</td>\n",
       "      <td>[[ma, što, pričaš, ti], [koga], [jesi, dedu, z...</td>\n",
       "      <td>[[ma, što, pričaš, ti], [koga], [jesi, dedu, z...</td>\n",
       "      <td>[/mnt/cube/tsainbur/Projects/github_repos/LRSO...</td>\n",
       "      <td>37</td>\n",
       "      <td>37</td>\n",
       "      <td>37</td>\n",
       "    </tr>\n",
       "  </tbody>\n",
       "</table>\n",
       "</div>"
      ],
      "text/plain": [
       "                  PID lang     corpus        date participant_key  \\\n",
       "0  11312/c-00032871-1  hrv  Kovacevic  1994-03-27             CHI   \n",
       "1  11312/c-00032871-1  hrv  Kovacevic  1994-03-27             SAN   \n",
       "2  11312/c-00032871-1  hrv  Kovacevic  1994-03-27             TAT   \n",
       "\n",
       "           role        age language   sex  \\\n",
       "0  Target_Child  P1Y05M03D      hrv  male   \n",
       "1        Mother        NaN      hrv   NaN   \n",
       "2        Father        NaN      hrv   NaN   \n",
       "\n",
       "                                                 POS  \\\n",
       "0  [[], [], [], [], [], [], [], [], [, ], [, , ],...   \n",
       "1  [[, ], [, , , , , , ], [, , , , , ], [, , , ],...   \n",
       "2  [[, , , ], [], [, , ], [, , , , , , , ], [, ],...   \n",
       "\n",
       "                                               words  \\\n",
       "0  [[dadaj], [ahadada], [dadad], [mama], [deda], ...   \n",
       "1  [[evo, ga], [kud, ideš, ti, sad, kud, idemo, m...   \n",
       "2  [[ma, što, pričaš, ti], [koga], [jesi, dedu, z...   \n",
       "\n",
       "                                           morphemes  \\\n",
       "0  [[dadaj], [ahadada], [dadad], [mama], [deda], ...   \n",
       "1  [[evo, ga], [kud, ideš, ti, sad, kud, idemo, m...   \n",
       "2  [[ma, što, pričaš, ti], [koga], [jesi, dedu, z...   \n",
       "\n",
       "                                      transcript_xml  n_words  n_morphemes  \\\n",
       "0  [/mnt/cube/tsainbur/Projects/github_repos/LRSO...      166          166   \n",
       "1  [/mnt/cube/tsainbur/Projects/github_repos/LRSO...      226          226   \n",
       "2  [/mnt/cube/tsainbur/Projects/github_repos/LRSO...       37           37   \n",
       "\n",
       "   n_POS  \n",
       "0    166  \n",
       "1    226  \n",
       "2     37  "
      ]
     },
     "execution_count": 15,
     "metadata": {},
     "output_type": "execute_result"
    }
   ],
   "source": [
    "seq_df[:3]"
   ]
  },
  {
   "cell_type": "code",
   "execution_count": 16,
   "metadata": {
    "ExecuteTime": {
     "end_time": "2021-02-18T05:16:00.381894Z",
     "start_time": "2021-02-18T05:14:30.259902Z"
    }
   },
   "outputs": [],
   "source": [
    "seq_df.to_pickle(CHILDES_DFS/'childes_df_full.pickle')"
   ]
  },
  {
   "cell_type": "code",
   "execution_count": 21,
   "metadata": {
    "ExecuteTime": {
     "end_time": "2021-02-18T05:17:16.895451Z",
     "start_time": "2021-02-18T05:17:16.295981Z"
    }
   },
   "outputs": [
    {
     "name": "stdout",
     "output_type": "stream",
     "text": [
      "total 1.2G\r\n",
      "-rw-r--r-- 1 tsainbur psych-gentnerlab-users 1.4G Feb 17 21:16 childes_df_full.pickle\r\n",
      "-rw-r----- 1 tsainbur psych-gentnerlab-users  30M Apr  7  2020 childes_df_subset.pickle\r\n",
      "-rw-r----- 1 tsainbur psych-gentnerlab-users 1.4G Apr  7  2020 childes_df.pickle\r\n"
     ]
    }
   ],
   "source": [
    "!ls -lht /mnt/cube/tsainbur/Projects/github_repos/LRSO_paper_rev/LongRangeSequentialOrgPaper/data/processed/childes/"
   ]
  },
  {
   "cell_type": "code",
   "execution_count": 17,
   "metadata": {
    "ExecuteTime": {
     "end_time": "2021-02-18T05:16:02.600184Z",
     "start_time": "2021-02-18T05:16:00.384289Z"
    }
   },
   "outputs": [
    {
     "name": "stdout",
     "output_type": "stream",
     "text": [
      "PID [\"<class 'str'>\"]\n",
      "lang [\"<class 'str'>\"]\n",
      "corpus [\"<class 'str'>\"]\n",
      "date [\"<class 'str'>\"]\n",
      "participant_key [\"<class 'str'>\"]\n",
      "role [\"<class 'str'>\"]\n",
      "age [\"<class 'float'>\" \"<class 'str'>\"]\n",
      "language [\"<class 'str'>\"]\n",
      "sex [\"<class 'float'>\" \"<class 'str'>\"]\n",
      "POS [\"<class 'list'>\"]\n",
      "words [\"<class 'list'>\"]\n",
      "morphemes [\"<class 'list'>\"]\n",
      "transcript_xml [\"<class 'list'>\"]\n",
      "n_words [\"<class 'numpy.int64'>\"]\n",
      "n_morphemes [\"<class 'numpy.int64'>\"]\n",
      "n_POS [\"<class 'numpy.int64'>\"]\n"
     ]
    }
   ],
   "source": [
    "for col in seq_df.columns:\n",
    "    print(\n",
    "        col,\n",
    "        np.unique([str(type(i)) for i in seq_df[col].values])\n",
    "    )"
   ]
  },
  {
   "cell_type": "code",
   "execution_count": 35,
   "metadata": {
    "ExecuteTime": {
     "end_time": "2021-02-18T05:48:29.964768Z",
     "start_time": "2021-02-18T05:48:29.954410Z"
    }
   },
   "outputs": [
    {
     "ename": "ModuleNotFoundError",
     "evalue": "No module named 'childes_mi.information_theory.emi._nij_op_cython'",
     "output_type": "error",
     "traceback": [
      "\u001b[0;31m---------------------------------------------------------------------------\u001b[0m",
      "\u001b[0;31mModuleNotFoundError\u001b[0m                       Traceback (most recent call last)",
      "\u001b[0;32m<ipython-input-35-08fab1765c37>\u001b[0m in \u001b[0;36m<module>\u001b[0;34m\u001b[0m\n\u001b[0;32m----> 1\u001b[0;31m \u001b[0;32mfrom\u001b[0m \u001b[0mchildes_mi\u001b[0m\u001b[0;34m.\u001b[0m\u001b[0minformation_theory\u001b[0m\u001b[0;34m.\u001b[0m\u001b[0memi\u001b[0m\u001b[0;34m.\u001b[0m\u001b[0m_nij_op_cython\u001b[0m \u001b[0;32mimport\u001b[0m \u001b[0mnij_op_cython\u001b[0m\u001b[0;34m\u001b[0m\u001b[0;34m\u001b[0m\u001b[0m\n\u001b[0m",
      "\u001b[0;31mModuleNotFoundError\u001b[0m: No module named 'childes_mi.information_theory.emi._nij_op_cython'"
     ]
    }
   ],
   "source": [
    "from childes_mi.information_theory.emi._nij_op_cython import nij_op_cython"
   ]
  },
  {
   "cell_type": "code",
   "execution_count": 37,
   "metadata": {
    "ExecuteTime": {
     "end_time": "2021-02-18T05:48:40.256219Z",
     "start_time": "2021-02-18T05:48:40.246249Z"
    }
   },
   "outputs": [
    {
     "ename": "ImportError",
     "evalue": "cannot import name '_nij_op_cython' from 'childes_mi.information_theory.emi' (unknown location)",
     "output_type": "error",
     "traceback": [
      "\u001b[0;31m---------------------------------------------------------------------------\u001b[0m",
      "\u001b[0;31mImportError\u001b[0m                               Traceback (most recent call last)",
      "\u001b[0;32m<ipython-input-37-a1c0f2c78c32>\u001b[0m in \u001b[0;36m<module>\u001b[0;34m\u001b[0m\n\u001b[0;32m----> 1\u001b[0;31m \u001b[0;32mfrom\u001b[0m \u001b[0mchildes_mi\u001b[0m\u001b[0;34m.\u001b[0m\u001b[0minformation_theory\u001b[0m\u001b[0;34m.\u001b[0m\u001b[0memi\u001b[0m \u001b[0;32mimport\u001b[0m \u001b[0m_nij_op_cython\u001b[0m\u001b[0;34m\u001b[0m\u001b[0;34m\u001b[0m\u001b[0m\n\u001b[0m",
      "\u001b[0;31mImportError\u001b[0m: cannot import name '_nij_op_cython' from 'childes_mi.information_theory.emi' (unknown location)"
     ]
    }
   ],
   "source": [
    "from childes_mi.information_theory.emi import _nij_op_cython"
   ]
  },
  {
   "cell_type": "code",
   "execution_count": 38,
   "metadata": {
    "ExecuteTime": {
     "end_time": "2021-02-18T05:48:55.952183Z",
     "start_time": "2021-02-18T05:48:55.939736Z"
    }
   },
   "outputs": [
    {
     "ename": "ModuleNotFoundError",
     "evalue": "No module named 'childes_mi.information_theory.emi._nij_op_cython'",
     "output_type": "error",
     "traceback": [
      "\u001b[0;31m---------------------------------------------------------------------------\u001b[0m",
      "\u001b[0;31mModuleNotFoundError\u001b[0m                       Traceback (most recent call last)",
      "\u001b[0;32m<ipython-input-38-28562c7c977b>\u001b[0m in \u001b[0;36m<module>\u001b[0;34m\u001b[0m\n\u001b[0;32m----> 1\u001b[0;31m \u001b[0;32mfrom\u001b[0m \u001b[0mchildes_mi\u001b[0m\u001b[0;34m.\u001b[0m\u001b[0minformation_theory\u001b[0m \u001b[0;32mimport\u001b[0m \u001b[0mmutual_information\u001b[0m \u001b[0;32mas\u001b[0m \u001b[0mmi\u001b[0m\u001b[0;34m\u001b[0m\u001b[0;34m\u001b[0m\u001b[0m\n\u001b[0m",
      "\u001b[0;32m/mnt/cube/tsainbur/Projects/github_repos/LRSO_paper_rev/LongRangeSequentialOrgPaper/childes_mi/information_theory/mutual_information.py\u001b[0m in \u001b[0;36m<module>\u001b[0;34m\u001b[0m\n\u001b[1;32m      7\u001b[0m \u001b[0;32mfrom\u001b[0m \u001b[0mscipy\u001b[0m \u001b[0;32mimport\u001b[0m \u001b[0msparse\u001b[0m \u001b[0;32mas\u001b[0m \u001b[0msp\u001b[0m\u001b[0;34m\u001b[0m\u001b[0;34m\u001b[0m\u001b[0m\n\u001b[1;32m      8\u001b[0m \u001b[0;32mimport\u001b[0m \u001b[0mcopy\u001b[0m\u001b[0;34m\u001b[0m\u001b[0;34m\u001b[0m\u001b[0m\n\u001b[0;32m----> 9\u001b[0;31m \u001b[0;32mfrom\u001b[0m \u001b[0mchildes_mi\u001b[0m\u001b[0;34m.\u001b[0m\u001b[0minformation_theory\u001b[0m\u001b[0;34m.\u001b[0m\u001b[0mami\u001b[0m \u001b[0;32mimport\u001b[0m \u001b[0madjusted_mutual_information\u001b[0m\u001b[0;34m\u001b[0m\u001b[0;34m\u001b[0m\u001b[0m\n\u001b[0m\u001b[1;32m     10\u001b[0m \u001b[0;34m\u001b[0m\u001b[0m\n\u001b[1;32m     11\u001b[0m \u001b[0;31m# modelling\u001b[0m\u001b[0;34m\u001b[0m\u001b[0;34m\u001b[0m\u001b[0;34m\u001b[0m\u001b[0m\n",
      "\u001b[0;32m/mnt/cube/tsainbur/Projects/github_repos/LRSO_paper_rev/LongRangeSequentialOrgPaper/childes_mi/information_theory/ami.py\u001b[0m in \u001b[0;36m<module>\u001b[0;34m\u001b[0m\n\u001b[1;32m     11\u001b[0m     \u001b[0madjusted_mutual_info_score\u001b[0m\u001b[0;34m,\u001b[0m\u001b[0;34m\u001b[0m\u001b[0;34m\u001b[0m\u001b[0m\n\u001b[1;32m     12\u001b[0m )\n\u001b[0;32m---> 13\u001b[0;31m \u001b[0;32mfrom\u001b[0m \u001b[0mchildes_mi\u001b[0m\u001b[0;34m.\u001b[0m\u001b[0minformation_theory\u001b[0m\u001b[0;34m.\u001b[0m\u001b[0mexpected_mutual_information\u001b[0m \u001b[0;32mimport\u001b[0m \u001b[0memi_parallel\u001b[0m\u001b[0;34m\u001b[0m\u001b[0;34m\u001b[0m\u001b[0m\n\u001b[0m\u001b[1;32m     14\u001b[0m \u001b[0;34m\u001b[0m\u001b[0m\n\u001b[1;32m     15\u001b[0m \u001b[0;31m# from .emi._expected_mutual_info_fast import expected_mutual_information\u001b[0m\u001b[0;34m\u001b[0m\u001b[0;34m\u001b[0m\u001b[0;34m\u001b[0m\u001b[0m\n",
      "\u001b[0;32m/mnt/cube/tsainbur/Projects/github_repos/LRSO_paper_rev/LongRangeSequentialOrgPaper/childes_mi/information_theory/expected_mutual_information.py\u001b[0m in \u001b[0;36m<module>\u001b[0;34m\u001b[0m\n\u001b[1;32m      8\u001b[0m \u001b[0;32mfrom\u001b[0m \u001b[0mtqdm\u001b[0m\u001b[0;34m.\u001b[0m\u001b[0mautonotebook\u001b[0m \u001b[0;32mimport\u001b[0m \u001b[0mtqdm\u001b[0m\u001b[0;34m\u001b[0m\u001b[0;34m\u001b[0m\u001b[0m\n\u001b[1;32m      9\u001b[0m \u001b[0;32mfrom\u001b[0m \u001b[0mjoblib\u001b[0m \u001b[0;32mimport\u001b[0m \u001b[0mParallel\u001b[0m\u001b[0;34m,\u001b[0m \u001b[0mdelayed\u001b[0m\u001b[0;34m,\u001b[0m \u001b[0mparallel_backend\u001b[0m\u001b[0;34m\u001b[0m\u001b[0;34m\u001b[0m\u001b[0m\n\u001b[0;32m---> 10\u001b[0;31m \u001b[0;32mfrom\u001b[0m \u001b[0mchildes_mi\u001b[0m\u001b[0;34m.\u001b[0m\u001b[0minformation_theory\u001b[0m\u001b[0;34m.\u001b[0m\u001b[0memi\u001b[0m\u001b[0;34m.\u001b[0m\u001b[0m_nij_op_cython\u001b[0m \u001b[0;32mimport\u001b[0m \u001b[0mnij_op_cython\u001b[0m\u001b[0;34m\u001b[0m\u001b[0;34m\u001b[0m\u001b[0m\n\u001b[0m\u001b[1;32m     11\u001b[0m \u001b[0;34m\u001b[0m\u001b[0m\n\u001b[1;32m     12\u001b[0m \u001b[0;34m\u001b[0m\u001b[0m\n",
      "\u001b[0;31mModuleNotFoundError\u001b[0m: No module named 'childes_mi.information_theory.emi._nij_op_cython'"
     ]
    }
   ],
   "source": [
    "from childes_mi.information_theory import mutual_information as mi"
   ]
  },
  {
   "cell_type": "code",
   "execution_count": 27,
   "metadata": {
    "ExecuteTime": {
     "end_time": "2021-02-18T05:45:38.101778Z",
     "start_time": "2021-02-18T05:45:38.091904Z"
    }
   },
   "outputs": [
    {
     "ename": "AttributeError",
     "evalue": "module 'childes_mi.information_theory.emi' has no attribute '_nij_op_cython'",
     "output_type": "error",
     "traceback": [
      "\u001b[0;31m---------------------------------------------------------------------------\u001b[0m",
      "\u001b[0;31mAttributeError\u001b[0m                            Traceback (most recent call last)",
      "\u001b[0;32m<ipython-input-27-b2de43cb9275>\u001b[0m in \u001b[0;36m<module>\u001b[0;34m\u001b[0m\n\u001b[0;32m----> 1\u001b[0;31m \u001b[0memi\u001b[0m\u001b[0;34m.\u001b[0m\u001b[0m_nij_op_cython\u001b[0m\u001b[0;34m\u001b[0m\u001b[0;34m\u001b[0m\u001b[0m\n\u001b[0m",
      "\u001b[0;31mAttributeError\u001b[0m: module 'childes_mi.information_theory.emi' has no attribute '_nij_op_cython'"
     ]
    }
   ],
   "source": [
    "emi._nij_op_cython"
   ]
  },
  {
   "cell_type": "code",
   "execution_count": null,
   "metadata": {},
   "outputs": [],
   "source": []
  }
 ],
 "metadata": {
  "kernelspec": {
   "display_name": "Python [conda env:childes-paper]",
   "language": "python",
   "name": "conda-env-childes-paper-py"
  },
  "language_info": {
   "codemirror_mode": {
    "name": "ipython",
    "version": 3
   },
   "file_extension": ".py",
   "mimetype": "text/x-python",
   "name": "python",
   "nbconvert_exporter": "python",
   "pygments_lexer": "ipython3",
   "version": "3.9.1"
  }
 },
 "nbformat": 4,
 "nbformat_minor": 2
}
