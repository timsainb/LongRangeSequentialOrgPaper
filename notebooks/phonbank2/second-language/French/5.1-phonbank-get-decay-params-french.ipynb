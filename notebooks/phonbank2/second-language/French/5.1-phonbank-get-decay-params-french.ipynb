{
 "cells": [
  {
   "cell_type": "code",
   "execution_count": 1,
   "metadata": {
    "ExecuteTime": {
     "end_time": "2021-07-08T20:26:10.606264Z",
     "start_time": "2021-07-08T20:26:10.588828Z"
    }
   },
   "outputs": [],
   "source": [
    "%load_ext autoreload\n",
    "%autoreload 2"
   ]
  },
  {
   "cell_type": "code",
   "execution_count": 2,
   "metadata": {
    "ExecuteTime": {
     "end_time": "2021-07-08T20:26:11.245859Z",
     "start_time": "2021-07-08T20:26:10.737058Z"
    }
   },
   "outputs": [],
   "source": [
    "from childes_mi.utils.paths import DATA_DIR, FIGURE_DIR, ensure_dir\n",
    "from childes_mi.utils.general import flatten,save_fig"
   ]
  },
  {
   "cell_type": "code",
   "execution_count": 3,
   "metadata": {
    "ExecuteTime": {
     "end_time": "2021-07-08T20:26:12.234840Z",
     "start_time": "2021-07-08T20:26:11.247456Z"
    }
   },
   "outputs": [],
   "source": [
    "from childes_mi.information_theory import model_fitting as mf"
   ]
  },
  {
   "cell_type": "code",
   "execution_count": 4,
   "metadata": {
    "ExecuteTime": {
     "end_time": "2021-07-08T20:26:12.272352Z",
     "start_time": "2021-07-08T20:26:12.237176Z"
    }
   },
   "outputs": [
    {
     "name": "stderr",
     "output_type": "stream",
     "text": [
      "/home/AD/tsainbur/anaconda3/lib/python3.7/site-packages/tqdm/autonotebook.py:17: TqdmExperimentalWarning: Using `tqdm.autonotebook.tqdm` in notebook mode. Use `tqdm.tqdm` instead to force console mode (e.g. in jupyter console)\n",
      "  \" (e.g. in jupyter console)\", TqdmExperimentalWarning)\n"
     ]
    }
   ],
   "source": [
    "import pandas as pd\n",
    "import numpy as np\n",
    "import matplotlib.pyplot as plt\n",
    "from tqdm.autonotebook import tqdm"
   ]
  },
  {
   "cell_type": "code",
   "execution_count": 5,
   "metadata": {
    "ExecuteTime": {
     "end_time": "2021-07-08T20:26:12.353909Z",
     "start_time": "2021-07-08T20:26:12.274214Z"
    }
   },
   "outputs": [],
   "source": [
    "MI_DF = pd.read_pickle(DATA_DIR / \"mi\" / \"phonbank_mi_french.pickle\")"
   ]
  },
  {
   "cell_type": "code",
   "execution_count": 6,
   "metadata": {
    "ExecuteTime": {
     "end_time": "2021-07-08T20:26:13.853949Z",
     "start_time": "2021-07-08T20:26:13.777355Z"
    }
   },
   "outputs": [
    {
     "data": {
      "text/html": [
       "<div>\n",
       "<style scoped>\n",
       "    .dataframe tbody tr th:only-of-type {\n",
       "        vertical-align: middle;\n",
       "    }\n",
       "\n",
       "    .dataframe tbody tr th {\n",
       "        vertical-align: top;\n",
       "    }\n",
       "\n",
       "    .dataframe thead th {\n",
       "        text-align: right;\n",
       "    }\n",
       "</style>\n",
       "<table border=\"1\" class=\"dataframe\">\n",
       "  <thead>\n",
       "    <tr style=\"text-align: right;\">\n",
       "      <th></th>\n",
       "      <th>MI</th>\n",
       "      <th>MI_var</th>\n",
       "      <th>shuff_MI</th>\n",
       "      <th>shuff_MI_var</th>\n",
       "      <th>distances</th>\n",
       "      <th>age_cohort_low</th>\n",
       "      <th>age_cohort_high</th>\n",
       "      <th>n_phones</th>\n",
       "      <th>n_unique_phones</th>\n",
       "      <th>median_n_phones</th>\n",
       "      <th>shuffling</th>\n",
       "    </tr>\n",
       "  </thead>\n",
       "  <tbody>\n",
       "    <tr>\n",
       "      <th>0</th>\n",
       "      <td>[10.663371043816312, 10.245082225102422, 10.09...</td>\n",
       "      <td>[0.004945938272197813, 0.0048637140946431075, ...</td>\n",
       "      <td>[9.97526238326807, 9.974438705111332, 9.974402...</td>\n",
       "      <td>[0.004820450882092466, 0.004817713571462185, 0...</td>\n",
       "      <td>[1, 2, 3, 4, 5, 6, 7, 8, 9, 10, 11, 12, 13, 14...</td>\n",
       "      <td>3</td>\n",
       "      <td>20</td>\n",
       "      <td>359954</td>\n",
       "      <td>0</td>\n",
       "      <td>1626</td>\n",
       "      <td>full</td>\n",
       "    </tr>\n",
       "    <tr>\n",
       "      <th>1</th>\n",
       "      <td>[10.915505015310265, 10.548361851654079, 10.39...</td>\n",
       "      <td>[0.004887922729166499, 0.004802003833059679, 0...</td>\n",
       "      <td>[10.256572952023603, 10.25706837629712, 10.257...</td>\n",
       "      <td>[0.004749013927682985, 0.004750348844609571, 0...</td>\n",
       "      <td>[1, 2, 3, 4, 5, 6, 7, 8, 9, 10, 11, 12, 13, 14...</td>\n",
       "      <td>2.5</td>\n",
       "      <td>3</td>\n",
       "      <td>313197</td>\n",
       "      <td>0</td>\n",
       "      <td>1014</td>\n",
       "      <td>full</td>\n",
       "    </tr>\n",
       "    <tr>\n",
       "      <th>2</th>\n",
       "      <td>[10.991623024066557, 10.646451779237823, 10.47...</td>\n",
       "      <td>[0.005196027243733277, 0.005117216935930317, 0...</td>\n",
       "      <td>[10.324423226440707, 10.325474461906364, 10.32...</td>\n",
       "      <td>[0.0050613373543492894, 0.005062582834832084, ...</td>\n",
       "      <td>[1, 2, 3, 4, 5, 6, 7, 8, 9, 10, 11, 12, 13, 14...</td>\n",
       "      <td>2</td>\n",
       "      <td>2.5</td>\n",
       "      <td>277162</td>\n",
       "      <td>0</td>\n",
       "      <td>724</td>\n",
       "      <td>full</td>\n",
       "    </tr>\n",
       "  </tbody>\n",
       "</table>\n",
       "</div>"
      ],
      "text/plain": [
       "                                                  MI  \\\n",
       "0  [10.663371043816312, 10.245082225102422, 10.09...   \n",
       "1  [10.915505015310265, 10.548361851654079, 10.39...   \n",
       "2  [10.991623024066557, 10.646451779237823, 10.47...   \n",
       "\n",
       "                                              MI_var  \\\n",
       "0  [0.004945938272197813, 0.0048637140946431075, ...   \n",
       "1  [0.004887922729166499, 0.004802003833059679, 0...   \n",
       "2  [0.005196027243733277, 0.005117216935930317, 0...   \n",
       "\n",
       "                                            shuff_MI  \\\n",
       "0  [9.97526238326807, 9.974438705111332, 9.974402...   \n",
       "1  [10.256572952023603, 10.25706837629712, 10.257...   \n",
       "2  [10.324423226440707, 10.325474461906364, 10.32...   \n",
       "\n",
       "                                        shuff_MI_var  \\\n",
       "0  [0.004820450882092466, 0.004817713571462185, 0...   \n",
       "1  [0.004749013927682985, 0.004750348844609571, 0...   \n",
       "2  [0.0050613373543492894, 0.005062582834832084, ...   \n",
       "\n",
       "                                           distances age_cohort_low  \\\n",
       "0  [1, 2, 3, 4, 5, 6, 7, 8, 9, 10, 11, 12, 13, 14...              3   \n",
       "1  [1, 2, 3, 4, 5, 6, 7, 8, 9, 10, 11, 12, 13, 14...            2.5   \n",
       "2  [1, 2, 3, 4, 5, 6, 7, 8, 9, 10, 11, 12, 13, 14...              2   \n",
       "\n",
       "  age_cohort_high n_phones n_unique_phones median_n_phones shuffling  \n",
       "0              20   359954               0            1626      full  \n",
       "1               3   313197               0            1014      full  \n",
       "2             2.5   277162               0             724      full  "
      ]
     },
     "execution_count": 6,
     "metadata": {},
     "output_type": "execute_result"
    }
   ],
   "source": [
    "MI_DF[:3]"
   ]
  },
  {
   "cell_type": "code",
   "execution_count": 7,
   "metadata": {
    "ExecuteTime": {
     "end_time": "2021-07-08T20:26:14.896434Z",
     "start_time": "2021-07-08T20:26:14.874911Z"
    }
   },
   "outputs": [
    {
     "data": {
      "text/plain": [
       "array(['full'], dtype=object)"
      ]
     },
     "execution_count": 7,
     "metadata": {},
     "output_type": "execute_result"
    }
   ],
   "source": [
    "MI_DF.shuffling.unique()"
   ]
  },
  {
   "cell_type": "code",
   "execution_count": 8,
   "metadata": {
    "ExecuteTime": {
     "end_time": "2021-07-08T20:26:15.487213Z",
     "start_time": "2021-07-08T20:26:15.462871Z"
    }
   },
   "outputs": [],
   "source": [
    "MI_DF = MI_DF.assign(**{i:np.nan for i in ['exp_results', 'pow_results', 'concat_results',\n",
    "     'R2_exp', 'R2_concat', 'R2_power', 'AICc_exp',\n",
    "     'AICc_concat', 'AICc_power', 'bestfitmodel', 'curvature', 'min_peak']})\n",
    "MI_DF['curvature'] = MI_DF['curvature'].astype(object)"
   ]
  },
  {
   "cell_type": "code",
   "execution_count": 9,
   "metadata": {
    "ExecuteTime": {
     "end_time": "2021-07-08T20:26:19.423696Z",
     "start_time": "2021-07-08T20:26:16.003391Z"
    }
   },
   "outputs": [
    {
     "data": {
      "application/vnd.jupyter.widget-view+json": {
       "model_id": "1d7abbf43d60499eafa0353e3d0aebef",
       "version_major": 2,
       "version_minor": 0
      },
      "text/plain": [
       "HBox(children=(IntProgress(value=0, max=6), HTML(value='')))"
      ]
     },
     "metadata": {},
     "output_type": "display_data"
    },
    {
     "name": "stderr",
     "output_type": "stream",
     "text": [
      "/mnt/cube/tsainbur/Projects/github_repos/LRSO_paper_rev/LongRangeSequentialOrgPaper/childes_mi/information_theory/model_fitting.py:8: RuntimeWarning: invalid value encountered in log\n",
      "  return np.abs(np.log(y_true) - np.log(y_model)) * (1 / (np.log(1 + x)))\n",
      "/home/AD/tsainbur/anaconda3/lib/python3.7/site-packages/numpy/core/_asarray.py:102: VisibleDeprecationWarning: Creating an ndarray from ragged nested sequences (which is a list-or-tuple of lists-or-tuples-or ndarrays with different lengths or shapes) is deprecated. If you meant to do this, you must specify 'dtype=object' when creating the ndarray.\n",
      "  return array(a, dtype, copy=False, order=order)\n"
     ]
    },
    {
     "name": "stdout",
     "output_type": "stream",
     "text": [
      "3 20 pow_exp full\n",
      "2.5 3 pow_exp full\n",
      "2 2.5 pow_exp full\n",
      "1.5 2 pow_exp full\n",
      "1 1.5 pow_exp full\n",
      "0.5 1 pow_exp full\n",
      "\n"
     ]
    }
   ],
   "source": [
    "n = 100 # max distance for computation\n",
    "for idx, row in tqdm(MI_DF.iterrows(), total=len(MI_DF)):\n",
    "    # get signal\n",
    "    sig = np.array(row.MI-row.shuff_MI)\n",
    "    distances = row.distances\n",
    "    sig = sig\n",
    "    \n",
    "    dist_mask = distances <= row.median_n_phones\n",
    "    distances = distances[dist_mask]\n",
    "    sig = sig[dist_mask]\n",
    "    \n",
    "    # fit models\n",
    "    results_power, results_exp, results_pow_exp, best_fit_model = mf.fit_models(distances, sig)\n",
    "    \n",
    "    # get fit results\n",
    "    R2_exp, R2_concat, R2_power, AICc_exp, \\\n",
    "        AICc_pow, AICc_concat = mf.fit_results(sig, distances, \n",
    "                                              results_exp, results_power,\n",
    "                                              results_pow_exp)\n",
    "    \n",
    "    \n",
    "    # get model y\n",
    "    distances_mod = np.logspace(0,np.log10(n), base=10, num=1000)\n",
    "    if best_fit_model == 'pow_exp':\n",
    "        y_model = mf.get_y(mf.pow_exp_decay, results_pow_exp, distances_mod)\n",
    "    elif best_fit_model == 'exp':\n",
    "        y_model = mf.get_y(mf.exp_decay, results_exp, distances_mod)\n",
    "    elif best_fit_model == 'pow':\n",
    "        y_model = mf.get_y(mf.powerlaw_decay, results_power, distances_mod)\n",
    "    \n",
    "    # get curvature of model_y\n",
    "    curvature_model = mf.curvature(np.log(y_model))\n",
    "    \n",
    "    # if the best fit model is pow_exp, then grab the min peak\n",
    "    if best_fit_model == 'pow_exp':\n",
    "        # get peaks of curvature\n",
    "        peaks = np.where((\n",
    "            (curvature_model[:-1] < curvature_model[1:])[1:] & (curvature_model[1:] < curvature_model[:-1])[:-1]\n",
    "        ))\n",
    "        min_peak = peaks[0][0]\n",
    "    else:\n",
    "        min_peak = np.nan\n",
    "\n",
    "    # get save model fit results to MI_DF\n",
    "    MI_DF.loc[idx, np.array(['exp_results', 'pow_results', 'concat_results',\n",
    "                         'R2_exp', 'R2_concat', 'R2_power', 'AICc_exp',\n",
    "                         'AICc_concat', 'AICc_power', 'bestfitmodel', 'curvature', 'min_peak'])] = [\n",
    "        results_exp, results_power, results_pow_exp,\n",
    "        R2_exp, R2_concat, R2_power, AICc_exp,\n",
    "        AICc_concat, AICc_pow, best_fit_model,\n",
    "        curvature_model, min_peak\n",
    "    ]\n",
    "\n",
    "    print(row.age_cohort_low, row.age_cohort_high, best_fit_model, row.shuffling)"
   ]
  },
  {
   "cell_type": "code",
   "execution_count": 10,
   "metadata": {
    "ExecuteTime": {
     "end_time": "2021-07-08T20:26:22.098903Z",
     "start_time": "2021-07-08T20:26:22.023524Z"
    }
   },
   "outputs": [
    {
     "data": {
      "text/html": [
       "<div>\n",
       "<style scoped>\n",
       "    .dataframe tbody tr th:only-of-type {\n",
       "        vertical-align: middle;\n",
       "    }\n",
       "\n",
       "    .dataframe tbody tr th {\n",
       "        vertical-align: top;\n",
       "    }\n",
       "\n",
       "    .dataframe thead th {\n",
       "        text-align: right;\n",
       "    }\n",
       "</style>\n",
       "<table border=\"1\" class=\"dataframe\">\n",
       "  <thead>\n",
       "    <tr style=\"text-align: right;\">\n",
       "      <th></th>\n",
       "      <th>MI</th>\n",
       "      <th>MI_var</th>\n",
       "      <th>shuff_MI</th>\n",
       "      <th>shuff_MI_var</th>\n",
       "      <th>distances</th>\n",
       "      <th>age_cohort_low</th>\n",
       "      <th>age_cohort_high</th>\n",
       "      <th>n_phones</th>\n",
       "      <th>n_unique_phones</th>\n",
       "      <th>median_n_phones</th>\n",
       "      <th>...</th>\n",
       "      <th>concat_results</th>\n",
       "      <th>R2_exp</th>\n",
       "      <th>R2_concat</th>\n",
       "      <th>R2_power</th>\n",
       "      <th>AICc_exp</th>\n",
       "      <th>AICc_concat</th>\n",
       "      <th>AICc_power</th>\n",
       "      <th>bestfitmodel</th>\n",
       "      <th>curvature</th>\n",
       "      <th>min_peak</th>\n",
       "    </tr>\n",
       "  </thead>\n",
       "  <tbody>\n",
       "    <tr>\n",
       "      <th>0</th>\n",
       "      <td>[10.663371043816312, 10.245082225102422, 10.09...</td>\n",
       "      <td>[0.004945938272197813, 0.0048637140946431075, ...</td>\n",
       "      <td>[9.97526238326807, 9.974438705111332, 9.974402...</td>\n",
       "      <td>[0.004820450882092466, 0.004817713571462185, 0...</td>\n",
       "      <td>[1, 2, 3, 4, 5, 6, 7, 8, 9, 10, 11, 12, 13, 14...</td>\n",
       "      <td>3</td>\n",
       "      <td>20</td>\n",
       "      <td>359954</td>\n",
       "      <td>0</td>\n",
       "      <td>1626</td>\n",
       "      <td>...</td>\n",
       "      <td>&lt;lmfit.minimizer.MinimizerResult object at 0x7...</td>\n",
       "      <td>0.807501</td>\n",
       "      <td>0.842233</td>\n",
       "      <td>0.841002</td>\n",
       "      <td>-6284.589532</td>\n",
       "      <td>-6588.379525</td>\n",
       "      <td>-6580.378123</td>\n",
       "      <td>pow_exp</td>\n",
       "      <td>[-5.330335864094479e-06, -8.01638653847689e-06...</td>\n",
       "      <td>169.0</td>\n",
       "    </tr>\n",
       "    <tr>\n",
       "      <th>1</th>\n",
       "      <td>[10.915505015310265, 10.548361851654079, 10.39...</td>\n",
       "      <td>[0.004887922729166499, 0.004802003833059679, 0...</td>\n",
       "      <td>[10.256572952023603, 10.25706837629712, 10.257...</td>\n",
       "      <td>[0.004749013927682985, 0.004750348844609571, 0...</td>\n",
       "      <td>[1, 2, 3, 4, 5, 6, 7, 8, 9, 10, 11, 12, 13, 14...</td>\n",
       "      <td>2.5</td>\n",
       "      <td>3</td>\n",
       "      <td>313197</td>\n",
       "      <td>0</td>\n",
       "      <td>1014</td>\n",
       "      <td>...</td>\n",
       "      <td>&lt;lmfit.minimizer.MinimizerResult object at 0x7...</td>\n",
       "      <td>0.924930</td>\n",
       "      <td>0.956229</td>\n",
       "      <td>0.955329</td>\n",
       "      <td>-5127.795729</td>\n",
       "      <td>-5670.767263</td>\n",
       "      <td>-5654.156368</td>\n",
       "      <td>pow_exp</td>\n",
       "      <td>[-3.437157575260229e-06, -5.172210406077421e-0...</td>\n",
       "      <td>178.0</td>\n",
       "    </tr>\n",
       "    <tr>\n",
       "      <th>2</th>\n",
       "      <td>[10.991623024066557, 10.646451779237823, 10.47...</td>\n",
       "      <td>[0.005196027243733277, 0.005117216935930317, 0...</td>\n",
       "      <td>[10.324423226440707, 10.325474461906364, 10.32...</td>\n",
       "      <td>[0.0050613373543492894, 0.005062582834832084, ...</td>\n",
       "      <td>[1, 2, 3, 4, 5, 6, 7, 8, 9, 10, 11, 12, 13, 14...</td>\n",
       "      <td>2</td>\n",
       "      <td>2.5</td>\n",
       "      <td>277162</td>\n",
       "      <td>0</td>\n",
       "      <td>724</td>\n",
       "      <td>...</td>\n",
       "      <td>&lt;lmfit.minimizer.MinimizerResult object at 0x7...</td>\n",
       "      <td>0.965343</td>\n",
       "      <td>0.985488</td>\n",
       "      <td>0.984768</td>\n",
       "      <td>-4200.066287</td>\n",
       "      <td>-4826.277413</td>\n",
       "      <td>-4795.253824</td>\n",
       "      <td>pow_exp</td>\n",
       "      <td>[-2.0121244236145916e-07, -3.1116095472584716e...</td>\n",
       "      <td>225.0</td>\n",
       "    </tr>\n",
       "  </tbody>\n",
       "</table>\n",
       "<p>3 rows × 23 columns</p>\n",
       "</div>"
      ],
      "text/plain": [
       "                                                  MI  \\\n",
       "0  [10.663371043816312, 10.245082225102422, 10.09...   \n",
       "1  [10.915505015310265, 10.548361851654079, 10.39...   \n",
       "2  [10.991623024066557, 10.646451779237823, 10.47...   \n",
       "\n",
       "                                              MI_var  \\\n",
       "0  [0.004945938272197813, 0.0048637140946431075, ...   \n",
       "1  [0.004887922729166499, 0.004802003833059679, 0...   \n",
       "2  [0.005196027243733277, 0.005117216935930317, 0...   \n",
       "\n",
       "                                            shuff_MI  \\\n",
       "0  [9.97526238326807, 9.974438705111332, 9.974402...   \n",
       "1  [10.256572952023603, 10.25706837629712, 10.257...   \n",
       "2  [10.324423226440707, 10.325474461906364, 10.32...   \n",
       "\n",
       "                                        shuff_MI_var  \\\n",
       "0  [0.004820450882092466, 0.004817713571462185, 0...   \n",
       "1  [0.004749013927682985, 0.004750348844609571, 0...   \n",
       "2  [0.0050613373543492894, 0.005062582834832084, ...   \n",
       "\n",
       "                                           distances age_cohort_low  \\\n",
       "0  [1, 2, 3, 4, 5, 6, 7, 8, 9, 10, 11, 12, 13, 14...              3   \n",
       "1  [1, 2, 3, 4, 5, 6, 7, 8, 9, 10, 11, 12, 13, 14...            2.5   \n",
       "2  [1, 2, 3, 4, 5, 6, 7, 8, 9, 10, 11, 12, 13, 14...              2   \n",
       "\n",
       "  age_cohort_high n_phones n_unique_phones median_n_phones  ...  \\\n",
       "0              20   359954               0            1626  ...   \n",
       "1               3   313197               0            1014  ...   \n",
       "2             2.5   277162               0             724  ...   \n",
       "\n",
       "                                      concat_results    R2_exp R2_concat  \\\n",
       "0  <lmfit.minimizer.MinimizerResult object at 0x7...  0.807501  0.842233   \n",
       "1  <lmfit.minimizer.MinimizerResult object at 0x7...  0.924930  0.956229   \n",
       "2  <lmfit.minimizer.MinimizerResult object at 0x7...  0.965343  0.985488   \n",
       "\n",
       "   R2_power     AICc_exp  AICc_concat   AICc_power  bestfitmodel  \\\n",
       "0  0.841002 -6284.589532 -6588.379525 -6580.378123       pow_exp   \n",
       "1  0.955329 -5127.795729 -5670.767263 -5654.156368       pow_exp   \n",
       "2  0.984768 -4200.066287 -4826.277413 -4795.253824       pow_exp   \n",
       "\n",
       "                                           curvature  min_peak  \n",
       "0  [-5.330335864094479e-06, -8.01638653847689e-06...     169.0  \n",
       "1  [-3.437157575260229e-06, -5.172210406077421e-0...     178.0  \n",
       "2  [-2.0121244236145916e-07, -3.1116095472584716e...     225.0  \n",
       "\n",
       "[3 rows x 23 columns]"
      ]
     },
     "execution_count": 10,
     "metadata": {},
     "output_type": "execute_result"
    }
   ],
   "source": [
    "MI_DF[:3]"
   ]
  },
  {
   "cell_type": "code",
   "execution_count": 11,
   "metadata": {
    "ExecuteTime": {
     "end_time": "2021-07-08T20:26:22.563162Z",
     "start_time": "2021-07-08T20:26:22.543148Z"
    }
   },
   "outputs": [
    {
     "data": {
      "text/plain": [
       "Index(['MI', 'MI_var', 'shuff_MI', 'shuff_MI_var', 'distances',\n",
       "       'age_cohort_low', 'age_cohort_high', 'n_phones', 'n_unique_phones',\n",
       "       'median_n_phones', 'shuffling', 'exp_results', 'pow_results',\n",
       "       'concat_results', 'R2_exp', 'R2_concat', 'R2_power', 'AICc_exp',\n",
       "       'AICc_concat', 'AICc_power', 'bestfitmodel', 'curvature', 'min_peak'],\n",
       "      dtype='object')"
      ]
     },
     "execution_count": 11,
     "metadata": {},
     "output_type": "execute_result"
    }
   ],
   "source": [
    "MI_DF.columns"
   ]
  },
  {
   "cell_type": "code",
   "execution_count": 12,
   "metadata": {
    "ExecuteTime": {
     "end_time": "2021-07-08T20:26:22.759561Z",
     "start_time": "2021-07-08T20:26:22.742788Z"
    }
   },
   "outputs": [],
   "source": [
    "parameter_translation = {\n",
    "    \"e_init\": \"a\",\n",
    "    \"e_decay_const\": \"b\",\n",
    "    \"p_init\": \"c\",\n",
    "    \"p_decay_const\": \"d\",\n",
    "    \"intercept\": \"f\",\n",
    "}"
   ]
  },
  {
   "cell_type": "code",
   "execution_count": 13,
   "metadata": {
    "ExecuteTime": {
     "end_time": "2021-07-08T20:26:22.955683Z",
     "start_time": "2021-07-08T20:26:22.894476Z"
    }
   },
   "outputs": [],
   "source": [
    "param_df = pd.DataFrame(\n",
    "    columns=[\n",
    "        \"dataset\", \n",
    "        \"age_low\", \n",
    "        \"age_high\", \n",
    "        \"a_value\", \n",
    "        \"a_stderr\",\n",
    "        \"b_value\", \n",
    "        \"b_stderr\",\n",
    "        \"c_value\", \n",
    "        \"c_stderr\",\n",
    "        \"d_value\", \n",
    "        \"d_stderr\",\n",
    "        \"f_value\", \n",
    "        \"f_stderr\"\n",
    "    ]\n",
    ")\n",
    "for idx, row in MI_DF[MI_DF.shuffling == 'full'].iterrows():\n",
    "    param_vals = {}\n",
    "    param_stderrs = {}\n",
    "    for param in row.concat_results.params:\n",
    "        param_vals[param] = row.concat_results.params[param].value\n",
    "        param_stderrs[param] = row.concat_results.params[param].stderr\n",
    "    param_df.loc[len(param_df)] = [\n",
    "        'phonbank',\n",
    "        row.age_cohort_low,\n",
    "        row.age_cohort_high,\n",
    "        param_vals[\"e_init\"],\n",
    "        param_stderrs[\"e_init\"],\n",
    "        param_vals[\"e_decay_const\"],\n",
    "        param_stderrs[\"e_decay_const\"],\n",
    "        param_vals[\"p_init\"],\n",
    "        param_stderrs[\"p_init\"],\n",
    "        param_vals[\"p_decay_const\"],\n",
    "        param_stderrs[\"p_decay_const\"],\n",
    "        param_vals[\"intercept\"],\n",
    "        param_stderrs[\"intercept\"],\n",
    "\n",
    "    ]"
   ]
  },
  {
   "cell_type": "code",
   "execution_count": 14,
   "metadata": {
    "ExecuteTime": {
     "end_time": "2021-07-08T20:26:23.708554Z",
     "start_time": "2021-07-08T20:26:23.680636Z"
    }
   },
   "outputs": [
    {
     "data": {
      "text/html": [
       "<div>\n",
       "<style scoped>\n",
       "    .dataframe tbody tr th:only-of-type {\n",
       "        vertical-align: middle;\n",
       "    }\n",
       "\n",
       "    .dataframe tbody tr th {\n",
       "        vertical-align: top;\n",
       "    }\n",
       "\n",
       "    .dataframe thead th {\n",
       "        text-align: right;\n",
       "    }\n",
       "</style>\n",
       "<table border=\"1\" class=\"dataframe\">\n",
       "  <thead>\n",
       "    <tr style=\"text-align: right;\">\n",
       "      <th></th>\n",
       "      <th>dataset</th>\n",
       "      <th>age_low</th>\n",
       "      <th>age_high</th>\n",
       "      <th>a_value</th>\n",
       "      <th>a_stderr</th>\n",
       "      <th>b_value</th>\n",
       "      <th>b_stderr</th>\n",
       "      <th>c_value</th>\n",
       "      <th>c_stderr</th>\n",
       "      <th>d_value</th>\n",
       "      <th>d_stderr</th>\n",
       "      <th>f_value</th>\n",
       "      <th>f_stderr</th>\n",
       "    </tr>\n",
       "  </thead>\n",
       "  <tbody>\n",
       "    <tr>\n",
       "      <th>0</th>\n",
       "      <td>phonbank</td>\n",
       "      <td>3</td>\n",
       "      <td>20</td>\n",
       "      <td>1.031225</td>\n",
       "      <td>None</td>\n",
       "      <td>0.961794</td>\n",
       "      <td>None</td>\n",
       "      <td>0.297650</td>\n",
       "      <td>None</td>\n",
       "      <td>-1.397936</td>\n",
       "      <td>None</td>\n",
       "      <td>0.001360</td>\n",
       "      <td>None</td>\n",
       "    </tr>\n",
       "    <tr>\n",
       "      <th>1</th>\n",
       "      <td>phonbank</td>\n",
       "      <td>2.5</td>\n",
       "      <td>3</td>\n",
       "      <td>0.706422</td>\n",
       "      <td>0.147616</td>\n",
       "      <td>0.821490</td>\n",
       "      <td>0.070292</td>\n",
       "      <td>0.348414</td>\n",
       "      <td>0.05902</td>\n",
       "      <td>-1.310050</td>\n",
       "      <td>0.058065</td>\n",
       "      <td>0.003264</td>\n",
       "      <td>0.000054</td>\n",
       "    </tr>\n",
       "    <tr>\n",
       "      <th>2</th>\n",
       "      <td>phonbank</td>\n",
       "      <td>2</td>\n",
       "      <td>2.5</td>\n",
       "      <td>0.325830</td>\n",
       "      <td>0.094821</td>\n",
       "      <td>0.616843</td>\n",
       "      <td>0.060002</td>\n",
       "      <td>0.503827</td>\n",
       "      <td>0.04898</td>\n",
       "      <td>-1.434785</td>\n",
       "      <td>0.037238</td>\n",
       "      <td>0.006385</td>\n",
       "      <td>0.00006</td>\n",
       "    </tr>\n",
       "    <tr>\n",
       "      <th>3</th>\n",
       "      <td>phonbank</td>\n",
       "      <td>1.5</td>\n",
       "      <td>2</td>\n",
       "      <td>0.330310</td>\n",
       "      <td>0.058564</td>\n",
       "      <td>0.558299</td>\n",
       "      <td>0.035223</td>\n",
       "      <td>0.460063</td>\n",
       "      <td>0.031672</td>\n",
       "      <td>-1.242988</td>\n",
       "      <td>0.027811</td>\n",
       "      <td>0.014043</td>\n",
       "      <td>0.000124</td>\n",
       "    </tr>\n",
       "    <tr>\n",
       "      <th>4</th>\n",
       "      <td>phonbank</td>\n",
       "      <td>1</td>\n",
       "      <td>1.5</td>\n",
       "      <td>0.351947</td>\n",
       "      <td>0.073527</td>\n",
       "      <td>0.597750</td>\n",
       "      <td>0.040794</td>\n",
       "      <td>0.311452</td>\n",
       "      <td>0.037637</td>\n",
       "      <td>-1.086173</td>\n",
       "      <td>0.050838</td>\n",
       "      <td>0.017666</td>\n",
       "      <td>0.000315</td>\n",
       "    </tr>\n",
       "    <tr>\n",
       "      <th>5</th>\n",
       "      <td>phonbank</td>\n",
       "      <td>0.5</td>\n",
       "      <td>1</td>\n",
       "      <td>0.364677</td>\n",
       "      <td>0.093064</td>\n",
       "      <td>0.516317</td>\n",
       "      <td>0.050656</td>\n",
       "      <td>0.301707</td>\n",
       "      <td>0.051679</td>\n",
       "      <td>-1.153525</td>\n",
       "      <td>0.074775</td>\n",
       "      <td>0.022128</td>\n",
       "      <td>0.000411</td>\n",
       "    </tr>\n",
       "  </tbody>\n",
       "</table>\n",
       "</div>"
      ],
      "text/plain": [
       "    dataset age_low age_high   a_value  a_stderr   b_value  b_stderr  \\\n",
       "0  phonbank       3       20  1.031225      None  0.961794      None   \n",
       "1  phonbank     2.5        3  0.706422  0.147616  0.821490  0.070292   \n",
       "2  phonbank       2      2.5  0.325830  0.094821  0.616843  0.060002   \n",
       "3  phonbank     1.5        2  0.330310  0.058564  0.558299  0.035223   \n",
       "4  phonbank       1      1.5  0.351947  0.073527  0.597750  0.040794   \n",
       "5  phonbank     0.5        1  0.364677  0.093064  0.516317  0.050656   \n",
       "\n",
       "    c_value  c_stderr   d_value  d_stderr   f_value  f_stderr  \n",
       "0  0.297650      None -1.397936      None  0.001360      None  \n",
       "1  0.348414   0.05902 -1.310050  0.058065  0.003264  0.000054  \n",
       "2  0.503827   0.04898 -1.434785  0.037238  0.006385   0.00006  \n",
       "3  0.460063  0.031672 -1.242988  0.027811  0.014043  0.000124  \n",
       "4  0.311452  0.037637 -1.086173  0.050838  0.017666  0.000315  \n",
       "5  0.301707  0.051679 -1.153525  0.074775  0.022128  0.000411  "
      ]
     },
     "execution_count": 14,
     "metadata": {},
     "output_type": "execute_result"
    }
   ],
   "source": [
    "param_df"
   ]
  },
  {
   "cell_type": "code",
   "execution_count": 15,
   "metadata": {
    "ExecuteTime": {
     "end_time": "2021-07-08T20:26:32.195643Z",
     "start_time": "2021-07-08T20:26:32.176987Z"
    }
   },
   "outputs": [],
   "source": [
    "ensure_dir(DATA_DIR / 'param_dfs')\n",
    "param_df.to_pickle(DATA_DIR / 'param_dfs' / 'phonbank_french.pickle')"
   ]
  },
  {
   "cell_type": "code",
   "execution_count": null,
   "metadata": {},
   "outputs": [],
   "source": []
  },
  {
   "cell_type": "code",
   "execution_count": null,
   "metadata": {},
   "outputs": [],
   "source": []
  },
  {
   "cell_type": "code",
   "execution_count": null,
   "metadata": {},
   "outputs": [],
   "source": []
  }
 ],
 "metadata": {
  "kernelspec": {
   "display_name": "childes-paper",
   "language": "python",
   "name": "childes-paper"
  },
  "language_info": {
   "codemirror_mode": {
    "name": "ipython",
    "version": 3
   },
   "file_extension": ".py",
   "mimetype": "text/x-python",
   "name": "python",
   "nbconvert_exporter": "python",
   "pygments_lexer": "ipython3",
   "version": "3.7.10"
  }
 },
 "nbformat": 4,
 "nbformat_minor": 2
}
