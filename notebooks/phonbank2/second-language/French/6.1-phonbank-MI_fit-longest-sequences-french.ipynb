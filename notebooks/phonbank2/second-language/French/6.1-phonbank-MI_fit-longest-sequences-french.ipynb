{
 "cells": [
  {
   "cell_type": "code",
   "execution_count": 1,
   "metadata": {
    "ExecuteTime": {
     "end_time": "2021-07-08T20:52:11.628022Z",
     "start_time": "2021-07-08T20:52:11.607211Z"
    }
   },
   "outputs": [],
   "source": [
    "%load_ext autoreload\n",
    "%autoreload 2"
   ]
  },
  {
   "cell_type": "code",
   "execution_count": 2,
   "metadata": {
    "ExecuteTime": {
     "end_time": "2021-07-08T20:52:11.764895Z",
     "start_time": "2021-07-08T20:52:11.740580Z"
    }
   },
   "outputs": [],
   "source": [
    "from childes_mi.utils.paths import DATA_DIR, FIGURE_DIR, ensure_dir\n",
    "from childes_mi.utils.general import flatten,save_fig"
   ]
  },
  {
   "cell_type": "code",
   "execution_count": 3,
   "metadata": {
    "ExecuteTime": {
     "end_time": "2021-07-08T20:52:11.890332Z",
     "start_time": "2021-07-08T20:52:11.870468Z"
    }
   },
   "outputs": [],
   "source": [
    "from childes_mi.information_theory import model_fitting as mf"
   ]
  },
  {
   "cell_type": "code",
   "execution_count": 4,
   "metadata": {
    "ExecuteTime": {
     "end_time": "2021-07-08T20:52:12.023638Z",
     "start_time": "2021-07-08T20:52:12.003235Z"
    }
   },
   "outputs": [
    {
     "name": "stderr",
     "output_type": "stream",
     "text": [
      "/home/AD/tsainbur/anaconda3/envs/childes-paper/lib/python3.7/site-packages/ipykernel_launcher.py:4: TqdmExperimentalWarning: Using `tqdm.autonotebook.tqdm` in notebook mode. Use `tqdm.tqdm` instead to force console mode (e.g. in jupyter console)\n",
      "  after removing the cwd from sys.path.\n"
     ]
    }
   ],
   "source": [
    "import pandas as pd\n",
    "import numpy as np\n",
    "import matplotlib.pyplot as plt\n",
    "from tqdm.autonotebook import tqdm"
   ]
  },
  {
   "cell_type": "code",
   "execution_count": 5,
   "metadata": {
    "ExecuteTime": {
     "end_time": "2021-07-08T20:53:43.559087Z",
     "start_time": "2021-07-08T20:53:43.419684Z"
    }
   },
   "outputs": [
    {
     "name": "stdout",
     "output_type": "stream",
     "text": [
      "/mnt/cube/tsainbur/Projects/github_repos/LRSO_paper_rev/LongRangeSequentialOrgPaper/data/mi/phonbank_longest_seqs-french.pickle\r\n"
     ]
    }
   ],
   "source": [
    "!ls /mnt/cube/tsainbur/Projects/github_repos/LRSO_paper_rev/LongRangeSequentialOrgPaper/data/mi/phonbank_longest_seqs-french.pickle"
   ]
  },
  {
   "cell_type": "code",
   "execution_count": 6,
   "metadata": {
    "ExecuteTime": {
     "end_time": "2021-07-08T20:53:49.766551Z",
     "start_time": "2021-07-08T20:53:49.720876Z"
    }
   },
   "outputs": [],
   "source": [
    "MI_DF = pd.read_pickle(\"/mnt/cube/tsainbur/Projects/github_repos/LRSO_paper_rev/LongRangeSequentialOrgPaper/data/mi/phonbank_longest_seqs-french.pickle\")"
   ]
  },
  {
   "cell_type": "code",
   "execution_count": 7,
   "metadata": {
    "ExecuteTime": {
     "end_time": "2021-07-08T20:52:12.362914Z",
     "start_time": "2021-07-08T20:52:12.293388Z"
    }
   },
   "outputs": [
    {
     "data": {
      "text/html": [
       "<div>\n",
       "<style scoped>\n",
       "    .dataframe tbody tr th:only-of-type {\n",
       "        vertical-align: middle;\n",
       "    }\n",
       "\n",
       "    .dataframe tbody tr th {\n",
       "        vertical-align: top;\n",
       "    }\n",
       "\n",
       "    .dataframe thead th {\n",
       "        text-align: right;\n",
       "    }\n",
       "</style>\n",
       "<table border=\"1\" class=\"dataframe\">\n",
       "  <thead>\n",
       "    <tr style=\"text-align: right;\">\n",
       "      <th></th>\n",
       "      <th>MI</th>\n",
       "      <th>MI_var</th>\n",
       "      <th>shuff_MI</th>\n",
       "      <th>shuff_MI_var</th>\n",
       "      <th>distances</th>\n",
       "      <th>age_cohort_low</th>\n",
       "      <th>age_cohort_high</th>\n",
       "      <th>n_phones</th>\n",
       "      <th>n_unique_phones</th>\n",
       "      <th>age</th>\n",
       "      <th>dataset</th>\n",
       "      <th>xml_loc</th>\n",
       "      <th>n_phones</th>\n",
       "      <th>phones_list</th>\n",
       "    </tr>\n",
       "  </thead>\n",
       "  <tbody>\n",
       "    <tr>\n",
       "      <th>0</th>\n",
       "      <td>[4.220272462086125, 3.827182912393157, 3.65988...</td>\n",
       "      <td>[0.03966478656415546, 0.03863028781460936, 0.0...</td>\n",
       "      <td>[3.5478525638018503, 3.549876481214623, 3.5626...</td>\n",
       "      <td>[0.038492261314211185, 0.03839394643764451, 0....</td>\n",
       "      <td>[1, 2, 3, 4, 5, 6, 7, 8, 9, 10, 11, 12, 13, 14...</td>\n",
       "      <td>0.5</td>\n",
       "      <td>1</td>\n",
       "      <td>2607</td>\n",
       "      <td>1</td>\n",
       "      <td>1.00</td>\n",
       "      <td>Lyon</td>\n",
       "      <td>/mnt/cube/tsainbur/Projects/github_repos/child...</td>\n",
       "      <td>949</td>\n",
       "      <td>mmliːʀmwibʀʀʀɡiliɡiliɡiltyliːepɔʀteːzøvøʒvødã...</td>\n",
       "    </tr>\n",
       "    <tr>\n",
       "      <th>1</th>\n",
       "      <td>[4.003031163827437, 3.9261375225418274, 3.6549...</td>\n",
       "      <td>[0.06548629734066684, 0.06372777471464103, 0.0...</td>\n",
       "      <td>[3.416818373426647, 3.413034965699241, 3.42533...</td>\n",
       "      <td>[0.06352383582895753, 0.06343581412051416, 0.0...</td>\n",
       "      <td>[1, 2, 3, 4, 5, 6, 7, 8, 9, 10, 11, 12, 13, 14...</td>\n",
       "      <td>0.5</td>\n",
       "      <td>1</td>\n",
       "      <td>1858</td>\n",
       "      <td>1</td>\n",
       "      <td>1.00</td>\n",
       "      <td>Paris</td>\n",
       "      <td>/mnt/cube/tsainbur/Projects/github_repos/child...</td>\n",
       "      <td>789</td>\n",
       "      <td>eːbɛvœgagatœ̃kakadœjøkɛkamtakadɛkagøgegakagagɛ...</td>\n",
       "    </tr>\n",
       "    <tr>\n",
       "      <th>2</th>\n",
       "      <td>[4.123307160457033, 3.802053605125085, 3.66670...</td>\n",
       "      <td>[0.05585662525034512, 0.054689141875846704, 0....</td>\n",
       "      <td>[3.541364106943293, 3.5215856948513924, 3.5299...</td>\n",
       "      <td>[0.05445856150651234, 0.0542388669284434, 0.05...</td>\n",
       "      <td>[1, 2, 3, 4, 5, 6, 7, 8, 9, 10, 11, 12, 13, 14...</td>\n",
       "      <td>0.5</td>\n",
       "      <td>1</td>\n",
       "      <td>2405</td>\n",
       "      <td>1</td>\n",
       "      <td>0.75</td>\n",
       "      <td>KernFrench</td>\n",
       "      <td>/mnt/cube/tsainbur/Projects/github_repos/child...</td>\n",
       "      <td>690</td>\n",
       "      <td>VVVVVnaVVVʙʙʙʙʙʙʙʙʙaːVbəaɟajaVblɛtCCCCCbaabaga...</td>\n",
       "    </tr>\n",
       "  </tbody>\n",
       "</table>\n",
       "</div>"
      ],
      "text/plain": [
       "                                                  MI  \\\n",
       "0  [4.220272462086125, 3.827182912393157, 3.65988...   \n",
       "1  [4.003031163827437, 3.9261375225418274, 3.6549...   \n",
       "2  [4.123307160457033, 3.802053605125085, 3.66670...   \n",
       "\n",
       "                                              MI_var  \\\n",
       "0  [0.03966478656415546, 0.03863028781460936, 0.0...   \n",
       "1  [0.06548629734066684, 0.06372777471464103, 0.0...   \n",
       "2  [0.05585662525034512, 0.054689141875846704, 0....   \n",
       "\n",
       "                                            shuff_MI  \\\n",
       "0  [3.5478525638018503, 3.549876481214623, 3.5626...   \n",
       "1  [3.416818373426647, 3.413034965699241, 3.42533...   \n",
       "2  [3.541364106943293, 3.5215856948513924, 3.5299...   \n",
       "\n",
       "                                        shuff_MI_var  \\\n",
       "0  [0.038492261314211185, 0.03839394643764451, 0....   \n",
       "1  [0.06352383582895753, 0.06343581412051416, 0.0...   \n",
       "2  [0.05445856150651234, 0.0542388669284434, 0.05...   \n",
       "\n",
       "                                           distances  age_cohort_low  \\\n",
       "0  [1, 2, 3, 4, 5, 6, 7, 8, 9, 10, 11, 12, 13, 14...             0.5   \n",
       "1  [1, 2, 3, 4, 5, 6, 7, 8, 9, 10, 11, 12, 13, 14...             0.5   \n",
       "2  [1, 2, 3, 4, 5, 6, 7, 8, 9, 10, 11, 12, 13, 14...             0.5   \n",
       "\n",
       "  age_cohort_high n_phones n_unique_phones   age     dataset  \\\n",
       "0               1     2607               1  1.00        Lyon   \n",
       "1               1     1858               1  1.00       Paris   \n",
       "2               1     2405               1  0.75  KernFrench   \n",
       "\n",
       "                                             xml_loc n_phones  \\\n",
       "0  /mnt/cube/tsainbur/Projects/github_repos/child...      949   \n",
       "1  /mnt/cube/tsainbur/Projects/github_repos/child...      789   \n",
       "2  /mnt/cube/tsainbur/Projects/github_repos/child...      690   \n",
       "\n",
       "                                         phones_list  \n",
       "0  mmliːʀmwibʀʀʀɡiliɡiliɡiltyliːepɔʀteːzøvøʒvødã...  \n",
       "1  eːbɛvœgagatœ̃kakadœjøkɛkamtakadɛkagøgegakagagɛ...  \n",
       "2  VVVVVnaVVVʙʙʙʙʙʙʙʙʙaːVbəaɟajaVblɛtCCCCCbaabaga...  "
      ]
     },
     "execution_count": 7,
     "metadata": {},
     "output_type": "execute_result"
    }
   ],
   "source": [
    "MI_DF[:3]"
   ]
  },
  {
   "cell_type": "code",
   "execution_count": 8,
   "metadata": {},
   "outputs": [
    {
     "data": {
      "text/plain": [
       "array([0.5, 1. , 1.5, 2. , 2.5, 3. ])"
      ]
     },
     "execution_count": 8,
     "metadata": {},
     "output_type": "execute_result"
    }
   ],
   "source": [
    "MI_DF.age_cohort_low.unique()"
   ]
  },
  {
   "cell_type": "code",
   "execution_count": 9,
   "metadata": {
    "ExecuteTime": {
     "end_time": "2020-01-09T00:44:55.896839Z",
     "start_time": "2020-01-09T00:44:54.553706Z"
    }
   },
   "outputs": [],
   "source": [
    "age_cohorts = [[0.5, 1],[1, 1.5], [1.5, 2], [2, 2.5], [2.5, 3], [3, 20]]"
   ]
  },
  {
   "cell_type": "code",
   "execution_count": 10,
   "metadata": {
    "ExecuteTime": {
     "end_time": "2020-01-09T00:45:02.546408Z",
     "start_time": "2020-01-09T00:45:02.474861Z"
    }
   },
   "outputs": [],
   "source": [
    "MI_DF_list = []\n",
    "for [ac_low, ac_high] in age_cohorts:\n",
    "    MI_DF_list.append(MI_DF[MI_DF.age_cohort_low == ac_low][:10])\n",
    "MI_DF = pd.concat(MI_DF_list)"
   ]
  },
  {
   "cell_type": "code",
   "execution_count": 11,
   "metadata": {
    "ExecuteTime": {
     "end_time": "2020-01-09T00:45:03.051581Z",
     "start_time": "2020-01-09T00:45:03.006384Z"
    }
   },
   "outputs": [
    {
     "data": {
      "text/plain": [
       "28"
      ]
     },
     "execution_count": 11,
     "metadata": {},
     "output_type": "execute_result"
    }
   ],
   "source": [
    "len(MI_DF)"
   ]
  },
  {
   "cell_type": "code",
   "execution_count": 12,
   "metadata": {
    "ExecuteTime": {
     "end_time": "2020-01-09T00:45:04.839816Z",
     "start_time": "2020-01-09T00:45:04.793231Z"
    }
   },
   "outputs": [],
   "source": [
    "MI_DF = MI_DF.assign(**{i:np.nan for i in ['exp_results', 'pow_results', 'concat_results',\n",
    "     'R2_exp', 'R2_concat', 'R2_power', 'AICc_exp',\n",
    "     'AICc_concat', 'AICc_power', 'bestfitmodel', 'curvature', 'min_peak']})\n",
    "MI_DF['curvature'] = MI_DF['curvature'].astype(object)"
   ]
  },
  {
   "cell_type": "code",
   "execution_count": 13,
   "metadata": {
    "ExecuteTime": {
     "end_time": "2020-01-09T00:45:28.083352Z",
     "start_time": "2020-01-09T00:45:04.972047Z"
    },
    "scrolled": true
   },
   "outputs": [
    {
     "data": {
      "application/vnd.jupyter.widget-view+json": {
       "model_id": "883eefdac09047c98ef22b6c180a2184",
       "version_major": 2,
       "version_minor": 0
      },
      "text/plain": [
       "  0%|          | 0/28 [00:00<?, ?it/s]"
      ]
     },
     "metadata": {},
     "output_type": "display_data"
    },
    {
     "name": "stderr",
     "output_type": "stream",
     "text": [
      "/mnt/cube/tsainbur/Projects/github_repos/LRSO_paper_rev/LongRangeSequentialOrgPaper/childes_mi/information_theory/model_fitting.py:8: RuntimeWarning: invalid value encountered in log\n",
      "  return np.abs(np.log(y_true) - np.log(y_model)) * (1 / (np.log(1 + x)))\n",
      "/home/AD/tsainbur/anaconda3/envs/childes-paper/lib/python3.7/site-packages/numpy/core/fromnumeric.py:3162: VisibleDeprecationWarning: Creating an ndarray from ragged nested sequences (which is a list-or-tuple of lists-or-tuples-or ndarrays with different lengths or shapes) is deprecated. If you meant to do this, you must specify 'dtype=object' when creating the ndarray.\n",
      "  return asarray(a).ndim\n"
     ]
    }
   ],
   "source": [
    "n = 100 # max distance for computation\n",
    "for idx, row in tqdm(MI_DF.iterrows(), total=len(MI_DF)):\n",
    "    # get signal\n",
    "    sig = np.array(row.MI-row.shuff_MI)\n",
    "    distances = row.distances\n",
    "    sig = sig\n",
    "    \n",
    "    dist_mask = distances < 100\n",
    "    distances = distances[dist_mask]\n",
    "    sig = sig[dist_mask]\n",
    "    \n",
    "    # fit models\n",
    "    results_power, results_exp, results_pow_exp, best_fit_model = mf.fit_models(distances, sig)\n",
    "    \n",
    "    # get fit results\n",
    "    R2_exp, R2_concat, R2_power, AICc_exp, \\\n",
    "        AICc_pow, AICc_concat = mf.fit_results(sig, distances, \n",
    "                                              results_exp, results_power,\n",
    "                                              results_pow_exp)\n",
    "    \n",
    "    \n",
    "    # get model y\n",
    "    distances_mod = np.logspace(0,np.log10(n), base=10, num=1000)\n",
    "    if best_fit_model == 'pow_exp':\n",
    "        y_model = mf.get_y(mf.pow_exp_decay, results_pow_exp, distances_mod)\n",
    "    elif best_fit_model == 'exp':\n",
    "        y_model = mf.get_y(mf.exp_decay, results_exp, distances_mod)\n",
    "    elif best_fit_model == 'pow':\n",
    "        y_model = mf.get_y(mf.powerlaw_decay, results_power, distances_mod)\n",
    "    \n",
    "    # get curvature of model_y\n",
    "    curvature_model = mf.curvature(np.log(y_model))\n",
    "    \n",
    "    # if the best fit model is pow_exp, then grab the min peak\n",
    "    if best_fit_model == 'pow_exp':\n",
    "        # get peaks of curvature\n",
    "        peaks = np.where((\n",
    "            (curvature_model[:-1] < curvature_model[1:])[1:] & (curvature_model[1:] < curvature_model[:-1])[:-1]\n",
    "        ))\n",
    "        min_peak = peaks[0][0]\n",
    "    else:\n",
    "        min_peak = np.nan\n",
    "    \n",
    "    \n",
    "    # get save model fit results to MI_DF\n",
    "    MI_DF.loc[idx, np.array(['exp_results', 'pow_results', 'concat_results',\n",
    "                         'R2_exp', 'R2_concat', 'R2_power', 'AICc_exp',\n",
    "                         'AICc_concat', 'AICc_power', 'bestfitmodel', 'curvature', 'min_peak'])] = [\n",
    "        results_exp, results_power, results_pow_exp,\n",
    "        R2_exp, R2_concat, R2_power, AICc_exp,\n",
    "        AICc_concat, AICc_pow, best_fit_model,\n",
    "        curvature_model, min_peak\n",
    "    ]"
   ]
  },
  {
   "cell_type": "code",
   "execution_count": 14,
   "metadata": {},
   "outputs": [],
   "source": [
    "MI_DF.to_pickle(DATA_DIR / \"mi\" / \"phonbank_longest_seqs-french-fitted.pickle\")"
   ]
  }
 ],
 "metadata": {
  "kernelspec": {
   "display_name": "childes-paper",
   "language": "python",
   "name": "childes-paper"
  },
  "language_info": {
   "codemirror_mode": {
    "name": "ipython",
    "version": 3
   },
   "file_extension": ".py",
   "mimetype": "text/x-python",
   "name": "python",
   "nbconvert_exporter": "python",
   "pygments_lexer": "ipython3",
   "version": "3.7.10"
  }
 },
 "nbformat": 4,
 "nbformat_minor": 2
}
