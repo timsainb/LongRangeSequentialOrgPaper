{
 "cells": [
  {
   "cell_type": "code",
   "execution_count": 1,
   "metadata": {
    "ExecuteTime": {
     "end_time": "2021-07-08T20:56:15.414791Z",
     "start_time": "2021-07-08T20:56:15.400069Z"
    }
   },
   "outputs": [],
   "source": [
    "%load_ext autoreload\n",
    "%autoreload 2"
   ]
  },
  {
   "cell_type": "code",
   "execution_count": 2,
   "metadata": {
    "ExecuteTime": {
     "end_time": "2021-07-08T20:56:15.893930Z",
     "start_time": "2021-07-08T20:56:15.554034Z"
    }
   },
   "outputs": [],
   "source": [
    "from childes_mi.utils.paths import PHONBANK_DFS\n",
    "from childes_mi.utils.general import flatten"
   ]
  },
  {
   "cell_type": "code",
   "execution_count": 3,
   "metadata": {
    "ExecuteTime": {
     "end_time": "2021-07-08T20:56:16.059487Z",
     "start_time": "2021-07-08T20:56:15.895907Z"
    }
   },
   "outputs": [
    {
     "name": "stderr",
     "output_type": "stream",
     "text": [
      "/home/AD/tsainbur/anaconda3/lib/python3.7/site-packages/tqdm/autonotebook.py:17: TqdmExperimentalWarning: Using `tqdm.autonotebook.tqdm` in notebook mode. Use `tqdm.tqdm` instead to force console mode (e.g. in jupyter console)\n",
      "  \" (e.g. in jupyter console)\", TqdmExperimentalWarning)\n"
     ]
    }
   ],
   "source": [
    "import pandas as pd\n",
    "import numpy as np\n",
    "import matplotlib.pyplot as plt\n",
    "from tqdm.autonotebook import tqdm"
   ]
  },
  {
   "cell_type": "code",
   "execution_count": 4,
   "metadata": {
    "ExecuteTime": {
     "end_time": "2021-07-08T20:56:16.323878Z",
     "start_time": "2021-07-08T20:56:16.061526Z"
    }
   },
   "outputs": [
    {
     "data": {
      "text/html": [
       "<div>\n",
       "<style scoped>\n",
       "    .dataframe tbody tr th:only-of-type {\n",
       "        vertical-align: middle;\n",
       "    }\n",
       "\n",
       "    .dataframe tbody tr th {\n",
       "        vertical-align: top;\n",
       "    }\n",
       "\n",
       "    .dataframe thead th {\n",
       "        text-align: right;\n",
       "    }\n",
       "</style>\n",
       "<table border=\"1\" class=\"dataframe\">\n",
       "  <thead>\n",
       "    <tr style=\"text-align: right;\">\n",
       "      <th></th>\n",
       "      <th>transcript_id</th>\n",
       "      <th>transcript_root_name</th>\n",
       "      <th>corpus</th>\n",
       "      <th>version</th>\n",
       "      <th>date</th>\n",
       "      <th>language</th>\n",
       "      <th>media</th>\n",
       "      <th>xml_loc</th>\n",
       "      <th>dataset</th>\n",
       "    </tr>\n",
       "  </thead>\n",
       "  <tbody>\n",
       "    <tr>\n",
       "      <th>0</th>\n",
       "      <td>2M-AA</td>\n",
       "      <td>corpora_Spanish_Vivar_Santiago_2M-AA</td>\n",
       "      <td>Santiago</td>\n",
       "      <td>PB1.2</td>\n",
       "      <td>2016-11-06</td>\n",
       "      <td>spa</td>\n",
       "      <td>Vivar/Santiago/2M-AA.wav</td>\n",
       "      <td>/mnt/cube/tsainbur/Projects/github_repos/child...</td>\n",
       "      <td>Vivar</td>\n",
       "    </tr>\n",
       "    <tr>\n",
       "      <th>0</th>\n",
       "      <td>4M-MB</td>\n",
       "      <td>corpora_Spanish_Vivar_Santiago_4M-MB</td>\n",
       "      <td>Santiago</td>\n",
       "      <td>PB1.2</td>\n",
       "      <td>2016-11-20</td>\n",
       "      <td>spa</td>\n",
       "      <td>Vivar/Santiago/4M-MB.wav</td>\n",
       "      <td>/mnt/cube/tsainbur/Projects/github_repos/child...</td>\n",
       "      <td>Vivar</td>\n",
       "    </tr>\n",
       "    <tr>\n",
       "      <th>0</th>\n",
       "      <td>2A-IB</td>\n",
       "      <td>corpora_Spanish_Vivar_Santiago_2A-IB</td>\n",
       "      <td>Santiago</td>\n",
       "      <td>PB1.2</td>\n",
       "      <td>2016-11-08</td>\n",
       "      <td>spa</td>\n",
       "      <td>Vivar/Santiago/2A-IB.wav</td>\n",
       "      <td>/mnt/cube/tsainbur/Projects/github_repos/child...</td>\n",
       "      <td>Vivar</td>\n",
       "    </tr>\n",
       "  </tbody>\n",
       "</table>\n",
       "</div>"
      ],
      "text/plain": [
       "  transcript_id                  transcript_root_name    corpus version  \\\n",
       "0         2M-AA  corpora_Spanish_Vivar_Santiago_2M-AA  Santiago   PB1.2   \n",
       "0         4M-MB  corpora_Spanish_Vivar_Santiago_4M-MB  Santiago   PB1.2   \n",
       "0         2A-IB  corpora_Spanish_Vivar_Santiago_2A-IB  Santiago   PB1.2   \n",
       "\n",
       "         date language                     media  \\\n",
       "0  2016-11-06      spa  Vivar/Santiago/2M-AA.wav   \n",
       "0  2016-11-20      spa  Vivar/Santiago/4M-MB.wav   \n",
       "0  2016-11-08      spa  Vivar/Santiago/2A-IB.wav   \n",
       "\n",
       "                                             xml_loc dataset  \n",
       "0  /mnt/cube/tsainbur/Projects/github_repos/child...   Vivar  \n",
       "0  /mnt/cube/tsainbur/Projects/github_repos/child...   Vivar  \n",
       "0  /mnt/cube/tsainbur/Projects/github_repos/child...   Vivar  "
      ]
     },
     "execution_count": 4,
     "metadata": {},
     "output_type": "execute_result"
    }
   ],
   "source": [
    "transcript_df = pd.read_pickle(PHONBANK_DFS/'transcript_df.pickle')\n",
    "transcript_df['dataset'] = [i.split('_')[2] for i in transcript_df.transcript_root_name.values]\n",
    "transcript_df[:3]"
   ]
  },
  {
   "cell_type": "code",
   "execution_count": 5,
   "metadata": {
    "ExecuteTime": {
     "end_time": "2021-07-08T20:56:16.340902Z",
     "start_time": "2021-07-08T20:56:16.325647Z"
    }
   },
   "outputs": [
    {
     "data": {
      "text/plain": [
       "array(['Vivar', 'LlinasOjea', 'Koine', 'Tsay', 'StanfordFrench',\n",
       "       'GoadRose', 'Lyon', 'Hunkeler', 'KernFrench', 'Yamaguchi', 'Paris',\n",
       "       'Smith', 'Almeida', 'PraisleyRose', 'FallsChurch', 'Scheidnes',\n",
       "       'VYSA', 'KernRomanian', 'Freitas', 'CCF', 'EstevePrieto',\n",
       "       'Lahrouchi', 'Kuwaiti copy', 'Kuwaiti', 'KernArabic',\n",
       "       'Kuwaiti copy 2', 'CCLAS', 'Gildersleeve', 'WeistJarosz', 'TAKI',\n",
       "       'Stuttgart', 'Grimm', 'CLPF', 'Zink', 'Utrecht', 'Cummings',\n",
       "       'TorringtonEaton', 'Chiat', 'Preston', 'McAllisterByun',\n",
       "       'Bernhardt', 'Granada', 'StanfordSwedish', 'Lacerda', 'Garmann',\n",
       "       'ComptonPater', 'Davis-CDI', 'Davis', 'StanfordEnglish', 'Goad',\n",
       "       'Providence', 'Penney', 'Inkelas', 'Ota', 'StanfordJapanese'],\n",
       "      dtype=object)"
      ]
     },
     "execution_count": 5,
     "metadata": {},
     "output_type": "execute_result"
    }
   ],
   "source": [
    "transcript_df.dataset.unique()"
   ]
  },
  {
   "cell_type": "code",
   "execution_count": 6,
   "metadata": {
    "ExecuteTime": {
     "end_time": "2021-07-08T20:56:16.352952Z",
     "start_time": "2021-07-08T20:56:16.342224Z"
    }
   },
   "outputs": [],
   "source": [
    "datasets_to_use = ['Yamaguchi',\n",
    "                   'GoadRose',\n",
    "                   \"Hunkeler\",\n",
    "                   'KernFrench',\n",
    "                   'Lyon',\n",
    "                   'Paris',\n",
    "                   'StanfordFrench'\n",
    "                   \n",
    "              ] "
   ]
  },
  {
   "cell_type": "code",
   "execution_count": 7,
   "metadata": {
    "ExecuteTime": {
     "end_time": "2021-07-08T20:56:16.366896Z",
     "start_time": "2021-07-08T20:56:16.354270Z"
    }
   },
   "outputs": [],
   "source": [
    "dataset_mask = np.array([i in datasets_to_use for i in transcript_df.dataset.values])\n",
    "transcript_df = transcript_df[dataset_mask]"
   ]
  },
  {
   "cell_type": "code",
   "execution_count": 8,
   "metadata": {
    "ExecuteTime": {
     "end_time": "2021-07-08T20:56:16.381009Z",
     "start_time": "2021-07-08T20:56:16.368302Z"
    }
   },
   "outputs": [],
   "source": [
    "transcript_df = transcript_df[transcript_df.language == 'fra']"
   ]
  },
  {
   "cell_type": "code",
   "execution_count": 9,
   "metadata": {
    "ExecuteTime": {
     "end_time": "2021-07-08T20:56:16.530255Z",
     "start_time": "2021-07-08T20:56:16.516344Z"
    }
   },
   "outputs": [
    {
     "data": {
      "text/plain": [
       "803"
      ]
     },
     "execution_count": 9,
     "metadata": {},
     "output_type": "execute_result"
    }
   ],
   "source": [
    "len(transcript_df)"
   ]
  },
  {
   "cell_type": "code",
   "execution_count": 10,
   "metadata": {
    "ExecuteTime": {
     "end_time": "2021-07-08T20:56:17.066967Z",
     "start_time": "2021-07-08T20:56:16.659872Z"
    }
   },
   "outputs": [
    {
     "data": {
      "text/plain": [
       "([PosixPath('/mnt/cube/tsainbur/Projects/github_repos/LRSO_paper_rev/LongRangeSequentialOrgPaper/data/processed/phonbank/participants/corpora_German_Stuttgart_VZ_VZ6052.pickle'),\n",
       "  PosixPath('/mnt/cube/tsainbur/Projects/github_repos/LRSO_paper_rev/LongRangeSequentialOrgPaper/data/processed/phonbank/participants/corpora_Biling_Scheidnes_NWR-71_SES1-LOT.pickle')],\n",
       " [PosixPath('/mnt/cube/tsainbur/Projects/github_repos/LRSO_paper_rev/LongRangeSequentialOrgPaper/data/processed/phonbank/transcripts/corpora_Biling_Almeida_por_010824p.pickle'),\n",
       "  PosixPath('/mnt/cube/tsainbur/Projects/github_repos/LRSO_paper_rev/LongRangeSequentialOrgPaper/data/processed/phonbank/transcripts/corpora_German_TAKI_RL_RL5043.pickle')])"
      ]
     },
     "execution_count": 10,
     "metadata": {},
     "output_type": "execute_result"
    }
   ],
   "source": [
    "participants = list((PHONBANK_DFS / 'participants').glob('*.pickle'))\n",
    "transcripts = list((PHONBANK_DFS / 'transcripts').glob('*.pickle'))\n",
    "participants[:2], transcripts[:2]"
   ]
  },
  {
   "cell_type": "code",
   "execution_count": 11,
   "metadata": {
    "ExecuteTime": {
     "end_time": "2021-07-08T20:56:17.080879Z",
     "start_time": "2021-07-08T20:56:17.068463Z"
    }
   },
   "outputs": [
    {
     "data": {
      "text/plain": [
       "(6608, 6608)"
      ]
     },
     "execution_count": 11,
     "metadata": {},
     "output_type": "execute_result"
    }
   ],
   "source": [
    "len(transcripts), len(participants)"
   ]
  },
  {
   "cell_type": "code",
   "execution_count": 12,
   "metadata": {
    "ExecuteTime": {
     "end_time": "2021-07-08T20:56:17.114172Z",
     "start_time": "2021-07-08T20:56:17.082109Z"
    }
   },
   "outputs": [
    {
     "data": {
      "text/html": [
       "<div>\n",
       "<style scoped>\n",
       "    .dataframe tbody tr th:only-of-type {\n",
       "        vertical-align: middle;\n",
       "    }\n",
       "\n",
       "    .dataframe tbody tr th {\n",
       "        vertical-align: top;\n",
       "    }\n",
       "\n",
       "    .dataframe thead th {\n",
       "        text-align: right;\n",
       "    }\n",
       "</style>\n",
       "<table border=\"1\" class=\"dataframe\">\n",
       "  <thead>\n",
       "    <tr style=\"text-align: right;\">\n",
       "      <th></th>\n",
       "      <th>transcript_id</th>\n",
       "      <th>transcript_root_name</th>\n",
       "      <th>corpus</th>\n",
       "      <th>version</th>\n",
       "      <th>date</th>\n",
       "      <th>language</th>\n",
       "      <th>media</th>\n",
       "      <th>xml_loc</th>\n",
       "      <th>dataset</th>\n",
       "    </tr>\n",
       "  </thead>\n",
       "  <tbody>\n",
       "    <tr>\n",
       "      <th>0</th>\n",
       "      <td>cha25ii</td>\n",
       "      <td>corpora_French_StanfordFrench_cha_cha25ii</td>\n",
       "      <td>cha</td>\n",
       "      <td>PB1.2</td>\n",
       "      <td>1986-11-22Z</td>\n",
       "      <td>fra</td>\n",
       "      <td>NaN</td>\n",
       "      <td>/mnt/cube/tsainbur/Projects/github_repos/child...</td>\n",
       "      <td>StanfordFrench</td>\n",
       "    </tr>\n",
       "    <tr>\n",
       "      <th>0</th>\n",
       "      <td>cha04ii</td>\n",
       "      <td>corpora_French_StanfordFrench_cha_cha04ii</td>\n",
       "      <td>cha</td>\n",
       "      <td>PB1.2</td>\n",
       "      <td>1986-08-06Z</td>\n",
       "      <td>fra</td>\n",
       "      <td>NaN</td>\n",
       "      <td>/mnt/cube/tsainbur/Projects/github_repos/child...</td>\n",
       "      <td>StanfordFrench</td>\n",
       "    </tr>\n",
       "    <tr>\n",
       "      <th>0</th>\n",
       "      <td>cha15i</td>\n",
       "      <td>corpora_French_StanfordFrench_cha_cha15i</td>\n",
       "      <td>cha</td>\n",
       "      <td>PB1.2</td>\n",
       "      <td>1986-10-11Z</td>\n",
       "      <td>fra</td>\n",
       "      <td>NaN</td>\n",
       "      <td>/mnt/cube/tsainbur/Projects/github_repos/child...</td>\n",
       "      <td>StanfordFrench</td>\n",
       "    </tr>\n",
       "    <tr>\n",
       "      <th>0</th>\n",
       "      <td>cha00</td>\n",
       "      <td>corpora_French_StanfordFrench_cha_cha00</td>\n",
       "      <td>cha</td>\n",
       "      <td>PB1.2</td>\n",
       "      <td>1986-06-12Z</td>\n",
       "      <td>fra</td>\n",
       "      <td>NaN</td>\n",
       "      <td>/mnt/cube/tsainbur/Projects/github_repos/child...</td>\n",
       "      <td>StanfordFrench</td>\n",
       "    </tr>\n",
       "    <tr>\n",
       "      <th>0</th>\n",
       "      <td>cha15ii</td>\n",
       "      <td>corpora_French_StanfordFrench_cha_cha15ii</td>\n",
       "      <td>cha</td>\n",
       "      <td>PB1.2</td>\n",
       "      <td>1986-10-25Z</td>\n",
       "      <td>fra</td>\n",
       "      <td>NaN</td>\n",
       "      <td>/mnt/cube/tsainbur/Projects/github_repos/child...</td>\n",
       "      <td>StanfordFrench</td>\n",
       "    </tr>\n",
       "    <tr>\n",
       "      <th>...</th>\n",
       "      <td>...</td>\n",
       "      <td>...</td>\n",
       "      <td>...</td>\n",
       "      <td>...</td>\n",
       "      <td>...</td>\n",
       "      <td>...</td>\n",
       "      <td>...</td>\n",
       "      <td>...</td>\n",
       "      <td>...</td>\n",
       "    </tr>\n",
       "    <tr>\n",
       "      <th>0</th>\n",
       "      <td>010423</td>\n",
       "      <td>corpora_French_Paris_Julie_010423</td>\n",
       "      <td>Julie</td>\n",
       "      <td>PB1.2</td>\n",
       "      <td>2008-05-03</td>\n",
       "      <td>fra</td>\n",
       "      <td>010423.mov</td>\n",
       "      <td>/mnt/cube/tsainbur/Projects/github_repos/child...</td>\n",
       "      <td>Paris</td>\n",
       "    </tr>\n",
       "    <tr>\n",
       "      <th>0</th>\n",
       "      <td>010916</td>\n",
       "      <td>corpora_French_Paris_Julie_010916</td>\n",
       "      <td>Julie</td>\n",
       "      <td>PB1.2</td>\n",
       "      <td>2008-09-26</td>\n",
       "      <td>fra</td>\n",
       "      <td>010916.mov</td>\n",
       "      <td>/mnt/cube/tsainbur/Projects/github_repos/child...</td>\n",
       "      <td>Paris</td>\n",
       "    </tr>\n",
       "    <tr>\n",
       "      <th>0</th>\n",
       "      <td>020122</td>\n",
       "      <td>corpora_French_Paris_Julie_020122</td>\n",
       "      <td>Julie</td>\n",
       "      <td>PB1.2</td>\n",
       "      <td>2009-02-02</td>\n",
       "      <td>fra</td>\n",
       "      <td>020122.mov</td>\n",
       "      <td>/mnt/cube/tsainbur/Projects/github_repos/child...</td>\n",
       "      <td>Paris</td>\n",
       "    </tr>\n",
       "    <tr>\n",
       "      <th>0</th>\n",
       "      <td>011111</td>\n",
       "      <td>corpora_French_Paris_Julie_011111</td>\n",
       "      <td>Julie</td>\n",
       "      <td>PB1.2</td>\n",
       "      <td>2008-11-21</td>\n",
       "      <td>fra</td>\n",
       "      <td>011111.mov</td>\n",
       "      <td>/mnt/cube/tsainbur/Projects/github_repos/child...</td>\n",
       "      <td>Paris</td>\n",
       "    </tr>\n",
       "    <tr>\n",
       "      <th>0</th>\n",
       "      <td>020010</td>\n",
       "      <td>corpora_French_Paris_Julie_020010</td>\n",
       "      <td>Julie</td>\n",
       "      <td>PB1.2</td>\n",
       "      <td>2008-12-20</td>\n",
       "      <td>fra</td>\n",
       "      <td>020010.mov</td>\n",
       "      <td>/mnt/cube/tsainbur/Projects/github_repos/child...</td>\n",
       "      <td>Paris</td>\n",
       "    </tr>\n",
       "  </tbody>\n",
       "</table>\n",
       "<p>803 rows × 9 columns</p>\n",
       "</div>"
      ],
      "text/plain": [
       "   transcript_id                       transcript_root_name corpus version  \\\n",
       "0        cha25ii  corpora_French_StanfordFrench_cha_cha25ii    cha   PB1.2   \n",
       "0        cha04ii  corpora_French_StanfordFrench_cha_cha04ii    cha   PB1.2   \n",
       "0         cha15i   corpora_French_StanfordFrench_cha_cha15i    cha   PB1.2   \n",
       "0          cha00    corpora_French_StanfordFrench_cha_cha00    cha   PB1.2   \n",
       "0        cha15ii  corpora_French_StanfordFrench_cha_cha15ii    cha   PB1.2   \n",
       "..           ...                                        ...    ...     ...   \n",
       "0         010423          corpora_French_Paris_Julie_010423  Julie   PB1.2   \n",
       "0         010916          corpora_French_Paris_Julie_010916  Julie   PB1.2   \n",
       "0         020122          corpora_French_Paris_Julie_020122  Julie   PB1.2   \n",
       "0         011111          corpora_French_Paris_Julie_011111  Julie   PB1.2   \n",
       "0         020010          corpora_French_Paris_Julie_020010  Julie   PB1.2   \n",
       "\n",
       "           date language       media  \\\n",
       "0   1986-11-22Z      fra         NaN   \n",
       "0   1986-08-06Z      fra         NaN   \n",
       "0   1986-10-11Z      fra         NaN   \n",
       "0   1986-06-12Z      fra         NaN   \n",
       "0   1986-10-25Z      fra         NaN   \n",
       "..          ...      ...         ...   \n",
       "0    2008-05-03      fra  010423.mov   \n",
       "0    2008-09-26      fra  010916.mov   \n",
       "0    2009-02-02      fra  020122.mov   \n",
       "0    2008-11-21      fra  011111.mov   \n",
       "0    2008-12-20      fra  020010.mov   \n",
       "\n",
       "                                              xml_loc         dataset  \n",
       "0   /mnt/cube/tsainbur/Projects/github_repos/child...  StanfordFrench  \n",
       "0   /mnt/cube/tsainbur/Projects/github_repos/child...  StanfordFrench  \n",
       "0   /mnt/cube/tsainbur/Projects/github_repos/child...  StanfordFrench  \n",
       "0   /mnt/cube/tsainbur/Projects/github_repos/child...  StanfordFrench  \n",
       "0   /mnt/cube/tsainbur/Projects/github_repos/child...  StanfordFrench  \n",
       "..                                                ...             ...  \n",
       "0   /mnt/cube/tsainbur/Projects/github_repos/child...           Paris  \n",
       "0   /mnt/cube/tsainbur/Projects/github_repos/child...           Paris  \n",
       "0   /mnt/cube/tsainbur/Projects/github_repos/child...           Paris  \n",
       "0   /mnt/cube/tsainbur/Projects/github_repos/child...           Paris  \n",
       "0   /mnt/cube/tsainbur/Projects/github_repos/child...           Paris  \n",
       "\n",
       "[803 rows x 9 columns]"
      ]
     },
     "execution_count": 12,
     "metadata": {},
     "output_type": "execute_result"
    }
   ],
   "source": [
    "transcript_df"
   ]
  },
  {
   "cell_type": "code",
   "execution_count": 13,
   "metadata": {
    "ExecuteTime": {
     "end_time": "2021-07-08T20:56:17.127161Z",
     "start_time": "2021-07-08T20:56:17.115735Z"
    }
   },
   "outputs": [],
   "source": [
    "import pickle5 as pickle"
   ]
  },
  {
   "cell_type": "code",
   "execution_count": 14,
   "metadata": {
    "ExecuteTime": {
     "end_time": "2021-07-08T20:56:17.265856Z",
     "start_time": "2021-07-08T20:56:17.251185Z"
    }
   },
   "outputs": [],
   "source": [
    "def load_pickle_protocol5(path):\n",
    "    with open(path, \"rb\") as fh:\n",
    "        data = pickle.load(fh)\n",
    "    return data"
   ]
  },
  {
   "cell_type": "code",
   "execution_count": 15,
   "metadata": {
    "ExecuteTime": {
     "end_time": "2021-07-08T20:57:34.642189Z",
     "start_time": "2021-07-08T20:56:17.460785Z"
    }
   },
   "outputs": [
    {
     "data": {
      "application/vnd.jupyter.widget-view+json": {
       "model_id": "baf769ecb37b449bab961b00c27decc2",
       "version_major": 2,
       "version_minor": 0
      },
      "text/plain": [
       "HBox(children=(IntProgress(value=0, max=6608), HTML(value='')))"
      ]
     },
     "metadata": {},
     "output_type": "display_data"
    },
    {
     "name": "stdout",
     "output_type": "stream",
     "text": [
      "\n"
     ]
    },
    {
     "data": {
      "text/plain": [
       "2421443"
      ]
     },
     "execution_count": 15,
     "metadata": {},
     "output_type": "execute_result"
    }
   ],
   "source": [
    "all_transcript_df = pd.concat([load_pickle_protocol5(i) for i in tqdm(transcripts)])\n",
    "len(all_transcript_df)"
   ]
  },
  {
   "cell_type": "code",
   "execution_count": 16,
   "metadata": {
    "ExecuteTime": {
     "end_time": "2021-07-08T20:57:34.669443Z",
     "start_time": "2021-07-08T20:57:34.644457Z"
    }
   },
   "outputs": [
    {
     "data": {
      "text/html": [
       "<div>\n",
       "<style scoped>\n",
       "    .dataframe tbody tr th:only-of-type {\n",
       "        vertical-align: middle;\n",
       "    }\n",
       "\n",
       "    .dataframe tbody tr th {\n",
       "        vertical-align: top;\n",
       "    }\n",
       "\n",
       "    .dataframe thead th {\n",
       "        text-align: right;\n",
       "    }\n",
       "</style>\n",
       "<table border=\"1\" class=\"dataframe\">\n",
       "  <thead>\n",
       "    <tr style=\"text-align: right;\">\n",
       "      <th></th>\n",
       "      <th>record_id</th>\n",
       "      <th>speaker</th>\n",
       "      <th>orthography</th>\n",
       "      <th>start_time_ms</th>\n",
       "      <th>duration_ms</th>\n",
       "      <th>ipa_model</th>\n",
       "      <th>ipa_actual</th>\n",
       "      <th>transcript_id</th>\n",
       "      <th>xml_loc</th>\n",
       "    </tr>\n",
       "  </thead>\n",
       "  <tbody>\n",
       "    <tr>\n",
       "      <th>0</th>\n",
       "      <td>d02e8b7e-ec09-40a5-836b-00c14a3af2ba</td>\n",
       "      <td>CHI</td>\n",
       "      <td>[xxx, xxx]</td>\n",
       "      <td>1051.0</td>\n",
       "      <td>3000.0</td>\n",
       "      <td>[None, None]</td>\n",
       "      <td>[None, None]</td>\n",
       "      <td>010824p</td>\n",
       "      <td>/mnt/cube/tsainbur/Projects/github_repos/child...</td>\n",
       "    </tr>\n",
       "    <tr>\n",
       "      <th>0</th>\n",
       "      <td>f0be0051-38c9-4b84-a7da-bd74422b60b3</td>\n",
       "      <td>CHI</td>\n",
       "      <td>[xxx, xxx]</td>\n",
       "      <td>24395.0</td>\n",
       "      <td>3000.0</td>\n",
       "      <td>[None, None]</td>\n",
       "      <td>[None, None]</td>\n",
       "      <td>010824p</td>\n",
       "      <td>/mnt/cube/tsainbur/Projects/github_repos/child...</td>\n",
       "    </tr>\n",
       "    <tr>\n",
       "      <th>0</th>\n",
       "      <td>0b699b5b-4586-4755-8a25-fd42a1d983f3</td>\n",
       "      <td>CHI</td>\n",
       "      <td>[sim]</td>\n",
       "      <td>27396.0</td>\n",
       "      <td>2755.0</td>\n",
       "      <td>[sĩ]</td>\n",
       "      <td>[θĩ]</td>\n",
       "      <td>010824p</td>\n",
       "      <td>/mnt/cube/tsainbur/Projects/github_repos/child...</td>\n",
       "    </tr>\n",
       "  </tbody>\n",
       "</table>\n",
       "</div>"
      ],
      "text/plain": [
       "                              record_id speaker orthography start_time_ms  \\\n",
       "0  d02e8b7e-ec09-40a5-836b-00c14a3af2ba     CHI  [xxx, xxx]        1051.0   \n",
       "0  f0be0051-38c9-4b84-a7da-bd74422b60b3     CHI  [xxx, xxx]       24395.0   \n",
       "0  0b699b5b-4586-4755-8a25-fd42a1d983f3     CHI       [sim]       27396.0   \n",
       "\n",
       "  duration_ms     ipa_model    ipa_actual transcript_id  \\\n",
       "0      3000.0  [None, None]  [None, None]       010824p   \n",
       "0      3000.0  [None, None]  [None, None]       010824p   \n",
       "0      2755.0         [sĩ]         [θĩ]       010824p   \n",
       "\n",
       "                                             xml_loc  \n",
       "0  /mnt/cube/tsainbur/Projects/github_repos/child...  \n",
       "0  /mnt/cube/tsainbur/Projects/github_repos/child...  \n",
       "0  /mnt/cube/tsainbur/Projects/github_repos/child...  "
      ]
     },
     "execution_count": 16,
     "metadata": {},
     "output_type": "execute_result"
    }
   ],
   "source": [
    "all_transcript_df[:3]"
   ]
  },
  {
   "cell_type": "code",
   "execution_count": 17,
   "metadata": {
    "ExecuteTime": {
     "end_time": "2021-07-08T20:58:37.454731Z",
     "start_time": "2021-07-08T20:57:34.671228Z"
    }
   },
   "outputs": [
    {
     "data": {
      "application/vnd.jupyter.widget-view+json": {
       "model_id": "d3cc3cc029064801ba3a7902c252f973",
       "version_major": 2,
       "version_minor": 0
      },
      "text/plain": [
       "HBox(children=(IntProgress(value=0, max=6608), HTML(value='')))"
      ]
     },
     "metadata": {},
     "output_type": "display_data"
    },
    {
     "name": "stdout",
     "output_type": "stream",
     "text": [
      "\n"
     ]
    },
    {
     "data": {
      "text/plain": [
       "6608"
      ]
     },
     "execution_count": 17,
     "metadata": {},
     "output_type": "execute_result"
    }
   ],
   "source": [
    "all_participant_df = pd.concat([load_pickle_protocol5(i) for i in tqdm(participants)])\n",
    "len(all_participant_df)"
   ]
  },
  {
   "cell_type": "code",
   "execution_count": 18,
   "metadata": {
    "ExecuteTime": {
     "end_time": "2021-07-08T20:58:37.480406Z",
     "start_time": "2021-07-08T20:58:37.456265Z"
    }
   },
   "outputs": [
    {
     "data": {
      "text/html": [
       "<div>\n",
       "<style scoped>\n",
       "    .dataframe tbody tr th:only-of-type {\n",
       "        vertical-align: middle;\n",
       "    }\n",
       "\n",
       "    .dataframe tbody tr th {\n",
       "        vertical-align: top;\n",
       "    }\n",
       "\n",
       "    .dataframe thead th {\n",
       "        text-align: right;\n",
       "    }\n",
       "</style>\n",
       "<table border=\"1\" class=\"dataframe\">\n",
       "  <thead>\n",
       "    <tr style=\"text-align: right;\">\n",
       "      <th></th>\n",
       "      <th>participant_id</th>\n",
       "      <th>role</th>\n",
       "      <th>name</th>\n",
       "      <th>age</th>\n",
       "      <th>birthday</th>\n",
       "      <th>sex</th>\n",
       "      <th>language</th>\n",
       "      <th>transcript_id</th>\n",
       "      <th>xml_loc</th>\n",
       "    </tr>\n",
       "  </thead>\n",
       "  <tbody>\n",
       "    <tr>\n",
       "      <th>0</th>\n",
       "      <td>MOT</td>\n",
       "      <td>Mother</td>\n",
       "      <td>VZ</td>\n",
       "      <td>P35Y0M0DT0H0M0S</td>\n",
       "      <td>NaN</td>\n",
       "      <td>female</td>\n",
       "      <td>deu</td>\n",
       "      <td>VZ6052</td>\n",
       "      <td>/mnt/cube/tsainbur/Projects/github_repos/LRSO_...</td>\n",
       "    </tr>\n",
       "    <tr>\n",
       "      <th>0</th>\n",
       "      <td>CHI</td>\n",
       "      <td>Target Child</td>\n",
       "      <td>LOT</td>\n",
       "      <td>P6Y5M14DT0H0M0S</td>\n",
       "      <td>2007-11-03</td>\n",
       "      <td>male</td>\n",
       "      <td>fra</td>\n",
       "      <td>SES1-LOT</td>\n",
       "      <td>/mnt/cube/tsainbur/Projects/github_repos/child...</td>\n",
       "    </tr>\n",
       "    <tr>\n",
       "      <th>0</th>\n",
       "      <td>CHI</td>\n",
       "      <td>Target Child</td>\n",
       "      <td>Joana</td>\n",
       "      <td>P4Y6M0DT0H0M0S</td>\n",
       "      <td>1995-06-22</td>\n",
       "      <td>female</td>\n",
       "      <td>por</td>\n",
       "      <td>040600</td>\n",
       "      <td>/mnt/cube/tsainbur/Projects/github_repos/child...</td>\n",
       "    </tr>\n",
       "  </tbody>\n",
       "</table>\n",
       "</div>"
      ],
      "text/plain": [
       "  participant_id          role   name              age    birthday     sex  \\\n",
       "0            MOT        Mother     VZ  P35Y0M0DT0H0M0S         NaN  female   \n",
       "0            CHI  Target Child    LOT  P6Y5M14DT0H0M0S  2007-11-03    male   \n",
       "0            CHI  Target Child  Joana   P4Y6M0DT0H0M0S  1995-06-22  female   \n",
       "\n",
       "  language transcript_id                                            xml_loc  \n",
       "0      deu        VZ6052  /mnt/cube/tsainbur/Projects/github_repos/LRSO_...  \n",
       "0      fra      SES1-LOT  /mnt/cube/tsainbur/Projects/github_repos/child...  \n",
       "0      por        040600  /mnt/cube/tsainbur/Projects/github_repos/child...  "
      ]
     },
     "execution_count": 18,
     "metadata": {},
     "output_type": "execute_result"
    }
   ],
   "source": [
    "all_participant_df[:3]"
   ]
  },
  {
   "cell_type": "code",
   "execution_count": 19,
   "metadata": {
    "ExecuteTime": {
     "end_time": "2021-07-08T20:58:37.499124Z",
     "start_time": "2021-07-08T20:58:37.482028Z"
    }
   },
   "outputs": [],
   "source": [
    "import re\n",
    "def convert_age(age_year):\n",
    "    \"Caclculate age in months from a string in CHILDES format\"\n",
    "    m = re.match(\"P(\\d+)Y(\\d+)M?(\\d?\\d?)D?\", age_year)\n",
    "    age_month = int(m.group(1)) * 12 + int(m.group(2))\n",
    "    try:\n",
    "        if int(m.group(3)) > 15:\n",
    "            age_month += 1\n",
    "    # some corpora don't have age information?\n",
    "    except ValueError as e:\n",
    "        pass\n",
    "    return age_month"
   ]
  },
  {
   "cell_type": "code",
   "execution_count": 20,
   "metadata": {
    "ExecuteTime": {
     "end_time": "2021-07-08T20:58:37.552239Z",
     "start_time": "2021-07-08T20:58:37.500523Z"
    }
   },
   "outputs": [
    {
     "data": {
      "application/vnd.jupyter.widget-view+json": {
       "model_id": "8e17918c0b5b4da7b4e37d5f82ae6574",
       "version_major": 2,
       "version_minor": 0
      },
      "text/plain": [
       "HBox(children=(IntProgress(value=0, max=6608), HTML(value='')))"
      ]
     },
     "metadata": {},
     "output_type": "display_data"
    },
    {
     "name": "stdout",
     "output_type": "stream",
     "text": [
      "\n"
     ]
    }
   ],
   "source": [
    "ages = [convert_age(age) if type(age) == str else np.nan for age in tqdm(all_participant_df.age.values) ]"
   ]
  },
  {
   "cell_type": "code",
   "execution_count": 21,
   "metadata": {
    "ExecuteTime": {
     "end_time": "2021-07-08T20:58:37.730760Z",
     "start_time": "2021-07-08T20:58:37.553570Z"
    }
   },
   "outputs": [
    {
     "data": {
      "text/plain": [
       "Text(0.5, 1.0, 'age of participant')"
      ]
     },
     "execution_count": 21,
     "metadata": {},
     "output_type": "execute_result"
    },
    {
     "data": {
      "image/png": "[encoded data removed]",
      "text/plain": [
       "<Figure size 432x288 with 1 Axes>"
      ]
     },
     "metadata": {
      "needs_background": "light"
     },
     "output_type": "display_data"
    }
   ],
   "source": [
    "fig, ax = plt.subplots()\n",
    "ax.hist(np.array(ages)/12, bins=np.linspace(0,10,25));\n",
    "ax.set_title('age of participant')"
   ]
  },
  {
   "cell_type": "markdown",
   "metadata": {},
   "source": [
    "### Create a phone dataset of english "
   ]
  },
  {
   "cell_type": "code",
   "execution_count": 22,
   "metadata": {
    "ExecuteTime": {
     "end_time": "2021-07-08T20:58:37.748673Z",
     "start_time": "2021-07-08T20:58:37.732964Z"
    }
   },
   "outputs": [
    {
     "data": {
      "text/plain": [
       "array(['Mother', 'Target Child', 'Investigator', 'Child', 'Target Adult',\n",
       "       'Sister', 'Subject', 'Target_Child', 'Father', 'Grandmother',\n",
       "       'Adult', 'Caretaker', 'Aunt'], dtype=object)"
      ]
     },
     "execution_count": 22,
     "metadata": {},
     "output_type": "execute_result"
    }
   ],
   "source": [
    "all_participant_df.role.unique()"
   ]
  },
  {
   "cell_type": "code",
   "execution_count": 23,
   "metadata": {
    "ExecuteTime": {
     "end_time": "2021-07-08T20:58:37.764844Z",
     "start_time": "2021-07-08T20:58:37.750355Z"
    }
   },
   "outputs": [],
   "source": [
    "def get_transcript_info(transcript_subset, participant_row):\n",
    "    \"\"\" from a transcript, create a pandas dataframe of orthography/phones\n",
    "    \"\"\"\n",
    "\n",
    "    # for participant in dataset\n",
    "    participant_ts = transcript_subset[\n",
    "        transcript_subset.speaker == participant_row.participant_id\n",
    "    ]\n",
    "    \n",
    "    if type(participant_row.age) is not str:\n",
    "        age = np.nan\n",
    "    else:\n",
    "        age = round(convert_age(participant_row.age) / 12, 3)\n",
    "\n",
    "    phone_df = pd.DataFrame(\n",
    "        [[\n",
    "            participant_row.name,\n",
    "            participant_row.transcript_id,\n",
    "            age,\n",
    "            dataset,\n",
    "            participant_row.language,\n",
    "            participant_row.sex,\n",
    "            participant_ts.ipa_actual.values,\n",
    "            participant_ts.orthography.values,\n",
    "            participant_row.xml_loc,\n",
    "        ]],\n",
    "        columns=[\n",
    "            \"name\",\n",
    "            \"transcript_id\",\n",
    "            \"age\",\n",
    "            \"dataset\",\n",
    "            \"language\",\n",
    "            \"sex\",\n",
    "            \"phones\",\n",
    "            \"orthography\",\n",
    "            \"xml_loc\",\n",
    "        ],\n",
    "    )\n",
    "\n",
    "    return phone_df"
   ]
  },
  {
   "cell_type": "code",
   "execution_count": 24,
   "metadata": {
    "ExecuteTime": {
     "end_time": "2021-07-08T20:58:37.775769Z",
     "start_time": "2021-07-08T20:58:37.766370Z"
    }
   },
   "outputs": [],
   "source": [
    "#def get_transcript_info(transcript_subset, participant_row):\n",
    "#    return"
   ]
  },
  {
   "cell_type": "code",
   "execution_count": 25,
   "metadata": {
    "ExecuteTime": {
     "end_time": "2021-07-08T20:58:37.821186Z",
     "start_time": "2021-07-08T20:58:37.776800Z"
    }
   },
   "outputs": [],
   "source": [
    "from joblib.externals.loky import set_loky_pickler\n",
    "from joblib import parallel_backend\n",
    "from joblib import Parallel, delayed\n",
    "from joblib import wrap_non_picklable_objects"
   ]
  },
  {
   "cell_type": "code",
   "execution_count": 26,
   "metadata": {
    "ExecuteTime": {
     "end_time": "2021-07-08T20:58:39.364449Z",
     "start_time": "2021-07-08T20:58:37.822540Z"
    }
   },
   "outputs": [],
   "source": [
    "all_transcript_df['xml_str'] = [i.as_posix() for i in all_transcript_df.xml_loc]\n",
    "all_participant_df['xml_str'] = [i.as_posix() for i in all_participant_df.xml_loc]\n",
    "transcript_df['xml_str'] = [i.as_posix() for i in transcript_df.xml_loc]"
   ]
  },
  {
   "cell_type": "code",
   "execution_count": 27,
   "metadata": {
    "ExecuteTime": {
     "end_time": "2021-07-08T20:58:39.391378Z",
     "start_time": "2021-07-08T20:58:39.365988Z"
    }
   },
   "outputs": [],
   "source": [
    "target_child_df = all_participant_df[all_participant_df.role == 'Target Child']"
   ]
  },
  {
   "cell_type": "code",
   "execution_count": 28,
   "metadata": {
    "ExecuteTime": {
     "end_time": "2021-07-08T21:00:42.250293Z",
     "start_time": "2021-07-08T20:58:39.392464Z"
    },
    "code_folding": [],
    "scrolled": false
   },
   "outputs": [
    {
     "data": {
      "application/vnd.jupyter.widget-view+json": {
       "model_id": "962adbc129734acd920437f3bbb797c9",
       "version_major": 2,
       "version_minor": 0
      },
      "text/plain": [
       "HBox(children=(IntProgress(value=0, max=7), HTML(value='')))"
      ]
     },
     "metadata": {},
     "output_type": "display_data"
    },
    {
     "name": "stdout",
     "output_type": "stream",
     "text": [
      "~~~~~~~~~~~~~~~~~~~~ Yamaguchi ~~~~~~~~~~~~~~~~~~~~\n"
     ]
    },
    {
     "data": {
      "application/vnd.jupyter.widget-view+json": {
       "model_id": "9ca9b5da081a41dcb01dc190a59f4441",
       "version_major": 2,
       "version_minor": 0
      },
      "text/plain": [
       "HBox(children=(IntProgress(value=0, max=31), HTML(value='')))"
      ]
     },
     "metadata": {},
     "output_type": "display_data"
    },
    {
     "name": "stdout",
     "output_type": "stream",
     "text": [
      "\n",
      "~~~~~~~~~~~~~~~~~~~~ GoadRose ~~~~~~~~~~~~~~~~~~~~\n"
     ]
    },
    {
     "data": {
      "application/vnd.jupyter.widget-view+json": {
       "model_id": "b95b2fbbf0d34cafbe74c734db15f6c8",
       "version_major": 2,
       "version_minor": 0
      },
      "text/plain": [
       "HBox(children=(IntProgress(value=0, max=79), HTML(value='')))"
      ]
     },
     "metadata": {},
     "output_type": "display_data"
    },
    {
     "name": "stdout",
     "output_type": "stream",
     "text": [
      "\n",
      "~~~~~~~~~~~~~~~~~~~~ Hunkeler ~~~~~~~~~~~~~~~~~~~~\n"
     ]
    },
    {
     "data": {
      "application/vnd.jupyter.widget-view+json": {
       "model_id": "457ed8207b0f4713988fbc7bd34eee0f",
       "version_major": 2,
       "version_minor": 0
      },
      "text/plain": [
       "HBox(children=(IntProgress(value=0, max=46), HTML(value='')))"
      ]
     },
     "metadata": {},
     "output_type": "display_data"
    },
    {
     "name": "stdout",
     "output_type": "stream",
     "text": [
      "\n",
      "~~~~~~~~~~~~~~~~~~~~ KernFrench ~~~~~~~~~~~~~~~~~~~~\n"
     ]
    },
    {
     "data": {
      "application/vnd.jupyter.widget-view+json": {
       "model_id": "78e505e4ff314639a424b95e4cddd6d2",
       "version_major": 2,
       "version_minor": 0
      },
      "text/plain": [
       "HBox(children=(IntProgress(value=0, max=129), HTML(value='')))"
      ]
     },
     "metadata": {},
     "output_type": "display_data"
    },
    {
     "name": "stdout",
     "output_type": "stream",
     "text": [
      "\n",
      "~~~~~~~~~~~~~~~~~~~~ Lyon ~~~~~~~~~~~~~~~~~~~~\n"
     ]
    },
    {
     "data": {
      "application/vnd.jupyter.widget-view+json": {
       "model_id": "84f68b7515ab418b9a545ce8dd558cc8",
       "version_major": 2,
       "version_minor": 0
      },
      "text/plain": [
       "HBox(children=(IntProgress(value=0, max=326), HTML(value='')))"
      ]
     },
     "metadata": {},
     "output_type": "display_data"
    },
    {
     "name": "stdout",
     "output_type": "stream",
     "text": [
      "\n",
      "~~~~~~~~~~~~~~~~~~~~ Paris ~~~~~~~~~~~~~~~~~~~~\n"
     ]
    },
    {
     "data": {
      "application/vnd.jupyter.widget-view+json": {
       "model_id": "a5b6fcd8a5734952aa9d7b30d5cf2456",
       "version_major": 2,
       "version_minor": 0
      },
      "text/plain": [
       "HBox(children=(IntProgress(value=0, max=158), HTML(value='')))"
      ]
     },
     "metadata": {},
     "output_type": "display_data"
    },
    {
     "name": "stdout",
     "output_type": "stream",
     "text": [
      "\n",
      "~~~~~~~~~~~~~~~~~~~~ StanfordFrench ~~~~~~~~~~~~~~~~~~~~\n"
     ]
    },
    {
     "data": {
      "application/vnd.jupyter.widget-view+json": {
       "model_id": "d1ade7fc226d4ff2992f625a5ef8c9b2",
       "version_major": 2,
       "version_minor": 0
      },
      "text/plain": [
       "HBox(children=(IntProgress(value=0, max=34), HTML(value='')))"
      ]
     },
     "metadata": {},
     "output_type": "display_data"
    },
    {
     "name": "stdout",
     "output_type": "stream",
     "text": [
      "\n",
      "\n"
     ]
    }
   ],
   "source": [
    "phone_df = []\n",
    "with Parallel(n_jobs=1) as parallel:\n",
    "    for dataset in tqdm(datasets_to_use):\n",
    "        # subset dataset\n",
    "        ds_trdf = transcript_df[transcript_df.dataset == dataset]\n",
    "        print(\"~~~~~~~~~~~~~~~~~~~~\", dataset, \"~~~~~~~~~~~~~~~~~~~~\")\n",
    "        # for transcripts in dataset\n",
    "        phone_df.append(\n",
    "            pd.concat(\n",
    "                [\n",
    "                    get_transcript_info(\n",
    "                        transcript_subset=all_transcript_df[\n",
    "                            all_transcript_df.xml_str == transcript_row.xml_str\n",
    "                        ],\n",
    "                        participant_row=target_child_df[\n",
    "                            target_child_df.xml_str == transcript_row.xml_str\n",
    "                        ].iloc[0],\n",
    "                    )\n",
    "                    for idx, transcript_row in tqdm(\n",
    "                        ds_trdf.iterrows(), total=len(ds_trdf)\n",
    "                    )\n",
    "                    if len(\n",
    "                        target_child_df[\n",
    "                            target_child_df.xml_str == transcript_row.xml_str\n",
    "                        ]\n",
    "                    )\n",
    "                    > 0\n",
    "                ]\n",
    "            )\n",
    "        )\n",
    "phone_df = pd.concat(phone_df)"
   ]
  },
  {
   "cell_type": "code",
   "execution_count": 29,
   "metadata": {
    "ExecuteTime": {
     "end_time": "2021-07-08T21:00:42.397920Z",
     "start_time": "2021-07-08T21:00:42.251923Z"
    }
   },
   "outputs": [
    {
     "data": {
      "text/html": [
       "<div>\n",
       "<style scoped>\n",
       "    .dataframe tbody tr th:only-of-type {\n",
       "        vertical-align: middle;\n",
       "    }\n",
       "\n",
       "    .dataframe tbody tr th {\n",
       "        vertical-align: top;\n",
       "    }\n",
       "\n",
       "    .dataframe thead th {\n",
       "        text-align: right;\n",
       "    }\n",
       "</style>\n",
       "<table border=\"1\" class=\"dataframe\">\n",
       "  <thead>\n",
       "    <tr style=\"text-align: right;\">\n",
       "      <th></th>\n",
       "      <th>name</th>\n",
       "      <th>transcript_id</th>\n",
       "      <th>age</th>\n",
       "      <th>dataset</th>\n",
       "      <th>language</th>\n",
       "      <th>sex</th>\n",
       "      <th>phones</th>\n",
       "      <th>orthography</th>\n",
       "      <th>xml_loc</th>\n",
       "    </tr>\n",
       "  </thead>\n",
       "  <tbody>\n",
       "    <tr>\n",
       "      <th>0</th>\n",
       "      <td>0</td>\n",
       "      <td>011015</td>\n",
       "      <td>1.833</td>\n",
       "      <td>Yamaguchi</td>\n",
       "      <td>fra</td>\n",
       "      <td>male</td>\n",
       "      <td>[[None], [None], [None], [None], [None], [None...</td>\n",
       "      <td>[[www], [www], [www], [www], [www], [www], [ww...</td>\n",
       "      <td>/mnt/cube/tsainbur/Projects/github_repos/child...</td>\n",
       "    </tr>\n",
       "    <tr>\n",
       "      <th>0</th>\n",
       "      <td>0</td>\n",
       "      <td>030015</td>\n",
       "      <td>3.000</td>\n",
       "      <td>Yamaguchi</td>\n",
       "      <td>fra</td>\n",
       "      <td>male</td>\n",
       "      <td>[[None], [eta, eta, lela], [ø, nɔ̃, la], [aɖɔ̃...</td>\n",
       "      <td>[[www], [éteins, éteins, lumière], [euh, non, ...</td>\n",
       "      <td>/mnt/cube/tsainbur/Projects/github_repos/child...</td>\n",
       "    </tr>\n",
       "    <tr>\n",
       "      <th>0</th>\n",
       "      <td>0</td>\n",
       "      <td>020112</td>\n",
       "      <td>2.083</td>\n",
       "      <td>Yamaguchi</td>\n",
       "      <td>fra</td>\n",
       "      <td>male</td>\n",
       "      <td>[[None], [None], [nɔ], [nɔ̃], [nɑ̃], [nɔ̃], [N...</td>\n",
       "      <td>[[www], [www], [non], [non], [non], [non], [ww...</td>\n",
       "      <td>/mnt/cube/tsainbur/Projects/github_repos/child...</td>\n",
       "    </tr>\n",
       "  </tbody>\n",
       "</table>\n",
       "</div>"
      ],
      "text/plain": [
       "   name transcript_id    age    dataset language   sex  \\\n",
       "0     0        011015  1.833  Yamaguchi      fra  male   \n",
       "0     0        030015  3.000  Yamaguchi      fra  male   \n",
       "0     0        020112  2.083  Yamaguchi      fra  male   \n",
       "\n",
       "                                              phones  \\\n",
       "0  [[None], [None], [None], [None], [None], [None...   \n",
       "0  [[None], [eta, eta, lela], [ø, nɔ̃, la], [aɖɔ̃...   \n",
       "0  [[None], [None], [nɔ], [nɔ̃], [nɑ̃], [nɔ̃], [N...   \n",
       "\n",
       "                                         orthography  \\\n",
       "0  [[www], [www], [www], [www], [www], [www], [ww...   \n",
       "0  [[www], [éteins, éteins, lumière], [euh, non, ...   \n",
       "0  [[www], [www], [non], [non], [non], [non], [ww...   \n",
       "\n",
       "                                             xml_loc  \n",
       "0  /mnt/cube/tsainbur/Projects/github_repos/child...  \n",
       "0  /mnt/cube/tsainbur/Projects/github_repos/child...  \n",
       "0  /mnt/cube/tsainbur/Projects/github_repos/child...  "
      ]
     },
     "execution_count": 29,
     "metadata": {},
     "output_type": "execute_result"
    }
   ],
   "source": [
    "phone_df[:3]"
   ]
  },
  {
   "cell_type": "code",
   "execution_count": 36,
   "metadata": {
    "ExecuteTime": {
     "end_time": "2021-07-08T21:01:55.780858Z",
     "start_time": "2021-07-08T21:01:55.763680Z"
    }
   },
   "outputs": [],
   "source": [
    "def flatten(container):\n",
    "    for i in container:\n",
    "        if isinstance(i, (list,tuple)):\n",
    "            for j in flatten(i):\n",
    "                yield j\n",
    "        else:\n",
    "            yield i"
   ]
  },
  {
   "cell_type": "code",
   "execution_count": 47,
   "metadata": {
    "ExecuteTime": {
     "end_time": "2021-07-08T21:06:02.187470Z",
     "start_time": "2021-07-08T21:06:01.451866Z"
    }
   },
   "outputs": [],
   "source": [
    "# remove untranscribed data\n",
    "phone_df = phone_df[np.array([len(np.unique([i for i in list(flatten(i)) if i is not None])) > 0 for i in phone_df.phones.values])]"
   ]
  },
  {
   "cell_type": "code",
   "execution_count": 48,
   "metadata": {
    "ExecuteTime": {
     "end_time": "2021-07-08T21:09:39.463354Z",
     "start_time": "2021-07-08T21:09:39.421378Z"
    }
   },
   "outputs": [
    {
     "data": {
      "text/plain": [
       "array(['Yamaguchi', 'GoadRose', 'Hunkeler', 'KernFrench', 'Lyon', 'Paris',\n",
       "       'StanfordFrench'], dtype=object)"
      ]
     },
     "execution_count": 48,
     "metadata": {},
     "output_type": "execute_result"
    }
   ],
   "source": [
    "phone_df.dataset.unique()"
   ]
  },
  {
   "cell_type": "code",
   "execution_count": 99,
   "metadata": {
    "ExecuteTime": {
     "end_time": "2021-07-08T18:43:37.970053Z",
     "start_time": "2021-07-08T18:43:37.956279Z"
    }
   },
   "outputs": [
    {
     "data": {
      "text/plain": [
       "PosixPath('/mnt/cube/tsainbur/Projects/github_repos/LRSO_paper_rev/LongRangeSequentialOrgPaper/data/processed/phonbank')"
      ]
     },
     "execution_count": 99,
     "metadata": {},
     "output_type": "execute_result"
    }
   ],
   "source": [
    "PHONBANK_DFS"
   ]
  },
  {
   "cell_type": "code",
   "execution_count": 100,
   "metadata": {
    "ExecuteTime": {
     "end_time": "2021-07-08T18:43:39.118483Z",
     "start_time": "2021-07-08T18:43:38.526651Z"
    }
   },
   "outputs": [],
   "source": [
    "phone_df.to_pickle(PHONBANK_DFS/'phone_df_french.pickle')"
   ]
  },
  {
   "cell_type": "code",
   "execution_count": null,
   "metadata": {},
   "outputs": [],
   "source": []
  },
  {
   "cell_type": "code",
   "execution_count": null,
   "metadata": {},
   "outputs": [],
   "source": []
  }
 ],
 "metadata": {
  "kernelspec": {
   "display_name": "childes-paper",
   "language": "python",
   "name": "childes-paper"
  },
  "language_info": {
   "codemirror_mode": {
    "name": "ipython",
    "version": 3
   },
   "file_extension": ".py",
   "mimetype": "text/x-python",
   "name": "python",
   "nbconvert_exporter": "python",
   "pygments_lexer": "ipython3",
   "version": "3.7.10"
  }
 },
 "nbformat": 4,
 "nbformat_minor": 2
}
