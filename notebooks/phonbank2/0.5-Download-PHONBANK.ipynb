{
 "cells": [
  {
   "cell_type": "markdown",
   "metadata": {},
   "source": [
    "Download dataset from https://phonbank.talkbank.org/phon/"
   ]
  },
  {
   "cell_type": "code",
   "execution_count": 1,
   "metadata": {
    "ExecuteTime": {
     "end_time": "2019-08-14T06:02:18.518770Z",
     "start_time": "2019-08-14T06:02:18.515623Z"
    }
   },
   "outputs": [],
   "source": [
    "# https://www.nltk.org/_modules/nltk/corpus/reader/childes.html"
   ]
  },
  {
   "cell_type": "code",
   "execution_count": 2,
   "metadata": {
    "ExecuteTime": {
     "end_time": "2019-08-14T06:02:18.695859Z",
     "start_time": "2019-08-14T06:02:18.522579Z"
    }
   },
   "outputs": [],
   "source": [
    "%load_ext autoreload\n",
    "%autoreload 2"
   ]
  },
  {
   "cell_type": "code",
   "execution_count": 3,
   "metadata": {
    "ExecuteTime": {
     "end_time": "2019-08-14T06:02:18.775011Z",
     "start_time": "2019-08-14T06:02:18.699644Z"
    }
   },
   "outputs": [],
   "source": [
    "from childes_mi.utils.paths import DATA_DIR, ensure_dir, PHONBANK_DIR"
   ]
  },
  {
   "cell_type": "code",
   "execution_count": 4,
   "metadata": {
    "ExecuteTime": {
     "end_time": "2019-08-14T06:02:19.696539Z",
     "start_time": "2019-08-14T06:02:18.778488Z"
    }
   },
   "outputs": [
    {
     "name": "stderr",
     "output_type": "stream",
     "text": [
      "/mnt/cube/tsainbur/conda_envs/tpy3/lib/python3.6/site-packages/tqdm/autonotebook/__init__.py:14: TqdmExperimentalWarning: Using `tqdm.autonotebook.tqdm` in notebook mode. Use `tqdm.tqdm` instead to force console mode (e.g. in jupyter console)\n",
      "  \" (e.g. in jupyter console)\", TqdmExperimentalWarning)\n"
     ]
    }
   ],
   "source": [
    "from urllib.request import urlopen\n",
    "import re\n",
    "from bs4 import BeautifulSoup\n",
    "import requests\n",
    "import urllib.request\n",
    "from tqdm.autonotebook import tqdm\n",
    "import zipfile"
   ]
  },
  {
   "cell_type": "markdown",
   "metadata": {},
   "source": [
    "### get URLs to download"
   ]
  },
  {
   "cell_type": "code",
   "execution_count": 5,
   "metadata": {
    "ExecuteTime": {
     "end_time": "2019-08-14T06:02:19.731232Z",
     "start_time": "2019-08-14T06:02:19.699668Z"
    },
    "scrolled": true
   },
   "outputs": [],
   "source": [
    "def isDirectory(url):\n",
    "    if(url.endswith('/')):\n",
    "        return True\n",
    "    else:\n",
    "        return False\n",
    "\n",
    "def findLinks(url):\n",
    "    page = requests.get(url).content\n",
    "    bsObj = BeautifulSoup(page, 'html.parser')\n",
    "    maybe_directories = bsObj.findAll('a', href=True)\n",
    "    links = []\n",
    "    for link in maybe_directories:\n",
    "        #print(link)\n",
    "        if(isDirectory(link['href'])):\n",
    "            if link['href'] == '/': continue\n",
    "            newUrl = url + link['href']  \n",
    "            #print('newurl', newUrl)\n",
    "            links.append(findLinks(newUrl)) #recursion happening here\n",
    "        else:\n",
    "            if(link['href'].endswith('.zip')):\n",
    "                print(\"GOTCHA!\", url + link['href']) #now safe and download\n",
    "                links.append(url + link['href'])\n",
    "    return links"
   ]
  },
  {
   "cell_type": "code",
   "execution_count": 6,
   "metadata": {
    "ExecuteTime": {
     "end_time": "2019-08-14T06:02:44.253276Z",
     "start_time": "2019-08-14T06:02:19.733523Z"
    },
    "scrolled": true
   },
   "outputs": [
    {
     "name": "stdout",
     "output_type": "stream",
     "text": [
      "GOTCHA! https://phonbank.talkbank.org/phon/Biling/Almeida.zip\n",
      "GOTCHA! https://phonbank.talkbank.org/phon/Biling/FallsChurch.zip\n",
      "GOTCHA! https://phonbank.talkbank.org/phon/Biling/PraisleyRose.zip\n",
      "GOTCHA! https://phonbank.talkbank.org/phon/Biling/Scheidnes.zip\n",
      "GOTCHA! https://phonbank.talkbank.org/phon/Biling/VYSA.zip\n",
      "GOTCHA! https://phonbank.talkbank.org/phon/Chinese/Cantonese/PaidoCantonese.zip\n",
      "GOTCHA! https://phonbank.talkbank.org/phon/Chinese/Taiwanese/Tsay.zip\n",
      "GOTCHA! https://phonbank.talkbank.org/phon/Clinical/Bernhardt.zip\n",
      "GOTCHA! https://phonbank.talkbank.org/phon/Clinical/Chiat.zip\n",
      "GOTCHA! https://phonbank.talkbank.org/phon/Clinical/Cummings.zip\n",
      "GOTCHA! https://phonbank.talkbank.org/phon/Clinical/Granada.zip\n",
      "GOTCHA! https://phonbank.talkbank.org/phon/Clinical/McAllisterByun.zip\n",
      "GOTCHA! https://phonbank.talkbank.org/phon/Clinical/Preston.zip\n",
      "GOTCHA! https://phonbank.talkbank.org/phon/Clinical/TorringtonEaton.zip\n",
      "GOTCHA! https://phonbank.talkbank.org/phon/Dutch/CLPF.zip\n",
      "GOTCHA! https://phonbank.talkbank.org/phon/Dutch/Utrecht.zip\n",
      "GOTCHA! https://phonbank.talkbank.org/phon/Dutch/Zink.zip\n",
      "GOTCHA! https://phonbank.talkbank.org/phon/Eng-NA/ComptonPater.zip\n",
      "GOTCHA! https://phonbank.talkbank.org/phon/Eng-NA/Davis-CDI.zip\n",
      "GOTCHA! https://phonbank.talkbank.org/phon/Eng-NA/Davis.zip\n",
      "GOTCHA! https://phonbank.talkbank.org/phon/Eng-NA/Goad.zip\n",
      "GOTCHA! https://phonbank.talkbank.org/phon/Eng-NA/Inkelas.zip\n",
      "GOTCHA! https://phonbank.talkbank.org/phon/Eng-NA/PaidoEnglish.zip\n",
      "GOTCHA! https://phonbank.talkbank.org/phon/Eng-NA/Penney.zip\n",
      "GOTCHA! https://phonbank.talkbank.org/phon/Eng-NA/Providence.zip\n",
      "GOTCHA! https://phonbank.talkbank.org/phon/Eng-NA/StanfordEnglish.zip\n",
      "GOTCHA! https://phonbank.talkbank.org/phon/Eng-UK/Smith.zip\n",
      "GOTCHA! https://phonbank.talkbank.org/phon/French/GoadRose.zip\n",
      "GOTCHA! https://phonbank.talkbank.org/phon/French/Hunkeler.zip\n",
      "GOTCHA! https://phonbank.talkbank.org/phon/French/KernFrench.zip\n",
      "GOTCHA! https://phonbank.talkbank.org/phon/French/Lyon.zip\n",
      "GOTCHA! https://phonbank.talkbank.org/phon/French/Paris.zip\n",
      "GOTCHA! https://phonbank.talkbank.org/phon/French/StanfordFrench.zip\n",
      "GOTCHA! https://phonbank.talkbank.org/phon/French/Yamaguchi.zip\n",
      "GOTCHA! https://phonbank.talkbank.org/phon/German/Grimm.zip\n",
      "GOTCHA! https://phonbank.talkbank.org/phon/German/Stuttgart.zip\n",
      "GOTCHA! https://phonbank.talkbank.org/phon/German/TAKI.zip\n",
      "GOTCHA! https://phonbank.talkbank.org/phon/Japanese/Ota.zip\n",
      "GOTCHA! https://phonbank.talkbank.org/phon/Japanese/PaidoJapanese.zip\n",
      "GOTCHA! https://phonbank.talkbank.org/phon/Japanese/StanfordJapanese.zip\n",
      "GOTCHA! https://phonbank.talkbank.org/phon/Other/Arabic/KernArabic.zip\n",
      "GOTCHA! https://phonbank.talkbank.org/phon/Other/Arabic/Kuwaiti%20copy%202.zip\n",
      "GOTCHA! https://phonbank.talkbank.org/phon/Other/Arabic/Kuwaiti%20copy.zip\n",
      "GOTCHA! https://phonbank.talkbank.org/phon/Other/Arabic/Kuwaiti.zip\n",
      "GOTCHA! https://phonbank.talkbank.org/phon/Other/Berber/Lahrouchi.zip\n",
      "GOTCHA! https://phonbank.talkbank.org/phon/Other/Cree/CCLAS.zip\n",
      "GOTCHA! https://phonbank.talkbank.org/phon/Other/Greek/PaidoGreek.zip\n",
      "GOTCHA! https://phonbank.talkbank.org/phon/Other/Quichua/Gildersleeve.zip\n",
      "GOTCHA! https://phonbank.talkbank.org/phon/Romance/Catalan/EstevePrieto.zip\n",
      "GOTCHA! https://phonbank.talkbank.org/phon/Romance/Portuguese/CCF.zip\n",
      "GOTCHA! https://phonbank.talkbank.org/phon/Romance/Portuguese/Freitas.zip\n",
      "GOTCHA! https://phonbank.talkbank.org/phon/Romance/Romanian/KernRomanian.zip\n",
      "GOTCHA! https://phonbank.talkbank.org/phon/Scandinavian/Norwegian/Garmann.zip\n",
      "GOTCHA! https://phonbank.talkbank.org/phon/Scandinavian/Swedish/Lacerda.zip\n",
      "GOTCHA! https://phonbank.talkbank.org/phon/Scandinavian/Swedish/StanfordSwedish.zip\n",
      "GOTCHA! https://phonbank.talkbank.org/phon/Slavic/Polish/WeistJarosz.zip\n",
      "GOTCHA! https://phonbank.talkbank.org/phon/Spanish/Koine.zip\n",
      "GOTCHA! https://phonbank.talkbank.org/phon/Spanish/LlinasOjea.zip\n",
      "GOTCHA! https://phonbank.talkbank.org/phon/Spanish/Vivar.zip\n"
     ]
    }
   ],
   "source": [
    "startUrl = \"https://phonbank.talkbank.org/phon/\"\n",
    "urls = findLinks(startUrl)"
   ]
  },
  {
   "cell_type": "code",
   "execution_count": 7,
   "metadata": {
    "ExecuteTime": {
     "end_time": "2019-08-14T06:02:44.483324Z",
     "start_time": "2019-08-14T06:02:44.259298Z"
    }
   },
   "outputs": [
    {
     "data": {
      "text/plain": [
       "['https://phonbank.talkbank.org/phon/Biling/Almeida.zip',\n",
       " 'https://phonbank.talkbank.org/phon/Biling/FallsChurch.zip',\n",
       " 'https://phonbank.talkbank.org/phon/Biling/PraisleyRose.zip']"
      ]
     },
     "execution_count": 7,
     "metadata": {},
     "output_type": "execute_result"
    }
   ],
   "source": [
    "# flatten the recursive directiories\n",
    "flatten = lambda l: sum(map(flatten, l), []) if isinstance(l, list) else [l]\n",
    "urls = flatten(urls)\n",
    "urls[:3]"
   ]
  },
  {
   "cell_type": "markdown",
   "metadata": {},
   "source": [
    "### download from URLs"
   ]
  },
  {
   "cell_type": "code",
   "execution_count": 10,
   "metadata": {
    "ExecuteTime": {
     "end_time": "2019-08-15T00:48:28.144992Z",
     "start_time": "2019-08-15T00:47:20.442514Z"
    }
   },
   "outputs": [
    {
     "data": {
      "application/vnd.jupyter.widget-view+json": {
       "model_id": "fc4c16d66fa84c0188470001ebbf7d42",
       "version_major": 2,
       "version_minor": 0
      },
      "text/plain": [
       "HBox(children=(IntProgress(value=0, max=59), HTML(value='')))"
      ]
     },
     "metadata": {},
     "output_type": "display_data"
    },
    {
     "name": "stdout",
     "output_type": "stream",
     "text": [
      "\n"
     ]
    }
   ],
   "source": [
    "output_directory = PHONBANK_DIR\n",
    "for url in tqdm(urls):\n",
    "    # get save location\n",
    "    save_loc = output_directory / url[35:]\n",
    "    # make sure there is a directory to save to\n",
    "    ensure_dir(save_loc)\n",
    "    # save to disk\n",
    "    urllib.request.urlretrieve(url, save_loc)"
   ]
  },
  {
   "cell_type": "markdown",
   "metadata": {},
   "source": [
    "### unzip files"
   ]
  },
  {
   "cell_type": "code",
   "execution_count": 11,
   "metadata": {
    "ExecuteTime": {
     "end_time": "2019-08-15T00:52:46.602506Z",
     "start_time": "2019-08-15T00:52:45.868618Z"
    }
   },
   "outputs": [
    {
     "data": {
      "text/plain": [
       "[PosixPath('/mnt/cube/tsainbur/Projects/github_repos/childes_mi_project/data/raw/PHON_Data_Dir/corpora/Spanish/Koine.zip'),\n",
       " PosixPath('/mnt/cube/tsainbur/Projects/github_repos/childes_mi_project/data/raw/PHON_Data_Dir/corpora/Spanish/LlinasOjea.zip'),\n",
       " PosixPath('/mnt/cube/tsainbur/Projects/github_repos/childes_mi_project/data/raw/PHON_Data_Dir/corpora/Spanish/Vivar.zip')]"
      ]
     },
     "execution_count": 11,
     "metadata": {},
     "output_type": "execute_result"
    }
   ],
   "source": [
    "zip_files = list(PHONBANK_DIR.glob('**/*.zip'))\n",
    "zip_files[:3]"
   ]
  },
  {
   "cell_type": "code",
   "execution_count": 12,
   "metadata": {
    "ExecuteTime": {
     "end_time": "2019-08-15T00:53:58.077968Z",
     "start_time": "2019-08-15T00:52:46.604869Z"
    }
   },
   "outputs": [
    {
     "data": {
      "application/vnd.jupyter.widget-view+json": {
       "model_id": "362e4225eab94a28928a248c0476be7b",
       "version_major": 2,
       "version_minor": 0
      },
      "text/plain": [
       "HBox(children=(IntProgress(value=0, max=59), HTML(value='')))"
      ]
     },
     "metadata": {},
     "output_type": "display_data"
    },
    {
     "name": "stdout",
     "output_type": "stream",
     "text": [
      "\n"
     ]
    }
   ],
   "source": [
    "for zf in tqdm(zip_files):\n",
    "    with zipfile.ZipFile(zf, 'r') as zip_ref:\n",
    "        zip_ref.extractall(zf.parent)"
   ]
  },
  {
   "cell_type": "code",
   "execution_count": null,
   "metadata": {},
   "outputs": [],
   "source": []
  },
  {
   "cell_type": "code",
   "execution_count": null,
   "metadata": {},
   "outputs": [],
   "source": []
  }
 ],
 "metadata": {
  "kernelspec": {
   "display_name": "Python 3",
   "language": "python",
   "name": "python3"
  },
  "language_info": {
   "codemirror_mode": {
    "name": "ipython",
    "version": 3
   },
   "file_extension": ".py",
   "mimetype": "text/x-python",
   "name": "python",
   "nbconvert_exporter": "python",
   "pygments_lexer": "ipython3",
   "version": "3.9.1"
  }
 },
 "nbformat": 4,
 "nbformat_minor": 2
}
