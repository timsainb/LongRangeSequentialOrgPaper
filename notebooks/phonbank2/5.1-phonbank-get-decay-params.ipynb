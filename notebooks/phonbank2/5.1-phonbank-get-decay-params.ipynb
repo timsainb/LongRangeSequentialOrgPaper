{
 "cells": [
  {
   "cell_type": "code",
   "execution_count": 1,
   "metadata": {
    "ExecuteTime": {
     "end_time": "2020-08-18T23:50:26.834845Z",
     "start_time": "2020-08-18T23:50:26.818469Z"
    }
   },
   "outputs": [],
   "source": [
    "%load_ext autoreload\n",
    "%autoreload 2"
   ]
  },
  {
   "cell_type": "code",
   "execution_count": 2,
   "metadata": {
    "ExecuteTime": {
     "end_time": "2020-08-18T23:50:27.255149Z",
     "start_time": "2020-08-18T23:50:26.836110Z"
    }
   },
   "outputs": [],
   "source": [
    "from childes_mi.utils.paths import DATA_DIR, FIGURE_DIR, ensure_dir\n",
    "from childes_mi.utils.general import flatten,save_fig"
   ]
  },
  {
   "cell_type": "code",
   "execution_count": 3,
   "metadata": {
    "ExecuteTime": {
     "end_time": "2020-08-18T23:50:28.135962Z",
     "start_time": "2020-08-18T23:50:27.256788Z"
    }
   },
   "outputs": [],
   "source": [
    "from childes_mi.information_theory import model_fitting as mf"
   ]
  },
  {
   "cell_type": "code",
   "execution_count": 4,
   "metadata": {
    "ExecuteTime": {
     "end_time": "2020-08-18T23:50:28.192263Z",
     "start_time": "2020-08-18T23:50:28.137731Z"
    }
   },
   "outputs": [
    {
     "name": "stderr",
     "output_type": "stream",
     "text": [
      "/mnt/cube/tsainbur/conda_envs/tpy3/lib/python3.6/site-packages/tqdm/autonotebook/__init__.py:14: TqdmExperimentalWarning: Using `tqdm.autonotebook.tqdm` in notebook mode. Use `tqdm.tqdm` instead to force console mode (e.g. in jupyter console)\n",
      "  \" (e.g. in jupyter console)\", TqdmExperimentalWarning)\n"
     ]
    }
   ],
   "source": [
    "import pandas as pd\n",
    "import numpy as np\n",
    "import matplotlib.pyplot as plt\n",
    "from tqdm.autonotebook import tqdm"
   ]
  },
  {
   "cell_type": "code",
   "execution_count": 5,
   "metadata": {
    "ExecuteTime": {
     "end_time": "2020-08-18T23:50:28.337670Z",
     "start_time": "2020-08-18T23:50:28.193748Z"
    }
   },
   "outputs": [],
   "source": [
    "MI_DF = pd.read_pickle(DATA_DIR / \"mi\" / \"phonbank_mi_full_median_shuffled.pickle\")"
   ]
  },
  {
   "cell_type": "code",
   "execution_count": 6,
   "metadata": {
    "ExecuteTime": {
     "end_time": "2020-08-18T23:50:28.392223Z",
     "start_time": "2020-08-18T23:50:28.340157Z"
    }
   },
   "outputs": [
    {
     "data": {
      "text/html": [
       "<div>\n",
       "<style scoped>\n",
       "    .dataframe tbody tr th:only-of-type {\n",
       "        vertical-align: middle;\n",
       "    }\n",
       "\n",
       "    .dataframe tbody tr th {\n",
       "        vertical-align: top;\n",
       "    }\n",
       "\n",
       "    .dataframe thead th {\n",
       "        text-align: right;\n",
       "    }\n",
       "</style>\n",
       "<table border=\"1\" class=\"dataframe\">\n",
       "  <thead>\n",
       "    <tr style=\"text-align: right;\">\n",
       "      <th></th>\n",
       "      <th>MI</th>\n",
       "      <th>MI_var</th>\n",
       "      <th>shuff_MI</th>\n",
       "      <th>shuff_MI_var</th>\n",
       "      <th>distances</th>\n",
       "      <th>age_cohort_low</th>\n",
       "      <th>age_cohort_high</th>\n",
       "      <th>n_phones</th>\n",
       "      <th>n_unique_phones</th>\n",
       "      <th>median_n_phones</th>\n",
       "      <th>shuffling</th>\n",
       "    </tr>\n",
       "  </thead>\n",
       "  <tbody>\n",
       "    <tr>\n",
       "      <th>0</th>\n",
       "      <td>[10.462783652449525, 9.983388971328182, 9.7520...</td>\n",
       "      <td>[0.0049862970087629875, 0.004861915778448901, ...</td>\n",
       "      <td>[9.581032058713163, 9.580828108367228, 9.58096...</td>\n",
       "      <td>[0.004776055346142387, 0.004775665750301762, 0...</td>\n",
       "      <td>[1, 2, 3, 4, 5, 6, 7, 8, 9, 10, 11, 12, 13, 14...</td>\n",
       "      <td>3</td>\n",
       "      <td>20</td>\n",
       "      <td>310065</td>\n",
       "      <td>0</td>\n",
       "      <td>1574</td>\n",
       "      <td>full</td>\n",
       "    </tr>\n",
       "    <tr>\n",
       "      <th>1</th>\n",
       "      <td>[5.740400393887644, 5.659412386387666, 5.62936...</td>\n",
       "      <td>[0.009623133671282348, 0.009617792466309692, 0...</td>\n",
       "      <td>[5.60940114322489, 5.609992145894537, 5.609532...</td>\n",
       "      <td>[0.009598316995692623, 0.009589218644341833, 0...</td>\n",
       "      <td>[1, 2, 3, 4, 5, 6, 7, 8, 9, 10, 11, 12, 13, 14...</td>\n",
       "      <td>3</td>\n",
       "      <td>20</td>\n",
       "      <td>310065</td>\n",
       "      <td>0</td>\n",
       "      <td>1574</td>\n",
       "      <td>shuffled_within_words</td>\n",
       "    </tr>\n",
       "    <tr>\n",
       "      <th>2</th>\n",
       "      <td>[10.41829005815009, 9.936921844638222, 9.69985...</td>\n",
       "      <td>[0.004978099712851141, 0.00484636226919765, 0....</td>\n",
       "      <td>[9.579728969514637, 9.581403782018807, 9.57992...</td>\n",
       "      <td>[0.004774484282599742, 0.004775984491959822, 0...</td>\n",
       "      <td>[1, 2, 3, 4, 5, 6, 7, 8, 9, 10, 11, 12, 13, 14...</td>\n",
       "      <td>3</td>\n",
       "      <td>20</td>\n",
       "      <td>310065</td>\n",
       "      <td>0</td>\n",
       "      <td>1574</td>\n",
       "      <td>shuffled_between_words</td>\n",
       "    </tr>\n",
       "  </tbody>\n",
       "</table>\n",
       "</div>"
      ],
      "text/plain": [
       "                                                  MI  \\\n",
       "0  [10.462783652449525, 9.983388971328182, 9.7520...   \n",
       "1  [5.740400393887644, 5.659412386387666, 5.62936...   \n",
       "2  [10.41829005815009, 9.936921844638222, 9.69985...   \n",
       "\n",
       "                                              MI_var  \\\n",
       "0  [0.0049862970087629875, 0.004861915778448901, ...   \n",
       "1  [0.009623133671282348, 0.009617792466309692, 0...   \n",
       "2  [0.004978099712851141, 0.00484636226919765, 0....   \n",
       "\n",
       "                                            shuff_MI  \\\n",
       "0  [9.581032058713163, 9.580828108367228, 9.58096...   \n",
       "1  [5.60940114322489, 5.609992145894537, 5.609532...   \n",
       "2  [9.579728969514637, 9.581403782018807, 9.57992...   \n",
       "\n",
       "                                        shuff_MI_var  \\\n",
       "0  [0.004776055346142387, 0.004775665750301762, 0...   \n",
       "1  [0.009598316995692623, 0.009589218644341833, 0...   \n",
       "2  [0.004774484282599742, 0.004775984491959822, 0...   \n",
       "\n",
       "                                           distances age_cohort_low  \\\n",
       "0  [1, 2, 3, 4, 5, 6, 7, 8, 9, 10, 11, 12, 13, 14...              3   \n",
       "1  [1, 2, 3, 4, 5, 6, 7, 8, 9, 10, 11, 12, 13, 14...              3   \n",
       "2  [1, 2, 3, 4, 5, 6, 7, 8, 9, 10, 11, 12, 13, 14...              3   \n",
       "\n",
       "  age_cohort_high n_phones n_unique_phones median_n_phones  \\\n",
       "0              20   310065               0            1574   \n",
       "1              20   310065               0            1574   \n",
       "2              20   310065               0            1574   \n",
       "\n",
       "                shuffling  \n",
       "0                    full  \n",
       "1   shuffled_within_words  \n",
       "2  shuffled_between_words  "
      ]
     },
     "execution_count": 6,
     "metadata": {},
     "output_type": "execute_result"
    }
   ],
   "source": [
    "MI_DF[:3]"
   ]
  },
  {
   "cell_type": "code",
   "execution_count": 7,
   "metadata": {
    "ExecuteTime": {
     "end_time": "2020-08-18T23:50:28.414157Z",
     "start_time": "2020-08-18T23:50:28.393885Z"
    }
   },
   "outputs": [
    {
     "data": {
      "text/plain": [
       "array(['full', 'shuffled_within_words', 'shuffled_between_words',\n",
       "       'shuffled_within_utterance', 'no_repeats',\n",
       "       'shuffled_between_utterance', 'shuffled_within_transcript'],\n",
       "      dtype=object)"
      ]
     },
     "execution_count": 7,
     "metadata": {},
     "output_type": "execute_result"
    }
   ],
   "source": [
    "MI_DF.shuffling.unique()"
   ]
  },
  {
   "cell_type": "code",
   "execution_count": 8,
   "metadata": {
    "ExecuteTime": {
     "end_time": "2020-08-18T23:50:28.436724Z",
     "start_time": "2020-08-18T23:50:28.415584Z"
    }
   },
   "outputs": [],
   "source": [
    "MI_DF = MI_DF.assign(**{i:np.nan for i in ['exp_results', 'pow_results', 'concat_results',\n",
    "     'R2_exp', 'R2_concat', 'R2_power', 'AICc_exp',\n",
    "     'AICc_concat', 'AICc_power', 'bestfitmodel', 'curvature', 'min_peak']})\n",
    "MI_DF['curvature'] = MI_DF['curvature'].astype(object)"
   ]
  },
  {
   "cell_type": "code",
   "execution_count": 9,
   "metadata": {
    "ExecuteTime": {
     "end_time": "2020-08-18T23:50:48.964986Z",
     "start_time": "2020-08-18T23:50:28.438081Z"
    }
   },
   "outputs": [
    {
     "data": {
      "application/vnd.jupyter.widget-view+json": {
       "model_id": "4f1366dfb6c849c58e59b1ff052001bf",
       "version_major": 2,
       "version_minor": 0
      },
      "text/plain": [
       "HBox(children=(IntProgress(value=0, max=42), HTML(value='')))"
      ]
     },
     "metadata": {},
     "output_type": "display_data"
    },
    {
     "name": "stderr",
     "output_type": "stream",
     "text": [
      "/mnt/cube/tsainbur/Projects/github_repos/childes_mi_project/childes_mi/information_theory/model_fitting.py:8: RuntimeWarning: invalid value encountered in log\n",
      "  return np.abs(np.log(y_true) - np.log(y_model)) * (1 / (np.log(1 + x)))\n"
     ]
    },
    {
     "name": "stdout",
     "output_type": "stream",
     "text": [
      "3 20 pow_exp full\n",
      "3 20 pow_exp shuffled_within_words\n",
      "3 20 pow_exp shuffled_between_words\n",
      "3 20 pow_exp shuffled_within_utterance\n",
      "3 20 pow_exp no_repeats\n",
      "3 20 pow_exp shuffled_between_utterance\n",
      "3 20 pow shuffled_within_transcript\n",
      "2.5 3 pow_exp full\n",
      "2.5 3 pow_exp shuffled_within_words\n",
      "2.5 3 exp shuffled_between_words\n",
      "2.5 3 pow_exp shuffled_within_utterance\n",
      "2.5 3 pow_exp no_repeats\n",
      "2.5 3 pow_exp shuffled_between_utterance\n",
      "2.5 3 pow shuffled_within_transcript\n",
      "2 2.5 pow_exp full\n",
      "2 2.5 pow shuffled_within_words\n",
      "2 2.5 exp shuffled_between_words\n",
      "2 2.5 pow_exp shuffled_within_utterance\n",
      "2 2.5 pow_exp no_repeats\n",
      "2 2.5 pow_exp shuffled_between_utterance\n",
      "2 2.5 exp shuffled_within_transcript\n",
      "1.5 2 pow_exp full\n",
      "1.5 2 pow_exp shuffled_within_words\n",
      "1.5 2 exp shuffled_between_words\n",
      "1.5 2 pow_exp shuffled_within_utterance\n",
      "1.5 2 pow_exp no_repeats\n",
      "1.5 2 pow_exp shuffled_between_utterance\n",
      "1.5 2 pow shuffled_within_transcript\n",
      "1 1.5 pow_exp full\n",
      "1 1.5 pow_exp shuffled_within_words\n",
      "1 1.5 pow_exp shuffled_between_words\n",
      "1 1.5 pow_exp shuffled_within_utterance\n",
      "1 1.5 pow_exp no_repeats\n",
      "1 1.5 pow_exp shuffled_between_utterance\n",
      "1 1.5 exp shuffled_within_transcript\n",
      "0.5 1 pow_exp full\n",
      "0.5 1 exp shuffled_within_words\n",
      "0.5 1 exp shuffled_between_words\n",
      "0.5 1 pow_exp shuffled_within_utterance\n",
      "0.5 1 pow_exp no_repeats\n",
      "0.5 1 pow_exp shuffled_between_utterance\n",
      "0.5 1 exp shuffled_within_transcript\n",
      "\n"
     ]
    }
   ],
   "source": [
    "n = 100 # max distance for computation\n",
    "for idx, row in tqdm(MI_DF.iterrows(), total=len(MI_DF)):\n",
    "    # get signal\n",
    "    sig = np.array(row.MI-row.shuff_MI)\n",
    "    distances = row.distances\n",
    "    sig = sig\n",
    "    \n",
    "    dist_mask = distances <= row.median_n_phones\n",
    "    distances = distances[dist_mask]\n",
    "    sig = sig[dist_mask]\n",
    "    \n",
    "    # fit models\n",
    "    results_power, results_exp, results_pow_exp, best_fit_model = mf.fit_models(distances, sig)\n",
    "    \n",
    "    # get fit results\n",
    "    R2_exp, R2_concat, R2_power, AICc_exp, \\\n",
    "        AICc_pow, AICc_concat = mf.fit_results(sig, distances, \n",
    "                                              results_exp, results_power,\n",
    "                                              results_pow_exp)\n",
    "    \n",
    "    \n",
    "    # get model y\n",
    "    distances_mod = np.logspace(0,np.log10(n), base=10, num=1000)\n",
    "    if best_fit_model == 'pow_exp':\n",
    "        y_model = mf.get_y(mf.pow_exp_decay, results_pow_exp, distances_mod)\n",
    "    elif best_fit_model == 'exp':\n",
    "        y_model = mf.get_y(mf.exp_decay, results_exp, distances_mod)\n",
    "    elif best_fit_model == 'pow':\n",
    "        y_model = mf.get_y(mf.powerlaw_decay, results_power, distances_mod)\n",
    "    \n",
    "    # get curvature of model_y\n",
    "    curvature_model = mf.curvature(np.log(y_model))\n",
    "    \n",
    "    # if the best fit model is pow_exp, then grab the min peak\n",
    "    if best_fit_model == 'pow_exp':\n",
    "        # get peaks of curvature\n",
    "        peaks = np.where((\n",
    "            (curvature_model[:-1] < curvature_model[1:])[1:] & (curvature_model[1:] < curvature_model[:-1])[:-1]\n",
    "        ))\n",
    "        min_peak = peaks[0][0]\n",
    "    else:\n",
    "        min_peak = np.nan\n",
    "\n",
    "    # get save model fit results to MI_DF\n",
    "    MI_DF.loc[idx, np.array(['exp_results', 'pow_results', 'concat_results',\n",
    "                         'R2_exp', 'R2_concat', 'R2_power', 'AICc_exp',\n",
    "                         'AICc_concat', 'AICc_power', 'bestfitmodel', 'curvature', 'min_peak'])] = [\n",
    "        results_exp, results_power, results_pow_exp,\n",
    "        R2_exp, R2_concat, R2_power, AICc_exp,\n",
    "        AICc_concat, AICc_pow, best_fit_model,\n",
    "        curvature_model, min_peak\n",
    "    ]\n",
    "\n",
    "    print(row.age_cohort_low, row.age_cohort_high, best_fit_model, row.shuffling)"
   ]
  },
  {
   "cell_type": "code",
   "execution_count": 10,
   "metadata": {
    "ExecuteTime": {
     "end_time": "2020-08-18T23:50:49.019091Z",
     "start_time": "2020-08-18T23:50:48.966597Z"
    }
   },
   "outputs": [
    {
     "data": {
      "text/html": [
       "<div>\n",
       "<style scoped>\n",
       "    .dataframe tbody tr th:only-of-type {\n",
       "        vertical-align: middle;\n",
       "    }\n",
       "\n",
       "    .dataframe tbody tr th {\n",
       "        vertical-align: top;\n",
       "    }\n",
       "\n",
       "    .dataframe thead th {\n",
       "        text-align: right;\n",
       "    }\n",
       "</style>\n",
       "<table border=\"1\" class=\"dataframe\">\n",
       "  <thead>\n",
       "    <tr style=\"text-align: right;\">\n",
       "      <th></th>\n",
       "      <th>MI</th>\n",
       "      <th>MI_var</th>\n",
       "      <th>shuff_MI</th>\n",
       "      <th>shuff_MI_var</th>\n",
       "      <th>distances</th>\n",
       "      <th>age_cohort_low</th>\n",
       "      <th>age_cohort_high</th>\n",
       "      <th>n_phones</th>\n",
       "      <th>n_unique_phones</th>\n",
       "      <th>median_n_phones</th>\n",
       "      <th>...</th>\n",
       "      <th>concat_results</th>\n",
       "      <th>R2_exp</th>\n",
       "      <th>R2_concat</th>\n",
       "      <th>R2_power</th>\n",
       "      <th>AICc_exp</th>\n",
       "      <th>AICc_concat</th>\n",
       "      <th>AICc_power</th>\n",
       "      <th>bestfitmodel</th>\n",
       "      <th>curvature</th>\n",
       "      <th>min_peak</th>\n",
       "    </tr>\n",
       "  </thead>\n",
       "  <tbody>\n",
       "    <tr>\n",
       "      <th>0</th>\n",
       "      <td>[10.462783652449525, 9.983388971328182, 9.7520...</td>\n",
       "      <td>[0.0049862970087629875, 0.004861915778448901, ...</td>\n",
       "      <td>[9.581032058713163, 9.580828108367228, 9.58096...</td>\n",
       "      <td>[0.004776055346142387, 0.004775665750301762, 0...</td>\n",
       "      <td>[1, 2, 3, 4, 5, 6, 7, 8, 9, 10, 11, 12, 13, 14...</td>\n",
       "      <td>3</td>\n",
       "      <td>20</td>\n",
       "      <td>310065</td>\n",
       "      <td>0</td>\n",
       "      <td>1574</td>\n",
       "      <td>...</td>\n",
       "      <td>&lt;lmfit.minimizer.MinimizerResult object at 0x7...</td>\n",
       "      <td>0.803401</td>\n",
       "      <td>0.841454</td>\n",
       "      <td>0.840546</td>\n",
       "      <td>-5687.125636</td>\n",
       "      <td>-5998.032033</td>\n",
       "      <td>-5993.698165</td>\n",
       "      <td>pow_exp</td>\n",
       "      <td>[-3.466673961285433e-06, -5.218923875438178e-0...</td>\n",
       "      <td>189.0</td>\n",
       "    </tr>\n",
       "    <tr>\n",
       "      <th>1</th>\n",
       "      <td>[5.740400393887644, 5.659412386387666, 5.62936...</td>\n",
       "      <td>[0.009623133671282348, 0.009617792466309692, 0...</td>\n",
       "      <td>[5.60940114322489, 5.609992145894537, 5.609532...</td>\n",
       "      <td>[0.009598316995692623, 0.009589218644341833, 0...</td>\n",
       "      <td>[1, 2, 3, 4, 5, 6, 7, 8, 9, 10, 11, 12, 13, 14...</td>\n",
       "      <td>3</td>\n",
       "      <td>20</td>\n",
       "      <td>310065</td>\n",
       "      <td>0</td>\n",
       "      <td>1574</td>\n",
       "      <td>...</td>\n",
       "      <td>&lt;lmfit.minimizer.MinimizerResult object at 0x7...</td>\n",
       "      <td>0.744447</td>\n",
       "      <td>0.806274</td>\n",
       "      <td>0.804592</td>\n",
       "      <td>-3315.562404</td>\n",
       "      <td>-3589.895654</td>\n",
       "      <td>-3585.247737</td>\n",
       "      <td>pow_exp</td>\n",
       "      <td>[-7.665690649704763e-06, -1.1500075645919643e-...</td>\n",
       "      <td>6.0</td>\n",
       "    </tr>\n",
       "    <tr>\n",
       "      <th>2</th>\n",
       "      <td>[10.41829005815009, 9.936921844638222, 9.69985...</td>\n",
       "      <td>[0.004978099712851141, 0.00484636226919765, 0....</td>\n",
       "      <td>[9.579728969514637, 9.581403782018807, 9.57992...</td>\n",
       "      <td>[0.004774484282599742, 0.004775984491959822, 0...</td>\n",
       "      <td>[1, 2, 3, 4, 5, 6, 7, 8, 9, 10, 11, 12, 13, 14...</td>\n",
       "      <td>3</td>\n",
       "      <td>20</td>\n",
       "      <td>310065</td>\n",
       "      <td>0</td>\n",
       "      <td>1574</td>\n",
       "      <td>...</td>\n",
       "      <td>&lt;lmfit.minimizer.MinimizerResult object at 0x7...</td>\n",
       "      <td>0.857692</td>\n",
       "      <td>0.858956</td>\n",
       "      <td>0.850476</td>\n",
       "      <td>-3204.513272</td>\n",
       "      <td>-3208.395193</td>\n",
       "      <td>-3160.587539</td>\n",
       "      <td>pow_exp</td>\n",
       "      <td>[-1.0032263994535291e-05, -1.5071595313980539e...</td>\n",
       "      <td>316.0</td>\n",
       "    </tr>\n",
       "  </tbody>\n",
       "</table>\n",
       "<p>3 rows × 23 columns</p>\n",
       "</div>"
      ],
      "text/plain": [
       "                                                  MI  \\\n",
       "0  [10.462783652449525, 9.983388971328182, 9.7520...   \n",
       "1  [5.740400393887644, 5.659412386387666, 5.62936...   \n",
       "2  [10.41829005815009, 9.936921844638222, 9.69985...   \n",
       "\n",
       "                                              MI_var  \\\n",
       "0  [0.0049862970087629875, 0.004861915778448901, ...   \n",
       "1  [0.009623133671282348, 0.009617792466309692, 0...   \n",
       "2  [0.004978099712851141, 0.00484636226919765, 0....   \n",
       "\n",
       "                                            shuff_MI  \\\n",
       "0  [9.581032058713163, 9.580828108367228, 9.58096...   \n",
       "1  [5.60940114322489, 5.609992145894537, 5.609532...   \n",
       "2  [9.579728969514637, 9.581403782018807, 9.57992...   \n",
       "\n",
       "                                        shuff_MI_var  \\\n",
       "0  [0.004776055346142387, 0.004775665750301762, 0...   \n",
       "1  [0.009598316995692623, 0.009589218644341833, 0...   \n",
       "2  [0.004774484282599742, 0.004775984491959822, 0...   \n",
       "\n",
       "                                           distances age_cohort_low  \\\n",
       "0  [1, 2, 3, 4, 5, 6, 7, 8, 9, 10, 11, 12, 13, 14...              3   \n",
       "1  [1, 2, 3, 4, 5, 6, 7, 8, 9, 10, 11, 12, 13, 14...              3   \n",
       "2  [1, 2, 3, 4, 5, 6, 7, 8, 9, 10, 11, 12, 13, 14...              3   \n",
       "\n",
       "  age_cohort_high n_phones n_unique_phones median_n_phones  ...  \\\n",
       "0              20   310065               0            1574  ...   \n",
       "1              20   310065               0            1574  ...   \n",
       "2              20   310065               0            1574  ...   \n",
       "\n",
       "                                      concat_results    R2_exp R2_concat  \\\n",
       "0  <lmfit.minimizer.MinimizerResult object at 0x7...  0.803401  0.841454   \n",
       "1  <lmfit.minimizer.MinimizerResult object at 0x7...  0.744447  0.806274   \n",
       "2  <lmfit.minimizer.MinimizerResult object at 0x7...  0.857692  0.858956   \n",
       "\n",
       "   R2_power     AICc_exp  AICc_concat   AICc_power  bestfitmodel  \\\n",
       "0  0.840546 -5687.125636 -5998.032033 -5993.698165       pow_exp   \n",
       "1  0.804592 -3315.562404 -3589.895654 -3585.247737       pow_exp   \n",
       "2  0.850476 -3204.513272 -3208.395193 -3160.587539       pow_exp   \n",
       "\n",
       "                                           curvature  min_peak  \n",
       "0  [-3.466673961285433e-06, -5.218923875438178e-0...     189.0  \n",
       "1  [-7.665690649704763e-06, -1.1500075645919643e-...       6.0  \n",
       "2  [-1.0032263994535291e-05, -1.5071595313980539e...     316.0  \n",
       "\n",
       "[3 rows x 23 columns]"
      ]
     },
     "execution_count": 10,
     "metadata": {},
     "output_type": "execute_result"
    }
   ],
   "source": [
    "MI_DF[:3]"
   ]
  },
  {
   "cell_type": "code",
   "execution_count": 11,
   "metadata": {
    "ExecuteTime": {
     "end_time": "2020-08-18T23:50:49.037140Z",
     "start_time": "2020-08-18T23:50:49.020425Z"
    }
   },
   "outputs": [
    {
     "data": {
      "text/plain": [
       "Index(['MI', 'MI_var', 'shuff_MI', 'shuff_MI_var', 'distances',\n",
       "       'age_cohort_low', 'age_cohort_high', 'n_phones', 'n_unique_phones',\n",
       "       'median_n_phones', 'shuffling', 'exp_results', 'pow_results',\n",
       "       'concat_results', 'R2_exp', 'R2_concat', 'R2_power', 'AICc_exp',\n",
       "       'AICc_concat', 'AICc_power', 'bestfitmodel', 'curvature', 'min_peak'],\n",
       "      dtype='object')"
      ]
     },
     "execution_count": 11,
     "metadata": {},
     "output_type": "execute_result"
    }
   ],
   "source": [
    "MI_DF.columns"
   ]
  },
  {
   "cell_type": "code",
   "execution_count": 12,
   "metadata": {
    "ExecuteTime": {
     "end_time": "2020-08-18T23:50:49.055555Z",
     "start_time": "2020-08-18T23:50:49.038454Z"
    }
   },
   "outputs": [],
   "source": [
    "parameter_translation = {\n",
    "    \"e_init\": \"a\",\n",
    "    \"e_decay_const\": \"b\",\n",
    "    \"p_init\": \"c\",\n",
    "    \"p_decay_const\": \"d\",\n",
    "    \"intercept\": \"f\",\n",
    "}"
   ]
  },
  {
   "cell_type": "code",
   "execution_count": 13,
   "metadata": {
    "ExecuteTime": {
     "end_time": "2020-08-18T23:50:49.120176Z",
     "start_time": "2020-08-18T23:50:49.056953Z"
    }
   },
   "outputs": [],
   "source": [
    "param_df = pd.DataFrame(\n",
    "    columns=[\n",
    "        \"dataset\", \n",
    "        \"age_low\", \n",
    "        \"age_high\", \n",
    "        \"a_value\", \n",
    "        \"a_stderr\",\n",
    "        \"b_value\", \n",
    "        \"b_stderr\",\n",
    "        \"c_value\", \n",
    "        \"c_stderr\",\n",
    "        \"d_value\", \n",
    "        \"d_stderr\",\n",
    "        \"f_value\", \n",
    "        \"f_stderr\"\n",
    "    ]\n",
    ")\n",
    "for idx, row in MI_DF[MI_DF.shuffling == 'full'].iterrows():\n",
    "    param_vals = {}\n",
    "    param_stderrs = {}\n",
    "    for param in row.concat_results.params:\n",
    "        param_vals[param] = row.concat_results.params[param].value\n",
    "        param_stderrs[param] = row.concat_results.params[param].stderr\n",
    "    param_df.loc[len(param_df)] = [\n",
    "        'phonbank',\n",
    "        row.age_cohort_low,\n",
    "        row.age_cohort_high,\n",
    "        param_vals[\"e_init\"],\n",
    "        param_stderrs[\"e_init\"],\n",
    "        param_vals[\"e_decay_const\"],\n",
    "        param_stderrs[\"e_decay_const\"],\n",
    "        param_vals[\"p_init\"],\n",
    "        param_stderrs[\"p_init\"],\n",
    "        param_vals[\"p_decay_const\"],\n",
    "        param_stderrs[\"p_decay_const\"],\n",
    "        param_vals[\"intercept\"],\n",
    "        param_stderrs[\"intercept\"],\n",
    "\n",
    "    ]"
   ]
  },
  {
   "cell_type": "code",
   "execution_count": 14,
   "metadata": {
    "ExecuteTime": {
     "end_time": "2020-08-18T23:50:49.146899Z",
     "start_time": "2020-08-18T23:50:49.121458Z"
    }
   },
   "outputs": [
    {
     "data": {
      "text/html": [
       "<div>\n",
       "<style scoped>\n",
       "    .dataframe tbody tr th:only-of-type {\n",
       "        vertical-align: middle;\n",
       "    }\n",
       "\n",
       "    .dataframe tbody tr th {\n",
       "        vertical-align: top;\n",
       "    }\n",
       "\n",
       "    .dataframe thead th {\n",
       "        text-align: right;\n",
       "    }\n",
       "</style>\n",
       "<table border=\"1\" class=\"dataframe\">\n",
       "  <thead>\n",
       "    <tr style=\"text-align: right;\">\n",
       "      <th></th>\n",
       "      <th>dataset</th>\n",
       "      <th>age_low</th>\n",
       "      <th>age_high</th>\n",
       "      <th>a_value</th>\n",
       "      <th>a_stderr</th>\n",
       "      <th>b_value</th>\n",
       "      <th>b_stderr</th>\n",
       "      <th>c_value</th>\n",
       "      <th>c_stderr</th>\n",
       "      <th>d_value</th>\n",
       "      <th>d_stderr</th>\n",
       "      <th>f_value</th>\n",
       "      <th>f_stderr</th>\n",
       "    </tr>\n",
       "  </thead>\n",
       "  <tbody>\n",
       "    <tr>\n",
       "      <th>0</th>\n",
       "      <td>phonbank</td>\n",
       "      <td>3</td>\n",
       "      <td>20</td>\n",
       "      <td>1.019228</td>\n",
       "      <td>0.371470</td>\n",
       "      <td>0.856513</td>\n",
       "      <td>0.136712</td>\n",
       "      <td>0.475605</td>\n",
       "      <td>0.132080</td>\n",
       "      <td>-1.432611</td>\n",
       "      <td>0.087300</td>\n",
       "      <td>0.001397</td>\n",
       "      <td>0.000040</td>\n",
       "    </tr>\n",
       "    <tr>\n",
       "      <th>1</th>\n",
       "      <td>phonbank</td>\n",
       "      <td>2.5</td>\n",
       "      <td>3</td>\n",
       "      <td>1.112392</td>\n",
       "      <td>0.254874</td>\n",
       "      <td>0.907804</td>\n",
       "      <td>0.100338</td>\n",
       "      <td>0.379824</td>\n",
       "      <td>0.082137</td>\n",
       "      <td>-1.380756</td>\n",
       "      <td>0.069510</td>\n",
       "      <td>0.001498</td>\n",
       "      <td>0.000038</td>\n",
       "    </tr>\n",
       "    <tr>\n",
       "      <th>2</th>\n",
       "      <td>phonbank</td>\n",
       "      <td>2</td>\n",
       "      <td>2.5</td>\n",
       "      <td>1.224931</td>\n",
       "      <td>0.136307</td>\n",
       "      <td>0.877363</td>\n",
       "      <td>0.054054</td>\n",
       "      <td>0.304584</td>\n",
       "      <td>0.043078</td>\n",
       "      <td>-1.219118</td>\n",
       "      <td>0.046071</td>\n",
       "      <td>0.002378</td>\n",
       "      <td>0.000049</td>\n",
       "    </tr>\n",
       "    <tr>\n",
       "      <th>3</th>\n",
       "      <td>phonbank</td>\n",
       "      <td>1.5</td>\n",
       "      <td>2</td>\n",
       "      <td>0.891221</td>\n",
       "      <td>0.098149</td>\n",
       "      <td>0.794046</td>\n",
       "      <td>0.032376</td>\n",
       "      <td>0.358147</td>\n",
       "      <td>0.041934</td>\n",
       "      <td>-1.234150</td>\n",
       "      <td>0.044388</td>\n",
       "      <td>0.005142</td>\n",
       "      <td>0.000117</td>\n",
       "    </tr>\n",
       "    <tr>\n",
       "      <th>4</th>\n",
       "      <td>phonbank</td>\n",
       "      <td>1</td>\n",
       "      <td>1.5</td>\n",
       "      <td>0.404213</td>\n",
       "      <td>0.046688</td>\n",
       "      <td>0.463113</td>\n",
       "      <td>0.021292</td>\n",
       "      <td>0.446015</td>\n",
       "      <td>0.028507</td>\n",
       "      <td>-1.136704</td>\n",
       "      <td>0.027038</td>\n",
       "      <td>0.016470</td>\n",
       "      <td>0.000233</td>\n",
       "    </tr>\n",
       "    <tr>\n",
       "      <th>5</th>\n",
       "      <td>phonbank</td>\n",
       "      <td>0.5</td>\n",
       "      <td>1</td>\n",
       "      <td>0.325817</td>\n",
       "      <td>0.065498</td>\n",
       "      <td>0.390629</td>\n",
       "      <td>0.045000</td>\n",
       "      <td>0.301216</td>\n",
       "      <td>0.040821</td>\n",
       "      <td>-1.013226</td>\n",
       "      <td>0.087136</td>\n",
       "      <td>0.035119</td>\n",
       "      <td>0.001961</td>\n",
       "    </tr>\n",
       "  </tbody>\n",
       "</table>\n",
       "</div>"
      ],
      "text/plain": [
       "    dataset age_low age_high   a_value  a_stderr   b_value  b_stderr  \\\n",
       "0  phonbank       3       20  1.019228  0.371470  0.856513  0.136712   \n",
       "1  phonbank     2.5        3  1.112392  0.254874  0.907804  0.100338   \n",
       "2  phonbank       2      2.5  1.224931  0.136307  0.877363  0.054054   \n",
       "3  phonbank     1.5        2  0.891221  0.098149  0.794046  0.032376   \n",
       "4  phonbank       1      1.5  0.404213  0.046688  0.463113  0.021292   \n",
       "5  phonbank     0.5        1  0.325817  0.065498  0.390629  0.045000   \n",
       "\n",
       "    c_value  c_stderr   d_value  d_stderr   f_value  f_stderr  \n",
       "0  0.475605  0.132080 -1.432611  0.087300  0.001397  0.000040  \n",
       "1  0.379824  0.082137 -1.380756  0.069510  0.001498  0.000038  \n",
       "2  0.304584  0.043078 -1.219118  0.046071  0.002378  0.000049  \n",
       "3  0.358147  0.041934 -1.234150  0.044388  0.005142  0.000117  \n",
       "4  0.446015  0.028507 -1.136704  0.027038  0.016470  0.000233  \n",
       "5  0.301216  0.040821 -1.013226  0.087136  0.035119  0.001961  "
      ]
     },
     "execution_count": 14,
     "metadata": {},
     "output_type": "execute_result"
    }
   ],
   "source": [
    "param_df"
   ]
  },
  {
   "cell_type": "code",
   "execution_count": 15,
   "metadata": {
    "ExecuteTime": {
     "end_time": "2020-08-18T23:50:49.161540Z",
     "start_time": "2020-08-18T23:50:49.147866Z"
    }
   },
   "outputs": [],
   "source": [
    "ensure_dir(DATA_DIR / 'param_dfs')\n",
    "param_df.to_pickle(DATA_DIR / 'param_dfs' / 'phonbank.pickle')"
   ]
  },
  {
   "cell_type": "code",
   "execution_count": null,
   "metadata": {},
   "outputs": [],
   "source": []
  },
  {
   "cell_type": "code",
   "execution_count": null,
   "metadata": {},
   "outputs": [],
   "source": []
  }
 ],
 "metadata": {
  "kernelspec": {
   "display_name": "Python 3",
   "language": "python",
   "name": "python3"
  },
  "language_info": {
   "codemirror_mode": {
    "name": "ipython",
    "version": 3
   },
   "file_extension": ".py",
   "mimetype": "text/x-python",
   "name": "python",
   "nbconvert_exporter": "python",
   "pygments_lexer": "ipython3",
   "version": "3.6.7"
  }
 },
 "nbformat": 4,
 "nbformat_minor": 2
}
