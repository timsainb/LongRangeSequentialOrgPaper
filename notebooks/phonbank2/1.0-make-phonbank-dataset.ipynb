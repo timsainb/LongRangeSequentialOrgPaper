{
 "cells": [
  {
   "cell_type": "code",
   "execution_count": 1,
   "metadata": {
    "ExecuteTime": {
     "end_time": "2019-08-15T03:05:07.728252Z",
     "start_time": "2019-08-15T03:05:07.699734Z"
    }
   },
   "outputs": [],
   "source": [
    "%load_ext autoreload\n",
    "%autoreload 2"
   ]
  },
  {
   "cell_type": "code",
   "execution_count": 2,
   "metadata": {
    "ExecuteTime": {
     "end_time": "2019-08-15T03:05:09.080300Z",
     "start_time": "2019-08-15T03:05:07.731625Z"
    }
   },
   "outputs": [
    {
     "name": "stderr",
     "output_type": "stream",
     "text": [
      "/mnt/cube/tsainbur/conda_envs/tpy3/lib/python3.6/site-packages/tqdm/autonotebook/__init__.py:14: TqdmExperimentalWarning: Using `tqdm.autonotebook.tqdm` in notebook mode. Use `tqdm.tqdm` instead to force console mode (e.g. in jupyter console)\n",
      "  \" (e.g. in jupyter console)\", TqdmExperimentalWarning)\n"
     ]
    }
   ],
   "source": [
    "import xmltodict\n",
    "import numpy as np\n",
    "import pandas as pd\n",
    "from tqdm.autonotebook import tqdm"
   ]
  },
  {
   "cell_type": "code",
   "execution_count": 3,
   "metadata": {
    "ExecuteTime": {
     "end_time": "2019-08-15T03:05:09.124871Z",
     "start_time": "2019-08-15T03:05:09.083174Z"
    }
   },
   "outputs": [],
   "source": [
    "from childes_mi.utils.paths import DATA_DIR, ensure_dir, PHONBANK_DIR"
   ]
  },
  {
   "cell_type": "code",
   "execution_count": 4,
   "metadata": {
    "ExecuteTime": {
     "end_time": "2019-08-15T03:05:09.190466Z",
     "start_time": "2019-08-15T03:05:09.128385Z"
    }
   },
   "outputs": [],
   "source": [
    "from childes_mi.utils.general import readfile"
   ]
  },
  {
   "cell_type": "code",
   "execution_count": 5,
   "metadata": {
    "ExecuteTime": {
     "end_time": "2019-08-15T03:05:09.280447Z",
     "start_time": "2019-08-15T03:05:09.198509Z"
    }
   },
   "outputs": [],
   "source": [
    "from childes_mi.datasets.phonbank import (\n",
    "    get_participants,\n",
    "    get_transcript_metadata,\n",
    "    _check_for_expected_keys,\n",
    "    expected_keys,\n",
    "    process_record,\n",
    "    process_transcript\n",
    ")"
   ]
  },
  {
   "cell_type": "markdown",
   "metadata": {},
   "source": [
    "### locate XML"
   ]
  },
  {
   "cell_type": "code",
   "execution_count": 6,
   "metadata": {
    "ExecuteTime": {
     "end_time": "2019-08-15T03:05:09.718571Z",
     "start_time": "2019-08-15T03:05:09.283750Z"
    }
   },
   "outputs": [],
   "source": [
    "all_XML = list(PHONBANK_DIR.glob('**/*.xml'))"
   ]
  },
  {
   "cell_type": "code",
   "execution_count": 7,
   "metadata": {
    "ExecuteTime": {
     "end_time": "2019-08-15T03:05:09.766201Z",
     "start_time": "2019-08-15T03:05:09.724487Z"
    }
   },
   "outputs": [
    {
     "data": {
      "text/plain": [
       "(7380,\n",
       " [PosixPath('/mnt/cube/tsainbur/Projects/github_repos/childes_mi_project/data/raw/PHON_Data_Dir/corpora/Spanish/Vivar/project.xml'),\n",
       "  PosixPath('/mnt/cube/tsainbur/Projects/github_repos/childes_mi_project/data/raw/PHON_Data_Dir/corpora/Spanish/Vivar/Santiago/2M-AA.xml'),\n",
       "  PosixPath('/mnt/cube/tsainbur/Projects/github_repos/childes_mi_project/data/raw/PHON_Data_Dir/corpora/Spanish/Vivar/Santiago/4M-MB.xml')])"
      ]
     },
     "execution_count": 7,
     "metadata": {},
     "output_type": "execute_result"
    }
   ],
   "source": [
    "len(all_XML), all_XML[:3]"
   ]
  },
  {
   "cell_type": "markdown",
   "metadata": {},
   "source": [
    "### test one transcript"
   ]
  },
  {
   "cell_type": "code",
   "execution_count": 8,
   "metadata": {
    "ExecuteTime": {
     "end_time": "2019-08-15T03:05:09.848627Z",
     "start_time": "2019-08-15T03:05:09.768728Z"
    }
   },
   "outputs": [
    {
     "name": "stdout",
     "output_type": "stream",
     "text": [
      "/mnt/cube/tsainbur/Projects/github_repos/childes_mi_project/data/raw/PHON_Data_Dir/corpora/Chinese/Taiwanese/Tsay/LMC/21028.xml\n"
     ]
    }
   ],
   "source": [
    "transcript = all_XML[618]\n",
    "#transcript = '/mnt/cube/tsainbur/Projects/github_repos/childes_mi_project/data/raw/PHON_Data_Dir/corpora/-NA/Davis-CDI/Ben-WS/Ben-1_11_06.xml'\n",
    "print(transcript)"
   ]
  },
  {
   "cell_type": "code",
   "execution_count": 9,
   "metadata": {
    "ExecuteTime": {
     "end_time": "2019-08-15T03:05:10.910054Z",
     "start_time": "2019-08-15T03:05:10.781834Z"
    }
   },
   "outputs": [],
   "source": [
    "from joblib.externals.loky import set_loky_pickler\n",
    "from joblib import parallel_backend\n",
    "from joblib import Parallel, delayed\n",
    "from joblib import wrap_non_picklable_objects"
   ]
  },
  {
   "cell_type": "code",
   "execution_count": 11,
   "metadata": {
    "ExecuteTime": {
     "end_time": "2019-08-15T03:16:14.597702Z",
     "start_time": "2019-08-15T03:09:14.208994Z"
    }
   },
   "outputs": [
    {
     "data": {
      "application/vnd.jupyter.widget-view+json": {
       "model_id": "8101913e4e5c4e6e942d5871af6eaff9",
       "version_major": 2,
       "version_minor": 0
      },
      "text/plain": [
       "HBox(children=(IntProgress(value=0, max=7379), HTML(value='')))"
      ]
     },
     "metadata": {},
     "output_type": "display_data"
    }
   ],
   "source": [
    "nex = -1\n",
    "with Parallel(n_jobs=-1) as parallel:\n",
    "    transcript_dfs = parallel(\n",
    "        delayed(process_transcript)(\n",
    "            transcript,\n",
    "            participant_save_loc=DATA_DIR\n",
    "            / (\"processed/phonbank/participants/\" + '_'.join(transcript.as_posix()[:-4].split('/')[-5:]) + \".pickle\"),\n",
    "            transcript_save_loc=DATA_DIR\n",
    "            / (\"processed/phonbank/transcripts/\" + '_'.join(transcript.as_posix()[:-4].split('/')[-5:]) + \".pickle\"),\n",
    "        )\n",
    "        for transcript in tqdm(all_XML[:nex])\n",
    "    )"
   ]
  },
  {
   "cell_type": "code",
   "execution_count": 12,
   "metadata": {
    "ExecuteTime": {
     "end_time": "2019-08-15T03:16:17.906376Z",
     "start_time": "2019-08-15T03:16:17.404923Z"
    }
   },
   "outputs": [
    {
     "data": {
      "text/plain": [
       "PosixPath('/mnt/cube/tsainbur/Projects/github_repos/childes_mi_project/data/raw/PHON_Data_Dir/corpora/Spanish/Vivar/Santiago/2M-AA.xml')"
      ]
     },
     "execution_count": 12,
     "metadata": {},
     "output_type": "execute_result"
    }
   ],
   "source": [
    "all_XML[1]"
   ]
  },
  {
   "cell_type": "code",
   "execution_count": 13,
   "metadata": {
    "ExecuteTime": {
     "end_time": "2019-08-15T03:16:18.564445Z",
     "start_time": "2019-08-15T03:16:18.522634Z"
    }
   },
   "outputs": [
    {
     "data": {
      "text/plain": [
       "'2M-AA'"
      ]
     },
     "execution_count": 13,
     "metadata": {},
     "output_type": "execute_result"
    }
   ],
   "source": [
    "all_XML[1].stem"
   ]
  },
  {
   "cell_type": "code",
   "execution_count": null,
   "metadata": {
    "ExecuteTime": {
     "end_time": "2019-08-15T02:59:56.150898Z",
     "start_time": "2019-08-15T02:59:56.104575Z"
    }
   },
   "outputs": [],
   "source": []
  },
  {
   "cell_type": "code",
   "execution_count": 14,
   "metadata": {
    "ExecuteTime": {
     "end_time": "2019-08-15T03:16:23.283711Z",
     "start_time": "2019-08-15T03:16:19.809821Z"
    }
   },
   "outputs": [],
   "source": [
    "transcript_df = pd.concat(transcript_dfs)"
   ]
  },
  {
   "cell_type": "code",
   "execution_count": 15,
   "metadata": {
    "ExecuteTime": {
     "end_time": "2019-08-15T03:16:24.582430Z",
     "start_time": "2019-08-15T03:16:23.286329Z"
    }
   },
   "outputs": [
    {
     "data": {
      "text/html": [
       "<div>\n",
       "<style scoped>\n",
       "    .dataframe tbody tr th:only-of-type {\n",
       "        vertical-align: middle;\n",
       "    }\n",
       "\n",
       "    .dataframe tbody tr th {\n",
       "        vertical-align: top;\n",
       "    }\n",
       "\n",
       "    .dataframe thead th {\n",
       "        text-align: right;\n",
       "    }\n",
       "</style>\n",
       "<table border=\"1\" class=\"dataframe\">\n",
       "  <thead>\n",
       "    <tr style=\"text-align: right;\">\n",
       "      <th></th>\n",
       "      <th>transcript_id</th>\n",
       "      <th>transcript_root_name</th>\n",
       "      <th>corpus</th>\n",
       "      <th>version</th>\n",
       "      <th>date</th>\n",
       "      <th>language</th>\n",
       "      <th>media</th>\n",
       "      <th>xml_loc</th>\n",
       "    </tr>\n",
       "  </thead>\n",
       "  <tbody>\n",
       "    <tr>\n",
       "      <th>0</th>\n",
       "      <td>2M-AA</td>\n",
       "      <td>corpora_Spanish_Vivar_Santiago_2M-AA</td>\n",
       "      <td>Santiago</td>\n",
       "      <td>PB1.2</td>\n",
       "      <td>2016-11-06</td>\n",
       "      <td>spa</td>\n",
       "      <td>Vivar/Santiago/2M-AA.wav</td>\n",
       "      <td>/mnt/cube/tsainbur/Projects/github_repos/child...</td>\n",
       "    </tr>\n",
       "    <tr>\n",
       "      <th>0</th>\n",
       "      <td>4M-MB</td>\n",
       "      <td>corpora_Spanish_Vivar_Santiago_4M-MB</td>\n",
       "      <td>Santiago</td>\n",
       "      <td>PB1.2</td>\n",
       "      <td>2016-11-20</td>\n",
       "      <td>spa</td>\n",
       "      <td>Vivar/Santiago/4M-MB.wav</td>\n",
       "      <td>/mnt/cube/tsainbur/Projects/github_repos/child...</td>\n",
       "    </tr>\n",
       "    <tr>\n",
       "      <th>0</th>\n",
       "      <td>2A-IB</td>\n",
       "      <td>corpora_Spanish_Vivar_Santiago_2A-IB</td>\n",
       "      <td>Santiago</td>\n",
       "      <td>PB1.2</td>\n",
       "      <td>2016-11-08</td>\n",
       "      <td>spa</td>\n",
       "      <td>Vivar/Santiago/2A-IB.wav</td>\n",
       "      <td>/mnt/cube/tsainbur/Projects/github_repos/child...</td>\n",
       "    </tr>\n",
       "  </tbody>\n",
       "</table>\n",
       "</div>"
      ],
      "text/plain": [
       "  transcript_id                  transcript_root_name    corpus version  \\\n",
       "0         2M-AA  corpora_Spanish_Vivar_Santiago_2M-AA  Santiago   PB1.2   \n",
       "0         4M-MB  corpora_Spanish_Vivar_Santiago_4M-MB  Santiago   PB1.2   \n",
       "0         2A-IB  corpora_Spanish_Vivar_Santiago_2A-IB  Santiago   PB1.2   \n",
       "\n",
       "         date language                     media  \\\n",
       "0  2016-11-06      spa  Vivar/Santiago/2M-AA.wav   \n",
       "0  2016-11-20      spa  Vivar/Santiago/4M-MB.wav   \n",
       "0  2016-11-08      spa  Vivar/Santiago/2A-IB.wav   \n",
       "\n",
       "                                             xml_loc  \n",
       "0  /mnt/cube/tsainbur/Projects/github_repos/child...  \n",
       "0  /mnt/cube/tsainbur/Projects/github_repos/child...  \n",
       "0  /mnt/cube/tsainbur/Projects/github_repos/child...  "
      ]
     },
     "execution_count": 15,
     "metadata": {},
     "output_type": "execute_result"
    }
   ],
   "source": [
    "transcript_df[:3]"
   ]
  },
  {
   "cell_type": "code",
   "execution_count": 16,
   "metadata": {
    "ExecuteTime": {
     "end_time": "2019-08-15T03:16:24.616400Z",
     "start_time": "2019-08-15T03:16:24.585051Z"
    }
   },
   "outputs": [
    {
     "data": {
      "text/plain": [
       "array(['2016-11-06', '2016-11-20', '2016-11-08', ..., '1984-01-01Z',\n",
       "       '1984-01-01Z', '1984-01-01Z'], dtype=object)"
      ]
     },
     "execution_count": 16,
     "metadata": {},
     "output_type": "execute_result"
    }
   ],
   "source": [
    "transcript_df.date.values"
   ]
  },
  {
   "cell_type": "code",
   "execution_count": 17,
   "metadata": {
    "ExecuteTime": {
     "end_time": "2019-08-15T03:16:24.700549Z",
     "start_time": "2019-08-15T03:16:24.619189Z"
    }
   },
   "outputs": [
    {
     "data": {
      "text/plain": [
       "6608"
      ]
     },
     "execution_count": 17,
     "metadata": {},
     "output_type": "execute_result"
    }
   ],
   "source": [
    "len(transcript_df)"
   ]
  },
  {
   "cell_type": "code",
   "execution_count": 18,
   "metadata": {
    "ExecuteTime": {
     "end_time": "2019-08-15T03:16:28.635383Z",
     "start_time": "2019-08-15T03:16:28.531277Z"
    }
   },
   "outputs": [],
   "source": [
    "transcript_df.to_pickle(DATA_DIR / 'processed/phonbank/transcript_df_all.pickle')"
   ]
  },
  {
   "cell_type": "code",
   "execution_count": 19,
   "metadata": {
    "ExecuteTime": {
     "end_time": "2019-08-15T03:16:42.153979Z",
     "start_time": "2019-08-15T03:16:42.110139Z"
    }
   },
   "outputs": [],
   "source": [
    "#for transcript in tqdm(all_XML[7000:]):\n",
    "#    process_transcript(transcript, participant_save_loc=None, transcript_save_loc=None))"
   ]
  },
  {
   "cell_type": "code",
   "execution_count": null,
   "metadata": {},
   "outputs": [],
   "source": []
  }
 ],
 "metadata": {
  "kernelspec": {
   "display_name": "Python 3",
   "language": "python",
   "name": "python3"
  },
  "language_info": {
   "codemirror_mode": {
    "name": "ipython",
    "version": 3
   },
   "file_extension": ".py",
   "mimetype": "text/x-python",
   "name": "python",
   "nbconvert_exporter": "python",
   "pygments_lexer": "ipython3",
   "version": "3.9.1"
  }
 },
 "nbformat": 4,
 "nbformat_minor": 2
}
