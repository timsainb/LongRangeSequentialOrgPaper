{
 "cells": [
  {
   "cell_type": "code",
   "execution_count": 1,
   "metadata": {
    "ExecuteTime": {
     "end_time": "2021-02-23T18:37:39.315355Z",
     "start_time": "2021-02-23T18:37:39.302837Z"
    }
   },
   "outputs": [],
   "source": [
    "%load_ext autoreload\n",
    "%autoreload 2"
   ]
  },
  {
   "cell_type": "code",
   "execution_count": 2,
   "metadata": {
    "ExecuteTime": {
     "end_time": "2021-02-23T18:37:39.711003Z",
     "start_time": "2021-02-23T18:37:39.452663Z"
    }
   },
   "outputs": [
    {
     "name": "stderr",
     "output_type": "stream",
     "text": [
      "<ipython-input-2-285f80bacdea>:4: TqdmExperimentalWarning: Using `tqdm.autonotebook.tqdm` in notebook mode. Use `tqdm.tqdm` instead to force console mode (e.g. in jupyter console)\n",
      "  from tqdm.autonotebook import tqdm\n"
     ]
    }
   ],
   "source": [
    "import xmltodict\n",
    "import numpy as np\n",
    "import pandas as pd\n",
    "from tqdm.autonotebook import tqdm"
   ]
  },
  {
   "cell_type": "code",
   "execution_count": 3,
   "metadata": {
    "ExecuteTime": {
     "end_time": "2021-02-23T18:37:39.723733Z",
     "start_time": "2021-02-23T18:37:39.712488Z"
    }
   },
   "outputs": [],
   "source": [
    "from childes_mi.utils.paths import DATA_DIR, ensure_dir, PHONBANK_DIR"
   ]
  },
  {
   "cell_type": "code",
   "execution_count": 4,
   "metadata": {
    "ExecuteTime": {
     "end_time": "2021-02-23T18:37:39.917639Z",
     "start_time": "2021-02-23T18:37:39.735355Z"
    }
   },
   "outputs": [],
   "source": [
    "from childes_mi.utils.general import readfile"
   ]
  },
  {
   "cell_type": "code",
   "execution_count": 5,
   "metadata": {
    "ExecuteTime": {
     "end_time": "2021-02-23T18:37:39.931165Z",
     "start_time": "2021-02-23T18:37:39.919385Z"
    }
   },
   "outputs": [],
   "source": [
    "from childes_mi.datasets.phonbank import (\n",
    "    get_participants,\n",
    "    get_transcript_metadata,\n",
    "    _check_for_expected_keys,\n",
    "    expected_keys,\n",
    "    process_record,\n",
    "    process_transcript\n",
    ")"
   ]
  },
  {
   "cell_type": "markdown",
   "metadata": {},
   "source": [
    "### locate XML"
   ]
  },
  {
   "cell_type": "code",
   "execution_count": 6,
   "metadata": {
    "ExecuteTime": {
     "end_time": "2021-02-23T18:37:41.665415Z",
     "start_time": "2021-02-23T18:37:41.649121Z"
    }
   },
   "outputs": [
    {
     "data": {
      "text/plain": [
       "PosixPath('/mnt/cube/tsainbur/Projects/github_repos/LRSO_paper_rev/LongRangeSequentialOrgPaper/data/raw/PHON_Data_Dir/corpora')"
      ]
     },
     "execution_count": 6,
     "metadata": {},
     "output_type": "execute_result"
    }
   ],
   "source": [
    "PHONBANK_DIR"
   ]
  },
  {
   "cell_type": "code",
   "execution_count": 7,
   "metadata": {
    "ExecuteTime": {
     "end_time": "2021-02-23T18:37:41.796576Z",
     "start_time": "2021-02-23T18:37:41.746614Z"
    }
   },
   "outputs": [],
   "source": [
    "all_XML = list((PHONBANK_DIR/'Eng-NA').glob('**/*.xml'))"
   ]
  },
  {
   "cell_type": "code",
   "execution_count": 8,
   "metadata": {
    "ExecuteTime": {
     "end_time": "2021-02-23T18:37:43.541450Z",
     "start_time": "2021-02-23T18:37:43.527358Z"
    }
   },
   "outputs": [
    {
     "data": {
      "text/plain": [
       "(2579,\n",
       " [PosixPath('/mnt/cube/tsainbur/Projects/github_repos/LRSO_paper_rev/LongRangeSequentialOrgPaper/data/raw/PHON_Data_Dir/corpora/Eng-NA/Davis-CDI/project.xml'),\n",
       "  PosixPath('/mnt/cube/tsainbur/Projects/github_repos/LRSO_paper_rev/LongRangeSequentialOrgPaper/data/raw/PHON_Data_Dir/corpora/Eng-NA/Davis-CDI/Kae-WS/Kae-1_04_14.xml'),\n",
       "  PosixPath('/mnt/cube/tsainbur/Projects/github_repos/LRSO_paper_rev/LongRangeSequentialOrgPaper/data/raw/PHON_Data_Dir/corpora/Eng-NA/Davis-CDI/Kae-WS/Kae-1_07_29.xml')])"
      ]
     },
     "execution_count": 8,
     "metadata": {},
     "output_type": "execute_result"
    }
   ],
   "source": [
    "len(all_XML), all_XML[:3]"
   ]
  },
  {
   "cell_type": "markdown",
   "metadata": {},
   "source": [
    "### test one transcript"
   ]
  },
  {
   "cell_type": "code",
   "execution_count": 9,
   "metadata": {
    "ExecuteTime": {
     "end_time": "2021-02-23T18:37:50.973276Z",
     "start_time": "2021-02-23T18:37:50.959373Z"
    }
   },
   "outputs": [
    {
     "name": "stdout",
     "output_type": "stream",
     "text": [
      "/mnt/cube/tsainbur/Projects/github_repos/LRSO_paper_rev/LongRangeSequentialOrgPaper/data/raw/PHON_Data_Dir/corpora/Eng-NA/Davis-CDI/Kae-WS/Kae-1_04_14.xml\n"
     ]
    }
   ],
   "source": [
    "transcript = all_XML[1]\n",
    "#transcript = '/mnt/cube/tsainbur/Projects/github_repos/childes_mi_project/data/raw/PHON_Data_Dir/corpora/-NA/Davis-CDI/Ben-WS/Ben-1_11_06.xml'\n",
    "print(transcript)"
   ]
  },
  {
   "cell_type": "code",
   "execution_count": 10,
   "metadata": {
    "ExecuteTime": {
     "end_time": "2021-02-23T18:37:51.175981Z",
     "start_time": "2021-02-23T18:37:51.093468Z"
    }
   },
   "outputs": [
    {
     "name": "stderr",
     "output_type": "stream",
     "text": [
      "/mnt/cube/tsainbur/Projects/github_repos/LRSO_paper_rev/LongRangeSequentialOrgPaper/childes_mi/datasets/phonbank.py:119: UserWarning: media not in session/header\n",
      "  warnings.warn(\"{} not in {}\".format(elem, place))\n",
      "/mnt/cube/tsainbur/Projects/github_repos/LRSO_paper_rev/LongRangeSequentialOrgPaper/childes_mi/datasets/phonbank.py:119: UserWarning: birthday not in participant\n",
      "  warnings.warn(\"{} not in {}\".format(elem, place))\n"
     ]
    }
   ],
   "source": [
    "test = process_transcript(\n",
    "    transcript,\n",
    ")"
   ]
  },
  {
   "cell_type": "code",
   "execution_count": 11,
   "metadata": {
    "ExecuteTime": {
     "end_time": "2021-02-23T18:37:51.244960Z",
     "start_time": "2021-02-23T18:37:51.219511Z"
    }
   },
   "outputs": [],
   "source": [
    "from joblib.externals.loky import set_loky_pickler\n",
    "from joblib import parallel_backend\n",
    "from joblib import Parallel, delayed\n",
    "from joblib import wrap_non_picklable_objects"
   ]
  },
  {
   "cell_type": "code",
   "execution_count": 12,
   "metadata": {
    "ExecuteTime": {
     "end_time": "2021-02-23T18:50:00.863807Z",
     "start_time": "2021-02-23T18:37:51.685914Z"
    }
   },
   "outputs": [
    {
     "data": {
      "application/vnd.jupyter.widget-view+json": {
       "model_id": "3408f5d44800468a88c0fcd8818ae38f",
       "version_major": 2,
       "version_minor": 0
      },
      "text/plain": [
       "  0%|          | 0/2578 [00:00<?, ?it/s]"
      ]
     },
     "metadata": {},
     "output_type": "display_data"
    },
    {
     "name": "stderr",
     "output_type": "stream",
     "text": [
      "/mnt/cube/tsainbur/Projects/github_repos/LRSO_paper_rev/LongRangeSequentialOrgPaper/childes_mi/datasets/phonbank.py:224: UserWarning: No transcripts for /mnt/cube/tsainbur/Projects/github_repos/LRSO_paper_rev/LongRangeSequentialOrgPaper/data/raw/PHON_Data_Dir/corpora/Eng-NA/Davis-CDI/project.xml\n",
      "  warnings.warn(\"No transcripts for {}\".format(xml_loc))\n",
      "/mnt/cube/tsainbur/Projects/github_repos/LRSO_paper_rev/LongRangeSequentialOrgPaper/childes_mi/datasets/phonbank.py:125: UserWarning: notes not an expected element in record\n",
      "  warnings.warn(\"{} not an expected element in {}\".format(elem, place))\n",
      "/mnt/cube/tsainbur/Projects/github_repos/LRSO_paper_rev/LongRangeSequentialOrgPaper/childes_mi/datasets/phonbank.py:224: UserWarning: No transcripts for /mnt/cube/tsainbur/Projects/github_repos/LRSO_paper_rev/LongRangeSequentialOrgPaper/data/raw/PHON_Data_Dir/corpora/Eng-NA/PaidoEnglish/project.xml\n",
      "  warnings.warn(\"No transcripts for {}\".format(xml_loc))\n",
      "/mnt/cube/tsainbur/Projects/github_repos/LRSO_paper_rev/LongRangeSequentialOrgPaper/childes_mi/datasets/phonbank.py:119: UserWarning: name not in participant\n",
      "  warnings.warn(\"{} not in {}\".format(elem, place))\n",
      "/mnt/cube/tsainbur/Projects/github_repos/LRSO_paper_rev/LongRangeSequentialOrgPaper/childes_mi/datasets/phonbank.py:119: UserWarning: age not in participant\n",
      "  warnings.warn(\"{} not in {}\".format(elem, place))\n",
      "/mnt/cube/tsainbur/Projects/github_repos/LRSO_paper_rev/LongRangeSequentialOrgPaper/childes_mi/datasets/phonbank.py:119: UserWarning: @excludeFromSearches not in record\n",
      "  warnings.warn(\"{} not in {}\".format(elem, place))\n",
      "/mnt/cube/tsainbur/Projects/github_repos/LRSO_paper_rev/LongRangeSequentialOrgPaper/childes_mi/datasets/phonbank.py:119: UserWarning: ipaTier not in record\n",
      "  warnings.warn(\"{} not in {}\".format(elem, place))\n",
      "/mnt/cube/tsainbur/Projects/github_repos/LRSO_paper_rev/LongRangeSequentialOrgPaper/childes_mi/datasets/phonbank.py:119: UserWarning: alignment not in record\n",
      "  warnings.warn(\"{} not in {}\".format(elem, place))\n",
      "/mnt/cube/tsainbur/Projects/github_repos/LRSO_paper_rev/LongRangeSequentialOrgPaper/childes_mi/datasets/phonbank.py:125: UserWarning: flatTier not an expected element in record\n",
      "  warnings.warn(\"{} not an expected element in {}\".format(elem, place))\n",
      "/mnt/cube/tsainbur/Projects/github_repos/LRSO_paper_rev/LongRangeSequentialOrgPaper/childes_mi/datasets/phonbank.py:270: UserWarning: No transcripts for /mnt/cube/tsainbur/Projects/github_repos/LRSO_paper_rev/LongRangeSequentialOrgPaper/data/raw/PHON_Data_Dir/corpora/Eng-NA/PaidoEnglish/2b/e2bt14f321.xml\n",
      "  warnings.warn(\"No transcripts for {}\".format(xml_loc))\n",
      "/mnt/cube/tsainbur/Projects/github_repos/LRSO_paper_rev/LongRangeSequentialOrgPaper/childes_mi/datasets/phonbank.py:270: UserWarning: No transcripts for /mnt/cube/tsainbur/Projects/github_repos/LRSO_paper_rev/LongRangeSequentialOrgPaper/data/raw/PHON_Data_Dir/corpora/Eng-NA/PaidoEnglish/2b/e2bt22m312.xml\n",
      "  warnings.warn(\"No transcripts for {}\".format(xml_loc))\n",
      "/mnt/cube/tsainbur/Projects/github_repos/LRSO_paper_rev/LongRangeSequentialOrgPaper/childes_mi/datasets/phonbank.py:270: UserWarning: No transcripts for /mnt/cube/tsainbur/Projects/github_repos/LRSO_paper_rev/LongRangeSequentialOrgPaper/data/raw/PHON_Data_Dir/corpora/Eng-NA/PaidoEnglish/2b/e2bt23f121.xml\n",
      "  warnings.warn(\"No transcripts for {}\".format(xml_loc))\n",
      "/mnt/cube/tsainbur/Projects/github_repos/LRSO_paper_rev/LongRangeSequentialOrgPaper/childes_mi/datasets/phonbank.py:270: UserWarning: No transcripts for /mnt/cube/tsainbur/Projects/github_repos/LRSO_paper_rev/LongRangeSequentialOrgPaper/data/raw/PHON_Data_Dir/corpora/Eng-NA/PaidoEnglish/2b/e2bt21f211.xml\n",
      "  warnings.warn(\"No transcripts for {}\".format(xml_loc))\n",
      "/mnt/cube/tsainbur/Projects/github_repos/LRSO_paper_rev/LongRangeSequentialOrgPaper/childes_mi/datasets/phonbank.py:270: UserWarning: No transcripts for /mnt/cube/tsainbur/Projects/github_repos/LRSO_paper_rev/LongRangeSequentialOrgPaper/data/raw/PHON_Data_Dir/corpora/Eng-NA/PaidoEnglish/2b/e2bt24f111.xml\n",
      "  warnings.warn(\"No transcripts for {}\".format(xml_loc))\n",
      "/mnt/cube/tsainbur/Projects/github_repos/LRSO_paper_rev/LongRangeSequentialOrgPaper/childes_mi/datasets/phonbank.py:270: UserWarning: No transcripts for /mnt/cube/tsainbur/Projects/github_repos/LRSO_paper_rev/LongRangeSequentialOrgPaper/data/raw/PHON_Data_Dir/corpora/Eng-NA/PaidoEnglish/2b/e2bt12f111.xml\n",
      "  warnings.warn(\"No transcripts for {}\".format(xml_loc))\n",
      "/mnt/cube/tsainbur/Projects/github_repos/LRSO_paper_rev/LongRangeSequentialOrgPaper/childes_mi/datasets/phonbank.py:270: UserWarning: No transcripts for /mnt/cube/tsainbur/Projects/github_repos/LRSO_paper_rev/LongRangeSequentialOrgPaper/data/raw/PHON_Data_Dir/corpora/Eng-NA/PaidoEnglish/2b/e2bt19m221.xml\n",
      "  warnings.warn(\"No transcripts for {}\".format(xml_loc))\n",
      "/mnt/cube/tsainbur/Projects/github_repos/LRSO_paper_rev/LongRangeSequentialOrgPaper/childes_mi/datasets/phonbank.py:270: UserWarning: No transcripts for /mnt/cube/tsainbur/Projects/github_repos/LRSO_paper_rev/LongRangeSequentialOrgPaper/data/raw/PHON_Data_Dir/corpora/Eng-NA/PaidoEnglish/2b/e2bt11m221.xml\n",
      "  warnings.warn(\"No transcripts for {}\".format(xml_loc))\n",
      "/mnt/cube/tsainbur/Projects/github_repos/LRSO_paper_rev/LongRangeSequentialOrgPaper/childes_mi/datasets/phonbank.py:270: UserWarning: No transcripts for /mnt/cube/tsainbur/Projects/github_repos/LRSO_paper_rev/LongRangeSequentialOrgPaper/data/raw/PHON_Data_Dir/corpora/Eng-NA/PaidoEnglish/2b/e2bt16m322.xml\n",
      "  warnings.warn(\"No transcripts for {}\".format(xml_loc))\n",
      "/mnt/cube/tsainbur/Projects/github_repos/LRSO_paper_rev/LongRangeSequentialOrgPaper/childes_mi/datasets/phonbank.py:270: UserWarning: No transcripts for /mnt/cube/tsainbur/Projects/github_repos/LRSO_paper_rev/LongRangeSequentialOrgPaper/data/raw/PHON_Data_Dir/corpora/Eng-NA/PaidoEnglish/2b/e2bt20f122.xml\n",
      "  warnings.warn(\"No transcripts for {}\".format(xml_loc))\n",
      "/mnt/cube/tsainbur/Projects/github_repos/LRSO_paper_rev/LongRangeSequentialOrgPaper/childes_mi/datasets/phonbank.py:270: UserWarning: No transcripts for /mnt/cube/tsainbur/Projects/github_repos/LRSO_paper_rev/LongRangeSequentialOrgPaper/data/raw/PHON_Data_Dir/corpora/Eng-NA/PaidoEnglish/2b/e2bt13m311.xml\n",
      "  warnings.warn(\"No transcripts for {}\".format(xml_loc))\n",
      "/mnt/cube/tsainbur/Projects/github_repos/LRSO_paper_rev/LongRangeSequentialOrgPaper/childes_mi/datasets/phonbank.py:270: UserWarning: No transcripts for /mnt/cube/tsainbur/Projects/github_repos/LRSO_paper_rev/LongRangeSequentialOrgPaper/data/raw/PHON_Data_Dir/corpora/Eng-NA/PaidoEnglish/2b/e2bt18m112.xml\n",
      "  warnings.warn(\"No transcripts for {}\".format(xml_loc))\n",
      "/mnt/cube/tsainbur/Projects/github_repos/LRSO_paper_rev/LongRangeSequentialOrgPaper/childes_mi/datasets/phonbank.py:270: UserWarning: No transcripts for /mnt/cube/tsainbur/Projects/github_repos/LRSO_paper_rev/LongRangeSequentialOrgPaper/data/raw/PHON_Data_Dir/corpora/Eng-NA/PaidoEnglish/2b/e2bt13m312.xml\n",
      "  warnings.warn(\"No transcripts for {}\".format(xml_loc))\n",
      "/mnt/cube/tsainbur/Projects/github_repos/LRSO_paper_rev/LongRangeSequentialOrgPaper/childes_mi/datasets/phonbank.py:270: UserWarning: No transcripts for /mnt/cube/tsainbur/Projects/github_repos/LRSO_paper_rev/LongRangeSequentialOrgPaper/data/raw/PHON_Data_Dir/corpora/Eng-NA/PaidoEnglish/2b/e2bt18m111.xml\n",
      "  warnings.warn(\"No transcripts for {}\".format(xml_loc))\n",
      "/mnt/cube/tsainbur/Projects/github_repos/LRSO_paper_rev/LongRangeSequentialOrgPaper/childes_mi/datasets/phonbank.py:270: UserWarning: No transcripts for /mnt/cube/tsainbur/Projects/github_repos/LRSO_paper_rev/LongRangeSequentialOrgPaper/data/raw/PHON_Data_Dir/corpora/Eng-NA/PaidoEnglish/2b/e2bt16m321.xml\n",
      "  warnings.warn(\"No transcripts for {}\".format(xml_loc))\n",
      "/mnt/cube/tsainbur/Projects/github_repos/LRSO_paper_rev/LongRangeSequentialOrgPaper/childes_mi/datasets/phonbank.py:270: UserWarning: No transcripts for /mnt/cube/tsainbur/Projects/github_repos/LRSO_paper_rev/LongRangeSequentialOrgPaper/data/raw/PHON_Data_Dir/corpora/Eng-NA/PaidoEnglish/2b/e2bt20f121.xml\n",
      "  warnings.warn(\"No transcripts for {}\".format(xml_loc))\n",
      "/mnt/cube/tsainbur/Projects/github_repos/LRSO_paper_rev/LongRangeSequentialOrgPaper/childes_mi/datasets/phonbank.py:270: UserWarning: No transcripts for /mnt/cube/tsainbur/Projects/github_repos/LRSO_paper_rev/LongRangeSequentialOrgPaper/data/raw/PHON_Data_Dir/corpora/Eng-NA/PaidoEnglish/2b/e2bt12f112.xml\n",
      "  warnings.warn(\"No transcripts for {}\".format(xml_loc))\n",
      "/mnt/cube/tsainbur/Projects/github_repos/LRSO_paper_rev/LongRangeSequentialOrgPaper/childes_mi/datasets/phonbank.py:270: UserWarning: No transcripts for /mnt/cube/tsainbur/Projects/github_repos/LRSO_paper_rev/LongRangeSequentialOrgPaper/data/raw/PHON_Data_Dir/corpora/Eng-NA/PaidoEnglish/2b/e2bt11m222.xml\n",
      "  warnings.warn(\"No transcripts for {}\".format(xml_loc))\n",
      "/mnt/cube/tsainbur/Projects/github_repos/LRSO_paper_rev/LongRangeSequentialOrgPaper/childes_mi/datasets/phonbank.py:270: UserWarning: No transcripts for /mnt/cube/tsainbur/Projects/github_repos/LRSO_paper_rev/LongRangeSequentialOrgPaper/data/raw/PHON_Data_Dir/corpora/Eng-NA/PaidoEnglish/2b/e2bt19m222.xml\n",
      "  warnings.warn(\"No transcripts for {}\".format(xml_loc))\n",
      "/mnt/cube/tsainbur/Projects/github_repos/LRSO_paper_rev/LongRangeSequentialOrgPaper/childes_mi/datasets/phonbank.py:270: UserWarning: No transcripts for /mnt/cube/tsainbur/Projects/github_repos/LRSO_paper_rev/LongRangeSequentialOrgPaper/data/raw/PHON_Data_Dir/corpora/Eng-NA/PaidoEnglish/2b/e2bt14f322.xml\n",
      "  warnings.warn(\"No transcripts for {}\".format(xml_loc))\n"
     ]
    },
    {
     "name": "stderr",
     "output_type": "stream",
     "text": [
      "/mnt/cube/tsainbur/Projects/github_repos/LRSO_paper_rev/LongRangeSequentialOrgPaper/childes_mi/datasets/phonbank.py:270: UserWarning: No transcripts for /mnt/cube/tsainbur/Projects/github_repos/LRSO_paper_rev/LongRangeSequentialOrgPaper/data/raw/PHON_Data_Dir/corpora/Eng-NA/PaidoEnglish/2b/e2bt23f122.xml\n",
      "  warnings.warn(\"No transcripts for {}\".format(xml_loc))\n",
      "/mnt/cube/tsainbur/Projects/github_repos/LRSO_paper_rev/LongRangeSequentialOrgPaper/childes_mi/datasets/phonbank.py:270: UserWarning: No transcripts for /mnt/cube/tsainbur/Projects/github_repos/LRSO_paper_rev/LongRangeSequentialOrgPaper/data/raw/PHON_Data_Dir/corpora/Eng-NA/PaidoEnglish/2b/e2bt22m311.xml\n",
      "  warnings.warn(\"No transcripts for {}\".format(xml_loc))\n",
      "/mnt/cube/tsainbur/Projects/github_repos/LRSO_paper_rev/LongRangeSequentialOrgPaper/childes_mi/datasets/phonbank.py:270: UserWarning: No transcripts for /mnt/cube/tsainbur/Projects/github_repos/LRSO_paper_rev/LongRangeSequentialOrgPaper/data/raw/PHON_Data_Dir/corpora/Eng-NA/PaidoEnglish/2b/e2bt24f112.xml\n",
      "  warnings.warn(\"No transcripts for {}\".format(xml_loc))\n",
      "/mnt/cube/tsainbur/Projects/github_repos/LRSO_paper_rev/LongRangeSequentialOrgPaper/childes_mi/datasets/phonbank.py:270: UserWarning: No transcripts for /mnt/cube/tsainbur/Projects/github_repos/LRSO_paper_rev/LongRangeSequentialOrgPaper/data/raw/PHON_Data_Dir/corpora/Eng-NA/PaidoEnglish/2b/e2bt21f212.xml\n",
      "  warnings.warn(\"No transcripts for {}\".format(xml_loc))\n",
      "/mnt/cube/tsainbur/Projects/github_repos/LRSO_paper_rev/LongRangeSequentialOrgPaper/childes_mi/datasets/phonbank.py:270: UserWarning: No transcripts for /mnt/cube/tsainbur/Projects/github_repos/LRSO_paper_rev/LongRangeSequentialOrgPaper/data/raw/PHON_Data_Dir/corpora/Eng-NA/PaidoEnglish/3a/e3at02m212.xml\n",
      "  warnings.warn(\"No transcripts for {}\".format(xml_loc))\n",
      "/mnt/cube/tsainbur/Projects/github_repos/LRSO_paper_rev/LongRangeSequentialOrgPaper/childes_mi/datasets/phonbank.py:270: UserWarning: No transcripts for /mnt/cube/tsainbur/Projects/github_repos/LRSO_paper_rev/LongRangeSequentialOrgPaper/data/raw/PHON_Data_Dir/corpora/Eng-NA/PaidoEnglish/3a/e3at07m112.xml\n",
      "  warnings.warn(\"No transcripts for {}\".format(xml_loc))\n",
      "/mnt/cube/tsainbur/Projects/github_repos/LRSO_paper_rev/LongRangeSequentialOrgPaper/childes_mi/datasets/phonbank.py:270: UserWarning: No transcripts for /mnt/cube/tsainbur/Projects/github_repos/LRSO_paper_rev/LongRangeSequentialOrgPaper/data/raw/PHON_Data_Dir/corpora/Eng-NA/PaidoEnglish/3a/e3at05m222.xml\n",
      "  warnings.warn(\"No transcripts for {}\".format(xml_loc))\n",
      "/mnt/cube/tsainbur/Projects/github_repos/LRSO_paper_rev/LongRangeSequentialOrgPaper/childes_mi/datasets/phonbank.py:270: UserWarning: No transcripts for /mnt/cube/tsainbur/Projects/github_repos/LRSO_paper_rev/LongRangeSequentialOrgPaper/data/raw/PHON_Data_Dir/corpora/Eng-NA/PaidoEnglish/3a/e3at13f112.xml\n",
      "  warnings.warn(\"No transcripts for {}\".format(xml_loc))\n",
      "/mnt/cube/tsainbur/Projects/github_repos/LRSO_paper_rev/LongRangeSequentialOrgPaper/childes_mi/datasets/phonbank.py:270: UserWarning: No transcripts for /mnt/cube/tsainbur/Projects/github_repos/LRSO_paper_rev/LongRangeSequentialOrgPaper/data/raw/PHON_Data_Dir/corpora/Eng-NA/PaidoEnglish/3a/e3at11m311.xml\n",
      "  warnings.warn(\"No transcripts for {}\".format(xml_loc))\n",
      "/mnt/cube/tsainbur/Projects/github_repos/LRSO_paper_rev/LongRangeSequentialOrgPaper/childes_mi/datasets/phonbank.py:270: UserWarning: No transcripts for /mnt/cube/tsainbur/Projects/github_repos/LRSO_paper_rev/LongRangeSequentialOrgPaper/data/raw/PHON_Data_Dir/corpora/Eng-NA/PaidoEnglish/3a/e3at01f211.xml\n",
      "  warnings.warn(\"No transcripts for {}\".format(xml_loc))\n",
      "/mnt/cube/tsainbur/Projects/github_repos/LRSO_paper_rev/LongRangeSequentialOrgPaper/childes_mi/datasets/phonbank.py:270: UserWarning: No transcripts for /mnt/cube/tsainbur/Projects/github_repos/LRSO_paper_rev/LongRangeSequentialOrgPaper/data/raw/PHON_Data_Dir/corpora/Eng-NA/PaidoEnglish/3a/e3at04f111.xml\n",
      "  warnings.warn(\"No transcripts for {}\".format(xml_loc))\n",
      "/mnt/cube/tsainbur/Projects/github_repos/LRSO_paper_rev/LongRangeSequentialOrgPaper/childes_mi/datasets/phonbank.py:270: UserWarning: No transcripts for /mnt/cube/tsainbur/Projects/github_repos/LRSO_paper_rev/LongRangeSequentialOrgPaper/data/raw/PHON_Data_Dir/corpora/Eng-NA/PaidoEnglish/3a/e3at08f211.xml\n",
      "  warnings.warn(\"No transcripts for {}\".format(xml_loc))\n",
      "/mnt/cube/tsainbur/Projects/github_repos/LRSO_paper_rev/LongRangeSequentialOrgPaper/childes_mi/datasets/phonbank.py:270: UserWarning: No transcripts for /mnt/cube/tsainbur/Projects/github_repos/LRSO_paper_rev/LongRangeSequentialOrgPaper/data/raw/PHON_Data_Dir/corpora/Eng-NA/PaidoEnglish/3a/e3at03f112.xml\n",
      "  warnings.warn(\"No transcripts for {}\".format(xml_loc))\n",
      "/mnt/cube/tsainbur/Projects/github_repos/LRSO_paper_rev/LongRangeSequentialOrgPaper/childes_mi/datasets/phonbank.py:270: UserWarning: No transcripts for /mnt/cube/tsainbur/Projects/github_repos/LRSO_paper_rev/LongRangeSequentialOrgPaper/data/raw/PHON_Data_Dir/corpora/Eng-NA/PaidoEnglish/3a/e3at09m122.xml\n",
      "  warnings.warn(\"No transcripts for {}\".format(xml_loc))\n",
      "/mnt/cube/tsainbur/Projects/github_repos/LRSO_paper_rev/LongRangeSequentialOrgPaper/childes_mi/datasets/phonbank.py:270: UserWarning: No transcripts for /mnt/cube/tsainbur/Projects/github_repos/LRSO_paper_rev/LongRangeSequentialOrgPaper/data/raw/PHON_Data_Dir/corpora/Eng-NA/PaidoEnglish/3a/e3at03f111.xml\n",
      "  warnings.warn(\"No transcripts for {}\".format(xml_loc))\n",
      "/mnt/cube/tsainbur/Projects/github_repos/LRSO_paper_rev/LongRangeSequentialOrgPaper/childes_mi/datasets/phonbank.py:270: UserWarning: No transcripts for /mnt/cube/tsainbur/Projects/github_repos/LRSO_paper_rev/LongRangeSequentialOrgPaper/data/raw/PHON_Data_Dir/corpora/Eng-NA/PaidoEnglish/3a/e3at09m121.xml\n",
      "  warnings.warn(\"No transcripts for {}\".format(xml_loc))\n",
      "/mnt/cube/tsainbur/Projects/github_repos/LRSO_paper_rev/LongRangeSequentialOrgPaper/childes_mi/datasets/phonbank.py:270: UserWarning: No transcripts for /mnt/cube/tsainbur/Projects/github_repos/LRSO_paper_rev/LongRangeSequentialOrgPaper/data/raw/PHON_Data_Dir/corpora/Eng-NA/PaidoEnglish/3a/e3at08f212.xml\n",
      "  warnings.warn(\"No transcripts for {}\".format(xml_loc))\n",
      "/mnt/cube/tsainbur/Projects/github_repos/LRSO_paper_rev/LongRangeSequentialOrgPaper/childes_mi/datasets/phonbank.py:270: UserWarning: No transcripts for /mnt/cube/tsainbur/Projects/github_repos/LRSO_paper_rev/LongRangeSequentialOrgPaper/data/raw/PHON_Data_Dir/corpora/Eng-NA/PaidoEnglish/3a/e3at13f111.xml\n",
      "  warnings.warn(\"No transcripts for {}\".format(xml_loc))\n",
      "/mnt/cube/tsainbur/Projects/github_repos/LRSO_paper_rev/LongRangeSequentialOrgPaper/childes_mi/datasets/phonbank.py:270: UserWarning: No transcripts for /mnt/cube/tsainbur/Projects/github_repos/LRSO_paper_rev/LongRangeSequentialOrgPaper/data/raw/PHON_Data_Dir/corpora/Eng-NA/PaidoEnglish/3a/e3at11m312.xml\n",
      "  warnings.warn(\"No transcripts for {}\".format(xml_loc))\n",
      "/mnt/cube/tsainbur/Projects/github_repos/LRSO_paper_rev/LongRangeSequentialOrgPaper/childes_mi/datasets/phonbank.py:270: UserWarning: No transcripts for /mnt/cube/tsainbur/Projects/github_repos/LRSO_paper_rev/LongRangeSequentialOrgPaper/data/raw/PHON_Data_Dir/corpora/Eng-NA/PaidoEnglish/3a/e3at04f112.xml\n",
      "  warnings.warn(\"No transcripts for {}\".format(xml_loc))\n",
      "/mnt/cube/tsainbur/Projects/github_repos/LRSO_paper_rev/LongRangeSequentialOrgPaper/childes_mi/datasets/phonbank.py:270: UserWarning: No transcripts for /mnt/cube/tsainbur/Projects/github_repos/LRSO_paper_rev/LongRangeSequentialOrgPaper/data/raw/PHON_Data_Dir/corpora/Eng-NA/PaidoEnglish/3a/e3at01f212.xml\n",
      "  warnings.warn(\"No transcripts for {}\".format(xml_loc))\n",
      "/mnt/cube/tsainbur/Projects/github_repos/LRSO_paper_rev/LongRangeSequentialOrgPaper/childes_mi/datasets/phonbank.py:270: UserWarning: No transcripts for /mnt/cube/tsainbur/Projects/github_repos/LRSO_paper_rev/LongRangeSequentialOrgPaper/data/raw/PHON_Data_Dir/corpora/Eng-NA/PaidoEnglish/3a/e3at07m111.xml\n",
      "  warnings.warn(\"No transcripts for {}\".format(xml_loc))\n",
      "/mnt/cube/tsainbur/Projects/github_repos/LRSO_paper_rev/LongRangeSequentialOrgPaper/childes_mi/datasets/phonbank.py:270: UserWarning: No transcripts for /mnt/cube/tsainbur/Projects/github_repos/LRSO_paper_rev/LongRangeSequentialOrgPaper/data/raw/PHON_Data_Dir/corpora/Eng-NA/PaidoEnglish/3a/e3at02m211.xml\n",
      "  warnings.warn(\"No transcripts for {}\".format(xml_loc))\n",
      "/mnt/cube/tsainbur/Projects/github_repos/LRSO_paper_rev/LongRangeSequentialOrgPaper/childes_mi/datasets/phonbank.py:270: UserWarning: No transcripts for /mnt/cube/tsainbur/Projects/github_repos/LRSO_paper_rev/LongRangeSequentialOrgPaper/data/raw/PHON_Data_Dir/corpora/Eng-NA/PaidoEnglish/3a/e3at05m221.xml\n",
      "  warnings.warn(\"No transcripts for {}\".format(xml_loc))\n",
      "/mnt/cube/tsainbur/Projects/github_repos/LRSO_paper_rev/LongRangeSequentialOrgPaper/childes_mi/datasets/phonbank.py:270: UserWarning: No transcripts for /mnt/cube/tsainbur/Projects/github_repos/LRSO_paper_rev/LongRangeSequentialOrgPaper/data/raw/PHON_Data_Dir/corpora/Eng-NA/PaidoEnglish/4a/e4at08m122.xml\n",
      "  warnings.warn(\"No transcripts for {}\".format(xml_loc))\n",
      "/mnt/cube/tsainbur/Projects/github_repos/LRSO_paper_rev/LongRangeSequentialOrgPaper/childes_mi/datasets/phonbank.py:270: UserWarning: No transcripts for /mnt/cube/tsainbur/Projects/github_repos/LRSO_paper_rev/LongRangeSequentialOrgPaper/data/raw/PHON_Data_Dir/corpora/Eng-NA/PaidoEnglish/4a/e4at04m122.xml\n",
      "  warnings.warn(\"No transcripts for {}\".format(xml_loc))\n",
      "/mnt/cube/tsainbur/Projects/github_repos/LRSO_paper_rev/LongRangeSequentialOrgPaper/childes_mi/datasets/phonbank.py:270: UserWarning: No transcripts for /mnt/cube/tsainbur/Projects/github_repos/LRSO_paper_rev/LongRangeSequentialOrgPaper/data/raw/PHON_Data_Dir/corpora/Eng-NA/PaidoEnglish/4a/e4at12f112.xml\n",
      "  warnings.warn(\"No transcripts for {}\".format(xml_loc))\n",
      "/mnt/cube/tsainbur/Projects/github_repos/LRSO_paper_rev/LongRangeSequentialOrgPaper/childes_mi/datasets/phonbank.py:270: UserWarning: No transcripts for /mnt/cube/tsainbur/Projects/github_repos/LRSO_paper_rev/LongRangeSequentialOrgPaper/data/raw/PHON_Data_Dir/corpora/Eng-NA/PaidoEnglish/4a/e4at11m222.xml\n",
      "  warnings.warn(\"No transcripts for {}\".format(xml_loc))\n",
      "/mnt/cube/tsainbur/Projects/github_repos/LRSO_paper_rev/LongRangeSequentialOrgPaper/childes_mi/datasets/phonbank.py:270: UserWarning: No transcripts for /mnt/cube/tsainbur/Projects/github_repos/LRSO_paper_rev/LongRangeSequentialOrgPaper/data/raw/PHON_Data_Dir/corpora/Eng-NA/PaidoEnglish/4a/e4at06m221.xml\n",
      "  warnings.warn(\"No transcripts for {}\".format(xml_loc))\n"
     ]
    },
    {
     "name": "stderr",
     "output_type": "stream",
     "text": [
      "/mnt/cube/tsainbur/Projects/github_repos/LRSO_paper_rev/LongRangeSequentialOrgPaper/childes_mi/datasets/phonbank.py:270: UserWarning: No transcripts for /mnt/cube/tsainbur/Projects/github_repos/LRSO_paper_rev/LongRangeSequentialOrgPaper/data/raw/PHON_Data_Dir/corpora/Eng-NA/PaidoEnglish/4a/e4at13f121.xml\n",
      "  warnings.warn(\"No transcripts for {}\".format(xml_loc))\n",
      "/mnt/cube/tsainbur/Projects/github_repos/LRSO_paper_rev/LongRangeSequentialOrgPaper/childes_mi/datasets/phonbank.py:270: UserWarning: No transcripts for /mnt/cube/tsainbur/Projects/github_repos/LRSO_paper_rev/LongRangeSequentialOrgPaper/data/raw/PHON_Data_Dir/corpora/Eng-NA/PaidoEnglish/4a/e4at10f111.xml\n",
      "  warnings.warn(\"No transcripts for {}\".format(xml_loc))\n",
      "/mnt/cube/tsainbur/Projects/github_repos/LRSO_paper_rev/LongRangeSequentialOrgPaper/childes_mi/datasets/phonbank.py:270: UserWarning: No transcripts for /mnt/cube/tsainbur/Projects/github_repos/LRSO_paper_rev/LongRangeSequentialOrgPaper/data/raw/PHON_Data_Dir/corpora/Eng-NA/PaidoEnglish/4a/e4at07f112.xml\n",
      "  warnings.warn(\"No transcripts for {}\".format(xml_loc))\n",
      "/mnt/cube/tsainbur/Projects/github_repos/LRSO_paper_rev/LongRangeSequentialOrgPaper/childes_mi/datasets/phonbank.py:270: UserWarning: No transcripts for /mnt/cube/tsainbur/Projects/github_repos/LRSO_paper_rev/LongRangeSequentialOrgPaper/data/raw/PHON_Data_Dir/corpora/Eng-NA/PaidoEnglish/4a/e4at03f321.xml\n",
      "  warnings.warn(\"No transcripts for {}\".format(xml_loc))\n",
      "/mnt/cube/tsainbur/Projects/github_repos/LRSO_paper_rev/LongRangeSequentialOrgPaper/childes_mi/datasets/phonbank.py:270: UserWarning: No transcripts for /mnt/cube/tsainbur/Projects/github_repos/LRSO_paper_rev/LongRangeSequentialOrgPaper/data/raw/PHON_Data_Dir/corpora/Eng-NA/PaidoEnglish/4a/e4at02m112.xml\n",
      "  warnings.warn(\"No transcripts for {}\".format(xml_loc))\n",
      "/mnt/cube/tsainbur/Projects/github_repos/LRSO_paper_rev/LongRangeSequentialOrgPaper/childes_mi/datasets/phonbank.py:270: UserWarning: No transcripts for /mnt/cube/tsainbur/Projects/github_repos/LRSO_paper_rev/LongRangeSequentialOrgPaper/data/raw/PHON_Data_Dir/corpora/Eng-NA/PaidoEnglish/4a/e4at01m311.xml\n",
      "  warnings.warn(\"No transcripts for {}\".format(xml_loc))\n",
      "/mnt/cube/tsainbur/Projects/github_repos/LRSO_paper_rev/LongRangeSequentialOrgPaper/childes_mi/datasets/phonbank.py:270: UserWarning: No transcripts for /mnt/cube/tsainbur/Projects/github_repos/LRSO_paper_rev/LongRangeSequentialOrgPaper/data/raw/PHON_Data_Dir/corpora/Eng-NA/PaidoEnglish/4a/e4at09m311.xml\n",
      "  warnings.warn(\"No transcripts for {}\".format(xml_loc))\n",
      "/mnt/cube/tsainbur/Projects/github_repos/LRSO_paper_rev/LongRangeSequentialOrgPaper/childes_mi/datasets/phonbank.py:270: UserWarning: No transcripts for /mnt/cube/tsainbur/Projects/github_repos/LRSO_paper_rev/LongRangeSequentialOrgPaper/data/raw/PHON_Data_Dir/corpora/Eng-NA/PaidoEnglish/4a/e4at05f222.xml\n",
      "  warnings.warn(\"No transcripts for {}\".format(xml_loc))\n",
      "/mnt/cube/tsainbur/Projects/github_repos/LRSO_paper_rev/LongRangeSequentialOrgPaper/childes_mi/datasets/phonbank.py:270: UserWarning: No transcripts for /mnt/cube/tsainbur/Projects/github_repos/LRSO_paper_rev/LongRangeSequentialOrgPaper/data/raw/PHON_Data_Dir/corpora/Eng-NA/PaidoEnglish/4a/e4at13f122.xml\n",
      "  warnings.warn(\"No transcripts for {}\".format(xml_loc))\n",
      "/mnt/cube/tsainbur/Projects/github_repos/LRSO_paper_rev/LongRangeSequentialOrgPaper/childes_mi/datasets/phonbank.py:270: UserWarning: No transcripts for /mnt/cube/tsainbur/Projects/github_repos/LRSO_paper_rev/LongRangeSequentialOrgPaper/data/raw/PHON_Data_Dir/corpora/Eng-NA/PaidoEnglish/4a/e4at10f112.xml\n",
      "  warnings.warn(\"No transcripts for {}\".format(xml_loc))\n",
      "/mnt/cube/tsainbur/Projects/github_repos/LRSO_paper_rev/LongRangeSequentialOrgPaper/childes_mi/datasets/phonbank.py:270: UserWarning: No transcripts for /mnt/cube/tsainbur/Projects/github_repos/LRSO_paper_rev/LongRangeSequentialOrgPaper/data/raw/PHON_Data_Dir/corpora/Eng-NA/PaidoEnglish/4a/e4at02m111.xml\n",
      "  warnings.warn(\"No transcripts for {}\".format(xml_loc))\n",
      "/mnt/cube/tsainbur/Projects/github_repos/LRSO_paper_rev/LongRangeSequentialOrgPaper/childes_mi/datasets/phonbank.py:270: UserWarning: No transcripts for /mnt/cube/tsainbur/Projects/github_repos/LRSO_paper_rev/LongRangeSequentialOrgPaper/data/raw/PHON_Data_Dir/corpora/Eng-NA/PaidoEnglish/4a/e4at03f322.xml\n",
      "  warnings.warn(\"No transcripts for {}\".format(xml_loc))\n",
      "/mnt/cube/tsainbur/Projects/github_repos/LRSO_paper_rev/LongRangeSequentialOrgPaper/childes_mi/datasets/phonbank.py:270: UserWarning: No transcripts for /mnt/cube/tsainbur/Projects/github_repos/LRSO_paper_rev/LongRangeSequentialOrgPaper/data/raw/PHON_Data_Dir/corpora/Eng-NA/PaidoEnglish/4a/e4at07f111.xml\n",
      "  warnings.warn(\"No transcripts for {}\".format(xml_loc))\n",
      "/mnt/cube/tsainbur/Projects/github_repos/LRSO_paper_rev/LongRangeSequentialOrgPaper/childes_mi/datasets/phonbank.py:270: UserWarning: No transcripts for /mnt/cube/tsainbur/Projects/github_repos/LRSO_paper_rev/LongRangeSequentialOrgPaper/data/raw/PHON_Data_Dir/corpora/Eng-NA/PaidoEnglish/4a/e4at09m312.xml\n",
      "  warnings.warn(\"No transcripts for {}\".format(xml_loc))\n",
      "/mnt/cube/tsainbur/Projects/github_repos/LRSO_paper_rev/LongRangeSequentialOrgPaper/childes_mi/datasets/phonbank.py:270: UserWarning: No transcripts for /mnt/cube/tsainbur/Projects/github_repos/LRSO_paper_rev/LongRangeSequentialOrgPaper/data/raw/PHON_Data_Dir/corpora/Eng-NA/PaidoEnglish/4a/e4at05f221.xml\n",
      "  warnings.warn(\"No transcripts for {}\".format(xml_loc))\n",
      "/mnt/cube/tsainbur/Projects/github_repos/LRSO_paper_rev/LongRangeSequentialOrgPaper/childes_mi/datasets/phonbank.py:270: UserWarning: No transcripts for /mnt/cube/tsainbur/Projects/github_repos/LRSO_paper_rev/LongRangeSequentialOrgPaper/data/raw/PHON_Data_Dir/corpora/Eng-NA/PaidoEnglish/4a/e4at01m312.xml\n",
      "  warnings.warn(\"No transcripts for {}\".format(xml_loc))\n",
      "/mnt/cube/tsainbur/Projects/github_repos/LRSO_paper_rev/LongRangeSequentialOrgPaper/childes_mi/datasets/phonbank.py:270: UserWarning: No transcripts for /mnt/cube/tsainbur/Projects/github_repos/LRSO_paper_rev/LongRangeSequentialOrgPaper/data/raw/PHON_Data_Dir/corpora/Eng-NA/PaidoEnglish/4a/e4at12f111.xml\n",
      "  warnings.warn(\"No transcripts for {}\".format(xml_loc))\n",
      "/mnt/cube/tsainbur/Projects/github_repos/LRSO_paper_rev/LongRangeSequentialOrgPaper/childes_mi/datasets/phonbank.py:270: UserWarning: No transcripts for /mnt/cube/tsainbur/Projects/github_repos/LRSO_paper_rev/LongRangeSequentialOrgPaper/data/raw/PHON_Data_Dir/corpora/Eng-NA/PaidoEnglish/4a/e4at11m221.xml\n",
      "  warnings.warn(\"No transcripts for {}\".format(xml_loc))\n",
      "/mnt/cube/tsainbur/Projects/github_repos/LRSO_paper_rev/LongRangeSequentialOrgPaper/childes_mi/datasets/phonbank.py:270: UserWarning: No transcripts for /mnt/cube/tsainbur/Projects/github_repos/LRSO_paper_rev/LongRangeSequentialOrgPaper/data/raw/PHON_Data_Dir/corpora/Eng-NA/PaidoEnglish/4a/e4at06m222.xml\n",
      "  warnings.warn(\"No transcripts for {}\".format(xml_loc))\n",
      "/mnt/cube/tsainbur/Projects/github_repos/LRSO_paper_rev/LongRangeSequentialOrgPaper/childes_mi/datasets/phonbank.py:270: UserWarning: No transcripts for /mnt/cube/tsainbur/Projects/github_repos/LRSO_paper_rev/LongRangeSequentialOrgPaper/data/raw/PHON_Data_Dir/corpora/Eng-NA/PaidoEnglish/4a/e4at04m121.xml\n",
      "  warnings.warn(\"No transcripts for {}\".format(xml_loc))\n",
      "/mnt/cube/tsainbur/Projects/github_repos/LRSO_paper_rev/LongRangeSequentialOrgPaper/childes_mi/datasets/phonbank.py:270: UserWarning: No transcripts for /mnt/cube/tsainbur/Projects/github_repos/LRSO_paper_rev/LongRangeSequentialOrgPaper/data/raw/PHON_Data_Dir/corpora/Eng-NA/PaidoEnglish/4a/e4at08m121.xml\n",
      "  warnings.warn(\"No transcripts for {}\".format(xml_loc))\n",
      "/mnt/cube/tsainbur/Projects/github_repos/LRSO_paper_rev/LongRangeSequentialOrgPaper/childes_mi/datasets/phonbank.py:270: UserWarning: No transcripts for /mnt/cube/tsainbur/Projects/github_repos/LRSO_paper_rev/LongRangeSequentialOrgPaper/data/raw/PHON_Data_Dir/corpora/Eng-NA/PaidoEnglish/5b/e5bt22m211.xml\n",
      "  warnings.warn(\"No transcripts for {}\".format(xml_loc))\n",
      "/mnt/cube/tsainbur/Projects/github_repos/LRSO_paper_rev/LongRangeSequentialOrgPaper/childes_mi/datasets/phonbank.py:270: UserWarning: No transcripts for /mnt/cube/tsainbur/Projects/github_repos/LRSO_paper_rev/LongRangeSequentialOrgPaper/data/raw/PHON_Data_Dir/corpora/Eng-NA/PaidoEnglish/5b/e5bt14m311.xml\n",
      "  warnings.warn(\"No transcripts for {}\".format(xml_loc))\n",
      "/mnt/cube/tsainbur/Projects/github_repos/LRSO_paper_rev/LongRangeSequentialOrgPaper/childes_mi/datasets/phonbank.py:270: UserWarning: No transcripts for /mnt/cube/tsainbur/Projects/github_repos/LRSO_paper_rev/LongRangeSequentialOrgPaper/data/raw/PHON_Data_Dir/corpora/Eng-NA/PaidoEnglish/5b/e5bt19m222.xml\n",
      "  warnings.warn(\"No transcripts for {}\".format(xml_loc))\n",
      "/mnt/cube/tsainbur/Projects/github_repos/LRSO_paper_rev/LongRangeSequentialOrgPaper/childes_mi/datasets/phonbank.py:270: UserWarning: No transcripts for /mnt/cube/tsainbur/Projects/github_repos/LRSO_paper_rev/LongRangeSequentialOrgPaper/data/raw/PHON_Data_Dir/corpora/Eng-NA/PaidoEnglish/5b/e5bt21m321.xml\n",
      "  warnings.warn(\"No transcripts for {}\".format(xml_loc))\n",
      "/mnt/cube/tsainbur/Projects/github_repos/LRSO_paper_rev/LongRangeSequentialOrgPaper/childes_mi/datasets/phonbank.py:270: UserWarning: No transcripts for /mnt/cube/tsainbur/Projects/github_repos/LRSO_paper_rev/LongRangeSequentialOrgPaper/data/raw/PHON_Data_Dir/corpora/Eng-NA/PaidoEnglish/5b/e5bt17f312.xml\n",
      "  warnings.warn(\"No transcripts for {}\".format(xml_loc))\n",
      "/mnt/cube/tsainbur/Projects/github_repos/LRSO_paper_rev/LongRangeSequentialOrgPaper/childes_mi/datasets/phonbank.py:270: UserWarning: No transcripts for /mnt/cube/tsainbur/Projects/github_repos/LRSO_paper_rev/LongRangeSequentialOrgPaper/data/raw/PHON_Data_Dir/corpora/Eng-NA/PaidoEnglish/5b/e5bt25f112.xml\n",
      "  warnings.warn(\"No transcripts for {}\".format(xml_loc))\n",
      "/mnt/cube/tsainbur/Projects/github_repos/LRSO_paper_rev/LongRangeSequentialOrgPaper/childes_mi/datasets/phonbank.py:270: UserWarning: No transcripts for /mnt/cube/tsainbur/Projects/github_repos/LRSO_paper_rev/LongRangeSequentialOrgPaper/data/raw/PHON_Data_Dir/corpora/Eng-NA/PaidoEnglish/5b/e5bt16f121.xml\n",
      "  warnings.warn(\"No transcripts for {}\".format(xml_loc))\n",
      "/mnt/cube/tsainbur/Projects/github_repos/LRSO_paper_rev/LongRangeSequentialOrgPaper/childes_mi/datasets/phonbank.py:270: UserWarning: No transcripts for /mnt/cube/tsainbur/Projects/github_repos/LRSO_paper_rev/LongRangeSequentialOrgPaper/data/raw/PHON_Data_Dir/corpora/Eng-NA/PaidoEnglish/5b/e5bt23f111.xml\n",
      "  warnings.warn(\"No transcripts for {}\".format(xml_loc))\n",
      "/mnt/cube/tsainbur/Projects/github_repos/LRSO_paper_rev/LongRangeSequentialOrgPaper/childes_mi/datasets/phonbank.py:270: UserWarning: No transcripts for /mnt/cube/tsainbur/Projects/github_repos/LRSO_paper_rev/LongRangeSequentialOrgPaper/data/raw/PHON_Data_Dir/corpora/Eng-NA/PaidoEnglish/5b/e5bt15f222.xml\n",
      "  warnings.warn(\"No transcripts for {}\".format(xml_loc))\n",
      "/mnt/cube/tsainbur/Projects/github_repos/LRSO_paper_rev/LongRangeSequentialOrgPaper/childes_mi/datasets/phonbank.py:270: UserWarning: No transcripts for /mnt/cube/tsainbur/Projects/github_repos/LRSO_paper_rev/LongRangeSequentialOrgPaper/data/raw/PHON_Data_Dir/corpora/Eng-NA/PaidoEnglish/5b/e5bt23f112.xml\n",
      "  warnings.warn(\"No transcripts for {}\".format(xml_loc))\n",
      "/mnt/cube/tsainbur/Projects/github_repos/LRSO_paper_rev/LongRangeSequentialOrgPaper/childes_mi/datasets/phonbank.py:270: UserWarning: No transcripts for /mnt/cube/tsainbur/Projects/github_repos/LRSO_paper_rev/LongRangeSequentialOrgPaper/data/raw/PHON_Data_Dir/corpora/Eng-NA/PaidoEnglish/5b/e5bt15f221.xml\n",
      "  warnings.warn(\"No transcripts for {}\".format(xml_loc))\n",
      "/mnt/cube/tsainbur/Projects/github_repos/LRSO_paper_rev/LongRangeSequentialOrgPaper/childes_mi/datasets/phonbank.py:270: UserWarning: No transcripts for /mnt/cube/tsainbur/Projects/github_repos/LRSO_paper_rev/LongRangeSequentialOrgPaper/data/raw/PHON_Data_Dir/corpora/Eng-NA/PaidoEnglish/5b/e5bt25f111.xml\n",
      "  warnings.warn(\"No transcripts for {}\".format(xml_loc))\n"
     ]
    },
    {
     "name": "stderr",
     "output_type": "stream",
     "text": [
      "/mnt/cube/tsainbur/Projects/github_repos/LRSO_paper_rev/LongRangeSequentialOrgPaper/childes_mi/datasets/phonbank.py:270: UserWarning: No transcripts for /mnt/cube/tsainbur/Projects/github_repos/LRSO_paper_rev/LongRangeSequentialOrgPaper/data/raw/PHON_Data_Dir/corpora/Eng-NA/PaidoEnglish/5b/e5bt16f122.xml\n",
      "  warnings.warn(\"No transcripts for {}\".format(xml_loc))\n",
      "/mnt/cube/tsainbur/Projects/github_repos/LRSO_paper_rev/LongRangeSequentialOrgPaper/childes_mi/datasets/phonbank.py:270: UserWarning: No transcripts for /mnt/cube/tsainbur/Projects/github_repos/LRSO_paper_rev/LongRangeSequentialOrgPaper/data/raw/PHON_Data_Dir/corpora/Eng-NA/PaidoEnglish/5b/e5bt21m322.xml\n",
      "  warnings.warn(\"No transcripts for {}\".format(xml_loc))\n",
      "/mnt/cube/tsainbur/Projects/github_repos/LRSO_paper_rev/LongRangeSequentialOrgPaper/childes_mi/datasets/phonbank.py:270: UserWarning: No transcripts for /mnt/cube/tsainbur/Projects/github_repos/LRSO_paper_rev/LongRangeSequentialOrgPaper/data/raw/PHON_Data_Dir/corpora/Eng-NA/PaidoEnglish/5b/e5bt17f311.xml\n",
      "  warnings.warn(\"No transcripts for {}\".format(xml_loc))\n",
      "/mnt/cube/tsainbur/Projects/github_repos/LRSO_paper_rev/LongRangeSequentialOrgPaper/childes_mi/datasets/phonbank.py:270: UserWarning: No transcripts for /mnt/cube/tsainbur/Projects/github_repos/LRSO_paper_rev/LongRangeSequentialOrgPaper/data/raw/PHON_Data_Dir/corpora/Eng-NA/PaidoEnglish/5b/e5bt22m212.xml\n",
      "  warnings.warn(\"No transcripts for {}\".format(xml_loc))\n",
      "/mnt/cube/tsainbur/Projects/github_repos/LRSO_paper_rev/LongRangeSequentialOrgPaper/childes_mi/datasets/phonbank.py:270: UserWarning: No transcripts for /mnt/cube/tsainbur/Projects/github_repos/LRSO_paper_rev/LongRangeSequentialOrgPaper/data/raw/PHON_Data_Dir/corpora/Eng-NA/PaidoEnglish/5b/e5bt19m221.xml\n",
      "  warnings.warn(\"No transcripts for {}\".format(xml_loc))\n",
      "/mnt/cube/tsainbur/Projects/github_repos/LRSO_paper_rev/LongRangeSequentialOrgPaper/childes_mi/datasets/phonbank.py:270: UserWarning: No transcripts for /mnt/cube/tsainbur/Projects/github_repos/LRSO_paper_rev/LongRangeSequentialOrgPaper/data/raw/PHON_Data_Dir/corpora/Eng-NA/PaidoEnglish/5b/e5bt14m312.xml\n",
      "  warnings.warn(\"No transcripts for {}\".format(xml_loc))\n",
      "/mnt/cube/tsainbur/Projects/github_repos/LRSO_paper_rev/LongRangeSequentialOrgPaper/childes_mi/datasets/phonbank.py:270: UserWarning: No transcripts for /mnt/cube/tsainbur/Projects/github_repos/LRSO_paper_rev/LongRangeSequentialOrgPaper/data/raw/PHON_Data_Dir/corpora/Eng-NA/PaidoEnglish/2a/e2at03f121.xml\n",
      "  warnings.warn(\"No transcripts for {}\".format(xml_loc))\n",
      "/mnt/cube/tsainbur/Projects/github_repos/LRSO_paper_rev/LongRangeSequentialOrgPaper/childes_mi/datasets/phonbank.py:270: UserWarning: No transcripts for /mnt/cube/tsainbur/Projects/github_repos/LRSO_paper_rev/LongRangeSequentialOrgPaper/data/raw/PHON_Data_Dir/corpora/Eng-NA/PaidoEnglish/2a/e2at05m111.xml\n",
      "  warnings.warn(\"No transcripts for {}\".format(xml_loc))\n",
      "/mnt/cube/tsainbur/Projects/github_repos/LRSO_paper_rev/LongRangeSequentialOrgPaper/childes_mi/datasets/phonbank.py:270: UserWarning: No transcripts for /mnt/cube/tsainbur/Projects/github_repos/LRSO_paper_rev/LongRangeSequentialOrgPaper/data/raw/PHON_Data_Dir/corpora/Eng-NA/PaidoEnglish/2a/e2at07m312.xml\n",
      "  warnings.warn(\"No transcripts for {}\".format(xml_loc))\n",
      "/mnt/cube/tsainbur/Projects/github_repos/LRSO_paper_rev/LongRangeSequentialOrgPaper/childes_mi/datasets/phonbank.py:270: UserWarning: No transcripts for /mnt/cube/tsainbur/Projects/github_repos/LRSO_paper_rev/LongRangeSequentialOrgPaper/data/raw/PHON_Data_Dir/corpora/Eng-NA/PaidoEnglish/2a/e2at09f322.xml\n",
      "  warnings.warn(\"No transcripts for {}\".format(xml_loc))\n",
      "/mnt/cube/tsainbur/Projects/github_repos/LRSO_paper_rev/LongRangeSequentialOrgPaper/childes_mi/datasets/phonbank.py:270: UserWarning: No transcripts for /mnt/cube/tsainbur/Projects/github_repos/LRSO_paper_rev/LongRangeSequentialOrgPaper/data/raw/PHON_Data_Dir/corpora/Eng-NA/PaidoEnglish/2a/e2at01f322.xml\n",
      "  warnings.warn(\"No transcripts for {}\".format(xml_loc))\n",
      "/mnt/cube/tsainbur/Projects/github_repos/LRSO_paper_rev/LongRangeSequentialOrgPaper/childes_mi/datasets/phonbank.py:270: UserWarning: No transcripts for /mnt/cube/tsainbur/Projects/github_repos/LRSO_paper_rev/LongRangeSequentialOrgPaper/data/raw/PHON_Data_Dir/corpora/Eng-NA/PaidoEnglish/2a/e2at06m321.xml\n",
      "  warnings.warn(\"No transcripts for {}\".format(xml_loc))\n",
      "/mnt/cube/tsainbur/Projects/github_repos/LRSO_paper_rev/LongRangeSequentialOrgPaper/childes_mi/datasets/phonbank.py:270: UserWarning: No transcripts for /mnt/cube/tsainbur/Projects/github_repos/LRSO_paper_rev/LongRangeSequentialOrgPaper/data/raw/PHON_Data_Dir/corpora/Eng-NA/PaidoEnglish/2a/e2at04m222.xml\n",
      "  warnings.warn(\"No transcripts for {}\".format(xml_loc))\n",
      "/mnt/cube/tsainbur/Projects/github_repos/LRSO_paper_rev/LongRangeSequentialOrgPaper/childes_mi/datasets/phonbank.py:270: UserWarning: No transcripts for /mnt/cube/tsainbur/Projects/github_repos/LRSO_paper_rev/LongRangeSequentialOrgPaper/data/raw/PHON_Data_Dir/corpora/Eng-NA/PaidoEnglish/2a/e2at10m211.xml\n",
      "  warnings.warn(\"No transcripts for {}\".format(xml_loc))\n",
      "/mnt/cube/tsainbur/Projects/github_repos/LRSO_paper_rev/LongRangeSequentialOrgPaper/childes_mi/datasets/phonbank.py:270: UserWarning: No transcripts for /mnt/cube/tsainbur/Projects/github_repos/LRSO_paper_rev/LongRangeSequentialOrgPaper/data/raw/PHON_Data_Dir/corpora/Eng-NA/PaidoEnglish/2a/e2at06m322.xml\n",
      "  warnings.warn(\"No transcripts for {}\".format(xml_loc))\n",
      "/mnt/cube/tsainbur/Projects/github_repos/LRSO_paper_rev/LongRangeSequentialOrgPaper/childes_mi/datasets/phonbank.py:270: UserWarning: No transcripts for /mnt/cube/tsainbur/Projects/github_repos/LRSO_paper_rev/LongRangeSequentialOrgPaper/data/raw/PHON_Data_Dir/corpora/Eng-NA/PaidoEnglish/2a/e2at04m221.xml\n",
      "  warnings.warn(\"No transcripts for {}\".format(xml_loc))\n",
      "/mnt/cube/tsainbur/Projects/github_repos/LRSO_paper_rev/LongRangeSequentialOrgPaper/childes_mi/datasets/phonbank.py:270: UserWarning: No transcripts for /mnt/cube/tsainbur/Projects/github_repos/LRSO_paper_rev/LongRangeSequentialOrgPaper/data/raw/PHON_Data_Dir/corpora/Eng-NA/PaidoEnglish/2a/e2at10m212.xml\n",
      "  warnings.warn(\"No transcripts for {}\".format(xml_loc))\n",
      "/mnt/cube/tsainbur/Projects/github_repos/LRSO_paper_rev/LongRangeSequentialOrgPaper/childes_mi/datasets/phonbank.py:270: UserWarning: No transcripts for /mnt/cube/tsainbur/Projects/github_repos/LRSO_paper_rev/LongRangeSequentialOrgPaper/data/raw/PHON_Data_Dir/corpora/Eng-NA/PaidoEnglish/2a/e2at07m311.xml\n",
      "  warnings.warn(\"No transcripts for {}\".format(xml_loc))\n",
      "/mnt/cube/tsainbur/Projects/github_repos/LRSO_paper_rev/LongRangeSequentialOrgPaper/childes_mi/datasets/phonbank.py:270: UserWarning: No transcripts for /mnt/cube/tsainbur/Projects/github_repos/LRSO_paper_rev/LongRangeSequentialOrgPaper/data/raw/PHON_Data_Dir/corpora/Eng-NA/PaidoEnglish/2a/e2at01f321.xml\n",
      "  warnings.warn(\"No transcripts for {}\".format(xml_loc))\n",
      "/mnt/cube/tsainbur/Projects/github_repos/LRSO_paper_rev/LongRangeSequentialOrgPaper/childes_mi/datasets/phonbank.py:270: UserWarning: No transcripts for /mnt/cube/tsainbur/Projects/github_repos/LRSO_paper_rev/LongRangeSequentialOrgPaper/data/raw/PHON_Data_Dir/corpora/Eng-NA/PaidoEnglish/2a/e2at09f321.xml\n",
      "  warnings.warn(\"No transcripts for {}\".format(xml_loc))\n",
      "/mnt/cube/tsainbur/Projects/github_repos/LRSO_paper_rev/LongRangeSequentialOrgPaper/childes_mi/datasets/phonbank.py:270: UserWarning: No transcripts for /mnt/cube/tsainbur/Projects/github_repos/LRSO_paper_rev/LongRangeSequentialOrgPaper/data/raw/PHON_Data_Dir/corpora/Eng-NA/PaidoEnglish/2a/e2at03f122.xml\n",
      "  warnings.warn(\"No transcripts for {}\".format(xml_loc))\n",
      "/mnt/cube/tsainbur/Projects/github_repos/LRSO_paper_rev/LongRangeSequentialOrgPaper/childes_mi/datasets/phonbank.py:270: UserWarning: No transcripts for /mnt/cube/tsainbur/Projects/github_repos/LRSO_paper_rev/LongRangeSequentialOrgPaper/data/raw/PHON_Data_Dir/corpora/Eng-NA/PaidoEnglish/2a/e2at05m112.xml\n",
      "  warnings.warn(\"No transcripts for {}\".format(xml_loc))\n",
      "/mnt/cube/tsainbur/Projects/github_repos/LRSO_paper_rev/LongRangeSequentialOrgPaper/childes_mi/datasets/phonbank.py:270: UserWarning: No transcripts for /mnt/cube/tsainbur/Projects/github_repos/LRSO_paper_rev/LongRangeSequentialOrgPaper/data/raw/PHON_Data_Dir/corpora/Eng-NA/PaidoEnglish/3b/e3bt19m111.xml\n",
      "  warnings.warn(\"No transcripts for {}\".format(xml_loc))\n",
      "/mnt/cube/tsainbur/Projects/github_repos/LRSO_paper_rev/LongRangeSequentialOrgPaper/childes_mi/datasets/phonbank.py:270: UserWarning: No transcripts for /mnt/cube/tsainbur/Projects/github_repos/LRSO_paper_rev/LongRangeSequentialOrgPaper/data/raw/PHON_Data_Dir/corpora/Eng-NA/PaidoEnglish/3b/e3bt22f322.xml\n",
      "  warnings.warn(\"No transcripts for {}\".format(xml_loc))\n",
      "/mnt/cube/tsainbur/Projects/github_repos/LRSO_paper_rev/LongRangeSequentialOrgPaper/childes_mi/datasets/phonbank.py:270: UserWarning: No transcripts for /mnt/cube/tsainbur/Projects/github_repos/LRSO_paper_rev/LongRangeSequentialOrgPaper/data/raw/PHON_Data_Dir/corpora/Eng-NA/PaidoEnglish/3b/e3bt24f221.xml\n",
      "  warnings.warn(\"No transcripts for {}\".format(xml_loc))\n",
      "/mnt/cube/tsainbur/Projects/github_repos/LRSO_paper_rev/LongRangeSequentialOrgPaper/childes_mi/datasets/phonbank.py:270: UserWarning: No transcripts for /mnt/cube/tsainbur/Projects/github_repos/LRSO_paper_rev/LongRangeSequentialOrgPaper/data/raw/PHON_Data_Dir/corpora/Eng-NA/PaidoEnglish/3b/e3bt20m121.xml\n",
      "  warnings.warn(\"No transcripts for {}\".format(xml_loc))\n",
      "/mnt/cube/tsainbur/Projects/github_repos/LRSO_paper_rev/LongRangeSequentialOrgPaper/childes_mi/datasets/phonbank.py:270: UserWarning: No transcripts for /mnt/cube/tsainbur/Projects/github_repos/LRSO_paper_rev/LongRangeSequentialOrgPaper/data/raw/PHON_Data_Dir/corpora/Eng-NA/PaidoEnglish/3b/e3bt21m221.xml\n",
      "  warnings.warn(\"No transcripts for {}\".format(xml_loc))\n",
      "/mnt/cube/tsainbur/Projects/github_repos/LRSO_paper_rev/LongRangeSequentialOrgPaper/childes_mi/datasets/phonbank.py:270: UserWarning: No transcripts for /mnt/cube/tsainbur/Projects/github_repos/LRSO_paper_rev/LongRangeSequentialOrgPaper/data/raw/PHON_Data_Dir/corpora/Eng-NA/PaidoEnglish/3b/e3bt23f111.xml\n",
      "  warnings.warn(\"No transcripts for {}\".format(xml_loc))\n",
      "/mnt/cube/tsainbur/Projects/github_repos/LRSO_paper_rev/LongRangeSequentialOrgPaper/childes_mi/datasets/phonbank.py:270: UserWarning: No transcripts for /mnt/cube/tsainbur/Projects/github_repos/LRSO_paper_rev/LongRangeSequentialOrgPaper/data/raw/PHON_Data_Dir/corpora/Eng-NA/PaidoEnglish/3b/e3bt16f212.xml\n",
      "  warnings.warn(\"No transcripts for {}\".format(xml_loc))\n",
      "/mnt/cube/tsainbur/Projects/github_repos/LRSO_paper_rev/LongRangeSequentialOrgPaper/childes_mi/datasets/phonbank.py:270: UserWarning: No transcripts for /mnt/cube/tsainbur/Projects/github_repos/LRSO_paper_rev/LongRangeSequentialOrgPaper/data/raw/PHON_Data_Dir/corpora/Eng-NA/PaidoEnglish/3b/e3bt18f311.xml\n",
      "  warnings.warn(\"No transcripts for {}\".format(xml_loc))\n",
      "/mnt/cube/tsainbur/Projects/github_repos/LRSO_paper_rev/LongRangeSequentialOrgPaper/childes_mi/datasets/phonbank.py:270: UserWarning: No transcripts for /mnt/cube/tsainbur/Projects/github_repos/LRSO_paper_rev/LongRangeSequentialOrgPaper/data/raw/PHON_Data_Dir/corpora/Eng-NA/PaidoEnglish/3b/e3bt25m212.xml\n",
      "  warnings.warn(\"No transcripts for {}\".format(xml_loc))\n",
      "/mnt/cube/tsainbur/Projects/github_repos/LRSO_paper_rev/LongRangeSequentialOrgPaper/childes_mi/datasets/phonbank.py:270: UserWarning: No transcripts for /mnt/cube/tsainbur/Projects/github_repos/LRSO_paper_rev/LongRangeSequentialOrgPaper/data/raw/PHON_Data_Dir/corpora/Eng-NA/PaidoEnglish/3b/e3bt17m121.xml\n",
      "  warnings.warn(\"No transcripts for {}\".format(xml_loc))\n",
      "/mnt/cube/tsainbur/Projects/github_repos/LRSO_paper_rev/LongRangeSequentialOrgPaper/childes_mi/datasets/phonbank.py:270: UserWarning: No transcripts for /mnt/cube/tsainbur/Projects/github_repos/LRSO_paper_rev/LongRangeSequentialOrgPaper/data/raw/PHON_Data_Dir/corpora/Eng-NA/PaidoEnglish/3b/e3bt25m211.xml\n",
      "  warnings.warn(\"No transcripts for {}\".format(xml_loc))\n",
      "/mnt/cube/tsainbur/Projects/github_repos/LRSO_paper_rev/LongRangeSequentialOrgPaper/childes_mi/datasets/phonbank.py:270: UserWarning: No transcripts for /mnt/cube/tsainbur/Projects/github_repos/LRSO_paper_rev/LongRangeSequentialOrgPaper/data/raw/PHON_Data_Dir/corpora/Eng-NA/PaidoEnglish/3b/e3bt17m122.xml\n",
      "  warnings.warn(\"No transcripts for {}\".format(xml_loc))\n",
      "/mnt/cube/tsainbur/Projects/github_repos/LRSO_paper_rev/LongRangeSequentialOrgPaper/childes_mi/datasets/phonbank.py:270: UserWarning: No transcripts for /mnt/cube/tsainbur/Projects/github_repos/LRSO_paper_rev/LongRangeSequentialOrgPaper/data/raw/PHON_Data_Dir/corpora/Eng-NA/PaidoEnglish/3b/e3bt23f112.xml\n",
      "  warnings.warn(\"No transcripts for {}\".format(xml_loc))\n",
      "/mnt/cube/tsainbur/Projects/github_repos/LRSO_paper_rev/LongRangeSequentialOrgPaper/childes_mi/datasets/phonbank.py:270: UserWarning: No transcripts for /mnt/cube/tsainbur/Projects/github_repos/LRSO_paper_rev/LongRangeSequentialOrgPaper/data/raw/PHON_Data_Dir/corpora/Eng-NA/PaidoEnglish/3b/e3bt16f211.xml\n",
      "  warnings.warn(\"No transcripts for {}\".format(xml_loc))\n",
      "/mnt/cube/tsainbur/Projects/github_repos/LRSO_paper_rev/LongRangeSequentialOrgPaper/childes_mi/datasets/phonbank.py:270: UserWarning: No transcripts for /mnt/cube/tsainbur/Projects/github_repos/LRSO_paper_rev/LongRangeSequentialOrgPaper/data/raw/PHON_Data_Dir/corpora/Eng-NA/PaidoEnglish/3b/e3bt18f312.xml\n",
      "  warnings.warn(\"No transcripts for {}\".format(xml_loc))\n",
      "/mnt/cube/tsainbur/Projects/github_repos/LRSO_paper_rev/LongRangeSequentialOrgPaper/childes_mi/datasets/phonbank.py:270: UserWarning: No transcripts for /mnt/cube/tsainbur/Projects/github_repos/LRSO_paper_rev/LongRangeSequentialOrgPaper/data/raw/PHON_Data_Dir/corpora/Eng-NA/PaidoEnglish/3b/e3bt22f321.xml\n",
      "  warnings.warn(\"No transcripts for {}\".format(xml_loc))\n",
      "/mnt/cube/tsainbur/Projects/github_repos/LRSO_paper_rev/LongRangeSequentialOrgPaper/childes_mi/datasets/phonbank.py:270: UserWarning: No transcripts for /mnt/cube/tsainbur/Projects/github_repos/LRSO_paper_rev/LongRangeSequentialOrgPaper/data/raw/PHON_Data_Dir/corpora/Eng-NA/PaidoEnglish/3b/e3bt20m122.xml\n",
      "  warnings.warn(\"No transcripts for {}\".format(xml_loc))\n",
      "/mnt/cube/tsainbur/Projects/github_repos/LRSO_paper_rev/LongRangeSequentialOrgPaper/childes_mi/datasets/phonbank.py:270: UserWarning: No transcripts for /mnt/cube/tsainbur/Projects/github_repos/LRSO_paper_rev/LongRangeSequentialOrgPaper/data/raw/PHON_Data_Dir/corpora/Eng-NA/PaidoEnglish/3b/e3bt21m222.xml\n",
      "  warnings.warn(\"No transcripts for {}\".format(xml_loc))\n"
     ]
    },
    {
     "name": "stderr",
     "output_type": "stream",
     "text": [
      "/mnt/cube/tsainbur/Projects/github_repos/LRSO_paper_rev/LongRangeSequentialOrgPaper/childes_mi/datasets/phonbank.py:270: UserWarning: No transcripts for /mnt/cube/tsainbur/Projects/github_repos/LRSO_paper_rev/LongRangeSequentialOrgPaper/data/raw/PHON_Data_Dir/corpora/Eng-NA/PaidoEnglish/3b/e3bt24f222.xml\n",
      "  warnings.warn(\"No transcripts for {}\".format(xml_loc))\n",
      "/mnt/cube/tsainbur/Projects/github_repos/LRSO_paper_rev/LongRangeSequentialOrgPaper/childes_mi/datasets/phonbank.py:270: UserWarning: No transcripts for /mnt/cube/tsainbur/Projects/github_repos/LRSO_paper_rev/LongRangeSequentialOrgPaper/data/raw/PHON_Data_Dir/corpora/Eng-NA/PaidoEnglish/3b/e3bt19m112.xml\n",
      "  warnings.warn(\"No transcripts for {}\".format(xml_loc))\n",
      "/mnt/cube/tsainbur/Projects/github_repos/LRSO_paper_rev/LongRangeSequentialOrgPaper/childes_mi/datasets/phonbank.py:270: UserWarning: No transcripts for /mnt/cube/tsainbur/Projects/github_repos/LRSO_paper_rev/LongRangeSequentialOrgPaper/data/raw/PHON_Data_Dir/corpora/Eng-NA/PaidoEnglish/4b/e4bt21m322.xml\n",
      "  warnings.warn(\"No transcripts for {}\".format(xml_loc))\n",
      "/mnt/cube/tsainbur/Projects/github_repos/LRSO_paper_rev/LongRangeSequentialOrgPaper/childes_mi/datasets/phonbank.py:270: UserWarning: No transcripts for /mnt/cube/tsainbur/Projects/github_repos/LRSO_paper_rev/LongRangeSequentialOrgPaper/data/raw/PHON_Data_Dir/corpora/Eng-NA/PaidoEnglish/4b/e4bt25m322.xml\n",
      "  warnings.warn(\"No transcripts for {}\".format(xml_loc))\n",
      "/mnt/cube/tsainbur/Projects/github_repos/LRSO_paper_rev/LongRangeSequentialOrgPaper/childes_mi/datasets/phonbank.py:270: UserWarning: No transcripts for /mnt/cube/tsainbur/Projects/github_repos/LRSO_paper_rev/LongRangeSequentialOrgPaper/data/raw/PHON_Data_Dir/corpora/Eng-NA/PaidoEnglish/4b/e4bt20f322.xml\n",
      "  warnings.warn(\"No transcripts for {}\".format(xml_loc))\n",
      "/mnt/cube/tsainbur/Projects/github_repos/LRSO_paper_rev/LongRangeSequentialOrgPaper/childes_mi/datasets/phonbank.py:270: UserWarning: No transcripts for /mnt/cube/tsainbur/Projects/github_repos/LRSO_paper_rev/LongRangeSequentialOrgPaper/data/raw/PHON_Data_Dir/corpora/Eng-NA/PaidoEnglish/4b/e4bt14m212.xml\n",
      "  warnings.warn(\"No transcripts for {}\".format(xml_loc))\n",
      "/mnt/cube/tsainbur/Projects/github_repos/LRSO_paper_rev/LongRangeSequentialOrgPaper/childes_mi/datasets/phonbank.py:270: UserWarning: No transcripts for /mnt/cube/tsainbur/Projects/github_repos/LRSO_paper_rev/LongRangeSequentialOrgPaper/data/raw/PHON_Data_Dir/corpora/Eng-NA/PaidoEnglish/4b/e4bt24f211.xml\n",
      "  warnings.warn(\"No transcripts for {}\".format(xml_loc))\n",
      "/mnt/cube/tsainbur/Projects/github_repos/LRSO_paper_rev/LongRangeSequentialOrgPaper/childes_mi/datasets/phonbank.py:270: UserWarning: No transcripts for /mnt/cube/tsainbur/Projects/github_repos/LRSO_paper_rev/LongRangeSequentialOrgPaper/data/raw/PHON_Data_Dir/corpora/Eng-NA/PaidoEnglish/4b/e4bt22m221.xml\n",
      "  warnings.warn(\"No transcripts for {}\".format(xml_loc))\n",
      "/mnt/cube/tsainbur/Projects/github_repos/LRSO_paper_rev/LongRangeSequentialOrgPaper/childes_mi/datasets/phonbank.py:270: UserWarning: No transcripts for /mnt/cube/tsainbur/Projects/github_repos/LRSO_paper_rev/LongRangeSequentialOrgPaper/data/raw/PHON_Data_Dir/corpora/Eng-NA/PaidoEnglish/4b/e4bt18f312.xml\n",
      "  warnings.warn(\"No transcripts for {}\".format(xml_loc))\n",
      "/mnt/cube/tsainbur/Projects/github_repos/LRSO_paper_rev/LongRangeSequentialOrgPaper/childes_mi/datasets/phonbank.py:270: UserWarning: No transcripts for /mnt/cube/tsainbur/Projects/github_repos/LRSO_paper_rev/LongRangeSequentialOrgPaper/data/raw/PHON_Data_Dir/corpora/Eng-NA/PaidoEnglish/4b/e4bt16f211.xml\n",
      "  warnings.warn(\"No transcripts for {}\".format(xml_loc))\n",
      "/mnt/cube/tsainbur/Projects/github_repos/LRSO_paper_rev/LongRangeSequentialOrgPaper/childes_mi/datasets/phonbank.py:270: UserWarning: No transcripts for /mnt/cube/tsainbur/Projects/github_repos/LRSO_paper_rev/LongRangeSequentialOrgPaper/data/raw/PHON_Data_Dir/corpora/Eng-NA/PaidoEnglish/4b/e4bt18f311.xml\n",
      "  warnings.warn(\"No transcripts for {}\".format(xml_loc))\n",
      "/mnt/cube/tsainbur/Projects/github_repos/LRSO_paper_rev/LongRangeSequentialOrgPaper/childes_mi/datasets/phonbank.py:270: UserWarning: No transcripts for /mnt/cube/tsainbur/Projects/github_repos/LRSO_paper_rev/LongRangeSequentialOrgPaper/data/raw/PHON_Data_Dir/corpora/Eng-NA/PaidoEnglish/4b/e4bt16f212.xml\n",
      "  warnings.warn(\"No transcripts for {}\".format(xml_loc))\n",
      "/mnt/cube/tsainbur/Projects/github_repos/LRSO_paper_rev/LongRangeSequentialOrgPaper/childes_mi/datasets/phonbank.py:270: UserWarning: No transcripts for /mnt/cube/tsainbur/Projects/github_repos/LRSO_paper_rev/LongRangeSequentialOrgPaper/data/raw/PHON_Data_Dir/corpora/Eng-NA/PaidoEnglish/4b/e4bt24f212.xml\n",
      "  warnings.warn(\"No transcripts for {}\".format(xml_loc))\n",
      "/mnt/cube/tsainbur/Projects/github_repos/LRSO_paper_rev/LongRangeSequentialOrgPaper/childes_mi/datasets/phonbank.py:270: UserWarning: No transcripts for /mnt/cube/tsainbur/Projects/github_repos/LRSO_paper_rev/LongRangeSequentialOrgPaper/data/raw/PHON_Data_Dir/corpora/Eng-NA/PaidoEnglish/4b/e4bt22m222.xml\n",
      "  warnings.warn(\"No transcripts for {}\".format(xml_loc))\n",
      "/mnt/cube/tsainbur/Projects/github_repos/LRSO_paper_rev/LongRangeSequentialOrgPaper/childes_mi/datasets/phonbank.py:270: UserWarning: No transcripts for /mnt/cube/tsainbur/Projects/github_repos/LRSO_paper_rev/LongRangeSequentialOrgPaper/data/raw/PHON_Data_Dir/corpora/Eng-NA/PaidoEnglish/4b/e4bt20f321.xml\n",
      "  warnings.warn(\"No transcripts for {}\".format(xml_loc))\n",
      "/mnt/cube/tsainbur/Projects/github_repos/LRSO_paper_rev/LongRangeSequentialOrgPaper/childes_mi/datasets/phonbank.py:270: UserWarning: No transcripts for /mnt/cube/tsainbur/Projects/github_repos/LRSO_paper_rev/LongRangeSequentialOrgPaper/data/raw/PHON_Data_Dir/corpora/Eng-NA/PaidoEnglish/4b/e4bt21m321.xml\n",
      "  warnings.warn(\"No transcripts for {}\".format(xml_loc))\n",
      "/mnt/cube/tsainbur/Projects/github_repos/LRSO_paper_rev/LongRangeSequentialOrgPaper/childes_mi/datasets/phonbank.py:270: UserWarning: No transcripts for /mnt/cube/tsainbur/Projects/github_repos/LRSO_paper_rev/LongRangeSequentialOrgPaper/data/raw/PHON_Data_Dir/corpora/Eng-NA/PaidoEnglish/4b/e4bt25m321.xml\n",
      "  warnings.warn(\"No transcripts for {}\".format(xml_loc))\n",
      "/mnt/cube/tsainbur/Projects/github_repos/LRSO_paper_rev/LongRangeSequentialOrgPaper/childes_mi/datasets/phonbank.py:270: UserWarning: No transcripts for /mnt/cube/tsainbur/Projects/github_repos/LRSO_paper_rev/LongRangeSequentialOrgPaper/data/raw/PHON_Data_Dir/corpora/Eng-NA/PaidoEnglish/4b/e4bt14m211.xml\n",
      "  warnings.warn(\"No transcripts for {}\".format(xml_loc))\n",
      "/mnt/cube/tsainbur/Projects/github_repos/LRSO_paper_rev/LongRangeSequentialOrgPaper/childes_mi/datasets/phonbank.py:270: UserWarning: No transcripts for /mnt/cube/tsainbur/Projects/github_repos/LRSO_paper_rev/LongRangeSequentialOrgPaper/data/raw/PHON_Data_Dir/corpora/Eng-NA/PaidoEnglish/5a/e5at11m322.xml\n",
      "  warnings.warn(\"No transcripts for {}\".format(xml_loc))\n",
      "/mnt/cube/tsainbur/Projects/github_repos/LRSO_paper_rev/LongRangeSequentialOrgPaper/childes_mi/datasets/phonbank.py:270: UserWarning: No transcripts for /mnt/cube/tsainbur/Projects/github_repos/LRSO_paper_rev/LongRangeSequentialOrgPaper/data/raw/PHON_Data_Dir/corpora/Eng-NA/PaidoEnglish/5a/e5at04f311.xml\n",
      "  warnings.warn(\"No transcripts for {}\".format(xml_loc))\n",
      "/mnt/cube/tsainbur/Projects/github_repos/LRSO_paper_rev/LongRangeSequentialOrgPaper/childes_mi/datasets/phonbank.py:270: UserWarning: No transcripts for /mnt/cube/tsainbur/Projects/github_repos/LRSO_paper_rev/LongRangeSequentialOrgPaper/data/raw/PHON_Data_Dir/corpora/Eng-NA/PaidoEnglish/5a/e5at09f222.xml\n",
      "  warnings.warn(\"No transcripts for {}\".format(xml_loc))\n",
      "/mnt/cube/tsainbur/Projects/github_repos/LRSO_paper_rev/LongRangeSequentialOrgPaper/childes_mi/datasets/phonbank.py:270: UserWarning: No transcripts for /mnt/cube/tsainbur/Projects/github_repos/LRSO_paper_rev/LongRangeSequentialOrgPaper/data/raw/PHON_Data_Dir/corpora/Eng-NA/PaidoEnglish/5a/e5at07m312.xml\n",
      "  warnings.warn(\"No transcripts for {}\".format(xml_loc))\n",
      "/mnt/cube/tsainbur/Projects/github_repos/LRSO_paper_rev/LongRangeSequentialOrgPaper/childes_mi/datasets/phonbank.py:270: UserWarning: No transcripts for /mnt/cube/tsainbur/Projects/github_repos/LRSO_paper_rev/LongRangeSequentialOrgPaper/data/raw/PHON_Data_Dir/corpora/Eng-NA/PaidoEnglish/5a/e5at02f121.xml\n",
      "  warnings.warn(\"No transcripts for {}\".format(xml_loc))\n",
      "/mnt/cube/tsainbur/Projects/github_repos/LRSO_paper_rev/LongRangeSequentialOrgPaper/childes_mi/datasets/phonbank.py:270: UserWarning: No transcripts for /mnt/cube/tsainbur/Projects/github_repos/LRSO_paper_rev/LongRangeSequentialOrgPaper/data/raw/PHON_Data_Dir/corpora/Eng-NA/PaidoEnglish/5a/e5at08f322.xml\n",
      "  warnings.warn(\"No transcripts for {}\".format(xml_loc))\n",
      "/mnt/cube/tsainbur/Projects/github_repos/LRSO_paper_rev/LongRangeSequentialOrgPaper/childes_mi/datasets/phonbank.py:270: UserWarning: No transcripts for /mnt/cube/tsainbur/Projects/github_repos/LRSO_paper_rev/LongRangeSequentialOrgPaper/data/raw/PHON_Data_Dir/corpora/Eng-NA/PaidoEnglish/5a/e5at06f221.xml\n",
      "  warnings.warn(\"No transcripts for {}\".format(xml_loc))\n",
      "/mnt/cube/tsainbur/Projects/github_repos/LRSO_paper_rev/LongRangeSequentialOrgPaper/childes_mi/datasets/phonbank.py:270: UserWarning: No transcripts for /mnt/cube/tsainbur/Projects/github_repos/LRSO_paper_rev/LongRangeSequentialOrgPaper/data/raw/PHON_Data_Dir/corpora/Eng-NA/PaidoEnglish/5a/e5at13m121.xml\n",
      "  warnings.warn(\"No transcripts for {}\".format(xml_loc))\n"
     ]
    },
    {
     "name": "stderr",
     "output_type": "stream",
     "text": [
      "/mnt/cube/tsainbur/Projects/github_repos/LRSO_paper_rev/LongRangeSequentialOrgPaper/childes_mi/datasets/phonbank.py:270: UserWarning: No transcripts for /mnt/cube/tsainbur/Projects/github_repos/LRSO_paper_rev/LongRangeSequentialOrgPaper/data/raw/PHON_Data_Dir/corpora/Eng-NA/PaidoEnglish/5a/e5at05m222.xml\n",
      "  warnings.warn(\"No transcripts for {}\".format(xml_loc))\n",
      "/mnt/cube/tsainbur/Projects/github_repos/LRSO_paper_rev/LongRangeSequentialOrgPaper/childes_mi/datasets/phonbank.py:270: UserWarning: No transcripts for /mnt/cube/tsainbur/Projects/github_repos/LRSO_paper_rev/LongRangeSequentialOrgPaper/data/raw/PHON_Data_Dir/corpora/Eng-NA/PaidoEnglish/5a/e5at01f122.xml\n",
      "  warnings.warn(\"No transcripts for {}\".format(xml_loc))\n",
      "/mnt/cube/tsainbur/Projects/github_repos/LRSO_paper_rev/LongRangeSequentialOrgPaper/childes_mi/datasets/phonbank.py:270: UserWarning: No transcripts for /mnt/cube/tsainbur/Projects/github_repos/LRSO_paper_rev/LongRangeSequentialOrgPaper/data/raw/PHON_Data_Dir/corpora/Eng-NA/PaidoEnglish/5a/e5at03m112.xml\n",
      "  warnings.warn(\"No transcripts for {}\".format(xml_loc))\n",
      "/mnt/cube/tsainbur/Projects/github_repos/LRSO_paper_rev/LongRangeSequentialOrgPaper/childes_mi/datasets/phonbank.py:270: UserWarning: No transcripts for /mnt/cube/tsainbur/Projects/github_repos/LRSO_paper_rev/LongRangeSequentialOrgPaper/data/raw/PHON_Data_Dir/corpora/Eng-NA/PaidoEnglish/5a/e5at13m122.xml\n",
      "  warnings.warn(\"No transcripts for {}\".format(xml_loc))\n",
      "/mnt/cube/tsainbur/Projects/github_repos/LRSO_paper_rev/LongRangeSequentialOrgPaper/childes_mi/datasets/phonbank.py:270: UserWarning: No transcripts for /mnt/cube/tsainbur/Projects/github_repos/LRSO_paper_rev/LongRangeSequentialOrgPaper/data/raw/PHON_Data_Dir/corpora/Eng-NA/PaidoEnglish/5a/e5at01f121.xml\n",
      "  warnings.warn(\"No transcripts for {}\".format(xml_loc))\n",
      "/mnt/cube/tsainbur/Projects/github_repos/LRSO_paper_rev/LongRangeSequentialOrgPaper/childes_mi/datasets/phonbank.py:270: UserWarning: No transcripts for /mnt/cube/tsainbur/Projects/github_repos/LRSO_paper_rev/LongRangeSequentialOrgPaper/data/raw/PHON_Data_Dir/corpora/Eng-NA/PaidoEnglish/5a/e5at05m221.xml\n",
      "  warnings.warn(\"No transcripts for {}\".format(xml_loc))\n",
      "/mnt/cube/tsainbur/Projects/github_repos/LRSO_paper_rev/LongRangeSequentialOrgPaper/childes_mi/datasets/phonbank.py:270: UserWarning: No transcripts for /mnt/cube/tsainbur/Projects/github_repos/LRSO_paper_rev/LongRangeSequentialOrgPaper/data/raw/PHON_Data_Dir/corpora/Eng-NA/PaidoEnglish/5a/e5at03m111.xml\n",
      "  warnings.warn(\"No transcripts for {}\".format(xml_loc))\n",
      "/mnt/cube/tsainbur/Projects/github_repos/LRSO_paper_rev/LongRangeSequentialOrgPaper/childes_mi/datasets/phonbank.py:270: UserWarning: No transcripts for /mnt/cube/tsainbur/Projects/github_repos/LRSO_paper_rev/LongRangeSequentialOrgPaper/data/raw/PHON_Data_Dir/corpora/Eng-NA/PaidoEnglish/5a/e5at08f321.xml\n",
      "  warnings.warn(\"No transcripts for {}\".format(xml_loc))\n",
      "/mnt/cube/tsainbur/Projects/github_repos/LRSO_paper_rev/LongRangeSequentialOrgPaper/childes_mi/datasets/phonbank.py:270: UserWarning: No transcripts for /mnt/cube/tsainbur/Projects/github_repos/LRSO_paper_rev/LongRangeSequentialOrgPaper/data/raw/PHON_Data_Dir/corpora/Eng-NA/PaidoEnglish/5a/e5at06f222.xml\n",
      "  warnings.warn(\"No transcripts for {}\".format(xml_loc))\n",
      "/mnt/cube/tsainbur/Projects/github_repos/LRSO_paper_rev/LongRangeSequentialOrgPaper/childes_mi/datasets/phonbank.py:270: UserWarning: No transcripts for /mnt/cube/tsainbur/Projects/github_repos/LRSO_paper_rev/LongRangeSequentialOrgPaper/data/raw/PHON_Data_Dir/corpora/Eng-NA/PaidoEnglish/5a/e5at02f122.xml\n",
      "  warnings.warn(\"No transcripts for {}\".format(xml_loc))\n",
      "/mnt/cube/tsainbur/Projects/github_repos/LRSO_paper_rev/LongRangeSequentialOrgPaper/childes_mi/datasets/phonbank.py:270: UserWarning: No transcripts for /mnt/cube/tsainbur/Projects/github_repos/LRSO_paper_rev/LongRangeSequentialOrgPaper/data/raw/PHON_Data_Dir/corpora/Eng-NA/PaidoEnglish/5a/e5at07m311.xml\n",
      "  warnings.warn(\"No transcripts for {}\".format(xml_loc))\n",
      "/mnt/cube/tsainbur/Projects/github_repos/LRSO_paper_rev/LongRangeSequentialOrgPaper/childes_mi/datasets/phonbank.py:270: UserWarning: No transcripts for /mnt/cube/tsainbur/Projects/github_repos/LRSO_paper_rev/LongRangeSequentialOrgPaper/data/raw/PHON_Data_Dir/corpora/Eng-NA/PaidoEnglish/5a/e5at11m321.xml\n",
      "  warnings.warn(\"No transcripts for {}\".format(xml_loc))\n",
      "/mnt/cube/tsainbur/Projects/github_repos/LRSO_paper_rev/LongRangeSequentialOrgPaper/childes_mi/datasets/phonbank.py:270: UserWarning: No transcripts for /mnt/cube/tsainbur/Projects/github_repos/LRSO_paper_rev/LongRangeSequentialOrgPaper/data/raw/PHON_Data_Dir/corpora/Eng-NA/PaidoEnglish/5a/e5at09f221.xml\n",
      "  warnings.warn(\"No transcripts for {}\".format(xml_loc))\n",
      "/mnt/cube/tsainbur/Projects/github_repos/LRSO_paper_rev/LongRangeSequentialOrgPaper/childes_mi/datasets/phonbank.py:270: UserWarning: No transcripts for /mnt/cube/tsainbur/Projects/github_repos/LRSO_paper_rev/LongRangeSequentialOrgPaper/data/raw/PHON_Data_Dir/corpora/Eng-NA/PaidoEnglish/5a/e5at04f312.xml\n",
      "  warnings.warn(\"No transcripts for {}\".format(xml_loc))\n",
      "/mnt/cube/tsainbur/Projects/github_repos/LRSO_paper_rev/LongRangeSequentialOrgPaper/childes_mi/datasets/phonbank.py:224: UserWarning: No transcripts for /mnt/cube/tsainbur/Projects/github_repos/LRSO_paper_rev/LongRangeSequentialOrgPaper/data/raw/PHON_Data_Dir/corpora/Eng-NA/Goad/project.xml\n",
      "  warnings.warn(\"No transcripts for {}\".format(xml_loc))\n",
      "/mnt/cube/tsainbur/Projects/github_repos/LRSO_paper_rev/LongRangeSequentialOrgPaper/childes_mi/datasets/phonbank.py:224: UserWarning: No transcripts for /mnt/cube/tsainbur/Projects/github_repos/LRSO_paper_rev/LongRangeSequentialOrgPaper/data/raw/PHON_Data_Dir/corpora/Eng-NA/Davis/project.xml\n",
      "  warnings.warn(\"No transcripts for {}\".format(xml_loc))\n",
      "/mnt/cube/tsainbur/Projects/github_repos/LRSO_paper_rev/LongRangeSequentialOrgPaper/childes_mi/datasets/phonbank.py:125: UserWarning: groupTier not an expected element in record\n",
      "  warnings.warn(\"{} not an expected element in {}\".format(elem, place))\n",
      "/mnt/cube/tsainbur/Projects/github_repos/LRSO_paper_rev/LongRangeSequentialOrgPaper/childes_mi/datasets/phonbank.py:224: UserWarning: No transcripts for /mnt/cube/tsainbur/Projects/github_repos/LRSO_paper_rev/LongRangeSequentialOrgPaper/data/raw/PHON_Data_Dir/corpora/Eng-NA/ComptonPater/project.xml\n",
      "  warnings.warn(\"No transcripts for {}\".format(xml_loc))\n",
      "/mnt/cube/tsainbur/Projects/github_repos/LRSO_paper_rev/LongRangeSequentialOrgPaper/childes_mi/datasets/phonbank.py:224: UserWarning: No transcripts for /mnt/cube/tsainbur/Projects/github_repos/LRSO_paper_rev/LongRangeSequentialOrgPaper/data/raw/PHON_Data_Dir/corpora/Eng-NA/Providence/project.xml\n",
      "  warnings.warn(\"No transcripts for {}\".format(xml_loc))\n",
      "/mnt/cube/tsainbur/Projects/github_repos/LRSO_paper_rev/LongRangeSequentialOrgPaper/childes_mi/datasets/phonbank.py:224: UserWarning: No transcripts for /mnt/cube/tsainbur/Projects/github_repos/LRSO_paper_rev/LongRangeSequentialOrgPaper/data/raw/PHON_Data_Dir/corpora/Eng-NA/Penney/project.xml\n",
      "  warnings.warn(\"No transcripts for {}\".format(xml_loc))\n",
      "/mnt/cube/tsainbur/Projects/github_repos/LRSO_paper_rev/LongRangeSequentialOrgPaper/childes_mi/datasets/phonbank.py:224: UserWarning: No transcripts for /mnt/cube/tsainbur/Projects/github_repos/LRSO_paper_rev/LongRangeSequentialOrgPaper/data/raw/PHON_Data_Dir/corpora/Eng-NA/Inkelas/project.xml\n",
      "  warnings.warn(\"No transcripts for {}\".format(xml_loc))\n",
      "/mnt/cube/tsainbur/Projects/github_repos/LRSO_paper_rev/LongRangeSequentialOrgPaper/childes_mi/datasets/phonbank.py:224: UserWarning: No transcripts for /mnt/cube/tsainbur/Projects/github_repos/LRSO_paper_rev/LongRangeSequentialOrgPaper/data/raw/PHON_Data_Dir/corpora/Eng-NA/StanfordEnglish/project.xml\n",
      "  warnings.warn(\"No transcripts for {}\".format(xml_loc))\n"
     ]
    }
   ],
   "source": [
    "nex = -1\n",
    "with Parallel(n_jobs=1) as parallel:\n",
    "    transcript_dfs = parallel(\n",
    "        delayed(process_transcript)(\n",
    "            transcript,\n",
    "            participant_save_loc=DATA_DIR\n",
    "            / (\"processed-all/phonbank/participants/\" + '_'.join(transcript.as_posix()[:-4].split('/')[-5:]) + \".pickle\"),\n",
    "            transcript_save_loc=DATA_DIR\n",
    "            / (\"processed-all/phonbank/transcripts/\" + '_'.join(transcript.as_posix()[:-4].split('/')[-5:]) + \".pickle\"),\n",
    "        )\n",
    "        for transcript in tqdm(all_XML[:nex])\n",
    "    )"
   ]
  },
  {
   "cell_type": "code",
   "execution_count": 13,
   "metadata": {
    "ExecuteTime": {
     "end_time": "2021-02-23T18:50:01.368351Z",
     "start_time": "2021-02-23T18:50:00.865569Z"
    }
   },
   "outputs": [],
   "source": [
    "transcript_df = pd.concat(transcript_dfs)"
   ]
  },
  {
   "cell_type": "code",
   "execution_count": 14,
   "metadata": {
    "ExecuteTime": {
     "end_time": "2021-02-23T18:50:01.389035Z",
     "start_time": "2021-02-23T18:50:01.370291Z"
    }
   },
   "outputs": [
    {
     "data": {
      "text/html": [
       "<div>\n",
       "<style scoped>\n",
       "    .dataframe tbody tr th:only-of-type {\n",
       "        vertical-align: middle;\n",
       "    }\n",
       "\n",
       "    .dataframe tbody tr th {\n",
       "        vertical-align: top;\n",
       "    }\n",
       "\n",
       "    .dataframe thead th {\n",
       "        text-align: right;\n",
       "    }\n",
       "</style>\n",
       "<table border=\"1\" class=\"dataframe\">\n",
       "  <thead>\n",
       "    <tr style=\"text-align: right;\">\n",
       "      <th></th>\n",
       "      <th>transcript_id</th>\n",
       "      <th>transcript_root_name</th>\n",
       "      <th>corpus</th>\n",
       "      <th>version</th>\n",
       "      <th>date</th>\n",
       "      <th>language</th>\n",
       "      <th>media</th>\n",
       "      <th>xml_loc</th>\n",
       "    </tr>\n",
       "  </thead>\n",
       "  <tbody>\n",
       "    <tr>\n",
       "      <th>0</th>\n",
       "      <td>Kae-1_04_14</td>\n",
       "      <td>corpora_Eng-NA_Davis-CDI_Kae-WS_Kae-1_04_14</td>\n",
       "      <td>Kae-WS</td>\n",
       "      <td>PB1.2</td>\n",
       "      <td>2004-04-04</td>\n",
       "      <td>eng</td>\n",
       "      <td>NaN</td>\n",
       "      <td>/mnt/cube/tsainbur/Projects/github_repos/LRSO_...</td>\n",
       "    </tr>\n",
       "    <tr>\n",
       "      <th>0</th>\n",
       "      <td>Kae-1_07_29</td>\n",
       "      <td>corpora_Eng-NA_Davis-CDI_Kae-WS_Kae-1_07_29</td>\n",
       "      <td>Kae-WS</td>\n",
       "      <td>PB1.2</td>\n",
       "      <td>2004-07-20</td>\n",
       "      <td>eng</td>\n",
       "      <td>NaN</td>\n",
       "      <td>/mnt/cube/tsainbur/Projects/github_repos/LRSO_...</td>\n",
       "    </tr>\n",
       "    <tr>\n",
       "      <th>0</th>\n",
       "      <td>Kae-1_05_02</td>\n",
       "      <td>corpora_Eng-NA_Davis-CDI_Kae-WS_Kae-1_05_02</td>\n",
       "      <td>Kae-WS</td>\n",
       "      <td>PB1.2</td>\n",
       "      <td>2004-04-23</td>\n",
       "      <td>eng</td>\n",
       "      <td>NaN</td>\n",
       "      <td>/mnt/cube/tsainbur/Projects/github_repos/LRSO_...</td>\n",
       "    </tr>\n",
       "  </tbody>\n",
       "</table>\n",
       "</div>"
      ],
      "text/plain": [
       "  transcript_id                         transcript_root_name  corpus version  \\\n",
       "0   Kae-1_04_14  corpora_Eng-NA_Davis-CDI_Kae-WS_Kae-1_04_14  Kae-WS   PB1.2   \n",
       "0   Kae-1_07_29  corpora_Eng-NA_Davis-CDI_Kae-WS_Kae-1_07_29  Kae-WS   PB1.2   \n",
       "0   Kae-1_05_02  corpora_Eng-NA_Davis-CDI_Kae-WS_Kae-1_05_02  Kae-WS   PB1.2   \n",
       "\n",
       "         date language media  \\\n",
       "0  2004-04-04      eng   NaN   \n",
       "0  2004-07-20      eng   NaN   \n",
       "0  2004-04-23      eng   NaN   \n",
       "\n",
       "                                             xml_loc  \n",
       "0  /mnt/cube/tsainbur/Projects/github_repos/LRSO_...  \n",
       "0  /mnt/cube/tsainbur/Projects/github_repos/LRSO_...  \n",
       "0  /mnt/cube/tsainbur/Projects/github_repos/LRSO_...  "
      ]
     },
     "execution_count": 14,
     "metadata": {},
     "output_type": "execute_result"
    }
   ],
   "source": [
    "transcript_df[:3]"
   ]
  },
  {
   "cell_type": "code",
   "execution_count": 15,
   "metadata": {
    "ExecuteTime": {
     "end_time": "2021-02-23T18:50:01.400064Z",
     "start_time": "2021-02-23T18:50:01.390563Z"
    }
   },
   "outputs": [
    {
     "data": {
      "text/plain": [
       "array(['2004-04-04', '2004-07-20', '2004-04-23', ..., '1980-12-12Z',\n",
       "       '1981-01-16Z', '1980-12-05Z'], dtype=object)"
      ]
     },
     "execution_count": 15,
     "metadata": {},
     "output_type": "execute_result"
    }
   ],
   "source": [
    "transcript_df.date.values"
   ]
  },
  {
   "cell_type": "code",
   "execution_count": 16,
   "metadata": {
    "ExecuteTime": {
     "end_time": "2021-02-23T18:50:01.410457Z",
     "start_time": "2021-02-23T18:50:01.401209Z"
    }
   },
   "outputs": [
    {
     "data": {
      "text/plain": [
       "2407"
      ]
     },
     "execution_count": 16,
     "metadata": {},
     "output_type": "execute_result"
    }
   ],
   "source": [
    "len(transcript_df)"
   ]
  },
  {
   "cell_type": "code",
   "execution_count": 17,
   "metadata": {
    "ExecuteTime": {
     "end_time": "2021-02-23T18:50:01.431660Z",
     "start_time": "2021-02-23T18:50:01.411827Z"
    }
   },
   "outputs": [],
   "source": [
    "transcript_df.to_pickle(DATA_DIR / 'processed/phonbank/transcript_df_all.pickle')"
   ]
  },
  {
   "cell_type": "code",
   "execution_count": 19,
   "metadata": {
    "ExecuteTime": {
     "end_time": "2019-08-15T03:16:42.153979Z",
     "start_time": "2019-08-15T03:16:42.110139Z"
    }
   },
   "outputs": [],
   "source": [
    "#for transcript in tqdm(all_XML[7000:]):\n",
    "#    process_transcript(transcript, participant_save_loc=None, transcript_save_loc=None))"
   ]
  },
  {
   "cell_type": "code",
   "execution_count": null,
   "metadata": {},
   "outputs": [],
   "source": []
  }
 ],
 "metadata": {
  "kernelspec": {
   "display_name": "Python [conda env:childes-paper]",
   "language": "python",
   "name": "conda-env-childes-paper-py"
  },
  "language_info": {
   "codemirror_mode": {
    "name": "ipython",
    "version": 3
   },
   "file_extension": ".py",
   "mimetype": "text/x-python",
   "name": "python",
   "nbconvert_exporter": "python",
   "pygments_lexer": "ipython3",
   "version": "3.9.1"
  }
 },
 "nbformat": 4,
 "nbformat_minor": 2
}
