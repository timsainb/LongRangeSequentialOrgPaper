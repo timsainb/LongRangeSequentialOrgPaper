{
 "cells": [
  {
   "cell_type": "code",
   "execution_count": 1,
   "metadata": {
    "ExecuteTime": {
     "end_time": "2021-02-23T18:53:51.318117Z",
     "start_time": "2021-02-23T18:53:51.305510Z"
    }
   },
   "outputs": [],
   "source": [
    "%load_ext autoreload\n",
    "%autoreload 2"
   ]
  },
  {
   "cell_type": "code",
   "execution_count": 2,
   "metadata": {
    "ExecuteTime": {
     "end_time": "2021-02-23T18:53:51.548594Z",
     "start_time": "2021-02-23T18:53:51.320057Z"
    }
   },
   "outputs": [],
   "source": [
    "from childes_mi.utils.paths import PHONBANK_DFS, DATA_DIR\n",
    "from childes_mi.utils.general import flatten"
   ]
  },
  {
   "cell_type": "code",
   "execution_count": 3,
   "metadata": {
    "ExecuteTime": {
     "end_time": "2021-02-23T18:53:51.736835Z",
     "start_time": "2021-02-23T18:53:51.550303Z"
    }
   },
   "outputs": [
    {
     "name": "stderr",
     "output_type": "stream",
     "text": [
      "<ipython-input-3-d3dd355f8edb>:4: TqdmExperimentalWarning: Using `tqdm.autonotebook.tqdm` in notebook mode. Use `tqdm.tqdm` instead to force console mode (e.g. in jupyter console)\n",
      "  from tqdm.autonotebook import tqdm\n"
     ]
    }
   ],
   "source": [
    "import pandas as pd\n",
    "import numpy as np\n",
    "import matplotlib.pyplot as plt\n",
    "from tqdm.autonotebook import tqdm"
   ]
  },
  {
   "cell_type": "code",
   "execution_count": 4,
   "metadata": {
    "ExecuteTime": {
     "end_time": "2021-02-23T18:53:51.873783Z",
     "start_time": "2021-02-23T18:53:51.738437Z"
    }
   },
   "outputs": [
    {
     "data": {
      "text/html": [
       "<div>\n",
       "<style scoped>\n",
       "    .dataframe tbody tr th:only-of-type {\n",
       "        vertical-align: middle;\n",
       "    }\n",
       "\n",
       "    .dataframe tbody tr th {\n",
       "        vertical-align: top;\n",
       "    }\n",
       "\n",
       "    .dataframe thead th {\n",
       "        text-align: right;\n",
       "    }\n",
       "</style>\n",
       "<table border=\"1\" class=\"dataframe\">\n",
       "  <thead>\n",
       "    <tr style=\"text-align: right;\">\n",
       "      <th></th>\n",
       "      <th>transcript_id</th>\n",
       "      <th>transcript_root_name</th>\n",
       "      <th>corpus</th>\n",
       "      <th>version</th>\n",
       "      <th>date</th>\n",
       "      <th>language</th>\n",
       "      <th>media</th>\n",
       "      <th>xml_loc</th>\n",
       "      <th>dataset</th>\n",
       "    </tr>\n",
       "  </thead>\n",
       "  <tbody>\n",
       "    <tr>\n",
       "      <th>0</th>\n",
       "      <td>2M-AA</td>\n",
       "      <td>corpora_Spanish_Vivar_Santiago_2M-AA</td>\n",
       "      <td>Santiago</td>\n",
       "      <td>PB1.2</td>\n",
       "      <td>2016-11-06</td>\n",
       "      <td>spa</td>\n",
       "      <td>Vivar/Santiago/2M-AA.wav</td>\n",
       "      <td>/mnt/cube/tsainbur/Projects/github_repos/child...</td>\n",
       "      <td>Vivar</td>\n",
       "    </tr>\n",
       "    <tr>\n",
       "      <th>0</th>\n",
       "      <td>4M-MB</td>\n",
       "      <td>corpora_Spanish_Vivar_Santiago_4M-MB</td>\n",
       "      <td>Santiago</td>\n",
       "      <td>PB1.2</td>\n",
       "      <td>2016-11-20</td>\n",
       "      <td>spa</td>\n",
       "      <td>Vivar/Santiago/4M-MB.wav</td>\n",
       "      <td>/mnt/cube/tsainbur/Projects/github_repos/child...</td>\n",
       "      <td>Vivar</td>\n",
       "    </tr>\n",
       "    <tr>\n",
       "      <th>0</th>\n",
       "      <td>2A-IB</td>\n",
       "      <td>corpora_Spanish_Vivar_Santiago_2A-IB</td>\n",
       "      <td>Santiago</td>\n",
       "      <td>PB1.2</td>\n",
       "      <td>2016-11-08</td>\n",
       "      <td>spa</td>\n",
       "      <td>Vivar/Santiago/2A-IB.wav</td>\n",
       "      <td>/mnt/cube/tsainbur/Projects/github_repos/child...</td>\n",
       "      <td>Vivar</td>\n",
       "    </tr>\n",
       "  </tbody>\n",
       "</table>\n",
       "</div>"
      ],
      "text/plain": [
       "  transcript_id                  transcript_root_name    corpus version  \\\n",
       "0         2M-AA  corpora_Spanish_Vivar_Santiago_2M-AA  Santiago   PB1.2   \n",
       "0         4M-MB  corpora_Spanish_Vivar_Santiago_4M-MB  Santiago   PB1.2   \n",
       "0         2A-IB  corpora_Spanish_Vivar_Santiago_2A-IB  Santiago   PB1.2   \n",
       "\n",
       "         date language                     media  \\\n",
       "0  2016-11-06      spa  Vivar/Santiago/2M-AA.wav   \n",
       "0  2016-11-20      spa  Vivar/Santiago/4M-MB.wav   \n",
       "0  2016-11-08      spa  Vivar/Santiago/2A-IB.wav   \n",
       "\n",
       "                                             xml_loc dataset  \n",
       "0  /mnt/cube/tsainbur/Projects/github_repos/child...   Vivar  \n",
       "0  /mnt/cube/tsainbur/Projects/github_repos/child...   Vivar  \n",
       "0  /mnt/cube/tsainbur/Projects/github_repos/child...   Vivar  "
      ]
     },
     "execution_count": 4,
     "metadata": {},
     "output_type": "execute_result"
    }
   ],
   "source": [
    "transcript_df = pd.read_pickle(PHONBANK_DFS/'transcript_df.pickle')\n",
    "transcript_df['dataset'] = [i.split('_')[2] for i in transcript_df.transcript_root_name.values]\n",
    "transcript_df[:3]"
   ]
  },
  {
   "cell_type": "code",
   "execution_count": 5,
   "metadata": {
    "ExecuteTime": {
     "end_time": "2021-02-23T18:53:51.885203Z",
     "start_time": "2021-02-23T18:53:51.875215Z"
    }
   },
   "outputs": [],
   "source": [
    "datasets_to_use = ['Providence', # 0;8-3;3  spontaneous interactions with their parents (usually their mothers) at home https://phonbank.talkbank.org/access/Eng-NA/Providence.html\n",
    "               'Davis', # 0;7-3;0 natural interactions and situations that occurred in their daily lives https://phonbank.talkbank.org/access/Eng-NA/Davis.html \n",
    "               'Goad',  # 0;8-2;11 in their homes in a naturalistic setting https://phonbank.talkbank.org/access/Eng-NA/Goad.html\n",
    "              ] "
   ]
  },
  {
   "cell_type": "code",
   "execution_count": 6,
   "metadata": {
    "ExecuteTime": {
     "end_time": "2021-02-23T18:53:51.897418Z",
     "start_time": "2021-02-23T18:53:51.886494Z"
    }
   },
   "outputs": [],
   "source": [
    "dataset_mask = np.array([i in datasets_to_use for i in transcript_df.dataset.values])\n",
    "transcript_df = transcript_df[dataset_mask]"
   ]
  },
  {
   "cell_type": "code",
   "execution_count": 7,
   "metadata": {
    "ExecuteTime": {
     "end_time": "2021-02-23T18:53:51.913059Z",
     "start_time": "2021-02-23T18:53:51.898799Z"
    }
   },
   "outputs": [],
   "source": [
    "transcript_df = transcript_df[transcript_df.language == 'eng']"
   ]
  },
  {
   "cell_type": "code",
   "execution_count": 8,
   "metadata": {
    "ExecuteTime": {
     "end_time": "2021-02-23T18:53:51.926940Z",
     "start_time": "2021-02-23T18:53:51.914565Z"
    }
   },
   "outputs": [
    {
     "data": {
      "text/plain": [
       "1032"
      ]
     },
     "execution_count": 8,
     "metadata": {},
     "output_type": "execute_result"
    }
   ],
   "source": [
    "len(transcript_df)"
   ]
  },
  {
   "cell_type": "code",
   "execution_count": 9,
   "metadata": {
    "ExecuteTime": {
     "end_time": "2021-02-23T18:53:51.992122Z",
     "start_time": "2021-02-23T18:53:51.928262Z"
    }
   },
   "outputs": [],
   "source": [
    "participants = list((DATA_DIR / 'processed-all/phonbank' / 'participants').glob('*.pickle'))\n",
    "transcripts = list((DATA_DIR / 'processed-all/phonbank' / 'transcripts').glob('*.pickle'))"
   ]
  },
  {
   "cell_type": "code",
   "execution_count": 10,
   "metadata": {
    "ExecuteTime": {
     "end_time": "2021-02-23T18:53:52.006586Z",
     "start_time": "2021-02-23T18:53:51.994474Z"
    }
   },
   "outputs": [
    {
     "data": {
      "text/plain": [
       "(2407, 2407)"
      ]
     },
     "execution_count": 10,
     "metadata": {},
     "output_type": "execute_result"
    }
   ],
   "source": [
    "len(transcripts), len(participants)"
   ]
  },
  {
   "cell_type": "code",
   "execution_count": 11,
   "metadata": {
    "ExecuteTime": {
     "end_time": "2021-02-23T18:53:58.693808Z",
     "start_time": "2021-02-23T18:53:52.009334Z"
    }
   },
   "outputs": [
    {
     "data": {
      "application/vnd.jupyter.widget-view+json": {
       "model_id": "a080bee9d14c4845bb59364a77ba126c",
       "version_major": 2,
       "version_minor": 0
      },
      "text/plain": [
       "  0%|          | 0/2407 [00:00<?, ?it/s]"
      ]
     },
     "metadata": {},
     "output_type": "display_data"
    },
    {
     "data": {
      "text/plain": [
       "604416"
      ]
     },
     "execution_count": 11,
     "metadata": {},
     "output_type": "execute_result"
    }
   ],
   "source": [
    "all_transcript_df = pd.concat([pd.read_pickle(i) for i in tqdm(transcripts)])\n",
    "len(all_transcript_df)"
   ]
  },
  {
   "cell_type": "code",
   "execution_count": 12,
   "metadata": {
    "ExecuteTime": {
     "end_time": "2021-02-23T18:53:58.717084Z",
     "start_time": "2021-02-23T18:53:58.695679Z"
    }
   },
   "outputs": [
    {
     "data": {
      "text/html": [
       "<div>\n",
       "<style scoped>\n",
       "    .dataframe tbody tr th:only-of-type {\n",
       "        vertical-align: middle;\n",
       "    }\n",
       "\n",
       "    .dataframe tbody tr th {\n",
       "        vertical-align: top;\n",
       "    }\n",
       "\n",
       "    .dataframe thead th {\n",
       "        text-align: right;\n",
       "    }\n",
       "</style>\n",
       "<table border=\"1\" class=\"dataframe\">\n",
       "  <thead>\n",
       "    <tr style=\"text-align: right;\">\n",
       "      <th></th>\n",
       "      <th>record_id</th>\n",
       "      <th>speaker</th>\n",
       "      <th>orthography</th>\n",
       "      <th>start_time_ms</th>\n",
       "      <th>duration_ms</th>\n",
       "      <th>ipa_model</th>\n",
       "      <th>ipa_actual</th>\n",
       "      <th>transcript_id</th>\n",
       "      <th>xml_loc</th>\n",
       "    </tr>\n",
       "  </thead>\n",
       "  <tbody>\n",
       "    <tr>\n",
       "      <th>0</th>\n",
       "      <td>be099b2b-a47b-490b-b536-c80d5e2b00fb</td>\n",
       "      <td>CHI</td>\n",
       "      <td>[nick]</td>\n",
       "      <td>1779.0</td>\n",
       "      <td>3000.0</td>\n",
       "      <td>[None]</td>\n",
       "      <td>[nɪ]</td>\n",
       "      <td>011128</td>\n",
       "      <td>/mnt/cube/tsainbur/Projects/github_repos/LRSO_...</td>\n",
       "    </tr>\n",
       "    <tr>\n",
       "      <th>0</th>\n",
       "      <td>33db8f81-e045-45b3-ae93-a3641020ff2f</td>\n",
       "      <td>CHI</td>\n",
       "      <td>[xxx]</td>\n",
       "      <td>8101.0</td>\n",
       "      <td>1024.0</td>\n",
       "      <td>[None]</td>\n",
       "      <td>[dəwə]</td>\n",
       "      <td>011128</td>\n",
       "      <td>/mnt/cube/tsainbur/Projects/github_repos/LRSO_...</td>\n",
       "    </tr>\n",
       "    <tr>\n",
       "      <th>0</th>\n",
       "      <td>a16ccf22-c25a-4be6-9b04-cd97e4a47cbe</td>\n",
       "      <td>CHI</td>\n",
       "      <td>[xxx]</td>\n",
       "      <td>25922.0</td>\n",
       "      <td>3000.0</td>\n",
       "      <td>[None]</td>\n",
       "      <td>[ɛ]</td>\n",
       "      <td>011128</td>\n",
       "      <td>/mnt/cube/tsainbur/Projects/github_repos/LRSO_...</td>\n",
       "    </tr>\n",
       "  </tbody>\n",
       "</table>\n",
       "</div>"
      ],
      "text/plain": [
       "                              record_id speaker orthography start_time_ms  \\\n",
       "0  be099b2b-a47b-490b-b536-c80d5e2b00fb     CHI      [nick]        1779.0   \n",
       "0  33db8f81-e045-45b3-ae93-a3641020ff2f     CHI       [xxx]        8101.0   \n",
       "0  a16ccf22-c25a-4be6-9b04-cd97e4a47cbe     CHI       [xxx]       25922.0   \n",
       "\n",
       "  duration_ms ipa_model ipa_actual transcript_id  \\\n",
       "0      3000.0    [None]       [nɪ]        011128   \n",
       "0      1024.0    [None]     [dəwə]        011128   \n",
       "0      3000.0    [None]        [ɛ]        011128   \n",
       "\n",
       "                                             xml_loc  \n",
       "0  /mnt/cube/tsainbur/Projects/github_repos/LRSO_...  \n",
       "0  /mnt/cube/tsainbur/Projects/github_repos/LRSO_...  \n",
       "0  /mnt/cube/tsainbur/Projects/github_repos/LRSO_...  "
      ]
     },
     "execution_count": 12,
     "metadata": {},
     "output_type": "execute_result"
    }
   ],
   "source": [
    "all_transcript_df[:3]"
   ]
  },
  {
   "cell_type": "code",
   "execution_count": 13,
   "metadata": {
    "ExecuteTime": {
     "end_time": "2021-02-23T18:54:01.867731Z",
     "start_time": "2021-02-23T18:53:58.718323Z"
    }
   },
   "outputs": [
    {
     "data": {
      "application/vnd.jupyter.widget-view+json": {
       "model_id": "b537bb9efbd94b399f36ed1e8cfe3102",
       "version_major": 2,
       "version_minor": 0
      },
      "text/plain": [
       "  0%|          | 0/2407 [00:00<?, ?it/s]"
      ]
     },
     "metadata": {},
     "output_type": "display_data"
    },
    {
     "data": {
      "text/plain": [
       "3297"
      ]
     },
     "execution_count": 13,
     "metadata": {},
     "output_type": "execute_result"
    }
   ],
   "source": [
    "all_participant_df = pd.concat([pd.read_pickle(i) for i in tqdm(participants)])\n",
    "len(all_participant_df)"
   ]
  },
  {
   "cell_type": "code",
   "execution_count": 14,
   "metadata": {
    "ExecuteTime": {
     "end_time": "2021-02-23T18:54:01.891535Z",
     "start_time": "2021-02-23T18:54:01.869340Z"
    }
   },
   "outputs": [],
   "source": [
    "all_participant_df['corpus'] = [i.parents[1].stem for i in all_participant_df.xml_loc.values]#.stem"
   ]
  },
  {
   "cell_type": "code",
   "execution_count": 15,
   "metadata": {
    "ExecuteTime": {
     "end_time": "2021-02-23T18:54:01.905645Z",
     "start_time": "2021-02-23T18:54:01.892780Z"
    }
   },
   "outputs": [],
   "source": [
    "all_participant_df['transcript_id'] = [i.stem for i in all_participant_df.xml_loc.values]"
   ]
  },
  {
   "cell_type": "code",
   "execution_count": 16,
   "metadata": {
    "ExecuteTime": {
     "end_time": "2021-02-23T18:54:01.929700Z",
     "start_time": "2021-02-23T18:54:01.907230Z"
    }
   },
   "outputs": [
    {
     "data": {
      "text/html": [
       "<div>\n",
       "<style scoped>\n",
       "    .dataframe tbody tr th:only-of-type {\n",
       "        vertical-align: middle;\n",
       "    }\n",
       "\n",
       "    .dataframe tbody tr th {\n",
       "        vertical-align: top;\n",
       "    }\n",
       "\n",
       "    .dataframe thead th {\n",
       "        text-align: right;\n",
       "    }\n",
       "</style>\n",
       "<table border=\"1\" class=\"dataframe\">\n",
       "  <thead>\n",
       "    <tr style=\"text-align: right;\">\n",
       "      <th></th>\n",
       "      <th>participant_id</th>\n",
       "      <th>role</th>\n",
       "      <th>name</th>\n",
       "      <th>age</th>\n",
       "      <th>birthday</th>\n",
       "      <th>sex</th>\n",
       "      <th>language</th>\n",
       "      <th>transcript_id</th>\n",
       "      <th>xml_loc</th>\n",
       "      <th>corpus</th>\n",
       "    </tr>\n",
       "  </thead>\n",
       "  <tbody>\n",
       "    <tr>\n",
       "      <th>0</th>\n",
       "      <td>CHI</td>\n",
       "      <td>Target Child</td>\n",
       "      <td>Alex</td>\n",
       "      <td>P2Y11M8DT0H0M0S</td>\n",
       "      <td>2000-12-04</td>\n",
       "      <td>male</td>\n",
       "      <td>eng</td>\n",
       "      <td>021108</td>\n",
       "      <td>/mnt/cube/tsainbur/Projects/github_repos/LRSO_...</td>\n",
       "      <td>Providence</td>\n",
       "    </tr>\n",
       "    <tr>\n",
       "      <th>1</th>\n",
       "      <td>MOT</td>\n",
       "      <td>Mother</td>\n",
       "      <td>Mother</td>\n",
       "      <td>P26Y0M0DT0H0M0S</td>\n",
       "      <td>1977-11-12</td>\n",
       "      <td>female</td>\n",
       "      <td>eng</td>\n",
       "      <td>021108</td>\n",
       "      <td>/mnt/cube/tsainbur/Projects/github_repos/LRSO_...</td>\n",
       "      <td>Providence</td>\n",
       "    </tr>\n",
       "    <tr>\n",
       "      <th>2</th>\n",
       "      <td>OPE</td>\n",
       "      <td>Camera Operator</td>\n",
       "      <td>Camera Operator</td>\n",
       "      <td>P26Y0M0DT0H0M0S</td>\n",
       "      <td>1977-11-12</td>\n",
       "      <td>female</td>\n",
       "      <td>eng</td>\n",
       "      <td>021108</td>\n",
       "      <td>/mnt/cube/tsainbur/Projects/github_repos/LRSO_...</td>\n",
       "      <td>Providence</td>\n",
       "    </tr>\n",
       "    <tr>\n",
       "      <th>3</th>\n",
       "      <td>ENV</td>\n",
       "      <td>Environment</td>\n",
       "      <td>Environment</td>\n",
       "      <td>P26Y0M0DT0H0M0S</td>\n",
       "      <td>1977-11-12</td>\n",
       "      <td>female</td>\n",
       "      <td>eng</td>\n",
       "      <td>021108</td>\n",
       "      <td>/mnt/cube/tsainbur/Projects/github_repos/LRSO_...</td>\n",
       "      <td>Providence</td>\n",
       "    </tr>\n",
       "    <tr>\n",
       "      <th>0</th>\n",
       "      <td>CHI</td>\n",
       "      <td>Target Child</td>\n",
       "      <td>Ethan</td>\n",
       "      <td>P1Y2M28DT0H0M0S</td>\n",
       "      <td>2000-12-13</td>\n",
       "      <td>male</td>\n",
       "      <td>eng</td>\n",
       "      <td>010228</td>\n",
       "      <td>/mnt/cube/tsainbur/Projects/github_repos/LRSO_...</td>\n",
       "      <td>Providence</td>\n",
       "    </tr>\n",
       "    <tr>\n",
       "      <th>...</th>\n",
       "      <td>...</td>\n",
       "      <td>...</td>\n",
       "      <td>...</td>\n",
       "      <td>...</td>\n",
       "      <td>...</td>\n",
       "      <td>...</td>\n",
       "      <td>...</td>\n",
       "      <td>...</td>\n",
       "      <td>...</td>\n",
       "      <td>...</td>\n",
       "    </tr>\n",
       "    <tr>\n",
       "      <th>4</th>\n",
       "      <td>UNI</td>\n",
       "      <td>Unidentified</td>\n",
       "      <td>Unidentified</td>\n",
       "      <td>P27Y0M0DT0H0M0S</td>\n",
       "      <td>1977-06-23</td>\n",
       "      <td>female</td>\n",
       "      <td>eng</td>\n",
       "      <td>020819</td>\n",
       "      <td>/mnt/cube/tsainbur/Projects/github_repos/LRSO_...</td>\n",
       "      <td>Providence</td>\n",
       "    </tr>\n",
       "    <tr>\n",
       "      <th>0</th>\n",
       "      <td>CHI</td>\n",
       "      <td>Target Child</td>\n",
       "      <td>Naima</td>\n",
       "      <td>P3Y3M25DT0H0M0S</td>\n",
       "      <td>2001-03-15</td>\n",
       "      <td>female</td>\n",
       "      <td>eng</td>\n",
       "      <td>030325</td>\n",
       "      <td>/mnt/cube/tsainbur/Projects/github_repos/LRSO_...</td>\n",
       "      <td>Providence</td>\n",
       "    </tr>\n",
       "    <tr>\n",
       "      <th>1</th>\n",
       "      <td>MOT</td>\n",
       "      <td>Mother</td>\n",
       "      <td>Mother</td>\n",
       "      <td>P27Y0M0DT0H0M0S</td>\n",
       "      <td>1977-07-10</td>\n",
       "      <td>female</td>\n",
       "      <td>eng</td>\n",
       "      <td>030325</td>\n",
       "      <td>/mnt/cube/tsainbur/Projects/github_repos/LRSO_...</td>\n",
       "      <td>Providence</td>\n",
       "    </tr>\n",
       "    <tr>\n",
       "      <th>2</th>\n",
       "      <td>ADU</td>\n",
       "      <td>Adult</td>\n",
       "      <td>Adult</td>\n",
       "      <td>P27Y0M0DT0H0M0S</td>\n",
       "      <td>1977-07-10</td>\n",
       "      <td>female</td>\n",
       "      <td>eng</td>\n",
       "      <td>030325</td>\n",
       "      <td>/mnt/cube/tsainbur/Projects/github_repos/LRSO_...</td>\n",
       "      <td>Providence</td>\n",
       "    </tr>\n",
       "    <tr>\n",
       "      <th>3</th>\n",
       "      <td>FAT</td>\n",
       "      <td>Father</td>\n",
       "      <td>Father</td>\n",
       "      <td>P27Y0M0DT0H0M0S</td>\n",
       "      <td>1977-07-10</td>\n",
       "      <td>male</td>\n",
       "      <td>eng</td>\n",
       "      <td>030325</td>\n",
       "      <td>/mnt/cube/tsainbur/Projects/github_repos/LRSO_...</td>\n",
       "      <td>Providence</td>\n",
       "    </tr>\n",
       "  </tbody>\n",
       "</table>\n",
       "<p>1227 rows × 10 columns</p>\n",
       "</div>"
      ],
      "text/plain": [
       "   participant_id             role             name              age  \\\n",
       "0             CHI     Target Child             Alex  P2Y11M8DT0H0M0S   \n",
       "1             MOT           Mother           Mother  P26Y0M0DT0H0M0S   \n",
       "2             OPE  Camera Operator  Camera Operator  P26Y0M0DT0H0M0S   \n",
       "3             ENV      Environment      Environment  P26Y0M0DT0H0M0S   \n",
       "0             CHI     Target Child            Ethan  P1Y2M28DT0H0M0S   \n",
       "..            ...              ...              ...              ...   \n",
       "4             UNI     Unidentified     Unidentified  P27Y0M0DT0H0M0S   \n",
       "0             CHI     Target Child            Naima  P3Y3M25DT0H0M0S   \n",
       "1             MOT           Mother           Mother  P27Y0M0DT0H0M0S   \n",
       "2             ADU            Adult            Adult  P27Y0M0DT0H0M0S   \n",
       "3             FAT           Father           Father  P27Y0M0DT0H0M0S   \n",
       "\n",
       "      birthday     sex language transcript_id  \\\n",
       "0   2000-12-04    male      eng        021108   \n",
       "1   1977-11-12  female      eng        021108   \n",
       "2   1977-11-12  female      eng        021108   \n",
       "3   1977-11-12  female      eng        021108   \n",
       "0   2000-12-13    male      eng        010228   \n",
       "..         ...     ...      ...           ...   \n",
       "4   1977-06-23  female      eng        020819   \n",
       "0   2001-03-15  female      eng        030325   \n",
       "1   1977-07-10  female      eng        030325   \n",
       "2   1977-07-10  female      eng        030325   \n",
       "3   1977-07-10    male      eng        030325   \n",
       "\n",
       "                                              xml_loc      corpus  \n",
       "0   /mnt/cube/tsainbur/Projects/github_repos/LRSO_...  Providence  \n",
       "1   /mnt/cube/tsainbur/Projects/github_repos/LRSO_...  Providence  \n",
       "2   /mnt/cube/tsainbur/Projects/github_repos/LRSO_...  Providence  \n",
       "3   /mnt/cube/tsainbur/Projects/github_repos/LRSO_...  Providence  \n",
       "0   /mnt/cube/tsainbur/Projects/github_repos/LRSO_...  Providence  \n",
       "..                                                ...         ...  \n",
       "4   /mnt/cube/tsainbur/Projects/github_repos/LRSO_...  Providence  \n",
       "0   /mnt/cube/tsainbur/Projects/github_repos/LRSO_...  Providence  \n",
       "1   /mnt/cube/tsainbur/Projects/github_repos/LRSO_...  Providence  \n",
       "2   /mnt/cube/tsainbur/Projects/github_repos/LRSO_...  Providence  \n",
       "3   /mnt/cube/tsainbur/Projects/github_repos/LRSO_...  Providence  \n",
       "\n",
       "[1227 rows x 10 columns]"
      ]
     },
     "execution_count": 16,
     "metadata": {},
     "output_type": "execute_result"
    }
   ],
   "source": [
    "all_participant_df[all_participant_df.corpus == 'Providence']"
   ]
  },
  {
   "cell_type": "code",
   "execution_count": 17,
   "metadata": {
    "ExecuteTime": {
     "end_time": "2021-02-23T18:54:01.941633Z",
     "start_time": "2021-02-23T18:54:01.930897Z"
    }
   },
   "outputs": [
    {
     "data": {
      "text/plain": [
       "array(['Target Child', 'Mother', 'Camera Operator', 'Environment',\n",
       "       'Grandmother', 'Father', 'Adult', 'Unidentified', 'Toy', 'Brother',\n",
       "       'Sister', 'Visitor', 'Family Friend', 'Grandfather', 'Non Human',\n",
       "       'Observer', 'Uncle'], dtype=object)"
      ]
     },
     "execution_count": 17,
     "metadata": {},
     "output_type": "execute_result"
    }
   ],
   "source": [
    "all_participant_df[all_participant_df.corpus == 'Providence'].role.unique()"
   ]
  },
  {
   "cell_type": "code",
   "execution_count": 18,
   "metadata": {
    "ExecuteTime": {
     "end_time": "2021-02-23T18:54:01.951613Z",
     "start_time": "2021-02-23T18:54:01.942803Z"
    }
   },
   "outputs": [],
   "source": [
    "import re\n",
    "def convert_age(age_year):\n",
    "    \"Caclculate age in months from a string in CHILDES format\"\n",
    "    m = re.match(\"P(\\d+)Y(\\d+)M?(\\d?\\d?)D?\", age_year)\n",
    "    age_month = int(m.group(1)) * 12 + int(m.group(2))\n",
    "    try:\n",
    "        if int(m.group(3)) > 15:\n",
    "            age_month += 1\n",
    "    # some corpora don't have age information?\n",
    "    except ValueError as e:\n",
    "        pass\n",
    "    return age_month"
   ]
  },
  {
   "cell_type": "code",
   "execution_count": 19,
   "metadata": {
    "ExecuteTime": {
     "end_time": "2021-02-23T18:54:01.989486Z",
     "start_time": "2021-02-23T18:54:01.952794Z"
    }
   },
   "outputs": [
    {
     "data": {
      "application/vnd.jupyter.widget-view+json": {
       "model_id": "d0f6c9c8bc3d4c73be81448b160c59ec",
       "version_major": 2,
       "version_minor": 0
      },
      "text/plain": [
       "  0%|          | 0/3297 [00:00<?, ?it/s]"
      ]
     },
     "metadata": {},
     "output_type": "display_data"
    }
   ],
   "source": [
    "ages = [convert_age(age) if type(age) == str else np.nan for age in tqdm(all_participant_df.age.values) ]"
   ]
  },
  {
   "cell_type": "code",
   "execution_count": 20,
   "metadata": {
    "ExecuteTime": {
     "end_time": "2021-02-23T18:54:02.132848Z",
     "start_time": "2021-02-23T18:54:01.990691Z"
    }
   },
   "outputs": [
    {
     "data": {
      "text/plain": [
       "Text(0.5, 1.0, 'age of participant')"
      ]
     },
     "execution_count": 20,
     "metadata": {},
     "output_type": "execute_result"
    },
    {
     "data": {
      "image/png": "[encoded data removed]",
      "text/plain": [
       "<Figure size 432x288 with 1 Axes>"
      ]
     },
     "metadata": {
      "needs_background": "light"
     },
     "output_type": "display_data"
    }
   ],
   "source": [
    "fig, ax = plt.subplots()\n",
    "ax.hist(np.array(ages)/12, bins=np.linspace(0,10,25));\n",
    "ax.set_title('age of participant')"
   ]
  },
  {
   "cell_type": "markdown",
   "metadata": {},
   "source": [
    "### Create a phone dataset of english "
   ]
  },
  {
   "cell_type": "code",
   "execution_count": 21,
   "metadata": {
    "ExecuteTime": {
     "end_time": "2021-02-23T18:54:02.147035Z",
     "start_time": "2021-02-23T18:54:02.134233Z"
    }
   },
   "outputs": [
    {
     "data": {
      "text/plain": [
       "array(['Target Child', 'Mother', 'Camera Operator', 'Environment',\n",
       "       'Grandmother', 'Father', 'Adult', 'Unidentified', 'Toy', 'Brother',\n",
       "       'Sister', 'Investigator', 'Interviewer', 'Visitor',\n",
       "       'Family Friend', 'Grandfather', 'Non Human', 'Observer', 'Uncle'],\n",
       "      dtype=object)"
      ]
     },
     "execution_count": 21,
     "metadata": {},
     "output_type": "execute_result"
    }
   ],
   "source": [
    "all_participant_df.role.unique()"
   ]
  },
  {
   "cell_type": "code",
   "execution_count": 22,
   "metadata": {
    "ExecuteTime": {
     "end_time": "2021-02-23T18:54:02.159437Z",
     "start_time": "2021-02-23T18:54:02.148190Z"
    }
   },
   "outputs": [],
   "source": [
    "def get_transcript_info(transcript_subset, participant_row):\n",
    "    \"\"\" from a transcript, create a pandas dataframe of orthography/phones\n",
    "    \"\"\"\n",
    "\n",
    "    # for participant in dataset\n",
    "    participant_ts = transcript_subset[\n",
    "        transcript_subset.speaker == participant_row.participant_id\n",
    "    ]\n",
    "    \n",
    "    if type(participant_row.age) is not str:\n",
    "        age = np.nan\n",
    "    else:\n",
    "        age = round(convert_age(participant_row.age) / 12, 3)\n",
    "\n",
    "    phone_df = pd.DataFrame(\n",
    "        [[\n",
    "            participant_row.name,\n",
    "            participant_row.transcript_id,\n",
    "            age,\n",
    "            dataset,\n",
    "            participant_row.language,\n",
    "            participant_row.sex,\n",
    "            participant_ts.ipa_actual.values,\n",
    "            participant_ts.orthography.values,\n",
    "            participant_row.xml_loc,\n",
    "            participant_row.role\n",
    "        ]],\n",
    "        columns=[\n",
    "            \"name\",\n",
    "            \"transcript_id\",\n",
    "            \"age\",\n",
    "            \"dataset\",\n",
    "            \"language\",\n",
    "            \"sex\",\n",
    "            \"phones\",\n",
    "            \"orthography\",\n",
    "            \"xml_loc\",\n",
    "            \"role\"\n",
    "        ],\n",
    "    )\n",
    "\n",
    "    return phone_df"
   ]
  },
  {
   "cell_type": "code",
   "execution_count": 23,
   "metadata": {
    "ExecuteTime": {
     "end_time": "2021-02-23T18:54:02.169250Z",
     "start_time": "2021-02-23T18:54:02.160787Z"
    }
   },
   "outputs": [],
   "source": [
    "#def get_transcript_info(transcript_subset, participant_row):\n",
    "#    return"
   ]
  },
  {
   "cell_type": "code",
   "execution_count": 24,
   "metadata": {
    "ExecuteTime": {
     "end_time": "2021-02-23T18:54:02.192759Z",
     "start_time": "2021-02-23T18:54:02.170389Z"
    }
   },
   "outputs": [],
   "source": [
    "from joblib.externals.loky import set_loky_pickler\n",
    "from joblib import parallel_backend\n",
    "from joblib import Parallel, delayed\n",
    "from joblib import wrap_non_picklable_objects"
   ]
  },
  {
   "cell_type": "code",
   "execution_count": 25,
   "metadata": {
    "ExecuteTime": {
     "end_time": "2021-02-23T18:54:02.510915Z",
     "start_time": "2021-02-23T18:54:02.193902Z"
    }
   },
   "outputs": [],
   "source": [
    "all_transcript_df['xml_str'] = [i.as_posix() for i in all_transcript_df.xml_loc]\n",
    "all_participant_df['xml_str'] = [i.as_posix() for i in all_participant_df.xml_loc]\n",
    "transcript_df['xml_str'] = [i.as_posix() for i in transcript_df.xml_loc]"
   ]
  },
  {
   "cell_type": "code",
   "execution_count": 33,
   "metadata": {
    "ExecuteTime": {
     "end_time": "2021-02-23T19:08:34.297590Z",
     "start_time": "2021-02-23T19:05:59.772167Z"
    },
    "code_folding": []
   },
   "outputs": [
    {
     "data": {
      "application/vnd.jupyter.widget-view+json": {
       "model_id": "d96e4bbaa98342e888c02ed001b57b70",
       "version_major": 2,
       "version_minor": 0
      },
      "text/plain": [
       "  0%|          | 0/3 [00:00<?, ?it/s]"
      ]
     },
     "metadata": {},
     "output_type": "display_data"
    },
    {
     "name": "stdout",
     "output_type": "stream",
     "text": [
      "~~~~~~~~~~~~~~~~~~~~ Providence ~~~~~~~~~~~~~~~~~~~~\n"
     ]
    },
    {
     "data": {
      "application/vnd.jupyter.widget-view+json": {
       "model_id": "ffa9df477de4434cb6c1a5c16e1b6671",
       "version_major": 2,
       "version_minor": 0
      },
      "text/plain": [
       "  0%|          | 0/364 [00:00<?, ?it/s]"
      ]
     },
     "metadata": {},
     "output_type": "display_data"
    },
    {
     "name": "stdout",
     "output_type": "stream",
     "text": [
      "~~~~~~~~~~~~~~~~~~~~ Davis ~~~~~~~~~~~~~~~~~~~~\n"
     ]
    },
    {
     "data": {
      "application/vnd.jupyter.widget-view+json": {
       "model_id": "26e165be21ce4537af434172fdac6ce4",
       "version_major": 2,
       "version_minor": 0
      },
      "text/plain": [
       "  0%|          | 0/602 [00:00<?, ?it/s]"
      ]
     },
     "metadata": {},
     "output_type": "display_data"
    },
    {
     "name": "stdout",
     "output_type": "stream",
     "text": [
      "~~~~~~~~~~~~~~~~~~~~ Goad ~~~~~~~~~~~~~~~~~~~~\n"
     ]
    },
    {
     "data": {
      "application/vnd.jupyter.widget-view+json": {
       "model_id": "5c91f858093443e4bf9af244308d2303",
       "version_major": 2,
       "version_minor": 0
      },
      "text/plain": [
       "  0%|          | 0/66 [00:00<?, ?it/s]"
      ]
     },
     "metadata": {},
     "output_type": "display_data"
    }
   ],
   "source": [
    "phone_df = []\n",
    "with Parallel(n_jobs=1) as parallel:\n",
    "    for dataset in tqdm(datasets_to_use):\n",
    "        # subset dataset\n",
    "        ds_trdf = transcript_df[transcript_df.dataset == dataset]\n",
    "        print(\"~~~~~~~~~~~~~~~~~~~~\", dataset, \"~~~~~~~~~~~~~~~~~~~~\")\n",
    "        # for transcripts in dataset\n",
    "        phone_df.append(\n",
    "            pd.concat(\n",
    "                parallel(\n",
    "                    delayed(get_transcript_info)(\n",
    "                        transcript_subset=all_transcript_df[\n",
    "                            all_transcript_df.transcript_id == transcript_row.transcript_id\n",
    "                        ],\n",
    "                        participant_row=participant_row,\n",
    "                    )\n",
    "                    for idx, transcript_row in tqdm(\n",
    "                        ds_trdf.iterrows(), total=len(ds_trdf)\n",
    "                    )\n",
    "                    for idx, participant_row in all_participant_df[\n",
    "                                all_participant_df.transcript_id == transcript_row.transcript_id\n",
    "                    ].iterrows()\n",
    "                )\n",
    "            )\n",
    "        )\n",
    "phone_df = pd.concat(phone_df)"
   ]
  },
  {
   "cell_type": "code",
   "execution_count": 34,
   "metadata": {
    "ExecuteTime": {
     "end_time": "2021-02-23T19:10:29.652910Z",
     "start_time": "2021-02-23T19:10:27.888969Z"
    }
   },
   "outputs": [],
   "source": [
    "phone_df.to_pickle(PHONBANK_DFS/'phone_df_all_participants.pickle')"
   ]
  },
  {
   "cell_type": "code",
   "execution_count": 35,
   "metadata": {
    "ExecuteTime": {
     "end_time": "2021-02-23T19:10:29.769900Z",
     "start_time": "2021-02-23T19:10:29.654966Z"
    }
   },
   "outputs": [
    {
     "data": {
      "text/html": [
       "<div>\n",
       "<style scoped>\n",
       "    .dataframe tbody tr th:only-of-type {\n",
       "        vertical-align: middle;\n",
       "    }\n",
       "\n",
       "    .dataframe tbody tr th {\n",
       "        vertical-align: top;\n",
       "    }\n",
       "\n",
       "    .dataframe thead th {\n",
       "        text-align: right;\n",
       "    }\n",
       "</style>\n",
       "<table border=\"1\" class=\"dataframe\">\n",
       "  <thead>\n",
       "    <tr style=\"text-align: right;\">\n",
       "      <th></th>\n",
       "      <th>name</th>\n",
       "      <th>transcript_id</th>\n",
       "      <th>age</th>\n",
       "      <th>dataset</th>\n",
       "      <th>language</th>\n",
       "      <th>sex</th>\n",
       "      <th>phones</th>\n",
       "      <th>orthography</th>\n",
       "      <th>xml_loc</th>\n",
       "      <th>role</th>\n",
       "    </tr>\n",
       "  </thead>\n",
       "  <tbody>\n",
       "    <tr>\n",
       "      <th>0</th>\n",
       "      <td>0</td>\n",
       "      <td>020926</td>\n",
       "      <td>2.833</td>\n",
       "      <td>Providence</td>\n",
       "      <td>eng</td>\n",
       "      <td>male</td>\n",
       "      <td>[[ˈhi, ˈhæ, rəs], [ˈhi, ˈhæ, rəs], [ˈkævəʔ, ˈp...</td>\n",
       "      <td>[[[can, I], have, this], [[can, I], have, this...</td>\n",
       "      <td>/mnt/cube/tsainbur/Projects/github_repos/LRSO_...</td>\n",
       "      <td>Target Child</td>\n",
       "    </tr>\n",
       "    <tr>\n",
       "      <th>0</th>\n",
       "      <td>1</td>\n",
       "      <td>020926</td>\n",
       "      <td>26.000</td>\n",
       "      <td>Providence</td>\n",
       "      <td>eng</td>\n",
       "      <td>female</td>\n",
       "      <td>[[None, None, None, None, None, None, None, No...</td>\n",
       "      <td>[[he, had, it, Mom, I, just, took, it, from, h...</td>\n",
       "      <td>/mnt/cube/tsainbur/Projects/github_repos/LRSO_...</td>\n",
       "      <td>Mother</td>\n",
       "    </tr>\n",
       "    <tr>\n",
       "      <th>0</th>\n",
       "      <td>2</td>\n",
       "      <td>020926</td>\n",
       "      <td>51.000</td>\n",
       "      <td>Providence</td>\n",
       "      <td>eng</td>\n",
       "      <td>female</td>\n",
       "      <td>[[None], [None, None], [None, None, None, None...</td>\n",
       "      <td>[[okay], [that's, enough], [can't, you, xxx, t...</td>\n",
       "      <td>/mnt/cube/tsainbur/Projects/github_repos/LRSO_...</td>\n",
       "      <td>Grandmother</td>\n",
       "    </tr>\n",
       "  </tbody>\n",
       "</table>\n",
       "</div>"
      ],
      "text/plain": [
       "   name transcript_id     age     dataset language     sex  \\\n",
       "0     0        020926   2.833  Providence      eng    male   \n",
       "0     1        020926  26.000  Providence      eng  female   \n",
       "0     2        020926  51.000  Providence      eng  female   \n",
       "\n",
       "                                              phones  \\\n",
       "0  [[ˈhi, ˈhæ, rəs], [ˈhi, ˈhæ, rəs], [ˈkævəʔ, ˈp...   \n",
       "0  [[None, None, None, None, None, None, None, No...   \n",
       "0  [[None], [None, None], [None, None, None, None...   \n",
       "\n",
       "                                         orthography  \\\n",
       "0  [[[can, I], have, this], [[can, I], have, this...   \n",
       "0  [[he, had, it, Mom, I, just, took, it, from, h...   \n",
       "0  [[okay], [that's, enough], [can't, you, xxx, t...   \n",
       "\n",
       "                                             xml_loc          role  \n",
       "0  /mnt/cube/tsainbur/Projects/github_repos/LRSO_...  Target Child  \n",
       "0  /mnt/cube/tsainbur/Projects/github_repos/LRSO_...        Mother  \n",
       "0  /mnt/cube/tsainbur/Projects/github_repos/LRSO_...   Grandmother  "
      ]
     },
     "execution_count": 35,
     "metadata": {},
     "output_type": "execute_result"
    }
   ],
   "source": [
    "phone_df[:3]"
   ]
  },
  {
   "cell_type": "code",
   "execution_count": 36,
   "metadata": {
    "ExecuteTime": {
     "end_time": "2021-02-23T19:10:31.854478Z",
     "start_time": "2021-02-23T19:10:31.837869Z"
    }
   },
   "outputs": [
    {
     "data": {
      "text/plain": [
       "array([PosixPath('/mnt/cube/tsainbur/Projects/github_repos/LRSO_paper_rev/LongRangeSequentialOrgPaper/data/raw/PHON_Data_Dir/corpora/Eng-NA/Providence/Alex/020926.xml'),\n",
       "       PosixPath('/mnt/cube/tsainbur/Projects/github_repos/LRSO_paper_rev/LongRangeSequentialOrgPaper/data/raw/PHON_Data_Dir/corpora/Eng-NA/Providence/Alex/030006.xml'),\n",
       "       PosixPath('/mnt/cube/tsainbur/Projects/github_repos/LRSO_paper_rev/LongRangeSequentialOrgPaper/data/raw/PHON_Data_Dir/corpora/Eng-NA/ComptonPater/Sean/011117.xml'),\n",
       "       ...,\n",
       "       PosixPath('/mnt/cube/tsainbur/Projects/github_repos/LRSO_paper_rev/LongRangeSequentialOrgPaper/data/raw/PHON_Data_Dir/corpora/Eng-NA/Goad/Sonya/21007.xml'),\n",
       "       PosixPath('/mnt/cube/tsainbur/Projects/github_repos/LRSO_paper_rev/LongRangeSequentialOrgPaper/data/raw/PHON_Data_Dir/corpora/Eng-NA/Goad/Sonya/11105.xml'),\n",
       "       PosixPath('/mnt/cube/tsainbur/Projects/github_repos/LRSO_paper_rev/LongRangeSequentialOrgPaper/data/raw/PHON_Data_Dir/corpora/Eng-NA/Goad/Sonya/20422.xml')],\n",
       "      dtype=object)"
      ]
     },
     "execution_count": 36,
     "metadata": {},
     "output_type": "execute_result"
    }
   ],
   "source": [
    "phone_df.xml_loc.unique()"
   ]
  },
  {
   "cell_type": "code",
   "execution_count": null,
   "metadata": {},
   "outputs": [],
   "source": []
  }
 ],
 "metadata": {
  "kernelspec": {
   "display_name": "Python [conda env:childes-paper]",
   "language": "python",
   "name": "conda-env-childes-paper-py"
  },
  "language_info": {
   "codemirror_mode": {
    "name": "ipython",
    "version": 3
   },
   "file_extension": ".py",
   "mimetype": "text/x-python",
   "name": "python",
   "nbconvert_exporter": "python",
   "pygments_lexer": "ipython3",
   "version": "3.9.1"
  }
 },
 "nbformat": 4,
 "nbformat_minor": 2
}
