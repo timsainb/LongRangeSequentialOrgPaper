{
 "cells": [
  {
   "cell_type": "code",
   "execution_count": 19,
   "metadata": {
    "ExecuteTime": {
     "end_time": "2021-02-23T19:12:39.707684Z",
     "start_time": "2021-02-23T19:12:39.685800Z"
    }
   },
   "outputs": [
    {
     "name": "stdout",
     "output_type": "stream",
     "text": [
      "The autoreload extension is already loaded. To reload it, use:\n",
      "  %reload_ext autoreload\n"
     ]
    }
   ],
   "source": [
    "%load_ext autoreload\n",
    "%autoreload 2"
   ]
  },
  {
   "cell_type": "code",
   "execution_count": 20,
   "metadata": {
    "ExecuteTime": {
     "end_time": "2021-02-23T19:12:39.853988Z",
     "start_time": "2021-02-23T19:12:39.840011Z"
    }
   },
   "outputs": [],
   "source": [
    "from childes_mi.utils.paths import PHONBANK_DFS, DATA_DIR, FIGURE_DIR\n",
    "from childes_mi.utils.general import flatten"
   ]
  },
  {
   "cell_type": "code",
   "execution_count": 21,
   "metadata": {
    "ExecuteTime": {
     "end_time": "2021-02-23T19:12:40.009243Z",
     "start_time": "2021-02-23T19:12:39.995145Z"
    }
   },
   "outputs": [],
   "source": [
    "import pandas as pd\n",
    "import numpy as np\n",
    "import matplotlib.pyplot as plt\n",
    "from tqdm.autonotebook import tqdm"
   ]
  },
  {
   "cell_type": "code",
   "execution_count": 32,
   "metadata": {
    "ExecuteTime": {
     "end_time": "2021-02-23T19:13:18.159317Z",
     "start_time": "2021-02-23T19:13:16.363851Z"
    }
   },
   "outputs": [],
   "source": [
    "phone_df = pd.read_pickle(PHONBANK_DFS/'phone_df_all_participants.pickle')"
   ]
  },
  {
   "cell_type": "code",
   "execution_count": 33,
   "metadata": {
    "ExecuteTime": {
     "end_time": "2021-02-23T19:13:23.457242Z",
     "start_time": "2021-02-23T19:13:18.161344Z"
    }
   },
   "outputs": [],
   "source": [
    "phone_df['n_phones'] = [len(list(flatten(i))) for i in phone_df.phones.values]"
   ]
  },
  {
   "cell_type": "code",
   "execution_count": 34,
   "metadata": {
    "ExecuteTime": {
     "end_time": "2021-02-23T19:13:23.575177Z",
     "start_time": "2021-02-23T19:13:23.459907Z"
    }
   },
   "outputs": [
    {
     "data": {
      "text/html": [
       "<div>\n",
       "<style scoped>\n",
       "    .dataframe tbody tr th:only-of-type {\n",
       "        vertical-align: middle;\n",
       "    }\n",
       "\n",
       "    .dataframe tbody tr th {\n",
       "        vertical-align: top;\n",
       "    }\n",
       "\n",
       "    .dataframe thead th {\n",
       "        text-align: right;\n",
       "    }\n",
       "</style>\n",
       "<table border=\"1\" class=\"dataframe\">\n",
       "  <thead>\n",
       "    <tr style=\"text-align: right;\">\n",
       "      <th></th>\n",
       "      <th>name</th>\n",
       "      <th>transcript_id</th>\n",
       "      <th>age</th>\n",
       "      <th>dataset</th>\n",
       "      <th>language</th>\n",
       "      <th>sex</th>\n",
       "      <th>phones</th>\n",
       "      <th>orthography</th>\n",
       "      <th>xml_loc</th>\n",
       "      <th>role</th>\n",
       "      <th>n_phones</th>\n",
       "    </tr>\n",
       "  </thead>\n",
       "  <tbody>\n",
       "    <tr>\n",
       "      <th>0</th>\n",
       "      <td>0</td>\n",
       "      <td>020926</td>\n",
       "      <td>2.833</td>\n",
       "      <td>Providence</td>\n",
       "      <td>eng</td>\n",
       "      <td>male</td>\n",
       "      <td>[[ˈhi, ˈhæ, rəs], [ˈhi, ˈhæ, rəs], [ˈkævəʔ, ˈp...</td>\n",
       "      <td>[[[can, I], have, this], [[can, I], have, this...</td>\n",
       "      <td>/mnt/cube/tsainbur/Projects/github_repos/LRSO_...</td>\n",
       "      <td>Target Child</td>\n",
       "      <td>1772</td>\n",
       "    </tr>\n",
       "    <tr>\n",
       "      <th>0</th>\n",
       "      <td>1</td>\n",
       "      <td>020926</td>\n",
       "      <td>26.000</td>\n",
       "      <td>Providence</td>\n",
       "      <td>eng</td>\n",
       "      <td>female</td>\n",
       "      <td>[[None, None, None, None, None, None, None, No...</td>\n",
       "      <td>[[he, had, it, Mom, I, just, took, it, from, h...</td>\n",
       "      <td>/mnt/cube/tsainbur/Projects/github_repos/LRSO_...</td>\n",
       "      <td>Mother</td>\n",
       "      <td>2665</td>\n",
       "    </tr>\n",
       "    <tr>\n",
       "      <th>0</th>\n",
       "      <td>2</td>\n",
       "      <td>020926</td>\n",
       "      <td>51.000</td>\n",
       "      <td>Providence</td>\n",
       "      <td>eng</td>\n",
       "      <td>female</td>\n",
       "      <td>[[None], [None, None], [None, None, None, None...</td>\n",
       "      <td>[[okay], [that's, enough], [can't, you, xxx, t...</td>\n",
       "      <td>/mnt/cube/tsainbur/Projects/github_repos/LRSO_...</td>\n",
       "      <td>Grandmother</td>\n",
       "      <td>235</td>\n",
       "    </tr>\n",
       "  </tbody>\n",
       "</table>\n",
       "</div>"
      ],
      "text/plain": [
       "   name transcript_id     age     dataset language     sex  \\\n",
       "0     0        020926   2.833  Providence      eng    male   \n",
       "0     1        020926  26.000  Providence      eng  female   \n",
       "0     2        020926  51.000  Providence      eng  female   \n",
       "\n",
       "                                              phones  \\\n",
       "0  [[ˈhi, ˈhæ, rəs], [ˈhi, ˈhæ, rəs], [ˈkævəʔ, ˈp...   \n",
       "0  [[None, None, None, None, None, None, None, No...   \n",
       "0  [[None], [None, None], [None, None, None, None...   \n",
       "\n",
       "                                         orthography  \\\n",
       "0  [[[can, I], have, this], [[can, I], have, this...   \n",
       "0  [[he, had, it, Mom, I, just, took, it, from, h...   \n",
       "0  [[okay], [that's, enough], [can't, you, xxx, t...   \n",
       "\n",
       "                                             xml_loc          role  n_phones  \n",
       "0  /mnt/cube/tsainbur/Projects/github_repos/LRSO_...  Target Child      1772  \n",
       "0  /mnt/cube/tsainbur/Projects/github_repos/LRSO_...        Mother      2665  \n",
       "0  /mnt/cube/tsainbur/Projects/github_repos/LRSO_...   Grandmother       235  "
      ]
     },
     "execution_count": 34,
     "metadata": {},
     "output_type": "execute_result"
    }
   ],
   "source": [
    "phone_df[:3]"
   ]
  },
  {
   "cell_type": "code",
   "execution_count": 35,
   "metadata": {
    "ExecuteTime": {
     "end_time": "2021-02-23T19:13:23.685983Z",
     "start_time": "2021-02-23T19:13:23.577017Z"
    }
   },
   "outputs": [
    {
     "data": {
      "text/html": [
       "<div>\n",
       "<style scoped>\n",
       "    .dataframe tbody tr th:only-of-type {\n",
       "        vertical-align: middle;\n",
       "    }\n",
       "\n",
       "    .dataframe tbody tr th {\n",
       "        vertical-align: top;\n",
       "    }\n",
       "\n",
       "    .dataframe thead th {\n",
       "        text-align: right;\n",
       "    }\n",
       "</style>\n",
       "<table border=\"1\" class=\"dataframe\">\n",
       "  <thead>\n",
       "    <tr style=\"text-align: right;\">\n",
       "      <th></th>\n",
       "      <th>name</th>\n",
       "      <th>transcript_id</th>\n",
       "      <th>age</th>\n",
       "      <th>dataset</th>\n",
       "      <th>language</th>\n",
       "      <th>sex</th>\n",
       "      <th>phones</th>\n",
       "      <th>orthography</th>\n",
       "      <th>xml_loc</th>\n",
       "      <th>role</th>\n",
       "      <th>n_phones</th>\n",
       "    </tr>\n",
       "  </thead>\n",
       "  <tbody>\n",
       "    <tr>\n",
       "      <th>0</th>\n",
       "      <td>0</td>\n",
       "      <td>020926</td>\n",
       "      <td>2.833</td>\n",
       "      <td>Providence</td>\n",
       "      <td>eng</td>\n",
       "      <td>male</td>\n",
       "      <td>[[ˈhi, ˈhæ, rəs], [ˈhi, ˈhæ, rəs], [ˈkævəʔ, ˈp...</td>\n",
       "      <td>[[[can, I], have, this], [[can, I], have, this...</td>\n",
       "      <td>/mnt/cube/tsainbur/Projects/github_repos/LRSO_...</td>\n",
       "      <td>Target Child</td>\n",
       "      <td>1772</td>\n",
       "    </tr>\n",
       "    <tr>\n",
       "      <th>0</th>\n",
       "      <td>1</td>\n",
       "      <td>020926</td>\n",
       "      <td>26.000</td>\n",
       "      <td>Providence</td>\n",
       "      <td>eng</td>\n",
       "      <td>female</td>\n",
       "      <td>[[None, None, None, None, None, None, None, No...</td>\n",
       "      <td>[[he, had, it, Mom, I, just, took, it, from, h...</td>\n",
       "      <td>/mnt/cube/tsainbur/Projects/github_repos/LRSO_...</td>\n",
       "      <td>Mother</td>\n",
       "      <td>2665</td>\n",
       "    </tr>\n",
       "    <tr>\n",
       "      <th>0</th>\n",
       "      <td>2</td>\n",
       "      <td>020926</td>\n",
       "      <td>51.000</td>\n",
       "      <td>Providence</td>\n",
       "      <td>eng</td>\n",
       "      <td>female</td>\n",
       "      <td>[[None], [None, None], [None, None, None, None...</td>\n",
       "      <td>[[okay], [that's, enough], [can't, you, xxx, t...</td>\n",
       "      <td>/mnt/cube/tsainbur/Projects/github_repos/LRSO_...</td>\n",
       "      <td>Grandmother</td>\n",
       "      <td>235</td>\n",
       "    </tr>\n",
       "  </tbody>\n",
       "</table>\n",
       "</div>"
      ],
      "text/plain": [
       "   name transcript_id     age     dataset language     sex  \\\n",
       "0     0        020926   2.833  Providence      eng    male   \n",
       "0     1        020926  26.000  Providence      eng  female   \n",
       "0     2        020926  51.000  Providence      eng  female   \n",
       "\n",
       "                                              phones  \\\n",
       "0  [[ˈhi, ˈhæ, rəs], [ˈhi, ˈhæ, rəs], [ˈkævəʔ, ˈp...   \n",
       "0  [[None, None, None, None, None, None, None, No...   \n",
       "0  [[None], [None, None], [None, None, None, None...   \n",
       "\n",
       "                                         orthography  \\\n",
       "0  [[[can, I], have, this], [[can, I], have, this...   \n",
       "0  [[he, had, it, Mom, I, just, took, it, from, h...   \n",
       "0  [[okay], [that's, enough], [can't, you, xxx, t...   \n",
       "\n",
       "                                             xml_loc          role  n_phones  \n",
       "0  /mnt/cube/tsainbur/Projects/github_repos/LRSO_...  Target Child      1772  \n",
       "0  /mnt/cube/tsainbur/Projects/github_repos/LRSO_...        Mother      2665  \n",
       "0  /mnt/cube/tsainbur/Projects/github_repos/LRSO_...   Grandmother       235  "
      ]
     },
     "execution_count": 35,
     "metadata": {},
     "output_type": "execute_result"
    }
   ],
   "source": [
    "phone_df[:3]"
   ]
  },
  {
   "cell_type": "code",
   "execution_count": 36,
   "metadata": {
    "ExecuteTime": {
     "end_time": "2021-02-23T19:13:23.698231Z",
     "start_time": "2021-02-23T19:13:23.687451Z"
    }
   },
   "outputs": [
    {
     "data": {
      "text/plain": [
       "array(['Providence', 'Davis', 'Goad'], dtype=object)"
      ]
     },
     "execution_count": 36,
     "metadata": {},
     "output_type": "execute_result"
    }
   ],
   "source": [
    "phone_df.dataset.unique()"
   ]
  },
  {
   "cell_type": "code",
   "execution_count": 37,
   "metadata": {
    "ExecuteTime": {
     "end_time": "2021-02-23T19:13:23.710288Z",
     "start_time": "2021-02-23T19:13:23.699661Z"
    }
   },
   "outputs": [
    {
     "name": "stdout",
     "output_type": "stream",
     "text": [
      "There are 8040338 phones in this dataset\n"
     ]
    }
   ],
   "source": [
    "print(\"There are {} phones in this dataset\".format(np.sum(phone_df.n_phones)))"
   ]
  },
  {
   "cell_type": "code",
   "execution_count": 38,
   "metadata": {
    "ExecuteTime": {
     "end_time": "2021-02-23T19:13:23.721961Z",
     "start_time": "2021-02-23T19:13:23.711702Z"
    }
   },
   "outputs": [],
   "source": [
    "import seaborn as sns\n",
    "from childes_mi.utils.general import flatten,save_fig"
   ]
  },
  {
   "cell_type": "code",
   "execution_count": 39,
   "metadata": {
    "ExecuteTime": {
     "end_time": "2021-02-23T19:13:23.734829Z",
     "start_time": "2021-02-23T19:13:23.724208Z"
    }
   },
   "outputs": [],
   "source": [
    "### for each transcript, "
   ]
  },
  {
   "cell_type": "code",
   "execution_count": 43,
   "metadata": {
    "ExecuteTime": {
     "end_time": "2021-02-23T19:14:09.695455Z",
     "start_time": "2021-02-23T19:14:07.234937Z"
    }
   },
   "outputs": [
    {
     "data": {
      "application/vnd.jupyter.widget-view+json": {
       "model_id": "d3258a23e5b0418eae5e45529771ef91",
       "version_major": 2,
       "version_minor": 0
      },
      "text/plain": [
       "  0%|          | 0/697 [00:00<?, ?it/s]"
      ]
     },
     "metadata": {},
     "output_type": "display_data"
    }
   ],
   "source": [
    "prop_df = pd.DataFrame(columns = ['transcript_id', 'child_phones', 'total_phones', 'prop_phones'])\n",
    "for tid in tqdm(np.unique(phone_df.transcript_id.values)):\n",
    "    transcript_df_subset = phone_df[phone_df.transcript_id == tid]\n",
    "    child_phones = transcript_df_subset[transcript_df_subset.role.isin(['Target Child'])].n_phones.sum()\n",
    "    total_phones = transcript_df_subset.n_phones.sum()\n",
    "    prop_df.loc[len(prop_df)] = [\n",
    "        tid, child_phones, total_phones, child_phones/total_phones\n",
    "    ]"
   ]
  },
  {
   "cell_type": "code",
   "execution_count": 45,
   "metadata": {
    "ExecuteTime": {
     "end_time": "2021-02-23T19:14:14.185456Z",
     "start_time": "2021-02-23T19:14:14.164092Z"
    }
   },
   "outputs": [
    {
     "data": {
      "text/html": [
       "<div>\n",
       "<style scoped>\n",
       "    .dataframe tbody tr th:only-of-type {\n",
       "        vertical-align: middle;\n",
       "    }\n",
       "\n",
       "    .dataframe tbody tr th {\n",
       "        vertical-align: top;\n",
       "    }\n",
       "\n",
       "    .dataframe thead th {\n",
       "        text-align: right;\n",
       "    }\n",
       "</style>\n",
       "<table border=\"1\" class=\"dataframe\">\n",
       "  <thead>\n",
       "    <tr style=\"text-align: right;\">\n",
       "      <th></th>\n",
       "      <th>transcript_id</th>\n",
       "      <th>child_phones</th>\n",
       "      <th>total_phones</th>\n",
       "      <th>prop_phones</th>\n",
       "    </tr>\n",
       "  </thead>\n",
       "  <tbody>\n",
       "    <tr>\n",
       "      <th>0</th>\n",
       "      <td>000314</td>\n",
       "      <td>41</td>\n",
       "      <td>41</td>\n",
       "      <td>1.0</td>\n",
       "    </tr>\n",
       "    <tr>\n",
       "      <th>1</th>\n",
       "      <td>000610</td>\n",
       "      <td>14</td>\n",
       "      <td>14</td>\n",
       "      <td>1.0</td>\n",
       "    </tr>\n",
       "    <tr>\n",
       "      <th>2</th>\n",
       "      <td>000611</td>\n",
       "      <td>38</td>\n",
       "      <td>38</td>\n",
       "      <td>1.0</td>\n",
       "    </tr>\n",
       "  </tbody>\n",
       "</table>\n",
       "</div>"
      ],
      "text/plain": [
       "  transcript_id child_phones total_phones  prop_phones\n",
       "0        000314           41           41          1.0\n",
       "1        000610           14           14          1.0\n",
       "2        000611           38           38          1.0"
      ]
     },
     "execution_count": 45,
     "metadata": {},
     "output_type": "execute_result"
    }
   ],
   "source": [
    "prop_df[:3]"
   ]
  },
  {
   "cell_type": "code",
   "execution_count": 48,
   "metadata": {
    "ExecuteTime": {
     "end_time": "2021-02-23T19:14:38.523979Z",
     "start_time": "2021-02-23T19:14:38.389355Z"
    }
   },
   "outputs": [
    {
     "data": {
      "text/plain": [
       "(array([  5.,  12.,  47.,  50.,  71.,  55.,  47.,  19.,   4., 387.]),\n",
       " array([0.0013363 , 0.10120267, 0.20106904, 0.30093541, 0.40080178,\n",
       "        0.50066815, 0.60053452, 0.70040089, 0.80026726, 0.90013363,\n",
       "        1.        ]),\n",
       " <BarContainer object of 10 artists>)"
      ]
     },
     "execution_count": 48,
     "metadata": {},
     "output_type": "execute_result"
    },
    {
     "data": {
      "image/png": "[encoded data removed]",
      "text/plain": [
       "<Figure size 432x288 with 1 Axes>"
      ]
     },
     "metadata": {
      "needs_background": "light"
     },
     "output_type": "display_data"
    }
   ],
   "source": [
    "plt.hist(prop_df.prop_phones.values)"
   ]
  },
  {
   "cell_type": "code",
   "execution_count": 52,
   "metadata": {
    "ExecuteTime": {
     "end_time": "2021-02-23T19:15:34.555042Z",
     "start_time": "2021-02-23T19:15:34.332863Z"
    }
   },
   "outputs": [
    {
     "data": {
      "image/png": "[encoded data removed]",
      "text/plain": [
       "<Figure size 432x288 with 1 Axes>"
      ]
     },
     "metadata": {
      "needs_background": "light"
     },
     "output_type": "display_data"
    }
   ],
   "source": [
    "plt.hist(prop_df[prop_df.prop_phones < 1].total_phones.values, bins=100);"
   ]
  },
  {
   "cell_type": "code",
   "execution_count": null,
   "metadata": {},
   "outputs": [],
   "source": []
  }
 ],
 "metadata": {
  "kernelspec": {
   "display_name": "Python [conda env:childes-paper]",
   "language": "python",
   "name": "conda-env-childes-paper-py"
  },
  "language_info": {
   "codemirror_mode": {
    "name": "ipython",
    "version": 3
   },
   "file_extension": ".py",
   "mimetype": "text/x-python",
   "name": "python",
   "nbconvert_exporter": "python",
   "pygments_lexer": "ipython3",
   "version": "3.9.1"
  }
 },
 "nbformat": 4,
 "nbformat_minor": 4
}
