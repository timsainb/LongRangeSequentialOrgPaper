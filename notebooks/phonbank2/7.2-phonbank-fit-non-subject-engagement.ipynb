{
 "cells": [
  {
   "cell_type": "code",
   "execution_count": 1,
   "metadata": {
    "ExecuteTime": {
     "end_time": "2021-03-01T06:23:45.522948Z",
     "start_time": "2021-03-01T06:23:45.507361Z"
    }
   },
   "outputs": [],
   "source": [
    "%load_ext autoreload\n",
    "%autoreload 2"
   ]
  },
  {
   "cell_type": "code",
   "execution_count": 2,
   "metadata": {
    "ExecuteTime": {
     "end_time": "2021-03-01T06:23:46.420852Z",
     "start_time": "2021-03-01T06:23:45.928045Z"
    }
   },
   "outputs": [],
   "source": [
    "from childes_mi.utils.paths import DATA_DIR, FIGURE_DIR, ensure_dir\n",
    "from childes_mi.utils.general import flatten,save_fig"
   ]
  },
  {
   "cell_type": "code",
   "execution_count": 3,
   "metadata": {
    "ExecuteTime": {
     "end_time": "2021-03-01T06:23:47.362670Z",
     "start_time": "2021-03-01T06:23:46.422600Z"
    }
   },
   "outputs": [],
   "source": [
    "from childes_mi.information_theory import model_fitting as mf"
   ]
  },
  {
   "cell_type": "code",
   "execution_count": 4,
   "metadata": {
    "ExecuteTime": {
     "end_time": "2021-03-01T06:23:47.432689Z",
     "start_time": "2021-03-01T06:23:47.364840Z"
    }
   },
   "outputs": [
    {
     "name": "stderr",
     "output_type": "stream",
     "text": [
      "<ipython-input-4-d3dd355f8edb>:4: TqdmExperimentalWarning: Using `tqdm.autonotebook.tqdm` in notebook mode. Use `tqdm.tqdm` instead to force console mode (e.g. in jupyter console)\n",
      "  from tqdm.autonotebook import tqdm\n"
     ]
    }
   ],
   "source": [
    "import pandas as pd\n",
    "import numpy as np\n",
    "import matplotlib.pyplot as plt\n",
    "from tqdm.autonotebook import tqdm"
   ]
  },
  {
   "cell_type": "code",
   "execution_count": 5,
   "metadata": {
    "ExecuteTime": {
     "end_time": "2021-03-01T06:23:47.446534Z",
     "start_time": "2021-03-01T06:23:47.434615Z"
    }
   },
   "outputs": [],
   "source": [
    "### get proportion info"
   ]
  },
  {
   "cell_type": "code",
   "execution_count": 6,
   "metadata": {
    "ExecuteTime": {
     "end_time": "2021-03-01T06:23:47.457101Z",
     "start_time": "2021-03-01T06:23:47.447674Z"
    }
   },
   "outputs": [],
   "source": [
    "from childes_mi.utils.paths import PHONBANK_DFS, DATA_DIR, FIGURE_DIR\n"
   ]
  },
  {
   "cell_type": "code",
   "execution_count": 7,
   "metadata": {
    "ExecuteTime": {
     "end_time": "2021-03-01T06:23:55.460954Z",
     "start_time": "2021-03-01T06:23:47.458326Z"
    }
   },
   "outputs": [],
   "source": [
    "phone_df = pd.read_pickle(PHONBANK_DFS/'phone_df_all_participants.pickle')\n",
    "phone_df['n_phones'] = [len(list(flatten(i))) for i in phone_df.phones.values]"
   ]
  },
  {
   "cell_type": "code",
   "execution_count": 8,
   "metadata": {
    "ExecuteTime": {
     "end_time": "2021-03-01T06:23:57.925133Z",
     "start_time": "2021-03-01T06:23:55.463567Z"
    }
   },
   "outputs": [
    {
     "data": {
      "application/vnd.jupyter.widget-view+json": {
       "model_id": "c113961390164f8298e3ff78f46f99e3",
       "version_major": 2,
       "version_minor": 0
      },
      "text/plain": [
       "  0%|          | 0/697 [00:00<?, ?it/s]"
      ]
     },
     "metadata": {},
     "output_type": "display_data"
    },
    {
     "data": {
      "text/html": [
       "<div>\n",
       "<style scoped>\n",
       "    .dataframe tbody tr th:only-of-type {\n",
       "        vertical-align: middle;\n",
       "    }\n",
       "\n",
       "    .dataframe tbody tr th {\n",
       "        vertical-align: top;\n",
       "    }\n",
       "\n",
       "    .dataframe thead th {\n",
       "        text-align: right;\n",
       "    }\n",
       "</style>\n",
       "<table border=\"1\" class=\"dataframe\">\n",
       "  <thead>\n",
       "    <tr style=\"text-align: right;\">\n",
       "      <th></th>\n",
       "      <th>transcript_id</th>\n",
       "      <th>child_phones</th>\n",
       "      <th>total_phones</th>\n",
       "      <th>prop_phones</th>\n",
       "    </tr>\n",
       "  </thead>\n",
       "  <tbody>\n",
       "    <tr>\n",
       "      <th>0</th>\n",
       "      <td>000314</td>\n",
       "      <td>41</td>\n",
       "      <td>41</td>\n",
       "      <td>1.0</td>\n",
       "    </tr>\n",
       "    <tr>\n",
       "      <th>1</th>\n",
       "      <td>000610</td>\n",
       "      <td>14</td>\n",
       "      <td>14</td>\n",
       "      <td>1.0</td>\n",
       "    </tr>\n",
       "    <tr>\n",
       "      <th>2</th>\n",
       "      <td>000611</td>\n",
       "      <td>38</td>\n",
       "      <td>38</td>\n",
       "      <td>1.0</td>\n",
       "    </tr>\n",
       "  </tbody>\n",
       "</table>\n",
       "</div>"
      ],
      "text/plain": [
       "  transcript_id child_phones total_phones  prop_phones\n",
       "0        000314           41           41          1.0\n",
       "1        000610           14           14          1.0\n",
       "2        000611           38           38          1.0"
      ]
     },
     "execution_count": 8,
     "metadata": {},
     "output_type": "execute_result"
    }
   ],
   "source": [
    "prop_df = pd.DataFrame(columns = ['transcript_id', 'child_phones', 'total_phones', 'prop_phones'])\n",
    "for tid in tqdm(np.unique(phone_df.transcript_id.values)):\n",
    "    transcript_df_subset = phone_df[phone_df.transcript_id == tid]\n",
    "    child_phones = transcript_df_subset[transcript_df_subset.role.isin(['Target Child'])].n_phones.sum()\n",
    "    total_phones = transcript_df_subset.n_phones.sum()\n",
    "    prop_df.loc[len(prop_df)] = [\n",
    "        tid, child_phones, total_phones, child_phones/total_phones\n",
    "    ]\n",
    "\n",
    "prop_df[:3]"
   ]
  },
  {
   "cell_type": "markdown",
   "metadata": {},
   "source": [
    "### Get MI"
   ]
  },
  {
   "cell_type": "code",
   "execution_count": 9,
   "metadata": {
    "ExecuteTime": {
     "end_time": "2021-03-01T06:23:58.330594Z",
     "start_time": "2021-03-01T06:23:57.927141Z"
    }
   },
   "outputs": [],
   "source": [
    "MI_DF = pd.read_pickle(DATA_DIR/'mi/phonbank_all_indv_seqs.pickle')"
   ]
  },
  {
   "cell_type": "code",
   "execution_count": 10,
   "metadata": {
    "ExecuteTime": {
     "end_time": "2021-03-01T06:23:58.345344Z",
     "start_time": "2021-03-01T06:23:58.332202Z"
    }
   },
   "outputs": [
    {
     "data": {
      "text/plain": [
       "668"
      ]
     },
     "execution_count": 10,
     "metadata": {},
     "output_type": "execute_result"
    }
   ],
   "source": [
    "len(MI_DF)"
   ]
  },
  {
   "cell_type": "code",
   "execution_count": 11,
   "metadata": {
    "ExecuteTime": {
     "end_time": "2021-03-01T06:23:58.382953Z",
     "start_time": "2021-03-01T06:23:58.346419Z"
    }
   },
   "outputs": [
    {
     "data": {
      "text/html": [
       "<div>\n",
       "<style scoped>\n",
       "    .dataframe tbody tr th:only-of-type {\n",
       "        vertical-align: middle;\n",
       "    }\n",
       "\n",
       "    .dataframe tbody tr th {\n",
       "        vertical-align: top;\n",
       "    }\n",
       "\n",
       "    .dataframe thead th {\n",
       "        text-align: right;\n",
       "    }\n",
       "</style>\n",
       "<table border=\"1\" class=\"dataframe\">\n",
       "  <thead>\n",
       "    <tr style=\"text-align: right;\">\n",
       "      <th></th>\n",
       "      <th>MI</th>\n",
       "      <th>MI_var</th>\n",
       "      <th>shuff_MI</th>\n",
       "      <th>shuff_MI_var</th>\n",
       "      <th>distances</th>\n",
       "      <th>age_cohort_low</th>\n",
       "      <th>age_cohort_high</th>\n",
       "      <th>n_phones</th>\n",
       "      <th>n_unique_phones</th>\n",
       "      <th>age</th>\n",
       "      <th>dataset</th>\n",
       "      <th>xml_loc</th>\n",
       "      <th>n_phones</th>\n",
       "      <th>transcript_id</th>\n",
       "      <th>phones_list</th>\n",
       "    </tr>\n",
       "  </thead>\n",
       "  <tbody>\n",
       "    <tr>\n",
       "      <th>0</th>\n",
       "      <td>[4.356248338413511, 4.047189090769368, 3.92068...</td>\n",
       "      <td>[0.051951813332510775, 0.05127182251496144, 0....</td>\n",
       "      <td>[3.602903551230197, 3.6005794590353837, 3.6043...</td>\n",
       "      <td>[0.050980135620703027, 0.05097211442089026, 0....</td>\n",
       "      <td>[1, 2, 3, 4, 5, 6, 7, 8, 9, 10, 11, 12, 13, 14...</td>\n",
       "      <td>0.5</td>\n",
       "      <td>1</td>\n",
       "      <td>2751</td>\n",
       "      <td>1</td>\n",
       "      <td>1.000</td>\n",
       "      <td>Providence</td>\n",
       "      <td>/mnt/cube/tsainbur/Projects/github_repos/LRSO_...</td>\n",
       "      <td>669</td>\n",
       "      <td>001126</td>\n",
       "      <td>aɪaɛːaːʌʌaːaːoaʌʌʌaaoʷəoʷəoʷəaːwuaːaːoʷəʌʌʌnəo...</td>\n",
       "    </tr>\n",
       "    <tr>\n",
       "      <th>1</th>\n",
       "      <td>[4.477608516941267, 4.1993657535591264, 3.9954...</td>\n",
       "      <td>[0.05858440505243816, 0.058077478756595045, 0....</td>\n",
       "      <td>[3.5764786125510426, 3.5830033856535106, 3.585...</td>\n",
       "      <td>[0.05649948441070945, 0.05645350178285826, 0.0...</td>\n",
       "      <td>[1, 2, 3, 4, 5, 6, 7, 8, 9, 10, 11, 12, 13, 14...</td>\n",
       "      <td>0.5</td>\n",
       "      <td>1</td>\n",
       "      <td>2747</td>\n",
       "      <td>1</td>\n",
       "      <td>1.000</td>\n",
       "      <td>Providence</td>\n",
       "      <td>/mnt/cube/tsainbur/Projects/github_repos/LRSO_...</td>\n",
       "      <td>574</td>\n",
       "      <td>010014</td>\n",
       "      <td>ɛwauʊxdaːnɪʊinʊhʊmɔːbɪhəmʌænænənænænəkæaʔmamam...</td>\n",
       "    </tr>\n",
       "    <tr>\n",
       "      <th>2</th>\n",
       "      <td>[4.066396779927116, 4.034615560966813, 3.74323...</td>\n",
       "      <td>[0.06117625630338075, 0.06011312327007976, 0.0...</td>\n",
       "      <td>[3.474562089813773, 3.4893603574233776, 3.4778...</td>\n",
       "      <td>[0.0593948160025596, 0.059378692862158494, 0.0...</td>\n",
       "      <td>[1, 2, 3, 4, 5, 6, 7, 8, 9, 10, 11, 12, 13, 14...</td>\n",
       "      <td>0.5</td>\n",
       "      <td>1</td>\n",
       "      <td>1920</td>\n",
       "      <td>1</td>\n",
       "      <td>0.833</td>\n",
       "      <td>Davis</td>\n",
       "      <td>/mnt/cube/tsainbur/Projects/github_repos/LRSO_...</td>\n",
       "      <td>500</td>\n",
       "      <td>001007</td>\n",
       "      <td>ədɛˈdəgɛadɪddɛæədɪədaːdadaˈdavːbaːbabaˈdæːdæːg...</td>\n",
       "    </tr>\n",
       "  </tbody>\n",
       "</table>\n",
       "</div>"
      ],
      "text/plain": [
       "                                                  MI  \\\n",
       "0  [4.356248338413511, 4.047189090769368, 3.92068...   \n",
       "1  [4.477608516941267, 4.1993657535591264, 3.9954...   \n",
       "2  [4.066396779927116, 4.034615560966813, 3.74323...   \n",
       "\n",
       "                                              MI_var  \\\n",
       "0  [0.051951813332510775, 0.05127182251496144, 0....   \n",
       "1  [0.05858440505243816, 0.058077478756595045, 0....   \n",
       "2  [0.06117625630338075, 0.06011312327007976, 0.0...   \n",
       "\n",
       "                                            shuff_MI  \\\n",
       "0  [3.602903551230197, 3.6005794590353837, 3.6043...   \n",
       "1  [3.5764786125510426, 3.5830033856535106, 3.585...   \n",
       "2  [3.474562089813773, 3.4893603574233776, 3.4778...   \n",
       "\n",
       "                                        shuff_MI_var  \\\n",
       "0  [0.050980135620703027, 0.05097211442089026, 0....   \n",
       "1  [0.05649948441070945, 0.05645350178285826, 0.0...   \n",
       "2  [0.0593948160025596, 0.059378692862158494, 0.0...   \n",
       "\n",
       "                                           distances  age_cohort_low  \\\n",
       "0  [1, 2, 3, 4, 5, 6, 7, 8, 9, 10, 11, 12, 13, 14...             0.5   \n",
       "1  [1, 2, 3, 4, 5, 6, 7, 8, 9, 10, 11, 12, 13, 14...             0.5   \n",
       "2  [1, 2, 3, 4, 5, 6, 7, 8, 9, 10, 11, 12, 13, 14...             0.5   \n",
       "\n",
       "  age_cohort_high n_phones n_unique_phones    age     dataset  \\\n",
       "0               1     2751               1  1.000  Providence   \n",
       "1               1     2747               1  1.000  Providence   \n",
       "2               1     1920               1  0.833       Davis   \n",
       "\n",
       "                                             xml_loc n_phones transcript_id  \\\n",
       "0  /mnt/cube/tsainbur/Projects/github_repos/LRSO_...      669        001126   \n",
       "1  /mnt/cube/tsainbur/Projects/github_repos/LRSO_...      574        010014   \n",
       "2  /mnt/cube/tsainbur/Projects/github_repos/LRSO_...      500        001007   \n",
       "\n",
       "                                         phones_list  \n",
       "0  aɪaɛːaːʌʌaːaːoaʌʌʌaaoʷəoʷəoʷəaːwuaːaːoʷəʌʌʌnəo...  \n",
       "1  ɛwauʊxdaːnɪʊinʊhʊmɔːbɪhəmʌænænənænænəkæaʔmamam...  \n",
       "2  ədɛˈdəgɛadɪddɛæədɪədaːdadaˈdavːbaːbabaˈdæːdæːg...  "
      ]
     },
     "execution_count": 11,
     "metadata": {},
     "output_type": "execute_result"
    }
   ],
   "source": [
    "MI_DF[:3]"
   ]
  },
  {
   "cell_type": "code",
   "execution_count": 12,
   "metadata": {
    "ExecuteTime": {
     "end_time": "2021-03-01T06:23:58.398754Z",
     "start_time": "2021-03-01T06:23:58.384086Z"
    }
   },
   "outputs": [
    {
     "data": {
      "text/plain": [
       "array([0.5, 1. , 1.5, 2. , 2.5, 3. ])"
      ]
     },
     "execution_count": 12,
     "metadata": {},
     "output_type": "execute_result"
    }
   ],
   "source": [
    "MI_DF.age_cohort_low.unique()"
   ]
  },
  {
   "cell_type": "code",
   "execution_count": 13,
   "metadata": {
    "ExecuteTime": {
     "end_time": "2021-03-01T06:23:58.412714Z",
     "start_time": "2021-03-01T06:23:58.400437Z"
    }
   },
   "outputs": [],
   "source": [
    "age_cohorts = [[0.5, 1],[1, 1.5], [1.5, 2], [2, 2.5], [2.5, 3], [3, 20]]"
   ]
  },
  {
   "cell_type": "code",
   "execution_count": 14,
   "metadata": {
    "ExecuteTime": {
     "end_time": "2021-03-01T06:23:58.432202Z",
     "start_time": "2021-03-01T06:23:58.413887Z"
    }
   },
   "outputs": [],
   "source": [
    "MI_DF_list = []\n",
    "for [ac_low, ac_high] in age_cohorts:\n",
    "    MI_DF_list.append(MI_DF[MI_DF.age_cohort_low == ac_low])\n",
    "MI_DF = pd.concat(MI_DF_list)"
   ]
  },
  {
   "cell_type": "code",
   "execution_count": 15,
   "metadata": {
    "ExecuteTime": {
     "end_time": "2021-03-01T06:23:58.448432Z",
     "start_time": "2021-03-01T06:23:58.433597Z"
    }
   },
   "outputs": [
    {
     "data": {
      "text/plain": [
       "668"
      ]
     },
     "execution_count": 15,
     "metadata": {},
     "output_type": "execute_result"
    }
   ],
   "source": [
    "len(MI_DF)"
   ]
  },
  {
   "cell_type": "code",
   "execution_count": 16,
   "metadata": {
    "ExecuteTime": {
     "end_time": "2021-03-01T06:23:58.465510Z",
     "start_time": "2021-03-01T06:23:58.449496Z"
    }
   },
   "outputs": [],
   "source": [
    "MI_DF = MI_DF.assign(**{i:np.nan for i in ['exp_results', 'pow_results', 'concat_results',\n",
    "     'R2_exp', 'R2_concat', 'R2_power', 'AICc_exp',\n",
    "     'AICc_concat', 'AICc_power', 'bestfitmodel', 'curvature', 'min_peak']})\n",
    "MI_DF['curvature'] = MI_DF['curvature'].astype(object)"
   ]
  },
  {
   "cell_type": "code",
   "execution_count": 17,
   "metadata": {
    "ExecuteTime": {
     "end_time": "2021-03-01T06:26:39.833969Z",
     "start_time": "2021-03-01T06:23:58.466530Z"
    },
    "scrolled": true
   },
   "outputs": [
    {
     "data": {
      "application/vnd.jupyter.widget-view+json": {
       "model_id": "7509acfdd2034e3196a2b501a87cd93c",
       "version_major": 2,
       "version_minor": 0
      },
      "text/plain": [
       "  0%|          | 0/668 [00:00<?, ?it/s]"
      ]
     },
     "metadata": {},
     "output_type": "display_data"
    },
    {
     "name": "stderr",
     "output_type": "stream",
     "text": [
      "/home/AD/tsainbur/anaconda3/envs/childes-paper/lib/python3.9/site-packages/numpy/core/_asarray.py:83: VisibleDeprecationWarning: Creating an ndarray from ragged nested sequences (which is a list-or-tuple of lists-or-tuples-or ndarrays with different lengths or shapes) is deprecated. If you meant to do this, you must specify 'dtype=object' when creating the ndarray\n",
      "  return array(a, dtype, copy=False, order=order)\n",
      "/mnt/cube/tsainbur/Projects/github_repos/LRSO_paper_rev/LongRangeSequentialOrgPaper/childes_mi/information_theory/model_fitting.py:8: RuntimeWarning: invalid value encountered in log\n",
      "  return np.abs(np.log(y_true) - np.log(y_model)) * (1 / (np.log(1 + x)))\n",
      "/mnt/cube/tsainbur/Projects/github_repos/LRSO_paper_rev/LongRangeSequentialOrgPaper/childes_mi/information_theory/model_fitting.py:8: RuntimeWarning: divide by zero encountered in log\n",
      "  return np.abs(np.log(y_true) - np.log(y_model)) * (1 / (np.log(1 + x)))\n"
     ]
    }
   ],
   "source": [
    "n = 100 # max distance for computation\n",
    "for idx, row in tqdm(MI_DF.iterrows(), total=len(MI_DF)):\n",
    "    # get signal\n",
    "    sig = np.array(row.MI-row.shuff_MI)\n",
    "    distances = row.distances\n",
    "    sig = sig\n",
    "    \n",
    "    dist_mask = distances < 100\n",
    "    distances = distances[dist_mask]\n",
    "    sig = sig[dist_mask]\n",
    "    \n",
    "    # fit models\n",
    "    results_power, results_exp, results_pow_exp, best_fit_model = mf.fit_models(distances, sig)\n",
    "    \n",
    "    # get fit results\n",
    "    R2_exp, R2_concat, R2_power, AICc_exp, \\\n",
    "        AICc_pow, AICc_concat = mf.fit_results(sig, distances, \n",
    "                                              results_exp, results_power,\n",
    "                                              results_pow_exp)\n",
    "    \n",
    "    \n",
    "    # get model y\n",
    "    distances_mod = np.logspace(0,np.log10(n), base=10, num=1000)\n",
    "    if best_fit_model == 'pow_exp':\n",
    "        y_model = mf.get_y(mf.pow_exp_decay, results_pow_exp, distances_mod)\n",
    "    elif best_fit_model == 'exp':\n",
    "        y_model = mf.get_y(mf.exp_decay, results_exp, distances_mod)\n",
    "    elif best_fit_model == 'pow':\n",
    "        y_model = mf.get_y(mf.powerlaw_decay, results_power, distances_mod)\n",
    "    \n",
    "    # get curvature of model_y\n",
    "    curvature_model = mf.curvature(np.log(y_model))\n",
    "    \n",
    "    # if the best fit model is pow_exp, then grab the min peak\n",
    "    if best_fit_model == 'pow_exp':\n",
    "        # get peaks of curvature\n",
    "        peaks = np.where((\n",
    "            (curvature_model[:-1] < curvature_model[1:])[1:] & (curvature_model[1:] < curvature_model[:-1])[:-1]\n",
    "        ))\n",
    "        if len(peaks[0]) > 0:\n",
    "            min_peak = peaks[0][0]\n",
    "        else: \n",
    "            min_peak = np.nan\n",
    "    else:\n",
    "        min_peak = np.nan\n",
    "    \n",
    "    \n",
    "    # get save model fit results to MI_DF\n",
    "    MI_DF.loc[idx, np.array(['exp_results', 'pow_results', 'concat_results',\n",
    "                         'R2_exp', 'R2_concat', 'R2_power', 'AICc_exp',\n",
    "                         'AICc_concat', 'AICc_power', 'bestfitmodel', 'curvature', 'min_peak'])] = [\n",
    "        results_exp, results_power, results_pow_exp,\n",
    "        R2_exp, R2_concat, R2_power, AICc_exp,\n",
    "        AICc_concat, AICc_pow, best_fit_model,\n",
    "        curvature_model, min_peak\n",
    "    ]"
   ]
  },
  {
   "cell_type": "code",
   "execution_count": 18,
   "metadata": {
    "ExecuteTime": {
     "end_time": "2021-03-01T06:26:39.852117Z",
     "start_time": "2021-03-01T06:26:39.835955Z"
    }
   },
   "outputs": [
    {
     "data": {
      "text/plain": [
       "2"
      ]
     },
     "execution_count": 18,
     "metadata": {},
     "output_type": "execute_result"
    }
   ],
   "source": [
    "len(peaks[0])"
   ]
  },
  {
   "cell_type": "code",
   "execution_count": 19,
   "metadata": {
    "ExecuteTime": {
     "end_time": "2021-03-01T06:26:39.899280Z",
     "start_time": "2021-03-01T06:26:39.853377Z"
    }
   },
   "outputs": [
    {
     "data": {
      "text/html": [
       "<div>\n",
       "<style scoped>\n",
       "    .dataframe tbody tr th:only-of-type {\n",
       "        vertical-align: middle;\n",
       "    }\n",
       "\n",
       "    .dataframe tbody tr th {\n",
       "        vertical-align: top;\n",
       "    }\n",
       "\n",
       "    .dataframe thead th {\n",
       "        text-align: right;\n",
       "    }\n",
       "</style>\n",
       "<table border=\"1\" class=\"dataframe\">\n",
       "  <thead>\n",
       "    <tr style=\"text-align: right;\">\n",
       "      <th></th>\n",
       "      <th>MI</th>\n",
       "      <th>MI_var</th>\n",
       "      <th>shuff_MI</th>\n",
       "      <th>shuff_MI_var</th>\n",
       "      <th>distances</th>\n",
       "      <th>age_cohort_low</th>\n",
       "      <th>age_cohort_high</th>\n",
       "      <th>n_phones</th>\n",
       "      <th>n_unique_phones</th>\n",
       "      <th>age</th>\n",
       "      <th>...</th>\n",
       "      <th>concat_results</th>\n",
       "      <th>R2_exp</th>\n",
       "      <th>R2_concat</th>\n",
       "      <th>R2_power</th>\n",
       "      <th>AICc_exp</th>\n",
       "      <th>AICc_concat</th>\n",
       "      <th>AICc_power</th>\n",
       "      <th>bestfitmodel</th>\n",
       "      <th>curvature</th>\n",
       "      <th>min_peak</th>\n",
       "    </tr>\n",
       "  </thead>\n",
       "  <tbody>\n",
       "    <tr>\n",
       "      <th>0</th>\n",
       "      <td>[4.356248338413511, 4.047189090769368, 3.92068...</td>\n",
       "      <td>[0.051951813332510775, 0.05127182251496144, 0....</td>\n",
       "      <td>[3.602903551230197, 3.6005794590353837, 3.6043...</td>\n",
       "      <td>[0.050980135620703027, 0.05097211442089026, 0....</td>\n",
       "      <td>[1, 2, 3, 4, 5, 6, 7, 8, 9, 10, 11, 12, 13, 14...</td>\n",
       "      <td>0.5</td>\n",
       "      <td>1</td>\n",
       "      <td>2751</td>\n",
       "      <td>1</td>\n",
       "      <td>1.000</td>\n",
       "      <td>...</td>\n",
       "      <td>&lt;lmfit.minimizer.MinimizerResult object at 0x7...</td>\n",
       "      <td>0.968157</td>\n",
       "      <td>0.987396</td>\n",
       "      <td>0.987116</td>\n",
       "      <td>-537.028946</td>\n",
       "      <td>-624.386718</td>\n",
       "      <td>-626.608892</td>\n",
       "      <td>pow</td>\n",
       "      <td>[5.98115412577245e-07, 8.982795546691827e-07, ...</td>\n",
       "      <td>NaN</td>\n",
       "    </tr>\n",
       "    <tr>\n",
       "      <th>1</th>\n",
       "      <td>[4.477608516941267, 4.1993657535591264, 3.9954...</td>\n",
       "      <td>[0.05858440505243816, 0.058077478756595045, 0....</td>\n",
       "      <td>[3.5764786125510426, 3.5830033856535106, 3.585...</td>\n",
       "      <td>[0.05649948441070945, 0.05645350178285826, 0.0...</td>\n",
       "      <td>[1, 2, 3, 4, 5, 6, 7, 8, 9, 10, 11, 12, 13, 14...</td>\n",
       "      <td>0.5</td>\n",
       "      <td>1</td>\n",
       "      <td>2747</td>\n",
       "      <td>1</td>\n",
       "      <td>1.000</td>\n",
       "      <td>...</td>\n",
       "      <td>&lt;lmfit.minimizer.MinimizerResult object at 0x7...</td>\n",
       "      <td>0.948680</td>\n",
       "      <td>0.977398</td>\n",
       "      <td>0.974078</td>\n",
       "      <td>-434.590507</td>\n",
       "      <td>-511.384401</td>\n",
       "      <td>-502.207791</td>\n",
       "      <td>pow_exp</td>\n",
       "      <td>[-3.08616733160039e-06, -4.6370115276130916e-0...</td>\n",
       "      <td>197.0</td>\n",
       "    </tr>\n",
       "    <tr>\n",
       "      <th>2</th>\n",
       "      <td>[4.066396779927116, 4.034615560966813, 3.74323...</td>\n",
       "      <td>[0.06117625630338075, 0.06011312327007976, 0.0...</td>\n",
       "      <td>[3.474562089813773, 3.4893603574233776, 3.4778...</td>\n",
       "      <td>[0.0593948160025596, 0.059378692862158494, 0.0...</td>\n",
       "      <td>[1, 2, 3, 4, 5, 6, 7, 8, 9, 10, 11, 12, 13, 14...</td>\n",
       "      <td>0.5</td>\n",
       "      <td>1</td>\n",
       "      <td>1920</td>\n",
       "      <td>1</td>\n",
       "      <td>0.833</td>\n",
       "      <td>...</td>\n",
       "      <td>&lt;lmfit.minimizer.MinimizerResult object at 0x7...</td>\n",
       "      <td>0.962287</td>\n",
       "      <td>0.962287</td>\n",
       "      <td>0.940493</td>\n",
       "      <td>-576.237650</td>\n",
       "      <td>-571.845120</td>\n",
       "      <td>-531.085645</td>\n",
       "      <td>exp</td>\n",
       "      <td>[-3.5375261332526604e-06, -5.312784623313265e-...</td>\n",
       "      <td>NaN</td>\n",
       "    </tr>\n",
       "  </tbody>\n",
       "</table>\n",
       "<p>3 rows × 27 columns</p>\n",
       "</div>"
      ],
      "text/plain": [
       "                                                  MI  \\\n",
       "0  [4.356248338413511, 4.047189090769368, 3.92068...   \n",
       "1  [4.477608516941267, 4.1993657535591264, 3.9954...   \n",
       "2  [4.066396779927116, 4.034615560966813, 3.74323...   \n",
       "\n",
       "                                              MI_var  \\\n",
       "0  [0.051951813332510775, 0.05127182251496144, 0....   \n",
       "1  [0.05858440505243816, 0.058077478756595045, 0....   \n",
       "2  [0.06117625630338075, 0.06011312327007976, 0.0...   \n",
       "\n",
       "                                            shuff_MI  \\\n",
       "0  [3.602903551230197, 3.6005794590353837, 3.6043...   \n",
       "1  [3.5764786125510426, 3.5830033856535106, 3.585...   \n",
       "2  [3.474562089813773, 3.4893603574233776, 3.4778...   \n",
       "\n",
       "                                        shuff_MI_var  \\\n",
       "0  [0.050980135620703027, 0.05097211442089026, 0....   \n",
       "1  [0.05649948441070945, 0.05645350178285826, 0.0...   \n",
       "2  [0.0593948160025596, 0.059378692862158494, 0.0...   \n",
       "\n",
       "                                           distances  age_cohort_low  \\\n",
       "0  [1, 2, 3, 4, 5, 6, 7, 8, 9, 10, 11, 12, 13, 14...             0.5   \n",
       "1  [1, 2, 3, 4, 5, 6, 7, 8, 9, 10, 11, 12, 13, 14...             0.5   \n",
       "2  [1, 2, 3, 4, 5, 6, 7, 8, 9, 10, 11, 12, 13, 14...             0.5   \n",
       "\n",
       "  age_cohort_high n_phones n_unique_phones    age  ...  \\\n",
       "0               1     2751               1  1.000  ...   \n",
       "1               1     2747               1  1.000  ...   \n",
       "2               1     1920               1  0.833  ...   \n",
       "\n",
       "                                      concat_results    R2_exp R2_concat  \\\n",
       "0  <lmfit.minimizer.MinimizerResult object at 0x7...  0.968157  0.987396   \n",
       "1  <lmfit.minimizer.MinimizerResult object at 0x7...  0.948680  0.977398   \n",
       "2  <lmfit.minimizer.MinimizerResult object at 0x7...  0.962287  0.962287   \n",
       "\n",
       "   R2_power    AICc_exp AICc_concat  AICc_power bestfitmodel  \\\n",
       "0  0.987116 -537.028946 -624.386718 -626.608892          pow   \n",
       "1  0.974078 -434.590507 -511.384401 -502.207791      pow_exp   \n",
       "2  0.940493 -576.237650 -571.845120 -531.085645          exp   \n",
       "\n",
       "                                           curvature  min_peak  \n",
       "0  [5.98115412577245e-07, 8.982795546691827e-07, ...       NaN  \n",
       "1  [-3.08616733160039e-06, -4.6370115276130916e-0...     197.0  \n",
       "2  [-3.5375261332526604e-06, -5.312784623313265e-...       NaN  \n",
       "\n",
       "[3 rows x 27 columns]"
      ]
     },
     "execution_count": 19,
     "metadata": {},
     "output_type": "execute_result"
    }
   ],
   "source": [
    "MI_DF[:3]"
   ]
  },
  {
   "cell_type": "code",
   "execution_count": 20,
   "metadata": {
    "ExecuteTime": {
     "end_time": "2021-03-01T06:26:39.925333Z",
     "start_time": "2021-03-01T06:26:39.900355Z"
    }
   },
   "outputs": [],
   "source": [
    "MI_DF_pid = MI_DF.merge(prop_df)"
   ]
  },
  {
   "cell_type": "code",
   "execution_count": 21,
   "metadata": {
    "ExecuteTime": {
     "end_time": "2021-03-01T06:26:39.937070Z",
     "start_time": "2021-03-01T06:26:39.926401Z"
    }
   },
   "outputs": [],
   "source": [
    "%matplotlib inline"
   ]
  },
  {
   "cell_type": "code",
   "execution_count": 22,
   "metadata": {
    "ExecuteTime": {
     "end_time": "2021-03-01T06:26:39.951954Z",
     "start_time": "2021-03-01T06:26:39.937932Z"
    }
   },
   "outputs": [
    {
     "data": {
      "text/html": [
       "<div>\n",
       "<style scoped>\n",
       "    .dataframe tbody tr th:only-of-type {\n",
       "        vertical-align: middle;\n",
       "    }\n",
       "\n",
       "    .dataframe tbody tr th {\n",
       "        vertical-align: top;\n",
       "    }\n",
       "\n",
       "    .dataframe thead th {\n",
       "        text-align: right;\n",
       "    }\n",
       "</style>\n",
       "<table border=\"1\" class=\"dataframe\">\n",
       "  <thead>\n",
       "    <tr style=\"text-align: right;\">\n",
       "      <th></th>\n",
       "      <th>n_phones</th>\n",
       "      <th>n_phones</th>\n",
       "    </tr>\n",
       "  </thead>\n",
       "  <tbody>\n",
       "    <tr>\n",
       "      <th>0</th>\n",
       "      <td>2751</td>\n",
       "      <td>669</td>\n",
       "    </tr>\n",
       "    <tr>\n",
       "      <th>1</th>\n",
       "      <td>2747</td>\n",
       "      <td>574</td>\n",
       "    </tr>\n",
       "    <tr>\n",
       "      <th>2</th>\n",
       "      <td>1920</td>\n",
       "      <td>500</td>\n",
       "    </tr>\n",
       "    <tr>\n",
       "      <th>3</th>\n",
       "      <td>1508</td>\n",
       "      <td>429</td>\n",
       "    </tr>\n",
       "    <tr>\n",
       "      <th>4</th>\n",
       "      <td>1653</td>\n",
       "      <td>426</td>\n",
       "    </tr>\n",
       "    <tr>\n",
       "      <th>...</th>\n",
       "      <td>...</td>\n",
       "      <td>...</td>\n",
       "    </tr>\n",
       "    <tr>\n",
       "      <th>663</th>\n",
       "      <td>2730</td>\n",
       "      <td>710</td>\n",
       "    </tr>\n",
       "    <tr>\n",
       "      <th>664</th>\n",
       "      <td>2360</td>\n",
       "      <td>642</td>\n",
       "    </tr>\n",
       "    <tr>\n",
       "      <th>665</th>\n",
       "      <td>2356</td>\n",
       "      <td>621</td>\n",
       "    </tr>\n",
       "    <tr>\n",
       "      <th>666</th>\n",
       "      <td>2094</td>\n",
       "      <td>573</td>\n",
       "    </tr>\n",
       "    <tr>\n",
       "      <th>667</th>\n",
       "      <td>1904</td>\n",
       "      <td>511</td>\n",
       "    </tr>\n",
       "  </tbody>\n",
       "</table>\n",
       "<p>668 rows × 2 columns</p>\n",
       "</div>"
      ],
      "text/plain": [
       "    n_phones n_phones\n",
       "0       2751      669\n",
       "1       2747      574\n",
       "2       1920      500\n",
       "3       1508      429\n",
       "4       1653      426\n",
       "..       ...      ...\n",
       "663     2730      710\n",
       "664     2360      642\n",
       "665     2356      621\n",
       "666     2094      573\n",
       "667     1904      511\n",
       "\n",
       "[668 rows x 2 columns]"
      ]
     },
     "execution_count": 22,
     "metadata": {},
     "output_type": "execute_result"
    }
   ],
   "source": [
    "MI_DF_pid.n_phones"
   ]
  },
  {
   "cell_type": "code",
   "execution_count": 23,
   "metadata": {
    "ExecuteTime": {
     "end_time": "2021-03-01T06:26:39.962949Z",
     "start_time": "2021-03-01T06:26:39.952797Z"
    }
   },
   "outputs": [],
   "source": [
    "MI_DF_pid = MI_DF_pid[MI_DF_pid.concat_results.isnull() == False]"
   ]
  },
  {
   "cell_type": "code",
   "execution_count": 25,
   "metadata": {
    "ExecuteTime": {
     "end_time": "2021-03-01T06:27:36.611775Z",
     "start_time": "2021-03-01T06:27:08.281877Z"
    }
   },
   "outputs": [],
   "source": [
    "MI_DF_pid.to_pickle(DATA_DIR/'mi/phone_df_all_participants_fit.pickle')"
   ]
  },
  {
   "cell_type": "code",
   "execution_count": 26,
   "metadata": {
    "ExecuteTime": {
     "end_time": "2021-03-01T06:29:03.995739Z",
     "start_time": "2021-03-01T06:29:03.910218Z"
    }
   },
   "outputs": [],
   "source": [
    "for idx, row in MI_DF_pid.iterrows():\n",
    "    row.concat_results.params['e_init'].value"
   ]
  },
  {
   "cell_type": "code",
   "execution_count": 27,
   "metadata": {
    "ExecuteTime": {
     "end_time": "2021-03-01T06:29:04.735284Z",
     "start_time": "2021-03-01T06:29:04.430437Z"
    }
   },
   "outputs": [],
   "source": [
    "MI_DF_pid['e_init'] = [row.concat_results.params['e_init'].value for idx, row in MI_DF_pid.iterrows()]\n",
    "MI_DF_pid['e_decay_const'] = [row.concat_results.params['e_decay_const'].value for idx, row in MI_DF_pid.iterrows()]\n",
    "MI_DF_pid['p_init'] = [row.concat_results.params['p_init'].value for idx, row in MI_DF_pid.iterrows()]\n",
    "MI_DF_pid['p_decay_const'] = [row.concat_results.params['p_decay_const'].value for idx, row in MI_DF_pid.iterrows()]\n",
    "MI_DF_pid['intercept'] = [row.concat_results.params['intercept'].value for idx, row in MI_DF_pid.iterrows()]"
   ]
  },
  {
   "cell_type": "code",
   "execution_count": 28,
   "metadata": {
    "ExecuteTime": {
     "end_time": "2021-03-01T06:29:06.121185Z",
     "start_time": "2021-03-01T06:29:05.183163Z"
    }
   },
   "outputs": [
    {
     "data": {
      "image/png": "[encoded data removed]",
      "text/plain": [
       "<Figure size 432x288 with 1 Axes>"
      ]
     },
     "metadata": {
      "needs_background": "light"
     },
     "output_type": "display_data"
    }
   ],
   "source": [
    "plt.hist(np.array(MI_DF.AICc_concat - MI_DF.AICc_exp), bins = 200);"
   ]
  },
  {
   "cell_type": "code",
   "execution_count": 29,
   "metadata": {
    "ExecuteTime": {
     "end_time": "2021-03-01T06:29:07.170896Z",
     "start_time": "2021-03-01T06:29:06.836280Z"
    }
   },
   "outputs": [
    {
     "data": {
      "image/png": "[encoded data removed]",
      "text/plain": [
       "<Figure size 432x288 with 1 Axes>"
      ]
     },
     "metadata": {
      "needs_background": "light"
     },
     "output_type": "display_data"
    }
   ],
   "source": [
    "plt.hist(np.array(MI_DF_pid.age), bins = 200);"
   ]
  },
  {
   "cell_type": "code",
   "execution_count": 30,
   "metadata": {
    "ExecuteTime": {
     "end_time": "2021-03-01T06:29:07.593044Z",
     "start_time": "2021-03-01T06:29:07.246815Z"
    }
   },
   "outputs": [
    {
     "data": {
      "image/png": "[encoded data removed]",
      "text/plain": [
       "<Figure size 432x288 with 1 Axes>"
      ]
     },
     "metadata": {
      "needs_background": "light"
     },
     "output_type": "display_data"
    }
   ],
   "source": [
    "plt.hist(np.array(MI_DF_pid.child_phones), bins = 200);"
   ]
  },
  {
   "cell_type": "code",
   "execution_count": 31,
   "metadata": {
    "ExecuteTime": {
     "end_time": "2021-03-01T06:29:07.677912Z",
     "start_time": "2021-03-01T06:29:07.601296Z"
    }
   },
   "outputs": [],
   "source": [
    "import seaborn as sns"
   ]
  },
  {
   "cell_type": "code",
   "execution_count": 32,
   "metadata": {
    "ExecuteTime": {
     "end_time": "2021-03-01T06:29:08.693743Z",
     "start_time": "2021-03-01T06:29:07.987354Z"
    }
   },
   "outputs": [
    {
     "data": {
      "image/png": "[encoded data removed]",
      "text/plain": [
       "<Figure size 432x288 with 1 Axes>"
      ]
     },
     "metadata": {
      "needs_background": "light"
     },
     "output_type": "display_data"
    }
   ],
   "source": [
    "fig, ax = plt.subplots()\n",
    "sns.histplot(MI_DF_pid, x = 'child_phones', hue = \"dataset\", ax = ax);"
   ]
  },
  {
   "cell_type": "code",
   "execution_count": 33,
   "metadata": {
    "ExecuteTime": {
     "end_time": "2021-03-01T06:29:13.793810Z",
     "start_time": "2021-03-01T06:29:13.773465Z"
    }
   },
   "outputs": [],
   "source": [
    "MI_DF_pid['delta_aic'] = np.min([MI_DF_pid['AICc_concat'], MI_DF_pid['AICc_power']],axis=0) -  MI_DF_pid['AICc_exp']"
   ]
  },
  {
   "cell_type": "code",
   "execution_count": 34,
   "metadata": {
    "ExecuteTime": {
     "end_time": "2021-03-01T06:29:14.151032Z",
     "start_time": "2021-03-01T06:29:14.132226Z"
    }
   },
   "outputs": [],
   "source": [
    "MI_DF_pid['delta_aic'] = MI_DF_pid['AICc_concat'] -  MI_DF_pid['AICc_exp']"
   ]
  },
  {
   "cell_type": "code",
   "execution_count": 36,
   "metadata": {
    "ExecuteTime": {
     "end_time": "2021-03-01T06:29:16.505583Z",
     "start_time": "2021-03-01T06:29:16.487558Z"
    }
   },
   "outputs": [],
   "source": [
    "MI_DF_pid['log_child_phones'] = np.log(MI_DF_pid.child_phones.values.astype(float))"
   ]
  },
  {
   "cell_type": "code",
   "execution_count": 37,
   "metadata": {
    "ExecuteTime": {
     "end_time": "2021-03-01T06:29:16.680627Z",
     "start_time": "2021-03-01T06:29:16.667768Z"
    }
   },
   "outputs": [],
   "source": [
    "MI_DF_pid['log_delta_aic'] = np.log(1+np.max(MI_DF_pid.delta_aic)-np.array(MI_DF_pid.delta_aic))"
   ]
  },
  {
   "cell_type": "code",
   "execution_count": 38,
   "metadata": {
    "ExecuteTime": {
     "end_time": "2021-03-01T06:29:17.049730Z",
     "start_time": "2021-03-01T06:29:16.831048Z"
    }
   },
   "outputs": [
    {
     "data": {
      "image/png": "[encoded data removed]",
      "text/plain": [
       "<Figure size 432x288 with 1 Axes>"
      ]
     },
     "metadata": {
      "needs_background": "light"
     },
     "output_type": "display_data"
    }
   ],
   "source": [
    "plt.hist(MI_DF_pid['delta_aic'].values, bins=100);"
   ]
  },
  {
   "cell_type": "code",
   "execution_count": 39,
   "metadata": {
    "ExecuteTime": {
     "end_time": "2021-03-01T06:29:17.075581Z",
     "start_time": "2021-03-01T06:29:17.051751Z"
    }
   },
   "outputs": [
    {
     "data": {
      "text/plain": [
       "array(['Davis', 'Goad', 'Providence'], dtype=object)"
      ]
     },
     "execution_count": 39,
     "metadata": {},
     "output_type": "execute_result"
    }
   ],
   "source": [
    "c = MI_DF.dataset.values\n",
    "pal = sns.color_palette('Set1', len(np.unique(c)))\n",
    "pal_dict = {i:p for i, p in zip(np.unique(c), pal)}\n",
    "c_list = [pal_dict[i] for i in c]\n",
    "np.unique(c)"
   ]
  },
  {
   "cell_type": "code",
   "execution_count": 40,
   "metadata": {
    "ExecuteTime": {
     "end_time": "2021-03-01T06:29:17.429714Z",
     "start_time": "2021-03-01T06:29:17.413591Z"
    }
   },
   "outputs": [
    {
     "data": {
      "text/html": [
       "<svg  width=\"165\" height=\"55\"><rect x=\"0\" y=\"0\" width=\"55\" height=\"55\" style=\"fill:#e41a1c;stroke-width:2;stroke:rgb(255,255,255)\"/><rect x=\"55\" y=\"0\" width=\"55\" height=\"55\" style=\"fill:#377eb8;stroke-width:2;stroke:rgb(255,255,255)\"/><rect x=\"110\" y=\"0\" width=\"55\" height=\"55\" style=\"fill:#4daf4a;stroke-width:2;stroke:rgb(255,255,255)\"/></svg>"
      ],
      "text/plain": [
       "[(0.8941176470588236, 0.10196078431372549, 0.10980392156862745),\n",
       " (0.21568627450980393, 0.49411764705882355, 0.7215686274509804),\n",
       " (0.30196078431372547, 0.6862745098039216, 0.2901960784313726)]"
      ]
     },
     "execution_count": 40,
     "metadata": {},
     "output_type": "execute_result"
    }
   ],
   "source": [
    "pal"
   ]
  },
  {
   "cell_type": "code",
   "execution_count": 41,
   "metadata": {
    "ExecuteTime": {
     "end_time": "2021-03-01T06:29:19.534018Z",
     "start_time": "2021-03-01T06:29:17.706842Z"
    }
   },
   "outputs": [
    {
     "data": {
      "image/png": "[encoded data removed]",
      "text/plain": [
       "<Figure size 631x540 with 12 Axes>"
      ]
     },
     "metadata": {
      "needs_background": "light"
     },
     "output_type": "display_data"
    }
   ],
   "source": [
    "g = sns.pairplot(\n",
    "    MI_DF_pid[MI_DF_pid.prop_phones < 1][\n",
    "        [\"log_child_phones\", \"delta_aic\", \"prop_phones\", \"dataset\"] # \"age\"\n",
    "    ],\n",
    "    hue = 'dataset',\n",
    "    kind=\"reg\",\n",
    "    plot_kws={\"scatter_kws\":{\"s\": 2, \"alpha\": 1}},\n",
    "    diag_kind=\"hist\",\n",
    ")"
   ]
  },
  {
   "cell_type": "code",
   "execution_count": 42,
   "metadata": {
    "ExecuteTime": {
     "end_time": "2021-03-01T06:29:19.554123Z",
     "start_time": "2021-03-01T06:29:19.536169Z"
    }
   },
   "outputs": [],
   "source": [
    "from scipy.stats import pearsonr"
   ]
  },
  {
   "cell_type": "code",
   "execution_count": 43,
   "metadata": {
    "ExecuteTime": {
     "end_time": "2021-03-01T06:29:20.106651Z",
     "start_time": "2021-03-01T06:29:19.556526Z"
    }
   },
   "outputs": [
    {
     "name": "stdout",
     "output_type": "stream",
     "text": [
      "(0.04564374436636429, 0.23875715129493086)\n"
     ]
    },
    {
     "data": {
      "text/plain": [
       "Text(0.5, 0, '# phones')"
      ]
     },
     "execution_count": 43,
     "metadata": {},
     "output_type": "execute_result"
    },
    {
     "data": {
      "image/png": "[encoded data removed]",
      "text/plain": [
       "<Figure size 432x288 with 1 Axes>"
      ]
     },
     "metadata": {
      "needs_background": "light"
     },
     "output_type": "display_data"
    }
   ],
   "source": [
    "fig, ax = plt.subplots()\n",
    "x = np.array(MI_DF_pid.child_phones.values).astype(float)\n",
    "y = np.array(MI_DF_pid.intercept)\n",
    "print(pearsonr(x,y))\n",
    "ax.scatter(x, y, s=1, alpha = 1, c = c_list);\n",
    "#ax.set_ylim([-10,10])\n",
    "ax.set_xscale('log')\n",
    "ax.set_yscale('log')\n",
    "\n",
    "ax.set_ylabel('p_decay_const')\n",
    "ax.set_xlabel('# phones')"
   ]
  },
  {
   "cell_type": "code",
   "execution_count": 44,
   "metadata": {
    "ExecuteTime": {
     "end_time": "2021-03-01T06:29:20.129559Z",
     "start_time": "2021-03-01T06:29:20.108256Z"
    }
   },
   "outputs": [
    {
     "data": {
      "text/html": [
       "<div>\n",
       "<style scoped>\n",
       "    .dataframe tbody tr th:only-of-type {\n",
       "        vertical-align: middle;\n",
       "    }\n",
       "\n",
       "    .dataframe tbody tr th {\n",
       "        vertical-align: top;\n",
       "    }\n",
       "\n",
       "    .dataframe thead th {\n",
       "        text-align: right;\n",
       "    }\n",
       "</style>\n",
       "<table border=\"1\" class=\"dataframe\">\n",
       "  <thead>\n",
       "    <tr style=\"text-align: right;\">\n",
       "      <th></th>\n",
       "      <th>n_phones</th>\n",
       "      <th>n_phones</th>\n",
       "    </tr>\n",
       "  </thead>\n",
       "  <tbody>\n",
       "    <tr>\n",
       "      <th>0</th>\n",
       "      <td>2751</td>\n",
       "      <td>669</td>\n",
       "    </tr>\n",
       "    <tr>\n",
       "      <th>1</th>\n",
       "      <td>2747</td>\n",
       "      <td>574</td>\n",
       "    </tr>\n",
       "    <tr>\n",
       "      <th>2</th>\n",
       "      <td>1920</td>\n",
       "      <td>500</td>\n",
       "    </tr>\n",
       "    <tr>\n",
       "      <th>3</th>\n",
       "      <td>1508</td>\n",
       "      <td>429</td>\n",
       "    </tr>\n",
       "    <tr>\n",
       "      <th>4</th>\n",
       "      <td>1653</td>\n",
       "      <td>426</td>\n",
       "    </tr>\n",
       "    <tr>\n",
       "      <th>...</th>\n",
       "      <td>...</td>\n",
       "      <td>...</td>\n",
       "    </tr>\n",
       "    <tr>\n",
       "      <th>663</th>\n",
       "      <td>2730</td>\n",
       "      <td>710</td>\n",
       "    </tr>\n",
       "    <tr>\n",
       "      <th>664</th>\n",
       "      <td>2360</td>\n",
       "      <td>642</td>\n",
       "    </tr>\n",
       "    <tr>\n",
       "      <th>665</th>\n",
       "      <td>2356</td>\n",
       "      <td>621</td>\n",
       "    </tr>\n",
       "    <tr>\n",
       "      <th>666</th>\n",
       "      <td>2094</td>\n",
       "      <td>573</td>\n",
       "    </tr>\n",
       "    <tr>\n",
       "      <th>667</th>\n",
       "      <td>1904</td>\n",
       "      <td>511</td>\n",
       "    </tr>\n",
       "  </tbody>\n",
       "</table>\n",
       "<p>668 rows × 2 columns</p>\n",
       "</div>"
      ],
      "text/plain": [
       "    n_phones n_phones\n",
       "0       2751      669\n",
       "1       2747      574\n",
       "2       1920      500\n",
       "3       1508      429\n",
       "4       1653      426\n",
       "..       ...      ...\n",
       "663     2730      710\n",
       "664     2360      642\n",
       "665     2356      621\n",
       "666     2094      573\n",
       "667     1904      511\n",
       "\n",
       "[668 rows x 2 columns]"
      ]
     },
     "execution_count": 44,
     "metadata": {},
     "output_type": "execute_result"
    }
   ],
   "source": [
    "MI_DF_pid.n_phones"
   ]
  },
  {
   "cell_type": "code",
   "execution_count": 45,
   "metadata": {
    "ExecuteTime": {
     "end_time": "2021-03-01T06:29:23.846473Z",
     "start_time": "2021-03-01T06:29:23.736251Z"
    }
   },
   "outputs": [
    {
     "name": "stdout",
     "output_type": "stream",
     "text": [
      "(0.743334889695168, 2.0763516158205983e-118)\n"
     ]
    },
    {
     "data": {
      "text/plain": [
       "Text(0.5, 0, '# words')"
      ]
     },
     "execution_count": 45,
     "metadata": {},
     "output_type": "execute_result"
    },
    {
     "data": {
      "image/png": "[encoded data removed]",
      "text/plain": [
       "<Figure size 432x288 with 1 Axes>"
      ]
     },
     "metadata": {
      "needs_background": "light"
     },
     "output_type": "display_data"
    }
   ],
   "source": [
    "fig, ax = plt.subplots()\n",
    "x = np.log(np.array(MI_DF_pid.child_phones.values).astype(float))\n",
    "y = np.log(1+np.max(MI_DF_pid.delta_aic)-np.array(MI_DF_pid.delta_aic))\n",
    "print(pearsonr(x,y))\n",
    "ax.scatter(x, y, s=1, alpha = 1, c = c_list);\n",
    "#ax.set_ylim([-10,10])\n",
    "#ax.set_xscale('log')\n",
    "#ax.set_yscale('symlog')\n",
    "\n",
    "ax.set_ylabel('Delta AIC')\n",
    "ax.set_xlabel('# words')"
   ]
  },
  {
   "cell_type": "code",
   "execution_count": 46,
   "metadata": {
    "ExecuteTime": {
     "end_time": "2021-03-01T06:29:24.038464Z",
     "start_time": "2021-03-01T06:29:23.918299Z"
    }
   },
   "outputs": [
    {
     "name": "stdout",
     "output_type": "stream",
     "text": [
      "(-0.5610817537459316, 5.0432288257319e-27)\n"
     ]
    },
    {
     "data": {
      "text/plain": [
       "Text(0.5, 0, '# words')"
      ]
     },
     "execution_count": 46,
     "metadata": {},
     "output_type": "execute_result"
    },
    {
     "data": {
      "image/png": "[encoded data removed]",
      "text/plain": [
       "<Figure size 432x288 with 1 Axes>"
      ]
     },
     "metadata": {
      "needs_background": "light"
     },
     "output_type": "display_data"
    }
   ],
   "source": [
    "fig, ax = plt.subplots()\n",
    "mask = MI_DF_pid.prop_phones < 1\n",
    "x = np.log(np.array(MI_DF_pid[mask].child_phones.values).astype(float))\n",
    "y = np.array(MI_DF_pid[mask].delta_aic)\n",
    "print(pearsonr(x,y))\n",
    "ax.scatter(x, y, s=1, alpha = 1,c = np.array(c_list)[mask]);\n",
    "#ax.set_ylim([-10,10])\n",
    "#ax.set_xscale('log')\n",
    "#ax.set_yscale('symlog')\n",
    "\n",
    "ax.set_ylabel('Delta AIC')\n",
    "ax.set_xlabel('# words')"
   ]
  },
  {
   "cell_type": "code",
   "execution_count": 47,
   "metadata": {
    "ExecuteTime": {
     "end_time": "2021-03-01T06:29:24.227858Z",
     "start_time": "2021-03-01T06:29:24.101417Z"
    }
   },
   "outputs": [
    {
     "name": "stdout",
     "output_type": "stream",
     "text": [
      "(-0.4975197948784889, 9.965144126254383e-21)\n"
     ]
    },
    {
     "data": {
      "text/plain": [
       "Text(0.5, 0, '# words')"
      ]
     },
     "execution_count": 47,
     "metadata": {},
     "output_type": "execute_result"
    },
    {
     "data": {
      "image/png": "[encoded data removed]",
      "text/plain": [
       "<Figure size 432x288 with 1 Axes>"
      ]
     },
     "metadata": {
      "needs_background": "light"
     },
     "output_type": "display_data"
    }
   ],
   "source": [
    "fig, ax = plt.subplots()\n",
    "mask = MI_DF_pid.prop_phones < 1\n",
    "x = np.array(MI_DF_pid[mask].child_phones.values).astype(float)\n",
    "y = np.array(MI_DF_pid[mask].delta_aic)\n",
    "print(pearsonr(x,y))\n",
    "ax.scatter(x, y, s=1, alpha = 1,c = np.array(c_list)[mask]);\n",
    "#ax.set_ylim([-10,10])\n",
    "#ax.set_xscale('log')\n",
    "#ax.set_yscale('symlog')\n",
    "\n",
    "ax.set_ylabel('Delta AIC')\n",
    "ax.set_xlabel('# words')"
   ]
  },
  {
   "cell_type": "code",
   "execution_count": 48,
   "metadata": {
    "ExecuteTime": {
     "end_time": "2021-03-01T06:29:24.349048Z",
     "start_time": "2021-03-01T06:29:24.229322Z"
    }
   },
   "outputs": [
    {
     "name": "stdout",
     "output_type": "stream",
     "text": [
      "(0.2964590683472205, 1.096263045222406e-07)\n"
     ]
    },
    {
     "data": {
      "text/plain": [
       "Text(0.5, 0, 'Age')"
      ]
     },
     "execution_count": 48,
     "metadata": {},
     "output_type": "execute_result"
    },
    {
     "data": {
      "image/png": "[encoded data removed]",
      "text/plain": [
       "<Figure size 432x288 with 1 Axes>"
      ]
     },
     "metadata": {
      "needs_background": "light"
     },
     "output_type": "display_data"
    }
   ],
   "source": [
    "fig, ax = plt.subplots()\n",
    "mask = MI_DF_pid.prop_phones < 1\n",
    "x = np.array(MI_DF_pid[mask].age.values).astype(float)\n",
    "y = np.array(MI_DF_pid[mask].delta_aic)\n",
    "print(pearsonr(x,y))\n",
    "ax.scatter(x, y, s=1, alpha = 1,c = np.array(c_list)[mask]);\n",
    "#ax.set_ylim([-10,10])\n",
    "#ax.set_xscale('log')\n",
    "#ax.set_yscale('symlog')\n",
    "\n",
    "ax.set_ylabel('Delta AIC')\n",
    "ax.set_xlabel('Age')"
   ]
  },
  {
   "cell_type": "code",
   "execution_count": 49,
   "metadata": {
    "ExecuteTime": {
     "end_time": "2021-03-01T06:29:24.478249Z",
     "start_time": "2021-03-01T06:29:24.359610Z"
    }
   },
   "outputs": [
    {
     "name": "stdout",
     "output_type": "stream",
     "text": [
      "(-0.3628707672704944, 4.7551252955324324e-11)\n"
     ]
    },
    {
     "data": {
      "text/plain": [
       "Text(0.5, 0, 'Prop words by child')"
      ]
     },
     "execution_count": 49,
     "metadata": {},
     "output_type": "execute_result"
    },
    {
     "data": {
      "image/png": "[encoded data removed]",
      "text/plain": [
       "<Figure size 432x288 with 1 Axes>"
      ]
     },
     "metadata": {
      "needs_background": "light"
     },
     "output_type": "display_data"
    }
   ],
   "source": [
    "fig, ax = plt.subplots()\n",
    "mask = MI_DF_pid.prop_phones < 1\n",
    "x = np.array(MI_DF_pid[mask].prop_phones.values).astype(float)\n",
    "y = np.array(MI_DF_pid[mask].delta_aic)\n",
    "print(pearsonr(x,y))\n",
    "ax.scatter(x, y, s=1, alpha = 1, c = np.array(c_list)[mask]);\n",
    "#ax.set_ylim([-10,10])\n",
    "#ax.set_xscale('log')\n",
    "#ax.set_yscale('symlog')\n",
    "\n",
    "ax.set_ylabel('Delta AIC')\n",
    "ax.set_xlabel('Prop words by child')"
   ]
  },
  {
   "cell_type": "code",
   "execution_count": 50,
   "metadata": {
    "ExecuteTime": {
     "end_time": "2021-03-01T06:29:24.623074Z",
     "start_time": "2021-03-01T06:29:24.512122Z"
    }
   },
   "outputs": [
    {
     "name": "stdout",
     "output_type": "stream",
     "text": [
      "(0.6333164158772636, 4.779229247728442e-36)\n"
     ]
    },
    {
     "data": {
      "text/plain": [
       "Text(0.5, 0, 'Prop words by child')"
      ]
     },
     "execution_count": 50,
     "metadata": {},
     "output_type": "execute_result"
    },
    {
     "data": {
      "image/png": "[encoded data removed]",
      "text/plain": [
       "<Figure size 432x288 with 1 Axes>"
      ]
     },
     "metadata": {
      "needs_background": "light"
     },
     "output_type": "display_data"
    }
   ],
   "source": [
    "fig, ax = plt.subplots()\n",
    "mask = MI_DF_pid.prop_phones < 1\n",
    "x = np.array(MI_DF_pid[mask].prop_phones.values).astype(float)\n",
    "y =np.array(MI_DF_pid[mask].log_child_phones.values)\n",
    "print(pearsonr(x,y))\n",
    "ax.scatter(x, y, s=1, alpha = 1, c = np.array(c_list)[mask]);\n",
    "#ax.set_ylim([-10,10])\n",
    "#ax.set_yscale('log')\n",
    "#ax.set_yscale('symlog')\n",
    "\n",
    "ax.set_ylabel('# words')\n",
    "ax.set_xlabel('Prop words by child')"
   ]
  },
  {
   "cell_type": "code",
   "execution_count": 51,
   "metadata": {
    "ExecuteTime": {
     "end_time": "2021-03-01T06:29:24.800617Z",
     "start_time": "2021-03-01T06:29:24.690677Z"
    }
   },
   "outputs": [
    {
     "name": "stdout",
     "output_type": "stream",
     "text": [
      "(-0.32291579386979374, 6.258024609707936e-09)\n"
     ]
    },
    {
     "data": {
      "text/plain": [
       "Text(0.5, 0, 'Prop words by child')"
      ]
     },
     "execution_count": 51,
     "metadata": {},
     "output_type": "execute_result"
    },
    {
     "data": {
      "image/png": "[encoded data removed]",
      "text/plain": [
       "<Figure size 432x288 with 1 Axes>"
      ]
     },
     "metadata": {
      "needs_background": "light"
     },
     "output_type": "display_data"
    }
   ],
   "source": [
    "fig, ax = plt.subplots()\n",
    "mask = MI_DF_pid.prop_phones < 1\n",
    "x = np.array(MI_DF_pid[mask].prop_phones.values).astype(float)  \n",
    "y = np.array(MI_DF_pid[mask].delta_aic)/ np.log(np.array(MI_DF_pid[mask].child_phones.values).astype(float))\n",
    "print(pearsonr(x,y))\n",
    "ax.scatter(x, y, s=1, alpha = 1, c = np.array(c_list)[mask]);\n",
    "#ax.set_ylim([-10,10])\n",
    "#ax.set_yscale('symlog')\n",
    "ax.set_ylabel('Delta AIC / # words')\n",
    "ax.set_xlabel('Prop words by child')"
   ]
  },
  {
   "cell_type": "markdown",
   "metadata": {},
   "source": [
    "### model "
   ]
  },
  {
   "cell_type": "code",
   "execution_count": 52,
   "metadata": {
    "ExecuteTime": {
     "end_time": "2021-03-01T06:29:25.001955Z",
     "start_time": "2021-03-01T06:29:24.956619Z"
    }
   },
   "outputs": [
    {
     "data": {
      "text/html": [
       "<div>\n",
       "<style scoped>\n",
       "    .dataframe tbody tr th:only-of-type {\n",
       "        vertical-align: middle;\n",
       "    }\n",
       "\n",
       "    .dataframe tbody tr th {\n",
       "        vertical-align: top;\n",
       "    }\n",
       "\n",
       "    .dataframe thead th {\n",
       "        text-align: right;\n",
       "    }\n",
       "</style>\n",
       "<table border=\"1\" class=\"dataframe\">\n",
       "  <thead>\n",
       "    <tr style=\"text-align: right;\">\n",
       "      <th></th>\n",
       "      <th>MI</th>\n",
       "      <th>MI_var</th>\n",
       "      <th>shuff_MI</th>\n",
       "      <th>shuff_MI_var</th>\n",
       "      <th>distances</th>\n",
       "      <th>age_cohort_low</th>\n",
       "      <th>age_cohort_high</th>\n",
       "      <th>n_phones</th>\n",
       "      <th>n_unique_phones</th>\n",
       "      <th>age</th>\n",
       "      <th>...</th>\n",
       "      <th>total_phones</th>\n",
       "      <th>prop_phones</th>\n",
       "      <th>e_init</th>\n",
       "      <th>e_decay_const</th>\n",
       "      <th>p_init</th>\n",
       "      <th>p_decay_const</th>\n",
       "      <th>intercept</th>\n",
       "      <th>delta_aic</th>\n",
       "      <th>log_child_phones</th>\n",
       "      <th>log_delta_aic</th>\n",
       "    </tr>\n",
       "  </thead>\n",
       "  <tbody>\n",
       "    <tr>\n",
       "      <th>0</th>\n",
       "      <td>[4.356248338413511, 4.047189090769368, 3.92068...</td>\n",
       "      <td>[0.051951813332510775, 0.05127182251496144, 0....</td>\n",
       "      <td>[3.602903551230197, 3.6005794590353837, 3.6043...</td>\n",
       "      <td>[0.050980135620703027, 0.05097211442089026, 0....</td>\n",
       "      <td>[1, 2, 3, 4, 5, 6, 7, 8, 9, 10, 11, 12, 13, 14...</td>\n",
       "      <td>0.5</td>\n",
       "      <td>1</td>\n",
       "      <td>2751</td>\n",
       "      <td>1</td>\n",
       "      <td>1.000</td>\n",
       "      <td>...</td>\n",
       "      <td>10692</td>\n",
       "      <td>0.250281</td>\n",
       "      <td>0.203142</td>\n",
       "      <td>0.514978</td>\n",
       "      <td>5.802910e-01</td>\n",
       "      <td>-0.860633</td>\n",
       "      <td>5.210685e-02</td>\n",
       "      <td>-87.357772</td>\n",
       "      <td>7.892078</td>\n",
       "      <td>4.558598</td>\n",
       "    </tr>\n",
       "    <tr>\n",
       "      <th>1</th>\n",
       "      <td>[4.477608516941267, 4.1993657535591264, 3.9954...</td>\n",
       "      <td>[0.05858440505243816, 0.058077478756595045, 0....</td>\n",
       "      <td>[3.5764786125510426, 3.5830033856535106, 3.585...</td>\n",
       "      <td>[0.05649948441070945, 0.05645350178285826, 0.0...</td>\n",
       "      <td>[1, 2, 3, 4, 5, 6, 7, 8, 9, 10, 11, 12, 13, 14...</td>\n",
       "      <td>0.5</td>\n",
       "      <td>1</td>\n",
       "      <td>2747</td>\n",
       "      <td>1</td>\n",
       "      <td>1.000</td>\n",
       "      <td>...</td>\n",
       "      <td>17613</td>\n",
       "      <td>0.391075</td>\n",
       "      <td>0.876177</td>\n",
       "      <td>0.507513</td>\n",
       "      <td>3.950469e-01</td>\n",
       "      <td>-0.576680</td>\n",
       "      <td>4.727396e-09</td>\n",
       "      <td>-76.793894</td>\n",
       "      <td>8.837536</td>\n",
       "      <td>4.441305</td>\n",
       "    </tr>\n",
       "    <tr>\n",
       "      <th>2</th>\n",
       "      <td>[4.066396779927116, 4.034615560966813, 3.74323...</td>\n",
       "      <td>[0.06117625630338075, 0.06011312327007976, 0.0...</td>\n",
       "      <td>[3.474562089813773, 3.4893603574233776, 3.4778...</td>\n",
       "      <td>[0.0593948160025596, 0.059378692862158494, 0.0...</td>\n",
       "      <td>[1, 2, 3, 4, 5, 6, 7, 8, 9, 10, 11, 12, 13, 14...</td>\n",
       "      <td>0.5</td>\n",
       "      <td>1</td>\n",
       "      <td>1920</td>\n",
       "      <td>1</td>\n",
       "      <td>0.833</td>\n",
       "      <td>...</td>\n",
       "      <td>4500</td>\n",
       "      <td>1.000000</td>\n",
       "      <td>0.784232</td>\n",
       "      <td>0.442820</td>\n",
       "      <td>4.232348e-09</td>\n",
       "      <td>-0.016570</td>\n",
       "      <td>1.138039e-01</td>\n",
       "      <td>4.392530</td>\n",
       "      <td>8.411833</td>\n",
       "      <td>1.308131</td>\n",
       "    </tr>\n",
       "  </tbody>\n",
       "</table>\n",
       "<p>3 rows × 38 columns</p>\n",
       "</div>"
      ],
      "text/plain": [
       "                                                  MI  \\\n",
       "0  [4.356248338413511, 4.047189090769368, 3.92068...   \n",
       "1  [4.477608516941267, 4.1993657535591264, 3.9954...   \n",
       "2  [4.066396779927116, 4.034615560966813, 3.74323...   \n",
       "\n",
       "                                              MI_var  \\\n",
       "0  [0.051951813332510775, 0.05127182251496144, 0....   \n",
       "1  [0.05858440505243816, 0.058077478756595045, 0....   \n",
       "2  [0.06117625630338075, 0.06011312327007976, 0.0...   \n",
       "\n",
       "                                            shuff_MI  \\\n",
       "0  [3.602903551230197, 3.6005794590353837, 3.6043...   \n",
       "1  [3.5764786125510426, 3.5830033856535106, 3.585...   \n",
       "2  [3.474562089813773, 3.4893603574233776, 3.4778...   \n",
       "\n",
       "                                        shuff_MI_var  \\\n",
       "0  [0.050980135620703027, 0.05097211442089026, 0....   \n",
       "1  [0.05649948441070945, 0.05645350178285826, 0.0...   \n",
       "2  [0.0593948160025596, 0.059378692862158494, 0.0...   \n",
       "\n",
       "                                           distances  age_cohort_low  \\\n",
       "0  [1, 2, 3, 4, 5, 6, 7, 8, 9, 10, 11, 12, 13, 14...             0.5   \n",
       "1  [1, 2, 3, 4, 5, 6, 7, 8, 9, 10, 11, 12, 13, 14...             0.5   \n",
       "2  [1, 2, 3, 4, 5, 6, 7, 8, 9, 10, 11, 12, 13, 14...             0.5   \n",
       "\n",
       "  age_cohort_high n_phones n_unique_phones    age  ... total_phones  \\\n",
       "0               1     2751               1  1.000  ...        10692   \n",
       "1               1     2747               1  1.000  ...        17613   \n",
       "2               1     1920               1  0.833  ...         4500   \n",
       "\n",
       "  prop_phones    e_init e_decay_const        p_init p_decay_const  \\\n",
       "0    0.250281  0.203142      0.514978  5.802910e-01     -0.860633   \n",
       "1    0.391075  0.876177      0.507513  3.950469e-01     -0.576680   \n",
       "2    1.000000  0.784232      0.442820  4.232348e-09     -0.016570   \n",
       "\n",
       "      intercept  delta_aic  log_child_phones  log_delta_aic  \n",
       "0  5.210685e-02 -87.357772          7.892078       4.558598  \n",
       "1  4.727396e-09 -76.793894          8.837536       4.441305  \n",
       "2  1.138039e-01   4.392530          8.411833       1.308131  \n",
       "\n",
       "[3 rows x 38 columns]"
      ]
     },
     "execution_count": 52,
     "metadata": {},
     "output_type": "execute_result"
    }
   ],
   "source": [
    "MI_DF_pid[:3]"
   ]
  },
  {
   "cell_type": "code",
   "execution_count": 53,
   "metadata": {
    "ExecuteTime": {
     "end_time": "2021-03-01T06:29:25.149930Z",
     "start_time": "2021-03-01T06:29:25.114025Z"
    }
   },
   "outputs": [
    {
     "data": {
      "application/vnd.jupyter.widget-view+json": {
       "model_id": "d5305759f0334f4e9e66f77d0e86f85f",
       "version_major": 2,
       "version_minor": 0
      },
      "text/plain": [
       "  0%|          | 0/668 [00:00<?, ?it/s]"
      ]
     },
     "metadata": {},
     "output_type": "display_data"
    }
   ],
   "source": [
    "import re\n",
    "def convert_age(age_year):\n",
    "    \"Caclculate age in months from a string in CHILDES format\"\n",
    "    if age_year[-1] == 'Y':\n",
    "        age_year += '0'\n",
    "    m = re.match(\"P(\\d+)Y(\\d+)M?(\\d?\\d?)D?\", age_year)\n",
    "    age_month = int(m.group(1)) * 12 + int(m.group(2))\n",
    "    try:\n",
    "        if int(m.group(3)) > 15:\n",
    "            age_month += 1\n",
    "    # some corpora don't have age information?\n",
    "    except ValueError as e:\n",
    "        pass\n",
    "    return age_month\n",
    "\n",
    "MI_DF_pid[\"age_months\"] = [\n",
    "    convert_age(i) if type(i) == str else np.nan for i in tqdm(MI_DF_pid.age.values)\n",
    "]\n",
    "MI_DF_pid[\"age_years\"] = MI_DF_pid[\"age_months\"] / 12"
   ]
  },
  {
   "cell_type": "code",
   "execution_count": 54,
   "metadata": {
    "ExecuteTime": {
     "end_time": "2021-03-01T06:29:25.361035Z",
     "start_time": "2021-03-01T06:29:25.246949Z"
    }
   },
   "outputs": [],
   "source": [
    "import statsmodels.formula.api as smf\n",
    "from statsmodels.stats.anova import anova_lm"
   ]
  },
  {
   "cell_type": "code",
   "execution_count": 55,
   "metadata": {
    "ExecuteTime": {
     "end_time": "2021-03-01T06:29:25.428622Z",
     "start_time": "2021-03-01T06:29:25.408450Z"
    }
   },
   "outputs": [],
   "source": [
    "MI_DF_pid['child_phones'] = MI_DF_pid['child_phones'].astype('float')"
   ]
  },
  {
   "cell_type": "code",
   "execution_count": 56,
   "metadata": {
    "ExecuteTime": {
     "end_time": "2021-03-01T06:29:25.564384Z",
     "start_time": "2021-03-01T06:29:25.548139Z"
    }
   },
   "outputs": [],
   "source": [
    "MI_DF_pid['log_child_phones'] = np.log(MI_DF_pid.child_phones)"
   ]
  },
  {
   "cell_type": "code",
   "execution_count": 57,
   "metadata": {
    "ExecuteTime": {
     "end_time": "2021-03-01T06:29:25.715628Z",
     "start_time": "2021-03-01T06:29:25.699034Z"
    }
   },
   "outputs": [],
   "source": [
    "MI_DF_pid['log_delta_aic'] = np.log(1+np.max(MI_DF_pid.delta_aic)-np.array(MI_DF_pid.delta_aic))"
   ]
  },
  {
   "cell_type": "code",
   "execution_count": 58,
   "metadata": {
    "ExecuteTime": {
     "end_time": "2021-03-01T06:29:25.895111Z",
     "start_time": "2021-03-01T06:29:25.851970Z"
    },
    "scrolled": false
   },
   "outputs": [
    {
     "name": "stdout",
     "output_type": "stream",
     "text": [
      "                            OLS Regression Results                            \n",
      "==============================================================================\n",
      "Dep. Variable:              delta_aic   R-squared:                       0.363\n",
      "Model:                            OLS   Adj. R-squared:                  0.357\n",
      "Method:                 Least Squares   F-statistic:                     57.89\n",
      "Date:                Sun, 28 Feb 2021   Prob (F-statistic):           1.19e-29\n",
      "Time:                        22:29:25   Log-Likelihood:                -1442.1\n",
      "No. Observations:                 309   AIC:                             2892.\n",
      "Df Residuals:                     305   BIC:                             2907.\n",
      "Df Model:                           3                                         \n",
      "Covariance Type:            nonrobust                                         \n",
      "====================================================================================\n",
      "                       coef    std err          t      P>|t|      [0.025      0.975]\n",
      "------------------------------------------------------------------------------------\n",
      "Intercept           64.0561     12.430      5.153      0.000      39.596      88.516\n",
      "log_child_phones   -13.1484      1.532     -8.585      0.000     -16.162     -10.135\n",
      "age                 10.3179      2.154      4.790      0.000       6.079      14.557\n",
      "prop_phones         -5.2362     11.550     -0.453      0.651     -27.963      17.491\n",
      "==============================================================================\n",
      "Omnibus:                       75.341   Durbin-Watson:                   1.785\n",
      "Prob(Omnibus):                  0.000   Jarque-Bera (JB):              150.008\n",
      "Skew:                          -1.264   Prob(JB):                     2.67e-33\n",
      "Kurtosis:                       5.294   Cond. No.                         83.6\n",
      "==============================================================================\n",
      "\n",
      "Notes:\n",
      "[1] Standard Errors assume that the covariance matrix of the errors is correctly specified.\n"
     ]
    }
   ],
   "source": [
    "results = smf.ols('delta_aic ~ log_child_phones + dataset + age + prop_phones', data=MI_DF_pid[MI_DF_pid.prop_phones<1]).fit()\n",
    "print(results.summary())"
   ]
  },
  {
   "cell_type": "code",
   "execution_count": 59,
   "metadata": {
    "ExecuteTime": {
     "end_time": "2021-03-01T06:29:26.399698Z",
     "start_time": "2021-03-01T06:29:26.354738Z"
    }
   },
   "outputs": [
    {
     "data": {
      "text/html": [
       "<div>\n",
       "<style scoped>\n",
       "    .dataframe tbody tr th:only-of-type {\n",
       "        vertical-align: middle;\n",
       "    }\n",
       "\n",
       "    .dataframe tbody tr th {\n",
       "        vertical-align: top;\n",
       "    }\n",
       "\n",
       "    .dataframe thead th {\n",
       "        text-align: right;\n",
       "    }\n",
       "</style>\n",
       "<table border=\"1\" class=\"dataframe\">\n",
       "  <thead>\n",
       "    <tr style=\"text-align: right;\">\n",
       "      <th></th>\n",
       "      <th>df_resid</th>\n",
       "      <th>ssr</th>\n",
       "      <th>df_diff</th>\n",
       "      <th>ss_diff</th>\n",
       "      <th>F</th>\n",
       "      <th>Pr(&gt;F)</th>\n",
       "    </tr>\n",
       "  </thead>\n",
       "  <tbody>\n",
       "    <tr>\n",
       "      <th>0</th>\n",
       "      <td>306.0</td>\n",
       "      <td>204924.983110</td>\n",
       "      <td>0.0</td>\n",
       "      <td>NaN</td>\n",
       "      <td>NaN</td>\n",
       "      <td>NaN</td>\n",
       "    </tr>\n",
       "    <tr>\n",
       "      <th>1</th>\n",
       "      <td>305.0</td>\n",
       "      <td>204786.975483</td>\n",
       "      <td>1.0</td>\n",
       "      <td>138.007627</td>\n",
       "      <td>0.205542</td>\n",
       "      <td>0.650607</td>\n",
       "    </tr>\n",
       "  </tbody>\n",
       "</table>\n",
       "</div>"
      ],
      "text/plain": [
       "   df_resid            ssr  df_diff     ss_diff         F    Pr(>F)\n",
       "0     306.0  204924.983110      0.0         NaN       NaN       NaN\n",
       "1     305.0  204786.975483      1.0  138.007627  0.205542  0.650607"
      ]
     },
     "execution_count": 59,
     "metadata": {},
     "output_type": "execute_result"
    }
   ],
   "source": [
    "base_model = smf.ols('delta_aic ~ log_child_phones + dataset + age', data=MI_DF_pid[MI_DF_pid.prop_phones<1]).fit()\n",
    "full_model = smf.ols('delta_aic ~ log_child_phones + dataset + age + prop_phones', data=MI_DF_pid[MI_DF_pid.prop_phones<1]).fit()\n",
    "anova_lm(base_model,full_model)"
   ]
  },
  {
   "cell_type": "code",
   "execution_count": 60,
   "metadata": {
    "ExecuteTime": {
     "end_time": "2021-03-01T06:29:26.818805Z",
     "start_time": "2021-03-01T06:29:26.786043Z"
    },
    "scrolled": false
   },
   "outputs": [
    {
     "name": "stdout",
     "output_type": "stream",
     "text": [
      "                            OLS Regression Results                            \n",
      "==============================================================================\n",
      "Dep. Variable:          log_delta_aic   R-squared:                       0.410\n",
      "Model:                            OLS   Adj. R-squared:                  0.404\n",
      "Method:                 Least Squares   F-statistic:                     70.68\n",
      "Date:                Sun, 28 Feb 2021   Prob (F-statistic):           9.97e-35\n",
      "Time:                        22:29:26   Log-Likelihood:                -348.11\n",
      "No. Observations:                 309   AIC:                             704.2\n",
      "Df Residuals:                     305   BIC:                             719.2\n",
      "Df Model:                           3                                         \n",
      "Covariance Type:            nonrobust                                         \n",
      "====================================================================================\n",
      "                       coef    std err          t      P>|t|      [0.025      0.975]\n",
      "------------------------------------------------------------------------------------\n",
      "Intercept           -0.0435      0.360     -0.121      0.904      -0.753       0.666\n",
      "log_child_phones     0.4324      0.044      9.738      0.000       0.345       0.520\n",
      "age                 -0.2706      0.062     -4.332      0.000      -0.394      -0.148\n",
      "prop_phones          0.2257      0.335      0.674      0.501      -0.433       0.885\n",
      "==============================================================================\n",
      "Omnibus:                        0.589   Durbin-Watson:                   1.924\n",
      "Prob(Omnibus):                  0.745   Jarque-Bera (JB):                0.705\n",
      "Skew:                           0.040   Prob(JB):                        0.703\n",
      "Kurtosis:                       2.780   Cond. No.                         83.6\n",
      "==============================================================================\n",
      "\n",
      "Notes:\n",
      "[1] Standard Errors assume that the covariance matrix of the errors is correctly specified.\n"
     ]
    }
   ],
   "source": [
    "results = smf.ols('log_delta_aic ~ log_child_phones + dataset + age + prop_phones', data=MI_DF_pid[MI_DF_pid.prop_phones<1]).fit()\n",
    "print(results.summary())"
   ]
  },
  {
   "cell_type": "code",
   "execution_count": 61,
   "metadata": {
    "ExecuteTime": {
     "end_time": "2021-03-01T06:29:27.440820Z",
     "start_time": "2021-03-01T06:29:27.397996Z"
    }
   },
   "outputs": [
    {
     "data": {
      "text/html": [
       "<div>\n",
       "<style scoped>\n",
       "    .dataframe tbody tr th:only-of-type {\n",
       "        vertical-align: middle;\n",
       "    }\n",
       "\n",
       "    .dataframe tbody tr th {\n",
       "        vertical-align: top;\n",
       "    }\n",
       "\n",
       "    .dataframe thead th {\n",
       "        text-align: right;\n",
       "    }\n",
       "</style>\n",
       "<table border=\"1\" class=\"dataframe\">\n",
       "  <thead>\n",
       "    <tr style=\"text-align: right;\">\n",
       "      <th></th>\n",
       "      <th>df_resid</th>\n",
       "      <th>ssr</th>\n",
       "      <th>df_diff</th>\n",
       "      <th>ss_diff</th>\n",
       "      <th>F</th>\n",
       "      <th>Pr(&gt;F)</th>\n",
       "    </tr>\n",
       "  </thead>\n",
       "  <tbody>\n",
       "    <tr>\n",
       "      <th>0</th>\n",
       "      <td>306.0</td>\n",
       "      <td>204924.983110</td>\n",
       "      <td>0.0</td>\n",
       "      <td>NaN</td>\n",
       "      <td>NaN</td>\n",
       "      <td>NaN</td>\n",
       "    </tr>\n",
       "    <tr>\n",
       "      <th>1</th>\n",
       "      <td>305.0</td>\n",
       "      <td>204786.975483</td>\n",
       "      <td>1.0</td>\n",
       "      <td>138.007627</td>\n",
       "      <td>0.205542</td>\n",
       "      <td>0.650607</td>\n",
       "    </tr>\n",
       "  </tbody>\n",
       "</table>\n",
       "</div>"
      ],
      "text/plain": [
       "   df_resid            ssr  df_diff     ss_diff         F    Pr(>F)\n",
       "0     306.0  204924.983110      0.0         NaN       NaN       NaN\n",
       "1     305.0  204786.975483      1.0  138.007627  0.205542  0.650607"
      ]
     },
     "execution_count": 61,
     "metadata": {},
     "output_type": "execute_result"
    }
   ],
   "source": [
    "base_model = smf.ols('delta_aic ~ log_child_phones + dataset + age', data=MI_DF_pid[MI_DF_pid.prop_phones<1]).fit()\n",
    "full_model = smf.ols('delta_aic ~ log_child_phones + dataset + age + prop_phones', data=MI_DF_pid[MI_DF_pid.prop_phones<1]).fit()\n",
    "anova_lm(base_model,full_model)"
   ]
  },
  {
   "cell_type": "code",
   "execution_count": 62,
   "metadata": {
    "ExecuteTime": {
     "end_time": "2021-03-01T06:39:16.170594Z",
     "start_time": "2021-03-01T06:39:16.146144Z"
    }
   },
   "outputs": [
    {
     "data": {
      "text/plain": [
       "309"
      ]
     },
     "execution_count": 62,
     "metadata": {},
     "output_type": "execute_result"
    }
   ],
   "source": [
    "len(MI_DF_pid[MI_DF_pid.prop_phones<1])"
   ]
  },
  {
   "cell_type": "code",
   "execution_count": null,
   "metadata": {},
   "outputs": [],
   "source": []
  },
  {
   "cell_type": "code",
   "execution_count": null,
   "metadata": {},
   "outputs": [],
   "source": []
  }
 ],
 "metadata": {
  "kernelspec": {
   "display_name": "Python [conda env:childes-paper]",
   "language": "python",
   "name": "conda-env-childes-paper-py"
  },
  "language_info": {
   "codemirror_mode": {
    "name": "ipython",
    "version": 3
   },
   "file_extension": ".py",
   "mimetype": "text/x-python",
   "name": "python",
   "nbconvert_exporter": "python",
   "pygments_lexer": "ipython3",
   "version": "3.9.1"
  }
 },
 "nbformat": 4,
 "nbformat_minor": 4
}
