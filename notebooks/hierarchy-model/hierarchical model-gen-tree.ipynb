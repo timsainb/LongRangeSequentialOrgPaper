{
 "cells": [
  {
   "cell_type": "markdown",
   "metadata": {},
   "source": [
    "### create figure for hierarchy example\n",
    "1. get latent distances vs sequential distances\n",
    "2. get MI of markov model\n",
    "3. get MI of recursively generated sequence - store the average latent distance for each of the sequential distances\n",
    "4. Plot latent distance by MI\n",
    "5. plot sequential distance by MI"
   ]
  },
  {
   "cell_type": "code",
   "execution_count": 11,
   "metadata": {
    "ExecuteTime": {
     "end_time": "2019-09-17T15:22:42.628677Z",
     "start_time": "2019-09-17T15:22:42.371855Z"
    }
   },
   "outputs": [
    {
     "name": "stderr",
     "output_type": "stream",
     "text": [
      "/mnt/cube/tsainbur/conda_envs/tpy3/lib/python3.6/site-packages/tqdm/autonotebook/__init__.py:14: TqdmExperimentalWarning: Using `tqdm.autonotebook.tqdm` in notebook mode. Use `tqdm.tqdm` instead to force console mode (e.g. in jupyter console)\n",
      "  \" (e.g. in jupyter console)\", TqdmExperimentalWarning)\n"
     ]
    }
   ],
   "source": [
    "import numpy as np\n",
    "import pandas as pd\n",
    "from scipy import random as sr\n",
    "import matplotlib.pyplot as plt\n",
    "import networkx as nx\n",
    "from tqdm.autonotebook import tqdm"
   ]
  },
  {
   "cell_type": "code",
   "execution_count": 38,
   "metadata": {
    "ExecuteTime": {
     "end_time": "2019-09-17T15:24:41.729626Z",
     "start_time": "2019-09-17T15:24:41.693585Z"
    }
   },
   "outputs": [],
   "source": [
    "def gen_balanced_matrix(na=5, ps=[0.7, 0.2, 0.1]):\n",
    "    \"\"\" Generates a balanced matrix in which every state can reach every other state\n",
    "    for hierarchical and Markov models\n",
    "    \"\"\"\n",
    "    for r in range(1000):\n",
    "        breakme = False\n",
    "        probs = np.zeros((na, na))\n",
    "        for p in ps:\n",
    "            for i in np.arange(na):\n",
    "                ixloc = np.where(\n",
    "                    (probs[i, :] == 0) & (np.sum(probs != p, axis=0) == na)\n",
    "                )[0]\n",
    "                if len(ixloc) > 0:\n",
    "                    probs[i, np.random.permutation(ixloc)[0]] = p\n",
    "                else:\n",
    "                    # the initialization didn't work\n",
    "                    breakme = True\n",
    "        if breakme:\n",
    "            continue\n",
    "        probs = probs / np.sum(probs, axis=0)\n",
    "        return probs\n",
    "    return \"Generation Failed\"\n",
    "\n",
    "def generate_hierarchical_graph(branching_factor, depth, alphabet, probs):\n",
    "    \"\"\"\n",
    "    \"\"\"\n",
    "    # create the Graph\n",
    "    G=nx.Graph()\n",
    "\n",
    "    # create the first point in the graph\n",
    "    starting_point = np.random.choice(\n",
    "        alphabet, p=np.sum(probs, axis=1) / np.sum(probs), size=1\n",
    "    )[0]\n",
    "    node_types = {0:starting_point}\n",
    "    # add the first node\n",
    "    G.add_node(0)\n",
    "    lowest_level = [0]\n",
    "    n_nodes = 1\n",
    "\n",
    "    # sample depthwise\n",
    "    for i in tqdm(range(depth)):\n",
    "        update_lowest_level = np.empty(branching_factor**(i+1), dtype='int')\n",
    "        lowest_level_n = 0\n",
    "        # for each node in the current lowest level\n",
    "        for node in lowest_level: \n",
    "            # get the node type\n",
    "            node_samples = np.random.choice(alphabet, p=probs[:, node_types[node]], size=branching_factor)\n",
    "            for ni, ns in enumerate(node_samples):\n",
    "                node_types[ni+n_nodes] = ns\n",
    "                update_lowest_level[lowest_level_n] = ni+n_nodes\n",
    "                G.add_node(ni+n_nodes)\n",
    "                G.add_edge(node,ni+n_nodes)\n",
    "                lowest_level_n+=1            \n",
    "            n_nodes += len(node_samples)\n",
    "        lowest_level = update_lowest_level\n",
    "        \n",
    "    lowest_level_sequence = [node_types[i] for i in lowest_level]\n",
    "    return G, lowest_level, lowest_level_sequence"
   ]
  },
  {
   "cell_type": "code",
   "execution_count": 44,
   "metadata": {
    "ExecuteTime": {
     "end_time": "2019-09-17T15:24:53.374632Z",
     "start_time": "2019-09-17T15:24:53.366014Z"
    }
   },
   "outputs": [
    {
     "name": "stdout",
     "output_type": "stream",
     "text": [
      "seq len  256\n"
     ]
    }
   ],
   "source": [
    "# how many branches to sample in hierarchical\n",
    "branching_factor = 2\n",
    "# how many subsamples to perform\n",
    "depth = 8\n",
    "# alphabet size\n",
    "a_n = 2; alphabet = np.arange(a_n)\n",
    "# how many sequences to use\n",
    "nseq = 1\n",
    "print('seq len ',(branching_factor**depth))"
   ]
  },
  {
   "cell_type": "code",
   "execution_count": 45,
   "metadata": {
    "ExecuteTime": {
     "end_time": "2019-09-17T15:24:53.544777Z",
     "start_time": "2019-09-17T15:24:53.538020Z"
    }
   },
   "outputs": [],
   "source": [
    "# generate probbility matrix \n",
    "probs = gen_balanced_matrix(na=a_n, ps=[.9, .1])"
   ]
  },
  {
   "cell_type": "code",
   "execution_count": 46,
   "metadata": {
    "ExecuteTime": {
     "end_time": "2019-09-17T15:24:53.804127Z",
     "start_time": "2019-09-17T15:24:53.694014Z"
    }
   },
   "outputs": [
    {
     "data": {
      "application/vnd.jupyter.widget-view+json": {
       "model_id": "085d1163684a4b029f443e7ca2558c76",
       "version_major": 2,
       "version_minor": 0
      },
      "text/plain": [
       "HBox(children=(IntProgress(value=0, max=8), HTML(value='')))"
      ]
     },
     "metadata": {},
     "output_type": "display_data"
    },
    {
     "name": "stdout",
     "output_type": "stream",
     "text": [
      "\n"
     ]
    }
   ],
   "source": [
    "G, lowest_level, lowest_level_sequence = generate_hierarchical_graph(branching_factor, depth, alphabet, probs)"
   ]
  },
  {
   "cell_type": "code",
   "execution_count": 52,
   "metadata": {
    "ExecuteTime": {
     "end_time": "2019-09-17T15:48:57.957680Z",
     "start_time": "2019-09-17T15:48:57.953115Z"
    }
   },
   "outputs": [],
   "source": [
    "#pos=nx.drawing.nx_agraph.graphviz_layout(G,prog='dot')\n",
    "#fig, ax = plt.subplots(figsize=(12,5))\n",
    "#nx.draw(G,pos,with_labels=False,arrows=False, width = 3, ax=ax)"
   ]
  },
  {
   "cell_type": "code",
   "execution_count": 53,
   "metadata": {
    "ExecuteTime": {
     "end_time": "2019-09-17T15:48:58.148564Z",
     "start_time": "2019-09-17T15:48:58.141028Z"
    }
   },
   "outputs": [
    {
     "data": {
      "text/plain": [
       "256"
      ]
     },
     "execution_count": 53,
     "metadata": {},
     "output_type": "execute_result"
    }
   ],
   "source": [
    "len(lowest_level_sequence)"
   ]
  },
  {
   "cell_type": "code",
   "execution_count": null,
   "metadata": {},
   "outputs": [],
   "source": []
  }
 ],
 "metadata": {
  "kernelspec": {
   "display_name": "Python 3",
   "language": "python",
   "name": "python3"
  },
  "language_info": {
   "codemirror_mode": {
    "name": "ipython",
    "version": 3
   },
   "file_extension": ".py",
   "mimetype": "text/x-python",
   "name": "python",
   "nbconvert_exporter": "python",
   "pygments_lexer": "ipython3",
   "version": "3.6.7"
  }
 },
 "nbformat": 4,
 "nbformat_minor": 2
}
