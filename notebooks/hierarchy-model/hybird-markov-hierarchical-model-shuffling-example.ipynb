{
 "cells": [
  {
   "cell_type": "markdown",
   "metadata": {},
   "source": [
    "### create figure for hierarchy example\n",
    "1. get latent distances vs sequential distances\n",
    "2. get MI of markov model\n",
    "3. get MI of recursively generated sequence - store the average latent distance for each of the sequential distances\n",
    "4. Plot latent distance by MI\n",
    "5. plot sequential distance by MI"
   ]
  },
  {
   "cell_type": "code",
   "execution_count": 1,
   "metadata": {},
   "outputs": [],
   "source": [
    "%load_ext autoreload\n",
    "%autoreload 2"
   ]
  },
  {
   "cell_type": "code",
   "execution_count": 2,
   "metadata": {
    "ExecuteTime": {
     "end_time": "2020-04-07T20:56:26.729764Z",
     "start_time": "2020-04-07T20:56:25.792978Z"
    }
   },
   "outputs": [],
   "source": [
    "import numpy as np\n",
    "import pandas as pd\n",
    "from scipy import random as sr\n",
    "import matplotlib.pyplot as plt\n",
    "from tqdm.auto import tqdm"
   ]
  },
  {
   "cell_type": "code",
   "execution_count": 3,
   "metadata": {},
   "outputs": [],
   "source": [
    "np.random.seed(1)"
   ]
  },
  {
   "cell_type": "code",
   "execution_count": 4,
   "metadata": {
    "ExecuteTime": {
     "end_time": "2020-04-07T20:56:26.740906Z",
     "start_time": "2020-04-07T20:56:26.731398Z"
    }
   },
   "outputs": [],
   "source": [
    "from childes_mi.utils.paths import DATA_DIR, FIGURE_DIR, ensure_dir\n",
    "from childes_mi.utils.general import flatten,save_fig"
   ]
  },
  {
   "cell_type": "code",
   "execution_count": 5,
   "metadata": {
    "ExecuteTime": {
     "end_time": "2020-04-07T20:56:26.752142Z",
     "start_time": "2020-04-07T20:56:26.742281Z"
    }
   },
   "outputs": [],
   "source": [
    "def gen_balanced_matrix(na=5, ps=[0.7, 0.2, 0.1]):\n",
    "    \"\"\" Generates a balanced matrix in which every state can reach every other state\n",
    "    for hierarchical and Markov models\n",
    "    \"\"\"\n",
    "    for r in range(1000):\n",
    "        breakme = False\n",
    "        probs = np.zeros((na, na))\n",
    "        for p in ps:\n",
    "            for i in np.arange(na):\n",
    "                ixloc = np.where(\n",
    "                    (probs[i, :] == 0) & (np.sum(probs != p, axis=0) == na)\n",
    "                )[0]\n",
    "                if len(ixloc) > 0:\n",
    "                    probs[i, np.random.permutation(ixloc)[0]] = p\n",
    "                else:\n",
    "                    # the initialization didn't work\n",
    "                    breakme = True\n",
    "        if breakme:\n",
    "            continue\n",
    "        probs = probs / np.sum(probs, axis=0)\n",
    "        return probs\n",
    "    return \"Generation Failed\"\n",
    "\n",
    "def gen_seq_hierarchical(alphabet, probs, depth, n_subsamples):\n",
    "    \"\"\" generates a sequence via the Lin Tegmark recursive model\n",
    "    Arguments:\n",
    "        alphabet {[type]} -- [alphabet of states]\n",
    "        probs {[type]} -- [probability matrix for recursive subsampling]\n",
    "        depth {[type]} -- [how many times to recursively subsample]\n",
    "        n_subsamples {[type]} -- [the number of new elements to recursively replace old elements with]\n",
    "    \n",
    "    Returns:\n",
    "        sequence [type] -- [sequence of elements]\n",
    "    \"\"\"\n",
    "    sequence = np.random.choice(\n",
    "        alphabet, p=np.sum(probs, axis=1) / np.sum(probs), size=1\n",
    "    )\n",
    "    if type(depth) == list:\n",
    "        depth = np.random.choice(depth)\n",
    "    depth_list = range(depth)\n",
    "    for i in depth_list:\n",
    "        q = np.random.choice(n_subsamples)\n",
    "        sequence = recursively_subsample_sequence(sequence, probs, q, alphabet)\n",
    "    return sequence\n",
    "\n",
    "\n",
    "def subsample_sequence(sequence, probs, q, alphabet):\n",
    "    \"\"\" subsamples a sequence given a probability matrix\n",
    "    \n",
    "    given a sequence, resamples each element in that sequences given a probability matrix of sequence element to new elements\n",
    "    \n",
    "    Arguments:\n",
    "        sequence {[type]} -- input sequence\n",
    "        probs {[type]} -- the probability matrix\n",
    "        q {[type]} -- the number of items to subsample\n",
    "    \"\"\"\n",
    "    return [\n",
    "        item\n",
    "        for sublist in [\n",
    "            np.random.choice(alphabet, p=probs[:, i], size=q) for i in sequence\n",
    "        ]\n",
    "        for item in sublist\n",
    "    ]\n",
    "\n",
    "def recursively_subsample_sequence(sequence, probs, q, alphabet):\n",
    "    \"\"\" subsamples a sequence given a probability matrix\n",
    "    \n",
    "    given a sequence, resamples each element in that sequences given a probability matrix of sequence element to new elements\n",
    "    \n",
    "    Arguments:\n",
    "        sequence {[type]} -- input sequence\n",
    "        probs {[type]} -- the probability matrix\n",
    "        q {[type]} -- the number of items to subsample\n",
    "    \"\"\"\n",
    "    for i in sequence:\n",
    "        if type(i) == list:\n",
    "            return [recursively_subsample_sequence(i, probs, q, alphabet) for i in sequence]\n",
    "        else:\n",
    "            return [\n",
    "                item\n",
    "                for sublist in [\n",
    "                    [list(np.random.choice(alphabet, p=probs[:, i], size=q))] for i in sequence\n",
    "                ]\n",
    "                for item in sublist\n",
    "            ]"
   ]
  },
  {
   "cell_type": "code",
   "execution_count": 6,
   "metadata": {},
   "outputs": [],
   "source": [
    "def gen_seq_markov(alphabet, probs, seq_len):\n",
    "    \"\"\" like sample_sequence_MM, but uses a numpy matrix, no start and end states, and a set sequence length\n",
    "    \"\"\"\n",
    "    sequence = list(\n",
    "        np.random.choice(alphabet, p=np.sum(probs, axis=0) / np.sum(probs), size=1)\n",
    "    )\n",
    "    for i in tqdm(range(seq_len), leave=False):\n",
    "        sequence.append(np.random.choice(alphabet, p=probs[:, sequence[-1]], size=1)[0])\n",
    "    return sequence"
   ]
  },
  {
   "cell_type": "code",
   "execution_count": 7,
   "metadata": {
    "ExecuteTime": {
     "end_time": "2020-04-07T20:56:26.762929Z",
     "start_time": "2020-04-07T20:56:26.753709Z"
    }
   },
   "outputs": [
    {
     "name": "stdout",
     "output_type": "stream",
     "text": [
      "seq len  4096.0\n"
     ]
    }
   ],
   "source": [
    "# how many branches to sample in hierarchical\n",
    "n_subsamples = [2]\n",
    "# how many subsamples to perform\n",
    "depth = 12\n",
    "# alphabet size\n",
    "a_n = 5\n",
    "alphabet = np.arange(a_n)\n",
    "# how many sequences to use\n",
    "nseq = 1000\n",
    "print('seq len ',(np.mean(n_subsamples)**depth))"
   ]
  },
  {
   "cell_type": "code",
   "execution_count": 8,
   "metadata": {},
   "outputs": [],
   "source": [
    "# how many markov items to sample \n",
    "markov_seq_len_range = [2,5]\n",
    "# number of elements in markov alphabet\n",
    "a_n_markov = 25\n",
    "markov_alphabet_items = np.arange(a_n_markov)\n",
    "# the number of sequences can correspond to each hierarchical element\n",
    "markov_n_seq_per_element = 5"
   ]
  },
  {
   "cell_type": "code",
   "execution_count": 9,
   "metadata": {
    "ExecuteTime": {
     "end_time": "2020-04-07T20:56:28.433886Z",
     "start_time": "2020-04-07T20:56:28.430425Z"
    }
   },
   "outputs": [],
   "source": [
    "# generate probbility matrix \n",
    "probs = gen_balanced_matrix(na=a_n, ps=[.9, .1])"
   ]
  },
  {
   "cell_type": "code",
   "execution_count": 10,
   "metadata": {},
   "outputs": [
    {
     "data": {
      "text/plain": [
       "<matplotlib.image.AxesImage at 0x7f4703d0ff90>"
      ]
     },
     "execution_count": 10,
     "metadata": {},
     "output_type": "execute_result"
    },
    {
     "data": {
      "image/png": "[encoded data removed]",
      "text/plain": [
       "<Figure size 288x288 with 1 Axes>"
      ]
     },
     "metadata": {
      "needs_background": "light"
     },
     "output_type": "display_data"
    }
   ],
   "source": [
    "plt.matshow(probs)"
   ]
  },
  {
   "cell_type": "code",
   "execution_count": 11,
   "metadata": {},
   "outputs": [
    {
     "data": {
      "application/vnd.jupyter.widget-view+json": {
       "model_id": "",
       "version_major": 2,
       "version_minor": 0
      },
      "text/plain": [
       "HBox(children=(IntProgress(value=0, max=10), HTML(value='')))"
      ]
     },
     "metadata": {},
     "output_type": "display_data"
    },
    {
     "name": "stdout",
     "output_type": "stream",
     "text": [
      "\r"
     ]
    },
    {
     "data": {
      "text/plain": [
       "[19, 17, 14, 0, 6, 5, 23, 17, 14, 18, 6]"
      ]
     },
     "execution_count": 11,
     "metadata": {},
     "output_type": "execute_result"
    }
   ],
   "source": [
    "# generate markov probabilities\n",
    "markov_probs = np.random.rand(a_n_markov**2).reshape((a_n_markov, a_n_markov))**2\n",
    "markov_probs = markov_probs/np.sum(markov_probs, axis = 0)\n",
    "# test it out...\n",
    "gen_seq_markov(markov_alphabet_items, markov_probs, 10)"
   ]
  },
  {
   "cell_type": "code",
   "execution_count": 12,
   "metadata": {},
   "outputs": [
    {
     "data": {
      "text/plain": [
       "<matplotlib.image.AxesImage at 0x7f4703468e10>"
      ]
     },
     "execution_count": 12,
     "metadata": {},
     "output_type": "execute_result"
    },
    {
     "data": {
      "image/png": "[encoded data removed]",
      "text/plain": [
       "<Figure size 288x288 with 1 Axes>"
      ]
     },
     "metadata": {
      "needs_background": "light"
     },
     "output_type": "display_data"
    }
   ],
   "source": [
    "plt.matshow(markov_probs)"
   ]
  },
  {
   "cell_type": "code",
   "execution_count": 13,
   "metadata": {
    "scrolled": true
   },
   "outputs": [
    {
     "data": {
      "application/vnd.jupyter.widget-view+json": {
       "model_id": "e8d02d3312924674b965e3efb3904159",
       "version_major": 2,
       "version_minor": 0
      },
      "text/plain": [
       "HBox(children=(IntProgress(value=0, max=25), HTML(value='')))"
      ]
     },
     "metadata": {},
     "output_type": "display_data"
    },
    {
     "data": {
      "application/vnd.jupyter.widget-view+json": {
       "model_id": "",
       "version_major": 2,
       "version_minor": 0
      },
      "text/plain": [
       "HBox(children=(IntProgress(value=0, max=4), HTML(value='')))"
      ]
     },
     "metadata": {},
     "output_type": "display_data"
    },
    {
     "data": {
      "application/vnd.jupyter.widget-view+json": {
       "model_id": "",
       "version_major": 2,
       "version_minor": 0
      },
      "text/plain": [
       "HBox(children=(IntProgress(value=0, max=3), HTML(value='')))"
      ]
     },
     "metadata": {},
     "output_type": "display_data"
    },
    {
     "data": {
      "application/vnd.jupyter.widget-view+json": {
       "model_id": "",
       "version_major": 2,
       "version_minor": 0
      },
      "text/plain": [
       "HBox(children=(IntProgress(value=0, max=2), HTML(value='')))"
      ]
     },
     "metadata": {},
     "output_type": "display_data"
    },
    {
     "data": {
      "application/vnd.jupyter.widget-view+json": {
       "model_id": "",
       "version_major": 2,
       "version_minor": 0
      },
      "text/plain": [
       "HBox(children=(IntProgress(value=0, max=4), HTML(value='')))"
      ]
     },
     "metadata": {},
     "output_type": "display_data"
    },
    {
     "data": {
      "application/vnd.jupyter.widget-view+json": {
       "model_id": "",
       "version_major": 2,
       "version_minor": 0
      },
      "text/plain": [
       "HBox(children=(IntProgress(value=0, max=2), HTML(value='')))"
      ]
     },
     "metadata": {},
     "output_type": "display_data"
    },
    {
     "data": {
      "application/vnd.jupyter.widget-view+json": {
       "model_id": "",
       "version_major": 2,
       "version_minor": 0
      },
      "text/plain": [
       "HBox(children=(IntProgress(value=0, max=4), HTML(value='')))"
      ]
     },
     "metadata": {},
     "output_type": "display_data"
    },
    {
     "data": {
      "application/vnd.jupyter.widget-view+json": {
       "model_id": "",
       "version_major": 2,
       "version_minor": 0
      },
      "text/plain": [
       "HBox(children=(IntProgress(value=0, max=3), HTML(value='')))"
      ]
     },
     "metadata": {},
     "output_type": "display_data"
    },
    {
     "data": {
      "application/vnd.jupyter.widget-view+json": {
       "model_id": "",
       "version_major": 2,
       "version_minor": 0
      },
      "text/plain": [
       "HBox(children=(IntProgress(value=0, max=3), HTML(value='')))"
      ]
     },
     "metadata": {},
     "output_type": "display_data"
    },
    {
     "data": {
      "application/vnd.jupyter.widget-view+json": {
       "model_id": "",
       "version_major": 2,
       "version_minor": 0
      },
      "text/plain": [
       "HBox(children=(IntProgress(value=0, max=3), HTML(value='')))"
      ]
     },
     "metadata": {},
     "output_type": "display_data"
    },
    {
     "data": {
      "application/vnd.jupyter.widget-view+json": {
       "model_id": "",
       "version_major": 2,
       "version_minor": 0
      },
      "text/plain": [
       "HBox(children=(IntProgress(value=0, max=2), HTML(value='')))"
      ]
     },
     "metadata": {},
     "output_type": "display_data"
    },
    {
     "data": {
      "application/vnd.jupyter.widget-view+json": {
       "model_id": "",
       "version_major": 2,
       "version_minor": 0
      },
      "text/plain": [
       "HBox(children=(IntProgress(value=0, max=4), HTML(value='')))"
      ]
     },
     "metadata": {},
     "output_type": "display_data"
    },
    {
     "data": {
      "application/vnd.jupyter.widget-view+json": {
       "model_id": "",
       "version_major": 2,
       "version_minor": 0
      },
      "text/plain": [
       "HBox(children=(IntProgress(value=0, max=2), HTML(value='')))"
      ]
     },
     "metadata": {},
     "output_type": "display_data"
    },
    {
     "data": {
      "application/vnd.jupyter.widget-view+json": {
       "model_id": "",
       "version_major": 2,
       "version_minor": 0
      },
      "text/plain": [
       "HBox(children=(IntProgress(value=0, max=4), HTML(value='')))"
      ]
     },
     "metadata": {},
     "output_type": "display_data"
    },
    {
     "data": {
      "application/vnd.jupyter.widget-view+json": {
       "model_id": "",
       "version_major": 2,
       "version_minor": 0
      },
      "text/plain": [
       "HBox(children=(IntProgress(value=0, max=4), HTML(value='')))"
      ]
     },
     "metadata": {},
     "output_type": "display_data"
    },
    {
     "data": {
      "application/vnd.jupyter.widget-view+json": {
       "model_id": "",
       "version_major": 2,
       "version_minor": 0
      },
      "text/plain": [
       "HBox(children=(IntProgress(value=0, max=4), HTML(value='')))"
      ]
     },
     "metadata": {},
     "output_type": "display_data"
    },
    {
     "data": {
      "application/vnd.jupyter.widget-view+json": {
       "model_id": "",
       "version_major": 2,
       "version_minor": 0
      },
      "text/plain": [
       "HBox(children=(IntProgress(value=0, max=3), HTML(value='')))"
      ]
     },
     "metadata": {},
     "output_type": "display_data"
    },
    {
     "data": {
      "application/vnd.jupyter.widget-view+json": {
       "model_id": "",
       "version_major": 2,
       "version_minor": 0
      },
      "text/plain": [
       "HBox(children=(IntProgress(value=0, max=2), HTML(value='')))"
      ]
     },
     "metadata": {},
     "output_type": "display_data"
    },
    {
     "data": {
      "application/vnd.jupyter.widget-view+json": {
       "model_id": "",
       "version_major": 2,
       "version_minor": 0
      },
      "text/plain": [
       "HBox(children=(IntProgress(value=0, max=2), HTML(value='')))"
      ]
     },
     "metadata": {},
     "output_type": "display_data"
    },
    {
     "data": {
      "application/vnd.jupyter.widget-view+json": {
       "model_id": "",
       "version_major": 2,
       "version_minor": 0
      },
      "text/plain": [
       "HBox(children=(IntProgress(value=0, max=3), HTML(value='')))"
      ]
     },
     "metadata": {},
     "output_type": "display_data"
    },
    {
     "data": {
      "application/vnd.jupyter.widget-view+json": {
       "model_id": "",
       "version_major": 2,
       "version_minor": 0
      },
      "text/plain": [
       "HBox(children=(IntProgress(value=0, max=3), HTML(value='')))"
      ]
     },
     "metadata": {},
     "output_type": "display_data"
    },
    {
     "data": {
      "application/vnd.jupyter.widget-view+json": {
       "model_id": "",
       "version_major": 2,
       "version_minor": 0
      },
      "text/plain": [
       "HBox(children=(IntProgress(value=0, max=4), HTML(value='')))"
      ]
     },
     "metadata": {},
     "output_type": "display_data"
    },
    {
     "data": {
      "application/vnd.jupyter.widget-view+json": {
       "model_id": "",
       "version_major": 2,
       "version_minor": 0
      },
      "text/plain": [
       "HBox(children=(IntProgress(value=0, max=2), HTML(value='')))"
      ]
     },
     "metadata": {},
     "output_type": "display_data"
    },
    {
     "data": {
      "application/vnd.jupyter.widget-view+json": {
       "model_id": "",
       "version_major": 2,
       "version_minor": 0
      },
      "text/plain": [
       "HBox(children=(IntProgress(value=0, max=2), HTML(value='')))"
      ]
     },
     "metadata": {},
     "output_type": "display_data"
    },
    {
     "data": {
      "application/vnd.jupyter.widget-view+json": {
       "model_id": "",
       "version_major": 2,
       "version_minor": 0
      },
      "text/plain": [
       "HBox(children=(IntProgress(value=0, max=2), HTML(value='')))"
      ]
     },
     "metadata": {},
     "output_type": "display_data"
    },
    {
     "data": {
      "application/vnd.jupyter.widget-view+json": {
       "model_id": "",
       "version_major": 2,
       "version_minor": 0
      },
      "text/plain": [
       "HBox(children=(IntProgress(value=0, max=2), HTML(value='')))"
      ]
     },
     "metadata": {},
     "output_type": "display_data"
    },
    {
     "data": {
      "application/vnd.jupyter.widget-view+json": {
       "model_id": "",
       "version_major": 2,
       "version_minor": 0
      },
      "text/plain": [
       "HBox(children=(IntProgress(value=0, max=3), HTML(value='')))"
      ]
     },
     "metadata": {},
     "output_type": "display_data"
    },
    {
     "data": {
      "application/vnd.jupyter.widget-view+json": {
       "model_id": "",
       "version_major": 2,
       "version_minor": 0
      },
      "text/plain": [
       "HBox(children=(IntProgress(value=0, max=3), HTML(value='')))"
      ]
     },
     "metadata": {},
     "output_type": "display_data"
    },
    {
     "data": {
      "application/vnd.jupyter.widget-view+json": {
       "model_id": "",
       "version_major": 2,
       "version_minor": 0
      },
      "text/plain": [
       "HBox(children=(IntProgress(value=0, max=2), HTML(value='')))"
      ]
     },
     "metadata": {},
     "output_type": "display_data"
    },
    {
     "data": {
      "application/vnd.jupyter.widget-view+json": {
       "model_id": "",
       "version_major": 2,
       "version_minor": 0
      },
      "text/plain": [
       "HBox(children=(IntProgress(value=0, max=4), HTML(value='')))"
      ]
     },
     "metadata": {},
     "output_type": "display_data"
    },
    {
     "data": {
      "application/vnd.jupyter.widget-view+json": {
       "model_id": "",
       "version_major": 2,
       "version_minor": 0
      },
      "text/plain": [
       "HBox(children=(IntProgress(value=0, max=4), HTML(value='')))"
      ]
     },
     "metadata": {},
     "output_type": "display_data"
    },
    {
     "data": {
      "application/vnd.jupyter.widget-view+json": {
       "model_id": "",
       "version_major": 2,
       "version_minor": 0
      },
      "text/plain": [
       "HBox(children=(IntProgress(value=0, max=3), HTML(value='')))"
      ]
     },
     "metadata": {},
     "output_type": "display_data"
    },
    {
     "data": {
      "application/vnd.jupyter.widget-view+json": {
       "model_id": "",
       "version_major": 2,
       "version_minor": 0
      },
      "text/plain": [
       "HBox(children=(IntProgress(value=0, max=2), HTML(value='')))"
      ]
     },
     "metadata": {},
     "output_type": "display_data"
    },
    {
     "data": {
      "application/vnd.jupyter.widget-view+json": {
       "model_id": "",
       "version_major": 2,
       "version_minor": 0
      },
      "text/plain": [
       "HBox(children=(IntProgress(value=0, max=3), HTML(value='')))"
      ]
     },
     "metadata": {},
     "output_type": "display_data"
    },
    {
     "data": {
      "application/vnd.jupyter.widget-view+json": {
       "model_id": "",
       "version_major": 2,
       "version_minor": 0
      },
      "text/plain": [
       "HBox(children=(IntProgress(value=0, max=4), HTML(value='')))"
      ]
     },
     "metadata": {},
     "output_type": "display_data"
    },
    {
     "data": {
      "application/vnd.jupyter.widget-view+json": {
       "model_id": "",
       "version_major": 2,
       "version_minor": 0
      },
      "text/plain": [
       "HBox(children=(IntProgress(value=0, max=3), HTML(value='')))"
      ]
     },
     "metadata": {},
     "output_type": "display_data"
    },
    {
     "data": {
      "application/vnd.jupyter.widget-view+json": {
       "model_id": "",
       "version_major": 2,
       "version_minor": 0
      },
      "text/plain": [
       "HBox(children=(IntProgress(value=0, max=3), HTML(value='')))"
      ]
     },
     "metadata": {},
     "output_type": "display_data"
    },
    {
     "data": {
      "application/vnd.jupyter.widget-view+json": {
       "model_id": "",
       "version_major": 2,
       "version_minor": 0
      },
      "text/plain": [
       "HBox(children=(IntProgress(value=0, max=2), HTML(value='')))"
      ]
     },
     "metadata": {},
     "output_type": "display_data"
    },
    {
     "data": {
      "application/vnd.jupyter.widget-view+json": {
       "model_id": "",
       "version_major": 2,
       "version_minor": 0
      },
      "text/plain": [
       "HBox(children=(IntProgress(value=0, max=3), HTML(value='')))"
      ]
     },
     "metadata": {},
     "output_type": "display_data"
    },
    {
     "data": {
      "application/vnd.jupyter.widget-view+json": {
       "model_id": "",
       "version_major": 2,
       "version_minor": 0
      },
      "text/plain": [
       "HBox(children=(IntProgress(value=0, max=3), HTML(value='')))"
      ]
     },
     "metadata": {},
     "output_type": "display_data"
    },
    {
     "data": {
      "application/vnd.jupyter.widget-view+json": {
       "model_id": "",
       "version_major": 2,
       "version_minor": 0
      },
      "text/plain": [
       "HBox(children=(IntProgress(value=0, max=4), HTML(value='')))"
      ]
     },
     "metadata": {},
     "output_type": "display_data"
    },
    {
     "data": {
      "application/vnd.jupyter.widget-view+json": {
       "model_id": "",
       "version_major": 2,
       "version_minor": 0
      },
      "text/plain": [
       "HBox(children=(IntProgress(value=0, max=2), HTML(value='')))"
      ]
     },
     "metadata": {},
     "output_type": "display_data"
    },
    {
     "data": {
      "application/vnd.jupyter.widget-view+json": {
       "model_id": "",
       "version_major": 2,
       "version_minor": 0
      },
      "text/plain": [
       "HBox(children=(IntProgress(value=0, max=3), HTML(value='')))"
      ]
     },
     "metadata": {},
     "output_type": "display_data"
    },
    {
     "data": {
      "application/vnd.jupyter.widget-view+json": {
       "model_id": "",
       "version_major": 2,
       "version_minor": 0
      },
      "text/plain": [
       "HBox(children=(IntProgress(value=0, max=3), HTML(value='')))"
      ]
     },
     "metadata": {},
     "output_type": "display_data"
    },
    {
     "data": {
      "application/vnd.jupyter.widget-view+json": {
       "model_id": "",
       "version_major": 2,
       "version_minor": 0
      },
      "text/plain": [
       "HBox(children=(IntProgress(value=0, max=4), HTML(value='')))"
      ]
     },
     "metadata": {},
     "output_type": "display_data"
    },
    {
     "data": {
      "application/vnd.jupyter.widget-view+json": {
       "model_id": "",
       "version_major": 2,
       "version_minor": 0
      },
      "text/plain": [
       "HBox(children=(IntProgress(value=0, max=2), HTML(value='')))"
      ]
     },
     "metadata": {},
     "output_type": "display_data"
    },
    {
     "data": {
      "application/vnd.jupyter.widget-view+json": {
       "model_id": "",
       "version_major": 2,
       "version_minor": 0
      },
      "text/plain": [
       "HBox(children=(IntProgress(value=0, max=4), HTML(value='')))"
      ]
     },
     "metadata": {},
     "output_type": "display_data"
    },
    {
     "data": {
      "application/vnd.jupyter.widget-view+json": {
       "model_id": "",
       "version_major": 2,
       "version_minor": 0
      },
      "text/plain": [
       "HBox(children=(IntProgress(value=0, max=2), HTML(value='')))"
      ]
     },
     "metadata": {},
     "output_type": "display_data"
    },
    {
     "data": {
      "application/vnd.jupyter.widget-view+json": {
       "model_id": "",
       "version_major": 2,
       "version_minor": 0
      },
      "text/plain": [
       "HBox(children=(IntProgress(value=0, max=4), HTML(value='')))"
      ]
     },
     "metadata": {},
     "output_type": "display_data"
    },
    {
     "data": {
      "application/vnd.jupyter.widget-view+json": {
       "model_id": "",
       "version_major": 2,
       "version_minor": 0
      },
      "text/plain": [
       "HBox(children=(IntProgress(value=0, max=4), HTML(value='')))"
      ]
     },
     "metadata": {},
     "output_type": "display_data"
    },
    {
     "data": {
      "application/vnd.jupyter.widget-view+json": {
       "model_id": "",
       "version_major": 2,
       "version_minor": 0
      },
      "text/plain": [
       "HBox(children=(IntProgress(value=0, max=4), HTML(value='')))"
      ]
     },
     "metadata": {},
     "output_type": "display_data"
    },
    {
     "data": {
      "application/vnd.jupyter.widget-view+json": {
       "model_id": "",
       "version_major": 2,
       "version_minor": 0
      },
      "text/plain": [
       "HBox(children=(IntProgress(value=0, max=4), HTML(value='')))"
      ]
     },
     "metadata": {},
     "output_type": "display_data"
    },
    {
     "data": {
      "application/vnd.jupyter.widget-view+json": {
       "model_id": "",
       "version_major": 2,
       "version_minor": 0
      },
      "text/plain": [
       "HBox(children=(IntProgress(value=0, max=4), HTML(value='')))"
      ]
     },
     "metadata": {},
     "output_type": "display_data"
    },
    {
     "data": {
      "application/vnd.jupyter.widget-view+json": {
       "model_id": "",
       "version_major": 2,
       "version_minor": 0
      },
      "text/plain": [
       "HBox(children=(IntProgress(value=0, max=2), HTML(value='')))"
      ]
     },
     "metadata": {},
     "output_type": "display_data"
    },
    {
     "data": {
      "application/vnd.jupyter.widget-view+json": {
       "model_id": "",
       "version_major": 2,
       "version_minor": 0
      },
      "text/plain": [
       "HBox(children=(IntProgress(value=0, max=3), HTML(value='')))"
      ]
     },
     "metadata": {},
     "output_type": "display_data"
    },
    {
     "data": {
      "application/vnd.jupyter.widget-view+json": {
       "model_id": "",
       "version_major": 2,
       "version_minor": 0
      },
      "text/plain": [
       "HBox(children=(IntProgress(value=0, max=3), HTML(value='')))"
      ]
     },
     "metadata": {},
     "output_type": "display_data"
    },
    {
     "data": {
      "application/vnd.jupyter.widget-view+json": {
       "model_id": "",
       "version_major": 2,
       "version_minor": 0
      },
      "text/plain": [
       "HBox(children=(IntProgress(value=0, max=2), HTML(value='')))"
      ]
     },
     "metadata": {},
     "output_type": "display_data"
    },
    {
     "data": {
      "application/vnd.jupyter.widget-view+json": {
       "model_id": "",
       "version_major": 2,
       "version_minor": 0
      },
      "text/plain": [
       "HBox(children=(IntProgress(value=0, max=4), HTML(value='')))"
      ]
     },
     "metadata": {},
     "output_type": "display_data"
    },
    {
     "data": {
      "application/vnd.jupyter.widget-view+json": {
       "model_id": "",
       "version_major": 2,
       "version_minor": 0
      },
      "text/plain": [
       "HBox(children=(IntProgress(value=0, max=2), HTML(value='')))"
      ]
     },
     "metadata": {},
     "output_type": "display_data"
    },
    {
     "data": {
      "application/vnd.jupyter.widget-view+json": {
       "model_id": "",
       "version_major": 2,
       "version_minor": 0
      },
      "text/plain": [
       "HBox(children=(IntProgress(value=0, max=4), HTML(value='')))"
      ]
     },
     "metadata": {},
     "output_type": "display_data"
    },
    {
     "data": {
      "application/vnd.jupyter.widget-view+json": {
       "model_id": "",
       "version_major": 2,
       "version_minor": 0
      },
      "text/plain": [
       "HBox(children=(IntProgress(value=0, max=2), HTML(value='')))"
      ]
     },
     "metadata": {},
     "output_type": "display_data"
    },
    {
     "data": {
      "application/vnd.jupyter.widget-view+json": {
       "model_id": "",
       "version_major": 2,
       "version_minor": 0
      },
      "text/plain": [
       "HBox(children=(IntProgress(value=0, max=4), HTML(value='')))"
      ]
     },
     "metadata": {},
     "output_type": "display_data"
    },
    {
     "data": {
      "application/vnd.jupyter.widget-view+json": {
       "model_id": "",
       "version_major": 2,
       "version_minor": 0
      },
      "text/plain": [
       "HBox(children=(IntProgress(value=0, max=2), HTML(value='')))"
      ]
     },
     "metadata": {},
     "output_type": "display_data"
    },
    {
     "data": {
      "application/vnd.jupyter.widget-view+json": {
       "model_id": "",
       "version_major": 2,
       "version_minor": 0
      },
      "text/plain": [
       "HBox(children=(IntProgress(value=0, max=2), HTML(value='')))"
      ]
     },
     "metadata": {},
     "output_type": "display_data"
    },
    {
     "data": {
      "application/vnd.jupyter.widget-view+json": {
       "model_id": "",
       "version_major": 2,
       "version_minor": 0
      },
      "text/plain": [
       "HBox(children=(IntProgress(value=0, max=4), HTML(value='')))"
      ]
     },
     "metadata": {},
     "output_type": "display_data"
    },
    {
     "data": {
      "application/vnd.jupyter.widget-view+json": {
       "model_id": "",
       "version_major": 2,
       "version_minor": 0
      },
      "text/plain": [
       "HBox(children=(IntProgress(value=0, max=3), HTML(value='')))"
      ]
     },
     "metadata": {},
     "output_type": "display_data"
    },
    {
     "data": {
      "application/vnd.jupyter.widget-view+json": {
       "model_id": "",
       "version_major": 2,
       "version_minor": 0
      },
      "text/plain": [
       "HBox(children=(IntProgress(value=0, max=4), HTML(value='')))"
      ]
     },
     "metadata": {},
     "output_type": "display_data"
    },
    {
     "data": {
      "application/vnd.jupyter.widget-view+json": {
       "model_id": "",
       "version_major": 2,
       "version_minor": 0
      },
      "text/plain": [
       "HBox(children=(IntProgress(value=0, max=3), HTML(value='')))"
      ]
     },
     "metadata": {},
     "output_type": "display_data"
    },
    {
     "data": {
      "application/vnd.jupyter.widget-view+json": {
       "model_id": "",
       "version_major": 2,
       "version_minor": 0
      },
      "text/plain": [
       "HBox(children=(IntProgress(value=0, max=3), HTML(value='')))"
      ]
     },
     "metadata": {},
     "output_type": "display_data"
    },
    {
     "data": {
      "application/vnd.jupyter.widget-view+json": {
       "model_id": "",
       "version_major": 2,
       "version_minor": 0
      },
      "text/plain": [
       "HBox(children=(IntProgress(value=0, max=2), HTML(value='')))"
      ]
     },
     "metadata": {},
     "output_type": "display_data"
    },
    {
     "data": {
      "application/vnd.jupyter.widget-view+json": {
       "model_id": "",
       "version_major": 2,
       "version_minor": 0
      },
      "text/plain": [
       "HBox(children=(IntProgress(value=0, max=3), HTML(value='')))"
      ]
     },
     "metadata": {},
     "output_type": "display_data"
    },
    {
     "data": {
      "application/vnd.jupyter.widget-view+json": {
       "model_id": "",
       "version_major": 2,
       "version_minor": 0
      },
      "text/plain": [
       "HBox(children=(IntProgress(value=0, max=2), HTML(value='')))"
      ]
     },
     "metadata": {},
     "output_type": "display_data"
    },
    {
     "data": {
      "application/vnd.jupyter.widget-view+json": {
       "model_id": "",
       "version_major": 2,
       "version_minor": 0
      },
      "text/plain": [
       "HBox(children=(IntProgress(value=0, max=2), HTML(value='')))"
      ]
     },
     "metadata": {},
     "output_type": "display_data"
    },
    {
     "data": {
      "application/vnd.jupyter.widget-view+json": {
       "model_id": "",
       "version_major": 2,
       "version_minor": 0
      },
      "text/plain": [
       "HBox(children=(IntProgress(value=0, max=2), HTML(value='')))"
      ]
     },
     "metadata": {},
     "output_type": "display_data"
    },
    {
     "data": {
      "application/vnd.jupyter.widget-view+json": {
       "model_id": "",
       "version_major": 2,
       "version_minor": 0
      },
      "text/plain": [
       "HBox(children=(IntProgress(value=0, max=2), HTML(value='')))"
      ]
     },
     "metadata": {},
     "output_type": "display_data"
    },
    {
     "data": {
      "application/vnd.jupyter.widget-view+json": {
       "model_id": "",
       "version_major": 2,
       "version_minor": 0
      },
      "text/plain": [
       "HBox(children=(IntProgress(value=0, max=4), HTML(value='')))"
      ]
     },
     "metadata": {},
     "output_type": "display_data"
    },
    {
     "data": {
      "application/vnd.jupyter.widget-view+json": {
       "model_id": "",
       "version_major": 2,
       "version_minor": 0
      },
      "text/plain": [
       "HBox(children=(IntProgress(value=0, max=4), HTML(value='')))"
      ]
     },
     "metadata": {},
     "output_type": "display_data"
    },
    {
     "data": {
      "application/vnd.jupyter.widget-view+json": {
       "model_id": "",
       "version_major": 2,
       "version_minor": 0
      },
      "text/plain": [
       "HBox(children=(IntProgress(value=0, max=2), HTML(value='')))"
      ]
     },
     "metadata": {},
     "output_type": "display_data"
    },
    {
     "data": {
      "application/vnd.jupyter.widget-view+json": {
       "model_id": "",
       "version_major": 2,
       "version_minor": 0
      },
      "text/plain": [
       "HBox(children=(IntProgress(value=0, max=4), HTML(value='')))"
      ]
     },
     "metadata": {},
     "output_type": "display_data"
    },
    {
     "data": {
      "application/vnd.jupyter.widget-view+json": {
       "model_id": "",
       "version_major": 2,
       "version_minor": 0
      },
      "text/plain": [
       "HBox(children=(IntProgress(value=0, max=4), HTML(value='')))"
      ]
     },
     "metadata": {},
     "output_type": "display_data"
    },
    {
     "data": {
      "application/vnd.jupyter.widget-view+json": {
       "model_id": "",
       "version_major": 2,
       "version_minor": 0
      },
      "text/plain": [
       "HBox(children=(IntProgress(value=0, max=4), HTML(value='')))"
      ]
     },
     "metadata": {},
     "output_type": "display_data"
    },
    {
     "data": {
      "application/vnd.jupyter.widget-view+json": {
       "model_id": "",
       "version_major": 2,
       "version_minor": 0
      },
      "text/plain": [
       "HBox(children=(IntProgress(value=0, max=3), HTML(value='')))"
      ]
     },
     "metadata": {},
     "output_type": "display_data"
    },
    {
     "data": {
      "application/vnd.jupyter.widget-view+json": {
       "model_id": "",
       "version_major": 2,
       "version_minor": 0
      },
      "text/plain": [
       "HBox(children=(IntProgress(value=0, max=2), HTML(value='')))"
      ]
     },
     "metadata": {},
     "output_type": "display_data"
    },
    {
     "data": {
      "application/vnd.jupyter.widget-view+json": {
       "model_id": "",
       "version_major": 2,
       "version_minor": 0
      },
      "text/plain": [
       "HBox(children=(IntProgress(value=0, max=3), HTML(value='')))"
      ]
     },
     "metadata": {},
     "output_type": "display_data"
    },
    {
     "data": {
      "application/vnd.jupyter.widget-view+json": {
       "model_id": "",
       "version_major": 2,
       "version_minor": 0
      },
      "text/plain": [
       "HBox(children=(IntProgress(value=0, max=4), HTML(value='')))"
      ]
     },
     "metadata": {},
     "output_type": "display_data"
    },
    {
     "data": {
      "application/vnd.jupyter.widget-view+json": {
       "model_id": "",
       "version_major": 2,
       "version_minor": 0
      },
      "text/plain": [
       "HBox(children=(IntProgress(value=0, max=3), HTML(value='')))"
      ]
     },
     "metadata": {},
     "output_type": "display_data"
    },
    {
     "data": {
      "application/vnd.jupyter.widget-view+json": {
       "model_id": "",
       "version_major": 2,
       "version_minor": 0
      },
      "text/plain": [
       "HBox(children=(IntProgress(value=0, max=4), HTML(value='')))"
      ]
     },
     "metadata": {},
     "output_type": "display_data"
    },
    {
     "data": {
      "application/vnd.jupyter.widget-view+json": {
       "model_id": "",
       "version_major": 2,
       "version_minor": 0
      },
      "text/plain": [
       "HBox(children=(IntProgress(value=0, max=3), HTML(value='')))"
      ]
     },
     "metadata": {},
     "output_type": "display_data"
    },
    {
     "data": {
      "application/vnd.jupyter.widget-view+json": {
       "model_id": "",
       "version_major": 2,
       "version_minor": 0
      },
      "text/plain": [
       "HBox(children=(IntProgress(value=0, max=3), HTML(value='')))"
      ]
     },
     "metadata": {},
     "output_type": "display_data"
    },
    {
     "data": {
      "application/vnd.jupyter.widget-view+json": {
       "model_id": "",
       "version_major": 2,
       "version_minor": 0
      },
      "text/plain": [
       "HBox(children=(IntProgress(value=0, max=3), HTML(value='')))"
      ]
     },
     "metadata": {},
     "output_type": "display_data"
    },
    {
     "data": {
      "application/vnd.jupyter.widget-view+json": {
       "model_id": "",
       "version_major": 2,
       "version_minor": 0
      },
      "text/plain": [
       "HBox(children=(IntProgress(value=0, max=4), HTML(value='')))"
      ]
     },
     "metadata": {},
     "output_type": "display_data"
    },
    {
     "data": {
      "application/vnd.jupyter.widget-view+json": {
       "model_id": "",
       "version_major": 2,
       "version_minor": 0
      },
      "text/plain": [
       "HBox(children=(IntProgress(value=0, max=4), HTML(value='')))"
      ]
     },
     "metadata": {},
     "output_type": "display_data"
    },
    {
     "data": {
      "application/vnd.jupyter.widget-view+json": {
       "model_id": "",
       "version_major": 2,
       "version_minor": 0
      },
      "text/plain": [
       "HBox(children=(IntProgress(value=0, max=4), HTML(value='')))"
      ]
     },
     "metadata": {},
     "output_type": "display_data"
    },
    {
     "data": {
      "application/vnd.jupyter.widget-view+json": {
       "model_id": "",
       "version_major": 2,
       "version_minor": 0
      },
      "text/plain": [
       "HBox(children=(IntProgress(value=0, max=3), HTML(value='')))"
      ]
     },
     "metadata": {},
     "output_type": "display_data"
    },
    {
     "data": {
      "application/vnd.jupyter.widget-view+json": {
       "model_id": "",
       "version_major": 2,
       "version_minor": 0
      },
      "text/plain": [
       "HBox(children=(IntProgress(value=0, max=4), HTML(value='')))"
      ]
     },
     "metadata": {},
     "output_type": "display_data"
    },
    {
     "data": {
      "application/vnd.jupyter.widget-view+json": {
       "model_id": "",
       "version_major": 2,
       "version_minor": 0
      },
      "text/plain": [
       "HBox(children=(IntProgress(value=0, max=2), HTML(value='')))"
      ]
     },
     "metadata": {},
     "output_type": "display_data"
    },
    {
     "data": {
      "application/vnd.jupyter.widget-view+json": {
       "model_id": "",
       "version_major": 2,
       "version_minor": 0
      },
      "text/plain": [
       "HBox(children=(IntProgress(value=0, max=3), HTML(value='')))"
      ]
     },
     "metadata": {},
     "output_type": "display_data"
    },
    {
     "data": {
      "application/vnd.jupyter.widget-view+json": {
       "model_id": "",
       "version_major": 2,
       "version_minor": 0
      },
      "text/plain": [
       "HBox(children=(IntProgress(value=0, max=3), HTML(value='')))"
      ]
     },
     "metadata": {},
     "output_type": "display_data"
    },
    {
     "data": {
      "application/vnd.jupyter.widget-view+json": {
       "model_id": "",
       "version_major": 2,
       "version_minor": 0
      },
      "text/plain": [
       "HBox(children=(IntProgress(value=0, max=2), HTML(value='')))"
      ]
     },
     "metadata": {},
     "output_type": "display_data"
    },
    {
     "data": {
      "application/vnd.jupyter.widget-view+json": {
       "model_id": "",
       "version_major": 2,
       "version_minor": 0
      },
      "text/plain": [
       "HBox(children=(IntProgress(value=0, max=3), HTML(value='')))"
      ]
     },
     "metadata": {},
     "output_type": "display_data"
    },
    {
     "data": {
      "application/vnd.jupyter.widget-view+json": {
       "model_id": "",
       "version_major": 2,
       "version_minor": 0
      },
      "text/plain": [
       "HBox(children=(IntProgress(value=0, max=4), HTML(value='')))"
      ]
     },
     "metadata": {},
     "output_type": "display_data"
    },
    {
     "data": {
      "application/vnd.jupyter.widget-view+json": {
       "model_id": "",
       "version_major": 2,
       "version_minor": 0
      },
      "text/plain": [
       "HBox(children=(IntProgress(value=0, max=2), HTML(value='')))"
      ]
     },
     "metadata": {},
     "output_type": "display_data"
    },
    {
     "data": {
      "application/vnd.jupyter.widget-view+json": {
       "model_id": "",
       "version_major": 2,
       "version_minor": 0
      },
      "text/plain": [
       "HBox(children=(IntProgress(value=0, max=4), HTML(value='')))"
      ]
     },
     "metadata": {},
     "output_type": "display_data"
    },
    {
     "data": {
      "application/vnd.jupyter.widget-view+json": {
       "model_id": "",
       "version_major": 2,
       "version_minor": 0
      },
      "text/plain": [
       "HBox(children=(IntProgress(value=0, max=2), HTML(value='')))"
      ]
     },
     "metadata": {},
     "output_type": "display_data"
    },
    {
     "data": {
      "application/vnd.jupyter.widget-view+json": {
       "model_id": "",
       "version_major": 2,
       "version_minor": 0
      },
      "text/plain": [
       "HBox(children=(IntProgress(value=0, max=2), HTML(value='')))"
      ]
     },
     "metadata": {},
     "output_type": "display_data"
    },
    {
     "data": {
      "application/vnd.jupyter.widget-view+json": {
       "model_id": "",
       "version_major": 2,
       "version_minor": 0
      },
      "text/plain": [
       "HBox(children=(IntProgress(value=0, max=4), HTML(value='')))"
      ]
     },
     "metadata": {},
     "output_type": "display_data"
    },
    {
     "data": {
      "application/vnd.jupyter.widget-view+json": {
       "model_id": "",
       "version_major": 2,
       "version_minor": 0
      },
      "text/plain": [
       "HBox(children=(IntProgress(value=0, max=3), HTML(value='')))"
      ]
     },
     "metadata": {},
     "output_type": "display_data"
    },
    {
     "data": {
      "application/vnd.jupyter.widget-view+json": {
       "model_id": "",
       "version_major": 2,
       "version_minor": 0
      },
      "text/plain": [
       "HBox(children=(IntProgress(value=0, max=2), HTML(value='')))"
      ]
     },
     "metadata": {},
     "output_type": "display_data"
    },
    {
     "data": {
      "application/vnd.jupyter.widget-view+json": {
       "model_id": "",
       "version_major": 2,
       "version_minor": 0
      },
      "text/plain": [
       "HBox(children=(IntProgress(value=0, max=2), HTML(value='')))"
      ]
     },
     "metadata": {},
     "output_type": "display_data"
    },
    {
     "data": {
      "application/vnd.jupyter.widget-view+json": {
       "model_id": "",
       "version_major": 2,
       "version_minor": 0
      },
      "text/plain": [
       "HBox(children=(IntProgress(value=0, max=2), HTML(value='')))"
      ]
     },
     "metadata": {},
     "output_type": "display_data"
    },
    {
     "data": {
      "application/vnd.jupyter.widget-view+json": {
       "model_id": "",
       "version_major": 2,
       "version_minor": 0
      },
      "text/plain": [
       "HBox(children=(IntProgress(value=0, max=3), HTML(value='')))"
      ]
     },
     "metadata": {},
     "output_type": "display_data"
    },
    {
     "data": {
      "application/vnd.jupyter.widget-view+json": {
       "model_id": "",
       "version_major": 2,
       "version_minor": 0
      },
      "text/plain": [
       "HBox(children=(IntProgress(value=0, max=4), HTML(value='')))"
      ]
     },
     "metadata": {},
     "output_type": "display_data"
    },
    {
     "data": {
      "application/vnd.jupyter.widget-view+json": {
       "model_id": "",
       "version_major": 2,
       "version_minor": 0
      },
      "text/plain": [
       "HBox(children=(IntProgress(value=0, max=3), HTML(value='')))"
      ]
     },
     "metadata": {},
     "output_type": "display_data"
    },
    {
     "data": {
      "application/vnd.jupyter.widget-view+json": {
       "model_id": "",
       "version_major": 2,
       "version_minor": 0
      },
      "text/plain": [
       "HBox(children=(IntProgress(value=0, max=3), HTML(value='')))"
      ]
     },
     "metadata": {},
     "output_type": "display_data"
    },
    {
     "data": {
      "application/vnd.jupyter.widget-view+json": {
       "model_id": "",
       "version_major": 2,
       "version_minor": 0
      },
      "text/plain": [
       "HBox(children=(IntProgress(value=0, max=4), HTML(value='')))"
      ]
     },
     "metadata": {},
     "output_type": "display_data"
    },
    {
     "data": {
      "application/vnd.jupyter.widget-view+json": {
       "model_id": "",
       "version_major": 2,
       "version_minor": 0
      },
      "text/plain": [
       "HBox(children=(IntProgress(value=0, max=2), HTML(value='')))"
      ]
     },
     "metadata": {},
     "output_type": "display_data"
    },
    {
     "data": {
      "application/vnd.jupyter.widget-view+json": {
       "model_id": "",
       "version_major": 2,
       "version_minor": 0
      },
      "text/plain": [
       "HBox(children=(IntProgress(value=0, max=3), HTML(value='')))"
      ]
     },
     "metadata": {},
     "output_type": "display_data"
    },
    {
     "data": {
      "application/vnd.jupyter.widget-view+json": {
       "model_id": "",
       "version_major": 2,
       "version_minor": 0
      },
      "text/plain": [
       "HBox(children=(IntProgress(value=0, max=3), HTML(value='')))"
      ]
     },
     "metadata": {},
     "output_type": "display_data"
    },
    {
     "data": {
      "application/vnd.jupyter.widget-view+json": {
       "model_id": "",
       "version_major": 2,
       "version_minor": 0
      },
      "text/plain": [
       "HBox(children=(IntProgress(value=0, max=2), HTML(value='')))"
      ]
     },
     "metadata": {},
     "output_type": "display_data"
    },
    {
     "data": {
      "application/vnd.jupyter.widget-view+json": {
       "model_id": "",
       "version_major": 2,
       "version_minor": 0
      },
      "text/plain": [
       "HBox(children=(IntProgress(value=0, max=4), HTML(value='')))"
      ]
     },
     "metadata": {},
     "output_type": "display_data"
    },
    {
     "data": {
      "application/vnd.jupyter.widget-view+json": {
       "model_id": "",
       "version_major": 2,
       "version_minor": 0
      },
      "text/plain": [
       "HBox(children=(IntProgress(value=0, max=4), HTML(value='')))"
      ]
     },
     "metadata": {},
     "output_type": "display_data"
    },
    {
     "data": {
      "application/vnd.jupyter.widget-view+json": {
       "model_id": "",
       "version_major": 2,
       "version_minor": 0
      },
      "text/plain": [
       "HBox(children=(IntProgress(value=0, max=2), HTML(value='')))"
      ]
     },
     "metadata": {},
     "output_type": "display_data"
    },
    {
     "data": {
      "application/vnd.jupyter.widget-view+json": {
       "model_id": "",
       "version_major": 2,
       "version_minor": 0
      },
      "text/plain": [
       "HBox(children=(IntProgress(value=0, max=3), HTML(value='')))"
      ]
     },
     "metadata": {},
     "output_type": "display_data"
    },
    {
     "data": {
      "application/vnd.jupyter.widget-view+json": {
       "model_id": "",
       "version_major": 2,
       "version_minor": 0
      },
      "text/plain": [
       "HBox(children=(IntProgress(value=0, max=2), HTML(value='')))"
      ]
     },
     "metadata": {},
     "output_type": "display_data"
    },
    {
     "data": {
      "application/vnd.jupyter.widget-view+json": {
       "model_id": "",
       "version_major": 2,
       "version_minor": 0
      },
      "text/plain": [
       "HBox(children=(IntProgress(value=0, max=2), HTML(value='')))"
      ]
     },
     "metadata": {},
     "output_type": "display_data"
    },
    {
     "data": {
      "application/vnd.jupyter.widget-view+json": {
       "model_id": "",
       "version_major": 2,
       "version_minor": 0
      },
      "text/plain": [
       "HBox(children=(IntProgress(value=0, max=2), HTML(value='')))"
      ]
     },
     "metadata": {},
     "output_type": "display_data"
    },
    {
     "name": "stdout",
     "output_type": "stream",
     "text": [
      "\n"
     ]
    },
    {
     "data": {
      "text/plain": [
       "[[12, 7, 8, 3, 21],\n",
       " [24, 8, 14, 0],\n",
       " [1, 11, 14],\n",
       " [3, 15, 6, 18, 20],\n",
       " [6, 24, 21]]"
      ]
     },
     "execution_count": 13,
     "metadata": {},
     "output_type": "execute_result"
    }
   ],
   "source": [
    "# each leaf in the tree grammar should correspond to a markov generated sequence\n",
    "markov_alphabet = {i:[gen_seq_markov(markov_alphabet_items,\n",
    "                                     markov_probs, \n",
    "                                     np.random.randint(markov_seq_len_range[0], markov_seq_len_range[1])\n",
    "                                    ) for j in range(markov_n_seq_per_element)] for i in tqdm(markov_alphabet_items)}\n",
    "markov_alphabet[alphabet[0]]"
   ]
  },
  {
   "cell_type": "code",
   "execution_count": 14,
   "metadata": {},
   "outputs": [],
   "source": [
    "from joblib import Parallel, delayed"
   ]
  },
  {
   "cell_type": "code",
   "execution_count": 15,
   "metadata": {},
   "outputs": [],
   "source": [
    "def flatten(container):\n",
    "    for i in container:\n",
    "        if isinstance(i, (list,tuple)):\n",
    "            for j in flatten(i):\n",
    "                yield j\n",
    "        else:\n",
    "            yield i"
   ]
  },
  {
   "cell_type": "code",
   "execution_count": 16,
   "metadata": {},
   "outputs": [
    {
     "data": {
      "application/vnd.jupyter.widget-view+json": {
       "model_id": "e39a6a366c4349b0b65962ad0383687d",
       "version_major": 2,
       "version_minor": 0
      },
      "text/plain": [
       "HBox(children=(IntProgress(value=0, max=1000), HTML(value='')))"
      ]
     },
     "metadata": {},
     "output_type": "display_data"
    },
    {
     "name": "stdout",
     "output_type": "stream",
     "text": [
      "\n"
     ]
    }
   ],
   "source": [
    "sequences = Parallel(n_jobs = -1)(delayed(gen_seq_hierarchical)(alphabet, probs, depth, n_subsamples=n_subsamples) for seq in tqdm(range(nseq)))"
   ]
  },
  {
   "cell_type": "code",
   "execution_count": 17,
   "metadata": {},
   "outputs": [
    {
     "data": {
      "text/plain": [
       "(1000, 4096)"
      ]
     },
     "execution_count": 17,
     "metadata": {},
     "output_type": "execute_result"
    }
   ],
   "source": [
    "len(sequences), len(list(flatten(sequences[0])))"
   ]
  },
  {
   "cell_type": "code",
   "execution_count": 18,
   "metadata": {},
   "outputs": [],
   "source": [
    "def replace_markov_alphabet_recursive(sequence, markov_alphabet, markov_n_seq_per_element):\n",
    "    \"\"\" subsamples a sequence given a probability matrix\n",
    "    \n",
    "    given a sequence, resamples each element in that sequences given a probability matrix of sequence element to new elements\n",
    "    \n",
    "    Arguments:\n",
    "        sequence {[type]} -- input sequence\n",
    "        probs {[type]} -- the probability matrix\n",
    "        q {[type]} -- the number of items to subsample\n",
    "    \"\"\"\n",
    "    for i in sequence:\n",
    "        if type(i) == list:\n",
    "            return [replace_markov_alphabet_recursive(i,markov_alphabet, markov_n_seq_per_element) for i in sequence]\n",
    "        else:\n",
    "            return markov_alphabet[i][np.random.choice(sequence)]"
   ]
  },
  {
   "cell_type": "code",
   "execution_count": 19,
   "metadata": {},
   "outputs": [],
   "source": [
    "def replace_markov_alphabet(seq, markov_alphabet,markov_n_seq_per_element):\n",
    "    return [markov_alphabet[i][np.random.choice(markov_n_seq_per_element)] for i in seq]"
   ]
  },
  {
   "cell_type": "code",
   "execution_count": 20,
   "metadata": {},
   "outputs": [],
   "source": [
    "# replace each element with Markov sampled sequences\n",
    "#sequences_markov = Parallel(n_jobs = -1)(delayed(replace_markov_alphabet)(seq, markov_alphabet,markov_n_seq_per_element) for seq in tqdm(sequences))"
   ]
  },
  {
   "cell_type": "code",
   "execution_count": 21,
   "metadata": {},
   "outputs": [
    {
     "data": {
      "application/vnd.jupyter.widget-view+json": {
       "model_id": "cd6cba34c9d1425c93382fe6450de68c",
       "version_major": 2,
       "version_minor": 0
      },
      "text/plain": [
       "HBox(children=(IntProgress(value=0, max=1000), HTML(value='')))"
      ]
     },
     "metadata": {},
     "output_type": "display_data"
    },
    {
     "name": "stdout",
     "output_type": "stream",
     "text": [
      "\n"
     ]
    }
   ],
   "source": [
    "# replace each element with Markov sampled sequences\n",
    "sequences_markov = Parallel(n_jobs = -1)(delayed(replace_markov_alphabet_recursive)(seq, markov_alphabet,markov_n_seq_per_element) for seq in tqdm(sequences))"
   ]
  },
  {
   "cell_type": "markdown",
   "metadata": {},
   "source": [
    "# MI"
   ]
  },
  {
   "cell_type": "code",
   "execution_count": 22,
   "metadata": {},
   "outputs": [],
   "source": [
    "from childes_mi.information_theory import mutual_information as mi\n",
    "# distances of MI to sample at\n",
    "distances = np.arange(1,101)"
   ]
  },
  {
   "cell_type": "markdown",
   "metadata": {},
   "source": [
    "### MI over sequences without Markov endpoints"
   ]
  },
  {
   "cell_type": "code",
   "execution_count": 23,
   "metadata": {},
   "outputs": [
    {
     "data": {
      "application/vnd.jupyter.widget-view+json": {
       "model_id": "2be741c602cf4c5b83b4bf71eed1c58c",
       "version_major": 2,
       "version_minor": 0
      },
      "text/plain": [
       "HBox(children=(IntProgress(value=0, max=1000), HTML(value='')))"
      ]
     },
     "metadata": {},
     "output_type": "display_data"
    },
    {
     "name": "stdout",
     "output_type": "stream",
     "text": [
      "\n"
     ]
    }
   ],
   "source": [
    "flat_sequences = [list(flatten(i)) for i in tqdm(sequences)]"
   ]
  },
  {
   "cell_type": "code",
   "execution_count": 24,
   "metadata": {
    "ExecuteTime": {
     "end_time": "2020-04-07T20:57:08.985920Z",
     "start_time": "2020-04-07T20:57:02.235326Z"
    }
   },
   "outputs": [
    {
     "data": {
      "application/vnd.jupyter.widget-view+json": {
       "model_id": "",
       "version_major": 2,
       "version_minor": 0
      },
      "text/plain": [
       "HBox(children=(IntProgress(value=0), HTML(value='')))"
      ]
     },
     "metadata": {},
     "output_type": "display_data"
    },
    {
     "name": "stderr",
     "output_type": "stream",
     "text": [
      "[Parallel(n_jobs=-1)]: Using backend LokyBackend with 32 concurrent workers.\n",
      "[Parallel(n_jobs=-1)]: Done   8 tasks      | elapsed:    1.6s\n"
     ]
    },
    {
     "name": "stdout",
     "output_type": "stream",
     "text": [
      "\r"
     ]
    },
    {
     "name": "stderr",
     "output_type": "stream",
     "text": [
      "[Parallel(n_jobs=-1)]: Done  58 out of 100 | elapsed:    4.0s remaining:    2.9s\n",
      "[Parallel(n_jobs=-1)]: Done  79 out of 100 | elapsed:    5.1s remaining:    1.4s\n",
      "[Parallel(n_jobs=-1)]: Done 100 out of 100 | elapsed:    6.3s remaining:    0.0s\n",
      "[Parallel(n_jobs=-1)]: Done 100 out of 100 | elapsed:    6.3s finished\n"
     ]
    },
    {
     "data": {
      "application/vnd.jupyter.widget-view+json": {
       "model_id": "",
       "version_major": 2,
       "version_minor": 0
      },
      "text/plain": [
       "HBox(children=(IntProgress(value=0), HTML(value='')))"
      ]
     },
     "metadata": {},
     "output_type": "display_data"
    },
    {
     "name": "stderr",
     "output_type": "stream",
     "text": [
      "[Parallel(n_jobs=-1)]: Using backend LokyBackend with 32 concurrent workers.\n",
      "[Parallel(n_jobs=-1)]: Done   8 tasks      | elapsed:    1.2s\n"
     ]
    },
    {
     "name": "stdout",
     "output_type": "stream",
     "text": [
      "\r"
     ]
    },
    {
     "name": "stderr",
     "output_type": "stream",
     "text": [
      "[Parallel(n_jobs=-1)]: Done  58 out of 100 | elapsed:    3.9s remaining:    2.8s\n",
      "[Parallel(n_jobs=-1)]: Done  79 out of 100 | elapsed:    5.1s remaining:    1.4s\n",
      "[Parallel(n_jobs=-1)]: Done 100 out of 100 | elapsed:    6.1s remaining:    0.0s\n",
      "[Parallel(n_jobs=-1)]: Done 100 out of 100 | elapsed:    6.1s finished\n"
     ]
    }
   ],
   "source": [
    "# original model\n",
    "(MI, MI_var), (shuff_MI, shuff_MI_var) = mi.sequential_mutual_information(\n",
    "    flat_sequences, distances=distances, n_jobs=-1\n",
    ")"
   ]
  },
  {
   "cell_type": "code",
   "execution_count": 25,
   "metadata": {
    "ExecuteTime": {
     "end_time": "2020-04-07T20:57:12.181211Z",
     "start_time": "2020-04-07T20:57:12.174286Z"
    }
   },
   "outputs": [],
   "source": [
    "MI_DF =  pd.DataFrame(\n",
    "    [[MI, MI_var, shuff_MI, shuff_MI_var, distances, \"no_markov\"]],\n",
    "    columns=[\"MI\", \"MI_var\", \"shuff_MI\", \"shuff_MI_var\", \"distances\", \"shuffle\"],\n",
    ")"
   ]
  },
  {
   "cell_type": "code",
   "execution_count": 26,
   "metadata": {},
   "outputs": [
    {
     "data": {
      "text/plain": [
       "(0.0001, 5)"
      ]
     },
     "execution_count": 26,
     "metadata": {},
     "output_type": "execute_result"
    },
    {
     "data": {
      "image/png": "[encoded data removed]",
      "text/plain": [
       "<Figure size 360x360 with 1 Axes>"
      ]
     },
     "metadata": {
      "needs_background": "light"
     },
     "output_type": "display_data"
    }
   ],
   "source": [
    "row = MI_DF.iloc[len(MI_DF)-1]\n",
    "fig, ax = plt.subplots(figsize=(5,5))\n",
    "MI = row.MI-row.shuff_MI\n",
    "MI_var = row.MI_var\n",
    "\n",
    "ax.scatter(distances, MI)\n",
    "ax.fill_between(distances, MI-MI_var, MI+MI_var, alpha = 0.25, color= 'k')\n",
    "ax.set_yscale('log')\n",
    "ax.set_xscale('log')\n",
    "ax.set_ylim([1e-4, 5])"
   ]
  },
  {
   "cell_type": "markdown",
   "metadata": {},
   "source": [
    "### MI over original data"
   ]
  },
  {
   "cell_type": "code",
   "execution_count": 27,
   "metadata": {},
   "outputs": [
    {
     "data": {
      "application/vnd.jupyter.widget-view+json": {
       "model_id": "0f652608cb494a16a741da0d8e1b04f5",
       "version_major": 2,
       "version_minor": 0
      },
      "text/plain": [
       "HBox(children=(IntProgress(value=0, max=1000), HTML(value='')))"
      ]
     },
     "metadata": {},
     "output_type": "display_data"
    },
    {
     "name": "stdout",
     "output_type": "stream",
     "text": [
      "\n"
     ]
    }
   ],
   "source": [
    "sequences_flat = [list(flatten(i)) for i in tqdm(sequences_markov)]"
   ]
  },
  {
   "cell_type": "code",
   "execution_count": 28,
   "metadata": {
    "ExecuteTime": {
     "end_time": "2020-04-07T20:57:08.985920Z",
     "start_time": "2020-04-07T20:57:02.235326Z"
    }
   },
   "outputs": [
    {
     "data": {
      "application/vnd.jupyter.widget-view+json": {
       "model_id": "",
       "version_major": 2,
       "version_minor": 0
      },
      "text/plain": [
       "HBox(children=(IntProgress(value=0), HTML(value='')))"
      ]
     },
     "metadata": {},
     "output_type": "display_data"
    },
    {
     "name": "stderr",
     "output_type": "stream",
     "text": [
      "[Parallel(n_jobs=-1)]: Using backend LokyBackend with 32 concurrent workers.\n",
      "[Parallel(n_jobs=-1)]: Done   8 tasks      | elapsed:    2.6s\n"
     ]
    },
    {
     "name": "stdout",
     "output_type": "stream",
     "text": [
      "\r"
     ]
    },
    {
     "name": "stderr",
     "output_type": "stream",
     "text": [
      "[Parallel(n_jobs=-1)]: Done  58 out of 100 | elapsed:    7.8s remaining:    5.7s\n",
      "[Parallel(n_jobs=-1)]: Done  79 out of 100 | elapsed:    9.7s remaining:    2.6s\n",
      "[Parallel(n_jobs=-1)]: Done 100 out of 100 | elapsed:   11.3s remaining:    0.0s\n",
      "[Parallel(n_jobs=-1)]: Done 100 out of 100 | elapsed:   11.3s finished\n"
     ]
    },
    {
     "data": {
      "application/vnd.jupyter.widget-view+json": {
       "model_id": "",
       "version_major": 2,
       "version_minor": 0
      },
      "text/plain": [
       "HBox(children=(IntProgress(value=0), HTML(value='')))"
      ]
     },
     "metadata": {},
     "output_type": "display_data"
    },
    {
     "name": "stderr",
     "output_type": "stream",
     "text": [
      "[Parallel(n_jobs=-1)]: Using backend LokyBackend with 32 concurrent workers.\n",
      "[Parallel(n_jobs=-1)]: Done   8 tasks      | elapsed:    3.1s\n"
     ]
    },
    {
     "name": "stdout",
     "output_type": "stream",
     "text": [
      "\r"
     ]
    },
    {
     "name": "stderr",
     "output_type": "stream",
     "text": [
      "[Parallel(n_jobs=-1)]: Done  58 out of 100 | elapsed:    8.8s remaining:    6.4s\n",
      "[Parallel(n_jobs=-1)]: Done  79 out of 100 | elapsed:   10.3s remaining:    2.7s\n",
      "[Parallel(n_jobs=-1)]: Done 100 out of 100 | elapsed:   12.6s remaining:    0.0s\n",
      "[Parallel(n_jobs=-1)]: Done 100 out of 100 | elapsed:   12.6s finished\n"
     ]
    }
   ],
   "source": [
    "# original model\n",
    "(MI, MI_var), (shuff_MI, shuff_MI_var) = mi.sequential_mutual_information(\n",
    "    sequences_flat, distances=distances, n_jobs=-1\n",
    ")"
   ]
  },
  {
   "cell_type": "code",
   "execution_count": 29,
   "metadata": {
    "ExecuteTime": {
     "end_time": "2020-04-07T20:57:12.181211Z",
     "start_time": "2020-04-07T20:57:12.174286Z"
    }
   },
   "outputs": [],
   "source": [
    "MI_DF =  MI_DF.append([pd.DataFrame(\n",
    "    [[MI, MI_var, shuff_MI, shuff_MI_var, distances, \"original\"]],\n",
    "    columns=[\"MI\", \"MI_var\", \"shuff_MI\", \"shuff_MI_var\", \"distances\", \"shuffle\"],\n",
    ")])"
   ]
  },
  {
   "cell_type": "code",
   "execution_count": 30,
   "metadata": {
    "ExecuteTime": {
     "end_time": "2020-04-07T20:57:13.555480Z",
     "start_time": "2020-04-07T20:57:12.987385Z"
    }
   },
   "outputs": [
    {
     "data": {
      "text/plain": [
       "(0.0001, 5)"
      ]
     },
     "execution_count": 30,
     "metadata": {},
     "output_type": "execute_result"
    },
    {
     "data": {
      "image/png": "[encoded data removed]",
      "text/plain": [
       "<Figure size 360x360 with 1 Axes>"
      ]
     },
     "metadata": {
      "needs_background": "light"
     },
     "output_type": "display_data"
    }
   ],
   "source": [
    "row = MI_DF.iloc[len(MI_DF)-1]\n",
    "fig, ax = plt.subplots(figsize=(5,5))\n",
    "MI = row.MI-row.shuff_MI\n",
    "MI_var = row.MI_var\n",
    "\n",
    "ax.scatter(distances, MI)\n",
    "ax.fill_between(distances, MI-MI_var, MI+MI_var, alpha = 0.25, color= 'k')\n",
    "ax.set_yscale('log')\n",
    "ax.set_xscale('log')\n",
    "ax.set_ylim([1e-4, 5])"
   ]
  },
  {
   "cell_type": "markdown",
   "metadata": {},
   "source": [
    "### shuffle \"words\" within \"transcript\""
   ]
  },
  {
   "cell_type": "code",
   "execution_count": 31,
   "metadata": {},
   "outputs": [],
   "source": [
    "import itertools\n",
    "\n",
    "def recursively_concatenate_to_depth(sequence, depth, i=0):\n",
    "    if depth ==i:\n",
    "        return list(sequence)\n",
    "    else:\n",
    "        return recursively_concatenate_to_depth(list(itertools.chain.from_iterable(sequence)), depth, i=i+1)"
   ]
  },
  {
   "cell_type": "code",
   "execution_count": 32,
   "metadata": {},
   "outputs": [
    {
     "data": {
      "application/vnd.jupyter.widget-view+json": {
       "model_id": "e9c18fcd6ea54c7fb442d9f63e5bc3e6",
       "version_major": 2,
       "version_minor": 0
      },
      "text/plain": [
       "HBox(children=(IntProgress(value=0, max=1000), HTML(value='')))"
      ]
     },
     "metadata": {},
     "output_type": "display_data"
    },
    {
     "name": "stdout",
     "output_type": "stream",
     "text": [
      "\n"
     ]
    }
   ],
   "source": [
    "words_within_transcript_list = [recursively_concatenate_to_depth(sequence, depth-1) for sequence in tqdm(sequences_markov)]"
   ]
  },
  {
   "cell_type": "code",
   "execution_count": 33,
   "metadata": {},
   "outputs": [
    {
     "data": {
      "text/plain": [
       "[[22, 21, 5],\n",
       " [22, 21, 5],\n",
       " [15, 20, 0, 24],\n",
       " [22, 21, 5],\n",
       " [2, 6, 9, 18],\n",
       " [19, 24, 8],\n",
       " [2, 6, 9, 18],\n",
       " [19, 24, 8],\n",
       " [11, 12, 21, 11, 11],\n",
       " [22, 21, 5],\n",
       " [15, 2, 9],\n",
       " [22, 21, 5],\n",
       " [22, 21, 5],\n",
       " [22, 21, 5],\n",
       " [22, 21, 5],\n",
       " [22, 21, 5],\n",
       " [18, 23, 12, 23],\n",
       " [22, 21, 5],\n",
       " [15, 20, 0, 24],\n",
       " [15, 2, 9],\n",
       " [22, 21, 5],\n",
       " [22, 21, 5],\n",
       " [22, 21, 5],\n",
       " [22, 21, 5],\n",
       " [22, 21, 5],\n",
       " [11, 12, 21, 11, 11],\n",
       " [22, 21, 5],\n",
       " [18, 23, 12, 23],\n",
       " [22, 21, 5],\n",
       " [15, 2, 9],\n",
       " [22, 21, 5],\n",
       " [22, 21, 5],\n",
       " [22, 21, 5],\n",
       " [2, 6, 9, 18],\n",
       " [2, 6, 9, 18],\n",
       " [2, 6, 9, 18],\n",
       " [11, 12, 21, 11, 11],\n",
       " [22, 21, 5],\n",
       " [22, 21, 5],\n",
       " [22, 21, 5],\n",
       " [22, 21, 5],\n",
       " [22, 21, 5],\n",
       " [22, 21, 5],\n",
       " [22, 21, 5],\n",
       " [22, 21, 5],\n",
       " [22, 21, 5],\n",
       " [14, 23, 12],\n",
       " [12, 7, 8, 3, 21],\n",
       " [15, 2, 9],\n",
       " [22, 21, 5],\n",
       " [12, 7, 8, 3, 21],\n",
       " [12, 7, 8, 3, 21],\n",
       " [12, 7, 8, 3, 21],\n",
       " [2, 6, 9, 18],\n",
       " [2, 6, 9, 18],\n",
       " [2, 6, 9, 18],\n",
       " [15, 2, 9],\n",
       " [22, 21, 5],\n",
       " [22, 21, 5],\n",
       " [22, 21, 5],\n",
       " [12, 7, 8, 3, 21],\n",
       " [2, 6, 9, 18],\n",
       " [2, 6, 9, 18],\n",
       " [2, 6, 9, 18],\n",
       " [12, 7, 8, 3, 21],\n",
       " [12, 7, 8, 3, 21],\n",
       " [11, 12, 21, 11, 11],\n",
       " [22, 21, 5],\n",
       " [22, 21, 5],\n",
       " [11, 12, 21, 11, 11],\n",
       " [22, 21, 5],\n",
       " [18, 23, 12, 23],\n",
       " [11, 12, 21, 11, 11],\n",
       " [22, 21, 5],\n",
       " [22, 21, 5],\n",
       " [18, 23, 12, 23],\n",
       " [22, 21, 5],\n",
       " [22, 21, 5],\n",
       " [22, 21, 5],\n",
       " [22, 21, 5],\n",
       " [22, 21, 5],\n",
       " [11, 12, 21, 11, 11],\n",
       " [22, 21, 5],\n",
       " [22, 21, 5],\n",
       " [22, 21, 5],\n",
       " [22, 21, 5],\n",
       " [22, 21, 5],\n",
       " [22, 21, 5],\n",
       " [22, 21, 5],\n",
       " [22, 21, 5],\n",
       " [22, 21, 5],\n",
       " [22, 21, 5],\n",
       " [22, 21, 5],\n",
       " [22, 21, 5],\n",
       " [15, 20, 0, 24],\n",
       " [22, 21, 5],\n",
       " [12, 7, 8, 3, 21],\n",
       " [12, 7, 8, 3, 21],\n",
       " [22, 21, 5],\n",
       " [22, 21, 5],\n",
       " [18, 23, 12, 23],\n",
       " [18, 23, 12, 23],\n",
       " [22, 21, 5],\n",
       " [15, 20, 0, 24],\n",
       " [18, 23, 12, 23],\n",
       " [18, 23, 12, 23],\n",
       " [18, 23, 12, 23],\n",
       " [18, 23, 12, 23],\n",
       " [18, 23, 12, 23],\n",
       " [18, 23, 12, 23],\n",
       " [18, 23, 12, 23],\n",
       " [18, 23, 12, 23],\n",
       " [2, 6, 9, 18],\n",
       " [12, 21, 1],\n",
       " [18, 23, 12, 23],\n",
       " [18, 23, 12, 23],\n",
       " [18, 23, 12, 23],\n",
       " [2, 6, 9, 18],\n",
       " [18, 23, 12, 23],\n",
       " [18, 23, 12, 23],\n",
       " [2, 6, 9, 18],\n",
       " [2, 6, 9, 18],\n",
       " [12, 7, 8, 3, 21],\n",
       " [2, 6, 9, 18],\n",
       " [22, 21, 5],\n",
       " [22, 21, 5],\n",
       " [22, 21, 5],\n",
       " [22, 21, 5],\n",
       " [11, 12, 21, 11, 11],\n",
       " [11, 12, 21, 11, 11],\n",
       " [18, 23, 12, 23],\n",
       " [1, 11, 14],\n",
       " [18, 23, 12, 23],\n",
       " [18, 23, 12, 23],\n",
       " [11, 12, 21, 11, 11],\n",
       " [11, 12, 21, 11, 11],\n",
       " [22, 21, 5],\n",
       " [11, 12, 21, 11, 11],\n",
       " [22, 21, 5],\n",
       " [22, 21, 5],\n",
       " [22, 21, 5],\n",
       " [2, 6, 9, 18],\n",
       " [12, 7, 8, 3, 21],\n",
       " [2, 6, 9, 18],\n",
       " [18, 23, 12, 23],\n",
       " [18, 23, 12, 23],\n",
       " [17, 16, 4, 1],\n",
       " [18, 23, 12, 23],\n",
       " [18, 23, 12, 23],\n",
       " [18, 23, 12, 23],\n",
       " [2, 6, 9, 18],\n",
       " [14, 23, 12],\n",
       " [18, 23, 12, 23],\n",
       " [18, 23, 12, 23],\n",
       " [2, 6, 9, 18],\n",
       " [2, 6, 9, 18],\n",
       " [22, 21, 5],\n",
       " [22, 21, 5],\n",
       " [5, 6, 21, 16, 4],\n",
       " [5, 6, 21, 16, 4],\n",
       " [11, 12, 21, 11, 11],\n",
       " [11, 12, 21, 11, 11],\n",
       " [18, 23, 12, 23],\n",
       " [11, 12, 21, 11, 11],\n",
       " [11, 12, 21, 11, 11],\n",
       " [11, 12, 21, 11, 11],\n",
       " [11, 12, 21, 11, 11],\n",
       " [11, 12, 21, 11, 11],\n",
       " [11, 12, 21, 11, 11],\n",
       " [11, 12, 21, 11, 11],\n",
       " [12, 7, 8, 3, 21],\n",
       " [11, 12, 21, 11, 11],\n",
       " [11, 12, 21, 11, 11],\n",
       " [11, 12, 21, 11, 11],\n",
       " [11, 12, 21, 11, 11],\n",
       " [11, 12, 21, 11, 11],\n",
       " [18, 23, 12, 23],\n",
       " [18, 23, 12, 23],\n",
       " [18, 23, 12, 23],\n",
       " [18, 23, 12, 23],\n",
       " [11, 12, 21, 11, 11],\n",
       " [11, 12, 21, 11, 11],\n",
       " [22, 21, 5],\n",
       " [1, 11, 14],\n",
       " [18, 23, 12, 23],\n",
       " [2, 6, 9, 18],\n",
       " [18, 23, 12, 23],\n",
       " [18, 23, 12, 23],\n",
       " [1, 11, 14],\n",
       " [11, 12, 21, 11, 11],\n",
       " [11, 12, 21, 11, 11],\n",
       " [11, 12, 21, 11, 11],\n",
       " [22, 21, 5],\n",
       " [22, 21, 5],\n",
       " [11, 12, 21, 11, 11],\n",
       " [22, 21, 5],\n",
       " [22, 21, 5],\n",
       " [15, 2, 9],\n",
       " [22, 21, 5],\n",
       " [22, 21, 5],\n",
       " [22, 21, 5],\n",
       " [15, 20, 0, 24],\n",
       " [22, 21, 5],\n",
       " [22, 21, 5],\n",
       " [22, 21, 5],\n",
       " [11, 12, 21, 11, 11],\n",
       " [22, 21, 5],\n",
       " [22, 21, 5],\n",
       " [22, 21, 5],\n",
       " [22, 21, 5],\n",
       " [12, 7, 8, 3, 21],\n",
       " [12, 7, 8, 3, 21],\n",
       " [22, 21, 5],\n",
       " [22, 21, 5],\n",
       " [22, 21, 5],\n",
       " [22, 21, 5],\n",
       " [22, 21, 5],\n",
       " [22, 21, 5],\n",
       " [22, 21, 5],\n",
       " [18, 23, 12, 23],\n",
       " [22, 21, 5],\n",
       " [11, 12, 21, 11, 11],\n",
       " [15, 20, 0, 24],\n",
       " [22, 21, 5],\n",
       " [11, 12, 21, 11, 11],\n",
       " [11, 12, 21, 11, 11],\n",
       " [22, 21, 5],\n",
       " [22, 21, 5],\n",
       " [22, 21, 5],\n",
       " [11, 12, 21, 11, 11],\n",
       " [2, 6, 9, 18],\n",
       " [2, 6, 9, 18],\n",
       " [12, 7, 8, 3, 21],\n",
       " [12, 7, 8, 3, 21],\n",
       " [15, 2, 9],\n",
       " [22, 21, 5],\n",
       " [22, 21, 5],\n",
       " [22, 21, 5],\n",
       " [22, 21, 5],\n",
       " [22, 21, 5],\n",
       " [22, 21, 5],\n",
       " [11, 12, 21, 11, 11],\n",
       " [22, 21, 5],\n",
       " [22, 21, 5],\n",
       " [22, 21, 5],\n",
       " [12, 7, 8, 3, 21],\n",
       " [12, 7, 8, 3, 21],\n",
       " [12, 7, 8, 3, 21],\n",
       " [18, 23, 12, 23],\n",
       " [2, 6, 9, 18],\n",
       " [18, 23, 12, 23],\n",
       " [18, 23, 12, 23],\n",
       " [18, 23, 12, 23],\n",
       " [18, 23, 12, 23],\n",
       " [15, 2, 9],\n",
       " [18, 23, 12, 23],\n",
       " [18, 23, 12, 23],\n",
       " [12, 21, 1],\n",
       " [2, 6, 9, 18],\n",
       " [2, 6, 9, 18],\n",
       " [18, 23, 12, 23],\n",
       " [18, 23, 12, 23],\n",
       " [17, 16, 4, 1],\n",
       " [18, 23, 12, 23],\n",
       " [18, 23, 12, 23],\n",
       " [18, 23, 12, 23],\n",
       " [18, 23, 12, 23],\n",
       " [17, 16, 4, 1],\n",
       " [18, 23, 12, 23],\n",
       " [2, 6, 9, 18],\n",
       " [18, 23, 12, 23],\n",
       " [18, 23, 12, 23],\n",
       " [18, 23, 12, 23],\n",
       " [22, 21, 5],\n",
       " [18, 23, 12, 23],\n",
       " [18, 23, 12, 23],\n",
       " [18, 23, 12, 23],\n",
       " [18, 23, 12, 23],\n",
       " [2, 6, 9, 18],\n",
       " [2, 6, 9, 18],\n",
       " [11, 12, 21, 11, 11],\n",
       " [11, 12, 21, 11, 11],\n",
       " [22, 21, 5],\n",
       " [22, 21, 5],\n",
       " [18, 23, 12, 23],\n",
       " [18, 23, 12, 23],\n",
       " [2, 6, 9, 18],\n",
       " [2, 6, 9, 18],\n",
       " [2, 6, 9, 18],\n",
       " [2, 6, 9, 18],\n",
       " [2, 6, 9, 18],\n",
       " [2, 6, 9, 18],\n",
       " [12, 7, 8, 3, 21],\n",
       " [1, 11, 14],\n",
       " [12, 7, 8, 3, 21],\n",
       " [12, 7, 8, 3, 21],\n",
       " [2, 6, 9, 18],\n",
       " [2, 6, 9, 18],\n",
       " [2, 6, 9, 18],\n",
       " [2, 6, 9, 18],\n",
       " [2, 6, 9, 18],\n",
       " [2, 6, 9, 18],\n",
       " [2, 6, 9, 18],\n",
       " [2, 6, 9, 18],\n",
       " [12, 7, 8, 3, 21],\n",
       " [2, 6, 9, 18],\n",
       " [2, 6, 9, 18],\n",
       " [2, 6, 9, 18],\n",
       " [2, 6, 9, 18],\n",
       " [19, 24, 8],\n",
       " [18, 23, 12, 23],\n",
       " [18, 23, 12, 23],\n",
       " [2, 6, 9, 18],\n",
       " [22, 21, 5],\n",
       " [2, 6, 9, 18],\n",
       " [2, 6, 9, 18],\n",
       " [2, 6, 9, 18],\n",
       " [12, 7, 8, 3, 21],\n",
       " [2, 6, 9, 18],\n",
       " [2, 6, 9, 18],\n",
       " [2, 6, 9, 18],\n",
       " [17, 16, 4, 1],\n",
       " [18, 23, 12, 23],\n",
       " [12, 21, 1],\n",
       " [11, 12, 21, 11, 11],\n",
       " [11, 12, 21, 11, 11],\n",
       " [11, 12, 21, 11, 11],\n",
       " [11, 12, 21, 11, 11],\n",
       " [2, 6, 9, 18],\n",
       " [2, 6, 9, 18],\n",
       " [2, 6, 9, 18],\n",
       " [2, 6, 9, 18],\n",
       " [17, 16, 4, 1],\n",
       " [18, 23, 12, 23],\n",
       " [2, 6, 9, 18],\n",
       " [2, 6, 9, 18],\n",
       " [18, 23, 12, 23],\n",
       " [18, 23, 12, 23],\n",
       " [18, 23, 12, 23],\n",
       " [18, 23, 12, 23],\n",
       " [18, 23, 12, 23],\n",
       " [15, 2, 9],\n",
       " [18, 23, 12, 23],\n",
       " [12, 21, 1],\n",
       " [12, 21, 1],\n",
       " [18, 23, 12, 23],\n",
       " [18, 23, 12, 23],\n",
       " [18, 23, 12, 23],\n",
       " [18, 23, 12, 23],\n",
       " [18, 23, 12, 23],\n",
       " [15, 20, 0, 24],\n",
       " [18, 23, 12, 23],\n",
       " [18, 23, 12, 23],\n",
       " [22, 21, 5],\n",
       " [18, 23, 12, 23],\n",
       " [18, 23, 12, 23],\n",
       " [18, 23, 12, 23],\n",
       " [18, 23, 12, 23],\n",
       " [2, 6, 9, 18],\n",
       " [19, 24, 8],\n",
       " [18, 23, 12, 23],\n",
       " [18, 23, 12, 23],\n",
       " [2, 6, 9, 18],\n",
       " [18, 23, 12, 23],\n",
       " [18, 23, 12, 23],\n",
       " [18, 23, 12, 23],\n",
       " [2, 6, 9, 18],\n",
       " [2, 6, 9, 18],\n",
       " [18, 23, 12, 23],\n",
       " [18, 23, 12, 23],\n",
       " [18, 23, 12, 23],\n",
       " [18, 23, 12, 23],\n",
       " [18, 23, 12, 23],\n",
       " [18, 23, 12, 23],\n",
       " [18, 23, 12, 23],\n",
       " [18, 23, 12, 23],\n",
       " [12, 7, 8, 3, 21],\n",
       " [12, 7, 8, 3, 21],\n",
       " [12, 7, 8, 3, 21],\n",
       " [11, 12, 21, 11, 11],\n",
       " [12, 7, 8, 3, 21],\n",
       " [11, 12, 21, 11, 11],\n",
       " [12, 7, 8, 3, 21],\n",
       " [12, 7, 8, 3, 21],\n",
       " [22, 21, 5],\n",
       " [22, 21, 5],\n",
       " [12, 7, 8, 3, 21],\n",
       " [12, 7, 8, 3, 21],\n",
       " [22, 21, 5],\n",
       " [22, 21, 5],\n",
       " [11, 12, 21, 11, 11],\n",
       " [22, 21, 5],\n",
       " [22, 21, 5],\n",
       " [22, 21, 5],\n",
       " [22, 21, 5],\n",
       " [22, 21, 5],\n",
       " [22, 21, 5],\n",
       " [22, 21, 5],\n",
       " [22, 21, 5],\n",
       " [15, 2, 9],\n",
       " [15, 20, 0, 24],\n",
       " [11, 12, 21, 11, 11],\n",
       " [22, 21, 5],\n",
       " [22, 21, 5],\n",
       " [22, 21, 5],\n",
       " [15, 2, 9],\n",
       " [22, 21, 5],\n",
       " [22, 21, 5],\n",
       " [2, 6, 9, 18],\n",
       " [5, 6, 21, 16, 4],\n",
       " [22, 21, 5],\n",
       " [18, 23, 12, 23],\n",
       " [18, 23, 12, 23],\n",
       " [18, 23, 12, 23],\n",
       " [18, 23, 12, 23],\n",
       " [18, 23, 12, 23],\n",
       " [22, 21, 5],\n",
       " [22, 21, 5],\n",
       " [5, 6, 21, 16, 4],\n",
       " [22, 21, 5],\n",
       " [22, 21, 5],\n",
       " [15, 2, 9],\n",
       " [22, 21, 5],\n",
       " [22, 21, 5],\n",
       " [22, 21, 5],\n",
       " [22, 21, 5],\n",
       " [12, 7, 8, 3, 21],\n",
       " [2, 6, 9, 18],\n",
       " [22, 21, 5],\n",
       " [22, 21, 5],\n",
       " [22, 21, 5],\n",
       " [22, 21, 5],\n",
       " [12, 7, 8, 3, 21],\n",
       " [12, 7, 8, 3, 21],\n",
       " [22, 21, 5],\n",
       " [15, 2, 9],\n",
       " [22, 21, 5],\n",
       " [22, 21, 5],\n",
       " [22, 21, 5],\n",
       " [22, 21, 5],\n",
       " [12, 21, 1],\n",
       " [18, 23, 12, 23],\n",
       " [18, 23, 12, 23],\n",
       " [18, 23, 12, 23],\n",
       " [18, 23, 12, 23],\n",
       " [18, 23, 12, 23],\n",
       " [18, 23, 12, 23],\n",
       " [18, 23, 12, 23],\n",
       " [15, 20, 0, 24],\n",
       " [22, 21, 5],\n",
       " [22, 21, 5],\n",
       " [22, 21, 5],\n",
       " [2, 6, 9, 18],\n",
       " [12, 7, 8, 3, 21],\n",
       " [2, 6, 9, 18],\n",
       " [2, 6, 9, 18],\n",
       " [22, 21, 5],\n",
       " [22, 21, 5],\n",
       " [15, 20, 0, 24],\n",
       " [22, 21, 5],\n",
       " [22, 21, 5],\n",
       " [11, 12, 21, 11, 11],\n",
       " [22, 21, 5],\n",
       " [22, 21, 5],\n",
       " [22, 21, 5],\n",
       " [22, 21, 5],\n",
       " [11, 12, 21, 11, 11],\n",
       " [22, 21, 5],\n",
       " [22, 21, 5],\n",
       " [22, 21, 5],\n",
       " [22, 21, 5],\n",
       " [22, 21, 5],\n",
       " [11, 12, 21, 11, 11],\n",
       " [22, 21, 5],\n",
       " [22, 21, 5],\n",
       " [22, 21, 5],\n",
       " [22, 21, 5],\n",
       " [22, 21, 5],\n",
       " [2, 6, 9, 18],\n",
       " [2, 6, 9, 18],\n",
       " [22, 21, 5],\n",
       " [22, 21, 5],\n",
       " [22, 21, 5],\n",
       " [22, 21, 5],\n",
       " [22, 21, 5],\n",
       " [22, 21, 5],\n",
       " [22, 21, 5],\n",
       " [22, 21, 5],\n",
       " [22, 21, 5],\n",
       " [18, 23, 12, 23],\n",
       " [22, 21, 5],\n",
       " [11, 12, 21, 11, 11],\n",
       " [22, 21, 5],\n",
       " [22, 21, 5],\n",
       " [12, 7, 8, 3, 21],\n",
       " [12, 7, 8, 3, 21],\n",
       " [11, 12, 21, 11, 11],\n",
       " [15, 20, 0, 24],\n",
       " [18, 23, 12, 23],\n",
       " [11, 12, 21, 11, 11],\n",
       " [18, 23, 12, 23],\n",
       " [18, 23, 12, 23],\n",
       " [2, 6, 9, 18],\n",
       " [18, 23, 12, 23],\n",
       " [11, 12, 21, 11, 11],\n",
       " [11, 12, 21, 11, 11],\n",
       " [11, 12, 21, 11, 11],\n",
       " [11, 12, 21, 11, 11],\n",
       " [11, 12, 21, 11, 11],\n",
       " [11, 12, 21, 11, 11],\n",
       " [5, 6, 21, 16, 4],\n",
       " [11, 12, 21, 11, 11],\n",
       " [22, 21, 5],\n",
       " [22, 21, 5],\n",
       " [22, 21, 5],\n",
       " [22, 21, 5],\n",
       " [12, 7, 8, 3, 21],\n",
       " [12, 7, 8, 3, 21],\n",
       " [11, 12, 21, 11, 11],\n",
       " [22, 21, 5],\n",
       " [15, 20, 0, 24],\n",
       " [22, 21, 5],\n",
       " [22, 21, 5],\n",
       " [15, 2, 9],\n",
       " [12, 7, 8, 3, 21],\n",
       " [11, 12, 21, 11, 11],\n",
       " [22, 21, 5],\n",
       " [22, 21, 5],\n",
       " [22, 21, 5],\n",
       " [22, 21, 5],\n",
       " [22, 21, 5],\n",
       " [22, 21, 5],\n",
       " [22, 21, 5],\n",
       " [15, 20, 0, 24],\n",
       " [22, 21, 5],\n",
       " [22, 21, 5],\n",
       " [22, 21, 5],\n",
       " [18, 23, 12, 23],\n",
       " [11, 12, 21, 11, 11],\n",
       " [22, 21, 5],\n",
       " [22, 21, 5],\n",
       " [22, 21, 5],\n",
       " [15, 2, 9],\n",
       " [22, 21, 5],\n",
       " [22, 21, 5],\n",
       " [22, 21, 5],\n",
       " [22, 21, 5],\n",
       " [22, 21, 5],\n",
       " [2, 6, 9, 18],\n",
       " [22, 21, 5],\n",
       " [18, 23, 12, 23],\n",
       " [18, 23, 12, 23],\n",
       " [11, 12, 21, 11, 11],\n",
       " [18, 23, 12, 23],\n",
       " [22, 21, 5],\n",
       " [22, 21, 5],\n",
       " [15, 2, 9],\n",
       " [22, 21, 5],\n",
       " [22, 21, 5],\n",
       " [22, 21, 5],\n",
       " [12, 7, 8, 3, 21],\n",
       " [11, 12, 21, 11, 11],\n",
       " [11, 12, 21, 11, 11],\n",
       " [11, 12, 21, 11, 11],\n",
       " [17, 16, 4, 1],\n",
       " [12, 7, 8, 3, 21],\n",
       " [11, 12, 21, 11, 11],\n",
       " [11, 12, 21, 11, 11],\n",
       " [11, 12, 21, 11, 11],\n",
       " [18, 23, 12, 23],\n",
       " [18, 23, 12, 23],\n",
       " [11, 12, 21, 11, 11],\n",
       " [11, 12, 21, 11, 11],\n",
       " [11, 12, 21, 11, 11],\n",
       " [11, 12, 21, 11, 11],\n",
       " [11, 12, 21, 11, 11],\n",
       " [22, 21, 5],\n",
       " [11, 12, 21, 11, 11],\n",
       " [22, 21, 5],\n",
       " [22, 21, 5],\n",
       " [22, 21, 5],\n",
       " [22, 21, 5],\n",
       " [22, 21, 5],\n",
       " [22, 21, 5],\n",
       " [22, 21, 5],\n",
       " [22, 21, 5],\n",
       " [22, 21, 5],\n",
       " [11, 12, 21, 11, 11],\n",
       " [22, 21, 5],\n",
       " [22, 21, 5],\n",
       " [22, 21, 5],\n",
       " [15, 20, 0, 24],\n",
       " [11, 12, 21, 11, 11],\n",
       " [22, 21, 5],\n",
       " [11, 12, 21, 11, 11],\n",
       " [22, 21, 5],\n",
       " [22, 21, 5],\n",
       " [18, 23, 12, 23],\n",
       " [11, 12, 21, 11, 11],\n",
       " [22, 21, 5],\n",
       " [22, 21, 5],\n",
       " [22, 21, 5],\n",
       " [22, 21, 5],\n",
       " [22, 21, 5],\n",
       " [12, 7, 8, 3, 21],\n",
       " [12, 7, 8, 3, 21],\n",
       " [12, 7, 8, 3, 21],\n",
       " [12, 7, 8, 3, 21],\n",
       " [22, 21, 5],\n",
       " [15, 2, 9],\n",
       " [22, 21, 5],\n",
       " [5, 6, 21, 16, 4],\n",
       " [22, 21, 5],\n",
       " [22, 21, 5],\n",
       " [22, 21, 5],\n",
       " [22, 21, 5],\n",
       " [22, 21, 5],\n",
       " [22, 21, 5],\n",
       " [22, 21, 5],\n",
       " [22, 21, 5],\n",
       " [18, 23, 12, 23],\n",
       " [22, 21, 5],\n",
       " [12, 7, 8, 3, 21],\n",
       " [12, 7, 8, 3, 21],\n",
       " [12, 7, 8, 3, 21],\n",
       " [12, 7, 8, 3, 21],\n",
       " [22, 21, 5],\n",
       " [22, 21, 5],\n",
       " [22, 21, 5],\n",
       " [22, 21, 5],\n",
       " [22, 21, 5],\n",
       " [22, 21, 5],\n",
       " [22, 21, 5],\n",
       " [18, 23, 12, 23],\n",
       " [22, 21, 5],\n",
       " [22, 21, 5],\n",
       " [15, 2, 9],\n",
       " [22, 21, 5],\n",
       " [22, 21, 5],\n",
       " [22, 21, 5],\n",
       " [18, 23, 12, 23],\n",
       " [18, 23, 12, 23],\n",
       " [18, 23, 12, 23],\n",
       " [18, 23, 12, 23],\n",
       " [12, 21, 1],\n",
       " [18, 23, 12, 23],\n",
       " [18, 23, 12, 23],\n",
       " [18, 23, 12, 23],\n",
       " [2, 6, 9, 18],\n",
       " [18, 23, 12, 23],\n",
       " [18, 23, 12, 23],\n",
       " [12, 21, 1],\n",
       " [18, 23, 12, 23],\n",
       " [12, 21, 1],\n",
       " [2, 6, 9, 18],\n",
       " [22, 21, 5],\n",
       " [18, 23, 12, 23],\n",
       " [12, 21, 1],\n",
       " [18, 23, 12, 23],\n",
       " [18, 23, 12, 23],\n",
       " [18, 23, 12, 23],\n",
       " [18, 23, 12, 23],\n",
       " [18, 23, 12, 23],\n",
       " [18, 23, 12, 23],\n",
       " [2, 6, 9, 18],\n",
       " [2, 6, 9, 18],\n",
       " [22, 21, 5],\n",
       " [2, 6, 9, 18],\n",
       " [2, 6, 9, 18],\n",
       " [2, 6, 9, 18],\n",
       " [18, 23, 12, 23],\n",
       " [18, 23, 12, 23],\n",
       " [18, 23, 12, 23],\n",
       " [2, 6, 9, 18],\n",
       " [17, 16, 4, 1],\n",
       " [18, 23, 12, 23],\n",
       " [22, 21, 5],\n",
       " [18, 23, 12, 23],\n",
       " [18, 23, 12, 23],\n",
       " [18, 23, 12, 23],\n",
       " [18, 23, 12, 23],\n",
       " [12, 21, 1],\n",
       " [22, 21, 5],\n",
       " [22, 21, 5],\n",
       " [18, 23, 12, 23],\n",
       " [18, 23, 12, 23],\n",
       " [18, 23, 12, 23],\n",
       " [18, 23, 12, 23],\n",
       " [2, 6, 9, 18],\n",
       " [2, 6, 9, 18],\n",
       " [2, 6, 9, 18],\n",
       " [2, 6, 9, 18],\n",
       " [15, 2, 9],\n",
       " [22, 21, 5],\n",
       " [22, 21, 5],\n",
       " [22, 21, 5],\n",
       " [15, 20, 0, 24],\n",
       " [22, 21, 5],\n",
       " [22, 21, 5],\n",
       " [22, 21, 5],\n",
       " [22, 21, 5],\n",
       " [22, 21, 5],\n",
       " [22, 21, 5],\n",
       " [11, 12, 21, 11, 11],\n",
       " [2, 6, 9, 18],\n",
       " [2, 6, 9, 18],\n",
       " [22, 21, 5],\n",
       " [18, 23, 12, 23],\n",
       " [18, 23, 12, 23],\n",
       " [22, 21, 5],\n",
       " [2, 6, 9, 18],\n",
       " [2, 6, 9, 18],\n",
       " [22, 21, 5],\n",
       " [18, 23, 12, 23],\n",
       " [18, 23, 12, 23],\n",
       " [18, 23, 12, 23],\n",
       " [18, 23, 12, 23],\n",
       " [12, 21, 1],\n",
       " [18, 23, 12, 23],\n",
       " [18, 23, 12, 23],\n",
       " [18, 23, 12, 23],\n",
       " [18, 23, 12, 23],\n",
       " [18, 23, 12, 23],\n",
       " [18, 23, 12, 23],\n",
       " [18, 23, 12, 23],\n",
       " [18, 23, 12, 23],\n",
       " [18, 23, 12, 23],\n",
       " [17, 16, 4, 1],\n",
       " [18, 23, 12, 23],\n",
       " [18, 23, 12, 23],\n",
       " [18, 23, 12, 23],\n",
       " [22, 21, 5],\n",
       " [1, 11, 14],\n",
       " [11, 12, 21, 11, 11],\n",
       " [11, 12, 21, 11, 11],\n",
       " [11, 12, 21, 11, 11],\n",
       " [2, 6, 9, 18],\n",
       " [2, 6, 9, 18],\n",
       " [18, 23, 12, 23],\n",
       " [18, 23, 12, 23],\n",
       " [18, 23, 12, 23],\n",
       " [18, 23, 12, 23],\n",
       " [18, 23, 12, 23],\n",
       " [18, 23, 12, 23],\n",
       " [18, 23, 12, 23],\n",
       " [18, 23, 12, 23],\n",
       " [18, 23, 12, 23],\n",
       " [18, 23, 12, 23],\n",
       " [18, 23, 12, 23],\n",
       " [18, 23, 12, 23],\n",
       " [18, 23, 12, 23],\n",
       " [18, 23, 12, 23],\n",
       " [18, 23, 12, 23],\n",
       " [18, 23, 12, 23],\n",
       " [17, 16, 4, 1],\n",
       " [18, 23, 12, 23],\n",
       " [18, 23, 12, 23],\n",
       " [18, 23, 12, 23],\n",
       " [18, 23, 12, 23],\n",
       " [17, 16, 4, 1],\n",
       " [22, 21, 5],\n",
       " [18, 23, 12, 23],\n",
       " [18, 23, 12, 23],\n",
       " [18, 23, 12, 23],\n",
       " [18, 23, 12, 23],\n",
       " [18, 23, 12, 23],\n",
       " [18, 23, 12, 23],\n",
       " [18, 23, 12, 23],\n",
       " [12, 7, 8, 3, 21],\n",
       " [12, 7, 8, 3, 21],\n",
       " [17, 16, 4, 1],\n",
       " [11, 12, 21, 11, 11],\n",
       " [12, 7, 8, 3, 21],\n",
       " [12, 7, 8, 3, 21],\n",
       " [12, 7, 8, 3, 21],\n",
       " [2, 6, 9, 18],\n",
       " [12, 7, 8, 3, 21],\n",
       " [12, 7, 8, 3, 21],\n",
       " [12, 7, 8, 3, 21],\n",
       " [12, 7, 8, 3, 21],\n",
       " [12, 7, 8, 3, 21],\n",
       " [12, 7, 8, 3, 21],\n",
       " [12, 7, 8, 3, 21],\n",
       " [12, 7, 8, 3, 21],\n",
       " [12, 7, 8, 3, 21],\n",
       " [12, 7, 8, 3, 21],\n",
       " [12, 7, 8, 3, 21],\n",
       " [12, 7, 8, 3, 21],\n",
       " [11, 12, 21, 11, 11],\n",
       " [11, 12, 21, 11, 11],\n",
       " [12, 7, 8, 3, 21],\n",
       " [12, 7, 8, 3, 21],\n",
       " [11, 12, 21, 11, 11],\n",
       " [11, 12, 21, 11, 11],\n",
       " [11, 12, 21, 11, 11],\n",
       " [11, 12, 21, 11, 11],\n",
       " [22, 21, 5],\n",
       " [22, 21, 5],\n",
       " [11, 12, 21, 11, 11],\n",
       " [11, 12, 21, 11, 11],\n",
       " [22, 21, 5],\n",
       " [22, 21, 5],\n",
       " [22, 21, 5],\n",
       " [22, 21, 5],\n",
       " [22, 21, 5],\n",
       " [22, 21, 5],\n",
       " [12, 7, 8, 3, 21],\n",
       " [15, 2, 9],\n",
       " [11, 12, 21, 11, 11],\n",
       " [22, 21, 5],\n",
       " [15, 2, 9],\n",
       " [22, 21, 5],\n",
       " [22, 21, 5],\n",
       " [22, 21, 5],\n",
       " [15, 20, 0, 24],\n",
       " [22, 21, 5],\n",
       " [2, 6, 9, 18],\n",
       " [2, 6, 9, 18],\n",
       " [18, 23, 12, 23],\n",
       " [18, 23, 12, 23],\n",
       " [18, 23, 12, 23],\n",
       " [18, 23, 12, 23],\n",
       " [18, 23, 12, 23],\n",
       " [18, 23, 12, 23],\n",
       " [22, 21, 5],\n",
       " [22, 21, 5],\n",
       " [22, 21, 5],\n",
       " [22, 21, 5],\n",
       " [22, 21, 5],\n",
       " [22, 21, 5],\n",
       " [22, 21, 5],\n",
       " [22, 21, 5],\n",
       " [15, 20, 0, 24],\n",
       " [22, 21, 5],\n",
       " [22, 21, 5],\n",
       " [22, 21, 5],\n",
       " [2, 6, 9, 18],\n",
       " [2, 6, 9, 18],\n",
       " [2, 6, 9, 18],\n",
       " [2, 6, 9, 18],\n",
       " [22, 21, 5],\n",
       " [22, 21, 5],\n",
       " [22, 21, 5],\n",
       " [11, 12, 21, 11, 11],\n",
       " [22, 21, 5],\n",
       " [22, 21, 5],\n",
       " [15, 20, 0, 24],\n",
       " [22, 21, 5],\n",
       " [12, 7, 8, 3, 21],\n",
       " [12, 7, 8, 3, 21],\n",
       " [22, 21, 5],\n",
       " [22, 21, 5],\n",
       " [2, 6, 9, 18],\n",
       " [19, 24, 8],\n",
       " [2, 6, 9, 18],\n",
       " [2, 6, 9, 18],\n",
       " [22, 21, 5],\n",
       " [2, 6, 9, 18],\n",
       " [22, 21, 5],\n",
       " [2, 6, 9, 18],\n",
       " [22, 21, 5],\n",
       " [22, 21, 5],\n",
       " [22, 21, 5],\n",
       " [22, 21, 5],\n",
       " [22, 21, 5],\n",
       " [18, 23, 12, 23],\n",
       " [22, 21, 5],\n",
       " [22, 21, 5],\n",
       " [12, 7, 8, 3, 21],\n",
       " [12, 7, 8, 3, 21],\n",
       " [11, 12, 21, 11, 11],\n",
       " [15, 20, 0, 24],\n",
       " [22, 21, 5],\n",
       " [22, 21, 5],\n",
       " [22, 21, 5],\n",
       " [22, 21, 5],\n",
       " [22, 21, 5],\n",
       " [18, 23, 12, 23],\n",
       " [2, 6, 9, 18],\n",
       " [2, 6, 9, 18],\n",
       " [11, 12, 21, 11, 11],\n",
       " [22, 21, 5],\n",
       " [22, 21, 5],\n",
       " [22, 21, 5],\n",
       " [15, 2, 9],\n",
       " [5, 6, 21, 16, 4],\n",
       " [18, 23, 12, 23],\n",
       " [22, 21, 5],\n",
       " [22, 21, 5],\n",
       " [22, 21, 5],\n",
       " [12, 7, 8, 3, 21],\n",
       " [12, 7, 8, 3, 21],\n",
       " [22, 21, 5],\n",
       " [15, 2, 9],\n",
       " [22, 21, 5],\n",
       " [22, 21, 5],\n",
       " [12, 7, 8, 3, 21],\n",
       " [12, 7, 8, 3, 21],\n",
       " [22, 21, 5],\n",
       " [22, 21, 5],\n",
       " [22, 21, 5],\n",
       " [22, 21, 5],\n",
       " [22, 21, 5],\n",
       " [22, 21, 5],\n",
       " [2, 6, 9, 18],\n",
       " [19, 24, 8],\n",
       " [2, 6, 9, 18],\n",
       " [2, 6, 9, 18],\n",
       " [18, 23, 12, 23],\n",
       " [15, 2, 9],\n",
       " [22, 21, 5],\n",
       " [22, 21, 5],\n",
       " [5, 6, 21, 16, 4],\n",
       " [12, 7, 8, 3, 21],\n",
       " [22, 21, 5],\n",
       " [22, 21, 5],\n",
       " [11, 12, 21, 11, 11],\n",
       " [22, 21, 5],\n",
       " [22, 21, 5],\n",
       " [22, 21, 5],\n",
       " [22, 21, 5],\n",
       " [22, 21, 5],\n",
       " [22, 21, 5],\n",
       " [22, 21, 5],\n",
       " [22, 21, 5],\n",
       " [15, 20, 0, 24],\n",
       " [22, 21, 5],\n",
       " [15, 20, 0, 24],\n",
       " [15, 2, 9],\n",
       " [11, 12, 21, 11, 11],\n",
       " [22, 21, 5],\n",
       " [22, 21, 5],\n",
       " [22, 21, 5],\n",
       " [18, 23, 12, 23],\n",
       " [22, 21, 5],\n",
       " [22, 21, 5],\n",
       " [22, 21, 5],\n",
       " [18, 23, 12, 23],\n",
       " [22, 21, 5],\n",
       " [22, 21, 5],\n",
       " [11, 12, 21, 11, 11],\n",
       " [18, 23, 12, 23],\n",
       " [22, 21, 5],\n",
       " [22, 21, 5],\n",
       " [2, 6, 9, 18],\n",
       " [2, 6, 9, 18],\n",
       " [18, 23, 12, 23],\n",
       " [17, 16, 4, 1],\n",
       " [17, 16, 4, 1],\n",
       " [18, 23, 12, 23],\n",
       " [18, 23, 12, 23],\n",
       " [18, 23, 12, 23],\n",
       " [22, 21, 5],\n",
       " [22, 21, 5],\n",
       " [22, 21, 5],\n",
       " [22, 21, 5],\n",
       " [11, 12, 21, 11, 11],\n",
       " [22, 21, 5],\n",
       " [22, 21, 5],\n",
       " [22, 21, 5],\n",
       " [15, 20, 0, 24],\n",
       " [22, 21, 5],\n",
       " [22, 21, 5],\n",
       " [22, 21, 5],\n",
       " [5, 6, 21, 16, 4],\n",
       " [22, 21, 5],\n",
       " [11, 12, 21, 11, 11],\n",
       " [22, 21, 5],\n",
       " [11, 12, 21, 11, 11],\n",
       " [18, 23, 12, 23],\n",
       " [12, 7, 8, 3, 21],\n",
       " [12, 7, 8, 3, 21],\n",
       " [22, 21, 5],\n",
       " [22, 21, 5],\n",
       " [22, 21, 5],\n",
       " [11, 12, 21, 11, 11],\n",
       " [15, 2, 9],\n",
       " [11, 12, 21, 11, 11],\n",
       " [22, 21, 5],\n",
       " [22, 21, 5],\n",
       " [22, 21, 5],\n",
       " [22, 21, 5],\n",
       " [22, 21, 5],\n",
       " [22, 21, 5],\n",
       " [22, 21, 5],\n",
       " [22, 21, 5],\n",
       " [12, 7, 8, 3, 21],\n",
       " [12, 7, 8, 3, 21],\n",
       " [22, 21, 5],\n",
       " [18, 23, 12, 23],\n",
       " [22, 21, 5],\n",
       " [22, 21, 5],\n",
       " [11, 12, 21, 11, 11],\n",
       " [22, 21, 5],\n",
       " [12, 7, 8, 3, 21],\n",
       " [12, 7, 8, 3, 21],\n",
       " [22, 21, 5],\n",
       " [22, 21, 5],\n",
       " [22, 21, 5],\n",
       " [22, 21, 5],\n",
       " ...]"
      ]
     },
     "execution_count": 33,
     "metadata": {},
     "output_type": "execute_result"
    }
   ],
   "source": [
    "words_within_transcript_list[0]"
   ]
  },
  {
   "cell_type": "code",
   "execution_count": 34,
   "metadata": {},
   "outputs": [
    {
     "data": {
      "application/vnd.jupyter.widget-view+json": {
       "model_id": "94bf406f391a4ff5af8f1f5107139eba",
       "version_major": 2,
       "version_minor": 0
      },
      "text/plain": [
       "HBox(children=(IntProgress(value=0, max=1000), HTML(value='')))"
      ]
     },
     "metadata": {},
     "output_type": "display_data"
    },
    {
     "name": "stderr",
     "output_type": "stream",
     "text": [
      "/home/AD/tsainbur/anaconda3/lib/python3.7/site-packages/numpy/core/_asarray.py:102: VisibleDeprecationWarning: Creating an ndarray from ragged nested sequences (which is a list-or-tuple of lists-or-tuples-or ndarrays with different lengths or shapes) is deprecated. If you meant to do this, you must specify 'dtype=object' when creating the ndarray.\n",
      "  return array(a, dtype, copy=False, order=order)\n",
      "<string>:6: VisibleDeprecationWarning: Creating an ndarray from ragged nested sequences (which is a list-or-tuple of lists-or-tuples-or ndarrays with different lengths or shapes) is deprecated. If you meant to do this, you must specify 'dtype=object' when creating the ndarray.\n"
     ]
    },
    {
     "name": "stdout",
     "output_type": "stream",
     "text": [
      "\n"
     ]
    }
   ],
   "source": [
    "shuffled_words_within_transcript_list = [np.concatenate(np.random.permutation(i)) for i in tqdm(words_within_transcript_list)]"
   ]
  },
  {
   "cell_type": "code",
   "execution_count": 35,
   "metadata": {},
   "outputs": [
    {
     "data": {
      "text/plain": [
       "(1000, 7744)"
      ]
     },
     "execution_count": 35,
     "metadata": {},
     "output_type": "execute_result"
    }
   ],
   "source": [
    "len(shuffled_words_within_transcript_list), len(shuffled_words_within_transcript_list[0])"
   ]
  },
  {
   "cell_type": "code",
   "execution_count": 36,
   "metadata": {},
   "outputs": [
    {
     "data": {
      "application/vnd.jupyter.widget-view+json": {
       "model_id": "",
       "version_major": 2,
       "version_minor": 0
      },
      "text/plain": [
       "HBox(children=(IntProgress(value=0), HTML(value='')))"
      ]
     },
     "metadata": {},
     "output_type": "display_data"
    },
    {
     "name": "stderr",
     "output_type": "stream",
     "text": [
      "[Parallel(n_jobs=-1)]: Using backend LokyBackend with 32 concurrent workers.\n",
      "[Parallel(n_jobs=-1)]: Done   8 tasks      | elapsed:    2.5s\n"
     ]
    },
    {
     "name": "stdout",
     "output_type": "stream",
     "text": [
      "\r"
     ]
    },
    {
     "name": "stderr",
     "output_type": "stream",
     "text": [
      "[Parallel(n_jobs=-1)]: Done  58 out of 100 | elapsed:    8.0s remaining:    5.8s\n",
      "[Parallel(n_jobs=-1)]: Done  79 out of 100 | elapsed:    9.5s remaining:    2.5s\n",
      "[Parallel(n_jobs=-1)]: Done 100 out of 100 | elapsed:   11.5s remaining:    0.0s\n",
      "[Parallel(n_jobs=-1)]: Done 100 out of 100 | elapsed:   11.5s finished\n"
     ]
    },
    {
     "data": {
      "application/vnd.jupyter.widget-view+json": {
       "model_id": "",
       "version_major": 2,
       "version_minor": 0
      },
      "text/plain": [
       "HBox(children=(IntProgress(value=0), HTML(value='')))"
      ]
     },
     "metadata": {},
     "output_type": "display_data"
    },
    {
     "name": "stderr",
     "output_type": "stream",
     "text": [
      "[Parallel(n_jobs=-1)]: Using backend LokyBackend with 32 concurrent workers.\n",
      "[Parallel(n_jobs=-1)]: Done   8 tasks      | elapsed:    3.3s\n"
     ]
    },
    {
     "name": "stdout",
     "output_type": "stream",
     "text": [
      "\r"
     ]
    },
    {
     "name": "stderr",
     "output_type": "stream",
     "text": [
      "[Parallel(n_jobs=-1)]: Done  58 out of 100 | elapsed:    8.5s remaining:    6.2s\n",
      "[Parallel(n_jobs=-1)]: Done  79 out of 100 | elapsed:   10.6s remaining:    2.8s\n",
      "[Parallel(n_jobs=-1)]: Done 100 out of 100 | elapsed:   12.5s remaining:    0.0s\n",
      "[Parallel(n_jobs=-1)]: Done 100 out of 100 | elapsed:   12.5s finished\n"
     ]
    }
   ],
   "source": [
    "# original model\n",
    "(MI, MI_var), (shuff_MI, shuff_MI_var) = mi.sequential_mutual_information(\n",
    "    shuffled_words_within_transcript_list, distances=distances, n_jobs=-1\n",
    ")"
   ]
  },
  {
   "cell_type": "code",
   "execution_count": 37,
   "metadata": {},
   "outputs": [],
   "source": [
    "MI_DF= MI_DF.append(pd.DataFrame(\n",
    "    [[MI, MI_var, shuff_MI, shuff_MI_var, distances, \"within_transcript_shuffle\"]],\n",
    "    columns=[\"MI\", \"MI_var\", \"shuff_MI\", \"shuff_MI_var\", \"distances\", \"shuffle\"],\n",
    "))"
   ]
  },
  {
   "cell_type": "code",
   "execution_count": 38,
   "metadata": {
    "ExecuteTime": {
     "end_time": "2020-04-07T20:57:13.555480Z",
     "start_time": "2020-04-07T20:57:12.987385Z"
    }
   },
   "outputs": [
    {
     "data": {
      "text/plain": [
       "(1e-06, 5)"
      ]
     },
     "execution_count": 38,
     "metadata": {},
     "output_type": "execute_result"
    },
    {
     "data": {
      "image/png": "[encoded data removed]",
      "text/plain": [
       "<Figure size 360x360 with 1 Axes>"
      ]
     },
     "metadata": {
      "needs_background": "light"
     },
     "output_type": "display_data"
    }
   ],
   "source": [
    "row = MI_DF.iloc[len(MI_DF)-1]\n",
    "fig, ax = plt.subplots(figsize=(5,5))\n",
    "MI = row.MI-row.shuff_MI\n",
    "MI_var = row.MI_var\n",
    "\n",
    "ax.scatter(distances, MI)\n",
    "ax.fill_between(distances, MI-MI_var, MI+MI_var, alpha = 0.25, color= 'k')\n",
    "ax.set_yscale('log')\n",
    "ax.set_xscale('log')\n",
    "ax.set_ylim([1e-6, 5])"
   ]
  },
  {
   "cell_type": "markdown",
   "metadata": {},
   "source": [
    "### shuffle within \"word\" (markov sequences)"
   ]
  },
  {
   "cell_type": "code",
   "execution_count": 39,
   "metadata": {},
   "outputs": [
    {
     "data": {
      "application/vnd.jupyter.widget-view+json": {
       "model_id": "9a3c7364fa524485b6cf062cee06da56",
       "version_major": 2,
       "version_minor": 0
      },
      "text/plain": [
       "HBox(children=(IntProgress(value=0, max=1000), HTML(value='')))"
      ]
     },
     "metadata": {},
     "output_type": "display_data"
    },
    {
     "name": "stdout",
     "output_type": "stream",
     "text": [
      "\n"
     ]
    }
   ],
   "source": [
    "within_markov_shuffle = [np.concatenate([np.random.permutation(word) for word in sequence]) for sequence in tqdm(words_within_transcript_list)]"
   ]
  },
  {
   "cell_type": "code",
   "execution_count": 40,
   "metadata": {},
   "outputs": [
    {
     "data": {
      "application/vnd.jupyter.widget-view+json": {
       "model_id": "",
       "version_major": 2,
       "version_minor": 0
      },
      "text/plain": [
       "HBox(children=(IntProgress(value=0), HTML(value='')))"
      ]
     },
     "metadata": {},
     "output_type": "display_data"
    },
    {
     "name": "stderr",
     "output_type": "stream",
     "text": [
      "[Parallel(n_jobs=-1)]: Using backend LokyBackend with 32 concurrent workers.\n",
      "[Parallel(n_jobs=-1)]: Done   8 tasks      | elapsed:    2.7s\n"
     ]
    },
    {
     "name": "stdout",
     "output_type": "stream",
     "text": [
      "\r"
     ]
    },
    {
     "name": "stderr",
     "output_type": "stream",
     "text": [
      "[Parallel(n_jobs=-1)]: Done  58 out of 100 | elapsed:    7.5s remaining:    5.4s\n",
      "[Parallel(n_jobs=-1)]: Done  79 out of 100 | elapsed:    9.5s remaining:    2.5s\n",
      "[Parallel(n_jobs=-1)]: Done 100 out of 100 | elapsed:   11.2s remaining:    0.0s\n",
      "[Parallel(n_jobs=-1)]: Done 100 out of 100 | elapsed:   11.2s finished\n"
     ]
    },
    {
     "data": {
      "application/vnd.jupyter.widget-view+json": {
       "model_id": "",
       "version_major": 2,
       "version_minor": 0
      },
      "text/plain": [
       "HBox(children=(IntProgress(value=0), HTML(value='')))"
      ]
     },
     "metadata": {},
     "output_type": "display_data"
    },
    {
     "name": "stderr",
     "output_type": "stream",
     "text": [
      "[Parallel(n_jobs=-1)]: Using backend LokyBackend with 32 concurrent workers.\n",
      "[Parallel(n_jobs=-1)]: Done   8 tasks      | elapsed:    3.3s\n"
     ]
    },
    {
     "name": "stdout",
     "output_type": "stream",
     "text": [
      "\r"
     ]
    },
    {
     "name": "stderr",
     "output_type": "stream",
     "text": [
      "[Parallel(n_jobs=-1)]: Done  58 out of 100 | elapsed:    8.3s remaining:    6.0s\n",
      "[Parallel(n_jobs=-1)]: Done  79 out of 100 | elapsed:   10.7s remaining:    2.9s\n",
      "[Parallel(n_jobs=-1)]: Done 100 out of 100 | elapsed:   12.6s remaining:    0.0s\n",
      "[Parallel(n_jobs=-1)]: Done 100 out of 100 | elapsed:   12.6s finished\n"
     ]
    }
   ],
   "source": [
    "# original model\n",
    "(MI, MI_var), (shuff_MI, shuff_MI_var) = mi.sequential_mutual_information(\n",
    "    within_markov_shuffle, distances=distances, n_jobs=-1\n",
    ")"
   ]
  },
  {
   "cell_type": "code",
   "execution_count": 41,
   "metadata": {},
   "outputs": [],
   "source": [
    "MI_DF = MI_DF.append(pd.DataFrame(\n",
    "    [[MI, MI_var, shuff_MI, shuff_MI_var, distances, \"within_markov_shuffle\"]],\n",
    "    columns=[\"MI\", \"MI_var\", \"shuff_MI\", \"shuff_MI_var\", \"distances\", \"shuffle\"],\n",
    "))"
   ]
  },
  {
   "cell_type": "code",
   "execution_count": 42,
   "metadata": {
    "ExecuteTime": {
     "end_time": "2020-04-07T20:57:13.555480Z",
     "start_time": "2020-04-07T20:57:12.987385Z"
    }
   },
   "outputs": [
    {
     "data": {
      "text/plain": [
       "(0.0001, 5)"
      ]
     },
     "execution_count": 42,
     "metadata": {},
     "output_type": "execute_result"
    },
    {
     "data": {
      "image/png": "[encoded data removed]",
      "text/plain": [
       "<Figure size 360x360 with 1 Axes>"
      ]
     },
     "metadata": {
      "needs_background": "light"
     },
     "output_type": "display_data"
    }
   ],
   "source": [
    "row = MI_DF.iloc[len(MI_DF)-1]\n",
    "fig, ax = plt.subplots(figsize=(5,5))\n",
    "MI = row.MI-row.shuff_MI\n",
    "MI_var = row.MI_var\n",
    "\n",
    "ax.scatter(distances, MI)\n",
    "ax.fill_between(distances, MI-MI_var, MI+MI_var, alpha = 0.25, color= 'k')\n",
    "ax.set_yscale('log')\n",
    "ax.set_xscale('log')\n",
    "ax.set_ylim([1e-4, 5])"
   ]
  },
  {
   "cell_type": "markdown",
   "metadata": {},
   "source": [
    "### shuffle within \"utterance\" (markov sequences)"
   ]
  },
  {
   "cell_type": "code",
   "execution_count": 43,
   "metadata": {},
   "outputs": [
    {
     "data": {
      "text/plain": [
       "13"
      ]
     },
     "execution_count": 43,
     "metadata": {},
     "output_type": "execute_result"
    }
   ],
   "source": [
    "len(list(flatten(recursively_concatenate_to_depth(sequences_markov[0], depth-3)[0])))"
   ]
  },
  {
   "cell_type": "code",
   "execution_count": 44,
   "metadata": {},
   "outputs": [
    {
     "data": {
      "text/plain": [
       "1945"
      ]
     },
     "execution_count": 44,
     "metadata": {},
     "output_type": "execute_result"
    }
   ],
   "source": [
    "len(list(flatten(recursively_concatenate_to_depth(sequences_markov[0], depth-10)[0])))"
   ]
  },
  {
   "cell_type": "code",
   "execution_count": 45,
   "metadata": {},
   "outputs": [
    {
     "data": {
      "application/vnd.jupyter.widget-view+json": {
       "model_id": "e1966c043277458b95d4cc82a483ac99",
       "version_major": 2,
       "version_minor": 0
      },
      "text/plain": [
       "HBox(children=(IntProgress(value=0, max=1000), HTML(value='')))"
      ]
     },
     "metadata": {},
     "output_type": "display_data"
    },
    {
     "name": "stdout",
     "output_type": "stream",
     "text": [
      "\n"
     ]
    }
   ],
   "source": [
    "utterances_within_transcript_list = [list(recursively_concatenate_to_depth(sequence, depth-3)) for sequence in tqdm(sequences_markov)]"
   ]
  },
  {
   "cell_type": "code",
   "execution_count": 46,
   "metadata": {},
   "outputs": [
    {
     "data": {
      "application/vnd.jupyter.widget-view+json": {
       "model_id": "fa1d4b32a19643479c23cc82434aa1d2",
       "version_major": 2,
       "version_minor": 0
      },
      "text/plain": [
       "HBox(children=(IntProgress(value=0, max=1000), HTML(value='')))"
      ]
     },
     "metadata": {},
     "output_type": "display_data"
    },
    {
     "name": "stdout",
     "output_type": "stream",
     "text": [
      "\n"
     ]
    }
   ],
   "source": [
    "shuffled_within_utterance_list = [np.random.permutation(list(flatten(i))) for i in tqdm(utterances_within_transcript_list)]"
   ]
  },
  {
   "cell_type": "code",
   "execution_count": 47,
   "metadata": {},
   "outputs": [],
   "source": [
    "import random"
   ]
  },
  {
   "cell_type": "code",
   "execution_count": 48,
   "metadata": {},
   "outputs": [
    {
     "data": {
      "application/vnd.jupyter.widget-view+json": {
       "model_id": "b484d201758342798872259ae3523c28",
       "version_major": 2,
       "version_minor": 0
      },
      "text/plain": [
       "HBox(children=(IntProgress(value=0, max=1000), HTML(value='')))"
      ]
     },
     "metadata": {},
     "output_type": "display_data"
    },
    {
     "name": "stdout",
     "output_type": "stream",
     "text": [
      "\n"
     ]
    }
   ],
   "source": [
    "shuffled_within_utterance_list = [\n",
    "    list(flatten([random.sample(list(flatten(utterance)), len(list(flatten(utterance)))) for utterance in trans]))\n",
    "    for trans in tqdm(utterances_within_transcript_list)\n",
    "]"
   ]
  },
  {
   "cell_type": "code",
   "execution_count": 49,
   "metadata": {},
   "outputs": [
    {
     "data": {
      "application/vnd.jupyter.widget-view+json": {
       "model_id": "",
       "version_major": 2,
       "version_minor": 0
      },
      "text/plain": [
       "HBox(children=(IntProgress(value=0), HTML(value='')))"
      ]
     },
     "metadata": {},
     "output_type": "display_data"
    },
    {
     "name": "stderr",
     "output_type": "stream",
     "text": [
      "[Parallel(n_jobs=-1)]: Using backend LokyBackend with 32 concurrent workers.\n",
      "[Parallel(n_jobs=-1)]: Done   8 tasks      | elapsed:    2.6s\n"
     ]
    },
    {
     "name": "stdout",
     "output_type": "stream",
     "text": [
      "\r"
     ]
    },
    {
     "name": "stderr",
     "output_type": "stream",
     "text": [
      "[Parallel(n_jobs=-1)]: Done  58 out of 100 | elapsed:    7.6s remaining:    5.5s\n",
      "[Parallel(n_jobs=-1)]: Done  79 out of 100 | elapsed:    9.9s remaining:    2.6s\n",
      "[Parallel(n_jobs=-1)]: Done 100 out of 100 | elapsed:   11.4s remaining:    0.0s\n",
      "[Parallel(n_jobs=-1)]: Done 100 out of 100 | elapsed:   11.4s finished\n"
     ]
    },
    {
     "data": {
      "application/vnd.jupyter.widget-view+json": {
       "model_id": "",
       "version_major": 2,
       "version_minor": 0
      },
      "text/plain": [
       "HBox(children=(IntProgress(value=0), HTML(value='')))"
      ]
     },
     "metadata": {},
     "output_type": "display_data"
    },
    {
     "name": "stderr",
     "output_type": "stream",
     "text": [
      "[Parallel(n_jobs=-1)]: Using backend LokyBackend with 32 concurrent workers.\n",
      "[Parallel(n_jobs=-1)]: Done   8 tasks      | elapsed:    3.4s\n"
     ]
    },
    {
     "name": "stdout",
     "output_type": "stream",
     "text": [
      "\r"
     ]
    },
    {
     "name": "stderr",
     "output_type": "stream",
     "text": [
      "[Parallel(n_jobs=-1)]: Done  58 out of 100 | elapsed:    8.8s remaining:    6.4s\n",
      "[Parallel(n_jobs=-1)]: Done  79 out of 100 | elapsed:   10.7s remaining:    2.8s\n",
      "[Parallel(n_jobs=-1)]: Done 100 out of 100 | elapsed:   12.3s remaining:    0.0s\n",
      "[Parallel(n_jobs=-1)]: Done 100 out of 100 | elapsed:   12.3s finished\n"
     ]
    }
   ],
   "source": [
    "# original model\n",
    "(MI, MI_var), (shuff_MI, shuff_MI_var) = mi.sequential_mutual_information(\n",
    "    shuffled_within_utterance_list, distances=distances, n_jobs=-1\n",
    ")\n"
   ]
  },
  {
   "cell_type": "code",
   "execution_count": 50,
   "metadata": {},
   "outputs": [],
   "source": [
    "MI_DF = MI_DF.append(pd.DataFrame(\n",
    "    [[MI, MI_var, shuff_MI, shuff_MI_var, distances, \"within_utterance_shuffle\"]],\n",
    "    columns=[\"MI\", \"MI_var\", \"shuff_MI\", \"shuff_MI_var\", \"distances\", \"shuffle\"],\n",
    "))"
   ]
  },
  {
   "cell_type": "code",
   "execution_count": 51,
   "metadata": {},
   "outputs": [
    {
     "data": {
      "text/plain": [
       "(0.0001, 5)"
      ]
     },
     "execution_count": 51,
     "metadata": {},
     "output_type": "execute_result"
    },
    {
     "data": {
      "image/png": "[encoded data removed]",
      "text/plain": [
       "<Figure size 360x360 with 1 Axes>"
      ]
     },
     "metadata": {
      "needs_background": "light"
     },
     "output_type": "display_data"
    }
   ],
   "source": [
    "row = MI_DF.iloc[len(MI_DF)-1]\n",
    "fig, ax = plt.subplots(figsize=(5,5))\n",
    "MI = row.MI-row.shuff_MI\n",
    "MI_var = row.MI_var\n",
    "\n",
    "ax.scatter(distances, MI)\n",
    "ax.fill_between(distances, MI-MI_var, MI+MI_var, alpha = 0.25, color= 'k')\n",
    "ax.set_yscale('log')\n",
    "ax.set_xscale('log')\n",
    "ax.set_ylim([1e-4, 5])"
   ]
  },
  {
   "cell_type": "markdown",
   "metadata": {},
   "source": [
    "### shuffle \"utterance\" within transcript (markov sequences)"
   ]
  },
  {
   "cell_type": "code",
   "execution_count": 52,
   "metadata": {},
   "outputs": [
    {
     "data": {
      "text/plain": [
       "13"
      ]
     },
     "execution_count": 52,
     "metadata": {},
     "output_type": "execute_result"
    }
   ],
   "source": [
    "len(list(flatten(recursively_concatenate_to_depth(sequences_markov[0], depth-3)[0])))"
   ]
  },
  {
   "cell_type": "code",
   "execution_count": 73,
   "metadata": {},
   "outputs": [
    {
     "data": {
      "application/vnd.jupyter.widget-view+json": {
       "model_id": "3b28626cd3ae4d4bada5c52d1fb9edac",
       "version_major": 2,
       "version_minor": 0
      },
      "text/plain": [
       "HBox(children=(IntProgress(value=0, max=1000), HTML(value='')))"
      ]
     },
     "metadata": {},
     "output_type": "display_data"
    },
    {
     "name": "stdout",
     "output_type": "stream",
     "text": [
      "\n"
     ]
    }
   ],
   "source": [
    "utterances_within_transcript_list = [list(recursively_concatenate_to_depth(sequence, depth-4)) for sequence in tqdm(sequences_markov)]"
   ]
  },
  {
   "cell_type": "code",
   "execution_count": 74,
   "metadata": {},
   "outputs": [
    {
     "data": {
      "text/plain": [
       "[[[[22, 21, 5], [22, 21, 5]], [[15, 20, 0, 24], [22, 21, 5]]],\n",
       " [[[2, 6, 9, 18], [19, 24, 8]], [[2, 6, 9, 18], [19, 24, 8]]]]"
      ]
     },
     "execution_count": 74,
     "metadata": {},
     "output_type": "execute_result"
    }
   ],
   "source": [
    "utterances_within_transcript_list[0][0]"
   ]
  },
  {
   "cell_type": "code",
   "execution_count": 75,
   "metadata": {},
   "outputs": [
    {
     "data": {
      "application/vnd.jupyter.widget-view+json": {
       "model_id": "ef37d48509134f1d835b2cb71f0fb85e",
       "version_major": 2,
       "version_minor": 0
      },
      "text/plain": [
       "HBox(children=(IntProgress(value=0, max=1000), HTML(value='')))"
      ]
     },
     "metadata": {},
     "output_type": "display_data"
    },
    {
     "name": "stdout",
     "output_type": "stream",
     "text": [
      "\n"
     ]
    }
   ],
   "source": [
    "shuffled_utterances_within_transcript_list = [random.sample(i, len(i)) for i in utterances_within_transcript_list]\n",
    "shuffled_utterances_within_transcript_list = [list(flatten(i)) for i in tqdm(shuffled_utterances_within_transcript_list)]"
   ]
  },
  {
   "cell_type": "code",
   "execution_count": 76,
   "metadata": {},
   "outputs": [
    {
     "data": {
      "application/vnd.jupyter.widget-view+json": {
       "model_id": "",
       "version_major": 2,
       "version_minor": 0
      },
      "text/plain": [
       "HBox(children=(IntProgress(value=0), HTML(value='')))"
      ]
     },
     "metadata": {},
     "output_type": "display_data"
    },
    {
     "name": "stderr",
     "output_type": "stream",
     "text": [
      "[Parallel(n_jobs=-1)]: Using backend LokyBackend with 32 concurrent workers.\n",
      "[Parallel(n_jobs=-1)]: Done   8 tasks      | elapsed:    3.0s\n"
     ]
    },
    {
     "name": "stdout",
     "output_type": "stream",
     "text": [
      "\r"
     ]
    },
    {
     "name": "stderr",
     "output_type": "stream",
     "text": [
      "[Parallel(n_jobs=-1)]: Done  58 out of 100 | elapsed:    8.3s remaining:    6.0s\n",
      "[Parallel(n_jobs=-1)]: Done  79 out of 100 | elapsed:   10.4s remaining:    2.8s\n",
      "[Parallel(n_jobs=-1)]: Done 100 out of 100 | elapsed:   11.6s remaining:    0.0s\n",
      "[Parallel(n_jobs=-1)]: Done 100 out of 100 | elapsed:   11.6s finished\n"
     ]
    },
    {
     "data": {
      "application/vnd.jupyter.widget-view+json": {
       "model_id": "",
       "version_major": 2,
       "version_minor": 0
      },
      "text/plain": [
       "HBox(children=(IntProgress(value=0), HTML(value='')))"
      ]
     },
     "metadata": {},
     "output_type": "display_data"
    },
    {
     "name": "stderr",
     "output_type": "stream",
     "text": [
      "[Parallel(n_jobs=-1)]: Using backend LokyBackend with 32 concurrent workers.\n",
      "[Parallel(n_jobs=-1)]: Done   8 tasks      | elapsed:    3.6s\n"
     ]
    },
    {
     "name": "stdout",
     "output_type": "stream",
     "text": [
      "\r"
     ]
    },
    {
     "name": "stderr",
     "output_type": "stream",
     "text": [
      "[Parallel(n_jobs=-1)]: Done  58 out of 100 | elapsed:    8.9s remaining:    6.5s\n",
      "[Parallel(n_jobs=-1)]: Done  79 out of 100 | elapsed:   11.2s remaining:    3.0s\n",
      "[Parallel(n_jobs=-1)]: Done 100 out of 100 | elapsed:   13.0s remaining:    0.0s\n",
      "[Parallel(n_jobs=-1)]: Done 100 out of 100 | elapsed:   13.0s finished\n"
     ]
    }
   ],
   "source": [
    "# original model\n",
    "(MI, MI_var), (shuff_MI, shuff_MI_var) = mi.sequential_mutual_information(\n",
    "    shuffled_utterances_within_transcript_list, distances=distances, n_jobs=-1\n",
    ")\n"
   ]
  },
  {
   "cell_type": "code",
   "execution_count": 77,
   "metadata": {},
   "outputs": [],
   "source": [
    "MI_DF = MI_DF.append(pd.DataFrame(\n",
    "    [[MI, MI_var, shuff_MI, shuff_MI_var, distances, \"shuffle_utterance_within_transcript\"]],\n",
    "    columns=[\"MI\", \"MI_var\", \"shuff_MI\", \"shuff_MI_var\", \"distances\", \"shuffle\"],\n",
    "))"
   ]
  },
  {
   "cell_type": "code",
   "execution_count": 78,
   "metadata": {},
   "outputs": [
    {
     "data": {
      "text/plain": [
       "(0.0001, 5)"
      ]
     },
     "execution_count": 78,
     "metadata": {},
     "output_type": "execute_result"
    },
    {
     "data": {
      "image/png": "[encoded data removed]",
      "text/plain": [
       "<Figure size 360x360 with 1 Axes>"
      ]
     },
     "metadata": {
      "needs_background": "light"
     },
     "output_type": "display_data"
    }
   ],
   "source": [
    "row = MI_DF.iloc[len(MI_DF)-1]\n",
    "fig, ax = plt.subplots(figsize=(5,5))\n",
    "MI = row.MI-row.shuff_MI\n",
    "MI_var = row.MI_var\n",
    "\n",
    "ax.scatter(distances, MI)\n",
    "ax.fill_between(distances, MI-MI_var, MI+MI_var, alpha = 0.25, color= 'k')\n",
    "ax.set_yscale('log')\n",
    "ax.set_xscale('log')\n",
    "ax.set_ylim([1e-4, 5])"
   ]
  },
  {
   "cell_type": "markdown",
   "metadata": {},
   "source": [
    "### get best fit model"
   ]
  },
  {
   "cell_type": "code",
   "execution_count": 91,
   "metadata": {},
   "outputs": [
    {
     "name": "stdout",
     "output_type": "stream",
     "text": [
      "Collecting lmfit\n",
      "\u001b[?25l  Downloading https://files.pythonhosted.org/packages/67/70/0ef97b9d67b63efce0b720563e1c87ebfc15b565e89adde0c66c1025c848/lmfit-1.0.2.tar.gz (306kB)\n",
      "\u001b[K     |████████████████████████████████| 307kB 17.3MB/s eta 0:00:01\n",
      "\u001b[?25hCollecting asteval>=0.9.16 (from lmfit)\n",
      "  Downloading https://files.pythonhosted.org/packages/f0/81/c1385350267c5c02be74acba7167fd6608083324a51421c6b8a57240eb35/asteval-0.9.25.tar.gz\n",
      "Requirement already satisfied: numpy>=1.16 in /home/AD/tsainbur/anaconda3/lib/python3.7/site-packages (from lmfit) (1.20.1)\n",
      "Requirement already satisfied: scipy>=1.2 in /home/AD/tsainbur/anaconda3/lib/python3.7/site-packages (from lmfit) (1.6.1)\n",
      "Collecting uncertainties>=3.0.1 (from lmfit)\n",
      "  Using cached https://files.pythonhosted.org/packages/45/41/fc7e7b73b603e7c2c9e040b7aa8caf4a88d74b6faa567601ed82b6f0d8e1/uncertainties-3.1.5-py2.py3-none-any.whl\n",
      "Requirement already satisfied: future in /home/AD/tsainbur/anaconda3/lib/python3.7/site-packages (from uncertainties>=3.0.1->lmfit) (0.18.2)\n",
      "Building wheels for collected packages: lmfit, asteval\n",
      "  Building wheel for lmfit (setup.py) ... \u001b[?25ldone\n",
      "\u001b[?25h  Created wheel for lmfit: filename=lmfit-1.0.2-cp37-none-any.whl size=85265 sha256=6c58e02c12999adb102f5c6d74fe28471b24440def5192caea8605fc2aa5dbbb\n",
      "  Stored in directory: /home/AD/tsainbur/.cache/pip/wheels/d4/5e/db/d9f5987d9f15bf910feb5e0274ac601d5f2161dc78aedfacfa\n",
      "  Building wheel for asteval (setup.py) ... \u001b[?25ldone\n",
      "\u001b[?25h  Created wheel for asteval: filename=asteval-0.9.25-cp37-none-any.whl size=17289 sha256=989f1d593ec085c181d0f3174c48ca57db3c6ba8ed17e74da4c282a4222ceef0\n",
      "  Stored in directory: /home/AD/tsainbur/.cache/pip/wheels/75/4e/83/fb48cc07d800283881ee75940ac6d7bae561305b3545e07785\n",
      "Successfully built lmfit asteval\n",
      "Installing collected packages: asteval, uncertainties, lmfit\n",
      "Successfully installed asteval-0.9.25 lmfit-1.0.2 uncertainties-3.1.5\n"
     ]
    }
   ],
   "source": [
    "!pip install lmfit"
   ]
  },
  {
   "cell_type": "code",
   "execution_count": 92,
   "metadata": {},
   "outputs": [],
   "source": [
    "from childes_mi.information_theory import model_fitting as mf"
   ]
  },
  {
   "cell_type": "code",
   "execution_count": 99,
   "metadata": {},
   "outputs": [],
   "source": [
    "MI_DF = MI_DF.reset_index()"
   ]
  },
  {
   "cell_type": "code",
   "execution_count": 103,
   "metadata": {},
   "outputs": [
    {
     "data": {
      "application/vnd.jupyter.widget-view+json": {
       "model_id": "740ef2e719334ac18a2bea57fa47b2fb",
       "version_major": 2,
       "version_minor": 0
      },
      "text/plain": [
       "HBox(children=(IntProgress(value=0, max=8), HTML(value='')))"
      ]
     },
     "metadata": {},
     "output_type": "display_data"
    },
    {
     "name": "stderr",
     "output_type": "stream",
     "text": [
      "/home/AD/tsainbur/anaconda3/lib/python3.7/site-packages/numpy/core/_asarray.py:102: VisibleDeprecationWarning: Creating an ndarray from ragged nested sequences (which is a list-or-tuple of lists-or-tuples-or ndarrays with different lengths or shapes) is deprecated. If you meant to do this, you must specify 'dtype=object' when creating the ndarray.\n",
      "  return array(a, dtype, copy=False, order=order)\n",
      "/mnt/cube/tsainbur/Projects/github_repos/LRSO_paper_rev/LongRangeSequentialOrgPaper/childes_mi/information_theory/model_fitting.py:8: RuntimeWarning: invalid value encountered in log\n",
      "  return np.abs(np.log(y_true) - np.log(y_model)) * (1 / (np.log(1 + x)))\n"
     ]
    },
    {
     "name": "stdout",
     "output_type": "stream",
     "text": [
      "no_markov pow_exp\n",
      "original pow_exp\n",
      "within_transcript_shuffle pow_exp\n",
      "within_markov_shuffle pow_exp\n",
      "within_utterance_shuffle pow_exp\n",
      "shuffle_utterance_within_transcript pow_exp\n",
      "shuffle_utterance_within_transcript pow_exp\n",
      "shuffle_utterance_within_transcript exp\n",
      "\n"
     ]
    }
   ],
   "source": [
    "MI_DF = MI_DF.assign(**{i:np.nan for i in ['exp_results', 'pow_results', 'concat_results',\n",
    "     'R2_exp', 'R2_concat', 'R2_power', 'AICc_exp',\n",
    "     'AICc_concat', 'AICc_power', 'bestfitmodel', 'curvature', 'min_peak']})\n",
    "MI_DF['curvature'] = MI_DF['curvature'].astype(object)\n",
    "\n",
    "n = 100 # max distance for computation\n",
    "for idx, row in tqdm(MI_DF.iterrows(), total=len(MI_DF)):\n",
    "    # get signal\n",
    "    sig = np.array(row.MI-row.shuff_MI)\n",
    "    distances = row.distances\n",
    "    sig = sig\n",
    "    \n",
    "    dist_mask = distances <= 100\n",
    "    distances = distances[dist_mask]\n",
    "    sig = sig[dist_mask]\n",
    "    \n",
    "    # fit models\n",
    "    results_power, results_exp, results_pow_exp, best_fit_model = mf.fit_models(distances, sig)\n",
    "    \n",
    "    # get fit results\n",
    "    R2_exp, R2_concat, R2_power, AICc_exp, \\\n",
    "        AICc_pow, AICc_concat = mf.fit_results(sig, distances, \n",
    "                                              results_exp, results_power,\n",
    "                                              results_pow_exp)\n",
    "    \n",
    "    \n",
    "    # get model y\n",
    "    distances_mod = np.logspace(0,np.log10(n), base=10, num=1000)\n",
    "    if best_fit_model == 'pow_exp':\n",
    "        y_model = mf.get_y(mf.pow_exp_decay, results_pow_exp, distances_mod)\n",
    "    elif best_fit_model == 'exp':\n",
    "        y_model = mf.get_y(mf.exp_decay, results_exp, distances_mod)\n",
    "    elif best_fit_model == 'pow':\n",
    "        y_model = mf.get_y(mf.powerlaw_decay, results_power, distances_mod)\n",
    "    \n",
    "    # get curvature of model_y\n",
    "    curvature_model = mf.curvature(np.log(y_model))\n",
    "    \n",
    "    # if the best fit model is pow_exp, then grab the min peak\n",
    "    if best_fit_model == 'pow_exp':\n",
    "        # get peaks of curvature\n",
    "        peaks = np.where((\n",
    "            (curvature_model[:-1] < curvature_model[1:])[1:] & (curvature_model[1:] < curvature_model[:-1])[:-1]\n",
    "        ))\n",
    "        min_peak = peaks[0][0]\n",
    "    else:\n",
    "        min_peak = np.nan\n",
    "\n",
    "    # get save model fit results to MI_DF\n",
    "    MI_DF.loc[idx, np.array(['exp_results', 'pow_results', 'concat_results',\n",
    "                         'R2_exp', 'R2_concat', 'R2_power', 'AICc_exp',\n",
    "                         'AICc_concat', 'AICc_power', 'bestfitmodel', 'curvature', 'min_peak'])] = [\n",
    "        results_exp, results_power, results_pow_exp,\n",
    "        R2_exp, R2_concat, R2_power, AICc_exp,\n",
    "        AICc_concat, AICc_pow, best_fit_model,\n",
    "        curvature_model, min_peak\n",
    "    ]\n",
    "\n",
    "    print(row.shuffle,  best_fit_model)"
   ]
  },
  {
   "cell_type": "markdown",
   "metadata": {},
   "source": [
    "# Plot"
   ]
  },
  {
   "cell_type": "code",
   "execution_count": 118,
   "metadata": {},
   "outputs": [],
   "source": [
    "from childes_mi.utils.paths import DATA_DIR, FIGURE_DIR, ensure_dir\n",
    "from childes_mi.utils.general import flatten,save_fig"
   ]
  },
  {
   "cell_type": "code",
   "execution_count": 105,
   "metadata": {},
   "outputs": [
    {
     "data": {
      "text/html": [
       "<div>\n",
       "<style scoped>\n",
       "    .dataframe tbody tr th:only-of-type {\n",
       "        vertical-align: middle;\n",
       "    }\n",
       "\n",
       "    .dataframe tbody tr th {\n",
       "        vertical-align: top;\n",
       "    }\n",
       "\n",
       "    .dataframe thead th {\n",
       "        text-align: right;\n",
       "    }\n",
       "</style>\n",
       "<table border=\"1\" class=\"dataframe\">\n",
       "  <thead>\n",
       "    <tr style=\"text-align: right;\">\n",
       "      <th></th>\n",
       "      <th>index</th>\n",
       "      <th>MI</th>\n",
       "      <th>MI_var</th>\n",
       "      <th>shuff_MI</th>\n",
       "      <th>shuff_MI_var</th>\n",
       "      <th>distances</th>\n",
       "      <th>shuffle</th>\n",
       "      <th>exp_results</th>\n",
       "      <th>pow_results</th>\n",
       "      <th>concat_results</th>\n",
       "      <th>R2_exp</th>\n",
       "      <th>R2_concat</th>\n",
       "      <th>R2_power</th>\n",
       "      <th>AICc_exp</th>\n",
       "      <th>AICc_concat</th>\n",
       "      <th>AICc_power</th>\n",
       "      <th>bestfitmodel</th>\n",
       "      <th>curvature</th>\n",
       "      <th>min_peak</th>\n",
       "    </tr>\n",
       "  </thead>\n",
       "  <tbody>\n",
       "    <tr>\n",
       "      <th>0</th>\n",
       "      <td>0</td>\n",
       "      <td>[7.394101484809736, 7.142800061862108, 7.06461...</td>\n",
       "      <td>[0.0005965708076372331, 0.00044094859711890514...</td>\n",
       "      <td>[6.752546799147828, 6.752336323278046, 6.75239...</td>\n",
       "      <td>[7.84939135739618e-05, 7.814500095654446e-05, ...</td>\n",
       "      <td>[1, 2, 3, 4, 5, 6, 7, 8, 9, 10, 11, 12, 13, 14...</td>\n",
       "      <td>no_markov</td>\n",
       "      <td>&lt;lmfit.minimizer.MinimizerResult object at 0x7...</td>\n",
       "      <td>&lt;lmfit.minimizer.MinimizerResult object at 0x7...</td>\n",
       "      <td>&lt;lmfit.minimizer.MinimizerResult object at 0x7...</td>\n",
       "      <td>0.962525</td>\n",
       "      <td>0.999804</td>\n",
       "      <td>0.998974</td>\n",
       "      <td>-492.299529</td>\n",
       "      <td>-1013.108145</td>\n",
       "      <td>-852.105656</td>\n",
       "      <td>pow_exp</td>\n",
       "      <td>[1.5560322385869025e-07, 2.335587648504198e-07...</td>\n",
       "      <td>739.0</td>\n",
       "    </tr>\n",
       "    <tr>\n",
       "      <th>1</th>\n",
       "      <td>0</td>\n",
       "      <td>[8.744153165259815, 8.462467588247913, 8.09448...</td>\n",
       "      <td>[0.0011379223609647084, 0.001109613519755723, ...</td>\n",
       "      <td>[7.06956718493724, 7.069463117179282, 7.069395...</td>\n",
       "      <td>[0.0010070397682014392, 0.0010071666020211418,...</td>\n",
       "      <td>[1, 2, 3, 4, 5, 6, 7, 8, 9, 10, 11, 12, 13, 14...</td>\n",
       "      <td>original</td>\n",
       "      <td>&lt;lmfit.minimizer.MinimizerResult object at 0x7...</td>\n",
       "      <td>&lt;lmfit.minimizer.MinimizerResult object at 0x7...</td>\n",
       "      <td>&lt;lmfit.minimizer.MinimizerResult object at 0x7...</td>\n",
       "      <td>0.984719</td>\n",
       "      <td>0.997648</td>\n",
       "      <td>0.977647</td>\n",
       "      <td>-526.771659</td>\n",
       "      <td>-709.503993</td>\n",
       "      <td>-488.736318</td>\n",
       "      <td>pow_exp</td>\n",
       "      <td>[2.5367891210954037e-07, 3.7685855105235906e-0...</td>\n",
       "      <td>498.0</td>\n",
       "    </tr>\n",
       "    <tr>\n",
       "      <th>2</th>\n",
       "      <td>0</td>\n",
       "      <td>[8.640814984740372, 8.273398401701524, 7.81401...</td>\n",
       "      <td>[0.0010647384494394821, 0.001039175732679108, ...</td>\n",
       "      <td>[7.069602626583098, 7.069476433847882, 7.06943...</td>\n",
       "      <td>[0.001007800924363883, 0.0010081763438040902, ...</td>\n",
       "      <td>[1, 2, 3, 4, 5, 6, 7, 8, 9, 10, 11, 12, 13, 14...</td>\n",
       "      <td>within_transcript_shuffle</td>\n",
       "      <td>&lt;lmfit.minimizer.MinimizerResult object at 0x7...</td>\n",
       "      <td>&lt;lmfit.minimizer.MinimizerResult object at 0x7...</td>\n",
       "      <td>&lt;lmfit.minimizer.MinimizerResult object at 0x7...</td>\n",
       "      <td>0.984456</td>\n",
       "      <td>0.985978</td>\n",
       "      <td>0.888170</td>\n",
       "      <td>-121.136685</td>\n",
       "      <td>-120.298294</td>\n",
       "      <td>-40.232529</td>\n",
       "      <td>pow_exp</td>\n",
       "      <td>[4.153482080630393e-07, 5.950619168741661e-07,...</td>\n",
       "      <td>606.0</td>\n",
       "    </tr>\n",
       "    <tr>\n",
       "      <th>3</th>\n",
       "      <td>0</td>\n",
       "      <td>[7.8121285962736025, 7.561800436381828, 7.3938...</td>\n",
       "      <td>[0.0011275552358230472, 0.0010743182658590677,...</td>\n",
       "      <td>[7.069537984031573, 7.069543722184717, 7.06949...</td>\n",
       "      <td>[0.0010081549568489439, 0.001008750434537005, ...</td>\n",
       "      <td>[1, 2, 3, 4, 5, 6, 7, 8, 9, 10, 11, 12, 13, 14...</td>\n",
       "      <td>within_markov_shuffle</td>\n",
       "      <td>&lt;lmfit.minimizer.MinimizerResult object at 0x7...</td>\n",
       "      <td>&lt;lmfit.minimizer.MinimizerResult object at 0x7...</td>\n",
       "      <td>&lt;lmfit.minimizer.MinimizerResult object at 0x7...</td>\n",
       "      <td>0.959699</td>\n",
       "      <td>0.999259</td>\n",
       "      <td>0.998799</td>\n",
       "      <td>-472.577752</td>\n",
       "      <td>-867.823267</td>\n",
       "      <td>-823.941182</td>\n",
       "      <td>pow_exp</td>\n",
       "      <td>[-1.289152451477873e-06, -1.9371060241723537e-...</td>\n",
       "      <td>118.0</td>\n",
       "    </tr>\n",
       "    <tr>\n",
       "      <th>4</th>\n",
       "      <td>0</td>\n",
       "      <td>[7.371114579514053, 7.351051004852307, 7.33227...</td>\n",
       "      <td>[0.0010487892629312868, 0.0010391737862045388,...</td>\n",
       "      <td>[7.069535011962069, 7.069489351612351, 7.06942...</td>\n",
       "      <td>[0.0010079192091239975, 0.0010085018728639063,...</td>\n",
       "      <td>[1, 2, 3, 4, 5, 6, 7, 8, 9, 10, 11, 12, 13, 14...</td>\n",
       "      <td>within_utterance_shuffle</td>\n",
       "      <td>&lt;lmfit.minimizer.MinimizerResult object at 0x7...</td>\n",
       "      <td>&lt;lmfit.minimizer.MinimizerResult object at 0x7...</td>\n",
       "      <td>&lt;lmfit.minimizer.MinimizerResult object at 0x7...</td>\n",
       "      <td>0.992345</td>\n",
       "      <td>0.995759</td>\n",
       "      <td>0.957047</td>\n",
       "      <td>-687.096704</td>\n",
       "      <td>-741.751416</td>\n",
       "      <td>-514.616029</td>\n",
       "      <td>pow_exp</td>\n",
       "      <td>[-4.335123542736896e-07, -6.519566209255047e-0...</td>\n",
       "      <td>556.0</td>\n",
       "    </tr>\n",
       "    <tr>\n",
       "      <th>5</th>\n",
       "      <td>0</td>\n",
       "      <td>[8.722417071043026, 8.421530335881606, 8.03442...</td>\n",
       "      <td>[0.0011189540541684808, 0.001091100232274861, ...</td>\n",
       "      <td>[7.06956787049293, 7.069554500263074, 7.069483...</td>\n",
       "      <td>[0.001007882866744828, 0.0010102930216707492, ...</td>\n",
       "      <td>[1, 2, 3, 4, 5, 6, 7, 8, 9, 10, 11, 12, 13, 14...</td>\n",
       "      <td>shuffle_utterance_within_transcript</td>\n",
       "      <td>&lt;lmfit.minimizer.MinimizerResult object at 0x7...</td>\n",
       "      <td>&lt;lmfit.minimizer.MinimizerResult object at 0x7...</td>\n",
       "      <td>&lt;lmfit.minimizer.MinimizerResult object at 0x7...</td>\n",
       "      <td>0.984494</td>\n",
       "      <td>0.988814</td>\n",
       "      <td>0.868754</td>\n",
       "      <td>-232.494476</td>\n",
       "      <td>-248.424521</td>\n",
       "      <td>-97.937026</td>\n",
       "      <td>pow_exp</td>\n",
       "      <td>[7.576942850204742e-06, 1.1348109905679913e-05...</td>\n",
       "      <td>719.0</td>\n",
       "    </tr>\n",
       "    <tr>\n",
       "      <th>6</th>\n",
       "      <td>0</td>\n",
       "      <td>[8.742951111492454, 8.460465724796109, 8.09147...</td>\n",
       "      <td>[0.0011362887890605793, 0.0011078278069721137,...</td>\n",
       "      <td>[7.06955160836605, 7.06955564772378, 7.0695651...</td>\n",
       "      <td>[0.0010084175026625155, 0.001008058799871139, ...</td>\n",
       "      <td>[1, 2, 3, 4, 5, 6, 7, 8, 9, 10, 11, 12, 13, 14...</td>\n",
       "      <td>shuffle_utterance_within_transcript</td>\n",
       "      <td>&lt;lmfit.minimizer.MinimizerResult object at 0x7...</td>\n",
       "      <td>&lt;lmfit.minimizer.MinimizerResult object at 0x7...</td>\n",
       "      <td>&lt;lmfit.minimizer.MinimizerResult object at 0x7...</td>\n",
       "      <td>0.973293</td>\n",
       "      <td>0.993038</td>\n",
       "      <td>0.957587</td>\n",
       "      <td>-445.720584</td>\n",
       "      <td>-575.771180</td>\n",
       "      <td>-399.467160</td>\n",
       "      <td>pow_exp</td>\n",
       "      <td>[1.7361075274604722e-06, 2.603324113929938e-06...</td>\n",
       "      <td>637.0</td>\n",
       "    </tr>\n",
       "    <tr>\n",
       "      <th>7</th>\n",
       "      <td>0</td>\n",
       "      <td>[8.735341888746769, 8.446961644448841, 8.07140...</td>\n",
       "      <td>[0.0011299994839773305, 0.0011021857138505365,...</td>\n",
       "      <td>[7.069494055427626, 7.069500782378862, 7.06943...</td>\n",
       "      <td>[0.0010085991608431277, 0.0010064828110025357,...</td>\n",
       "      <td>[1, 2, 3, 4, 5, 6, 7, 8, 9, 10, 11, 12, 13, 14...</td>\n",
       "      <td>shuffle_utterance_within_transcript</td>\n",
       "      <td>&lt;lmfit.minimizer.MinimizerResult object at 0x7...</td>\n",
       "      <td>&lt;lmfit.minimizer.MinimizerResult object at 0x7...</td>\n",
       "      <td>&lt;lmfit.minimizer.MinimizerResult object at 0x7...</td>\n",
       "      <td>0.988028</td>\n",
       "      <td>0.988623</td>\n",
       "      <td>0.810434</td>\n",
       "      <td>-249.642031</td>\n",
       "      <td>-248.081551</td>\n",
       "      <td>-81.150330</td>\n",
       "      <td>exp</td>\n",
       "      <td>[-1.732473328136305e-06, -2.602712280856001e-0...</td>\n",
       "      <td>NaN</td>\n",
       "    </tr>\n",
       "  </tbody>\n",
       "</table>\n",
       "</div>"
      ],
      "text/plain": [
       "   index                                                 MI  \\\n",
       "0      0  [7.394101484809736, 7.142800061862108, 7.06461...   \n",
       "1      0  [8.744153165259815, 8.462467588247913, 8.09448...   \n",
       "2      0  [8.640814984740372, 8.273398401701524, 7.81401...   \n",
       "3      0  [7.8121285962736025, 7.561800436381828, 7.3938...   \n",
       "4      0  [7.371114579514053, 7.351051004852307, 7.33227...   \n",
       "5      0  [8.722417071043026, 8.421530335881606, 8.03442...   \n",
       "6      0  [8.742951111492454, 8.460465724796109, 8.09147...   \n",
       "7      0  [8.735341888746769, 8.446961644448841, 8.07140...   \n",
       "\n",
       "                                              MI_var  \\\n",
       "0  [0.0005965708076372331, 0.00044094859711890514...   \n",
       "1  [0.0011379223609647084, 0.001109613519755723, ...   \n",
       "2  [0.0010647384494394821, 0.001039175732679108, ...   \n",
       "3  [0.0011275552358230472, 0.0010743182658590677,...   \n",
       "4  [0.0010487892629312868, 0.0010391737862045388,...   \n",
       "5  [0.0011189540541684808, 0.001091100232274861, ...   \n",
       "6  [0.0011362887890605793, 0.0011078278069721137,...   \n",
       "7  [0.0011299994839773305, 0.0011021857138505365,...   \n",
       "\n",
       "                                            shuff_MI  \\\n",
       "0  [6.752546799147828, 6.752336323278046, 6.75239...   \n",
       "1  [7.06956718493724, 7.069463117179282, 7.069395...   \n",
       "2  [7.069602626583098, 7.069476433847882, 7.06943...   \n",
       "3  [7.069537984031573, 7.069543722184717, 7.06949...   \n",
       "4  [7.069535011962069, 7.069489351612351, 7.06942...   \n",
       "5  [7.06956787049293, 7.069554500263074, 7.069483...   \n",
       "6  [7.06955160836605, 7.06955564772378, 7.0695651...   \n",
       "7  [7.069494055427626, 7.069500782378862, 7.06943...   \n",
       "\n",
       "                                        shuff_MI_var  \\\n",
       "0  [7.84939135739618e-05, 7.814500095654446e-05, ...   \n",
       "1  [0.0010070397682014392, 0.0010071666020211418,...   \n",
       "2  [0.001007800924363883, 0.0010081763438040902, ...   \n",
       "3  [0.0010081549568489439, 0.001008750434537005, ...   \n",
       "4  [0.0010079192091239975, 0.0010085018728639063,...   \n",
       "5  [0.001007882866744828, 0.0010102930216707492, ...   \n",
       "6  [0.0010084175026625155, 0.001008058799871139, ...   \n",
       "7  [0.0010085991608431277, 0.0010064828110025357,...   \n",
       "\n",
       "                                           distances  \\\n",
       "0  [1, 2, 3, 4, 5, 6, 7, 8, 9, 10, 11, 12, 13, 14...   \n",
       "1  [1, 2, 3, 4, 5, 6, 7, 8, 9, 10, 11, 12, 13, 14...   \n",
       "2  [1, 2, 3, 4, 5, 6, 7, 8, 9, 10, 11, 12, 13, 14...   \n",
       "3  [1, 2, 3, 4, 5, 6, 7, 8, 9, 10, 11, 12, 13, 14...   \n",
       "4  [1, 2, 3, 4, 5, 6, 7, 8, 9, 10, 11, 12, 13, 14...   \n",
       "5  [1, 2, 3, 4, 5, 6, 7, 8, 9, 10, 11, 12, 13, 14...   \n",
       "6  [1, 2, 3, 4, 5, 6, 7, 8, 9, 10, 11, 12, 13, 14...   \n",
       "7  [1, 2, 3, 4, 5, 6, 7, 8, 9, 10, 11, 12, 13, 14...   \n",
       "\n",
       "                               shuffle  \\\n",
       "0                            no_markov   \n",
       "1                             original   \n",
       "2            within_transcript_shuffle   \n",
       "3                within_markov_shuffle   \n",
       "4             within_utterance_shuffle   \n",
       "5  shuffle_utterance_within_transcript   \n",
       "6  shuffle_utterance_within_transcript   \n",
       "7  shuffle_utterance_within_transcript   \n",
       "\n",
       "                                         exp_results  \\\n",
       "0  <lmfit.minimizer.MinimizerResult object at 0x7...   \n",
       "1  <lmfit.minimizer.MinimizerResult object at 0x7...   \n",
       "2  <lmfit.minimizer.MinimizerResult object at 0x7...   \n",
       "3  <lmfit.minimizer.MinimizerResult object at 0x7...   \n",
       "4  <lmfit.minimizer.MinimizerResult object at 0x7...   \n",
       "5  <lmfit.minimizer.MinimizerResult object at 0x7...   \n",
       "6  <lmfit.minimizer.MinimizerResult object at 0x7...   \n",
       "7  <lmfit.minimizer.MinimizerResult object at 0x7...   \n",
       "\n",
       "                                         pow_results  \\\n",
       "0  <lmfit.minimizer.MinimizerResult object at 0x7...   \n",
       "1  <lmfit.minimizer.MinimizerResult object at 0x7...   \n",
       "2  <lmfit.minimizer.MinimizerResult object at 0x7...   \n",
       "3  <lmfit.minimizer.MinimizerResult object at 0x7...   \n",
       "4  <lmfit.minimizer.MinimizerResult object at 0x7...   \n",
       "5  <lmfit.minimizer.MinimizerResult object at 0x7...   \n",
       "6  <lmfit.minimizer.MinimizerResult object at 0x7...   \n",
       "7  <lmfit.minimizer.MinimizerResult object at 0x7...   \n",
       "\n",
       "                                      concat_results    R2_exp  R2_concat  \\\n",
       "0  <lmfit.minimizer.MinimizerResult object at 0x7...  0.962525   0.999804   \n",
       "1  <lmfit.minimizer.MinimizerResult object at 0x7...  0.984719   0.997648   \n",
       "2  <lmfit.minimizer.MinimizerResult object at 0x7...  0.984456   0.985978   \n",
       "3  <lmfit.minimizer.MinimizerResult object at 0x7...  0.959699   0.999259   \n",
       "4  <lmfit.minimizer.MinimizerResult object at 0x7...  0.992345   0.995759   \n",
       "5  <lmfit.minimizer.MinimizerResult object at 0x7...  0.984494   0.988814   \n",
       "6  <lmfit.minimizer.MinimizerResult object at 0x7...  0.973293   0.993038   \n",
       "7  <lmfit.minimizer.MinimizerResult object at 0x7...  0.988028   0.988623   \n",
       "\n",
       "   R2_power    AICc_exp  AICc_concat  AICc_power bestfitmodel  \\\n",
       "0  0.998974 -492.299529 -1013.108145 -852.105656      pow_exp   \n",
       "1  0.977647 -526.771659  -709.503993 -488.736318      pow_exp   \n",
       "2  0.888170 -121.136685  -120.298294  -40.232529      pow_exp   \n",
       "3  0.998799 -472.577752  -867.823267 -823.941182      pow_exp   \n",
       "4  0.957047 -687.096704  -741.751416 -514.616029      pow_exp   \n",
       "5  0.868754 -232.494476  -248.424521  -97.937026      pow_exp   \n",
       "6  0.957587 -445.720584  -575.771180 -399.467160      pow_exp   \n",
       "7  0.810434 -249.642031  -248.081551  -81.150330          exp   \n",
       "\n",
       "                                           curvature  min_peak  \n",
       "0  [1.5560322385869025e-07, 2.335587648504198e-07...     739.0  \n",
       "1  [2.5367891210954037e-07, 3.7685855105235906e-0...     498.0  \n",
       "2  [4.153482080630393e-07, 5.950619168741661e-07,...     606.0  \n",
       "3  [-1.289152451477873e-06, -1.9371060241723537e-...     118.0  \n",
       "4  [-4.335123542736896e-07, -6.519566209255047e-0...     556.0  \n",
       "5  [7.576942850204742e-06, 1.1348109905679913e-05...     719.0  \n",
       "6  [1.7361075274604722e-06, 2.603324113929938e-06...     637.0  \n",
       "7  [-1.732473328136305e-06, -2.602712280856001e-0...       NaN  "
      ]
     },
     "execution_count": 105,
     "metadata": {},
     "output_type": "execute_result"
    }
   ],
   "source": [
    "MI_DF"
   ]
  },
  {
   "cell_type": "code",
   "execution_count": 80,
   "metadata": {},
   "outputs": [],
   "source": [
    "d = distances"
   ]
  },
  {
   "cell_type": "code",
   "execution_count": 81,
   "metadata": {},
   "outputs": [],
   "source": [
    "from matplotlib.ticker import StrMethodFormatter, NullFormatter"
   ]
  },
  {
   "cell_type": "code",
   "execution_count": 123,
   "metadata": {},
   "outputs": [
    {
     "data": {
      "image/png": "[encoded data removed]",
      "text/plain": [
       "<Figure size 1152x720 with 6 Axes>"
      ]
     },
     "metadata": {
      "needs_background": "light"
     },
     "output_type": "display_data"
    }
   ],
   "source": [
    "fig, axs = plt.subplots(ncols = 3, nrows=2, figsize=(16,10), gridspec_kw = {'wspace':0.05})\n",
    "\n",
    "\n",
    "for ax, shuffle, color, color2 in [\n",
    "    (axs[0,2], 'original', 'k', \"#999999\"),\n",
    "    (axs[1,0], 'shuffle_utterance_within_transcript', '#b45f06', \"#fce5cdff\"),\n",
    "    (axs[1,1], 'within_transcript_shuffle', '#274e13', \"#d9ead3ff\"),\n",
    "    (axs[1,2], 'within_markov_shuffle', \"#1c4587\", \"#cfe2f3ff\"),\n",
    "]:\n",
    "    row = MI_DF[MI_DF.shuffle==shuffle].iloc[0]\n",
    "    MI = row.MI-row.shuff_MI\n",
    "    MI_var = row.MI_var\n",
    "    nplot=100\n",
    "    ax.scatter(d[:nplot], MI[:nplot], color=color, s= 80)\n",
    "    \n",
    "    sig = np.array(row.MI-row.shuff_MI)\n",
    "    distances = row.distances\n",
    "\n",
    "    dist_mask = distances <= 100\n",
    "    distances = distances[dist_mask]\n",
    "    distances_model = np.logspace(0,np.log10(distances[-1]), base=10, num=1000)\n",
    "    sig = sig[dist_mask]\n",
    "    \n",
    "    if row.bestfitmodel == \"pow_exp\":\n",
    "        y_model = mf.get_y(mf.pow_exp_decay, row.concat_results, distances)\n",
    "        y_pow = mf.get_y(mf.powerlaw_decay, row.concat_results, distances_model)\n",
    "        y_exp = mf.get_y(mf.exp_decay, row.concat_results, distances_model)\n",
    "        y_pow_dat = mf.get_y(mf.powerlaw_decay, row.concat_results, distances)\n",
    "        y_exp_dat = mf.get_y(mf.exp_decay, row.concat_results, distances)\n",
    "\n",
    "    elif row.bestfitmodel == \"pow\":\n",
    "        y_model = mf.get_y(mf.powerlaw_decay, row.pow_results, distances)\n",
    "        y_pow = None\n",
    "\n",
    "    elif row.bestfitmodel == \"exp\":\n",
    "        y_model = mf.get_y(mf.exp_decay, row.exp_results, distances)\n",
    "        y_pow = None\n",
    "    \n",
    "    if y_pow is not None:\n",
    "        ax.plot(distances_model, y_pow, ls='dotted', color= color, lw=5, alpha=0.5)\n",
    "        ax.plot(distances_model, y_exp-row.concat_results.params['intercept'].value, ls='dashed', color= color, lw=5, alpha=0.5)\n",
    "\n",
    "    # plot modelled data\n",
    "    ax.plot(distances, y_model, alpha = 1, lw=5, color=color, zorder=10)\n",
    "    #ax.set_title(\"{} {}\".format(shuffle, row.bestfitmodel))\n",
    "\n",
    "\n",
    "for axi, ax in enumerate(axs.flatten()[:2]):\n",
    "    ax.axis('off')\n",
    "\n",
    "for axi, ax in enumerate(axs.flatten()[2:]):\n",
    "    ax.set_yscale('log')\n",
    "    ax.set_xscale('log')\n",
    "    ax.set_xlabel('Sequential distance', fontsize=18)\n",
    "    if axi in [0,1]:\n",
    "        ax.set_ylabel('Mutual Information (bits)', fontsize=18)\n",
    "    else:\n",
    "        ax.set_yticks([])\n",
    "\n",
    "    for axis in ['top','bottom','left','right']:\n",
    "        ax.spines[axis].set_linewidth(3)\n",
    "        ax.spines[axis].set_color('k')\n",
    "    ax.grid(False)\n",
    "    ax.tick_params(which='both', direction='in', labelsize=14, pad=10)\n",
    "    ax.tick_params(which='major', length=10, width =3)\n",
    "    ax.tick_params(which='minor', length=5, width =2)\n",
    "\n",
    "    ax.set_xticks([1,10,100])\n",
    "    ax.set_xticklabels(['4','8','50'])\n",
    "    ax.set_xlim([0.95,100])\n",
    "\n",
    "    ax.xaxis.set_major_formatter(StrMethodFormatter('{x:.0f}'))\n",
    "    ax.xaxis.set_minor_formatter(NullFormatter())\n",
    "    ax.set_ylim([1e-3, 5])\n",
    "\n",
    "save_fig(FIGURE_DIR/'model_shuffle')"
   ]
  },
  {
   "cell_type": "code",
   "execution_count": 132,
   "metadata": {},
   "outputs": [
    {
     "data": {
      "image/png": "[encoded data removed]",
      "text/plain": [
       "<Figure size 1008x576 with 4 Axes>"
      ]
     },
     "metadata": {
      "needs_background": "light"
     },
     "output_type": "display_data"
    }
   ],
   "source": [
    "fig, axs = plt.subplots(ncols = 2, nrows=2, figsize=(14,8), gridspec_kw = {'wspace':0.05})\n",
    "\n",
    "\n",
    "for ax, shuffle, color, color2 in [\n",
    "    (axs[0,0], 'original', 'k', \"#999999\"),\n",
    "    (axs[0,1], 'shuffle_utterance_within_transcript', '#b45f06', \"#fce5cdff\"),\n",
    "    (axs[1,0], 'within_transcript_shuffle', '#274e13', \"#d9ead3ff\"),\n",
    "    (axs[1,1], 'within_markov_shuffle', \"#1c4587\", \"#cfe2f3ff\"),\n",
    "]:\n",
    "    row = MI_DF[MI_DF.shuffle==shuffle].iloc[0]\n",
    "    MI = row.MI-row.shuff_MI\n",
    "    MI_var = row.MI_var\n",
    "    nplot=100\n",
    "    ax.scatter(d[:nplot], MI[:nplot], color=color, s= 80)\n",
    "    \n",
    "    sig = np.array(row.MI-row.shuff_MI)\n",
    "    distances = row.distances\n",
    "\n",
    "    dist_mask = distances <= 100\n",
    "    distances = distances[dist_mask]\n",
    "    distances_model = np.logspace(0,np.log10(distances[-1]), base=10, num=1000)\n",
    "    sig = sig[dist_mask]\n",
    "    \n",
    "    if row.bestfitmodel == \"pow_exp\":\n",
    "        y_model = mf.get_y(mf.pow_exp_decay, row.concat_results, distances)\n",
    "        y_pow = mf.get_y(mf.powerlaw_decay, row.concat_results, distances_model)\n",
    "        y_exp = mf.get_y(mf.exp_decay, row.concat_results, distances_model)\n",
    "        y_pow_dat = mf.get_y(mf.powerlaw_decay, row.concat_results, distances)\n",
    "        y_exp_dat = mf.get_y(mf.exp_decay, row.concat_results, distances)\n",
    "\n",
    "    elif row.bestfitmodel == \"pow\":\n",
    "        y_model = mf.get_y(mf.powerlaw_decay, row.pow_results, distances)\n",
    "        y_pow = None\n",
    "\n",
    "    elif row.bestfitmodel == \"exp\":\n",
    "        y_model = mf.get_y(mf.exp_decay, row.exp_results, distances)\n",
    "        y_pow = None\n",
    "    \n",
    "    if y_pow is not None:\n",
    "        ax.plot(distances_model, y_pow, ls='dotted', color= color, lw=5, alpha=0.5)\n",
    "        ax.plot(distances_model, y_exp-row.concat_results.params['intercept'].value, ls='dashed', color= color, lw=5, alpha=0.5)\n",
    "\n",
    "    # plot modelled data\n",
    "    ax.plot(distances, y_model, alpha = 1, lw=5, color=color, zorder=10)\n",
    "    #ax.set_title(\"{} {}\".format(shuffle, row.bestfitmodel))\n",
    "\n",
    "\n",
    "\n",
    "for axi, ax in enumerate(axs.flatten()):\n",
    "    ax.set_yscale('log')\n",
    "    ax.set_xscale('log')\n",
    "    if axi in [2,3]:\n",
    "        ax.set_xlabel('Sequential distance', fontsize=18)\n",
    "    if axi in [0,2]:\n",
    "        ax.set_ylabel('MI rel. chance (bits)', fontsize=18)\n",
    "    else:\n",
    "        ax.set_yticks([])\n",
    "\n",
    "    for axis in ['top','bottom','left','right']:\n",
    "        ax.spines[axis].set_linewidth(3)\n",
    "        ax.spines[axis].set_color('k')\n",
    "    ax.grid(False)\n",
    "    ax.tick_params(which='both', direction='in', labelsize=14, pad=10)\n",
    "    ax.tick_params(which='major', length=10, width =3)\n",
    "    ax.tick_params(which='minor', length=5, width =2)\n",
    "\n",
    "    ax.set_xticks([1,10,100])\n",
    "    ax.set_xticklabels(['4','8','50'])\n",
    "    ax.set_xlim([0.95,100])\n",
    "\n",
    "    ax.xaxis.set_major_formatter(StrMethodFormatter('{x:.0f}'))\n",
    "    ax.xaxis.set_minor_formatter(NullFormatter())\n",
    "    ax.set_ylim([1e-3, 5])\n",
    "\n",
    "save_fig(FIGURE_DIR/'model_shuffle')"
   ]
  },
  {
   "cell_type": "code",
   "execution_count": null,
   "metadata": {},
   "outputs": [],
   "source": []
  }
 ],
 "metadata": {
  "kernelspec": {
   "display_name": "childes-paper",
   "language": "python",
   "name": "childes-paper"
  },
  "language_info": {
   "codemirror_mode": {
    "name": "ipython",
    "version": 3
   },
   "file_extension": ".py",
   "mimetype": "text/x-python",
   "name": "python",
   "nbconvert_exporter": "python",
   "pygments_lexer": "ipython3",
   "version": "3.7.4"
  }
 },
 "nbformat": 4,
 "nbformat_minor": 2
}
