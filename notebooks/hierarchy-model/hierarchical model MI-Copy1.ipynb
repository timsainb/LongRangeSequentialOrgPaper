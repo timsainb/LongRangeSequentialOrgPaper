{
 "cells": [
  {
   "cell_type": "markdown",
   "metadata": {},
   "source": [
    "### create figure for hierarchy example\n",
    "1. get latent distances vs sequential distances\n",
    "2. get MI of markov model\n",
    "3. get MI of recursively generated sequence - store the average latent distance for each of the sequential distances\n",
    "4. Plot latent distance by MI\n",
    "5. plot sequential distance by MI"
   ]
  },
  {
   "cell_type": "code",
   "execution_count": 97,
   "metadata": {
    "ExecuteTime": {
     "end_time": "2019-09-24T18:26:51.193366Z",
     "start_time": "2019-09-24T18:26:51.185586Z"
    }
   },
   "outputs": [],
   "source": [
    "import numpy as np\n",
    "import pandas as pd\n",
    "from scipy import random as sr\n",
    "import matplotlib.pyplot as plt\n",
    "from tqdm.autonotebook import tqdm"
   ]
  },
  {
   "cell_type": "code",
   "execution_count": 98,
   "metadata": {
    "ExecuteTime": {
     "end_time": "2019-09-24T18:26:51.535618Z",
     "start_time": "2019-09-24T18:26:51.506525Z"
    }
   },
   "outputs": [],
   "source": [
    "def gen_balanced_matrix(na=5, ps=[0.7, 0.2, 0.1]):\n",
    "    \"\"\" Generates a balanced matrix in which every state can reach every other state\n",
    "    for hierarchical and Markov models\n",
    "    \"\"\"\n",
    "    for r in range(1000):\n",
    "        breakme = False\n",
    "        probs = np.zeros((na, na))\n",
    "        for p in ps:\n",
    "            for i in np.arange(na):\n",
    "                ixloc = np.where(\n",
    "                    (probs[i, :] == 0) & (np.sum(probs != p, axis=0) == na)\n",
    "                )[0]\n",
    "                if len(ixloc) > 0:\n",
    "                    probs[i, np.random.permutation(ixloc)[0]] = p\n",
    "                else:\n",
    "                    # the initialization didn't work\n",
    "                    breakme = True\n",
    "        if breakme:\n",
    "            continue\n",
    "        probs = probs / np.sum(probs, axis=0)\n",
    "        return probs\n",
    "    return \"Generation Failed\"\n",
    "\n",
    "def gen_seq_hierarchical(alphabet, probs, depth, n_subsamples):\n",
    "    \"\"\" generates a sequence via the Lin Tegmark recursive model\n",
    "    Arguments:\n",
    "        alphabet {[type]} -- [alphabet of states]\n",
    "        probs {[type]} -- [probability matrix for recursive subsampling]\n",
    "        depth {[type]} -- [how many times to recursively subsample]\n",
    "        n_subsamples {[type]} -- [the number of new elements to recursively replace old elements with]\n",
    "    \n",
    "    Returns:\n",
    "        sequence [type] -- [sequence of elements]\n",
    "    \"\"\"\n",
    "    sequence = np.random.choice(\n",
    "        alphabet, p=np.sum(probs, axis=1) / np.sum(probs), size=1\n",
    "    )\n",
    "    if type(depth) == list:\n",
    "        depth = np.random.choice(depth)\n",
    "    depth_list = range(depth)\n",
    "    for i in tqdm(depth_list):\n",
    "        q = np.random.choice(n_subsamples)\n",
    "        sequence = subsample_sequence(sequence, probs, q, alphabet)\n",
    "    return sequence\n",
    "\n",
    "\n",
    "def subsample_sequence(sequence, probs, q, alphabet):\n",
    "    \"\"\" subsamples a sequence given a probability matrix\n",
    "    \n",
    "    given a sequence, resamples each element in that sequences given a probability matrix of sequence element to new elements\n",
    "    \n",
    "    Arguments:\n",
    "        sequence {[type]} -- input sequence\n",
    "        probs {[type]} -- the probability matrix\n",
    "        q {[type]} -- the number of items to subsample\n",
    "    \"\"\"\n",
    "    return [\n",
    "        item\n",
    "        for sublist in [\n",
    "            np.random.choice(alphabet, p=probs[:, i], size=q) for i in sequence\n",
    "        ]\n",
    "        for item in sublist\n",
    "    ]"
   ]
  },
  {
   "cell_type": "code",
   "execution_count": 123,
   "metadata": {
    "ExecuteTime": {
     "end_time": "2019-09-24T18:29:33.851516Z",
     "start_time": "2019-09-24T18:29:33.841584Z"
    }
   },
   "outputs": [
    {
     "name": "stdout",
     "output_type": "stream",
     "text": [
      "seq len  262144.0\n"
     ]
    }
   ],
   "source": [
    "# how many branches to sample in hierarchical\n",
    "n_subsamples = [2]\n",
    "# how many subsamples to perform\n",
    "depth = 18\n",
    "# alphabet size\n",
    "a_n = 15\n",
    "alphabet = np.arange(a_n)\n",
    "# how many sequences to use\n",
    "nseq = 1\n",
    "print('seq len ',(np.mean(n_subsamples)**depth))"
   ]
  },
  {
   "cell_type": "code",
   "execution_count": 124,
   "metadata": {
    "ExecuteTime": {
     "end_time": "2019-09-24T18:29:34.057247Z",
     "start_time": "2019-09-24T18:29:34.046969Z"
    }
   },
   "outputs": [],
   "source": [
    "# generate probbility matrix \n",
    "probs = gen_balanced_matrix(na=a_n, ps=[.9, .1])"
   ]
  },
  {
   "cell_type": "code",
   "execution_count": 125,
   "metadata": {
    "ExecuteTime": {
     "end_time": "2019-09-24T18:29:34.226323Z",
     "start_time": "2019-09-24T18:29:34.211525Z"
    }
   },
   "outputs": [
    {
     "data": {
      "text/plain": [
       "array([[0.1, 0. , 0. , 0. , 0. , 0. , 0. , 0. , 0. , 0. , 0.9, 0. , 0. ,\n",
       "        0. , 0. ],\n",
       "       [0. , 0. , 0. , 0.9, 0. , 0. , 0. , 0. , 0. , 0. , 0. , 0. , 0. ,\n",
       "        0.1, 0. ],\n",
       "       [0. , 0. , 0. , 0. , 0. , 0. , 0.9, 0.1, 0. , 0. , 0. , 0. , 0. ,\n",
       "        0. , 0. ],\n",
       "       [0. , 0. , 0. , 0. , 0. , 0. , 0. , 0.9, 0. , 0. , 0. , 0. , 0.1,\n",
       "        0. , 0. ],\n",
       "       [0. , 0. , 0. , 0. , 0. , 0. , 0. , 0. , 0. , 0. , 0.1, 0.9, 0. ,\n",
       "        0. , 0. ],\n",
       "       [0.9, 0. , 0. , 0. , 0. , 0.1, 0. , 0. , 0. , 0. , 0. , 0. , 0. ,\n",
       "        0. , 0. ],\n",
       "       [0. , 0. , 0. , 0. , 0.1, 0. , 0. , 0. , 0. , 0.9, 0. , 0. , 0. ,\n",
       "        0. , 0. ],\n",
       "       [0. , 0.1, 0.9, 0. , 0. , 0. , 0. , 0. , 0. , 0. , 0. , 0. , 0. ,\n",
       "        0. , 0. ],\n",
       "       [0. , 0. , 0. , 0. , 0. , 0. , 0. , 0. , 0. , 0.1, 0. , 0. , 0. ,\n",
       "        0.9, 0. ],\n",
       "       [0. , 0. , 0. , 0.1, 0. , 0. , 0. , 0. , 0.9, 0. , 0. , 0. , 0. ,\n",
       "        0. , 0. ],\n",
       "       [0. , 0. , 0. , 0. , 0. , 0. , 0. , 0. , 0.1, 0. , 0. , 0. , 0. ,\n",
       "        0. , 0.9],\n",
       "       [0. , 0. , 0. , 0. , 0. , 0.9, 0. , 0. , 0. , 0. , 0. , 0.1, 0. ,\n",
       "        0. , 0. ],\n",
       "       [0. , 0. , 0. , 0. , 0.9, 0. , 0. , 0. , 0. , 0. , 0. , 0. , 0. ,\n",
       "        0. , 0.1],\n",
       "       [0. , 0. , 0. , 0. , 0. , 0. , 0.1, 0. , 0. , 0. , 0. , 0. , 0.9,\n",
       "        0. , 0. ],\n",
       "       [0. , 0.9, 0.1, 0. , 0. , 0. , 0. , 0. , 0. , 0. , 0. , 0. , 0. ,\n",
       "        0. , 0. ]])"
      ]
     },
     "execution_count": 125,
     "metadata": {},
     "output_type": "execute_result"
    }
   ],
   "source": [
    "probs"
   ]
  },
  {
   "cell_type": "code",
   "execution_count": 126,
   "metadata": {
    "ExecuteTime": {
     "end_time": "2019-09-24T18:29:34.427695Z",
     "start_time": "2019-09-24T18:29:34.422027Z"
    }
   },
   "outputs": [],
   "source": [
    "# distances of MI to sample at\n",
    "distances = np.arange(1,101)"
   ]
  },
  {
   "cell_type": "code",
   "execution_count": 127,
   "metadata": {
    "ExecuteTime": {
     "end_time": "2019-09-24T18:29:57.697274Z",
     "start_time": "2019-09-24T18:29:37.076526Z"
    }
   },
   "outputs": [
    {
     "data": {
      "application/vnd.jupyter.widget-view+json": {
       "model_id": "6e890d087bc74cbea731ad7ac768ad20",
       "version_major": 2,
       "version_minor": 0
      },
      "text/plain": [
       "HBox(children=(IntProgress(value=0, max=18), HTML(value='')))"
      ]
     },
     "metadata": {},
     "output_type": "display_data"
    },
    {
     "name": "stdout",
     "output_type": "stream",
     "text": [
      "\n"
     ]
    }
   ],
   "source": [
    "sequences = gen_seq_hierarchical(alphabet, probs, depth, n_subsamples=n_subsamples)"
   ]
  },
  {
   "cell_type": "code",
   "execution_count": 128,
   "metadata": {
    "ExecuteTime": {
     "end_time": "2019-09-24T18:29:57.704432Z",
     "start_time": "2019-09-24T18:29:57.700287Z"
    }
   },
   "outputs": [
    {
     "data": {
      "text/plain": [
       "262144"
      ]
     },
     "execution_count": 128,
     "metadata": {},
     "output_type": "execute_result"
    }
   ],
   "source": [
    "len(sequences)"
   ]
  },
  {
   "cell_type": "code",
   "execution_count": 129,
   "metadata": {
    "ExecuteTime": {
     "end_time": "2019-09-24T18:29:57.802308Z",
     "start_time": "2019-09-24T18:29:57.706252Z"
    }
   },
   "outputs": [
    {
     "data": {
      "text/plain": [
       "[11, 11, 5, 5, 11, 11, 5, 5, 5, 11]"
      ]
     },
     "execution_count": 129,
     "metadata": {},
     "output_type": "execute_result"
    }
   ],
   "source": [
    "sequences[:10]"
   ]
  },
  {
   "cell_type": "code",
   "execution_count": 130,
   "metadata": {
    "ExecuteTime": {
     "end_time": "2019-09-24T18:29:57.900367Z",
     "start_time": "2019-09-24T18:29:57.808219Z"
    }
   },
   "outputs": [],
   "source": [
    "from childes_mi.information_theory import mutual_information as mi"
   ]
  },
  {
   "cell_type": "code",
   "execution_count": 131,
   "metadata": {
    "ExecuteTime": {
     "end_time": "2019-09-24T18:30:01.247611Z",
     "start_time": "2019-09-24T18:29:57.902632Z"
    }
   },
   "outputs": [
    {
     "data": {
      "application/vnd.jupyter.widget-view+json": {
       "model_id": "",
       "version_major": 2,
       "version_minor": 0
      },
      "text/plain": [
       "HBox(children=(IntProgress(value=0), HTML(value='')))"
      ]
     },
     "metadata": {},
     "output_type": "display_data"
    },
    {
     "name": "stderr",
     "output_type": "stream",
     "text": [
      "[Parallel(n_jobs=-1)]: Using backend ThreadingBackend with 24 concurrent workers.\n",
      "[Parallel(n_jobs=-1)]: Done  24 tasks      | elapsed:    0.4s\n"
     ]
    },
    {
     "name": "stdout",
     "output_type": "stream",
     "text": [
      "\r"
     ]
    },
    {
     "name": "stderr",
     "output_type": "stream",
     "text": [
      "[Parallel(n_jobs=-1)]: Done  74 out of 100 | elapsed:    1.0s remaining:    0.4s\n",
      "[Parallel(n_jobs=-1)]: Done  95 out of 100 | elapsed:    1.1s remaining:    0.1s\n",
      "[Parallel(n_jobs=-1)]: Done 100 out of 100 | elapsed:    1.2s finished\n"
     ]
    },
    {
     "data": {
      "application/vnd.jupyter.widget-view+json": {
       "model_id": "",
       "version_major": 2,
       "version_minor": 0
      },
      "text/plain": [
       "HBox(children=(IntProgress(value=0), HTML(value='')))"
      ]
     },
     "metadata": {},
     "output_type": "display_data"
    },
    {
     "name": "stderr",
     "output_type": "stream",
     "text": [
      "[Parallel(n_jobs=-1)]: Using backend ThreadingBackend with 24 concurrent workers.\n",
      "[Parallel(n_jobs=-1)]: Done  24 tasks      | elapsed:    1.2s\n"
     ]
    },
    {
     "name": "stdout",
     "output_type": "stream",
     "text": [
      "\r"
     ]
    },
    {
     "name": "stderr",
     "output_type": "stream",
     "text": [
      "[Parallel(n_jobs=-1)]: Done  74 out of 100 | elapsed:    1.8s remaining:    0.6s\n",
      "[Parallel(n_jobs=-1)]: Done  95 out of 100 | elapsed:    1.8s remaining:    0.1s\n",
      "[Parallel(n_jobs=-1)]: Done 100 out of 100 | elapsed:    1.8s finished\n"
     ]
    }
   ],
   "source": [
    "(MI, MI_var), (shuff_MI, shuff_MI_var) = mi.sequential_mutual_information(\n",
    "    [sequences], distances=distances, n_jobs=-1\n",
    ")"
   ]
  },
  {
   "cell_type": "code",
   "execution_count": 132,
   "metadata": {
    "ExecuteTime": {
     "end_time": "2019-09-24T18:30:01.267885Z",
     "start_time": "2019-09-24T18:30:01.250801Z"
    }
   },
   "outputs": [],
   "source": [
    "MI_DF2 = pd.DataFrame(\n",
    "    [[MI, MI_var, shuff_MI, shuff_MI_var, distances]],\n",
    "    columns=[\"MI\", \"MI_var\", \"shuff_MI\", \"shuff_MI_var\", \"distances\"],\n",
    ")"
   ]
  },
  {
   "cell_type": "code",
   "execution_count": null,
   "metadata": {},
   "outputs": [],
   "source": [
    "MI_DF = pd.DataFrame(\n",
    "    [[MI, MI_var, shuff_MI, shuff_MI_var, distances]],\n",
    "    columns=[\"MI\", \"MI_var\", \"shuff_MI\", \"shuff_MI_var\", \"distances\"],\n",
    ")"
   ]
  },
  {
   "cell_type": "code",
   "execution_count": null,
   "metadata": {
    "ExecuteTime": {
     "end_time": "2019-09-24T18:27:15.460973Z",
     "start_time": "2019-09-24T18:27:15.375706Z"
    }
   },
   "outputs": [],
   "source": []
  },
  {
   "cell_type": "code",
   "execution_count": 133,
   "metadata": {
    "ExecuteTime": {
     "end_time": "2019-09-24T18:30:01.993319Z",
     "start_time": "2019-09-24T18:30:01.269985Z"
    }
   },
   "outputs": [
    {
     "data": {
      "text/plain": [
       "<matplotlib.collections.PolyCollection at 0x7fb662eadd68>"
      ]
     },
     "execution_count": 133,
     "metadata": {},
     "output_type": "execute_result"
    },
    {
     "data": {
      "image/png": "[encoded data removed]",
      "text/plain": [
       "<Figure size 720x360 with 1 Axes>"
      ]
     },
     "metadata": {
      "needs_background": "light"
     },
     "output_type": "display_data"
    }
   ],
   "source": [
    "fig, ax = plt.subplots(figsize=(10,5))\n",
    "row = MI_DF.iloc[0]\n",
    "MI = row.MI-row.shuff_MI\n",
    "MI_var = row.MI_var\n",
    "\n",
    "ax.scatter(distances, MI)\n",
    "ax.fill_between(distances, MI-MI_var, MI+MI_var, alpha = 0.25, color= 'k')\n",
    "ax.set_yscale('log')\n",
    "ax.set_xscale('log')\n",
    "\n",
    "row = MI_DF2.iloc[0]\n",
    "MI = row.MI-row.shuff_MI\n",
    "MI_var = row.MI_var\n",
    "\n",
    "ax.scatter(distances, MI)\n",
    "ax.fill_between(distances, MI-MI_var, MI+MI_var, alpha = 0.25, color= 'k')"
   ]
  },
  {
   "cell_type": "code",
   "execution_count": 86,
   "metadata": {
    "ExecuteTime": {
     "end_time": "2019-09-24T18:25:08.109914Z",
     "start_time": "2019-09-24T18:25:07.160916Z"
    }
   },
   "outputs": [
    {
     "data": {
      "image/png": "[encoded data removed]",
      "text/plain": [
       "<Figure size 720x360 with 1 Axes>"
      ]
     },
     "metadata": {
      "needs_background": "light"
     },
     "output_type": "display_data"
    }
   ],
   "source": [
    "fig, ax = plt.subplots(figsize=(10,5))\n",
    "MI = row.MI-row.shuff_MI\n",
    "MI_var = row.MI_var\n",
    "\n",
    "ax.scatter(distances, MI)\n",
    "ax.fill_between(distances, MI-MI_var, MI+MI_var, alpha = 0.25, color= 'k')\n",
    "ax.set_yscale('log')\n",
    "ax.set_xscale('log')"
   ]
  },
  {
   "cell_type": "code",
   "execution_count": 28,
   "metadata": {
    "ExecuteTime": {
     "end_time": "2019-09-24T18:22:21.912866Z",
     "start_time": "2019-09-24T18:22:21.876365Z"
    }
   },
   "outputs": [],
   "source": [
    "latent_vs_sequential_distance = pd.read_pickle('latent_vs_sequential_distance.pickle')"
   ]
  },
  {
   "cell_type": "code",
   "execution_count": 16,
   "metadata": {
    "ExecuteTime": {
     "end_time": "2019-09-17T15:46:56.113818Z",
     "start_time": "2019-09-17T15:46:55.983057Z"
    }
   },
   "outputs": [
    {
     "data": {
      "text/html": [
       "<div>\n",
       "<style scoped>\n",
       "    .dataframe tbody tr th:only-of-type {\n",
       "        vertical-align: middle;\n",
       "    }\n",
       "\n",
       "    .dataframe tbody tr th {\n",
       "        vertical-align: top;\n",
       "    }\n",
       "\n",
       "    .dataframe thead tr th {\n",
       "        text-align: left;\n",
       "    }\n",
       "\n",
       "    .dataframe thead tr:last-of-type th {\n",
       "        text-align: right;\n",
       "    }\n",
       "</style>\n",
       "<table border=\"1\" class=\"dataframe\">\n",
       "  <thead>\n",
       "    <tr>\n",
       "      <th></th>\n",
       "      <th colspan=\"2\" halign=\"left\">node1</th>\n",
       "      <th colspan=\"2\" halign=\"left\">node2</th>\n",
       "      <th colspan=\"2\" halign=\"left\">latent_distances</th>\n",
       "    </tr>\n",
       "    <tr>\n",
       "      <th></th>\n",
       "      <th>mean</th>\n",
       "      <th>std</th>\n",
       "      <th>mean</th>\n",
       "      <th>std</th>\n",
       "      <th>mean</th>\n",
       "      <th>std</th>\n",
       "    </tr>\n",
       "    <tr>\n",
       "      <th>sequential_distance</th>\n",
       "      <th></th>\n",
       "      <th></th>\n",
       "      <th></th>\n",
       "      <th></th>\n",
       "      <th></th>\n",
       "      <th></th>\n",
       "    </tr>\n",
       "  </thead>\n",
       "  <tbody>\n",
       "    <tr>\n",
       "      <th>1</th>\n",
       "      <td>1535.0</td>\n",
       "      <td>295.458965</td>\n",
       "      <td>1534.0</td>\n",
       "      <td>295.458965</td>\n",
       "      <td>3.980450</td>\n",
       "      <td>2.759720</td>\n",
       "    </tr>\n",
       "    <tr>\n",
       "      <th>2</th>\n",
       "      <td>1535.5</td>\n",
       "      <td>295.170290</td>\n",
       "      <td>1533.5</td>\n",
       "      <td>295.170290</td>\n",
       "      <td>5.964775</td>\n",
       "      <td>2.715128</td>\n",
       "    </tr>\n",
       "    <tr>\n",
       "      <th>3</th>\n",
       "      <td>1536.0</td>\n",
       "      <td>294.881615</td>\n",
       "      <td>1533.0</td>\n",
       "      <td>294.881615</td>\n",
       "      <td>6.950049</td>\n",
       "      <td>2.856443</td>\n",
       "    </tr>\n",
       "  </tbody>\n",
       "</table>\n",
       "</div>"
      ],
      "text/plain": [
       "                      node1               node2             latent_distances  \\\n",
       "                       mean         std    mean         std             mean   \n",
       "sequential_distance                                                            \n",
       "1                    1535.0  295.458965  1534.0  295.458965         3.980450   \n",
       "2                    1535.5  295.170290  1533.5  295.170290         5.964775   \n",
       "3                    1536.0  294.881615  1533.0  294.881615         6.950049   \n",
       "\n",
       "                               \n",
       "                          std  \n",
       "sequential_distance            \n",
       "1                    2.759720  \n",
       "2                    2.715128  \n",
       "3                    2.856443  "
      ]
     },
     "execution_count": 16,
     "metadata": {},
     "output_type": "execute_result"
    }
   ],
   "source": [
    "latent_vs_sequential_distance[:3]"
   ]
  },
  {
   "cell_type": "code",
   "execution_count": 17,
   "metadata": {
    "ExecuteTime": {
     "end_time": "2019-09-17T15:46:56.165493Z",
     "start_time": "2019-09-17T15:46:56.117018Z"
    }
   },
   "outputs": [],
   "source": [
    "mean_latent_distances = latent_vs_sequential_distance.loc[distances].latent_distances['mean'].values"
   ]
  },
  {
   "cell_type": "code",
   "execution_count": 40,
   "metadata": {
    "ExecuteTime": {
     "end_time": "2019-09-17T16:19:58.504275Z",
     "start_time": "2019-09-17T16:19:58.498684Z"
    }
   },
   "outputs": [],
   "source": [
    "nplot = 100"
   ]
  },
  {
   "cell_type": "code",
   "execution_count": 41,
   "metadata": {
    "ExecuteTime": {
     "end_time": "2019-09-17T16:19:58.641269Z",
     "start_time": "2019-09-17T16:19:58.631937Z"
    }
   },
   "outputs": [
    {
     "data": {
      "text/plain": [
       "16.38095238095238"
      ]
     },
     "execution_count": 41,
     "metadata": {},
     "output_type": "execute_result"
    }
   ],
   "source": [
    "np.max(mean_latent_distances[:nplot])"
   ]
  },
  {
   "cell_type": "code",
   "execution_count": 42,
   "metadata": {
    "ExecuteTime": {
     "end_time": "2019-09-17T16:19:58.771769Z",
     "start_time": "2019-09-17T16:19:58.766446Z"
    }
   },
   "outputs": [],
   "source": [
    "from matplotlib.ticker import StrMethodFormatter, NullFormatter"
   ]
  },
  {
   "cell_type": "code",
   "execution_count": 43,
   "metadata": {
    "ExecuteTime": {
     "end_time": "2019-09-17T16:19:59.620850Z",
     "start_time": "2019-09-17T16:19:58.917878Z"
    }
   },
   "outputs": [
    {
     "data": {
      "image/png": "[encoded data removed]",
      "text/plain": [
       "<Figure size 360x360 with 1 Axes>"
      ]
     },
     "metadata": {
      "needs_background": "light"
     },
     "output_type": "display_data"
    }
   ],
   "source": [
    "fig, ax = plt.subplots(figsize=(5,5))\n",
    "MI = row.MI-row.shuff_MI\n",
    "MI_var = row.MI_var\n",
    "ax.scatter(mean_latent_distances[:nplot], MI[:nplot], color='k')\n",
    "ax.fill_between(mean_latent_distances[:nplot], MI[:nplot]-MI_var[:nplot], MI[:nplot]+MI_var[:nplot], alpha = 0, color= 'k')\n",
    "#ax.plot(mean_latent_distances[:nplot], MI[:nplot], alpha = 1, color= 'k', lw=5)\n",
    "ax.set_yscale('log')\n",
    "ax.set_xscale('log')\n",
    "#ax.set_xlim([1,50])\n",
    "\n",
    "ax.set_xlabel('Sequential distance', fontsize=18)\n",
    "ax.set_ylabel('Mutual Information (bits)', fontsize=18)\n",
    "\n",
    "\n",
    "for axis in ['top','bottom','left','right']:\n",
    "    ax.spines[axis].set_linewidth(3)\n",
    "    ax.spines[axis].set_color('k')\n",
    "ax.grid(False)\n",
    "ax.tick_params(which='both', direction='in', labelsize=14, pad=10)\n",
    "ax.tick_params(which='major', length=10, width =3)\n",
    "ax.tick_params(which='minor', length=5, width =2)\n",
    "\n",
    "ax.set_xticks([4,8,16])\n",
    "ax.set_xticklabels(['4','8','16'])\n",
    "\n",
    "ax.xaxis.set_major_formatter(StrMethodFormatter('{x:.0f}'))\n",
    "ax.xaxis.set_minor_formatter(NullFormatter())"
   ]
  },
  {
   "cell_type": "code",
   "execution_count": 24,
   "metadata": {
    "ExecuteTime": {
     "end_time": "2019-09-17T15:55:19.507150Z",
     "start_time": "2019-09-17T15:55:18.717039Z"
    }
   },
   "outputs": [
    {
     "data": {
      "image/png": "[encoded data removed]",
      "text/plain": [
       "<Figure size 360x360 with 1 Axes>"
      ]
     },
     "metadata": {
      "needs_background": "light"
     },
     "output_type": "display_data"
    }
   ],
   "source": [
    "fig, ax = plt.subplots(figsize=(5,5))\n",
    "MI = row.MI-row.shuff_MI\n",
    "MI_var = row.MI_var\n",
    "nplot=50\n",
    "ax.scatter(distances[:nplot], MI[:nplot], color='k')\n",
    "ax.fill_between(distances[:nplot], MI[:nplot]-MI_var[:nplot], MI[:nplot]+MI_var[:nplot], alpha = 0, color= 'k')\n",
    "#ax.plot(mean_latent_distances[:nplot], MI[:nplot], alpha = 1, color= 'k', lw=5)\n",
    "ax.set_yscale('log')\n",
    "ax.set_xscale('log')\n",
    "#ax.set_xlim([1,50])\n",
    "\n",
    "ax.set_xlabel('Sequential distance', fontsize=18)\n",
    "ax.set_ylabel('Mutual Information (bits)', fontsize=18)\n",
    "\n",
    "\n",
    "for axis in ['top','bottom','left','right']:\n",
    "    ax.spines[axis].set_linewidth(3)\n",
    "    ax.spines[axis].set_color('k')\n",
    "ax.grid(False)\n",
    "ax.tick_params(which='both', direction='in', labelsize=14, pad=10)\n",
    "ax.tick_params(which='major', length=10, width =3)\n",
    "ax.tick_params(which='minor', length=5, width =2)\n",
    "\n",
    "ax.set_xticks([1,10,50])\n",
    "ax.set_xticklabels(['1','10','50'])\n",
    "\n",
    "ax.xaxis.set_major_formatter(StrMethodFormatter('{x:.0f}'))\n",
    "ax.xaxis.set_minor_formatter(NullFormatter())"
   ]
  },
  {
   "cell_type": "markdown",
   "metadata": {
    "ExecuteTime": {
     "end_time": "2019-09-17T15:46:57.890173Z",
     "start_time": "2019-09-17T15:45:29.324Z"
    }
   },
   "source": [
    "#### fit decay"
   ]
  },
  {
   "cell_type": "code",
   "execution_count": 26,
   "metadata": {
    "ExecuteTime": {
     "end_time": "2019-09-17T16:16:12.180390Z",
     "start_time": "2019-09-17T16:16:12.145327Z"
    }
   },
   "outputs": [],
   "source": [
    "import lmfit\n",
    "\n",
    "def residuals(y_true, y_model, x, logscaled=False):\n",
    "    if logscaled:\n",
    "        return np.abs(np.log(y_true) - np.log(y_model)) * (1 / (np.log(1 + x)))\n",
    "    else:\n",
    "        return np.abs(y_true - y_model)\n",
    "\n",
    "def model_res(p, x, y, fit, model):\n",
    "    if fit == \"lin\":\n",
    "        return residuals(y, model(p, x), x)\n",
    "    else:\n",
    "        return residuals(y, model(p, x), x, logscaled=True)\n",
    "    \n",
    "# fitting model\n",
    "def fit_model_iter(model, n_iter=10, **kwargs):\n",
    "    \"\"\" re-fit model n_iter times and choose the best fit\n",
    "    chooses method based upon best-fit\n",
    "    \"\"\"\n",
    "    models = []\n",
    "    AICs = []\n",
    "    for iter in np.arange(n_iter):\n",
    "        results_model = model.minimize(**kwargs)\n",
    "        models.append(results_model)\n",
    "        AICs.append(results_model.aic)\n",
    "    return models[np.argmin(AICs)]\n",
    "\n",
    "def get_y(model, results, x):\n",
    "    return model({i: results.params[i].value for i in results.params}, x)\n",
    "\n",
    "def exp_decay(p, x):\n",
    "    return p[\"e_init\"] * np.exp(-x * p[\"e_decay_const\"]) + p[\"intercept\"]\n",
    "\n",
    "# decay types\n",
    "def powerlaw_decay(p, x):\n",
    "    return p[\"p_init\"] * x ** (p[\"p_decay_const\"]) + p[\"intercept\"]\n",
    "\n",
    "p_exp = lmfit.Parameters()\n",
    "p_exp.add_many(\n",
    "    (\"e_init\", 0.5, True, 1e-10),\n",
    "    (\"e_decay_const\", 0.1, True, 1e-10),\n",
    "    (\"intercept\", 1e-5, True, 1e-10),\n",
    ")\n",
    "\n",
    "p_power = lmfit.Parameters()\n",
    "p_power.add_many(\n",
    "    (\"p_init\", 0.5, True, 1e-10),\n",
    "    (\"p_decay_const\", -0.5, True, -np.inf, -1e-10),\n",
    "    (\"intercept\", 1e-5, True, 1e-10),\n",
    ")"
   ]
  },
  {
   "cell_type": "markdown",
   "metadata": {},
   "source": [
    "#### Fit exponential"
   ]
  },
  {
   "cell_type": "code",
   "execution_count": 54,
   "metadata": {
    "ExecuteTime": {
     "end_time": "2019-09-22T20:01:26.006302Z",
     "start_time": "2019-09-22T20:01:25.958102Z"
    }
   },
   "outputs": [],
   "source": [
    "fit='log'\n",
    "n_iter=1\n",
    "method=[\"nelder\", \"leastsq\", \"least-squares\"]"
   ]
  },
  {
   "cell_type": "code",
   "execution_count": 55,
   "metadata": {
    "ExecuteTime": {
     "end_time": "2019-09-22T20:01:26.351129Z",
     "start_time": "2019-09-22T20:01:26.345219Z"
    }
   },
   "outputs": [],
   "source": [
    "d = mean_latent_distances[:nplot]\n",
    "sig = MI[:nplot]"
   ]
  },
  {
   "cell_type": "code",
   "execution_count": 56,
   "metadata": {
    "ExecuteTime": {
     "end_time": "2019-09-22T20:01:27.619710Z",
     "start_time": "2019-09-22T20:01:26.751529Z"
    }
   },
   "outputs": [],
   "source": [
    "results_exp_min = lmfit.Minimizer(\n",
    "    model_res, p_exp, fcn_args=(d, sig, fit, exp_decay), nan_policy=\"omit\"\n",
    ")\n",
    "\n",
    "results_exp = [\n",
    "    fit_model_iter(results_exp_min, n_iter=n_iter, **{\"method\": meth})\n",
    "    for meth in method\n",
    "]\n",
    "results_exp = results_exp[np.argmin([i.aic for i in results_exp])]\n",
    "\n",
    "results_exp\n",
    "\n",
    "y_exp = get_y(exp_decay, results_exp, d)"
   ]
  },
  {
   "cell_type": "code",
   "execution_count": 60,
   "metadata": {
    "ExecuteTime": {
     "end_time": "2019-09-22T20:02:18.933773Z",
     "start_time": "2019-09-22T20:02:18.246546Z"
    }
   },
   "outputs": [
    {
     "data": {
      "image/png": "[encoded data removed]",
      "text/plain": [
       "<Figure size 360x360 with 1 Axes>"
      ]
     },
     "metadata": {
      "needs_background": "light"
     },
     "output_type": "display_data"
    }
   ],
   "source": [
    "fig, ax = plt.subplots(figsize=(5,5))\n",
    "MI = row.MI-row.shuff_MI\n",
    "MI_var = row.MI_var\n",
    "nplot=50\n",
    "ax.scatter(mean_latent_distances[:nplot], MI[:nplot], color='k')\n",
    "ax.fill_between(mean_latent_distances[:nplot], MI[:nplot]-MI_var[:nplot], MI[:nplot]+MI_var[:nplot], alpha = 0, color= 'k')\n",
    "ax.plot(mean_latent_distances[:nplot], y_exp, alpha = 0.5, color= 'k', lw=5)\n",
    "ax.set_yscale('log')\n",
    "ax.set_xscale('log')\n",
    "#ax.set_xlim([1,50])\n",
    "\n",
    "ax.set_xlabel('Latent distance', fontsize=18)\n",
    "ax.set_ylabel('Mutual Information (bits)', fontsize=18)\n",
    "\n",
    "\n",
    "for axis in ['top','bottom','left','right']:\n",
    "    ax.spines[axis].set_linewidth(3)\n",
    "    ax.spines[axis].set_color('k')\n",
    "ax.grid(False)\n",
    "ax.tick_params(which='both', direction='in', labelsize=14, pad=10)\n",
    "ax.tick_params(which='major', length=10, width =3)\n",
    "ax.tick_params(which='minor', length=5, width =2)\n",
    "\n",
    "ax.set_xticks([4,8,16])\n",
    "ax.set_xticklabels(['4','8','16'])\n",
    "\n",
    "\n",
    "ax.xaxis.set_major_formatter(StrMethodFormatter('{x:.0f}'))\n",
    "ax.xaxis.set_minor_formatter(NullFormatter())"
   ]
  },
  {
   "cell_type": "code",
   "execution_count": 61,
   "metadata": {
    "ExecuteTime": {
     "end_time": "2019-09-22T20:02:43.461758Z",
     "start_time": "2019-09-22T20:02:42.727110Z"
    }
   },
   "outputs": [
    {
     "data": {
      "image/png": "[encoded data removed]",
      "text/plain": [
       "<Figure size 360x360 with 1 Axes>"
      ]
     },
     "metadata": {
      "needs_background": "light"
     },
     "output_type": "display_data"
    }
   ],
   "source": [
    "fig, ax = plt.subplots(figsize=(5,5))\n",
    "MI = row.MI-row.shuff_MI\n",
    "MI_var = row.MI_var\n",
    "nplot=50\n",
    "ax.scatter(mean_latent_distances[:nplot], MI[:nplot], color='k')\n",
    "ax.fill_between(mean_latent_distances[:nplot], MI[:nplot]-MI_var[:nplot], MI[:nplot]+MI_var[:nplot], alpha = 0, color= 'k')\n",
    "ax.plot(mean_latent_distances[:nplot], y_exp, alpha = 0.5, color= 'k', lw=5)\n",
    "ax.set_yscale('log')\n",
    "ax.set_xscale('log')\n",
    "\n",
    "ax.set_xlabel('Latent distance', fontsize=18)\n",
    "ax.set_ylabel('Mutual Information (bits)', fontsize=18)\n",
    "\n",
    "\n",
    "for axis in ['top','bottom','left','right']:\n",
    "    ax.spines[axis].set_linewidth(3)\n",
    "    ax.spines[axis].set_color('k')\n",
    "ax.grid(False)\n",
    "ax.tick_params(which='both', direction='in', labelsize=14, pad=10)\n",
    "ax.tick_params(which='major', length=10, width =3)\n",
    "ax.tick_params(which='minor', length=5, width =2)\n",
    "\n",
    "ax.set_xticks([4,8,16])\n",
    "ax.set_xticklabels(['4','8','16'])\n",
    "\n",
    "ax.set_xlim([1,50])\n",
    "ax.xaxis.set_major_formatter(StrMethodFormatter('{x:.0f}'))\n",
    "ax.xaxis.set_minor_formatter(NullFormatter())"
   ]
  },
  {
   "cell_type": "markdown",
   "metadata": {},
   "source": [
    "#### Fit powerlaw"
   ]
  },
  {
   "cell_type": "code",
   "execution_count": 27,
   "metadata": {
    "ExecuteTime": {
     "end_time": "2019-09-17T16:16:18.710837Z",
     "start_time": "2019-09-17T16:16:18.704704Z"
    }
   },
   "outputs": [],
   "source": [
    "fit='log'\n",
    "n_iter=1\n",
    "method=[\"nelder\", \"leastsq\", \"least-squares\"]"
   ]
  },
  {
   "cell_type": "code",
   "execution_count": 47,
   "metadata": {
    "ExecuteTime": {
     "end_time": "2019-09-17T16:23:34.970758Z",
     "start_time": "2019-09-17T16:23:34.964757Z"
    }
   },
   "outputs": [],
   "source": [
    "d = distances[:nplot]\n",
    "sig = MI[:nplot]"
   ]
  },
  {
   "cell_type": "code",
   "execution_count": 48,
   "metadata": {
    "ExecuteTime": {
     "end_time": "2019-09-17T16:23:35.459205Z",
     "start_time": "2019-09-17T16:23:35.328657Z"
    }
   },
   "outputs": [],
   "source": [
    "results_power_min = lmfit.Minimizer(\n",
    "    model_res,\n",
    "    p_power,\n",
    "    fcn_args=(d, sig, fit, powerlaw_decay),\n",
    "    nan_policy=\"omit\",\n",
    ")\n",
    "\n",
    "results_power = [\n",
    "    fit_model_iter(results_power_min, n_iter=n_iter, **{\"method\": meth})\n",
    "    for meth in method\n",
    "]\n",
    "results_power = results_power[np.argmin([i.aic for i in results_power])]\n",
    "\n",
    "y_power = get_y(powerlaw_decay, results_power, d)"
   ]
  },
  {
   "cell_type": "code",
   "execution_count": 53,
   "metadata": {
    "ExecuteTime": {
     "end_time": "2019-09-17T16:25:41.173593Z",
     "start_time": "2019-09-17T16:25:39.803023Z"
    }
   },
   "outputs": [
    {
     "data": {
      "image/png": "[encoded data removed]",
      "text/plain": [
       "<Figure size 360x360 with 1 Axes>"
      ]
     },
     "metadata": {
      "needs_background": "light"
     },
     "output_type": "display_data"
    }
   ],
   "source": [
    "fig, ax = plt.subplots(figsize=(5,5))\n",
    "MI = row.MI-row.shuff_MI\n",
    "MI_var = row.MI_var\n",
    "nplot=50\n",
    "ax.scatter(d[:nplot], MI[:nplot], color='k')\n",
    "ax.fill_between(d[:nplot], MI[:nplot]-MI_var[:nplot], MI[:nplot]+MI_var[:nplot], alpha = 0, color= 'k')\n",
    "ax.plot(d[:nplot], y_power, alpha = 0.5, color= 'k', lw=5)\n",
    "ax.set_yscale('log')\n",
    "ax.set_xscale('log')\n",
    "#ax.set_xlim([1,50])\n",
    "\n",
    "ax.set_xlabel('Sequential distance', fontsize=18)\n",
    "ax.set_ylabel('Mutual Information (bits)', fontsize=18)\n",
    "\n",
    "\n",
    "for axis in ['top','bottom','left','right']:\n",
    "    ax.spines[axis].set_linewidth(3)\n",
    "    ax.spines[axis].set_color('k')\n",
    "ax.grid(False)\n",
    "ax.tick_params(which='both', direction='in', labelsize=14, pad=10)\n",
    "ax.tick_params(which='major', length=10, width =3)\n",
    "ax.tick_params(which='minor', length=5, width =2)\n",
    "\n",
    "ax.set_xticks([1,10,50])\n",
    "ax.set_xticklabels(['4','8','50'])\n",
    "ax.set_xlim([0.95,50])\n",
    "\n",
    "ax.xaxis.set_major_formatter(StrMethodFormatter('{x:.0f}'))\n",
    "ax.xaxis.set_minor_formatter(NullFormatter())"
   ]
  },
  {
   "cell_type": "code",
   "execution_count": null,
   "metadata": {},
   "outputs": [],
   "source": []
  }
 ],
 "metadata": {
  "kernelspec": {
   "display_name": "Python 3",
   "language": "python",
   "name": "python3"
  },
  "language_info": {
   "codemirror_mode": {
    "name": "ipython",
    "version": 3
   },
   "file_extension": ".py",
   "mimetype": "text/x-python",
   "name": "python",
   "nbconvert_exporter": "python",
   "pygments_lexer": "ipython3",
   "version": "3.6.7"
  }
 },
 "nbformat": 4,
 "nbformat_minor": 2
}
