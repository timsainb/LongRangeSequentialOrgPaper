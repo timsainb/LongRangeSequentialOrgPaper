{
 "cells": [
  {
   "cell_type": "code",
   "execution_count": 1,
   "metadata": {
    "ExecuteTime": {
     "end_time": "2021-07-07T16:43:36.871433Z",
     "start_time": "2021-07-07T16:43:36.414072Z"
    }
   },
   "outputs": [],
   "source": [
    "import matplotlib.pyplot as plt\n",
    "import numpy as np\n",
    "import pandas as pd\n",
    "from tqdm.auto import tqdm"
   ]
  },
  {
   "cell_type": "code",
   "execution_count": 2,
   "metadata": {
    "ExecuteTime": {
     "end_time": "2021-07-07T16:43:36.877550Z",
     "start_time": "2021-07-07T16:43:36.873232Z"
    }
   },
   "outputs": [],
   "source": [
    "def gen_seq_markov(alphabet, probs, seq_len):\n",
    "    \"\"\" like sample_sequence_MM, but uses a numpy matrix, no start and end states, and a set sequence length\n",
    "    \"\"\"\n",
    "    sequence = list(\n",
    "        np.random.choice(alphabet, p=np.sum(probs, axis=0) / np.sum(probs), size=1)\n",
    "    )\n",
    "    for i in range(seq_len):\n",
    "        sequence.append(np.random.choice(alphabet, p=probs[:, sequence[-1]], size=1)[0])\n",
    "    return sequence"
   ]
  },
  {
   "cell_type": "code",
   "execution_count": 3,
   "metadata": {
    "ExecuteTime": {
     "end_time": "2021-07-07T16:43:36.889451Z",
     "start_time": "2021-07-07T16:43:36.879378Z"
    }
   },
   "outputs": [],
   "source": [
    "def gen_random_markov_seq(seq_len, nstates = 2):\n",
    "    probs = np.random.rand((nstates**2)).reshape(nstates,nstates)**10\n",
    "    probs = probs/np.sum(probs, axis=0)\n",
    "    #plt.matshow(probs)\n",
    "    #probs = np.array([[0.1, 0.9], [0.9, 0.1]])\n",
    "    alphabet = np.arange(nstates)\n",
    "    sequence = list(\n",
    "        np.random.choice(alphabet, p=np.sum(probs, axis=0) / np.sum(probs), size=1)\n",
    "    )\n",
    "    for i in range(seq_len):\n",
    "        sequence.append(np.random.choice(alphabet, p=probs[:, sequence[-1]], size=1)[0])\n",
    "    return sequence"
   ]
  },
  {
   "cell_type": "code",
   "execution_count": 4,
   "metadata": {
    "ExecuteTime": {
     "end_time": "2021-07-07T16:43:36.909534Z",
     "start_time": "2021-07-07T16:43:36.890659Z"
    }
   },
   "outputs": [
    {
     "data": {
      "text/plain": [
       "[0, 11, 10, 14, 12, 7]"
      ]
     },
     "execution_count": 4,
     "metadata": {},
     "output_type": "execute_result"
    }
   ],
   "source": [
    "gen_random_markov_seq(5, nstates = 20)"
   ]
  },
  {
   "cell_type": "code",
   "execution_count": 13,
   "metadata": {
    "ExecuteTime": {
     "end_time": "2021-07-07T16:43:56.644006Z",
     "start_time": "2021-07-07T16:43:56.638973Z"
    }
   },
   "outputs": [],
   "source": [
    "seq_lens = np.random.exponential(scale=100.0, size=10000).astype(int)\n",
    "seq_lens = seq_lens[seq_lens>0]"
   ]
  },
  {
   "cell_type": "code",
   "execution_count": 14,
   "metadata": {
    "ExecuteTime": {
     "end_time": "2021-07-07T16:43:57.279355Z",
     "start_time": "2021-07-07T16:43:57.048932Z"
    }
   },
   "outputs": [
    {
     "data": {
      "image/png": "[encoded data removed]",
      "text/plain": [
       "<Figure size 432x288 with 1 Axes>"
      ]
     },
     "metadata": {
      "needs_background": "light"
     },
     "output_type": "display_data"
    }
   ],
   "source": [
    "plt.hist(seq_lens, bins=100);"
   ]
  },
  {
   "cell_type": "code",
   "execution_count": 15,
   "metadata": {
    "ExecuteTime": {
     "end_time": "2021-07-07T16:44:30.337599Z",
     "start_time": "2021-07-07T16:43:57.669665Z"
    }
   },
   "outputs": [
    {
     "data": {
      "application/vnd.jupyter.widget-view+json": {
       "model_id": "76a6476f4cd4455b895e179860ec900e",
       "version_major": 2,
       "version_minor": 0
      },
      "text/plain": [
       "HBox(children=(IntProgress(value=0, max=9893), HTML(value='')))"
      ]
     },
     "metadata": {},
     "output_type": "display_data"
    },
    {
     "name": "stdout",
     "output_type": "stream",
     "text": [
      "\n"
     ]
    }
   ],
   "source": [
    "all_seqs = [gen_random_markov_seq(seq_len, nstates=20) for seq_len in tqdm(seq_lens)]"
   ]
  },
  {
   "cell_type": "code",
   "execution_count": 16,
   "metadata": {
    "ExecuteTime": {
     "end_time": "2021-07-07T16:44:30.406058Z",
     "start_time": "2021-07-07T16:44:30.340175Z"
    }
   },
   "outputs": [
    {
     "data": {
      "text/plain": [
       "1010899"
      ]
     },
     "execution_count": 16,
     "metadata": {},
     "output_type": "execute_result"
    }
   ],
   "source": [
    "len(np.concatenate(all_seqs))"
   ]
  },
  {
   "cell_type": "code",
   "execution_count": 21,
   "metadata": {
    "ExecuteTime": {
     "end_time": "2021-07-07T16:44:43.202290Z",
     "start_time": "2021-07-07T16:44:43.197441Z"
    }
   },
   "outputs": [],
   "source": [
    "distances = np.unique(np.logspace(0, 3, 100, base=10).astype('int'))"
   ]
  },
  {
   "cell_type": "code",
   "execution_count": 22,
   "metadata": {
    "ExecuteTime": {
     "end_time": "2021-07-07T16:44:43.591781Z",
     "start_time": "2021-07-07T16:44:43.588820Z"
    }
   },
   "outputs": [],
   "source": [
    "from childes_mi.information_theory import mutual_information as mi"
   ]
  },
  {
   "cell_type": "code",
   "execution_count": 23,
   "metadata": {
    "ExecuteTime": {
     "end_time": "2021-07-07T16:44:45.545317Z",
     "start_time": "2021-07-07T16:44:43.745699Z"
    }
   },
   "outputs": [
    {
     "data": {
      "application/vnd.jupyter.widget-view+json": {
       "model_id": "",
       "version_major": 2,
       "version_minor": 0
      },
      "text/plain": [
       "HBox(children=(IntProgress(value=0, max=75), HTML(value='')))"
      ]
     },
     "metadata": {},
     "output_type": "display_data"
    },
    {
     "name": "stderr",
     "output_type": "stream",
     "text": [
      "[Parallel(n_jobs=-1)]: Using backend LokyBackend with 32 concurrent workers.\n"
     ]
    },
    {
     "name": "stdout",
     "output_type": "stream",
     "text": [
      "\r"
     ]
    },
    {
     "name": "stderr",
     "output_type": "stream",
     "text": [
      "[Parallel(n_jobs=-1)]: Done   8 tasks      | elapsed:    0.2s\n",
      "[Parallel(n_jobs=-1)]: Done  28 out of  75 | elapsed:    0.3s remaining:    0.5s\n",
      "[Parallel(n_jobs=-1)]: Done  44 out of  75 | elapsed:    0.5s remaining:    0.3s\n",
      "[Parallel(n_jobs=-1)]: Done  60 out of  75 | elapsed:    0.5s remaining:    0.1s\n",
      "[Parallel(n_jobs=-1)]: Done  75 out of  75 | elapsed:    0.6s finished\n"
     ]
    },
    {
     "data": {
      "application/vnd.jupyter.widget-view+json": {
       "model_id": "",
       "version_major": 2,
       "version_minor": 0
      },
      "text/plain": [
       "HBox(children=(IntProgress(value=0, max=75), HTML(value='')))"
      ]
     },
     "metadata": {},
     "output_type": "display_data"
    },
    {
     "name": "stderr",
     "output_type": "stream",
     "text": [
      "[Parallel(n_jobs=-1)]: Using backend LokyBackend with 32 concurrent workers.\n"
     ]
    },
    {
     "name": "stdout",
     "output_type": "stream",
     "text": [
      "\r"
     ]
    },
    {
     "name": "stderr",
     "output_type": "stream",
     "text": [
      "[Parallel(n_jobs=-1)]: Done   8 tasks      | elapsed:    0.3s\n",
      "[Parallel(n_jobs=-1)]: Done  28 out of  75 | elapsed:    0.3s remaining:    0.6s\n",
      "[Parallel(n_jobs=-1)]: Done  44 out of  75 | elapsed:    0.6s remaining:    0.4s\n",
      "[Parallel(n_jobs=-1)]: Done  60 out of  75 | elapsed:    0.6s remaining:    0.2s\n",
      "[Parallel(n_jobs=-1)]: Done  75 out of  75 | elapsed:    0.8s finished\n"
     ]
    }
   ],
   "source": [
    "# original model\n",
    "(MI, MI_var), (shuff_MI, shuff_MI_var) = mi.sequential_mutual_information(\n",
    "    [np.concatenate(all_seqs)], distances=distances, n_jobs=-1\n",
    ")\n",
    "MI_DF =  pd.DataFrame(\n",
    "    [[MI, MI_var, shuff_MI, shuff_MI_var, distances, \"no_markov\"]],\n",
    "    columns=[\"MI\", \"MI_var\", \"shuff_MI\", \"shuff_MI_var\", \"distances\", \"shuffle\"],\n",
    ")"
   ]
  },
  {
   "cell_type": "code",
   "execution_count": 24,
   "metadata": {
    "ExecuteTime": {
     "end_time": "2021-07-07T16:44:46.192849Z",
     "start_time": "2021-07-07T16:44:45.547700Z"
    }
   },
   "outputs": [
    {
     "data": {
      "text/plain": [
       "[<matplotlib.lines.Line2D at 0x7f0415f50ad0>]"
      ]
     },
     "execution_count": 24,
     "metadata": {},
     "output_type": "execute_result"
    },
    {
     "data": {
      "image/png": "[encoded data removed]",
      "text/plain": [
       "<Figure size 720x360 with 2 Axes>"
      ]
     },
     "metadata": {
      "needs_background": "light"
     },
     "output_type": "display_data"
    }
   ],
   "source": [
    "row = MI_DF.iloc[len(MI_DF)-1]\n",
    "fig, axs = plt.subplots(ncols=2, figsize=(10,5))\n",
    "\n",
    "MI = row.MI-row.shuff_MI\n",
    "ax = axs[0]\n",
    "ax.plot(distances, MI)\n",
    "ax.set_yscale('log')\n",
    "ax.set_xscale('log')\n",
    "\n",
    "ax = axs[1]\n",
    "ax.plot(distances, MI)"
   ]
  },
  {
   "cell_type": "code",
   "execution_count": null,
   "metadata": {},
   "outputs": [],
   "source": []
  },
  {
   "cell_type": "code",
   "execution_count": null,
   "metadata": {},
   "outputs": [],
   "source": []
  }
 ],
 "metadata": {
  "kernelspec": {
   "display_name": "childes-paper",
   "language": "python",
   "name": "childes-paper"
  },
  "language_info": {
   "codemirror_mode": {
    "name": "ipython",
    "version": 3
   },
   "file_extension": ".py",
   "mimetype": "text/x-python",
   "name": "python",
   "nbconvert_exporter": "python",
   "pygments_lexer": "ipython3",
   "version": "3.7.4"
  }
 },
 "nbformat": 4,
 "nbformat_minor": 2
}
