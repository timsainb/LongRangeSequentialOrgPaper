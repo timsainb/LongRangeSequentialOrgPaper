{
 "cells": [
  {
   "cell_type": "markdown",
   "metadata": {},
   "source": [
    "### references\n",
    "- https://www.researchgate.net/publication/258797916_Levy_Flights_1f_Noise_and_Self_Organized_Criticality"
   ]
  },
  {
   "cell_type": "code",
   "execution_count": 1,
   "metadata": {
    "ExecuteTime": {
     "end_time": "2021-07-07T02:58:36.018197Z",
     "start_time": "2021-07-07T02:58:35.572724Z"
    }
   },
   "outputs": [],
   "source": [
    "import matplotlib.pyplot as plt\n",
    "import numpy as np\n",
    "import pandas as pd\n",
    "from tqdm.auto import tqdm"
   ]
  },
  {
   "cell_type": "code",
   "execution_count": 2,
   "metadata": {
    "ExecuteTime": {
     "end_time": "2021-07-07T02:58:36.732942Z",
     "start_time": "2021-07-07T02:58:36.019346Z"
    }
   },
   "outputs": [],
   "source": [
    "import mistree as mist"
   ]
  },
  {
   "cell_type": "code",
   "execution_count": null,
   "metadata": {
    "ExecuteTime": {
     "start_time": "2021-07-07T00:55:19.553Z"
    }
   },
   "outputs": [],
   "source": [
    "import statsmodels.api as sm"
   ]
  },
  {
   "cell_type": "code",
   "execution_count": null,
   "metadata": {
    "ExecuteTime": {
     "start_time": "2021-07-07T00:55:19.705Z"
    }
   },
   "outputs": [],
   "source": [
    "from childes_mi.information_theory import mutual_information as mi\n",
    "# distances of MI to sample at\n",
    "distances = np.unique(np.logspace(0, 4, 100, base=10).astype('int'))"
   ]
  },
  {
   "cell_type": "code",
   "execution_count": null,
   "metadata": {
    "ExecuteTime": {
     "start_time": "2021-07-07T00:55:19.870Z"
    }
   },
   "outputs": [],
   "source": [
    "??mist.get_levy_flight"
   ]
  },
  {
   "cell_type": "code",
   "execution_count": null,
   "metadata": {
    "ExecuteTime": {
     "start_time": "2021-07-07T00:55:20.097Z"
    }
   },
   "outputs": [],
   "source": [
    "size = 1000000\n",
    "x, y = mist.get_levy_flight(size, mode='2D', box_size = 100, periodic=False, t_0=3, alpha=-1)"
   ]
  },
  {
   "cell_type": "code",
   "execution_count": null,
   "metadata": {
    "ExecuteTime": {
     "start_time": "2021-07-07T00:55:20.477Z"
    }
   },
   "outputs": [],
   "source": [
    "plt.scatter(x[:100000],y[:100000], s=1, alpha = 0.1)"
   ]
  },
  {
   "cell_type": "code",
   "execution_count": null,
   "metadata": {
    "ExecuteTime": {
     "start_time": "2021-07-07T00:55:20.805Z"
    }
   },
   "outputs": [],
   "source": [
    "plt.plot(x[:4000], y[:4000])\n",
    "print(np.max(x), np.max(y))"
   ]
  },
  {
   "cell_type": "code",
   "execution_count": null,
   "metadata": {
    "ExecuteTime": {
     "start_time": "2021-07-07T00:55:21.004Z"
    }
   },
   "outputs": [],
   "source": [
    "#walk_vector = np.vstack([x,y])\n",
    "# distance as a function of step size\n",
    "#autocorrelation = sm.tsa.acf(x, nlags = 1000)\n",
    "#fig, ax = plt.subplots(figsize=(5,5))\n",
    "#ax.plot(autocorrelation)\n",
    "#ax.set_yscale('log')\n",
    "#ax.set_xscale('log')"
   ]
  },
  {
   "cell_type": "markdown",
   "metadata": {},
   "source": [
    "### bin"
   ]
  },
  {
   "cell_type": "code",
   "execution_count": null,
   "metadata": {
    "ExecuteTime": {
     "start_time": "2021-07-07T00:55:21.357Z"
    }
   },
   "outputs": [],
   "source": [
    "min_ = np.min(np.concatenate([x,y]))\n",
    "max_ = np.max(np.concatenate([x,y]))"
   ]
  },
  {
   "cell_type": "code",
   "execution_count": null,
   "metadata": {
    "ExecuteTime": {
     "start_time": "2021-07-07T00:55:21.552Z"
    }
   },
   "outputs": [],
   "source": [
    "np.concatenate([x,y])"
   ]
  },
  {
   "cell_type": "code",
   "execution_count": null,
   "metadata": {
    "ExecuteTime": {
     "start_time": "2021-07-07T00:55:21.925Z"
    }
   },
   "outputs": [],
   "source": [
    "bins = np.linspace(0,100, 100)\n",
    "x_binned = np.digitize(x, bins)\n",
    "y_binned = np.digitize(y, bins)"
   ]
  },
  {
   "cell_type": "code",
   "execution_count": null,
   "metadata": {
    "ExecuteTime": {
     "start_time": "2021-07-07T00:55:22.279Z"
    }
   },
   "outputs": [],
   "source": [
    "xy_symbolic = [i+j for i, j in zip(tqdm(x_binned.astype(str)), y_binned.astype(str))]"
   ]
  },
  {
   "cell_type": "code",
   "execution_count": null,
   "metadata": {
    "ExecuteTime": {
     "start_time": "2021-07-07T00:55:22.460Z"
    }
   },
   "outputs": [],
   "source": [
    "len(xy_symbolic)"
   ]
  },
  {
   "cell_type": "code",
   "execution_count": null,
   "metadata": {
    "ExecuteTime": {
     "start_time": "2021-07-07T00:55:22.654Z"
    }
   },
   "outputs": [],
   "source": [
    "distances = np.unique(np.logspace(0, 2, 100, base=10).astype('int'))"
   ]
  },
  {
   "cell_type": "code",
   "execution_count": null,
   "metadata": {
    "ExecuteTime": {
     "start_time": "2021-07-07T00:55:23.094Z"
    }
   },
   "outputs": [],
   "source": [
    "# original model\n",
    "(MI, MI_var), (shuff_MI, shuff_MI_var) = mi.sequential_mutual_information(\n",
    "    [xy_symbolic], distances=distances, n_jobs=-1\n",
    ")"
   ]
  },
  {
   "cell_type": "code",
   "execution_count": 480,
   "metadata": {
    "ExecuteTime": {
     "end_time": "2021-07-06T19:12:37.369055Z",
     "start_time": "2021-07-06T19:12:37.363717Z"
    }
   },
   "outputs": [],
   "source": [
    "MI_DF =  pd.DataFrame(\n",
    "    [[MI, MI_var, shuff_MI, shuff_MI_var, distances, \"no_markov\"]],\n",
    "    columns=[\"MI\", \"MI_var\", \"shuff_MI\", \"shuff_MI_var\", \"distances\", \"shuffle\"],\n",
    ")"
   ]
  },
  {
   "cell_type": "code",
   "execution_count": 481,
   "metadata": {
    "ExecuteTime": {
     "end_time": "2021-07-06T19:12:37.852348Z",
     "start_time": "2021-07-06T19:12:37.370504Z"
    }
   },
   "outputs": [
    {
     "data": {
      "image/png": "[encoded data removed]",
      "text/plain": [
       "<Figure size 360x360 with 1 Axes>"
      ]
     },
     "metadata": {
      "needs_background": "light"
     },
     "output_type": "display_data"
    }
   ],
   "source": [
    "row = MI_DF.iloc[len(MI_DF)-1]\n",
    "fig, ax = plt.subplots(figsize=(5,5))\n",
    "MI = row.MI-row.shuff_MI\n",
    "\n",
    "ax.scatter(distances, MI)\n",
    "ax.set_yscale('log')\n",
    "ax.set_xscale('log')"
   ]
  },
  {
   "cell_type": "code",
   "execution_count": 482,
   "metadata": {
    "ExecuteTime": {
     "end_time": "2021-07-06T19:13:49.199227Z",
     "start_time": "2021-07-06T19:13:49.195359Z"
    }
   },
   "outputs": [],
   "source": [
    "distances = np.unique(np.logspace(0, 4, 100, base=10).astype('int'))"
   ]
  },
  {
   "cell_type": "code",
   "execution_count": 483,
   "metadata": {
    "ExecuteTime": {
     "end_time": "2021-07-06T19:15:09.352911Z",
     "start_time": "2021-07-06T19:13:49.339997Z"
    }
   },
   "outputs": [
    {
     "data": {
      "application/vnd.jupyter.widget-view+json": {
       "model_id": "",
       "version_major": 2,
       "version_minor": 0
      },
      "text/plain": [
       "HBox(children=(IntProgress(value=0, max=84), HTML(value='')))"
      ]
     },
     "metadata": {},
     "output_type": "display_data"
    },
    {
     "name": "stderr",
     "output_type": "stream",
     "text": [
      "[Parallel(n_jobs=-1)]: Using backend LokyBackend with 32 concurrent workers.\n"
     ]
    },
    {
     "name": "stdout",
     "output_type": "stream",
     "text": [
      "\r"
     ]
    },
    {
     "name": "stderr",
     "output_type": "stream",
     "text": [
      "[Parallel(n_jobs=-1)]: Done   8 tasks      | elapsed:   45.0s\n",
      "[Parallel(n_jobs=-1)]: Done  38 out of  84 | elapsed:  1.0min remaining:  1.2min\n",
      "[Parallel(n_jobs=-1)]: Done  55 out of  84 | elapsed:  1.2min remaining:   36.7s\n",
      "[Parallel(n_jobs=-1)]: Done  72 out of  84 | elapsed:  1.2min remaining:   11.7s\n",
      "[Parallel(n_jobs=-1)]: Done  84 out of  84 | elapsed:  1.2min finished\n"
     ]
    },
    {
     "data": {
      "application/vnd.jupyter.widget-view+json": {
       "model_id": "",
       "version_major": 2,
       "version_minor": 0
      },
      "text/plain": [
       "HBox(children=(IntProgress(value=0, max=84), HTML(value='')))"
      ]
     },
     "metadata": {},
     "output_type": "display_data"
    },
    {
     "name": "stderr",
     "output_type": "stream",
     "text": [
      "[Parallel(n_jobs=-1)]: Using backend LokyBackend with 32 concurrent workers.\n"
     ]
    },
    {
     "name": "stdout",
     "output_type": "stream",
     "text": [
      "\r"
     ]
    },
    {
     "name": "stderr",
     "output_type": "stream",
     "text": [
      "[Parallel(n_jobs=-1)]: Done   8 tasks      | elapsed:    2.1s\n",
      "[Parallel(n_jobs=-1)]: Done  38 out of  84 | elapsed:    3.9s remaining:    4.7s\n",
      "[Parallel(n_jobs=-1)]: Done  55 out of  84 | elapsed:    5.1s remaining:    2.7s\n",
      "[Parallel(n_jobs=-1)]: Done  72 out of  84 | elapsed:    6.0s remaining:    1.0s\n",
      "[Parallel(n_jobs=-1)]: Done  84 out of  84 | elapsed:    6.9s finished\n"
     ]
    }
   ],
   "source": [
    "# original model\n",
    "(MI, MI_var), (shuff_MI, shuff_MI_var) = mi.sequential_mutual_information(\n",
    "    [xy_symbolic], distances=distances, n_jobs=-1\n",
    ")"
   ]
  },
  {
   "cell_type": "code",
   "execution_count": 484,
   "metadata": {
    "ExecuteTime": {
     "end_time": "2021-07-06T19:15:09.359704Z",
     "start_time": "2021-07-06T19:15:09.354393Z"
    }
   },
   "outputs": [],
   "source": [
    "MI_DF =  pd.DataFrame(\n",
    "    [[MI, MI_var, shuff_MI, shuff_MI_var, distances, \"no_markov\"]],\n",
    "    columns=[\"MI\", \"MI_var\", \"shuff_MI\", \"shuff_MI_var\", \"distances\", \"shuffle\"],\n",
    ")"
   ]
  },
  {
   "cell_type": "code",
   "execution_count": 485,
   "metadata": {
    "ExecuteTime": {
     "end_time": "2021-07-06T19:15:10.230794Z",
     "start_time": "2021-07-06T19:15:09.361108Z"
    }
   },
   "outputs": [
    {
     "data": {
      "image/png": "[encoded data removed]",
      "text/plain": [
       "<Figure size 360x360 with 1 Axes>"
      ]
     },
     "metadata": {
      "needs_background": "light"
     },
     "output_type": "display_data"
    }
   ],
   "source": [
    "row = MI_DF.iloc[len(MI_DF)-1]\n",
    "fig, ax = plt.subplots(figsize=(5,5))\n",
    "MI = row.MI-row.shuff_MI\n",
    "\n",
    "ax.scatter(distances, MI)\n",
    "ax.set_yscale('log')\n",
    "ax.set_xscale('log')"
   ]
  },
  {
   "cell_type": "code",
   "execution_count": null,
   "metadata": {},
   "outputs": [],
   "source": []
  },
  {
   "cell_type": "markdown",
   "metadata": {},
   "source": [
    "### cluster"
   ]
  },
  {
   "cell_type": "code",
   "execution_count": 445,
   "metadata": {
    "ExecuteTime": {
     "end_time": "2021-07-06T19:08:45.773997Z",
     "start_time": "2021-07-06T19:08:45.764941Z"
    }
   },
   "outputs": [],
   "source": [
    "from sklearn.cluster import KMeans, MiniBatchKMeans"
   ]
  },
  {
   "cell_type": "code",
   "execution_count": 446,
   "metadata": {
    "ExecuteTime": {
     "end_time": "2021-07-06T19:08:45.787840Z",
     "start_time": "2021-07-06T19:08:45.775134Z"
    }
   },
   "outputs": [
    {
     "data": {
      "text/plain": [
       "(500000, 2)"
      ]
     },
     "execution_count": 446,
     "metadata": {},
     "output_type": "execute_result"
    }
   ],
   "source": [
    "walk_vector = np.vstack([x,y]).T\n",
    "walk_vector.shape"
   ]
  },
  {
   "cell_type": "code",
   "execution_count": 447,
   "metadata": {
    "ExecuteTime": {
     "end_time": "2021-07-06T19:08:46.429341Z",
     "start_time": "2021-07-06T19:08:45.843332Z"
    }
   },
   "outputs": [
    {
     "name": "stdout",
     "output_type": "stream",
     "text": [
      "Init 1/3 with method: k-means++\n",
      "Inertia for init 1/3: 4265675.000000\n",
      "Init 2/3 with method: k-means++\n",
      "Inertia for init 2/3: 4229383.000000\n",
      "Init 3/3 with method: k-means++\n",
      "Inertia for init 3/3: 4821337.500000\n",
      "Minibatch iteration 1/500000: mean batch inertia: 12651.042500, ewa inertia: 12651.042500 \n",
      "Minibatch iteration 2/500000: mean batch inertia: 15190.672500, ewa inertia: 12652.058350 \n",
      "Minibatch iteration 3/500000: mean batch inertia: 19265.352500, ewa inertia: 12654.703662 \n",
      "Minibatch iteration 4/500000: mean batch inertia: 16926.936250, ewa inertia: 12656.412552 \n",
      "Minibatch iteration 5/500000: mean batch inertia: 13208.163750, ewa inertia: 12656.633252 \n",
      "Minibatch iteration 6/500000: mean batch inertia: 13263.378750, ewa inertia: 12656.875950 \n",
      "Minibatch iteration 7/500000: mean batch inertia: 14984.405000, ewa inertia: 12657.806959 \n",
      "Minibatch iteration 8/500000: mean batch inertia: 12534.553750, ewa inertia: 12657.757658 \n",
      "Minibatch iteration 9/500000: mean batch inertia: 12943.403750, ewa inertia: 12657.871916 \n",
      "Minibatch iteration 10/500000: mean batch inertia: 14565.532500, ewa inertia: 12658.634979 \n",
      "Minibatch iteration 11/500000: mean batch inertia: 13572.841250, ewa inertia: 12659.000661 \n",
      "Converged (lack of improvement in inertia) at iteration 11/500000\n",
      "Computing label assignment and total inertia\n"
     ]
    }
   ],
   "source": [
    "kmeans = MiniBatchKMeans(n_clusters=10, random_state=0, verbose=1).fit(walk_vector)"
   ]
  },
  {
   "cell_type": "markdown",
   "metadata": {
    "ExecuteTime": {
     "end_time": "2021-07-06T19:00:27.540774Z",
     "start_time": "2021-07-06T19:00:27.535488Z"
    }
   },
   "source": [
    "kmeans.labels_"
   ]
  },
  {
   "cell_type": "markdown",
   "metadata": {},
   "source": [
    "### compute MI"
   ]
  },
  {
   "cell_type": "code",
   "execution_count": 448,
   "metadata": {
    "ExecuteTime": {
     "end_time": "2021-07-06T19:08:46.434334Z",
     "start_time": "2021-07-06T19:08:46.431235Z"
    }
   },
   "outputs": [],
   "source": []
  },
  {
   "cell_type": "code",
   "execution_count": 449,
   "metadata": {
    "ExecuteTime": {
     "end_time": "2021-07-06T19:08:47.297197Z",
     "start_time": "2021-07-06T19:08:46.464253Z"
    }
   },
   "outputs": [
    {
     "data": {
      "application/vnd.jupyter.widget-view+json": {
       "model_id": "",
       "version_major": 2,
       "version_minor": 0
      },
      "text/plain": [
       "HBox(children=(IntProgress(value=0, max=84), HTML(value='')))"
      ]
     },
     "metadata": {},
     "output_type": "display_data"
    },
    {
     "name": "stderr",
     "output_type": "stream",
     "text": [
      "[Parallel(n_jobs=-1)]: Using backend LokyBackend with 32 concurrent workers.\n",
      "[Parallel(n_jobs=-1)]: Done   8 tasks      | elapsed:    0.1s\n",
      "[Parallel(n_jobs=-1)]: Done  38 out of  84 | elapsed:    0.1s remaining:    0.2s\n",
      "[Parallel(n_jobs=-1)]: Done  55 out of  84 | elapsed:    0.2s remaining:    0.1s\n"
     ]
    },
    {
     "name": "stdout",
     "output_type": "stream",
     "text": [
      "\r"
     ]
    },
    {
     "name": "stderr",
     "output_type": "stream",
     "text": [
      "[Parallel(n_jobs=-1)]: Done  72 out of  84 | elapsed:    0.2s remaining:    0.0s\n",
      "[Parallel(n_jobs=-1)]: Done  84 out of  84 | elapsed:    0.3s finished\n"
     ]
    },
    {
     "data": {
      "application/vnd.jupyter.widget-view+json": {
       "model_id": "",
       "version_major": 2,
       "version_minor": 0
      },
      "text/plain": [
       "HBox(children=(IntProgress(value=0, max=84), HTML(value='')))"
      ]
     },
     "metadata": {},
     "output_type": "display_data"
    },
    {
     "name": "stderr",
     "output_type": "stream",
     "text": [
      "[Parallel(n_jobs=-1)]: Using backend LokyBackend with 32 concurrent workers.\n",
      "[Parallel(n_jobs=-1)]: Done   8 tasks      | elapsed:    0.1s\n"
     ]
    },
    {
     "name": "stdout",
     "output_type": "stream",
     "text": [
      "\r"
     ]
    },
    {
     "name": "stderr",
     "output_type": "stream",
     "text": [
      "[Parallel(n_jobs=-1)]: Done  38 out of  84 | elapsed:    0.3s remaining:    0.3s\n",
      "[Parallel(n_jobs=-1)]: Done  55 out of  84 | elapsed:    0.3s remaining:    0.2s\n",
      "[Parallel(n_jobs=-1)]: Done  72 out of  84 | elapsed:    0.4s remaining:    0.1s\n",
      "[Parallel(n_jobs=-1)]: Done  84 out of  84 | elapsed:    0.4s finished\n"
     ]
    }
   ],
   "source": [
    "# original model\n",
    "(MI, MI_var), (shuff_MI, shuff_MI_var) = mi.sequential_mutual_information(\n",
    "    [kmeans.labels_], distances=distances, n_jobs=-1\n",
    ")"
   ]
  },
  {
   "cell_type": "code",
   "execution_count": 450,
   "metadata": {
    "ExecuteTime": {
     "end_time": "2021-07-06T19:08:47.303587Z",
     "start_time": "2021-07-06T19:08:47.298591Z"
    }
   },
   "outputs": [],
   "source": [
    "MI_DF =  pd.DataFrame(\n",
    "    [[MI, MI_var, shuff_MI, shuff_MI_var, distances, \"no_markov\"]],\n",
    "    columns=[\"MI\", \"MI_var\", \"shuff_MI\", \"shuff_MI_var\", \"distances\", \"shuffle\"],\n",
    ")"
   ]
  },
  {
   "cell_type": "code",
   "execution_count": 451,
   "metadata": {
    "ExecuteTime": {
     "end_time": "2021-07-06T19:08:48.107013Z",
     "start_time": "2021-07-06T19:08:47.305440Z"
    }
   },
   "outputs": [
    {
     "data": {
      "image/png": "[encoded data removed]",
      "text/plain": [
       "<Figure size 360x360 with 1 Axes>"
      ]
     },
     "metadata": {
      "needs_background": "light"
     },
     "output_type": "display_data"
    }
   ],
   "source": [
    "row = MI_DF.iloc[len(MI_DF)-1]\n",
    "fig, ax = plt.subplots(figsize=(5,5))\n",
    "MI = row.MI-row.shuff_MI\n",
    "\n",
    "ax.scatter(distances, MI)\n",
    "ax.set_yscale('log')\n",
    "ax.set_xscale('log')"
   ]
  },
  {
   "cell_type": "code",
   "execution_count": 271,
   "metadata": {
    "ExecuteTime": {
     "end_time": "2021-07-06T18:53:58.447809Z",
     "start_time": "2021-07-06T18:53:58.445731Z"
    }
   },
   "outputs": [],
   "source": [
    "# spatial distance as a function of sequential distance"
   ]
  },
  {
   "cell_type": "code",
   "execution_count": 272,
   "metadata": {
    "ExecuteTime": {
     "end_time": "2021-07-06T18:54:06.667792Z",
     "start_time": "2021-07-06T18:54:06.659597Z"
    }
   },
   "outputs": [],
   "source": [
    "walk_vector = np.vstack([x,y]).T[:1000]"
   ]
  },
  {
   "cell_type": "code",
   "execution_count": 273,
   "metadata": {
    "ExecuteTime": {
     "end_time": "2021-07-06T18:54:06.830425Z",
     "start_time": "2021-07-06T18:54:06.824701Z"
    }
   },
   "outputs": [
    {
     "data": {
      "text/plain": [
       "(1000, 2)"
      ]
     },
     "execution_count": 273,
     "metadata": {},
     "output_type": "execute_result"
    }
   ],
   "source": [
    "walk_vector.shape"
   ]
  },
  {
   "cell_type": "code",
   "execution_count": 274,
   "metadata": {
    "ExecuteTime": {
     "end_time": "2021-07-06T18:54:06.954780Z",
     "start_time": "2021-07-06T18:54:06.951516Z"
    }
   },
   "outputs": [],
   "source": [
    "from scipy.spatial import distance_matrix"
   ]
  },
  {
   "cell_type": "code",
   "execution_count": 275,
   "metadata": {
    "ExecuteTime": {
     "end_time": "2021-07-06T18:54:07.120272Z",
     "start_time": "2021-07-06T18:54:07.089220Z"
    }
   },
   "outputs": [],
   "source": [
    "dist = distance_matrix(walk_vector, walk_vector)"
   ]
  },
  {
   "cell_type": "code",
   "execution_count": 276,
   "metadata": {
    "ExecuteTime": {
     "end_time": "2021-07-06T18:54:07.390708Z",
     "start_time": "2021-07-06T18:54:07.242257Z"
    }
   },
   "outputs": [
    {
     "data": {
      "text/plain": [
       "<matplotlib.image.AxesImage at 0x7f556c4cf6d0>"
      ]
     },
     "execution_count": 276,
     "metadata": {},
     "output_type": "execute_result"
    },
    {
     "data": {
      "image/png": "[encoded data removed]",
      "text/plain": [
       "<Figure size 288x288 with 1 Axes>"
      ]
     },
     "metadata": {
      "needs_background": "light"
     },
     "output_type": "display_data"
    }
   ],
   "source": [
    "plt.matshow(dist)"
   ]
  },
  {
   "cell_type": "code",
   "execution_count": 277,
   "metadata": {
    "ExecuteTime": {
     "end_time": "2021-07-06T18:54:12.386757Z",
     "start_time": "2021-07-06T18:54:12.381508Z"
    }
   },
   "outputs": [
    {
     "data": {
      "text/plain": [
       "1000000"
      ]
     },
     "execution_count": 277,
     "metadata": {},
     "output_type": "execute_result"
    }
   ],
   "source": [
    "np.product(np.shape(dist))"
   ]
  },
  {
   "cell_type": "code",
   "execution_count": 278,
   "metadata": {
    "ExecuteTime": {
     "end_time": "2021-07-06T18:54:14.447793Z",
     "start_time": "2021-07-06T18:54:14.442582Z"
    }
   },
   "outputs": [],
   "source": [
    "x = np.tile(np.arange(len(dist)), len(dist))"
   ]
  },
  {
   "cell_type": "code",
   "execution_count": 279,
   "metadata": {
    "ExecuteTime": {
     "end_time": "2021-07-06T18:54:14.616900Z",
     "start_time": "2021-07-06T18:54:14.612943Z"
    }
   },
   "outputs": [],
   "source": [
    "y = dist.flatten()"
   ]
  },
  {
   "cell_type": "code",
   "execution_count": 280,
   "metadata": {
    "ExecuteTime": {
     "end_time": "2021-07-06T18:54:14.895289Z",
     "start_time": "2021-07-06T18:54:14.891257Z"
    }
   },
   "outputs": [
    {
     "data": {
      "text/plain": [
       "(1000000, 1000000)"
      ]
     },
     "execution_count": 280,
     "metadata": {},
     "output_type": "execute_result"
    }
   ],
   "source": [
    "len(x), len(y)"
   ]
  },
  {
   "cell_type": "code",
   "execution_count": 281,
   "metadata": {
    "ExecuteTime": {
     "end_time": "2021-07-06T18:54:15.071524Z",
     "start_time": "2021-07-06T18:54:15.066212Z"
    }
   },
   "outputs": [
    {
     "data": {
      "text/plain": [
       "array([  0,   1,   2, ..., 997, 998, 999])"
      ]
     },
     "execution_count": 281,
     "metadata": {},
     "output_type": "execute_result"
    }
   ],
   "source": [
    "x[:10000]"
   ]
  },
  {
   "cell_type": "code",
   "execution_count": 282,
   "metadata": {
    "ExecuteTime": {
     "end_time": "2021-07-06T18:54:15.397317Z",
     "start_time": "2021-07-06T18:54:15.225639Z"
    }
   },
   "outputs": [
    {
     "data": {
      "text/plain": [
       "<matplotlib.collections.PathCollection at 0x7f552b7a43d0>"
      ]
     },
     "execution_count": 282,
     "metadata": {},
     "output_type": "execute_result"
    },
    {
     "data": {
      "image/png": "[encoded data removed]",
      "text/plain": [
       "<Figure size 432x288 with 1 Axes>"
      ]
     },
     "metadata": {
      "needs_background": "light"
     },
     "output_type": "display_data"
    }
   ],
   "source": [
    "plt.scatter(x[:10000], y[:10000], alpha = 0.1, s=0.1)"
   ]
  },
  {
   "cell_type": "code",
   "execution_count": null,
   "metadata": {},
   "outputs": [],
   "source": []
  },
  {
   "cell_type": "code",
   "execution_count": null,
   "metadata": {},
   "outputs": [],
   "source": []
  }
 ],
 "metadata": {
  "kernelspec": {
   "display_name": "childes-paper",
   "language": "python",
   "name": "childes-paper"
  },
  "language_info": {
   "codemirror_mode": {
    "name": "ipython",
    "version": 3
   },
   "file_extension": ".py",
   "mimetype": "text/x-python",
   "name": "python",
   "nbconvert_exporter": "python",
   "pygments_lexer": "ipython3",
   "version": "3.7.4"
  }
 },
 "nbformat": 4,
 "nbformat_minor": 2
}
