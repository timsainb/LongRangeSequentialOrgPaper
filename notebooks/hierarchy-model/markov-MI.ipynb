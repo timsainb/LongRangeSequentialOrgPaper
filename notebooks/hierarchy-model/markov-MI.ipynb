{
 "cells": [
  {
   "cell_type": "code",
   "execution_count": 1,
   "metadata": {
    "ExecuteTime": {
     "end_time": "2019-09-17T15:58:18.284518Z",
     "start_time": "2019-09-17T15:58:16.548287Z"
    }
   },
   "outputs": [
    {
     "name": "stderr",
     "output_type": "stream",
     "text": [
      "/mnt/cube/tsainbur/conda_envs/tpy3/lib/python3.6/site-packages/tqdm/autonotebook/__init__.py:14: TqdmExperimentalWarning: Using `tqdm.autonotebook.tqdm` in notebook mode. Use `tqdm.tqdm` instead to force console mode (e.g. in jupyter console)\n",
      "  \" (e.g. in jupyter console)\", TqdmExperimentalWarning)\n"
     ]
    }
   ],
   "source": [
    "import numpy as np\n",
    "import pandas as pd\n",
    "from tqdm.autonotebook import tqdm"
   ]
  },
  {
   "cell_type": "code",
   "execution_count": 2,
   "metadata": {
    "ExecuteTime": {
     "end_time": "2019-09-17T15:58:18.302341Z",
     "start_time": "2019-09-17T15:58:18.289702Z"
    }
   },
   "outputs": [],
   "source": [
    "def gen_seq_markov(alphabet, probs, seq_len):\n",
    "    \"\"\" like sample_sequence_MM, but uses a numpy matrix, no start and end states, and a set sequence length\n",
    "    \"\"\"\n",
    "    sequence = list(\n",
    "        np.random.choice(alphabet, p=np.sum(probs, axis=0) / np.sum(probs), size=1)\n",
    "    )\n",
    "    for i in tqdm(range(seq_len)):\n",
    "        sequence.append(np.random.choice(alphabet, p=probs[:, sequence[-1]], size=1)[0])\n",
    "    return sequence"
   ]
  },
  {
   "cell_type": "code",
   "execution_count": 3,
   "metadata": {
    "ExecuteTime": {
     "end_time": "2019-09-17T15:58:18.394900Z",
     "start_time": "2019-09-17T15:58:18.305996Z"
    }
   },
   "outputs": [],
   "source": [
    "probs = np.array([[0.1, 0.9], [0.9, 0.1]])\n",
    "alphabet = [0, 1]"
   ]
  },
  {
   "cell_type": "code",
   "execution_count": 4,
   "metadata": {
    "ExecuteTime": {
     "end_time": "2019-09-17T15:58:27.942869Z",
     "start_time": "2019-09-17T15:58:18.398599Z"
    }
   },
   "outputs": [
    {
     "data": {
      "application/vnd.jupyter.widget-view+json": {
       "model_id": "6a0e168bcbcf49498b7c5e61a032c81f",
       "version_major": 2,
       "version_minor": 0
      },
      "text/plain": [
       "HBox(children=(IntProgress(value=0, max=100000), HTML(value='')))"
      ]
     },
     "metadata": {},
     "output_type": "display_data"
    },
    {
     "name": "stdout",
     "output_type": "stream",
     "text": [
      "\n"
     ]
    }
   ],
   "source": [
    "sequence = gen_seq_markov(alphabet, probs, seq_len = 100000)"
   ]
  },
  {
   "cell_type": "code",
   "execution_count": 5,
   "metadata": {
    "ExecuteTime": {
     "end_time": "2019-09-17T15:58:27.961608Z",
     "start_time": "2019-09-17T15:58:27.945504Z"
    }
   },
   "outputs": [
    {
     "data": {
      "text/plain": [
       "[1, 0, 1, 0, 1, 0, 1, 0, 1, 0]"
      ]
     },
     "execution_count": 5,
     "metadata": {},
     "output_type": "execute_result"
    }
   ],
   "source": [
    "sequence[:10]"
   ]
  },
  {
   "cell_type": "code",
   "execution_count": 6,
   "metadata": {
    "ExecuteTime": {
     "end_time": "2019-09-17T15:58:32.362609Z",
     "start_time": "2019-09-17T15:58:27.966152Z"
    }
   },
   "outputs": [],
   "source": [
    "from childes_mi.information_theory import mutual_information as mi"
   ]
  },
  {
   "cell_type": "code",
   "execution_count": 7,
   "metadata": {
    "ExecuteTime": {
     "end_time": "2019-09-17T15:58:32.373004Z",
     "start_time": "2019-09-17T15:58:32.366385Z"
    }
   },
   "outputs": [],
   "source": [
    "distances = np.arange(1,101)"
   ]
  },
  {
   "cell_type": "code",
   "execution_count": 8,
   "metadata": {
    "ExecuteTime": {
     "end_time": "2019-09-17T15:58:34.291355Z",
     "start_time": "2019-09-17T15:58:32.377828Z"
    }
   },
   "outputs": [
    {
     "data": {
      "application/vnd.jupyter.widget-view+json": {
       "model_id": "",
       "version_major": 2,
       "version_minor": 0
      },
      "text/plain": [
       "HBox(children=(IntProgress(value=0), HTML(value='')))"
      ]
     },
     "metadata": {},
     "output_type": "display_data"
    },
    {
     "name": "stderr",
     "output_type": "stream",
     "text": [
      "[Parallel(n_jobs=-1)]: Using backend ThreadingBackend with 24 concurrent workers.\n",
      "[Parallel(n_jobs=-1)]: Done  24 tasks      | elapsed:    0.2s\n"
     ]
    },
    {
     "name": "stdout",
     "output_type": "stream",
     "text": [
      "\r"
     ]
    },
    {
     "name": "stderr",
     "output_type": "stream",
     "text": [
      "[Parallel(n_jobs=-1)]: Done  74 out of 100 | elapsed:    0.5s remaining:    0.2s\n",
      "[Parallel(n_jobs=-1)]: Done  95 out of 100 | elapsed:    0.6s remaining:    0.0s\n",
      "[Parallel(n_jobs=-1)]: Done 100 out of 100 | elapsed:    0.6s finished\n"
     ]
    },
    {
     "data": {
      "application/vnd.jupyter.widget-view+json": {
       "model_id": "",
       "version_major": 2,
       "version_minor": 0
      },
      "text/plain": [
       "HBox(children=(IntProgress(value=0), HTML(value='')))"
      ]
     },
     "metadata": {},
     "output_type": "display_data"
    },
    {
     "name": "stderr",
     "output_type": "stream",
     "text": [
      "[Parallel(n_jobs=-1)]: Using backend ThreadingBackend with 24 concurrent workers.\n",
      "[Parallel(n_jobs=-1)]: Done  24 tasks      | elapsed:    0.5s\n"
     ]
    },
    {
     "name": "stdout",
     "output_type": "stream",
     "text": [
      "\r"
     ]
    },
    {
     "name": "stderr",
     "output_type": "stream",
     "text": [
      "[Parallel(n_jobs=-1)]: Done  74 out of 100 | elapsed:    0.9s remaining:    0.3s\n",
      "[Parallel(n_jobs=-1)]: Done  95 out of 100 | elapsed:    1.0s remaining:    0.1s\n",
      "[Parallel(n_jobs=-1)]: Done 100 out of 100 | elapsed:    1.0s finished\n"
     ]
    }
   ],
   "source": [
    "(MI, MI_var), (shuff_MI, shuff_MI_var) = mi.sequential_mutual_information(\n",
    "    [sequence], distances=distances, n_jobs=-1\n",
    ")"
   ]
  },
  {
   "cell_type": "code",
   "execution_count": 9,
   "metadata": {
    "ExecuteTime": {
     "end_time": "2019-09-17T15:58:34.306323Z",
     "start_time": "2019-09-17T15:58:34.295118Z"
    }
   },
   "outputs": [],
   "source": [
    "MI_DF = pd.DataFrame(\n",
    "    [[MI, MI_var, shuff_MI, shuff_MI_var, distances]],\n",
    "    columns=[\"MI\", \"MI_var\", \"shuff_MI\", \"shuff_MI_var\", \"distances\"],\n",
    ")"
   ]
  },
  {
   "cell_type": "code",
   "execution_count": 60,
   "metadata": {
    "ExecuteTime": {
     "end_time": "2019-09-17T16:18:28.462332Z",
     "start_time": "2019-09-17T16:18:28.449168Z"
    }
   },
   "outputs": [
    {
     "data": {
      "text/plain": [
       "array([-4.72973727, -4.87608327, -4.95987259, -5.01109474, -5.04223782,\n",
       "       -5.06205576, -5.07447269, -5.08245021, -5.08730128, -5.09076243,\n",
       "       -5.09288405, -5.0941329 , -5.09506802, -5.09561168, -5.09604241,\n",
       "       -5.09624558, -5.09637027, -5.09644368, -5.0965041 , -5.0965936 ,\n",
       "       -5.09657208, -5.09661377, -5.09660497, -5.09661894, -5.09660621,\n",
       "       -5.09662171, -5.09660424, -5.09660072, -5.0965939 , -5.09658709,\n",
       "       -5.09661728, -5.09659852, -5.09657468, -5.09658757, -5.09657197,\n",
       "       -5.09656132, -5.0965557 , -5.09656126, -5.09654764, -5.09653048,\n",
       "       -5.09651483, -5.0965742 , -5.09655369, -5.09651675, -5.09652831,\n",
       "       -5.09651561, -5.09651632, -5.09649925, -5.09650722, -5.09649883,\n",
       "       -5.09648875, -5.096491  , -5.09647246, -5.09648232, -5.09648152,\n",
       "       -5.09648108, -5.09646905, -5.09650292, -5.09645524, -5.09647242,\n",
       "       -5.09644211, -5.09643635, -5.09643089, -5.09643075, -5.09642564,\n",
       "       -5.09641915, -5.0964152 , -5.09643908, -5.09640553, -5.09640477,\n",
       "       -5.09642717, -5.09640272, -5.09641278, -5.09642842, -5.0963926 ,\n",
       "       -5.09638855, -5.0963741 , -5.09637469, -5.09640413, -5.09636693,\n",
       "       -5.09636144, -5.09634963, -5.09635951, -5.09633969, -5.09633664,\n",
       "       -5.09635513, -5.0964036 , -5.09634352, -5.09632728, -5.09633506,\n",
       "       -5.09633428, -5.09630353, -5.09630238, -5.09629654, -5.09629976,\n",
       "       -5.09631287, -5.09629162, -5.09629114, -5.09628215, -5.09627768])"
      ]
     },
     "execution_count": 60,
     "metadata": {},
     "output_type": "execute_result"
    }
   ],
   "source": [
    "MI-shuff_MI"
   ]
  },
  {
   "cell_type": "code",
   "execution_count": 61,
   "metadata": {
    "ExecuteTime": {
     "end_time": "2019-09-17T16:18:52.639054Z",
     "start_time": "2019-09-17T16:18:51.385808Z"
    }
   },
   "outputs": [
    {
     "data": {
      "text/plain": [
       "[<matplotlib.lines.Line2D at 0x7f6119a829b0>]"
      ]
     },
     "execution_count": 61,
     "metadata": {},
     "output_type": "execute_result"
    },
    {
     "data": {
      "image/png": "[encoded data removed]",
      "text/plain": [
       "<Figure size 432x288 with 1 Axes>"
      ]
     },
     "metadata": {
      "needs_background": "light"
     },
     "output_type": "display_data"
    }
   ],
   "source": [
    "plt.loglog(row.distances, row.MI-row.shuff_MI)"
   ]
  },
  {
   "cell_type": "code",
   "execution_count": 10,
   "metadata": {
    "ExecuteTime": {
     "end_time": "2019-09-17T15:58:35.208717Z",
     "start_time": "2019-09-17T15:58:34.309688Z"
    }
   },
   "outputs": [],
   "source": [
    "from matplotlib.ticker import StrMethodFormatter, NullFormatter\n",
    "import matplotlib.pyplot as plt"
   ]
  },
  {
   "cell_type": "code",
   "execution_count": 62,
   "metadata": {
    "ExecuteTime": {
     "end_time": "2019-09-17T16:20:19.584291Z",
     "start_time": "2019-09-17T16:20:19.578196Z"
    }
   },
   "outputs": [],
   "source": [
    "nplot=50"
   ]
  },
  {
   "cell_type": "code",
   "execution_count": 63,
   "metadata": {
    "ExecuteTime": {
     "end_time": "2019-09-17T16:20:19.721992Z",
     "start_time": "2019-09-17T16:20:19.711726Z"
    }
   },
   "outputs": [],
   "source": [
    "row = MI_DF.iloc[0]"
   ]
  },
  {
   "cell_type": "code",
   "execution_count": 69,
   "metadata": {
    "ExecuteTime": {
     "end_time": "2019-09-17T16:21:29.717170Z",
     "start_time": "2019-09-17T16:21:28.908769Z"
    }
   },
   "outputs": [
    {
     "data": {
      "image/png": "[encoded data removed]",
      "text/plain": [
       "<Figure size 360x360 with 1 Axes>"
      ]
     },
     "metadata": {
      "needs_background": "light"
     },
     "output_type": "display_data"
    }
   ],
   "source": [
    "fig, ax = plt.subplots(figsize=(5,5))\n",
    "MI = row.MI-row.shuff_MI\n",
    "MI_var = row.MI_var\n",
    "nplot=50\n",
    "ax.scatter(distances[:nplot], MI[:nplot], color='k')\n",
    "ax.fill_between(distances[:nplot], MI[:nplot]-MI_var[:nplot], MI[:nplot]+MI_var[:nplot], alpha = 0, color= 'k')\n",
    "#ax.plot(mean_latent_distances[:nplot], MI[:nplot], alpha = 1, color= 'k', lw=5)\n",
    "ax.set_yscale('log')\n",
    "ax.set_xscale('log')\n",
    "#ax.set_xlim([1,50])\n",
    "\n",
    "ax.set_xlabel('Sequential distance', fontsize=18)\n",
    "ax.set_ylabel('Mutual Information (bits)', fontsize=18)\n",
    "\n",
    "\n",
    "for axis in ['top','bottom','left','right']:\n",
    "    ax.spines[axis].set_linewidth(3)\n",
    "    ax.spines[axis].set_color('k')\n",
    "ax.grid(False)\n",
    "ax.tick_params(which='both', direction='in', labelsize=14, pad=10)\n",
    "ax.tick_params(which='major', length=10, width =3)\n",
    "ax.tick_params(which='minor', length=5, width =2)\n",
    "\n",
    "ax.set_xticks([1,10,50])\n",
    "ax.set_xticklabels(['1','10','50'])\n",
    "ax.set_xlim([0.95,nplot])\n",
    "ax.set_ylim([1e-4,.5])\n",
    "\n",
    "\n",
    "ax.xaxis.set_major_formatter(StrMethodFormatter('{x:.0f}'))\n",
    "ax.xaxis.set_minor_formatter(NullFormatter())"
   ]
  },
  {
   "cell_type": "code",
   "execution_count": 70,
   "metadata": {
    "ExecuteTime": {
     "end_time": "2019-09-17T16:21:29.724649Z",
     "start_time": "2019-09-17T16:21:29.721148Z"
    }
   },
   "outputs": [],
   "source": [
    "import lmfit"
   ]
  },
  {
   "cell_type": "code",
   "execution_count": 71,
   "metadata": {
    "ExecuteTime": {
     "end_time": "2019-09-17T16:21:29.828351Z",
     "start_time": "2019-09-17T16:21:29.727700Z"
    }
   },
   "outputs": [],
   "source": [
    "def residuals(y_true, y_model, x, logscaled=False):\n",
    "    if logscaled:\n",
    "        return np.abs(np.log(y_true) - np.log(y_model)) * (1 / (np.log(1 + x)))\n",
    "    else:\n",
    "        return np.abs(y_true - y_model)\n",
    "\n",
    "def model_res(p, x, y, fit, model):\n",
    "    if fit == \"lin\":\n",
    "        return residuals(y, model(p, x), x)\n",
    "    else:\n",
    "        return residuals(y, model(p, x), x, logscaled=True)\n",
    "    \n",
    "# fitting model\n",
    "def fit_model_iter(model, n_iter=10, **kwargs):\n",
    "    \"\"\" re-fit model n_iter times and choose the best fit\n",
    "    chooses method based upon best-fit\n",
    "    \"\"\"\n",
    "    models = []\n",
    "    AICs = []\n",
    "    for iter in np.arange(n_iter):\n",
    "        results_model = model.minimize(**kwargs)\n",
    "        models.append(results_model)\n",
    "        AICs.append(results_model.aic)\n",
    "    return models[np.argmin(AICs)]\n",
    "\n",
    "def get_y(model, results, x):\n",
    "    return model({i: results.params[i].value for i in results.params}, x)\n",
    "\n",
    "\n",
    "def exp_decay(p, x):\n",
    "    return p[\"e_init\"] * np.exp(-x * p[\"e_decay_const\"]) + p[\"intercept\"]\n",
    "\n",
    "# decay types\n",
    "def powerlaw_decay(p, x):\n",
    "    return p[\"p_init\"] * x ** (p[\"p_decay_const\"]) + p[\"intercept\"]\n",
    "\n",
    "p_exp = lmfit.Parameters()\n",
    "p_exp.add_many(\n",
    "    (\"e_init\", 0.5, True, 1e-10),\n",
    "    (\"e_decay_const\", 0.1, True, 1e-10),\n",
    "    (\"intercept\", 1e-5, True, 1e-10),\n",
    ")\n",
    "\n",
    "p_power = lmfit.Parameters()\n",
    "p_power.add_many(\n",
    "    (\"p_init\", 0.5, True, 1e-10),\n",
    "    (\"p_decay_const\", -0.5, True, -np.inf, -1e-10),\n",
    "    (\"intercept\", 1e-5, True, 1e-10),\n",
    ")"
   ]
  },
  {
   "cell_type": "code",
   "execution_count": null,
   "metadata": {
    "ExecuteTime": {
     "end_time": "2019-09-17T16:13:30.144487Z",
     "start_time": "2019-09-17T16:13:30.137415Z"
    }
   },
   "outputs": [],
   "source": []
  },
  {
   "cell_type": "code",
   "execution_count": 72,
   "metadata": {
    "ExecuteTime": {
     "end_time": "2019-09-17T16:21:29.948540Z",
     "start_time": "2019-09-17T16:21:29.831877Z"
    }
   },
   "outputs": [],
   "source": [
    "fit='log'\n",
    "n_iter=1\n",
    "method=[\"nelder\", \"leastsq\", \"least-squares\"]"
   ]
  },
  {
   "cell_type": "code",
   "execution_count": 73,
   "metadata": {
    "ExecuteTime": {
     "end_time": "2019-09-17T16:21:30.032809Z",
     "start_time": "2019-09-17T16:21:29.954580Z"
    }
   },
   "outputs": [],
   "source": [
    "d = distances[:nplot]\n",
    "sig = MI[:nplot]"
   ]
  },
  {
   "cell_type": "code",
   "execution_count": 74,
   "metadata": {
    "ExecuteTime": {
     "end_time": "2019-09-17T16:21:30.116492Z",
     "start_time": "2019-09-17T16:21:30.086916Z"
    }
   },
   "outputs": [],
   "source": [
    "\n",
    "results_exp_min = lmfit.Minimizer(\n",
    "    model_res, p_exp, fcn_args=(d, sig, fit, exp_decay), nan_policy=\"omit\"\n",
    ")"
   ]
  },
  {
   "cell_type": "code",
   "execution_count": 75,
   "metadata": {
    "ExecuteTime": {
     "end_time": "2019-09-17T16:21:30.705169Z",
     "start_time": "2019-09-17T16:21:30.575598Z"
    }
   },
   "outputs": [
    {
     "name": "stderr",
     "output_type": "stream",
     "text": [
      "/mnt/cube/tsainbur/conda_envs/tpy3/lib/python3.6/site-packages/ipykernel_launcher.py:3: RuntimeWarning: invalid value encountered in log\n",
      "  This is separate from the ipykernel package so we can avoid doing imports until\n"
     ]
    }
   ],
   "source": [
    "results_exp = [\n",
    "    fit_model_iter(results_exp_min, n_iter=n_iter, **{\"method\": meth})\n",
    "    for meth in method\n",
    "]\n",
    "results_exp = results_exp[np.argmin([i.aic for i in results_exp])]"
   ]
  },
  {
   "cell_type": "code",
   "execution_count": 76,
   "metadata": {
    "ExecuteTime": {
     "end_time": "2019-09-17T16:21:30.943797Z",
     "start_time": "2019-09-17T16:21:30.935504Z"
    }
   },
   "outputs": [
    {
     "data": {
      "text/plain": [
       "<lmfit.minimizer.MinimizerResult at 0x7f614c141588>"
      ]
     },
     "execution_count": 76,
     "metadata": {},
     "output_type": "execute_result"
    }
   ],
   "source": [
    "results_exp"
   ]
  },
  {
   "cell_type": "code",
   "execution_count": 77,
   "metadata": {
    "ExecuteTime": {
     "end_time": "2019-09-17T16:21:31.376328Z",
     "start_time": "2019-09-17T16:21:31.370641Z"
    }
   },
   "outputs": [],
   "source": [
    "y_exp = get_y(exp_decay, results_exp, d)"
   ]
  },
  {
   "cell_type": "code",
   "execution_count": 79,
   "metadata": {
    "ExecuteTime": {
     "end_time": "2019-09-17T16:21:41.659005Z",
     "start_time": "2019-09-17T16:21:40.673223Z"
    }
   },
   "outputs": [
    {
     "data": {
      "image/png": "[encoded data removed]",
      "text/plain": [
       "<Figure size 360x360 with 1 Axes>"
      ]
     },
     "metadata": {
      "needs_background": "light"
     },
     "output_type": "display_data"
    }
   ],
   "source": [
    "fig, ax = plt.subplots(figsize=(5,5))\n",
    "MI = row.MI-row.shuff_MI\n",
    "MI_var = row.MI_var\n",
    "nplot=50\n",
    "ax.scatter(distances[:nplot], MI[:nplot], color='k')\n",
    "ax.fill_between(distances[:nplot], MI[:nplot]-MI_var[:nplot], MI[:nplot]+MI_var[:nplot], alpha = 0, color= 'k')\n",
    "ax.plot(distances[:nplot], y_exp, alpha = 0.5, color= 'k', lw=5)\n",
    "ax.set_yscale('log')\n",
    "ax.set_xscale('log')\n",
    "#ax.set_xlim([1,50])\n",
    "\n",
    "ax.set_xlabel('Sequential distance', fontsize=18)\n",
    "ax.set_ylabel('Mutual Information (bits)', fontsize=18)\n",
    "\n",
    "\n",
    "for axis in ['top','bottom','left','right']:\n",
    "    ax.spines[axis].set_linewidth(3)\n",
    "    ax.spines[axis].set_color('k')\n",
    "ax.grid(False)\n",
    "ax.tick_params(which='both', direction='in', labelsize=14, pad=10)\n",
    "ax.tick_params(which='major', length=10, width =3)\n",
    "ax.tick_params(which='minor', length=5, width =2)\n",
    "\n",
    "ax.set_xticks([1,10,50])\n",
    "ax.set_xticklabels(['1','10','50'])\n",
    "ax.set_xlim([0.95,50])\n",
    "ax.set_ylim([1e-4,.5])\n",
    "\n",
    "\n",
    "ax.xaxis.set_major_formatter(StrMethodFormatter('{x:.0f}'))\n",
    "ax.xaxis.set_minor_formatter(NullFormatter())"
   ]
  },
  {
   "cell_type": "code",
   "execution_count": null,
   "metadata": {},
   "outputs": [],
   "source": []
  }
 ],
 "metadata": {
  "kernelspec": {
   "display_name": "Python 3",
   "language": "python",
   "name": "python3"
  },
  "language_info": {
   "codemirror_mode": {
    "name": "ipython",
    "version": 3
   },
   "file_extension": ".py",
   "mimetype": "text/x-python",
   "name": "python",
   "nbconvert_exporter": "python",
   "pygments_lexer": "ipython3",
   "version": "3.6.7"
  }
 },
 "nbformat": 4,
 "nbformat_minor": 2
}
