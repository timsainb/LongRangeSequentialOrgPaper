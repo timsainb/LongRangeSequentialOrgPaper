{
 "cells": [
  {
   "cell_type": "code",
   "execution_count": 1,
   "metadata": {
    "ExecuteTime": {
     "end_time": "2020-04-07T20:54:32.023581Z",
     "start_time": "2020-04-07T20:54:30.402514Z"
    }
   },
   "outputs": [
    {
     "name": "stderr",
     "output_type": "stream",
     "text": [
      "/mnt/cube/tsainbur/conda_envs/tpy3/lib/python3.6/site-packages/tqdm/autonotebook/__init__.py:14: TqdmExperimentalWarning: Using `tqdm.autonotebook.tqdm` in notebook mode. Use `tqdm.tqdm` instead to force console mode (e.g. in jupyter console)\n",
      "  \" (e.g. in jupyter console)\", TqdmExperimentalWarning)\n"
     ]
    }
   ],
   "source": [
    "import numpy as np\n",
    "import pandas as pd\n",
    "from tqdm.autonotebook import tqdm"
   ]
  },
  {
   "cell_type": "code",
   "execution_count": 2,
   "metadata": {
    "ExecuteTime": {
     "end_time": "2020-04-07T20:54:32.251626Z",
     "start_time": "2020-04-07T20:54:32.026239Z"
    }
   },
   "outputs": [],
   "source": [
    "from childes_mi.utils.paths import DATA_DIR, FIGURE_DIR, ensure_dir\n",
    "from childes_mi.utils.general import flatten,save_fig"
   ]
  },
  {
   "cell_type": "code",
   "execution_count": 3,
   "metadata": {
    "ExecuteTime": {
     "end_time": "2020-04-07T20:54:32.257485Z",
     "start_time": "2020-04-07T20:54:32.253471Z"
    }
   },
   "outputs": [],
   "source": [
    "def gen_seq_markov(alphabet, probs, seq_len):\n",
    "    \"\"\" like sample_sequence_MM, but uses a numpy matrix, no start and end states, and a set sequence length\n",
    "    \"\"\"\n",
    "    sequence = list(\n",
    "        np.random.choice(alphabet, p=np.sum(probs, axis=0) / np.sum(probs), size=1)\n",
    "    )\n",
    "    for i in tqdm(range(seq_len)):\n",
    "        sequence.append(np.random.choice(alphabet, p=probs[:, sequence[-1]], size=1)[0])\n",
    "    return sequence"
   ]
  },
  {
   "cell_type": "code",
   "execution_count": 4,
   "metadata": {
    "ExecuteTime": {
     "end_time": "2020-04-07T20:54:32.267859Z",
     "start_time": "2020-04-07T20:54:32.259263Z"
    }
   },
   "outputs": [],
   "source": [
    "probs = np.array([[0.1, 0.9], [0.9, 0.1]])\n",
    "alphabet = [0, 1]"
   ]
  },
  {
   "cell_type": "code",
   "execution_count": 5,
   "metadata": {
    "ExecuteTime": {
     "end_time": "2020-04-07T20:54:35.441309Z",
     "start_time": "2020-04-07T20:54:32.270228Z"
    }
   },
   "outputs": [
    {
     "data": {
      "application/vnd.jupyter.widget-view+json": {
       "model_id": "475e85a551154ff8863e5968c5b1afa0",
       "version_major": 2,
       "version_minor": 0
      },
      "text/plain": [
       "HBox(children=(IntProgress(value=0, max=100000), HTML(value='')))"
      ]
     },
     "metadata": {},
     "output_type": "display_data"
    },
    {
     "name": "stdout",
     "output_type": "stream",
     "text": [
      "\n"
     ]
    }
   ],
   "source": [
    "sequence = gen_seq_markov(alphabet, probs, seq_len = 100000)"
   ]
  },
  {
   "cell_type": "code",
   "execution_count": 6,
   "metadata": {
    "ExecuteTime": {
     "end_time": "2020-04-07T20:54:35.446360Z",
     "start_time": "2020-04-07T20:54:35.442796Z"
    }
   },
   "outputs": [
    {
     "data": {
      "text/plain": [
       "[1, 0, 1, 0, 1, 1, 0, 1, 0, 1]"
      ]
     },
     "execution_count": 6,
     "metadata": {},
     "output_type": "execute_result"
    }
   ],
   "source": [
    "sequence[:10]"
   ]
  },
  {
   "cell_type": "code",
   "execution_count": 7,
   "metadata": {
    "ExecuteTime": {
     "end_time": "2020-04-07T20:54:36.737181Z",
     "start_time": "2020-04-07T20:54:35.447474Z"
    }
   },
   "outputs": [
    {
     "name": "stderr",
     "output_type": "stream",
     "text": [
      "/mnt/cube/tsainbur/conda_envs/tpy3/lib/python3.6/site-packages/sklearn/utils/deprecation.py:144: FutureWarning: The sklearn.metrics.cluster.supervised module is  deprecated in version 0.22 and will be removed in version 0.24. The corresponding classes / functions should instead be imported from sklearn.metrics.cluster. Anything that cannot be imported from sklearn.metrics.cluster is now part of the private API.\n",
      "  warnings.warn(message, FutureWarning)\n",
      "/mnt/cube/tsainbur/conda_envs/tpy3/lib/python3.6/site-packages/sklearn/utils/deprecation.py:144: FutureWarning: The sklearn.metrics.cluster.expected_mutual_info_fast module is  deprecated in version 0.22 and will be removed in version 0.24. The corresponding classes / functions should instead be imported from sklearn.metrics.cluster. Anything that cannot be imported from sklearn.metrics.cluster is now part of the private API.\n",
      "  warnings.warn(message, FutureWarning)\n"
     ]
    }
   ],
   "source": [
    "from childes_mi.information_theory import mutual_information as mi"
   ]
  },
  {
   "cell_type": "code",
   "execution_count": 8,
   "metadata": {
    "ExecuteTime": {
     "end_time": "2020-04-07T20:54:36.742846Z",
     "start_time": "2020-04-07T20:54:36.739555Z"
    }
   },
   "outputs": [],
   "source": [
    "distances = np.arange(1,101)"
   ]
  },
  {
   "cell_type": "code",
   "execution_count": 9,
   "metadata": {
    "ExecuteTime": {
     "end_time": "2020-04-07T20:54:41.300988Z",
     "start_time": "2020-04-07T20:54:36.745231Z"
    }
   },
   "outputs": [
    {
     "data": {
      "application/vnd.jupyter.widget-view+json": {
       "model_id": "",
       "version_major": 2,
       "version_minor": 0
      },
      "text/plain": [
       "HBox(children=(IntProgress(value=0), HTML(value='')))"
      ]
     },
     "metadata": {},
     "output_type": "display_data"
    },
    {
     "name": "stderr",
     "output_type": "stream",
     "text": [
      "[Parallel(n_jobs=-1)]: Using backend LokyBackend with 32 concurrent workers.\n"
     ]
    },
    {
     "name": "stdout",
     "output_type": "stream",
     "text": [
      "\r"
     ]
    },
    {
     "name": "stderr",
     "output_type": "stream",
     "text": [
      "[Parallel(n_jobs=-1)]: Done   8 tasks      | elapsed:    4.0s\n",
      "[Parallel(n_jobs=-1)]: Done  58 out of 100 | elapsed:    4.1s remaining:    3.0s\n",
      "[Parallel(n_jobs=-1)]: Done  79 out of 100 | elapsed:    4.1s remaining:    1.1s\n",
      "[Parallel(n_jobs=-1)]: Done 100 out of 100 | elapsed:    4.2s remaining:    0.0s\n",
      "[Parallel(n_jobs=-1)]: Done 100 out of 100 | elapsed:    4.2s finished\n"
     ]
    },
    {
     "data": {
      "application/vnd.jupyter.widget-view+json": {
       "model_id": "",
       "version_major": 2,
       "version_minor": 0
      },
      "text/plain": [
       "HBox(children=(IntProgress(value=0), HTML(value='')))"
      ]
     },
     "metadata": {},
     "output_type": "display_data"
    },
    {
     "name": "stderr",
     "output_type": "stream",
     "text": [
      "[Parallel(n_jobs=-1)]: Using backend LokyBackend with 32 concurrent workers.\n"
     ]
    },
    {
     "name": "stdout",
     "output_type": "stream",
     "text": [
      "\r"
     ]
    },
    {
     "name": "stderr",
     "output_type": "stream",
     "text": [
      "[Parallel(n_jobs=-1)]: Done  16 out of 100 | elapsed:    0.1s remaining:    0.3s\n",
      "[Parallel(n_jobs=-1)]: Done  37 out of 100 | elapsed:    0.1s remaining:    0.2s\n",
      "[Parallel(n_jobs=-1)]: Done  58 out of 100 | elapsed:    0.1s remaining:    0.1s\n",
      "[Parallel(n_jobs=-1)]: Done 100 out of 100 | elapsed:    0.3s remaining:    0.0s\n",
      "[Parallel(n_jobs=-1)]: Done 100 out of 100 | elapsed:    0.3s finished\n"
     ]
    }
   ],
   "source": [
    "(MI, MI_var), (shuff_MI, shuff_MI_var) = mi.sequential_mutual_information(\n",
    "    [sequence], distances=distances, n_jobs=-1\n",
    ")"
   ]
  },
  {
   "cell_type": "code",
   "execution_count": 10,
   "metadata": {
    "ExecuteTime": {
     "end_time": "2020-04-07T20:54:43.692301Z",
     "start_time": "2020-04-07T20:54:43.685391Z"
    }
   },
   "outputs": [],
   "source": [
    "MI_DF = pd.DataFrame(\n",
    "    [[MI, MI_var, shuff_MI, shuff_MI_var, distances]],\n",
    "    columns=[\"MI\", \"MI_var\", \"shuff_MI\", \"shuff_MI_var\", \"distances\"],\n",
    ")"
   ]
  },
  {
   "cell_type": "code",
   "execution_count": 11,
   "metadata": {
    "ExecuteTime": {
     "end_time": "2020-04-07T20:54:44.013103Z",
     "start_time": "2020-04-07T20:54:44.006558Z"
    }
   },
   "outputs": [
    {
     "data": {
      "text/plain": [
       "array([ 3.67605355e-01,  2.22051997e-01,  1.39202802e-01,  8.83917418e-02,\n",
       "        5.72515786e-02,  3.71662254e-02,  2.37356832e-02,  1.54801452e-02,\n",
       "        9.81708301e-03,  6.33581960e-03,  3.94422428e-03,  2.47680222e-03,\n",
       "        1.58955104e-03,  9.90106927e-04,  5.78003025e-04,  4.06585068e-04,\n",
       "        2.60968700e-04,  1.43146982e-04,  7.96014679e-05,  5.50592384e-05,\n",
       "        3.92878933e-05,  3.03872078e-05,  2.47176718e-05,  6.43382485e-06,\n",
       "       -4.57916536e-06, -4.87162873e-06,  0.00000000e+00,  1.89157238e-06,\n",
       "        5.78949937e-06,  8.27541197e-06,  6.93770534e-06, -5.50324267e-06,\n",
       "       -6.04836293e-06,  1.75815082e-06,  3.83553137e-06,  4.25243634e-06,\n",
       "        3.20441790e-06,  1.34666133e-06,  4.39640857e-07,  1.15887230e-07,\n",
       "        2.40067742e-07,  5.82852362e-06,  2.05478195e-05,  1.36241819e-05,\n",
       "        8.04211876e-06,  4.44471908e-06, -2.23556926e-06, -8.59757439e-07,\n",
       "       -2.62398997e-06,  1.59723084e-06,  3.71403251e-06,  1.95777128e-07,\n",
       "        1.24330622e-05,  1.73328001e-05,  1.98163205e-05,  1.34937498e-05,\n",
       "        1.93063040e-05,  5.60977075e-06,  1.06943985e-05,  5.20270489e-06,\n",
       "       -7.51730685e-07, -2.81778188e-05, -6.55840406e-07,  6.40951307e-06,\n",
       "        5.05894258e-06,  1.78469156e-06,  3.25092289e-06,  1.06120556e-06,\n",
       "        6.05801323e-06,  1.29403442e-06, -9.50322257e-06, -4.40743691e-06,\n",
       "        7.59112768e-06,  4.81324254e-06,  4.64204057e-06,  6.90237361e-06,\n",
       "        2.05447094e-06,  1.53297103e-06,  1.33296740e-06, -5.41531940e-06,\n",
       "        1.63947057e-06,  7.48824954e-06,  9.51790663e-06,  5.56986867e-06,\n",
       "        6.40977247e-06,  9.56695905e-07,  2.94105125e-06, -1.81837208e-05,\n",
       "       -5.72047065e-06, -1.18840049e-08, -1.87747497e-05,  5.17378562e-06,\n",
       "        4.00360929e-05,  6.99562676e-05,  9.99472115e-05,  1.09187421e-04,\n",
       "        9.39628196e-05,  7.23856853e-05,  3.57313127e-05,  2.99756992e-05])"
      ]
     },
     "execution_count": 11,
     "metadata": {},
     "output_type": "execute_result"
    }
   ],
   "source": [
    "MI-shuff_MI"
   ]
  },
  {
   "cell_type": "code",
   "execution_count": 14,
   "metadata": {
    "ExecuteTime": {
     "end_time": "2020-04-07T20:54:55.921085Z",
     "start_time": "2020-04-07T20:54:55.917643Z"
    }
   },
   "outputs": [],
   "source": [
    "from matplotlib.ticker import StrMethodFormatter, NullFormatter\n",
    "import matplotlib.pyplot as plt"
   ]
  },
  {
   "cell_type": "code",
   "execution_count": 15,
   "metadata": {
    "ExecuteTime": {
     "end_time": "2020-04-07T20:54:56.235437Z",
     "start_time": "2020-04-07T20:54:56.232692Z"
    }
   },
   "outputs": [],
   "source": [
    "nplot=50"
   ]
  },
  {
   "cell_type": "code",
   "execution_count": 16,
   "metadata": {
    "ExecuteTime": {
     "end_time": "2020-04-07T20:54:56.658424Z",
     "start_time": "2020-04-07T20:54:56.652488Z"
    }
   },
   "outputs": [],
   "source": [
    "row = MI_DF.iloc[0]"
   ]
  },
  {
   "cell_type": "code",
   "execution_count": 17,
   "metadata": {
    "ExecuteTime": {
     "end_time": "2020-04-07T20:54:59.349510Z",
     "start_time": "2020-04-07T20:54:58.801525Z"
    }
   },
   "outputs": [
    {
     "data": {
      "image/png": "[encoded data removed]",
      "text/plain": [
       "<Figure size 360x360 with 1 Axes>"
      ]
     },
     "metadata": {
      "needs_background": "light"
     },
     "output_type": "display_data"
    }
   ],
   "source": [
    "fig, ax = plt.subplots(figsize=(5,5))\n",
    "MI = row.MI-row.shuff_MI\n",
    "MI_var = row.MI_var\n",
    "nplot=50\n",
    "ax.scatter(distances[:nplot], MI[:nplot], color='k')\n",
    "ax.fill_between(distances[:nplot], MI[:nplot]-MI_var[:nplot], MI[:nplot]+MI_var[:nplot], alpha = 0, color= 'k')\n",
    "#ax.plot(mean_latent_distances[:nplot], MI[:nplot], alpha = 1, color= 'k', lw=5)\n",
    "ax.set_yscale('log')\n",
    "ax.set_xscale('log')\n",
    "#ax.set_xlim([1,50])\n",
    "\n",
    "ax.set_xlabel('Sequential distance', fontsize=18)\n",
    "ax.set_ylabel('Mutual Information (bits)', fontsize=18)\n",
    "\n",
    "\n",
    "for axis in ['top','bottom','left','right']:\n",
    "    ax.spines[axis].set_linewidth(3)\n",
    "    ax.spines[axis].set_color('k')\n",
    "ax.grid(False)\n",
    "ax.tick_params(which='both', direction='in', labelsize=14, pad=10)\n",
    "ax.tick_params(which='major', length=10, width =3)\n",
    "ax.tick_params(which='minor', length=5, width =2)\n",
    "\n",
    "ax.set_xticks([1,10,50])\n",
    "ax.set_xticklabels(['1','10','50'])\n",
    "ax.set_xlim([0.95,nplot])\n",
    "ax.set_ylim([1e-4,.5])\n",
    "\n",
    "\n",
    "ax.xaxis.set_major_formatter(StrMethodFormatter('{x:.0f}'))\n",
    "ax.xaxis.set_minor_formatter(NullFormatter())"
   ]
  },
  {
   "cell_type": "code",
   "execution_count": 18,
   "metadata": {
    "ExecuteTime": {
     "end_time": "2020-04-07T20:55:01.315597Z",
     "start_time": "2020-04-07T20:55:01.012152Z"
    }
   },
   "outputs": [],
   "source": [
    "import lmfit"
   ]
  },
  {
   "cell_type": "code",
   "execution_count": 19,
   "metadata": {
    "ExecuteTime": {
     "end_time": "2020-04-07T20:55:01.332982Z",
     "start_time": "2020-04-07T20:55:01.318510Z"
    }
   },
   "outputs": [],
   "source": [
    "def residuals(y_true, y_model, x, logscaled=False):\n",
    "    if logscaled:\n",
    "        return np.abs(np.log(y_true) - np.log(y_model)) * (1 / (np.log(1 + x)))\n",
    "    else:\n",
    "        return np.abs(y_true - y_model)\n",
    "\n",
    "def model_res(p, x, y, fit, model):\n",
    "    if fit == \"lin\":\n",
    "        return residuals(y, model(p, x), x)\n",
    "    else:\n",
    "        return residuals(y, model(p, x), x, logscaled=True)\n",
    "    \n",
    "# fitting model\n",
    "def fit_model_iter(model, n_iter=10, **kwargs):\n",
    "    \"\"\" re-fit model n_iter times and choose the best fit\n",
    "    chooses method based upon best-fit\n",
    "    \"\"\"\n",
    "    models = []\n",
    "    AICs = []\n",
    "    for iter in np.arange(n_iter):\n",
    "        results_model = model.minimize(**kwargs)\n",
    "        models.append(results_model)\n",
    "        AICs.append(results_model.aic)\n",
    "    return models[np.argmin(AICs)]\n",
    "\n",
    "def get_y(model, results, x):\n",
    "    return model({i: results.params[i].value for i in results.params}, x)\n",
    "\n",
    "\n",
    "def exp_decay(p, x):\n",
    "    return p[\"e_init\"] * np.exp(-x * p[\"e_decay_const\"]) + p[\"intercept\"]\n",
    "\n",
    "# decay types\n",
    "def powerlaw_decay(p, x):\n",
    "    return p[\"p_init\"] * x ** (p[\"p_decay_const\"]) + p[\"intercept\"]\n",
    "\n",
    "p_exp = lmfit.Parameters()\n",
    "p_exp.add_many(\n",
    "    (\"e_init\", 0.5, True, 1e-10),\n",
    "    (\"e_decay_const\", 0.1, True, 1e-10),\n",
    "    (\"intercept\", 1e-5, True, 1e-10),\n",
    ")\n",
    "\n",
    "p_power = lmfit.Parameters()\n",
    "p_power.add_many(\n",
    "    (\"p_init\", 0.5, True, 1e-10),\n",
    "    (\"p_decay_const\", -0.5, True, -np.inf, -1e-10),\n",
    "    (\"intercept\", 1e-5, True, 1e-10),\n",
    ")"
   ]
  },
  {
   "cell_type": "code",
   "execution_count": null,
   "metadata": {
    "ExecuteTime": {
     "end_time": "2019-09-17T16:13:30.144487Z",
     "start_time": "2019-09-17T16:13:30.137415Z"
    }
   },
   "outputs": [],
   "source": []
  },
  {
   "cell_type": "code",
   "execution_count": 20,
   "metadata": {
    "ExecuteTime": {
     "end_time": "2020-04-07T20:55:02.659456Z",
     "start_time": "2020-04-07T20:55:02.655907Z"
    }
   },
   "outputs": [],
   "source": [
    "fit='log'\n",
    "n_iter=1\n",
    "method=[\"nelder\", \"leastsq\", \"least-squares\"]"
   ]
  },
  {
   "cell_type": "code",
   "execution_count": 21,
   "metadata": {
    "ExecuteTime": {
     "end_time": "2020-04-07T20:55:02.802460Z",
     "start_time": "2020-04-07T20:55:02.799225Z"
    }
   },
   "outputs": [],
   "source": [
    "d = distances[:nplot]\n",
    "sig = MI[:nplot]"
   ]
  },
  {
   "cell_type": "code",
   "execution_count": 22,
   "metadata": {
    "ExecuteTime": {
     "end_time": "2020-04-07T20:55:02.939093Z",
     "start_time": "2020-04-07T20:55:02.935397Z"
    }
   },
   "outputs": [],
   "source": [
    "\n",
    "results_exp_min = lmfit.Minimizer(\n",
    "    model_res, p_exp, fcn_args=(d, sig, fit, exp_decay), nan_policy=\"omit\"\n",
    ")"
   ]
  },
  {
   "cell_type": "code",
   "execution_count": 23,
   "metadata": {
    "ExecuteTime": {
     "end_time": "2020-04-07T20:55:03.134931Z",
     "start_time": "2020-04-07T20:55:03.083494Z"
    }
   },
   "outputs": [
    {
     "name": "stderr",
     "output_type": "stream",
     "text": [
      "/mnt/cube/tsainbur/conda_envs/tpy3/lib/python3.6/site-packages/ipykernel_launcher.py:3: RuntimeWarning: divide by zero encountered in log\n",
      "  This is separate from the ipykernel package so we can avoid doing imports until\n",
      "/mnt/cube/tsainbur/conda_envs/tpy3/lib/python3.6/site-packages/ipykernel_launcher.py:3: RuntimeWarning: invalid value encountered in log\n",
      "  This is separate from the ipykernel package so we can avoid doing imports until\n"
     ]
    }
   ],
   "source": [
    "results_exp = [\n",
    "    fit_model_iter(results_exp_min, n_iter=n_iter, **{\"method\": meth})\n",
    "    for meth in method\n",
    "]\n",
    "results_exp = results_exp[np.argmin([i.aic for i in results_exp])]"
   ]
  },
  {
   "cell_type": "code",
   "execution_count": 24,
   "metadata": {
    "ExecuteTime": {
     "end_time": "2020-04-07T20:55:03.823266Z",
     "start_time": "2020-04-07T20:55:03.818919Z"
    }
   },
   "outputs": [
    {
     "data": {
      "text/plain": [
       "<lmfit.minimizer.MinimizerResult at 0x7fe3c2b43f98>"
      ]
     },
     "execution_count": 24,
     "metadata": {},
     "output_type": "execute_result"
    }
   ],
   "source": [
    "results_exp"
   ]
  },
  {
   "cell_type": "code",
   "execution_count": 25,
   "metadata": {
    "ExecuteTime": {
     "end_time": "2020-04-07T20:55:07.634098Z",
     "start_time": "2020-04-07T20:55:07.630905Z"
    }
   },
   "outputs": [],
   "source": [
    "y_exp = get_y(exp_decay, results_exp, d)"
   ]
  },
  {
   "cell_type": "code",
   "execution_count": 27,
   "metadata": {
    "ExecuteTime": {
     "end_time": "2020-04-07T20:55:50.307412Z",
     "start_time": "2020-04-07T20:55:47.915790Z"
    }
   },
   "outputs": [
    {
     "data": {
      "image/png": "[encoded data removed]",
      "text/plain": [
       "<Figure size 360x360 with 1 Axes>"
      ]
     },
     "metadata": {
      "needs_background": "light"
     },
     "output_type": "display_data"
    }
   ],
   "source": [
    "fig, ax = plt.subplots(figsize=(5,5))\n",
    "MI = row.MI-row.shuff_MI\n",
    "MI_var = row.MI_var\n",
    "nplot=50\n",
    "ax.scatter(distances[:nplot], MI[:nplot], color='k')\n",
    "ax.fill_between(distances[:nplot], MI[:nplot]-MI_var[:nplot], MI[:nplot]+MI_var[:nplot], alpha = 0, color= 'k')\n",
    "ax.plot(distances[:nplot], y_exp, alpha = 0.5, color= 'k', lw=5)\n",
    "ax.set_yscale('log')\n",
    "ax.set_xscale('log')\n",
    "#ax.set_xlim([1,50])\n",
    "\n",
    "ax.set_xlabel('Sequential distance', fontsize=18)\n",
    "ax.set_ylabel('Mutual Information (bits)', fontsize=18)\n",
    "\n",
    "\n",
    "for axis in ['top','bottom','left','right']:\n",
    "    ax.spines[axis].set_linewidth(3)\n",
    "    ax.spines[axis].set_color('k')\n",
    "ax.grid(False)\n",
    "ax.tick_params(which='both', direction='in', labelsize=14, pad=10)\n",
    "ax.tick_params(which='major', length=10, width =3)\n",
    "ax.tick_params(which='minor', length=5, width =2)\n",
    "\n",
    "ax.set_xticks([1,10,50])\n",
    "ax.set_xticklabels(['1','10','50'])\n",
    "ax.set_xlim([0.95,50])\n",
    "ax.set_ylim([1e-4,.5])\n",
    "\n",
    "\n",
    "ax.xaxis.set_major_formatter(StrMethodFormatter('{x:.0f}'))\n",
    "ax.xaxis.set_minor_formatter(NullFormatter())\n",
    "\n",
    "ensure_dir(FIGURE_DIR/'model_fig')\n",
    "save_fig(FIGURE_DIR/ 'model_fig' / 'exp_decay')"
   ]
  },
  {
   "cell_type": "code",
   "execution_count": null,
   "metadata": {},
   "outputs": [],
   "source": []
  }
 ],
 "metadata": {
  "kernelspec": {
   "display_name": "Python 3",
   "language": "python",
   "name": "python3"
  },
  "language_info": {
   "codemirror_mode": {
    "name": "ipython",
    "version": 3
   },
   "file_extension": ".py",
   "mimetype": "text/x-python",
   "name": "python",
   "nbconvert_exporter": "python",
   "pygments_lexer": "ipython3",
   "version": "3.9.1"
  }
 },
 "nbformat": 4,
 "nbformat_minor": 2
}
