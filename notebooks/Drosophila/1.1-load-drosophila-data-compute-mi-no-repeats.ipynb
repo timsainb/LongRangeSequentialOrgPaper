{
 "cells": [
  {
   "cell_type": "code",
   "execution_count": 1,
   "metadata": {
    "ExecuteTime": {
     "end_time": "2020-01-05T21:17:13.230152Z",
     "start_time": "2020-01-05T21:17:13.226695Z"
    }
   },
   "outputs": [],
   "source": [
    "# https://mail.google.com/mail/u/0/#inbox/QgrcJHrnscJGjsRzFLPzmGMZSlGWKMsntRB"
   ]
  },
  {
   "cell_type": "code",
   "execution_count": 2,
   "metadata": {
    "ExecuteTime": {
     "end_time": "2020-01-05T21:17:13.369600Z",
     "start_time": "2020-01-05T21:17:13.234544Z"
    }
   },
   "outputs": [],
   "source": [
    "%load_ext autoreload\n",
    "%autoreload 2"
   ]
  },
  {
   "cell_type": "code",
   "execution_count": 3,
   "metadata": {
    "ExecuteTime": {
     "end_time": "2020-01-05T21:17:13.434592Z",
     "start_time": "2020-01-05T21:17:13.373190Z"
    }
   },
   "outputs": [],
   "source": [
    "from childes_mi.utils.paths import DATA_DIR, ensure_dir, DROSOPHILA_DIR\n",
    "import urllib.request"
   ]
  },
  {
   "cell_type": "code",
   "execution_count": 4,
   "metadata": {
    "ExecuteTime": {
     "end_time": "2020-01-05T21:17:14.977812Z",
     "start_time": "2020-01-05T21:17:13.438193Z"
    }
   },
   "outputs": [
    {
     "name": "stderr",
     "output_type": "stream",
     "text": [
      "/mnt/cube/tsainbur/conda_envs/tpy3/lib/python3.6/site-packages/tqdm/autonotebook/__init__.py:14: TqdmExperimentalWarning: Using `tqdm.autonotebook.tqdm` in notebook mode. Use `tqdm.tqdm` instead to force console mode (e.g. in jupyter console)\n",
      "  \" (e.g. in jupyter console)\", TqdmExperimentalWarning)\n"
     ]
    }
   ],
   "source": [
    "from tqdm.autonotebook import tqdm\n",
    "import h5py\n",
    "import numpy as np\n",
    "import scipy.io\n",
    "import matplotlib.pyplot as plt\n",
    "import pandas as pd"
   ]
  },
  {
   "cell_type": "code",
   "execution_count": 5,
   "metadata": {
    "ExecuteTime": {
     "end_time": "2020-01-05T21:17:15.026352Z",
     "start_time": "2020-01-05T21:17:14.982439Z"
    }
   },
   "outputs": [
    {
     "data": {
      "text/plain": [
       "PosixPath('/mnt/cube/tsainbur/Projects/github_repos/childes_mi_project/data/raw/DROSOPHILA_Data_Dir/transition_data.mat')"
      ]
     },
     "execution_count": 5,
     "metadata": {},
     "output_type": "execute_result"
    }
   ],
   "source": [
    "mat_file = list(DROSOPHILA_DIR.glob('*.mat'))[0]\n",
    "mat_file"
   ]
  },
  {
   "cell_type": "code",
   "execution_count": 6,
   "metadata": {
    "ExecuteTime": {
     "end_time": "2020-01-05T21:17:15.191666Z",
     "start_time": "2020-01-05T21:17:15.028877Z"
    }
   },
   "outputs": [],
   "source": [
    "ds = scipy.io.loadmat(mat_file.as_posix())"
   ]
  },
  {
   "cell_type": "code",
   "execution_count": 7,
   "metadata": {
    "ExecuteTime": {
     "end_time": "2020-01-05T21:17:15.239289Z",
     "start_time": "2020-01-05T21:17:15.195625Z"
    }
   },
   "outputs": [
    {
     "data": {
      "text/plain": [
       "dict_keys(['__header__', '__version__', '__globals__', 'density', 'transition_states', 'xx', 'peakPoints', 'regionMap'])"
      ]
     },
     "execution_count": 7,
     "metadata": {},
     "output_type": "execute_result"
    }
   ],
   "source": [
    "ds.keys()"
   ]
  },
  {
   "cell_type": "code",
   "execution_count": 8,
   "metadata": {
    "ExecuteTime": {
     "end_time": "2020-01-05T21:17:15.327389Z",
     "start_time": "2020-01-05T21:17:15.242790Z"
    }
   },
   "outputs": [
    {
     "data": {
      "text/plain": [
       "array([array([[59],\n",
       "       [43],\n",
       "       [11],\n",
       "       ...,\n",
       "       [43],\n",
       "       [40],\n",
       "       [44]], dtype=uint8)], dtype=object)"
      ]
     },
     "execution_count": 8,
     "metadata": {},
     "output_type": "execute_result"
    }
   ],
   "source": [
    "ds['transition_states'][0]"
   ]
  },
  {
   "cell_type": "code",
   "execution_count": 9,
   "metadata": {
    "ExecuteTime": {
     "end_time": "2020-01-05T21:17:15.795258Z",
     "start_time": "2020-01-05T21:17:15.330148Z"
    }
   },
   "outputs": [],
   "source": [
    "states = [np.concatenate(np.concatenate(i)) for i in ds['transition_states']]"
   ]
  },
  {
   "cell_type": "code",
   "execution_count": 10,
   "metadata": {
    "ExecuteTime": {
     "end_time": "2020-01-05T21:17:15.821455Z",
     "start_time": "2020-01-05T21:17:15.797355Z"
    }
   },
   "outputs": [
    {
     "data": {
      "text/plain": [
       "array([59, 43, 11, ..., 43, 40, 44], dtype=uint8)"
      ]
     },
     "execution_count": 10,
     "metadata": {},
     "output_type": "execute_result"
    }
   ],
   "source": [
    "states[0]"
   ]
  },
  {
   "cell_type": "code",
   "execution_count": 11,
   "metadata": {
    "ExecuteTime": {
     "end_time": "2020-01-05T21:17:15.916950Z",
     "start_time": "2020-01-05T21:17:15.823206Z"
    }
   },
   "outputs": [
    {
     "data": {
      "text/plain": [
       "10803"
      ]
     },
     "execution_count": 11,
     "metadata": {},
     "output_type": "execute_result"
    }
   ],
   "source": [
    "len(states[0])"
   ]
  },
  {
   "cell_type": "code",
   "execution_count": 12,
   "metadata": {
    "ExecuteTime": {
     "end_time": "2020-01-05T21:17:15.999214Z",
     "start_time": "2020-01-05T21:17:15.918866Z"
    }
   },
   "outputs": [],
   "source": [
    "state_lens = [len(i) for i in states]"
   ]
  },
  {
   "cell_type": "code",
   "execution_count": 13,
   "metadata": {
    "ExecuteTime": {
     "end_time": "2020-01-05T21:17:16.382827Z",
     "start_time": "2020-01-05T21:17:16.001232Z"
    }
   },
   "outputs": [
    {
     "data": {
      "text/plain": [
       "(array([ 3.,  1.,  6.,  8., 18., 11.,  8.,  3.,  0.,  1.]),\n",
       " array([ 7447. ,  8181.3,  8915.6,  9649.9, 10384.2, 11118.5, 11852.8,\n",
       "        12587.1, 13321.4, 14055.7, 14790. ]),\n",
       " <a list of 10 Patch objects>)"
      ]
     },
     "execution_count": 13,
     "metadata": {},
     "output_type": "execute_result"
    },
    {
     "data": {
      "image/png": "[encoded data removed]",
      "text/plain": [
       "<Figure size 432x288 with 1 Axes>"
      ]
     },
     "metadata": {
      "needs_background": "light"
     },
     "output_type": "display_data"
    }
   ],
   "source": [
    "plt.hist(state_lens)"
   ]
  },
  {
   "cell_type": "code",
   "execution_count": 14,
   "metadata": {
    "ExecuteTime": {
     "end_time": "2020-01-05T21:17:16.989575Z",
     "start_time": "2020-01-05T21:17:16.388352Z"
    }
   },
   "outputs": [
    {
     "data": {
      "application/vnd.jupyter.widget-view+json": {
       "model_id": "e84cef66b05543f387857317dafaeeae",
       "version_major": 2,
       "version_minor": 0
      },
      "text/plain": [
       "HBox(children=(IntProgress(value=0, max=59), HTML(value='')))"
      ]
     },
     "metadata": {},
     "output_type": "display_data"
    },
    {
     "name": "stdout",
     "output_type": "stream",
     "text": [
      "\n"
     ]
    }
   ],
   "source": [
    "bouts_indv = [[\"{}_{}\".format(bi, element) for element in bout] for bi, bout in enumerate(tqdm(states))]"
   ]
  },
  {
   "cell_type": "code",
   "execution_count": 15,
   "metadata": {
    "ExecuteTime": {
     "end_time": "2020-01-05T21:17:17.245053Z",
     "start_time": "2020-01-05T21:17:16.992104Z"
    }
   },
   "outputs": [
    {
     "name": "stdout",
     "output_type": "stream",
     "text": [
      "[116, 115, 115, 113, 113, 112, 114, 114, 114, 103, 106, 106, 103, 112, 93, 114, 106, 112, 114, 110, 111, 115, 110, 113, 113, 115, 112, 114, 108, 110, 107, 111, 109, 116, 113, 101, 113, 91, 96, 107, 115, 110, 113, 109, 111, 117, 110, 114, 117, 115, 115, 107, 113, 111, 113, 114, 112, 94, 112]\n"
     ]
    }
   ],
   "source": [
    "print([len(np.unique(i)) for i in bouts_indv])"
   ]
  },
  {
   "cell_type": "code",
   "execution_count": 16,
   "metadata": {
    "ExecuteTime": {
     "end_time": "2020-01-05T21:17:17.278090Z",
     "start_time": "2020-01-05T21:17:17.247668Z"
    }
   },
   "outputs": [],
   "source": [
    "def remove_repeats(sequence):\n",
    "    a = np.array(sequence[1:])\n",
    "    b = np.array(sequence[:-1])\n",
    "    c = [sequence[0]] + list(a[a != b])\n",
    "    return c"
   ]
  },
  {
   "cell_type": "code",
   "execution_count": 17,
   "metadata": {
    "ExecuteTime": {
     "end_time": "2020-01-05T21:17:17.824410Z",
     "start_time": "2020-01-05T21:17:17.280058Z"
    }
   },
   "outputs": [],
   "source": [
    "bouts_indv_no_repeats = [remove_repeats(i) for i in bouts_indv]"
   ]
  },
  {
   "cell_type": "code",
   "execution_count": 18,
   "metadata": {
    "ExecuteTime": {
     "end_time": "2020-01-05T21:17:17.867742Z",
     "start_time": "2020-01-05T21:17:17.828532Z"
    }
   },
   "outputs": [
    {
     "data": {
      "text/plain": [
       "(10803, 10799)"
      ]
     },
     "execution_count": 18,
     "metadata": {},
     "output_type": "execute_result"
    }
   ],
   "source": [
    "len(bouts_indv[0]), len(bouts_indv_no_repeats[0])"
   ]
  },
  {
   "cell_type": "code",
   "execution_count": 19,
   "metadata": {
    "ExecuteTime": {
     "end_time": "2020-01-05T21:17:17.985946Z",
     "start_time": "2020-01-05T21:17:17.870368Z"
    }
   },
   "outputs": [
    {
     "data": {
      "text/plain": [
       "['0_59',\n",
       " '0_43',\n",
       " '0_11',\n",
       " '0_21',\n",
       " '0_11',\n",
       " '0_51',\n",
       " '0_52',\n",
       " '0_46',\n",
       " '0_52',\n",
       " '0_60',\n",
       " '0_59',\n",
       " '0_65',\n",
       " '0_46',\n",
       " '0_27',\n",
       " '0_32',\n",
       " '0_33',\n",
       " '0_40',\n",
       " '0_52',\n",
       " '0_43',\n",
       " '0_39',\n",
       " '0_43',\n",
       " '0_76',\n",
       " '0_106',\n",
       " '0_76',\n",
       " '0_52',\n",
       " '0_43',\n",
       " '0_9',\n",
       " '0_4',\n",
       " '0_9',\n",
       " '0_21',\n",
       " '0_9',\n",
       " '0_21',\n",
       " '0_11',\n",
       " '0_21',\n",
       " '0_69',\n",
       " '0_59',\n",
       " '0_46',\n",
       " '0_42',\n",
       " '0_52',\n",
       " '0_43',\n",
       " '0_9',\n",
       " '0_21',\n",
       " '0_4',\n",
       " '0_9',\n",
       " '0_10',\n",
       " '0_52',\n",
       " '0_46',\n",
       " '0_80',\n",
       " '0_69',\n",
       " '0_80',\n",
       " '0_84',\n",
       " '0_103',\n",
       " '0_60',\n",
       " '0_43',\n",
       " '0_9',\n",
       " '0_21',\n",
       " '0_4',\n",
       " '0_21',\n",
       " '0_52',\n",
       " '0_69',\n",
       " '0_66',\n",
       " '0_46',\n",
       " '0_52',\n",
       " '0_43',\n",
       " '0_21',\n",
       " '0_43',\n",
       " '0_52',\n",
       " '0_53',\n",
       " '0_60',\n",
       " '0_59',\n",
       " '0_68',\n",
       " '0_46',\n",
       " '0_52',\n",
       " '0_40',\n",
       " '0_52',\n",
       " '0_39',\n",
       " '0_43',\n",
       " '0_21',\n",
       " '0_10',\n",
       " '0_21',\n",
       " '0_43',\n",
       " '0_52',\n",
       " '0_43',\n",
       " '0_52',\n",
       " '0_76',\n",
       " '0_52',\n",
       " '0_31',\n",
       " '0_9',\n",
       " '0_10',\n",
       " '0_9',\n",
       " '0_10',\n",
       " '0_9',\n",
       " '0_4',\n",
       " '0_43',\n",
       " '0_52',\n",
       " '0_48',\n",
       " '0_59',\n",
       " '0_32',\n",
       " '0_65',\n",
       " '0_38',\n",
       " '0_45',\n",
       " '0_52',\n",
       " '0_45',\n",
       " '0_33',\n",
       " '0_46',\n",
       " '0_33',\n",
       " '0_40',\n",
       " '0_52',\n",
       " '0_39',\n",
       " '0_4',\n",
       " '0_43',\n",
       " '0_52',\n",
       " '0_65',\n",
       " '0_53',\n",
       " '0_60',\n",
       " '0_52',\n",
       " '0_43',\n",
       " '0_4',\n",
       " '0_9',\n",
       " '0_4',\n",
       " '0_10',\n",
       " '0_21',\n",
       " '0_51',\n",
       " '0_43',\n",
       " '0_52',\n",
       " '0_53',\n",
       " '0_65',\n",
       " '0_46',\n",
       " '0_55',\n",
       " '0_52',\n",
       " '0_43',\n",
       " '0_21',\n",
       " '0_9',\n",
       " '0_10',\n",
       " '0_21',\n",
       " '0_4',\n",
       " '0_43',\n",
       " '0_40',\n",
       " '0_32',\n",
       " '0_33',\n",
       " '0_49',\n",
       " '0_46',\n",
       " '0_15',\n",
       " '0_33',\n",
       " '0_39',\n",
       " '0_51',\n",
       " '0_4',\n",
       " '0_9',\n",
       " '0_43',\n",
       " '0_52',\n",
       " '0_53',\n",
       " '0_59',\n",
       " '0_65',\n",
       " '0_59',\n",
       " '0_65',\n",
       " '0_45',\n",
       " '0_52',\n",
       " '0_43',\n",
       " '0_52',\n",
       " '0_60',\n",
       " '0_62',\n",
       " '0_65',\n",
       " '0_62',\n",
       " '0_60',\n",
       " '0_52',\n",
       " '0_48',\n",
       " '0_21',\n",
       " '0_9',\n",
       " '0_51',\n",
       " '0_43',\n",
       " '0_52',\n",
       " '0_53',\n",
       " '0_50',\n",
       " '0_46',\n",
       " '0_68',\n",
       " '0_59',\n",
       " '0_50',\n",
       " '0_46',\n",
       " '0_27',\n",
       " '0_69',\n",
       " '0_80',\n",
       " '0_65',\n",
       " '0_68',\n",
       " '0_59',\n",
       " '0_49',\n",
       " '0_57',\n",
       " '0_66',\n",
       " '0_59',\n",
       " '0_65',\n",
       " '0_49',\n",
       " '0_44',\n",
       " '0_41',\n",
       " '0_44',\n",
       " '0_46',\n",
       " '0_48',\n",
       " '0_53',\n",
       " '0_59',\n",
       " '0_66',\n",
       " '0_65',\n",
       " '0_66',\n",
       " '0_59',\n",
       " '0_67',\n",
       " '0_77',\n",
       " '0_60',\n",
       " '0_43',\n",
       " '0_52',\n",
       " '0_59',\n",
       " '0_65',\n",
       " '0_59',\n",
       " '0_69',\n",
       " '0_77',\n",
       " '0_53',\n",
       " '0_55',\n",
       " '0_59',\n",
       " '0_64',\n",
       " '0_54',\n",
       " '0_65',\n",
       " '0_44',\n",
       " '0_46',\n",
       " '0_65',\n",
       " '0_50',\n",
       " '0_65',\n",
       " '0_49',\n",
       " '0_32',\n",
       " '0_59',\n",
       " '0_50',\n",
       " '0_44',\n",
       " '0_49',\n",
       " '0_47',\n",
       " '0_50',\n",
       " '0_65',\n",
       " '0_69',\n",
       " '0_53',\n",
       " '0_52',\n",
       " '0_43',\n",
       " '0_51',\n",
       " '0_21',\n",
       " '0_51',\n",
       " '0_57',\n",
       " '0_39',\n",
       " '0_43',\n",
       " '0_52',\n",
       " '0_65',\n",
       " '0_52',\n",
       " '0_45',\n",
       " '0_65',\n",
       " '0_66',\n",
       " '0_43',\n",
       " '0_53',\n",
       " '0_65',\n",
       " '0_80',\n",
       " '0_53',\n",
       " '0_43',\n",
       " '0_21',\n",
       " '0_39',\n",
       " '0_71',\n",
       " '0_52',\n",
       " '0_43',\n",
       " '0_52',\n",
       " '0_55',\n",
       " '0_66',\n",
       " '0_46',\n",
       " '0_55',\n",
       " '0_53',\n",
       " '0_52',\n",
       " '0_43',\n",
       " '0_52',\n",
       " '0_43',\n",
       " '0_52',\n",
       " '0_60',\n",
       " '0_77',\n",
       " '0_60',\n",
       " '0_67',\n",
       " '0_71',\n",
       " '0_84',\n",
       " '0_106',\n",
       " '0_98',\n",
       " '0_87',\n",
       " '0_84',\n",
       " '0_93',\n",
       " '0_108',\n",
       " '0_93',\n",
       " '0_67',\n",
       " '0_87',\n",
       " '0_67',\n",
       " '0_60',\n",
       " '0_52',\n",
       " '0_53',\n",
       " '0_59',\n",
       " '0_65',\n",
       " '0_59',\n",
       " '0_48',\n",
       " '0_52',\n",
       " '0_39',\n",
       " '0_21',\n",
       " '0_9',\n",
       " '0_11',\n",
       " '0_21',\n",
       " '0_11',\n",
       " '0_31',\n",
       " '0_52',\n",
       " '0_45',\n",
       " '0_65',\n",
       " '0_59',\n",
       " '0_52',\n",
       " '0_43',\n",
       " '0_52',\n",
       " '0_53',\n",
       " '0_59',\n",
       " '0_69',\n",
       " '0_27',\n",
       " '0_46',\n",
       " '0_27',\n",
       " '0_15',\n",
       " '0_32',\n",
       " '0_34',\n",
       " '0_39',\n",
       " '0_43',\n",
       " '0_52',\n",
       " '0_43',\n",
       " '0_52',\n",
       " '0_60',\n",
       " '0_53',\n",
       " '0_59',\n",
       " '0_46',\n",
       " '0_66',\n",
       " '0_27',\n",
       " '0_47',\n",
       " '0_49',\n",
       " '0_35',\n",
       " '0_47',\n",
       " '0_49',\n",
       " '0_1',\n",
       " '0_38',\n",
       " '0_14',\n",
       " '0_38',\n",
       " '0_50',\n",
       " '0_19',\n",
       " '0_25',\n",
       " '0_49',\n",
       " '0_7',\n",
       " '0_38',\n",
       " '0_46',\n",
       " '0_15',\n",
       " '0_22',\n",
       " '0_32',\n",
       " '0_38',\n",
       " '0_44',\n",
       " '0_46',\n",
       " '0_15',\n",
       " '0_38',\n",
       " '0_35',\n",
       " '0_38',\n",
       " '0_32',\n",
       " '0_44',\n",
       " '0_65',\n",
       " '0_49',\n",
       " '0_44',\n",
       " '0_46',\n",
       " '0_47',\n",
       " '0_69',\n",
       " '0_59',\n",
       " '0_52',\n",
       " '0_43',\n",
       " '0_39',\n",
       " '0_21',\n",
       " '0_10',\n",
       " '0_4',\n",
       " '0_9',\n",
       " '0_11',\n",
       " '0_4',\n",
       " '0_9',\n",
       " '0_4',\n",
       " '0_10',\n",
       " '0_4',\n",
       " '0_39',\n",
       " '0_40',\n",
       " '0_33',\n",
       " '0_19',\n",
       " '0_27',\n",
       " '0_46',\n",
       " '0_27',\n",
       " '0_32',\n",
       " '0_33',\n",
       " '0_45',\n",
       " '0_40',\n",
       " '0_33',\n",
       " '0_46',\n",
       " '0_33',\n",
       " '0_65',\n",
       " '0_71',\n",
       " '0_79',\n",
       " '0_71',\n",
       " '0_87',\n",
       " '0_84',\n",
       " '0_69',\n",
       " '0_79',\n",
       " '0_46',\n",
       " '0_54',\n",
       " '0_32',\n",
       " '0_22',\n",
       " '0_46',\n",
       " '0_15',\n",
       " '0_27',\n",
       " '0_44',\n",
       " '0_27',\n",
       " '0_35',\n",
       " '0_49',\n",
       " '0_20',\n",
       " '0_19',\n",
       " '0_46',\n",
       " '0_27',\n",
       " '0_15',\n",
       " '0_29',\n",
       " '0_14',\n",
       " '0_20',\n",
       " '0_28',\n",
       " '0_35',\n",
       " '0_15',\n",
       " '0_44',\n",
       " '0_28',\n",
       " '0_50',\n",
       " '0_47',\n",
       " '0_49',\n",
       " '0_57',\n",
       " '0_41',\n",
       " '0_37',\n",
       " '0_52',\n",
       " '0_51',\n",
       " '0_61',\n",
       " '0_49',\n",
       " '0_65',\n",
       " '0_43',\n",
       " '0_51',\n",
       " '0_21',\n",
       " '0_39',\n",
       " '0_52',\n",
       " '0_66',\n",
       " '0_68',\n",
       " '0_65',\n",
       " '0_49',\n",
       " '0_46',\n",
       " '0_19',\n",
       " '0_40',\n",
       " '0_31',\n",
       " '0_21',\n",
       " '0_10',\n",
       " '0_21',\n",
       " '0_4',\n",
       " '0_21',\n",
       " '0_39',\n",
       " '0_20',\n",
       " '0_28',\n",
       " '0_20',\n",
       " '0_32',\n",
       " '0_33',\n",
       " '0_22',\n",
       " '0_35',\n",
       " '0_28',\n",
       " '0_46',\n",
       " '0_19',\n",
       " '0_38',\n",
       " '0_36',\n",
       " '0_46',\n",
       " '0_65',\n",
       " '0_66',\n",
       " '0_65',\n",
       " '0_68',\n",
       " '0_45',\n",
       " '0_49',\n",
       " '0_47',\n",
       " '0_49',\n",
       " '0_44',\n",
       " '0_50',\n",
       " '0_46',\n",
       " '0_68',\n",
       " '0_69',\n",
       " '0_87',\n",
       " '0_77',\n",
       " '0_87',\n",
       " '0_84',\n",
       " '0_87',\n",
       " '0_77',\n",
       " '0_87',\n",
       " '0_79',\n",
       " '0_46',\n",
       " '0_27',\n",
       " '0_20',\n",
       " '0_30',\n",
       " '0_38',\n",
       " '0_46',\n",
       " '0_49',\n",
       " '0_65',\n",
       " '0_49',\n",
       " '0_41',\n",
       " '0_32',\n",
       " '0_45',\n",
       " '0_65',\n",
       " '0_56',\n",
       " '0_49',\n",
       " '0_65',\n",
       " '0_49',\n",
       " '0_57',\n",
       " '0_44',\n",
       " '0_46',\n",
       " '0_27',\n",
       " '0_23',\n",
       " '0_34',\n",
       " '0_31',\n",
       " '0_39',\n",
       " '0_21',\n",
       " '0_39',\n",
       " '0_19',\n",
       " '0_38',\n",
       " '0_19',\n",
       " '0_40',\n",
       " '0_34',\n",
       " '0_33',\n",
       " '0_32',\n",
       " '0_15',\n",
       " '0_35',\n",
       " '0_38',\n",
       " '0_36',\n",
       " '0_46',\n",
       " '0_44',\n",
       " '0_66',\n",
       " '0_35',\n",
       " '0_49',\n",
       " '0_28',\n",
       " '0_15',\n",
       " '0_47',\n",
       " '0_15',\n",
       " '0_14',\n",
       " '0_27',\n",
       " '0_46',\n",
       " '0_49',\n",
       " '0_14',\n",
       " '0_1',\n",
       " '0_2',\n",
       " '0_14',\n",
       " '0_19',\n",
       " '0_15',\n",
       " '0_14',\n",
       " '0_38',\n",
       " '0_15',\n",
       " '0_13',\n",
       " '0_19',\n",
       " '0_38',\n",
       " '0_46',\n",
       " '0_20',\n",
       " '0_15',\n",
       " '0_38',\n",
       " '0_20',\n",
       " '0_38',\n",
       " '0_65',\n",
       " '0_49',\n",
       " '0_27',\n",
       " '0_46',\n",
       " '0_32',\n",
       " '0_33',\n",
       " '0_21',\n",
       " '0_10',\n",
       " '0_9',\n",
       " '0_21',\n",
       " '0_9',\n",
       " '0_21',\n",
       " '0_9',\n",
       " '0_11',\n",
       " '0_9',\n",
       " '0_10',\n",
       " '0_9',\n",
       " '0_11',\n",
       " '0_9',\n",
       " '0_21',\n",
       " '0_43',\n",
       " '0_52',\n",
       " '0_34',\n",
       " '0_32',\n",
       " '0_49',\n",
       " '0_46',\n",
       " '0_27',\n",
       " '0_32',\n",
       " '0_23',\n",
       " '0_33',\n",
       " '0_40',\n",
       " '0_39',\n",
       " '0_21',\n",
       " '0_9',\n",
       " '0_21',\n",
       " '0_9',\n",
       " '0_21',\n",
       " '0_43',\n",
       " '0_52',\n",
       " '0_53',\n",
       " '0_68',\n",
       " '0_49',\n",
       " '0_46',\n",
       " '0_27',\n",
       " '0_32',\n",
       " '0_39',\n",
       " '0_43',\n",
       " '0_21',\n",
       " '0_43',\n",
       " '0_52',\n",
       " '0_48',\n",
       " '0_40',\n",
       " '0_44',\n",
       " '0_49',\n",
       " '0_44',\n",
       " '0_32',\n",
       " '0_46',\n",
       " '0_45',\n",
       " '0_65',\n",
       " '0_59',\n",
       " '0_80',\n",
       " '0_46',\n",
       " '0_33',\n",
       " '0_32',\n",
       " '0_52',\n",
       " '0_49',\n",
       " '0_52',\n",
       " '0_45',\n",
       " '0_65',\n",
       " '0_52',\n",
       " '0_45',\n",
       " '0_49',\n",
       " '0_32',\n",
       " '0_46',\n",
       " '0_38',\n",
       " '0_46',\n",
       " '0_29',\n",
       " '0_38',\n",
       " '0_20',\n",
       " '0_28',\n",
       " '0_35',\n",
       " '0_27',\n",
       " '0_35',\n",
       " '0_27',\n",
       " '0_20',\n",
       " '0_38',\n",
       " '0_15',\n",
       " '0_46',\n",
       " '0_15',\n",
       " '0_32',\n",
       " '0_44',\n",
       " '0_27',\n",
       " '0_19',\n",
       " '0_46',\n",
       " '0_49',\n",
       " '0_47',\n",
       " '0_49',\n",
       " '0_35',\n",
       " '0_49',\n",
       " '0_47',\n",
       " '0_49',\n",
       " '0_44',\n",
       " '0_32',\n",
       " '0_49',\n",
       " '0_44',\n",
       " '0_35',\n",
       " '0_49',\n",
       " '0_44',\n",
       " '0_38',\n",
       " '0_5',\n",
       " '0_6',\n",
       " '0_14',\n",
       " '0_35',\n",
       " '0_22',\n",
       " '0_14',\n",
       " '0_20',\n",
       " '0_28',\n",
       " '0_35',\n",
       " '0_49',\n",
       " '0_35',\n",
       " '0_19',\n",
       " '0_35',\n",
       " '0_49',\n",
       " '0_44',\n",
       " '0_49',\n",
       " '0_20',\n",
       " '0_49',\n",
       " '0_1',\n",
       " '0_15',\n",
       " '0_14',\n",
       " '0_38',\n",
       " '0_28',\n",
       " '0_14',\n",
       " '0_38',\n",
       " '0_25',\n",
       " '0_20',\n",
       " '0_25',\n",
       " '0_49',\n",
       " '0_25',\n",
       " '0_35',\n",
       " '0_27',\n",
       " '0_44',\n",
       " '0_27',\n",
       " '0_25',\n",
       " '0_20',\n",
       " '0_46',\n",
       " '0_49',\n",
       " '0_35',\n",
       " '0_27',\n",
       " '0_49',\n",
       " '0_47',\n",
       " '0_49',\n",
       " '0_35',\n",
       " '0_49',\n",
       " '0_57',\n",
       " '0_65',\n",
       " '0_44',\n",
       " '0_56',\n",
       " '0_46',\n",
       " '0_35',\n",
       " '0_47',\n",
       " '0_65',\n",
       " '0_50',\n",
       " '0_59',\n",
       " '0_41',\n",
       " '0_49',\n",
       " '0_44',\n",
       " '0_22',\n",
       " '0_29',\n",
       " '0_25',\n",
       " '0_14',\n",
       " '0_27',\n",
       " '0_14',\n",
       " '0_27',\n",
       " '0_1',\n",
       " '0_2',\n",
       " '0_1',\n",
       " '0_2',\n",
       " '0_1',\n",
       " '0_15',\n",
       " '0_20',\n",
       " '0_38',\n",
       " '0_27',\n",
       " '0_46',\n",
       " '0_19',\n",
       " '0_27',\n",
       " '0_35',\n",
       " '0_38',\n",
       " '0_46',\n",
       " '0_49',\n",
       " '0_25',\n",
       " '0_49',\n",
       " '0_28',\n",
       " '0_14',\n",
       " '0_38',\n",
       " '0_20',\n",
       " '0_6',\n",
       " '0_38',\n",
       " '0_46',\n",
       " '0_15',\n",
       " '0_35',\n",
       " '0_49',\n",
       " '0_44',\n",
       " '0_15',\n",
       " '0_7',\n",
       " '0_15',\n",
       " '0_38',\n",
       " '0_14',\n",
       " '0_8',\n",
       " '0_7',\n",
       " '0_38',\n",
       " '0_46',\n",
       " '0_25',\n",
       " '0_38',\n",
       " '0_25',\n",
       " '0_38',\n",
       " '0_28',\n",
       " '0_14',\n",
       " '0_19',\n",
       " '0_25',\n",
       " '0_15',\n",
       " '0_14',\n",
       " '0_38',\n",
       " '0_27',\n",
       " '0_14',\n",
       " '0_1',\n",
       " '0_2',\n",
       " '0_15',\n",
       " '0_38',\n",
       " '0_14',\n",
       " '0_38',\n",
       " '0_14',\n",
       " '0_19',\n",
       " '0_14',\n",
       " '0_19',\n",
       " '0_38',\n",
       " '0_19',\n",
       " '0_27',\n",
       " '0_38',\n",
       " '0_19',\n",
       " '0_49',\n",
       " '0_46',\n",
       " '0_49',\n",
       " '0_65',\n",
       " '0_49',\n",
       " '0_65',\n",
       " '0_69',\n",
       " '0_44',\n",
       " '0_46',\n",
       " '0_20',\n",
       " '0_38',\n",
       " '0_15',\n",
       " '0_33',\n",
       " '0_45',\n",
       " '0_55',\n",
       " '0_59',\n",
       " '0_41',\n",
       " '0_36',\n",
       " '0_79',\n",
       " '0_38',\n",
       " '0_46',\n",
       " '0_20',\n",
       " '0_14',\n",
       " '0_15',\n",
       " '0_32',\n",
       " '0_13',\n",
       " '0_15',\n",
       " '0_38',\n",
       " '0_29',\n",
       " '0_84',\n",
       " '0_46',\n",
       " '0_90',\n",
       " '0_105',\n",
       " '0_84',\n",
       " '0_115',\n",
       " '0_87',\n",
       " '0_55',\n",
       " '0_59',\n",
       " '0_75',\n",
       " '0_98',\n",
       " '0_103',\n",
       " '0_93',\n",
       " '0_75',\n",
       " '0_90',\n",
       " '0_46',\n",
       " '0_99',\n",
       " '0_87',\n",
       " '0_107',\n",
       " '0_115',\n",
       " '0_65',\n",
       " '0_59',\n",
       " '0_32',\n",
       " '0_46',\n",
       " '0_20',\n",
       " '0_38',\n",
       " '0_15',\n",
       " '0_13',\n",
       " '0_23',\n",
       " '0_33',\n",
       " '0_34',\n",
       " '0_40',\n",
       " '0_39',\n",
       " '0_31',\n",
       " '0_52',\n",
       " '0_48',\n",
       " '0_59',\n",
       " '0_65',\n",
       " '0_59',\n",
       " '0_46',\n",
       " '0_44',\n",
       " '0_109',\n",
       " '0_105',\n",
       " '0_93',\n",
       " '0_76',\n",
       " '0_87',\n",
       " '0_103',\n",
       " '0_93',\n",
       " '0_84',\n",
       " '0_65',\n",
       " '0_98',\n",
       " '0_59',\n",
       " '0_45',\n",
       " '0_53',\n",
       " '0_65',\n",
       " '0_46',\n",
       " '0_45',\n",
       " '0_33',\n",
       " '0_52',\n",
       " '0_3',\n",
       " '0_10',\n",
       " '0_9',\n",
       " '0_11',\n",
       " '0_21',\n",
       " '0_11',\n",
       " '0_9',\n",
       " '0_11',\n",
       " '0_9',\n",
       " '0_11',\n",
       " '0_9',\n",
       " '0_3',\n",
       " '0_11',\n",
       " '0_9',\n",
       " '0_3',\n",
       " '0_10',\n",
       " '0_4',\n",
       " '0_9',\n",
       " '0_21',\n",
       " '0_4',\n",
       " '0_10',\n",
       " '0_21',\n",
       " '0_9',\n",
       " '0_21',\n",
       " '0_9',\n",
       " '0_10',\n",
       " '0_9',\n",
       " '0_10',\n",
       " '0_9',\n",
       " '0_10',\n",
       " '0_9',\n",
       " '0_43',\n",
       " '0_52',\n",
       " '0_59',\n",
       " '0_49',\n",
       " '0_46',\n",
       " '0_19',\n",
       " '0_46',\n",
       " '0_27',\n",
       " '0_41',\n",
       " '0_65',\n",
       " '0_59',\n",
       " '0_55',\n",
       " '0_65',\n",
       " '0_69',\n",
       " '0_68',\n",
       " '0_84',\n",
       " '0_93',\n",
       " '0_88',\n",
       " '0_94',\n",
       " '0_46',\n",
       " '0_73',\n",
       " '0_115',\n",
       " '0_75',\n",
       " '0_68',\n",
       " '0_75',\n",
       " '0_68',\n",
       " '0_44',\n",
       " '0_46',\n",
       " '0_36',\n",
       " '0_38',\n",
       " '0_14',\n",
       " '0_38',\n",
       " '0_46',\n",
       " '0_59',\n",
       " '0_65',\n",
       " '0_59',\n",
       " '0_46',\n",
       " '0_35',\n",
       " '0_49',\n",
       " '0_35',\n",
       " '0_44',\n",
       " '0_66',\n",
       " '0_69',\n",
       " '0_65',\n",
       " '0_44',\n",
       " '0_46',\n",
       " '0_49',\n",
       " '0_47',\n",
       " '0_44',\n",
       " '0_46',\n",
       " '0_44',\n",
       " '0_35',\n",
       " '0_14',\n",
       " '0_49',\n",
       " '0_28',\n",
       " '0_22',\n",
       " '0_46',\n",
       " '0_20',\n",
       " '0_14',\n",
       " '0_50',\n",
       " '0_69',\n",
       " '0_67',\n",
       " '0_56',\n",
       " '0_59',\n",
       " '0_88',\n",
       " '0_94',\n",
       " '0_88',\n",
       " '0_59',\n",
       " '0_46',\n",
       " '0_65',\n",
       " '0_75',\n",
       " '0_68',\n",
       " '0_66',\n",
       " '0_59',\n",
       " '0_69',\n",
       " '0_59',\n",
       " '0_69',\n",
       " '0_46',\n",
       " '0_27',\n",
       " '0_32',\n",
       " '0_39',\n",
       " '0_21',\n",
       " '0_4',\n",
       " '0_9',\n",
       " '0_11',\n",
       " '0_9',\n",
       " '0_11',\n",
       " ...]"
      ]
     },
     "execution_count": 19,
     "metadata": {},
     "output_type": "execute_result"
    }
   ],
   "source": [
    "bouts_indv[0]"
   ]
  },
  {
   "cell_type": "markdown",
   "metadata": {},
   "source": [
    "### Mutual information"
   ]
  },
  {
   "cell_type": "code",
   "execution_count": 20,
   "metadata": {
    "ExecuteTime": {
     "end_time": "2020-01-05T21:17:19.682193Z",
     "start_time": "2020-01-05T21:17:17.988334Z"
    }
   },
   "outputs": [],
   "source": [
    "from childes_mi.information_theory import mutual_information as mi"
   ]
  },
  {
   "cell_type": "code",
   "execution_count": 21,
   "metadata": {
    "ExecuteTime": {
     "end_time": "2020-01-05T21:17:19.731153Z",
     "start_time": "2020-01-05T21:17:19.686826Z"
    }
   },
   "outputs": [],
   "source": [
    "distances = np.arange(1,1001)"
   ]
  },
  {
   "cell_type": "code",
   "execution_count": 22,
   "metadata": {
    "ExecuteTime": {
     "end_time": "2020-01-05T21:45:07.817613Z",
     "start_time": "2020-01-05T21:17:19.733694Z"
    }
   },
   "outputs": [
    {
     "data": {
      "application/vnd.jupyter.widget-view+json": {
       "model_id": "",
       "version_major": 2,
       "version_minor": 0
      },
      "text/plain": [
       "HBox(children=(IntProgress(value=0, max=1000), HTML(value='')))"
      ]
     },
     "metadata": {},
     "output_type": "display_data"
    },
    {
     "name": "stderr",
     "output_type": "stream",
     "text": [
      "[Parallel(n_jobs=-1)]: Using backend ThreadingBackend with 24 concurrent workers.\n",
      "[Parallel(n_jobs=-1)]: Done  24 tasks      | elapsed:   16.1s\n",
      "[Parallel(n_jobs=-1)]: Done 114 tasks      | elapsed:  1.5min\n",
      "[Parallel(n_jobs=-1)]: Done 240 tasks      | elapsed:  3.1min\n",
      "[Parallel(n_jobs=-1)]: Done 402 tasks      | elapsed:  5.4min\n",
      "[Parallel(n_jobs=-1)]: Done 600 tasks      | elapsed:  8.1min\n",
      "[Parallel(n_jobs=-1)]: Done 834 tasks      | elapsed: 11.2min\n"
     ]
    },
    {
     "name": "stdout",
     "output_type": "stream",
     "text": [
      "\r"
     ]
    },
    {
     "name": "stderr",
     "output_type": "stream",
     "text": [
      "[Parallel(n_jobs=-1)]: Done 1000 out of 1000 | elapsed: 13.3min finished\n"
     ]
    },
    {
     "data": {
      "application/vnd.jupyter.widget-view+json": {
       "model_id": "",
       "version_major": 2,
       "version_minor": 0
      },
      "text/plain": [
       "HBox(children=(IntProgress(value=0, max=1000), HTML(value='')))"
      ]
     },
     "metadata": {},
     "output_type": "display_data"
    },
    {
     "name": "stderr",
     "output_type": "stream",
     "text": [
      "[Parallel(n_jobs=-1)]: Using backend ThreadingBackend with 24 concurrent workers.\n",
      "[Parallel(n_jobs=-1)]: Done  24 tasks      | elapsed:   52.7s\n",
      "[Parallel(n_jobs=-1)]: Done 114 tasks      | elapsed:  2.3min\n",
      "[Parallel(n_jobs=-1)]: Done 240 tasks      | elapsed:  4.1min\n",
      "[Parallel(n_jobs=-1)]: Done 402 tasks      | elapsed:  6.3min\n",
      "[Parallel(n_jobs=-1)]: Done 600 tasks      | elapsed:  9.2min\n",
      "[Parallel(n_jobs=-1)]: Done 834 tasks      | elapsed: 12.7min\n"
     ]
    },
    {
     "name": "stdout",
     "output_type": "stream",
     "text": [
      "\r"
     ]
    },
    {
     "name": "stderr",
     "output_type": "stream",
     "text": [
      "[Parallel(n_jobs=-1)]: Done 1000 out of 1000 | elapsed: 14.5min finished\n"
     ]
    }
   ],
   "source": [
    "(MI, MI_var), (shuff_MI, shuff_MI_var) = mi.sequential_mutual_information(\n",
    "    bouts_indv_no_repeats, distances=distances, n_jobs=-1\n",
    ")"
   ]
  },
  {
   "cell_type": "code",
   "execution_count": 23,
   "metadata": {
    "ExecuteTime": {
     "end_time": "2020-01-05T21:45:08.048520Z",
     "start_time": "2020-01-05T21:45:07.821618Z"
    }
   },
   "outputs": [],
   "source": [
    "MI_DF = pd.DataFrame(\n",
    "    [[MI, MI_var, shuff_MI, shuff_MI_var, distances]],\n",
    "    columns=[\"MI\", \"MI_var\", \"shuff_MI\", \"shuff_MI_var\", \"distances\"],\n",
    ")"
   ]
  },
  {
   "cell_type": "code",
   "execution_count": 24,
   "metadata": {
    "ExecuteTime": {
     "end_time": "2020-01-05T21:45:08.194311Z",
     "start_time": "2020-01-05T21:45:08.050532Z"
    }
   },
   "outputs": [],
   "source": [
    "MI_DF.to_pickle(DATA_DIR / \"mi\" / \"drosophila_mi_1000_no_repeats.pickle\")"
   ]
  },
  {
   "cell_type": "code",
   "execution_count": 25,
   "metadata": {
    "ExecuteTime": {
     "end_time": "2020-01-05T21:45:08.304927Z",
     "start_time": "2020-01-05T21:45:08.196349Z"
    }
   },
   "outputs": [
    {
     "data": {
      "text/html": [
       "<div>\n",
       "<style scoped>\n",
       "    .dataframe tbody tr th:only-of-type {\n",
       "        vertical-align: middle;\n",
       "    }\n",
       "\n",
       "    .dataframe tbody tr th {\n",
       "        vertical-align: top;\n",
       "    }\n",
       "\n",
       "    .dataframe thead th {\n",
       "        text-align: right;\n",
       "    }\n",
       "</style>\n",
       "<table border=\"1\" class=\"dataframe\">\n",
       "  <thead>\n",
       "    <tr style=\"text-align: right;\">\n",
       "      <th></th>\n",
       "      <th>MI</th>\n",
       "      <th>MI_var</th>\n",
       "      <th>shuff_MI</th>\n",
       "      <th>shuff_MI_var</th>\n",
       "      <th>distances</th>\n",
       "    </tr>\n",
       "  </thead>\n",
       "  <tbody>\n",
       "    <tr>\n",
       "      <th>0</th>\n",
       "      <td>[11.490855469682131, 11.113366318302845, 10.94...</td>\n",
       "      <td>[0.0032101072658640537, 0.003149172574458995, ...</td>\n",
       "      <td>[10.161828640522714, 10.162527974052363, 10.16...</td>\n",
       "      <td>[0.003050721552143333, 0.0030510759230475046, ...</td>\n",
       "      <td>[1, 2, 3, 4, 5, 6, 7, 8, 9, 10, 11, 12, 13, 14...</td>\n",
       "    </tr>\n",
       "  </tbody>\n",
       "</table>\n",
       "</div>"
      ],
      "text/plain": [
       "                                                  MI  \\\n",
       "0  [11.490855469682131, 11.113366318302845, 10.94...   \n",
       "\n",
       "                                              MI_var  \\\n",
       "0  [0.0032101072658640537, 0.003149172574458995, ...   \n",
       "\n",
       "                                            shuff_MI  \\\n",
       "0  [10.161828640522714, 10.162527974052363, 10.16...   \n",
       "\n",
       "                                        shuff_MI_var  \\\n",
       "0  [0.003050721552143333, 0.0030510759230475046, ...   \n",
       "\n",
       "                                           distances  \n",
       "0  [1, 2, 3, 4, 5, 6, 7, 8, 9, 10, 11, 12, 13, 14...  "
      ]
     },
     "execution_count": 25,
     "metadata": {},
     "output_type": "execute_result"
    }
   ],
   "source": [
    "MI_DF[:10]"
   ]
  },
  {
   "cell_type": "code",
   "execution_count": 29,
   "metadata": {
    "ExecuteTime": {
     "end_time": "2020-01-06T18:20:07.598617Z",
     "start_time": "2020-01-06T18:20:07.292469Z"
    }
   },
   "outputs": [],
   "source": [
    "row = MI_DF.iloc[0]"
   ]
  },
  {
   "cell_type": "code",
   "execution_count": 30,
   "metadata": {
    "ExecuteTime": {
     "end_time": "2020-01-06T18:20:10.171834Z",
     "start_time": "2020-01-06T18:20:09.053690Z"
    }
   },
   "outputs": [
    {
     "data": {
      "image/png": "[encoded data removed]",
      "text/plain": [
       "<Figure size 720x360 with 1 Axes>"
      ]
     },
     "metadata": {
      "needs_background": "light"
     },
     "output_type": "display_data"
    }
   ],
   "source": [
    "fig, ax = plt.subplots(figsize=(10,5))\n",
    "MI = row.MI-row.shuff_MI\n",
    "MI_var = row.MI_var\n",
    "\n",
    "ax.scatter(distances, MI)\n",
    "ax.fill_between(distances, MI-MI_var, MI+MI_var, alpha = 0.25, color= 'k')\n",
    "ax.set_ylim([1e-2, 3])\n",
    "ax.set_yscale('log')\n",
    "ax.set_xscale('log')"
   ]
  },
  {
   "cell_type": "code",
   "execution_count": 31,
   "metadata": {
    "ExecuteTime": {
     "end_time": "2020-01-06T18:20:10.760993Z",
     "start_time": "2020-01-06T18:20:10.175305Z"
    }
   },
   "outputs": [
    {
     "data": {
      "text/plain": [
       "[<matplotlib.lines.Line2D at 0x7f1f40fe8ef0>]"
      ]
     },
     "execution_count": 31,
     "metadata": {},
     "output_type": "execute_result"
    },
    {
     "data": {
      "image/png": "[encoded data removed]",
      "text/plain": [
       "<Figure size 432x288 with 1 Axes>"
      ]
     },
     "metadata": {
      "needs_background": "light"
     },
     "output_type": "display_data"
    }
   ],
   "source": [
    "plt.loglog(row.MI)\n",
    "plt.loglog(row.shuff_MI)"
   ]
  },
  {
   "cell_type": "code",
   "execution_count": null,
   "metadata": {},
   "outputs": [],
   "source": []
  }
 ],
 "metadata": {
  "kernelspec": {
   "display_name": "Python 3",
   "language": "python",
   "name": "python3"
  },
  "language_info": {
   "codemirror_mode": {
    "name": "ipython",
    "version": 3
   },
   "file_extension": ".py",
   "mimetype": "text/x-python",
   "name": "python",
   "nbconvert_exporter": "python",
   "pygments_lexer": "ipython3",
   "version": "3.6.7"
  }
 },
 "nbformat": 4,
 "nbformat_minor": 2
}
