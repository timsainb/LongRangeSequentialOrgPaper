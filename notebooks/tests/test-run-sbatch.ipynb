{
 "cells": [
  {
   "cell_type": "markdown",
   "metadata": {},
   "source": [
    "### Run a script on ssrde and return the results\n",
    "- create a folder on ssrde\n",
    "- (optional) copy files over\n",
    "- create script to run python command\n",
    "- check for output"
   ]
  },
  {
   "cell_type": "markdown",
   "metadata": {},
   "source": [
    "- create folder for timestamp\n",
    "- create python script\n",
    "- create bash script\n",
    "- copy script + python files to folder\n",
    "- run sbatch"
   ]
  },
  {
   "cell_type": "code",
   "execution_count": 12,
   "metadata": {
    "ExecuteTime": {
     "end_time": "2020-01-12T22:38:39.845523Z",
     "start_time": "2020-01-12T22:38:39.838303Z"
    }
   },
   "outputs": [],
   "source": [
    "import paramiko\n",
    "import os\n",
    "from datetime import datetime\n",
    "from tqdm.autonotebook import tqdm\n",
    "import tempfile"
   ]
  },
  {
   "cell_type": "code",
   "execution_count": 2,
   "metadata": {
    "ExecuteTime": {
     "end_time": "2020-01-12T22:38:17.317050Z",
     "start_time": "2020-01-12T22:38:17.310992Z"
    }
   },
   "outputs": [
    {
     "name": "stdout",
     "output_type": "stream",
     "text": [
      "12382020_143817_314882\n"
     ]
    }
   ],
   "source": [
    "def get_timestamp():\n",
    "    return datetime.now().strftime('%d%M%Y_%H%M%S_%f')\n",
    "timestamp = get_timestamp()\n",
    "print(timestamp)"
   ]
  },
  {
   "cell_type": "code",
   "execution_count": 3,
   "metadata": {
    "ExecuteTime": {
     "end_time": "2020-01-12T22:38:17.800178Z",
     "start_time": "2020-01-12T22:38:17.793406Z"
    }
   },
   "outputs": [],
   "source": [
    "def get_current_folder(ssh):\n",
    "    ssh_stdin, ssh_stdout, ssh_stderr = ssh.exec_command('pwd')\n",
    "    return ssh_stdout.read().decode(\"utf-8\").split('\\n')[0]    "
   ]
  },
  {
   "cell_type": "markdown",
   "metadata": {},
   "source": [
    "### Params"
   ]
  },
  {
   "cell_type": "code",
   "execution_count": 4,
   "metadata": {
    "ExecuteTime": {
     "end_time": "2020-01-12T22:38:18.574693Z",
     "start_time": "2020-01-12T22:38:18.570335Z"
    }
   },
   "outputs": [],
   "source": [
    "# login info\n",
    "username = 'tsainbur'\n",
    "hostname = 'ssrde.ucsd.edu'"
   ]
  },
  {
   "cell_type": "markdown",
   "metadata": {
    "ExecuteTime": {
     "end_time": "2020-01-12T21:13:46.669193Z",
     "start_time": "2020-01-12T21:13:46.664463Z"
    }
   },
   "source": [
    "### Open SSH and transport"
   ]
  },
  {
   "cell_type": "code",
   "execution_count": 5,
   "metadata": {
    "ExecuteTime": {
     "end_time": "2020-01-12T22:38:20.213909Z",
     "start_time": "2020-01-12T22:38:19.290308Z"
    }
   },
   "outputs": [],
   "source": [
    "# ssh \n",
    "ssh = paramiko.SSHClient()\n",
    "ssh.load_system_host_keys()\n",
    "ssh.connect(hostname, username=username, password = '')\n",
    "\n",
    "# open ftp \n",
    "sftp = ssh.open_sftp()"
   ]
  },
  {
   "cell_type": "markdown",
   "metadata": {
    "ExecuteTime": {
     "end_time": "2020-01-12T21:14:12.103662Z",
     "start_time": "2020-01-12T21:14:12.099094Z"
    }
   },
   "source": [
    "### create a directory for task"
   ]
  },
  {
   "cell_type": "code",
   "execution_count": 6,
   "metadata": {
    "ExecuteTime": {
     "end_time": "2020-01-12T22:38:20.811917Z",
     "start_time": "2020-01-12T22:38:20.765562Z"
    }
   },
   "outputs": [
    {
     "data": {
      "text/plain": [
       "'/home/tsainbur'"
      ]
     },
     "execution_count": 6,
     "metadata": {},
     "output_type": "execute_result"
    }
   ],
   "source": [
    "current_folder = get_current_folder(ssh)\n",
    "current_folder"
   ]
  },
  {
   "cell_type": "code",
   "execution_count": 7,
   "metadata": {
    "ExecuteTime": {
     "end_time": "2020-01-12T22:38:20.974551Z",
     "start_time": "2020-01-12T22:38:20.967338Z"
    }
   },
   "outputs": [
    {
     "data": {
      "text/plain": [
       "'/home/tsainbur/remote_tasks/12382020_143817_314882'"
      ]
     },
     "execution_count": 7,
     "metadata": {},
     "output_type": "execute_result"
    }
   ],
   "source": [
    "process_directory = os.path.join(current_folder, 'remote_tasks' , timestamp)\n",
    "process_directory"
   ]
  },
  {
   "cell_type": "code",
   "execution_count": 8,
   "metadata": {
    "ExecuteTime": {
     "end_time": "2020-01-12T22:38:21.395469Z",
     "start_time": "2020-01-12T22:38:21.379603Z"
    }
   },
   "outputs": [
    {
     "name": "stdout",
     "output_type": "stream",
     "text": [
      "12552020_125545_574710\n",
      "example_r_colab_project\n",
      "miniconda3\n",
      "Miniconda3-latest-Linux-x86_64.sh\n",
      "nohup.out\n",
      "R\n",
      "remote_tasks\n",
      "slurm-4569.out\n",
      "slurm-4570.out\n",
      "slurm-4571.out\n",
      "slurm-4572.out\n",
      "slurm-4573.out\n",
      "tensorflowtest.py\n",
      "testjob\n",
      "testnvidia\n",
      "testtensorflow\n",
      "Untitled.ipynb\n",
      "XLM\n",
      "\n"
     ]
    }
   ],
   "source": [
    "ssh_stdin, ssh_stdout, ssh_stderr = ssh.exec_command('mkdir {}'.format(process_directory))\n",
    "ssh_stdin, ssh_stdout, ssh_stderr = ssh.exec_command('ls')\n",
    "print(ssh_stdout.read().decode(\"utf-8\") )"
   ]
  },
  {
   "cell_type": "markdown",
   "metadata": {},
   "source": [
    "### copy file to remote"
   ]
  },
  {
   "cell_type": "code",
   "execution_count": 13,
   "metadata": {
    "ExecuteTime": {
     "end_time": "2020-01-12T22:38:42.951387Z",
     "start_time": "2020-01-12T22:38:42.940238Z"
    }
   },
   "outputs": [],
   "source": [
    "def copy_files_to_remote(files_dict, remote_folder):\n",
    "    \"\"\"\n",
    "    takes in files, strings as dict. e.g :\n",
    "    files_dict = {\n",
    "        'file1.py': \"print('hello world')\"\n",
    "    }\n",
    "    \"\"\"\n",
    "    # create temporary folder\n",
    "    tmpdir = tempfile.mkdtemp()\n",
    "    \n",
    "    # loop through files\n",
    "    for fname, ftext in tqdm(files_dict.items()):\n",
    "        remote_path = os.path.join(remote_folder, fname)\n",
    "    \n",
    "        # make temp file \n",
    "        local_path = os.path.join(tmpdir, fname)\n",
    "        # wrhite text to file\n",
    "        with open(local_path, \"w\") as tmp:\n",
    "            tmp.write(ftext)\n",
    "\n",
    "        # copy over file\n",
    "        sftp.put(local_path, remote_path)\n",
    "        "
   ]
  },
  {
   "cell_type": "code",
   "execution_count": 14,
   "metadata": {
    "ExecuteTime": {
     "end_time": "2020-01-12T22:38:43.097679Z",
     "start_time": "2020-01-12T22:38:43.093329Z"
    }
   },
   "outputs": [],
   "source": [
    "ssh_text = \"\"\"#!/bin/bash\n",
    "source activate ts_python3\n",
    "python -c \"print('Hello world!')\"\n",
    "\"\"\""
   ]
  },
  {
   "cell_type": "code",
   "execution_count": 15,
   "metadata": {
    "ExecuteTime": {
     "end_time": "2020-01-12T22:38:43.380028Z",
     "start_time": "2020-01-12T22:38:43.251976Z"
    }
   },
   "outputs": [
    {
     "data": {
      "application/vnd.jupyter.widget-view+json": {
       "model_id": "edda66721b7946b39ae329f07e3bd930",
       "version_major": 2,
       "version_minor": 0
      },
      "text/plain": [
       "HBox(children=(IntProgress(value=0, max=1), HTML(value='')))"
      ]
     },
     "metadata": {},
     "output_type": "display_data"
    },
    {
     "name": "stdout",
     "output_type": "stream",
     "text": [
      "\n"
     ]
    }
   ],
   "source": [
    "copy_files_to_remote(\n",
    "    {\n",
    "            \"process.sh\": ssh_text\n",
    "    },\n",
    "    process_directory\n",
    ")"
   ]
  },
  {
   "cell_type": "markdown",
   "metadata": {
    "ExecuteTime": {
     "end_time": "2020-01-12T22:00:48.879470Z",
     "start_time": "2020-01-12T22:00:48.874763Z"
    }
   },
   "source": [
    "### run remote bash"
   ]
  },
  {
   "cell_type": "code",
   "execution_count": 16,
   "metadata": {
    "ExecuteTime": {
     "end_time": "2020-01-12T22:38:44.122294Z",
     "start_time": "2020-01-12T22:38:44.115615Z"
    }
   },
   "outputs": [
    {
     "data": {
      "text/plain": [
       "'/home/tsainbur/remote_tasks/12382020_143817_314882/process.sh'"
      ]
     },
     "execution_count": 16,
     "metadata": {},
     "output_type": "execute_result"
    }
   ],
   "source": [
    "remote_bash_file = os.path.join(process_directory, \"process.sh\")\n",
    "remote_bash_file"
   ]
  },
  {
   "cell_type": "code",
   "execution_count": 17,
   "metadata": {
    "ExecuteTime": {
     "end_time": "2020-01-12T22:38:44.520747Z",
     "start_time": "2020-01-12T22:38:44.515486Z"
    }
   },
   "outputs": [],
   "source": [
    "remote_path = os.path.join(process_directory, 'test.sh')"
   ]
  },
  {
   "cell_type": "code",
   "execution_count": 18,
   "metadata": {
    "ExecuteTime": {
     "end_time": "2020-01-12T22:38:44.914081Z",
     "start_time": "2020-01-12T22:38:44.883333Z"
    }
   },
   "outputs": [
    {
     "name": "stdout",
     "output_type": "stream",
     "text": [
      "\n"
     ]
    }
   ],
   "source": [
    "# make file executable\n",
    "ssh_stdin, ssh_stdout, ssh_stderr = ssh.exec_command('chmod u+rx {}'.format(remote_bash_file))\n",
    "print(ssh_stdout.read().decode(\"utf-8\") )"
   ]
  },
  {
   "cell_type": "code",
   "execution_count": 23,
   "metadata": {
    "ExecuteTime": {
     "end_time": "2020-01-12T22:39:26.747215Z",
     "start_time": "2020-01-12T22:39:26.711003Z"
    }
   },
   "outputs": [
    {
     "name": "stdout",
     "output_type": "stream",
     "text": [
      "sbatch -p general_gpu_k40 /home/tsainbur/remote_tasks/12382020_143817_314882/process.sh\n",
      "Submitted batch job 15956\n",
      "\n"
     ]
    }
   ],
   "source": [
    "# run command in sbatch\n",
    "# execute file\n",
    "command = 'sbatch -p general_gpu_k40 {}'.format(remote_bash_file)\n",
    "ssh_stdin, ssh_stdout, ssh_stderr = ssh.exec_command(command)\n",
    "print(command)\n",
    "print(ssh_stdout.read().decode(\"utf-8\") )"
   ]
  },
  {
   "cell_type": "code",
   "execution_count": 20,
   "metadata": {
    "ExecuteTime": {
     "end_time": "2020-01-12T22:38:50.321295Z",
     "start_time": "2020-01-12T22:38:50.314640Z"
    }
   },
   "outputs": [
    {
     "data": {
      "text/plain": [
       "'/home/tsainbur/remote_tasks/12382020_143817_314882/process.sh'"
      ]
     },
     "execution_count": 20,
     "metadata": {},
     "output_type": "execute_result"
    }
   ],
   "source": [
    "remote_bash_file"
   ]
  },
  {
   "cell_type": "code",
   "execution_count": 21,
   "metadata": {
    "ExecuteTime": {
     "end_time": "2020-01-12T22:38:50.897892Z",
     "start_time": "2020-01-12T22:38:50.890524Z"
    }
   },
   "outputs": [],
   "source": [
    "kill_all = False\n",
    "if kill_all:\n",
    "    # run command in sbatch\n",
    "    # execute file\n",
    "    command = \"scancel -u 'tsainbur'\".format(remote_bash_file)\n",
    "    ssh_stdin, ssh_stdout, ssh_stderr = ssh.exec_command(command)\n",
    "    print(command)\n",
    "    print(ssh_stdout.read().decode(\"utf-8\") )"
   ]
  },
  {
   "cell_type": "code",
   "execution_count": 150,
   "metadata": {
    "ExecuteTime": {
     "end_time": "2020-01-12T22:38:05.713426Z",
     "start_time": "2020-01-12T22:38:05.706823Z"
    }
   },
   "outputs": [],
   "source": [
    "sftp.close()\n",
    "ssh.close()"
   ]
  },
  {
   "cell_type": "code",
   "execution_count": null,
   "metadata": {},
   "outputs": [],
   "source": []
  }
 ],
 "metadata": {
  "kernelspec": {
   "display_name": "Python 3",
   "language": "python",
   "name": "python3"
  },
  "language_info": {
   "codemirror_mode": {
    "name": "ipython",
    "version": 3
   },
   "file_extension": ".py",
   "mimetype": "text/x-python",
   "name": "python",
   "nbconvert_exporter": "python",
   "pygments_lexer": "ipython3",
   "version": "3.6.7"
  }
 },
 "nbformat": 4,
 "nbformat_minor": 2
}
