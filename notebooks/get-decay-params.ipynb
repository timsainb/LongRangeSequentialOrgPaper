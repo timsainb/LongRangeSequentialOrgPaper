{
 "cells": [
  {
   "cell_type": "code",
   "execution_count": 1,
   "metadata": {
    "ExecuteTime": {
     "end_time": "2020-08-18T23:51:11.741515Z",
     "start_time": "2020-08-18T23:51:11.202500Z"
    }
   },
   "outputs": [],
   "source": [
    "import pandas as pd\n",
    "from childes_mi.utils.paths import DATA_DIR, FIGURE_DIR, ensure_dir"
   ]
  },
  {
   "cell_type": "code",
   "execution_count": 3,
   "metadata": {
    "ExecuteTime": {
     "end_time": "2020-08-18T23:52:18.506199Z",
     "start_time": "2020-08-18T23:52:18.490445Z"
    }
   },
   "outputs": [],
   "source": [
    "param_df_childes = pd.read_pickle(DATA_DIR / 'param_dfs' / 'childes.pickle')\n",
    "param_df_phonbank = pd.read_pickle(DATA_DIR / 'param_dfs' / 'phonbank.pickle')\n",
    "param_df_drosophila = pd.read_pickle(DATA_DIR / 'param_dfs' / 'drosophila.pickle')\n",
    "param_df_zebrafish = pd.read_pickle(DATA_DIR / 'param_dfs' / 'zebrafish.pickle')\n",
    "param_df_epickitchens = pd.read_pickle(DATA_DIR / 'param_dfs' / 'epic_kitchens.pickle')"
   ]
  },
  {
   "cell_type": "code",
   "execution_count": 4,
   "metadata": {
    "ExecuteTime": {
     "end_time": "2020-08-18T23:52:43.895504Z",
     "start_time": "2020-08-18T23:52:43.887323Z"
    }
   },
   "outputs": [],
   "source": [
    "param_df = pd.concat([\n",
    "    param_df_childes,\n",
    "    param_df_phonbank,\n",
    "    param_df_drosophila,\n",
    "    param_df_zebrafish,\n",
    "    param_df_epickitchens,\n",
    "])"
   ]
  },
  {
   "cell_type": "code",
   "execution_count": 27,
   "metadata": {
    "ExecuteTime": {
     "end_time": "2020-08-18T23:59:01.142257Z",
     "start_time": "2020-08-18T23:59:01.132130Z"
    }
   },
   "outputs": [],
   "source": [
    "param_df['age_range'] = [i if i != 'None-None' else '-' for i in [str(row.age_low) + '-' + str(row.age_high) if row.age_high != 20 else '>3' for idx, row in param_df.iterrows()]]"
   ]
  },
  {
   "cell_type": "code",
   "execution_count": 48,
   "metadata": {
    "ExecuteTime": {
     "end_time": "2020-08-19T00:03:43.992483Z",
     "start_time": "2020-08-19T00:03:43.983736Z"
    }
   },
   "outputs": [],
   "source": [
    "param_df = param_df.fillna(value='-')"
   ]
  },
  {
   "cell_type": "code",
   "execution_count": 65,
   "metadata": {
    "ExecuteTime": {
     "end_time": "2020-08-19T04:32:49.373350Z",
     "start_time": "2020-08-19T04:32:49.324674Z"
    }
   },
   "outputs": [
    {
     "name": "stdout",
     "output_type": "stream",
     "text": [
      "['0.387±0.101', '0.645±0.113', '0.145±0.038', '-1.382±0.345', '0.168±0.003']\n",
      "['0.194±0.022', '0.382±0.034', '0.283±0.016', '-1.461±0.083', '0.057±0.001']\n",
      "['0.185±0.022', '0.418±0.033', '0.346±0.014', '-1.464±0.04', '0.04±0.0']\n",
      "['0.239±0.099', '0.753±0.105', '0.391±0.039', '-1.367±0.053', '0.027±0.0']\n",
      "['0.639±0.065', '1.082±0.047', '0.223±0.022', '-1.238±0.041', '0.008±0.0']\n",
      "['1.019±0.371', '0.857±0.137', '0.476±0.132', '-1.433±0.087', '0.001±0.0']\n",
      "['1.112±0.255', '0.908±0.1', '0.38±0.082', '-1.381±0.07', '0.001±0.0']\n",
      "['1.225±0.136', '0.877±0.054', '0.305±0.043', '-1.219±0.046', '0.002±0.0']\n",
      "['0.891±0.098', '0.794±0.032', '0.358±0.042', '-1.234±0.044', '0.005±0.0']\n",
      "['0.404±0.047', '0.463±0.021', '0.446±0.029', '-1.137±0.027', '0.016±0.0']\n",
      "['0.326±0.065', '0.391±0.045', '0.301±0.041', '-1.013±0.087', '0.035±0.002']\n",
      "['0.155±0.002', '0.014±0.0', '1.1±0.004', '-0.506±0.002', '0.04±0.001']\n",
      "['0.943±0.054', '1.33±0.051', '0.06±0.005', '-0.661±0.052', '0.0±0.001']\n",
      "['-', '-', '0.227±0.029', '-1.133±0.18', '0.023±0.003']\n"
     ]
    }
   ],
   "source": [
    "new_param_df = pd.DataFrame(\n",
    "    columns=[\"Dataset\", \"Age Range\", \"a\" , 'b', 'c', 'd', 'f'])\n",
    "for idx, row in param_df.iterrows():\n",
    "\n",
    "    val_list = [\n",
    "        \"-\" if type(v) == str else str(round(v, 3)) + \"±\" + str(round(err, 3))\n",
    "        for v, err in [\n",
    "            (row.a_value, row.a_stderr),\n",
    "            (row.b_value, row.b_stderr),\n",
    "            (row.c_value, row.c_stderr),\n",
    "            (row.d_value, row.d_stderr),\n",
    "            (row.f_value, row.f_stderr),\n",
    "        ]\n",
    "    ]\n",
    "    #print(val_list)\n",
    "\n",
    "    new_param_df.loc[len(new_param_df)] = [row.dataset, row.age_range, val_list[0], val_list[1], val_list[2], val_list[3], val_list[4]]"
   ]
  },
  {
   "cell_type": "code",
   "execution_count": 72,
   "metadata": {
    "ExecuteTime": {
     "end_time": "2020-08-19T04:36:25.718439Z",
     "start_time": "2020-08-19T04:36:25.702320Z"
    }
   },
   "outputs": [
    {
     "data": {
      "text/html": [
       "<div>\n",
       "<style scoped>\n",
       "    .dataframe tbody tr th:only-of-type {\n",
       "        vertical-align: middle;\n",
       "    }\n",
       "\n",
       "    .dataframe tbody tr th {\n",
       "        vertical-align: top;\n",
       "    }\n",
       "\n",
       "    .dataframe thead th {\n",
       "        text-align: right;\n",
       "    }\n",
       "</style>\n",
       "<table border=\"1\" class=\"dataframe\">\n",
       "  <thead>\n",
       "    <tr style=\"text-align: right;\">\n",
       "      <th></th>\n",
       "      <th>Dataset</th>\n",
       "      <th>Age Range</th>\n",
       "      <th>a</th>\n",
       "      <th>b</th>\n",
       "      <th>c</th>\n",
       "      <th>d</th>\n",
       "      <th>f</th>\n",
       "    </tr>\n",
       "  </thead>\n",
       "  <tbody>\n",
       "    <tr>\n",
       "      <th>0</th>\n",
       "      <td>childes</td>\n",
       "      <td>1-1.5</td>\n",
       "      <td>0.387±0.101</td>\n",
       "      <td>0.645±0.113</td>\n",
       "      <td>0.145±0.038</td>\n",
       "      <td>-1.382±0.345</td>\n",
       "      <td>0.168±0.003</td>\n",
       "    </tr>\n",
       "    <tr>\n",
       "      <th>1</th>\n",
       "      <td>childes</td>\n",
       "      <td>1.5-2.0</td>\n",
       "      <td>0.194±0.022</td>\n",
       "      <td>0.382±0.034</td>\n",
       "      <td>0.283±0.016</td>\n",
       "      <td>-1.461±0.083</td>\n",
       "      <td>0.057±0.001</td>\n",
       "    </tr>\n",
       "    <tr>\n",
       "      <th>2</th>\n",
       "      <td>childes</td>\n",
       "      <td>2-2.5</td>\n",
       "      <td>0.185±0.022</td>\n",
       "      <td>0.418±0.033</td>\n",
       "      <td>0.346±0.014</td>\n",
       "      <td>-1.464±0.04</td>\n",
       "      <td>0.04±0.0</td>\n",
       "    </tr>\n",
       "    <tr>\n",
       "      <th>3</th>\n",
       "      <td>childes</td>\n",
       "      <td>2.5-3.0</td>\n",
       "      <td>0.239±0.099</td>\n",
       "      <td>0.753±0.105</td>\n",
       "      <td>0.391±0.039</td>\n",
       "      <td>-1.367±0.053</td>\n",
       "      <td>0.027±0.0</td>\n",
       "    </tr>\n",
       "    <tr>\n",
       "      <th>4</th>\n",
       "      <td>childes</td>\n",
       "      <td>&gt;3</td>\n",
       "      <td>0.639±0.065</td>\n",
       "      <td>1.082±0.047</td>\n",
       "      <td>0.223±0.022</td>\n",
       "      <td>-1.238±0.041</td>\n",
       "      <td>0.008±0.0</td>\n",
       "    </tr>\n",
       "    <tr>\n",
       "      <th>11</th>\n",
       "      <td>drosophila</td>\n",
       "      <td>-</td>\n",
       "      <td>0.155±0.002</td>\n",
       "      <td>0.014±0.0</td>\n",
       "      <td>1.1±0.004</td>\n",
       "      <td>-0.506±0.002</td>\n",
       "      <td>0.04±0.001</td>\n",
       "    </tr>\n",
       "    <tr>\n",
       "      <th>13</th>\n",
       "      <td>epic_kitchens</td>\n",
       "      <td>-</td>\n",
       "      <td>-</td>\n",
       "      <td>-</td>\n",
       "      <td>0.227±0.029</td>\n",
       "      <td>-1.133±0.18</td>\n",
       "      <td>0.023±0.003</td>\n",
       "    </tr>\n",
       "    <tr>\n",
       "      <th>10</th>\n",
       "      <td>phonbank</td>\n",
       "      <td>0.5-1</td>\n",
       "      <td>0.326±0.065</td>\n",
       "      <td>0.391±0.045</td>\n",
       "      <td>0.301±0.041</td>\n",
       "      <td>-1.013±0.087</td>\n",
       "      <td>0.035±0.002</td>\n",
       "    </tr>\n",
       "    <tr>\n",
       "      <th>9</th>\n",
       "      <td>phonbank</td>\n",
       "      <td>1-1.5</td>\n",
       "      <td>0.404±0.047</td>\n",
       "      <td>0.463±0.021</td>\n",
       "      <td>0.446±0.029</td>\n",
       "      <td>-1.137±0.027</td>\n",
       "      <td>0.016±0.0</td>\n",
       "    </tr>\n",
       "    <tr>\n",
       "      <th>8</th>\n",
       "      <td>phonbank</td>\n",
       "      <td>1.5-2</td>\n",
       "      <td>0.891±0.098</td>\n",
       "      <td>0.794±0.032</td>\n",
       "      <td>0.358±0.042</td>\n",
       "      <td>-1.234±0.044</td>\n",
       "      <td>0.005±0.0</td>\n",
       "    </tr>\n",
       "    <tr>\n",
       "      <th>7</th>\n",
       "      <td>phonbank</td>\n",
       "      <td>2-2.5</td>\n",
       "      <td>1.225±0.136</td>\n",
       "      <td>0.877±0.054</td>\n",
       "      <td>0.305±0.043</td>\n",
       "      <td>-1.219±0.046</td>\n",
       "      <td>0.002±0.0</td>\n",
       "    </tr>\n",
       "    <tr>\n",
       "      <th>6</th>\n",
       "      <td>phonbank</td>\n",
       "      <td>2.5-3</td>\n",
       "      <td>1.112±0.255</td>\n",
       "      <td>0.908±0.1</td>\n",
       "      <td>0.38±0.082</td>\n",
       "      <td>-1.381±0.07</td>\n",
       "      <td>0.001±0.0</td>\n",
       "    </tr>\n",
       "    <tr>\n",
       "      <th>5</th>\n",
       "      <td>phonbank</td>\n",
       "      <td>&gt;3</td>\n",
       "      <td>1.019±0.371</td>\n",
       "      <td>0.857±0.137</td>\n",
       "      <td>0.476±0.132</td>\n",
       "      <td>-1.433±0.087</td>\n",
       "      <td>0.001±0.0</td>\n",
       "    </tr>\n",
       "    <tr>\n",
       "      <th>12</th>\n",
       "      <td>zebrafish</td>\n",
       "      <td>-</td>\n",
       "      <td>0.943±0.054</td>\n",
       "      <td>1.33±0.051</td>\n",
       "      <td>0.06±0.005</td>\n",
       "      <td>-0.661±0.052</td>\n",
       "      <td>0.0±0.001</td>\n",
       "    </tr>\n",
       "  </tbody>\n",
       "</table>\n",
       "</div>"
      ],
      "text/plain": [
       "          Dataset Age Range            a            b            c  \\\n",
       "0         childes     1-1.5  0.387±0.101  0.645±0.113  0.145±0.038   \n",
       "1         childes   1.5-2.0  0.194±0.022  0.382±0.034  0.283±0.016   \n",
       "2         childes     2-2.5  0.185±0.022  0.418±0.033  0.346±0.014   \n",
       "3         childes   2.5-3.0  0.239±0.099  0.753±0.105  0.391±0.039   \n",
       "4         childes        >3  0.639±0.065  1.082±0.047  0.223±0.022   \n",
       "11     drosophila         -  0.155±0.002    0.014±0.0    1.1±0.004   \n",
       "13  epic_kitchens         -            -            -  0.227±0.029   \n",
       "10       phonbank     0.5-1  0.326±0.065  0.391±0.045  0.301±0.041   \n",
       "9        phonbank     1-1.5  0.404±0.047  0.463±0.021  0.446±0.029   \n",
       "8        phonbank     1.5-2  0.891±0.098  0.794±0.032  0.358±0.042   \n",
       "7        phonbank     2-2.5  1.225±0.136  0.877±0.054  0.305±0.043   \n",
       "6        phonbank     2.5-3  1.112±0.255    0.908±0.1   0.38±0.082   \n",
       "5        phonbank        >3  1.019±0.371  0.857±0.137  0.476±0.132   \n",
       "12      zebrafish         -  0.943±0.054   1.33±0.051   0.06±0.005   \n",
       "\n",
       "               d            f  \n",
       "0   -1.382±0.345  0.168±0.003  \n",
       "1   -1.461±0.083  0.057±0.001  \n",
       "2    -1.464±0.04     0.04±0.0  \n",
       "3   -1.367±0.053    0.027±0.0  \n",
       "4   -1.238±0.041    0.008±0.0  \n",
       "11  -0.506±0.002   0.04±0.001  \n",
       "13   -1.133±0.18  0.023±0.003  \n",
       "10  -1.013±0.087  0.035±0.002  \n",
       "9   -1.137±0.027    0.016±0.0  \n",
       "8   -1.234±0.044    0.005±0.0  \n",
       "7   -1.219±0.046    0.002±0.0  \n",
       "6    -1.381±0.07    0.001±0.0  \n",
       "5   -1.433±0.087    0.001±0.0  \n",
       "12  -0.661±0.052    0.0±0.001  "
      ]
     },
     "execution_count": 72,
     "metadata": {},
     "output_type": "execute_result"
    }
   ],
   "source": [
    "new_param_df = new_param_df.sort_values(by=['Dataset', 'Age Range'])\n",
    "new_param_df"
   ]
  },
  {
   "cell_type": "code",
   "execution_count": 76,
   "metadata": {
    "ExecuteTime": {
     "end_time": "2020-08-19T04:42:27.672795Z",
     "start_time": "2020-08-19T04:42:27.661404Z"
    }
   },
   "outputs": [
    {
     "name": "stdout",
     "output_type": "stream",
     "text": [
      "\\begin{tabular}{lllllll}\n",
      "\\toprule\n",
      "       Dataset & Age Range &            a &            b &            c &             d &            f \\\\\n",
      "\\midrule\n",
      "       childes &     1-1.5 &  0.387$\\pm$0.101 &  0.645$\\pm$0.113 &  0.145$\\pm$0.038 &  -1.382$\\pm$0.345 &  0.168$\\pm$0.003 \\\\\n",
      "       childes &   1.5-2.0 &  0.194$\\pm$0.022 &  0.382$\\pm$0.034 &  0.283$\\pm$0.016 &  -1.461$\\pm$0.083 &  0.057$\\pm$0.001 \\\\\n",
      "       childes &     2-2.5 &  0.185$\\pm$0.022 &  0.418$\\pm$0.033 &  0.346$\\pm$0.014 &   -1.464$\\pm$0.04 &     0.04$\\pm$0.0 \\\\\n",
      "       childes &   2.5-3.0 &  0.239$\\pm$0.099 &  0.753$\\pm$0.105 &  0.391$\\pm$0.039 &  -1.367$\\pm$0.053 &    0.027$\\pm$0.0 \\\\\n",
      "       childes &        >3 &  0.639$\\pm$0.065 &  1.082$\\pm$0.047 &  0.223$\\pm$0.022 &  -1.238$\\pm$0.041 &    0.008$\\pm$0.0 \\\\\n",
      "    drosophila &         - &  0.155$\\pm$0.002 &    0.014$\\pm$0.0 &    1.1$\\pm$0.004 &  -0.506$\\pm$0.002 &   0.04$\\pm$0.001 \\\\\n",
      " epic\\_kitchens &         - &            - &            - &  0.227$\\pm$0.029 &   -1.133$\\pm$0.18 &  0.023$\\pm$0.003 \\\\\n",
      "      phonbank &     0.5-1 &  0.326$\\pm$0.065 &  0.391$\\pm$0.045 &  0.301$\\pm$0.041 &  -1.013$\\pm$0.087 &  0.035$\\pm$0.002 \\\\\n",
      "      phonbank &     1-1.5 &  0.404$\\pm$0.047 &  0.463$\\pm$0.021 &  0.446$\\pm$0.029 &  -1.137$\\pm$0.027 &    0.016$\\pm$0.0 \\\\\n",
      "      phonbank &     1.5-2 &  0.891$\\pm$0.098 &  0.794$\\pm$0.032 &  0.358$\\pm$0.042 &  -1.234$\\pm$0.044 &    0.005$\\pm$0.0 \\\\\n",
      "      phonbank &     2-2.5 &  1.225$\\pm$0.136 &  0.877$\\pm$0.054 &  0.305$\\pm$0.043 &  -1.219$\\pm$0.046 &    0.002$\\pm$0.0 \\\\\n",
      "      phonbank &     2.5-3 &  1.112$\\pm$0.255 &    0.908$\\pm$0.1 &   0.38$\\pm$0.082 &   -1.381$\\pm$0.07 &    0.001$\\pm$0.0 \\\\\n",
      "      phonbank &        >3 &  1.019$\\pm$0.371 &  0.857$\\pm$0.137 &  0.476$\\pm$0.132 &  -1.433$\\pm$0.087 &    0.001$\\pm$0.0 \\\\\n",
      "     zebrafish &         - &  0.943$\\pm$0.054 &   1.33$\\pm$0.051 &   0.06$\\pm$0.005 &  -0.661$\\pm$0.052 &    0.0$\\pm$0.001 \\\\\n",
      "\\bottomrule\n",
      "\\end{tabular}\n",
      "\n"
     ]
    }
   ],
   "source": [
    "print(new_param_df.to_latex(index =False).replace('±', '$\\pm$'))"
   ]
  },
  {
   "cell_type": "code",
   "execution_count": 62,
   "metadata": {
    "ExecuteTime": {
     "end_time": "2020-08-19T04:31:40.424081Z",
     "start_time": "2020-08-19T04:31:40.418722Z"
    }
   },
   "outputs": [],
   "source": [
    "for v, err in [(row.a_value, row.a_stderr)]:\n",
    "    if type(v) == str:\n",
    "        '-'  \n",
    "    else:\n",
    "        str(round(v,3)) + '±' + str(round(err,3))"
   ]
  },
  {
   "cell_type": "code",
   "execution_count": 57,
   "metadata": {
    "ExecuteTime": {
     "end_time": "2020-08-19T00:04:44.167518Z",
     "start_time": "2020-08-19T00:04:44.155157Z"
    }
   },
   "outputs": [
    {
     "data": {
      "text/html": [
       "<div>\n",
       "<style scoped>\n",
       "    .dataframe tbody tr th:only-of-type {\n",
       "        vertical-align: middle;\n",
       "    }\n",
       "\n",
       "    .dataframe tbody tr th {\n",
       "        vertical-align: top;\n",
       "    }\n",
       "\n",
       "    .dataframe thead th {\n",
       "        text-align: right;\n",
       "    }\n",
       "</style>\n",
       "<table border=\"1\" class=\"dataframe\">\n",
       "  <thead>\n",
       "    <tr style=\"text-align: right;\">\n",
       "      <th></th>\n",
       "      <th>Dataset</th>\n",
       "      <th>Age Range</th>\n",
       "      <th>a</th>\n",
       "    </tr>\n",
       "  </thead>\n",
       "  <tbody>\n",
       "    <tr>\n",
       "      <th>0</th>\n",
       "      <td>childes</td>\n",
       "      <td>1-1.5</td>\n",
       "      <td>0.387±0.101</td>\n",
       "    </tr>\n",
       "    <tr>\n",
       "      <th>1</th>\n",
       "      <td>childes</td>\n",
       "      <td>1.5-2.0</td>\n",
       "      <td>0.194±0.022</td>\n",
       "    </tr>\n",
       "    <tr>\n",
       "      <th>2</th>\n",
       "      <td>childes</td>\n",
       "      <td>2-2.5</td>\n",
       "      <td>0.185±0.022</td>\n",
       "    </tr>\n",
       "    <tr>\n",
       "      <th>3</th>\n",
       "      <td>childes</td>\n",
       "      <td>2.5-3.0</td>\n",
       "      <td>0.239±0.099</td>\n",
       "    </tr>\n",
       "    <tr>\n",
       "      <th>4</th>\n",
       "      <td>childes</td>\n",
       "      <td>&gt;3</td>\n",
       "      <td>0.639±0.065</td>\n",
       "    </tr>\n",
       "    <tr>\n",
       "      <th>5</th>\n",
       "      <td>phonbank</td>\n",
       "      <td>&gt;3</td>\n",
       "      <td>1.019±0.371</td>\n",
       "    </tr>\n",
       "    <tr>\n",
       "      <th>6</th>\n",
       "      <td>phonbank</td>\n",
       "      <td>2.5-3</td>\n",
       "      <td>1.112±0.255</td>\n",
       "    </tr>\n",
       "    <tr>\n",
       "      <th>7</th>\n",
       "      <td>phonbank</td>\n",
       "      <td>2-2.5</td>\n",
       "      <td>1.225±0.136</td>\n",
       "    </tr>\n",
       "    <tr>\n",
       "      <th>8</th>\n",
       "      <td>phonbank</td>\n",
       "      <td>1.5-2</td>\n",
       "      <td>0.891±0.098</td>\n",
       "    </tr>\n",
       "    <tr>\n",
       "      <th>9</th>\n",
       "      <td>phonbank</td>\n",
       "      <td>1-1.5</td>\n",
       "      <td>0.404±0.047</td>\n",
       "    </tr>\n",
       "    <tr>\n",
       "      <th>10</th>\n",
       "      <td>phonbank</td>\n",
       "      <td>0.5-1</td>\n",
       "      <td>0.326±0.065</td>\n",
       "    </tr>\n",
       "    <tr>\n",
       "      <th>11</th>\n",
       "      <td>drosophila</td>\n",
       "      <td>-</td>\n",
       "      <td>0.155±0.002</td>\n",
       "    </tr>\n",
       "    <tr>\n",
       "      <th>12</th>\n",
       "      <td>zebrafish</td>\n",
       "      <td>-</td>\n",
       "      <td>0.943±0.054</td>\n",
       "    </tr>\n",
       "    <tr>\n",
       "      <th>13</th>\n",
       "      <td>epic_kitchens</td>\n",
       "      <td>-</td>\n",
       "      <td>-</td>\n",
       "    </tr>\n",
       "  </tbody>\n",
       "</table>\n",
       "</div>"
      ],
      "text/plain": [
       "          Dataset Age Range            a\n",
       "0         childes     1-1.5  0.387±0.101\n",
       "1         childes   1.5-2.0  0.194±0.022\n",
       "2         childes     2-2.5  0.185±0.022\n",
       "3         childes   2.5-3.0  0.239±0.099\n",
       "4         childes        >3  0.639±0.065\n",
       "5        phonbank        >3  1.019±0.371\n",
       "6        phonbank     2.5-3  1.112±0.255\n",
       "7        phonbank     2-2.5  1.225±0.136\n",
       "8        phonbank     1.5-2  0.891±0.098\n",
       "9        phonbank     1-1.5  0.404±0.047\n",
       "10       phonbank     0.5-1  0.326±0.065\n",
       "11     drosophila         -  0.155±0.002\n",
       "12      zebrafish         -  0.943±0.054\n",
       "13  epic_kitchens         -            -"
      ]
     },
     "execution_count": 57,
     "metadata": {},
     "output_type": "execute_result"
    }
   ],
   "source": [
    "new_param_df"
   ]
  },
  {
   "cell_type": "code",
   "execution_count": 38,
   "metadata": {
    "ExecuteTime": {
     "end_time": "2020-08-19T00:02:00.392804Z",
     "start_time": "2020-08-19T00:02:00.354420Z"
    }
   },
   "outputs": [
    {
     "data": {
      "text/plain": [
       "'\\\\begin{tabular}{llll}\\n\\\\toprule\\n{} &        Dataset & Age Range &            a \\\\\\\\\\n\\\\midrule\\n0  &        childes &     1-1.5 &  0.387±0.101 \\\\\\\\\\n1  &        childes &   1.5-2.0 &  0.194±0.022 \\\\\\\\\\n2  &        childes &     2-2.5 &  0.185±0.022 \\\\\\\\\\n3  &        childes &   2.5-3.0 &  0.239±0.099 \\\\\\\\\\n4  &        childes &        >3 &  0.639±0.065 \\\\\\\\\\n5  &       phonbank &        >3 &  1.019±0.371 \\\\\\\\\\n6  &       phonbank &     2.5-3 &  1.112±0.255 \\\\\\\\\\n7  &       phonbank &     2-2.5 &  1.225±0.136 \\\\\\\\\\n8  &       phonbank &     1.5-2 &  0.891±0.098 \\\\\\\\\\n9  &       phonbank &     1-1.5 &  0.404±0.047 \\\\\\\\\\n10 &       phonbank &     0.5-1 &  0.326±0.065 \\\\\\\\\\n11 &     drosophila &         - &  0.155±0.002 \\\\\\\\\\n12 &      zebrafish &         - &  0.943±0.054 \\\\\\\\\\n13 &  epic\\\\_kitchens &         - &      nan±nan \\\\\\\\\\n\\\\bottomrule\\n\\\\end{tabular}\\n'"
      ]
     },
     "execution_count": 38,
     "metadata": {},
     "output_type": "execute_result"
    }
   ],
   "source": [
    "new_param_df.to_latex()"
   ]
  },
  {
   "cell_type": "code",
   "execution_count": null,
   "metadata": {},
   "outputs": [],
   "source": []
  }
 ],
 "metadata": {
  "kernelspec": {
   "display_name": "Python 3",
   "language": "python",
   "name": "python3"
  },
  "language_info": {
   "codemirror_mode": {
    "name": "ipython",
    "version": 3
   },
   "file_extension": ".py",
   "mimetype": "text/x-python",
   "name": "python",
   "nbconvert_exporter": "python",
   "pygments_lexer": "ipython3",
   "version": "3.6.7"
  }
 },
 "nbformat": 4,
 "nbformat_minor": 2
}
