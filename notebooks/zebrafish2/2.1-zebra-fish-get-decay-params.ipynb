{
 "cells": [
  {
   "cell_type": "code",
   "execution_count": 1,
   "metadata": {
    "ExecuteTime": {
     "end_time": "2020-08-18T23:44:32.863233Z",
     "start_time": "2020-08-18T23:44:32.844630Z"
    }
   },
   "outputs": [],
   "source": [
    "%load_ext autoreload\n",
    "%autoreload 2"
   ]
  },
  {
   "cell_type": "code",
   "execution_count": 2,
   "metadata": {
    "ExecuteTime": {
     "end_time": "2020-08-18T23:44:33.364316Z",
     "start_time": "2020-08-18T23:44:32.969174Z"
    }
   },
   "outputs": [],
   "source": [
    "from childes_mi.utils.paths import DATA_DIR, FIGURE_DIR\n",
    "from childes_mi.utils.general import flatten,save_fig"
   ]
  },
  {
   "cell_type": "code",
   "execution_count": 3,
   "metadata": {
    "ExecuteTime": {
     "end_time": "2020-08-18T23:44:34.180362Z",
     "start_time": "2020-08-18T23:44:33.365821Z"
    }
   },
   "outputs": [],
   "source": [
    "from childes_mi.information_theory import model_fitting as mf"
   ]
  },
  {
   "cell_type": "code",
   "execution_count": 4,
   "metadata": {
    "ExecuteTime": {
     "end_time": "2020-08-18T23:44:34.241150Z",
     "start_time": "2020-08-18T23:44:34.181717Z"
    }
   },
   "outputs": [
    {
     "name": "stderr",
     "output_type": "stream",
     "text": [
      "/mnt/cube/tsainbur/conda_envs/tpy3/lib/python3.6/site-packages/tqdm/autonotebook/__init__.py:14: TqdmExperimentalWarning: Using `tqdm.autonotebook.tqdm` in notebook mode. Use `tqdm.tqdm` instead to force console mode (e.g. in jupyter console)\n",
      "  \" (e.g. in jupyter console)\", TqdmExperimentalWarning)\n"
     ]
    }
   ],
   "source": [
    "import pandas as pd\n",
    "import numpy as np\n",
    "import matplotlib.pyplot as plt\n",
    "from tqdm.autonotebook import tqdm"
   ]
  },
  {
   "cell_type": "code",
   "execution_count": 5,
   "metadata": {
    "ExecuteTime": {
     "end_time": "2020-08-18T23:44:34.289350Z",
     "start_time": "2020-08-18T23:44:34.243494Z"
    }
   },
   "outputs": [],
   "source": [
    "MI_DF = pd.read_pickle(DATA_DIR/'mi/zebra_fish.pickle')"
   ]
  },
  {
   "cell_type": "code",
   "execution_count": 6,
   "metadata": {
    "ExecuteTime": {
     "end_time": "2020-08-18T23:44:34.324425Z",
     "start_time": "2020-08-18T23:44:34.291236Z"
    }
   },
   "outputs": [
    {
     "data": {
      "text/html": [
       "<div>\n",
       "<style scoped>\n",
       "    .dataframe tbody tr th:only-of-type {\n",
       "        vertical-align: middle;\n",
       "    }\n",
       "\n",
       "    .dataframe tbody tr th {\n",
       "        vertical-align: top;\n",
       "    }\n",
       "\n",
       "    .dataframe thead th {\n",
       "        text-align: right;\n",
       "    }\n",
       "</style>\n",
       "<table border=\"1\" class=\"dataframe\">\n",
       "  <thead>\n",
       "    <tr style=\"text-align: right;\">\n",
       "      <th></th>\n",
       "      <th>MI</th>\n",
       "      <th>MI_var</th>\n",
       "      <th>shuff_MI</th>\n",
       "      <th>shuff_MI_var</th>\n",
       "      <th>distances</th>\n",
       "    </tr>\n",
       "  </thead>\n",
       "  <tbody>\n",
       "    <tr>\n",
       "      <th>0</th>\n",
       "      <td>[11.122280319221097, 10.9123149216584, 10.8559...</td>\n",
       "      <td>[0.005183830214899432, 0.005129859794221152, 0...</td>\n",
       "      <td>[10.81088775976863, 10.810825422897274, 10.810...</td>\n",
       "      <td>[0.005154154221751049, 0.005153325647313444, 0...</td>\n",
       "      <td>[1, 2, 3, 4, 5, 6, 7, 8, 9, 10, 11, 12, 13, 14...</td>\n",
       "    </tr>\n",
       "  </tbody>\n",
       "</table>\n",
       "</div>"
      ],
      "text/plain": [
       "                                                  MI  \\\n",
       "0  [11.122280319221097, 10.9123149216584, 10.8559...   \n",
       "\n",
       "                                              MI_var  \\\n",
       "0  [0.005183830214899432, 0.005129859794221152, 0...   \n",
       "\n",
       "                                            shuff_MI  \\\n",
       "0  [10.81088775976863, 10.810825422897274, 10.810...   \n",
       "\n",
       "                                        shuff_MI_var  \\\n",
       "0  [0.005154154221751049, 0.005153325647313444, 0...   \n",
       "\n",
       "                                           distances  \n",
       "0  [1, 2, 3, 4, 5, 6, 7, 8, 9, 10, 11, 12, 13, 14...  "
      ]
     },
     "execution_count": 6,
     "metadata": {},
     "output_type": "execute_result"
    }
   ],
   "source": [
    "MI_DF[:3]"
   ]
  },
  {
   "cell_type": "code",
   "execution_count": 7,
   "metadata": {
    "ExecuteTime": {
     "end_time": "2020-08-18T23:44:34.346278Z",
     "start_time": "2020-08-18T23:44:34.325344Z"
    }
   },
   "outputs": [],
   "source": [
    "MI_DF = MI_DF.assign(**{i:np.nan for i in ['exp_results', 'pow_results', 'concat_results',\n",
    "     'R2_exp', 'R2_concat', 'R2_power', 'AICc_exp',\n",
    "     'AICc_concat', 'AICc_power', 'bestfitmodel', 'curvature', 'min_peak']})\n",
    "MI_DF['curvature'] = MI_DF['curvature'].astype(object)"
   ]
  },
  {
   "cell_type": "code",
   "execution_count": 8,
   "metadata": {
    "ExecuteTime": {
     "end_time": "2020-08-18T23:44:34.747260Z",
     "start_time": "2020-08-18T23:44:34.349764Z"
    }
   },
   "outputs": [
    {
     "data": {
      "application/vnd.jupyter.widget-view+json": {
       "model_id": "9364cc8522214b99bfa2fe38d1f0c3d1",
       "version_major": 2,
       "version_minor": 0
      },
      "text/plain": [
       "HBox(children=(IntProgress(value=0, max=1), HTML(value='')))"
      ]
     },
     "metadata": {},
     "output_type": "display_data"
    },
    {
     "name": "stdout",
     "output_type": "stream",
     "text": [
      "\n"
     ]
    }
   ],
   "source": [
    "n = 100 # max distance for computation\n",
    "for idx, row in tqdm(MI_DF.iterrows(), total=len(MI_DF)):\n",
    "    # get signal\n",
    "    sig = np.array(row.MI-row.shuff_MI)\n",
    "    distances = row.distances\n",
    "    sig = sig\n",
    "    \n",
    "    # fit models\n",
    "    results_power, results_exp, results_pow_exp, best_fit_model = mf.fit_models(distances, sig)\n",
    "    \n",
    "    # get fit results\n",
    "    R2_exp, R2_concat, R2_power, AICc_exp, \\\n",
    "        AICc_pow, AICc_concat = mf.fit_results(sig, distances, \n",
    "                                              results_exp, results_power,\n",
    "                                              results_pow_exp)\n",
    "    \n",
    "    \n",
    "    \n",
    "    \n",
    "    # get model y\n",
    "    distances_mod = np.logspace(0,np.log10(n), base=10, num=1000)\n",
    "    if best_fit_model == 'pow_exp':\n",
    "        y_model = mf.get_y(mf.pow_exp_decay, results_pow_exp, distances_mod)\n",
    "    elif best_fit_model == 'exp':\n",
    "        y_model = mf.get_y(mf.exp_decay, results_exp, distances_mod)\n",
    "    elif best_fit_model == 'pow':\n",
    "        y_model = mf.get_y(mf.powerlaw_decay, results_power, distances_mod)\n",
    "    \n",
    "    # get curvature of model_y\n",
    "    curvature_model = mf.curvature(np.log(y_model))\n",
    "    \n",
    "    # if the best fit model is pow_exp, then grab the min peak\n",
    "    if best_fit_model == 'pow_exp':\n",
    "        # get peaks of curvature\n",
    "        peaks = np.where((\n",
    "            (curvature_model[:-1] < curvature_model[1:])[1:] & (curvature_model[1:] < curvature_model[:-1])[:-1]\n",
    "        ))\n",
    "        min_peak = peaks[0][0]\n",
    "    else:\n",
    "        min_peak = np.nan\n",
    "\n",
    "    # get save model fit results to MI_DF\n",
    "    MI_DF.loc[idx, np.array(['exp_results', 'pow_results', 'concat_results',\n",
    "                         'R2_exp', 'R2_concat', 'R2_power', 'AICc_exp',\n",
    "                         'AICc_concat', 'AICc_power', 'bestfitmodel', 'curvature', 'min_peak'])] = [\n",
    "        results_exp, results_power, results_pow_exp,\n",
    "        R2_exp, R2_concat, R2_power, AICc_exp,\n",
    "        AICc_concat, AICc_pow, best_fit_model,\n",
    "        curvature_model, min_peak\n",
    "    ]\n"
   ]
  },
  {
   "cell_type": "code",
   "execution_count": 9,
   "metadata": {
    "ExecuteTime": {
     "end_time": "2020-08-18T23:44:34.783842Z",
     "start_time": "2020-08-18T23:44:34.748736Z"
    }
   },
   "outputs": [
    {
     "data": {
      "text/html": [
       "<div>\n",
       "<style scoped>\n",
       "    .dataframe tbody tr th:only-of-type {\n",
       "        vertical-align: middle;\n",
       "    }\n",
       "\n",
       "    .dataframe tbody tr th {\n",
       "        vertical-align: top;\n",
       "    }\n",
       "\n",
       "    .dataframe thead th {\n",
       "        text-align: right;\n",
       "    }\n",
       "</style>\n",
       "<table border=\"1\" class=\"dataframe\">\n",
       "  <thead>\n",
       "    <tr style=\"text-align: right;\">\n",
       "      <th></th>\n",
       "      <th>MI</th>\n",
       "      <th>MI_var</th>\n",
       "      <th>shuff_MI</th>\n",
       "      <th>shuff_MI_var</th>\n",
       "      <th>distances</th>\n",
       "      <th>exp_results</th>\n",
       "      <th>pow_results</th>\n",
       "      <th>concat_results</th>\n",
       "      <th>R2_exp</th>\n",
       "      <th>R2_concat</th>\n",
       "      <th>R2_power</th>\n",
       "      <th>AICc_exp</th>\n",
       "      <th>AICc_concat</th>\n",
       "      <th>AICc_power</th>\n",
       "      <th>bestfitmodel</th>\n",
       "      <th>curvature</th>\n",
       "      <th>min_peak</th>\n",
       "    </tr>\n",
       "  </thead>\n",
       "  <tbody>\n",
       "    <tr>\n",
       "      <th>0</th>\n",
       "      <td>[11.122280319221097, 10.9123149216584, 10.8559...</td>\n",
       "      <td>[0.005183830214899432, 0.005129859794221152, 0...</td>\n",
       "      <td>[10.81088775976863, 10.810825422897274, 10.810...</td>\n",
       "      <td>[0.005154154221751049, 0.005153325647313444, 0...</td>\n",
       "      <td>[1, 2, 3, 4, 5, 6, 7, 8, 9, 10, 11, 12, 13, 14...</td>\n",
       "      <td>&lt;lmfit.minimizer.MinimizerResult object at 0x7...</td>\n",
       "      <td>&lt;lmfit.minimizer.MinimizerResult object at 0x7...</td>\n",
       "      <td>&lt;lmfit.minimizer.MinimizerResult object at 0x7...</td>\n",
       "      <td>0.94962</td>\n",
       "      <td>0.997502</td>\n",
       "      <td>0.989386</td>\n",
       "      <td>-402.262413</td>\n",
       "      <td>-698.281942</td>\n",
       "      <td>-558.006665</td>\n",
       "      <td>pow_exp</td>\n",
       "      <td>[-1.0657815613959757e-05, -1.6001823709547722e...</td>\n",
       "      <td>71.0</td>\n",
       "    </tr>\n",
       "  </tbody>\n",
       "</table>\n",
       "</div>"
      ],
      "text/plain": [
       "                                                  MI  \\\n",
       "0  [11.122280319221097, 10.9123149216584, 10.8559...   \n",
       "\n",
       "                                              MI_var  \\\n",
       "0  [0.005183830214899432, 0.005129859794221152, 0...   \n",
       "\n",
       "                                            shuff_MI  \\\n",
       "0  [10.81088775976863, 10.810825422897274, 10.810...   \n",
       "\n",
       "                                        shuff_MI_var  \\\n",
       "0  [0.005154154221751049, 0.005153325647313444, 0...   \n",
       "\n",
       "                                           distances  \\\n",
       "0  [1, 2, 3, 4, 5, 6, 7, 8, 9, 10, 11, 12, 13, 14...   \n",
       "\n",
       "                                         exp_results  \\\n",
       "0  <lmfit.minimizer.MinimizerResult object at 0x7...   \n",
       "\n",
       "                                         pow_results  \\\n",
       "0  <lmfit.minimizer.MinimizerResult object at 0x7...   \n",
       "\n",
       "                                      concat_results   R2_exp  R2_concat  \\\n",
       "0  <lmfit.minimizer.MinimizerResult object at 0x7...  0.94962   0.997502   \n",
       "\n",
       "   R2_power    AICc_exp  AICc_concat  AICc_power bestfitmodel  \\\n",
       "0  0.989386 -402.262413  -698.281942 -558.006665      pow_exp   \n",
       "\n",
       "                                           curvature  min_peak  \n",
       "0  [-1.0657815613959757e-05, -1.6001823709547722e...      71.0  "
      ]
     },
     "execution_count": 9,
     "metadata": {},
     "output_type": "execute_result"
    }
   ],
   "source": [
    "MI_DF[:3]"
   ]
  },
  {
   "cell_type": "code",
   "execution_count": 10,
   "metadata": {
    "ExecuteTime": {
     "end_time": "2020-08-18T23:45:06.119136Z",
     "start_time": "2020-08-18T23:45:06.097708Z"
    }
   },
   "outputs": [],
   "source": [
    "row = MI_DF.iloc[0]"
   ]
  },
  {
   "cell_type": "code",
   "execution_count": 11,
   "metadata": {
    "ExecuteTime": {
     "end_time": "2020-08-18T23:45:06.298446Z",
     "start_time": "2020-08-18T23:45:06.263020Z"
    }
   },
   "outputs": [
    {
     "data": {
      "text/html": [
       "<div>\n",
       "<style scoped>\n",
       "    .dataframe tbody tr th:only-of-type {\n",
       "        vertical-align: middle;\n",
       "    }\n",
       "\n",
       "    .dataframe tbody tr th {\n",
       "        vertical-align: top;\n",
       "    }\n",
       "\n",
       "    .dataframe thead th {\n",
       "        text-align: right;\n",
       "    }\n",
       "</style>\n",
       "<table border=\"1\" class=\"dataframe\">\n",
       "  <thead>\n",
       "    <tr style=\"text-align: right;\">\n",
       "      <th></th>\n",
       "      <th>dataset</th>\n",
       "      <th>age_low</th>\n",
       "      <th>age_high</th>\n",
       "      <th>a_value</th>\n",
       "      <th>a_stderr</th>\n",
       "      <th>b_value</th>\n",
       "      <th>b_stderr</th>\n",
       "      <th>c_value</th>\n",
       "      <th>c_stderr</th>\n",
       "      <th>d_value</th>\n",
       "      <th>d_stderr</th>\n",
       "      <th>f_value</th>\n",
       "      <th>f_stderr</th>\n",
       "    </tr>\n",
       "  </thead>\n",
       "  <tbody>\n",
       "    <tr>\n",
       "      <th>0</th>\n",
       "      <td>zebrafish</td>\n",
       "      <td>None</td>\n",
       "      <td>None</td>\n",
       "      <td>0.942815</td>\n",
       "      <td>0.053531</td>\n",
       "      <td>1.329739</td>\n",
       "      <td>0.050853</td>\n",
       "      <td>0.05977</td>\n",
       "      <td>0.005432</td>\n",
       "      <td>-0.660837</td>\n",
       "      <td>0.052488</td>\n",
       "      <td>0.000334</td>\n",
       "      <td>0.000512</td>\n",
       "    </tr>\n",
       "  </tbody>\n",
       "</table>\n",
       "</div>"
      ],
      "text/plain": [
       "     dataset age_low age_high   a_value  a_stderr   b_value  b_stderr  \\\n",
       "0  zebrafish    None     None  0.942815  0.053531  1.329739  0.050853   \n",
       "\n",
       "   c_value  c_stderr   d_value  d_stderr   f_value  f_stderr  \n",
       "0  0.05977  0.005432 -0.660837  0.052488  0.000334  0.000512  "
      ]
     },
     "execution_count": 11,
     "metadata": {},
     "output_type": "execute_result"
    }
   ],
   "source": [
    "param_df = pd.DataFrame(\n",
    "    columns=[\n",
    "        \"dataset\", \n",
    "        \"age_low\", \n",
    "        \"age_high\", \n",
    "        \"a_value\", \n",
    "        \"a_stderr\",\n",
    "        \"b_value\", \n",
    "        \"b_stderr\",\n",
    "        \"c_value\", \n",
    "        \"c_stderr\",\n",
    "        \"d_value\", \n",
    "        \"d_stderr\",\n",
    "        \"f_value\", \n",
    "        \"f_stderr\"\n",
    "    ]\n",
    ")\n",
    "param_vals = {}\n",
    "param_stderrs = {}\n",
    "for param in row.concat_results.params:\n",
    "    param_vals[param] = row.concat_results.params[param].value\n",
    "    param_stderrs[param] = row.concat_results.params[param].stderr\n",
    "param_df.loc[len(param_df)] = [\n",
    "    'zebrafish',\n",
    "    None,\n",
    "    None,\n",
    "    param_vals[\"e_init\"],\n",
    "    param_stderrs[\"e_init\"],\n",
    "    param_vals[\"e_decay_const\"],\n",
    "    param_stderrs[\"e_decay_const\"],\n",
    "    param_vals[\"p_init\"],\n",
    "    param_stderrs[\"p_init\"],\n",
    "    param_vals[\"p_decay_const\"],\n",
    "    param_stderrs[\"p_decay_const\"],\n",
    "    param_vals[\"intercept\"],\n",
    "    param_stderrs[\"intercept\"],\n",
    "\n",
    "]\n",
    "param_df"
   ]
  },
  {
   "cell_type": "code",
   "execution_count": 12,
   "metadata": {
    "ExecuteTime": {
     "end_time": "2020-08-18T23:45:10.794789Z",
     "start_time": "2020-08-18T23:45:10.778092Z"
    }
   },
   "outputs": [],
   "source": [
    "from childes_mi.utils.paths import DATA_DIR, FIGURE_DIR, ensure_dir\n"
   ]
  },
  {
   "cell_type": "code",
   "execution_count": 13,
   "metadata": {
    "ExecuteTime": {
     "end_time": "2020-08-18T23:45:10.993247Z",
     "start_time": "2020-08-18T23:45:10.970487Z"
    }
   },
   "outputs": [],
   "source": [
    "ensure_dir(DATA_DIR / 'param_dfs')\n",
    "param_df.to_pickle(DATA_DIR / 'param_dfs' / 'zebrafish.pickle')"
   ]
  },
  {
   "cell_type": "code",
   "execution_count": null,
   "metadata": {},
   "outputs": [],
   "source": []
  }
 ],
 "metadata": {
  "kernelspec": {
   "display_name": "Python 3",
   "language": "python",
   "name": "python3"
  },
  "language_info": {
   "codemirror_mode": {
    "name": "ipython",
    "version": 3
   },
   "file_extension": ".py",
   "mimetype": "text/x-python",
   "name": "python",
   "nbconvert_exporter": "python",
   "pygments_lexer": "ipython3",
   "version": "3.6.7"
  }
 },
 "nbformat": 4,
 "nbformat_minor": 2
}
