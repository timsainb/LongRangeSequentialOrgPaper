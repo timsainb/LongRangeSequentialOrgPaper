{
 "cells": [
  {
   "cell_type": "code",
   "execution_count": 1,
   "metadata": {
    "ExecuteTime": {
     "end_time": "2020-09-27T20:58:36.844856Z",
     "start_time": "2020-09-27T20:58:36.833398Z"
    }
   },
   "outputs": [],
   "source": [
    "%load_ext autoreload\n",
    "%autoreload 2"
   ]
  },
  {
   "cell_type": "code",
   "execution_count": 2,
   "metadata": {
    "ExecuteTime": {
     "end_time": "2020-09-27T20:58:37.290572Z",
     "start_time": "2020-09-27T20:58:36.846214Z"
    }
   },
   "outputs": [],
   "source": [
    "from childes_mi.utils.paths import DATA_DIR, FIGURE_DIR\n",
    "from childes_mi.utils.general import flatten,save_fig"
   ]
  },
  {
   "cell_type": "code",
   "execution_count": 17,
   "metadata": {
    "ExecuteTime": {
     "end_time": "2020-09-27T21:08:25.631899Z",
     "start_time": "2020-09-27T21:08:25.366168Z"
    }
   },
   "outputs": [],
   "source": [
    "from childes_mi.information_theory import model_fitting as mf"
   ]
  },
  {
   "cell_type": "code",
   "execution_count": 18,
   "metadata": {
    "ExecuteTime": {
     "end_time": "2020-09-27T21:08:25.650852Z",
     "start_time": "2020-09-27T21:08:25.634399Z"
    }
   },
   "outputs": [],
   "source": [
    "import pandas as pd\n",
    "import numpy as np\n",
    "import matplotlib.pyplot as plt\n",
    "from tqdm.autonotebook import tqdm"
   ]
  },
  {
   "cell_type": "code",
   "execution_count": 19,
   "metadata": {
    "ExecuteTime": {
     "end_time": "2020-09-27T21:08:25.730425Z",
     "start_time": "2020-09-27T21:08:25.664889Z"
    }
   },
   "outputs": [],
   "source": [
    "MI_DF = pd.read_pickle(DATA_DIR/'mi/zebra_fish_1000_repeats.pickle')"
   ]
  },
  {
   "cell_type": "code",
   "execution_count": 20,
   "metadata": {
    "ExecuteTime": {
     "end_time": "2020-09-27T21:08:25.818080Z",
     "start_time": "2020-09-27T21:08:25.790869Z"
    }
   },
   "outputs": [
    {
     "data": {
      "text/html": [
       "<div>\n",
       "<style scoped>\n",
       "    .dataframe tbody tr th:only-of-type {\n",
       "        vertical-align: middle;\n",
       "    }\n",
       "\n",
       "    .dataframe tbody tr th {\n",
       "        vertical-align: top;\n",
       "    }\n",
       "\n",
       "    .dataframe thead th {\n",
       "        text-align: right;\n",
       "    }\n",
       "</style>\n",
       "<table border=\"1\" class=\"dataframe\">\n",
       "  <thead>\n",
       "    <tr style=\"text-align: right;\">\n",
       "      <th></th>\n",
       "      <th>MI</th>\n",
       "      <th>MI_var</th>\n",
       "      <th>shuff_MI</th>\n",
       "      <th>shuff_MI_var</th>\n",
       "      <th>distances</th>\n",
       "    </tr>\n",
       "  </thead>\n",
       "  <tbody>\n",
       "    <tr>\n",
       "      <th>0</th>\n",
       "      <td>[12.709163436593801, 12.671275589023288, 12.65...</td>\n",
       "      <td>[0.0025538793068670233, 0.0025554163787111033,...</td>\n",
       "      <td>[12.635944442432098, 12.635414248465437, 12.63...</td>\n",
       "      <td>[0.0025579889722140525, 0.0025580448310158032,...</td>\n",
       "      <td>[1, 2, 3, 4, 5, 6, 7, 8, 9, 10, 11, 12, 13, 14...</td>\n",
       "    </tr>\n",
       "  </tbody>\n",
       "</table>\n",
       "</div>"
      ],
      "text/plain": [
       "                                                  MI  \\\n",
       "0  [12.709163436593801, 12.671275589023288, 12.65...   \n",
       "\n",
       "                                              MI_var  \\\n",
       "0  [0.0025538793068670233, 0.0025554163787111033,...   \n",
       "\n",
       "                                            shuff_MI  \\\n",
       "0  [12.635944442432098, 12.635414248465437, 12.63...   \n",
       "\n",
       "                                        shuff_MI_var  \\\n",
       "0  [0.0025579889722140525, 0.0025580448310158032,...   \n",
       "\n",
       "                                           distances  \n",
       "0  [1, 2, 3, 4, 5, 6, 7, 8, 9, 10, 11, 12, 13, 14...  "
      ]
     },
     "execution_count": 20,
     "metadata": {},
     "output_type": "execute_result"
    }
   ],
   "source": [
    "MI_DF[:3]"
   ]
  },
  {
   "cell_type": "code",
   "execution_count": 21,
   "metadata": {
    "ExecuteTime": {
     "end_time": "2020-09-27T21:08:26.125633Z",
     "start_time": "2020-09-27T21:08:26.101451Z"
    }
   },
   "outputs": [],
   "source": [
    "MI_DF = MI_DF.assign(**{i:np.nan for i in ['exp_results', 'pow_results', 'concat_results',\n",
    "     'R2_exp', 'R2_concat', 'R2_power', 'AICc_exp',\n",
    "     'AICc_concat', 'AICc_power', 'bestfitmodel', 'curvature', 'min_peak']})\n",
    "MI_DF['curvature'] = MI_DF['curvature'].astype(object)"
   ]
  },
  {
   "cell_type": "code",
   "execution_count": 22,
   "metadata": {
    "ExecuteTime": {
     "end_time": "2020-09-27T21:08:26.920272Z",
     "start_time": "2020-09-27T21:08:26.492648Z"
    }
   },
   "outputs": [
    {
     "data": {
      "application/vnd.jupyter.widget-view+json": {
       "model_id": "289dd98a86184cd2b2e5069da2ef0bf6",
       "version_major": 2,
       "version_minor": 0
      },
      "text/plain": [
       "HBox(children=(IntProgress(value=0, max=1), HTML(value='')))"
      ]
     },
     "metadata": {},
     "output_type": "display_data"
    },
    {
     "name": "stdout",
     "output_type": "stream",
     "text": [
      "\n"
     ]
    }
   ],
   "source": [
    "n = 100 # max distance for computation\n",
    "for idx, row in tqdm(MI_DF.iterrows(), total=len(MI_DF)):\n",
    "    # get signal\n",
    "    sig = np.array(row.MI-row.shuff_MI)\n",
    "    distances = row.distances\n",
    "    sig = sig\n",
    "    \n",
    "    # fit models\n",
    "    results_power, results_exp, results_pow_exp, best_fit_model = mf.fit_models(distances, sig)\n",
    "    \n",
    "    # get fit results\n",
    "    R2_exp, R2_concat, R2_power, AICc_exp, \\\n",
    "        AICc_pow, AICc_concat = mf.fit_results(sig, distances, \n",
    "                                              results_exp, results_power,\n",
    "                                              results_pow_exp)\n",
    "    \n",
    "    \n",
    "    \n",
    "    \n",
    "    # get model y\n",
    "    distances_mod = np.logspace(0,np.log10(n), base=10, num=1000)\n",
    "    if best_fit_model == 'pow_exp':\n",
    "        y_model = mf.get_y(mf.pow_exp_decay, results_pow_exp, distances_mod)\n",
    "    elif best_fit_model == 'exp':\n",
    "        y_model = mf.get_y(mf.exp_decay, results_exp, distances_mod)\n",
    "    elif best_fit_model == 'pow':\n",
    "        y_model = mf.get_y(mf.powerlaw_decay, results_power, distances_mod)\n",
    "    \n",
    "    # get curvature of model_y\n",
    "    curvature_model = mf.curvature(np.log(y_model))\n",
    "    \n",
    "    # if the best fit model is pow_exp, then grab the min peak\n",
    "    if best_fit_model == 'pow_exp':\n",
    "        # get peaks of curvature\n",
    "        peaks = np.where((\n",
    "            (curvature_model[:-1] < curvature_model[1:])[1:] & (curvature_model[1:] < curvature_model[:-1])[:-1]\n",
    "        ))\n",
    "        min_peak = peaks[0][0]\n",
    "    else:\n",
    "        min_peak = np.nan\n",
    "\n",
    "    # get save model fit results to MI_DF\n",
    "    MI_DF.loc[idx, np.array(['exp_results', 'pow_results', 'concat_results',\n",
    "                         'R2_exp', 'R2_concat', 'R2_power', 'AICc_exp',\n",
    "                         'AICc_concat', 'AICc_power', 'bestfitmodel', 'curvature', 'min_peak'])] = [\n",
    "        results_exp, results_power, results_pow_exp,\n",
    "        R2_exp, R2_concat, R2_power, AICc_exp,\n",
    "        AICc_concat, AICc_pow, best_fit_model,\n",
    "        curvature_model, min_peak\n",
    "    ]\n"
   ]
  },
  {
   "cell_type": "code",
   "execution_count": 23,
   "metadata": {
    "ExecuteTime": {
     "end_time": "2020-09-27T21:08:26.976378Z",
     "start_time": "2020-09-27T21:08:26.943398Z"
    }
   },
   "outputs": [
    {
     "data": {
      "text/html": [
       "<div>\n",
       "<style scoped>\n",
       "    .dataframe tbody tr th:only-of-type {\n",
       "        vertical-align: middle;\n",
       "    }\n",
       "\n",
       "    .dataframe tbody tr th {\n",
       "        vertical-align: top;\n",
       "    }\n",
       "\n",
       "    .dataframe thead th {\n",
       "        text-align: right;\n",
       "    }\n",
       "</style>\n",
       "<table border=\"1\" class=\"dataframe\">\n",
       "  <thead>\n",
       "    <tr style=\"text-align: right;\">\n",
       "      <th></th>\n",
       "      <th>MI</th>\n",
       "      <th>MI_var</th>\n",
       "      <th>shuff_MI</th>\n",
       "      <th>shuff_MI_var</th>\n",
       "      <th>distances</th>\n",
       "      <th>exp_results</th>\n",
       "      <th>pow_results</th>\n",
       "      <th>concat_results</th>\n",
       "      <th>R2_exp</th>\n",
       "      <th>R2_concat</th>\n",
       "      <th>R2_power</th>\n",
       "      <th>AICc_exp</th>\n",
       "      <th>AICc_concat</th>\n",
       "      <th>AICc_power</th>\n",
       "      <th>bestfitmodel</th>\n",
       "      <th>curvature</th>\n",
       "      <th>min_peak</th>\n",
       "    </tr>\n",
       "  </thead>\n",
       "  <tbody>\n",
       "    <tr>\n",
       "      <th>0</th>\n",
       "      <td>[12.709163436593801, 12.671275589023288, 12.65...</td>\n",
       "      <td>[0.0025538793068670233, 0.0025554163787111033,...</td>\n",
       "      <td>[12.635944442432098, 12.635414248465437, 12.63...</td>\n",
       "      <td>[0.0025579889722140525, 0.0025580448310158032,...</td>\n",
       "      <td>[1, 2, 3, 4, 5, 6, 7, 8, 9, 10, 11, 12, 13, 14...</td>\n",
       "      <td>&lt;lmfit.minimizer.MinimizerResult object at 0x7...</td>\n",
       "      <td>&lt;lmfit.minimizer.MinimizerResult object at 0x7...</td>\n",
       "      <td>&lt;lmfit.minimizer.MinimizerResult object at 0x7...</td>\n",
       "      <td>0.871261</td>\n",
       "      <td>0.99219</td>\n",
       "      <td>0.985177</td>\n",
       "      <td>-5073.555287</td>\n",
       "      <td>-7871.863275</td>\n",
       "      <td>-7235.143883</td>\n",
       "      <td>pow_exp</td>\n",
       "      <td>[-4.441328458477456e-06, -6.648448840275915e-0...</td>\n",
       "      <td>1.0</td>\n",
       "    </tr>\n",
       "  </tbody>\n",
       "</table>\n",
       "</div>"
      ],
      "text/plain": [
       "                                                  MI  \\\n",
       "0  [12.709163436593801, 12.671275589023288, 12.65...   \n",
       "\n",
       "                                              MI_var  \\\n",
       "0  [0.0025538793068670233, 0.0025554163787111033,...   \n",
       "\n",
       "                                            shuff_MI  \\\n",
       "0  [12.635944442432098, 12.635414248465437, 12.63...   \n",
       "\n",
       "                                        shuff_MI_var  \\\n",
       "0  [0.0025579889722140525, 0.0025580448310158032,...   \n",
       "\n",
       "                                           distances  \\\n",
       "0  [1, 2, 3, 4, 5, 6, 7, 8, 9, 10, 11, 12, 13, 14...   \n",
       "\n",
       "                                         exp_results  \\\n",
       "0  <lmfit.minimizer.MinimizerResult object at 0x7...   \n",
       "\n",
       "                                         pow_results  \\\n",
       "0  <lmfit.minimizer.MinimizerResult object at 0x7...   \n",
       "\n",
       "                                      concat_results    R2_exp  R2_concat  \\\n",
       "0  <lmfit.minimizer.MinimizerResult object at 0x7...  0.871261    0.99219   \n",
       "\n",
       "   R2_power     AICc_exp  AICc_concat   AICc_power bestfitmodel  \\\n",
       "0  0.985177 -5073.555287 -7871.863275 -7235.143883      pow_exp   \n",
       "\n",
       "                                           curvature  min_peak  \n",
       "0  [-4.441328458477456e-06, -6.648448840275915e-0...       1.0  "
      ]
     },
     "execution_count": 23,
     "metadata": {},
     "output_type": "execute_result"
    }
   ],
   "source": [
    "MI_DF[:3]"
   ]
  },
  {
   "cell_type": "code",
   "execution_count": 24,
   "metadata": {
    "ExecuteTime": {
     "end_time": "2020-09-27T21:08:27.568035Z",
     "start_time": "2020-09-27T21:08:27.550451Z"
    }
   },
   "outputs": [],
   "source": [
    "from matplotlib import gridspec"
   ]
  },
  {
   "cell_type": "code",
   "execution_count": 25,
   "metadata": {
    "ExecuteTime": {
     "end_time": "2020-09-27T21:08:28.498402Z",
     "start_time": "2020-09-27T21:08:27.738399Z"
    }
   },
   "outputs": [
    {
     "data": {
      "text/plain": [
       "Text(0.5, 1.0, 'Zebra fish')"
      ]
     },
     "execution_count": 25,
     "metadata": {},
     "output_type": "execute_result"
    },
    {
     "data": {
      "image/png": "[encoded data removed]",
      "text/plain": [
       "<Figure size 360x900 with 3 Axes>"
      ]
     },
     "metadata": {
      "needs_background": "light"
     },
     "output_type": "display_data"
    }
   ],
   "source": [
    "yoff=-.20\n",
    "ncols = 4\n",
    "zoom = 5\n",
    "hr = [1, 0.5, 0.5, 0.5]\n",
    "nrows = np.ceil(len(MI_DF)/ncols).astype(int)\n",
    "fig = plt.figure(figsize=(len(MI_DF)*zoom,np.sum(hr)*zoom)) \n",
    "gs = gridspec.GridSpec(ncols=len(MI_DF), nrows=4, height_ratios=hr) \n",
    "\n",
    "axi = 0\n",
    "row = MI_DF.iloc[0]\n",
    "\n",
    "color = 'k'#LCOL_DICT[row.language]\n",
    "ax0 = plt.subplot(gs[0,axi])\n",
    "ax = ax0\n",
    "sig = np.array(row.MI-row.shuff_MI)\n",
    "distances = row.distances\n",
    "sig = sig\n",
    "# get signal limits\n",
    "sig_lims = np.log([np.min(sig[sig>0]), np.nanmax(sig)])\n",
    "sig_lims = [sig_lims[0] - (sig_lims[1]-sig_lims[0])/10,\n",
    "                sig_lims[1] + (sig_lims[1]-sig_lims[0])/10]\n",
    "\n",
    "if axi==0: \n",
    "        #ax.set_ylabel('MI (bits)', labelpad=5, fontsize=24)\n",
    "        ax.yaxis.set_label_coords(yoff,0.5)\n",
    "\n",
    "# model data\n",
    "#row.concat_results.params.intercept = 0\n",
    "distances_model = np.logspace(0,np.log10(distances[-1]), base=10, num=1000)\n",
    "y_model = mf.get_y(mf.pow_exp_decay, row.concat_results, distances)\n",
    "y_pow = mf.get_y(mf.powerlaw_decay, row.concat_results, distances_model)\n",
    "y_exp = mf.get_y(mf.exp_decay, row.concat_results, distances_model)\n",
    "y_pow_dat = mf.get_y(mf.powerlaw_decay, row.concat_results, distances)\n",
    "y_exp_dat = mf.get_y(mf.exp_decay, row.concat_results, distances)\n",
    "\n",
    "# plot real data\n",
    "ax.scatter(distances, sig, alpha = 1, s=40, color=color)   \n",
    "ax.plot(distances_model, y_pow, ls='dotted', color= 'k', lw=5, alpha=0.5)\n",
    "ax.plot(distances_model, y_exp-row.concat_results.params['intercept'].value, ls='dashed', color= 'k', lw=5, alpha=0.5)\n",
    "\n",
    "# plot modelled data\n",
    "ax.plot(distances, y_model, alpha = 0.25, lw=10, color=color)\n",
    "\n",
    "# plot powerlaw component\n",
    "ax1 = plt.subplot(gs[1,axi])\n",
    "ax = ax1\n",
    "ax.plot(distances_model, y_pow-row.concat_results.params['intercept'].value, alpha = 0.25, lw=10, color=color)\n",
    "ax.scatter(distances, sig-y_exp_dat, alpha = 1, s=40, color=color)   \n",
    "\n",
    "# plot exponential component\n",
    "ax2 = plt.subplot(gs[2,axi])\n",
    "ax = ax2\n",
    "ax.plot(distances_model, y_exp-row.concat_results.params['intercept'].value, alpha = 0.25, lw=10, color=color)\n",
    "ax.scatter(distances, sig-y_pow_dat, alpha = 1, s=40, color=color)   \n",
    "\n",
    "\n",
    "\n",
    "ax.set_xlabel('Distance (bouts)', labelpad=5, fontsize=24)\n",
    "#print(row.language, distances[peak_of_interest])\n",
    "\n",
    "for ax in [ax1, ax2]:\n",
    "    if axi==0: \n",
    "        #ax.set_ylabel('MI (bits)', labelpad=5, fontsize=24)\n",
    "        ax.yaxis.set_label_coords(yoff,0.5)\n",
    "\n",
    "for ax in [ax0,ax1,ax2]:\n",
    "    ax.set_xlim([distances[0], distances[-1]])\n",
    "    sig_lims[0] = np.log(10e-6)\n",
    "    ax.set_ylim([1e-3, 0.5])\n",
    "    ax.tick_params(which='both', direction='in', labelsize=14, pad=10)\n",
    "    ax.tick_params(which='major', length=10, width =3)\n",
    "    ax.tick_params(which='minor', length=5, width =2)\n",
    "    ax.set_xscale( \"log\" , basex=10)\n",
    "    ax.set_yscale( \"log\" , basey=10)\n",
    "    ax.set_xticks([])\n",
    "    for axis in ['top','bottom','left','right']:\n",
    "        ax.spines[axis].set_linewidth(3)\n",
    "        ax.spines[axis].set_color('k')\n",
    "ax2.set_ylim([10e-4, 3])\n",
    "ax2.set_xticks([1,10,100])\n",
    "ax2.set_xticklabels(['1','10','100'])\n",
    "\n",
    "if axi !=0:\n",
    "    for ax in [ax0,ax1,ax2]:\n",
    "        ax.yaxis.set_ticklabels([])\n",
    "\n",
    "gs.update(wspace=0.075, hspace=0.1)\n",
    "ax0.set_title(\"Zebra fish\", fontsize=24)\n",
    "#save_fig(FIGURE_DIR/'zebrafish_mi')"
   ]
  },
  {
   "cell_type": "code",
   "execution_count": null,
   "metadata": {},
   "outputs": [],
   "source": []
  },
  {
   "cell_type": "code",
   "execution_count": 43,
   "metadata": {
    "ExecuteTime": {
     "end_time": "2020-09-27T21:31:19.705636Z",
     "start_time": "2020-09-27T21:31:19.505716Z"
    }
   },
   "outputs": [
    {
     "data": {
      "image/png": "[encoded data removed]",
      "text/plain": [
       "<Figure size 360x216 with 1 Axes>"
      ]
     },
     "metadata": {
      "needs_background": "light"
     },
     "output_type": "display_data"
    }
   ],
   "source": [
    "fig, ax = plt.subplots(figsize=(5,3))\n",
    "\n",
    "axi = 0\n",
    "row = MI_DF.iloc[0]\n",
    "\n",
    "sig = np.array(row.MI-row.shuff_MI)\n",
    "distances = row.distances\n",
    "sig = sig\n",
    "# get signal limits\n",
    "sig_lims = np.log([np.min(sig[sig>0]), np.nanmax(sig)])\n",
    "sig_lims = [sig_lims[0] - (sig_lims[1]-sig_lims[0])/10,\n",
    "                sig_lims[1] + (sig_lims[1]-sig_lims[0])/10]\n",
    "\n",
    "# plot real data\n",
    "#ax.scatter(distances, sig, alpha = 1, s=60, color=color)   \n",
    "ax.plot(distances, sig, alpha = 1, lw=2, color=\"k\", zorder=10, label='data')\n",
    "\n",
    "\n",
    "\n",
    "\n",
    "ax.set_xlabel('Distance (bouts)', labelpad=5, fontsize=18)\n",
    "#print(row.language, distances[peak_of_interest])\n",
    "\n",
    "#ax.set_ylabel('MI rel. chance (bits)', labelpad=5, fontsize=18)\n",
    "ax.yaxis.set_label_coords(yoff,0.5)\n",
    "\n",
    "\n",
    "ax.set_xscale( \"log\" , basex=10)\n",
    "#ax.set_yscale( \"log\" , basey=10)\n",
    "\n",
    "\n",
    "ax.set_xlim([distances[0], distances[-1]])\n",
    "#sig_lims[0] = np.log(10e-6)\n",
    "\n",
    "ax.axhline(0, alpha = 1, lw=2, color=\"k\", ls='dashed', zorder=10, label='chance')\n",
    "\n",
    "ax.tick_params(which='both', direction='in', labelsize=14, pad=10)\n",
    "ax.tick_params(which='major', length=6, width =3)\n",
    "ax.tick_params(which='minor', length=3, width =2)\n",
    "\n",
    "for axis in ['top','bottom','left','right']:\n",
    "    ax.spines[axis].set_linewidth(3)\n",
    "    ax.spines[axis].set_color('k')\n",
    "ax.set_xticks([1,10,100, 1000])\n",
    "ax.set_xticklabels(['1','10','100', '1000'])\n",
    "ax.set_ylim([-0.005, 0.08])\n",
    "\n",
    "legend= ax.legend(fontsize=16, frameon=False)\n",
    "\n",
    "gs.update(wspace=0.075, hspace=0.1)\n",
    "#ax0.set_title(\"Drosophila\", fontsize=24)\n",
    "#save_fig(FIGURE_DIR/'drosophila_mi-1000')"
   ]
  },
  {
   "cell_type": "code",
   "execution_count": 48,
   "metadata": {
    "ExecuteTime": {
     "end_time": "2020-09-27T21:41:14.616756Z",
     "start_time": "2020-09-27T21:41:11.536468Z"
    }
   },
   "outputs": [
    {
     "data": {
      "image/png": "[encoded data removed]",
      "text/plain": [
       "<Figure size 360x360 with 2 Axes>"
      ]
     },
     "metadata": {
      "needs_background": "light"
     },
     "output_type": "display_data"
    }
   ],
   "source": [
    "yoff=-.20\n",
    "ncols = 4\n",
    "zoom = 5\n",
    "hr = [1, 1]\n",
    "nrows = np.ceil(len(MI_DF)/ncols).astype(int)\n",
    "fig = plt.figure(figsize=(5,5)) \n",
    "gs = gridspec.GridSpec(ncols=len(MI_DF), nrows=2, height_ratios=hr) \n",
    "\n",
    "ax0 = plt.subplot(gs[0,axi])\n",
    "ax = ax0\n",
    "row = MI_DF.iloc[0]\n",
    "\n",
    "sig = np.array(row.MI-row.shuff_MI)\n",
    "distances = row.distances\n",
    "sig = sig\n",
    "# get signal limits\n",
    "sig_lims = np.log([np.min(sig[sig>0]), np.nanmax(sig)])\n",
    "sig_lims = [sig_lims[0] - (sig_lims[1]-sig_lims[0])/10,\n",
    "                sig_lims[1] + (sig_lims[1]-sig_lims[0])/10]\n",
    "\n",
    "# plot real data\n",
    "ax.plot(distances, sig, alpha = 1, lw=2, color=\"k\", zorder=10, label='data')\n",
    "\n",
    "ax.set_xlabel('Distance (states)', labelpad=5, fontsize=18)\n",
    "#print(row.language, distances[peak_of_interest])\n",
    "\n",
    "#ax.set_ylabel('MI rel. chance (bits)', labelpad=5, fontsize=18)\n",
    "ax.yaxis.set_label_coords(yoff,0.5)\n",
    "\n",
    "\n",
    "ax.set_xscale( \"log\" , basex=10)\n",
    "#ax.set_yscale( \"log\" , basey=10)\n",
    "\n",
    "\n",
    "ax.set_xlim([distances[0], distances[-1]])\n",
    "#sig_lims[0] = np.log(10e-6)\n",
    "\n",
    "ax.axhline(0, alpha = 1, lw=2, color=\"k\", ls='dashed', zorder=10, label='chance')\n",
    "\n",
    "ax.tick_params(which='both', direction='in', labelsize=14, pad=10)\n",
    "ax.tick_params(which='major', length=6, width =3)\n",
    "ax.tick_params(which='minor', length=3, width =2)\n",
    "\n",
    "for axis in ['top','bottom','left','right']:\n",
    "    ax.spines[axis].set_linewidth(3)\n",
    "    ax.spines[axis].set_color('k')\n",
    "ax.set_xticks([])\n",
    "#ax.set_ylim([-0.1, 1.5])\n",
    "\n",
    "legend= ax.legend(fontsize=16, frameon=False)\n",
    "\n",
    "gs.update(wspace=0.075, hspace=0.1)\n",
    "#ax0.set_title(\"Drosophila\", fontsize=24)\n",
    "#save_fig(FIGURE_DIR/'drosophila_mi-1000')\n",
    "\n",
    "ax.set_ylim([-0.005, 0.08])\n",
    "\n",
    "\n",
    "\n",
    "ax0 = plt.subplot(gs[1,axi])\n",
    "ax = ax0\n",
    "row = MI_DF.iloc[0]\n",
    "\n",
    "# plot real data\n",
    "#ax.scatter(distances, sig, alpha = 1, s=60, color=color)   \n",
    "ax.plot(distances, sig, alpha = 1, lw=2, color=\"k\", zorder=10, label='data')\n",
    "\n",
    "\n",
    "\n",
    "\n",
    "ax.set_xlabel('Distance (states)', labelpad=5, fontsize=18)\n",
    "#print(row.language, distances[peak_of_interest])\n",
    "\n",
    "#ax.set_ylabel('MI rel. chance (bits)', labelpad=5, fontsize=18)\n",
    "ax.yaxis.set_label_coords(yoff,0.5)\n",
    "\n",
    "\n",
    "ax.set_xscale( \"log\" , basex=10)\n",
    "ax.set_yscale( \"log\" , basey=10)\n",
    "\n",
    "\n",
    "ax.set_xlim([distances[0], distances[-1]])\n",
    "#sig_lims[0] = np.log(10e-6)\n",
    "\n",
    "ax.tick_params(which='both', direction='in', labelsize=14, pad=10)\n",
    "ax.tick_params(which='major', length=6, width =3)\n",
    "ax.tick_params(which='minor', length=3, width =2)\n",
    "\n",
    "for axis in ['top','bottom','left','right']:\n",
    "    ax.spines[axis].set_linewidth(3)\n",
    "    ax.spines[axis].set_color('k')\n",
    "ax.set_xticks([1,10,100, 1000])\n",
    "ax.set_xticklabels(['1','10','100', '1000'])\n",
    "#ax.set_ylim([-0.1, 1.5])\n",
    "\n",
    "#legend= ax.legend(fontsize=16, frameon=False)\n",
    "\n",
    "gs.update(wspace=0.075, hspace=0.1)\n",
    "#ax0.set_title(\"Drosophila\", fontsize=24)\n",
    "save_fig(FIGURE_DIR/'zf_mi-1000-preview')"
   ]
  },
  {
   "cell_type": "code",
   "execution_count": null,
   "metadata": {},
   "outputs": [],
   "source": []
  }
 ],
 "metadata": {
  "kernelspec": {
   "display_name": "Python 3",
   "language": "python",
   "name": "python3"
  },
  "language_info": {
   "codemirror_mode": {
    "name": "ipython",
    "version": 3
   },
   "file_extension": ".py",
   "mimetype": "text/x-python",
   "name": "python",
   "nbconvert_exporter": "python",
   "pygments_lexer": "ipython3",
   "version": "3.6.7"
  }
 },
 "nbformat": 4,
 "nbformat_minor": 2
}
