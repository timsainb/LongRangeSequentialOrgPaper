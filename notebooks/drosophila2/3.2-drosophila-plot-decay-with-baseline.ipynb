{
 "cells": [
  {
   "cell_type": "code",
   "execution_count": 1,
   "metadata": {
    "ExecuteTime": {
     "end_time": "2020-09-27T20:41:38.535195Z",
     "start_time": "2020-09-27T20:41:38.515981Z"
    }
   },
   "outputs": [],
   "source": [
    "%load_ext autoreload\n",
    "%autoreload 2"
   ]
  },
  {
   "cell_type": "code",
   "execution_count": 2,
   "metadata": {
    "ExecuteTime": {
     "end_time": "2020-09-27T20:41:39.649199Z",
     "start_time": "2020-09-27T20:41:38.662771Z"
    }
   },
   "outputs": [],
   "source": [
    "from childes_mi.utils.paths import DATA_DIR, FIGURE_DIR\n",
    "from childes_mi.utils.general import flatten,save_fig"
   ]
  },
  {
   "cell_type": "code",
   "execution_count": 3,
   "metadata": {
    "ExecuteTime": {
     "end_time": "2020-09-27T20:41:41.128117Z",
     "start_time": "2020-09-27T20:41:39.650976Z"
    }
   },
   "outputs": [],
   "source": [
    "from childes_mi.information_theory import model_fitting as mf"
   ]
  },
  {
   "cell_type": "code",
   "execution_count": 4,
   "metadata": {
    "ExecuteTime": {
     "end_time": "2020-09-27T20:41:41.268266Z",
     "start_time": "2020-09-27T20:41:41.129904Z"
    }
   },
   "outputs": [
    {
     "name": "stderr",
     "output_type": "stream",
     "text": [
      "/mnt/cube/tsainbur/conda_envs/tpy3/lib/python3.6/site-packages/tqdm/autonotebook/__init__.py:14: TqdmExperimentalWarning: Using `tqdm.autonotebook.tqdm` in notebook mode. Use `tqdm.tqdm` instead to force console mode (e.g. in jupyter console)\n",
      "  \" (e.g. in jupyter console)\", TqdmExperimentalWarning)\n"
     ]
    }
   ],
   "source": [
    "import pandas as pd\n",
    "import numpy as np\n",
    "import matplotlib.pyplot as plt\n",
    "from matplotlib import gridspec\n",
    "from tqdm.autonotebook import tqdm"
   ]
  },
  {
   "cell_type": "code",
   "execution_count": 5,
   "metadata": {
    "ExecuteTime": {
     "end_time": "2020-09-27T20:41:41.305181Z",
     "start_time": "2020-09-27T20:41:41.269830Z"
    }
   },
   "outputs": [],
   "source": [
    "MI_DF = pd.read_pickle(DATA_DIR/'mi/drosophila_mi_1000.pickle')"
   ]
  },
  {
   "cell_type": "code",
   "execution_count": 7,
   "metadata": {
    "ExecuteTime": {
     "end_time": "2020-09-27T20:42:04.224326Z",
     "start_time": "2020-09-27T20:42:04.181147Z"
    }
   },
   "outputs": [
    {
     "data": {
      "text/html": [
       "<div>\n",
       "<style scoped>\n",
       "    .dataframe tbody tr th:only-of-type {\n",
       "        vertical-align: middle;\n",
       "    }\n",
       "\n",
       "    .dataframe tbody tr th {\n",
       "        vertical-align: top;\n",
       "    }\n",
       "\n",
       "    .dataframe thead th {\n",
       "        text-align: right;\n",
       "    }\n",
       "</style>\n",
       "<table border=\"1\" class=\"dataframe\">\n",
       "  <thead>\n",
       "    <tr style=\"text-align: right;\">\n",
       "      <th></th>\n",
       "      <th>MI</th>\n",
       "      <th>MI_var</th>\n",
       "      <th>shuff_MI</th>\n",
       "      <th>shuff_MI_var</th>\n",
       "      <th>distances</th>\n",
       "      <th>exp_results</th>\n",
       "      <th>pow_results</th>\n",
       "      <th>concat_results</th>\n",
       "      <th>R2_exp</th>\n",
       "      <th>R2_concat</th>\n",
       "      <th>R2_power</th>\n",
       "      <th>AICc_exp</th>\n",
       "      <th>AICc_concat</th>\n",
       "      <th>AICc_power</th>\n",
       "      <th>bestfitmodel</th>\n",
       "      <th>curvature</th>\n",
       "      <th>min_peak</th>\n",
       "    </tr>\n",
       "  </thead>\n",
       "  <tbody>\n",
       "    <tr>\n",
       "      <th>0</th>\n",
       "      <td>[11.491092426440758, 11.113848299482346, 10.94...</td>\n",
       "      <td>[0.0032096905199801226, 0.0031487970998960533,...</td>\n",
       "      <td>[10.162464643140364, 10.161342744045395, 10.16...</td>\n",
       "      <td>[0.0030504540127070092, 0.00305061298348205, 0...</td>\n",
       "      <td>[1, 2, 3, 4, 5, 6, 7, 8, 9, 10, 11, 12, 13, 14...</td>\n",
       "      <td>NaN</td>\n",
       "      <td>NaN</td>\n",
       "      <td>NaN</td>\n",
       "      <td>NaN</td>\n",
       "      <td>NaN</td>\n",
       "      <td>NaN</td>\n",
       "      <td>NaN</td>\n",
       "      <td>NaN</td>\n",
       "      <td>NaN</td>\n",
       "      <td>NaN</td>\n",
       "      <td>NaN</td>\n",
       "      <td>NaN</td>\n",
       "    </tr>\n",
       "  </tbody>\n",
       "</table>\n",
       "</div>"
      ],
      "text/plain": [
       "                                                  MI  \\\n",
       "0  [11.491092426440758, 11.113848299482346, 10.94...   \n",
       "\n",
       "                                              MI_var  \\\n",
       "0  [0.0032096905199801226, 0.0031487970998960533,...   \n",
       "\n",
       "                                            shuff_MI  \\\n",
       "0  [10.162464643140364, 10.161342744045395, 10.16...   \n",
       "\n",
       "                                        shuff_MI_var  \\\n",
       "0  [0.0030504540127070092, 0.00305061298348205, 0...   \n",
       "\n",
       "                                           distances  exp_results  \\\n",
       "0  [1, 2, 3, 4, 5, 6, 7, 8, 9, 10, 11, 12, 13, 14...          NaN   \n",
       "\n",
       "   pow_results  concat_results  R2_exp  R2_concat  R2_power  AICc_exp  \\\n",
       "0          NaN             NaN     NaN        NaN       NaN       NaN   \n",
       "\n",
       "   AICc_concat  AICc_power  bestfitmodel curvature  min_peak  \n",
       "0          NaN         NaN           NaN       NaN       NaN  "
      ]
     },
     "execution_count": 7,
     "metadata": {},
     "output_type": "execute_result"
    }
   ],
   "source": [
    "MI_DF[:3]"
   ]
  },
  {
   "cell_type": "code",
   "execution_count": 8,
   "metadata": {
    "ExecuteTime": {
     "end_time": "2020-09-27T20:42:04.759665Z",
     "start_time": "2020-09-27T20:42:04.735328Z"
    }
   },
   "outputs": [],
   "source": [
    "MI_DF = MI_DF.assign(**{i:np.nan for i in ['exp_results', 'pow_results', 'concat_results',\n",
    "     'R2_exp', 'R2_concat', 'R2_power', 'AICc_exp',\n",
    "     'AICc_concat', 'AICc_power', 'bestfitmodel', 'curvature', 'min_peak']})\n",
    "MI_DF['curvature'] = MI_DF['curvature'].astype(object)"
   ]
  },
  {
   "cell_type": "code",
   "execution_count": 9,
   "metadata": {
    "ExecuteTime": {
     "end_time": "2020-09-27T20:42:07.292842Z",
     "start_time": "2020-09-27T20:42:06.928710Z"
    }
   },
   "outputs": [
    {
     "data": {
      "application/vnd.jupyter.widget-view+json": {
       "model_id": "4b3c75a1ff304e769dac4d26ba32beee",
       "version_major": 2,
       "version_minor": 0
      },
      "text/plain": [
       "HBox(children=(IntProgress(value=0, max=1), HTML(value='')))"
      ]
     },
     "metadata": {},
     "output_type": "display_data"
    },
    {
     "name": "stdout",
     "output_type": "stream",
     "text": [
      "\n"
     ]
    }
   ],
   "source": [
    "n = 100 # max distance for computation\n",
    "for idx, row in tqdm(MI_DF.iterrows(), total=len(MI_DF)):\n",
    "    # get signal\n",
    "    sig = np.array(row.MI-row.shuff_MI)\n",
    "    distances = row.distances\n",
    "    sig = sig\n",
    "    \n",
    "    # fit models\n",
    "    results_power, results_exp, results_pow_exp, best_fit_model = mf.fit_models(distances, sig)\n",
    "    \n",
    "    # get fit results\n",
    "    R2_exp, R2_concat, R2_power, AICc_exp, \\\n",
    "        AICc_pow, AICc_concat = mf.fit_results(sig, distances, \n",
    "                                              results_exp, results_power,\n",
    "                                              results_pow_exp)\n",
    "    \n",
    "    \n",
    "    \n",
    "    \n",
    "    # get model y\n",
    "    distances_mod = np.logspace(0,np.log10(n), base=10, num=1000)\n",
    "    if best_fit_model == 'pow_exp':\n",
    "        y_model = mf.get_y(mf.pow_exp_decay, results_pow_exp, distances_mod)\n",
    "    elif best_fit_model == 'exp':\n",
    "        y_model = mf.get_y(mf.exp_decay, results_exp, distances_mod)\n",
    "    elif best_fit_model == 'pow':\n",
    "        y_model = mf.get_y(mf.powerlaw_decay, results_power, distances_mod)\n",
    "    \n",
    "    # get curvature of model_y\n",
    "    curvature_model = mf.curvature(np.log(y_model))\n",
    "    \n",
    "    # if the best fit model is pow_exp, then grab the min peak\n",
    "    if best_fit_model == 'pow_exp':\n",
    "        # get peaks of curvature\n",
    "        peaks = np.where((\n",
    "            (curvature_model[:-1] < curvature_model[1:])[1:] & (curvature_model[1:] < curvature_model[:-1])[:-1]\n",
    "        ))\n",
    "        min_peak = peaks[0][0]\n",
    "    else:\n",
    "        min_peak = np.nan\n",
    "\n",
    "    # get save model fit results to MI_DF\n",
    "    MI_DF.loc[idx, np.array(['exp_results', 'pow_results', 'concat_results',\n",
    "                         'R2_exp', 'R2_concat', 'R2_power', 'AICc_exp',\n",
    "                         'AICc_concat', 'AICc_power', 'bestfitmodel', 'curvature', 'min_peak'])] = [\n",
    "        results_exp, results_power, results_pow_exp,\n",
    "        R2_exp, R2_concat, R2_power, AICc_exp,\n",
    "        AICc_concat, AICc_pow, best_fit_model,\n",
    "        curvature_model, min_peak\n",
    "    ]\n"
   ]
  },
  {
   "cell_type": "code",
   "execution_count": 10,
   "metadata": {
    "ExecuteTime": {
     "end_time": "2020-09-27T20:42:07.382138Z",
     "start_time": "2020-09-27T20:42:07.349363Z"
    }
   },
   "outputs": [
    {
     "data": {
      "text/html": [
       "<div>\n",
       "<style scoped>\n",
       "    .dataframe tbody tr th:only-of-type {\n",
       "        vertical-align: middle;\n",
       "    }\n",
       "\n",
       "    .dataframe tbody tr th {\n",
       "        vertical-align: top;\n",
       "    }\n",
       "\n",
       "    .dataframe thead th {\n",
       "        text-align: right;\n",
       "    }\n",
       "</style>\n",
       "<table border=\"1\" class=\"dataframe\">\n",
       "  <thead>\n",
       "    <tr style=\"text-align: right;\">\n",
       "      <th></th>\n",
       "      <th>MI</th>\n",
       "      <th>MI_var</th>\n",
       "      <th>shuff_MI</th>\n",
       "      <th>shuff_MI_var</th>\n",
       "      <th>distances</th>\n",
       "      <th>exp_results</th>\n",
       "      <th>pow_results</th>\n",
       "      <th>concat_results</th>\n",
       "      <th>R2_exp</th>\n",
       "      <th>R2_concat</th>\n",
       "      <th>R2_power</th>\n",
       "      <th>AICc_exp</th>\n",
       "      <th>AICc_concat</th>\n",
       "      <th>AICc_power</th>\n",
       "      <th>bestfitmodel</th>\n",
       "      <th>curvature</th>\n",
       "      <th>min_peak</th>\n",
       "    </tr>\n",
       "  </thead>\n",
       "  <tbody>\n",
       "    <tr>\n",
       "      <th>0</th>\n",
       "      <td>[11.491092426440758, 11.113848299482346, 10.94...</td>\n",
       "      <td>[0.0032096905199801226, 0.0031487970998960533,...</td>\n",
       "      <td>[10.162464643140364, 10.161342744045395, 10.16...</td>\n",
       "      <td>[0.0030504540127070092, 0.00305061298348205, 0...</td>\n",
       "      <td>[1, 2, 3, 4, 5, 6, 7, 8, 9, 10, 11, 12, 13, 14...</td>\n",
       "      <td>&lt;lmfit.minimizer.MinimizerResult object at 0x7...</td>\n",
       "      <td>&lt;lmfit.minimizer.MinimizerResult object at 0x7...</td>\n",
       "      <td>&lt;lmfit.minimizer.MinimizerResult object at 0x7...</td>\n",
       "      <td>0.952085</td>\n",
       "      <td>0.999521</td>\n",
       "      <td>0.995571</td>\n",
       "      <td>-6513.666172</td>\n",
       "      <td>-11115.26092</td>\n",
       "      <td>-8894.92732</td>\n",
       "      <td>pow_exp</td>\n",
       "      <td>[3.129027579848531e-07, 4.695250164558214e-07,...</td>\n",
       "      <td>881.0</td>\n",
       "    </tr>\n",
       "  </tbody>\n",
       "</table>\n",
       "</div>"
      ],
      "text/plain": [
       "                                                  MI  \\\n",
       "0  [11.491092426440758, 11.113848299482346, 10.94...   \n",
       "\n",
       "                                              MI_var  \\\n",
       "0  [0.0032096905199801226, 0.0031487970998960533,...   \n",
       "\n",
       "                                            shuff_MI  \\\n",
       "0  [10.162464643140364, 10.161342744045395, 10.16...   \n",
       "\n",
       "                                        shuff_MI_var  \\\n",
       "0  [0.0030504540127070092, 0.00305061298348205, 0...   \n",
       "\n",
       "                                           distances  \\\n",
       "0  [1, 2, 3, 4, 5, 6, 7, 8, 9, 10, 11, 12, 13, 14...   \n",
       "\n",
       "                                         exp_results  \\\n",
       "0  <lmfit.minimizer.MinimizerResult object at 0x7...   \n",
       "\n",
       "                                         pow_results  \\\n",
       "0  <lmfit.minimizer.MinimizerResult object at 0x7...   \n",
       "\n",
       "                                      concat_results    R2_exp  R2_concat  \\\n",
       "0  <lmfit.minimizer.MinimizerResult object at 0x7...  0.952085   0.999521   \n",
       "\n",
       "   R2_power     AICc_exp  AICc_concat  AICc_power bestfitmodel  \\\n",
       "0  0.995571 -6513.666172 -11115.26092 -8894.92732      pow_exp   \n",
       "\n",
       "                                           curvature  min_peak  \n",
       "0  [3.129027579848531e-07, 4.695250164558214e-07,...     881.0  "
      ]
     },
     "execution_count": 10,
     "metadata": {},
     "output_type": "execute_result"
    }
   ],
   "source": [
    "MI_DF"
   ]
  },
  {
   "cell_type": "code",
   "execution_count": 34,
   "metadata": {
    "ExecuteTime": {
     "end_time": "2020-09-27T20:56:00.544568Z",
     "start_time": "2020-09-27T20:56:00.421926Z"
    }
   },
   "outputs": [
    {
     "data": {
      "text/plain": [
       "Text(0.5, 1.0, 'Drosophila')"
      ]
     },
     "execution_count": 34,
     "metadata": {},
     "output_type": "execute_result"
    },
    {
     "data": {
      "image/png": "[encoded data removed]",
      "text/plain": [
       "<Figure size 360x900 with 1 Axes>"
      ]
     },
     "metadata": {
      "needs_background": "light"
     },
     "output_type": "display_data"
    }
   ],
   "source": [
    "yoff=-.20\n",
    "ncols = 4\n",
    "zoom = 5\n",
    "hr = [1, 0.5, 0.5, 0.5]\n",
    "nrows = np.ceil(len(MI_DF)/ncols).astype(int)\n",
    "fig = plt.figure(figsize=(len(MI_DF)*zoom*1.0,np.sum(hr)*zoom)) \n",
    "gs = gridspec.GridSpec(ncols=len(MI_DF), nrows=4, height_ratios=hr) \n",
    "\n",
    "axi = 0\n",
    "row = MI_DF.iloc[0]\n",
    "\n",
    "color = 'k'#LCOL_DICT[row.language]\n",
    "ax0 = plt.subplot(gs[0,axi])\n",
    "ax = ax0\n",
    "sig = np.array(row.MI-row.shuff_MI)\n",
    "distances = row.distances\n",
    "sig = sig\n",
    "# get signal limits\n",
    "sig_lims = np.log([np.min(sig[sig>0]), np.nanmax(sig)])\n",
    "sig_lims = [sig_lims[0] - (sig_lims[1]-sig_lims[0])/10,\n",
    "                sig_lims[1] + (sig_lims[1]-sig_lims[0])/10]\n",
    "\n",
    "# plot real data\n",
    "ax.scatter(distances, sig, alpha = 1, s=60, color=color)   \n",
    "\n",
    "# plot modelled data\n",
    "#ax.plot(distances, y_model, alpha = 0.25, lw=10, color=color)\n",
    "ax.plot(distances, sig, alpha = 0.8, lw=5, color=\"#999999\", zorder=10)\n",
    "\n",
    "\n",
    "\n",
    "ax.set_xlabel('Distance (states)', labelpad=5, fontsize=24)\n",
    "#print(row.language, distances[peak_of_interest])\n",
    "\n",
    "ax.set_ylabel('MI (bits)', labelpad=5, fontsize=24)\n",
    "ax.yaxis.set_label_coords(yoff,0.5)\n",
    "\n",
    "\n",
    "ax.set_xlim([distances[0], distances[-1]])\n",
    "sig_lims[0] = np.log(10e-6)\n",
    "#ax.set_ylim([1e-2, 3])\n",
    "ax.tick_params(which='both', direction='in', labelsize=14, pad=10)\n",
    "ax.tick_params(which='major', length=10, width =3)\n",
    "ax.tick_params(which='minor', length=5, width =2)\n",
    "#ax.set_xscale( \"log\" , basex=10)\n",
    "#ax.set_yscale( \"log\" , basey=10)\n",
    "ax.set_xticks([])\n",
    "for axis in ['top','bottom','left','right']:\n",
    "    ax.spines[axis].set_linewidth(3)\n",
    "    ax.spines[axis].set_color('k')\n",
    "\n",
    "\n",
    "if axi !=0:\n",
    "    for ax in [ax0,ax1,ax2]:\n",
    "        ax.yaxis.set_ticklabels([])\n",
    "\n",
    "gs.update(wspace=0.075, hspace=0.1)\n",
    "ax0.set_title(\"Drosophila\", fontsize=24)\n",
    "#save_fig(FIGURE_DIR/'drosophila_mi-1000')"
   ]
  },
  {
   "cell_type": "code",
   "execution_count": 85,
   "metadata": {
    "ExecuteTime": {
     "end_time": "2020-09-27T21:41:29.501012Z",
     "start_time": "2020-09-27T21:41:26.815092Z"
    }
   },
   "outputs": [
    {
     "data": {
      "image/png": "[encoded data removed]",
      "text/plain": [
       "<Figure size 360x360 with 2 Axes>"
      ]
     },
     "metadata": {
      "needs_background": "light"
     },
     "output_type": "display_data"
    }
   ],
   "source": [
    "yoff=-.20\n",
    "ncols = 4\n",
    "zoom = 5\n",
    "hr = [1, 1]\n",
    "nrows = np.ceil(len(MI_DF)/ncols).astype(int)\n",
    "fig = plt.figure(figsize=(5,5)) \n",
    "gs = gridspec.GridSpec(ncols=len(MI_DF), nrows=2, height_ratios=hr) \n",
    "\n",
    "ax0 = plt.subplot(gs[0,axi])\n",
    "ax = ax0\n",
    "row = MI_DF.iloc[0]\n",
    "\n",
    "sig = np.array(row.MI-row.shuff_MI)\n",
    "distances = row.distances\n",
    "sig = sig\n",
    "# get signal limits\n",
    "sig_lims = np.log([np.min(sig[sig>0]), np.nanmax(sig)])\n",
    "sig_lims = [sig_lims[0] - (sig_lims[1]-sig_lims[0])/10,\n",
    "                sig_lims[1] + (sig_lims[1]-sig_lims[0])/10]\n",
    "\n",
    "# plot real data\n",
    "ax.plot(distances, sig, alpha = 1, lw=2, color=\"k\", zorder=10, label='data')\n",
    "\n",
    "ax.set_xlabel('Distance (states)', labelpad=5, fontsize=18)\n",
    "#print(row.language, distances[peak_of_interest])\n",
    "\n",
    "#ax.set_ylabel('MI rel. chance (bits)', labelpad=5, fontsize=18)\n",
    "ax.yaxis.set_label_coords(yoff,0.5)\n",
    "\n",
    "\n",
    "ax.set_xscale( \"log\" , basex=10)\n",
    "#ax.set_yscale( \"log\" , basey=10)\n",
    "\n",
    "\n",
    "ax.set_xlim([distances[0], distances[-1]])\n",
    "#sig_lims[0] = np.log(10e-6)\n",
    "\n",
    "ax.axhline(0, alpha = 1, lw=2, color=\"k\", ls='dashed', zorder=10, label='chance')\n",
    "\n",
    "ax.tick_params(which='both', direction='in', labelsize=14, pad=10)\n",
    "ax.tick_params(which='major', length=6, width =3)\n",
    "ax.tick_params(which='minor', length=3, width =2)\n",
    "\n",
    "for axis in ['top','bottom','left','right']:\n",
    "    ax.spines[axis].set_linewidth(3)\n",
    "    ax.spines[axis].set_color('k')\n",
    "ax.set_xticks([])\n",
    "#ax.set_ylim([-0.1, 1.5])\n",
    "\n",
    "legend= ax.legend(fontsize=16, frameon=False)\n",
    "\n",
    "gs.update(wspace=0.075, hspace=0.1)\n",
    "#ax0.set_title(\"Drosophila\", fontsize=24)\n",
    "#save_fig(FIGURE_DIR/'drosophila_mi-1000')\n",
    "\n",
    "ax.set_ylim([-0.1, 1.8])\n",
    "\n",
    "\n",
    "\n",
    "\n",
    "ax0 = plt.subplot(gs[1,axi])\n",
    "ax = ax0\n",
    "row = MI_DF.iloc[0]\n",
    "\n",
    "# plot real data\n",
    "#ax.scatter(distances, sig, alpha = 1, s=60, color=color)   \n",
    "ax.plot(distances, sig, alpha = 1, lw=2, color=\"k\", zorder=10, label='data')\n",
    "\n",
    "\n",
    "\n",
    "ax.set_xlabel('Distance (states)', labelpad=5, fontsize=18)\n",
    "\n",
    "\n",
    "#ax.set_ylabel('MI rel. chance (bits)', labelpad=5, fontsize=18)\n",
    "ax.yaxis.set_label_coords(yoff,0.5)\n",
    "\n",
    "\n",
    "ax.set_xscale( \"log\" , basex=10)\n",
    "ax.set_yscale( \"log\" , basey=10)\n",
    "\n",
    "\n",
    "ax.set_xlim([distances[0], distances[-1]])\n",
    "#sig_lims[0] = np.log(10e-6)\n",
    "\n",
    "ax.tick_params(which='both', direction='in', labelsize=14, pad=10)\n",
    "ax.tick_params(which='major', length=6, width =3)\n",
    "ax.tick_params(which='minor', length=3, width =2)\n",
    "\n",
    "for axis in ['top','bottom','left','right']:\n",
    "    ax.spines[axis].set_linewidth(3)\n",
    "    ax.spines[axis].set_color('k')\n",
    "ax.set_xticks([1,10,100, 1000])\n",
    "ax.set_xticklabels(['1','10','100', '1000'])\n",
    "#ax.set_ylim([-0.1, 1.5])\n",
    "\n",
    "#legend= ax.legend(fontsize=16, frameon=False)\n",
    "\n",
    "gs.update(wspace=0.075, hspace=0.1)\n",
    "#ax0.set_title(\"Drosophila\", fontsize=24)\n",
    "save_fig(FIGURE_DIR/'zf_mi-1000-preview')"
   ]
  },
  {
   "cell_type": "code",
   "execution_count": 86,
   "metadata": {
    "ExecuteTime": {
     "end_time": "2020-09-27T21:42:23.153315Z",
     "start_time": "2020-09-27T21:42:22.852459Z"
    }
   },
   "outputs": [
    {
     "data": {
      "text/plain": [
       "PosixPath('/mnt/cube/tsainbur/Projects/github_repos/childes_mi_project/figures')"
      ]
     },
     "execution_count": 86,
     "metadata": {},
     "output_type": "execute_result"
    }
   ],
   "source": [
    "FIGURE_DIR"
   ]
  }
 ],
 "metadata": {
  "kernelspec": {
   "display_name": "Python 3",
   "language": "python",
   "name": "python3"
  },
  "language_info": {
   "codemirror_mode": {
    "name": "ipython",
    "version": 3
   },
   "file_extension": ".py",
   "mimetype": "text/x-python",
   "name": "python",
   "nbconvert_exporter": "python",
   "pygments_lexer": "ipython3",
   "version": "3.6.7"
  }
 },
 "nbformat": 4,
 "nbformat_minor": 2
}
