{
 "cells": [
  {
   "cell_type": "code",
   "execution_count": 1,
   "metadata": {
    "ExecuteTime": {
     "end_time": "2019-08-28T18:18:52.470802Z",
     "start_time": "2019-08-28T18:18:52.468440Z"
    }
   },
   "outputs": [],
   "source": [
    "# https://mail.google.com/mail/u/0/#inbox/QgrcJHrnscJGjsRzFLPzmGMZSlGWKMsntRB"
   ]
  },
  {
   "cell_type": "code",
   "execution_count": 2,
   "metadata": {
    "ExecuteTime": {
     "end_time": "2019-08-28T18:18:52.606289Z",
     "start_time": "2019-08-28T18:18:52.472454Z"
    }
   },
   "outputs": [],
   "source": [
    "%load_ext autoreload\n",
    "%autoreload 2"
   ]
  },
  {
   "cell_type": "code",
   "execution_count": 3,
   "metadata": {
    "ExecuteTime": {
     "end_time": "2019-08-28T18:18:52.748992Z",
     "start_time": "2019-08-28T18:18:52.610159Z"
    }
   },
   "outputs": [],
   "source": [
    "from childes_mi.utils.paths import DATA_DIR, ensure_dir, DROSOPHILA_DIR\n",
    "import urllib.request"
   ]
  },
  {
   "cell_type": "code",
   "execution_count": 4,
   "metadata": {
    "ExecuteTime": {
     "end_time": "2019-08-28T18:18:54.899589Z",
     "start_time": "2019-08-28T18:18:52.751965Z"
    }
   },
   "outputs": [
    {
     "name": "stderr",
     "output_type": "stream",
     "text": [
      "/mnt/cube/tsainbur/conda_envs/tpy3/lib/python3.6/site-packages/tqdm/autonotebook/__init__.py:14: TqdmExperimentalWarning: Using `tqdm.autonotebook.tqdm` in notebook mode. Use `tqdm.tqdm` instead to force console mode (e.g. in jupyter console)\n",
      "  \" (e.g. in jupyter console)\", TqdmExperimentalWarning)\n"
     ]
    }
   ],
   "source": [
    "from tqdm.autonotebook import tqdm\n",
    "import h5py\n",
    "import numpy as np\n",
    "import scipy.io\n",
    "import matplotlib.pyplot as plt\n",
    "import pandas as pd"
   ]
  },
  {
   "cell_type": "code",
   "execution_count": 5,
   "metadata": {
    "ExecuteTime": {
     "end_time": "2019-08-28T18:18:54.990400Z",
     "start_time": "2019-08-28T18:18:54.904717Z"
    }
   },
   "outputs": [
    {
     "data": {
      "text/plain": [
       "PosixPath('/mnt/cube/tsainbur/Projects/github_repos/childes_mi_project/data/raw/DROSOPHILA_Data_Dir/transition_data.mat')"
      ]
     },
     "execution_count": 5,
     "metadata": {},
     "output_type": "execute_result"
    }
   ],
   "source": [
    "mat_file = list(DROSOPHILA_DIR.glob('*.mat'))[0]\n",
    "mat_file"
   ]
  },
  {
   "cell_type": "code",
   "execution_count": 6,
   "metadata": {
    "ExecuteTime": {
     "end_time": "2019-08-28T18:18:55.123776Z",
     "start_time": "2019-08-28T18:18:54.994321Z"
    }
   },
   "outputs": [],
   "source": [
    "ds = scipy.io.loadmat(mat_file.as_posix())"
   ]
  },
  {
   "cell_type": "code",
   "execution_count": 7,
   "metadata": {
    "ExecuteTime": {
     "end_time": "2019-08-28T18:18:55.170822Z",
     "start_time": "2019-08-28T18:18:55.127164Z"
    }
   },
   "outputs": [
    {
     "data": {
      "text/plain": [
       "dict_keys(['__header__', '__version__', '__globals__', 'density', 'transition_states', 'xx', 'peakPoints', 'regionMap'])"
      ]
     },
     "execution_count": 7,
     "metadata": {},
     "output_type": "execute_result"
    }
   ],
   "source": [
    "ds.keys()"
   ]
  },
  {
   "cell_type": "code",
   "execution_count": 8,
   "metadata": {
    "ExecuteTime": {
     "end_time": "2019-08-28T18:18:55.257305Z",
     "start_time": "2019-08-28T18:18:55.173626Z"
    }
   },
   "outputs": [
    {
     "data": {
      "text/plain": [
       "array([array([[59],\n",
       "       [43],\n",
       "       [11],\n",
       "       ...,\n",
       "       [43],\n",
       "       [40],\n",
       "       [44]], dtype=uint8)], dtype=object)"
      ]
     },
     "execution_count": 8,
     "metadata": {},
     "output_type": "execute_result"
    }
   ],
   "source": [
    "ds['transition_states'][0]"
   ]
  },
  {
   "cell_type": "code",
   "execution_count": 9,
   "metadata": {
    "ExecuteTime": {
     "end_time": "2019-08-28T18:18:55.710408Z",
     "start_time": "2019-08-28T18:18:55.259669Z"
    }
   },
   "outputs": [],
   "source": [
    "states = [np.concatenate(np.concatenate(i)) for i in ds['transition_states']]"
   ]
  },
  {
   "cell_type": "code",
   "execution_count": 10,
   "metadata": {
    "ExecuteTime": {
     "end_time": "2019-08-28T18:18:55.736384Z",
     "start_time": "2019-08-28T18:18:55.712239Z"
    }
   },
   "outputs": [
    {
     "data": {
      "text/plain": [
       "array([59, 43, 11, ..., 43, 40, 44], dtype=uint8)"
      ]
     },
     "execution_count": 10,
     "metadata": {},
     "output_type": "execute_result"
    }
   ],
   "source": [
    "states[0]"
   ]
  },
  {
   "cell_type": "code",
   "execution_count": 11,
   "metadata": {
    "ExecuteTime": {
     "end_time": "2019-08-28T18:18:55.839483Z",
     "start_time": "2019-08-28T18:18:55.738251Z"
    }
   },
   "outputs": [
    {
     "data": {
      "text/plain": [
       "10803"
      ]
     },
     "execution_count": 11,
     "metadata": {},
     "output_type": "execute_result"
    }
   ],
   "source": [
    "len(states[0])"
   ]
  },
  {
   "cell_type": "code",
   "execution_count": 12,
   "metadata": {
    "ExecuteTime": {
     "end_time": "2019-08-28T18:18:55.930459Z",
     "start_time": "2019-08-28T18:18:55.841319Z"
    }
   },
   "outputs": [],
   "source": [
    "state_lens = [len(i) for i in states]"
   ]
  },
  {
   "cell_type": "code",
   "execution_count": 13,
   "metadata": {
    "ExecuteTime": {
     "end_time": "2019-08-28T18:18:56.451538Z",
     "start_time": "2019-08-28T18:18:55.933154Z"
    }
   },
   "outputs": [
    {
     "data": {
      "text/plain": [
       "(array([ 3.,  1.,  6.,  8., 18., 11.,  8.,  3.,  0.,  1.]),\n",
       " array([ 7447. ,  8181.3,  8915.6,  9649.9, 10384.2, 11118.5, 11852.8,\n",
       "        12587.1, 13321.4, 14055.7, 14790. ]),\n",
       " <a list of 10 Patch objects>)"
      ]
     },
     "execution_count": 13,
     "metadata": {},
     "output_type": "execute_result"
    },
    {
     "data": {
      "image/png": "[encoded data removed]",
      "text/plain": [
       "<Figure size 432x288 with 1 Axes>"
      ]
     },
     "metadata": {
      "needs_background": "light"
     },
     "output_type": "display_data"
    }
   ],
   "source": [
    "plt.hist(state_lens)"
   ]
  },
  {
   "cell_type": "code",
   "execution_count": 14,
   "metadata": {
    "ExecuteTime": {
     "end_time": "2019-08-28T18:18:57.047025Z",
     "start_time": "2019-08-28T18:18:56.461243Z"
    }
   },
   "outputs": [
    {
     "data": {
      "application/vnd.jupyter.widget-view+json": {
       "model_id": "6b072bbaeb064de9bb827909c1e4324f",
       "version_major": 2,
       "version_minor": 0
      },
      "text/plain": [
       "HBox(children=(IntProgress(value=0, max=59), HTML(value='')))"
      ]
     },
     "metadata": {},
     "output_type": "display_data"
    },
    {
     "name": "stdout",
     "output_type": "stream",
     "text": [
      "\n"
     ]
    }
   ],
   "source": [
    "bouts_indv = [[\"{}_{}\".format(bi, element) for element in bout] for bi, bout in enumerate(tqdm(states))]"
   ]
  },
  {
   "cell_type": "markdown",
   "metadata": {},
   "source": [
    "### Mutual information"
   ]
  },
  {
   "cell_type": "code",
   "execution_count": 15,
   "metadata": {
    "ExecuteTime": {
     "end_time": "2019-08-28T18:19:00.108800Z",
     "start_time": "2019-08-28T18:18:57.049559Z"
    }
   },
   "outputs": [
    {
     "name": "stderr",
     "output_type": "stream",
     "text": [
      "/mnt/cube/tsainbur/conda_envs/tpy3/lib/python3.6/site-packages/sklearn/utils/deprecation.py:144: FutureWarning: The sklearn.metrics.cluster.supervised module is  deprecated in version 0.22 and will be removed in version 0.24. The corresponding classes / functions should instead be imported from sklearn.metrics.cluster. Anything that cannot be imported from sklearn.metrics.cluster is now part of the private API.\n",
      "  warnings.warn(message, FutureWarning)\n",
      "/mnt/cube/tsainbur/conda_envs/tpy3/lib/python3.6/site-packages/sklearn/utils/deprecation.py:144: FutureWarning: The sklearn.metrics.cluster.expected_mutual_info_fast module is  deprecated in version 0.22 and will be removed in version 0.24. The corresponding classes / functions should instead be imported from sklearn.metrics.cluster. Anything that cannot be imported from sklearn.metrics.cluster is now part of the private API.\n",
      "  warnings.warn(message, FutureWarning)\n"
     ]
    }
   ],
   "source": [
    "from childes_mi.information_theory import mutual_information as mi"
   ]
  },
  {
   "cell_type": "code",
   "execution_count": 16,
   "metadata": {
    "ExecuteTime": {
     "end_time": "2019-08-28T18:19:00.166359Z",
     "start_time": "2019-08-28T18:19:00.113313Z"
    }
   },
   "outputs": [],
   "source": [
    "distances = np.arange(1,1001)"
   ]
  },
  {
   "cell_type": "code",
   "execution_count": 17,
   "metadata": {
    "ExecuteTime": {
     "end_time": "2019-08-28T18:45:37.204756Z",
     "start_time": "2019-08-28T18:19:00.169798Z"
    }
   },
   "outputs": [
    {
     "data": {
      "application/vnd.jupyter.widget-view+json": {
       "model_id": "",
       "version_major": 2,
       "version_minor": 0
      },
      "text/plain": [
       "HBox(children=(IntProgress(value=0, max=1000), HTML(value='')))"
      ]
     },
     "metadata": {},
     "output_type": "display_data"
    },
    {
     "name": "stderr",
     "output_type": "stream",
     "text": [
      "[Parallel(n_jobs=-1)]: Using backend LokyBackend with 32 concurrent workers.\n",
      "[Parallel(n_jobs=-1)]: Done   8 tasks      | elapsed:    4.2s\n",
      "[Parallel(n_jobs=-1)]: Done  98 tasks      | elapsed:    6.0s\n",
      "[Parallel(n_jobs=-1)]: Done 224 tasks      | elapsed:    8.8s\n",
      "[Parallel(n_jobs=-1)]: Done 386 tasks      | elapsed:   12.5s\n",
      "[Parallel(n_jobs=-1)]: Done 584 tasks      | elapsed:   16.8s\n",
      "[Parallel(n_jobs=-1)]: Done 818 tasks      | elapsed:   21.9s\n"
     ]
    },
    {
     "name": "stdout",
     "output_type": "stream",
     "text": [
      "\r"
     ]
    },
    {
     "name": "stderr",
     "output_type": "stream",
     "text": [
      "[Parallel(n_jobs=-1)]: Done 1000 out of 1000 | elapsed:   25.8s finished\n"
     ]
    },
    {
     "data": {
      "application/vnd.jupyter.widget-view+json": {
       "model_id": "",
       "version_major": 2,
       "version_minor": 0
      },
      "text/plain": [
       "HBox(children=(IntProgress(value=0, max=1000), HTML(value='')))"
      ]
     },
     "metadata": {},
     "output_type": "display_data"
    },
    {
     "name": "stderr",
     "output_type": "stream",
     "text": [
      "[Parallel(n_jobs=-1)]: Using backend LokyBackend with 32 concurrent workers.\n",
      "[Parallel(n_jobs=-1)]: Done   8 tasks      | elapsed:    0.8s\n",
      "[Parallel(n_jobs=-1)]: Done  98 tasks      | elapsed:    3.1s\n",
      "[Parallel(n_jobs=-1)]: Done 224 tasks      | elapsed:    5.9s\n",
      "[Parallel(n_jobs=-1)]: Done 386 tasks      | elapsed:    9.9s\n",
      "[Parallel(n_jobs=-1)]: Done 584 tasks      | elapsed:   14.8s\n",
      "[Parallel(n_jobs=-1)]: Done 818 tasks      | elapsed:   20.2s\n"
     ]
    },
    {
     "name": "stdout",
     "output_type": "stream",
     "text": [
      "\r"
     ]
    },
    {
     "name": "stderr",
     "output_type": "stream",
     "text": [
      "[Parallel(n_jobs=-1)]: Done 1000 out of 1000 | elapsed:   24.3s finished\n"
     ]
    }
   ],
   "source": [
    "(MI, MI_var), (shuff_MI, shuff_MI_var) = mi.sequential_mutual_information(\n",
    "    bouts_indv, distances=distances, n_jobs=-1\n",
    ")"
   ]
  },
  {
   "cell_type": "code",
   "execution_count": 18,
   "metadata": {
    "ExecuteTime": {
     "end_time": "2019-08-28T18:45:40.015120Z",
     "start_time": "2019-08-28T18:45:37.209902Z"
    }
   },
   "outputs": [],
   "source": [
    "MI_DF = pd.DataFrame(\n",
    "    [[MI, MI_var, shuff_MI, shuff_MI_var, distances]],\n",
    "    columns=[\"MI\", \"MI_var\", \"shuff_MI\", \"shuff_MI_var\", \"distances\"],\n",
    ")"
   ]
  },
  {
   "cell_type": "code",
   "execution_count": 19,
   "metadata": {
    "ExecuteTime": {
     "end_time": "2019-08-28T18:45:40.495660Z",
     "start_time": "2019-08-28T18:45:40.019727Z"
    }
   },
   "outputs": [],
   "source": [
    "MI_DF.to_pickle(DATA_DIR / \"mi\" / \"drosophila_mi_1000.pickle\")"
   ]
  },
  {
   "cell_type": "code",
   "execution_count": 20,
   "metadata": {
    "ExecuteTime": {
     "end_time": "2019-08-28T18:45:40.550468Z",
     "start_time": "2019-08-28T18:45:40.499727Z"
    }
   },
   "outputs": [],
   "source": [
    "row = MI_DF.iloc[0]"
   ]
  },
  {
   "cell_type": "code",
   "execution_count": 21,
   "metadata": {
    "ExecuteTime": {
     "end_time": "2019-08-28T18:48:15.844229Z",
     "start_time": "2019-08-28T18:48:14.745703Z"
    }
   },
   "outputs": [
    {
     "data": {
      "image/png": "[encoded data removed]",
      "text/plain": [
       "<Figure size 720x360 with 1 Axes>"
      ]
     },
     "metadata": {
      "needs_background": "light"
     },
     "output_type": "display_data"
    }
   ],
   "source": [
    "fig, ax = plt.subplots(figsize=(10,5))\n",
    "MI = row.MI-row.shuff_MI\n",
    "MI_var = row.MI_var\n",
    "\n",
    "ax.scatter(distances, MI)\n",
    "ax.fill_between(distances, MI-MI_var, MI+MI_var, alpha = 0.25, color= 'k')\n",
    "ax.set_ylim([1e-2, 3])\n",
    "ax.set_yscale('log')\n",
    "ax.set_xscale('log')"
   ]
  },
  {
   "cell_type": "code",
   "execution_count": 22,
   "metadata": {
    "ExecuteTime": {
     "end_time": "2019-08-28T18:45:42.594031Z",
     "start_time": "2019-08-28T18:45:41.821926Z"
    }
   },
   "outputs": [
    {
     "data": {
      "text/plain": [
       "[<matplotlib.lines.Line2D at 0x7fe96ee019b0>]"
      ]
     },
     "execution_count": 22,
     "metadata": {},
     "output_type": "execute_result"
    },
    {
     "data": {
      "image/png": "[encoded data removed]",
      "text/plain": [
       "<Figure size 432x288 with 1 Axes>"
      ]
     },
     "metadata": {
      "needs_background": "light"
     },
     "output_type": "display_data"
    }
   ],
   "source": [
    "plt.loglog(row.MI)\n",
    "plt.loglog(row.shuff_MI)"
   ]
  },
  {
   "cell_type": "markdown",
   "metadata": {},
   "source": [
    "### no repeats"
   ]
  },
  {
   "cell_type": "code",
   "execution_count": 59,
   "metadata": {},
   "outputs": [],
   "source": [
    "from childes_mi.information_theory import model_fitting as mf"
   ]
  },
  {
   "cell_type": "code",
   "execution_count": 60,
   "metadata": {},
   "outputs": [],
   "source": [
    "def remove_repeats(sequence):\n",
    "    a = np.array(sequence[1:])\n",
    "    b = np.array(sequence[:-1])\n",
    "    c = [sequence[0]] + list(a[a != b])\n",
    "    return c"
   ]
  },
  {
   "cell_type": "code",
   "execution_count": 61,
   "metadata": {},
   "outputs": [],
   "source": [
    "bouts_indv_no_repeats = [remove_repeats(i) for i in bouts_indv]"
   ]
  },
  {
   "cell_type": "code",
   "execution_count": 62,
   "metadata": {
    "ExecuteTime": {
     "end_time": "2020-01-05T21:17:19.731153Z",
     "start_time": "2020-01-05T21:17:19.686826Z"
    }
   },
   "outputs": [],
   "source": [
    "distances = np.arange(1,1001)"
   ]
  },
  {
   "cell_type": "code",
   "execution_count": 63,
   "metadata": {
    "ExecuteTime": {
     "end_time": "2020-01-05T21:45:07.817613Z",
     "start_time": "2020-01-05T21:17:19.733694Z"
    }
   },
   "outputs": [
    {
     "data": {
      "application/vnd.jupyter.widget-view+json": {
       "model_id": "",
       "version_major": 2,
       "version_minor": 0
      },
      "text/plain": [
       "HBox(children=(IntProgress(value=0, max=1000), HTML(value='')))"
      ]
     },
     "metadata": {},
     "output_type": "display_data"
    },
    {
     "name": "stderr",
     "output_type": "stream",
     "text": [
      "[Parallel(n_jobs=-1)]: Using backend LokyBackend with 32 concurrent workers.\n",
      "[Parallel(n_jobs=-1)]: Done   8 tasks      | elapsed:    4.1s\n",
      "[Parallel(n_jobs=-1)]: Done  98 tasks      | elapsed:    6.1s\n",
      "[Parallel(n_jobs=-1)]: Done 224 tasks      | elapsed:    8.8s\n",
      "[Parallel(n_jobs=-1)]: Done 386 tasks      | elapsed:   12.5s\n",
      "[Parallel(n_jobs=-1)]: Done 584 tasks      | elapsed:   16.9s\n",
      "[Parallel(n_jobs=-1)]: Done 818 tasks      | elapsed:   22.1s\n"
     ]
    },
    {
     "name": "stdout",
     "output_type": "stream",
     "text": [
      "\r"
     ]
    },
    {
     "name": "stderr",
     "output_type": "stream",
     "text": [
      "[Parallel(n_jobs=-1)]: Done 1000 out of 1000 | elapsed:   25.9s finished\n"
     ]
    },
    {
     "data": {
      "application/vnd.jupyter.widget-view+json": {
       "model_id": "",
       "version_major": 2,
       "version_minor": 0
      },
      "text/plain": [
       "HBox(children=(IntProgress(value=0, max=1000), HTML(value='')))"
      ]
     },
     "metadata": {},
     "output_type": "display_data"
    },
    {
     "name": "stderr",
     "output_type": "stream",
     "text": [
      "[Parallel(n_jobs=-1)]: Using backend LokyBackend with 32 concurrent workers.\n",
      "[Parallel(n_jobs=-1)]: Done   8 tasks      | elapsed:    0.8s\n",
      "[Parallel(n_jobs=-1)]: Done  98 tasks      | elapsed:    3.2s\n",
      "[Parallel(n_jobs=-1)]: Done 224 tasks      | elapsed:    5.9s\n",
      "[Parallel(n_jobs=-1)]: Done 386 tasks      | elapsed:   10.0s\n",
      "[Parallel(n_jobs=-1)]: Done 584 tasks      | elapsed:   14.8s\n",
      "[Parallel(n_jobs=-1)]: Done 818 tasks      | elapsed:   20.3s\n"
     ]
    },
    {
     "name": "stdout",
     "output_type": "stream",
     "text": [
      "\r"
     ]
    },
    {
     "name": "stderr",
     "output_type": "stream",
     "text": [
      "[Parallel(n_jobs=-1)]: Done 1000 out of 1000 | elapsed:   24.4s finished\n"
     ]
    }
   ],
   "source": [
    "(MI, MI_var), (shuff_MI, shuff_MI_var) = mi.sequential_mutual_information(\n",
    "    bouts_indv_no_repeats, distances=distances, n_jobs=-1\n",
    ")"
   ]
  },
  {
   "cell_type": "code",
   "execution_count": 64,
   "metadata": {
    "ExecuteTime": {
     "end_time": "2020-01-05T21:45:08.048520Z",
     "start_time": "2020-01-05T21:45:07.821618Z"
    }
   },
   "outputs": [],
   "source": [
    "MI_DF = pd.DataFrame(\n",
    "    [[MI, MI_var, shuff_MI, shuff_MI_var, distances]],\n",
    "    columns=[\"MI\", \"MI_var\", \"shuff_MI\", \"shuff_MI_var\", \"distances\"],\n",
    ")"
   ]
  },
  {
   "cell_type": "code",
   "execution_count": 65,
   "metadata": {
    "ExecuteTime": {
     "end_time": "2020-01-05T21:45:08.194311Z",
     "start_time": "2020-01-05T21:45:08.050532Z"
    }
   },
   "outputs": [],
   "source": [
    "MI_DF.to_pickle(DATA_DIR / \"mi\" / \"drosophila_mi_1000_no_repeats.pickle\")"
   ]
  },
  {
   "cell_type": "code",
   "execution_count": 43,
   "metadata": {
    "ExecuteTime": {
     "end_time": "2020-01-05T21:45:08.304927Z",
     "start_time": "2020-01-05T21:45:08.196349Z"
    }
   },
   "outputs": [
    {
     "data": {
      "text/html": [
       "<div>\n",
       "<style scoped>\n",
       "    .dataframe tbody tr th:only-of-type {\n",
       "        vertical-align: middle;\n",
       "    }\n",
       "\n",
       "    .dataframe tbody tr th {\n",
       "        vertical-align: top;\n",
       "    }\n",
       "\n",
       "    .dataframe thead th {\n",
       "        text-align: right;\n",
       "    }\n",
       "</style>\n",
       "<table border=\"1\" class=\"dataframe\">\n",
       "  <thead>\n",
       "    <tr style=\"text-align: right;\">\n",
       "      <th></th>\n",
       "      <th>MI</th>\n",
       "      <th>MI_var</th>\n",
       "      <th>shuff_MI</th>\n",
       "      <th>shuff_MI_var</th>\n",
       "      <th>distances</th>\n",
       "    </tr>\n",
       "  </thead>\n",
       "  <tbody>\n",
       "    <tr>\n",
       "      <th>0</th>\n",
       "      <td>[11.490855469682131, 11.113366318302845, 10.94...</td>\n",
       "      <td>[0.0032101072658640537, 0.003149172574458995, ...</td>\n",
       "      <td>[10.161265630190066, 10.161671030084161, 10.16...</td>\n",
       "      <td>[0.0030512739505473203, 0.003051607421549551, ...</td>\n",
       "      <td>[1, 2, 3, 4, 5, 6, 7, 8, 9, 10, 11, 12, 13, 14...</td>\n",
       "    </tr>\n",
       "  </tbody>\n",
       "</table>\n",
       "</div>"
      ],
      "text/plain": [
       "                                                  MI  \\\n",
       "0  [11.490855469682131, 11.113366318302845, 10.94...   \n",
       "\n",
       "                                              MI_var  \\\n",
       "0  [0.0032101072658640537, 0.003149172574458995, ...   \n",
       "\n",
       "                                            shuff_MI  \\\n",
       "0  [10.161265630190066, 10.161671030084161, 10.16...   \n",
       "\n",
       "                                        shuff_MI_var  \\\n",
       "0  [0.0030512739505473203, 0.003051607421549551, ...   \n",
       "\n",
       "                                           distances  \n",
       "0  [1, 2, 3, 4, 5, 6, 7, 8, 9, 10, 11, 12, 13, 14...  "
      ]
     },
     "execution_count": 43,
     "metadata": {},
     "output_type": "execute_result"
    }
   ],
   "source": [
    "MI_DF[:10]"
   ]
  },
  {
   "cell_type": "code",
   "execution_count": 44,
   "metadata": {
    "ExecuteTime": {
     "end_time": "2020-01-06T18:20:07.598617Z",
     "start_time": "2020-01-06T18:20:07.292469Z"
    }
   },
   "outputs": [],
   "source": [
    "row = MI_DF.iloc[0]"
   ]
  },
  {
   "cell_type": "code",
   "execution_count": 45,
   "metadata": {
    "ExecuteTime": {
     "end_time": "2020-01-06T18:20:10.171834Z",
     "start_time": "2020-01-06T18:20:09.053690Z"
    }
   },
   "outputs": [
    {
     "data": {
      "image/png": "[encoded data removed]",
      "text/plain": [
       "<Figure size 720x360 with 1 Axes>"
      ]
     },
     "metadata": {
      "needs_background": "light"
     },
     "output_type": "display_data"
    }
   ],
   "source": [
    "fig, ax = plt.subplots(figsize=(10,5))\n",
    "MI = row.MI-row.shuff_MI\n",
    "MI_var = row.MI_var\n",
    "\n",
    "ax.scatter(distances, MI)\n",
    "ax.fill_between(distances, MI-MI_var, MI+MI_var, alpha = 0.25, color= 'k')\n",
    "ax.set_ylim([1e-2, 3])\n",
    "ax.set_yscale('log')\n",
    "ax.set_xscale('log')"
   ]
  },
  {
   "cell_type": "code",
   "execution_count": 46,
   "metadata": {
    "ExecuteTime": {
     "end_time": "2020-01-06T18:20:10.760993Z",
     "start_time": "2020-01-06T18:20:10.175305Z"
    }
   },
   "outputs": [
    {
     "data": {
      "text/plain": [
       "[<matplotlib.lines.Line2D at 0x7fe96cc7fd68>]"
      ]
     },
     "execution_count": 46,
     "metadata": {},
     "output_type": "execute_result"
    },
    {
     "data": {
      "image/png": "[encoded data removed]",
      "text/plain": [
       "<Figure size 432x288 with 1 Axes>"
      ]
     },
     "metadata": {
      "needs_background": "light"
     },
     "output_type": "display_data"
    }
   ],
   "source": [
    "plt.loglog(row.MI)\n",
    "plt.loglog(row.shuff_MI)"
   ]
  },
  {
   "cell_type": "code",
   "execution_count": 47,
   "metadata": {
    "ExecuteTime": {
     "end_time": "2019-08-28T18:48:36.510451Z",
     "start_time": "2019-08-28T18:48:36.393268Z"
    }
   },
   "outputs": [],
   "source": [
    "MI_DF = MI_DF.assign(**{i:np.nan for i in ['exp_results', 'pow_results', 'concat_results',\n",
    "     'R2_exp', 'R2_concat', 'R2_power', 'AICc_exp',\n",
    "     'AICc_concat', 'AICc_power', 'bestfitmodel', 'curvature', 'min_peak']})\n",
    "MI_DF['curvature'] = MI_DF['curvature'].astype(object)"
   ]
  },
  {
   "cell_type": "code",
   "execution_count": 48,
   "metadata": {
    "ExecuteTime": {
     "end_time": "2019-08-28T18:48:37.492165Z",
     "start_time": "2019-08-28T18:48:36.515323Z"
    }
   },
   "outputs": [
    {
     "data": {
      "application/vnd.jupyter.widget-view+json": {
       "model_id": "74637a3b19b2402fb4fc9f8b2c57b30f",
       "version_major": 2,
       "version_minor": 0
      },
      "text/plain": [
       "HBox(children=(IntProgress(value=0, max=1), HTML(value='')))"
      ]
     },
     "metadata": {},
     "output_type": "display_data"
    },
    {
     "name": "stdout",
     "output_type": "stream",
     "text": [
      "\n"
     ]
    }
   ],
   "source": [
    "n = 100 # max distance for computation\n",
    "for idx, row in tqdm(MI_DF.iterrows(), total=len(MI_DF)):\n",
    "    # get signal\n",
    "    sig = np.array(row.MI-row.shuff_MI)\n",
    "    distances = row.distances\n",
    "    sig = sig\n",
    "    \n",
    "    # fit models\n",
    "    results_power, results_exp, results_pow_exp, best_fit_model = mf.fit_models(distances, sig)\n",
    "    \n",
    "    # get fit results\n",
    "    R2_exp, R2_concat, R2_power, AICc_exp, \\\n",
    "        AICc_pow, AICc_concat = mf.fit_results(sig, distances, \n",
    "                                              results_exp, results_power,\n",
    "                                              results_pow_exp)\n",
    "    \n",
    "    \n",
    "    \n",
    "    \n",
    "    # get model y\n",
    "    distances_mod = np.logspace(0,np.log10(n), base=10, num=1000)\n",
    "    if best_fit_model == 'pow_exp':\n",
    "        y_model = mf.get_y(mf.pow_exp_decay, results_pow_exp, distances_mod)\n",
    "    elif best_fit_model == 'exp':\n",
    "        y_model = mf.get_y(mf.exp_decay, results_exp, distances_mod)\n",
    "    elif best_fit_model == 'pow':\n",
    "        y_model = mf.get_y(mf.powerlaw_decay, results_power, distances_mod)\n",
    "    \n",
    "    # get curvature of model_y\n",
    "    curvature_model = mf.curvature(np.log(y_model))\n",
    "    \n",
    "    # if the best fit model is pow_exp, then grab the min peak\n",
    "    if best_fit_model == 'pow_exp':\n",
    "        # get peaks of curvature\n",
    "        peaks = np.where((\n",
    "            (curvature_model[:-1] < curvature_model[1:])[1:] & (curvature_model[1:] < curvature_model[:-1])[:-1]\n",
    "        ))\n",
    "        min_peak = peaks[0][0]\n",
    "    else:\n",
    "        min_peak = np.nan\n",
    "\n",
    "    # get save model fit results to MI_DF\n",
    "    MI_DF.loc[idx, np.array(['exp_results', 'pow_results', 'concat_results',\n",
    "                         'R2_exp', 'R2_concat', 'R2_power', 'AICc_exp',\n",
    "                         'AICc_concat', 'AICc_power', 'bestfitmodel', 'curvature', 'min_peak'])] = [\n",
    "        results_exp, results_power, results_pow_exp,\n",
    "        R2_exp, R2_concat, R2_power, AICc_exp,\n",
    "        AICc_concat, AICc_pow, best_fit_model,\n",
    "        curvature_model, min_peak\n",
    "    ]\n"
   ]
  },
  {
   "cell_type": "code",
   "execution_count": 49,
   "metadata": {
    "ExecuteTime": {
     "end_time": "2019-08-28T18:48:37.553838Z",
     "start_time": "2019-08-28T18:48:37.494150Z"
    }
   },
   "outputs": [
    {
     "data": {
      "text/html": [
       "<div>\n",
       "<style scoped>\n",
       "    .dataframe tbody tr th:only-of-type {\n",
       "        vertical-align: middle;\n",
       "    }\n",
       "\n",
       "    .dataframe tbody tr th {\n",
       "        vertical-align: top;\n",
       "    }\n",
       "\n",
       "    .dataframe thead th {\n",
       "        text-align: right;\n",
       "    }\n",
       "</style>\n",
       "<table border=\"1\" class=\"dataframe\">\n",
       "  <thead>\n",
       "    <tr style=\"text-align: right;\">\n",
       "      <th></th>\n",
       "      <th>MI</th>\n",
       "      <th>MI_var</th>\n",
       "      <th>shuff_MI</th>\n",
       "      <th>shuff_MI_var</th>\n",
       "      <th>distances</th>\n",
       "      <th>exp_results</th>\n",
       "      <th>pow_results</th>\n",
       "      <th>concat_results</th>\n",
       "      <th>R2_exp</th>\n",
       "      <th>R2_concat</th>\n",
       "      <th>R2_power</th>\n",
       "      <th>AICc_exp</th>\n",
       "      <th>AICc_concat</th>\n",
       "      <th>AICc_power</th>\n",
       "      <th>bestfitmodel</th>\n",
       "      <th>curvature</th>\n",
       "      <th>min_peak</th>\n",
       "    </tr>\n",
       "  </thead>\n",
       "  <tbody>\n",
       "    <tr>\n",
       "      <th>0</th>\n",
       "      <td>[11.490855469682131, 11.113366318302845, 10.94...</td>\n",
       "      <td>[0.0032101072658640537, 0.003149172574458995, ...</td>\n",
       "      <td>[10.161265630190066, 10.161671030084161, 10.16...</td>\n",
       "      <td>[0.0030512739505473203, 0.003051607421549551, ...</td>\n",
       "      <td>[1, 2, 3, 4, 5, 6, 7, 8, 9, 10, 11, 12, 13, 14...</td>\n",
       "      <td>&lt;lmfit.minimizer.MinimizerResult object at 0x7...</td>\n",
       "      <td>&lt;lmfit.minimizer.MinimizerResult object at 0x7...</td>\n",
       "      <td>&lt;lmfit.minimizer.MinimizerResult object at 0x7...</td>\n",
       "      <td>0.952109</td>\n",
       "      <td>0.999511</td>\n",
       "      <td>0.995515</td>\n",
       "      <td>-6512.972193</td>\n",
       "      <td>-11093.789298</td>\n",
       "      <td>-8881.080525</td>\n",
       "      <td>pow_exp</td>\n",
       "      <td>[3.1789220468430595e-07, 4.770135275863678e-07...</td>\n",
       "      <td>882.0</td>\n",
       "    </tr>\n",
       "  </tbody>\n",
       "</table>\n",
       "</div>"
      ],
      "text/plain": [
       "                                                  MI  \\\n",
       "0  [11.490855469682131, 11.113366318302845, 10.94...   \n",
       "\n",
       "                                              MI_var  \\\n",
       "0  [0.0032101072658640537, 0.003149172574458995, ...   \n",
       "\n",
       "                                            shuff_MI  \\\n",
       "0  [10.161265630190066, 10.161671030084161, 10.16...   \n",
       "\n",
       "                                        shuff_MI_var  \\\n",
       "0  [0.0030512739505473203, 0.003051607421549551, ...   \n",
       "\n",
       "                                           distances  \\\n",
       "0  [1, 2, 3, 4, 5, 6, 7, 8, 9, 10, 11, 12, 13, 14...   \n",
       "\n",
       "                                         exp_results  \\\n",
       "0  <lmfit.minimizer.MinimizerResult object at 0x7...   \n",
       "\n",
       "                                         pow_results  \\\n",
       "0  <lmfit.minimizer.MinimizerResult object at 0x7...   \n",
       "\n",
       "                                      concat_results    R2_exp  R2_concat  \\\n",
       "0  <lmfit.minimizer.MinimizerResult object at 0x7...  0.952109   0.999511   \n",
       "\n",
       "   R2_power     AICc_exp   AICc_concat   AICc_power bestfitmodel  \\\n",
       "0  0.995515 -6512.972193 -11093.789298 -8881.080525      pow_exp   \n",
       "\n",
       "                                           curvature  min_peak  \n",
       "0  [3.1789220468430595e-07, 4.770135275863678e-07...     882.0  "
      ]
     },
     "execution_count": 49,
     "metadata": {},
     "output_type": "execute_result"
    }
   ],
   "source": [
    "MI_DF"
   ]
  },
  {
   "cell_type": "code",
   "execution_count": 50,
   "metadata": {
    "ExecuteTime": {
     "end_time": "2019-09-25T04:05:26.723488Z",
     "start_time": "2019-09-25T04:05:26.671522Z"
    }
   },
   "outputs": [],
   "source": [
    "labels = ['Drosophila']"
   ]
  },
  {
   "cell_type": "markdown",
   "metadata": {},
   "source": [
    "### Calculate R2"
   ]
  },
  {
   "cell_type": "code",
   "execution_count": 51,
   "metadata": {
    "ExecuteTime": {
     "end_time": "2019-09-25T04:05:27.377590Z",
     "start_time": "2019-09-25T04:05:27.319871Z"
    }
   },
   "outputs": [
    {
     "data": {
      "text/html": [
       "<div>\n",
       "<style scoped>\n",
       "    .dataframe tbody tr th:only-of-type {\n",
       "        vertical-align: middle;\n",
       "    }\n",
       "\n",
       "    .dataframe tbody tr th {\n",
       "        vertical-align: top;\n",
       "    }\n",
       "\n",
       "    .dataframe thead th {\n",
       "        text-align: right;\n",
       "    }\n",
       "</style>\n",
       "<table border=\"1\" class=\"dataframe\">\n",
       "  <thead>\n",
       "    <tr style=\"text-align: right;\">\n",
       "      <th></th>\n",
       "      <th>Drosophila</th>\n",
       "    </tr>\n",
       "  </thead>\n",
       "  <tbody>\n",
       "    <tr>\n",
       "      <th>exp</th>\n",
       "      <td>0.952109</td>\n",
       "    </tr>\n",
       "    <tr>\n",
       "      <th>combined</th>\n",
       "      <td>0.999511</td>\n",
       "    </tr>\n",
       "    <tr>\n",
       "      <th>power-law</th>\n",
       "      <td>0.995515</td>\n",
       "    </tr>\n",
       "  </tbody>\n",
       "</table>\n",
       "</div>"
      ],
      "text/plain": [
       "           Drosophila\n",
       "exp          0.952109\n",
       "combined     0.999511\n",
       "power-law    0.995515"
      ]
     },
     "execution_count": 51,
     "metadata": {},
     "output_type": "execute_result"
    }
   ],
   "source": [
    "R2 = MI_DF[['R2_exp', 'R2_concat', 'R2_power']]\n",
    "R2.columns = ['exp', 'combined', 'power-law']\n",
    "R2.index = labels\n",
    "R2 = R2.T\n",
    "R2"
   ]
  },
  {
   "cell_type": "markdown",
   "metadata": {},
   "source": [
    "### AICc"
   ]
  },
  {
   "cell_type": "code",
   "execution_count": 52,
   "metadata": {
    "ExecuteTime": {
     "end_time": "2019-09-25T04:05:28.182959Z",
     "start_time": "2019-09-25T04:05:28.118962Z"
    }
   },
   "outputs": [
    {
     "data": {
      "text/html": [
       "<div>\n",
       "<style scoped>\n",
       "    .dataframe tbody tr th:only-of-type {\n",
       "        vertical-align: middle;\n",
       "    }\n",
       "\n",
       "    .dataframe tbody tr th {\n",
       "        vertical-align: top;\n",
       "    }\n",
       "\n",
       "    .dataframe thead th {\n",
       "        text-align: right;\n",
       "    }\n",
       "</style>\n",
       "<table border=\"1\" class=\"dataframe\">\n",
       "  <thead>\n",
       "    <tr style=\"text-align: right;\">\n",
       "      <th></th>\n",
       "      <th>Drosophila</th>\n",
       "    </tr>\n",
       "  </thead>\n",
       "  <tbody>\n",
       "    <tr>\n",
       "      <th>exp</th>\n",
       "      <td>-6512.972193</td>\n",
       "    </tr>\n",
       "    <tr>\n",
       "      <th>combined.</th>\n",
       "      <td>-11093.789298</td>\n",
       "    </tr>\n",
       "    <tr>\n",
       "      <th>power-law</th>\n",
       "      <td>-8881.080525</td>\n",
       "    </tr>\n",
       "  </tbody>\n",
       "</table>\n",
       "</div>"
      ],
      "text/plain": [
       "             Drosophila\n",
       "exp        -6512.972193\n",
       "combined. -11093.789298\n",
       "power-law  -8881.080525"
      ]
     },
     "execution_count": 52,
     "metadata": {},
     "output_type": "execute_result"
    }
   ],
   "source": [
    "AICcs = MI_DF[['AICc_exp', 'AICc_concat', 'AICc_power']]\n",
    "AICcs.columns = ['exp', 'combined.', 'power-law']\n",
    "AICcs.index = labels\n",
    "AICcs = AICcs.T\n",
    "AICcs"
   ]
  },
  {
   "cell_type": "markdown",
   "metadata": {},
   "source": [
    "#### $\\Delta$AIC"
   ]
  },
  {
   "cell_type": "code",
   "execution_count": 53,
   "metadata": {
    "ExecuteTime": {
     "end_time": "2019-09-25T04:05:28.574827Z",
     "start_time": "2019-09-25T04:05:28.483230Z"
    }
   },
   "outputs": [
    {
     "data": {
      "text/html": [
       "<div>\n",
       "<style scoped>\n",
       "    .dataframe tbody tr th:only-of-type {\n",
       "        vertical-align: middle;\n",
       "    }\n",
       "\n",
       "    .dataframe tbody tr th {\n",
       "        vertical-align: top;\n",
       "    }\n",
       "\n",
       "    .dataframe thead th {\n",
       "        text-align: right;\n",
       "    }\n",
       "</style>\n",
       "<table border=\"1\" class=\"dataframe\">\n",
       "  <thead>\n",
       "    <tr style=\"text-align: right;\">\n",
       "      <th></th>\n",
       "      <th>Drosophila</th>\n",
       "    </tr>\n",
       "  </thead>\n",
       "  <tbody>\n",
       "    <tr>\n",
       "      <th>exp</th>\n",
       "      <td>4580.817105</td>\n",
       "    </tr>\n",
       "    <tr>\n",
       "      <th>combined.</th>\n",
       "      <td>0.000000</td>\n",
       "    </tr>\n",
       "    <tr>\n",
       "      <th>power-law</th>\n",
       "      <td>2212.708773</td>\n",
       "    </tr>\n",
       "  </tbody>\n",
       "</table>\n",
       "</div>"
      ],
      "text/plain": [
       "            Drosophila\n",
       "exp        4580.817105\n",
       "combined.     0.000000\n",
       "power-law  2212.708773"
      ]
     },
     "execution_count": 53,
     "metadata": {},
     "output_type": "execute_result"
    }
   ],
   "source": [
    "delta_AICcs = AICcs.T - np.repeat(np.min(AICcs.T.values, axis=1),3).reshape(len(labels),3)\n",
    "delta_AICcs = delta_AICcs.T\n",
    "delta_AICcs"
   ]
  },
  {
   "cell_type": "markdown",
   "metadata": {},
   "source": [
    "### relative likelihood"
   ]
  },
  {
   "cell_type": "code",
   "execution_count": 54,
   "metadata": {
    "ExecuteTime": {
     "end_time": "2019-09-25T04:05:28.843618Z",
     "start_time": "2019-09-25T04:05:28.802839Z"
    }
   },
   "outputs": [
    {
     "data": {
      "text/html": [
       "<div>\n",
       "<style scoped>\n",
       "    .dataframe tbody tr th:only-of-type {\n",
       "        vertical-align: middle;\n",
       "    }\n",
       "\n",
       "    .dataframe tbody tr th {\n",
       "        vertical-align: top;\n",
       "    }\n",
       "\n",
       "    .dataframe thead th {\n",
       "        text-align: right;\n",
       "    }\n",
       "</style>\n",
       "<table border=\"1\" class=\"dataframe\">\n",
       "  <thead>\n",
       "    <tr style=\"text-align: right;\">\n",
       "      <th></th>\n",
       "      <th>Drosophila</th>\n",
       "    </tr>\n",
       "  </thead>\n",
       "  <tbody>\n",
       "    <tr>\n",
       "      <th>exp</th>\n",
       "      <td>0.0</td>\n",
       "    </tr>\n",
       "    <tr>\n",
       "      <th>combined.</th>\n",
       "      <td>1.0</td>\n",
       "    </tr>\n",
       "    <tr>\n",
       "      <th>power-law</th>\n",
       "      <td>0.0</td>\n",
       "    </tr>\n",
       "  </tbody>\n",
       "</table>\n",
       "</div>"
      ],
      "text/plain": [
       "           Drosophila\n",
       "exp               0.0\n",
       "combined.         1.0\n",
       "power-law         0.0"
      ]
     },
     "execution_count": 54,
     "metadata": {},
     "output_type": "execute_result"
    }
   ],
   "source": [
    "relative_likelihoods = mf.relative_likelihood(delta_AICcs)\n",
    "relative_likelihoods"
   ]
  },
  {
   "cell_type": "markdown",
   "metadata": {},
   "source": [
    "### relative probability of models"
   ]
  },
  {
   "cell_type": "code",
   "execution_count": 55,
   "metadata": {
    "ExecuteTime": {
     "end_time": "2019-09-25T04:05:29.139967Z",
     "start_time": "2019-09-25T04:05:29.108384Z"
    }
   },
   "outputs": [
    {
     "data": {
      "text/html": [
       "<div>\n",
       "<style scoped>\n",
       "    .dataframe tbody tr th:only-of-type {\n",
       "        vertical-align: middle;\n",
       "    }\n",
       "\n",
       "    .dataframe tbody tr th {\n",
       "        vertical-align: top;\n",
       "    }\n",
       "\n",
       "    .dataframe thead th {\n",
       "        text-align: right;\n",
       "    }\n",
       "</style>\n",
       "<table border=\"1\" class=\"dataframe\">\n",
       "  <thead>\n",
       "    <tr style=\"text-align: right;\">\n",
       "      <th></th>\n",
       "      <th>Drosophila</th>\n",
       "    </tr>\n",
       "  </thead>\n",
       "  <tbody>\n",
       "    <tr>\n",
       "      <th>exp</th>\n",
       "      <td>0.0</td>\n",
       "    </tr>\n",
       "    <tr>\n",
       "      <th>combined.</th>\n",
       "      <td>1.0</td>\n",
       "    </tr>\n",
       "    <tr>\n",
       "      <th>power-law</th>\n",
       "      <td>0.0</td>\n",
       "    </tr>\n",
       "  </tbody>\n",
       "</table>\n",
       "</div>"
      ],
      "text/plain": [
       "           Drosophila\n",
       "exp               0.0\n",
       "combined.         1.0\n",
       "power-law         0.0"
      ]
     },
     "execution_count": 55,
     "metadata": {},
     "output_type": "execute_result"
    }
   ],
   "source": [
    "prob_models = mf.Prob_model_Given_data_and_models(relative_likelihoods)\n",
    "prob_models"
   ]
  },
  {
   "cell_type": "markdown",
   "metadata": {},
   "source": [
    "#### Join tables"
   ]
  },
  {
   "cell_type": "code",
   "execution_count": 56,
   "metadata": {
    "ExecuteTime": {
     "end_time": "2019-09-25T04:05:29.464806Z",
     "start_time": "2019-09-25T04:05:29.436558Z"
    }
   },
   "outputs": [],
   "source": [
    "AICcs['superlabel'] = 'AICc'\n",
    "relative_likelihoods['superlabel'] = 'Relative likelihood'\n",
    "R2['superlabel'] = '$r^2$'\n",
    "prob_models['superlabel'] = 'Relative probability'"
   ]
  },
  {
   "cell_type": "code",
   "execution_count": 57,
   "metadata": {
    "ExecuteTime": {
     "end_time": "2019-09-25T04:05:30.336634Z",
     "start_time": "2019-09-25T04:05:30.263667Z"
    }
   },
   "outputs": [
    {
     "data": {
      "text/html": [
       "<div>\n",
       "<style scoped>\n",
       "    .dataframe tbody tr th:only-of-type {\n",
       "        vertical-align: middle;\n",
       "    }\n",
       "\n",
       "    .dataframe tbody tr th {\n",
       "        vertical-align: top;\n",
       "    }\n",
       "\n",
       "    .dataframe thead th {\n",
       "        text-align: right;\n",
       "    }\n",
       "</style>\n",
       "<table border=\"1\" class=\"dataframe\">\n",
       "  <thead>\n",
       "    <tr style=\"text-align: right;\">\n",
       "      <th></th>\n",
       "      <th></th>\n",
       "      <th>Drosophila</th>\n",
       "    </tr>\n",
       "    <tr>\n",
       "      <th>superlabel</th>\n",
       "      <th></th>\n",
       "      <th></th>\n",
       "    </tr>\n",
       "  </thead>\n",
       "  <tbody>\n",
       "    <tr>\n",
       "      <th rowspan=\"3\" valign=\"top\">AICc</th>\n",
       "      <th>exp</th>\n",
       "      <td>-6512.97</td>\n",
       "    </tr>\n",
       "    <tr>\n",
       "      <th>combined.</th>\n",
       "      <td>-11093.8</td>\n",
       "    </tr>\n",
       "    <tr>\n",
       "      <th>power-law</th>\n",
       "      <td>-8881.08</td>\n",
       "    </tr>\n",
       "    <tr>\n",
       "      <th rowspan=\"3\" valign=\"top\">$r^2$</th>\n",
       "      <th>exp</th>\n",
       "      <td>0.952</td>\n",
       "    </tr>\n",
       "    <tr>\n",
       "      <th>combined</th>\n",
       "      <td>&gt;0.999</td>\n",
       "    </tr>\n",
       "    <tr>\n",
       "      <th>power-law</th>\n",
       "      <td>0.996</td>\n",
       "    </tr>\n",
       "    <tr>\n",
       "      <th rowspan=\"3\" valign=\"top\">Relative likelihood</th>\n",
       "      <th>exp</th>\n",
       "      <td>&lt;0.001</td>\n",
       "    </tr>\n",
       "    <tr>\n",
       "      <th>combined.</th>\n",
       "      <td>&gt;0.999</td>\n",
       "    </tr>\n",
       "    <tr>\n",
       "      <th>power-law</th>\n",
       "      <td>&lt;0.001</td>\n",
       "    </tr>\n",
       "    <tr>\n",
       "      <th rowspan=\"3\" valign=\"top\">Relative probability</th>\n",
       "      <th>exp</th>\n",
       "      <td>&lt;0.001</td>\n",
       "    </tr>\n",
       "    <tr>\n",
       "      <th>combined.</th>\n",
       "      <td>&gt;0.999</td>\n",
       "    </tr>\n",
       "    <tr>\n",
       "      <th>power-law</th>\n",
       "      <td>&lt;0.001</td>\n",
       "    </tr>\n",
       "  </tbody>\n",
       "</table>\n",
       "</div>"
      ],
      "text/plain": [
       "                               Drosophila\n",
       "superlabel                               \n",
       "AICc                 exp         -6512.97\n",
       "                     combined.   -11093.8\n",
       "                     power-law   -8881.08\n",
       "$r^2$                exp            0.952\n",
       "                     combined      >0.999\n",
       "                     power-law      0.996\n",
       "Relative likelihood  exp           <0.001\n",
       "                     combined.     >0.999\n",
       "                     power-law     <0.001\n",
       "Relative probability exp           <0.001\n",
       "                     combined.     >0.999\n",
       "                     power-law     <0.001"
      ]
     },
     "execution_count": 57,
     "metadata": {},
     "output_type": "execute_result"
    }
   ],
   "source": [
    "results_table = pd.concat([\n",
    "    AICcs,\n",
    "    R2,\n",
    "    relative_likelihoods,\n",
    "    prob_models\n",
    "]).round(3).replace(0, '<0.001').replace(1, '>0.999')\n",
    "results_table[''] = results_table.index\n",
    "results_table.set_index(['superlabel', ''], inplace=True)\n",
    "results_table"
   ]
  },
  {
   "cell_type": "code",
   "execution_count": 58,
   "metadata": {
    "ExecuteTime": {
     "end_time": "2019-09-25T04:05:34.285683Z",
     "start_time": "2019-09-25T04:05:34.228671Z"
    }
   },
   "outputs": [
    {
     "name": "stdout",
     "output_type": "stream",
     "text": [
      "\\begin{tabular}{lll}\n",
      "\\toprule\n",
      "                     &           & Drosophila \\\\\n",
      "\\midrule\n",
      "\\textbf{} & {} &            \\\\\n",
      "\\midrule\n",
      "\\midrule\n",
      "\\textbf{AICc} & \\textbf{exp} &   -6512.97 \\\\\n",
      "                     & \\textbf{combined.} &   -11093.8 \\\\\n",
      "                     & \\textbf{power-law} &   -8881.08 \\\\\n",
      "\\midrule\n",
      "\\textbf{$r^2$} & \\textbf{exp} &      0.952 \\\\\n",
      "                     & \\textbf{combined} &     $>$0.999 \\\\\n",
      "                     & \\textbf{power-law} &      0.996 \\\\\n",
      "\\midrule\n",
      "\\textbf{Relative likelihood} & \\textbf{exp} &     $<$0.001 \\\\\n",
      "                     & \\textbf{combined.} &     $>$0.999 \\\\\n",
      "                     & \\textbf{power-law} &     $<$0.001 \\\\\n",
      "\\midrule\n",
      "\\textbf{Relative probability} & \\textbf{exp} &     $<$0.001 \\\\\n",
      "                     & \\textbf{combined.} &     $>$0.999 \\\\\n",
      "                     & \\textbf{power-law} &     $<$0.001 \\\\\n",
      "\\bottomrule\n",
      "\\end{tabular}\n",
      "\n"
     ]
    }
   ],
   "source": [
    "results_string = results_table.to_latex(bold_rows=True, escape=False)\\\n",
    "      .replace('>', '$>$')\\\n",
    "      .replace('<', '$<$')\\\n",
    "      .replace('superlabel', '')\\\n",
    "     .replace('\\n\\\\textbf', '\\n\\midrule\\n\\\\textbf')\n",
    "print(results_string)"
   ]
  },
  {
   "cell_type": "code",
   "execution_count": null,
   "metadata": {},
   "outputs": [],
   "source": []
  },
  {
   "cell_type": "code",
   "execution_count": null,
   "metadata": {},
   "outputs": [],
   "source": []
  }
 ],
 "metadata": {
  "kernelspec": {
   "display_name": "Python 3",
   "language": "python",
   "name": "python3"
  },
  "language_info": {
   "codemirror_mode": {
    "name": "ipython",
    "version": 3
   },
   "file_extension": ".py",
   "mimetype": "text/x-python",
   "name": "python",
   "nbconvert_exporter": "python",
   "pygments_lexer": "ipython3",
   "version": "3.6.7"
  }
 },
 "nbformat": 4,
 "nbformat_minor": 2
}
