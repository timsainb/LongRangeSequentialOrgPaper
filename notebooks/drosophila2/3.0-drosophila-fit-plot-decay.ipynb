{
 "cells": [
  {
   "cell_type": "code",
   "execution_count": 24,
   "metadata": {
    "ExecuteTime": {
     "end_time": "2019-08-28T18:48:31.429165Z",
     "start_time": "2019-08-28T18:48:31.388088Z"
    }
   },
   "outputs": [
    {
     "name": "stdout",
     "output_type": "stream",
     "text": [
      "The autoreload extension is already loaded. To reload it, use:\n",
      "  %reload_ext autoreload\n"
     ]
    }
   ],
   "source": [
    "%load_ext autoreload\n",
    "%autoreload 2"
   ]
  },
  {
   "cell_type": "code",
   "execution_count": 25,
   "metadata": {
    "ExecuteTime": {
     "end_time": "2019-08-28T18:48:32.438520Z",
     "start_time": "2019-08-28T18:48:31.555508Z"
    }
   },
   "outputs": [],
   "source": [
    "from childes_mi.utils.paths import DATA_DIR, FIGURE_DIR\n",
    "from childes_mi.utils.general import flatten,save_fig"
   ]
  },
  {
   "cell_type": "code",
   "execution_count": 3,
   "metadata": {
    "ExecuteTime": {
     "end_time": "2019-08-28T18:48:34.303089Z",
     "start_time": "2019-08-28T18:48:32.444735Z"
    }
   },
   "outputs": [],
   "source": [
    "from childes_mi.information_theory import model_fitting as mf"
   ]
  },
  {
   "cell_type": "code",
   "execution_count": 4,
   "metadata": {
    "ExecuteTime": {
     "end_time": "2019-08-28T18:48:34.441492Z",
     "start_time": "2019-08-28T18:48:34.307803Z"
    }
   },
   "outputs": [
    {
     "name": "stderr",
     "output_type": "stream",
     "text": [
      "/mnt/cube/tsainbur/conda_envs/tpy3/lib/python3.6/site-packages/tqdm/autonotebook/__init__.py:14: TqdmExperimentalWarning: Using `tqdm.autonotebook.tqdm` in notebook mode. Use `tqdm.tqdm` instead to force console mode (e.g. in jupyter console)\n",
      "  \" (e.g. in jupyter console)\", TqdmExperimentalWarning)\n"
     ]
    }
   ],
   "source": [
    "import pandas as pd\n",
    "import numpy as np\n",
    "import matplotlib.pyplot as plt\n",
    "from matplotlib import gridspec\n",
    "from tqdm.autonotebook import tqdm"
   ]
  },
  {
   "cell_type": "code",
   "execution_count": 5,
   "metadata": {
    "ExecuteTime": {
     "end_time": "2019-08-28T18:48:36.329517Z",
     "start_time": "2019-08-28T18:48:34.445948Z"
    }
   },
   "outputs": [],
   "source": [
    "MI_DF = pd.read_pickle(DATA_DIR/'mi/drosophila_mi_1000.pickle')"
   ]
  },
  {
   "cell_type": "code",
   "execution_count": 6,
   "metadata": {
    "ExecuteTime": {
     "end_time": "2019-08-28T18:48:36.391146Z",
     "start_time": "2019-08-28T18:48:36.332847Z"
    }
   },
   "outputs": [
    {
     "data": {
      "text/html": [
       "<div>\n",
       "<style scoped>\n",
       "    .dataframe tbody tr th:only-of-type {\n",
       "        vertical-align: middle;\n",
       "    }\n",
       "\n",
       "    .dataframe tbody tr th {\n",
       "        vertical-align: top;\n",
       "    }\n",
       "\n",
       "    .dataframe thead th {\n",
       "        text-align: right;\n",
       "    }\n",
       "</style>\n",
       "<table border=\"1\" class=\"dataframe\">\n",
       "  <thead>\n",
       "    <tr style=\"text-align: right;\">\n",
       "      <th></th>\n",
       "      <th>MI</th>\n",
       "      <th>MI_var</th>\n",
       "      <th>shuff_MI</th>\n",
       "      <th>shuff_MI_var</th>\n",
       "      <th>distances</th>\n",
       "    </tr>\n",
       "  </thead>\n",
       "  <tbody>\n",
       "    <tr>\n",
       "      <th>0</th>\n",
       "      <td>[11.491092426440758, 11.113848299482346, 10.94...</td>\n",
       "      <td>[0.0032096905199801226, 0.0031487970998960533,...</td>\n",
       "      <td>[10.162464643140364, 10.161342744045395, 10.16...</td>\n",
       "      <td>[0.0030504540127070092, 0.00305061298348205, 0...</td>\n",
       "      <td>[1, 2, 3, 4, 5, 6, 7, 8, 9, 10, 11, 12, 13, 14...</td>\n",
       "    </tr>\n",
       "  </tbody>\n",
       "</table>\n",
       "</div>"
      ],
      "text/plain": [
       "                                                  MI  \\\n",
       "0  [11.491092426440758, 11.113848299482346, 10.94...   \n",
       "\n",
       "                                              MI_var  \\\n",
       "0  [0.0032096905199801226, 0.0031487970998960533,...   \n",
       "\n",
       "                                            shuff_MI  \\\n",
       "0  [10.162464643140364, 10.161342744045395, 10.16...   \n",
       "\n",
       "                                        shuff_MI_var  \\\n",
       "0  [0.0030504540127070092, 0.00305061298348205, 0...   \n",
       "\n",
       "                                           distances  \n",
       "0  [1, 2, 3, 4, 5, 6, 7, 8, 9, 10, 11, 12, 13, 14...  "
      ]
     },
     "execution_count": 6,
     "metadata": {},
     "output_type": "execute_result"
    }
   ],
   "source": [
    "MI_DF[:3]"
   ]
  },
  {
   "cell_type": "code",
   "execution_count": 7,
   "metadata": {
    "ExecuteTime": {
     "end_time": "2019-08-28T18:48:36.510451Z",
     "start_time": "2019-08-28T18:48:36.393268Z"
    }
   },
   "outputs": [],
   "source": [
    "MI_DF = MI_DF.assign(**{i:np.nan for i in ['exp_results', 'pow_results', 'concat_results',\n",
    "     'R2_exp', 'R2_concat', 'R2_power', 'AICc_exp',\n",
    "     'AICc_concat', 'AICc_power', 'bestfitmodel', 'curvature', 'min_peak']})\n",
    "MI_DF['curvature'] = MI_DF['curvature'].astype(object)"
   ]
  },
  {
   "cell_type": "code",
   "execution_count": 8,
   "metadata": {
    "ExecuteTime": {
     "end_time": "2019-08-28T18:48:37.492165Z",
     "start_time": "2019-08-28T18:48:36.515323Z"
    }
   },
   "outputs": [
    {
     "data": {
      "application/vnd.jupyter.widget-view+json": {
       "model_id": "ae361c2bf10f46b892a815dc3a69d722",
       "version_major": 2,
       "version_minor": 0
      },
      "text/plain": [
       "HBox(children=(IntProgress(value=0, max=1), HTML(value='')))"
      ]
     },
     "metadata": {},
     "output_type": "display_data"
    },
    {
     "name": "stdout",
     "output_type": "stream",
     "text": [
      "\n"
     ]
    }
   ],
   "source": [
    "n = 100 # max distance for computation\n",
    "for idx, row in tqdm(MI_DF.iterrows(), total=len(MI_DF)):\n",
    "    # get signal\n",
    "    sig = np.array(row.MI-row.shuff_MI)\n",
    "    distances = row.distances\n",
    "    sig = sig\n",
    "    \n",
    "    # fit models\n",
    "    results_power, results_exp, results_pow_exp, best_fit_model = mf.fit_models(distances, sig)\n",
    "    \n",
    "    # get fit results\n",
    "    R2_exp, R2_concat, R2_power, AICc_exp, \\\n",
    "        AICc_pow, AICc_concat = mf.fit_results(sig, distances, \n",
    "                                              results_exp, results_power,\n",
    "                                              results_pow_exp)\n",
    "    \n",
    "    \n",
    "    \n",
    "    \n",
    "    # get model y\n",
    "    distances_mod = np.logspace(0,np.log10(n), base=10, num=1000)\n",
    "    if best_fit_model == 'pow_exp':\n",
    "        y_model = mf.get_y(mf.pow_exp_decay, results_pow_exp, distances_mod)\n",
    "    elif best_fit_model == 'exp':\n",
    "        y_model = mf.get_y(mf.exp_decay, results_exp, distances_mod)\n",
    "    elif best_fit_model == 'pow':\n",
    "        y_model = mf.get_y(mf.powerlaw_decay, results_power, distances_mod)\n",
    "    \n",
    "    # get curvature of model_y\n",
    "    curvature_model = mf.curvature(np.log(y_model))\n",
    "    \n",
    "    # if the best fit model is pow_exp, then grab the min peak\n",
    "    if best_fit_model == 'pow_exp':\n",
    "        # get peaks of curvature\n",
    "        peaks = np.where((\n",
    "            (curvature_model[:-1] < curvature_model[1:])[1:] & (curvature_model[1:] < curvature_model[:-1])[:-1]\n",
    "        ))\n",
    "        min_peak = peaks[0][0]\n",
    "    else:\n",
    "        min_peak = np.nan\n",
    "\n",
    "    # get save model fit results to MI_DF\n",
    "    MI_DF.loc[idx, np.array(['exp_results', 'pow_results', 'concat_results',\n",
    "                         'R2_exp', 'R2_concat', 'R2_power', 'AICc_exp',\n",
    "                         'AICc_concat', 'AICc_power', 'bestfitmodel', 'curvature', 'min_peak'])] = [\n",
    "        results_exp, results_power, results_pow_exp,\n",
    "        R2_exp, R2_concat, R2_power, AICc_exp,\n",
    "        AICc_concat, AICc_pow, best_fit_model,\n",
    "        curvature_model, min_peak\n",
    "    ]\n"
   ]
  },
  {
   "cell_type": "code",
   "execution_count": 9,
   "metadata": {
    "ExecuteTime": {
     "end_time": "2019-08-28T18:48:37.553838Z",
     "start_time": "2019-08-28T18:48:37.494150Z"
    }
   },
   "outputs": [
    {
     "data": {
      "text/html": [
       "<div>\n",
       "<style scoped>\n",
       "    .dataframe tbody tr th:only-of-type {\n",
       "        vertical-align: middle;\n",
       "    }\n",
       "\n",
       "    .dataframe tbody tr th {\n",
       "        vertical-align: top;\n",
       "    }\n",
       "\n",
       "    .dataframe thead th {\n",
       "        text-align: right;\n",
       "    }\n",
       "</style>\n",
       "<table border=\"1\" class=\"dataframe\">\n",
       "  <thead>\n",
       "    <tr style=\"text-align: right;\">\n",
       "      <th></th>\n",
       "      <th>MI</th>\n",
       "      <th>MI_var</th>\n",
       "      <th>shuff_MI</th>\n",
       "      <th>shuff_MI_var</th>\n",
       "      <th>distances</th>\n",
       "      <th>exp_results</th>\n",
       "      <th>pow_results</th>\n",
       "      <th>concat_results</th>\n",
       "      <th>R2_exp</th>\n",
       "      <th>R2_concat</th>\n",
       "      <th>R2_power</th>\n",
       "      <th>AICc_exp</th>\n",
       "      <th>AICc_concat</th>\n",
       "      <th>AICc_power</th>\n",
       "      <th>bestfitmodel</th>\n",
       "      <th>curvature</th>\n",
       "      <th>min_peak</th>\n",
       "    </tr>\n",
       "  </thead>\n",
       "  <tbody>\n",
       "    <tr>\n",
       "      <th>0</th>\n",
       "      <td>[11.491092426440758, 11.113848299482346, 10.94...</td>\n",
       "      <td>[0.0032096905199801226, 0.0031487970998960533,...</td>\n",
       "      <td>[10.162464643140364, 10.161342744045395, 10.16...</td>\n",
       "      <td>[0.0030504540127070092, 0.00305061298348205, 0...</td>\n",
       "      <td>[1, 2, 3, 4, 5, 6, 7, 8, 9, 10, 11, 12, 13, 14...</td>\n",
       "      <td>&lt;lmfit.minimizer.MinimizerResult object at 0x7...</td>\n",
       "      <td>&lt;lmfit.minimizer.MinimizerResult object at 0x7...</td>\n",
       "      <td>&lt;lmfit.minimizer.MinimizerResult object at 0x7...</td>\n",
       "      <td>0.952085</td>\n",
       "      <td>0.999521</td>\n",
       "      <td>0.995571</td>\n",
       "      <td>-6513.666172</td>\n",
       "      <td>-11115.26092</td>\n",
       "      <td>-8894.92732</td>\n",
       "      <td>pow_exp</td>\n",
       "      <td>[3.129027579848531e-07, 4.695250164558214e-07,...</td>\n",
       "      <td>881.0</td>\n",
       "    </tr>\n",
       "  </tbody>\n",
       "</table>\n",
       "</div>"
      ],
      "text/plain": [
       "                                                  MI  \\\n",
       "0  [11.491092426440758, 11.113848299482346, 10.94...   \n",
       "\n",
       "                                              MI_var  \\\n",
       "0  [0.0032096905199801226, 0.0031487970998960533,...   \n",
       "\n",
       "                                            shuff_MI  \\\n",
       "0  [10.162464643140364, 10.161342744045395, 10.16...   \n",
       "\n",
       "                                        shuff_MI_var  \\\n",
       "0  [0.0030504540127070092, 0.00305061298348205, 0...   \n",
       "\n",
       "                                           distances  \\\n",
       "0  [1, 2, 3, 4, 5, 6, 7, 8, 9, 10, 11, 12, 13, 14...   \n",
       "\n",
       "                                         exp_results  \\\n",
       "0  <lmfit.minimizer.MinimizerResult object at 0x7...   \n",
       "\n",
       "                                         pow_results  \\\n",
       "0  <lmfit.minimizer.MinimizerResult object at 0x7...   \n",
       "\n",
       "                                      concat_results    R2_exp  R2_concat  \\\n",
       "0  <lmfit.minimizer.MinimizerResult object at 0x7...  0.952085   0.999521   \n",
       "\n",
       "   R2_power     AICc_exp  AICc_concat  AICc_power bestfitmodel  \\\n",
       "0  0.995571 -6513.666172 -11115.26092 -8894.92732      pow_exp   \n",
       "\n",
       "                                           curvature  min_peak  \n",
       "0  [3.129027579848531e-07, 4.695250164558214e-07,...     881.0  "
      ]
     },
     "execution_count": 9,
     "metadata": {},
     "output_type": "execute_result"
    }
   ],
   "source": [
    "MI_DF"
   ]
  },
  {
   "cell_type": "code",
   "execution_count": 28,
   "metadata": {
    "ExecuteTime": {
     "end_time": "2019-08-28T18:50:32.976555Z",
     "start_time": "2019-08-28T18:50:21.512341Z"
    }
   },
   "outputs": [
    {
     "data": {
      "image/png": "[encoded data removed]",
      "text/plain": [
       "<Figure size 360x900 with 3 Axes>"
      ]
     },
     "metadata": {
      "needs_background": "light"
     },
     "output_type": "display_data"
    }
   ],
   "source": [
    "yoff=-.20\n",
    "ncols = 4\n",
    "zoom = 5\n",
    "hr = [1, 0.5, 0.5, 0.5]\n",
    "nrows = np.ceil(len(MI_DF)/ncols).astype(int)\n",
    "fig = plt.figure(figsize=(len(MI_DF)*zoom*1.0,np.sum(hr)*zoom)) \n",
    "gs = gridspec.GridSpec(ncols=len(MI_DF), nrows=4, height_ratios=hr) \n",
    "\n",
    "axi = 0\n",
    "row = MI_DF.iloc[0]\n",
    "\n",
    "color = 'k'#LCOL_DICT[row.language]\n",
    "ax0 = plt.subplot(gs[0,axi])\n",
    "ax = ax0\n",
    "sig = np.array(row.MI-row.shuff_MI)\n",
    "distances = row.distances\n",
    "sig = sig\n",
    "# get signal limits\n",
    "sig_lims = np.log([np.min(sig[sig>0]), np.nanmax(sig)])\n",
    "sig_lims = [sig_lims[0] - (sig_lims[1]-sig_lims[0])/10,\n",
    "                sig_lims[1] + (sig_lims[1]-sig_lims[0])/10]\n",
    "\n",
    "if axi==0: \n",
    "        ax.set_ylabel('MI (bits)', labelpad=5, fontsize=24)\n",
    "        ax.yaxis.set_label_coords(yoff,0.5)\n",
    "\n",
    "# model data\n",
    "#row.concat_results.params.intercept = 0\n",
    "distances_model = np.logspace(0,np.log10(distances[-1]), base=10, num=1000)\n",
    "y_model = mf.get_y(mf.pow_exp_decay, row.concat_results, distances)\n",
    "y_pow = mf.get_y(mf.powerlaw_decay, row.concat_results, distances_model)\n",
    "y_exp = mf.get_y(mf.exp_decay, row.concat_results, distances_model)\n",
    "y_pow_dat = mf.get_y(mf.powerlaw_decay, row.concat_results, distances)\n",
    "y_exp_dat = mf.get_y(mf.exp_decay, row.concat_results, distances)\n",
    "\n",
    "# plot real data\n",
    "ax.scatter(distances, sig, alpha = 1, s=60, color=color)   \n",
    "ax.plot(distances_model, y_pow, ls='dotted', color= 'k', lw=5, alpha=0.5)\n",
    "ax.plot(distances_model, y_exp-row.concat_results.params['intercept'].value, ls='dashed', color= 'k', lw=5, alpha=0.5)\n",
    "\n",
    "# plot modelled data\n",
    "#ax.plot(distances, y_model, alpha = 0.25, lw=10, color=color)\n",
    "ax.plot(distances, y_model, alpha = 0.8, lw=5, color=\"#999999\", zorder=10)\n",
    "\n",
    "# plot powerlaw component\n",
    "ax1 = plt.subplot(gs[1,axi])\n",
    "ax = ax1\n",
    "ax.plot(distances_model, y_pow-row.concat_results.params['intercept'].value, alpha = 0.8, lw=5, color=\"#999999\", zorder=10)\n",
    "ax.scatter(distances, sig-y_exp_dat, alpha = 1, s=60, color=color)   \n",
    "\n",
    "# plot exponential component\n",
    "ax2 = plt.subplot(gs[2,axi])\n",
    "ax = ax2\n",
    "ax.plot(distances_model, y_exp-row.concat_results.params['intercept'].value, alpha = 0.8, lw=5, color=\"#999999\", zorder=10)\n",
    "ax.scatter(distances, sig-y_pow_dat, alpha = 1, s=60, color=color)   \n",
    "\n",
    "\n",
    "\n",
    "ax.set_xlabel('Distance (states)', labelpad=5, fontsize=24)\n",
    "#print(row.language, distances[peak_of_interest])\n",
    "\n",
    "for ax in [ax1, ax2]:\n",
    "    if axi==0: \n",
    "        ax.set_ylabel('MI (bits)', labelpad=5, fontsize=24)\n",
    "        ax.yaxis.set_label_coords(yoff,0.5)\n",
    "\n",
    "for ax in [ax0,ax1,ax2]:\n",
    "    ax.set_xlim([distances[0], distances[-1]])\n",
    "    sig_lims[0] = np.log(10e-6)\n",
    "    ax.set_ylim([1e-2, 3])\n",
    "    ax.tick_params(which='both', direction='in', labelsize=14, pad=10)\n",
    "    ax.tick_params(which='major', length=10, width =3)\n",
    "    ax.tick_params(which='minor', length=5, width =2)\n",
    "    ax.set_xscale( \"log\" , basex=10)\n",
    "    ax.set_yscale( \"log\" , basey=10)\n",
    "    ax.set_xticks([])\n",
    "    for axis in ['top','bottom','left','right']:\n",
    "        ax.spines[axis].set_linewidth(3)\n",
    "        ax.spines[axis].set_color('k')\n",
    "ax2.set_ylim([10e-3, 3])\n",
    "ax2.set_xticks([1,10,100, 1000])\n",
    "ax2.set_xticklabels(['1','10','100', '1000'])\n",
    "\n",
    "if axi !=0:\n",
    "    for ax in [ax0,ax1,ax2]:\n",
    "        ax.yaxis.set_ticklabels([])\n",
    "\n",
    "gs.update(wspace=0.075, hspace=0.1)\n",
    "ax0.set_title(\"Drosophila\", fontsize=24)\n",
    "save_fig(FIGURE_DIR/'drosophila_mi-1000')"
   ]
  },
  {
   "cell_type": "code",
   "execution_count": 11,
   "metadata": {
    "ExecuteTime": {
     "end_time": "2019-09-25T04:05:10.987272Z",
     "start_time": "2019-09-25T04:05:10.933732Z"
    }
   },
   "outputs": [
    {
     "data": {
      "text/html": [
       "<div>\n",
       "<style scoped>\n",
       "    .dataframe tbody tr th:only-of-type {\n",
       "        vertical-align: middle;\n",
       "    }\n",
       "\n",
       "    .dataframe tbody tr th {\n",
       "        vertical-align: top;\n",
       "    }\n",
       "\n",
       "    .dataframe thead th {\n",
       "        text-align: right;\n",
       "    }\n",
       "</style>\n",
       "<table border=\"1\" class=\"dataframe\">\n",
       "  <thead>\n",
       "    <tr style=\"text-align: right;\">\n",
       "      <th></th>\n",
       "      <th>MI</th>\n",
       "      <th>MI_var</th>\n",
       "      <th>shuff_MI</th>\n",
       "      <th>shuff_MI_var</th>\n",
       "      <th>distances</th>\n",
       "      <th>exp_results</th>\n",
       "      <th>pow_results</th>\n",
       "      <th>concat_results</th>\n",
       "      <th>R2_exp</th>\n",
       "      <th>R2_concat</th>\n",
       "      <th>R2_power</th>\n",
       "      <th>AICc_exp</th>\n",
       "      <th>AICc_concat</th>\n",
       "      <th>AICc_power</th>\n",
       "      <th>bestfitmodel</th>\n",
       "      <th>curvature</th>\n",
       "      <th>min_peak</th>\n",
       "    </tr>\n",
       "  </thead>\n",
       "  <tbody>\n",
       "    <tr>\n",
       "      <th>0</th>\n",
       "      <td>[11.491092426440758, 11.113848299482346, 10.94...</td>\n",
       "      <td>[0.0032096905199801226, 0.0031487970998960533,...</td>\n",
       "      <td>[10.162464643140364, 10.161342744045395, 10.16...</td>\n",
       "      <td>[0.0030504540127070092, 0.00305061298348205, 0...</td>\n",
       "      <td>[1, 2, 3, 4, 5, 6, 7, 8, 9, 10, 11, 12, 13, 14...</td>\n",
       "      <td>&lt;lmfit.minimizer.MinimizerResult object at 0x7...</td>\n",
       "      <td>&lt;lmfit.minimizer.MinimizerResult object at 0x7...</td>\n",
       "      <td>&lt;lmfit.minimizer.MinimizerResult object at 0x7...</td>\n",
       "      <td>0.952085</td>\n",
       "      <td>0.999521</td>\n",
       "      <td>0.995571</td>\n",
       "      <td>-6513.666172</td>\n",
       "      <td>-11115.26092</td>\n",
       "      <td>-8894.92732</td>\n",
       "      <td>pow_exp</td>\n",
       "      <td>[3.129027579848531e-07, 4.695250164558214e-07,...</td>\n",
       "      <td>881.0</td>\n",
       "    </tr>\n",
       "  </tbody>\n",
       "</table>\n",
       "</div>"
      ],
      "text/plain": [
       "                                                  MI  \\\n",
       "0  [11.491092426440758, 11.113848299482346, 10.94...   \n",
       "\n",
       "                                              MI_var  \\\n",
       "0  [0.0032096905199801226, 0.0031487970998960533,...   \n",
       "\n",
       "                                            shuff_MI  \\\n",
       "0  [10.162464643140364, 10.161342744045395, 10.16...   \n",
       "\n",
       "                                        shuff_MI_var  \\\n",
       "0  [0.0030504540127070092, 0.00305061298348205, 0...   \n",
       "\n",
       "                                           distances  \\\n",
       "0  [1, 2, 3, 4, 5, 6, 7, 8, 9, 10, 11, 12, 13, 14...   \n",
       "\n",
       "                                         exp_results  \\\n",
       "0  <lmfit.minimizer.MinimizerResult object at 0x7...   \n",
       "\n",
       "                                         pow_results  \\\n",
       "0  <lmfit.minimizer.MinimizerResult object at 0x7...   \n",
       "\n",
       "                                      concat_results    R2_exp  R2_concat  \\\n",
       "0  <lmfit.minimizer.MinimizerResult object at 0x7...  0.952085   0.999521   \n",
       "\n",
       "   R2_power     AICc_exp  AICc_concat  AICc_power bestfitmodel  \\\n",
       "0  0.995571 -6513.666172 -11115.26092 -8894.92732      pow_exp   \n",
       "\n",
       "                                           curvature  min_peak  \n",
       "0  [3.129027579848531e-07, 4.695250164558214e-07,...     881.0  "
      ]
     },
     "execution_count": 11,
     "metadata": {},
     "output_type": "execute_result"
    }
   ],
   "source": [
    "MI_DF[:3]"
   ]
  },
  {
   "cell_type": "code",
   "execution_count": 12,
   "metadata": {
    "ExecuteTime": {
     "end_time": "2019-09-25T04:05:11.102419Z",
     "start_time": "2019-09-25T04:05:10.989117Z"
    }
   },
   "outputs": [],
   "source": [
    "MI_DF = MI_DF.assign(**{i:np.nan for i in ['exp_results', 'pow_results', 'concat_results',\n",
    "     'R2_exp', 'R2_concat', 'R2_power', 'AICc_exp',\n",
    "     'AICc_concat', 'AICc_power', 'bestfitmodel', 'curvature', 'min_peak']})\n",
    "MI_DF['curvature'] = MI_DF['curvature'].astype(object)"
   ]
  },
  {
   "cell_type": "code",
   "execution_count": 13,
   "metadata": {
    "ExecuteTime": {
     "end_time": "2019-09-25T04:05:12.058559Z",
     "start_time": "2019-09-25T04:05:11.105572Z"
    }
   },
   "outputs": [
    {
     "data": {
      "application/vnd.jupyter.widget-view+json": {
       "model_id": "c7527609515a4bd3a108e51e5763ecad",
       "version_major": 2,
       "version_minor": 0
      },
      "text/plain": [
       "HBox(children=(IntProgress(value=0, max=1), HTML(value='')))"
      ]
     },
     "metadata": {},
     "output_type": "display_data"
    },
    {
     "name": "stdout",
     "output_type": "stream",
     "text": [
      "\n"
     ]
    }
   ],
   "source": [
    "n = 100 # max distance for computation\n",
    "for idx, row in tqdm(MI_DF.iterrows(), total=len(MI_DF)):\n",
    "    # get signal\n",
    "    sig = np.array(row.MI-row.shuff_MI)\n",
    "    distances = row.distances\n",
    "    sig = sig\n",
    "    \n",
    "    # fit models\n",
    "    results_power, results_exp, results_pow_exp, best_fit_model = mf.fit_models(distances, sig)\n",
    "    \n",
    "    # get fit results\n",
    "    R2_exp, R2_concat, R2_power, AICc_exp, \\\n",
    "        AICc_pow, AICc_concat = mf.fit_results(sig, distances, \n",
    "                                              results_exp, results_power,\n",
    "                                              results_pow_exp)\n",
    "    \n",
    "    \n",
    "    \n",
    "    \n",
    "    # get model y\n",
    "    distances_mod = np.logspace(0,np.log10(n), base=10, num=1000)\n",
    "    if best_fit_model == 'pow_exp':\n",
    "        y_model = mf.get_y(mf.pow_exp_decay, results_pow_exp, distances_mod)\n",
    "    elif best_fit_model == 'exp':\n",
    "        y_model = mf.get_y(mf.exp_decay, results_exp, distances_mod)\n",
    "    elif best_fit_model == 'pow':\n",
    "        y_model = mf.get_y(mf.powerlaw_decay, results_power, distances_mod)\n",
    "    \n",
    "    # get curvature of model_y\n",
    "    curvature_model = mf.curvature(np.log(y_model))\n",
    "    \n",
    "    # if the best fit model is pow_exp, then grab the min peak\n",
    "    if best_fit_model == 'pow_exp':\n",
    "        # get peaks of curvature\n",
    "        peaks = np.where((\n",
    "            (curvature_model[:-1] < curvature_model[1:])[1:] & (curvature_model[1:] < curvature_model[:-1])[:-1]\n",
    "        ))\n",
    "        min_peak = peaks[0][0]\n",
    "    else:\n",
    "        min_peak = np.nan\n",
    "\n",
    "    # get save model fit results to MI_DF\n",
    "    MI_DF.loc[idx, np.array(['exp_results', 'pow_results', 'concat_results',\n",
    "                         'R2_exp', 'R2_concat', 'R2_power', 'AICc_exp',\n",
    "                         'AICc_concat', 'AICc_power', 'bestfitmodel', 'curvature', 'min_peak'])] = [\n",
    "        results_exp, results_power, results_pow_exp,\n",
    "        R2_exp, R2_concat, R2_power, AICc_exp,\n",
    "        AICc_concat, AICc_pow, best_fit_model,\n",
    "        curvature_model, min_peak\n",
    "    ]\n"
   ]
  },
  {
   "cell_type": "code",
   "execution_count": 14,
   "metadata": {
    "ExecuteTime": {
     "end_time": "2019-09-25T04:05:22.502066Z",
     "start_time": "2019-09-25T04:05:22.405576Z"
    }
   },
   "outputs": [
    {
     "data": {
      "text/html": [
       "<div>\n",
       "<style scoped>\n",
       "    .dataframe tbody tr th:only-of-type {\n",
       "        vertical-align: middle;\n",
       "    }\n",
       "\n",
       "    .dataframe tbody tr th {\n",
       "        vertical-align: top;\n",
       "    }\n",
       "\n",
       "    .dataframe thead th {\n",
       "        text-align: right;\n",
       "    }\n",
       "</style>\n",
       "<table border=\"1\" class=\"dataframe\">\n",
       "  <thead>\n",
       "    <tr style=\"text-align: right;\">\n",
       "      <th></th>\n",
       "      <th>MI</th>\n",
       "      <th>MI_var</th>\n",
       "      <th>shuff_MI</th>\n",
       "      <th>shuff_MI_var</th>\n",
       "      <th>distances</th>\n",
       "      <th>exp_results</th>\n",
       "      <th>pow_results</th>\n",
       "      <th>concat_results</th>\n",
       "      <th>R2_exp</th>\n",
       "      <th>R2_concat</th>\n",
       "      <th>R2_power</th>\n",
       "      <th>AICc_exp</th>\n",
       "      <th>AICc_concat</th>\n",
       "      <th>AICc_power</th>\n",
       "      <th>bestfitmodel</th>\n",
       "      <th>curvature</th>\n",
       "      <th>min_peak</th>\n",
       "    </tr>\n",
       "  </thead>\n",
       "  <tbody>\n",
       "    <tr>\n",
       "      <th>0</th>\n",
       "      <td>[11.491092426440758, 11.113848299482346, 10.94...</td>\n",
       "      <td>[0.0032096905199801226, 0.0031487970998960533,...</td>\n",
       "      <td>[10.162464643140364, 10.161342744045395, 10.16...</td>\n",
       "      <td>[0.0030504540127070092, 0.00305061298348205, 0...</td>\n",
       "      <td>[1, 2, 3, 4, 5, 6, 7, 8, 9, 10, 11, 12, 13, 14...</td>\n",
       "      <td>&lt;lmfit.minimizer.MinimizerResult object at 0x7...</td>\n",
       "      <td>&lt;lmfit.minimizer.MinimizerResult object at 0x7...</td>\n",
       "      <td>&lt;lmfit.minimizer.MinimizerResult object at 0x7...</td>\n",
       "      <td>0.952085</td>\n",
       "      <td>0.999521</td>\n",
       "      <td>0.995571</td>\n",
       "      <td>-6513.666172</td>\n",
       "      <td>-11115.26092</td>\n",
       "      <td>-8894.92732</td>\n",
       "      <td>pow_exp</td>\n",
       "      <td>[3.129027579848531e-07, 4.695250164558214e-07,...</td>\n",
       "      <td>881.0</td>\n",
       "    </tr>\n",
       "  </tbody>\n",
       "</table>\n",
       "</div>"
      ],
      "text/plain": [
       "                                                  MI  \\\n",
       "0  [11.491092426440758, 11.113848299482346, 10.94...   \n",
       "\n",
       "                                              MI_var  \\\n",
       "0  [0.0032096905199801226, 0.0031487970998960533,...   \n",
       "\n",
       "                                            shuff_MI  \\\n",
       "0  [10.162464643140364, 10.161342744045395, 10.16...   \n",
       "\n",
       "                                        shuff_MI_var  \\\n",
       "0  [0.0030504540127070092, 0.00305061298348205, 0...   \n",
       "\n",
       "                                           distances  \\\n",
       "0  [1, 2, 3, 4, 5, 6, 7, 8, 9, 10, 11, 12, 13, 14...   \n",
       "\n",
       "                                         exp_results  \\\n",
       "0  <lmfit.minimizer.MinimizerResult object at 0x7...   \n",
       "\n",
       "                                         pow_results  \\\n",
       "0  <lmfit.minimizer.MinimizerResult object at 0x7...   \n",
       "\n",
       "                                      concat_results    R2_exp  R2_concat  \\\n",
       "0  <lmfit.minimizer.MinimizerResult object at 0x7...  0.952085   0.999521   \n",
       "\n",
       "   R2_power     AICc_exp  AICc_concat  AICc_power bestfitmodel  \\\n",
       "0  0.995571 -6513.666172 -11115.26092 -8894.92732      pow_exp   \n",
       "\n",
       "                                           curvature  min_peak  \n",
       "0  [3.129027579848531e-07, 4.695250164558214e-07,...     881.0  "
      ]
     },
     "execution_count": 14,
     "metadata": {},
     "output_type": "execute_result"
    }
   ],
   "source": [
    "MI_DF"
   ]
  },
  {
   "cell_type": "code",
   "execution_count": 15,
   "metadata": {
    "ExecuteTime": {
     "end_time": "2019-09-25T04:05:26.723488Z",
     "start_time": "2019-09-25T04:05:26.671522Z"
    }
   },
   "outputs": [],
   "source": [
    "labels = ['Drosophila']"
   ]
  },
  {
   "cell_type": "markdown",
   "metadata": {},
   "source": [
    "### Calculate R2"
   ]
  },
  {
   "cell_type": "code",
   "execution_count": 16,
   "metadata": {
    "ExecuteTime": {
     "end_time": "2019-09-25T04:05:27.377590Z",
     "start_time": "2019-09-25T04:05:27.319871Z"
    }
   },
   "outputs": [
    {
     "data": {
      "text/html": [
       "<div>\n",
       "<style scoped>\n",
       "    .dataframe tbody tr th:only-of-type {\n",
       "        vertical-align: middle;\n",
       "    }\n",
       "\n",
       "    .dataframe tbody tr th {\n",
       "        vertical-align: top;\n",
       "    }\n",
       "\n",
       "    .dataframe thead th {\n",
       "        text-align: right;\n",
       "    }\n",
       "</style>\n",
       "<table border=\"1\" class=\"dataframe\">\n",
       "  <thead>\n",
       "    <tr style=\"text-align: right;\">\n",
       "      <th></th>\n",
       "      <th>Drosophila</th>\n",
       "    </tr>\n",
       "  </thead>\n",
       "  <tbody>\n",
       "    <tr>\n",
       "      <th>exp</th>\n",
       "      <td>0.952085</td>\n",
       "    </tr>\n",
       "    <tr>\n",
       "      <th>combined</th>\n",
       "      <td>0.999521</td>\n",
       "    </tr>\n",
       "    <tr>\n",
       "      <th>power-law</th>\n",
       "      <td>0.995571</td>\n",
       "    </tr>\n",
       "  </tbody>\n",
       "</table>\n",
       "</div>"
      ],
      "text/plain": [
       "           Drosophila\n",
       "exp          0.952085\n",
       "combined     0.999521\n",
       "power-law    0.995571"
      ]
     },
     "execution_count": 16,
     "metadata": {},
     "output_type": "execute_result"
    }
   ],
   "source": [
    "R2 = MI_DF[['R2_exp', 'R2_concat', 'R2_power']]\n",
    "R2.columns = ['exp', 'combined', 'power-law']\n",
    "R2.index = labels\n",
    "R2 = R2.T\n",
    "R2"
   ]
  },
  {
   "cell_type": "markdown",
   "metadata": {},
   "source": [
    "### AICc"
   ]
  },
  {
   "cell_type": "code",
   "execution_count": 17,
   "metadata": {
    "ExecuteTime": {
     "end_time": "2019-09-25T04:05:28.182959Z",
     "start_time": "2019-09-25T04:05:28.118962Z"
    }
   },
   "outputs": [
    {
     "data": {
      "text/html": [
       "<div>\n",
       "<style scoped>\n",
       "    .dataframe tbody tr th:only-of-type {\n",
       "        vertical-align: middle;\n",
       "    }\n",
       "\n",
       "    .dataframe tbody tr th {\n",
       "        vertical-align: top;\n",
       "    }\n",
       "\n",
       "    .dataframe thead th {\n",
       "        text-align: right;\n",
       "    }\n",
       "</style>\n",
       "<table border=\"1\" class=\"dataframe\">\n",
       "  <thead>\n",
       "    <tr style=\"text-align: right;\">\n",
       "      <th></th>\n",
       "      <th>Drosophila</th>\n",
       "    </tr>\n",
       "  </thead>\n",
       "  <tbody>\n",
       "    <tr>\n",
       "      <th>exp</th>\n",
       "      <td>-6513.666172</td>\n",
       "    </tr>\n",
       "    <tr>\n",
       "      <th>combined.</th>\n",
       "      <td>-11115.260920</td>\n",
       "    </tr>\n",
       "    <tr>\n",
       "      <th>power-law</th>\n",
       "      <td>-8894.927320</td>\n",
       "    </tr>\n",
       "  </tbody>\n",
       "</table>\n",
       "</div>"
      ],
      "text/plain": [
       "             Drosophila\n",
       "exp        -6513.666172\n",
       "combined. -11115.260920\n",
       "power-law  -8894.927320"
      ]
     },
     "execution_count": 17,
     "metadata": {},
     "output_type": "execute_result"
    }
   ],
   "source": [
    "AICcs = MI_DF[['AICc_exp', 'AICc_concat', 'AICc_power']]\n",
    "AICcs.columns = ['exp', 'combined.', 'power-law']\n",
    "AICcs.index = labels\n",
    "AICcs = AICcs.T\n",
    "AICcs"
   ]
  },
  {
   "cell_type": "markdown",
   "metadata": {},
   "source": [
    "#### $\\Delta$AIC"
   ]
  },
  {
   "cell_type": "code",
   "execution_count": 18,
   "metadata": {
    "ExecuteTime": {
     "end_time": "2019-09-25T04:05:28.574827Z",
     "start_time": "2019-09-25T04:05:28.483230Z"
    }
   },
   "outputs": [
    {
     "data": {
      "text/html": [
       "<div>\n",
       "<style scoped>\n",
       "    .dataframe tbody tr th:only-of-type {\n",
       "        vertical-align: middle;\n",
       "    }\n",
       "\n",
       "    .dataframe tbody tr th {\n",
       "        vertical-align: top;\n",
       "    }\n",
       "\n",
       "    .dataframe thead th {\n",
       "        text-align: right;\n",
       "    }\n",
       "</style>\n",
       "<table border=\"1\" class=\"dataframe\">\n",
       "  <thead>\n",
       "    <tr style=\"text-align: right;\">\n",
       "      <th></th>\n",
       "      <th>Drosophila</th>\n",
       "    </tr>\n",
       "  </thead>\n",
       "  <tbody>\n",
       "    <tr>\n",
       "      <th>exp</th>\n",
       "      <td>4601.594748</td>\n",
       "    </tr>\n",
       "    <tr>\n",
       "      <th>combined.</th>\n",
       "      <td>0.000000</td>\n",
       "    </tr>\n",
       "    <tr>\n",
       "      <th>power-law</th>\n",
       "      <td>2220.333600</td>\n",
       "    </tr>\n",
       "  </tbody>\n",
       "</table>\n",
       "</div>"
      ],
      "text/plain": [
       "            Drosophila\n",
       "exp        4601.594748\n",
       "combined.     0.000000\n",
       "power-law  2220.333600"
      ]
     },
     "execution_count": 18,
     "metadata": {},
     "output_type": "execute_result"
    }
   ],
   "source": [
    "delta_AICcs = AICcs.T - np.repeat(np.min(AICcs.T.values, axis=1),3).reshape(len(labels),3)\n",
    "delta_AICcs = delta_AICcs.T\n",
    "delta_AICcs"
   ]
  },
  {
   "cell_type": "markdown",
   "metadata": {},
   "source": [
    "### relative likelihood"
   ]
  },
  {
   "cell_type": "code",
   "execution_count": 19,
   "metadata": {
    "ExecuteTime": {
     "end_time": "2019-09-25T04:05:28.843618Z",
     "start_time": "2019-09-25T04:05:28.802839Z"
    }
   },
   "outputs": [
    {
     "data": {
      "text/html": [
       "<div>\n",
       "<style scoped>\n",
       "    .dataframe tbody tr th:only-of-type {\n",
       "        vertical-align: middle;\n",
       "    }\n",
       "\n",
       "    .dataframe tbody tr th {\n",
       "        vertical-align: top;\n",
       "    }\n",
       "\n",
       "    .dataframe thead th {\n",
       "        text-align: right;\n",
       "    }\n",
       "</style>\n",
       "<table border=\"1\" class=\"dataframe\">\n",
       "  <thead>\n",
       "    <tr style=\"text-align: right;\">\n",
       "      <th></th>\n",
       "      <th>Drosophila</th>\n",
       "    </tr>\n",
       "  </thead>\n",
       "  <tbody>\n",
       "    <tr>\n",
       "      <th>exp</th>\n",
       "      <td>0.0</td>\n",
       "    </tr>\n",
       "    <tr>\n",
       "      <th>combined.</th>\n",
       "      <td>1.0</td>\n",
       "    </tr>\n",
       "    <tr>\n",
       "      <th>power-law</th>\n",
       "      <td>0.0</td>\n",
       "    </tr>\n",
       "  </tbody>\n",
       "</table>\n",
       "</div>"
      ],
      "text/plain": [
       "           Drosophila\n",
       "exp               0.0\n",
       "combined.         1.0\n",
       "power-law         0.0"
      ]
     },
     "execution_count": 19,
     "metadata": {},
     "output_type": "execute_result"
    }
   ],
   "source": [
    "relative_likelihoods = mf.relative_likelihood(delta_AICcs)\n",
    "relative_likelihoods"
   ]
  },
  {
   "cell_type": "markdown",
   "metadata": {},
   "source": [
    "### relative probability of models"
   ]
  },
  {
   "cell_type": "code",
   "execution_count": 20,
   "metadata": {
    "ExecuteTime": {
     "end_time": "2019-09-25T04:05:29.139967Z",
     "start_time": "2019-09-25T04:05:29.108384Z"
    }
   },
   "outputs": [
    {
     "data": {
      "text/html": [
       "<div>\n",
       "<style scoped>\n",
       "    .dataframe tbody tr th:only-of-type {\n",
       "        vertical-align: middle;\n",
       "    }\n",
       "\n",
       "    .dataframe tbody tr th {\n",
       "        vertical-align: top;\n",
       "    }\n",
       "\n",
       "    .dataframe thead th {\n",
       "        text-align: right;\n",
       "    }\n",
       "</style>\n",
       "<table border=\"1\" class=\"dataframe\">\n",
       "  <thead>\n",
       "    <tr style=\"text-align: right;\">\n",
       "      <th></th>\n",
       "      <th>Drosophila</th>\n",
       "    </tr>\n",
       "  </thead>\n",
       "  <tbody>\n",
       "    <tr>\n",
       "      <th>exp</th>\n",
       "      <td>0.0</td>\n",
       "    </tr>\n",
       "    <tr>\n",
       "      <th>combined.</th>\n",
       "      <td>1.0</td>\n",
       "    </tr>\n",
       "    <tr>\n",
       "      <th>power-law</th>\n",
       "      <td>0.0</td>\n",
       "    </tr>\n",
       "  </tbody>\n",
       "</table>\n",
       "</div>"
      ],
      "text/plain": [
       "           Drosophila\n",
       "exp               0.0\n",
       "combined.         1.0\n",
       "power-law         0.0"
      ]
     },
     "execution_count": 20,
     "metadata": {},
     "output_type": "execute_result"
    }
   ],
   "source": [
    "prob_models = mf.Prob_model_Given_data_and_models(relative_likelihoods)\n",
    "prob_models"
   ]
  },
  {
   "cell_type": "markdown",
   "metadata": {},
   "source": [
    "#### Join tables"
   ]
  },
  {
   "cell_type": "code",
   "execution_count": 21,
   "metadata": {
    "ExecuteTime": {
     "end_time": "2019-09-25T04:05:29.464806Z",
     "start_time": "2019-09-25T04:05:29.436558Z"
    }
   },
   "outputs": [],
   "source": [
    "AICcs['superlabel'] = 'AICc'\n",
    "relative_likelihoods['superlabel'] = 'Relative likelihood'\n",
    "R2['superlabel'] = '$r^2$'\n",
    "prob_models['superlabel'] = 'Relative probability'"
   ]
  },
  {
   "cell_type": "code",
   "execution_count": 22,
   "metadata": {
    "ExecuteTime": {
     "end_time": "2019-09-25T04:05:30.336634Z",
     "start_time": "2019-09-25T04:05:30.263667Z"
    }
   },
   "outputs": [
    {
     "data": {
      "text/html": [
       "<div>\n",
       "<style scoped>\n",
       "    .dataframe tbody tr th:only-of-type {\n",
       "        vertical-align: middle;\n",
       "    }\n",
       "\n",
       "    .dataframe tbody tr th {\n",
       "        vertical-align: top;\n",
       "    }\n",
       "\n",
       "    .dataframe thead th {\n",
       "        text-align: right;\n",
       "    }\n",
       "</style>\n",
       "<table border=\"1\" class=\"dataframe\">\n",
       "  <thead>\n",
       "    <tr style=\"text-align: right;\">\n",
       "      <th></th>\n",
       "      <th></th>\n",
       "      <th>Drosophila</th>\n",
       "    </tr>\n",
       "    <tr>\n",
       "      <th>superlabel</th>\n",
       "      <th></th>\n",
       "      <th></th>\n",
       "    </tr>\n",
       "  </thead>\n",
       "  <tbody>\n",
       "    <tr>\n",
       "      <th rowspan=\"3\" valign=\"top\">AICc</th>\n",
       "      <th>exp</th>\n",
       "      <td>-6513.67</td>\n",
       "    </tr>\n",
       "    <tr>\n",
       "      <th>combined.</th>\n",
       "      <td>-11115.3</td>\n",
       "    </tr>\n",
       "    <tr>\n",
       "      <th>power-law</th>\n",
       "      <td>-8894.93</td>\n",
       "    </tr>\n",
       "    <tr>\n",
       "      <th rowspan=\"3\" valign=\"top\">$r^2$</th>\n",
       "      <th>exp</th>\n",
       "      <td>0.952</td>\n",
       "    </tr>\n",
       "    <tr>\n",
       "      <th>combined</th>\n",
       "      <td>&gt;0.999</td>\n",
       "    </tr>\n",
       "    <tr>\n",
       "      <th>power-law</th>\n",
       "      <td>0.996</td>\n",
       "    </tr>\n",
       "    <tr>\n",
       "      <th rowspan=\"3\" valign=\"top\">Relative likelihood</th>\n",
       "      <th>exp</th>\n",
       "      <td>&lt;0.001</td>\n",
       "    </tr>\n",
       "    <tr>\n",
       "      <th>combined.</th>\n",
       "      <td>&gt;0.999</td>\n",
       "    </tr>\n",
       "    <tr>\n",
       "      <th>power-law</th>\n",
       "      <td>&lt;0.001</td>\n",
       "    </tr>\n",
       "    <tr>\n",
       "      <th rowspan=\"3\" valign=\"top\">Relative probability</th>\n",
       "      <th>exp</th>\n",
       "      <td>&lt;0.001</td>\n",
       "    </tr>\n",
       "    <tr>\n",
       "      <th>combined.</th>\n",
       "      <td>&gt;0.999</td>\n",
       "    </tr>\n",
       "    <tr>\n",
       "      <th>power-law</th>\n",
       "      <td>&lt;0.001</td>\n",
       "    </tr>\n",
       "  </tbody>\n",
       "</table>\n",
       "</div>"
      ],
      "text/plain": [
       "                               Drosophila\n",
       "superlabel                               \n",
       "AICc                 exp         -6513.67\n",
       "                     combined.   -11115.3\n",
       "                     power-law   -8894.93\n",
       "$r^2$                exp            0.952\n",
       "                     combined      >0.999\n",
       "                     power-law      0.996\n",
       "Relative likelihood  exp           <0.001\n",
       "                     combined.     >0.999\n",
       "                     power-law     <0.001\n",
       "Relative probability exp           <0.001\n",
       "                     combined.     >0.999\n",
       "                     power-law     <0.001"
      ]
     },
     "execution_count": 22,
     "metadata": {},
     "output_type": "execute_result"
    }
   ],
   "source": [
    "results_table = pd.concat([\n",
    "    AICcs,\n",
    "    R2,\n",
    "    relative_likelihoods,\n",
    "    prob_models\n",
    "]).round(3).replace(0, '<0.001').replace(1, '>0.999')\n",
    "results_table[''] = results_table.index\n",
    "results_table.set_index(['superlabel', ''], inplace=True)\n",
    "results_table"
   ]
  },
  {
   "cell_type": "code",
   "execution_count": 23,
   "metadata": {
    "ExecuteTime": {
     "end_time": "2019-09-25T04:05:34.285683Z",
     "start_time": "2019-09-25T04:05:34.228671Z"
    }
   },
   "outputs": [
    {
     "name": "stdout",
     "output_type": "stream",
     "text": [
      "\\begin{tabular}{lll}\n",
      "\\toprule\n",
      "                     &           & Drosophila \\\\\n",
      "\\midrule\n",
      "\\textbf{} & {} &            \\\\\n",
      "\\midrule\n",
      "\\midrule\n",
      "\\textbf{AICc} & \\textbf{exp} &   -6513.67 \\\\\n",
      "                     & \\textbf{combined.} &   -11115.3 \\\\\n",
      "                     & \\textbf{power-law} &   -8894.93 \\\\\n",
      "\\midrule\n",
      "\\textbf{$r^2$} & \\textbf{exp} &      0.952 \\\\\n",
      "                     & \\textbf{combined} &     $>$0.999 \\\\\n",
      "                     & \\textbf{power-law} &      0.996 \\\\\n",
      "\\midrule\n",
      "\\textbf{Relative likelihood} & \\textbf{exp} &     $<$0.001 \\\\\n",
      "                     & \\textbf{combined.} &     $>$0.999 \\\\\n",
      "                     & \\textbf{power-law} &     $<$0.001 \\\\\n",
      "\\midrule\n",
      "\\textbf{Relative probability} & \\textbf{exp} &     $<$0.001 \\\\\n",
      "                     & \\textbf{combined.} &     $>$0.999 \\\\\n",
      "                     & \\textbf{power-law} &     $<$0.001 \\\\\n",
      "\\bottomrule\n",
      "\\end{tabular}\n",
      "\n"
     ]
    }
   ],
   "source": [
    "results_string = results_table.to_latex(bold_rows=True, escape=False)\\\n",
    "      .replace('>', '$>$')\\\n",
    "      .replace('<', '$<$')\\\n",
    "      .replace('superlabel', '')\\\n",
    "     .replace('\\n\\\\textbf', '\\n\\midrule\\n\\\\textbf')\n",
    "print(results_string)"
   ]
  },
  {
   "cell_type": "code",
   "execution_count": null,
   "metadata": {},
   "outputs": [],
   "source": []
  }
 ],
 "metadata": {
  "kernelspec": {
   "display_name": "Python 3",
   "language": "python",
   "name": "python3"
  },
  "language_info": {
   "codemirror_mode": {
    "name": "ipython",
    "version": 3
   },
   "file_extension": ".py",
   "mimetype": "text/x-python",
   "name": "python",
   "nbconvert_exporter": "python",
   "pygments_lexer": "ipython3",
   "version": "3.6.7"
  }
 },
 "nbformat": 4,
 "nbformat_minor": 2
}
