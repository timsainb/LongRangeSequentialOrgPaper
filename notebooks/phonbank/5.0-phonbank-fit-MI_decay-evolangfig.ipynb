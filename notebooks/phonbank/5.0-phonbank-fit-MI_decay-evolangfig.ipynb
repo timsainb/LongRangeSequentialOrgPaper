{
 "cells": [
  {
   "cell_type": "code",
   "execution_count": 1,
   "metadata": {
    "ExecuteTime": {
     "end_time": "2019-09-13T21:52:35.566121Z",
     "start_time": "2019-09-13T21:52:35.411951Z"
    }
   },
   "outputs": [],
   "source": [
    "%load_ext autoreload\n",
    "%autoreload 2"
   ]
  },
  {
   "cell_type": "code",
   "execution_count": 2,
   "metadata": {
    "ExecuteTime": {
     "end_time": "2019-09-13T21:52:36.488025Z",
     "start_time": "2019-09-13T21:52:35.588737Z"
    }
   },
   "outputs": [],
   "source": [
    "from childes_mi.utils.paths import DATA_DIR, FIGURE_DIR\n",
    "from childes_mi.utils.general import flatten,save_fig"
   ]
  },
  {
   "cell_type": "code",
   "execution_count": 3,
   "metadata": {
    "ExecuteTime": {
     "end_time": "2019-09-13T21:52:38.796100Z",
     "start_time": "2019-09-13T21:52:36.494727Z"
    }
   },
   "outputs": [],
   "source": [
    "from childes_mi.information_theory import model_fitting as mf"
   ]
  },
  {
   "cell_type": "code",
   "execution_count": 4,
   "metadata": {
    "ExecuteTime": {
     "end_time": "2019-09-13T21:52:38.887292Z",
     "start_time": "2019-09-13T21:52:38.800548Z"
    }
   },
   "outputs": [
    {
     "name": "stderr",
     "output_type": "stream",
     "text": [
      "/mnt/cube/tsainbur/conda_envs/tpy3/lib/python3.6/site-packages/tqdm/autonotebook/__init__.py:14: TqdmExperimentalWarning: Using `tqdm.autonotebook.tqdm` in notebook mode. Use `tqdm.tqdm` instead to force console mode (e.g. in jupyter console)\n",
      "  \" (e.g. in jupyter console)\", TqdmExperimentalWarning)\n"
     ]
    }
   ],
   "source": [
    "import pandas as pd\n",
    "import numpy as np\n",
    "import matplotlib.pyplot as plt\n",
    "from tqdm.autonotebook import tqdm"
   ]
  },
  {
   "cell_type": "code",
   "execution_count": 5,
   "metadata": {
    "ExecuteTime": {
     "end_time": "2019-09-13T21:52:40.146065Z",
     "start_time": "2019-09-13T21:52:38.891610Z"
    }
   },
   "outputs": [],
   "source": [
    "MI_DF = pd.read_pickle(DATA_DIR/'mi/phonbank_mi.pickle')"
   ]
  },
  {
   "cell_type": "code",
   "execution_count": 6,
   "metadata": {
    "ExecuteTime": {
     "end_time": "2019-09-13T21:52:40.296687Z",
     "start_time": "2019-09-13T21:52:40.151514Z"
    }
   },
   "outputs": [
    {
     "data": {
      "text/html": [
       "<div>\n",
       "<style scoped>\n",
       "    .dataframe tbody tr th:only-of-type {\n",
       "        vertical-align: middle;\n",
       "    }\n",
       "\n",
       "    .dataframe tbody tr th {\n",
       "        vertical-align: top;\n",
       "    }\n",
       "\n",
       "    .dataframe thead th {\n",
       "        text-align: right;\n",
       "    }\n",
       "</style>\n",
       "<table border=\"1\" class=\"dataframe\">\n",
       "  <thead>\n",
       "    <tr style=\"text-align: right;\">\n",
       "      <th></th>\n",
       "      <th>MI</th>\n",
       "      <th>MI_var</th>\n",
       "      <th>shuff_MI</th>\n",
       "      <th>shuff_MI_var</th>\n",
       "      <th>distances</th>\n",
       "      <th>age_cohort_low</th>\n",
       "      <th>age_cohort_high</th>\n",
       "      <th>n_phones</th>\n",
       "      <th>n_unique_phones</th>\n",
       "    </tr>\n",
       "  </thead>\n",
       "  <tbody>\n",
       "    <tr>\n",
       "      <th>0</th>\n",
       "      <td>[10.080288260013138, 9.916455549165027, 9.7424...</td>\n",
       "      <td>[0.010088692845104597, 0.009966629345003522, 0...</td>\n",
       "      <td>[9.540319164934521, 9.545878218535728, 9.53434...</td>\n",
       "      <td>[0.009889103513194912, 0.009903386166469113, 0...</td>\n",
       "      <td>[1, 2, 3, 4, 5, 6, 7, 8, 9, 10, 11, 12, 13, 14...</td>\n",
       "      <td>0.5</td>\n",
       "      <td>1</td>\n",
       "      <td>60390</td>\n",
       "      <td>3259</td>\n",
       "    </tr>\n",
       "    <tr>\n",
       "      <th>1</th>\n",
       "      <td>[11.018700216584904, 10.737645462157055, 10.56...</td>\n",
       "      <td>[0.005213049628772987, 0.005149803969908309, 0...</td>\n",
       "      <td>[10.354873873252643, 10.35376084240053, 10.353...</td>\n",
       "      <td>[0.00508955241492165, 0.005096158572864715, 0....</td>\n",
       "      <td>[1, 2, 3, 4, 5, 6, 7, 8, 9, 10, 11, 12, 13, 14...</td>\n",
       "      <td>1.0</td>\n",
       "      <td>1.5</td>\n",
       "      <td>312914</td>\n",
       "      <td>5787</td>\n",
       "    </tr>\n",
       "    <tr>\n",
       "      <th>2</th>\n",
       "      <td>[11.052948976446858, 10.656466560369868, 10.48...</td>\n",
       "      <td>[0.0044666661484878325, 0.0043938556743630605,...</td>\n",
       "      <td>[10.335267645293385, 10.33318150766475, 10.333...</td>\n",
       "      <td>[0.004350729568225813, 0.004350829245781982, 0...</td>\n",
       "      <td>[1, 2, 3, 4, 5, 6, 7, 8, 9, 10, 11, 12, 13, 14...</td>\n",
       "      <td>1.5</td>\n",
       "      <td>2</td>\n",
       "      <td>457938</td>\n",
       "      <td>5769</td>\n",
       "    </tr>\n",
       "  </tbody>\n",
       "</table>\n",
       "</div>"
      ],
      "text/plain": [
       "                                                  MI  \\\n",
       "0  [10.080288260013138, 9.916455549165027, 9.7424...   \n",
       "1  [11.018700216584904, 10.737645462157055, 10.56...   \n",
       "2  [11.052948976446858, 10.656466560369868, 10.48...   \n",
       "\n",
       "                                              MI_var  \\\n",
       "0  [0.010088692845104597, 0.009966629345003522, 0...   \n",
       "1  [0.005213049628772987, 0.005149803969908309, 0...   \n",
       "2  [0.0044666661484878325, 0.0043938556743630605,...   \n",
       "\n",
       "                                            shuff_MI  \\\n",
       "0  [9.540319164934521, 9.545878218535728, 9.53434...   \n",
       "1  [10.354873873252643, 10.35376084240053, 10.353...   \n",
       "2  [10.335267645293385, 10.33318150766475, 10.333...   \n",
       "\n",
       "                                        shuff_MI_var  \\\n",
       "0  [0.009889103513194912, 0.009903386166469113, 0...   \n",
       "1  [0.00508955241492165, 0.005096158572864715, 0....   \n",
       "2  [0.004350729568225813, 0.004350829245781982, 0...   \n",
       "\n",
       "                                           distances  age_cohort_low  \\\n",
       "0  [1, 2, 3, 4, 5, 6, 7, 8, 9, 10, 11, 12, 13, 14...             0.5   \n",
       "1  [1, 2, 3, 4, 5, 6, 7, 8, 9, 10, 11, 12, 13, 14...             1.0   \n",
       "2  [1, 2, 3, 4, 5, 6, 7, 8, 9, 10, 11, 12, 13, 14...             1.5   \n",
       "\n",
       "  age_cohort_high n_phones n_unique_phones  \n",
       "0               1    60390            3259  \n",
       "1             1.5   312914            5787  \n",
       "2               2   457938            5769  "
      ]
     },
     "execution_count": 6,
     "metadata": {},
     "output_type": "execute_result"
    }
   ],
   "source": [
    "MI_DF[:3]"
   ]
  },
  {
   "cell_type": "code",
   "execution_count": 7,
   "metadata": {
    "ExecuteTime": {
     "end_time": "2019-09-13T21:52:40.375184Z",
     "start_time": "2019-09-13T21:52:40.301907Z"
    }
   },
   "outputs": [],
   "source": [
    "MI_DF = MI_DF.assign(**{i:np.nan for i in ['exp_results', 'pow_results', 'concat_results',\n",
    "     'R2_exp', 'R2_concat', 'R2_power', 'AICc_exp',\n",
    "     'AICc_concat', 'AICc_power', 'bestfitmodel', 'curvature', 'min_peak']})\n",
    "MI_DF['curvature'] = MI_DF['curvature'].astype(object)"
   ]
  },
  {
   "cell_type": "code",
   "execution_count": 8,
   "metadata": {
    "ExecuteTime": {
     "end_time": "2019-09-13T21:52:44.298752Z",
     "start_time": "2019-09-13T21:52:40.379462Z"
    }
   },
   "outputs": [
    {
     "data": {
      "application/vnd.jupyter.widget-view+json": {
       "model_id": "c213066f94ee4b1a9cad6aae27da354a",
       "version_major": 2,
       "version_minor": 0
      },
      "text/plain": [
       "HBox(children=(IntProgress(value=0, max=6), HTML(value='')))"
      ]
     },
     "metadata": {},
     "output_type": "display_data"
    },
    {
     "name": "stdout",
     "output_type": "stream",
     "text": [
      "0.5 1 pow_exp\n",
      "1.0 1.5 pow_exp\n",
      "1.5 2 pow_exp\n",
      "2.0 2.5 pow_exp\n",
      "2.5 3 pow_exp\n",
      "3.0 20 pow_exp\n",
      "\n"
     ]
    }
   ],
   "source": [
    "n = 100 # max distance for computation\n",
    "for idx, row in tqdm(MI_DF.iterrows(), total=len(MI_DF)):\n",
    "    # get signal\n",
    "    sig = np.array(row.MI-row.shuff_MI)\n",
    "    distances = row.distances\n",
    "    sig = sig\n",
    "    \n",
    "    # fit models\n",
    "    results_power, results_exp, results_pow_exp, best_fit_model = mf.fit_models(distances, sig)\n",
    "    \n",
    "    # get fit results\n",
    "    R2_exp, R2_concat, R2_power, AICc_exp, \\\n",
    "        AICc_pow, AICc_concat = mf.fit_results(sig, distances, \n",
    "                                              results_exp, results_power,\n",
    "                                              results_pow_exp)\n",
    "    \n",
    "    \n",
    "    # get model y\n",
    "    distances_mod = np.logspace(0,np.log10(n), base=10, num=1000)\n",
    "    if best_fit_model == 'pow_exp':\n",
    "        y_model = mf.get_y(mf.pow_exp_decay, results_pow_exp, distances_mod)\n",
    "    elif best_fit_model == 'exp':\n",
    "        y_model = mf.get_y(mf.exp_decay, results_exp, distances_mod)\n",
    "    elif best_fit_model == 'pow':\n",
    "        y_model = mf.get_y(mf.powerlaw_decay, results_power, distances_mod)\n",
    "    \n",
    "    # get curvature of model_y\n",
    "    curvature_model = mf.curvature(np.log(y_model))\n",
    "    \n",
    "    # if the best fit model is pow_exp, then grab the min peak\n",
    "    if best_fit_model == 'pow_exp':\n",
    "        # get peaks of curvature\n",
    "        peaks = np.where((\n",
    "            (curvature_model[:-1] < curvature_model[1:])[1:] & (curvature_model[1:] < curvature_model[:-1])[:-1]\n",
    "        ))\n",
    "        min_peak = peaks[0][0]\n",
    "    else:\n",
    "        min_peak = np.nan\n",
    "\n",
    "    # get save model fit results to MI_DF\n",
    "    MI_DF.loc[idx, np.array(['exp_results', 'pow_results', 'concat_results',\n",
    "                         'R2_exp', 'R2_concat', 'R2_power', 'AICc_exp',\n",
    "                         'AICc_concat', 'AICc_power', 'bestfitmodel', 'curvature', 'min_peak'])] = [\n",
    "        results_exp, results_power, results_pow_exp,\n",
    "        R2_exp, R2_concat, R2_power, AICc_exp,\n",
    "        AICc_concat, AICc_pow, best_fit_model,\n",
    "        curvature_model, min_peak\n",
    "    ]\n",
    "\n",
    "    print(row.age_cohort_low, row.age_cohort_high, best_fit_model)"
   ]
  },
  {
   "cell_type": "code",
   "execution_count": 9,
   "metadata": {
    "ExecuteTime": {
     "end_time": "2019-09-13T21:52:44.449260Z",
     "start_time": "2019-09-13T21:52:44.301815Z"
    }
   },
   "outputs": [
    {
     "data": {
      "text/html": [
       "<div>\n",
       "<style scoped>\n",
       "    .dataframe tbody tr th:only-of-type {\n",
       "        vertical-align: middle;\n",
       "    }\n",
       "\n",
       "    .dataframe tbody tr th {\n",
       "        vertical-align: top;\n",
       "    }\n",
       "\n",
       "    .dataframe thead th {\n",
       "        text-align: right;\n",
       "    }\n",
       "</style>\n",
       "<table border=\"1\" class=\"dataframe\">\n",
       "  <thead>\n",
       "    <tr style=\"text-align: right;\">\n",
       "      <th></th>\n",
       "      <th>MI</th>\n",
       "      <th>MI_var</th>\n",
       "      <th>shuff_MI</th>\n",
       "      <th>shuff_MI_var</th>\n",
       "      <th>distances</th>\n",
       "      <th>age_cohort_low</th>\n",
       "      <th>age_cohort_high</th>\n",
       "      <th>n_phones</th>\n",
       "      <th>n_unique_phones</th>\n",
       "      <th>exp_results</th>\n",
       "      <th>...</th>\n",
       "      <th>concat_results</th>\n",
       "      <th>R2_exp</th>\n",
       "      <th>R2_concat</th>\n",
       "      <th>R2_power</th>\n",
       "      <th>AICc_exp</th>\n",
       "      <th>AICc_concat</th>\n",
       "      <th>AICc_power</th>\n",
       "      <th>bestfitmodel</th>\n",
       "      <th>curvature</th>\n",
       "      <th>min_peak</th>\n",
       "    </tr>\n",
       "  </thead>\n",
       "  <tbody>\n",
       "    <tr>\n",
       "      <th>0</th>\n",
       "      <td>[10.080288260013138, 9.916455549165027, 9.7424...</td>\n",
       "      <td>[0.010088692845104597, 0.009966629345003522, 0...</td>\n",
       "      <td>[9.540319164934521, 9.545878218535728, 9.53434...</td>\n",
       "      <td>[0.009889103513194912, 0.009903386166469113, 0...</td>\n",
       "      <td>[1, 2, 3, 4, 5, 6, 7, 8, 9, 10, 11, 12, 13, 14...</td>\n",
       "      <td>0.5</td>\n",
       "      <td>1</td>\n",
       "      <td>60390</td>\n",
       "      <td>3259</td>\n",
       "      <td>&lt;lmfit.minimizer.MinimizerResult object at 0x7...</td>\n",
       "      <td>...</td>\n",
       "      <td>&lt;lmfit.minimizer.MinimizerResult object at 0x7...</td>\n",
       "      <td>0.983485</td>\n",
       "      <td>0.993614</td>\n",
       "      <td>0.989926</td>\n",
       "      <td>-573.660113</td>\n",
       "      <td>-664.289186</td>\n",
       "      <td>-623.093092</td>\n",
       "      <td>pow_exp</td>\n",
       "      <td>[-4.7259173188471115e-07, -7.152342473020701e-...</td>\n",
       "      <td>259.0</td>\n",
       "    </tr>\n",
       "    <tr>\n",
       "      <th>1</th>\n",
       "      <td>[11.018700216584904, 10.737645462157055, 10.56...</td>\n",
       "      <td>[0.005213049628772987, 0.005149803969908309, 0...</td>\n",
       "      <td>[10.354873873252643, 10.35376084240053, 10.353...</td>\n",
       "      <td>[0.00508955241492165, 0.005096158572864715, 0....</td>\n",
       "      <td>[1, 2, 3, 4, 5, 6, 7, 8, 9, 10, 11, 12, 13, 14...</td>\n",
       "      <td>1.0</td>\n",
       "      <td>1.5</td>\n",
       "      <td>312914</td>\n",
       "      <td>5787</td>\n",
       "      <td>&lt;lmfit.minimizer.MinimizerResult object at 0x7...</td>\n",
       "      <td>...</td>\n",
       "      <td>&lt;lmfit.minimizer.MinimizerResult object at 0x7...</td>\n",
       "      <td>0.980861</td>\n",
       "      <td>0.998117</td>\n",
       "      <td>0.995941</td>\n",
       "      <td>-516.601598</td>\n",
       "      <td>-744.125823</td>\n",
       "      <td>-671.671083</td>\n",
       "      <td>pow_exp</td>\n",
       "      <td>[-6.398269681238529e-07, -9.676437685993425e-0...</td>\n",
       "      <td>247.0</td>\n",
       "    </tr>\n",
       "    <tr>\n",
       "      <th>2</th>\n",
       "      <td>[11.052948976446858, 10.656466560369868, 10.48...</td>\n",
       "      <td>[0.0044666661484878325, 0.0043938556743630605,...</td>\n",
       "      <td>[10.335267645293385, 10.33318150766475, 10.333...</td>\n",
       "      <td>[0.004350729568225813, 0.004350829245781982, 0...</td>\n",
       "      <td>[1, 2, 3, 4, 5, 6, 7, 8, 9, 10, 11, 12, 13, 14...</td>\n",
       "      <td>1.5</td>\n",
       "      <td>2</td>\n",
       "      <td>457938</td>\n",
       "      <td>5769</td>\n",
       "      <td>&lt;lmfit.minimizer.MinimizerResult object at 0x7...</td>\n",
       "      <td>...</td>\n",
       "      <td>&lt;lmfit.minimizer.MinimizerResult object at 0x7...</td>\n",
       "      <td>0.971529</td>\n",
       "      <td>0.998164</td>\n",
       "      <td>0.996968</td>\n",
       "      <td>-436.462823</td>\n",
       "      <td>-706.207524</td>\n",
       "      <td>-660.428461</td>\n",
       "      <td>pow_exp</td>\n",
       "      <td>[-3.526032069378871e-06, -5.3052760008367026e-...</td>\n",
       "      <td>169.0</td>\n",
       "    </tr>\n",
       "  </tbody>\n",
       "</table>\n",
       "<p>3 rows × 21 columns</p>\n",
       "</div>"
      ],
      "text/plain": [
       "                                                  MI  \\\n",
       "0  [10.080288260013138, 9.916455549165027, 9.7424...   \n",
       "1  [11.018700216584904, 10.737645462157055, 10.56...   \n",
       "2  [11.052948976446858, 10.656466560369868, 10.48...   \n",
       "\n",
       "                                              MI_var  \\\n",
       "0  [0.010088692845104597, 0.009966629345003522, 0...   \n",
       "1  [0.005213049628772987, 0.005149803969908309, 0...   \n",
       "2  [0.0044666661484878325, 0.0043938556743630605,...   \n",
       "\n",
       "                                            shuff_MI  \\\n",
       "0  [9.540319164934521, 9.545878218535728, 9.53434...   \n",
       "1  [10.354873873252643, 10.35376084240053, 10.353...   \n",
       "2  [10.335267645293385, 10.33318150766475, 10.333...   \n",
       "\n",
       "                                        shuff_MI_var  \\\n",
       "0  [0.009889103513194912, 0.009903386166469113, 0...   \n",
       "1  [0.00508955241492165, 0.005096158572864715, 0....   \n",
       "2  [0.004350729568225813, 0.004350829245781982, 0...   \n",
       "\n",
       "                                           distances  age_cohort_low  \\\n",
       "0  [1, 2, 3, 4, 5, 6, 7, 8, 9, 10, 11, 12, 13, 14...             0.5   \n",
       "1  [1, 2, 3, 4, 5, 6, 7, 8, 9, 10, 11, 12, 13, 14...             1.0   \n",
       "2  [1, 2, 3, 4, 5, 6, 7, 8, 9, 10, 11, 12, 13, 14...             1.5   \n",
       "\n",
       "  age_cohort_high n_phones n_unique_phones  \\\n",
       "0               1    60390            3259   \n",
       "1             1.5   312914            5787   \n",
       "2               2   457938            5769   \n",
       "\n",
       "                                         exp_results  ...  \\\n",
       "0  <lmfit.minimizer.MinimizerResult object at 0x7...  ...   \n",
       "1  <lmfit.minimizer.MinimizerResult object at 0x7...  ...   \n",
       "2  <lmfit.minimizer.MinimizerResult object at 0x7...  ...   \n",
       "\n",
       "                                      concat_results    R2_exp  R2_concat  \\\n",
       "0  <lmfit.minimizer.MinimizerResult object at 0x7...  0.983485   0.993614   \n",
       "1  <lmfit.minimizer.MinimizerResult object at 0x7...  0.980861   0.998117   \n",
       "2  <lmfit.minimizer.MinimizerResult object at 0x7...  0.971529   0.998164   \n",
       "\n",
       "   R2_power    AICc_exp  AICc_concat  AICc_power  bestfitmodel  \\\n",
       "0  0.989926 -573.660113  -664.289186 -623.093092       pow_exp   \n",
       "1  0.995941 -516.601598  -744.125823 -671.671083       pow_exp   \n",
       "2  0.996968 -436.462823  -706.207524 -660.428461       pow_exp   \n",
       "\n",
       "                                           curvature min_peak  \n",
       "0  [-4.7259173188471115e-07, -7.152342473020701e-...    259.0  \n",
       "1  [-6.398269681238529e-07, -9.676437685993425e-0...    247.0  \n",
       "2  [-3.526032069378871e-06, -5.3052760008367026e-...    169.0  \n",
       "\n",
       "[3 rows x 21 columns]"
      ]
     },
     "execution_count": 9,
     "metadata": {},
     "output_type": "execute_result"
    }
   ],
   "source": [
    "MI_DF[:3]"
   ]
  },
  {
   "cell_type": "code",
   "execution_count": 10,
   "metadata": {
    "ExecuteTime": {
     "end_time": "2019-09-13T21:52:44.532257Z",
     "start_time": "2019-09-13T21:52:44.453042Z"
    }
   },
   "outputs": [],
   "source": [
    "from matplotlib import gridspec"
   ]
  },
  {
   "cell_type": "code",
   "execution_count": 16,
   "metadata": {
    "ExecuteTime": {
     "end_time": "2019-09-13T21:55:44.158140Z",
     "start_time": "2019-09-13T21:55:21.826854Z"
    }
   },
   "outputs": [
    {
     "data": {
      "image/png": "[encoded data removed]",
      "text/plain": [
       "<Figure size 2160x900 with 9 Axes>"
      ]
     },
     "metadata": {
      "needs_background": "light"
     },
     "output_type": "display_data"
    }
   ],
   "source": [
    "yoff=-.20\n",
    "ncols = 4\n",
    "zoom = 5\n",
    "hr = [1, 0.5, 0.5, 0.5]\n",
    "nrows = np.ceil(len(MI_DF[::2])/ncols).astype(int)\n",
    "fig = plt.figure(figsize=(len(MI_DF)*zoom,np.sum(hr)*zoom)) \n",
    "gs = gridspec.GridSpec(ncols=len(MI_DF), nrows=4, height_ratios=hr) \n",
    "\n",
    "fig.text(0.305, .22, 'Distance (phonemes)', ha='center', va='center', fontsize = 32)\n",
    "fig.text(.09, 0.58, 'Mutual Information (bits)', ha='center', va='center', rotation='vertical', fontsize = 32)\n",
    "\n",
    "for axi, (idx, row) in enumerate(MI_DF[::2].sort_values(by=['age_cohort_low']).iterrows()):\n",
    "    color = 'k'#LCOL_DICT[row.language]\n",
    "    ax0 = plt.subplot(gs[0,axi])\n",
    "    ax = ax0\n",
    "    sig = np.array(row.MI-row.shuff_MI)\n",
    "    distances = row.distances\n",
    "    sig = sig\n",
    "    # get signal limits\n",
    "    sig_lims = np.log([np.min(sig[sig>0]), np.nanmax(sig)])\n",
    "    sig_lims = [sig_lims[0] - (sig_lims[1]-sig_lims[0])/10,\n",
    "                    sig_lims[1] + (sig_lims[1]-sig_lims[0])/10]\n",
    "            \n",
    "    if axi==0: \n",
    "            ax.set_ylabel('', labelpad=5, fontsize=24)\n",
    "            ax.yaxis.set_label_coords(yoff,0.5)\n",
    "            \n",
    "    # model data\n",
    "    #row.concat_results.params.intercept = 0\n",
    "    distances_model = np.logspace(0,np.log10(distances[-1]), base=10, num=1000)\n",
    "    \n",
    "    # plot real data\n",
    "    ax.scatter(distances, sig, alpha = 1, s=40, color=color)  \n",
    "    \n",
    "    if row.bestfitmodel == 'pow_exp':\n",
    "        y_model = mf.get_y(mf.pow_exp_decay, row.concat_results, distances)\n",
    "        y_pow = mf.get_y(mf.powerlaw_decay, row.concat_results, distances_model)\n",
    "        y_exp = mf.get_y(mf.exp_decay, row.concat_results, distances_model)\n",
    "        y_pow_dat = mf.get_y(mf.powerlaw_decay, row.concat_results, distances)\n",
    "        y_exp_dat = mf.get_y(mf.exp_decay, row.concat_results, distances)\n",
    "\n",
    "         \n",
    "        ax.plot(distances_model, y_pow, ls='dotted', color= 'k', lw=5, alpha=0.5)\n",
    "        ax.plot(distances_model, y_exp-row.concat_results.params['intercept'].value, ls='dashed', color= 'k', lw=5, alpha=0.5)\n",
    "    elif row.bestfitmodel == 'exp':\n",
    "        y_model = mf.get_y(mf.exp_decay, row.exp_results, distances)\n",
    "    # plot modelled data\n",
    "    ax.plot(distances, y_model, alpha = 0.25, lw=10, color=color)\n",
    "    \n",
    "    # plot powerlaw component\n",
    "    ax1 = plt.subplot(gs[1,axi])\n",
    "    ax = ax1\n",
    "    if row.bestfitmodel == 'pow_exp':\n",
    "        ax.plot(distances_model, y_pow-row.concat_results.params['intercept'].value, alpha = 0.25, lw=10, color=color)\n",
    "        ax.scatter(distances, sig-y_exp_dat, alpha = 1, s=40, color=color)   \n",
    "    elif row.bestfitmodel == 'exp':\n",
    "        y_exp = mf.get_y(mf.exp_decay, row.exp_results, distances_model)\n",
    "        y_exp_dat = mf.get_y(mf.exp_decay, row.exp_results, distances)\n",
    "        ax.scatter(distances, sig-y_exp_dat, alpha = 1, s=40, color=color)   \n",
    "    \n",
    "    # plot exponential component\n",
    "    ax2 = plt.subplot(gs[2,axi])\n",
    "    ax = ax2\n",
    "    \n",
    "    if row.bestfitmodel == 'pow_exp':\n",
    "        ax.plot(distances_model, y_exp-row.concat_results.params['intercept'].value, alpha = 0.25, lw=10, color=color)\n",
    "        ax.scatter(distances, sig-y_pow_dat, alpha = 1, s=40, color=color)   \n",
    "    elif row.bestfitmodel == 'exp':\n",
    "        ax.plot(distances_model, y_exp-row.concat_results.params['intercept'].value, alpha = 0.25, lw=10, color=color)\n",
    "        ax.scatter(distances, sig - row.exp_results.params['intercept'].value, alpha = 1, s=40, color=color)   \n",
    "    \n",
    "    \n",
    "    ax.set_xlabel('', labelpad=5, fontsize=24)\n",
    "    #print(row.language, distances[peak_of_interest])\n",
    "    \n",
    "    for ax in [ax1, ax2]:\n",
    "        if axi==0: \n",
    "            ax.set_ylabel('', labelpad=5, fontsize=24)\n",
    "            \n",
    "            ax.yaxis.set_label_coords(yoff,0.5)\n",
    "    \n",
    "    for ax in [ax0,ax1,ax2]:\n",
    "        ax.set_xlim([distances[0], distances[-1]])\n",
    "        sig_lims[0] = np.log(10e-6)#\n",
    "        #ax.set_ylim(np.exp(sig_lims))\n",
    "        ax.set_ylim([1e-4, 1])\n",
    "        ax.tick_params(which='both', direction='in', labelsize=20, pad=10)\n",
    "        ax.tick_params(which='major', length=10, width =3)\n",
    "        ax.tick_params(which='minor', length=5, width =2)\n",
    "        ax.set_xscale( \"log\" , basex=10)\n",
    "        ax.set_yscale( \"log\" , basey=10)\n",
    "        ax.set_xticks([])\n",
    "        for axis in ['top','bottom','left','right']:\n",
    "            ax.spines[axis].set_linewidth(3)\n",
    "            ax.spines[axis].set_color('k')\n",
    "    ax2.set_xticks([1,10,100])\n",
    "    ax2.set_xticklabels(['1','10','100'])\n",
    "    \n",
    "    ac_high = np.min([row.age_cohort_high, 12])\n",
    "    aac_high = np.min([row.age_cohort_high, 4])\n",
    "    \n",
    "    if axi !=0:\n",
    "        for ax in [ax0,ax1,ax2]:\n",
    "            ax.yaxis.set_ticklabels([])\n",
    "\n",
    "    if ac_high != 12:\n",
    "        coltitle = \"{}-{} months\".format(int(row.age_cohort_low*12), int(12*ac_high))\n",
    "    else:\n",
    "        coltitle = \"36+ months\"\n",
    "    ax0.set_title(coltitle, fontsize=24)\n",
    "    \n",
    "    ax2.set_ylim([10e-4, 3])\n",
    "    \n",
    "\n",
    "#plt.tight_layout()\n",
    "#gs.update(wspace=0.075, hspace=0.1)\n",
    "save_fig(FIGURE_DIR/'phonbank_mi_half')"
   ]
  },
  {
   "cell_type": "code",
   "execution_count": null,
   "metadata": {},
   "outputs": [],
   "source": []
  }
 ],
 "metadata": {
  "kernelspec": {
   "display_name": "Python 3",
   "language": "python",
   "name": "python3"
  },
  "language_info": {
   "codemirror_mode": {
    "name": "ipython",
    "version": 3
   },
   "file_extension": ".py",
   "mimetype": "text/x-python",
   "name": "python",
   "nbconvert_exporter": "python",
   "pygments_lexer": "ipython3",
   "version": "3.6.7"
  }
 },
 "nbformat": 4,
 "nbformat_minor": 2
}
