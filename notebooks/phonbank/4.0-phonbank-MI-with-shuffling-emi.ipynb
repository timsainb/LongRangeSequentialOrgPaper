{
 "cells": [
  {
   "cell_type": "code",
   "execution_count": 1,
   "metadata": {
    "ExecuteTime": {
     "end_time": "2020-01-13T07:01:02.514764Z",
     "start_time": "2020-01-13T07:01:02.492585Z"
    }
   },
   "outputs": [],
   "source": [
    "%load_ext autoreload\n",
    "%autoreload 2"
   ]
  },
  {
   "cell_type": "code",
   "execution_count": 2,
   "metadata": {
    "ExecuteTime": {
     "end_time": "2020-01-13T07:01:03.248920Z",
     "start_time": "2020-01-13T07:01:02.516635Z"
    }
   },
   "outputs": [],
   "source": [
    "from childes_mi.utils.paths import PHONBANK_DFS, DATA_DIR\n",
    "from childes_mi.utils.general import flatten"
   ]
  },
  {
   "cell_type": "code",
   "execution_count": 3,
   "metadata": {
    "ExecuteTime": {
     "end_time": "2020-01-13T07:01:04.014662Z",
     "start_time": "2020-01-13T07:01:03.253023Z"
    }
   },
   "outputs": [
    {
     "name": "stderr",
     "output_type": "stream",
     "text": [
      "/mnt/cube/tsainbur/conda_envs/tpy3/lib/python3.6/site-packages/tqdm/autonotebook/__init__.py:14: TqdmExperimentalWarning: Using `tqdm.autonotebook.tqdm` in notebook mode. Use `tqdm.tqdm` instead to force console mode (e.g. in jupyter console)\n",
      "  \" (e.g. in jupyter console)\", TqdmExperimentalWarning)\n"
     ]
    }
   ],
   "source": [
    "import pandas as pd\n",
    "import numpy as np\n",
    "import matplotlib.pyplot as plt\n",
    "from tqdm.autonotebook import tqdm"
   ]
  },
  {
   "cell_type": "code",
   "execution_count": 4,
   "metadata": {
    "ExecuteTime": {
     "end_time": "2020-01-13T07:01:05.963420Z",
     "start_time": "2020-01-13T07:01:04.019214Z"
    }
   },
   "outputs": [],
   "source": [
    "phone_df = pd.read_pickle(PHONBANK_DFS/'phone_df.pickle')"
   ]
  },
  {
   "cell_type": "code",
   "execution_count": 5,
   "metadata": {
    "ExecuteTime": {
     "end_time": "2020-01-13T07:01:08.739249Z",
     "start_time": "2020-01-13T07:01:05.965523Z"
    }
   },
   "outputs": [],
   "source": [
    "phone_df['n_phones'] = [len(list(flatten(i))) for i in phone_df.phones.values]"
   ]
  },
  {
   "cell_type": "code",
   "execution_count": 6,
   "metadata": {
    "ExecuteTime": {
     "end_time": "2020-01-13T07:01:08.925589Z",
     "start_time": "2020-01-13T07:01:08.741652Z"
    }
   },
   "outputs": [
    {
     "data": {
      "text/html": [
       "<div>\n",
       "<style scoped>\n",
       "    .dataframe tbody tr th:only-of-type {\n",
       "        vertical-align: middle;\n",
       "    }\n",
       "\n",
       "    .dataframe tbody tr th {\n",
       "        vertical-align: top;\n",
       "    }\n",
       "\n",
       "    .dataframe thead th {\n",
       "        text-align: right;\n",
       "    }\n",
       "</style>\n",
       "<table border=\"1\" class=\"dataframe\">\n",
       "  <thead>\n",
       "    <tr style=\"text-align: right;\">\n",
       "      <th></th>\n",
       "      <th>name</th>\n",
       "      <th>transcript_id</th>\n",
       "      <th>age</th>\n",
       "      <th>dataset</th>\n",
       "      <th>language</th>\n",
       "      <th>sex</th>\n",
       "      <th>phones</th>\n",
       "      <th>orthography</th>\n",
       "      <th>xml_loc</th>\n",
       "      <th>n_phones</th>\n",
       "    </tr>\n",
       "  </thead>\n",
       "  <tbody>\n",
       "    <tr>\n",
       "      <th>0</th>\n",
       "      <td>0</td>\n",
       "      <td>020926</td>\n",
       "      <td>2.833</td>\n",
       "      <td>Providence</td>\n",
       "      <td>eng</td>\n",
       "      <td>male</td>\n",
       "      <td>[[ˈhi, ˈhæ, rəs], [ˈhi, ˈhæ, rəs], [ˈkævəʔ, ˈp...</td>\n",
       "      <td>[[[can, I], have, this], [[can, I], have, this...</td>\n",
       "      <td>/mnt/cube/tsainbur/Projects/github_repos/child...</td>\n",
       "      <td>1772</td>\n",
       "    </tr>\n",
       "    <tr>\n",
       "      <th>0</th>\n",
       "      <td>0</td>\n",
       "      <td>030006</td>\n",
       "      <td>3.000</td>\n",
       "      <td>Providence</td>\n",
       "      <td>eng</td>\n",
       "      <td>male</td>\n",
       "      <td>[[*, haʊ, ˈbaʊ, *, ɪ, ˈdeɪ, mætʃ], [deɪ, ˈmætʃ...</td>\n",
       "      <td>[[xxx, how, &lt;a&gt;bout, xxx, if, they, match], [t...</td>\n",
       "      <td>/mnt/cube/tsainbur/Projects/github_repos/child...</td>\n",
       "      <td>2277</td>\n",
       "    </tr>\n",
       "    <tr>\n",
       "      <th>0</th>\n",
       "      <td>0</td>\n",
       "      <td>011117</td>\n",
       "      <td>2.000</td>\n",
       "      <td>Providence</td>\n",
       "      <td>eng</td>\n",
       "      <td>male</td>\n",
       "      <td>[[None], [None], [None], [hɪ, ˈmi], [ˈbu], [No...</td>\n",
       "      <td>[[xxx], [xxx], [xxx], [help, me], [bowl], [xxx...</td>\n",
       "      <td>/mnt/cube/tsainbur/Projects/github_repos/child...</td>\n",
       "      <td>561</td>\n",
       "    </tr>\n",
       "  </tbody>\n",
       "</table>\n",
       "</div>"
      ],
      "text/plain": [
       "   name transcript_id    age     dataset language   sex  \\\n",
       "0     0        020926  2.833  Providence      eng  male   \n",
       "0     0        030006  3.000  Providence      eng  male   \n",
       "0     0        011117  2.000  Providence      eng  male   \n",
       "\n",
       "                                              phones  \\\n",
       "0  [[ˈhi, ˈhæ, rəs], [ˈhi, ˈhæ, rəs], [ˈkævəʔ, ˈp...   \n",
       "0  [[*, haʊ, ˈbaʊ, *, ɪ, ˈdeɪ, mætʃ], [deɪ, ˈmætʃ...   \n",
       "0  [[None], [None], [None], [hɪ, ˈmi], [ˈbu], [No...   \n",
       "\n",
       "                                         orthography  \\\n",
       "0  [[[can, I], have, this], [[can, I], have, this...   \n",
       "0  [[xxx, how, <a>bout, xxx, if, they, match], [t...   \n",
       "0  [[xxx], [xxx], [xxx], [help, me], [bowl], [xxx...   \n",
       "\n",
       "                                             xml_loc  n_phones  \n",
       "0  /mnt/cube/tsainbur/Projects/github_repos/child...      1772  \n",
       "0  /mnt/cube/tsainbur/Projects/github_repos/child...      2277  \n",
       "0  /mnt/cube/tsainbur/Projects/github_repos/child...       561  "
      ]
     },
     "execution_count": 6,
     "metadata": {},
     "output_type": "execute_result"
    }
   ],
   "source": [
    "phone_df[:3]"
   ]
  },
  {
   "cell_type": "code",
   "execution_count": 7,
   "metadata": {
    "ExecuteTime": {
     "end_time": "2020-01-13T07:01:08.951814Z",
     "start_time": "2020-01-13T07:01:08.927586Z"
    }
   },
   "outputs": [
    {
     "data": {
      "text/plain": [
       "array(['Providence', 'Davis', 'Goad'], dtype=object)"
      ]
     },
     "execution_count": 7,
     "metadata": {},
     "output_type": "execute_result"
    }
   ],
   "source": [
    "phone_df.dataset.unique()"
   ]
  },
  {
   "cell_type": "code",
   "execution_count": 8,
   "metadata": {
    "ExecuteTime": {
     "end_time": "2020-01-13T07:01:09.436195Z",
     "start_time": "2020-01-13T07:01:08.953640Z"
    }
   },
   "outputs": [
    {
     "data": {
      "image/png": "[encoded data removed]",
      "text/plain": [
       "<Figure size 432x288 with 1 Axes>"
      ]
     },
     "metadata": {
      "needs_background": "light"
     },
     "output_type": "display_data"
    }
   ],
   "source": [
    "plt.hist(phone_df.age.values, bins = 50);"
   ]
  },
  {
   "cell_type": "code",
   "execution_count": 9,
   "metadata": {
    "ExecuteTime": {
     "end_time": "2020-01-13T07:01:09.463149Z",
     "start_time": "2020-01-13T07:01:09.438242Z"
    }
   },
   "outputs": [
    {
     "name": "stdout",
     "output_type": "stream",
     "text": [
      "There are 618583 phones in this dataset\n"
     ]
    }
   ],
   "source": [
    "print(\"There are {} phones in this dataset\".format(np.sum(phone_df.n_phones)))"
   ]
  },
  {
   "cell_type": "code",
   "execution_count": 10,
   "metadata": {
    "ExecuteTime": {
     "end_time": "2020-01-13T07:01:10.794907Z",
     "start_time": "2020-01-13T07:01:09.465052Z"
    }
   },
   "outputs": [
    {
     "name": "stderr",
     "output_type": "stream",
     "text": [
      "/mnt/cube/tsainbur/conda_envs/tpy3/lib/python3.6/site-packages/scipy/stats/stats.py:1713: FutureWarning: Using a non-tuple sequence for multidimensional indexing is deprecated; use `arr[tuple(seq)]` instead of `arr[seq]`. In the future this will be interpreted as an array index, `arr[np.array(seq)]`, which will result either in an error or a different result.\n",
      "  return np.add.reduce(sorted[indexer] * weights, axis=axis) / sumval\n"
     ]
    },
    {
     "data": {
      "text/plain": [
       "<seaborn.axisgrid.JointGrid at 0x7f84d47f37f0>"
      ]
     },
     "execution_count": 10,
     "metadata": {},
     "output_type": "execute_result"
    },
    {
     "data": {
      "image/png": "[encoded data removed]",
      "text/plain": [
       "<Figure size 432x432 with 3 Axes>"
      ]
     },
     "metadata": {
      "needs_background": "light"
     },
     "output_type": "display_data"
    }
   ],
   "source": [
    "import seaborn as sns\n",
    "sns.jointplot(\"age\", \"n_phones\", data=phone_df[phone_df.n_phones > 100], alpha=0.2)"
   ]
  },
  {
   "cell_type": "code",
   "execution_count": 11,
   "metadata": {
    "ExecuteTime": {
     "end_time": "2020-01-13T07:01:10.826301Z",
     "start_time": "2020-01-13T07:01:10.797004Z"
    }
   },
   "outputs": [],
   "source": [
    "import seaborn as sns\n",
    "from childes_mi.utils.paths import DATA_DIR, FIGURE_DIR, ensure_dir\n",
    "from childes_mi.utils.general import flatten,save_fig\n",
    "ensure_dir(FIGURE_DIR/ 'distributions')"
   ]
  },
  {
   "cell_type": "code",
   "execution_count": 12,
   "metadata": {
    "ExecuteTime": {
     "end_time": "2020-01-13T07:01:15.042016Z",
     "start_time": "2020-01-13T07:01:10.828247Z"
    }
   },
   "outputs": [
    {
     "data": {
      "image/png": "[encoded data removed]",
      "text/plain": [
       "<Figure size 432x432 with 3 Axes>"
      ]
     },
     "metadata": {
      "needs_background": "light"
     },
     "output_type": "display_data"
    }
   ],
   "source": [
    "sns.set_context(\"paper\", rc={\"font.size\":24,\"axes.titlesize\":18,\"axes.labelsize\":18, \"axes.ticksize\":14})   \n",
    "\n",
    "p = sns.jointplot(\"age\", \"n_phones\", data=phone_df, alpha=0.2, annot_kws={\"size\": 16})\n",
    "\n",
    "p.set_axis_labels(xlabel=\"Age (years)\", ylabel=\"Sequence length (phones)\")\n",
    "p.ax_joint.tick_params(labelsize=14)\n",
    "p.ax_marg_x.set_title(\"Phonbank\")\n",
    "p.ax_joint.set_ylim([0,3700])\n",
    "save_fig(FIGURE_DIR/ 'distributions' / 'phonbank_distribution')\n",
    "plt.show()"
   ]
  },
  {
   "cell_type": "markdown",
   "metadata": {},
   "source": [
    "## MI\n",
    "- for each sequence, calculate the decay of a sequence as a function of distance between elements for that sequence indiividually\n",
    "- Treat each phoneme as unique for that child, and compute MI across children"
   ]
  },
  {
   "cell_type": "code",
   "execution_count": 13,
   "metadata": {
    "ExecuteTime": {
     "end_time": "2020-01-13T07:01:15.447498Z",
     "start_time": "2020-01-13T07:01:15.205414Z"
    }
   },
   "outputs": [
    {
     "name": "stderr",
     "output_type": "stream",
     "text": [
      "/mnt/cube/tsainbur/conda_envs/tpy3/lib/python3.6/site-packages/sklearn/utils/deprecation.py:144: FutureWarning: The sklearn.metrics.cluster.supervised module is  deprecated in version 0.22 and will be removed in version 0.24. The corresponding classes / functions should instead be imported from sklearn.metrics.cluster. Anything that cannot be imported from sklearn.metrics.cluster is now part of the private API.\n",
      "  warnings.warn(message, FutureWarning)\n",
      "/mnt/cube/tsainbur/conda_envs/tpy3/lib/python3.6/site-packages/sklearn/utils/deprecation.py:144: FutureWarning: The sklearn.metrics.cluster.expected_mutual_info_fast module is  deprecated in version 0.22 and will be removed in version 0.24. The corresponding classes / functions should instead be imported from sklearn.metrics.cluster. Anything that cannot be imported from sklearn.metrics.cluster is now part of the private API.\n",
      "  warnings.warn(message, FutureWarning)\n"
     ]
    }
   ],
   "source": [
    "from childes_mi.information_theory import mutual_information as mi"
   ]
  },
  {
   "cell_type": "code",
   "execution_count": 14,
   "metadata": {
    "ExecuteTime": {
     "end_time": "2020-01-13T07:01:15.476441Z",
     "start_time": "2020-01-13T07:01:15.449538Z"
    }
   },
   "outputs": [],
   "source": [
    "distances = np.arange(1,101)"
   ]
  },
  {
   "cell_type": "markdown",
   "metadata": {},
   "source": [
    "#### Run MI by age cohort"
   ]
  },
  {
   "cell_type": "code",
   "execution_count": 15,
   "metadata": {
    "ExecuteTime": {
     "end_time": "2020-01-13T07:01:15.744807Z",
     "start_time": "2020-01-13T07:01:15.478495Z"
    }
   },
   "outputs": [
    {
     "data": {
      "text/html": [
       "<div>\n",
       "<style scoped>\n",
       "    .dataframe tbody tr th:only-of-type {\n",
       "        vertical-align: middle;\n",
       "    }\n",
       "\n",
       "    .dataframe tbody tr th {\n",
       "        vertical-align: top;\n",
       "    }\n",
       "\n",
       "    .dataframe thead th {\n",
       "        text-align: right;\n",
       "    }\n",
       "</style>\n",
       "<table border=\"1\" class=\"dataframe\">\n",
       "  <thead>\n",
       "    <tr style=\"text-align: right;\">\n",
       "      <th></th>\n",
       "      <th>name</th>\n",
       "      <th>transcript_id</th>\n",
       "      <th>age</th>\n",
       "      <th>dataset</th>\n",
       "      <th>language</th>\n",
       "      <th>sex</th>\n",
       "      <th>phones</th>\n",
       "      <th>orthography</th>\n",
       "      <th>xml_loc</th>\n",
       "      <th>n_phones</th>\n",
       "    </tr>\n",
       "  </thead>\n",
       "  <tbody>\n",
       "    <tr>\n",
       "      <th>0</th>\n",
       "      <td>0</td>\n",
       "      <td>020926</td>\n",
       "      <td>2.833</td>\n",
       "      <td>Providence</td>\n",
       "      <td>eng</td>\n",
       "      <td>male</td>\n",
       "      <td>[[ˈhi, ˈhæ, rəs], [ˈhi, ˈhæ, rəs], [ˈkævəʔ, ˈp...</td>\n",
       "      <td>[[[can, I], have, this], [[can, I], have, this...</td>\n",
       "      <td>/mnt/cube/tsainbur/Projects/github_repos/child...</td>\n",
       "      <td>1772</td>\n",
       "    </tr>\n",
       "    <tr>\n",
       "      <th>0</th>\n",
       "      <td>0</td>\n",
       "      <td>030006</td>\n",
       "      <td>3.000</td>\n",
       "      <td>Providence</td>\n",
       "      <td>eng</td>\n",
       "      <td>male</td>\n",
       "      <td>[[*, haʊ, ˈbaʊ, *, ɪ, ˈdeɪ, mætʃ], [deɪ, ˈmætʃ...</td>\n",
       "      <td>[[xxx, how, &lt;a&gt;bout, xxx, if, they, match], [t...</td>\n",
       "      <td>/mnt/cube/tsainbur/Projects/github_repos/child...</td>\n",
       "      <td>2277</td>\n",
       "    </tr>\n",
       "    <tr>\n",
       "      <th>0</th>\n",
       "      <td>0</td>\n",
       "      <td>011117</td>\n",
       "      <td>2.000</td>\n",
       "      <td>Providence</td>\n",
       "      <td>eng</td>\n",
       "      <td>male</td>\n",
       "      <td>[[None], [None], [None], [hɪ, ˈmi], [ˈbu], [No...</td>\n",
       "      <td>[[xxx], [xxx], [xxx], [help, me], [bowl], [xxx...</td>\n",
       "      <td>/mnt/cube/tsainbur/Projects/github_repos/child...</td>\n",
       "      <td>561</td>\n",
       "    </tr>\n",
       "  </tbody>\n",
       "</table>\n",
       "</div>"
      ],
      "text/plain": [
       "   name transcript_id    age     dataset language   sex  \\\n",
       "0     0        020926  2.833  Providence      eng  male   \n",
       "0     0        030006  3.000  Providence      eng  male   \n",
       "0     0        011117  2.000  Providence      eng  male   \n",
       "\n",
       "                                              phones  \\\n",
       "0  [[ˈhi, ˈhæ, rəs], [ˈhi, ˈhæ, rəs], [ˈkævəʔ, ˈp...   \n",
       "0  [[*, haʊ, ˈbaʊ, *, ɪ, ˈdeɪ, mætʃ], [deɪ, ˈmætʃ...   \n",
       "0  [[None], [None], [None], [hɪ, ˈmi], [ˈbu], [No...   \n",
       "\n",
       "                                         orthography  \\\n",
       "0  [[[can, I], have, this], [[can, I], have, this...   \n",
       "0  [[xxx, how, <a>bout, xxx, if, they, match], [t...   \n",
       "0  [[xxx], [xxx], [xxx], [help, me], [bowl], [xxx...   \n",
       "\n",
       "                                             xml_loc  n_phones  \n",
       "0  /mnt/cube/tsainbur/Projects/github_repos/child...      1772  \n",
       "0  /mnt/cube/tsainbur/Projects/github_repos/child...      2277  \n",
       "0  /mnt/cube/tsainbur/Projects/github_repos/child...       561  "
      ]
     },
     "execution_count": 15,
     "metadata": {},
     "output_type": "execute_result"
    }
   ],
   "source": [
    "phone_df[:3]"
   ]
  },
  {
   "cell_type": "code",
   "execution_count": 16,
   "metadata": {
    "ExecuteTime": {
     "end_time": "2020-01-13T07:01:15.774128Z",
     "start_time": "2020-01-13T07:01:15.746825Z"
    }
   },
   "outputs": [],
   "source": [
    "age_cohorts = [[0.5, 1], [1, 1.5], [1.5, 2], [2, 2.5], [2.5, 3], [3, 20]]"
   ]
  },
  {
   "cell_type": "code",
   "execution_count": 17,
   "metadata": {
    "ExecuteTime": {
     "end_time": "2020-01-13T07:01:15.857725Z",
     "start_time": "2020-01-13T07:01:15.775935Z"
    }
   },
   "outputs": [],
   "source": [
    "### sequence length by cohort"
   ]
  },
  {
   "cell_type": "code",
   "execution_count": 18,
   "metadata": {
    "ExecuteTime": {
     "end_time": "2020-01-13T07:01:15.941702Z",
     "start_time": "2020-01-13T07:01:15.859359Z"
    }
   },
   "outputs": [],
   "source": [
    "def concat(arr):\n",
    "    \"\"\"ingore concatenation of zero length list\"\"\"\n",
    "    if len(arr) ==0:\n",
    "        return []\n",
    "    else:\n",
    "        return np.concatenate(arr)"
   ]
  },
  {
   "cell_type": "code",
   "execution_count": 19,
   "metadata": {
    "ExecuteTime": {
     "end_time": "2020-01-13T07:01:16.024945Z",
     "start_time": "2020-01-13T07:01:15.943650Z"
    }
   },
   "outputs": [],
   "source": [
    "def remove_repeats(sequence):\n",
    "    if len(sequence) == 0:\n",
    "        return sequence\n",
    "    a = np.array(sequence[1:])\n",
    "    b = np.array(sequence[:-1])\n",
    "    c = [sequence[0]] + list(a[a != b])\n",
    "    return c"
   ]
  },
  {
   "cell_type": "code",
   "execution_count": 20,
   "metadata": {
    "ExecuteTime": {
     "end_time": "2020-01-13T07:01:20.686554Z",
     "start_time": "2020-01-13T07:01:16.026929Z"
    }
   },
   "outputs": [
    {
     "data": {
      "application/vnd.jupyter.widget-view+json": {
       "model_id": "43ec1a6ddc8349f690f04de64af36068",
       "version_major": 2,
       "version_minor": 0
      },
      "text/plain": [
       "HBox(children=(IntProgress(value=0, max=6), HTML(value='')))"
      ]
     },
     "metadata": {},
     "output_type": "display_data"
    },
    {
     "name": "stdout",
     "output_type": "stream",
     "text": [
      "0.5 1 69.5\n",
      "4007\n",
      "1 1.5 189.0\n",
      "8917\n",
      "1.5 2 276.0\n",
      "8257\n",
      "2 2.5 879.0\n",
      "6941\n",
      "2.5 3 1150.0\n",
      "5723\n",
      "3 20 1574.0\n",
      "2765\n",
      "\n"
     ]
    }
   ],
   "source": [
    "for (age_cohort_low, age_cohort_high) in tqdm(age_cohorts):\n",
    "    cohort_subset = phone_df[\n",
    "        (phone_df.age > age_cohort_low) & (phone_df.age <= age_cohort_high)\n",
    "    ]\n",
    "    \n",
    "    median_n_phones = np.median(cohort_subset.n_phones.values)\n",
    "    print(age_cohort_low, age_cohort_high, median_n_phones)\n",
    "    \n",
    "    cohort_phones_list = [\n",
    "        [\n",
    "          i for i in \"\".join(flatten([i for i in flatten(row.phones) if i is not None]))\n",
    "        ]\n",
    "        for transcript_i, (idx, row) in enumerate(cohort_subset.iterrows())\n",
    "    ]\n",
    "    for transcript_i, (idx, row) in enumerate(cohort_subset.iterrows()):\n",
    "        cohort_phones_list[transcript_i] = [str(transcript_i) + i for i in cohort_phones_list[transcript_i]]\n",
    "    #print('phones list:', [' '.join(i) for i in cohort_phones_list][0][:100])\n",
    "    print(len(np.unique(np.concatenate(cohort_phones_list))))"
   ]
  },
  {
   "cell_type": "code",
   "execution_count": 21,
   "metadata": {
    "ExecuteTime": {
     "end_time": "2020-01-12T01:54:06.918462Z",
     "start_time": "2020-01-12T01:54:06.734583Z"
    }
   },
   "outputs": [],
   "source": [
    "def plot_decay(distances, MI, shuff_MI):\n",
    "    fig,axs = plt.subplots(ncols=2, figsize = (10,4))\n",
    "    ax = axs[0]\n",
    "    ax.scatter(distances, MI-shuff_MI)\n",
    "    ax.plot(distances, MI-shuff_MI, alpha = 0)\n",
    "    ax.set_yscale('log')\n",
    "    ax.set_xscale('log')\n",
    "\n",
    "    ax = axs[1]\n",
    "    ax.scatter(distances, MI)\n",
    "    ax.scatter(distances, shuff_MI)\n",
    "    plt.show()"
   ]
  },
  {
   "cell_type": "code",
   "execution_count": 24,
   "metadata": {
    "ExecuteTime": {
     "end_time": "2020-01-13T07:04:30.814696Z",
     "start_time": "2020-01-13T07:04:28.576910Z"
    }
   },
   "outputs": [
    {
     "data": {
      "application/vnd.jupyter.widget-view+json": {
       "model_id": "94df15a315ba4bc2a5bbd3b7914f6049",
       "version_major": 2,
       "version_minor": 0
      },
      "text/plain": [
       "HBox(children=(IntProgress(value=0, max=6), HTML(value='')))"
      ]
     },
     "metadata": {},
     "output_type": "display_data"
    },
    {
     "name": "stdout",
     "output_type": "stream",
     "text": [
      "phones list: ˈ n a ɪ ʌ ˈ j ɪ ɪ m ˈ b ʌ ə m ˈ b ʌ ˈ d ɛ ˈ ɑ ˈ b ɛ ˈ m i ˈ b ɪ ˈ ʌ ɛ ˈ t a ɪ ˈ ɡ ɪ ˈ ɡ a ɪ ˈ d ʌ ˈ \n",
      "phones list (no repeats): ˈ n a ɪ ʌ ˈ j ɪ m ˈ b ʌ ə m ˈ b ʌ ˈ d ɛ ˈ ɑ ˈ b ɛ ˈ m i ˈ b ɪ ˈ ʌ ɛ ˈ t a ɪ ˈ ɡ ɪ ˈ ɡ a ɪ ˈ d ʌ ˈ m \n",
      "phones list (shuffled within word): ˈ n ɪ a j ˈ ɪ ʌ b ʌ ɪ ˈ m ə m b ʌ ˈ ˈ d ɛ ɑ ˈ b ɛ ˈ m i ˈ b ɪ ˈ ʌ ˈ t ɛ ɪ a ˈ ɡ ɪ ˈ a ɡ ˈ ɪ d ʌ ˈ ɛ \n",
      "phones list (shuffled between word): ˈ d ɑ ˈ æ ː u m ˈ m i k ə ˈ m ɑ d æ ˈ e ɪ ˈ k i u ˈ d ɛ ə ˈ m ɑ m ˈ æ u m ˈ ɑ ː m ˈ t a ɪ ɛ ˈ b ɪ m \n",
      "phones list (shuffled within utterances): a ɪ ˈ n ˈ ʌ j ɪ m ɪ ʌ ˈ b b ˈ ə ʌ m ɛ d ˈ ˈ ɑ ˈ b ɛ i ˈ m ˈ ɪ b ʌ ˈ t ˈ ɛ a ɪ ˈ ɡ a ɪ ˈ ɡ ɪ d ʌ ˈ ɛ \n",
      "phones list (shuffled between utterances): e m ˈ ɛ m ː ɛ m d ɪ n ˈ h m ɛ m ˈ k ɪ a m ̩ ˈ ɛ ˈ ˈ s ˈ w æ ɪ ɪ ˈ ʌ i ˈ ɛ ˈ h ˈ ɪ ̩ d ə ˈ ʔ ɪ e ʔ d \n"
     ]
    },
    {
     "data": {
      "application/vnd.jupyter.widget-view+json": {
       "model_id": "8684caa1950341dbbf94f83dfc05a60b",
       "version_major": 2,
       "version_minor": 0
      },
      "text/plain": [
       "HBox(children=(IntProgress(value=0), HTML(value='')))"
      ]
     },
     "metadata": {},
     "output_type": "display_data"
    },
    {
     "data": {
      "application/vnd.jupyter.widget-view+json": {
       "model_id": "",
       "version_major": 2,
       "version_minor": 0
      },
      "text/plain": [
       "HBox(children=(IntProgress(value=0, description='compute emi', max=3998, style=ProgressStyle(description_width…"
      ]
     },
     "metadata": {},
     "output_type": "display_data"
    },
    {
     "ename": "NameError",
     "evalue": "name 'asdfasdf' is not defined",
     "output_type": "error",
     "traceback": [
      "\u001b[0;31m---------------------------------------------------------------------------\u001b[0m",
      "\u001b[0;31mNameError\u001b[0m                                 Traceback (most recent call last)",
      "\u001b[0;32m<ipython-input-24-7049a4bc632f>\u001b[0m in \u001b[0;36m<module>\u001b[0;34m\u001b[0m\n\u001b[1;32m     79\u001b[0m \u001b[0;34m\u001b[0m\u001b[0m\n\u001b[1;32m     80\u001b[0m     (MI, MI_var), (shuff_MI, shuff_MI_var) = mi.sequential_mutual_information(\n\u001b[0;32m---> 81\u001b[0;31m         \u001b[0mcohort_phones_list\u001b[0m\u001b[0;34m,\u001b[0m \u001b[0mdistances\u001b[0m\u001b[0;34m=\u001b[0m\u001b[0mdistances\u001b[0m\u001b[0;34m,\u001b[0m \u001b[0mn_jobs\u001b[0m\u001b[0;34m=\u001b[0m\u001b[0;36m1\u001b[0m\u001b[0;34m,\u001b[0m \u001b[0mmi_estimation\u001b[0m\u001b[0;34m=\u001b[0m\u001b[0mmi_est_type\u001b[0m\u001b[0;34m\u001b[0m\u001b[0;34m\u001b[0m\u001b[0m\n\u001b[0m\u001b[1;32m     82\u001b[0m     )\n\u001b[1;32m     83\u001b[0m     mi_df.loc[len(mi_df)] = [\n",
      "\u001b[0;32m/mnt/cube/tsainbur/Projects/github_repos/childes_mi_project/childes_mi/information_theory/mutual_information.py\u001b[0m in \u001b[0;36msequential_mutual_information\u001b[0;34m(sequences, distances, n_jobs, verbosity, n_shuff_repeats, estimate, disable_tqdm, prefer, mi_estimation, unclustered_element, **mi_kwargs)\u001b[0m\n\u001b[1;32m    289\u001b[0m             )\n\u001b[1;32m    290\u001b[0m             for dist_i, dist in enumerate(\n\u001b[0;32m--> 291\u001b[0;31m                 \u001b[0mtqdm\u001b[0m\u001b[0;34m(\u001b[0m\u001b[0mdistances\u001b[0m\u001b[0;34m,\u001b[0m \u001b[0mleave\u001b[0m\u001b[0;34m=\u001b[0m\u001b[0;32mFalse\u001b[0m\u001b[0;34m,\u001b[0m \u001b[0mdisable\u001b[0m\u001b[0;34m=\u001b[0m\u001b[0mdisable_tqdm\u001b[0m\u001b[0;34m)\u001b[0m\u001b[0;34m\u001b[0m\u001b[0;34m\u001b[0m\u001b[0m\n\u001b[0m\u001b[1;32m    292\u001b[0m             )\n\u001b[1;32m    293\u001b[0m         ]\n",
      "\u001b[0;32m/mnt/cube/tsainbur/Projects/github_repos/childes_mi_project/childes_mi/information_theory/mutual_information.py\u001b[0m in \u001b[0;36m<listcomp>\u001b[0;34m(.0)\u001b[0m\n\u001b[1;32m    288\u001b[0m                 \u001b[0;34m**\u001b[0m\u001b[0mmi_kwargs\u001b[0m\u001b[0;34m\u001b[0m\u001b[0;34m\u001b[0m\u001b[0m\n\u001b[1;32m    289\u001b[0m             )\n\u001b[0;32m--> 290\u001b[0;31m             for dist_i, dist in enumerate(\n\u001b[0m\u001b[1;32m    291\u001b[0m                 \u001b[0mtqdm\u001b[0m\u001b[0;34m(\u001b[0m\u001b[0mdistances\u001b[0m\u001b[0;34m,\u001b[0m \u001b[0mleave\u001b[0m\u001b[0;34m=\u001b[0m\u001b[0;32mFalse\u001b[0m\u001b[0;34m,\u001b[0m \u001b[0mdisable\u001b[0m\u001b[0;34m=\u001b[0m\u001b[0mdisable_tqdm\u001b[0m\u001b[0;34m)\u001b[0m\u001b[0;34m\u001b[0m\u001b[0;34m\u001b[0m\u001b[0m\n\u001b[1;32m    292\u001b[0m             )\n",
      "\u001b[0;32m/mnt/cube/tsainbur/Projects/github_repos/childes_mi_project/childes_mi/information_theory/mutual_information.py\u001b[0m in \u001b[0;36mMI_from_distributions\u001b[0;34m(sequences, dist, estimate, unclustered_element, use_sklearn, n_jobs, mi_estimation, **mi_kwargs)\u001b[0m\n\u001b[1;32m    220\u001b[0m     \u001b[0;32melif\u001b[0m \u001b[0mmi_estimation\u001b[0m \u001b[0;34m==\u001b[0m \u001b[0;34m\"adjusted_mi\"\u001b[0m\u001b[0;34m:\u001b[0m\u001b[0;34m\u001b[0m\u001b[0;34m\u001b[0m\u001b[0m\n\u001b[1;32m    221\u001b[0m         \u001b[0;31m# See Vinh, Epps, and Bailey, (2010). Information Theoretic Measures for Clusterings Comparison: Variants, Properties, Normalization and Correction for Chance, JMLR\u001b[0m\u001b[0;34m\u001b[0m\u001b[0;34m\u001b[0m\u001b[0;34m\u001b[0m\u001b[0m\n\u001b[0;32m--> 222\u001b[0;31m         \u001b[0;32mreturn\u001b[0m \u001b[0madjusted_mutual_information\u001b[0m\u001b[0;34m(\u001b[0m\u001b[0mdistribution_a\u001b[0m\u001b[0;34m,\u001b[0m \u001b[0mdistribution_b\u001b[0m\u001b[0;34m,\u001b[0m \u001b[0mn_jobs\u001b[0m\u001b[0;34m=\u001b[0m\u001b[0mn_jobs\u001b[0m\u001b[0;34m,\u001b[0m \u001b[0;34m**\u001b[0m\u001b[0mmi_kwargs\u001b[0m\u001b[0;34m)\u001b[0m\u001b[0;34m\u001b[0m\u001b[0;34m\u001b[0m\u001b[0m\n\u001b[0m\u001b[1;32m    223\u001b[0m     \u001b[0;32melif\u001b[0m \u001b[0mmi_estimation\u001b[0m \u001b[0;34m==\u001b[0m \u001b[0;34m\"adjusted_mi_sklearn\"\u001b[0m\u001b[0;34m:\u001b[0m\u001b[0;34m\u001b[0m\u001b[0;34m\u001b[0m\u001b[0m\n\u001b[1;32m    224\u001b[0m         \u001b[0;31m# See Vinh, Epps, and Bailey, (2010). Information Theoretic Measures for Clusterings Comparison: Variants, Properties, Normalization and Correction for Chance, JMLR\u001b[0m\u001b[0;34m\u001b[0m\u001b[0;34m\u001b[0m\u001b[0;34m\u001b[0m\u001b[0m\n",
      "\u001b[0;32m/mnt/cube/tsainbur/Projects/github_repos/childes_mi_project/childes_mi/information_theory/ami.py\u001b[0m in \u001b[0;36madjusted_mutual_information\u001b[0;34m(labels_true, labels_pred, n_jobs, emi_method, use_cython, average_method)\u001b[0m\n\u001b[1;32m     61\u001b[0m         \u001b[0mdenominator\u001b[0m \u001b[0;34m=\u001b[0m \u001b[0mmax\u001b[0m\u001b[0;34m(\u001b[0m\u001b[0mdenominator\u001b[0m\u001b[0;34m,\u001b[0m \u001b[0mnp\u001b[0m\u001b[0;34m.\u001b[0m\u001b[0mfinfo\u001b[0m\u001b[0;34m(\u001b[0m\u001b[0;34m'float64'\u001b[0m\u001b[0;34m)\u001b[0m\u001b[0;34m.\u001b[0m\u001b[0meps\u001b[0m\u001b[0;34m)\u001b[0m\u001b[0;34m\u001b[0m\u001b[0;34m\u001b[0m\u001b[0m\n\u001b[1;32m     62\u001b[0m     \u001b[0mami\u001b[0m \u001b[0;34m=\u001b[0m \u001b[0;34m(\u001b[0m\u001b[0mmi\u001b[0m \u001b[0;34m-\u001b[0m \u001b[0memi\u001b[0m\u001b[0;34m)\u001b[0m \u001b[0;34m/\u001b[0m \u001b[0mdenominator\u001b[0m\u001b[0;34m\u001b[0m\u001b[0;34m\u001b[0m\u001b[0m\n\u001b[0;32m---> 63\u001b[0;31m     \u001b[0masdfasdf\u001b[0m\u001b[0;34m\u001b[0m\u001b[0;34m\u001b[0m\u001b[0m\n\u001b[0m\u001b[1;32m     64\u001b[0m     \u001b[0;32mreturn\u001b[0m \u001b[0mami\u001b[0m\u001b[0;34m,\u001b[0m \u001b[0memi\u001b[0m\u001b[0;34m\u001b[0m\u001b[0;34m\u001b[0m\u001b[0m\n\u001b[1;32m     65\u001b[0m \u001b[0;34m\u001b[0m\u001b[0m\n",
      "\u001b[0;31mNameError\u001b[0m: name 'asdfasdf' is not defined"
     ]
    }
   ],
   "source": [
    "mi_est_type = \"adjusted_mi\"\n",
    "mi_df = pd.DataFrame(\n",
    "    columns=[\n",
    "        \"MI\",\n",
    "        \"MI_var\",\n",
    "        \"shuff_MI\",\n",
    "        \"shuff_MI_var\",\n",
    "        \"distances\",\n",
    "        \"age_cohort_low\",\n",
    "        \"age_cohort_high\",\n",
    "        \"n_phones\",\n",
    "        \"n_unique_phones\",\n",
    "        'shuffling'\n",
    "    ]\n",
    ")\n",
    "    # for each age cohort\n",
    "for (age_cohort_low, age_cohort_high) in tqdm(age_cohorts):\n",
    "    cohort_subset = phone_df[\n",
    "        (phone_df.age > age_cohort_low) & (phone_df.age <= age_cohort_high)\n",
    "    ]\n",
    "    \n",
    "    median_n_phones = int(np.median(cohort_subset.n_phones.values))\n",
    "    \n",
    "    ### make list of phones\n",
    "    cohort_phones_list = [\n",
    "        [\n",
    "          i for i in \"\".join(flatten([i for i in flatten(row.phones) if i is not None]))\n",
    "        ]\n",
    "        for transcript_i, (idx, row) in enumerate(cohort_subset.iterrows())\n",
    "    ]\n",
    "    print('phones list:', [' '.join(i) for i in cohort_phones_list][0][:100])\n",
    "    \n",
    "    cohort_phones_list_no_repeats = [\n",
    "        remove_repeats([\n",
    "          i for i in \"\".join(flatten([i for i in flatten(row.phones) if i is not None]))\n",
    "        ])\n",
    "        for transcript_i, (idx, row) in enumerate(cohort_subset.iterrows())\n",
    "    ]\n",
    "    print('phones list (no repeats):', [' '.join(i) for i in cohort_phones_list_no_repeats][0][:100])\n",
    "\n",
    "    ### make list of phones shuffled within words\n",
    "    cohort_phones_list_shuffled_within_words = [\n",
    "            list(concat([np.random.permutation(list(i)) for i in flatten(row.phones) if i is not None]))\n",
    "            for transcript_i, (idx, row) in enumerate(cohort_subset.iterrows())\n",
    "    ]\n",
    "    print('phones list (shuffled within word):', [' '.join(i) for i in cohort_phones_list_shuffled_within_words][0][:100])\n",
    "\n",
    "    ### make list of phones shuffled between words\n",
    "    cohort_phones_list_shuffled_between_words = [\n",
    "            list(''.join(list(np.random.permutation([i for i in flatten(row.phones) if i is not None]))))\n",
    "            for transcript_i, (idx, row) in enumerate(cohort_subset.iterrows())\n",
    "    ]\n",
    "    print('phones list (shuffled between word):', [' '.join(i) for i in cohort_phones_list_shuffled_between_words][0][:100])\n",
    "\n",
    "    cohort_phones_list_shuffled_within_utterance = [list(np.concatenate([np.random.permutation(list(''.join(list(flatten([i for i in sent if i is not None]))))) for sent in  trans]))\n",
    "     for trans in cohort_subset.phones.values]\n",
    "    print('phones list (shuffled within utterances):', [' '.join(i) for i in cohort_phones_list_shuffled_within_utterance][0][:100])\n",
    "\n",
    "    cohort_phones_list_shuffled_between_utterance = [np.random.permutation(list(np.concatenate([list(''.join(list(flatten([i for i in sent if i is not None])))) for sent in  trans])))\n",
    "     for trans in cohort_subset.phones.values]\n",
    "    print('phones list (shuffled between utterances):', [' '.join(i) for i in cohort_phones_list_shuffled_between_utterance][0][:100])\n",
    "\n",
    "    \n",
    "    # get number of unique elements\n",
    "    n_phones = len(np.concatenate(cohort_phones_list))\n",
    "    n_unique_phones = 0 #len(np.unique(np.concatenate(cohort_phones)))\n",
    "    \n",
    "    distances = np.arange(1, np.max([100, median_n_phones]) + 1)\n",
    "    #distances = np.arange(1, 10, 1)\n",
    "    \n",
    "    # make each phone symbol specific to the transcript\n",
    "    for transcript_i, (idx, row) in enumerate(cohort_subset.iterrows()):\n",
    "        cohort_phones_list[transcript_i] = [str(transcript_i) + i for i in cohort_phones_list[transcript_i]]\n",
    "        cohort_phones_list_shuffled_between_words[transcript_i] = [str(transcript_i) + i for i in cohort_phones_list_shuffled_between_words[transcript_i]]\n",
    "        cohort_phones_list_shuffled_between_words[transcript_i] = [str(transcript_i) + i for i in cohort_phones_list_shuffled_between_words[transcript_i]]\n",
    "        cohort_phones_list_shuffled_within_utterance[transcript_i] = [str(transcript_i) + i for i in cohort_phones_list_shuffled_within_utterance[transcript_i]]\n",
    "        cohort_phones_list_no_repeats[transcript_i] = [str(transcript_i) + i for i in cohort_phones_list_no_repeats[transcript_i]]\n",
    "        cohort_phones_list_shuffled_between_utterance[transcript_i] = [str(transcript_i) + i for i in cohort_phones_list_shuffled_between_utterance[transcript_i]]\n",
    "\n",
    "    (MI, MI_var), (shuff_MI, shuff_MI_var) = mi.sequential_mutual_information(\n",
    "        cohort_phones_list, distances=distances, n_jobs=1, mi_estimation=mi_est_type\n",
    "    )\n",
    "    mi_df.loc[len(mi_df)] = [\n",
    "        MI,\n",
    "        MI_var,\n",
    "        shuff_MI,\n",
    "        shuff_MI_var,\n",
    "        distances,\n",
    "        age_cohort_low,\n",
    "        age_cohort_high,\n",
    "        n_phones,\n",
    "        n_unique_phones,\n",
    "        'full'\n",
    "    ]\n",
    "    plot_decay(distances, MI, shuff_MI)\n",
    "    asdfadsf\n",
    "    mi_df.to_pickle(DATA_DIR / \"mi\" / \"phonbank_mi_with_shuffling_median_emi.pickle\")\n",
    "    \n",
    "    (MI, MI_var), (shuff_MI, shuff_MI_var) = mi.sequential_mutual_information(\n",
    "        cohort_phones_list_shuffled_within_words, distances=distances, n_jobs=-1, mi_estimation=mi_est_type\n",
    "    )\n",
    "    mi_df.loc[len(mi_df)] = [\n",
    "        MI,\n",
    "        MI_var,\n",
    "        shuff_MI,\n",
    "        shuff_MI_var,\n",
    "        distances,\n",
    "        age_cohort_low,\n",
    "        age_cohort_high,\n",
    "        n_phones,\n",
    "        n_unique_phones,\n",
    "        'shuffled_within_words'\n",
    "    ]\n",
    "    plot_decay(distances, MI, shuff_MI)\n",
    "    mi_df.to_pickle(DATA_DIR / \"mi\" / \"phonbank_mi_with_shuffling_median_emi.pickle\")\n",
    "    \n",
    "    (MI, MI_var), (shuff_MI, shuff_MI_var) = mi.sequential_mutual_information(\n",
    "        cohort_phones_list_shuffled_between_words, distances=distances, n_jobs=-1, mi_estimation=mi_est_type\n",
    "    )\n",
    "    mi_df.loc[len(mi_df)] = [\n",
    "        MI,\n",
    "        MI_var,\n",
    "        shuff_MI,\n",
    "        shuff_MI_var,\n",
    "        distances,\n",
    "        age_cohort_low,\n",
    "        age_cohort_high,\n",
    "        n_phones,\n",
    "        n_unique_phones,\n",
    "        'shuffled_between_words'\n",
    "    ]\n",
    "    plot_decay(distances, MI, shuff_MI)\n",
    "    mi_df.to_pickle(DATA_DIR / \"mi\" / \"phonbank_mi_with_shuffling_median_emi.pickle\")\n",
    "    \n",
    "    (MI, MI_var), (shuff_MI, shuff_MI_var) = mi.sequential_mutual_information(\n",
    "        cohort_phones_list_shuffled_within_utterance, distances=distances, n_jobs=-1, mi_estimation=mi_est_type\n",
    "    )\n",
    "    mi_df.loc[len(mi_df)] = [\n",
    "        MI,\n",
    "        MI_var,\n",
    "        shuff_MI,\n",
    "        shuff_MI_var,\n",
    "        distances,\n",
    "        age_cohort_low,\n",
    "        age_cohort_high,\n",
    "        n_phones,\n",
    "        n_unique_phones,\n",
    "        'shuffled_within_utterance'\n",
    "    ]\n",
    "    mi_df.to_pickle(DATA_DIR / \"mi\" / \"phonbank_mi_with_shuffling_median_emi.pickle\")\n",
    "    (MI, MI_var), (shuff_MI, shuff_MI_var) = mi.sequential_mutual_information(\n",
    "        cohort_phones_list_no_repeats, distances=distances, n_jobs=-1, mi_estimation=mi_est_type\n",
    "    )\n",
    "    mi_df.loc[len(mi_df)] = [\n",
    "        MI,\n",
    "        MI_var,\n",
    "        shuff_MI,\n",
    "        shuff_MI_var,\n",
    "        distances,\n",
    "        age_cohort_low,\n",
    "        age_cohort_high,\n",
    "        n_phones,\n",
    "        n_unique_phones,\n",
    "        'no_repeats'\n",
    "    ]\n",
    "    mi_df.to_pickle(DATA_DIR / \"mi\" / \"phonbank_mi_with_shuffling_median_emi.pickle\")\n",
    "    plot_decay(distances, MI, shuff_MI)\n",
    "    \n",
    "    (MI, MI_var), (shuff_MI, shuff_MI_var) = mi.sequential_mutual_information(\n",
    "        cohort_phones_list_shuffled_between_utterance, distances=distances, n_jobs=-1, mi_estimation=mi_est_type\n",
    "    )\n",
    "    mi_df.loc[len(mi_df)] = [\n",
    "        MI,\n",
    "        MI_var,\n",
    "        shuff_MI,\n",
    "        shuff_MI_var,\n",
    "        distances,\n",
    "        age_cohort_low,\n",
    "        age_cohort_high,\n",
    "        n_phones,\n",
    "        n_unique_phones,\n",
    "        'shuffled_between_utterance'\n",
    "    ]\n",
    "    plot_decay(distances, MI, shuff_MI)\n",
    "    mi_df.to_pickle(DATA_DIR / \"mi\" / \"phonbank_mi_with_shuffling_median_emi.pickle\")"
   ]
  },
  {
   "cell_type": "code",
   "execution_count": 25,
   "metadata": {
    "ExecuteTime": {
     "end_time": "2019-08-26T22:36:20.782817Z",
     "start_time": "2019-08-26T22:36:20.663294Z"
    }
   },
   "outputs": [
    {
     "name": "stdout",
     "output_type": "stream",
     "text": [
      "> \u001b[0;32m/mnt/cube/tsainbur/Projects/github_repos/childes_mi_project/childes_mi/information_theory/ami.py\u001b[0m(63)\u001b[0;36madjusted_mutual_information\u001b[0;34m()\u001b[0m\n",
      "\u001b[0;32m     61 \u001b[0;31m        \u001b[0mdenominator\u001b[0m \u001b[0;34m=\u001b[0m \u001b[0mmax\u001b[0m\u001b[0;34m(\u001b[0m\u001b[0mdenominator\u001b[0m\u001b[0;34m,\u001b[0m \u001b[0mnp\u001b[0m\u001b[0;34m.\u001b[0m\u001b[0mfinfo\u001b[0m\u001b[0;34m(\u001b[0m\u001b[0;34m'float64'\u001b[0m\u001b[0;34m)\u001b[0m\u001b[0;34m.\u001b[0m\u001b[0meps\u001b[0m\u001b[0;34m)\u001b[0m\u001b[0;34m\u001b[0m\u001b[0;34m\u001b[0m\u001b[0m\n",
      "\u001b[0m\u001b[0;32m     62 \u001b[0;31m    \u001b[0mami\u001b[0m \u001b[0;34m=\u001b[0m \u001b[0;34m(\u001b[0m\u001b[0mmi\u001b[0m \u001b[0;34m-\u001b[0m \u001b[0memi\u001b[0m\u001b[0;34m)\u001b[0m \u001b[0;34m/\u001b[0m \u001b[0mdenominator\u001b[0m\u001b[0;34m\u001b[0m\u001b[0;34m\u001b[0m\u001b[0m\n",
      "\u001b[0m\u001b[0;32m---> 63 \u001b[0;31m    \u001b[0masdfasdf\u001b[0m\u001b[0;34m\u001b[0m\u001b[0;34m\u001b[0m\u001b[0m\n",
      "\u001b[0m\u001b[0;32m     64 \u001b[0;31m    \u001b[0;32mreturn\u001b[0m \u001b[0mami\u001b[0m\u001b[0;34m,\u001b[0m \u001b[0memi\u001b[0m\u001b[0;34m\u001b[0m\u001b[0;34m\u001b[0m\u001b[0m\n",
      "\u001b[0m\u001b[0;32m     65 \u001b[0;31m\u001b[0;34m\u001b[0m\u001b[0m\n",
      "\u001b[0m\n",
      "ipdb> \n",
      "ipdb> import scipy.sparse\n",
      "ipdb> scipy.sparse.save_npz('shuffled_contingency.npz', contingency)\n",
      "ipdb> exit\n"
     ]
    }
   ],
   "source": [
    "%debug"
   ]
  },
  {
   "cell_type": "code",
   "execution_count": null,
   "metadata": {},
   "outputs": [],
   "source": [
    "row = mi_df.iloc[0]"
   ]
  },
  {
   "cell_type": "code",
   "execution_count": null,
   "metadata": {},
   "outputs": [],
   "source": [
    "#plt.loglog(distances, row.MI)\n",
    "plt.loglog(distances, row.MI_var)\n",
    "\n",
    "#plt.loglog(distances, row.shuff_MI)\n",
    "plt.loglog(distances, row.shuff_MI_var)"
   ]
  },
  {
   "cell_type": "code",
   "execution_count": null,
   "metadata": {},
   "outputs": [],
   "source": [
    "plt.loglog(row.distances, ((row.MI - row.MI_var) - (row.shuff_MI - row.shuff_MI_var)))"
   ]
  },
  {
   "cell_type": "code",
   "execution_count": 25,
   "metadata": {},
   "outputs": [
    {
     "data": {
      "image/png": "[encoded data removed]",
      "text/plain": [
       "<Figure size 720x288 with 2 Axes>"
      ]
     },
     "metadata": {
      "needs_background": "light"
     },
     "output_type": "display_data"
    }
   ],
   "source": [
    "def plot_decay(distances, MI, shuff_MI):\n",
    "    fig,axs = plt.subplots(ncols=2, figsize = (10,4))\n",
    "    ax = axs[0]\n",
    "    ax.scatter(distances, MI-shuff_MI)\n",
    "    ax.plot(distances, MI-shuff_MI, alpha = 0)\n",
    "    ax.set_yscale('log')\n",
    "    ax.set_xscale('log')\n",
    "\n",
    "    ax = axs[1]\n",
    "    ax.scatter(distances, MI)\n",
    "    ax.scatter(distances, shuff_MI)\n",
    "    plt.show()\n",
    "plot_decay(distances, MI, shuff_MI)"
   ]
  },
  {
   "cell_type": "code",
   "execution_count": null,
   "metadata": {
    "ExecuteTime": {
     "end_time": "2020-01-13T07:01:22.811278Z",
     "start_time": "2020-01-13T07:01:02.050Z"
    },
    "scrolled": false
   },
   "outputs": [],
   "source": [
    "for shuff in ['full', 'shuffled_between_words', 'shuffled_within_words', 'shuffled_within_utterance', 'shuffled_between_utterance', 'no_repeats']:\n",
    "    \n",
    "    fig, ax = plt.subplots(figsize=(12,8))\n",
    "    ax.set_title(shuff)\n",
    "    for idx, row in mi_df.iterrows():\n",
    "        if row.shuffling != shuff: \n",
    "            continue\n",
    "        MI = row.MI-row.shuff_MI\n",
    "        MI_var = row.MI_var\n",
    "        #ax.scatter(distances, row.MI-row.shuff_MI)\n",
    "        ax.plot(row.distances, row.MI-row.shuff_MI, label = '{}-{} years'.format(row.age_cohort_low, row.age_cohort_high), lw=3)\n",
    "        ax.fill_between(row.distances, MI-MI_var, MI+MI_var, alpha = 0.05)\n",
    "\n",
    "    ax.legend()\n",
    "    ax.set_ylim([1e-3,1])\n",
    "    #ax.set_xlim([1, 100])\n",
    "\n",
    "    ax.set_yscale('log')\n",
    "    ax.set_xscale('log')\n",
    "    plt.show()"
   ]
  },
  {
   "cell_type": "code",
   "execution_count": null,
   "metadata": {
    "ExecuteTime": {
     "end_time": "2020-01-13T07:01:22.812742Z",
     "start_time": "2020-01-13T07:01:02.052Z"
    },
    "scrolled": false
   },
   "outputs": [],
   "source": [
    "for shuff in ['full', 'shuffled_between_words', 'shuffled_within_words', 'shuffled_within_utterance', 'shuffled_between_utterance', 'no_repeats']:\n",
    "    print(shuff)\n",
    "    fig, axs = plt.subplots(ncols=len(age_cohorts), figsize=(4*len(age_cohorts),4))\n",
    "\n",
    "    for axi, (idx, row) in enumerate(mi_df.iterrows()):\n",
    "        if row.shuffling != shuff: \n",
    "            continue\n",
    "        MI = row.MI-row.shuff_MI\n",
    "        MI_var = row.MI_var\n",
    "        #ax.scatter(distances, row.MI-row.shuff_MI)\n",
    "        ax = axs[np.array([i[0] for i in age_cohorts]) == row.age_cohort_low][0]\n",
    "        #ax.plot(distances, row.MI-row.shuff_MI, label = '{}-{} years'.format(row.age_cohort_low, row.age_cohort_high), lw=3)\n",
    "        ax.scatter(row.distances, row.MI-row.shuff_MI, s=10, color='k')\n",
    "        ax.fill_between(row.distances, MI-MI_var, MI+MI_var, alpha = 0.25, color= 'k')\n",
    "        #ax.legend()\n",
    "        ax.set_title('{}-{} years'.format(row.age_cohort_low, row.age_cohort_high))\n",
    "        ax.set_ylim([1e-4,1])\n",
    "        #ax.set_xlim([1, 100])\n",
    "\n",
    "        ax.set_yscale('log')\n",
    "        ax.set_xscale('log')\n",
    "    plt.show()"
   ]
  },
  {
   "cell_type": "code",
   "execution_count": null,
   "metadata": {
    "ExecuteTime": {
     "end_time": "2020-01-13T07:01:22.814236Z",
     "start_time": "2020-01-13T07:01:02.053Z"
    },
    "scrolled": false
   },
   "outputs": [],
   "source": [
    "for shuff in ['full', 'shuffled_between_words', 'shuffled_within_words', 'shuffled_within_utterance', 'no_repeats']:\n",
    "    print(shuff)\n",
    "    fig, axs = plt.subplots(ncols=len(age_cohorts), figsize=(4*len(age_cohorts),4))\n",
    "\n",
    "    for axi, (idx, row) in enumerate(mi_df.iterrows()):\n",
    "        if row.shuffling != shuff: \n",
    "            continue\n",
    "        MI = row.MI-row.shuff_MI\n",
    "        MI_var = row.MI_var\n",
    "        #ax.scatter(distances, row.MI-row.shuff_MI)\n",
    "        ax = axs[np.array([i[0] for i in age_cohorts]) == row.age_cohort_low][0]\n",
    "        #ax.plot(distances, row.MI-row.shuff_MI, label = '{}-{} years'.format(row.age_cohort_low, row.age_cohort_high), lw=3)\n",
    "        ax.plot(row.distances, row.MI, color='k')\n",
    "        ax.plot(row.distances, row.shuff_MI, color='b')\n",
    "        #ax.fill_between(row.distances, MI-MI_var, MI+MI_var, alpha = 0.25, color= 'k')\n",
    "        #ax.legend()\n",
    "        ax.set_title('{}-{} years'.format(row.age_cohort_low, row.age_cohort_high))\n",
    "        #ax.set_ylim([1e-4,1])\n",
    "        #ax.set_xlim([1, 100])\n",
    "\n",
    "        ax.set_yscale('log')\n",
    "        ax.set_xscale('log')\n",
    "    plt.show()"
   ]
  },
  {
   "cell_type": "code",
   "execution_count": null,
   "metadata": {},
   "outputs": [],
   "source": []
  }
 ],
 "metadata": {
  "kernelspec": {
   "display_name": "Python 3",
   "language": "python",
   "name": "python3"
  },
  "language_info": {
   "codemirror_mode": {
    "name": "ipython",
    "version": 3
   },
   "file_extension": ".py",
   "mimetype": "text/x-python",
   "name": "python",
   "nbconvert_exporter": "python",
   "pygments_lexer": "ipython3",
   "version": "3.6.7"
  }
 },
 "nbformat": 4,
 "nbformat_minor": 2
}
