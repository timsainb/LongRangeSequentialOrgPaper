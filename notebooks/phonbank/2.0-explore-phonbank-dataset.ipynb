{
 "cells": [
  {
   "cell_type": "code",
   "execution_count": 1,
   "metadata": {
    "ExecuteTime": {
     "end_time": "2019-08-15T03:16:55.504642Z",
     "start_time": "2019-08-15T03:16:55.479607Z"
    }
   },
   "outputs": [],
   "source": [
    "%load_ext autoreload\n",
    "%autoreload 2"
   ]
  },
  {
   "cell_type": "code",
   "execution_count": 2,
   "metadata": {
    "ExecuteTime": {
     "end_time": "2019-08-15T03:16:57.785409Z",
     "start_time": "2019-08-15T03:16:57.746206Z"
    }
   },
   "outputs": [],
   "source": [
    "from childes_mi.utils.paths import PHONBANK_DFS\n",
    "from childes_mi.utils.general import flatten"
   ]
  },
  {
   "cell_type": "code",
   "execution_count": 3,
   "metadata": {
    "ExecuteTime": {
     "end_time": "2019-08-15T03:16:59.916113Z",
     "start_time": "2019-08-15T03:16:58.170138Z"
    }
   },
   "outputs": [
    {
     "name": "stderr",
     "output_type": "stream",
     "text": [
      "/mnt/cube/tsainbur/conda_envs/tpy3/lib/python3.6/site-packages/tqdm/autonotebook/__init__.py:14: TqdmExperimentalWarning: Using `tqdm.autonotebook.tqdm` in notebook mode. Use `tqdm.tqdm` instead to force console mode (e.g. in jupyter console)\n",
      "  \" (e.g. in jupyter console)\", TqdmExperimentalWarning)\n"
     ]
    }
   ],
   "source": [
    "import pandas as pd\n",
    "import numpy as np\n",
    "import matplotlib.pyplot as plt\n",
    "from tqdm.autonotebook import tqdm"
   ]
  },
  {
   "cell_type": "code",
   "execution_count": 4,
   "metadata": {
    "ExecuteTime": {
     "end_time": "2019-08-15T03:17:01.137957Z",
     "start_time": "2019-08-15T03:16:59.918879Z"
    }
   },
   "outputs": [
    {
     "data": {
      "text/html": [
       "<div>\n",
       "<style scoped>\n",
       "    .dataframe tbody tr th:only-of-type {\n",
       "        vertical-align: middle;\n",
       "    }\n",
       "\n",
       "    .dataframe tbody tr th {\n",
       "        vertical-align: top;\n",
       "    }\n",
       "\n",
       "    .dataframe thead th {\n",
       "        text-align: right;\n",
       "    }\n",
       "</style>\n",
       "<table border=\"1\" class=\"dataframe\">\n",
       "  <thead>\n",
       "    <tr style=\"text-align: right;\">\n",
       "      <th></th>\n",
       "      <th>transcript_id</th>\n",
       "      <th>transcript_root_name</th>\n",
       "      <th>corpus</th>\n",
       "      <th>version</th>\n",
       "      <th>date</th>\n",
       "      <th>language</th>\n",
       "      <th>media</th>\n",
       "      <th>xml_loc</th>\n",
       "    </tr>\n",
       "  </thead>\n",
       "  <tbody>\n",
       "    <tr>\n",
       "      <th>0</th>\n",
       "      <td>2M-AA</td>\n",
       "      <td>corpora_Spanish_Vivar_Santiago_2M-AA</td>\n",
       "      <td>Santiago</td>\n",
       "      <td>PB1.2</td>\n",
       "      <td>2016-11-06</td>\n",
       "      <td>spa</td>\n",
       "      <td>Vivar/Santiago/2M-AA.wav</td>\n",
       "      <td>/mnt/cube/tsainbur/Projects/github_repos/child...</td>\n",
       "    </tr>\n",
       "    <tr>\n",
       "      <th>0</th>\n",
       "      <td>4M-MB</td>\n",
       "      <td>corpora_Spanish_Vivar_Santiago_4M-MB</td>\n",
       "      <td>Santiago</td>\n",
       "      <td>PB1.2</td>\n",
       "      <td>2016-11-20</td>\n",
       "      <td>spa</td>\n",
       "      <td>Vivar/Santiago/4M-MB.wav</td>\n",
       "      <td>/mnt/cube/tsainbur/Projects/github_repos/child...</td>\n",
       "    </tr>\n",
       "    <tr>\n",
       "      <th>0</th>\n",
       "      <td>2A-IB</td>\n",
       "      <td>corpora_Spanish_Vivar_Santiago_2A-IB</td>\n",
       "      <td>Santiago</td>\n",
       "      <td>PB1.2</td>\n",
       "      <td>2016-11-08</td>\n",
       "      <td>spa</td>\n",
       "      <td>Vivar/Santiago/2A-IB.wav</td>\n",
       "      <td>/mnt/cube/tsainbur/Projects/github_repos/child...</td>\n",
       "    </tr>\n",
       "  </tbody>\n",
       "</table>\n",
       "</div>"
      ],
      "text/plain": [
       "  transcript_id                  transcript_root_name    corpus version  \\\n",
       "0         2M-AA  corpora_Spanish_Vivar_Santiago_2M-AA  Santiago   PB1.2   \n",
       "0         4M-MB  corpora_Spanish_Vivar_Santiago_4M-MB  Santiago   PB1.2   \n",
       "0         2A-IB  corpora_Spanish_Vivar_Santiago_2A-IB  Santiago   PB1.2   \n",
       "\n",
       "         date language                     media  \\\n",
       "0  2016-11-06      spa  Vivar/Santiago/2M-AA.wav   \n",
       "0  2016-11-20      spa  Vivar/Santiago/4M-MB.wav   \n",
       "0  2016-11-08      spa  Vivar/Santiago/2A-IB.wav   \n",
       "\n",
       "                                             xml_loc  \n",
       "0  /mnt/cube/tsainbur/Projects/github_repos/child...  \n",
       "0  /mnt/cube/tsainbur/Projects/github_repos/child...  \n",
       "0  /mnt/cube/tsainbur/Projects/github_repos/child...  "
      ]
     },
     "execution_count": 4,
     "metadata": {},
     "output_type": "execute_result"
    }
   ],
   "source": [
    "transcript_df = pd.read_pickle(PHONBANK_DFS/'transcript_df.pickle')\n",
    "transcript_df[:3]"
   ]
  },
  {
   "cell_type": "code",
   "execution_count": 7,
   "metadata": {
    "ExecuteTime": {
     "end_time": "2019-08-15T03:17:18.613301Z",
     "start_time": "2019-08-15T03:17:18.187418Z"
    }
   },
   "outputs": [
    {
     "data": {
      "text/plain": [
       "array(['spa', 'cat spa eng', 'spa eng', 'spa glg', 'glg spa', 'nan zho',\n",
       "       'fra', 'fra eng', 'fra por', 'eng', 'por fra und', 'fra por und',\n",
       "       'eng jpn', 'jpn eng', 'deu', 'ron', 'por', 'cat', 'taq', 'ara',\n",
       "       'ara eng', 'crl', 'que', 'pol eng', 'pol', 'nld', 'nld fra', 'swe',\n",
       "       'nor', 'jpn'], dtype=object)"
      ]
     },
     "execution_count": 7,
     "metadata": {},
     "output_type": "execute_result"
    }
   ],
   "source": [
    "transcript_df.language.unique()"
   ]
  },
  {
   "cell_type": "code",
   "execution_count": 9,
   "metadata": {
    "ExecuteTime": {
     "end_time": "2019-08-15T03:17:28.763293Z",
     "start_time": "2019-08-15T03:17:28.693993Z"
    }
   },
   "outputs": [
    {
     "data": {
      "text/plain": [
       "array(['Santiago', 'Temuco', 'Antofagasta', 'Punta Arenas', 'Yasmin',\n",
       "       'Irene', 'Koine', 'koiné', 'Tsay', 'cha', 'car', 'lau', 'mar',\n",
       "       'noe', 'kur', 'GoadRose', 'Marie', 'Theotime', 'Anais', 'Nathan',\n",
       "       'Camille - FINAL', 'Pierre - FINAL', 'Hunkeler', 'Esteban',\n",
       "       'Baptiste', 'Jules', 'Emma', 'Yamaguchi', 'Leonard', 'Anae',\n",
       "       'Theophile', 'Antoine', 'Madeleine', 'Julie', 'Smith', 'por',\n",
       "       'fra', 'Reading', 'Naming', 'FallsChurch', 'NWR IMRS 71',\n",
       "       'NWR IMRS 50', 'P', 'G', 'J', 'VYSA', 'Goga', 'Laura', 'Raquel',\n",
       "       'Luis', 'Pedro', 'Joao', 'Marta', 'Ines', 'CCF', 'EstevePrieto',\n",
       "       'Berber', 'All data', '2;4-2;7', '1;8-1;11', '2;0-2;3', '3;0-3;3',\n",
       "       '1;4-1;7', '3;4-3;7', '2;8-2;11', 'Arabic', 'Feryel', 'Malek',\n",
       "       'Zaidaan', 'Cree', 'Gildersleeve', 'WeistJarosz', 'ED', 'AL', 'VH',\n",
       "       'LD', 'AD', 'TL', 'LL', 'VD', 'BL', 'EL', 'RL', 'NB', 'BW', 'HH',\n",
       "       'NW', 'DB', 'VZ', 'CH', 'FZ', 'PW', 'MB', 'Grimm', 'Tirza', 'Elke',\n",
       "       'Enzo', 'Jarmo', 'Catootje', 'Leonie', 'Noortje', 'David', 'Leon',\n",
       "       'Tom', 'Robin', 'Eva', 'Zink', 'Thomas', 'Hein', 'PD21', 'PD13',\n",
       "       'PD69', 'PD55', 'PD28', 'PD10', 'PD06', 'PD71', 'PD15', 'PD68',\n",
       "       'PD27', 'PD39', 'PD01', 'PD16', 'PD59', 'PD54', 'PD23', 'PD11',\n",
       "       'PD66', 'PD02', 'PD08', 'Play', 'PNT', 'NWR', 'Chiat', 'lipp',\n",
       "       'McAllisterByun', 'Bernhardt',\n",
       "       'Granada_Spanish_Phonbank_Protracted Phonological Development',\n",
       "       'Granada_Spanish_PPD', 'lin', 'did', 'sti', 'han', 'Lacerda',\n",
       "       'Garmann', 'ComptonPater', 'Kae-WS', 'Kae-WG', 'Geo-WS', 'Geo-WG',\n",
       "       'Nat-WG', 'Nat-WS', 'Cha-WG', 'Cha-WS', 'Ben-WS', 'Ben-WG',\n",
       "       'Han-WS', 'Han-WG', 'Davis', 'Nate', 'Nick', 'Rachel', 'Hannah',\n",
       "       'Kaeley', 'Paxton', 'Cameron', 'Rebecca', 'Sadie', 'Willie',\n",
       "       'Martin', 'emi', 'mol', 'tim', 'sea', 'deb', 'Goad', 'Alex',\n",
       "       'Ethan', 'William', 'Violet', 'Lily', 'Naima',\n",
       "       'Semi-Directed Narrative', 'Picture Naming Task', 'Inkelas', 'Ota',\n",
       "       'har', 'ken', 'tar', 'kaz'], dtype=object)"
      ]
     },
     "execution_count": 9,
     "metadata": {},
     "output_type": "execute_result"
    }
   ],
   "source": [
    "transcript_df.corpus.unique()"
   ]
  },
  {
   "cell_type": "code",
   "execution_count": 10,
   "metadata": {
    "ExecuteTime": {
     "end_time": "2019-08-15T03:17:47.383996Z",
     "start_time": "2019-08-15T03:17:47.339263Z"
    }
   },
   "outputs": [
    {
     "data": {
      "text/plain": [
       "6608"
      ]
     },
     "execution_count": 10,
     "metadata": {},
     "output_type": "execute_result"
    }
   ],
   "source": [
    "len(transcript_df)"
   ]
  },
  {
   "cell_type": "code",
   "execution_count": 11,
   "metadata": {
    "ExecuteTime": {
     "end_time": "2019-08-15T03:17:48.250689Z",
     "start_time": "2019-08-15T03:17:47.649328Z"
    }
   },
   "outputs": [
    {
     "data": {
      "text/plain": [
       "([PosixPath('/mnt/cube/tsainbur/Projects/github_repos/childes_mi_project/data/processed/phonbank/participants/corpora_Eng-NA_ComptonPater_Julia_021001.pickle'),\n",
       "  PosixPath('/mnt/cube/tsainbur/Projects/github_repos/childes_mi_project/data/processed/phonbank/participants/corpora_Eng-NA_Davis-CDI_Ben-WG_Ben-1_10_08.pickle')],\n",
       " [PosixPath('/mnt/cube/tsainbur/Projects/github_repos/childes_mi_project/data/processed/phonbank/transcripts/corpora_Eng-NA_Davis_Jodie_010127.pickle'),\n",
       "  PosixPath('/mnt/cube/tsainbur/Projects/github_repos/childes_mi_project/data/processed/phonbank/transcripts/corpora_French_Yamaguchi_Yamaguchi_040326.pickle')])"
      ]
     },
     "execution_count": 11,
     "metadata": {},
     "output_type": "execute_result"
    }
   ],
   "source": [
    "participants = list((PHONBANK_DFS / 'participants').glob('*.pickle'))\n",
    "transcripts = list((PHONBANK_DFS / 'transcripts').glob('*.pickle'))\n",
    "participants[:2], transcripts[:2]"
   ]
  },
  {
   "cell_type": "code",
   "execution_count": 12,
   "metadata": {
    "ExecuteTime": {
     "end_time": "2019-08-15T03:17:49.153712Z",
     "start_time": "2019-08-15T03:17:49.105911Z"
    }
   },
   "outputs": [
    {
     "data": {
      "text/plain": [
       "(6608, 6608)"
      ]
     },
     "execution_count": 12,
     "metadata": {},
     "output_type": "execute_result"
    }
   ],
   "source": [
    "len(transcripts), len(participants)"
   ]
  },
  {
   "cell_type": "markdown",
   "metadata": {},
   "source": [
    "### Descriptive statistics"
   ]
  },
  {
   "cell_type": "code",
   "execution_count": 13,
   "metadata": {
    "ExecuteTime": {
     "end_time": "2019-08-15T03:18:30.699543Z",
     "start_time": "2019-08-15T03:17:52.477460Z"
    }
   },
   "outputs": [
    {
     "data": {
      "application/vnd.jupyter.widget-view+json": {
       "model_id": "86e443ebcff04dcc8a0199b42fd531e8",
       "version_major": 2,
       "version_minor": 0
      },
      "text/plain": [
       "HBox(children=(IntProgress(value=0, max=6608), HTML(value='')))"
      ]
     },
     "metadata": {},
     "output_type": "display_data"
    },
    {
     "name": "stdout",
     "output_type": "stream",
     "text": [
      "\n"
     ]
    }
   ],
   "source": [
    "n_unique_phones = []\n",
    "n_phones = []\n",
    "durations = []\n",
    "for transcript in tqdm(transcripts):\n",
    "    trans = pd.read_pickle(transcript)\n",
    "    durations.append(np.sum(trans.duration_ms.values.astype('float32')))\n",
    "    phones = np.array(list(flatten(trans.ipa_model.values)))\n",
    "    phones = phones[pd.isnull(phones) == False]\n",
    "    phones = ''.join(phones)\n",
    "    n_phones.append(len(phones))\n",
    "    n_unique_phones.append(len(np.unique(list(phones))))"
   ]
  },
  {
   "cell_type": "code",
   "execution_count": 14,
   "metadata": {
    "ExecuteTime": {
     "end_time": "2019-08-15T03:18:31.511500Z",
     "start_time": "2019-08-15T03:18:30.701963Z"
    }
   },
   "outputs": [
    {
     "data": {
      "text/html": [
       "<div>\n",
       "<style scoped>\n",
       "    .dataframe tbody tr th:only-of-type {\n",
       "        vertical-align: middle;\n",
       "    }\n",
       "\n",
       "    .dataframe tbody tr th {\n",
       "        vertical-align: top;\n",
       "    }\n",
       "\n",
       "    .dataframe thead th {\n",
       "        text-align: right;\n",
       "    }\n",
       "</style>\n",
       "<table border=\"1\" class=\"dataframe\">\n",
       "  <thead>\n",
       "    <tr style=\"text-align: right;\">\n",
       "      <th></th>\n",
       "      <th>record_id</th>\n",
       "      <th>speaker</th>\n",
       "      <th>orthography</th>\n",
       "      <th>start_time_ms</th>\n",
       "      <th>duration_ms</th>\n",
       "      <th>ipa_model</th>\n",
       "      <th>ipa_actual</th>\n",
       "      <th>transcript_id</th>\n",
       "      <th>xml_loc</th>\n",
       "    </tr>\n",
       "  </thead>\n",
       "  <tbody>\n",
       "    <tr>\n",
       "      <th>0</th>\n",
       "      <td>18a95894-d179-45f9-a403-2c49b023fd74</td>\n",
       "      <td>CHI</td>\n",
       "      <td>[perro]</td>\n",
       "      <td>31046.0</td>\n",
       "      <td>735.0</td>\n",
       "      <td>[ˈpero]</td>\n",
       "      <td>[ˈfeno]</td>\n",
       "      <td>1B-JC</td>\n",
       "      <td>/mnt/cube/tsainbur/Projects/github_repos/child...</td>\n",
       "    </tr>\n",
       "    <tr>\n",
       "      <th>0</th>\n",
       "      <td>a1f4c157-d8bc-4555-ad8a-5b97266560e3</td>\n",
       "      <td>CHI</td>\n",
       "      <td>[ojo]</td>\n",
       "      <td>35760.0</td>\n",
       "      <td>483.0</td>\n",
       "      <td>[ˈoxo]</td>\n",
       "      <td>[ˈox]</td>\n",
       "      <td>1B-JC</td>\n",
       "      <td>/mnt/cube/tsainbur/Projects/github_repos/child...</td>\n",
       "    </tr>\n",
       "    <tr>\n",
       "      <th>0</th>\n",
       "      <td>22c90725-1042-438b-8356-56e55a085d48</td>\n",
       "      <td>CHI</td>\n",
       "      <td>[sopa]</td>\n",
       "      <td>73154.0</td>\n",
       "      <td>391.0</td>\n",
       "      <td>[ˈsopa]</td>\n",
       "      <td>[ˈtofḁ]</td>\n",
       "      <td>1B-JC</td>\n",
       "      <td>/mnt/cube/tsainbur/Projects/github_repos/child...</td>\n",
       "    </tr>\n",
       "  </tbody>\n",
       "</table>\n",
       "</div>"
      ],
      "text/plain": [
       "                              record_id speaker orthography start_time_ms  \\\n",
       "0  18a95894-d179-45f9-a403-2c49b023fd74     CHI     [perro]       31046.0   \n",
       "0  a1f4c157-d8bc-4555-ad8a-5b97266560e3     CHI       [ojo]       35760.0   \n",
       "0  22c90725-1042-438b-8356-56e55a085d48     CHI      [sopa]       73154.0   \n",
       "\n",
       "  duration_ms ipa_model ipa_actual transcript_id  \\\n",
       "0       735.0   [ˈpero]    [ˈfeno]         1B-JC   \n",
       "0       483.0    [ˈoxo]      [ˈox]         1B-JC   \n",
       "0       391.0   [ˈsopa]   [ˈtofḁ]         1B-JC   \n",
       "\n",
       "                                             xml_loc  \n",
       "0  /mnt/cube/tsainbur/Projects/github_repos/child...  \n",
       "0  /mnt/cube/tsainbur/Projects/github_repos/child...  \n",
       "0  /mnt/cube/tsainbur/Projects/github_repos/child...  "
      ]
     },
     "execution_count": 14,
     "metadata": {},
     "output_type": "execute_result"
    }
   ],
   "source": [
    "trans[:3]"
   ]
  },
  {
   "cell_type": "code",
   "execution_count": 15,
   "metadata": {
    "ExecuteTime": {
     "end_time": "2019-08-15T03:18:31.636884Z",
     "start_time": "2019-08-15T03:18:31.515513Z"
    }
   },
   "outputs": [
    {
     "data": {
      "text/plain": [
       "4784084"
      ]
     },
     "execution_count": 15,
     "metadata": {},
     "output_type": "execute_result"
    }
   ],
   "source": [
    "np.sum(n_phones)"
   ]
  },
  {
   "cell_type": "code",
   "execution_count": 16,
   "metadata": {
    "ExecuteTime": {
     "end_time": "2019-08-15T03:18:31.726371Z",
     "start_time": "2019-08-15T03:18:31.642503Z"
    }
   },
   "outputs": [
    {
     "data": {
      "text/plain": [
       "[0.0, 3627874.8, 529300.0]"
      ]
     },
     "execution_count": 16,
     "metadata": {},
     "output_type": "execute_result"
    }
   ],
   "source": [
    "durations[:3]"
   ]
  },
  {
   "cell_type": "code",
   "execution_count": 19,
   "metadata": {
    "ExecuteTime": {
     "end_time": "2019-08-15T03:19:44.541702Z",
     "start_time": "2019-08-15T03:19:44.493584Z"
    }
   },
   "outputs": [
    {
     "data": {
      "text/plain": [
       "array([ 0.        , 60.46458   ,  8.821667  , ...,  0.6122167 ,\n",
       "        0.57706666,  0.5161167 ], dtype=float32)"
      ]
     },
     "execution_count": 19,
     "metadata": {},
     "output_type": "execute_result"
    }
   ],
   "source": []
  },
  {
   "cell_type": "code",
   "execution_count": 22,
   "metadata": {
    "ExecuteTime": {
     "end_time": "2019-08-15T03:21:19.547354Z",
     "start_time": "2019-08-15T03:21:16.686467Z"
    }
   },
   "outputs": [
    {
     "data": {
      "image/png": "[encoded data removed]",
      "text/plain": [
       "<Figure size 1728x288 with 3 Axes>"
      ]
     },
     "metadata": {
      "needs_background": "light"
     },
     "output_type": "display_data"
    }
   ],
   "source": [
    "fig, axs = plt.subplots(ncols=3, figsize=(24,4))\n",
    "axs[0].hist(n_phones, bins=50);\n",
    "axs[1].hist(n_unique_phones, bins=50);\n",
    "axs[2].hist((np.array(durations) / 1000)/60, bins=50);\n",
    "\n",
    "axs[0].set_title('number of phones in dataset')\n",
    "axs[0].set_yscale('log')\n",
    "axs[1].set_title('number of unique phones in dataset')\n",
    "axs[1].set_yscale('log')\n",
    "axs[2].set_title(\"duration of dataset\")\n",
    "axs[2].set_yscale('log')"
   ]
  },
  {
   "cell_type": "code",
   "execution_count": null,
   "metadata": {},
   "outputs": [],
   "source": []
  }
 ],
 "metadata": {
  "kernelspec": {
   "display_name": "Python 3",
   "language": "python",
   "name": "python3"
  },
  "language_info": {
   "codemirror_mode": {
    "name": "ipython",
    "version": 3
   },
   "file_extension": ".py",
   "mimetype": "text/x-python",
   "name": "python",
   "nbconvert_exporter": "python",
   "pygments_lexer": "ipython3",
   "version": "3.6.8"
  }
 },
 "nbformat": 4,
 "nbformat_minor": 2
}
