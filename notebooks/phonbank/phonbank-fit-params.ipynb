{
 "cells": [
  {
   "cell_type": "code",
   "execution_count": 1,
   "metadata": {
    "ExecuteTime": {
     "end_time": "2019-10-01T16:46:21.559524Z",
     "start_time": "2019-10-01T16:46:21.450448Z"
    }
   },
   "outputs": [],
   "source": [
    "%load_ext autoreload\n",
    "%autoreload 2"
   ]
  },
  {
   "cell_type": "code",
   "execution_count": 2,
   "metadata": {
    "ExecuteTime": {
     "end_time": "2019-10-01T16:46:24.852160Z",
     "start_time": "2019-10-01T16:46:21.586372Z"
    }
   },
   "outputs": [],
   "source": [
    "from childes_mi.utils.paths import DATA_DIR, FIGURE_DIR\n",
    "from childes_mi.utils.general import flatten,save_fig"
   ]
  },
  {
   "cell_type": "code",
   "execution_count": 3,
   "metadata": {
    "ExecuteTime": {
     "end_time": "2019-10-01T16:46:29.380026Z",
     "start_time": "2019-10-01T16:46:24.856285Z"
    }
   },
   "outputs": [],
   "source": [
    "from childes_mi.information_theory import model_fitting as mf"
   ]
  },
  {
   "cell_type": "code",
   "execution_count": 4,
   "metadata": {
    "ExecuteTime": {
     "end_time": "2019-10-01T16:46:29.519597Z",
     "start_time": "2019-10-01T16:46:29.382714Z"
    }
   },
   "outputs": [
    {
     "name": "stderr",
     "output_type": "stream",
     "text": [
      "/mnt/cube/tsainbur/conda_envs/tpy3/lib/python3.6/site-packages/tqdm/autonotebook/__init__.py:14: TqdmExperimentalWarning: Using `tqdm.autonotebook.tqdm` in notebook mode. Use `tqdm.tqdm` instead to force console mode (e.g. in jupyter console)\n",
      "  \" (e.g. in jupyter console)\", TqdmExperimentalWarning)\n"
     ]
    }
   ],
   "source": [
    "import pandas as pd\n",
    "import numpy as np\n",
    "import matplotlib.pyplot as plt\n",
    "from tqdm.autonotebook import tqdm"
   ]
  },
  {
   "cell_type": "code",
   "execution_count": 5,
   "metadata": {
    "ExecuteTime": {
     "end_time": "2019-10-01T16:46:40.415357Z",
     "start_time": "2019-10-01T16:46:29.523860Z"
    }
   },
   "outputs": [],
   "source": [
    "MI_DF = pd.read_pickle(DATA_DIR/'mi/phonbank_mi.pickle')"
   ]
  },
  {
   "cell_type": "code",
   "execution_count": 6,
   "metadata": {
    "ExecuteTime": {
     "end_time": "2019-10-01T16:46:41.109566Z",
     "start_time": "2019-10-01T16:46:40.419461Z"
    }
   },
   "outputs": [
    {
     "data": {
      "text/html": [
       "<div>\n",
       "<style scoped>\n",
       "    .dataframe tbody tr th:only-of-type {\n",
       "        vertical-align: middle;\n",
       "    }\n",
       "\n",
       "    .dataframe tbody tr th {\n",
       "        vertical-align: top;\n",
       "    }\n",
       "\n",
       "    .dataframe thead th {\n",
       "        text-align: right;\n",
       "    }\n",
       "</style>\n",
       "<table border=\"1\" class=\"dataframe\">\n",
       "  <thead>\n",
       "    <tr style=\"text-align: right;\">\n",
       "      <th></th>\n",
       "      <th>MI</th>\n",
       "      <th>MI_var</th>\n",
       "      <th>shuff_MI</th>\n",
       "      <th>shuff_MI_var</th>\n",
       "      <th>distances</th>\n",
       "      <th>age_cohort_low</th>\n",
       "      <th>age_cohort_high</th>\n",
       "      <th>n_phones</th>\n",
       "      <th>n_unique_phones</th>\n",
       "    </tr>\n",
       "  </thead>\n",
       "  <tbody>\n",
       "    <tr>\n",
       "      <th>0</th>\n",
       "      <td>[10.080288260013138, 9.916455549165027, 9.7424...</td>\n",
       "      <td>[0.010088692845104597, 0.009966629345003522, 0...</td>\n",
       "      <td>[9.540319164934521, 9.545878218535728, 9.53434...</td>\n",
       "      <td>[0.009889103513194912, 0.009903386166469113, 0...</td>\n",
       "      <td>[1, 2, 3, 4, 5, 6, 7, 8, 9, 10, 11, 12, 13, 14...</td>\n",
       "      <td>0.5</td>\n",
       "      <td>1</td>\n",
       "      <td>60390</td>\n",
       "      <td>3259</td>\n",
       "    </tr>\n",
       "    <tr>\n",
       "      <th>1</th>\n",
       "      <td>[11.018700216584904, 10.737645462157055, 10.56...</td>\n",
       "      <td>[0.005213049628772987, 0.005149803969908309, 0...</td>\n",
       "      <td>[10.354873873252643, 10.35376084240053, 10.353...</td>\n",
       "      <td>[0.00508955241492165, 0.005096158572864715, 0....</td>\n",
       "      <td>[1, 2, 3, 4, 5, 6, 7, 8, 9, 10, 11, 12, 13, 14...</td>\n",
       "      <td>1.0</td>\n",
       "      <td>1.5</td>\n",
       "      <td>312914</td>\n",
       "      <td>5787</td>\n",
       "    </tr>\n",
       "    <tr>\n",
       "      <th>2</th>\n",
       "      <td>[11.052948976446858, 10.656466560369868, 10.48...</td>\n",
       "      <td>[0.0044666661484878325, 0.0043938556743630605,...</td>\n",
       "      <td>[10.335267645293385, 10.33318150766475, 10.333...</td>\n",
       "      <td>[0.004350729568225813, 0.004350829245781982, 0...</td>\n",
       "      <td>[1, 2, 3, 4, 5, 6, 7, 8, 9, 10, 11, 12, 13, 14...</td>\n",
       "      <td>1.5</td>\n",
       "      <td>2</td>\n",
       "      <td>457938</td>\n",
       "      <td>5769</td>\n",
       "    </tr>\n",
       "  </tbody>\n",
       "</table>\n",
       "</div>"
      ],
      "text/plain": [
       "                                                  MI  \\\n",
       "0  [10.080288260013138, 9.916455549165027, 9.7424...   \n",
       "1  [11.018700216584904, 10.737645462157055, 10.56...   \n",
       "2  [11.052948976446858, 10.656466560369868, 10.48...   \n",
       "\n",
       "                                              MI_var  \\\n",
       "0  [0.010088692845104597, 0.009966629345003522, 0...   \n",
       "1  [0.005213049628772987, 0.005149803969908309, 0...   \n",
       "2  [0.0044666661484878325, 0.0043938556743630605,...   \n",
       "\n",
       "                                            shuff_MI  \\\n",
       "0  [9.540319164934521, 9.545878218535728, 9.53434...   \n",
       "1  [10.354873873252643, 10.35376084240053, 10.353...   \n",
       "2  [10.335267645293385, 10.33318150766475, 10.333...   \n",
       "\n",
       "                                        shuff_MI_var  \\\n",
       "0  [0.009889103513194912, 0.009903386166469113, 0...   \n",
       "1  [0.00508955241492165, 0.005096158572864715, 0....   \n",
       "2  [0.004350729568225813, 0.004350829245781982, 0...   \n",
       "\n",
       "                                           distances  age_cohort_low  \\\n",
       "0  [1, 2, 3, 4, 5, 6, 7, 8, 9, 10, 11, 12, 13, 14...             0.5   \n",
       "1  [1, 2, 3, 4, 5, 6, 7, 8, 9, 10, 11, 12, 13, 14...             1.0   \n",
       "2  [1, 2, 3, 4, 5, 6, 7, 8, 9, 10, 11, 12, 13, 14...             1.5   \n",
       "\n",
       "  age_cohort_high n_phones n_unique_phones  \n",
       "0               1    60390            3259  \n",
       "1             1.5   312914            5787  \n",
       "2               2   457938            5769  "
      ]
     },
     "execution_count": 6,
     "metadata": {},
     "output_type": "execute_result"
    }
   ],
   "source": [
    "MI_DF[:3]"
   ]
  },
  {
   "cell_type": "code",
   "execution_count": 7,
   "metadata": {
    "ExecuteTime": {
     "end_time": "2019-10-01T16:46:41.183308Z",
     "start_time": "2019-10-01T16:46:41.112042Z"
    }
   },
   "outputs": [],
   "source": [
    "MI_DF = MI_DF.assign(**{i:np.nan for i in ['exp_results', 'pow_results', 'concat_results',\n",
    "     'R2_exp', 'R2_concat', 'R2_power', 'AICc_exp',\n",
    "     'AICc_concat', 'AICc_power', 'bestfitmodel', 'curvature', 'min_peak']})\n",
    "MI_DF['curvature'] = MI_DF['curvature'].astype(object)"
   ]
  },
  {
   "cell_type": "code",
   "execution_count": 8,
   "metadata": {
    "ExecuteTime": {
     "end_time": "2019-10-01T16:46:44.749441Z",
     "start_time": "2019-10-01T16:46:41.185368Z"
    }
   },
   "outputs": [
    {
     "data": {
      "application/vnd.jupyter.widget-view+json": {
       "model_id": "fb3db5d3093e41c3bf007fe78bc8dded",
       "version_major": 2,
       "version_minor": 0
      },
      "text/plain": [
       "HBox(children=(IntProgress(value=0, max=6), HTML(value='')))"
      ]
     },
     "metadata": {},
     "output_type": "display_data"
    },
    {
     "name": "stdout",
     "output_type": "stream",
     "text": [
      "0.5 1 pow_exp\n",
      "1.0 1.5 pow_exp\n",
      "1.5 2 pow_exp\n",
      "2.0 2.5 pow_exp\n",
      "2.5 3 pow_exp\n",
      "3.0 20 pow_exp\n",
      "\n"
     ]
    }
   ],
   "source": [
    "n = 100 # max distance for computation\n",
    "for idx, row in tqdm(MI_DF.iterrows(), total=len(MI_DF)):\n",
    "    # get signal\n",
    "    sig = np.array(row.MI-row.shuff_MI)\n",
    "    distances = row.distances\n",
    "    sig = sig\n",
    "    \n",
    "    # fit models\n",
    "    results_power, results_exp, results_pow_exp, best_fit_model = mf.fit_models(distances, sig)\n",
    "    \n",
    "    # get fit results\n",
    "    R2_exp, R2_concat, R2_power, AICc_exp, \\\n",
    "        AICc_pow, AICc_concat = mf.fit_results(sig, distances, \n",
    "                                              results_exp, results_power,\n",
    "                                              results_pow_exp)\n",
    "    \n",
    "    \n",
    "    # get model y\n",
    "    distances_mod = np.logspace(0,np.log10(n), base=10, num=1000)\n",
    "    if best_fit_model == 'pow_exp':\n",
    "        y_model = mf.get_y(mf.pow_exp_decay, results_pow_exp, distances_mod)\n",
    "    elif best_fit_model == 'exp':\n",
    "        y_model = mf.get_y(mf.exp_decay, results_exp, distances_mod)\n",
    "    elif best_fit_model == 'pow':\n",
    "        y_model = mf.get_y(mf.powerlaw_decay, results_power, distances_mod)\n",
    "    \n",
    "    # get curvature of model_y\n",
    "    curvature_model = mf.curvature(np.log(y_model))\n",
    "    \n",
    "    # if the best fit model is pow_exp, then grab the min peak\n",
    "    if best_fit_model == 'pow_exp':\n",
    "        # get peaks of curvature\n",
    "        peaks = np.where((\n",
    "            (curvature_model[:-1] < curvature_model[1:])[1:] & (curvature_model[1:] < curvature_model[:-1])[:-1]\n",
    "        ))\n",
    "        min_peak = peaks[0][0]\n",
    "    else:\n",
    "        min_peak = np.nan\n",
    "\n",
    "    # get save model fit results to MI_DF\n",
    "    MI_DF.loc[idx, np.array(['exp_results', 'pow_results', 'concat_results',\n",
    "                         'R2_exp', 'R2_concat', 'R2_power', 'AICc_exp',\n",
    "                         'AICc_concat', 'AICc_power', 'bestfitmodel', 'curvature', 'min_peak'])] = [\n",
    "        results_exp, results_power, results_pow_exp,\n",
    "        R2_exp, R2_concat, R2_power, AICc_exp,\n",
    "        AICc_concat, AICc_pow, best_fit_model,\n",
    "        curvature_model, min_peak\n",
    "    ]\n",
    "\n",
    "    print(row.age_cohort_low, row.age_cohort_high, best_fit_model)"
   ]
  },
  {
   "cell_type": "code",
   "execution_count": 9,
   "metadata": {
    "ExecuteTime": {
     "end_time": "2019-10-01T16:46:44.838297Z",
     "start_time": "2019-10-01T16:46:44.751356Z"
    }
   },
   "outputs": [
    {
     "data": {
      "text/html": [
       "<div>\n",
       "<style scoped>\n",
       "    .dataframe tbody tr th:only-of-type {\n",
       "        vertical-align: middle;\n",
       "    }\n",
       "\n",
       "    .dataframe tbody tr th {\n",
       "        vertical-align: top;\n",
       "    }\n",
       "\n",
       "    .dataframe thead th {\n",
       "        text-align: right;\n",
       "    }\n",
       "</style>\n",
       "<table border=\"1\" class=\"dataframe\">\n",
       "  <thead>\n",
       "    <tr style=\"text-align: right;\">\n",
       "      <th></th>\n",
       "      <th>MI</th>\n",
       "      <th>MI_var</th>\n",
       "      <th>shuff_MI</th>\n",
       "      <th>shuff_MI_var</th>\n",
       "      <th>distances</th>\n",
       "      <th>age_cohort_low</th>\n",
       "      <th>age_cohort_high</th>\n",
       "      <th>n_phones</th>\n",
       "      <th>n_unique_phones</th>\n",
       "      <th>exp_results</th>\n",
       "      <th>...</th>\n",
       "      <th>concat_results</th>\n",
       "      <th>R2_exp</th>\n",
       "      <th>R2_concat</th>\n",
       "      <th>R2_power</th>\n",
       "      <th>AICc_exp</th>\n",
       "      <th>AICc_concat</th>\n",
       "      <th>AICc_power</th>\n",
       "      <th>bestfitmodel</th>\n",
       "      <th>curvature</th>\n",
       "      <th>min_peak</th>\n",
       "    </tr>\n",
       "  </thead>\n",
       "  <tbody>\n",
       "    <tr>\n",
       "      <th>0</th>\n",
       "      <td>[10.080288260013138, 9.916455549165027, 9.7424...</td>\n",
       "      <td>[0.010088692845104597, 0.009966629345003522, 0...</td>\n",
       "      <td>[9.540319164934521, 9.545878218535728, 9.53434...</td>\n",
       "      <td>[0.009889103513194912, 0.009903386166469113, 0...</td>\n",
       "      <td>[1, 2, 3, 4, 5, 6, 7, 8, 9, 10, 11, 12, 13, 14...</td>\n",
       "      <td>0.5</td>\n",
       "      <td>1</td>\n",
       "      <td>60390</td>\n",
       "      <td>3259</td>\n",
       "      <td>&lt;lmfit.minimizer.MinimizerResult object at 0x7...</td>\n",
       "      <td>...</td>\n",
       "      <td>&lt;lmfit.minimizer.MinimizerResult object at 0x7...</td>\n",
       "      <td>0.983485</td>\n",
       "      <td>0.993614</td>\n",
       "      <td>0.989926</td>\n",
       "      <td>-573.660113</td>\n",
       "      <td>-664.289186</td>\n",
       "      <td>-623.093092</td>\n",
       "      <td>pow_exp</td>\n",
       "      <td>[-4.7259173188471115e-07, -7.152342473020701e-...</td>\n",
       "      <td>259.0</td>\n",
       "    </tr>\n",
       "    <tr>\n",
       "      <th>1</th>\n",
       "      <td>[11.018700216584904, 10.737645462157055, 10.56...</td>\n",
       "      <td>[0.005213049628772987, 0.005149803969908309, 0...</td>\n",
       "      <td>[10.354873873252643, 10.35376084240053, 10.353...</td>\n",
       "      <td>[0.00508955241492165, 0.005096158572864715, 0....</td>\n",
       "      <td>[1, 2, 3, 4, 5, 6, 7, 8, 9, 10, 11, 12, 13, 14...</td>\n",
       "      <td>1.0</td>\n",
       "      <td>1.5</td>\n",
       "      <td>312914</td>\n",
       "      <td>5787</td>\n",
       "      <td>&lt;lmfit.minimizer.MinimizerResult object at 0x7...</td>\n",
       "      <td>...</td>\n",
       "      <td>&lt;lmfit.minimizer.MinimizerResult object at 0x7...</td>\n",
       "      <td>0.980861</td>\n",
       "      <td>0.998117</td>\n",
       "      <td>0.995941</td>\n",
       "      <td>-516.601598</td>\n",
       "      <td>-744.125823</td>\n",
       "      <td>-671.671083</td>\n",
       "      <td>pow_exp</td>\n",
       "      <td>[-6.398269681238529e-07, -9.676437685993425e-0...</td>\n",
       "      <td>247.0</td>\n",
       "    </tr>\n",
       "    <tr>\n",
       "      <th>2</th>\n",
       "      <td>[11.052948976446858, 10.656466560369868, 10.48...</td>\n",
       "      <td>[0.0044666661484878325, 0.0043938556743630605,...</td>\n",
       "      <td>[10.335267645293385, 10.33318150766475, 10.333...</td>\n",
       "      <td>[0.004350729568225813, 0.004350829245781982, 0...</td>\n",
       "      <td>[1, 2, 3, 4, 5, 6, 7, 8, 9, 10, 11, 12, 13, 14...</td>\n",
       "      <td>1.5</td>\n",
       "      <td>2</td>\n",
       "      <td>457938</td>\n",
       "      <td>5769</td>\n",
       "      <td>&lt;lmfit.minimizer.MinimizerResult object at 0x7...</td>\n",
       "      <td>...</td>\n",
       "      <td>&lt;lmfit.minimizer.MinimizerResult object at 0x7...</td>\n",
       "      <td>0.971529</td>\n",
       "      <td>0.998164</td>\n",
       "      <td>0.996968</td>\n",
       "      <td>-436.462823</td>\n",
       "      <td>-706.207524</td>\n",
       "      <td>-660.428461</td>\n",
       "      <td>pow_exp</td>\n",
       "      <td>[-3.526032069378871e-06, -5.3052760008367026e-...</td>\n",
       "      <td>169.0</td>\n",
       "    </tr>\n",
       "  </tbody>\n",
       "</table>\n",
       "<p>3 rows × 21 columns</p>\n",
       "</div>"
      ],
      "text/plain": [
       "                                                  MI  \\\n",
       "0  [10.080288260013138, 9.916455549165027, 9.7424...   \n",
       "1  [11.018700216584904, 10.737645462157055, 10.56...   \n",
       "2  [11.052948976446858, 10.656466560369868, 10.48...   \n",
       "\n",
       "                                              MI_var  \\\n",
       "0  [0.010088692845104597, 0.009966629345003522, 0...   \n",
       "1  [0.005213049628772987, 0.005149803969908309, 0...   \n",
       "2  [0.0044666661484878325, 0.0043938556743630605,...   \n",
       "\n",
       "                                            shuff_MI  \\\n",
       "0  [9.540319164934521, 9.545878218535728, 9.53434...   \n",
       "1  [10.354873873252643, 10.35376084240053, 10.353...   \n",
       "2  [10.335267645293385, 10.33318150766475, 10.333...   \n",
       "\n",
       "                                        shuff_MI_var  \\\n",
       "0  [0.009889103513194912, 0.009903386166469113, 0...   \n",
       "1  [0.00508955241492165, 0.005096158572864715, 0....   \n",
       "2  [0.004350729568225813, 0.004350829245781982, 0...   \n",
       "\n",
       "                                           distances  age_cohort_low  \\\n",
       "0  [1, 2, 3, 4, 5, 6, 7, 8, 9, 10, 11, 12, 13, 14...             0.5   \n",
       "1  [1, 2, 3, 4, 5, 6, 7, 8, 9, 10, 11, 12, 13, 14...             1.0   \n",
       "2  [1, 2, 3, 4, 5, 6, 7, 8, 9, 10, 11, 12, 13, 14...             1.5   \n",
       "\n",
       "  age_cohort_high n_phones n_unique_phones  \\\n",
       "0               1    60390            3259   \n",
       "1             1.5   312914            5787   \n",
       "2               2   457938            5769   \n",
       "\n",
       "                                         exp_results  ...  \\\n",
       "0  <lmfit.minimizer.MinimizerResult object at 0x7...  ...   \n",
       "1  <lmfit.minimizer.MinimizerResult object at 0x7...  ...   \n",
       "2  <lmfit.minimizer.MinimizerResult object at 0x7...  ...   \n",
       "\n",
       "                                      concat_results    R2_exp  R2_concat  \\\n",
       "0  <lmfit.minimizer.MinimizerResult object at 0x7...  0.983485   0.993614   \n",
       "1  <lmfit.minimizer.MinimizerResult object at 0x7...  0.980861   0.998117   \n",
       "2  <lmfit.minimizer.MinimizerResult object at 0x7...  0.971529   0.998164   \n",
       "\n",
       "   R2_power    AICc_exp  AICc_concat  AICc_power  bestfitmodel  \\\n",
       "0  0.989926 -573.660113  -664.289186 -623.093092       pow_exp   \n",
       "1  0.995941 -516.601598  -744.125823 -671.671083       pow_exp   \n",
       "2  0.996968 -436.462823  -706.207524 -660.428461       pow_exp   \n",
       "\n",
       "                                           curvature min_peak  \n",
       "0  [-4.7259173188471115e-07, -7.152342473020701e-...    259.0  \n",
       "1  [-6.398269681238529e-07, -9.676437685993425e-0...    247.0  \n",
       "2  [-3.526032069378871e-06, -5.3052760008367026e-...    169.0  \n",
       "\n",
       "[3 rows x 21 columns]"
      ]
     },
     "execution_count": 9,
     "metadata": {},
     "output_type": "execute_result"
    }
   ],
   "source": [
    "MI_DF[:3]"
   ]
  },
  {
   "cell_type": "code",
   "execution_count": 16,
   "metadata": {
    "ExecuteTime": {
     "end_time": "2019-10-01T16:49:28.237223Z",
     "start_time": "2019-10-01T16:49:26.276423Z"
    }
   },
   "outputs": [
    {
     "data": {
      "text/plain": [
       "Parameters([('e_init',\n",
       "             <Parameter 'e_init', value=0.3029242900040985 +/- 0.0713, bounds=[1e-19:inf]>),\n",
       "            ('e_decay_const',\n",
       "             <Parameter 'e_decay_const', value=0.36871186196826455 +/- 0.044, bounds=[1e-10:inf]>),\n",
       "            ('p_init',\n",
       "             <Parameter 'p_init', value=0.31172166624839215 +/- 0.0471, bounds=[1e-10:inf]>),\n",
       "            ('p_decay_const',\n",
       "             <Parameter 'p_decay_const', value=-0.9432332875653395 +/- 0.0784, bounds=[-inf:-1e-10]>),\n",
       "            ('intercept',\n",
       "             <Parameter 'intercept', value=0.02527996809903943 +/- 0.00161, bounds=[1e-10:inf]>)])"
      ]
     },
     "execution_count": 16,
     "metadata": {},
     "output_type": "execute_result"
    }
   ],
   "source": [
    "MI_DF.concat_results.values[0].params"
   ]
  },
  {
   "cell_type": "code",
   "execution_count": 10,
   "metadata": {
    "ExecuteTime": {
     "end_time": "2019-10-01T16:46:48.174547Z",
     "start_time": "2019-10-01T16:46:48.081744Z"
    }
   },
   "outputs": [
    {
     "data": {
      "text/plain": [
       "<Parameter 'p_decay_const', value=-0.9432332875653395 +/- 0.0784, bounds=[-inf:-1e-10]>"
      ]
     },
     "execution_count": 10,
     "metadata": {},
     "output_type": "execute_result"
    }
   ],
   "source": [
    "test = MI_DF.concat_results.values[0].params['p_decay_const']\n",
    "test"
   ]
  },
  {
   "cell_type": "code",
   "execution_count": 11,
   "metadata": {
    "ExecuteTime": {
     "end_time": "2019-10-01T16:46:48.464149Z",
     "start_time": "2019-10-01T16:46:48.418930Z"
    }
   },
   "outputs": [
    {
     "data": {
      "text/plain": [
       "0.07839749428460403"
      ]
     },
     "execution_count": 11,
     "metadata": {},
     "output_type": "execute_result"
    }
   ],
   "source": [
    "test.stderr"
   ]
  },
  {
   "cell_type": "code",
   "execution_count": 17,
   "metadata": {
    "ExecuteTime": {
     "end_time": "2019-10-01T16:49:47.913629Z",
     "start_time": "2019-10-01T16:49:47.867673Z"
    }
   },
   "outputs": [],
   "source": [
    "param = 'e_decay_const'"
   ]
  },
  {
   "cell_type": "code",
   "execution_count": 18,
   "metadata": {
    "ExecuteTime": {
     "end_time": "2019-10-01T16:49:48.286288Z",
     "start_time": "2019-10-01T16:49:48.238551Z"
    }
   },
   "outputs": [],
   "source": [
    "powerlaw_slope = np.array([i.params[param].value for i in MI_DF.concat_results.values])\n",
    "powerlaw_slope_stderr = np.array([i.params[param].stderr for i in MI_DF.concat_results.values])"
   ]
  },
  {
   "cell_type": "code",
   "execution_count": 19,
   "metadata": {
    "ExecuteTime": {
     "end_time": "2019-10-01T16:49:48.467200Z",
     "start_time": "2019-10-01T16:49:48.426030Z"
    }
   },
   "outputs": [],
   "source": [
    "labels = ['6-12 months', '12-18 months', '18-24 months', '24-30 months', '30-36 months', '3-4 years']"
   ]
  },
  {
   "cell_type": "code",
   "execution_count": 20,
   "metadata": {
    "ExecuteTime": {
     "end_time": "2019-10-01T16:49:48.948780Z",
     "start_time": "2019-10-01T16:49:48.695633Z"
    }
   },
   "outputs": [
    {
     "data": {
      "text/plain": [
       "[<matplotlib.lines.Line2D at 0x7faa68446278>]"
      ]
     },
     "execution_count": 20,
     "metadata": {},
     "output_type": "execute_result"
    },
    {
     "data": {
      "image/png": "[encoded data removed]",
      "text/plain": [
       "<Figure size 432x288 with 1 Axes>"
      ]
     },
     "metadata": {
      "needs_background": "light"
     },
     "output_type": "display_data"
    }
   ],
   "source": [
    "plt.plot(labels, powerlaw_slope)\n",
    "#plt.fill_between(labels, powerlaw_slope - powerlaw_slope_stderr, powerlaw_slope + powerlaw_slope_stderr, alpha = 0.2)"
   ]
  },
  {
   "cell_type": "code",
   "execution_count": null,
   "metadata": {},
   "outputs": [],
   "source": []
  }
 ],
 "metadata": {
  "kernelspec": {
   "display_name": "Python 3",
   "language": "python",
   "name": "python3"
  },
  "language_info": {
   "codemirror_mode": {
    "name": "ipython",
    "version": 3
   },
   "file_extension": ".py",
   "mimetype": "text/x-python",
   "name": "python",
   "nbconvert_exporter": "python",
   "pygments_lexer": "ipython3",
   "version": "3.6.7"
  }
 },
 "nbformat": 4,
 "nbformat_minor": 2
}
