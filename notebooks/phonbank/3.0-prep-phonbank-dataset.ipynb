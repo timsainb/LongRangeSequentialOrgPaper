{
 "cells": [
  {
   "cell_type": "code",
   "execution_count": 1,
   "metadata": {
    "ExecuteTime": {
     "end_time": "2019-08-15T19:50:50.622706Z",
     "start_time": "2019-08-15T19:50:50.601614Z"
    }
   },
   "outputs": [],
   "source": [
    "%load_ext autoreload\n",
    "%autoreload 2"
   ]
  },
  {
   "cell_type": "code",
   "execution_count": 2,
   "metadata": {
    "ExecuteTime": {
     "end_time": "2019-08-15T19:50:50.743752Z",
     "start_time": "2019-08-15T19:50:50.624597Z"
    }
   },
   "outputs": [],
   "source": [
    "from childes_mi.utils.paths import PHONBANK_DFS\n",
    "from childes_mi.utils.general import flatten"
   ]
  },
  {
   "cell_type": "code",
   "execution_count": 3,
   "metadata": {
    "ExecuteTime": {
     "end_time": "2019-08-15T19:50:52.589722Z",
     "start_time": "2019-08-15T19:50:50.747055Z"
    }
   },
   "outputs": [
    {
     "name": "stderr",
     "output_type": "stream",
     "text": [
      "/mnt/cube/tsainbur/conda_envs/tpy3/lib/python3.6/site-packages/tqdm/autonotebook/__init__.py:14: TqdmExperimentalWarning: Using `tqdm.autonotebook.tqdm` in notebook mode. Use `tqdm.tqdm` instead to force console mode (e.g. in jupyter console)\n",
      "  \" (e.g. in jupyter console)\", TqdmExperimentalWarning)\n"
     ]
    }
   ],
   "source": [
    "import pandas as pd\n",
    "import numpy as np\n",
    "import matplotlib.pyplot as plt\n",
    "from tqdm.autonotebook import tqdm"
   ]
  },
  {
   "cell_type": "code",
   "execution_count": 4,
   "metadata": {
    "ExecuteTime": {
     "end_time": "2019-08-15T19:50:54.151496Z",
     "start_time": "2019-08-15T19:50:52.593762Z"
    }
   },
   "outputs": [
    {
     "data": {
      "text/html": [
       "<div>\n",
       "<style scoped>\n",
       "    .dataframe tbody tr th:only-of-type {\n",
       "        vertical-align: middle;\n",
       "    }\n",
       "\n",
       "    .dataframe tbody tr th {\n",
       "        vertical-align: top;\n",
       "    }\n",
       "\n",
       "    .dataframe thead th {\n",
       "        text-align: right;\n",
       "    }\n",
       "</style>\n",
       "<table border=\"1\" class=\"dataframe\">\n",
       "  <thead>\n",
       "    <tr style=\"text-align: right;\">\n",
       "      <th></th>\n",
       "      <th>transcript_id</th>\n",
       "      <th>transcript_root_name</th>\n",
       "      <th>corpus</th>\n",
       "      <th>version</th>\n",
       "      <th>date</th>\n",
       "      <th>language</th>\n",
       "      <th>media</th>\n",
       "      <th>xml_loc</th>\n",
       "      <th>dataset</th>\n",
       "    </tr>\n",
       "  </thead>\n",
       "  <tbody>\n",
       "    <tr>\n",
       "      <th>0</th>\n",
       "      <td>2M-AA</td>\n",
       "      <td>corpora_Spanish_Vivar_Santiago_2M-AA</td>\n",
       "      <td>Santiago</td>\n",
       "      <td>PB1.2</td>\n",
       "      <td>2016-11-06</td>\n",
       "      <td>spa</td>\n",
       "      <td>Vivar/Santiago/2M-AA.wav</td>\n",
       "      <td>/mnt/cube/tsainbur/Projects/github_repos/child...</td>\n",
       "      <td>Vivar</td>\n",
       "    </tr>\n",
       "    <tr>\n",
       "      <th>0</th>\n",
       "      <td>4M-MB</td>\n",
       "      <td>corpora_Spanish_Vivar_Santiago_4M-MB</td>\n",
       "      <td>Santiago</td>\n",
       "      <td>PB1.2</td>\n",
       "      <td>2016-11-20</td>\n",
       "      <td>spa</td>\n",
       "      <td>Vivar/Santiago/4M-MB.wav</td>\n",
       "      <td>/mnt/cube/tsainbur/Projects/github_repos/child...</td>\n",
       "      <td>Vivar</td>\n",
       "    </tr>\n",
       "    <tr>\n",
       "      <th>0</th>\n",
       "      <td>2A-IB</td>\n",
       "      <td>corpora_Spanish_Vivar_Santiago_2A-IB</td>\n",
       "      <td>Santiago</td>\n",
       "      <td>PB1.2</td>\n",
       "      <td>2016-11-08</td>\n",
       "      <td>spa</td>\n",
       "      <td>Vivar/Santiago/2A-IB.wav</td>\n",
       "      <td>/mnt/cube/tsainbur/Projects/github_repos/child...</td>\n",
       "      <td>Vivar</td>\n",
       "    </tr>\n",
       "  </tbody>\n",
       "</table>\n",
       "</div>"
      ],
      "text/plain": [
       "  transcript_id                  transcript_root_name    corpus version  \\\n",
       "0         2M-AA  corpora_Spanish_Vivar_Santiago_2M-AA  Santiago   PB1.2   \n",
       "0         4M-MB  corpora_Spanish_Vivar_Santiago_4M-MB  Santiago   PB1.2   \n",
       "0         2A-IB  corpora_Spanish_Vivar_Santiago_2A-IB  Santiago   PB1.2   \n",
       "\n",
       "         date language                     media  \\\n",
       "0  2016-11-06      spa  Vivar/Santiago/2M-AA.wav   \n",
       "0  2016-11-20      spa  Vivar/Santiago/4M-MB.wav   \n",
       "0  2016-11-08      spa  Vivar/Santiago/2A-IB.wav   \n",
       "\n",
       "                                             xml_loc dataset  \n",
       "0  /mnt/cube/tsainbur/Projects/github_repos/child...   Vivar  \n",
       "0  /mnt/cube/tsainbur/Projects/github_repos/child...   Vivar  \n",
       "0  /mnt/cube/tsainbur/Projects/github_repos/child...   Vivar  "
      ]
     },
     "execution_count": 4,
     "metadata": {},
     "output_type": "execute_result"
    }
   ],
   "source": [
    "transcript_df = pd.read_pickle(PHONBANK_DFS/'transcript_df.pickle')\n",
    "transcript_df['dataset'] = [i.split('_')[2] for i in transcript_df.transcript_root_name.values]\n",
    "transcript_df[:3]"
   ]
  },
  {
   "cell_type": "code",
   "execution_count": 5,
   "metadata": {
    "ExecuteTime": {
     "end_time": "2019-08-15T19:50:54.180291Z",
     "start_time": "2019-08-15T19:50:54.154334Z"
    }
   },
   "outputs": [],
   "source": [
    "datasets_to_use = ['Providence', # 0;8-3;3  spontaneous interactions with their parents (usually their mothers) at home https://phonbank.talkbank.org/access/Eng-NA/Providence.html\n",
    "               'Davis', # 0;7-3;0 natural interactions and situations that occurred in their daily lives https://phonbank.talkbank.org/access/Eng-NA/Davis.html \n",
    "               'Goad',  # 0;8-2;11 in their homes in a naturalistic setting https://phonbank.talkbank.org/access/Eng-NA/Goad.html\n",
    "              ] "
   ]
  },
  {
   "cell_type": "code",
   "execution_count": 6,
   "metadata": {
    "ExecuteTime": {
     "end_time": "2019-08-15T19:50:54.303894Z",
     "start_time": "2019-08-15T19:50:54.182269Z"
    }
   },
   "outputs": [],
   "source": [
    "dataset_mask = np.array([i in datasets_to_use for i in transcript_df.dataset.values])\n",
    "transcript_df = transcript_df[dataset_mask]"
   ]
  },
  {
   "cell_type": "code",
   "execution_count": 7,
   "metadata": {
    "ExecuteTime": {
     "end_time": "2019-08-15T19:50:54.386388Z",
     "start_time": "2019-08-15T19:50:54.306673Z"
    }
   },
   "outputs": [],
   "source": [
    "transcript_df = transcript_df[transcript_df.language == 'eng']"
   ]
  },
  {
   "cell_type": "code",
   "execution_count": 8,
   "metadata": {
    "ExecuteTime": {
     "end_time": "2019-08-15T19:50:54.483475Z",
     "start_time": "2019-08-15T19:50:54.389992Z"
    }
   },
   "outputs": [
    {
     "data": {
      "text/plain": [
       "1032"
      ]
     },
     "execution_count": 8,
     "metadata": {},
     "output_type": "execute_result"
    }
   ],
   "source": [
    "len(transcript_df)"
   ]
  },
  {
   "cell_type": "code",
   "execution_count": 9,
   "metadata": {
    "ExecuteTime": {
     "end_time": "2019-08-15T19:50:54.724800Z",
     "start_time": "2019-08-15T19:50:54.485222Z"
    }
   },
   "outputs": [
    {
     "data": {
      "text/plain": [
       "([PosixPath('/mnt/cube/tsainbur/Projects/github_repos/childes_mi_project/data/processed/phonbank/participants/corpora_Eng-NA_ComptonPater_Julia_021001.pickle'),\n",
       "  PosixPath('/mnt/cube/tsainbur/Projects/github_repos/childes_mi_project/data/processed/phonbank/participants/corpora_Eng-NA_Davis-CDI_Ben-WG_Ben-1_10_08.pickle')],\n",
       " [PosixPath('/mnt/cube/tsainbur/Projects/github_repos/childes_mi_project/data/processed/phonbank/transcripts/corpora_Eng-NA_Davis_Jodie_010127.pickle'),\n",
       "  PosixPath('/mnt/cube/tsainbur/Projects/github_repos/childes_mi_project/data/processed/phonbank/transcripts/corpora_French_Yamaguchi_Yamaguchi_040326.pickle')])"
      ]
     },
     "execution_count": 9,
     "metadata": {},
     "output_type": "execute_result"
    }
   ],
   "source": [
    "participants = list((PHONBANK_DFS / 'participants').glob('*.pickle'))\n",
    "transcripts = list((PHONBANK_DFS / 'transcripts').glob('*.pickle'))\n",
    "participants[:2], transcripts[:2]"
   ]
  },
  {
   "cell_type": "code",
   "execution_count": 10,
   "metadata": {
    "ExecuteTime": {
     "end_time": "2019-08-15T19:50:54.751635Z",
     "start_time": "2019-08-15T19:50:54.726800Z"
    }
   },
   "outputs": [
    {
     "data": {
      "text/plain": [
       "(6608, 6608)"
      ]
     },
     "execution_count": 10,
     "metadata": {},
     "output_type": "execute_result"
    }
   ],
   "source": [
    "len(transcripts), len(participants)"
   ]
  },
  {
   "cell_type": "code",
   "execution_count": 11,
   "metadata": {
    "ExecuteTime": {
     "end_time": "2019-08-15T19:51:26.886372Z",
     "start_time": "2019-08-15T19:50:54.753488Z"
    }
   },
   "outputs": [
    {
     "data": {
      "application/vnd.jupyter.widget-view+json": {
       "model_id": "53cfad93895d4e32a85f2e3e8067c62e",
       "version_major": 2,
       "version_minor": 0
      },
      "text/plain": [
       "HBox(children=(IntProgress(value=0, max=6608), HTML(value='')))"
      ]
     },
     "metadata": {},
     "output_type": "display_data"
    },
    {
     "name": "stdout",
     "output_type": "stream",
     "text": [
      "\n"
     ]
    },
    {
     "data": {
      "text/plain": [
       "2421443"
      ]
     },
     "execution_count": 11,
     "metadata": {},
     "output_type": "execute_result"
    }
   ],
   "source": [
    "all_transcript_df = pd.concat([pd.read_pickle(i) for i in tqdm(transcripts)])\n",
    "len(all_transcript_df)"
   ]
  },
  {
   "cell_type": "code",
   "execution_count": 12,
   "metadata": {
    "ExecuteTime": {
     "end_time": "2019-08-15T19:51:27.495318Z",
     "start_time": "2019-08-15T19:51:26.891931Z"
    }
   },
   "outputs": [
    {
     "data": {
      "text/html": [
       "<div>\n",
       "<style scoped>\n",
       "    .dataframe tbody tr th:only-of-type {\n",
       "        vertical-align: middle;\n",
       "    }\n",
       "\n",
       "    .dataframe tbody tr th {\n",
       "        vertical-align: top;\n",
       "    }\n",
       "\n",
       "    .dataframe thead th {\n",
       "        text-align: right;\n",
       "    }\n",
       "</style>\n",
       "<table border=\"1\" class=\"dataframe\">\n",
       "  <thead>\n",
       "    <tr style=\"text-align: right;\">\n",
       "      <th></th>\n",
       "      <th>record_id</th>\n",
       "      <th>speaker</th>\n",
       "      <th>orthography</th>\n",
       "      <th>start_time_ms</th>\n",
       "      <th>duration_ms</th>\n",
       "      <th>ipa_model</th>\n",
       "      <th>ipa_actual</th>\n",
       "      <th>transcript_id</th>\n",
       "      <th>xml_loc</th>\n",
       "    </tr>\n",
       "  </thead>\n",
       "  <tbody>\n",
       "    <tr>\n",
       "      <th>0</th>\n",
       "      <td>0b150e30-86f5-445a-913d-6bc951a5eef1</td>\n",
       "      <td>CHI</td>\n",
       "      <td>[all, gone]</td>\n",
       "      <td>0.0</td>\n",
       "      <td>0.0</td>\n",
       "      <td>[None, None]</td>\n",
       "      <td>[a, ga]</td>\n",
       "      <td>010127</td>\n",
       "      <td>/mnt/cube/tsainbur/Projects/github_repos/child...</td>\n",
       "    </tr>\n",
       "    <tr>\n",
       "      <th>0</th>\n",
       "      <td>46d7609e-7375-40ae-8bc8-fd9944fa43b4</td>\n",
       "      <td>CHI</td>\n",
       "      <td>[baby]</td>\n",
       "      <td>0.0</td>\n",
       "      <td>0.0</td>\n",
       "      <td>[None]</td>\n",
       "      <td>[dɛdi]</td>\n",
       "      <td>010127</td>\n",
       "      <td>/mnt/cube/tsainbur/Projects/github_repos/child...</td>\n",
       "    </tr>\n",
       "    <tr>\n",
       "      <th>0</th>\n",
       "      <td>7edecb25-3aa0-448c-8134-74160a8d50bf</td>\n",
       "      <td>CHI</td>\n",
       "      <td>[bottle]</td>\n",
       "      <td>0.0</td>\n",
       "      <td>0.0</td>\n",
       "      <td>[None]</td>\n",
       "      <td>[baba]</td>\n",
       "      <td>010127</td>\n",
       "      <td>/mnt/cube/tsainbur/Projects/github_repos/child...</td>\n",
       "    </tr>\n",
       "  </tbody>\n",
       "</table>\n",
       "</div>"
      ],
      "text/plain": [
       "                              record_id speaker  orthography start_time_ms  \\\n",
       "0  0b150e30-86f5-445a-913d-6bc951a5eef1     CHI  [all, gone]           0.0   \n",
       "0  46d7609e-7375-40ae-8bc8-fd9944fa43b4     CHI       [baby]           0.0   \n",
       "0  7edecb25-3aa0-448c-8134-74160a8d50bf     CHI     [bottle]           0.0   \n",
       "\n",
       "  duration_ms     ipa_model ipa_actual transcript_id  \\\n",
       "0         0.0  [None, None]    [a, ga]        010127   \n",
       "0         0.0        [None]     [dɛdi]        010127   \n",
       "0         0.0        [None]     [baba]        010127   \n",
       "\n",
       "                                             xml_loc  \n",
       "0  /mnt/cube/tsainbur/Projects/github_repos/child...  \n",
       "0  /mnt/cube/tsainbur/Projects/github_repos/child...  \n",
       "0  /mnt/cube/tsainbur/Projects/github_repos/child...  "
      ]
     },
     "execution_count": 12,
     "metadata": {},
     "output_type": "execute_result"
    }
   ],
   "source": [
    "all_transcript_df[:3]"
   ]
  },
  {
   "cell_type": "code",
   "execution_count": 13,
   "metadata": {
    "ExecuteTime": {
     "end_time": "2019-08-15T19:51:45.349709Z",
     "start_time": "2019-08-15T19:51:27.498758Z"
    }
   },
   "outputs": [
    {
     "data": {
      "application/vnd.jupyter.widget-view+json": {
       "model_id": "861553a2d5af4ab298f185e123d874f0",
       "version_major": 2,
       "version_minor": 0
      },
      "text/plain": [
       "HBox(children=(IntProgress(value=0, max=6608), HTML(value='')))"
      ]
     },
     "metadata": {},
     "output_type": "display_data"
    },
    {
     "name": "stdout",
     "output_type": "stream",
     "text": [
      "\n"
     ]
    },
    {
     "data": {
      "text/plain": [
       "6608"
      ]
     },
     "execution_count": 13,
     "metadata": {},
     "output_type": "execute_result"
    }
   ],
   "source": [
    "all_participant_df = pd.concat([pd.read_pickle(i) for i in tqdm(participants)])\n",
    "len(all_participant_df)"
   ]
  },
  {
   "cell_type": "code",
   "execution_count": 14,
   "metadata": {
    "ExecuteTime": {
     "end_time": "2019-08-15T19:51:45.389647Z",
     "start_time": "2019-08-15T19:51:45.355141Z"
    }
   },
   "outputs": [
    {
     "data": {
      "text/html": [
       "<div>\n",
       "<style scoped>\n",
       "    .dataframe tbody tr th:only-of-type {\n",
       "        vertical-align: middle;\n",
       "    }\n",
       "\n",
       "    .dataframe tbody tr th {\n",
       "        vertical-align: top;\n",
       "    }\n",
       "\n",
       "    .dataframe thead th {\n",
       "        text-align: right;\n",
       "    }\n",
       "</style>\n",
       "<table border=\"1\" class=\"dataframe\">\n",
       "  <thead>\n",
       "    <tr style=\"text-align: right;\">\n",
       "      <th></th>\n",
       "      <th>participant_id</th>\n",
       "      <th>role</th>\n",
       "      <th>name</th>\n",
       "      <th>age</th>\n",
       "      <th>birthday</th>\n",
       "      <th>sex</th>\n",
       "      <th>language</th>\n",
       "      <th>transcript_id</th>\n",
       "      <th>xml_loc</th>\n",
       "    </tr>\n",
       "  </thead>\n",
       "  <tbody>\n",
       "    <tr>\n",
       "      <th>0</th>\n",
       "      <td>CHI</td>\n",
       "      <td>Target Child</td>\n",
       "      <td>Julia</td>\n",
       "      <td>P2Y10M1DT0H0M0S</td>\n",
       "      <td>NaN</td>\n",
       "      <td>female</td>\n",
       "      <td>eng</td>\n",
       "      <td>021001</td>\n",
       "      <td>/mnt/cube/tsainbur/Projects/github_repos/child...</td>\n",
       "    </tr>\n",
       "    <tr>\n",
       "      <th>0</th>\n",
       "      <td>CHI</td>\n",
       "      <td>Target Child</td>\n",
       "      <td>Ben</td>\n",
       "      <td>P1Y10M8DT0H0M0S</td>\n",
       "      <td>NaN</td>\n",
       "      <td>male</td>\n",
       "      <td>eng</td>\n",
       "      <td>Ben-1_10_08</td>\n",
       "      <td>/mnt/cube/tsainbur/Projects/github_repos/child...</td>\n",
       "    </tr>\n",
       "    <tr>\n",
       "      <th>0</th>\n",
       "      <td>CHI</td>\n",
       "      <td>Target Child</td>\n",
       "      <td>Théophile</td>\n",
       "      <td>P3Y5M11DT0H0M0S</td>\n",
       "      <td>2005-07-04</td>\n",
       "      <td>male</td>\n",
       "      <td>fra</td>\n",
       "      <td>030511</td>\n",
       "      <td>/mnt/cube/tsainbur/Projects/github_repos/child...</td>\n",
       "    </tr>\n",
       "  </tbody>\n",
       "</table>\n",
       "</div>"
      ],
      "text/plain": [
       "  participant_id          role       name              age    birthday  \\\n",
       "0            CHI  Target Child      Julia  P2Y10M1DT0H0M0S         NaN   \n",
       "0            CHI  Target Child        Ben  P1Y10M8DT0H0M0S         NaN   \n",
       "0            CHI  Target Child  Théophile  P3Y5M11DT0H0M0S  2005-07-04   \n",
       "\n",
       "      sex language transcript_id  \\\n",
       "0  female      eng        021001   \n",
       "0    male      eng   Ben-1_10_08   \n",
       "0    male      fra        030511   \n",
       "\n",
       "                                             xml_loc  \n",
       "0  /mnt/cube/tsainbur/Projects/github_repos/child...  \n",
       "0  /mnt/cube/tsainbur/Projects/github_repos/child...  \n",
       "0  /mnt/cube/tsainbur/Projects/github_repos/child...  "
      ]
     },
     "execution_count": 14,
     "metadata": {},
     "output_type": "execute_result"
    }
   ],
   "source": [
    "all_participant_df[:3]"
   ]
  },
  {
   "cell_type": "code",
   "execution_count": 15,
   "metadata": {
    "ExecuteTime": {
     "end_time": "2019-08-15T19:51:45.488966Z",
     "start_time": "2019-08-15T19:51:45.391582Z"
    }
   },
   "outputs": [],
   "source": [
    "import re\n",
    "def convert_age(age_year):\n",
    "    \"Caclculate age in months from a string in CHILDES format\"\n",
    "    m = re.match(\"P(\\d+)Y(\\d+)M?(\\d?\\d?)D?\", age_year)\n",
    "    age_month = int(m.group(1)) * 12 + int(m.group(2))\n",
    "    try:\n",
    "        if int(m.group(3)) > 15:\n",
    "            age_month += 1\n",
    "    # some corpora don't have age information?\n",
    "    except ValueError as e:\n",
    "        pass\n",
    "    return age_month"
   ]
  },
  {
   "cell_type": "code",
   "execution_count": 16,
   "metadata": {
    "ExecuteTime": {
     "end_time": "2019-08-15T19:51:45.682736Z",
     "start_time": "2019-08-15T19:51:45.491203Z"
    }
   },
   "outputs": [
    {
     "data": {
      "application/vnd.jupyter.widget-view+json": {
       "model_id": "8540aadd33304962be0eae9e90644eb3",
       "version_major": 2,
       "version_minor": 0
      },
      "text/plain": [
       "HBox(children=(IntProgress(value=0, max=6608), HTML(value='')))"
      ]
     },
     "metadata": {},
     "output_type": "display_data"
    },
    {
     "name": "stdout",
     "output_type": "stream",
     "text": [
      "\n"
     ]
    }
   ],
   "source": [
    "ages = [convert_age(age) if type(age) == str else np.nan for age in tqdm(all_participant_df.age.values) ]"
   ]
  },
  {
   "cell_type": "code",
   "execution_count": 17,
   "metadata": {
    "ExecuteTime": {
     "end_time": "2019-08-15T19:51:46.132679Z",
     "start_time": "2019-08-15T19:51:45.685644Z"
    }
   },
   "outputs": [
    {
     "data": {
      "text/plain": [
       "Text(0.5, 1.0, 'age of participant')"
      ]
     },
     "execution_count": 17,
     "metadata": {},
     "output_type": "execute_result"
    },
    {
     "data": {
      "image/png": "[encoded data removed]",
      "text/plain": [
       "<Figure size 432x288 with 1 Axes>"
      ]
     },
     "metadata": {
      "needs_background": "light"
     },
     "output_type": "display_data"
    }
   ],
   "source": [
    "fig, ax = plt.subplots()\n",
    "ax.hist(np.array(ages)/12, bins=np.linspace(0,10,25));\n",
    "ax.set_title('age of participant')"
   ]
  },
  {
   "cell_type": "markdown",
   "metadata": {},
   "source": [
    "### Create a phone dataset of english "
   ]
  },
  {
   "cell_type": "code",
   "execution_count": 18,
   "metadata": {
    "ExecuteTime": {
     "end_time": "2019-08-15T19:51:46.163376Z",
     "start_time": "2019-08-15T19:51:46.134999Z"
    }
   },
   "outputs": [
    {
     "data": {
      "text/plain": [
       "array(['Target Child', 'Target Adult', 'Subject', 'Investigator', 'Child',\n",
       "       'Mother', 'Father', 'Target_Child', 'Adult', 'Caretaker', 'Sister',\n",
       "       'Aunt', 'Grandmother'], dtype=object)"
      ]
     },
     "execution_count": 18,
     "metadata": {},
     "output_type": "execute_result"
    }
   ],
   "source": [
    "all_participant_df.role.unique()"
   ]
  },
  {
   "cell_type": "code",
   "execution_count": 19,
   "metadata": {
    "ExecuteTime": {
     "end_time": "2019-08-15T19:51:46.248074Z",
     "start_time": "2019-08-15T19:51:46.165652Z"
    }
   },
   "outputs": [],
   "source": [
    "def get_transcript_info(transcript_subset, participant_row):\n",
    "    \"\"\" from a transcript, create a pandas dataframe of orthography/phones\n",
    "    \"\"\"\n",
    "\n",
    "    # for participant in dataset\n",
    "    participant_ts = transcript_subset[\n",
    "        transcript_subset.speaker == participant_row.participant_id\n",
    "    ]\n",
    "    \n",
    "    if type(participant_row.age) is not str:\n",
    "        age = np.nan\n",
    "    else:\n",
    "        age = round(convert_age(participant_row.age) / 12, 3)\n",
    "\n",
    "    phone_df = pd.DataFrame(\n",
    "        [[\n",
    "            participant_row.name,\n",
    "            participant_row.transcript_id,\n",
    "            age,\n",
    "            dataset,\n",
    "            participant_row.language,\n",
    "            participant_row.sex,\n",
    "            participant_ts.ipa_actual.values,\n",
    "            participant_ts.orthography.values,\n",
    "            participant_row.xml_loc,\n",
    "        ]],\n",
    "        columns=[\n",
    "            \"name\",\n",
    "            \"transcript_id\",\n",
    "            \"age\",\n",
    "            \"dataset\",\n",
    "            \"language\",\n",
    "            \"sex\",\n",
    "            \"phones\",\n",
    "            \"orthography\",\n",
    "            \"xml_loc\",\n",
    "        ],\n",
    "    )\n",
    "\n",
    "    return phone_df"
   ]
  },
  {
   "cell_type": "code",
   "execution_count": 20,
   "metadata": {
    "ExecuteTime": {
     "end_time": "2019-08-15T19:51:46.338842Z",
     "start_time": "2019-08-15T19:51:46.250207Z"
    }
   },
   "outputs": [],
   "source": [
    "#def get_transcript_info(transcript_subset, participant_row):\n",
    "#    return"
   ]
  },
  {
   "cell_type": "code",
   "execution_count": 21,
   "metadata": {
    "ExecuteTime": {
     "end_time": "2019-08-15T19:51:46.685875Z",
     "start_time": "2019-08-15T19:51:46.341124Z"
    }
   },
   "outputs": [],
   "source": [
    "from joblib.externals.loky import set_loky_pickler\n",
    "from joblib import parallel_backend\n",
    "from joblib import Parallel, delayed\n",
    "from joblib import wrap_non_picklable_objects"
   ]
  },
  {
   "cell_type": "code",
   "execution_count": 22,
   "metadata": {
    "ExecuteTime": {
     "end_time": "2019-08-15T19:51:48.774749Z",
     "start_time": "2019-08-15T19:51:46.688949Z"
    }
   },
   "outputs": [],
   "source": [
    "all_transcript_df['xml_str'] = [i.as_posix() for i in all_transcript_df.xml_loc]\n",
    "all_participant_df['xml_str'] = [i.as_posix() for i in all_participant_df.xml_loc]\n",
    "transcript_df['xml_str'] = [i.as_posix() for i in transcript_df.xml_loc]"
   ]
  },
  {
   "cell_type": "code",
   "execution_count": 23,
   "metadata": {
    "ExecuteTime": {
     "end_time": "2019-08-15T19:51:48.814888Z",
     "start_time": "2019-08-15T19:51:48.777537Z"
    }
   },
   "outputs": [],
   "source": [
    "target_child_df = all_participant_df[all_participant_df.role == 'Target Child']"
   ]
  },
  {
   "cell_type": "code",
   "execution_count": 24,
   "metadata": {
    "ExecuteTime": {
     "end_time": "2019-08-15T19:54:08.214119Z",
     "start_time": "2019-08-15T19:51:48.816701Z"
    },
    "code_folding": []
   },
   "outputs": [
    {
     "data": {
      "application/vnd.jupyter.widget-view+json": {
       "model_id": "da4ca196c67e47b68adc0f04c90f1199",
       "version_major": 2,
       "version_minor": 0
      },
      "text/plain": [
       "HBox(children=(IntProgress(value=0, max=3), HTML(value='')))"
      ]
     },
     "metadata": {},
     "output_type": "display_data"
    },
    {
     "name": "stdout",
     "output_type": "stream",
     "text": [
      "~~~~~~~~~~~~~~~~~~~~ Providence ~~~~~~~~~~~~~~~~~~~~\n"
     ]
    },
    {
     "data": {
      "application/vnd.jupyter.widget-view+json": {
       "model_id": "379dc4206d4d4c5bb5b9143ebfc752bd",
       "version_major": 2,
       "version_minor": 0
      },
      "text/plain": [
       "HBox(children=(IntProgress(value=0, max=364), HTML(value='')))"
      ]
     },
     "metadata": {},
     "output_type": "display_data"
    },
    {
     "name": "stdout",
     "output_type": "stream",
     "text": [
      "~~~~~~~~~~~~~~~~~~~~ Davis ~~~~~~~~~~~~~~~~~~~~\n"
     ]
    },
    {
     "data": {
      "application/vnd.jupyter.widget-view+json": {
       "model_id": "5ae58e24777a45a6ac9e958e6aa5a8f0",
       "version_major": 2,
       "version_minor": 0
      },
      "text/plain": [
       "HBox(children=(IntProgress(value=0, max=602), HTML(value='')))"
      ]
     },
     "metadata": {},
     "output_type": "display_data"
    },
    {
     "name": "stdout",
     "output_type": "stream",
     "text": [
      "~~~~~~~~~~~~~~~~~~~~ Goad ~~~~~~~~~~~~~~~~~~~~\n"
     ]
    },
    {
     "data": {
      "application/vnd.jupyter.widget-view+json": {
       "model_id": "b68643ebfe4b4d7bb93364c2390c0902",
       "version_major": 2,
       "version_minor": 0
      },
      "text/plain": [
       "HBox(children=(IntProgress(value=0, max=66), HTML(value='')))"
      ]
     },
     "metadata": {},
     "output_type": "display_data"
    },
    {
     "name": "stdout",
     "output_type": "stream",
     "text": [
      "\n"
     ]
    }
   ],
   "source": [
    "phone_df = []\n",
    "with Parallel(n_jobs=-1) as parallel:\n",
    "    for dataset in tqdm(datasets_to_use):\n",
    "        # subset dataset\n",
    "        ds_trdf = transcript_df[transcript_df.dataset == dataset]\n",
    "        print(\"~~~~~~~~~~~~~~~~~~~~\", dataset, \"~~~~~~~~~~~~~~~~~~~~\")\n",
    "        # for transcripts in dataset\n",
    "        phone_df.append(\n",
    "            pd.concat(\n",
    "                parallel(\n",
    "                    delayed(get_transcript_info)(\n",
    "                        transcript_subset=all_transcript_df[\n",
    "                            all_transcript_df.xml_str == transcript_row.xml_str\n",
    "                        ],\n",
    "                        participant_row=target_child_df[\n",
    "                            target_child_df.xml_str == transcript_row.xml_str\n",
    "                        ].iloc[0],\n",
    "                    )\n",
    "                    for idx, transcript_row in tqdm(\n",
    "                        ds_trdf.iterrows(), total=len(ds_trdf)\n",
    "                    )\n",
    "                )\n",
    "            )\n",
    "        )\n",
    "phone_df = pd.concat(phone_df)"
   ]
  },
  {
   "cell_type": "code",
   "execution_count": 27,
   "metadata": {
    "ExecuteTime": {
     "end_time": "2019-08-15T19:54:35.981261Z",
     "start_time": "2019-08-15T19:54:35.688852Z"
    }
   },
   "outputs": [
    {
     "data": {
      "text/html": [
       "<div>\n",
       "<style scoped>\n",
       "    .dataframe tbody tr th:only-of-type {\n",
       "        vertical-align: middle;\n",
       "    }\n",
       "\n",
       "    .dataframe tbody tr th {\n",
       "        vertical-align: top;\n",
       "    }\n",
       "\n",
       "    .dataframe thead th {\n",
       "        text-align: right;\n",
       "    }\n",
       "</style>\n",
       "<table border=\"1\" class=\"dataframe\">\n",
       "  <thead>\n",
       "    <tr style=\"text-align: right;\">\n",
       "      <th></th>\n",
       "      <th>name</th>\n",
       "      <th>transcript_id</th>\n",
       "      <th>age</th>\n",
       "      <th>dataset</th>\n",
       "      <th>language</th>\n",
       "      <th>sex</th>\n",
       "      <th>phones</th>\n",
       "      <th>orthography</th>\n",
       "      <th>xml_loc</th>\n",
       "    </tr>\n",
       "  </thead>\n",
       "  <tbody>\n",
       "    <tr>\n",
       "      <th>0</th>\n",
       "      <td>0</td>\n",
       "      <td>020926</td>\n",
       "      <td>2.833</td>\n",
       "      <td>Providence</td>\n",
       "      <td>eng</td>\n",
       "      <td>male</td>\n",
       "      <td>[[ˈhi, ˈhæ, rəs], [ˈhi, ˈhæ, rəs], [ˈkævəʔ, ˈp...</td>\n",
       "      <td>[[[can, I], have, this], [[can, I], have, this...</td>\n",
       "      <td>/mnt/cube/tsainbur/Projects/github_repos/child...</td>\n",
       "    </tr>\n",
       "    <tr>\n",
       "      <th>0</th>\n",
       "      <td>0</td>\n",
       "      <td>030006</td>\n",
       "      <td>3.000</td>\n",
       "      <td>Providence</td>\n",
       "      <td>eng</td>\n",
       "      <td>male</td>\n",
       "      <td>[[*, haʊ, ˈbaʊ, *, ɪ, ˈdeɪ, mætʃ], [deɪ, ˈmætʃ...</td>\n",
       "      <td>[[xxx, how, &lt;a&gt;bout, xxx, if, they, match], [t...</td>\n",
       "      <td>/mnt/cube/tsainbur/Projects/github_repos/child...</td>\n",
       "    </tr>\n",
       "    <tr>\n",
       "      <th>0</th>\n",
       "      <td>0</td>\n",
       "      <td>011117</td>\n",
       "      <td>2.000</td>\n",
       "      <td>Providence</td>\n",
       "      <td>eng</td>\n",
       "      <td>male</td>\n",
       "      <td>[[None], [None], [None], [hɪ, ˈmi], [ˈbu], [No...</td>\n",
       "      <td>[[xxx], [xxx], [xxx], [help, me], [bowl], [xxx...</td>\n",
       "      <td>/mnt/cube/tsainbur/Projects/github_repos/child...</td>\n",
       "    </tr>\n",
       "  </tbody>\n",
       "</table>\n",
       "</div>"
      ],
      "text/plain": [
       "   name transcript_id    age     dataset language   sex  \\\n",
       "0     0        020926  2.833  Providence      eng  male   \n",
       "0     0        030006  3.000  Providence      eng  male   \n",
       "0     0        011117  2.000  Providence      eng  male   \n",
       "\n",
       "                                              phones  \\\n",
       "0  [[ˈhi, ˈhæ, rəs], [ˈhi, ˈhæ, rəs], [ˈkævəʔ, ˈp...   \n",
       "0  [[*, haʊ, ˈbaʊ, *, ɪ, ˈdeɪ, mætʃ], [deɪ, ˈmætʃ...   \n",
       "0  [[None], [None], [None], [hɪ, ˈmi], [ˈbu], [No...   \n",
       "\n",
       "                                         orthography  \\\n",
       "0  [[[can, I], have, this], [[can, I], have, this...   \n",
       "0  [[xxx, how, <a>bout, xxx, if, they, match], [t...   \n",
       "0  [[xxx], [xxx], [xxx], [help, me], [bowl], [xxx...   \n",
       "\n",
       "                                             xml_loc  \n",
       "0  /mnt/cube/tsainbur/Projects/github_repos/child...  \n",
       "0  /mnt/cube/tsainbur/Projects/github_repos/child...  \n",
       "0  /mnt/cube/tsainbur/Projects/github_repos/child...  "
      ]
     },
     "execution_count": 27,
     "metadata": {},
     "output_type": "execute_result"
    }
   ],
   "source": [
    "phone_df[:3]"
   ]
  },
  {
   "cell_type": "code",
   "execution_count": 28,
   "metadata": {
    "ExecuteTime": {
     "end_time": "2019-08-15T19:54:36.011503Z",
     "start_time": "2019-08-15T19:54:35.983802Z"
    }
   },
   "outputs": [
    {
     "data": {
      "text/plain": [
       "1032"
      ]
     },
     "execution_count": 28,
     "metadata": {},
     "output_type": "execute_result"
    }
   ],
   "source": [
    "len(phone_df)"
   ]
  },
  {
   "cell_type": "code",
   "execution_count": 29,
   "metadata": {
    "ExecuteTime": {
     "end_time": "2019-08-15T19:54:56.281980Z",
     "start_time": "2019-08-15T19:54:56.233286Z"
    }
   },
   "outputs": [
    {
     "data": {
      "text/plain": [
       "PosixPath('/mnt/cube/tsainbur/Projects/github_repos/childes_mi_project/data/processed/phonbank')"
      ]
     },
     "execution_count": 29,
     "metadata": {},
     "output_type": "execute_result"
    }
   ],
   "source": [
    "PHONBANK_DFS"
   ]
  },
  {
   "cell_type": "code",
   "execution_count": 30,
   "metadata": {
    "ExecuteTime": {
     "end_time": "2019-08-15T19:55:05.763432Z",
     "start_time": "2019-08-15T19:55:04.753824Z"
    }
   },
   "outputs": [],
   "source": [
    "phone_df.to_pickle(PHONBANK_DFS/'phone_df.pickle')"
   ]
  },
  {
   "cell_type": "code",
   "execution_count": null,
   "metadata": {},
   "outputs": [],
   "source": []
  }
 ],
 "metadata": {
  "kernelspec": {
   "display_name": "Python 3",
   "language": "python",
   "name": "python3"
  },
  "language_info": {
   "codemirror_mode": {
    "name": "ipython",
    "version": 3
   },
   "file_extension": ".py",
   "mimetype": "text/x-python",
   "name": "python",
   "nbconvert_exporter": "python",
   "pygments_lexer": "ipython3",
   "version": "3.6.8"
  }
 },
 "nbformat": 4,
 "nbformat_minor": 2
}
