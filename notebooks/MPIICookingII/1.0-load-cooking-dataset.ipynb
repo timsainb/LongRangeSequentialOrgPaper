{
 "cells": [
  {
   "cell_type": "code",
   "execution_count": 1,
   "metadata": {
    "ExecuteTime": {
     "end_time": "2019-08-18T22:53:36.206955Z",
     "start_time": "2019-08-18T22:53:36.169066Z"
    }
   },
   "outputs": [],
   "source": [
    "%load_ext autoreload\n",
    "%autoreload 2"
   ]
  },
  {
   "cell_type": "code",
   "execution_count": 2,
   "metadata": {
    "ExecuteTime": {
     "end_time": "2019-08-18T22:53:36.271886Z",
     "start_time": "2019-08-18T22:53:36.210544Z"
    }
   },
   "outputs": [],
   "source": [
    "from childes_mi.utils.paths import DATA_DIR, ensure_dir, MPIICOOKING2_DIR\n",
    "import urllib.request"
   ]
  },
  {
   "cell_type": "code",
   "execution_count": 32,
   "metadata": {
    "ExecuteTime": {
     "end_time": "2019-08-18T22:56:24.981918Z",
     "start_time": "2019-08-18T22:56:24.945022Z"
    }
   },
   "outputs": [],
   "source": [
    "import matplotlib.pyplot as plt"
   ]
  },
  {
   "cell_type": "code",
   "execution_count": 3,
   "metadata": {
    "ExecuteTime": {
     "end_time": "2019-08-18T22:53:36.564008Z",
     "start_time": "2019-08-18T22:53:36.275000Z"
    }
   },
   "outputs": [],
   "source": [
    "import h5py\n",
    "import numpy as np"
   ]
  },
  {
   "cell_type": "code",
   "execution_count": 4,
   "metadata": {
    "ExecuteTime": {
     "end_time": "2019-08-18T22:53:36.597166Z",
     "start_time": "2019-08-18T22:53:36.567840Z"
    }
   },
   "outputs": [],
   "source": [
    "MPIICOOKING2_ANNO = MPIICOOKING2_DIR / \"attributesAnnotations_MPII-Cooking-2.mat\""
   ]
  },
  {
   "cell_type": "code",
   "execution_count": 5,
   "metadata": {
    "ExecuteTime": {
     "end_time": "2019-08-18T22:53:36.698177Z",
     "start_time": "2019-08-18T22:53:36.599324Z"
    }
   },
   "outputs": [
    {
     "data": {
      "text/plain": [
       "'/mnt/cube/tsainbur/Projects/github_repos/childes_mi_project/data/raw/MPIICOOKING2_Data_Dir/attributesAnnotations_MPII-Cooking-2.mat'"
      ]
     },
     "execution_count": 5,
     "metadata": {},
     "output_type": "execute_result"
    }
   ],
   "source": [
    "MPIICOOKING2_ANNO.as_posix()"
   ]
  },
  {
   "cell_type": "code",
   "execution_count": 6,
   "metadata": {
    "ExecuteTime": {
     "end_time": "2019-08-18T22:53:36.798251Z",
     "start_time": "2019-08-18T22:53:36.701106Z"
    }
   },
   "outputs": [],
   "source": [
    "f = h5py.File(MPIICOOKING2_ANNO.as_posix(), 'r')"
   ]
  },
  {
   "cell_type": "code",
   "execution_count": 7,
   "metadata": {
    "ExecuteTime": {
     "end_time": "2019-08-18T22:53:36.886035Z",
     "start_time": "2019-08-18T22:53:36.800208Z"
    }
   },
   "outputs": [
    {
     "data": {
      "text/plain": [
       "<HDF5 group \"/annos\" (37 members)>"
      ]
     },
     "execution_count": 7,
     "metadata": {},
     "output_type": "execute_result"
    }
   ],
   "source": [
    "group = f['annos']\n",
    "group"
   ]
  },
  {
   "cell_type": "code",
   "execution_count": 8,
   "metadata": {
    "ExecuteTime": {
     "end_time": "2019-08-18T22:53:36.977305Z",
     "start_time": "2019-08-18T22:53:36.889987Z"
    },
    "scrolled": true
   },
   "outputs": [
    {
     "name": "stdout",
     "output_type": "stream",
     "text": [
      "activity\n",
      "annoFileMap\n",
      "attrFields\n",
      "attributeMap\n",
      "bgClassName\n",
      "bgLabel\n",
      "bgLabelAttr\n",
      "classMap\n",
      "className\n",
      "containers\n",
      "containersDestination\n",
      "containersProperties\n",
      "containersSource\n",
      "dataset\n",
      "dish\n",
      "endFrame\n",
      "endTimeSeconds\n",
      "fields\n",
      "fileId\n",
      "fileName\n",
      "fileNameId\n",
      "filters\n",
      "frameRate\n",
      "iaMat\n",
      "idxInFile\n",
      "ingredients\n",
      "ingredientsProperties\n",
      "labels\n",
      "minBgWindow\n",
      "nImgsPerFile\n",
      "nullAttr\n",
      "nullAttrLabel\n",
      "startFrame\n",
      "startTimeSeconds\n",
      "subject\n",
      "tool\n",
      "toolProperties\n"
     ]
    }
   ],
   "source": [
    "for key in group.keys():\n",
    "    print(key)"
   ]
  },
  {
   "cell_type": "code",
   "execution_count": 9,
   "metadata": {
    "ExecuteTime": {
     "end_time": "2019-08-18T22:53:37.075193Z",
     "start_time": "2019-08-18T22:53:36.980721Z"
    }
   },
   "outputs": [],
   "source": [
    "file_ids = group[\"fileId\"].value\n",
    "file_ids = np.concatenate(file_ids)"
   ]
  },
  {
   "cell_type": "code",
   "execution_count": 10,
   "metadata": {
    "ExecuteTime": {
     "end_time": "2019-08-18T22:53:37.159626Z",
     "start_time": "2019-08-18T22:53:37.077195Z"
    }
   },
   "outputs": [
    {
     "data": {
      "text/plain": [
       "array([1., 2., 3., 4., 5.])"
      ]
     },
     "execution_count": 10,
     "metadata": {},
     "output_type": "execute_result"
    }
   ],
   "source": [
    "np.unique(file_ids)[:5]"
   ]
  },
  {
   "cell_type": "code",
   "execution_count": 11,
   "metadata": {
    "ExecuteTime": {
     "end_time": "2019-08-18T22:53:37.262272Z",
     "start_time": "2019-08-18T22:53:37.163628Z"
    }
   },
   "outputs": [],
   "source": [
    "activity = group[\"activity\"].value"
   ]
  },
  {
   "cell_type": "code",
   "execution_count": 12,
   "metadata": {
    "ExecuteTime": {
     "end_time": "2019-08-18T22:53:37.348842Z",
     "start_time": "2019-08-18T22:53:37.266290Z"
    }
   },
   "outputs": [],
   "source": [
    "def reference_to_str(ref, f):\n",
    "    obj = f[ref]\n",
    "    return ''.join(chr(i) for i in obj[:])"
   ]
  },
  {
   "cell_type": "code",
   "execution_count": 13,
   "metadata": {
    "ExecuteTime": {
     "end_time": "2019-08-18T22:53:37.435510Z",
     "start_time": "2019-08-18T22:53:37.352666Z"
    }
   },
   "outputs": [
    {
     "data": {
      "text/plain": [
       "'enterV'"
      ]
     },
     "execution_count": 13,
     "metadata": {},
     "output_type": "execute_result"
    }
   ],
   "source": [
    "reference_to_str(activity[0][0], f)"
   ]
  },
  {
   "cell_type": "code",
   "execution_count": 14,
   "metadata": {
    "ExecuteTime": {
     "end_time": "2019-08-18T22:53:37.528537Z",
     "start_time": "2019-08-18T22:53:37.441717Z"
    }
   },
   "outputs": [
    {
     "name": "stderr",
     "output_type": "stream",
     "text": [
      "/mnt/cube/tsainbur/conda_envs/tpy3/lib/python3.6/site-packages/tqdm/autonotebook/__init__.py:14: TqdmExperimentalWarning: Using `tqdm.autonotebook.tqdm` in notebook mode. Use `tqdm.tqdm` instead to force console mode (e.g. in jupyter console)\n",
      "  \" (e.g. in jupyter console)\", TqdmExperimentalWarning)\n"
     ]
    }
   ],
   "source": [
    "from tqdm.autonotebook import tqdm"
   ]
  },
  {
   "cell_type": "code",
   "execution_count": 22,
   "metadata": {
    "ExecuteTime": {
     "end_time": "2019-08-18T22:54:47.266637Z",
     "start_time": "2019-08-18T22:54:42.287035Z"
    }
   },
   "outputs": [
    {
     "data": {
      "application/vnd.jupyter.widget-view+json": {
       "model_id": "85995a9efee84d26ba67973854a9b98e",
       "version_major": 2,
       "version_minor": 0
      },
      "text/plain": [
       "HBox(children=(IntProgress(value=0, max=14105), HTML(value='')))"
      ]
     },
     "metadata": {},
     "output_type": "display_data"
    },
    {
     "name": "stdout",
     "output_type": "stream",
     "text": [
      "\n"
     ]
    }
   ],
   "source": [
    "activity = np.array([reference_to_str(i[0],f) for i in tqdm(group[\"activity\"].value)])"
   ]
  },
  {
   "cell_type": "code",
   "execution_count": 23,
   "metadata": {
    "ExecuteTime": {
     "end_time": "2019-08-18T22:55:22.643899Z",
     "start_time": "2019-08-18T22:55:22.599492Z"
    }
   },
   "outputs": [
    {
     "data": {
      "text/plain": [
       "(14105, 87)"
      ]
     },
     "execution_count": 23,
     "metadata": {},
     "output_type": "execute_result"
    }
   ],
   "source": [
    "len(activity), len(np.unique(activity))"
   ]
  },
  {
   "cell_type": "code",
   "execution_count": 98,
   "metadata": {
    "ExecuteTime": {
     "end_time": "2019-08-26T20:51:34.450288Z",
     "start_time": "2019-08-26T20:51:34.017879Z"
    }
   },
   "outputs": [
    {
     "data": {
      "text/plain": [
       "array(['addV', 'apply plasterV', 'arrangeV', 'assembleV',\n",
       "       'change temperatureV', 'chopV', 'cleanV', 'closeV', 'cut apartV',\n",
       "       'cut diceV', 'cut off endsV', 'cut out insideV', 'cut stripesV',\n",
       "       'cutV', 'dryV', 'enterV', 'fillV', 'flipV', 'foldV', 'gatherV',\n",
       "       'grateV', 'grindV', 'hangV', 'lockV', 'mixV', 'moveV', 'open capV',\n",
       "       'open closeV', 'open eggV', 'open tinV', 'openV', 'packageV',\n",
       "       'peelV', 'plugV', 'pokeV', 'pourV', 'pressV', 'pull apartV',\n",
       "       'pull upV', 'pullV', 'pureeV', 'purgeV', 'push downV', 'put inV',\n",
       "       'put lidV', 'put onV', 'put rubber bandV', 'readV',\n",
       "       'remove from packageV', 'remove labelV', 'remove rubber bandV',\n",
       "       'rip offV', 'rip openV', 'rip-offV', 'rollV', 'scratch offV',\n",
       "       'screw closeV', 'screw openV', 'shakeV', 'shapeV', 'sharpenV',\n",
       "       'sliceV', 'smellV', 'spiceV', 'spreadV', 'squashV', 'squeezeV',\n",
       "       'stampV', 'stirV', 'strewV', 'take apartV', 'take lidV',\n",
       "       'take outV', 'tapV', 'tasteV', 'test sharpnessV',\n",
       "       'test temperatureV', 'throw in garbageV', 'turn offV', 'turn onV',\n",
       "       'turn overV', 'unlockV', 'unplugV', 'unrollV', 'washV', 'whipV',\n",
       "       'wring outV'], dtype='<U20')"
      ]
     },
     "execution_count": 98,
     "metadata": {},
     "output_type": "execute_result"
    }
   ],
   "source": [
    "np.unique(activity)"
   ]
  },
  {
   "cell_type": "code",
   "execution_count": 74,
   "metadata": {
    "ExecuteTime": {
     "end_time": "2019-08-19T04:37:10.846854Z",
     "start_time": "2019-08-19T04:37:10.777055Z"
    }
   },
   "outputs": [],
   "source": [
    "activity_grouped = [activity[file_ids == fid] for fid in np.unique(file_ids)]"
   ]
  },
  {
   "cell_type": "code",
   "execution_count": 97,
   "metadata": {
    "ExecuteTime": {
     "end_time": "2019-08-26T20:51:19.372621Z",
     "start_time": "2019-08-26T20:51:19.311461Z"
    }
   },
   "outputs": [
    {
     "data": {
      "text/plain": [
       "273"
      ]
     },
     "execution_count": 97,
     "metadata": {},
     "output_type": "execute_result"
    }
   ],
   "source": [
    "len(activity_grouped)"
   ]
  },
  {
   "cell_type": "code",
   "execution_count": 75,
   "metadata": {
    "ExecuteTime": {
     "end_time": "2019-08-19T04:37:10.972443Z",
     "start_time": "2019-08-19T04:37:10.921753Z"
    }
   },
   "outputs": [],
   "source": [
    "activity_lens = [len(i) for i in activity_grouped]"
   ]
  },
  {
   "cell_type": "code",
   "execution_count": 76,
   "metadata": {
    "ExecuteTime": {
     "end_time": "2019-08-19T04:37:11.493543Z",
     "start_time": "2019-08-19T04:37:11.075215Z"
    }
   },
   "outputs": [
    {
     "data": {
      "image/png": "[encoded data removed]",
      "text/plain": [
       "<Figure size 432x288 with 1 Axes>"
      ]
     },
     "metadata": {
      "needs_background": "light"
     },
     "output_type": "display_data"
    }
   ],
   "source": [
    "plt.hist(activity_lens, bins = 50);"
   ]
  },
  {
   "cell_type": "markdown",
   "metadata": {},
   "source": [
    "### Mutual information"
   ]
  },
  {
   "cell_type": "code",
   "execution_count": 77,
   "metadata": {
    "ExecuteTime": {
     "end_time": "2019-08-19T04:37:11.524393Z",
     "start_time": "2019-08-19T04:37:11.495836Z"
    }
   },
   "outputs": [],
   "source": [
    "from childes_mi.information_theory import mutual_information as mi"
   ]
  },
  {
   "cell_type": "code",
   "execution_count": 85,
   "metadata": {
    "ExecuteTime": {
     "end_time": "2019-08-26T20:50:17.548313Z",
     "start_time": "2019-08-26T20:50:17.425437Z"
    }
   },
   "outputs": [
    {
     "data": {
      "application/vnd.jupyter.widget-view+json": {
       "model_id": "18bf8552600e4538aacf7b61e0daadb2",
       "version_major": 2,
       "version_minor": 0
      },
      "text/plain": [
       "HBox(children=(IntProgress(value=0, max=273), HTML(value='')))"
      ]
     },
     "metadata": {},
     "output_type": "display_data"
    },
    {
     "name": "stdout",
     "output_type": "stream",
     "text": [
      "\n"
     ]
    }
   ],
   "source": [
    "activity_indv = [[\"{}_{}\".format(bi, element) for element in bout] for bi, bout in enumerate(tqdm(activity_grouped))]"
   ]
  },
  {
   "cell_type": "code",
   "execution_count": 86,
   "metadata": {
    "ExecuteTime": {
     "end_time": "2019-08-26T20:50:18.331480Z",
     "start_time": "2019-08-26T20:50:18.285330Z"
    }
   },
   "outputs": [],
   "source": [
    "distances = np.arange(1,100)"
   ]
  },
  {
   "cell_type": "code",
   "execution_count": 99,
   "metadata": {
    "ExecuteTime": {
     "end_time": "2019-08-26T20:52:17.625984Z",
     "start_time": "2019-08-26T20:52:09.528411Z"
    }
   },
   "outputs": [
    {
     "data": {
      "application/vnd.jupyter.widget-view+json": {
       "model_id": "",
       "version_major": 2,
       "version_minor": 0
      },
      "text/plain": [
       "HBox(children=(IntProgress(value=0, max=99), HTML(value='')))"
      ]
     },
     "metadata": {},
     "output_type": "display_data"
    },
    {
     "name": "stderr",
     "output_type": "stream",
     "text": [
      "[Parallel(n_jobs=-1)]: Using backend ThreadingBackend with 24 concurrent workers.\n",
      "[Parallel(n_jobs=-1)]: Done  24 tasks      | elapsed:    1.5s\n"
     ]
    },
    {
     "name": "stdout",
     "output_type": "stream",
     "text": [
      "\r"
     ]
    },
    {
     "name": "stderr",
     "output_type": "stream",
     "text": [
      "[Parallel(n_jobs=-1)]: Done  72 out of  99 | elapsed:    3.3s remaining:    1.2s\n",
      "[Parallel(n_jobs=-1)]: Done  92 out of  99 | elapsed:    3.6s remaining:    0.3s\n",
      "[Parallel(n_jobs=-1)]: Done  99 out of  99 | elapsed:    3.7s finished\n"
     ]
    },
    {
     "data": {
      "application/vnd.jupyter.widget-view+json": {
       "model_id": "",
       "version_major": 2,
       "version_minor": 0
      },
      "text/plain": [
       "HBox(children=(IntProgress(value=0, max=99), HTML(value='')))"
      ]
     },
     "metadata": {},
     "output_type": "display_data"
    },
    {
     "name": "stderr",
     "output_type": "stream",
     "text": [
      "[Parallel(n_jobs=-1)]: Using backend ThreadingBackend with 24 concurrent workers.\n",
      "[Parallel(n_jobs=-1)]: Done  24 tasks      | elapsed:    3.4s\n"
     ]
    },
    {
     "name": "stdout",
     "output_type": "stream",
     "text": [
      "\r"
     ]
    },
    {
     "name": "stderr",
     "output_type": "stream",
     "text": [
      "[Parallel(n_jobs=-1)]: Done  72 out of  99 | elapsed:    4.0s remaining:    1.5s\n",
      "[Parallel(n_jobs=-1)]: Done  92 out of  99 | elapsed:    4.0s remaining:    0.3s\n",
      "[Parallel(n_jobs=-1)]: Done  99 out of  99 | elapsed:    4.0s finished\n"
     ]
    }
   ],
   "source": [
    "(MI, MI_var), (shuff_MI, shuff_MI_var) = mi.sequential_mutual_information(\n",
    "    activity_indv, distances=distances, n_jobs=-1\n",
    ")"
   ]
  },
  {
   "cell_type": "code",
   "execution_count": 100,
   "metadata": {
    "ExecuteTime": {
     "end_time": "2019-08-26T20:52:17.674005Z",
     "start_time": "2019-08-26T20:52:17.630926Z"
    }
   },
   "outputs": [],
   "source": [
    "import pandas as pd"
   ]
  },
  {
   "cell_type": "code",
   "execution_count": 101,
   "metadata": {
    "ExecuteTime": {
     "end_time": "2019-08-26T20:52:17.770196Z",
     "start_time": "2019-08-26T20:52:17.676594Z"
    }
   },
   "outputs": [],
   "source": [
    "MI_DF = pd.DataFrame(\n",
    "    [[MI, MI_var, shuff_MI, shuff_MI_var, distances]],\n",
    "    columns=[\"MI\", \"MI_var\", \"shuff_MI\", \"shuff_MI_var\", \"distances\"],\n",
    ")"
   ]
  },
  {
   "cell_type": "code",
   "execution_count": 102,
   "metadata": {
    "ExecuteTime": {
     "end_time": "2019-08-26T20:52:17.867970Z",
     "start_time": "2019-08-26T20:52:17.773126Z"
    }
   },
   "outputs": [],
   "source": [
    "row = MI_DF.iloc[0]"
   ]
  },
  {
   "cell_type": "code",
   "execution_count": 103,
   "metadata": {
    "ExecuteTime": {
     "end_time": "2019-08-26T20:52:19.377761Z",
     "start_time": "2019-08-26T20:52:17.870583Z"
    }
   },
   "outputs": [
    {
     "data": {
      "image/png": "[encoded data removed]",
      "text/plain": [
       "<Figure size 720x360 with 1 Axes>"
      ]
     },
     "metadata": {
      "needs_background": "light"
     },
     "output_type": "display_data"
    }
   ],
   "source": [
    "fig, ax = plt.subplots(figsize=(10,5))\n",
    "MI = row.MI-row.shuff_MI\n",
    "MI_var = row.MI_var\n",
    "\n",
    "ax.scatter(distances, MI)\n",
    "ax.fill_between(distances, MI-MI_var, MI+MI_var, alpha = 0.25, color= 'k')\n",
    "ax.set_ylim([1e-3, 1])\n",
    "ax.set_yscale('log')\n",
    "ax.set_xscale('log')"
   ]
  },
  {
   "cell_type": "code",
   "execution_count": 104,
   "metadata": {
    "ExecuteTime": {
     "end_time": "2019-08-26T20:52:20.065816Z",
     "start_time": "2019-08-26T20:52:19.380111Z"
    }
   },
   "outputs": [
    {
     "data": {
      "text/plain": [
       "[<matplotlib.lines.Line2D at 0x7f4eb9f20f60>]"
      ]
     },
     "execution_count": 104,
     "metadata": {},
     "output_type": "execute_result"
    },
    {
     "data": {
      "image/png": "[encoded data removed]",
      "text/plain": [
       "<Figure size 432x288 with 1 Axes>"
      ]
     },
     "metadata": {
      "needs_background": "light"
     },
     "output_type": "display_data"
    }
   ],
   "source": [
    "plt.loglog(row.MI)\n",
    "plt.loglog(row.shuff_MI)"
   ]
  },
  {
   "cell_type": "code",
   "execution_count": null,
   "metadata": {},
   "outputs": [],
   "source": []
  },
  {
   "cell_type": "code",
   "execution_count": null,
   "metadata": {},
   "outputs": [],
   "source": []
  }
 ],
 "metadata": {
  "kernelspec": {
   "display_name": "Python 3",
   "language": "python",
   "name": "python3"
  },
  "language_info": {
   "codemirror_mode": {
    "name": "ipython",
    "version": 3
   },
   "file_extension": ".py",
   "mimetype": "text/x-python",
   "name": "python",
   "nbconvert_exporter": "python",
   "pygments_lexer": "ipython3",
   "version": "3.6.8"
  }
 },
 "nbformat": 4,
 "nbformat_minor": 2
}
