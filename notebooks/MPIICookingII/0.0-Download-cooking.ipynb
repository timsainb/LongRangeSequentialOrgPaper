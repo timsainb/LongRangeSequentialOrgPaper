{
 "cells": [
  {
   "cell_type": "code",
   "execution_count": 1,
   "metadata": {
    "ExecuteTime": {
     "end_time": "2019-08-18T22:26:39.232766Z",
     "start_time": "2019-08-18T22:26:39.191000Z"
    }
   },
   "outputs": [],
   "source": [
    "%load_ext autoreload\n",
    "%autoreload 2"
   ]
  },
  {
   "cell_type": "code",
   "execution_count": 14,
   "metadata": {
    "ExecuteTime": {
     "end_time": "2019-08-18T22:29:48.206515Z",
     "start_time": "2019-08-18T22:29:48.180496Z"
    }
   },
   "outputs": [],
   "source": [
    "from childes_mi.utils.paths import DATA_DIR, ensure_dir, MPIICOOKING2_DIR\n",
    "import urllib.request"
   ]
  },
  {
   "cell_type": "code",
   "execution_count": 15,
   "metadata": {
    "ExecuteTime": {
     "end_time": "2019-08-18T22:29:48.373718Z",
     "start_time": "2019-08-18T22:29:48.347215Z"
    }
   },
   "outputs": [],
   "source": [
    "annotations_address = \"http://datasets.d2.mpi-inf.mpg.de/MPII-Cooking-2/annos/attributesAnnotations_MPII-Cooking-2.mat\""
   ]
  },
  {
   "cell_type": "code",
   "execution_count": 16,
   "metadata": {
    "ExecuteTime": {
     "end_time": "2019-08-18T22:29:48.533591Z",
     "start_time": "2019-08-18T22:29:48.506581Z"
    }
   },
   "outputs": [],
   "source": [
    "save_loc = MPIICOOKING2_DIR / annotations_address.split('/')[-1]"
   ]
  },
  {
   "cell_type": "code",
   "execution_count": 17,
   "metadata": {
    "ExecuteTime": {
     "end_time": "2019-08-18T22:29:48.713745Z",
     "start_time": "2019-08-18T22:29:48.687351Z"
    }
   },
   "outputs": [],
   "source": [
    "# make sure there is a directory to save to\n",
    "ensure_dir(save_loc)"
   ]
  },
  {
   "cell_type": "code",
   "execution_count": 19,
   "metadata": {
    "ExecuteTime": {
     "end_time": "2019-08-18T22:30:08.975029Z",
     "start_time": "2019-08-18T22:29:58.077155Z"
    }
   },
   "outputs": [
    {
     "data": {
      "text/plain": [
       "(PosixPath('/mnt/cube/tsainbur/Projects/github_repos/childes_mi_project/data/raw/MPIICOOKING2_Data_Dir/attributesAnnotations_MPII-Cooking-2.mat'),\n",
       " <http.client.HTTPMessage at 0x7f9344336400>)"
      ]
     },
     "execution_count": 19,
     "metadata": {},
     "output_type": "execute_result"
    }
   ],
   "source": [
    "# save to disk\n",
    "urllib.request.urlretrieve(annotations_address, save_loc)"
   ]
  },
  {
   "cell_type": "code",
   "execution_count": null,
   "metadata": {},
   "outputs": [],
   "source": []
  }
 ],
 "metadata": {
  "kernelspec": {
   "display_name": "Python 3",
   "language": "python",
   "name": "python3"
  },
  "language_info": {
   "codemirror_mode": {
    "name": "ipython",
    "version": 3
   },
   "file_extension": ".py",
   "mimetype": "text/x-python",
   "name": "python",
   "nbconvert_exporter": "python",
   "pygments_lexer": "ipython3",
   "version": "3.6.8"
  }
 },
 "nbformat": 4,
 "nbformat_minor": 2
}
