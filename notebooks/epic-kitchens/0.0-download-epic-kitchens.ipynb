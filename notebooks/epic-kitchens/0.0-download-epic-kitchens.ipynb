{
 "cells": [
  {
   "cell_type": "code",
   "execution_count": 1,
   "metadata": {
    "ExecuteTime": {
     "end_time": "2019-08-19T06:02:28.997780Z",
     "start_time": "2019-08-19T06:02:28.942820Z"
    }
   },
   "outputs": [],
   "source": [
    "%load_ext autoreload\n",
    "%autoreload 2"
   ]
  },
  {
   "cell_type": "code",
   "execution_count": 2,
   "metadata": {
    "ExecuteTime": {
     "end_time": "2019-08-19T06:02:29.136329Z",
     "start_time": "2019-08-19T06:02:29.092432Z"
    }
   },
   "outputs": [],
   "source": [
    "from childes_mi.utils.paths import DATA_DIR, ensure_dir, EPIC_KITCHENS_DIR\n",
    "import urllib.request"
   ]
  },
  {
   "cell_type": "markdown",
   "metadata": {},
   "source": [
    "### train"
   ]
  },
  {
   "cell_type": "code",
   "execution_count": 3,
   "metadata": {
    "ExecuteTime": {
     "end_time": "2019-08-19T06:02:30.559080Z",
     "start_time": "2019-08-19T06:02:30.530857Z"
    }
   },
   "outputs": [],
   "source": [
    "url = 'https://raw.githubusercontent.com/epic-kitchens/annotations/master/EPIC_train_action_labels.csv'"
   ]
  },
  {
   "cell_type": "code",
   "execution_count": 7,
   "metadata": {
    "ExecuteTime": {
     "end_time": "2019-08-19T06:03:11.583406Z",
     "start_time": "2019-08-19T06:03:11.555072Z"
    }
   },
   "outputs": [],
   "source": [
    "save_loc = EPIC_KITCHENS_DIR / url.split('/')[-1]"
   ]
  },
  {
   "cell_type": "code",
   "execution_count": 8,
   "metadata": {
    "ExecuteTime": {
     "end_time": "2019-08-19T06:03:12.295319Z",
     "start_time": "2019-08-19T06:03:12.266453Z"
    }
   },
   "outputs": [],
   "source": [
    "# make sure there is a directory to save to\n",
    "ensure_dir(save_loc)"
   ]
  },
  {
   "cell_type": "code",
   "execution_count": 9,
   "metadata": {
    "ExecuteTime": {
     "end_time": "2019-08-19T06:03:19.145655Z",
     "start_time": "2019-08-19T06:03:18.538473Z"
    }
   },
   "outputs": [
    {
     "data": {
      "text/plain": [
       "(PosixPath('/mnt/cube/tsainbur/Projects/github_repos/childes_mi_project/data/raw/EPIC_KITCHENS_Data_Dir/EPIC_train_action_labels.csv'),\n",
       " <http.client.HTTPMessage at 0x7fc6bc494358>)"
      ]
     },
     "execution_count": 9,
     "metadata": {},
     "output_type": "execute_result"
    }
   ],
   "source": [
    "# save to disk\n",
    "urllib.request.urlretrieve(url, save_loc)"
   ]
  },
  {
   "cell_type": "markdown",
   "metadata": {},
   "source": [
    "### test"
   ]
  },
  {
   "cell_type": "code",
   "execution_count": null,
   "metadata": {},
   "outputs": [],
   "source": [
    "url = 'https://raw.githubusercontent.com/epic-kitchens/annotations/master/EPIC_train_action_labels.csv'\n",
    "\n",
    "save_loc = EPIC_KITCHENS_DIR / url.split('/')[-1]\n",
    "\n",
    "# make sure there is a directory to save to\n",
    "ensure_dir(save_loc)\n",
    "\n",
    "# save to disk\n",
    "urllib.request.urlretrieve(url, save_loc)"
   ]
  }
 ],
 "metadata": {
  "kernelspec": {
   "display_name": "Python 3",
   "language": "python",
   "name": "python3"
  },
  "language_info": {
   "codemirror_mode": {
    "name": "ipython",
    "version": 3
   },
   "file_extension": ".py",
   "mimetype": "text/x-python",
   "name": "python",
   "nbconvert_exporter": "python",
   "pygments_lexer": "ipython3",
   "version": "3.6.8"
  }
 },
 "nbformat": 4,
 "nbformat_minor": 2
}
