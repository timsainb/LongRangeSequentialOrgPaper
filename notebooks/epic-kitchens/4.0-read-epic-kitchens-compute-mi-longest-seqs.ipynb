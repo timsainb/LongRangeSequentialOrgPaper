{
 "cells": [
  {
   "cell_type": "markdown",
   "metadata": {},
   "source": [
    "http://actionrecognition.net/files/dsetdetail.php?did=15;\n",
    "https://github.com/epic-kitchens/annotations"
   ]
  },
  {
   "cell_type": "code",
   "execution_count": 3,
   "metadata": {
    "ExecuteTime": {
     "end_time": "2019-08-27T21:16:29.622856Z",
     "start_time": "2019-08-27T21:16:29.584770Z"
    }
   },
   "outputs": [],
   "source": [
    "%load_ext autoreload\n",
    "%autoreload 2"
   ]
  },
  {
   "cell_type": "code",
   "execution_count": 4,
   "metadata": {
    "ExecuteTime": {
     "end_time": "2019-08-27T21:16:29.738081Z",
     "start_time": "2019-08-27T21:16:29.626139Z"
    }
   },
   "outputs": [],
   "source": [
    "from childes_mi.utils.paths import DATA_DIR, ensure_dir, EPIC_KITCHENS_DIR\n",
    "import urllib.request"
   ]
  },
  {
   "cell_type": "code",
   "execution_count": 5,
   "metadata": {
    "ExecuteTime": {
     "end_time": "2019-08-27T21:16:31.754381Z",
     "start_time": "2019-08-27T21:16:29.741173Z"
    }
   },
   "outputs": [],
   "source": [
    "import pandas as pd"
   ]
  },
  {
   "cell_type": "code",
   "execution_count": 6,
   "metadata": {
    "ExecuteTime": {
     "end_time": "2019-08-27T21:16:33.664870Z",
     "start_time": "2019-08-27T21:16:31.761331Z"
    }
   },
   "outputs": [],
   "source": [
    "actions_data = pd.read_csv(EPIC_KITCHENS_DIR / 'EPIC_train_action_labels.csv')"
   ]
  },
  {
   "cell_type": "code",
   "execution_count": 8,
   "metadata": {},
   "outputs": [
    {
     "data": {
      "text/html": [
       "<div>\n",
       "<style scoped>\n",
       "    .dataframe tbody tr th:only-of-type {\n",
       "        vertical-align: middle;\n",
       "    }\n",
       "\n",
       "    .dataframe tbody tr th {\n",
       "        vertical-align: top;\n",
       "    }\n",
       "\n",
       "    .dataframe thead th {\n",
       "        text-align: right;\n",
       "    }\n",
       "</style>\n",
       "<table border=\"1\" class=\"dataframe\">\n",
       "  <thead>\n",
       "    <tr style=\"text-align: right;\">\n",
       "      <th></th>\n",
       "      <th>uid</th>\n",
       "      <th>participant_id</th>\n",
       "      <th>video_id</th>\n",
       "      <th>narration</th>\n",
       "      <th>start_timestamp</th>\n",
       "      <th>stop_timestamp</th>\n",
       "      <th>start_frame</th>\n",
       "      <th>stop_frame</th>\n",
       "      <th>verb</th>\n",
       "      <th>verb_class</th>\n",
       "      <th>noun</th>\n",
       "      <th>noun_class</th>\n",
       "      <th>all_nouns</th>\n",
       "      <th>all_noun_classes</th>\n",
       "    </tr>\n",
       "  </thead>\n",
       "  <tbody>\n",
       "    <tr>\n",
       "      <th>0</th>\n",
       "      <td>0</td>\n",
       "      <td>P01</td>\n",
       "      <td>P01_01</td>\n",
       "      <td>open door</td>\n",
       "      <td>00:00:00.14</td>\n",
       "      <td>00:00:03.37</td>\n",
       "      <td>8</td>\n",
       "      <td>202</td>\n",
       "      <td>open</td>\n",
       "      <td>2</td>\n",
       "      <td>door</td>\n",
       "      <td>8</td>\n",
       "      <td>['door']</td>\n",
       "      <td>[8]</td>\n",
       "    </tr>\n",
       "    <tr>\n",
       "      <th>1</th>\n",
       "      <td>1</td>\n",
       "      <td>P01</td>\n",
       "      <td>P01_01</td>\n",
       "      <td>turn on light</td>\n",
       "      <td>00:00:04.37</td>\n",
       "      <td>00:00:06.17</td>\n",
       "      <td>262</td>\n",
       "      <td>370</td>\n",
       "      <td>turn-on</td>\n",
       "      <td>12</td>\n",
       "      <td>light</td>\n",
       "      <td>113</td>\n",
       "      <td>['light']</td>\n",
       "      <td>[113]</td>\n",
       "    </tr>\n",
       "    <tr>\n",
       "      <th>2</th>\n",
       "      <td>2</td>\n",
       "      <td>P01</td>\n",
       "      <td>P01_01</td>\n",
       "      <td>close door</td>\n",
       "      <td>00:00:06.98</td>\n",
       "      <td>00:00:09.49</td>\n",
       "      <td>418</td>\n",
       "      <td>569</td>\n",
       "      <td>close</td>\n",
       "      <td>3</td>\n",
       "      <td>door</td>\n",
       "      <td>8</td>\n",
       "      <td>['door']</td>\n",
       "      <td>[8]</td>\n",
       "    </tr>\n",
       "    <tr>\n",
       "      <th>3</th>\n",
       "      <td>3</td>\n",
       "      <td>P01</td>\n",
       "      <td>P01_01</td>\n",
       "      <td>open fridge</td>\n",
       "      <td>00:00:12.77</td>\n",
       "      <td>00:00:13.99</td>\n",
       "      <td>766</td>\n",
       "      <td>839</td>\n",
       "      <td>open</td>\n",
       "      <td>2</td>\n",
       "      <td>fridge</td>\n",
       "      <td>10</td>\n",
       "      <td>['fridge']</td>\n",
       "      <td>[10]</td>\n",
       "    </tr>\n",
       "    <tr>\n",
       "      <th>4</th>\n",
       "      <td>4</td>\n",
       "      <td>P01</td>\n",
       "      <td>P01_01</td>\n",
       "      <td>take celery</td>\n",
       "      <td>00:00:15.25</td>\n",
       "      <td>00:00:16.40</td>\n",
       "      <td>915</td>\n",
       "      <td>983</td>\n",
       "      <td>take</td>\n",
       "      <td>0</td>\n",
       "      <td>celery</td>\n",
       "      <td>185</td>\n",
       "      <td>['celery']</td>\n",
       "      <td>[185]</td>\n",
       "    </tr>\n",
       "    <tr>\n",
       "      <th>5</th>\n",
       "      <td>5</td>\n",
       "      <td>P01</td>\n",
       "      <td>P01_01</td>\n",
       "      <td>take container</td>\n",
       "      <td>00:00:16.50</td>\n",
       "      <td>00:00:18.06</td>\n",
       "      <td>990</td>\n",
       "      <td>1083</td>\n",
       "      <td>take</td>\n",
       "      <td>0</td>\n",
       "      <td>container</td>\n",
       "      <td>29</td>\n",
       "      <td>['container']</td>\n",
       "      <td>[29]</td>\n",
       "    </tr>\n",
       "    <tr>\n",
       "      <th>6</th>\n",
       "      <td>6</td>\n",
       "      <td>P01</td>\n",
       "      <td>P01_01</td>\n",
       "      <td>take tofu</td>\n",
       "      <td>00:00:18.19</td>\n",
       "      <td>00:00:21.14</td>\n",
       "      <td>1091</td>\n",
       "      <td>1268</td>\n",
       "      <td>take</td>\n",
       "      <td>0</td>\n",
       "      <td>tofu</td>\n",
       "      <td>159</td>\n",
       "      <td>['tofu']</td>\n",
       "      <td>[159]</td>\n",
       "    </tr>\n",
       "    <tr>\n",
       "      <th>7</th>\n",
       "      <td>7</td>\n",
       "      <td>P01</td>\n",
       "      <td>P01_01</td>\n",
       "      <td>close fridge</td>\n",
       "      <td>00:00:21.91</td>\n",
       "      <td>00:00:23.33</td>\n",
       "      <td>1314</td>\n",
       "      <td>1399</td>\n",
       "      <td>close</td>\n",
       "      <td>3</td>\n",
       "      <td>fridge</td>\n",
       "      <td>10</td>\n",
       "      <td>['fridge']</td>\n",
       "      <td>[10]</td>\n",
       "    </tr>\n",
       "    <tr>\n",
       "      <th>8</th>\n",
       "      <td>8</td>\n",
       "      <td>P01</td>\n",
       "      <td>P01_01</td>\n",
       "      <td>open fridge</td>\n",
       "      <td>00:00:23.18</td>\n",
       "      <td>00:00:24.29</td>\n",
       "      <td>1390</td>\n",
       "      <td>1457</td>\n",
       "      <td>open</td>\n",
       "      <td>2</td>\n",
       "      <td>fridge</td>\n",
       "      <td>10</td>\n",
       "      <td>['fridge']</td>\n",
       "      <td>[10]</td>\n",
       "    </tr>\n",
       "    <tr>\n",
       "      <th>9</th>\n",
       "      <td>9</td>\n",
       "      <td>P01</td>\n",
       "      <td>P01_01</td>\n",
       "      <td>take carrots and</td>\n",
       "      <td>00:00:24.48</td>\n",
       "      <td>00:00:27.94</td>\n",
       "      <td>1468</td>\n",
       "      <td>1676</td>\n",
       "      <td>take</td>\n",
       "      <td>0</td>\n",
       "      <td>carrot</td>\n",
       "      <td>40</td>\n",
       "      <td>['carrot']</td>\n",
       "      <td>[40]</td>\n",
       "    </tr>\n",
       "    <tr>\n",
       "      <th>10</th>\n",
       "      <td>10</td>\n",
       "      <td>P01</td>\n",
       "      <td>P01_01</td>\n",
       "      <td>open drawer</td>\n",
       "      <td>00:00:24.97</td>\n",
       "      <td>00:00:26.20</td>\n",
       "      <td>1498</td>\n",
       "      <td>1572</td>\n",
       "      <td>open</td>\n",
       "      <td>2</td>\n",
       "      <td>drawer</td>\n",
       "      <td>9</td>\n",
       "      <td>['drawer']</td>\n",
       "      <td>[9]</td>\n",
       "    </tr>\n",
       "    <tr>\n",
       "      <th>11</th>\n",
       "      <td>11</td>\n",
       "      <td>P01</td>\n",
       "      <td>P01_01</td>\n",
       "      <td>close fridge</td>\n",
       "      <td>00:00:29.22</td>\n",
       "      <td>00:00:31.32</td>\n",
       "      <td>1753</td>\n",
       "      <td>1879</td>\n",
       "      <td>close</td>\n",
       "      <td>3</td>\n",
       "      <td>fridge</td>\n",
       "      <td>10</td>\n",
       "      <td>['fridge']</td>\n",
       "      <td>[10]</td>\n",
       "    </tr>\n",
       "    <tr>\n",
       "      <th>12</th>\n",
       "      <td>12</td>\n",
       "      <td>P01</td>\n",
       "      <td>P01_01</td>\n",
       "      <td>put down vegetables</td>\n",
       "      <td>00:00:36.68</td>\n",
       "      <td>00:00:37.78</td>\n",
       "      <td>2200</td>\n",
       "      <td>2266</td>\n",
       "      <td>put-down</td>\n",
       "      <td>1</td>\n",
       "      <td>vegetable</td>\n",
       "      <td>90</td>\n",
       "      <td>['vegetable']</td>\n",
       "      <td>[90]</td>\n",
       "    </tr>\n",
       "    <tr>\n",
       "      <th>13</th>\n",
       "      <td>13</td>\n",
       "      <td>P01</td>\n",
       "      <td>P01_01</td>\n",
       "      <td>open cupboard</td>\n",
       "      <td>00:00:41.79</td>\n",
       "      <td>00:00:42.55</td>\n",
       "      <td>2507</td>\n",
       "      <td>2553</td>\n",
       "      <td>open</td>\n",
       "      <td>2</td>\n",
       "      <td>cupboard</td>\n",
       "      <td>8</td>\n",
       "      <td>['cupboard']</td>\n",
       "      <td>[8]</td>\n",
       "    </tr>\n",
       "    <tr>\n",
       "      <th>14</th>\n",
       "      <td>14</td>\n",
       "      <td>P01</td>\n",
       "      <td>P01_01</td>\n",
       "      <td>take cutting board</td>\n",
       "      <td>00:00:43.20</td>\n",
       "      <td>00:00:46.64</td>\n",
       "      <td>2592</td>\n",
       "      <td>2798</td>\n",
       "      <td>take</td>\n",
       "      <td>0</td>\n",
       "      <td>board:cutting</td>\n",
       "      <td>19</td>\n",
       "      <td>['board:cutting']</td>\n",
       "      <td>[19]</td>\n",
       "    </tr>\n",
       "    <tr>\n",
       "      <th>15</th>\n",
       "      <td>15</td>\n",
       "      <td>P01</td>\n",
       "      <td>P01_01</td>\n",
       "      <td>put down cutting board</td>\n",
       "      <td>00:00:46.45</td>\n",
       "      <td>00:00:47.81</td>\n",
       "      <td>2787</td>\n",
       "      <td>2868</td>\n",
       "      <td>put-down</td>\n",
       "      <td>1</td>\n",
       "      <td>board:cutting</td>\n",
       "      <td>19</td>\n",
       "      <td>['board:cutting']</td>\n",
       "      <td>[19]</td>\n",
       "    </tr>\n",
       "    <tr>\n",
       "      <th>16</th>\n",
       "      <td>16</td>\n",
       "      <td>P01</td>\n",
       "      <td>P01_01</td>\n",
       "      <td>close cupboard</td>\n",
       "      <td>00:00:47.75</td>\n",
       "      <td>00:00:48.76</td>\n",
       "      <td>2865</td>\n",
       "      <td>2925</td>\n",
       "      <td>close</td>\n",
       "      <td>3</td>\n",
       "      <td>cupboard</td>\n",
       "      <td>8</td>\n",
       "      <td>['cupboard']</td>\n",
       "      <td>[8]</td>\n",
       "    </tr>\n",
       "    <tr>\n",
       "      <th>17</th>\n",
       "      <td>17</td>\n",
       "      <td>P01</td>\n",
       "      <td>P01_01</td>\n",
       "      <td>open drawer</td>\n",
       "      <td>00:00:51.66</td>\n",
       "      <td>00:00:53.00</td>\n",
       "      <td>3099</td>\n",
       "      <td>3180</td>\n",
       "      <td>open</td>\n",
       "      <td>2</td>\n",
       "      <td>drawer</td>\n",
       "      <td>9</td>\n",
       "      <td>['drawer']</td>\n",
       "      <td>[9]</td>\n",
       "    </tr>\n",
       "    <tr>\n",
       "      <th>18</th>\n",
       "      <td>18</td>\n",
       "      <td>P01</td>\n",
       "      <td>P01_01</td>\n",
       "      <td>take knife</td>\n",
       "      <td>00:00:53.50</td>\n",
       "      <td>00:00:56.00</td>\n",
       "      <td>3210</td>\n",
       "      <td>3360</td>\n",
       "      <td>take</td>\n",
       "      <td>0</td>\n",
       "      <td>knife</td>\n",
       "      <td>5</td>\n",
       "      <td>['knife']</td>\n",
       "      <td>[5]</td>\n",
       "    </tr>\n",
       "    <tr>\n",
       "      <th>19</th>\n",
       "      <td>19</td>\n",
       "      <td>P01</td>\n",
       "      <td>P01_01</td>\n",
       "      <td>take knife</td>\n",
       "      <td>00:00:53.55</td>\n",
       "      <td>00:00:54.36</td>\n",
       "      <td>3213</td>\n",
       "      <td>3261</td>\n",
       "      <td>take</td>\n",
       "      <td>0</td>\n",
       "      <td>knife</td>\n",
       "      <td>5</td>\n",
       "      <td>['knife']</td>\n",
       "      <td>[5]</td>\n",
       "    </tr>\n",
       "    <tr>\n",
       "      <th>20</th>\n",
       "      <td>20</td>\n",
       "      <td>P01</td>\n",
       "      <td>P01_01</td>\n",
       "      <td>put down knife</td>\n",
       "      <td>00:00:54.73</td>\n",
       "      <td>00:00:55.74</td>\n",
       "      <td>3283</td>\n",
       "      <td>3344</td>\n",
       "      <td>put-down</td>\n",
       "      <td>1</td>\n",
       "      <td>knife</td>\n",
       "      <td>5</td>\n",
       "      <td>['knife']</td>\n",
       "      <td>[5]</td>\n",
       "    </tr>\n",
       "    <tr>\n",
       "      <th>21</th>\n",
       "      <td>21</td>\n",
       "      <td>P01</td>\n",
       "      <td>P01_01</td>\n",
       "      <td>close drawer</td>\n",
       "      <td>00:00:56.10</td>\n",
       "      <td>00:00:56.60</td>\n",
       "      <td>3366</td>\n",
       "      <td>3396</td>\n",
       "      <td>close</td>\n",
       "      <td>3</td>\n",
       "      <td>drawer</td>\n",
       "      <td>9</td>\n",
       "      <td>['drawer']</td>\n",
       "      <td>[9]</td>\n",
       "    </tr>\n",
       "    <tr>\n",
       "      <th>22</th>\n",
       "      <td>22</td>\n",
       "      <td>P01</td>\n",
       "      <td>P01_01</td>\n",
       "      <td>put down knife</td>\n",
       "      <td>00:00:57.45</td>\n",
       "      <td>00:00:58.70</td>\n",
       "      <td>3447</td>\n",
       "      <td>3522</td>\n",
       "      <td>put-down</td>\n",
       "      <td>1</td>\n",
       "      <td>knife</td>\n",
       "      <td>5</td>\n",
       "      <td>['knife']</td>\n",
       "      <td>[5]</td>\n",
       "    </tr>\n",
       "    <tr>\n",
       "      <th>23</th>\n",
       "      <td>23</td>\n",
       "      <td>P01</td>\n",
       "      <td>P01_01</td>\n",
       "      <td>open tap</td>\n",
       "      <td>00:00:59.05</td>\n",
       "      <td>00:01:02.30</td>\n",
       "      <td>3543</td>\n",
       "      <td>3738</td>\n",
       "      <td>open</td>\n",
       "      <td>2</td>\n",
       "      <td>tap</td>\n",
       "      <td>3</td>\n",
       "      <td>['tap']</td>\n",
       "      <td>[3]</td>\n",
       "    </tr>\n",
       "    <tr>\n",
       "      <th>24</th>\n",
       "      <td>24</td>\n",
       "      <td>P01</td>\n",
       "      <td>P01_01</td>\n",
       "      <td>wash courgette</td>\n",
       "      <td>00:01:01.86</td>\n",
       "      <td>00:01:05.23</td>\n",
       "      <td>3711</td>\n",
       "      <td>3913</td>\n",
       "      <td>wash</td>\n",
       "      <td>4</td>\n",
       "      <td>courgette</td>\n",
       "      <td>69</td>\n",
       "      <td>['courgette']</td>\n",
       "      <td>[69]</td>\n",
       "    </tr>\n",
       "    <tr>\n",
       "      <th>25</th>\n",
       "      <td>25</td>\n",
       "      <td>P01</td>\n",
       "      <td>P01_01</td>\n",
       "      <td>still washing courgette</td>\n",
       "      <td>00:01:05.20</td>\n",
       "      <td>00:01:13.13</td>\n",
       "      <td>3912</td>\n",
       "      <td>4387</td>\n",
       "      <td>wash</td>\n",
       "      <td>4</td>\n",
       "      <td>courgette</td>\n",
       "      <td>69</td>\n",
       "      <td>['courgette']</td>\n",
       "      <td>[69]</td>\n",
       "    </tr>\n",
       "    <tr>\n",
       "      <th>26</th>\n",
       "      <td>26</td>\n",
       "      <td>P01</td>\n",
       "      <td>P01_01</td>\n",
       "      <td>wash carrot</td>\n",
       "      <td>00:01:14.29</td>\n",
       "      <td>00:01:18.89</td>\n",
       "      <td>4457</td>\n",
       "      <td>4733</td>\n",
       "      <td>wash</td>\n",
       "      <td>4</td>\n",
       "      <td>carrot</td>\n",
       "      <td>40</td>\n",
       "      <td>['carrot']</td>\n",
       "      <td>[40]</td>\n",
       "    </tr>\n",
       "    <tr>\n",
       "      <th>27</th>\n",
       "      <td>27</td>\n",
       "      <td>P01</td>\n",
       "      <td>P01_01</td>\n",
       "      <td>still washing carrot</td>\n",
       "      <td>00:01:18.99</td>\n",
       "      <td>00:01:22.79</td>\n",
       "      <td>4739</td>\n",
       "      <td>4967</td>\n",
       "      <td>wash</td>\n",
       "      <td>4</td>\n",
       "      <td>carrot</td>\n",
       "      <td>40</td>\n",
       "      <td>['carrot']</td>\n",
       "      <td>[40]</td>\n",
       "    </tr>\n",
       "    <tr>\n",
       "      <th>28</th>\n",
       "      <td>28</td>\n",
       "      <td>P01</td>\n",
       "      <td>P01_01</td>\n",
       "      <td>close tap</td>\n",
       "      <td>00:01:22.19</td>\n",
       "      <td>00:01:23.19</td>\n",
       "      <td>4931</td>\n",
       "      <td>4991</td>\n",
       "      <td>close</td>\n",
       "      <td>3</td>\n",
       "      <td>tap</td>\n",
       "      <td>3</td>\n",
       "      <td>['tap']</td>\n",
       "      <td>[3]</td>\n",
       "    </tr>\n",
       "    <tr>\n",
       "      <th>29</th>\n",
       "      <td>29</td>\n",
       "      <td>P01</td>\n",
       "      <td>P01_01</td>\n",
       "      <td>put down vegetables</td>\n",
       "      <td>00:01:25.49</td>\n",
       "      <td>00:01:26.49</td>\n",
       "      <td>5129</td>\n",
       "      <td>5189</td>\n",
       "      <td>put-down</td>\n",
       "      <td>1</td>\n",
       "      <td>vegetable</td>\n",
       "      <td>90</td>\n",
       "      <td>['vegetable']</td>\n",
       "      <td>[90]</td>\n",
       "    </tr>\n",
       "    <tr>\n",
       "      <th>...</th>\n",
       "      <td>...</td>\n",
       "      <td>...</td>\n",
       "      <td>...</td>\n",
       "      <td>...</td>\n",
       "      <td>...</td>\n",
       "      <td>...</td>\n",
       "      <td>...</td>\n",
       "      <td>...</td>\n",
       "      <td>...</td>\n",
       "      <td>...</td>\n",
       "      <td>...</td>\n",
       "      <td>...</td>\n",
       "      <td>...</td>\n",
       "      <td>...</td>\n",
       "    </tr>\n",
       "    <tr>\n",
       "      <th>28442</th>\n",
       "      <td>39207</td>\n",
       "      <td>P31</td>\n",
       "      <td>P31_13</td>\n",
       "      <td>throw away paper</td>\n",
       "      <td>00:10:33.21</td>\n",
       "      <td>00:10:34.92</td>\n",
       "      <td>37992</td>\n",
       "      <td>38095</td>\n",
       "      <td>throw-away</td>\n",
       "      <td>8</td>\n",
       "      <td>paper</td>\n",
       "      <td>81</td>\n",
       "      <td>['paper']</td>\n",
       "      <td>[81]</td>\n",
       "    </tr>\n",
       "    <tr>\n",
       "      <th>28443</th>\n",
       "      <td>39208</td>\n",
       "      <td>P31</td>\n",
       "      <td>P31_13</td>\n",
       "      <td>throw away cork</td>\n",
       "      <td>00:10:35.72</td>\n",
       "      <td>00:10:37.70</td>\n",
       "      <td>38143</td>\n",
       "      <td>38262</td>\n",
       "      <td>throw</td>\n",
       "      <td>8</td>\n",
       "      <td>cork</td>\n",
       "      <td>289</td>\n",
       "      <td>['cork']</td>\n",
       "      <td>[289]</td>\n",
       "    </tr>\n",
       "    <tr>\n",
       "      <th>28444</th>\n",
       "      <td>39209</td>\n",
       "      <td>P31</td>\n",
       "      <td>P31_13</td>\n",
       "      <td>open drawer</td>\n",
       "      <td>00:10:44.60</td>\n",
       "      <td>00:10:45.68</td>\n",
       "      <td>38676</td>\n",
       "      <td>38740</td>\n",
       "      <td>open</td>\n",
       "      <td>2</td>\n",
       "      <td>drawer</td>\n",
       "      <td>9</td>\n",
       "      <td>['drawer']</td>\n",
       "      <td>[9]</td>\n",
       "    </tr>\n",
       "    <tr>\n",
       "      <th>28445</th>\n",
       "      <td>39210</td>\n",
       "      <td>P31</td>\n",
       "      <td>P31_13</td>\n",
       "      <td>put down bottle opener</td>\n",
       "      <td>00:10:45.78</td>\n",
       "      <td>00:10:47.57</td>\n",
       "      <td>38746</td>\n",
       "      <td>38854</td>\n",
       "      <td>put-down</td>\n",
       "      <td>1</td>\n",
       "      <td>opener:bottle</td>\n",
       "      <td>203</td>\n",
       "      <td>['opener:bottle']</td>\n",
       "      <td>[203]</td>\n",
       "    </tr>\n",
       "    <tr>\n",
       "      <th>28446</th>\n",
       "      <td>39211</td>\n",
       "      <td>P31</td>\n",
       "      <td>P31_14</td>\n",
       "      <td>take paper</td>\n",
       "      <td>00:00:01.85</td>\n",
       "      <td>00:00:03.22</td>\n",
       "      <td>111</td>\n",
       "      <td>193</td>\n",
       "      <td>take</td>\n",
       "      <td>0</td>\n",
       "      <td>paper</td>\n",
       "      <td>81</td>\n",
       "      <td>['paper']</td>\n",
       "      <td>[81]</td>\n",
       "    </tr>\n",
       "    <tr>\n",
       "      <th>28447</th>\n",
       "      <td>39212</td>\n",
       "      <td>P31</td>\n",
       "      <td>P31_14</td>\n",
       "      <td>take cutlery</td>\n",
       "      <td>00:00:03.32</td>\n",
       "      <td>00:00:08.76</td>\n",
       "      <td>199</td>\n",
       "      <td>525</td>\n",
       "      <td>take</td>\n",
       "      <td>0</td>\n",
       "      <td>cutlery</td>\n",
       "      <td>75</td>\n",
       "      <td>['cutlery']</td>\n",
       "      <td>[75]</td>\n",
       "    </tr>\n",
       "    <tr>\n",
       "      <th>28448</th>\n",
       "      <td>39213</td>\n",
       "      <td>P31</td>\n",
       "      <td>P31_14</td>\n",
       "      <td>throw paper</td>\n",
       "      <td>00:00:09.84</td>\n",
       "      <td>00:00:11.19</td>\n",
       "      <td>590</td>\n",
       "      <td>671</td>\n",
       "      <td>throw</td>\n",
       "      <td>8</td>\n",
       "      <td>paper</td>\n",
       "      <td>81</td>\n",
       "      <td>['paper']</td>\n",
       "      <td>[81]</td>\n",
       "    </tr>\n",
       "    <tr>\n",
       "      <th>28449</th>\n",
       "      <td>39214</td>\n",
       "      <td>P31</td>\n",
       "      <td>P31_14</td>\n",
       "      <td>throw bowl</td>\n",
       "      <td>00:00:13.20</td>\n",
       "      <td>00:00:16.79</td>\n",
       "      <td>792</td>\n",
       "      <td>1007</td>\n",
       "      <td>throw</td>\n",
       "      <td>8</td>\n",
       "      <td>bowl</td>\n",
       "      <td>6</td>\n",
       "      <td>['bowl']</td>\n",
       "      <td>[6]</td>\n",
       "    </tr>\n",
       "    <tr>\n",
       "      <th>28450</th>\n",
       "      <td>39215</td>\n",
       "      <td>P31</td>\n",
       "      <td>P31_14</td>\n",
       "      <td>shake</td>\n",
       "      <td>00:00:21.30</td>\n",
       "      <td>00:00:25.79</td>\n",
       "      <td>1278</td>\n",
       "      <td>1547</td>\n",
       "      <td>shake</td>\n",
       "      <td>14</td>\n",
       "      <td>bowl</td>\n",
       "      <td>6</td>\n",
       "      <td>['bowl']</td>\n",
       "      <td>[6]</td>\n",
       "    </tr>\n",
       "    <tr>\n",
       "      <th>28451</th>\n",
       "      <td>39216</td>\n",
       "      <td>P31</td>\n",
       "      <td>P31_14</td>\n",
       "      <td>open fridge</td>\n",
       "      <td>00:00:35.61</td>\n",
       "      <td>00:00:37.90</td>\n",
       "      <td>2136</td>\n",
       "      <td>2274</td>\n",
       "      <td>open</td>\n",
       "      <td>2</td>\n",
       "      <td>fridge</td>\n",
       "      <td>10</td>\n",
       "      <td>['fridge']</td>\n",
       "      <td>[10]</td>\n",
       "    </tr>\n",
       "    <tr>\n",
       "      <th>28452</th>\n",
       "      <td>39217</td>\n",
       "      <td>P31</td>\n",
       "      <td>P31_14</td>\n",
       "      <td>put down beer</td>\n",
       "      <td>00:00:36.80</td>\n",
       "      <td>00:00:41.31</td>\n",
       "      <td>2208</td>\n",
       "      <td>2478</td>\n",
       "      <td>put-down</td>\n",
       "      <td>1</td>\n",
       "      <td>beer</td>\n",
       "      <td>274</td>\n",
       "      <td>['beer']</td>\n",
       "      <td>[274]</td>\n",
       "    </tr>\n",
       "    <tr>\n",
       "      <th>28453</th>\n",
       "      <td>39218</td>\n",
       "      <td>P31</td>\n",
       "      <td>P31_14</td>\n",
       "      <td>turn on tap</td>\n",
       "      <td>00:00:49.95</td>\n",
       "      <td>00:00:51.59</td>\n",
       "      <td>2997</td>\n",
       "      <td>3095</td>\n",
       "      <td>turn-on</td>\n",
       "      <td>12</td>\n",
       "      <td>tap</td>\n",
       "      <td>3</td>\n",
       "      <td>['tap']</td>\n",
       "      <td>[3]</td>\n",
       "    </tr>\n",
       "    <tr>\n",
       "      <th>28454</th>\n",
       "      <td>39219</td>\n",
       "      <td>P31</td>\n",
       "      <td>P31_14</td>\n",
       "      <td>pour washing up liquid</td>\n",
       "      <td>00:00:56.94</td>\n",
       "      <td>00:00:59.25</td>\n",
       "      <td>3416</td>\n",
       "      <td>3555</td>\n",
       "      <td>pour-up</td>\n",
       "      <td>7</td>\n",
       "      <td>liquid</td>\n",
       "      <td>71</td>\n",
       "      <td>['liquid']</td>\n",
       "      <td>[71]</td>\n",
       "    </tr>\n",
       "    <tr>\n",
       "      <th>28455</th>\n",
       "      <td>39220</td>\n",
       "      <td>P31</td>\n",
       "      <td>P31_14</td>\n",
       "      <td>wash tablecloth</td>\n",
       "      <td>00:01:03.01</td>\n",
       "      <td>00:01:11.14</td>\n",
       "      <td>3780</td>\n",
       "      <td>4268</td>\n",
       "      <td>wash</td>\n",
       "      <td>4</td>\n",
       "      <td>tablecloth</td>\n",
       "      <td>153</td>\n",
       "      <td>['tablecloth']</td>\n",
       "      <td>[153]</td>\n",
       "    </tr>\n",
       "    <tr>\n",
       "      <th>28456</th>\n",
       "      <td>39221</td>\n",
       "      <td>P31</td>\n",
       "      <td>P31_14</td>\n",
       "      <td>rinse sponge</td>\n",
       "      <td>00:01:11.73</td>\n",
       "      <td>00:01:14.17</td>\n",
       "      <td>4303</td>\n",
       "      <td>4450</td>\n",
       "      <td>rinse</td>\n",
       "      <td>4</td>\n",
       "      <td>sponge</td>\n",
       "      <td>21</td>\n",
       "      <td>['sponge']</td>\n",
       "      <td>[21]</td>\n",
       "    </tr>\n",
       "    <tr>\n",
       "      <th>28457</th>\n",
       "      <td>39222</td>\n",
       "      <td>P31</td>\n",
       "      <td>P31_14</td>\n",
       "      <td>toss dirty water</td>\n",
       "      <td>00:01:27.73</td>\n",
       "      <td>00:01:28.25</td>\n",
       "      <td>5263</td>\n",
       "      <td>5295</td>\n",
       "      <td>toss</td>\n",
       "      <td>8</td>\n",
       "      <td>water:dirty</td>\n",
       "      <td>17</td>\n",
       "      <td>['water:dirty']</td>\n",
       "      <td>[17]</td>\n",
       "    </tr>\n",
       "    <tr>\n",
       "      <th>28458</th>\n",
       "      <td>39223</td>\n",
       "      <td>P31</td>\n",
       "      <td>P31_14</td>\n",
       "      <td>rinse sponge</td>\n",
       "      <td>00:02:18.51</td>\n",
       "      <td>00:02:19.22</td>\n",
       "      <td>8310</td>\n",
       "      <td>8353</td>\n",
       "      <td>rinse</td>\n",
       "      <td>4</td>\n",
       "      <td>sponge</td>\n",
       "      <td>21</td>\n",
       "      <td>['sponge']</td>\n",
       "      <td>[21]</td>\n",
       "    </tr>\n",
       "    <tr>\n",
       "      <th>28459</th>\n",
       "      <td>39224</td>\n",
       "      <td>P31</td>\n",
       "      <td>P31_14</td>\n",
       "      <td>clean sink</td>\n",
       "      <td>00:02:20.12</td>\n",
       "      <td>00:02:25.38</td>\n",
       "      <td>8407</td>\n",
       "      <td>8722</td>\n",
       "      <td>clean</td>\n",
       "      <td>4</td>\n",
       "      <td>sink</td>\n",
       "      <td>33</td>\n",
       "      <td>['sink']</td>\n",
       "      <td>[33]</td>\n",
       "    </tr>\n",
       "    <tr>\n",
       "      <th>28460</th>\n",
       "      <td>39225</td>\n",
       "      <td>P31</td>\n",
       "      <td>P31_14</td>\n",
       "      <td>toss salad</td>\n",
       "      <td>00:02:28.28</td>\n",
       "      <td>00:02:29.01</td>\n",
       "      <td>8896</td>\n",
       "      <td>8940</td>\n",
       "      <td>toss</td>\n",
       "      <td>8</td>\n",
       "      <td>salad</td>\n",
       "      <td>54</td>\n",
       "      <td>['salad']</td>\n",
       "      <td>[54]</td>\n",
       "    </tr>\n",
       "    <tr>\n",
       "      <th>28461</th>\n",
       "      <td>39226</td>\n",
       "      <td>P31</td>\n",
       "      <td>P31_14</td>\n",
       "      <td>wash silverware</td>\n",
       "      <td>00:02:29.74</td>\n",
       "      <td>00:02:46.89</td>\n",
       "      <td>8984</td>\n",
       "      <td>10013</td>\n",
       "      <td>wash</td>\n",
       "      <td>4</td>\n",
       "      <td>silverware</td>\n",
       "      <td>75</td>\n",
       "      <td>['silverware']</td>\n",
       "      <td>[75]</td>\n",
       "    </tr>\n",
       "    <tr>\n",
       "      <th>28462</th>\n",
       "      <td>39227</td>\n",
       "      <td>P31</td>\n",
       "      <td>P31_14</td>\n",
       "      <td>wash fork</td>\n",
       "      <td>00:02:30.00</td>\n",
       "      <td>00:02:46.98</td>\n",
       "      <td>9000</td>\n",
       "      <td>10018</td>\n",
       "      <td>wash</td>\n",
       "      <td>4</td>\n",
       "      <td>fork</td>\n",
       "      <td>18</td>\n",
       "      <td>['fork']</td>\n",
       "      <td>[18]</td>\n",
       "    </tr>\n",
       "    <tr>\n",
       "      <th>28463</th>\n",
       "      <td>39228</td>\n",
       "      <td>P31</td>\n",
       "      <td>P31_14</td>\n",
       "      <td>wash knife</td>\n",
       "      <td>00:02:47.08</td>\n",
       "      <td>00:03:14.20</td>\n",
       "      <td>10024</td>\n",
       "      <td>11652</td>\n",
       "      <td>wash</td>\n",
       "      <td>4</td>\n",
       "      <td>knife</td>\n",
       "      <td>5</td>\n",
       "      <td>['knife']</td>\n",
       "      <td>[5]</td>\n",
       "    </tr>\n",
       "    <tr>\n",
       "      <th>28464</th>\n",
       "      <td>39229</td>\n",
       "      <td>P31</td>\n",
       "      <td>P31_14</td>\n",
       "      <td>wash teaspoon</td>\n",
       "      <td>00:03:14.30</td>\n",
       "      <td>00:03:23.37</td>\n",
       "      <td>11658</td>\n",
       "      <td>12202</td>\n",
       "      <td>wash</td>\n",
       "      <td>4</td>\n",
       "      <td>teaspoon</td>\n",
       "      <td>7</td>\n",
       "      <td>['teaspoon']</td>\n",
       "      <td>[7]</td>\n",
       "    </tr>\n",
       "    <tr>\n",
       "      <th>28465</th>\n",
       "      <td>39230</td>\n",
       "      <td>P31</td>\n",
       "      <td>P31_14</td>\n",
       "      <td>wash tablespoon</td>\n",
       "      <td>00:03:23.44</td>\n",
       "      <td>00:03:38.86</td>\n",
       "      <td>12206</td>\n",
       "      <td>13131</td>\n",
       "      <td>wash</td>\n",
       "      <td>4</td>\n",
       "      <td>tablespoon</td>\n",
       "      <td>7</td>\n",
       "      <td>['tablespoon']</td>\n",
       "      <td>[7]</td>\n",
       "    </tr>\n",
       "    <tr>\n",
       "      <th>28466</th>\n",
       "      <td>39231</td>\n",
       "      <td>P31</td>\n",
       "      <td>P31_14</td>\n",
       "      <td>wash knife</td>\n",
       "      <td>00:03:36.50</td>\n",
       "      <td>00:03:53.32</td>\n",
       "      <td>12990</td>\n",
       "      <td>13999</td>\n",
       "      <td>wash</td>\n",
       "      <td>4</td>\n",
       "      <td>knife</td>\n",
       "      <td>5</td>\n",
       "      <td>['knife']</td>\n",
       "      <td>[5]</td>\n",
       "    </tr>\n",
       "    <tr>\n",
       "      <th>28467</th>\n",
       "      <td>39232</td>\n",
       "      <td>P31</td>\n",
       "      <td>P31_14</td>\n",
       "      <td>wash glass</td>\n",
       "      <td>00:03:53.19</td>\n",
       "      <td>00:04:17.71</td>\n",
       "      <td>13991</td>\n",
       "      <td>15462</td>\n",
       "      <td>wash</td>\n",
       "      <td>4</td>\n",
       "      <td>glass</td>\n",
       "      <td>16</td>\n",
       "      <td>['glass']</td>\n",
       "      <td>[16]</td>\n",
       "    </tr>\n",
       "    <tr>\n",
       "      <th>28468</th>\n",
       "      <td>39233</td>\n",
       "      <td>P31</td>\n",
       "      <td>P31_14</td>\n",
       "      <td>dry hands</td>\n",
       "      <td>00:04:51.21</td>\n",
       "      <td>00:04:58.93</td>\n",
       "      <td>17472</td>\n",
       "      <td>17935</td>\n",
       "      <td>dry</td>\n",
       "      <td>11</td>\n",
       "      <td>hand</td>\n",
       "      <td>12</td>\n",
       "      <td>['hand']</td>\n",
       "      <td>[12]</td>\n",
       "    </tr>\n",
       "    <tr>\n",
       "      <th>28469</th>\n",
       "      <td>39234</td>\n",
       "      <td>P31</td>\n",
       "      <td>P31_14</td>\n",
       "      <td>pick up napkins</td>\n",
       "      <td>00:04:59.53</td>\n",
       "      <td>00:05:02.24</td>\n",
       "      <td>17971</td>\n",
       "      <td>18134</td>\n",
       "      <td>pick-up</td>\n",
       "      <td>0</td>\n",
       "      <td>napkin</td>\n",
       "      <td>97</td>\n",
       "      <td>['napkin']</td>\n",
       "      <td>[97]</td>\n",
       "    </tr>\n",
       "    <tr>\n",
       "      <th>28470</th>\n",
       "      <td>39235</td>\n",
       "      <td>P31</td>\n",
       "      <td>P31_14</td>\n",
       "      <td>put down napkins</td>\n",
       "      <td>00:05:02.34</td>\n",
       "      <td>00:05:10.76</td>\n",
       "      <td>18140</td>\n",
       "      <td>18645</td>\n",
       "      <td>put-down</td>\n",
       "      <td>1</td>\n",
       "      <td>napkin</td>\n",
       "      <td>97</td>\n",
       "      <td>['napkin']</td>\n",
       "      <td>[97]</td>\n",
       "    </tr>\n",
       "    <tr>\n",
       "      <th>28471</th>\n",
       "      <td>39236</td>\n",
       "      <td>P31</td>\n",
       "      <td>P31_14</td>\n",
       "      <td>close door</td>\n",
       "      <td>00:05:10.86</td>\n",
       "      <td>00:05:12.08</td>\n",
       "      <td>18651</td>\n",
       "      <td>18724</td>\n",
       "      <td>close</td>\n",
       "      <td>3</td>\n",
       "      <td>door</td>\n",
       "      <td>8</td>\n",
       "      <td>['door']</td>\n",
       "      <td>[8]</td>\n",
       "    </tr>\n",
       "  </tbody>\n",
       "</table>\n",
       "<p>28472 rows × 14 columns</p>\n",
       "</div>"
      ],
      "text/plain": [
       "         uid participant_id video_id                narration start_timestamp  \\\n",
       "0          0            P01   P01_01                open door     00:00:00.14   \n",
       "1          1            P01   P01_01            turn on light     00:00:04.37   \n",
       "2          2            P01   P01_01               close door     00:00:06.98   \n",
       "3          3            P01   P01_01              open fridge     00:00:12.77   \n",
       "4          4            P01   P01_01              take celery     00:00:15.25   \n",
       "5          5            P01   P01_01           take container     00:00:16.50   \n",
       "6          6            P01   P01_01                take tofu     00:00:18.19   \n",
       "7          7            P01   P01_01             close fridge     00:00:21.91   \n",
       "8          8            P01   P01_01              open fridge     00:00:23.18   \n",
       "9          9            P01   P01_01         take carrots and     00:00:24.48   \n",
       "10        10            P01   P01_01              open drawer     00:00:24.97   \n",
       "11        11            P01   P01_01             close fridge     00:00:29.22   \n",
       "12        12            P01   P01_01      put down vegetables     00:00:36.68   \n",
       "13        13            P01   P01_01            open cupboard     00:00:41.79   \n",
       "14        14            P01   P01_01       take cutting board     00:00:43.20   \n",
       "15        15            P01   P01_01   put down cutting board     00:00:46.45   \n",
       "16        16            P01   P01_01           close cupboard     00:00:47.75   \n",
       "17        17            P01   P01_01              open drawer     00:00:51.66   \n",
       "18        18            P01   P01_01               take knife     00:00:53.50   \n",
       "19        19            P01   P01_01               take knife     00:00:53.55   \n",
       "20        20            P01   P01_01           put down knife     00:00:54.73   \n",
       "21        21            P01   P01_01             close drawer     00:00:56.10   \n",
       "22        22            P01   P01_01           put down knife     00:00:57.45   \n",
       "23        23            P01   P01_01                 open tap     00:00:59.05   \n",
       "24        24            P01   P01_01           wash courgette     00:01:01.86   \n",
       "25        25            P01   P01_01  still washing courgette     00:01:05.20   \n",
       "26        26            P01   P01_01              wash carrot     00:01:14.29   \n",
       "27        27            P01   P01_01     still washing carrot     00:01:18.99   \n",
       "28        28            P01   P01_01                close tap     00:01:22.19   \n",
       "29        29            P01   P01_01      put down vegetables     00:01:25.49   \n",
       "...      ...            ...      ...                      ...             ...   \n",
       "28442  39207            P31   P31_13         throw away paper     00:10:33.21   \n",
       "28443  39208            P31   P31_13          throw away cork     00:10:35.72   \n",
       "28444  39209            P31   P31_13              open drawer     00:10:44.60   \n",
       "28445  39210            P31   P31_13   put down bottle opener     00:10:45.78   \n",
       "28446  39211            P31   P31_14               take paper     00:00:01.85   \n",
       "28447  39212            P31   P31_14             take cutlery     00:00:03.32   \n",
       "28448  39213            P31   P31_14              throw paper     00:00:09.84   \n",
       "28449  39214            P31   P31_14               throw bowl     00:00:13.20   \n",
       "28450  39215            P31   P31_14                    shake     00:00:21.30   \n",
       "28451  39216            P31   P31_14              open fridge     00:00:35.61   \n",
       "28452  39217            P31   P31_14            put down beer     00:00:36.80   \n",
       "28453  39218            P31   P31_14              turn on tap     00:00:49.95   \n",
       "28454  39219            P31   P31_14   pour washing up liquid     00:00:56.94   \n",
       "28455  39220            P31   P31_14          wash tablecloth     00:01:03.01   \n",
       "28456  39221            P31   P31_14             rinse sponge     00:01:11.73   \n",
       "28457  39222            P31   P31_14         toss dirty water     00:01:27.73   \n",
       "28458  39223            P31   P31_14             rinse sponge     00:02:18.51   \n",
       "28459  39224            P31   P31_14               clean sink     00:02:20.12   \n",
       "28460  39225            P31   P31_14               toss salad     00:02:28.28   \n",
       "28461  39226            P31   P31_14          wash silverware     00:02:29.74   \n",
       "28462  39227            P31   P31_14                wash fork     00:02:30.00   \n",
       "28463  39228            P31   P31_14               wash knife     00:02:47.08   \n",
       "28464  39229            P31   P31_14            wash teaspoon     00:03:14.30   \n",
       "28465  39230            P31   P31_14          wash tablespoon     00:03:23.44   \n",
       "28466  39231            P31   P31_14               wash knife     00:03:36.50   \n",
       "28467  39232            P31   P31_14               wash glass     00:03:53.19   \n",
       "28468  39233            P31   P31_14                dry hands     00:04:51.21   \n",
       "28469  39234            P31   P31_14          pick up napkins     00:04:59.53   \n",
       "28470  39235            P31   P31_14         put down napkins     00:05:02.34   \n",
       "28471  39236            P31   P31_14               close door     00:05:10.86   \n",
       "\n",
       "      stop_timestamp  start_frame  stop_frame        verb  verb_class  \\\n",
       "0        00:00:03.37            8         202        open           2   \n",
       "1        00:00:06.17          262         370     turn-on          12   \n",
       "2        00:00:09.49          418         569       close           3   \n",
       "3        00:00:13.99          766         839        open           2   \n",
       "4        00:00:16.40          915         983        take           0   \n",
       "5        00:00:18.06          990        1083        take           0   \n",
       "6        00:00:21.14         1091        1268        take           0   \n",
       "7        00:00:23.33         1314        1399       close           3   \n",
       "8        00:00:24.29         1390        1457        open           2   \n",
       "9        00:00:27.94         1468        1676        take           0   \n",
       "10       00:00:26.20         1498        1572        open           2   \n",
       "11       00:00:31.32         1753        1879       close           3   \n",
       "12       00:00:37.78         2200        2266    put-down           1   \n",
       "13       00:00:42.55         2507        2553        open           2   \n",
       "14       00:00:46.64         2592        2798        take           0   \n",
       "15       00:00:47.81         2787        2868    put-down           1   \n",
       "16       00:00:48.76         2865        2925       close           3   \n",
       "17       00:00:53.00         3099        3180        open           2   \n",
       "18       00:00:56.00         3210        3360        take           0   \n",
       "19       00:00:54.36         3213        3261        take           0   \n",
       "20       00:00:55.74         3283        3344    put-down           1   \n",
       "21       00:00:56.60         3366        3396       close           3   \n",
       "22       00:00:58.70         3447        3522    put-down           1   \n",
       "23       00:01:02.30         3543        3738        open           2   \n",
       "24       00:01:05.23         3711        3913        wash           4   \n",
       "25       00:01:13.13         3912        4387        wash           4   \n",
       "26       00:01:18.89         4457        4733        wash           4   \n",
       "27       00:01:22.79         4739        4967        wash           4   \n",
       "28       00:01:23.19         4931        4991       close           3   \n",
       "29       00:01:26.49         5129        5189    put-down           1   \n",
       "...              ...          ...         ...         ...         ...   \n",
       "28442    00:10:34.92        37992       38095  throw-away           8   \n",
       "28443    00:10:37.70        38143       38262       throw           8   \n",
       "28444    00:10:45.68        38676       38740        open           2   \n",
       "28445    00:10:47.57        38746       38854    put-down           1   \n",
       "28446    00:00:03.22          111         193        take           0   \n",
       "28447    00:00:08.76          199         525        take           0   \n",
       "28448    00:00:11.19          590         671       throw           8   \n",
       "28449    00:00:16.79          792        1007       throw           8   \n",
       "28450    00:00:25.79         1278        1547       shake          14   \n",
       "28451    00:00:37.90         2136        2274        open           2   \n",
       "28452    00:00:41.31         2208        2478    put-down           1   \n",
       "28453    00:00:51.59         2997        3095     turn-on          12   \n",
       "28454    00:00:59.25         3416        3555     pour-up           7   \n",
       "28455    00:01:11.14         3780        4268        wash           4   \n",
       "28456    00:01:14.17         4303        4450       rinse           4   \n",
       "28457    00:01:28.25         5263        5295        toss           8   \n",
       "28458    00:02:19.22         8310        8353       rinse           4   \n",
       "28459    00:02:25.38         8407        8722       clean           4   \n",
       "28460    00:02:29.01         8896        8940        toss           8   \n",
       "28461    00:02:46.89         8984       10013        wash           4   \n",
       "28462    00:02:46.98         9000       10018        wash           4   \n",
       "28463    00:03:14.20        10024       11652        wash           4   \n",
       "28464    00:03:23.37        11658       12202        wash           4   \n",
       "28465    00:03:38.86        12206       13131        wash           4   \n",
       "28466    00:03:53.32        12990       13999        wash           4   \n",
       "28467    00:04:17.71        13991       15462        wash           4   \n",
       "28468    00:04:58.93        17472       17935         dry          11   \n",
       "28469    00:05:02.24        17971       18134     pick-up           0   \n",
       "28470    00:05:10.76        18140       18645    put-down           1   \n",
       "28471    00:05:12.08        18651       18724       close           3   \n",
       "\n",
       "                noun  noun_class          all_nouns all_noun_classes  \n",
       "0               door           8           ['door']              [8]  \n",
       "1              light         113          ['light']            [113]  \n",
       "2               door           8           ['door']              [8]  \n",
       "3             fridge          10         ['fridge']             [10]  \n",
       "4             celery         185         ['celery']            [185]  \n",
       "5          container          29      ['container']             [29]  \n",
       "6               tofu         159           ['tofu']            [159]  \n",
       "7             fridge          10         ['fridge']             [10]  \n",
       "8             fridge          10         ['fridge']             [10]  \n",
       "9             carrot          40         ['carrot']             [40]  \n",
       "10            drawer           9         ['drawer']              [9]  \n",
       "11            fridge          10         ['fridge']             [10]  \n",
       "12         vegetable          90      ['vegetable']             [90]  \n",
       "13          cupboard           8       ['cupboard']              [8]  \n",
       "14     board:cutting          19  ['board:cutting']             [19]  \n",
       "15     board:cutting          19  ['board:cutting']             [19]  \n",
       "16          cupboard           8       ['cupboard']              [8]  \n",
       "17            drawer           9         ['drawer']              [9]  \n",
       "18             knife           5          ['knife']              [5]  \n",
       "19             knife           5          ['knife']              [5]  \n",
       "20             knife           5          ['knife']              [5]  \n",
       "21            drawer           9         ['drawer']              [9]  \n",
       "22             knife           5          ['knife']              [5]  \n",
       "23               tap           3            ['tap']              [3]  \n",
       "24         courgette          69      ['courgette']             [69]  \n",
       "25         courgette          69      ['courgette']             [69]  \n",
       "26            carrot          40         ['carrot']             [40]  \n",
       "27            carrot          40         ['carrot']             [40]  \n",
       "28               tap           3            ['tap']              [3]  \n",
       "29         vegetable          90      ['vegetable']             [90]  \n",
       "...              ...         ...                ...              ...  \n",
       "28442          paper          81          ['paper']             [81]  \n",
       "28443           cork         289           ['cork']            [289]  \n",
       "28444         drawer           9         ['drawer']              [9]  \n",
       "28445  opener:bottle         203  ['opener:bottle']            [203]  \n",
       "28446          paper          81          ['paper']             [81]  \n",
       "28447        cutlery          75        ['cutlery']             [75]  \n",
       "28448          paper          81          ['paper']             [81]  \n",
       "28449           bowl           6           ['bowl']              [6]  \n",
       "28450           bowl           6           ['bowl']              [6]  \n",
       "28451         fridge          10         ['fridge']             [10]  \n",
       "28452           beer         274           ['beer']            [274]  \n",
       "28453            tap           3            ['tap']              [3]  \n",
       "28454         liquid          71         ['liquid']             [71]  \n",
       "28455     tablecloth         153     ['tablecloth']            [153]  \n",
       "28456         sponge          21         ['sponge']             [21]  \n",
       "28457    water:dirty          17    ['water:dirty']             [17]  \n",
       "28458         sponge          21         ['sponge']             [21]  \n",
       "28459           sink          33           ['sink']             [33]  \n",
       "28460          salad          54          ['salad']             [54]  \n",
       "28461     silverware          75     ['silverware']             [75]  \n",
       "28462           fork          18           ['fork']             [18]  \n",
       "28463          knife           5          ['knife']              [5]  \n",
       "28464       teaspoon           7       ['teaspoon']              [7]  \n",
       "28465     tablespoon           7     ['tablespoon']              [7]  \n",
       "28466          knife           5          ['knife']              [5]  \n",
       "28467          glass          16          ['glass']             [16]  \n",
       "28468           hand          12           ['hand']             [12]  \n",
       "28469         napkin          97         ['napkin']             [97]  \n",
       "28470         napkin          97         ['napkin']             [97]  \n",
       "28471           door           8           ['door']              [8]  \n",
       "\n",
       "[28472 rows x 14 columns]"
      ]
     },
     "execution_count": 8,
     "metadata": {},
     "output_type": "execute_result"
    }
   ],
   "source": [
    "pd.read_csv(EPIC_KITCHENS_DIR / 'EPIC_train_action_labels.csv')"
   ]
  },
  {
   "cell_type": "code",
   "execution_count": 9,
   "metadata": {
    "ExecuteTime": {
     "end_time": "2019-08-27T21:16:33.763882Z",
     "start_time": "2019-08-27T21:16:33.669561Z"
    }
   },
   "outputs": [
    {
     "data": {
      "text/html": [
       "<div>\n",
       "<style scoped>\n",
       "    .dataframe tbody tr th:only-of-type {\n",
       "        vertical-align: middle;\n",
       "    }\n",
       "\n",
       "    .dataframe tbody tr th {\n",
       "        vertical-align: top;\n",
       "    }\n",
       "\n",
       "    .dataframe thead th {\n",
       "        text-align: right;\n",
       "    }\n",
       "</style>\n",
       "<table border=\"1\" class=\"dataframe\">\n",
       "  <thead>\n",
       "    <tr style=\"text-align: right;\">\n",
       "      <th></th>\n",
       "      <th>uid</th>\n",
       "      <th>participant_id</th>\n",
       "      <th>video_id</th>\n",
       "      <th>narration</th>\n",
       "      <th>start_timestamp</th>\n",
       "      <th>stop_timestamp</th>\n",
       "      <th>start_frame</th>\n",
       "      <th>stop_frame</th>\n",
       "      <th>verb</th>\n",
       "      <th>verb_class</th>\n",
       "      <th>noun</th>\n",
       "      <th>noun_class</th>\n",
       "      <th>all_nouns</th>\n",
       "      <th>all_noun_classes</th>\n",
       "    </tr>\n",
       "  </thead>\n",
       "  <tbody>\n",
       "    <tr>\n",
       "      <th>0</th>\n",
       "      <td>0</td>\n",
       "      <td>P01</td>\n",
       "      <td>P01_01</td>\n",
       "      <td>open door</td>\n",
       "      <td>00:00:00.14</td>\n",
       "      <td>00:00:03.37</td>\n",
       "      <td>8</td>\n",
       "      <td>202</td>\n",
       "      <td>open</td>\n",
       "      <td>2</td>\n",
       "      <td>door</td>\n",
       "      <td>8</td>\n",
       "      <td>['door']</td>\n",
       "      <td>[8]</td>\n",
       "    </tr>\n",
       "    <tr>\n",
       "      <th>1</th>\n",
       "      <td>1</td>\n",
       "      <td>P01</td>\n",
       "      <td>P01_01</td>\n",
       "      <td>turn on light</td>\n",
       "      <td>00:00:04.37</td>\n",
       "      <td>00:00:06.17</td>\n",
       "      <td>262</td>\n",
       "      <td>370</td>\n",
       "      <td>turn-on</td>\n",
       "      <td>12</td>\n",
       "      <td>light</td>\n",
       "      <td>113</td>\n",
       "      <td>['light']</td>\n",
       "      <td>[113]</td>\n",
       "    </tr>\n",
       "    <tr>\n",
       "      <th>2</th>\n",
       "      <td>2</td>\n",
       "      <td>P01</td>\n",
       "      <td>P01_01</td>\n",
       "      <td>close door</td>\n",
       "      <td>00:00:06.98</td>\n",
       "      <td>00:00:09.49</td>\n",
       "      <td>418</td>\n",
       "      <td>569</td>\n",
       "      <td>close</td>\n",
       "      <td>3</td>\n",
       "      <td>door</td>\n",
       "      <td>8</td>\n",
       "      <td>['door']</td>\n",
       "      <td>[8]</td>\n",
       "    </tr>\n",
       "  </tbody>\n",
       "</table>\n",
       "</div>"
      ],
      "text/plain": [
       "   uid participant_id video_id      narration start_timestamp stop_timestamp  \\\n",
       "0    0            P01   P01_01      open door     00:00:00.14    00:00:03.37   \n",
       "1    1            P01   P01_01  turn on light     00:00:04.37    00:00:06.17   \n",
       "2    2            P01   P01_01     close door     00:00:06.98    00:00:09.49   \n",
       "\n",
       "   start_frame  stop_frame     verb  verb_class   noun  noun_class  all_nouns  \\\n",
       "0            8         202     open           2   door           8   ['door']   \n",
       "1          262         370  turn-on          12  light         113  ['light']   \n",
       "2          418         569    close           3   door           8   ['door']   \n",
       "\n",
       "  all_noun_classes  \n",
       "0              [8]  \n",
       "1            [113]  \n",
       "2              [8]  "
      ]
     },
     "execution_count": 9,
     "metadata": {},
     "output_type": "execute_result"
    }
   ],
   "source": [
    "actions_data[:3]"
   ]
  },
  {
   "cell_type": "code",
   "execution_count": 13,
   "metadata": {
    "ExecuteTime": {
     "end_time": "2019-08-27T21:16:33.856792Z",
     "start_time": "2019-08-27T21:16:33.767671Z"
    }
   },
   "outputs": [
    {
     "data": {
      "text/plain": [
       "array(['P01', 'P02', 'P03', 'P04', 'P05', 'P06', 'P07', 'P08', 'P10',\n",
       "       'P12', 'P13', 'P14', 'P15', 'P16', 'P17', 'P19', 'P20', 'P21',\n",
       "       'P22', 'P23', 'P24', 'P25', 'P26', 'P27', 'P28', 'P29', 'P30',\n",
       "       'P31'], dtype=object)"
      ]
     },
     "execution_count": 13,
     "metadata": {},
     "output_type": "execute_result"
    }
   ],
   "source": [
    "actions_data.participant_id.unique()"
   ]
  },
  {
   "cell_type": "code",
   "execution_count": 14,
   "metadata": {
    "ExecuteTime": {
     "end_time": "2019-08-27T21:16:34.004341Z",
     "start_time": "2019-08-27T21:16:33.860468Z"
    }
   },
   "outputs": [],
   "source": [
    "from tqdm.autonotebook import tqdm"
   ]
  },
  {
   "cell_type": "code",
   "execution_count": 45,
   "metadata": {
    "ExecuteTime": {
     "end_time": "2019-08-27T21:16:34.865254Z",
     "start_time": "2019-08-27T21:16:34.007694Z"
    }
   },
   "outputs": [
    {
     "data": {
      "application/vnd.jupyter.widget-view+json": {
       "model_id": "ba4dd20aff1c460f9d7bad7e8a89cf14",
       "version_major": 2,
       "version_minor": 0
      },
      "text/plain": [
       "HBox(children=(IntProgress(value=0, max=272), HTML(value='')))"
      ]
     },
     "metadata": {},
     "output_type": "display_data"
    },
    {
     "name": "stdout",
     "output_type": "stream",
     "text": [
      "\n"
     ]
    }
   ],
   "source": [
    "actions = [actions_data[actions_data.video_id == vid].verb_class.values for vid in tqdm(actions_data.video_id.unique())]"
   ]
  },
  {
   "cell_type": "code",
   "execution_count": 46,
   "metadata": {
    "ExecuteTime": {
     "end_time": "2019-08-27T21:48:56.136388Z",
     "start_time": "2019-08-27T21:48:54.322679Z"
    }
   },
   "outputs": [
    {
     "data": {
      "application/vnd.jupyter.widget-view+json": {
       "model_id": "899fce408a824c9cb00628d0b1c1e624",
       "version_major": 2,
       "version_minor": 0
      },
      "text/plain": [
       "HBox(children=(IntProgress(value=0, max=272), HTML(value='')))"
      ]
     },
     "metadata": {},
     "output_type": "display_data"
    },
    {
     "name": "stdout",
     "output_type": "stream",
     "text": [
      "\n"
     ]
    }
   ],
   "source": [
    "actions_name = [[actions_data[actions_data.video_id == vid].verb.values, actions_data[actions_data.video_id == vid].noun.values] for vid in tqdm(actions_data.video_id.unique())]"
   ]
  },
  {
   "cell_type": "code",
   "execution_count": 47,
   "metadata": {
    "ExecuteTime": {
     "end_time": "2019-08-27T21:50:04.966091Z",
     "start_time": "2019-08-27T21:50:04.900089Z"
    }
   },
   "outputs": [],
   "source": [
    "#[(verb +' '+ noun) for verb, noun in zip(actions_name[0][0], actions_name[0][1])]"
   ]
  },
  {
   "cell_type": "code",
   "execution_count": 48,
   "metadata": {
    "ExecuteTime": {
     "end_time": "2019-08-27T21:16:34.904969Z",
     "start_time": "2019-08-27T21:16:34.868261Z"
    }
   },
   "outputs": [],
   "source": [
    "behav_lens = [len(i) for i in actions]"
   ]
  },
  {
   "cell_type": "code",
   "execution_count": 49,
   "metadata": {
    "ExecuteTime": {
     "end_time": "2019-08-27T21:16:35.515726Z",
     "start_time": "2019-08-27T21:16:34.906904Z"
    }
   },
   "outputs": [],
   "source": [
    "import matplotlib.pyplot as plt"
   ]
  },
  {
   "cell_type": "code",
   "execution_count": 50,
   "metadata": {
    "ExecuteTime": {
     "end_time": "2019-08-27T21:16:35.546381Z",
     "start_time": "2019-08-27T21:16:35.518197Z"
    }
   },
   "outputs": [],
   "source": [
    "import numpy as np"
   ]
  },
  {
   "cell_type": "code",
   "execution_count": 51,
   "metadata": {
    "ExecuteTime": {
     "end_time": "2019-08-27T21:16:35.644969Z",
     "start_time": "2019-08-27T21:16:35.550101Z"
    }
   },
   "outputs": [
    {
     "data": {
      "text/plain": [
       "28472"
      ]
     },
     "execution_count": 51,
     "metadata": {},
     "output_type": "execute_result"
    }
   ],
   "source": [
    "np.sum(behav_lens)"
   ]
  },
  {
   "cell_type": "code",
   "execution_count": 52,
   "metadata": {
    "ExecuteTime": {
     "end_time": "2019-08-27T21:16:35.753303Z",
     "start_time": "2019-08-27T21:16:35.648160Z"
    }
   },
   "outputs": [
    {
     "data": {
      "text/plain": [
       "119"
      ]
     },
     "execution_count": 52,
     "metadata": {},
     "output_type": "execute_result"
    }
   ],
   "source": [
    "len(np.unique(np.concatenate(actions)))"
   ]
  },
  {
   "cell_type": "code",
   "execution_count": 53,
   "metadata": {
    "ExecuteTime": {
     "end_time": "2019-08-27T21:16:35.844664Z",
     "start_time": "2019-08-27T21:16:35.760459Z"
    }
   },
   "outputs": [
    {
     "data": {
      "text/plain": [
       "45.0"
      ]
     },
     "execution_count": 53,
     "metadata": {},
     "output_type": "execute_result"
    }
   ],
   "source": [
    "np.median(behav_lens)"
   ]
  },
  {
   "cell_type": "code",
   "execution_count": 54,
   "metadata": {
    "ExecuteTime": {
     "end_time": "2019-08-27T21:16:36.407456Z",
     "start_time": "2019-08-27T21:16:35.849359Z"
    }
   },
   "outputs": [
    {
     "data": {
      "text/plain": [
       "<matplotlib.lines.Line2D at 0x7fd030ee1320>"
      ]
     },
     "execution_count": 54,
     "metadata": {},
     "output_type": "execute_result"
    },
    {
     "data": {
      "image/png": "[encoded data removed]",
      "text/plain": [
       "<Figure size 432x288 with 1 Axes>"
      ]
     },
     "metadata": {
      "needs_background": "light"
     },
     "output_type": "display_data"
    }
   ],
   "source": [
    "fig, ax = plt.subplots()\n",
    "ax.hist(behav_lens, bins = 50);\n",
    "ax.axvline(np.median(behav_lens), color='red')"
   ]
  },
  {
   "cell_type": "markdown",
   "metadata": {
    "ExecuteTime": {
     "end_time": "2019-08-19T06:13:04.613410Z",
     "start_time": "2019-08-19T06:13:04.608556Z"
    }
   },
   "source": [
    "### MI"
   ]
  },
  {
   "cell_type": "code",
   "execution_count": 60,
   "metadata": {},
   "outputs": [],
   "source": [
    "actions_resorted = np.array(actions)[np.argsort(behav_lens)[::-1]]"
   ]
  },
  {
   "cell_type": "code",
   "execution_count": 61,
   "metadata": {},
   "outputs": [],
   "source": [
    "vids_resorted = actions_data.video_id.unique()[np.argsort(behav_lens)[::-1]]"
   ]
  },
  {
   "cell_type": "code",
   "execution_count": 62,
   "metadata": {},
   "outputs": [
    {
     "data": {
      "text/plain": [
       "879"
      ]
     },
     "execution_count": 62,
     "metadata": {},
     "output_type": "execute_result"
    }
   ],
   "source": [
    "len(actions_resorted[0])"
   ]
  },
  {
   "cell_type": "code",
   "execution_count": 63,
   "metadata": {
    "ExecuteTime": {
     "end_time": "2019-08-27T21:16:37.583506Z",
     "start_time": "2019-08-27T21:16:36.409523Z"
    }
   },
   "outputs": [],
   "source": [
    "from childes_mi.information_theory import mutual_information as mi"
   ]
  },
  {
   "cell_type": "code",
   "execution_count": 64,
   "metadata": {
    "ExecuteTime": {
     "end_time": "2019-08-27T21:45:48.275514Z",
     "start_time": "2019-08-27T21:45:48.214760Z"
    }
   },
   "outputs": [],
   "source": [
    "distances = np.arange(1,np.median(behav_lens)+1).astype('int')"
   ]
  },
  {
   "cell_type": "markdown",
   "metadata": {
    "ExecuteTime": {
     "end_time": "2019-08-19T06:14:52.222634Z",
     "start_time": "2019-08-19T06:14:52.217649Z"
    }
   },
   "source": [
    "### longest sequence"
   ]
  },
  {
   "cell_type": "code",
   "execution_count": 65,
   "metadata": {
    "scrolled": true
   },
   "outputs": [
    {
     "data": {
      "application/vnd.jupyter.widget-view+json": {
       "model_id": "a797fe0d8cfe4309861dd1756e41a0e7",
       "version_major": 2,
       "version_minor": 0
      },
      "text/plain": [
       "HBox(children=(IntProgress(value=1, bar_style='info', max=1), HTML(value='')))"
      ]
     },
     "metadata": {},
     "output_type": "display_data"
    },
    {
     "data": {
      "application/vnd.jupyter.widget-view+json": {
       "model_id": "",
       "version_major": 2,
       "version_minor": 0
      },
      "text/plain": [
       "HBox(children=(IntProgress(value=0, max=45), HTML(value='')))"
      ]
     },
     "metadata": {},
     "output_type": "display_data"
    },
    {
     "name": "stderr",
     "output_type": "stream",
     "text": [
      "[Parallel(n_jobs=-1)]: Using backend ThreadingBackend with 32 concurrent workers.\n",
      "[Parallel(n_jobs=-1)]: Done   2 out of  45 | elapsed:    0.1s remaining:    1.2s\n",
      "[Parallel(n_jobs=-1)]: Done  12 out of  45 | elapsed:    0.1s remaining:    0.3s\n",
      "[Parallel(n_jobs=-1)]: Done  22 out of  45 | elapsed:    0.1s remaining:    0.1s\n",
      "[Parallel(n_jobs=-1)]: Done  32 out of  45 | elapsed:    0.2s remaining:    0.1s\n",
      "[Parallel(n_jobs=-1)]: Done  42 out of  45 | elapsed:    0.2s remaining:    0.0s\n",
      "[Parallel(n_jobs=-1)]: Done  45 out of  45 | elapsed:    0.2s finished\n"
     ]
    },
    {
     "data": {
      "application/vnd.jupyter.widget-view+json": {
       "model_id": "",
       "version_major": 2,
       "version_minor": 0
      },
      "text/plain": [
       "HBox(children=(IntProgress(value=0, max=45), HTML(value='')))"
      ]
     },
     "metadata": {},
     "output_type": "display_data"
    },
    {
     "name": "stderr",
     "output_type": "stream",
     "text": [
      "[Parallel(n_jobs=-1)]: Using backend ThreadingBackend with 32 concurrent workers.\n",
      "[Parallel(n_jobs=-1)]: Done   2 out of  45 | elapsed:    0.1s remaining:    1.4s\n",
      "[Parallel(n_jobs=-1)]: Done  12 out of  45 | elapsed:    0.1s remaining:    0.3s\n",
      "[Parallel(n_jobs=-1)]: Done  22 out of  45 | elapsed:    0.1s remaining:    0.1s\n",
      "[Parallel(n_jobs=-1)]: Done  32 out of  45 | elapsed:    0.2s remaining:    0.1s\n",
      "[Parallel(n_jobs=-1)]: Done  42 out of  45 | elapsed:    0.2s remaining:    0.0s\n",
      "[Parallel(n_jobs=-1)]: Done  45 out of  45 | elapsed:    0.2s finished\n"
     ]
    },
    {
     "data": {
      "application/vnd.jupyter.widget-view+json": {
       "model_id": "",
       "version_major": 2,
       "version_minor": 0
      },
      "text/plain": [
       "HBox(children=(IntProgress(value=0, max=45), HTML(value='')))"
      ]
     },
     "metadata": {},
     "output_type": "display_data"
    },
    {
     "name": "stderr",
     "output_type": "stream",
     "text": [
      "[Parallel(n_jobs=-1)]: Using backend ThreadingBackend with 32 concurrent workers.\n",
      "[Parallel(n_jobs=-1)]: Done   2 out of  45 | elapsed:    0.1s remaining:    1.2s\n",
      "[Parallel(n_jobs=-1)]: Done  12 out of  45 | elapsed:    0.1s remaining:    0.3s\n",
      "[Parallel(n_jobs=-1)]: Done  22 out of  45 | elapsed:    0.1s remaining:    0.1s\n",
      "[Parallel(n_jobs=-1)]: Done  32 out of  45 | elapsed:    0.2s remaining:    0.1s\n",
      "[Parallel(n_jobs=-1)]: Done  42 out of  45 | elapsed:    0.2s remaining:    0.0s\n",
      "[Parallel(n_jobs=-1)]: Done  45 out of  45 | elapsed:    0.2s finished\n"
     ]
    },
    {
     "data": {
      "application/vnd.jupyter.widget-view+json": {
       "model_id": "",
       "version_major": 2,
       "version_minor": 0
      },
      "text/plain": [
       "HBox(children=(IntProgress(value=0, max=45), HTML(value='')))"
      ]
     },
     "metadata": {},
     "output_type": "display_data"
    },
    {
     "name": "stderr",
     "output_type": "stream",
     "text": [
      "[Parallel(n_jobs=-1)]: Using backend ThreadingBackend with 32 concurrent workers.\n",
      "[Parallel(n_jobs=-1)]: Done   2 out of  45 | elapsed:    0.1s remaining:    1.3s\n",
      "[Parallel(n_jobs=-1)]: Done  12 out of  45 | elapsed:    0.1s remaining:    0.3s\n",
      "[Parallel(n_jobs=-1)]: Done  22 out of  45 | elapsed:    0.1s remaining:    0.1s\n",
      "[Parallel(n_jobs=-1)]: Done  32 out of  45 | elapsed:    0.2s remaining:    0.1s\n",
      "[Parallel(n_jobs=-1)]: Done  42 out of  45 | elapsed:    0.2s remaining:    0.0s\n",
      "[Parallel(n_jobs=-1)]: Done  45 out of  45 | elapsed:    0.2s finished\n"
     ]
    },
    {
     "data": {
      "application/vnd.jupyter.widget-view+json": {
       "model_id": "",
       "version_major": 2,
       "version_minor": 0
      },
      "text/plain": [
       "HBox(children=(IntProgress(value=0, max=45), HTML(value='')))"
      ]
     },
     "metadata": {},
     "output_type": "display_data"
    },
    {
     "name": "stderr",
     "output_type": "stream",
     "text": [
      "[Parallel(n_jobs=-1)]: Using backend ThreadingBackend with 32 concurrent workers.\n",
      "[Parallel(n_jobs=-1)]: Done   2 out of  45 | elapsed:    0.1s remaining:    1.2s\n",
      "[Parallel(n_jobs=-1)]: Done  12 out of  45 | elapsed:    0.1s remaining:    0.3s\n",
      "[Parallel(n_jobs=-1)]: Done  22 out of  45 | elapsed:    0.1s remaining:    0.1s\n",
      "[Parallel(n_jobs=-1)]: Done  32 out of  45 | elapsed:    0.2s remaining:    0.1s\n",
      "[Parallel(n_jobs=-1)]: Done  42 out of  45 | elapsed:    0.2s remaining:    0.0s\n",
      "[Parallel(n_jobs=-1)]: Done  45 out of  45 | elapsed:    0.2s finished\n"
     ]
    },
    {
     "data": {
      "application/vnd.jupyter.widget-view+json": {
       "model_id": "",
       "version_major": 2,
       "version_minor": 0
      },
      "text/plain": [
       "HBox(children=(IntProgress(value=0, max=45), HTML(value='')))"
      ]
     },
     "metadata": {},
     "output_type": "display_data"
    },
    {
     "name": "stderr",
     "output_type": "stream",
     "text": [
      "[Parallel(n_jobs=-1)]: Using backend ThreadingBackend with 32 concurrent workers.\n",
      "[Parallel(n_jobs=-1)]: Done   2 out of  45 | elapsed:    0.1s remaining:    1.4s\n",
      "[Parallel(n_jobs=-1)]: Done  12 out of  45 | elapsed:    0.1s remaining:    0.3s\n",
      "[Parallel(n_jobs=-1)]: Done  22 out of  45 | elapsed:    0.2s remaining:    0.2s\n",
      "[Parallel(n_jobs=-1)]: Done  32 out of  45 | elapsed:    0.2s remaining:    0.1s\n",
      "[Parallel(n_jobs=-1)]: Done  42 out of  45 | elapsed:    0.2s remaining:    0.0s\n",
      "[Parallel(n_jobs=-1)]: Done  45 out of  45 | elapsed:    0.2s finished\n"
     ]
    },
    {
     "data": {
      "application/vnd.jupyter.widget-view+json": {
       "model_id": "",
       "version_major": 2,
       "version_minor": 0
      },
      "text/plain": [
       "HBox(children=(IntProgress(value=0, max=45), HTML(value='')))"
      ]
     },
     "metadata": {},
     "output_type": "display_data"
    },
    {
     "name": "stderr",
     "output_type": "stream",
     "text": [
      "[Parallel(n_jobs=-1)]: Using backend ThreadingBackend with 32 concurrent workers.\n",
      "[Parallel(n_jobs=-1)]: Done   2 out of  45 | elapsed:    0.1s remaining:    2.1s\n",
      "[Parallel(n_jobs=-1)]: Done  12 out of  45 | elapsed:    0.1s remaining:    0.3s\n",
      "[Parallel(n_jobs=-1)]: Done  22 out of  45 | elapsed:    0.1s remaining:    0.1s\n",
      "[Parallel(n_jobs=-1)]: Done  32 out of  45 | elapsed:    0.2s remaining:    0.1s\n",
      "[Parallel(n_jobs=-1)]: Done  42 out of  45 | elapsed:    0.2s remaining:    0.0s\n",
      "[Parallel(n_jobs=-1)]: Done  45 out of  45 | elapsed:    0.2s finished\n"
     ]
    },
    {
     "data": {
      "application/vnd.jupyter.widget-view+json": {
       "model_id": "",
       "version_major": 2,
       "version_minor": 0
      },
      "text/plain": [
       "HBox(children=(IntProgress(value=0, max=45), HTML(value='')))"
      ]
     },
     "metadata": {},
     "output_type": "display_data"
    },
    {
     "name": "stderr",
     "output_type": "stream",
     "text": [
      "[Parallel(n_jobs=-1)]: Using backend ThreadingBackend with 32 concurrent workers.\n",
      "[Parallel(n_jobs=-1)]: Done   2 out of  45 | elapsed:    0.2s remaining:    3.5s\n",
      "[Parallel(n_jobs=-1)]: Done  12 out of  45 | elapsed:    0.2s remaining:    0.6s\n",
      "[Parallel(n_jobs=-1)]: Done  22 out of  45 | elapsed:    0.2s remaining:    0.2s\n",
      "[Parallel(n_jobs=-1)]: Done  32 out of  45 | elapsed:    0.2s remaining:    0.1s\n",
      "[Parallel(n_jobs=-1)]: Done  42 out of  45 | elapsed:    0.3s remaining:    0.0s\n",
      "[Parallel(n_jobs=-1)]: Done  45 out of  45 | elapsed:    0.3s finished\n"
     ]
    },
    {
     "data": {
      "application/vnd.jupyter.widget-view+json": {
       "model_id": "",
       "version_major": 2,
       "version_minor": 0
      },
      "text/plain": [
       "HBox(children=(IntProgress(value=0, max=45), HTML(value='')))"
      ]
     },
     "metadata": {},
     "output_type": "display_data"
    },
    {
     "name": "stderr",
     "output_type": "stream",
     "text": [
      "[Parallel(n_jobs=-1)]: Using backend ThreadingBackend with 32 concurrent workers.\n",
      "[Parallel(n_jobs=-1)]: Done   2 out of  45 | elapsed:    0.1s remaining:    1.2s\n",
      "[Parallel(n_jobs=-1)]: Done  12 out of  45 | elapsed:    0.1s remaining:    0.3s\n",
      "[Parallel(n_jobs=-1)]: Done  22 out of  45 | elapsed:    0.1s remaining:    0.1s\n",
      "[Parallel(n_jobs=-1)]: Done  32 out of  45 | elapsed:    0.2s remaining:    0.1s\n",
      "[Parallel(n_jobs=-1)]: Done  42 out of  45 | elapsed:    0.2s remaining:    0.0s\n",
      "[Parallel(n_jobs=-1)]: Done  45 out of  45 | elapsed:    0.2s finished\n"
     ]
    },
    {
     "data": {
      "application/vnd.jupyter.widget-view+json": {
       "model_id": "",
       "version_major": 2,
       "version_minor": 0
      },
      "text/plain": [
       "HBox(children=(IntProgress(value=0, max=45), HTML(value='')))"
      ]
     },
     "metadata": {},
     "output_type": "display_data"
    },
    {
     "name": "stderr",
     "output_type": "stream",
     "text": [
      "[Parallel(n_jobs=-1)]: Using backend ThreadingBackend with 32 concurrent workers.\n",
      "[Parallel(n_jobs=-1)]: Done   2 out of  45 | elapsed:    0.1s remaining:    1.3s\n",
      "[Parallel(n_jobs=-1)]: Done  12 out of  45 | elapsed:    0.1s remaining:    0.3s\n",
      "[Parallel(n_jobs=-1)]: Done  22 out of  45 | elapsed:    0.1s remaining:    0.1s\n",
      "[Parallel(n_jobs=-1)]: Done  32 out of  45 | elapsed:    0.2s remaining:    0.1s\n",
      "[Parallel(n_jobs=-1)]: Done  42 out of  45 | elapsed:    0.2s remaining:    0.0s\n",
      "[Parallel(n_jobs=-1)]: Done  45 out of  45 | elapsed:    0.2s finished\n"
     ]
    },
    {
     "data": {
      "application/vnd.jupyter.widget-view+json": {
       "model_id": "",
       "version_major": 2,
       "version_minor": 0
      },
      "text/plain": [
       "HBox(children=(IntProgress(value=0, max=45), HTML(value='')))"
      ]
     },
     "metadata": {},
     "output_type": "display_data"
    },
    {
     "name": "stderr",
     "output_type": "stream",
     "text": [
      "[Parallel(n_jobs=-1)]: Using backend ThreadingBackend with 32 concurrent workers.\n",
      "[Parallel(n_jobs=-1)]: Done   2 out of  45 | elapsed:    0.1s remaining:    1.4s\n",
      "[Parallel(n_jobs=-1)]: Done  12 out of  45 | elapsed:    0.1s remaining:    0.3s\n",
      "[Parallel(n_jobs=-1)]: Done  22 out of  45 | elapsed:    0.1s remaining:    0.1s\n",
      "[Parallel(n_jobs=-1)]: Done  32 out of  45 | elapsed:    0.2s remaining:    0.1s\n",
      "[Parallel(n_jobs=-1)]: Done  42 out of  45 | elapsed:    0.2s remaining:    0.0s\n",
      "[Parallel(n_jobs=-1)]: Done  45 out of  45 | elapsed:    0.2s finished\n"
     ]
    },
    {
     "data": {
      "application/vnd.jupyter.widget-view+json": {
       "model_id": "",
       "version_major": 2,
       "version_minor": 0
      },
      "text/plain": [
       "HBox(children=(IntProgress(value=0, max=45), HTML(value='')))"
      ]
     },
     "metadata": {},
     "output_type": "display_data"
    },
    {
     "name": "stderr",
     "output_type": "stream",
     "text": [
      "[Parallel(n_jobs=-1)]: Using backend ThreadingBackend with 32 concurrent workers.\n",
      "[Parallel(n_jobs=-1)]: Done   2 out of  45 | elapsed:    0.1s remaining:    1.4s\n",
      "[Parallel(n_jobs=-1)]: Done  12 out of  45 | elapsed:    0.1s remaining:    0.3s\n",
      "[Parallel(n_jobs=-1)]: Done  22 out of  45 | elapsed:    0.1s remaining:    0.1s\n",
      "[Parallel(n_jobs=-1)]: Done  32 out of  45 | elapsed:    0.2s remaining:    0.1s\n",
      "[Parallel(n_jobs=-1)]: Done  42 out of  45 | elapsed:    0.2s remaining:    0.0s\n",
      "[Parallel(n_jobs=-1)]: Done  45 out of  45 | elapsed:    0.2s finished\n"
     ]
    },
    {
     "data": {
      "application/vnd.jupyter.widget-view+json": {
       "model_id": "",
       "version_major": 2,
       "version_minor": 0
      },
      "text/plain": [
       "HBox(children=(IntProgress(value=0, max=45), HTML(value='')))"
      ]
     },
     "metadata": {},
     "output_type": "display_data"
    },
    {
     "name": "stderr",
     "output_type": "stream",
     "text": [
      "[Parallel(n_jobs=-1)]: Using backend ThreadingBackend with 32 concurrent workers.\n",
      "[Parallel(n_jobs=-1)]: Done   2 out of  45 | elapsed:    0.1s remaining:    1.3s\n",
      "[Parallel(n_jobs=-1)]: Done  12 out of  45 | elapsed:    0.1s remaining:    0.3s\n",
      "[Parallel(n_jobs=-1)]: Done  22 out of  45 | elapsed:    0.1s remaining:    0.2s\n",
      "[Parallel(n_jobs=-1)]: Done  32 out of  45 | elapsed:    0.2s remaining:    0.1s\n",
      "[Parallel(n_jobs=-1)]: Done  42 out of  45 | elapsed:    0.2s remaining:    0.0s\n",
      "[Parallel(n_jobs=-1)]: Done  45 out of  45 | elapsed:    0.2s finished\n"
     ]
    },
    {
     "data": {
      "application/vnd.jupyter.widget-view+json": {
       "model_id": "",
       "version_major": 2,
       "version_minor": 0
      },
      "text/plain": [
       "HBox(children=(IntProgress(value=0, max=45), HTML(value='')))"
      ]
     },
     "metadata": {},
     "output_type": "display_data"
    },
    {
     "name": "stderr",
     "output_type": "stream",
     "text": [
      "[Parallel(n_jobs=-1)]: Using backend ThreadingBackend with 32 concurrent workers.\n",
      "[Parallel(n_jobs=-1)]: Done   2 out of  45 | elapsed:    0.1s remaining:    1.7s\n",
      "[Parallel(n_jobs=-1)]: Done  12 out of  45 | elapsed:    0.1s remaining:    0.3s\n",
      "[Parallel(n_jobs=-1)]: Done  22 out of  45 | elapsed:    0.1s remaining:    0.1s\n",
      "[Parallel(n_jobs=-1)]: Done  32 out of  45 | elapsed:    0.2s remaining:    0.1s\n",
      "[Parallel(n_jobs=-1)]: Done  42 out of  45 | elapsed:    0.2s remaining:    0.0s\n",
      "[Parallel(n_jobs=-1)]: Done  45 out of  45 | elapsed:    0.2s finished\n"
     ]
    },
    {
     "data": {
      "application/vnd.jupyter.widget-view+json": {
       "model_id": "",
       "version_major": 2,
       "version_minor": 0
      },
      "text/plain": [
       "HBox(children=(IntProgress(value=0, max=45), HTML(value='')))"
      ]
     },
     "metadata": {},
     "output_type": "display_data"
    },
    {
     "name": "stderr",
     "output_type": "stream",
     "text": [
      "[Parallel(n_jobs=-1)]: Using backend ThreadingBackend with 32 concurrent workers.\n",
      "[Parallel(n_jobs=-1)]: Done   2 out of  45 | elapsed:    0.1s remaining:    1.7s\n",
      "[Parallel(n_jobs=-1)]: Done  12 out of  45 | elapsed:    0.1s remaining:    0.3s\n",
      "[Parallel(n_jobs=-1)]: Done  22 out of  45 | elapsed:    0.1s remaining:    0.1s\n",
      "[Parallel(n_jobs=-1)]: Done  32 out of  45 | elapsed:    0.1s remaining:    0.1s\n",
      "[Parallel(n_jobs=-1)]: Done  42 out of  45 | elapsed:    0.2s remaining:    0.0s\n",
      "[Parallel(n_jobs=-1)]: Done  45 out of  45 | elapsed:    0.2s finished\n"
     ]
    },
    {
     "data": {
      "application/vnd.jupyter.widget-view+json": {
       "model_id": "",
       "version_major": 2,
       "version_minor": 0
      },
      "text/plain": [
       "HBox(children=(IntProgress(value=0, max=45), HTML(value='')))"
      ]
     },
     "metadata": {},
     "output_type": "display_data"
    },
    {
     "name": "stderr",
     "output_type": "stream",
     "text": [
      "[Parallel(n_jobs=-1)]: Using backend ThreadingBackend with 32 concurrent workers.\n",
      "[Parallel(n_jobs=-1)]: Done   2 out of  45 | elapsed:    0.1s remaining:    1.2s\n",
      "[Parallel(n_jobs=-1)]: Done  12 out of  45 | elapsed:    0.1s remaining:    0.3s\n",
      "[Parallel(n_jobs=-1)]: Done  22 out of  45 | elapsed:    0.1s remaining:    0.1s\n",
      "[Parallel(n_jobs=-1)]: Done  32 out of  45 | elapsed:    0.2s remaining:    0.1s\n",
      "[Parallel(n_jobs=-1)]: Done  42 out of  45 | elapsed:    0.2s remaining:    0.0s\n",
      "[Parallel(n_jobs=-1)]: Done  45 out of  45 | elapsed:    0.2s finished\n"
     ]
    },
    {
     "data": {
      "application/vnd.jupyter.widget-view+json": {
       "model_id": "",
       "version_major": 2,
       "version_minor": 0
      },
      "text/plain": [
       "HBox(children=(IntProgress(value=0, max=45), HTML(value='')))"
      ]
     },
     "metadata": {},
     "output_type": "display_data"
    },
    {
     "name": "stderr",
     "output_type": "stream",
     "text": [
      "[Parallel(n_jobs=-1)]: Using backend ThreadingBackend with 32 concurrent workers.\n",
      "[Parallel(n_jobs=-1)]: Done   2 out of  45 | elapsed:    0.1s remaining:    1.6s\n",
      "[Parallel(n_jobs=-1)]: Done  12 out of  45 | elapsed:    0.1s remaining:    0.3s\n",
      "[Parallel(n_jobs=-1)]: Done  22 out of  45 | elapsed:    0.1s remaining:    0.1s\n",
      "[Parallel(n_jobs=-1)]: Done  32 out of  45 | elapsed:    0.2s remaining:    0.1s\n",
      "[Parallel(n_jobs=-1)]: Done  42 out of  45 | elapsed:    0.2s remaining:    0.0s\n",
      "[Parallel(n_jobs=-1)]: Done  45 out of  45 | elapsed:    0.2s finished\n"
     ]
    },
    {
     "data": {
      "application/vnd.jupyter.widget-view+json": {
       "model_id": "",
       "version_major": 2,
       "version_minor": 0
      },
      "text/plain": [
       "HBox(children=(IntProgress(value=0, max=45), HTML(value='')))"
      ]
     },
     "metadata": {},
     "output_type": "display_data"
    },
    {
     "name": "stderr",
     "output_type": "stream",
     "text": [
      "[Parallel(n_jobs=-1)]: Using backend ThreadingBackend with 32 concurrent workers.\n",
      "[Parallel(n_jobs=-1)]: Done   2 out of  45 | elapsed:    0.1s remaining:    1.4s\n",
      "[Parallel(n_jobs=-1)]: Done  12 out of  45 | elapsed:    0.1s remaining:    0.3s\n",
      "[Parallel(n_jobs=-1)]: Done  22 out of  45 | elapsed:    0.2s remaining:    0.2s\n",
      "[Parallel(n_jobs=-1)]: Done  32 out of  45 | elapsed:    0.2s remaining:    0.1s\n",
      "[Parallel(n_jobs=-1)]: Done  42 out of  45 | elapsed:    0.2s remaining:    0.0s\n",
      "[Parallel(n_jobs=-1)]: Done  45 out of  45 | elapsed:    0.2s finished\n"
     ]
    },
    {
     "data": {
      "application/vnd.jupyter.widget-view+json": {
       "model_id": "",
       "version_major": 2,
       "version_minor": 0
      },
      "text/plain": [
       "HBox(children=(IntProgress(value=0, max=45), HTML(value='')))"
      ]
     },
     "metadata": {},
     "output_type": "display_data"
    },
    {
     "name": "stderr",
     "output_type": "stream",
     "text": [
      "[Parallel(n_jobs=-1)]: Using backend ThreadingBackend with 32 concurrent workers.\n",
      "[Parallel(n_jobs=-1)]: Done   2 out of  45 | elapsed:    0.1s remaining:    2.5s\n",
      "[Parallel(n_jobs=-1)]: Done  12 out of  45 | elapsed:    0.1s remaining:    0.3s\n",
      "[Parallel(n_jobs=-1)]: Done  22 out of  45 | elapsed:    0.1s remaining:    0.2s\n",
      "[Parallel(n_jobs=-1)]: Done  32 out of  45 | elapsed:    0.2s remaining:    0.1s\n",
      "[Parallel(n_jobs=-1)]: Done  42 out of  45 | elapsed:    0.2s remaining:    0.0s\n",
      "[Parallel(n_jobs=-1)]: Done  45 out of  45 | elapsed:    0.2s finished\n"
     ]
    },
    {
     "data": {
      "application/vnd.jupyter.widget-view+json": {
       "model_id": "",
       "version_major": 2,
       "version_minor": 0
      },
      "text/plain": [
       "HBox(children=(IntProgress(value=0, max=45), HTML(value='')))"
      ]
     },
     "metadata": {},
     "output_type": "display_data"
    },
    {
     "name": "stderr",
     "output_type": "stream",
     "text": [
      "[Parallel(n_jobs=-1)]: Using backend ThreadingBackend with 32 concurrent workers.\n",
      "[Parallel(n_jobs=-1)]: Done   2 out of  45 | elapsed:    0.1s remaining:    1.3s\n",
      "[Parallel(n_jobs=-1)]: Done  12 out of  45 | elapsed:    0.1s remaining:    0.3s\n",
      "[Parallel(n_jobs=-1)]: Done  22 out of  45 | elapsed:    0.1s remaining:    0.1s\n",
      "[Parallel(n_jobs=-1)]: Done  32 out of  45 | elapsed:    0.2s remaining:    0.1s\n",
      "[Parallel(n_jobs=-1)]: Done  42 out of  45 | elapsed:    0.2s remaining:    0.0s\n",
      "[Parallel(n_jobs=-1)]: Done  45 out of  45 | elapsed:    0.2s finished\n"
     ]
    },
    {
     "data": {
      "application/vnd.jupyter.widget-view+json": {
       "model_id": "",
       "version_major": 2,
       "version_minor": 0
      },
      "text/plain": [
       "HBox(children=(IntProgress(value=0, max=45), HTML(value='')))"
      ]
     },
     "metadata": {},
     "output_type": "display_data"
    },
    {
     "name": "stderr",
     "output_type": "stream",
     "text": [
      "[Parallel(n_jobs=-1)]: Using backend ThreadingBackend with 32 concurrent workers.\n",
      "[Parallel(n_jobs=-1)]: Done   2 out of  45 | elapsed:    0.1s remaining:    1.5s\n",
      "[Parallel(n_jobs=-1)]: Done  12 out of  45 | elapsed:    0.1s remaining:    0.3s\n",
      "[Parallel(n_jobs=-1)]: Done  22 out of  45 | elapsed:    0.1s remaining:    0.1s\n",
      "[Parallel(n_jobs=-1)]: Done  32 out of  45 | elapsed:    0.2s remaining:    0.1s\n",
      "[Parallel(n_jobs=-1)]: Done  42 out of  45 | elapsed:    0.2s remaining:    0.0s\n",
      "[Parallel(n_jobs=-1)]: Done  45 out of  45 | elapsed:    0.2s finished\n"
     ]
    },
    {
     "data": {
      "application/vnd.jupyter.widget-view+json": {
       "model_id": "",
       "version_major": 2,
       "version_minor": 0
      },
      "text/plain": [
       "HBox(children=(IntProgress(value=0, max=45), HTML(value='')))"
      ]
     },
     "metadata": {},
     "output_type": "display_data"
    },
    {
     "name": "stderr",
     "output_type": "stream",
     "text": [
      "[Parallel(n_jobs=-1)]: Using backend ThreadingBackend with 32 concurrent workers.\n",
      "[Parallel(n_jobs=-1)]: Done   2 out of  45 | elapsed:    0.1s remaining:    1.4s\n",
      "[Parallel(n_jobs=-1)]: Done  12 out of  45 | elapsed:    0.1s remaining:    0.3s\n",
      "[Parallel(n_jobs=-1)]: Done  22 out of  45 | elapsed:    0.1s remaining:    0.1s\n",
      "[Parallel(n_jobs=-1)]: Done  32 out of  45 | elapsed:    0.2s remaining:    0.1s\n",
      "[Parallel(n_jobs=-1)]: Done  42 out of  45 | elapsed:    0.2s remaining:    0.0s\n",
      "[Parallel(n_jobs=-1)]: Done  45 out of  45 | elapsed:    0.2s finished\n"
     ]
    },
    {
     "data": {
      "application/vnd.jupyter.widget-view+json": {
       "model_id": "",
       "version_major": 2,
       "version_minor": 0
      },
      "text/plain": [
       "HBox(children=(IntProgress(value=0, max=45), HTML(value='')))"
      ]
     },
     "metadata": {},
     "output_type": "display_data"
    },
    {
     "name": "stderr",
     "output_type": "stream",
     "text": [
      "[Parallel(n_jobs=-1)]: Using backend ThreadingBackend with 32 concurrent workers.\n",
      "[Parallel(n_jobs=-1)]: Done   2 out of  45 | elapsed:    0.1s remaining:    1.1s\n",
      "[Parallel(n_jobs=-1)]: Done  12 out of  45 | elapsed:    0.1s remaining:    0.3s\n",
      "[Parallel(n_jobs=-1)]: Done  22 out of  45 | elapsed:    0.1s remaining:    0.1s\n",
      "[Parallel(n_jobs=-1)]: Done  32 out of  45 | elapsed:    0.2s remaining:    0.1s\n",
      "[Parallel(n_jobs=-1)]: Done  42 out of  45 | elapsed:    0.2s remaining:    0.0s\n",
      "[Parallel(n_jobs=-1)]: Done  45 out of  45 | elapsed:    0.2s finished\n"
     ]
    },
    {
     "data": {
      "application/vnd.jupyter.widget-view+json": {
       "model_id": "",
       "version_major": 2,
       "version_minor": 0
      },
      "text/plain": [
       "HBox(children=(IntProgress(value=0, max=45), HTML(value='')))"
      ]
     },
     "metadata": {},
     "output_type": "display_data"
    },
    {
     "name": "stderr",
     "output_type": "stream",
     "text": [
      "[Parallel(n_jobs=-1)]: Using backend ThreadingBackend with 32 concurrent workers.\n",
      "[Parallel(n_jobs=-1)]: Done   2 out of  45 | elapsed:    0.1s remaining:    2.4s\n",
      "[Parallel(n_jobs=-1)]: Done  12 out of  45 | elapsed:    0.1s remaining:    0.4s\n",
      "[Parallel(n_jobs=-1)]: Done  22 out of  45 | elapsed:    0.2s remaining:    0.2s\n",
      "[Parallel(n_jobs=-1)]: Done  32 out of  45 | elapsed:    0.2s remaining:    0.1s\n",
      "[Parallel(n_jobs=-1)]: Done  42 out of  45 | elapsed:    0.2s remaining:    0.0s\n",
      "[Parallel(n_jobs=-1)]: Done  45 out of  45 | elapsed:    0.2s finished\n"
     ]
    },
    {
     "data": {
      "application/vnd.jupyter.widget-view+json": {
       "model_id": "",
       "version_major": 2,
       "version_minor": 0
      },
      "text/plain": [
       "HBox(children=(IntProgress(value=0, max=45), HTML(value='')))"
      ]
     },
     "metadata": {},
     "output_type": "display_data"
    },
    {
     "name": "stderr",
     "output_type": "stream",
     "text": [
      "[Parallel(n_jobs=-1)]: Using backend ThreadingBackend with 32 concurrent workers.\n",
      "[Parallel(n_jobs=-1)]: Done   2 out of  45 | elapsed:    0.1s remaining:    1.1s\n",
      "[Parallel(n_jobs=-1)]: Done  12 out of  45 | elapsed:    0.1s remaining:    0.3s\n",
      "[Parallel(n_jobs=-1)]: Done  22 out of  45 | elapsed:    0.1s remaining:    0.1s\n",
      "[Parallel(n_jobs=-1)]: Done  32 out of  45 | elapsed:    0.2s remaining:    0.1s\n",
      "[Parallel(n_jobs=-1)]: Done  42 out of  45 | elapsed:    0.2s remaining:    0.0s\n",
      "[Parallel(n_jobs=-1)]: Done  45 out of  45 | elapsed:    0.2s finished\n"
     ]
    },
    {
     "data": {
      "application/vnd.jupyter.widget-view+json": {
       "model_id": "",
       "version_major": 2,
       "version_minor": 0
      },
      "text/plain": [
       "HBox(children=(IntProgress(value=0, max=45), HTML(value='')))"
      ]
     },
     "metadata": {},
     "output_type": "display_data"
    },
    {
     "name": "stderr",
     "output_type": "stream",
     "text": [
      "[Parallel(n_jobs=-1)]: Using backend ThreadingBackend with 32 concurrent workers.\n",
      "[Parallel(n_jobs=-1)]: Done   2 out of  45 | elapsed:    0.1s remaining:    1.2s\n",
      "[Parallel(n_jobs=-1)]: Done  12 out of  45 | elapsed:    0.1s remaining:    0.3s\n",
      "[Parallel(n_jobs=-1)]: Done  22 out of  45 | elapsed:    0.1s remaining:    0.1s\n",
      "[Parallel(n_jobs=-1)]: Done  32 out of  45 | elapsed:    0.2s remaining:    0.1s\n",
      "[Parallel(n_jobs=-1)]: Done  42 out of  45 | elapsed:    0.2s remaining:    0.0s\n",
      "[Parallel(n_jobs=-1)]: Done  45 out of  45 | elapsed:    0.2s finished\n"
     ]
    },
    {
     "data": {
      "application/vnd.jupyter.widget-view+json": {
       "model_id": "",
       "version_major": 2,
       "version_minor": 0
      },
      "text/plain": [
       "HBox(children=(IntProgress(value=0, max=45), HTML(value='')))"
      ]
     },
     "metadata": {},
     "output_type": "display_data"
    },
    {
     "name": "stderr",
     "output_type": "stream",
     "text": [
      "[Parallel(n_jobs=-1)]: Using backend ThreadingBackend with 32 concurrent workers.\n",
      "[Parallel(n_jobs=-1)]: Done   2 out of  45 | elapsed:    0.1s remaining:    1.3s\n",
      "[Parallel(n_jobs=-1)]: Done  12 out of  45 | elapsed:    0.1s remaining:    0.3s\n",
      "[Parallel(n_jobs=-1)]: Done  22 out of  45 | elapsed:    0.1s remaining:    0.1s\n",
      "[Parallel(n_jobs=-1)]: Done  32 out of  45 | elapsed:    0.2s remaining:    0.1s\n",
      "[Parallel(n_jobs=-1)]: Done  42 out of  45 | elapsed:    0.2s remaining:    0.0s\n",
      "[Parallel(n_jobs=-1)]: Done  45 out of  45 | elapsed:    0.2s finished\n"
     ]
    },
    {
     "data": {
      "application/vnd.jupyter.widget-view+json": {
       "model_id": "",
       "version_major": 2,
       "version_minor": 0
      },
      "text/plain": [
       "HBox(children=(IntProgress(value=0, max=45), HTML(value='')))"
      ]
     },
     "metadata": {},
     "output_type": "display_data"
    },
    {
     "name": "stderr",
     "output_type": "stream",
     "text": [
      "[Parallel(n_jobs=-1)]: Using backend ThreadingBackend with 32 concurrent workers.\n",
      "[Parallel(n_jobs=-1)]: Done   2 out of  45 | elapsed:    0.1s remaining:    2.1s\n",
      "[Parallel(n_jobs=-1)]: Done  12 out of  45 | elapsed:    0.1s remaining:    0.3s\n",
      "[Parallel(n_jobs=-1)]: Done  22 out of  45 | elapsed:    0.1s remaining:    0.1s\n",
      "[Parallel(n_jobs=-1)]: Done  32 out of  45 | elapsed:    0.2s remaining:    0.1s\n",
      "[Parallel(n_jobs=-1)]: Done  42 out of  45 | elapsed:    0.2s remaining:    0.0s\n",
      "[Parallel(n_jobs=-1)]: Done  45 out of  45 | elapsed:    0.2s finished\n"
     ]
    },
    {
     "data": {
      "application/vnd.jupyter.widget-view+json": {
       "model_id": "",
       "version_major": 2,
       "version_minor": 0
      },
      "text/plain": [
       "HBox(children=(IntProgress(value=0, max=45), HTML(value='')))"
      ]
     },
     "metadata": {},
     "output_type": "display_data"
    },
    {
     "name": "stderr",
     "output_type": "stream",
     "text": [
      "[Parallel(n_jobs=-1)]: Using backend ThreadingBackend with 32 concurrent workers.\n",
      "[Parallel(n_jobs=-1)]: Done   2 out of  45 | elapsed:    0.1s remaining:    1.3s\n",
      "[Parallel(n_jobs=-1)]: Done  12 out of  45 | elapsed:    0.1s remaining:    0.3s\n",
      "[Parallel(n_jobs=-1)]: Done  22 out of  45 | elapsed:    0.1s remaining:    0.1s\n",
      "[Parallel(n_jobs=-1)]: Done  32 out of  45 | elapsed:    0.2s remaining:    0.1s\n",
      "[Parallel(n_jobs=-1)]: Done  42 out of  45 | elapsed:    0.2s remaining:    0.0s\n",
      "[Parallel(n_jobs=-1)]: Done  45 out of  45 | elapsed:    0.2s finished\n"
     ]
    },
    {
     "data": {
      "application/vnd.jupyter.widget-view+json": {
       "model_id": "",
       "version_major": 2,
       "version_minor": 0
      },
      "text/plain": [
       "HBox(children=(IntProgress(value=0, max=45), HTML(value='')))"
      ]
     },
     "metadata": {},
     "output_type": "display_data"
    },
    {
     "name": "stderr",
     "output_type": "stream",
     "text": [
      "[Parallel(n_jobs=-1)]: Using backend ThreadingBackend with 32 concurrent workers.\n",
      "[Parallel(n_jobs=-1)]: Done  12 out of  45 | elapsed:    0.1s remaining:    0.4s\n",
      "[Parallel(n_jobs=-1)]: Done  22 out of  45 | elapsed:    0.1s remaining:    0.1s\n",
      "[Parallel(n_jobs=-1)]: Done  32 out of  45 | elapsed:    0.2s remaining:    0.1s\n",
      "[Parallel(n_jobs=-1)]: Done  42 out of  45 | elapsed:    0.2s remaining:    0.0s\n",
      "[Parallel(n_jobs=-1)]: Done  45 out of  45 | elapsed:    0.2s finished\n"
     ]
    },
    {
     "data": {
      "application/vnd.jupyter.widget-view+json": {
       "model_id": "",
       "version_major": 2,
       "version_minor": 0
      },
      "text/plain": [
       "HBox(children=(IntProgress(value=0, max=45), HTML(value='')))"
      ]
     },
     "metadata": {},
     "output_type": "display_data"
    },
    {
     "name": "stderr",
     "output_type": "stream",
     "text": [
      "[Parallel(n_jobs=-1)]: Using backend ThreadingBackend with 32 concurrent workers.\n",
      "[Parallel(n_jobs=-1)]: Done   2 out of  45 | elapsed:    0.1s remaining:    1.2s\n",
      "[Parallel(n_jobs=-1)]: Done  12 out of  45 | elapsed:    0.1s remaining:    0.3s\n",
      "[Parallel(n_jobs=-1)]: Done  22 out of  45 | elapsed:    0.1s remaining:    0.1s\n",
      "[Parallel(n_jobs=-1)]: Done  32 out of  45 | elapsed:    0.2s remaining:    0.1s\n",
      "[Parallel(n_jobs=-1)]: Done  42 out of  45 | elapsed:    0.2s remaining:    0.0s\n",
      "[Parallel(n_jobs=-1)]: Done  45 out of  45 | elapsed:    0.2s finished\n"
     ]
    },
    {
     "data": {
      "application/vnd.jupyter.widget-view+json": {
       "model_id": "",
       "version_major": 2,
       "version_minor": 0
      },
      "text/plain": [
       "HBox(children=(IntProgress(value=0, max=45), HTML(value='')))"
      ]
     },
     "metadata": {},
     "output_type": "display_data"
    },
    {
     "name": "stderr",
     "output_type": "stream",
     "text": [
      "[Parallel(n_jobs=-1)]: Using backend ThreadingBackend with 32 concurrent workers.\n",
      "[Parallel(n_jobs=-1)]: Done   2 out of  45 | elapsed:    0.1s remaining:    1.6s\n",
      "[Parallel(n_jobs=-1)]: Done  12 out of  45 | elapsed:    0.1s remaining:    0.3s\n",
      "[Parallel(n_jobs=-1)]: Done  22 out of  45 | elapsed:    0.1s remaining:    0.1s\n",
      "[Parallel(n_jobs=-1)]: Done  32 out of  45 | elapsed:    0.2s remaining:    0.1s\n",
      "[Parallel(n_jobs=-1)]: Done  42 out of  45 | elapsed:    0.2s remaining:    0.0s\n",
      "[Parallel(n_jobs=-1)]: Done  45 out of  45 | elapsed:    0.2s finished\n"
     ]
    },
    {
     "data": {
      "application/vnd.jupyter.widget-view+json": {
       "model_id": "",
       "version_major": 2,
       "version_minor": 0
      },
      "text/plain": [
       "HBox(children=(IntProgress(value=0, max=45), HTML(value='')))"
      ]
     },
     "metadata": {},
     "output_type": "display_data"
    },
    {
     "name": "stderr",
     "output_type": "stream",
     "text": [
      "[Parallel(n_jobs=-1)]: Using backend ThreadingBackend with 32 concurrent workers.\n",
      "[Parallel(n_jobs=-1)]: Done   2 out of  45 | elapsed:    0.1s remaining:    1.6s\n",
      "[Parallel(n_jobs=-1)]: Done  12 out of  45 | elapsed:    0.1s remaining:    0.3s\n",
      "[Parallel(n_jobs=-1)]: Done  22 out of  45 | elapsed:    0.1s remaining:    0.1s\n",
      "[Parallel(n_jobs=-1)]: Done  32 out of  45 | elapsed:    0.1s remaining:    0.1s\n",
      "[Parallel(n_jobs=-1)]: Done  42 out of  45 | elapsed:    0.2s remaining:    0.0s\n",
      "[Parallel(n_jobs=-1)]: Done  45 out of  45 | elapsed:    0.2s finished\n"
     ]
    },
    {
     "data": {
      "application/vnd.jupyter.widget-view+json": {
       "model_id": "",
       "version_major": 2,
       "version_minor": 0
      },
      "text/plain": [
       "HBox(children=(IntProgress(value=0, max=45), HTML(value='')))"
      ]
     },
     "metadata": {},
     "output_type": "display_data"
    },
    {
     "name": "stderr",
     "output_type": "stream",
     "text": [
      "[Parallel(n_jobs=-1)]: Using backend ThreadingBackend with 32 concurrent workers.\n",
      "[Parallel(n_jobs=-1)]: Done   2 out of  45 | elapsed:    0.1s remaining:    1.2s\n",
      "[Parallel(n_jobs=-1)]: Done  12 out of  45 | elapsed:    0.1s remaining:    0.3s\n",
      "[Parallel(n_jobs=-1)]: Done  22 out of  45 | elapsed:    0.1s remaining:    0.1s\n",
      "[Parallel(n_jobs=-1)]: Done  32 out of  45 | elapsed:    0.2s remaining:    0.1s\n",
      "[Parallel(n_jobs=-1)]: Done  42 out of  45 | elapsed:    0.2s remaining:    0.0s\n",
      "[Parallel(n_jobs=-1)]: Done  45 out of  45 | elapsed:    0.2s finished\n"
     ]
    },
    {
     "data": {
      "application/vnd.jupyter.widget-view+json": {
       "model_id": "",
       "version_major": 2,
       "version_minor": 0
      },
      "text/plain": [
       "HBox(children=(IntProgress(value=0, max=45), HTML(value='')))"
      ]
     },
     "metadata": {},
     "output_type": "display_data"
    },
    {
     "name": "stderr",
     "output_type": "stream",
     "text": [
      "[Parallel(n_jobs=-1)]: Using backend ThreadingBackend with 32 concurrent workers.\n",
      "[Parallel(n_jobs=-1)]: Done   2 out of  45 | elapsed:    0.1s remaining:    1.2s\n",
      "[Parallel(n_jobs=-1)]: Done  12 out of  45 | elapsed:    0.1s remaining:    0.3s\n",
      "[Parallel(n_jobs=-1)]: Done  22 out of  45 | elapsed:    0.1s remaining:    0.1s\n",
      "[Parallel(n_jobs=-1)]: Done  32 out of  45 | elapsed:    0.2s remaining:    0.1s\n",
      "[Parallel(n_jobs=-1)]: Done  42 out of  45 | elapsed:    0.2s remaining:    0.0s\n",
      "[Parallel(n_jobs=-1)]: Done  45 out of  45 | elapsed:    0.2s finished\n"
     ]
    },
    {
     "data": {
      "application/vnd.jupyter.widget-view+json": {
       "model_id": "",
       "version_major": 2,
       "version_minor": 0
      },
      "text/plain": [
       "HBox(children=(IntProgress(value=0, max=45), HTML(value='')))"
      ]
     },
     "metadata": {},
     "output_type": "display_data"
    },
    {
     "name": "stderr",
     "output_type": "stream",
     "text": [
      "[Parallel(n_jobs=-1)]: Using backend ThreadingBackend with 32 concurrent workers.\n",
      "[Parallel(n_jobs=-1)]: Done   2 out of  45 | elapsed:    0.1s remaining:    1.5s\n",
      "[Parallel(n_jobs=-1)]: Done  12 out of  45 | elapsed:    0.1s remaining:    0.3s\n",
      "[Parallel(n_jobs=-1)]: Done  22 out of  45 | elapsed:    0.1s remaining:    0.1s\n",
      "[Parallel(n_jobs=-1)]: Done  32 out of  45 | elapsed:    0.2s remaining:    0.1s\n",
      "[Parallel(n_jobs=-1)]: Done  42 out of  45 | elapsed:    0.2s remaining:    0.0s\n",
      "[Parallel(n_jobs=-1)]: Done  45 out of  45 | elapsed:    0.2s finished\n"
     ]
    },
    {
     "data": {
      "application/vnd.jupyter.widget-view+json": {
       "model_id": "",
       "version_major": 2,
       "version_minor": 0
      },
      "text/plain": [
       "HBox(children=(IntProgress(value=0, max=45), HTML(value='')))"
      ]
     },
     "metadata": {},
     "output_type": "display_data"
    },
    {
     "name": "stderr",
     "output_type": "stream",
     "text": [
      "[Parallel(n_jobs=-1)]: Using backend ThreadingBackend with 32 concurrent workers.\n",
      "[Parallel(n_jobs=-1)]: Done   2 out of  45 | elapsed:    0.1s remaining:    1.5s\n",
      "[Parallel(n_jobs=-1)]: Done  12 out of  45 | elapsed:    0.1s remaining:    0.3s\n",
      "[Parallel(n_jobs=-1)]: Done  22 out of  45 | elapsed:    0.1s remaining:    0.1s\n",
      "[Parallel(n_jobs=-1)]: Done  32 out of  45 | elapsed:    0.2s remaining:    0.1s\n",
      "[Parallel(n_jobs=-1)]: Done  42 out of  45 | elapsed:    0.2s remaining:    0.0s\n",
      "[Parallel(n_jobs=-1)]: Done  45 out of  45 | elapsed:    0.2s finished\n"
     ]
    },
    {
     "data": {
      "application/vnd.jupyter.widget-view+json": {
       "model_id": "",
       "version_major": 2,
       "version_minor": 0
      },
      "text/plain": [
       "HBox(children=(IntProgress(value=0, max=45), HTML(value='')))"
      ]
     },
     "metadata": {},
     "output_type": "display_data"
    },
    {
     "name": "stderr",
     "output_type": "stream",
     "text": [
      "[Parallel(n_jobs=-1)]: Using backend ThreadingBackend with 32 concurrent workers.\n",
      "[Parallel(n_jobs=-1)]: Done   2 out of  45 | elapsed:    0.1s remaining:    1.4s\n",
      "[Parallel(n_jobs=-1)]: Done  12 out of  45 | elapsed:    0.1s remaining:    0.3s\n",
      "[Parallel(n_jobs=-1)]: Done  22 out of  45 | elapsed:    0.1s remaining:    0.1s\n",
      "[Parallel(n_jobs=-1)]: Done  32 out of  45 | elapsed:    0.2s remaining:    0.1s\n",
      "[Parallel(n_jobs=-1)]: Done  42 out of  45 | elapsed:    0.2s remaining:    0.0s\n",
      "[Parallel(n_jobs=-1)]: Done  45 out of  45 | elapsed:    0.2s finished\n"
     ]
    },
    {
     "data": {
      "application/vnd.jupyter.widget-view+json": {
       "model_id": "",
       "version_major": 2,
       "version_minor": 0
      },
      "text/plain": [
       "HBox(children=(IntProgress(value=0, max=45), HTML(value='')))"
      ]
     },
     "metadata": {},
     "output_type": "display_data"
    },
    {
     "name": "stderr",
     "output_type": "stream",
     "text": [
      "[Parallel(n_jobs=-1)]: Using backend ThreadingBackend with 32 concurrent workers.\n",
      "[Parallel(n_jobs=-1)]: Done   2 out of  45 | elapsed:    0.1s remaining:    1.3s\n",
      "[Parallel(n_jobs=-1)]: Done  12 out of  45 | elapsed:    0.1s remaining:    0.3s\n",
      "[Parallel(n_jobs=-1)]: Done  22 out of  45 | elapsed:    0.1s remaining:    0.1s\n",
      "[Parallel(n_jobs=-1)]: Done  32 out of  45 | elapsed:    0.2s remaining:    0.1s\n",
      "[Parallel(n_jobs=-1)]: Done  42 out of  45 | elapsed:    0.2s remaining:    0.0s\n",
      "[Parallel(n_jobs=-1)]: Done  45 out of  45 | elapsed:    0.2s finished\n"
     ]
    },
    {
     "data": {
      "application/vnd.jupyter.widget-view+json": {
       "model_id": "",
       "version_major": 2,
       "version_minor": 0
      },
      "text/plain": [
       "HBox(children=(IntProgress(value=0, max=45), HTML(value='')))"
      ]
     },
     "metadata": {},
     "output_type": "display_data"
    },
    {
     "name": "stderr",
     "output_type": "stream",
     "text": [
      "[Parallel(n_jobs=-1)]: Using backend ThreadingBackend with 32 concurrent workers.\n",
      "[Parallel(n_jobs=-1)]: Done   2 out of  45 | elapsed:    0.1s remaining:    2.9s\n",
      "[Parallel(n_jobs=-1)]: Done  12 out of  45 | elapsed:    0.2s remaining:    0.4s\n",
      "[Parallel(n_jobs=-1)]: Done  22 out of  45 | elapsed:    0.2s remaining:    0.2s\n",
      "[Parallel(n_jobs=-1)]: Done  32 out of  45 | elapsed:    0.2s remaining:    0.1s\n",
      "[Parallel(n_jobs=-1)]: Done  42 out of  45 | elapsed:    0.2s remaining:    0.0s\n",
      "[Parallel(n_jobs=-1)]: Done  45 out of  45 | elapsed:    0.2s finished\n"
     ]
    },
    {
     "name": "stdout",
     "output_type": "stream",
     "text": [
      "\n"
     ]
    }
   ],
   "source": [
    "MI_DF = pd.DataFrame(\n",
    "    columns=[\"MI\", \"MI_var\", \"shuff_MI\", \"shuff_MI_var\", \"distances\", \"seq\", \"seq_len\", 'video_id'],\n",
    ")\n",
    "for vid, seq in tqdm(zip(vids_resorted[:20], actions_resorted[:20])):\n",
    "    (MI, MI_var), (shuff_MI, shuff_MI_var) = mi.sequential_mutual_information(\n",
    "        [actions[np.argmax(behav_lens)]], distances=distances, n_jobs=-1, estimate=True\n",
    "    )\n",
    "    \n",
    "    MI_DF.loc[len(MI_DF)] = [MI, MI_var, shuff_MI, shuff_MI_var, distances, seq, len(seq), vid]"
   ]
  },
  {
   "cell_type": "code",
   "execution_count": 66,
   "metadata": {},
   "outputs": [
    {
     "data": {
      "text/html": [
       "<div>\n",
       "<style scoped>\n",
       "    .dataframe tbody tr th:only-of-type {\n",
       "        vertical-align: middle;\n",
       "    }\n",
       "\n",
       "    .dataframe tbody tr th {\n",
       "        vertical-align: top;\n",
       "    }\n",
       "\n",
       "    .dataframe thead th {\n",
       "        text-align: right;\n",
       "    }\n",
       "</style>\n",
       "<table border=\"1\" class=\"dataframe\">\n",
       "  <thead>\n",
       "    <tr style=\"text-align: right;\">\n",
       "      <th></th>\n",
       "      <th>MI</th>\n",
       "      <th>MI_var</th>\n",
       "      <th>shuff_MI</th>\n",
       "      <th>shuff_MI_var</th>\n",
       "      <th>distances</th>\n",
       "      <th>seq</th>\n",
       "      <th>seq_len</th>\n",
       "      <th>video_id</th>\n",
       "    </tr>\n",
       "  </thead>\n",
       "  <tbody>\n",
       "    <tr>\n",
       "      <th>0</th>\n",
       "      <td>[3.632823163404609, 3.4601848792965475, 3.3577...</td>\n",
       "      <td>[0.09071928900309506, 0.0893417844119914, 0.08...</td>\n",
       "      <td>[3.175369290161939, 3.1918425929135363, 3.1889...</td>\n",
       "      <td>[0.08763145133753221, 0.08766981995621993, 0.0...</td>\n",
       "      <td>[1, 2, 3, 4, 5, 6, 7, 8, 9, 10, 11, 12, 13, 14...</td>\n",
       "      <td>[17, 0, 1, 2, 0, 0, 0, 0, 3, 1, 0, 2, 1, 3, 0,...</td>\n",
       "      <td>879</td>\n",
       "      <td>P01_09</td>\n",
       "    </tr>\n",
       "    <tr>\n",
       "      <th>1</th>\n",
       "      <td>[3.632823163404609, 3.4601848792965475, 3.3577...</td>\n",
       "      <td>[0.09071928900309506, 0.0893417844119914, 0.08...</td>\n",
       "      <td>[3.211141080603772, 3.204020089721605, 3.16453...</td>\n",
       "      <td>[0.08775272040615731, 0.08741543603381008, 0.0...</td>\n",
       "      <td>[1, 2, 3, 4, 5, 6, 7, 8, 9, 10, 11, 12, 13, 14...</td>\n",
       "      <td>[2, 1, 1, 0, 1, 1, 0, 1, 0, 0, 0, 0, 0, 1, 9, ...</td>\n",
       "      <td>749</td>\n",
       "      <td>P30_05</td>\n",
       "    </tr>\n",
       "    <tr>\n",
       "      <th>2</th>\n",
       "      <td>[3.632823163404609, 3.4601848792965475, 3.3577...</td>\n",
       "      <td>[0.09071928900309506, 0.0893417844119914, 0.08...</td>\n",
       "      <td>[3.1857398345048873, 3.1914890944978076, 3.203...</td>\n",
       "      <td>[0.08773148364617535, 0.08763596068774765, 0.0...</td>\n",
       "      <td>[1, 2, 3, 4, 5, 6, 7, 8, 9, 10, 11, 12, 13, 14...</td>\n",
       "      <td>[1, 0, 2, 0, 9, 0, 9, 2, 8, 3, 0, 2, 0, 0, 14,...</td>\n",
       "      <td>742</td>\n",
       "      <td>P22_07</td>\n",
       "    </tr>\n",
       "  </tbody>\n",
       "</table>\n",
       "</div>"
      ],
      "text/plain": [
       "                                                  MI  \\\n",
       "0  [3.632823163404609, 3.4601848792965475, 3.3577...   \n",
       "1  [3.632823163404609, 3.4601848792965475, 3.3577...   \n",
       "2  [3.632823163404609, 3.4601848792965475, 3.3577...   \n",
       "\n",
       "                                              MI_var  \\\n",
       "0  [0.09071928900309506, 0.0893417844119914, 0.08...   \n",
       "1  [0.09071928900309506, 0.0893417844119914, 0.08...   \n",
       "2  [0.09071928900309506, 0.0893417844119914, 0.08...   \n",
       "\n",
       "                                            shuff_MI  \\\n",
       "0  [3.175369290161939, 3.1918425929135363, 3.1889...   \n",
       "1  [3.211141080603772, 3.204020089721605, 3.16453...   \n",
       "2  [3.1857398345048873, 3.1914890944978076, 3.203...   \n",
       "\n",
       "                                        shuff_MI_var  \\\n",
       "0  [0.08763145133753221, 0.08766981995621993, 0.0...   \n",
       "1  [0.08775272040615731, 0.08741543603381008, 0.0...   \n",
       "2  [0.08773148364617535, 0.08763596068774765, 0.0...   \n",
       "\n",
       "                                           distances  \\\n",
       "0  [1, 2, 3, 4, 5, 6, 7, 8, 9, 10, 11, 12, 13, 14...   \n",
       "1  [1, 2, 3, 4, 5, 6, 7, 8, 9, 10, 11, 12, 13, 14...   \n",
       "2  [1, 2, 3, 4, 5, 6, 7, 8, 9, 10, 11, 12, 13, 14...   \n",
       "\n",
       "                                                 seq seq_len video_id  \n",
       "0  [17, 0, 1, 2, 0, 0, 0, 0, 3, 1, 0, 2, 1, 3, 0,...     879   P01_09  \n",
       "1  [2, 1, 1, 0, 1, 1, 0, 1, 0, 0, 0, 0, 0, 1, 9, ...     749   P30_05  \n",
       "2  [1, 0, 2, 0, 9, 0, 9, 2, 8, 3, 0, 2, 0, 0, 14,...     742   P22_07  "
      ]
     },
     "execution_count": 66,
     "metadata": {},
     "output_type": "execute_result"
    }
   ],
   "source": [
    "MI_DF[:3]"
   ]
  },
  {
   "cell_type": "code",
   "execution_count": 67,
   "metadata": {},
   "outputs": [],
   "source": [
    "MI_DF.to_pickle(DATA_DIR/'mi/epic_kitchens_longest.pickle')"
   ]
  },
  {
   "cell_type": "code",
   "execution_count": 68,
   "metadata": {
    "ExecuteTime": {
     "end_time": "2019-08-27T21:45:59.241907Z",
     "start_time": "2019-08-27T21:45:58.371175Z"
    },
    "scrolled": false
   },
   "outputs": [
    {
     "data": {
      "image/png": "[encoded data removed]",
      "text/plain": [
       "<Figure size 720x360 with 1 Axes>"
      ]
     },
     "metadata": {
      "needs_background": "light"
     },
     "output_type": "display_data"
    },
    {
     "data": {
      "image/png": "[encoded data removed]",
      "text/plain": [
       "<Figure size 720x360 with 1 Axes>"
      ]
     },
     "metadata": {
      "needs_background": "light"
     },
     "output_type": "display_data"
    },
    {
     "data": {
      "image/png": "[encoded data removed]",
      "text/plain": [
       "<Figure size 720x360 with 1 Axes>"
      ]
     },
     "metadata": {
      "needs_background": "light"
     },
     "output_type": "display_data"
    },
    {
     "data": {
      "image/png": "[encoded data removed]",
      "text/plain": [
       "<Figure size 720x360 with 1 Axes>"
      ]
     },
     "metadata": {
      "needs_background": "light"
     },
     "output_type": "display_data"
    },
    {
     "data": {
      "image/png": "[encoded data removed]",
      "text/plain": [
       "<Figure size 720x360 with 1 Axes>"
      ]
     },
     "metadata": {
      "needs_background": "light"
     },
     "output_type": "display_data"
    },
    {
     "data": {
      "image/png": "[encoded data removed]",
      "text/plain": [
       "<Figure size 720x360 with 1 Axes>"
      ]
     },
     "metadata": {
      "needs_background": "light"
     },
     "output_type": "display_data"
    },
    {
     "data": {
      "image/png": "[encoded data removed]",
      "text/plain": [
       "<Figure size 720x360 with 1 Axes>"
      ]
     },
     "metadata": {
      "needs_background": "light"
     },
     "output_type": "display_data"
    },
    {
     "data": {
      "image/png": "[encoded data removed]",
      "text/plain": [
       "<Figure size 720x360 with 1 Axes>"
      ]
     },
     "metadata": {
      "needs_background": "light"
     },
     "output_type": "display_data"
    },
    {
     "data": {
      "image/png": "[encoded data removed]",
      "text/plain": [
       "<Figure size 720x360 with 1 Axes>"
      ]
     },
     "metadata": {
      "needs_background": "light"
     },
     "output_type": "display_data"
    },
    {
     "data": {
      "image/png": "[encoded data removed]",
      "text/plain": [
       "<Figure size 720x360 with 1 Axes>"
      ]
     },
     "metadata": {
      "needs_background": "light"
     },
     "output_type": "display_data"
    },
    {
     "data": {
      "image/png": "[encoded data removed]",
      "text/plain": [
       "<Figure size 720x360 with 1 Axes>"
      ]
     },
     "metadata": {
      "needs_background": "light"
     },
     "output_type": "display_data"
    },
    {
     "data": {
      "image/png": "[encoded data removed]",
      "text/plain": [
       "<Figure size 720x360 with 1 Axes>"
      ]
     },
     "metadata": {
      "needs_background": "light"
     },
     "output_type": "display_data"
    },
    {
     "data": {
      "image/png": "[encoded data removed]",
      "text/plain": [
       "<Figure size 720x360 with 1 Axes>"
      ]
     },
     "metadata": {
      "needs_background": "light"
     },
     "output_type": "display_data"
    },
    {
     "data": {
      "image/png": "[encoded data removed]",
      "text/plain": [
       "<Figure size 720x360 with 1 Axes>"
      ]
     },
     "metadata": {
      "needs_background": "light"
     },
     "output_type": "display_data"
    },
    {
     "data": {
      "image/png": "[encoded data removed]",
      "text/plain": [
       "<Figure size 720x360 with 1 Axes>"
      ]
     },
     "metadata": {
      "needs_background": "light"
     },
     "output_type": "display_data"
    },
    {
     "data": {
      "image/png": "[encoded data removed]",
      "text/plain": [
       "<Figure size 720x360 with 1 Axes>"
      ]
     },
     "metadata": {
      "needs_background": "light"
     },
     "output_type": "display_data"
    },
    {
     "data": {
      "image/png": "[encoded data removed]",
      "text/plain": [
       "<Figure size 720x360 with 1 Axes>"
      ]
     },
     "metadata": {
      "needs_background": "light"
     },
     "output_type": "display_data"
    },
    {
     "data": {
      "image/png": "[encoded data removed]",
      "text/plain": [
       "<Figure size 720x360 with 1 Axes>"
      ]
     },
     "metadata": {
      "needs_background": "light"
     },
     "output_type": "display_data"
    },
    {
     "data": {
      "image/png": "[encoded data removed]",
      "text/plain": [
       "<Figure size 720x360 with 1 Axes>"
      ]
     },
     "metadata": {
      "needs_background": "light"
     },
     "output_type": "display_data"
    },
    {
     "data": {
      "image/png": "[encoded data removed]",
      "text/plain": [
       "<Figure size 720x360 with 1 Axes>"
      ]
     },
     "metadata": {
      "needs_background": "light"
     },
     "output_type": "display_data"
    }
   ],
   "source": [
    "for idx, row in MI_DF.iterrows():\n",
    "    fig, ax = plt.subplots(figsize=(10,5))\n",
    "    MI = row.MI-row.shuff_MI\n",
    "    MI_var = row.MI_var\n",
    "\n",
    "    ax.scatter(distances, MI)\n",
    "    ax.fill_between(distances, MI-MI_var, MI+MI_var, alpha = 0.25, color= 'k')\n",
    "    #ax.set_ylim([1e-3, 1])\n",
    "    ax.set_yscale('log')\n",
    "    ax.set_xscale('log')\n",
    "    plt.show()"
   ]
  },
  {
   "cell_type": "code",
   "execution_count": null,
   "metadata": {},
   "outputs": [],
   "source": []
  },
  {
   "cell_type": "code",
   "execution_count": null,
   "metadata": {},
   "outputs": [],
   "source": []
  }
 ],
 "metadata": {
  "kernelspec": {
   "display_name": "Python 3",
   "language": "python",
   "name": "python3"
  },
  "language_info": {
   "codemirror_mode": {
    "name": "ipython",
    "version": 3
   },
   "file_extension": ".py",
   "mimetype": "text/x-python",
   "name": "python",
   "nbconvert_exporter": "python",
   "pygments_lexer": "ipython3",
   "version": "3.6.7"
  }
 },
 "nbformat": 4,
 "nbformat_minor": 2
}
