{
 "cells": [
  {
   "cell_type": "markdown",
   "metadata": {},
   "source": [
    "http://actionrecognition.net/files/dsetdetail.php?did=15;\n",
    "https://github.com/epic-kitchens/annotations"
   ]
  },
  {
   "cell_type": "code",
   "execution_count": 1,
   "metadata": {
    "ExecuteTime": {
     "end_time": "2019-08-27T21:16:29.622856Z",
     "start_time": "2019-08-27T21:16:29.584770Z"
    }
   },
   "outputs": [],
   "source": [
    "%load_ext autoreload\n",
    "%autoreload 2"
   ]
  },
  {
   "cell_type": "code",
   "execution_count": 2,
   "metadata": {
    "ExecuteTime": {
     "end_time": "2019-08-27T21:16:29.738081Z",
     "start_time": "2019-08-27T21:16:29.626139Z"
    }
   },
   "outputs": [],
   "source": [
    "from childes_mi.utils.paths import DATA_DIR, ensure_dir, EPIC_KITCHENS_DIR\n",
    "import urllib.request"
   ]
  },
  {
   "cell_type": "code",
   "execution_count": 3,
   "metadata": {
    "ExecuteTime": {
     "end_time": "2019-08-27T21:16:31.754381Z",
     "start_time": "2019-08-27T21:16:29.741173Z"
    }
   },
   "outputs": [],
   "source": [
    "import pandas as pd"
   ]
  },
  {
   "cell_type": "code",
   "execution_count": 4,
   "metadata": {
    "ExecuteTime": {
     "end_time": "2019-08-27T21:16:33.664870Z",
     "start_time": "2019-08-27T21:16:31.761331Z"
    }
   },
   "outputs": [],
   "source": [
    "actions_data = pd.read_csv(EPIC_KITCHENS_DIR / 'EPIC_train_action_labels.csv')"
   ]
  },
  {
   "cell_type": "code",
   "execution_count": 95,
   "metadata": {
    "ExecuteTime": {
     "end_time": "2019-08-27T22:00:13.773720Z",
     "start_time": "2019-08-27T22:00:13.719226Z"
    }
   },
   "outputs": [
    {
     "data": {
      "text/plain": [
       "PosixPath('/mnt/cube/tsainbur/Projects/github_repos/childes_mi_project/data/raw/EPIC_KITCHENS_Data_Dir')"
      ]
     },
     "execution_count": 95,
     "metadata": {},
     "output_type": "execute_result"
    }
   ],
   "source": [
    "PosixPath('/mnt/cube/tsainbur/Projects/github_repos/childes_mi_project/data/raw/EPIC_KITCHENS_Data_Dir/EP')\n"
   ]
  },
  {
   "cell_type": "code",
   "execution_count": null,
   "metadata": {},
   "outputs": [],
   "source": [
    "pd.read_csv(EPIC_KITCHENS_DIR / 'EPIC_train_action_labels.csv')"
   ]
  },
  {
   "cell_type": "code",
   "execution_count": 5,
   "metadata": {
    "ExecuteTime": {
     "end_time": "2019-08-27T21:16:33.763882Z",
     "start_time": "2019-08-27T21:16:33.669561Z"
    }
   },
   "outputs": [
    {
     "data": {
      "text/html": [
       "<div>\n",
       "<style scoped>\n",
       "    .dataframe tbody tr th:only-of-type {\n",
       "        vertical-align: middle;\n",
       "    }\n",
       "\n",
       "    .dataframe tbody tr th {\n",
       "        vertical-align: top;\n",
       "    }\n",
       "\n",
       "    .dataframe thead th {\n",
       "        text-align: right;\n",
       "    }\n",
       "</style>\n",
       "<table border=\"1\" class=\"dataframe\">\n",
       "  <thead>\n",
       "    <tr style=\"text-align: right;\">\n",
       "      <th></th>\n",
       "      <th>uid</th>\n",
       "      <th>participant_id</th>\n",
       "      <th>video_id</th>\n",
       "      <th>narration</th>\n",
       "      <th>start_timestamp</th>\n",
       "      <th>stop_timestamp</th>\n",
       "      <th>start_frame</th>\n",
       "      <th>stop_frame</th>\n",
       "      <th>verb</th>\n",
       "      <th>verb_class</th>\n",
       "      <th>noun</th>\n",
       "      <th>noun_class</th>\n",
       "      <th>all_nouns</th>\n",
       "      <th>all_noun_classes</th>\n",
       "    </tr>\n",
       "  </thead>\n",
       "  <tbody>\n",
       "    <tr>\n",
       "      <th>0</th>\n",
       "      <td>0</td>\n",
       "      <td>P01</td>\n",
       "      <td>P01_01</td>\n",
       "      <td>open door</td>\n",
       "      <td>00:00:00.14</td>\n",
       "      <td>00:00:03.37</td>\n",
       "      <td>8</td>\n",
       "      <td>202</td>\n",
       "      <td>open</td>\n",
       "      <td>2</td>\n",
       "      <td>door</td>\n",
       "      <td>8</td>\n",
       "      <td>['door']</td>\n",
       "      <td>[8]</td>\n",
       "    </tr>\n",
       "    <tr>\n",
       "      <th>1</th>\n",
       "      <td>1</td>\n",
       "      <td>P01</td>\n",
       "      <td>P01_01</td>\n",
       "      <td>turn on light</td>\n",
       "      <td>00:00:04.37</td>\n",
       "      <td>00:00:06.17</td>\n",
       "      <td>262</td>\n",
       "      <td>370</td>\n",
       "      <td>turn-on</td>\n",
       "      <td>12</td>\n",
       "      <td>light</td>\n",
       "      <td>113</td>\n",
       "      <td>['light']</td>\n",
       "      <td>[113]</td>\n",
       "    </tr>\n",
       "    <tr>\n",
       "      <th>2</th>\n",
       "      <td>2</td>\n",
       "      <td>P01</td>\n",
       "      <td>P01_01</td>\n",
       "      <td>close door</td>\n",
       "      <td>00:00:06.98</td>\n",
       "      <td>00:00:09.49</td>\n",
       "      <td>418</td>\n",
       "      <td>569</td>\n",
       "      <td>close</td>\n",
       "      <td>3</td>\n",
       "      <td>door</td>\n",
       "      <td>8</td>\n",
       "      <td>['door']</td>\n",
       "      <td>[8]</td>\n",
       "    </tr>\n",
       "  </tbody>\n",
       "</table>\n",
       "</div>"
      ],
      "text/plain": [
       "   uid participant_id video_id      narration start_timestamp stop_timestamp  \\\n",
       "0    0            P01   P01_01      open door     00:00:00.14    00:00:03.37   \n",
       "1    1            P01   P01_01  turn on light     00:00:04.37    00:00:06.17   \n",
       "2    2            P01   P01_01     close door     00:00:06.98    00:00:09.49   \n",
       "\n",
       "   start_frame  stop_frame     verb  verb_class   noun  noun_class  all_nouns  \\\n",
       "0            8         202     open           2   door           8   ['door']   \n",
       "1          262         370  turn-on          12  light         113  ['light']   \n",
       "2          418         569    close           3   door           8   ['door']   \n",
       "\n",
       "  all_noun_classes  \n",
       "0              [8]  \n",
       "1            [113]  \n",
       "2              [8]  "
      ]
     },
     "execution_count": 5,
     "metadata": {},
     "output_type": "execute_result"
    }
   ],
   "source": [
    "actions_data[:3]"
   ]
  },
  {
   "cell_type": "code",
   "execution_count": 93,
   "metadata": {
    "ExecuteTime": {
     "end_time": "2019-08-27T21:51:13.785051Z",
     "start_time": "2019-08-27T21:51:13.721842Z"
    }
   },
   "outputs": [
    {
     "data": {
      "text/plain": [
       "119"
      ]
     },
     "execution_count": 93,
     "metadata": {},
     "output_type": "execute_result"
    }
   ],
   "source": [
    "len(np.unique(actions_data.verb_class.values))"
   ]
  },
  {
   "cell_type": "code",
   "execution_count": 6,
   "metadata": {
    "ExecuteTime": {
     "end_time": "2019-08-27T21:16:33.856792Z",
     "start_time": "2019-08-27T21:16:33.767671Z"
    }
   },
   "outputs": [
    {
     "data": {
      "text/plain": [
       "array(['P01', 'P02', 'P03', 'P04', 'P05', 'P06', 'P07', 'P08', 'P10',\n",
       "       'P12', 'P13', 'P14', 'P15', 'P16', 'P17', 'P19', 'P20', 'P21',\n",
       "       'P22', 'P23', 'P24', 'P25', 'P26', 'P27', 'P28', 'P29', 'P30',\n",
       "       'P31'], dtype=object)"
      ]
     },
     "execution_count": 6,
     "metadata": {},
     "output_type": "execute_result"
    }
   ],
   "source": [
    "actions_data.participant_id.unique()"
   ]
  },
  {
   "cell_type": "code",
   "execution_count": 7,
   "metadata": {
    "ExecuteTime": {
     "end_time": "2019-08-27T21:16:34.004341Z",
     "start_time": "2019-08-27T21:16:33.860468Z"
    }
   },
   "outputs": [
    {
     "name": "stderr",
     "output_type": "stream",
     "text": [
      "/mnt/cube/tsainbur/conda_envs/tpy3/lib/python3.6/site-packages/tqdm/autonotebook/__init__.py:14: TqdmExperimentalWarning: Using `tqdm.autonotebook.tqdm` in notebook mode. Use `tqdm.tqdm` instead to force console mode (e.g. in jupyter console)\n",
      "  \" (e.g. in jupyter console)\", TqdmExperimentalWarning)\n"
     ]
    }
   ],
   "source": [
    "from tqdm.autonotebook import tqdm"
   ]
  },
  {
   "cell_type": "code",
   "execution_count": 8,
   "metadata": {
    "ExecuteTime": {
     "end_time": "2019-08-27T21:16:34.865254Z",
     "start_time": "2019-08-27T21:16:34.007694Z"
    }
   },
   "outputs": [
    {
     "data": {
      "application/vnd.jupyter.widget-view+json": {
       "model_id": "21aab0616da64197a6b352b492c3600c",
       "version_major": 2,
       "version_minor": 0
      },
      "text/plain": [
       "HBox(children=(IntProgress(value=0, max=272), HTML(value='')))"
      ]
     },
     "metadata": {},
     "output_type": "display_data"
    },
    {
     "name": "stdout",
     "output_type": "stream",
     "text": [
      "\n"
     ]
    }
   ],
   "source": [
    "actions = [actions_data[actions_data.video_id == vid].verb_class.values for vid in tqdm(actions_data.video_id.unique())]"
   ]
  },
  {
   "cell_type": "code",
   "execution_count": 83,
   "metadata": {
    "ExecuteTime": {
     "end_time": "2019-08-27T21:48:56.136388Z",
     "start_time": "2019-08-27T21:48:54.322679Z"
    }
   },
   "outputs": [
    {
     "data": {
      "application/vnd.jupyter.widget-view+json": {
       "model_id": "88ec9d83512742548797765c9c15b4a6",
       "version_major": 2,
       "version_minor": 0
      },
      "text/plain": [
       "HBox(children=(IntProgress(value=0, max=272), HTML(value='')))"
      ]
     },
     "metadata": {},
     "output_type": "display_data"
    },
    {
     "name": "stdout",
     "output_type": "stream",
     "text": [
      "\n"
     ]
    }
   ],
   "source": [
    "actions_name = [[actions_data[actions_data.video_id == vid].verb.values, actions_data[actions_data.video_id == vid].noun.values] for vid in tqdm(actions_data.video_id.unique())]"
   ]
  },
  {
   "cell_type": "code",
   "execution_count": 88,
   "metadata": {
    "ExecuteTime": {
     "end_time": "2019-08-27T21:50:04.966091Z",
     "start_time": "2019-08-27T21:50:04.900089Z"
    }
   },
   "outputs": [
    {
     "data": {
      "text/plain": [
       "['open door',\n",
       " 'turn-on light',\n",
       " 'close door',\n",
       " 'open fridge',\n",
       " 'take celery',\n",
       " 'take container',\n",
       " 'take tofu',\n",
       " 'close fridge',\n",
       " 'open fridge',\n",
       " 'take carrot',\n",
       " 'open drawer',\n",
       " 'close fridge',\n",
       " 'put-down vegetable',\n",
       " 'open cupboard',\n",
       " 'take board:cutting',\n",
       " 'put-down board:cutting',\n",
       " 'close cupboard',\n",
       " 'open drawer',\n",
       " 'take knife',\n",
       " 'take knife',\n",
       " 'put-down knife',\n",
       " 'close drawer',\n",
       " 'put-down knife',\n",
       " 'open tap',\n",
       " 'wash courgette',\n",
       " 'wash courgette',\n",
       " 'wash carrot',\n",
       " 'wash carrot',\n",
       " 'close tap',\n",
       " 'put-down vegetable',\n",
       " 'open cupboard',\n",
       " 'take grater',\n",
       " 'take pan',\n",
       " 'put-down pan',\n",
       " 'close cupboard',\n",
       " 'close cupboard',\n",
       " 'take courgette',\n",
       " 'cut courgette',\n",
       " 'turn-on hob',\n",
       " 'cut courgette',\n",
       " 'cut courgette',\n",
       " 'dice courgette',\n",
       " 'dice courgette',\n",
       " 'dice courgette',\n",
       " 'dice courgette',\n",
       " 'pour courgette',\n",
       " 'throw courgette',\n",
       " 'open drawer',\n",
       " 'close drawer',\n",
       " 'take spatula',\n",
       " 'stir courgette',\n",
       " 'take salt',\n",
       " 'open salt',\n",
       " 'pour salt',\n",
       " 'put-down salt',\n",
       " 'stir courgette',\n",
       " 'put-down spatula',\n",
       " 'take celery',\n",
       " 'wash celery',\n",
       " 'open tap',\n",
       " 'wash celery',\n",
       " 'close tap',\n",
       " 'put-down celery',\n",
       " 'cut celery',\n",
       " 'cut celery',\n",
       " 'pour celery',\n",
       " 'put-down board:cutting',\n",
       " 'take celery',\n",
       " 'throw celery',\n",
       " 'open fridge',\n",
       " 'put celery',\n",
       " 'close fridge',\n",
       " 'take spatula',\n",
       " 'stir spatula',\n",
       " 'put-down spatula',\n",
       " 'open container',\n",
       " 'take onion',\n",
       " 'take onion',\n",
       " 'put-down onion',\n",
       " 'close container',\n",
       " 'take spatula',\n",
       " 'take knife',\n",
       " 'cut onion',\n",
       " 'cut onion',\n",
       " 'cut onion',\n",
       " 'put-down knife',\n",
       " 'take kettle',\n",
       " 'open tap',\n",
       " 'pour water',\n",
       " 'pour water',\n",
       " 'close tap',\n",
       " 'turn kettle',\n",
       " 'take spatula',\n",
       " 'stir vegetable',\n",
       " 'stir vegetable',\n",
       " 'take glass',\n",
       " 'take glass',\n",
       " 'open cupboard',\n",
       " 'put glass',\n",
       " 'close cupboard',\n",
       " 'take cup',\n",
       " 'open cupboard',\n",
       " 'put cup',\n",
       " 'take container',\n",
       " 'put container',\n",
       " 'open container',\n",
       " 'put container',\n",
       " 'close lid',\n",
       " 'put container',\n",
       " 'take plate',\n",
       " 'put plate',\n",
       " 'open drawer',\n",
       " 'take drawer',\n",
       " 'put-down drawer',\n",
       " 'open drawer',\n",
       " 'take fork',\n",
       " 'put-down fork',\n",
       " 'take spatula',\n",
       " 'stir vegetable',\n",
       " 'take container',\n",
       " 'open fridge',\n",
       " 'put container',\n",
       " 'close fridge',\n",
       " 'take spatula',\n",
       " 'stir vegetable',\n",
       " 'take grater',\n",
       " 'take grater',\n",
       " 'take carrot',\n",
       " 'cut carrot',\n",
       " 'drop grater',\n",
       " 'grate carrot',\n",
       " 'grate carrot',\n",
       " 'grate carrot',\n",
       " 'grate carrot',\n",
       " 'put-down grater',\n",
       " 'throw carrot',\n",
       " 'take grater',\n",
       " 'put-down grater',\n",
       " 'throw carrot',\n",
       " 'take spatula',\n",
       " 'stir vegetable',\n",
       " 'open cupboard',\n",
       " 'take saucepan',\n",
       " 'put-down saucepan',\n",
       " 'turn hob',\n",
       " 'take kettle',\n",
       " 'pour water',\n",
       " 'see water:boiling',\n",
       " 'put-down kettle',\n",
       " 'take oil:olive',\n",
       " 'pour oil',\n",
       " 'close oil',\n",
       " 'put-down oil',\n",
       " 'take spatula',\n",
       " 'take board:cutting',\n",
       " 'pour onion',\n",
       " 'put-down board:cutting',\n",
       " 'stir vegetable',\n",
       " 'stir vegetable',\n",
       " 'take salt',\n",
       " 'open salt',\n",
       " 'put-down salt',\n",
       " 'open drawer',\n",
       " 'take spoon',\n",
       " 'pour salt',\n",
       " 'pour salt',\n",
       " 'stir water',\n",
       " 'close salt',\n",
       " 'put-down spoon',\n",
       " 'put-down salt',\n",
       " 'take spatula',\n",
       " 'stir vegetable',\n",
       " 'adjust hob',\n",
       " 'stir vegetable',\n",
       " 'stir vegetable',\n",
       " 'stir vegetable',\n",
       " 'put-down spatula',\n",
       " 'open cupboard',\n",
       " 'take cupboard',\n",
       " 'put-down cupboard',\n",
       " 'take rice',\n",
       " 'open rice',\n",
       " 'put-down rice',\n",
       " 'take spatula',\n",
       " 'stir vegetable',\n",
       " 'stir vegetable',\n",
       " 'put-down spatula',\n",
       " 'take tofu',\n",
       " 'take knife',\n",
       " 'cut tofu',\n",
       " 'open container:tofu',\n",
       " 'pour tofu',\n",
       " 'put-down container:tofu',\n",
       " 'stir vegetable',\n",
       " 'put-down spatula',\n",
       " 'take container:tofu',\n",
       " 'throw container:tofu',\n",
       " 'throw container:tofu',\n",
       " 'throw container:tupperware',\n",
       " 'take spatula',\n",
       " 'stir vegetable',\n",
       " 'take rice',\n",
       " 'pour rice',\n",
       " 'pour rice',\n",
       " 'fold bag:rice',\n",
       " 'close bag:rice',\n",
       " 'open cupboard',\n",
       " 'put rice',\n",
       " 'stir vegetable',\n",
       " 'take spatula',\n",
       " 'take bottle',\n",
       " 'open top',\n",
       " 'pour water',\n",
       " 'close top',\n",
       " 'put bottle',\n",
       " 'take cutlery',\n",
       " 'open cupboard',\n",
       " 'put cutlery',\n",
       " 'close drawer',\n",
       " 'take spatula',\n",
       " 'stir vegetable',\n",
       " 'adjust vegetable',\n",
       " 'stir vegetable',\n",
       " 'stir rice',\n",
       " 'put-down spatula',\n",
       " 'take spoon',\n",
       " 'take glass',\n",
       " 'put-down glass',\n",
       " 'put-down glass',\n",
       " 'open drawer',\n",
       " 'take spatula',\n",
       " 'stir vegetable',\n",
       " 'put-down spatula',\n",
       " 'take container',\n",
       " 'open container',\n",
       " 'take container',\n",
       " 'close container',\n",
       " 'put container',\n",
       " 'take spatula',\n",
       " 'stir rice',\n",
       " 'stir vegetable',\n",
       " 'stir vegetable',\n",
       " 'put-down spatula',\n",
       " 'stir vegetable',\n",
       " 'stir rice',\n",
       " 'put-down spatula',\n",
       " 'take spatula',\n",
       " 'put-down spatula',\n",
       " 'stir vegetable',\n",
       " 'take spoon',\n",
       " 'scoop rice',\n",
       " 'taste rice',\n",
       " 'put-down spoon',\n",
       " 'open cupboard',\n",
       " 'take drainer',\n",
       " 'take glass',\n",
       " 'pour water',\n",
       " 'drink water',\n",
       " 'put-down bottle',\n",
       " 'put-down glass',\n",
       " 'take spatula',\n",
       " 'stir vegetable',\n",
       " 'stir vegetable',\n",
       " 'put-down spatula',\n",
       " 'take spatula',\n",
       " 'stir rice',\n",
       " 'put-down spatula',\n",
       " 'take spoon',\n",
       " 'scoop rice',\n",
       " 'taste rice',\n",
       " 'put-down spoon',\n",
       " 'turn-off hob',\n",
       " 'take saucepan',\n",
       " 'drain saucepan',\n",
       " 'drain rice',\n",
       " 'pour rice',\n",
       " 'put-on drainer',\n",
       " 'scoop rice',\n",
       " 'put-down saucepan',\n",
       " 'put-down drainer',\n",
       " 'put-down spatula',\n",
       " 'take spatula',\n",
       " 'stir vegetable',\n",
       " 'put-down spatula',\n",
       " 'pour powder:curry',\n",
       " 'take powder:curry',\n",
       " 'open powder:curry',\n",
       " 'put-down powder:curry',\n",
       " 'take spatula',\n",
       " 'stir rice',\n",
       " 'stir rice',\n",
       " 'stir rice',\n",
       " 'stir rice',\n",
       " 'turn-off hob',\n",
       " 'stir rice',\n",
       " 'stir rice',\n",
       " 'stir rice',\n",
       " 'put-down spatula',\n",
       " 'close powder:curry',\n",
       " 'put powder:curry',\n",
       " 'take container',\n",
       " 'take spatula',\n",
       " 'pour rice',\n",
       " 'pour rice',\n",
       " 'scoop rice',\n",
       " 'pour rice',\n",
       " 'scoop rice',\n",
       " 'put-down container',\n",
       " 'put-down spatula',\n",
       " 'take plate',\n",
       " 'put-down plate',\n",
       " 'take spatula',\n",
       " 'pour rice',\n",
       " 'scoop rice',\n",
       " 'scoop rice',\n",
       " 'pour rice',\n",
       " 'scoop rice',\n",
       " 'put-down spatula',\n",
       " 'put-down pan',\n",
       " 'open tap',\n",
       " 'wash pan',\n",
       " 'wash saucepan',\n",
       " 'wash drainer',\n",
       " 'close tap',\n",
       " 'take plate',\n",
       " 'put-down plate']"
      ]
     },
     "execution_count": 88,
     "metadata": {},
     "output_type": "execute_result"
    }
   ],
   "source": [
    "[(verb +' '+ noun) for verb, noun in zip(actions_name[0][0], actions_name[0][1])]"
   ]
  },
  {
   "cell_type": "code",
   "execution_count": 81,
   "metadata": {
    "ExecuteTime": {
     "end_time": "2019-08-27T21:48:20.057637Z",
     "start_time": "2019-08-27T21:48:19.557701Z"
    }
   },
   "outputs": [
    {
     "data": {
      "text/plain": [
       "326"
      ]
     },
     "execution_count": 81,
     "metadata": {},
     "output_type": "execute_result"
    }
   ],
   "source": [
    "len(actions_name[0])"
   ]
  },
  {
   "cell_type": "code",
   "execution_count": 82,
   "metadata": {
    "ExecuteTime": {
     "end_time": "2019-08-27T21:48:23.220564Z",
     "start_time": "2019-08-27T21:48:23.165159Z"
    }
   },
   "outputs": [
    {
     "data": {
      "text/plain": [
       "326"
      ]
     },
     "execution_count": 82,
     "metadata": {},
     "output_type": "execute_result"
    }
   ],
   "source": [
    "len(actions[0])"
   ]
  },
  {
   "cell_type": "code",
   "execution_count": 79,
   "metadata": {
    "ExecuteTime": {
     "end_time": "2019-08-27T21:48:07.734304Z",
     "start_time": "2019-08-27T21:48:07.669469Z"
    }
   },
   "outputs": [
    {
     "data": {
      "text/plain": [
       "array([ 2, 12,  3,  2,  0,  0,  0,  3,  2,  0,  2,  3,  1,  2,  0,  1,  3,\n",
       "        2,  0,  0,  1,  3,  1,  2,  4,  4,  4,  4,  3,  1,  2,  0,  0,  1,\n",
       "        3,  3,  0,  5, 12,  5,  5,  5,  5,  5,  5,  7,  8,  2,  3,  0,  6,\n",
       "        0,  2,  7,  1,  6,  1,  0,  4,  2,  4,  3,  1,  5,  5,  7,  1,  0,\n",
       "        8,  2,  1,  3,  0,  6,  1,  2,  0,  0,  1,  3,  0,  0,  5,  5,  5,\n",
       "        1,  0,  2,  7,  7,  3, 13,  0,  6,  6,  0,  0,  2,  1,  3,  0,  2,\n",
       "        1,  0,  1,  2,  1,  3,  1,  0,  1,  2,  0,  1,  2,  0,  1,  0,  6,\n",
       "        0,  2,  1,  3,  0,  6,  0,  0,  0,  5, 61, 37, 37, 37, 37,  1,  8,\n",
       "        0,  1,  8,  0,  6,  2,  0,  1, 13,  0,  7, 50,  1,  0,  7,  3,  1,\n",
       "        0,  0,  7,  1,  6,  6,  0,  2,  1,  2,  0,  7,  7,  6,  3,  1,  1,\n",
       "        0,  6, 17,  6,  6,  6,  1,  2,  0,  1,  0,  2,  1,  0,  6,  6,  1,\n",
       "        0,  0,  5,  2,  7,  1,  6,  1,  0,  8,  8,  8,  0,  6,  0,  7,  7,\n",
       "       46,  3,  2,  1,  6,  0,  0,  2,  7,  3,  1,  0,  2,  1,  3,  0,  6,\n",
       "       17,  6,  6,  1,  0,  0,  1,  1,  2,  0,  6,  1,  0,  2,  0,  3,  1,\n",
       "        0,  6,  6,  6,  1,  6,  6,  1,  0,  1,  6,  0, 19, 39,  1,  2,  0,\n",
       "        0,  7, 58,  1,  1,  0,  6,  6,  1,  0,  6,  1,  0, 19, 39,  1, 15,\n",
       "        0, 48, 48,  7,  1, 19,  1,  1,  1,  0,  6,  1,  7,  0,  2,  1,  0,\n",
       "        6,  6,  6,  6, 15,  6,  6,  6,  1,  3,  1,  0,  0,  7,  7, 19,  7,\n",
       "       19,  1,  1,  0,  1,  0,  7, 19, 19,  7, 19,  1,  1,  2,  4,  4,  4,\n",
       "        3,  0,  1])"
      ]
     },
     "execution_count": 79,
     "metadata": {},
     "output_type": "execute_result"
    }
   ],
   "source": [
    "actions[0]"
   ]
  },
  {
   "cell_type": "code",
   "execution_count": 9,
   "metadata": {
    "ExecuteTime": {
     "end_time": "2019-08-27T21:16:34.904969Z",
     "start_time": "2019-08-27T21:16:34.868261Z"
    }
   },
   "outputs": [],
   "source": [
    "behav_lens = [len(i) for i in actions]"
   ]
  },
  {
   "cell_type": "code",
   "execution_count": 10,
   "metadata": {
    "ExecuteTime": {
     "end_time": "2019-08-27T21:16:35.515726Z",
     "start_time": "2019-08-27T21:16:34.906904Z"
    }
   },
   "outputs": [],
   "source": [
    "import matplotlib.pyplot as plt"
   ]
  },
  {
   "cell_type": "code",
   "execution_count": 11,
   "metadata": {
    "ExecuteTime": {
     "end_time": "2019-08-27T21:16:35.546381Z",
     "start_time": "2019-08-27T21:16:35.518197Z"
    }
   },
   "outputs": [],
   "source": [
    "import numpy as np"
   ]
  },
  {
   "cell_type": "code",
   "execution_count": 12,
   "metadata": {
    "ExecuteTime": {
     "end_time": "2019-08-27T21:16:35.644969Z",
     "start_time": "2019-08-27T21:16:35.550101Z"
    }
   },
   "outputs": [
    {
     "data": {
      "text/plain": [
       "28472"
      ]
     },
     "execution_count": 12,
     "metadata": {},
     "output_type": "execute_result"
    }
   ],
   "source": [
    "np.sum(behav_lens)"
   ]
  },
  {
   "cell_type": "code",
   "execution_count": 13,
   "metadata": {
    "ExecuteTime": {
     "end_time": "2019-08-27T21:16:35.753303Z",
     "start_time": "2019-08-27T21:16:35.648160Z"
    }
   },
   "outputs": [
    {
     "data": {
      "text/plain": [
       "119"
      ]
     },
     "execution_count": 13,
     "metadata": {},
     "output_type": "execute_result"
    }
   ],
   "source": [
    "len(np.unique(np.concatenate(actions)))"
   ]
  },
  {
   "cell_type": "code",
   "execution_count": 14,
   "metadata": {
    "ExecuteTime": {
     "end_time": "2019-08-27T21:16:35.844664Z",
     "start_time": "2019-08-27T21:16:35.760459Z"
    }
   },
   "outputs": [
    {
     "data": {
      "text/plain": [
       "45.0"
      ]
     },
     "execution_count": 14,
     "metadata": {},
     "output_type": "execute_result"
    }
   ],
   "source": [
    "np.median(behav_lens)"
   ]
  },
  {
   "cell_type": "code",
   "execution_count": 15,
   "metadata": {
    "ExecuteTime": {
     "end_time": "2019-08-27T21:16:36.407456Z",
     "start_time": "2019-08-27T21:16:35.849359Z"
    }
   },
   "outputs": [
    {
     "data": {
      "text/plain": [
       "<matplotlib.lines.Line2D at 0x7f8126c2e780>"
      ]
     },
     "execution_count": 15,
     "metadata": {},
     "output_type": "execute_result"
    },
    {
     "data": {
      "image/png": "[encoded data removed]",
      "text/plain": [
       "<Figure size 432x288 with 1 Axes>"
      ]
     },
     "metadata": {
      "needs_background": "light"
     },
     "output_type": "display_data"
    }
   ],
   "source": [
    "fig, ax = plt.subplots()\n",
    "ax.hist(behav_lens, bins = 50);\n",
    "ax.axvline(np.median(behav_lens), color='red')"
   ]
  },
  {
   "cell_type": "markdown",
   "metadata": {
    "ExecuteTime": {
     "end_time": "2019-08-19T06:13:04.613410Z",
     "start_time": "2019-08-19T06:13:04.608556Z"
    }
   },
   "source": [
    "### MI"
   ]
  },
  {
   "cell_type": "code",
   "execution_count": 16,
   "metadata": {
    "ExecuteTime": {
     "end_time": "2019-08-27T21:16:37.583506Z",
     "start_time": "2019-08-27T21:16:36.409523Z"
    }
   },
   "outputs": [],
   "source": [
    "from childes_mi.information_theory import mutual_information as mi"
   ]
  },
  {
   "cell_type": "code",
   "execution_count": 62,
   "metadata": {
    "ExecuteTime": {
     "end_time": "2019-08-27T21:45:48.275514Z",
     "start_time": "2019-08-27T21:45:48.214760Z"
    }
   },
   "outputs": [],
   "source": [
    "distances = np.arange(1,np.median(behav_lens)+1).astype('int')"
   ]
  },
  {
   "cell_type": "code",
   "execution_count": 63,
   "metadata": {
    "ExecuteTime": {
     "end_time": "2019-08-27T21:45:48.520843Z",
     "start_time": "2019-08-27T21:45:48.381174Z"
    }
   },
   "outputs": [
    {
     "data": {
      "application/vnd.jupyter.widget-view+json": {
       "model_id": "5452ae5e40044659ae693d994aad4802",
       "version_major": 2,
       "version_minor": 0
      },
      "text/plain": [
       "HBox(children=(IntProgress(value=0, max=272), HTML(value='')))"
      ]
     },
     "metadata": {},
     "output_type": "display_data"
    },
    {
     "name": "stdout",
     "output_type": "stream",
     "text": [
      "\n"
     ]
    }
   ],
   "source": [
    "actions_indv = [[\"{}_{}\".format(bi, element) for element in bout] for bi, bout in enumerate(tqdm(actions))]"
   ]
  },
  {
   "cell_type": "code",
   "execution_count": 64,
   "metadata": {
    "ExecuteTime": {
     "end_time": "2019-08-27T21:45:48.572682Z",
     "start_time": "2019-08-27T21:45:48.538514Z"
    }
   },
   "outputs": [
    {
     "data": {
      "text/plain": [
       "['0_2', '0_12', '0_3', '0_2', '0_0', '0_0', '0_0', '0_3', '0_2', '0_0']"
      ]
     },
     "execution_count": 64,
     "metadata": {},
     "output_type": "execute_result"
    }
   ],
   "source": [
    "actions_indv[0][:10]"
   ]
  },
  {
   "cell_type": "code",
   "execution_count": 65,
   "metadata": {
    "ExecuteTime": {
     "end_time": "2019-08-27T21:45:54.832604Z",
     "start_time": "2019-08-27T21:45:48.661752Z"
    }
   },
   "outputs": [
    {
     "data": {
      "application/vnd.jupyter.widget-view+json": {
       "model_id": "",
       "version_major": 2,
       "version_minor": 0
      },
      "text/plain": [
       "HBox(children=(IntProgress(value=0, max=45), HTML(value='')))"
      ]
     },
     "metadata": {},
     "output_type": "display_data"
    },
    {
     "name": "stderr",
     "output_type": "stream",
     "text": [
      "[Parallel(n_jobs=-1)]: Using backend ThreadingBackend with 24 concurrent workers.\n"
     ]
    },
    {
     "name": "stdout",
     "output_type": "stream",
     "text": [
      "\r"
     ]
    },
    {
     "name": "stderr",
     "output_type": "stream",
     "text": [
      "[Parallel(n_jobs=-1)]: Done   8 out of  45 | elapsed:    1.0s remaining:    4.5s\n",
      "[Parallel(n_jobs=-1)]: Done  18 out of  45 | elapsed:    1.5s remaining:    2.2s\n",
      "[Parallel(n_jobs=-1)]: Done  28 out of  45 | elapsed:    2.2s remaining:    1.3s\n",
      "[Parallel(n_jobs=-1)]: Done  38 out of  45 | elapsed:    2.8s remaining:    0.5s\n",
      "[Parallel(n_jobs=-1)]: Done  45 out of  45 | elapsed:    2.9s finished\n"
     ]
    },
    {
     "data": {
      "application/vnd.jupyter.widget-view+json": {
       "model_id": "",
       "version_major": 2,
       "version_minor": 0
      },
      "text/plain": [
       "HBox(children=(IntProgress(value=0, max=45), HTML(value='')))"
      ]
     },
     "metadata": {},
     "output_type": "display_data"
    },
    {
     "name": "stderr",
     "output_type": "stream",
     "text": [
      "[Parallel(n_jobs=-1)]: Using backend ThreadingBackend with 24 concurrent workers.\n"
     ]
    },
    {
     "name": "stdout",
     "output_type": "stream",
     "text": [
      "\r"
     ]
    },
    {
     "name": "stderr",
     "output_type": "stream",
     "text": [
      "[Parallel(n_jobs=-1)]: Done  18 out of  45 | elapsed:    2.8s remaining:    4.1s\n",
      "[Parallel(n_jobs=-1)]: Done  28 out of  45 | elapsed:    2.8s remaining:    1.7s\n",
      "[Parallel(n_jobs=-1)]: Done  38 out of  45 | elapsed:    2.8s remaining:    0.5s\n",
      "[Parallel(n_jobs=-1)]: Done  45 out of  45 | elapsed:    2.9s finished\n"
     ]
    }
   ],
   "source": [
    "(MI, MI_var), (shuff_MI, shuff_MI_var) = mi.sequential_mutual_information(\n",
    "    np.array(actions_indv), distances=distances, n_jobs=-1, estimate=True\n",
    ")"
   ]
  },
  {
   "cell_type": "code",
   "execution_count": 66,
   "metadata": {
    "ExecuteTime": {
     "end_time": "2019-08-27T21:45:54.899589Z",
     "start_time": "2019-08-27T21:45:54.837231Z"
    }
   },
   "outputs": [],
   "source": [
    "MI_DF = pd.DataFrame(\n",
    "    [[MI, MI_var, shuff_MI, shuff_MI_var, distances]],\n",
    "    columns=[\"MI\", \"MI_var\", \"shuff_MI\", \"shuff_MI_var\", \"distances\"],\n",
    ")"
   ]
  },
  {
   "cell_type": "code",
   "execution_count": 67,
   "metadata": {
    "ExecuteTime": {
     "end_time": "2019-08-27T21:45:55.869212Z",
     "start_time": "2019-08-27T21:45:54.903173Z"
    }
   },
   "outputs": [],
   "source": [
    "MI_DF.to_pickle(DATA_DIR / \"mi\" / \"epic_kitchens.pickle\")"
   ]
  },
  {
   "cell_type": "code",
   "execution_count": 68,
   "metadata": {
    "ExecuteTime": {
     "end_time": "2019-08-27T21:45:55.984598Z",
     "start_time": "2019-08-27T21:45:55.875165Z"
    }
   },
   "outputs": [],
   "source": [
    "row = MI_DF.iloc[0]"
   ]
  },
  {
   "cell_type": "code",
   "execution_count": 69,
   "metadata": {
    "ExecuteTime": {
     "end_time": "2019-08-27T21:45:56.750932Z",
     "start_time": "2019-08-27T21:45:55.990186Z"
    }
   },
   "outputs": [
    {
     "data": {
      "image/png": "[encoded data removed]",
      "text/plain": [
       "<Figure size 720x360 with 1 Axes>"
      ]
     },
     "metadata": {
      "needs_background": "light"
     },
     "output_type": "display_data"
    }
   ],
   "source": [
    "fig, ax = plt.subplots(figsize=(10,5))\n",
    "MI = row.MI-row.shuff_MI\n",
    "MI_var = row.MI_var\n",
    "ax.axvline(np.median(behav_lens), color='red')\n",
    "ax.scatter(distances, MI)\n",
    "ax.fill_between(distances, MI-MI_var, MI+MI_var, alpha = 0.25, color= 'k')\n",
    "#ax.set_ylim([1e-3, 1])\n",
    "ax.set_yscale('log')\n",
    "ax.set_xscale('log')"
   ]
  },
  {
   "cell_type": "code",
   "execution_count": 70,
   "metadata": {
    "ExecuteTime": {
     "end_time": "2019-08-27T21:45:57.251934Z",
     "start_time": "2019-08-27T21:45:56.753148Z"
    }
   },
   "outputs": [
    {
     "data": {
      "text/plain": [
       "[<matplotlib.lines.Line2D at 0x7f811f73fa90>]"
      ]
     },
     "execution_count": 70,
     "metadata": {},
     "output_type": "execute_result"
    },
    {
     "data": {
      "image/png": "[encoded data removed]",
      "text/plain": [
       "<Figure size 432x288 with 1 Axes>"
      ]
     },
     "metadata": {
      "needs_background": "light"
     },
     "output_type": "display_data"
    }
   ],
   "source": [
    "plt.loglog(row.MI[:50])\n",
    "plt.loglog(row.shuff_MI[:50])"
   ]
  },
  {
   "cell_type": "code",
   "execution_count": 71,
   "metadata": {
    "ExecuteTime": {
     "end_time": "2019-08-27T21:45:57.681194Z",
     "start_time": "2019-08-27T21:45:57.253963Z"
    }
   },
   "outputs": [
    {
     "data": {
      "text/plain": [
       "[<matplotlib.lines.Line2D at 0x7f815416cef0>]"
      ]
     },
     "execution_count": 71,
     "metadata": {},
     "output_type": "execute_result"
    },
    {
     "data": {
      "image/png": "[encoded data removed]",
      "text/plain": [
       "<Figure size 432x288 with 1 Axes>"
      ]
     },
     "metadata": {
      "needs_background": "light"
     },
     "output_type": "display_data"
    }
   ],
   "source": [
    "plt.loglog(row.MI)\n",
    "plt.loglog(row.shuff_MI)"
   ]
  },
  {
   "cell_type": "markdown",
   "metadata": {
    "ExecuteTime": {
     "end_time": "2019-08-19T06:14:52.222634Z",
     "start_time": "2019-08-19T06:14:52.217649Z"
    }
   },
   "source": [
    "### longest sequence"
   ]
  },
  {
   "cell_type": "code",
   "execution_count": 72,
   "metadata": {
    "ExecuteTime": {
     "end_time": "2019-08-27T21:45:58.242127Z",
     "start_time": "2019-08-27T21:45:57.682812Z"
    }
   },
   "outputs": [
    {
     "data": {
      "application/vnd.jupyter.widget-view+json": {
       "model_id": "",
       "version_major": 2,
       "version_minor": 0
      },
      "text/plain": [
       "HBox(children=(IntProgress(value=0, max=45), HTML(value='')))"
      ]
     },
     "metadata": {},
     "output_type": "display_data"
    },
    {
     "name": "stderr",
     "output_type": "stream",
     "text": [
      "[Parallel(n_jobs=-1)]: Using backend ThreadingBackend with 24 concurrent workers.\n",
      "[Parallel(n_jobs=-1)]: Done   8 out of  45 | elapsed:    0.1s remaining:    0.4s\n",
      "[Parallel(n_jobs=-1)]: Done  18 out of  45 | elapsed:    0.1s remaining:    0.2s\n",
      "[Parallel(n_jobs=-1)]: Done  28 out of  45 | elapsed:    0.1s remaining:    0.1s\n",
      "[Parallel(n_jobs=-1)]: Done  38 out of  45 | elapsed:    0.2s remaining:    0.0s\n",
      "[Parallel(n_jobs=-1)]: Done  45 out of  45 | elapsed:    0.2s finished\n"
     ]
    },
    {
     "name": "stdout",
     "output_type": "stream",
     "text": [
      "\r"
     ]
    },
    {
     "data": {
      "application/vnd.jupyter.widget-view+json": {
       "model_id": "",
       "version_major": 2,
       "version_minor": 0
      },
      "text/plain": [
       "HBox(children=(IntProgress(value=0, max=45), HTML(value='')))"
      ]
     },
     "metadata": {},
     "output_type": "display_data"
    },
    {
     "name": "stderr",
     "output_type": "stream",
     "text": [
      "[Parallel(n_jobs=-1)]: Using backend ThreadingBackend with 24 concurrent workers.\n",
      "[Parallel(n_jobs=-1)]: Done   8 out of  45 | elapsed:    0.1s remaining:    0.4s\n",
      "[Parallel(n_jobs=-1)]: Done  18 out of  45 | elapsed:    0.1s remaining:    0.2s\n",
      "[Parallel(n_jobs=-1)]: Done  28 out of  45 | elapsed:    0.2s remaining:    0.1s\n"
     ]
    },
    {
     "name": "stdout",
     "output_type": "stream",
     "text": [
      "\r"
     ]
    },
    {
     "name": "stderr",
     "output_type": "stream",
     "text": [
      "[Parallel(n_jobs=-1)]: Done  38 out of  45 | elapsed:    0.2s remaining:    0.0s\n",
      "[Parallel(n_jobs=-1)]: Done  45 out of  45 | elapsed:    0.2s finished\n"
     ]
    }
   ],
   "source": [
    "(MI, MI_var), (shuff_MI, shuff_MI_var) = mi.sequential_mutual_information(\n",
    "    [actions[np.argmax(behav_lens)]], distances=distances, n_jobs=-1, estimate=True\n",
    ")\n"
   ]
  },
  {
   "cell_type": "code",
   "execution_count": 73,
   "metadata": {
    "ExecuteTime": {
     "end_time": "2019-08-27T21:45:58.279052Z",
     "start_time": "2019-08-27T21:45:58.244078Z"
    }
   },
   "outputs": [],
   "source": [
    "MI_DF = pd.DataFrame(\n",
    "    [[MI, MI_var, shuff_MI, shuff_MI_var, distances]],\n",
    "    columns=[\"MI\", \"MI_var\", \"shuff_MI\", \"shuff_MI_var\", \"distances\"],\n",
    ")"
   ]
  },
  {
   "cell_type": "code",
   "execution_count": 74,
   "metadata": {
    "ExecuteTime": {
     "end_time": "2019-08-27T21:45:58.367010Z",
     "start_time": "2019-08-27T21:45:58.281289Z"
    }
   },
   "outputs": [],
   "source": [
    "row = MI_DF.iloc[0]"
   ]
  },
  {
   "cell_type": "code",
   "execution_count": 75,
   "metadata": {
    "ExecuteTime": {
     "end_time": "2019-08-27T21:45:59.241907Z",
     "start_time": "2019-08-27T21:45:58.371175Z"
    }
   },
   "outputs": [
    {
     "data": {
      "image/png": "[encoded data removed]",
      "text/plain": [
       "<Figure size 720x360 with 1 Axes>"
      ]
     },
     "metadata": {
      "needs_background": "light"
     },
     "output_type": "display_data"
    }
   ],
   "source": [
    "fig, ax = plt.subplots(figsize=(10,5))\n",
    "MI = row.MI-row.shuff_MI\n",
    "MI_var = row.MI_var\n",
    "\n",
    "ax.scatter(distances, MI)\n",
    "ax.fill_between(distances, MI-MI_var, MI+MI_var, alpha = 0.25, color= 'k')\n",
    "#ax.set_ylim([1e-3, 1])\n",
    "ax.set_yscale('log')\n",
    "ax.set_xscale('log')"
   ]
  },
  {
   "cell_type": "code",
   "execution_count": 76,
   "metadata": {
    "ExecuteTime": {
     "end_time": "2019-08-27T21:45:59.814502Z",
     "start_time": "2019-08-27T21:45:59.245815Z"
    }
   },
   "outputs": [
    {
     "data": {
      "text/plain": [
       "[<matplotlib.lines.Line2D at 0x7f8128573080>]"
      ]
     },
     "execution_count": 76,
     "metadata": {},
     "output_type": "execute_result"
    },
    {
     "data": {
      "image/png": "[encoded data removed]",
      "text/plain": [
       "<Figure size 432x288 with 1 Axes>"
      ]
     },
     "metadata": {
      "needs_background": "light"
     },
     "output_type": "display_data"
    }
   ],
   "source": [
    "plt.loglog(row.MI)\n",
    "plt.loglog(row.shuff_MI)"
   ]
  },
  {
   "cell_type": "code",
   "execution_count": null,
   "metadata": {},
   "outputs": [],
   "source": []
  },
  {
   "cell_type": "code",
   "execution_count": null,
   "metadata": {},
   "outputs": [],
   "source": []
  }
 ],
 "metadata": {
  "kernelspec": {
   "display_name": "Python 3",
   "language": "python",
   "name": "python3"
  },
  "language_info": {
   "codemirror_mode": {
    "name": "ipython",
    "version": 3
   },
   "file_extension": ".py",
   "mimetype": "text/x-python",
   "name": "python",
   "nbconvert_exporter": "python",
   "pygments_lexer": "ipython3",
   "version": "3.6.7"
  }
 },
 "nbformat": 4,
 "nbformat_minor": 2
}
